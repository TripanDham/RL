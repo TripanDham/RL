{
  "cells": [
    {
      "cell_type": "code",
      "execution_count": 4,
      "metadata": {
        "id": "SpXfJ6XXLtTe"
      },
      "outputs": [],
      "source": [
        "from math import floor\n",
        "import numpy as np\n",
        "import matplotlib.pyplot as plt\n",
        "from tqdm import tqdm\n",
        "from IPython.display import clear_output\n",
        "from matplotlib import colors\n",
        "from time import sleep\n",
        "from scipy.special import softmax\n",
        "from mpl_toolkits.mplot3d import Axes3D\n",
        "\n",
        "rg = np.random.RandomState(42)\n"
      ]
    },
    {
      "cell_type": "code",
      "execution_count": 5,
      "metadata": {},
      "outputs": [],
      "source": [
        "\n",
        "def row_col_to_seq(row_col, num_cols):  #Converts row_column to state number format\n",
        "    return row_col[:,0] * num_cols + row_col[:,1]\n",
        "\n",
        "def seq_to_col_row(seq, num_cols): #Converts state to row column format\n",
        "    r = floor(seq / num_cols)\n",
        "    c = seq - r * num_cols\n",
        "    return np.array([[r, c]])\n",
        "\n",
        "class GridWorld:\n",
        "    \"\"\"\n",
        "    Creates a gridworld object to pass to an RL algorithm.\n",
        "    Parameters\n",
        "    ----------\n",
        "    num_rows : int\n",
        "        The number of rows in the gridworld.\n",
        "    num_cols : int\n",
        "        The number of cols in the gridworld.\n",
        "    start_state : numpy array of shape (1, 2), np.array([[row, col]])\n",
        "        The start state of the gridworld (can only be one start state)\n",
        "    goal_states : numpy arrany of shape (n, 2)\n",
        "        The goal states for the gridworld where n is the number of goal\n",
        "        states.\n",
        "    \"\"\"\n",
        "    def __init__(self, num_rows, num_cols, start_state, goal_states, wind = False):\n",
        "        self.num_rows = num_rows\n",
        "        self.num_cols = num_cols\n",
        "        self.start_state = start_state\n",
        "        self.goal_states = goal_states\n",
        "        self.obs_states = None\n",
        "        self.bad_states = None\n",
        "        self.num_bad_states = 0\n",
        "        self.p_good_trans = None\n",
        "        self.bias = None\n",
        "        self.r_step = None\n",
        "        self.r_goal = None\n",
        "        self.r_dead = None\n",
        "        self.gamma = 1 # default is no discounting\n",
        "        self.wind = wind\n",
        "        self.done=False\n",
        "        self.steps=0\n",
        "        self.max_steps=100\n",
        "\n",
        "    def add_obstructions(self, obstructed_states=None, bad_states=None, restart_states=None):\n",
        "\n",
        "        self.obs_states = obstructed_states\n",
        "        self.bad_states = bad_states\n",
        "        if bad_states is not None:\n",
        "            self.num_bad_states = bad_states.shape[0]\n",
        "        else:\n",
        "            self.num_bad_states = 0\n",
        "        self.restart_states = restart_states\n",
        "        if restart_states is not None:\n",
        "            self.num_restart_states = restart_states.shape[0]\n",
        "        else:\n",
        "            self.num_restart_states = 0\n",
        "\n",
        "    def add_transition_probability(self, p_good_transition, bias):\n",
        "\n",
        "        self.p_good_trans = p_good_transition\n",
        "        self.bias = bias\n",
        "\n",
        "    def add_rewards(self, step_reward, goal_reward, bad_state_reward=None, restart_state_reward = None):\n",
        "\n",
        "        self.r_step = step_reward\n",
        "        self.r_goal = goal_reward\n",
        "        self.r_bad = bad_state_reward\n",
        "        self.r_restart = restart_state_reward\n",
        "\n",
        "\n",
        "    def create_gridworld(self):\n",
        "\n",
        "        self.num_actions = 4\n",
        "        self.num_states = self.num_cols * self.num_rows# +1\n",
        "        self.start_state_seq = row_col_to_seq(self.start_state, self.num_cols)\n",
        "        self.goal_states_seq = row_col_to_seq(self.goal_states, self.num_cols)\n",
        "\n",
        "        # rewards structure\n",
        "        self.R = self.r_step * np.ones((self.num_states, 1))\n",
        "        #self.R[self.num_states-1] = 0\n",
        "        self.R[self.goal_states_seq] = self.r_goal\n",
        "\n",
        "        for i in range(self.num_bad_states):\n",
        "            if self.r_bad is None:\n",
        "                raise Exception(\"Bad state specified but no reward is given\")\n",
        "            bad_state = row_col_to_seq(self.bad_states[i,:].reshape(1,-1), self.num_cols)\n",
        "            #print(\"bad states\", bad_state)\n",
        "            self.R[bad_state, :] = self.r_bad\n",
        "        for i in range(self.num_restart_states):\n",
        "            if self.r_restart is None:\n",
        "                raise Exception(\"Restart state specified but no reward is given\")\n",
        "            restart_state = row_col_to_seq(self.restart_states[i,:].reshape(1,-1), self.num_cols)\n",
        "            #print(\"restart_state\", restart_state)\n",
        "            self.R[restart_state, :] = self.r_restart\n",
        "\n",
        "        # probability model\n",
        "        if self.p_good_trans == None:\n",
        "            raise Exception(\"Must assign probability and bias terms via the add_transition_probability method.\")\n",
        "\n",
        "        self.P = np.zeros((self.num_states,self.num_states,self.num_actions))\n",
        "        for action in range(self.num_actions):\n",
        "            for state in range(self.num_states):\n",
        "\n",
        "\n",
        "                # check if the state is the goal state or an obstructed state - transition to end\n",
        "                row_col = seq_to_col_row(state, self.num_cols)\n",
        "                if self.obs_states is not None:\n",
        "                    end_states = np.vstack((self.obs_states, self.goal_states))\n",
        "                else:\n",
        "                    end_states = self.goal_states\n",
        "\n",
        "                if any(np.sum(np.abs(end_states-row_col), 1) == 0):\n",
        "                    self.P[state, state, action] = 1\n",
        "\n",
        "                # else consider stochastic effects of action\n",
        "                else:\n",
        "                    for dir in range(-1,2,1):\n",
        "\n",
        "                        direction = self._get_direction(action, dir)\n",
        "                        next_state = self._get_state(state, direction)\n",
        "                        if dir == 0:\n",
        "                            prob = self.p_good_trans\n",
        "                        elif dir == -1:\n",
        "                            prob = (1 - self.p_good_trans)*(self.bias)\n",
        "                        elif dir == 1:\n",
        "                            prob = (1 - self.p_good_trans)*(1-self.bias)\n",
        "\n",
        "                        self.P[state, next_state, action] += prob\n",
        "\n",
        "                # make restart states transition back to the start state with\n",
        "                # probability 1\n",
        "                if self.restart_states is not None:\n",
        "                    if any(np.sum(np.abs(self.restart_states-row_col),1)==0):\n",
        "                        next_state = row_col_to_seq(self.start_state, self.num_cols)\n",
        "                        self.P[state,:,:] = 0\n",
        "                        self.P[state,next_state,:] = 1\n",
        "        return self\n",
        "\n",
        "    def render(self,state, render_agent=False, ax=None):\n",
        "        grid = np.zeros((self.num_rows, self.num_cols), dtype=int)\n",
        "\n",
        "        for goal in self.goal_states:\n",
        "            grid[goal[0], goal[1]] = 4\n",
        "\n",
        "        if self.bad_states is not None:\n",
        "            for bad_state in self.bad_states:\n",
        "                grid[bad_state[0], bad_state[1]] = 3\n",
        "\n",
        "        if self.obs_states is not None:\n",
        "            for obs_state in self.obs_states:\n",
        "                grid[obs_state[0], obs_state[1]] = 2\n",
        "\n",
        "        if self.restart_states is not None:\n",
        "            for restart_state in self.restart_states:\n",
        "\n",
        "                grid[restart_state[0], restart_state[1]]=6\n",
        "\n",
        "        if render_agent:\n",
        "            grid[state[0][0],state[0][1]] = 5\n",
        "\n",
        "        plt.clf()\n",
        "\n",
        "        if not render_agent:\n",
        "            cmap = plt.cm.colors.ListedColormap(['#F5E5E1', '#F2A494', '#FF2D00', '#0004FF', '#00FF23'])\n",
        "        else:\n",
        "            cmap = plt.cm.colors.ListedColormap(['#F5E5E1', '#F2A494', '#FF2D00', '#0004FF', '#00FF23', '#F0FF00','#808080'])\n",
        "\n",
        "        if ax is None:\n",
        "            fig, ax = plt.subplots()\n",
        "\n",
        "        ax.pcolor(grid, cmap=cmap, edgecolors='k', linewidths=2)\n",
        "\n",
        "    def plot_Q(self, Q, message=\"Q plot\"):\n",
        "        plt.figure(figsize=(5, 5))\n",
        "        plt.title(message)\n",
        "        plt.pcolor(Q.max(-1), edgecolors='k', linewidths=2)\n",
        "        plt.colorbar()\n",
        "\n",
        "        def x_direct(a):\n",
        "            if a in [0, 1]:\n",
        "                return 0\n",
        "            return 1 if a == 3 else -1\n",
        "\n",
        "        def y_direct(a):\n",
        "            if a in [3, 2]:\n",
        "                return 0\n",
        "            return -1 if a == 0 else 1\n",
        "\n",
        "        policy = Q.argmax(-1)\n",
        "        policyx = np.vectorize(x_direct)(policy)\n",
        "        policyy = np.vectorize(y_direct)(policy)\n",
        "        idx = np.indices(policy.shape)\n",
        "        plt.quiver(idx[1].ravel() + 0.5, idx[0].ravel() + 0.5, policyx.ravel(), policyy.ravel(), pivot=\"middle\",\n",
        "                color='red')\n",
        "        plt.show()\n",
        "\n",
        "\n",
        "\n",
        "\n",
        "    def _get_direction(self, action, direction):\n",
        "\n",
        "        left = [2,3,1,0]\n",
        "        right = [3,2,0,1]\n",
        "        if direction == 0:\n",
        "            new_direction = action\n",
        "        elif direction == -1:\n",
        "            new_direction = left[action]\n",
        "        elif direction == 1:\n",
        "            new_direction = right[action]\n",
        "        else:\n",
        "            raise Exception(\"getDir received an unspecified case\")\n",
        "        return new_direction\n",
        "\n",
        "    def _get_state(self, state, direction):\n",
        "\n",
        "        row_change = [-1,1,0,0]\n",
        "        col_change = [0,0,-1,1]\n",
        "        row_col = seq_to_col_row(state, self.num_cols)\n",
        "        row_col[0,0] += row_change[direction]\n",
        "        row_col[0,1] += col_change[direction]\n",
        "\n",
        "        # check for invalid states\n",
        "        if self.obs_states is not None:\n",
        "            if (np.any(row_col < 0) or\n",
        "                np.any(row_col[:,0] > self.num_rows-1) or\n",
        "                np.any(row_col[:,1] > self.num_cols-1) or\n",
        "                np.any(np.sum(abs(self.obs_states - row_col), 1)==0)):\n",
        "                next_state = state\n",
        "            else:\n",
        "                next_state = row_col_to_seq(row_col, self.num_cols)[0]\n",
        "        else:\n",
        "            if (np.any(row_col < 0) or\n",
        "                np.any(row_col[:,0] > self.num_rows-1) or\n",
        "                np.any(row_col[:,1] > self.num_cols-1)):\n",
        "                next_state = state\n",
        "            else:\n",
        "                next_state = row_col_to_seq(row_col, self.num_cols)[0]\n",
        "\n",
        "        return next_state\n",
        "    \n",
        "\n",
        "\n",
        "    def reset(self):\n",
        "      self.done=False\n",
        "      self.steps=0\n",
        "      return int(self.start_state_seq)\n",
        "      \n",
        "\n",
        "    def step(self, state, action):\n",
        "        p, r = 0, np.random.random()\n",
        "        for next_state in range(self.num_states):\n",
        "\n",
        "            p += self.P[state, next_state, action]\n",
        "\n",
        "            if r <= p:\n",
        "                break\n",
        "        self.steps+=1\n",
        "\n",
        "        if(self.wind and np.random.random() < 0.4):\n",
        "\n",
        "          arr = self.P[next_state, :, 3]\n",
        "          next_next = np.where(arr == np.amax(arr))\n",
        "          next_next = next_next[0][0]\n",
        "          if next_next in self.goal_states_seq or self.steps>=self.max_steps:\n",
        "              self.done=True\n",
        "          else:\n",
        "              self.done=False\n",
        "          \n",
        "          return next_next, self.R[next_next]\n",
        "          \n",
        "        else:\n",
        "          if next_state in self.goal_states_seq or self.steps>=self.max_steps:\n",
        "              self.done=True\n",
        "          else:\n",
        "              self.done=False\n",
        "          return next_state, self.R[next_state]\n"
      ]
    },
    {
      "cell_type": "code",
      "execution_count": 6,
      "metadata": {
        "id": "BqE09JUiL1B8"
      },
      "outputs": [],
      "source": [
        "def generate_world(windy,p_good_transition,start_state):\n",
        "# specify world parameters\n",
        "  wind=windy\n",
        "  p_good_transition=p_good_transition\n",
        "  start_state=np.array([start_state])\n",
        "\n",
        "  num_cols = 10\n",
        "  num_rows = 10\n",
        "  obstructions = np.array([[0,7],[1,1],[1,2],[1,3],[1,7],[2,1],[2,3],\n",
        "                          [2,7],[3,1],[3,3],[3,5],[4,3],[4,5],[4,7],\n",
        "                          [5,3],[5,7],[5,9],[6,3],[6,9],[7,1],[7,6],\n",
        "                          [7,7],[7,8],[7,9],[8,1],[8,5],[8,6],[9,1]])\n",
        "  bad_states = np.array([[1,9],[4,2],[4,4],[7,5],[9,9]])\n",
        "  restart_states = np.array([[3,7],[8,2]])\n",
        "  #start_state = np.array([[0,4]])\n",
        "  goal_states = np.array([[0,9],[2,2],[8,7]])\n",
        "\n",
        "  # create model\n",
        "\n",
        "  gw = GridWorld(num_rows=num_rows,\n",
        "                  num_cols=num_cols,\n",
        "                  start_state=start_state,\n",
        "                  goal_states=goal_states, wind = wind)\n",
        "  gw.add_obstructions(obstructed_states=obstructions,\n",
        "                        bad_states=bad_states,\n",
        "                        restart_states=restart_states)\n",
        "  gw.add_rewards(step_reward=-1,\n",
        "                  goal_reward=10,\n",
        "                  bad_state_reward=-6,\n",
        "                  restart_state_reward=-100)\n",
        "  gw.add_transition_probability(p_good_transition=p_good_transition,\n",
        "                                  bias=0.5)\n",
        "  env = gw.create_gridworld()\n",
        "  return env\n",
        "\n",
        "def visualizing_env(env):\n",
        "  print(\"Number of actions\", env.num_actions) #0 -> UP, 1-> DOWN, 2 -> LEFT, 3-> RIGHT\n",
        "  print(\"Number of states\", env.num_states)\n",
        "  print(\"start state\", env.start_state_seq)\n",
        "  print(\"goal state(s)\", env.goal_states_seq)\n",
        "  env.P[0,:,0]\n",
        "  env.render(state=env.start_state,ax=plt,render_agent=True) # red = obstructions, green= goal states, blue= bad states, yellow= start state, grey= restart state,\n",
        "\n",
        "\n",
        "# Defining the Action Selection Policies \n",
        "\n",
        "\n",
        "\n",
        "# Epsilon greedy\n",
        "def choose_action_epsilon(env,Q, state, epsilon, rg=rg):\n",
        "    actions=np.arange(env.num_actions)\n",
        "    if not Q[state[0][0], state[0][1]].any() or rg.rand()<epsilon:\n",
        "        return rg.choice(actions)\n",
        "    else:\n",
        "        return np.argmax(Q[state[0][0],state[0][1]])\n",
        "\n",
        "# Softmax\n",
        "def choose_action_softmax(env,Q, state, tau=1, rg=rg):\n",
        "    actions = np.arange(env.num_actions)\n",
        "    state_rowcol=seq_to_col_row(state, env.num_cols)\n",
        "    q_values = Q[state_rowcol[0][0], state_rowcol[0][1]]\n",
        "    \n",
        "    # Apply softmax with temperature tau\n",
        "    probabilities = softmax(q_values / tau)\n",
        "    \n",
        "    # Choose action based on probabilities\n",
        "    chosen_action = rg.choice(actions, 1, p=probabilities)[0]\n",
        "    \n",
        "    return chosen_action\n"
      ]
    },
    {
      "cell_type": "code",
      "execution_count": 7,
      "metadata": {},
      "outputs": [],
      "source": [
        "\n",
        "# SARSA with Softmax\n",
        "\n",
        "print_freq = 100\n",
        "\n",
        "def sarsa_s(env, Q, gamma = 0.9, plot_heat = False, choose_action = choose_action_softmax,epsilon0=0.1,alpha0=0.3,tau=0.2):\n",
        "\n",
        "    episode_rewards = np.zeros(episodes)\n",
        "    steps_to_completion = np.zeros(episodes)\n",
        "    if plot_heat:\n",
        "        clear_output(wait=True)\n",
        "        env.plot_Q(Q)\n",
        "    epsilon = epsilon0\n",
        "    alpha = alpha0\n",
        "    #print(alpha,epsilon,gamma,tau)\n",
        "    state_visit_counts = np.zeros((env.num_rows, env.num_cols))\n",
        "    for ep in tqdm(range(episodes)):\n",
        "        tot_reward, steps = 0, 0\n",
        "\n",
        "        # Reset environment\n",
        "        state = env.reset()\n",
        "        action = choose_action(env,Q, state,tau)\n",
        "        done = False\n",
        "    \n",
        "        while not env.done:\n",
        "            state_next, reward = env.step(state,action)\n",
        "            state_next_rowcol=seq_to_col_row(state_next, env.num_cols)\n",
        "            state_rowcols=seq_to_col_row(state, env.num_cols)\n",
        "            \n",
        "            action_next = choose_action(env,Q, state_next,tau)\n",
        "\n",
        "\n",
        "            Q[state_rowcols[0][0],state_rowcols[0][1], action] = Q[state_rowcols[0][0],state_rowcols[0][1], action] + alpha * (reward + gamma * Q[state_next_rowcol[0][0],state_next_rowcol[0][1], action_next] - Q[state_rowcols[0][0],state_rowcols[0][1], action])\n",
        "\n",
        "            state_visit_counts[state_rowcols[0][0], state_rowcols[0][1]] += 1\n",
        "       \n",
        "\n",
        "            tot_reward += reward\n",
        "            steps += 1\n",
        "\n",
        "            state, action = state_next, action_next\n",
        "\n",
        "        episode_rewards[ep] = tot_reward\n",
        "        steps_to_completion[ep] = steps\n",
        "\n",
        "        if (ep+1)%print_freq == 0 and plot_heat:\n",
        "            clear_output(wait=True)\n",
        "            env.plot_Q(Q, message = \"Episode %d: Reward: %f, Steps: %.2f, Qmax: %.2f, Qmin: %.2f\"%(ep+1, np.mean(episode_rewards[ep-print_freq+1:ep]),\n",
        "                                                                           np.mean(steps_to_completion[ep-print_freq+1:ep]),\n",
        "                                                                           Q.max(), Q.min()))\n",
        "\n",
        "    return Q, episode_rewards, steps_to_completion,state_visit_counts\n",
        "\n",
        "def best_policy(env,Q):\n",
        "\n",
        "    state = env.reset()\n",
        "    done = False\n",
        "    steps = 0\n",
        "    tot_reward = 0\n",
        "    while not env.done:\n",
        "        clear_output(wait=True)\n",
        "        plt.figure(figsize=(10, 10))\n",
        "        state_row_cols= seq_to_col_row(state, env.num_cols)\n",
        "        env.render(state_row_cols,ax=plt, render_agent=True)\n",
        "        plt.show()\n",
        "        steps += 1\n",
        "        state, reward = env.step(state,Q[state_row_cols[0][0],state_row_cols[0][1]].argmax())\n",
        "        tot_reward += reward\n",
        "        sleep(0.2)\n",
        "    print(\"Steps: %d, Total Reward: %d\"%(steps, tot_reward))\n",
        "\n",
        "\n",
        "def qlearning_s(env, Q, gamma = 1, plot_heat = False, choose_action = choose_action_softmax,epsilon0=0.1,alpha0=0.3,tau=0.2):\n",
        "  \n",
        "    episode_rewards = np.zeros(episodes)\n",
        "    steps_to_completion = np.zeros(episodes)\n",
        "    state_visit_counts = np.zeros((env.num_rows, env.num_cols))\n",
        "    if plot_heat:\n",
        "        clear_output(wait=True)\n",
        "        env.plot_Q(Q)\n",
        "    epsilon = epsilon0\n",
        "    alpha = alpha0\n",
        "    for ep in tqdm(range(episodes)):\n",
        "        tot_reward, steps = 0, 0\n",
        "\n",
        "        # Reset environment\n",
        "        state = env.reset()\n",
        "        action = choose_action(env,Q, state,tau)\n",
        "        done = False\n",
        "    \n",
        "        while not env.done:\n",
        "            state_next, reward = env.step(state,action)\n",
        "            state_next_rowcol=seq_to_col_row(state_next, env.num_cols)\n",
        "            state_rowcols=seq_to_col_row(state, env.num_cols)\n",
        "            \n",
        "            action_next = choose_action(env,Q, state_next,tau)\n",
        "\n",
        "\n",
        "            Q[state_rowcols[0][0],state_rowcols[0][1], action] = Q[state_rowcols[0][0],state_rowcols[0][1], action] + alpha * (reward + gamma * Q[state_next_rowcol[0][0],state_next_rowcol[0][1],np.argmax(Q[state_next_rowcol[0][0],state_next_rowcol[0][1]])] - Q[state_rowcols[0][0],state_rowcols[0][1], action])\n",
        "\n",
        "            tot_reward += reward\n",
        "            steps += 1\n",
        "            state_visit_counts[state_rowcols[0][0], state_rowcols[0][1]] += 1\n",
        "\n",
        "            state, action = state_next, action_next\n",
        "\n",
        "        episode_rewards[ep] = tot_reward\n",
        "        steps_to_completion[ep] = steps\n",
        "\n",
        "        if (ep+1)%print_freq == 0 and plot_heat:\n",
        "            clear_output(wait=True)\n",
        "            env.plot_Q(Q, message = \"Episode %d: Reward: %f, Steps: %.2f, Qmax: %.2f, Qmin: %.2f\"%(ep+1, np.mean(episode_rewards[ep-print_freq+1:ep]),\n",
        "                                                                           np.mean(steps_to_completion[ep-print_freq+1:ep]),\n",
        "                                                                           Q.max(), Q.min()))\n",
        "\n",
        "    return Q, episode_rewards, steps_to_completion,state_visit_counts\n",
        "\n",
        "\n",
        "\n",
        "\n"
      ]
    },
    {
      "cell_type": "code",
      "execution_count": 8,
      "metadata": {},
      "outputs": [],
      "source": [
        "# sarsa with epsilon greedy \n",
        "\n",
        "def sarsa_e(env, Q, gamma = 0.9, plot_heat = False, choose_action = choose_action_epsilon,epsilon0=0.1,alpha0=0.3,tau=0.2):\n",
        "\n",
        "    episode_rewards = np.zeros(episodes)\n",
        "    steps_to_completion = np.zeros(episodes)\n",
        "    if plot_heat:\n",
        "        clear_output(wait=True)\n",
        "        env.plot_Q(Q)\n",
        "    epsilon = epsilon0\n",
        "    alpha = alpha0\n",
        "    state_visit_counts = np.zeros((env.num_rows, env.num_cols))\n",
        "    for ep in tqdm(range(episodes)):\n",
        "        tot_reward, steps = 0, 0\n",
        "\n",
        "        # Reset environment\n",
        "        state = env.reset()\n",
        "        action = choose_action(env,Q, state,epsilon)\n",
        "        done = False\n",
        "    \n",
        "        while not env.done:\n",
        "            state_next, reward = env.step(state,action)\n",
        "            state_next_rowcol=seq_to_col_row(state_next, env.num_cols)\n",
        "            state_rowcols=seq_to_col_row(state, env.num_cols)\n",
        "            \n",
        "            action_next = choose_action(env,Q, state_next,epsilon)\n",
        "\n",
        "\n",
        "            Q[state_rowcols[0][0],state_rowcols[0][1], action] = Q[state_rowcols[0][0],state_rowcols[0][1], action] + alpha * (reward + gamma * Q[state_next_rowcol[0][0],state_next_rowcol[0][1], action_next] - Q[state_rowcols[0][0],state_rowcols[0][1], action])\n",
        "\n",
        "            state_visit_counts[state_rowcols[0][0], state_rowcols[0][1]] += 1\n",
        "       \n",
        "\n",
        "            tot_reward += reward\n",
        "            steps += 1\n",
        "\n",
        "            state, action = state_next, action_next\n",
        "\n",
        "        episode_rewards[ep] = tot_reward\n",
        "        steps_to_completion[ep] = steps\n",
        "\n",
        "        if (ep+1)%print_freq == 0 and plot_heat:\n",
        "            clear_output(wait=True)\n",
        "            env.plot_Q(Q, message = \"Episode %d: Reward: %f, Steps: %.2f, Qmax: %.2f, Qmin: %.2f\"%(ep+1, np.mean(episode_rewards[ep-print_freq+1:ep]),\n",
        "                                                                           np.mean(steps_to_completion[ep-print_freq+1:ep]),\n",
        "                                                                           Q.max(), Q.min()))\n",
        "\n",
        "    return Q, episode_rewards, steps_to_completion,state_visit_counts\n",
        "    \n",
        "\n",
        "\n",
        "\n",
        "# Q-Learning with epsilon-greedy\n",
        "\n",
        "def qlearning_e(env, Q, gamma = 0.9, plot_heat = False, choose_action = choose_action_epsilon,epsilon0=0.1,alpha0=0.3,tau=0.2):\n",
        "\n",
        "    episode_rewards = np.zeros(episodes)\n",
        "    steps_to_completion = np.zeros(episodes)\n",
        "    state_visit_counts = np.zeros((env.num_rows, env.num_cols))\n",
        "    if plot_heat:\n",
        "        clear_output(wait=True)\n",
        "        env.plot_Q(Q)\n",
        "    epsilon = epsilon0\n",
        "    alpha = alpha0\n",
        "    for ep in tqdm(range(episodes)):\n",
        "        tot_reward, steps = 0, 0\n",
        "\n",
        "        # Reset environment\n",
        "        state = env.reset()\n",
        "        action = choose_action(env,Q, state,epsilon)\n",
        "        done = False\n",
        "    \n",
        "        while not env.done:\n",
        "            state_next, reward = env.step(state,action)\n",
        "            state_next_rowcol=seq_to_col_row(state_next, env.num_cols)\n",
        "            state_rowcols=seq_to_col_row(state, env.num_cols)\n",
        "            \n",
        "            action_next = choose_action(env,Q, state_next,epsilon)\n",
        "\n",
        "\n",
        "            Q[state_rowcols[0][0],state_rowcols[0][1], action] = Q[state_rowcols[0][0],state_rowcols[0][1], action] + alpha * (reward + gamma * Q[state_next_rowcol[0][0],state_next_rowcol[0][1],np.argmax(Q[state_next_rowcol[0][0],state_next_rowcol[0][1]])] - Q[state_rowcols[0][0],state_rowcols[0][1], action])\n",
        "\n",
        "            tot_reward += reward\n",
        "            steps += 1\n",
        "            state_visit_counts[state_rowcols[0][0], state_rowcols[0][1]] += 1\n",
        "\n",
        "            state, action = state_next, action_next\n",
        "\n",
        "        episode_rewards[ep] = tot_reward\n",
        "        steps_to_completion[ep] = steps\n",
        "\n",
        "        if (ep+1)%print_freq == 0 and plot_heat:\n",
        "            clear_output(wait=True)\n",
        "            env.plot_Q(Q, message = \"Episode %d: Reward: %f, Steps: %.2f, Qmax: %.2f, Qmin: %.2f\"%(ep+1, np.mean(episode_rewards[ep-print_freq+1:ep]),\n",
        "                                                                           np.mean(steps_to_completion[ep-print_freq+1:ep]),\n",
        "                                                                           Q.max(), Q.min()))\n",
        "            \n",
        "    return Q, episode_rewards, steps_to_completion,state_visit_counts\n",
        "\n"
      ]
    },
    {
      "cell_type": "code",
      "execution_count": 9,
      "metadata": {},
      "outputs": [],
      "source": [
        "def plot_all(func,env):\n",
        "    env=env\n",
        "    num_expts = 5\n",
        "    reward_avgs, steps_avgs = [], []\n",
        "    rewards_all,steps_all=[],[]\n",
        "    mean_rewd=[]\n",
        "    Q_all= np.zeros((env.num_rows, env.num_cols, env.num_actions))\n",
        "    state_visits_all= np.zeros((env.num_rows, env.num_cols))\n",
        "    for i in range(num_expts):\n",
        "        print(\"Experiment: %d\"%(i+1))\n",
        "        Q = np.zeros((env.num_rows, env.num_cols, env.num_actions))\n",
        "        rg = np.random.RandomState(i)\n",
        "        Q, rewards, steps,state_visits = func(env, Q, gamma = gamma, plot_heat=False, choose_action= choose_action_softmax,epsilon0=epsilon0,alpha0=alpha0,tau=tau)\n",
        "        rewards_all.append(rewards)\n",
        "        mean_rewd.append(np.mean(rewards))\n",
        "        steps_all.append(steps)\n",
        "        Q_all=Q_all+Q\n",
        "        state_visits_all+=state_visits\n",
        "\n",
        "    Q_avg=Q_all/num_expts\n",
        "    state_visits_avg=state_visits_all/num_expts\n",
        "    reward_avgs.append(np.mean(rewards_all,axis=0))\n",
        "    steps_avgs.append(np.mean(steps_all,axis=0))\n",
        "    mean_steps=np.mean(steps_all)\n",
        "    mean_rewards=np.mean(mean_rewd)\n",
        "\n",
        "    env.plot_Q(Q_avg)\n",
        "\n",
        "    episodes_no=np.arange(episodes)\n",
        "    reward_stds = np.std(rewards_all, axis=0)\n",
        "    steps_stds = np.std(steps_all, axis=0)\n",
        "\n",
        "    fig, axes = plt.subplots(1, 3, figsize=(15, 5))\n",
        "\n",
        "# Plot Mean Steps\n",
        "    axes[0].errorbar(episodes_no, steps_avgs[0], yerr=steps_stds, label='Mean Steps', fmt='-o', ecolor='skyblue')\n",
        "    axes[0].set_xlabel('Episode')\n",
        "    axes[0].set_ylabel('Number of steps to Goal')\n",
        "    axes[0].set_title('Mean Steps')\n",
        "\n",
        "    # Plot Mean Reward\n",
        "    axes[1].errorbar(episodes_no, reward_avgs[0], yerr=reward_stds, label='Mean Reward', fmt='-o', ecolor='skyblue')\n",
        "    axes[1].set_xlabel('Episode')\n",
        "    axes[1].set_ylabel('Total Reward')\n",
        "    axes[1].set_title('Mean Reward')\n",
        "\n",
        "    # Plot State Visit Counts Heatmap\n",
        "    heatmap = axes[2].imshow(state_visits_avg, cmap='Blues', interpolation='nearest', origin='lower')\n",
        "    axes[2].set_title('State Visit Counts Heatmap')\n",
        "    axes[2].set_xlabel('Column Index')\n",
        "    axes[2].set_ylabel('Row Index')\n",
        "    axes[2].grid(True, linestyle='--', alpha=0.5, color='black') \n",
        "    fig.colorbar(heatmap, ax=axes[2], label='Visit Counts')\n",
        "\n",
        "    # Adjust layout to prevent clipping of titles\n",
        "    plt.tight_layout()\n",
        "\n",
        "    # Show the plots\n",
        "    plt.show()\n",
        "\n",
        "    print('Average reward across all the runs = ',mean_rewards)\n",
        "    print('Average steps across all the runs = ',mean_steps)"
      ]
    },
    {
      "cell_type": "code",
      "execution_count": 10,
      "metadata": {},
      "outputs": [],
      "source": [
        "def opt_all(func,env,individual,e_s):\n",
        "    env=env\n",
        "    num_expts = 1\n",
        "    epsilon = 0\n",
        "    tau = 0\n",
        "    if e_s == 0:\n",
        "        alpha, gamma, epsilon = individual['alpha'], individual['gamma'], individual['epsilon_tau']\n",
        "    else:\n",
        "        alpha, gamma, tau = individual['alpha'], individual['gamma'], individual['epsilon_tau']\n",
        "    reward_avgs, steps_avgs = [], []\n",
        "    rewards_all,steps_all=[],[]\n",
        "    mean_rewd=[]\n",
        "    #print(alpha,gamma,epsilon,tau)\n",
        "    Q_all= np.zeros((env.num_rows, env.num_cols, env.num_actions))\n",
        "    state_visits_all= np.zeros((env.num_rows, env.num_cols))\n",
        "    for i in range(num_expts):\n",
        "        print(\"Experiment: %d\"%(i+1))\n",
        "        Q = np.zeros((env.num_rows, env.num_cols, env.num_actions))\n",
        "        rg = np.random.RandomState(i)\n",
        "        Q, rewards, steps,state_visits = func(env, Q, gamma = gamma, plot_heat=False, choose_action= choose_action_softmax,epsilon0=epsilon,alpha0=alpha,tau=tau)\n",
        "        rewards_all.append(rewards)\n",
        "        mean_rewd.append(np.mean(rewards))\n",
        "        steps_all.append(steps)\n",
        "        Q_all=Q_all+Q\n",
        "        state_visits_all+=state_visits\n",
        "\n",
        "    Q_avg=Q_all/num_expts\n",
        "    state_visits_avg=state_visits_all/num_expts\n",
        "    reward_avgs.append(np.mean(rewards_all,axis=0))\n",
        "    steps_avgs.append(np.mean(steps_all,axis=0))\n",
        "    mean_steps=np.mean(steps_all)\n",
        "    print(mean_steps)\n",
        "    mean_rewards=np.mean(mean_rewd)\n",
        "    return mean_rewards,mean_steps"
      ]
    },
    {
      "cell_type": "code",
      "execution_count": 11,
      "metadata": {},
      "outputs": [],
      "source": [
        "env1= generate_world(False,1,[0,4])\n",
        "env2= generate_world(False,1,[3,6])\n",
        "env3= generate_world(False,0.7,[0,4])\n",
        "env4= generate_world(False,0.7,[3,6])\n",
        "env5= generate_world(True,1,[0,4])\n",
        "env6= generate_world(True,1,[3,6])"
      ]
    },
    {
      "cell_type": "code",
      "execution_count": 12,
      "metadata": {},
      "outputs": [],
      "source": [
        "\n",
        "def initialize_population(population_size,e_s):\n",
        "    population = []\n",
        "    for _ in range(population_size):\n",
        "        if e_s:\n",
        "            individual = {\n",
        "                'alpha': np.random.uniform(0.1, 1.0),\n",
        "                'gamma': np.random.uniform(0.8, 1.0),\n",
        "                'epsilon_tau': np.random.uniform(0.3, 1), # tau for e_s=1\n",
        "                # 'tau': np.random.uniform(0.5,0.8)\n",
        "            }\n",
        "            population.append(individual)\n",
        "        else:\n",
        "            individual = {\n",
        "                'alpha': np.random.uniform(0.1, 0.7),\n",
        "                'gamma': np.random.uniform(0.65, 1.0),\n",
        "                'epsilon_tau': np.random.uniform(0.05,0.3)\n",
        "            }\n",
        "            population.append(individual)\n",
        "    return population\n",
        "\n",
        "def evaluate_individual(individual, env, func,e_s):\n",
        "    alpha, gamma, epsilon_tau = individual['alpha'], individual['gamma'], individual['epsilon_tau']\n",
        "    #print(alpha,gamma, epsilon, tau)\n",
        "    mean_rewards_ok, mean_steps_ok = opt_all(func, env,individual,e_s)\n",
        "    return mean_rewards_ok, mean_steps_ok\n",
        "\n",
        "def combined_score(individual, rewards_weight=0.5, steps_weight=0.5):\n",
        "    return rewards_weight * individual['mean_rewards'] + steps_weight * (-individual['mean_steps'] + 10)\n",
        "\n",
        "\n",
        "\n",
        "def select_parents(population, num_parents):\n",
        "    # Select top individuals based on their fitness\n",
        "    # sorted_population = sorted(population, key=lambda x: (x['mean_rewards'], -x['mean_steps']), reverse=True)\n",
        "    sorted_population = sorted(population, key=lambda x: combined_score(x), reverse=True)\n",
        "    print(sorted_population[:num_parents])\n",
        "    return sorted_population[:num_parents]\n",
        "\n",
        "def crossover(parent1, parent2):\n",
        "    # Perform crossover to create a new individual\n",
        "    crossover_point = np.random.choice(list(parent1.keys()))\n",
        "    child = {key: parent1[key] if np.random.rand() < 0.5 else parent2[key] for key in parent1.keys()}\n",
        "    return child\n",
        "\n",
        "def mutate(individual, mutation_rate=0.2,e_s=0):\n",
        "    # Perform mutation on an individual\n",
        "    for key in individual.keys():\n",
        "        if np.random.rand() < mutation_rate:\n",
        "            if key == 'epsilon_tau' and e_s == 1:\n",
        "                individual[key] = np.random.uniform(0.5,1.0)\n",
        "            elif key == 'alpha':\n",
        "                individual[key] = np.random.uniform(0.6,1.0)\n",
        "            elif key=='gamma':\n",
        "                individual[key] = np.random.uniform(0.7,1.0)\n",
        "\n",
        "            else:\n",
        "                individual[key] = np.random.uniform(0.001, 0.25)\n",
        "    return individual\n",
        "\n",
        "def genetic_algorithm(env, func, population_size=15, num_generations=7, num_parents=5,e_s = 0):\n",
        "    # Initialize population\n",
        "    #if e_s = 1, then it is softmax, e_s = 0 then it is epsilon greedy\n",
        "    population = initialize_population(population_size,e_s)\n",
        "    all_parents = []\n",
        "    # Evolution loop\n",
        "    for generation in range(num_generations):\n",
        "        print(f\"\\nGeneration {generation + 1}\")\n",
        "        for individual in population:\n",
        "            # Evaluate fitness of each individual\n",
        "            mean_rewards_yes, mean_steps_yes = evaluate_individual(individual, env, func,e_s)\n",
        "            individual['mean_rewards'] = mean_rewards_yes\n",
        "\n",
        "            individual['mean_steps'] = mean_steps_yes\n",
        "\n",
        "        # Select parents\n",
        "        parents = select_parents(population, num_parents)\n",
        "        all_parents += parents\n",
        "        best_individual = parents[0]\n",
        "        best_hyperparameters = {key: best_individual[key] for key in ['alpha', 'gamma', 'epsilon_tau']}\n",
        "        best_mean_rewards, best_mean_steps = best_individual['mean_rewards'], best_individual['mean_steps']\n",
        "      \n",
        "        print(best_individual)\n",
        "        \n",
        "        print(f\"\\nBest Hyperparameters: {best_hyperparameters}\")\n",
        "        print(f\"Best Mean Rewards: {best_mean_rewards}\")\n",
        "        print(f\"Best Mean Steps: {best_mean_steps}\")\n",
        "\n",
        "        # Create next generation\n",
        "        new_population = parents.copy()\n",
        "        while len(new_population) < population_size:\n",
        "            parent1, parent2 = np.random.choice(parents, size=2, replace=False)\n",
        "            child = crossover(parent1, parent2)\n",
        "            child = mutate(child,e_s=e_s)\n",
        "            new_population.append(child)\n",
        "\n",
        "        # Update population for the next generation\n",
        "        population = new_population\n",
        "    \n",
        "\n",
        "    return best_hyperparameters, best_mean_rewards, best_mean_steps, all_parents\n"
      ]
    },
    {
      "cell_type": "code",
      "execution_count": 13,
      "metadata": {},
      "outputs": [],
      "source": [
        "def plot_training(all_parents):\n",
        "\n",
        "  x = np.array([individual['alpha'] for individual in all_parents])\n",
        "  y = np.array([individual['gamma'] for individual in all_parents])\n",
        "  z = np.array([individual['mean_rewards'] for individual in all_parents])\n",
        "  w = np.array([individual['mean_steps'] for individual in all_parents])\n",
        "\n",
        "  fig = plt.figure(figsize=(10,10))\n",
        "  ax = fig.add_subplot(221)\n",
        "  ax.set_xlabel('Alpha')\n",
        "  ax.set_ylabel('mean_rewards')\n",
        "  ax.scatter(x, z)  # You can customize the line style here if needed\n",
        "  ax2 = fig.add_subplot(222)\n",
        "  ax2.scatter(x,w)\n",
        "  ax2.set_xlabel('Alpha')\n",
        "  ax2.set_ylabel('mean_steps')\n",
        "  ax3 = fig.add_subplot(223)\n",
        "  ax3.set_xlabel('gamma')\n",
        "  ax3.set_ylabel('mean_rewards')\n",
        "  ax3.scatter(y, z, marker='o')  \n",
        "  ax4 = fig.add_subplot(224)\n",
        "  ax4.scatter(y,w,marker='o')\n",
        "  ax4.set_xlabel('gamma')\n",
        "  ax4.set_ylabel('mean_rewards')\n",
        "  plt.show()\n",
        "\n",
        "def write_results_to_file(file_path, algorithm_results, algorithm_name):\n",
        "    with open(file_path, 'a') as file:\n",
        "        file.write(f\"{algorithm_name} Results:\\n\")\n",
        "        file.write(\"Best Hyperparameters:\\n\")\n",
        "        file.write(str(algorithm_results[0]) + '\\n')\n",
        "        file.write(f\"Best Mean Rewards: {algorithm_results[1]}\\n\")\n",
        "        file.write(f\"Best Mean Steps: {algorithm_results[2]}\\n\\n\")\n",
        "\n",
        "file_path = \"results1.txt\""
      ]
    },
    {
      "cell_type": "code",
      "execution_count": 3,
      "metadata": {},
      "outputs": [],
      "source": [
        "episodes=5000"
      ]
    },
    {
      "cell_type": "code",
      "execution_count": 15,
      "metadata": {},
      "outputs": [
        {
          "name": "stdout",
          "output_type": "stream",
          "text": [
            "\n",
            "Generation 1\n",
            "Experiment: 1\n"
          ]
        },
        {
          "name": "stderr",
          "output_type": "stream",
          "text": [
            "100%|██████████| 5000/5000 [00:08<00:00, 605.17it/s]\n"
          ]
        },
        {
          "name": "stdout",
          "output_type": "stream",
          "text": [
            "Experiment: 2\n"
          ]
        },
        {
          "name": "stderr",
          "output_type": "stream",
          "text": [
            "100%|██████████| 5000/5000 [00:08<00:00, 600.37it/s]\n"
          ]
        },
        {
          "name": "stdout",
          "output_type": "stream",
          "text": [
            "12.6893\n",
            "Experiment: 1\n"
          ]
        },
        {
          "name": "stderr",
          "output_type": "stream",
          "text": [
            "100%|██████████| 5000/5000 [00:08<00:00, 578.36it/s]\n"
          ]
        },
        {
          "name": "stdout",
          "output_type": "stream",
          "text": [
            "Experiment: 2\n"
          ]
        },
        {
          "name": "stderr",
          "output_type": "stream",
          "text": [
            "100%|██████████| 5000/5000 [00:08<00:00, 569.26it/s]\n"
          ]
        },
        {
          "name": "stdout",
          "output_type": "stream",
          "text": [
            "12.346\n",
            "Experiment: 1\n"
          ]
        },
        {
          "name": "stderr",
          "output_type": "stream",
          "text": [
            "100%|██████████| 5000/5000 [00:08<00:00, 592.34it/s]\n"
          ]
        },
        {
          "name": "stdout",
          "output_type": "stream",
          "text": [
            "Experiment: 2\n"
          ]
        },
        {
          "name": "stderr",
          "output_type": "stream",
          "text": [
            "100%|██████████| 5000/5000 [00:08<00:00, 607.82it/s]\n"
          ]
        },
        {
          "name": "stdout",
          "output_type": "stream",
          "text": [
            "12.3473\n",
            "Experiment: 1\n"
          ]
        },
        {
          "name": "stderr",
          "output_type": "stream",
          "text": [
            "100%|██████████| 5000/5000 [00:08<00:00, 606.29it/s]\n"
          ]
        },
        {
          "name": "stdout",
          "output_type": "stream",
          "text": [
            "Experiment: 2\n"
          ]
        },
        {
          "name": "stderr",
          "output_type": "stream",
          "text": [
            "100%|██████████| 5000/5000 [00:07<00:00, 678.32it/s]\n"
          ]
        },
        {
          "name": "stdout",
          "output_type": "stream",
          "text": [
            "12.4177\n",
            "Experiment: 1\n"
          ]
        },
        {
          "name": "stderr",
          "output_type": "stream",
          "text": [
            "100%|██████████| 5000/5000 [00:14<00:00, 347.86it/s]\n"
          ]
        },
        {
          "name": "stdout",
          "output_type": "stream",
          "text": [
            "Experiment: 2\n"
          ]
        },
        {
          "name": "stderr",
          "output_type": "stream",
          "text": [
            "100%|██████████| 5000/5000 [00:15<00:00, 324.58it/s]\n"
          ]
        },
        {
          "name": "stdout",
          "output_type": "stream",
          "text": [
            "23.7215\n",
            "Experiment: 1\n"
          ]
        },
        {
          "name": "stderr",
          "output_type": "stream",
          "text": [
            "100%|██████████| 5000/5000 [00:08<00:00, 584.16it/s]\n"
          ]
        },
        {
          "name": "stdout",
          "output_type": "stream",
          "text": [
            "Experiment: 2\n"
          ]
        },
        {
          "name": "stderr",
          "output_type": "stream",
          "text": [
            "100%|██████████| 5000/5000 [00:07<00:00, 649.69it/s]\n"
          ]
        },
        {
          "name": "stdout",
          "output_type": "stream",
          "text": [
            "12.4884\n",
            "Experiment: 1\n"
          ]
        },
        {
          "name": "stderr",
          "output_type": "stream",
          "text": [
            "100%|██████████| 5000/5000 [00:09<00:00, 531.94it/s]\n"
          ]
        },
        {
          "name": "stdout",
          "output_type": "stream",
          "text": [
            "Experiment: 2\n"
          ]
        },
        {
          "name": "stderr",
          "output_type": "stream",
          "text": [
            "100%|██████████| 5000/5000 [00:09<00:00, 552.44it/s]\n"
          ]
        },
        {
          "name": "stdout",
          "output_type": "stream",
          "text": [
            "13.3922\n",
            "Experiment: 1\n"
          ]
        },
        {
          "name": "stderr",
          "output_type": "stream",
          "text": [
            "100%|██████████| 5000/5000 [00:08<00:00, 595.04it/s]\n"
          ]
        },
        {
          "name": "stdout",
          "output_type": "stream",
          "text": [
            "Experiment: 2\n"
          ]
        },
        {
          "name": "stderr",
          "output_type": "stream",
          "text": [
            "100%|██████████| 5000/5000 [00:09<00:00, 541.08it/s]\n"
          ]
        },
        {
          "name": "stdout",
          "output_type": "stream",
          "text": [
            "12.6343\n",
            "Experiment: 1\n"
          ]
        },
        {
          "name": "stderr",
          "output_type": "stream",
          "text": [
            "100%|██████████| 5000/5000 [00:09<00:00, 534.05it/s]\n"
          ]
        },
        {
          "name": "stdout",
          "output_type": "stream",
          "text": [
            "Experiment: 2\n"
          ]
        },
        {
          "name": "stderr",
          "output_type": "stream",
          "text": [
            "100%|██████████| 5000/5000 [00:08<00:00, 570.30it/s]\n"
          ]
        },
        {
          "name": "stdout",
          "output_type": "stream",
          "text": [
            "13.1543\n",
            "Experiment: 1\n"
          ]
        },
        {
          "name": "stderr",
          "output_type": "stream",
          "text": [
            "100%|██████████| 5000/5000 [00:09<00:00, 546.51it/s]\n"
          ]
        },
        {
          "name": "stdout",
          "output_type": "stream",
          "text": [
            "Experiment: 2\n"
          ]
        },
        {
          "name": "stderr",
          "output_type": "stream",
          "text": [
            "100%|██████████| 5000/5000 [00:09<00:00, 518.01it/s]\n"
          ]
        },
        {
          "name": "stdout",
          "output_type": "stream",
          "text": [
            "13.9737\n",
            "Experiment: 1\n"
          ]
        },
        {
          "name": "stderr",
          "output_type": "stream",
          "text": [
            "100%|██████████| 5000/5000 [00:15<00:00, 328.31it/s]\n"
          ]
        },
        {
          "name": "stdout",
          "output_type": "stream",
          "text": [
            "Experiment: 2\n"
          ]
        },
        {
          "name": "stderr",
          "output_type": "stream",
          "text": [
            "100%|██████████| 5000/5000 [00:13<00:00, 361.60it/s]\n"
          ]
        },
        {
          "name": "stdout",
          "output_type": "stream",
          "text": [
            "24.1819\n",
            "Experiment: 1\n"
          ]
        },
        {
          "name": "stderr",
          "output_type": "stream",
          "text": [
            "100%|██████████| 5000/5000 [00:11<00:00, 427.74it/s]\n"
          ]
        },
        {
          "name": "stdout",
          "output_type": "stream",
          "text": [
            "Experiment: 2\n"
          ]
        },
        {
          "name": "stderr",
          "output_type": "stream",
          "text": [
            "100%|██████████| 5000/5000 [00:11<00:00, 450.92it/s]\n"
          ]
        },
        {
          "name": "stdout",
          "output_type": "stream",
          "text": [
            "19.3699\n",
            "Experiment: 1\n"
          ]
        },
        {
          "name": "stderr",
          "output_type": "stream",
          "text": [
            "100%|██████████| 5000/5000 [00:11<00:00, 450.44it/s]\n"
          ]
        },
        {
          "name": "stdout",
          "output_type": "stream",
          "text": [
            "Experiment: 2\n"
          ]
        },
        {
          "name": "stderr",
          "output_type": "stream",
          "text": [
            "100%|██████████| 5000/5000 [00:10<00:00, 478.68it/s]\n"
          ]
        },
        {
          "name": "stdout",
          "output_type": "stream",
          "text": [
            "19.5768\n",
            "Experiment: 1\n"
          ]
        },
        {
          "name": "stderr",
          "output_type": "stream",
          "text": [
            "100%|██████████| 5000/5000 [00:07<00:00, 676.28it/s]\n"
          ]
        },
        {
          "name": "stdout",
          "output_type": "stream",
          "text": [
            "Experiment: 2\n"
          ]
        },
        {
          "name": "stderr",
          "output_type": "stream",
          "text": [
            "100%|██████████| 5000/5000 [00:07<00:00, 660.21it/s]\n"
          ]
        },
        {
          "name": "stdout",
          "output_type": "stream",
          "text": [
            "12.4464\n",
            "Experiment: 1\n"
          ]
        },
        {
          "name": "stderr",
          "output_type": "stream",
          "text": [
            "100%|██████████| 5000/5000 [00:07<00:00, 637.05it/s]\n"
          ]
        },
        {
          "name": "stdout",
          "output_type": "stream",
          "text": [
            "Experiment: 2\n"
          ]
        },
        {
          "name": "stderr",
          "output_type": "stream",
          "text": [
            "100%|██████████| 5000/5000 [00:07<00:00, 699.24it/s]\n"
          ]
        },
        {
          "name": "stdout",
          "output_type": "stream",
          "text": [
            "12.317\n",
            "[{'alpha': 0.9856847745993726, 'gamma': 0.9988596854027793, 'epsilon_tau': 0.8992102247713383, 'mean_rewards': -1.475, 'mean_steps': 12.317}, {'alpha': 0.7891677587950872, 'gamma': 0.9409643016845897, 'epsilon_tau': 0.31547948659180686, 'mean_rewards': -1.4992999999999999, 'mean_steps': 12.346}, {'alpha': 0.6859895669882135, 'gamma': 0.9362800404857237, 'epsilon_tau': 0.45263363511766036, 'mean_rewards': -1.5774, 'mean_steps': 12.4177}, {'alpha': 0.9123779569647033, 'gamma': 0.9691010096348396, 'epsilon_tau': 0.5325262552487584, 'mean_rewards': -1.681, 'mean_steps': 12.3473}, {'alpha': 0.5871146823729269, 'gamma': 0.9556409942734947, 'epsilon_tau': 0.5258438316249212, 'mean_rewards': -1.6152000000000002, 'mean_steps': 12.4464}]\n",
            "{'alpha': 0.9856847745993726, 'gamma': 0.9988596854027793, 'epsilon_tau': 0.8992102247713383, 'mean_rewards': -1.475, 'mean_steps': 12.317}\n",
            "\n",
            "Best Hyperparameters: {'alpha': 0.9856847745993726, 'gamma': 0.9988596854027793, 'epsilon_tau': 0.8992102247713383}\n",
            "Best Mean Rewards: -1.475\n",
            "Best Mean Steps: 12.317\n",
            "\n",
            "Generation 2\n",
            "Experiment: 1\n"
          ]
        },
        {
          "name": "stderr",
          "output_type": "stream",
          "text": [
            "100%|██████████| 5000/5000 [00:07<00:00, 637.08it/s]\n"
          ]
        },
        {
          "name": "stdout",
          "output_type": "stream",
          "text": [
            "Experiment: 2\n"
          ]
        },
        {
          "name": "stderr",
          "output_type": "stream",
          "text": [
            "100%|██████████| 5000/5000 [00:07<00:00, 644.51it/s]\n"
          ]
        },
        {
          "name": "stdout",
          "output_type": "stream",
          "text": [
            "12.7731\n",
            "Experiment: 1\n"
          ]
        },
        {
          "name": "stderr",
          "output_type": "stream",
          "text": [
            "100%|██████████| 5000/5000 [00:07<00:00, 662.54it/s]\n"
          ]
        },
        {
          "name": "stdout",
          "output_type": "stream",
          "text": [
            "Experiment: 2\n"
          ]
        },
        {
          "name": "stderr",
          "output_type": "stream",
          "text": [
            "100%|██████████| 5000/5000 [00:07<00:00, 648.94it/s]\n"
          ]
        },
        {
          "name": "stdout",
          "output_type": "stream",
          "text": [
            "12.3582\n",
            "Experiment: 1\n"
          ]
        },
        {
          "name": "stderr",
          "output_type": "stream",
          "text": [
            "100%|██████████| 5000/5000 [00:07<00:00, 642.96it/s]\n"
          ]
        },
        {
          "name": "stdout",
          "output_type": "stream",
          "text": [
            "Experiment: 2\n"
          ]
        },
        {
          "name": "stderr",
          "output_type": "stream",
          "text": [
            "100%|██████████| 5000/5000 [00:07<00:00, 659.01it/s]\n"
          ]
        },
        {
          "name": "stdout",
          "output_type": "stream",
          "text": [
            "12.4263\n",
            "Experiment: 1\n"
          ]
        },
        {
          "name": "stderr",
          "output_type": "stream",
          "text": [
            "100%|██████████| 5000/5000 [00:07<00:00, 667.34it/s]\n"
          ]
        },
        {
          "name": "stdout",
          "output_type": "stream",
          "text": [
            "Experiment: 2\n"
          ]
        },
        {
          "name": "stderr",
          "output_type": "stream",
          "text": [
            "100%|██████████| 5000/5000 [00:07<00:00, 662.98it/s]\n"
          ]
        },
        {
          "name": "stdout",
          "output_type": "stream",
          "text": [
            "12.3321\n",
            "Experiment: 1\n"
          ]
        },
        {
          "name": "stderr",
          "output_type": "stream",
          "text": [
            "100%|██████████| 5000/5000 [00:07<00:00, 656.81it/s]\n"
          ]
        },
        {
          "name": "stdout",
          "output_type": "stream",
          "text": [
            "Experiment: 2\n"
          ]
        },
        {
          "name": "stderr",
          "output_type": "stream",
          "text": [
            "100%|██████████| 5000/5000 [00:07<00:00, 657.07it/s]\n"
          ]
        },
        {
          "name": "stdout",
          "output_type": "stream",
          "text": [
            "12.4531\n",
            "Experiment: 1\n"
          ]
        },
        {
          "name": "stderr",
          "output_type": "stream",
          "text": [
            "100%|██████████| 5000/5000 [00:08<00:00, 593.20it/s]\n"
          ]
        },
        {
          "name": "stdout",
          "output_type": "stream",
          "text": [
            "Experiment: 2\n"
          ]
        },
        {
          "name": "stderr",
          "output_type": "stream",
          "text": [
            "100%|██████████| 5000/5000 [00:08<00:00, 568.33it/s]\n"
          ]
        },
        {
          "name": "stdout",
          "output_type": "stream",
          "text": [
            "13.5823\n",
            "Experiment: 1\n"
          ]
        },
        {
          "name": "stderr",
          "output_type": "stream",
          "text": [
            "100%|██████████| 5000/5000 [00:07<00:00, 654.64it/s]\n"
          ]
        },
        {
          "name": "stdout",
          "output_type": "stream",
          "text": [
            "Experiment: 2\n"
          ]
        },
        {
          "name": "stderr",
          "output_type": "stream",
          "text": [
            "100%|██████████| 5000/5000 [00:07<00:00, 713.41it/s]\n"
          ]
        },
        {
          "name": "stdout",
          "output_type": "stream",
          "text": [
            "12.307\n",
            "Experiment: 1\n"
          ]
        },
        {
          "name": "stderr",
          "output_type": "stream",
          "text": [
            "100%|██████████| 5000/5000 [00:07<00:00, 631.33it/s]\n"
          ]
        },
        {
          "name": "stdout",
          "output_type": "stream",
          "text": [
            "Experiment: 2\n"
          ]
        },
        {
          "name": "stderr",
          "output_type": "stream",
          "text": [
            "100%|██████████| 5000/5000 [00:07<00:00, 646.80it/s]\n"
          ]
        },
        {
          "name": "stdout",
          "output_type": "stream",
          "text": [
            "12.3707\n",
            "Experiment: 1\n"
          ]
        },
        {
          "name": "stderr",
          "output_type": "stream",
          "text": [
            "100%|██████████| 5000/5000 [00:07<00:00, 633.27it/s]\n"
          ]
        },
        {
          "name": "stdout",
          "output_type": "stream",
          "text": [
            "Experiment: 2\n"
          ]
        },
        {
          "name": "stderr",
          "output_type": "stream",
          "text": [
            "100%|██████████| 5000/5000 [00:07<00:00, 690.27it/s]\n"
          ]
        },
        {
          "name": "stdout",
          "output_type": "stream",
          "text": [
            "12.5643\n",
            "Experiment: 1\n"
          ]
        },
        {
          "name": "stderr",
          "output_type": "stream",
          "text": [
            "100%|██████████| 5000/5000 [00:07<00:00, 646.39it/s]\n"
          ]
        },
        {
          "name": "stdout",
          "output_type": "stream",
          "text": [
            "Experiment: 2\n"
          ]
        },
        {
          "name": "stderr",
          "output_type": "stream",
          "text": [
            "100%|██████████| 5000/5000 [00:07<00:00, 653.22it/s]\n"
          ]
        },
        {
          "name": "stdout",
          "output_type": "stream",
          "text": [
            "12.4009\n",
            "Experiment: 1\n"
          ]
        },
        {
          "name": "stderr",
          "output_type": "stream",
          "text": [
            "100%|██████████| 5000/5000 [00:07<00:00, 646.88it/s]\n"
          ]
        },
        {
          "name": "stdout",
          "output_type": "stream",
          "text": [
            "Experiment: 2\n"
          ]
        },
        {
          "name": "stderr",
          "output_type": "stream",
          "text": [
            "100%|██████████| 5000/5000 [00:07<00:00, 656.87it/s]\n"
          ]
        },
        {
          "name": "stdout",
          "output_type": "stream",
          "text": [
            "12.4938\n",
            "Experiment: 1\n"
          ]
        },
        {
          "name": "stderr",
          "output_type": "stream",
          "text": [
            "100%|██████████| 5000/5000 [00:09<00:00, 554.56it/s]\n"
          ]
        },
        {
          "name": "stdout",
          "output_type": "stream",
          "text": [
            "Experiment: 2\n"
          ]
        },
        {
          "name": "stderr",
          "output_type": "stream",
          "text": [
            "100%|██████████| 5000/5000 [00:07<00:00, 632.72it/s]\n"
          ]
        },
        {
          "name": "stdout",
          "output_type": "stream",
          "text": [
            "13.5614\n",
            "Experiment: 1\n"
          ]
        },
        {
          "name": "stderr",
          "output_type": "stream",
          "text": [
            "100%|██████████| 5000/5000 [00:07<00:00, 641.72it/s]\n"
          ]
        },
        {
          "name": "stdout",
          "output_type": "stream",
          "text": [
            "Experiment: 2\n"
          ]
        },
        {
          "name": "stderr",
          "output_type": "stream",
          "text": [
            "100%|██████████| 5000/5000 [00:07<00:00, 691.16it/s]\n"
          ]
        },
        {
          "name": "stdout",
          "output_type": "stream",
          "text": [
            "12.4041\n",
            "Experiment: 1\n"
          ]
        },
        {
          "name": "stderr",
          "output_type": "stream",
          "text": [
            "100%|██████████| 5000/5000 [00:06<00:00, 769.35it/s] \n"
          ]
        },
        {
          "name": "stdout",
          "output_type": "stream",
          "text": [
            "Experiment: 2\n"
          ]
        },
        {
          "name": "stderr",
          "output_type": "stream",
          "text": [
            "100%|██████████| 5000/5000 [00:05<00:00, 945.20it/s] \n"
          ]
        },
        {
          "name": "stdout",
          "output_type": "stream",
          "text": [
            "13.3594\n",
            "Experiment: 1\n"
          ]
        },
        {
          "name": "stderr",
          "output_type": "stream",
          "text": [
            "100%|██████████| 5000/5000 [01:14<00:00, 67.42it/s]  \n"
          ]
        },
        {
          "name": "stdout",
          "output_type": "stream",
          "text": [
            "Experiment: 2\n"
          ]
        },
        {
          "name": "stderr",
          "output_type": "stream",
          "text": [
            "100%|██████████| 5000/5000 [00:08<00:00, 607.53it/s]\n"
          ]
        },
        {
          "name": "stdout",
          "output_type": "stream",
          "text": [
            "12.4583\n",
            "[{'alpha': 0.8199917205662351, 'gamma': 0.9842669081044668, 'epsilon_tau': 0.45263363511766036, 'mean_rewards': -1.4545, 'mean_steps': 12.307}, {'alpha': 0.7891677587950872, 'gamma': 0.9409643016845897, 'epsilon_tau': 0.31547948659180686, 'mean_rewards': -1.5162, 'mean_steps': 12.3582}, {'alpha': 0.6509318848285874, 'gamma': 0.9691010096348396, 'epsilon_tau': 0.31547948659180686, 'mean_rewards': -1.5316, 'mean_steps': 12.3707}, {'alpha': 0.6123544032718267, 'gamma': 0.9409643016845897, 'epsilon_tau': 0.45263363511766036, 'mean_rewards': -1.5598999999999998, 'mean_steps': 12.4009}, {'alpha': 0.6859895669882135, 'gamma': 0.9691010096348396, 'epsilon_tau': 0.45263363511766036, 'mean_rewards': -1.5627, 'mean_steps': 12.4041}]\n",
            "{'alpha': 0.8199917205662351, 'gamma': 0.9842669081044668, 'epsilon_tau': 0.45263363511766036, 'mean_rewards': -1.4545, 'mean_steps': 12.307}\n",
            "\n",
            "Best Hyperparameters: {'alpha': 0.8199917205662351, 'gamma': 0.9842669081044668, 'epsilon_tau': 0.45263363511766036}\n",
            "Best Mean Rewards: -1.4545\n",
            "Best Mean Steps: 12.307\n",
            "\n",
            "Generation 3\n",
            "Experiment: 1\n"
          ]
        },
        {
          "name": "stderr",
          "output_type": "stream",
          "text": [
            "100%|██████████| 5000/5000 [00:08<00:00, 610.95it/s]\n"
          ]
        },
        {
          "name": "stdout",
          "output_type": "stream",
          "text": [
            "Experiment: 2\n"
          ]
        },
        {
          "name": "stderr",
          "output_type": "stream",
          "text": [
            "100%|██████████| 5000/5000 [00:07<00:00, 628.18it/s]\n"
          ]
        },
        {
          "name": "stdout",
          "output_type": "stream",
          "text": [
            "12.3047\n",
            "Experiment: 1\n"
          ]
        },
        {
          "name": "stderr",
          "output_type": "stream",
          "text": [
            "100%|██████████| 5000/5000 [00:07<00:00, 625.93it/s]\n"
          ]
        },
        {
          "name": "stdout",
          "output_type": "stream",
          "text": [
            "Experiment: 2\n"
          ]
        },
        {
          "name": "stderr",
          "output_type": "stream",
          "text": [
            "100%|██████████| 5000/5000 [00:08<00:00, 582.14it/s]\n"
          ]
        },
        {
          "name": "stdout",
          "output_type": "stream",
          "text": [
            "12.3517\n",
            "Experiment: 1\n"
          ]
        },
        {
          "name": "stderr",
          "output_type": "stream",
          "text": [
            "100%|██████████| 5000/5000 [00:07<00:00, 650.71it/s]\n"
          ]
        },
        {
          "name": "stdout",
          "output_type": "stream",
          "text": [
            "Experiment: 2\n"
          ]
        },
        {
          "name": "stderr",
          "output_type": "stream",
          "text": [
            "100%|██████████| 5000/5000 [00:08<00:00, 612.92it/s]\n"
          ]
        },
        {
          "name": "stdout",
          "output_type": "stream",
          "text": [
            "12.4258\n",
            "Experiment: 1\n"
          ]
        },
        {
          "name": "stderr",
          "output_type": "stream",
          "text": [
            "100%|██████████| 5000/5000 [00:07<00:00, 711.54it/s]\n"
          ]
        },
        {
          "name": "stdout",
          "output_type": "stream",
          "text": [
            "Experiment: 2\n"
          ]
        },
        {
          "name": "stderr",
          "output_type": "stream",
          "text": [
            "100%|██████████| 5000/5000 [00:07<00:00, 694.17it/s]\n"
          ]
        },
        {
          "name": "stdout",
          "output_type": "stream",
          "text": [
            "12.4536\n",
            "Experiment: 1\n"
          ]
        },
        {
          "name": "stderr",
          "output_type": "stream",
          "text": [
            "100%|██████████| 5000/5000 [00:07<00:00, 686.05it/s]\n"
          ]
        },
        {
          "name": "stdout",
          "output_type": "stream",
          "text": [
            "Experiment: 2\n"
          ]
        },
        {
          "name": "stderr",
          "output_type": "stream",
          "text": [
            "100%|██████████| 5000/5000 [00:06<00:00, 763.03it/s]\n"
          ]
        },
        {
          "name": "stdout",
          "output_type": "stream",
          "text": [
            "12.425\n",
            "Experiment: 1\n"
          ]
        },
        {
          "name": "stderr",
          "output_type": "stream",
          "text": [
            "100%|██████████| 5000/5000 [00:06<00:00, 724.39it/s]\n"
          ]
        },
        {
          "name": "stdout",
          "output_type": "stream",
          "text": [
            "Experiment: 2\n"
          ]
        },
        {
          "name": "stderr",
          "output_type": "stream",
          "text": [
            "100%|██████████| 5000/5000 [00:07<00:00, 706.74it/s]\n"
          ]
        },
        {
          "name": "stdout",
          "output_type": "stream",
          "text": [
            "12.3967\n",
            "Experiment: 1\n"
          ]
        },
        {
          "name": "stderr",
          "output_type": "stream",
          "text": [
            "100%|██████████| 5000/5000 [00:07<00:00, 700.22it/s]\n"
          ]
        },
        {
          "name": "stdout",
          "output_type": "stream",
          "text": [
            "Experiment: 2\n"
          ]
        },
        {
          "name": "stderr",
          "output_type": "stream",
          "text": [
            "100%|██████████| 5000/5000 [00:07<00:00, 685.20it/s]\n"
          ]
        },
        {
          "name": "stdout",
          "output_type": "stream",
          "text": [
            "12.348\n",
            "Experiment: 1\n"
          ]
        },
        {
          "name": "stderr",
          "output_type": "stream",
          "text": [
            "100%|██████████| 5000/5000 [00:07<00:00, 668.60it/s]\n"
          ]
        },
        {
          "name": "stdout",
          "output_type": "stream",
          "text": [
            "Experiment: 2\n"
          ]
        },
        {
          "name": "stderr",
          "output_type": "stream",
          "text": [
            "100%|██████████| 5000/5000 [00:06<00:00, 750.52it/s]\n"
          ]
        },
        {
          "name": "stdout",
          "output_type": "stream",
          "text": [
            "12.3829\n",
            "Experiment: 1\n"
          ]
        },
        {
          "name": "stderr",
          "output_type": "stream",
          "text": [
            "100%|██████████| 5000/5000 [00:07<00:00, 673.10it/s]\n"
          ]
        },
        {
          "name": "stdout",
          "output_type": "stream",
          "text": [
            "Experiment: 2\n"
          ]
        },
        {
          "name": "stderr",
          "output_type": "stream",
          "text": [
            "100%|██████████| 5000/5000 [00:07<00:00, 693.84it/s]\n"
          ]
        },
        {
          "name": "stdout",
          "output_type": "stream",
          "text": [
            "12.3538\n",
            "Experiment: 1\n"
          ]
        },
        {
          "name": "stderr",
          "output_type": "stream",
          "text": [
            "100%|██████████| 5000/5000 [00:07<00:00, 662.26it/s]\n"
          ]
        },
        {
          "name": "stdout",
          "output_type": "stream",
          "text": [
            "Experiment: 2\n"
          ]
        },
        {
          "name": "stderr",
          "output_type": "stream",
          "text": [
            "100%|██████████| 5000/5000 [00:07<00:00, 674.47it/s]\n"
          ]
        },
        {
          "name": "stdout",
          "output_type": "stream",
          "text": [
            "12.4374\n",
            "Experiment: 1\n"
          ]
        },
        {
          "name": "stderr",
          "output_type": "stream",
          "text": [
            "100%|██████████| 5000/5000 [00:07<00:00, 695.37it/s]\n"
          ]
        },
        {
          "name": "stdout",
          "output_type": "stream",
          "text": [
            "Experiment: 2\n"
          ]
        },
        {
          "name": "stderr",
          "output_type": "stream",
          "text": [
            "100%|██████████| 5000/5000 [00:07<00:00, 687.17it/s]\n"
          ]
        },
        {
          "name": "stdout",
          "output_type": "stream",
          "text": [
            "12.4266\n",
            "Experiment: 1\n"
          ]
        },
        {
          "name": "stderr",
          "output_type": "stream",
          "text": [
            "100%|██████████| 5000/5000 [00:06<00:00, 758.39it/s]\n"
          ]
        },
        {
          "name": "stdout",
          "output_type": "stream",
          "text": [
            "Experiment: 2\n"
          ]
        },
        {
          "name": "stderr",
          "output_type": "stream",
          "text": [
            "100%|██████████| 5000/5000 [00:05<00:00, 875.87it/s] \n"
          ]
        },
        {
          "name": "stdout",
          "output_type": "stream",
          "text": [
            "12.4604\n",
            "Experiment: 1\n"
          ]
        },
        {
          "name": "stderr",
          "output_type": "stream",
          "text": [
            "100%|██████████| 5000/5000 [00:05<00:00, 974.07it/s] \n"
          ]
        },
        {
          "name": "stdout",
          "output_type": "stream",
          "text": [
            "Experiment: 2\n"
          ]
        },
        {
          "name": "stderr",
          "output_type": "stream",
          "text": [
            "100%|██████████| 5000/5000 [00:06<00:00, 721.32it/s]\n"
          ]
        },
        {
          "name": "stdout",
          "output_type": "stream",
          "text": [
            "12.4434\n",
            "Experiment: 1\n"
          ]
        },
        {
          "name": "stderr",
          "output_type": "stream",
          "text": [
            "100%|██████████| 5000/5000 [00:07<00:00, 646.88it/s]\n"
          ]
        },
        {
          "name": "stdout",
          "output_type": "stream",
          "text": [
            "Experiment: 2\n"
          ]
        },
        {
          "name": "stderr",
          "output_type": "stream",
          "text": [
            "100%|██████████| 5000/5000 [00:07<00:00, 645.67it/s]\n"
          ]
        },
        {
          "name": "stdout",
          "output_type": "stream",
          "text": [
            "12.4642\n",
            "Experiment: 1\n"
          ]
        },
        {
          "name": "stderr",
          "output_type": "stream",
          "text": [
            "100%|██████████| 5000/5000 [00:07<00:00, 634.44it/s]\n"
          ]
        },
        {
          "name": "stdout",
          "output_type": "stream",
          "text": [
            "Experiment: 2\n"
          ]
        },
        {
          "name": "stderr",
          "output_type": "stream",
          "text": [
            "100%|██████████| 5000/5000 [00:06<00:00, 720.97it/s]\n"
          ]
        },
        {
          "name": "stdout",
          "output_type": "stream",
          "text": [
            "12.4662\n",
            "[{'alpha': 0.8199917205662351, 'gamma': 0.9842669081044668, 'epsilon_tau': 0.45263363511766036, 'mean_rewards': -1.4521, 'mean_steps': 12.3047}, {'alpha': 0.7754895550330865, 'gamma': 0.9691010096348396, 'epsilon_tau': 0.31547948659180686, 'mean_rewards': -1.5011, 'mean_steps': 12.348}, {'alpha': 0.7891677587950872, 'gamma': 0.9409643016845897, 'epsilon_tau': 0.31547948659180686, 'mean_rewards': -1.5066, 'mean_steps': 12.3517}, {'alpha': 0.6859895669882135, 'gamma': 0.9409643016845897, 'epsilon_tau': 0.45263363511766036, 'mean_rewards': -1.509, 'mean_steps': 12.3538}, {'alpha': 0.6509318848285874, 'gamma': 0.9691010096348396, 'epsilon_tau': 0.31547948659180686, 'mean_rewards': -1.5434999999999999, 'mean_steps': 12.3829}]\n",
            "{'alpha': 0.8199917205662351, 'gamma': 0.9842669081044668, 'epsilon_tau': 0.45263363511766036, 'mean_rewards': -1.4521, 'mean_steps': 12.3047}\n",
            "\n",
            "Best Hyperparameters: {'alpha': 0.8199917205662351, 'gamma': 0.9842669081044668, 'epsilon_tau': 0.45263363511766036}\n",
            "Best Mean Rewards: -1.4521\n",
            "Best Mean Steps: 12.3047\n",
            "\n",
            "Generation 4\n",
            "Experiment: 1\n"
          ]
        },
        {
          "name": "stderr",
          "output_type": "stream",
          "text": [
            "100%|██████████| 5000/5000 [00:07<00:00, 650.62it/s]\n"
          ]
        },
        {
          "name": "stdout",
          "output_type": "stream",
          "text": [
            "Experiment: 2\n"
          ]
        },
        {
          "name": "stderr",
          "output_type": "stream",
          "text": [
            "100%|██████████| 5000/5000 [00:07<00:00, 658.65it/s]\n"
          ]
        },
        {
          "name": "stdout",
          "output_type": "stream",
          "text": [
            "12.3833\n",
            "Experiment: 1\n"
          ]
        },
        {
          "name": "stderr",
          "output_type": "stream",
          "text": [
            "100%|██████████| 5000/5000 [00:07<00:00, 642.27it/s]\n"
          ]
        },
        {
          "name": "stdout",
          "output_type": "stream",
          "text": [
            "Experiment: 2\n"
          ]
        },
        {
          "name": "stderr",
          "output_type": "stream",
          "text": [
            "100%|██████████| 5000/5000 [00:07<00:00, 626.11it/s]\n"
          ]
        },
        {
          "name": "stdout",
          "output_type": "stream",
          "text": [
            "12.3205\n",
            "Experiment: 1\n"
          ]
        },
        {
          "name": "stderr",
          "output_type": "stream",
          "text": [
            "100%|██████████| 5000/5000 [00:07<00:00, 650.87it/s]\n"
          ]
        },
        {
          "name": "stdout",
          "output_type": "stream",
          "text": [
            "Experiment: 2\n"
          ]
        },
        {
          "name": "stderr",
          "output_type": "stream",
          "text": [
            "100%|██████████| 5000/5000 [00:07<00:00, 697.52it/s]\n"
          ]
        },
        {
          "name": "stdout",
          "output_type": "stream",
          "text": [
            "12.2985\n",
            "Experiment: 1\n"
          ]
        },
        {
          "name": "stderr",
          "output_type": "stream",
          "text": [
            "100%|██████████| 5000/5000 [00:07<00:00, 643.59it/s]\n"
          ]
        },
        {
          "name": "stdout",
          "output_type": "stream",
          "text": [
            "Experiment: 2\n"
          ]
        },
        {
          "name": "stderr",
          "output_type": "stream",
          "text": [
            "100%|██████████| 5000/5000 [00:07<00:00, 653.58it/s]\n"
          ]
        },
        {
          "name": "stdout",
          "output_type": "stream",
          "text": [
            "12.4187\n",
            "Experiment: 1\n"
          ]
        },
        {
          "name": "stderr",
          "output_type": "stream",
          "text": [
            "100%|██████████| 5000/5000 [00:08<00:00, 622.63it/s]\n"
          ]
        },
        {
          "name": "stdout",
          "output_type": "stream",
          "text": [
            "Experiment: 2\n"
          ]
        },
        {
          "name": "stderr",
          "output_type": "stream",
          "text": [
            "100%|██████████| 5000/5000 [00:07<00:00, 677.81it/s]\n"
          ]
        },
        {
          "name": "stdout",
          "output_type": "stream",
          "text": [
            "12.4176\n",
            "Experiment: 1\n"
          ]
        },
        {
          "name": "stderr",
          "output_type": "stream",
          "text": [
            "100%|██████████| 5000/5000 [00:07<00:00, 639.40it/s]\n"
          ]
        },
        {
          "name": "stdout",
          "output_type": "stream",
          "text": [
            "Experiment: 2\n"
          ]
        },
        {
          "name": "stderr",
          "output_type": "stream",
          "text": [
            "100%|██████████| 5000/5000 [00:07<00:00, 711.81it/s]\n"
          ]
        },
        {
          "name": "stdout",
          "output_type": "stream",
          "text": [
            "12.3203\n",
            "Experiment: 1\n"
          ]
        },
        {
          "name": "stderr",
          "output_type": "stream",
          "text": [
            "100%|██████████| 5000/5000 [00:07<00:00, 643.86it/s]\n"
          ]
        },
        {
          "name": "stdout",
          "output_type": "stream",
          "text": [
            "Experiment: 2\n"
          ]
        },
        {
          "name": "stderr",
          "output_type": "stream",
          "text": [
            "100%|██████████| 5000/5000 [00:07<00:00, 651.52it/s]\n"
          ]
        },
        {
          "name": "stdout",
          "output_type": "stream",
          "text": [
            "12.4759\n",
            "Experiment: 1\n"
          ]
        },
        {
          "name": "stderr",
          "output_type": "stream",
          "text": [
            "100%|██████████| 5000/5000 [00:24<00:00, 206.21it/s]\n"
          ]
        },
        {
          "name": "stdout",
          "output_type": "stream",
          "text": [
            "Experiment: 2\n"
          ]
        },
        {
          "name": "stderr",
          "output_type": "stream",
          "text": [
            "100%|██████████| 5000/5000 [00:25<00:00, 196.57it/s]\n"
          ]
        },
        {
          "name": "stdout",
          "output_type": "stream",
          "text": [
            "45.9214\n",
            "Experiment: 1\n"
          ]
        },
        {
          "name": "stderr",
          "output_type": "stream",
          "text": [
            "100%|██████████| 5000/5000 [00:08<00:00, 581.14it/s]\n"
          ]
        },
        {
          "name": "stdout",
          "output_type": "stream",
          "text": [
            "Experiment: 2\n"
          ]
        },
        {
          "name": "stderr",
          "output_type": "stream",
          "text": [
            "100%|██████████| 5000/5000 [00:07<00:00, 667.15it/s]\n"
          ]
        },
        {
          "name": "stdout",
          "output_type": "stream",
          "text": [
            "12.702\n",
            "Experiment: 1\n"
          ]
        },
        {
          "name": "stderr",
          "output_type": "stream",
          "text": [
            "100%|██████████| 5000/5000 [00:07<00:00, 648.36it/s]\n"
          ]
        },
        {
          "name": "stdout",
          "output_type": "stream",
          "text": [
            "Experiment: 2\n"
          ]
        },
        {
          "name": "stderr",
          "output_type": "stream",
          "text": [
            "100%|██████████| 5000/5000 [00:08<00:00, 624.73it/s]\n"
          ]
        },
        {
          "name": "stdout",
          "output_type": "stream",
          "text": [
            "12.3857\n",
            "Experiment: 1\n"
          ]
        },
        {
          "name": "stderr",
          "output_type": "stream",
          "text": [
            "100%|██████████| 5000/5000 [00:07<00:00, 635.01it/s]\n"
          ]
        },
        {
          "name": "stdout",
          "output_type": "stream",
          "text": [
            "Experiment: 2\n"
          ]
        },
        {
          "name": "stderr",
          "output_type": "stream",
          "text": [
            "100%|██████████| 5000/5000 [00:08<00:00, 594.01it/s]\n"
          ]
        },
        {
          "name": "stdout",
          "output_type": "stream",
          "text": [
            "12.3524\n",
            "Experiment: 1\n"
          ]
        },
        {
          "name": "stderr",
          "output_type": "stream",
          "text": [
            "100%|██████████| 5000/5000 [00:08<00:00, 592.23it/s]\n"
          ]
        },
        {
          "name": "stdout",
          "output_type": "stream",
          "text": [
            "Experiment: 2\n"
          ]
        },
        {
          "name": "stderr",
          "output_type": "stream",
          "text": [
            "100%|██████████| 5000/5000 [00:08<00:00, 570.67it/s]\n"
          ]
        },
        {
          "name": "stdout",
          "output_type": "stream",
          "text": [
            "12.4125\n",
            "Experiment: 1\n"
          ]
        },
        {
          "name": "stderr",
          "output_type": "stream",
          "text": [
            "100%|██████████| 5000/5000 [00:18<00:00, 268.18it/s]\n"
          ]
        },
        {
          "name": "stdout",
          "output_type": "stream",
          "text": [
            "Experiment: 2\n"
          ]
        },
        {
          "name": "stderr",
          "output_type": "stream",
          "text": [
            "100%|██████████| 5000/5000 [00:19<00:00, 261.70it/s]\n"
          ]
        },
        {
          "name": "stdout",
          "output_type": "stream",
          "text": [
            "31.8921\n",
            "Experiment: 1\n"
          ]
        },
        {
          "name": "stderr",
          "output_type": "stream",
          "text": [
            "100%|██████████| 5000/5000 [00:08<00:00, 601.88it/s]\n"
          ]
        },
        {
          "name": "stdout",
          "output_type": "stream",
          "text": [
            "Experiment: 2\n"
          ]
        },
        {
          "name": "stderr",
          "output_type": "stream",
          "text": [
            "100%|██████████| 5000/5000 [00:08<00:00, 589.14it/s]\n"
          ]
        },
        {
          "name": "stdout",
          "output_type": "stream",
          "text": [
            "12.3103\n",
            "Experiment: 1\n"
          ]
        },
        {
          "name": "stderr",
          "output_type": "stream",
          "text": [
            "100%|██████████| 5000/5000 [00:08<00:00, 568.03it/s]\n"
          ]
        },
        {
          "name": "stdout",
          "output_type": "stream",
          "text": [
            "Experiment: 2\n"
          ]
        },
        {
          "name": "stderr",
          "output_type": "stream",
          "text": [
            "100%|██████████| 5000/5000 [00:07<00:00, 649.92it/s]\n"
          ]
        },
        {
          "name": "stdout",
          "output_type": "stream",
          "text": [
            "12.3886\n",
            "[{'alpha': 0.7891677587950872, 'gamma': 0.9409643016845897, 'epsilon_tau': 0.31547948659180686, 'mean_rewards': -1.4413, 'mean_steps': 12.2985}, {'alpha': 0.7891677587950872, 'gamma': 0.9691010096348396, 'epsilon_tau': 0.31547948659180686, 'mean_rewards': -1.4604, 'mean_steps': 12.3103}, {'alpha': 0.8199917205662351, 'gamma': 0.9691010096348396, 'epsilon_tau': 0.31547948659180686, 'mean_rewards': -1.4667, 'mean_steps': 12.3203}, {'alpha': 0.7754895550330865, 'gamma': 0.9691010096348396, 'epsilon_tau': 0.31547948659180686, 'mean_rewards': -1.471, 'mean_steps': 12.3205}, {'alpha': 0.6859895669882135, 'gamma': 0.9409643016845897, 'epsilon_tau': 0.31547948659180686, 'mean_rewards': -1.5087, 'mean_steps': 12.3524}]\n",
            "{'alpha': 0.7891677587950872, 'gamma': 0.9409643016845897, 'epsilon_tau': 0.31547948659180686, 'mean_rewards': -1.4413, 'mean_steps': 12.2985}\n",
            "\n",
            "Best Hyperparameters: {'alpha': 0.7891677587950872, 'gamma': 0.9409643016845897, 'epsilon_tau': 0.31547948659180686}\n",
            "Best Mean Rewards: -1.4413\n",
            "Best Mean Steps: 12.2985\n",
            "\n",
            "Generation 5\n",
            "Experiment: 1\n"
          ]
        },
        {
          "name": "stderr",
          "output_type": "stream",
          "text": [
            "100%|██████████| 5000/5000 [00:08<00:00, 575.96it/s]\n"
          ]
        },
        {
          "name": "stdout",
          "output_type": "stream",
          "text": [
            "Experiment: 2\n"
          ]
        },
        {
          "name": "stderr",
          "output_type": "stream",
          "text": [
            "100%|██████████| 5000/5000 [00:08<00:00, 556.79it/s]\n"
          ]
        },
        {
          "name": "stdout",
          "output_type": "stream",
          "text": [
            "12.3581\n",
            "Experiment: 1\n"
          ]
        },
        {
          "name": "stderr",
          "output_type": "stream",
          "text": [
            "100%|██████████| 5000/5000 [00:09<00:00, 529.08it/s]\n"
          ]
        },
        {
          "name": "stdout",
          "output_type": "stream",
          "text": [
            "Experiment: 2\n"
          ]
        },
        {
          "name": "stderr",
          "output_type": "stream",
          "text": [
            "100%|██████████| 5000/5000 [00:10<00:00, 487.38it/s]\n"
          ]
        },
        {
          "name": "stdout",
          "output_type": "stream",
          "text": [
            "13.334\n",
            "Experiment: 1\n"
          ]
        },
        {
          "name": "stderr",
          "output_type": "stream",
          "text": [
            "100%|██████████| 5000/5000 [00:08<00:00, 556.00it/s]\n"
          ]
        },
        {
          "name": "stdout",
          "output_type": "stream",
          "text": [
            "Experiment: 2\n"
          ]
        },
        {
          "name": "stderr",
          "output_type": "stream",
          "text": [
            "100%|██████████| 5000/5000 [00:08<00:00, 618.12it/s]\n"
          ]
        },
        {
          "name": "stdout",
          "output_type": "stream",
          "text": [
            "12.347\n",
            "Experiment: 1\n"
          ]
        },
        {
          "name": "stderr",
          "output_type": "stream",
          "text": [
            "100%|██████████| 5000/5000 [00:08<00:00, 578.31it/s]\n"
          ]
        },
        {
          "name": "stdout",
          "output_type": "stream",
          "text": [
            "Experiment: 2\n"
          ]
        },
        {
          "name": "stderr",
          "output_type": "stream",
          "text": [
            "100%|██████████| 5000/5000 [00:07<00:00, 663.94it/s]\n"
          ]
        },
        {
          "name": "stdout",
          "output_type": "stream",
          "text": [
            "12.3769\n",
            "Experiment: 1\n"
          ]
        },
        {
          "name": "stderr",
          "output_type": "stream",
          "text": [
            "100%|██████████| 5000/5000 [00:07<00:00, 628.55it/s]\n"
          ]
        },
        {
          "name": "stdout",
          "output_type": "stream",
          "text": [
            "Experiment: 2\n"
          ]
        },
        {
          "name": "stderr",
          "output_type": "stream",
          "text": [
            "100%|██████████| 5000/5000 [00:07<00:00, 650.32it/s]\n"
          ]
        },
        {
          "name": "stdout",
          "output_type": "stream",
          "text": [
            "12.3803\n",
            "Experiment: 1\n"
          ]
        },
        {
          "name": "stderr",
          "output_type": "stream",
          "text": [
            "100%|██████████| 5000/5000 [00:07<00:00, 635.22it/s]\n"
          ]
        },
        {
          "name": "stdout",
          "output_type": "stream",
          "text": [
            "Experiment: 2\n"
          ]
        },
        {
          "name": "stderr",
          "output_type": "stream",
          "text": [
            "100%|██████████| 5000/5000 [00:07<00:00, 631.07it/s]\n"
          ]
        },
        {
          "name": "stdout",
          "output_type": "stream",
          "text": [
            "12.3135\n",
            "Experiment: 1\n"
          ]
        },
        {
          "name": "stderr",
          "output_type": "stream",
          "text": [
            "100%|██████████| 5000/5000 [00:07<00:00, 631.19it/s]\n"
          ]
        },
        {
          "name": "stdout",
          "output_type": "stream",
          "text": [
            "Experiment: 2\n"
          ]
        },
        {
          "name": "stderr",
          "output_type": "stream",
          "text": [
            "100%|██████████| 5000/5000 [00:08<00:00, 623.67it/s]\n"
          ]
        },
        {
          "name": "stdout",
          "output_type": "stream",
          "text": [
            "12.3971\n",
            "Experiment: 1\n"
          ]
        },
        {
          "name": "stderr",
          "output_type": "stream",
          "text": [
            "100%|██████████| 5000/5000 [00:08<00:00, 622.49it/s]\n"
          ]
        },
        {
          "name": "stdout",
          "output_type": "stream",
          "text": [
            "Experiment: 2\n"
          ]
        },
        {
          "name": "stderr",
          "output_type": "stream",
          "text": [
            "100%|██████████| 5000/5000 [00:08<00:00, 606.39it/s]\n"
          ]
        },
        {
          "name": "stdout",
          "output_type": "stream",
          "text": [
            "12.3701\n",
            "Experiment: 1\n"
          ]
        },
        {
          "name": "stderr",
          "output_type": "stream",
          "text": [
            "100%|██████████| 5000/5000 [00:07<00:00, 661.66it/s]\n"
          ]
        },
        {
          "name": "stdout",
          "output_type": "stream",
          "text": [
            "Experiment: 2\n"
          ]
        },
        {
          "name": "stderr",
          "output_type": "stream",
          "text": [
            "100%|██████████| 5000/5000 [00:08<00:00, 610.07it/s]\n"
          ]
        },
        {
          "name": "stdout",
          "output_type": "stream",
          "text": [
            "12.4586\n",
            "Experiment: 1\n"
          ]
        },
        {
          "name": "stderr",
          "output_type": "stream",
          "text": [
            "100%|██████████| 5000/5000 [00:08<00:00, 609.18it/s]\n"
          ]
        },
        {
          "name": "stdout",
          "output_type": "stream",
          "text": [
            "Experiment: 2\n"
          ]
        },
        {
          "name": "stderr",
          "output_type": "stream",
          "text": [
            "100%|██████████| 5000/5000 [00:08<00:00, 620.15it/s]\n"
          ]
        },
        {
          "name": "stdout",
          "output_type": "stream",
          "text": [
            "12.3192\n",
            "Experiment: 1\n"
          ]
        },
        {
          "name": "stderr",
          "output_type": "stream",
          "text": [
            "100%|██████████| 5000/5000 [00:07<00:00, 637.45it/s]\n"
          ]
        },
        {
          "name": "stdout",
          "output_type": "stream",
          "text": [
            "Experiment: 2\n"
          ]
        },
        {
          "name": "stderr",
          "output_type": "stream",
          "text": [
            "100%|██████████| 5000/5000 [00:07<00:00, 628.20it/s]\n"
          ]
        },
        {
          "name": "stdout",
          "output_type": "stream",
          "text": [
            "12.3521\n",
            "Experiment: 1\n"
          ]
        },
        {
          "name": "stderr",
          "output_type": "stream",
          "text": [
            "100%|██████████| 5000/5000 [00:08<00:00, 612.10it/s]\n"
          ]
        },
        {
          "name": "stdout",
          "output_type": "stream",
          "text": [
            "Experiment: 2\n"
          ]
        },
        {
          "name": "stderr",
          "output_type": "stream",
          "text": [
            "100%|██████████| 5000/5000 [00:08<00:00, 595.86it/s]\n"
          ]
        },
        {
          "name": "stdout",
          "output_type": "stream",
          "text": [
            "12.5417\n",
            "Experiment: 1\n"
          ]
        },
        {
          "name": "stderr",
          "output_type": "stream",
          "text": [
            "100%|██████████| 5000/5000 [00:08<00:00, 607.50it/s]\n"
          ]
        },
        {
          "name": "stdout",
          "output_type": "stream",
          "text": [
            "Experiment: 2\n"
          ]
        },
        {
          "name": "stderr",
          "output_type": "stream",
          "text": [
            "100%|██████████| 5000/5000 [00:08<00:00, 609.07it/s]\n"
          ]
        },
        {
          "name": "stdout",
          "output_type": "stream",
          "text": [
            "12.3047\n",
            "Experiment: 1\n"
          ]
        },
        {
          "name": "stderr",
          "output_type": "stream",
          "text": [
            "100%|██████████| 5000/5000 [00:14<00:00, 351.06it/s]\n"
          ]
        },
        {
          "name": "stdout",
          "output_type": "stream",
          "text": [
            "Experiment: 2\n"
          ]
        },
        {
          "name": "stderr",
          "output_type": "stream",
          "text": [
            "100%|██████████| 5000/5000 [00:13<00:00, 358.50it/s]\n"
          ]
        },
        {
          "name": "stdout",
          "output_type": "stream",
          "text": [
            "23.2546\n",
            "Experiment: 1\n"
          ]
        },
        {
          "name": "stderr",
          "output_type": "stream",
          "text": [
            "100%|██████████| 5000/5000 [00:07<00:00, 679.66it/s]\n"
          ]
        },
        {
          "name": "stdout",
          "output_type": "stream",
          "text": [
            "Experiment: 2\n"
          ]
        },
        {
          "name": "stderr",
          "output_type": "stream",
          "text": [
            "100%|██████████| 5000/5000 [00:07<00:00, 629.23it/s]\n"
          ]
        },
        {
          "name": "stdout",
          "output_type": "stream",
          "text": [
            "12.3412\n",
            "[{'alpha': 0.8199917205662351, 'gamma': 0.9691010096348396, 'epsilon_tau': 0.31547948659180686, 'mean_rewards': -1.4544000000000001, 'mean_steps': 12.3047}, {'alpha': 0.7605587519945768, 'gamma': 0.9691010096348396, 'epsilon_tau': 0.31547948659180686, 'mean_rewards': -1.4603000000000002, 'mean_steps': 12.3135}, {'alpha': 0.9164190260064987, 'gamma': 0.9409643016845897, 'epsilon_tau': 0.31547948659180686, 'mean_rewards': -1.4646, 'mean_steps': 12.3192}, {'alpha': 0.7891677587950872, 'gamma': 0.9691010096348396, 'epsilon_tau': 0.31547948659180686, 'mean_rewards': -1.5089000000000001, 'mean_steps': 12.3521}, {'alpha': 0.7891677587950872, 'gamma': 0.9409643016845897, 'epsilon_tau': 0.31547948659180686, 'mean_rewards': -1.5149, 'mean_steps': 12.3581}]\n",
            "{'alpha': 0.8199917205662351, 'gamma': 0.9691010096348396, 'epsilon_tau': 0.31547948659180686, 'mean_rewards': -1.4544000000000001, 'mean_steps': 12.3047}\n",
            "\n",
            "Best Hyperparameters: {'alpha': 0.8199917205662351, 'gamma': 0.9691010096348396, 'epsilon_tau': 0.31547948659180686}\n",
            "Best Mean Rewards: -1.4544000000000001\n",
            "Best Mean Steps: 12.3047\n",
            "\n",
            "Generation 6\n",
            "Experiment: 1\n"
          ]
        },
        {
          "name": "stderr",
          "output_type": "stream",
          "text": [
            "100%|██████████| 5000/5000 [00:07<00:00, 626.01it/s]\n"
          ]
        },
        {
          "name": "stdout",
          "output_type": "stream",
          "text": [
            "Experiment: 2\n"
          ]
        },
        {
          "name": "stderr",
          "output_type": "stream",
          "text": [
            "100%|██████████| 5000/5000 [00:08<00:00, 608.36it/s]\n"
          ]
        },
        {
          "name": "stdout",
          "output_type": "stream",
          "text": [
            "12.3431\n",
            "Experiment: 1\n"
          ]
        },
        {
          "name": "stderr",
          "output_type": "stream",
          "text": [
            "100%|██████████| 5000/5000 [00:08<00:00, 610.90it/s]\n"
          ]
        },
        {
          "name": "stdout",
          "output_type": "stream",
          "text": [
            "Experiment: 2\n"
          ]
        },
        {
          "name": "stderr",
          "output_type": "stream",
          "text": [
            "100%|██████████| 5000/5000 [00:08<00:00, 603.10it/s]\n"
          ]
        },
        {
          "name": "stdout",
          "output_type": "stream",
          "text": [
            "12.3165\n",
            "Experiment: 1\n"
          ]
        },
        {
          "name": "stderr",
          "output_type": "stream",
          "text": [
            "100%|██████████| 5000/5000 [00:07<00:00, 670.09it/s]\n"
          ]
        },
        {
          "name": "stdout",
          "output_type": "stream",
          "text": [
            "Experiment: 2\n"
          ]
        },
        {
          "name": "stderr",
          "output_type": "stream",
          "text": [
            "100%|██████████| 5000/5000 [00:07<00:00, 629.43it/s]\n"
          ]
        },
        {
          "name": "stdout",
          "output_type": "stream",
          "text": [
            "12.3368\n",
            "Experiment: 1\n"
          ]
        },
        {
          "name": "stderr",
          "output_type": "stream",
          "text": [
            "100%|██████████| 5000/5000 [00:08<00:00, 621.50it/s]\n"
          ]
        },
        {
          "name": "stdout",
          "output_type": "stream",
          "text": [
            "Experiment: 2\n"
          ]
        },
        {
          "name": "stderr",
          "output_type": "stream",
          "text": [
            "100%|██████████| 5000/5000 [00:08<00:00, 620.80it/s]\n"
          ]
        },
        {
          "name": "stdout",
          "output_type": "stream",
          "text": [
            "12.3454\n",
            "Experiment: 1\n"
          ]
        },
        {
          "name": "stderr",
          "output_type": "stream",
          "text": [
            "100%|██████████| 5000/5000 [00:08<00:00, 614.48it/s]\n"
          ]
        },
        {
          "name": "stdout",
          "output_type": "stream",
          "text": [
            "Experiment: 2\n"
          ]
        },
        {
          "name": "stderr",
          "output_type": "stream",
          "text": [
            "100%|██████████| 5000/5000 [00:07<00:00, 644.88it/s]\n"
          ]
        },
        {
          "name": "stdout",
          "output_type": "stream",
          "text": [
            "12.3207\n",
            "Experiment: 1\n"
          ]
        },
        {
          "name": "stderr",
          "output_type": "stream",
          "text": [
            "100%|██████████| 5000/5000 [00:08<00:00, 608.67it/s]\n"
          ]
        },
        {
          "name": "stdout",
          "output_type": "stream",
          "text": [
            "Experiment: 2\n"
          ]
        },
        {
          "name": "stderr",
          "output_type": "stream",
          "text": [
            "100%|██████████| 5000/5000 [00:08<00:00, 583.02it/s]\n"
          ]
        },
        {
          "name": "stdout",
          "output_type": "stream",
          "text": [
            "13.0578\n",
            "Experiment: 1\n"
          ]
        },
        {
          "name": "stderr",
          "output_type": "stream",
          "text": [
            "100%|██████████| 5000/5000 [00:08<00:00, 582.84it/s]\n"
          ]
        },
        {
          "name": "stdout",
          "output_type": "stream",
          "text": [
            "Experiment: 2\n"
          ]
        },
        {
          "name": "stderr",
          "output_type": "stream",
          "text": [
            "100%|██████████| 5000/5000 [00:08<00:00, 585.83it/s]\n"
          ]
        },
        {
          "name": "stdout",
          "output_type": "stream",
          "text": [
            "12.9569\n",
            "Experiment: 1\n"
          ]
        },
        {
          "name": "stderr",
          "output_type": "stream",
          "text": [
            "100%|██████████| 5000/5000 [00:08<00:00, 594.69it/s]\n"
          ]
        },
        {
          "name": "stdout",
          "output_type": "stream",
          "text": [
            "Experiment: 2\n"
          ]
        },
        {
          "name": "stderr",
          "output_type": "stream",
          "text": [
            "100%|██████████| 5000/5000 [00:08<00:00, 606.21it/s]\n"
          ]
        },
        {
          "name": "stdout",
          "output_type": "stream",
          "text": [
            "12.3575\n",
            "Experiment: 1\n"
          ]
        },
        {
          "name": "stderr",
          "output_type": "stream",
          "text": [
            "100%|██████████| 5000/5000 [00:08<00:00, 605.14it/s]\n"
          ]
        },
        {
          "name": "stdout",
          "output_type": "stream",
          "text": [
            "Experiment: 2\n"
          ]
        },
        {
          "name": "stderr",
          "output_type": "stream",
          "text": [
            "100%|██████████| 5000/5000 [00:08<00:00, 582.34it/s]\n"
          ]
        },
        {
          "name": "stdout",
          "output_type": "stream",
          "text": [
            "12.3389\n",
            "Experiment: 1\n"
          ]
        },
        {
          "name": "stderr",
          "output_type": "stream",
          "text": [
            "100%|██████████| 5000/5000 [00:08<00:00, 585.62it/s]\n"
          ]
        },
        {
          "name": "stdout",
          "output_type": "stream",
          "text": [
            "Experiment: 2\n"
          ]
        },
        {
          "name": "stderr",
          "output_type": "stream",
          "text": [
            "100%|██████████| 5000/5000 [00:07<00:00, 626.08it/s]\n"
          ]
        },
        {
          "name": "stdout",
          "output_type": "stream",
          "text": [
            "12.3263\n",
            "Experiment: 1\n"
          ]
        },
        {
          "name": "stderr",
          "output_type": "stream",
          "text": [
            "100%|██████████| 5000/5000 [00:08<00:00, 573.70it/s]\n"
          ]
        },
        {
          "name": "stdout",
          "output_type": "stream",
          "text": [
            "Experiment: 2\n"
          ]
        },
        {
          "name": "stderr",
          "output_type": "stream",
          "text": [
            "100%|██████████| 5000/5000 [00:07<00:00, 629.02it/s]\n"
          ]
        },
        {
          "name": "stdout",
          "output_type": "stream",
          "text": [
            "12.4342\n",
            "Experiment: 1\n"
          ]
        },
        {
          "name": "stderr",
          "output_type": "stream",
          "text": [
            "100%|██████████| 5000/5000 [00:09<00:00, 541.32it/s]\n"
          ]
        },
        {
          "name": "stdout",
          "output_type": "stream",
          "text": [
            "Experiment: 2\n"
          ]
        },
        {
          "name": "stderr",
          "output_type": "stream",
          "text": [
            "100%|██████████| 5000/5000 [00:08<00:00, 578.48it/s]\n"
          ]
        },
        {
          "name": "stdout",
          "output_type": "stream",
          "text": [
            "12.9772\n",
            "Experiment: 1\n"
          ]
        },
        {
          "name": "stderr",
          "output_type": "stream",
          "text": [
            "100%|██████████| 5000/5000 [00:36<00:00, 137.21it/s]\n"
          ]
        },
        {
          "name": "stdout",
          "output_type": "stream",
          "text": [
            "Experiment: 2\n"
          ]
        },
        {
          "name": "stderr",
          "output_type": "stream",
          "text": [
            "100%|██████████| 5000/5000 [2:17:55<00:00,  1.66s/it]      \n"
          ]
        },
        {
          "name": "stdout",
          "output_type": "stream",
          "text": [
            "66.8503\n",
            "Experiment: 1\n"
          ]
        },
        {
          "name": "stderr",
          "output_type": "stream",
          "text": [
            "100%|██████████| 5000/5000 [00:05<00:00, 976.26it/s] \n"
          ]
        },
        {
          "name": "stdout",
          "output_type": "stream",
          "text": [
            "Experiment: 2\n"
          ]
        },
        {
          "name": "stderr",
          "output_type": "stream",
          "text": [
            "100%|██████████| 5000/5000 [00:04<00:00, 1013.06it/s]\n"
          ]
        },
        {
          "name": "stdout",
          "output_type": "stream",
          "text": [
            "12.3353\n",
            "Experiment: 1\n"
          ]
        },
        {
          "name": "stderr",
          "output_type": "stream",
          "text": [
            "100%|██████████| 5000/5000 [00:04<00:00, 1087.30it/s]\n"
          ]
        },
        {
          "name": "stdout",
          "output_type": "stream",
          "text": [
            "Experiment: 2\n"
          ]
        },
        {
          "name": "stderr",
          "output_type": "stream",
          "text": [
            "100%|██████████| 5000/5000 [00:04<00:00, 1076.57it/s]"
          ]
        },
        {
          "name": "stdout",
          "output_type": "stream",
          "text": [
            "12.3098\n",
            "[{'alpha': 0.9164190260064987, 'gamma': 0.9409643016845897, 'epsilon_tau': 0.31547948659180686, 'mean_rewards': -1.4540000000000002, 'mean_steps': 12.3098}, {'alpha': 0.7605587519945768, 'gamma': 0.9691010096348396, 'epsilon_tau': 0.31547948659180686, 'mean_rewards': -1.4651, 'mean_steps': 12.3165}, {'alpha': 0.7891677587950872, 'gamma': 0.9409643016845897, 'epsilon_tau': 0.31547948659180686, 'mean_rewards': -1.4687999999999999, 'mean_steps': 12.3207}, {'alpha': 0.9164190260064987, 'gamma': 0.9156310637651728, 'epsilon_tau': 0.31547948659180686, 'mean_rewards': -1.4830999999999999, 'mean_steps': 12.3353}, {'alpha': 0.9164190260064987, 'gamma': 0.9409643016845897, 'epsilon_tau': 0.31547948659180686, 'mean_rewards': -1.488, 'mean_steps': 12.3368}]\n",
            "{'alpha': 0.9164190260064987, 'gamma': 0.9409643016845897, 'epsilon_tau': 0.31547948659180686, 'mean_rewards': -1.4540000000000002, 'mean_steps': 12.3098}\n",
            "\n",
            "Best Hyperparameters: {'alpha': 0.9164190260064987, 'gamma': 0.9409643016845897, 'epsilon_tau': 0.31547948659180686}\n",
            "Best Mean Rewards: -1.4540000000000002\n",
            "Best Mean Steps: 12.3098\n"
          ]
        },
        {
          "name": "stderr",
          "output_type": "stream",
          "text": [
            "\n"
          ]
        }
      ],
      "source": [
        "best_hyperparameters, best_mean_rewards, best_mean_steps, b1 = genetic_algorithm(env2, sarsa_s, e_s=1)\n",
        "write_results_to_file(file_path, (best_hyperparameters, best_mean_rewards, best_mean_steps), \"SARSA_Softmax_e2\")\n"
      ]
    },
    {
      "cell_type": "code",
      "execution_count": null,
      "metadata": {},
      "outputs": [],
      "source": [
        "\n",
        "best_hyperparameters, best_mean_rewards, best_mean_steps, b2 = genetic_algorithm(env2, qlearning_s, e_s=1)\n",
        "write_results_to_file(file_path, (best_hyperparameters, best_mean_rewards, best_mean_steps), \"Q-Learning_Softmax_e2\")\n"
      ]
    },
    {
      "cell_type": "code",
      "execution_count": null,
      "metadata": {},
      "outputs": [],
      "source": [
        "\n",
        "best_hyperparameters, best_mean_rewards, best_mean_steps, b3 = genetic_algorithm(env2, sarsa_e, e_s=0)\n",
        "write_results_to_file(file_path, (best_hyperparameters, best_mean_rewards, best_mean_steps), \"SARSA_EpsilonGreedy_e2\")\n"
      ]
    },
    {
      "cell_type": "code",
      "execution_count": null,
      "metadata": {},
      "outputs": [],
      "source": [
        "\n",
        "best_hyperparameters, best_mean_rewards, best_mean_steps, b4 = genetic_algorithm(env2, qlearning_e, e_s=0)\n",
        "write_results_to_file(file_path, (best_hyperparameters, best_mean_rewards, best_mean_steps), \"Q-Learning_EpsilonGreedy_e2\")"
      ]
    },
    {
      "cell_type": "code",
      "execution_count": null,
      "metadata": {},
      "outputs": [],
      "source": [
        "best_hyperparameters, best_mean_rewards, best_mean_steps, c1 = genetic_algorithm(env3, sarsa_s, e_s=1)\n",
        "write_results_to_file(file_path, (best_hyperparameters, best_mean_rewards, best_mean_steps), \"SARSA_Softmax_e2\")\n",
        "\n",
        "best_hyperparameters, best_mean_rewards, best_mean_steps, c2 = genetic_algorithm(env3, qlearning_s, e_s=1)\n",
        "write_results_to_file(file_path, (best_hyperparameters, best_mean_rewards, best_mean_steps), \"Q-Learning_Softmax_e2\")\n",
        "\n",
        "best_hyperparameters, best_mean_rewards, best_mean_steps, c3 = genetic_algorithm(env3, sarsa_e, e_s=0)\n",
        "write_results_to_file(file_path, (best_hyperparameters, best_mean_rewards, best_mean_steps), \"SARSA_EpsilonGreedy_e2\")\n",
        "\n",
        "best_hyperparameters, best_mean_rewards, best_mean_steps, c4 = genetic_algorithm(env3, qlearning_e, e_s=0)\n",
        "write_results_to_file(file_path, (best_hyperparameters, best_mean_rewards, best_mean_steps), \"Q-Learning_EpsilonGreedy_e2\")"
      ]
    }
  ],
  "metadata": {
    "colab": {
      "provenance": []
    },
    "kernelspec": {
      "display_name": "Python 3",
      "name": "python3"
    },
    "language_info": {
      "codemirror_mode": {
        "name": "ipython",
        "version": 3
      },
      "file_extension": ".py",
      "mimetype": "text/x-python",
      "name": "python",
      "nbconvert_exporter": "python",
      "pygments_lexer": "ipython3",
      "version": "3.10.11"
    }
  },
  "nbformat": 4,
  "nbformat_minor": 0
}
