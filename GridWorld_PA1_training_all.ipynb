{
  "cells": [
    {
      "cell_type": "code",
      "execution_count": null,
      "metadata": {
        "id": "SpXfJ6XXLtTe"
      },
      "outputs": [],
      "source": [
        "from math import floor\n",
        "import numpy as np\n",
        "import matplotlib.pyplot as plt\n",
        "from tqdm import tqdm\n",
        "from IPython.display import clear_output\n",
        "from matplotlib import colors\n",
        "from time import sleep\n",
        "from scipy.special import softmax\n",
        "from mpl_toolkits.mplot3d import Axes3D\n",
        "\n",
        "rg = np.random.RandomState(42)\n"
      ]
    },
    {
      "cell_type": "code",
      "execution_count": null,
      "metadata": {},
      "outputs": [],
      "source": [
        "\n",
        "def row_col_to_seq(row_col, num_cols):  #Converts row_column to state number format\n",
        "    return row_col[:,0] * num_cols + row_col[:,1]\n",
        "\n",
        "def seq_to_col_row(seq, num_cols): #Converts state to row column format\n",
        "    r = floor(seq / num_cols)\n",
        "    c = seq - r * num_cols\n",
        "    return np.array([[r, c]])\n",
        "\n",
        "class GridWorld:\n",
        "    \"\"\"\n",
        "    Creates a gridworld object to pass to an RL algorithm.\n",
        "    Parameters\n",
        "    ----------\n",
        "    num_rows : int\n",
        "        The number of rows in the gridworld.\n",
        "    num_cols : int\n",
        "        The number of cols in the gridworld.\n",
        "    start_state : numpy array of shape (1, 2), np.array([[row, col]])\n",
        "        The start state of the gridworld (can only be one start state)\n",
        "    goal_states : numpy arrany of shape (n, 2)\n",
        "        The goal states for the gridworld where n is the number of goal\n",
        "        states.\n",
        "    \"\"\"\n",
        "    def __init__(self, num_rows, num_cols, start_state, goal_states, wind = False):\n",
        "        self.num_rows = num_rows\n",
        "        self.num_cols = num_cols\n",
        "        self.start_state = start_state\n",
        "        self.goal_states = goal_states\n",
        "        self.obs_states = None\n",
        "        self.bad_states = None\n",
        "        self.num_bad_states = 0\n",
        "        self.p_good_trans = None\n",
        "        self.bias = None\n",
        "        self.r_step = None\n",
        "        self.r_goal = None\n",
        "        self.r_dead = None\n",
        "        self.gamma = 1 # default is no discounting\n",
        "        self.wind = wind\n",
        "        self.done=False\n",
        "        self.steps=0\n",
        "        self.max_steps=100\n",
        "\n",
        "    def add_obstructions(self, obstructed_states=None, bad_states=None, restart_states=None):\n",
        "\n",
        "        self.obs_states = obstructed_states\n",
        "        self.bad_states = bad_states\n",
        "        if bad_states is not None:\n",
        "            self.num_bad_states = bad_states.shape[0]\n",
        "        else:\n",
        "            self.num_bad_states = 0\n",
        "        self.restart_states = restart_states\n",
        "        if restart_states is not None:\n",
        "            self.num_restart_states = restart_states.shape[0]\n",
        "        else:\n",
        "            self.num_restart_states = 0\n",
        "\n",
        "    def add_transition_probability(self, p_good_transition, bias):\n",
        "\n",
        "        self.p_good_trans = p_good_transition\n",
        "        self.bias = bias\n",
        "\n",
        "    def add_rewards(self, step_reward, goal_reward, bad_state_reward=None, restart_state_reward = None):\n",
        "\n",
        "        self.r_step = step_reward\n",
        "        self.r_goal = goal_reward\n",
        "        self.r_bad = bad_state_reward\n",
        "        self.r_restart = restart_state_reward\n",
        "\n",
        "\n",
        "    def create_gridworld(self):\n",
        "\n",
        "        self.num_actions = 4\n",
        "        self.num_states = self.num_cols * self.num_rows# +1\n",
        "        self.start_state_seq = row_col_to_seq(self.start_state, self.num_cols)\n",
        "        self.goal_states_seq = row_col_to_seq(self.goal_states, self.num_cols)\n",
        "\n",
        "        # rewards structure\n",
        "        self.R = self.r_step * np.ones((self.num_states, 1))\n",
        "        #self.R[self.num_states-1] = 0\n",
        "        self.R[self.goal_states_seq] = self.r_goal\n",
        "\n",
        "        for i in range(self.num_bad_states):\n",
        "            if self.r_bad is None:\n",
        "                raise Exception(\"Bad state specified but no reward is given\")\n",
        "            bad_state = row_col_to_seq(self.bad_states[i,:].reshape(1,-1), self.num_cols)\n",
        "            #print(\"bad states\", bad_state)\n",
        "            self.R[bad_state, :] = self.r_bad\n",
        "        for i in range(self.num_restart_states):\n",
        "            if self.r_restart is None:\n",
        "                raise Exception(\"Restart state specified but no reward is given\")\n",
        "            restart_state = row_col_to_seq(self.restart_states[i,:].reshape(1,-1), self.num_cols)\n",
        "            #print(\"restart_state\", restart_state)\n",
        "            self.R[restart_state, :] = self.r_restart\n",
        "\n",
        "        # probability model\n",
        "        if self.p_good_trans == None:\n",
        "            raise Exception(\"Must assign probability and bias terms via the add_transition_probability method.\")\n",
        "\n",
        "        self.P = np.zeros((self.num_states,self.num_states,self.num_actions))\n",
        "        for action in range(self.num_actions):\n",
        "            for state in range(self.num_states):\n",
        "\n",
        "\n",
        "                # check if the state is the goal state or an obstructed state - transition to end\n",
        "                row_col = seq_to_col_row(state, self.num_cols)\n",
        "                if self.obs_states is not None:\n",
        "                    end_states = np.vstack((self.obs_states, self.goal_states))\n",
        "                else:\n",
        "                    end_states = self.goal_states\n",
        "\n",
        "                if any(np.sum(np.abs(end_states-row_col), 1) == 0):\n",
        "                    self.P[state, state, action] = 1\n",
        "\n",
        "                # else consider stochastic effects of action\n",
        "                else:\n",
        "                    for dir in range(-1,2,1):\n",
        "\n",
        "                        direction = self._get_direction(action, dir)\n",
        "                        next_state = self._get_state(state, direction)\n",
        "                        if dir == 0:\n",
        "                            prob = self.p_good_trans\n",
        "                        elif dir == -1:\n",
        "                            prob = (1 - self.p_good_trans)*(self.bias)\n",
        "                        elif dir == 1:\n",
        "                            prob = (1 - self.p_good_trans)*(1-self.bias)\n",
        "\n",
        "                        self.P[state, next_state, action] += prob\n",
        "\n",
        "                # make restart states transition back to the start state with\n",
        "                # probability 1\n",
        "                if self.restart_states is not None:\n",
        "                    if any(np.sum(np.abs(self.restart_states-row_col),1)==0):\n",
        "                        next_state = row_col_to_seq(self.start_state, self.num_cols)\n",
        "                        self.P[state,:,:] = 0\n",
        "                        self.P[state,next_state,:] = 1\n",
        "        return self\n",
        "\n",
        "    def render(self,state, render_agent=False, ax=None):\n",
        "        grid = np.zeros((self.num_rows, self.num_cols), dtype=int)\n",
        "\n",
        "        for goal in self.goal_states:\n",
        "            grid[goal[0], goal[1]] = 4\n",
        "\n",
        "        if self.bad_states is not None:\n",
        "            for bad_state in self.bad_states:\n",
        "                grid[bad_state[0], bad_state[1]] = 3\n",
        "\n",
        "        if self.obs_states is not None:\n",
        "            for obs_state in self.obs_states:\n",
        "                grid[obs_state[0], obs_state[1]] = 2\n",
        "\n",
        "        if self.restart_states is not None:\n",
        "            for restart_state in self.restart_states:\n",
        "\n",
        "                grid[restart_state[0], restart_state[1]]=6\n",
        "\n",
        "        if render_agent:\n",
        "            grid[state[0][0],state[0][1]] = 5\n",
        "\n",
        "        plt.clf()\n",
        "\n",
        "        if not render_agent:\n",
        "            cmap = plt.cm.colors.ListedColormap(['#F5E5E1', '#F2A494', '#FF2D00', '#0004FF', '#00FF23'])\n",
        "        else:\n",
        "            cmap = plt.cm.colors.ListedColormap(['#F5E5E1', '#F2A494', '#FF2D00', '#0004FF', '#00FF23', '#F0FF00','#808080'])\n",
        "\n",
        "        if ax is None:\n",
        "            fig, ax = plt.subplots()\n",
        "\n",
        "        ax.pcolor(grid, cmap=cmap, edgecolors='k', linewidths=2)\n",
        "\n",
        "    def plot_Q(self, Q, message=\"Q plot\"):\n",
        "        plt.figure(figsize=(5, 5))\n",
        "        plt.title(message)\n",
        "        plt.pcolor(Q.max(-1), edgecolors='k', linewidths=2)\n",
        "        plt.colorbar()\n",
        "\n",
        "        def x_direct(a):\n",
        "            if a in [0, 1]:\n",
        "                return 0\n",
        "            return 1 if a == 3 else -1\n",
        "\n",
        "        def y_direct(a):\n",
        "            if a in [3, 2]:\n",
        "                return 0\n",
        "            return -1 if a == 0 else 1\n",
        "\n",
        "        policy = Q.argmax(-1)\n",
        "        policyx = np.vectorize(x_direct)(policy)\n",
        "        policyy = np.vectorize(y_direct)(policy)\n",
        "        idx = np.indices(policy.shape)\n",
        "        plt.quiver(idx[1].ravel() + 0.5, idx[0].ravel() + 0.5, policyx.ravel(), policyy.ravel(), pivot=\"middle\",\n",
        "                color='red')\n",
        "        plt.show()\n",
        "\n",
        "\n",
        "\n",
        "\n",
        "    def _get_direction(self, action, direction):\n",
        "\n",
        "        left = [2,3,1,0]\n",
        "        right = [3,2,0,1]\n",
        "        if direction == 0:\n",
        "            new_direction = action\n",
        "        elif direction == -1:\n",
        "            new_direction = left[action]\n",
        "        elif direction == 1:\n",
        "            new_direction = right[action]\n",
        "        else:\n",
        "            raise Exception(\"getDir received an unspecified case\")\n",
        "        return new_direction\n",
        "\n",
        "    def _get_state(self, state, direction):\n",
        "\n",
        "        row_change = [-1,1,0,0]\n",
        "        col_change = [0,0,-1,1]\n",
        "        row_col = seq_to_col_row(state, self.num_cols)\n",
        "        row_col[0,0] += row_change[direction]\n",
        "        row_col[0,1] += col_change[direction]\n",
        "\n",
        "        # check for invalid states\n",
        "        if self.obs_states is not None:\n",
        "            if (np.any(row_col < 0) or\n",
        "                np.any(row_col[:,0] > self.num_rows-1) or\n",
        "                np.any(row_col[:,1] > self.num_cols-1) or\n",
        "                np.any(np.sum(abs(self.obs_states - row_col), 1)==0)):\n",
        "                next_state = state\n",
        "            else:\n",
        "                next_state = row_col_to_seq(row_col, self.num_cols)[0]\n",
        "        else:\n",
        "            if (np.any(row_col < 0) or\n",
        "                np.any(row_col[:,0] > self.num_rows-1) or\n",
        "                np.any(row_col[:,1] > self.num_cols-1)):\n",
        "                next_state = state\n",
        "            else:\n",
        "                next_state = row_col_to_seq(row_col, self.num_cols)[0]\n",
        "\n",
        "        return next_state\n",
        "    \n",
        "\n",
        "\n",
        "    def reset(self):\n",
        "      self.done=False\n",
        "      self.steps=0\n",
        "      return int(self.start_state_seq)\n",
        "      \n",
        "\n",
        "    def step(self, state, action):\n",
        "        p, r = 0, np.random.random()\n",
        "        for next_state in range(self.num_states):\n",
        "\n",
        "            p += self.P[state, next_state, action]\n",
        "\n",
        "            if r <= p:\n",
        "                break\n",
        "        self.steps+=1\n",
        "\n",
        "        if(self.wind and np.random.random() < 0.4):\n",
        "\n",
        "          arr = self.P[next_state, :, 3]\n",
        "          next_next = np.where(arr == np.amax(arr))\n",
        "          next_next = next_next[0][0]\n",
        "          if next_next in self.goal_states_seq or self.steps>=self.max_steps:\n",
        "              self.done=True\n",
        "          else:\n",
        "              self.done=False\n",
        "          \n",
        "          return next_next, self.R[next_next]\n",
        "          \n",
        "        else:\n",
        "          if next_state in self.goal_states_seq or self.steps>=self.max_steps:\n",
        "              self.done=True\n",
        "          else:\n",
        "              self.done=False\n",
        "          return next_state, self.R[next_state]\n"
      ]
    },
    {
      "cell_type": "code",
      "execution_count": null,
      "metadata": {
        "id": "BqE09JUiL1B8"
      },
      "outputs": [],
      "source": [
        "def generate_world(windy,p_good_transition,start_state):\n",
        "# specify world parameters\n",
        "  wind=windy\n",
        "  p_good_transition=p_good_transition\n",
        "  start_state=np.array([start_state])\n",
        "\n",
        "  num_cols = 10\n",
        "  num_rows = 10\n",
        "  obstructions = np.array([[0,7],[1,1],[1,2],[1,3],[1,7],[2,1],[2,3],\n",
        "                          [2,7],[3,1],[3,3],[3,5],[4,3],[4,5],[4,7],\n",
        "                          [5,3],[5,7],[5,9],[6,3],[6,9],[7,1],[7,6],\n",
        "                          [7,7],[7,8],[7,9],[8,1],[8,5],[8,6],[9,1]])\n",
        "  bad_states = np.array([[1,9],[4,2],[4,4],[7,5],[9,9]])\n",
        "  restart_states = np.array([[3,7],[8,2]])\n",
        "  #start_state = np.array([[0,4]])\n",
        "  goal_states = np.array([[0,9],[2,2],[8,7]])\n",
        "\n",
        "  # create model\n",
        "\n",
        "  gw = GridWorld(num_rows=num_rows,\n",
        "                  num_cols=num_cols,\n",
        "                  start_state=start_state,\n",
        "                  goal_states=goal_states, wind = wind)\n",
        "  gw.add_obstructions(obstructed_states=obstructions,\n",
        "                        bad_states=bad_states,\n",
        "                        restart_states=restart_states)\n",
        "  gw.add_rewards(step_reward=-1,\n",
        "                  goal_reward=10,\n",
        "                  bad_state_reward=-6,\n",
        "                  restart_state_reward=-100)\n",
        "  gw.add_transition_probability(p_good_transition=p_good_transition,\n",
        "                                  bias=0.5)\n",
        "  env = gw.create_gridworld()\n",
        "  return env\n",
        "\n",
        "def visualizing_env(env):\n",
        "  print(\"Number of actions\", env.num_actions) #0 -> UP, 1-> DOWN, 2 -> LEFT, 3-> RIGHT\n",
        "  print(\"Number of states\", env.num_states)\n",
        "  print(\"start state\", env.start_state_seq)\n",
        "  print(\"goal state(s)\", env.goal_states_seq)\n",
        "  env.P[0,:,0]\n",
        "  env.render(state=env.start_state,ax=plt,render_agent=True) # red = obstructions, green= goal states, blue= bad states, yellow= start state, grey= restart state,\n",
        "\n",
        "\n",
        "# Defining the Action Selection Policies \n",
        "\n",
        "\n",
        "\n",
        "# Epsilon greedy\n",
        "def choose_action_epsilon(env,Q, state, epsilon, rg=rg):\n",
        "    actions=np.arange(env.num_actions)\n",
        "    if not Q[state[0][0], state[0][1]].any() or rg.rand()<epsilon:\n",
        "        return rg.choice(actions)\n",
        "    else:\n",
        "        return np.argmax(Q[state[0][0],state[0][1]])\n",
        "\n",
        "# Softmax\n",
        "def choose_action_softmax(env,Q, state, tau=1, rg=rg):\n",
        "    actions = np.arange(env.num_actions)\n",
        "    state_rowcol=seq_to_col_row(state, env.num_cols)\n",
        "    q_values = Q[state_rowcol[0][0], state_rowcol[0][1]]\n",
        "    \n",
        "    # Apply softmax with temperature tau\n",
        "    probabilities = softmax(q_values / tau)\n",
        "    \n",
        "    # Choose action based on probabilities\n",
        "    chosen_action = rg.choice(actions, 1, p=probabilities)[0]\n",
        "    \n",
        "    return chosen_action\n"
      ]
    },
    {
      "cell_type": "code",
      "execution_count": null,
      "metadata": {},
      "outputs": [],
      "source": [
        "\n",
        "# SARSA with Softmax\n",
        "\n",
        "print_freq = 100\n",
        "\n",
        "def sarsa_s(env, Q, gamma = 0.9, plot_heat = False, choose_action = choose_action_softmax,epsilon0=0.1,alpha0=0.3,tau=0.2):\n",
        "\n",
        "    episode_rewards = np.zeros(episodes)\n",
        "    steps_to_completion = np.zeros(episodes)\n",
        "    if plot_heat:\n",
        "        clear_output(wait=True)\n",
        "        env.plot_Q(Q)\n",
        "    epsilon = epsilon0\n",
        "    alpha = alpha0\n",
        "    #print(alpha,epsilon,gamma,tau)\n",
        "    state_visit_counts = np.zeros((env.num_rows, env.num_cols))\n",
        "    for ep in tqdm(range(episodes)):\n",
        "        tot_reward, steps = 0, 0\n",
        "\n",
        "        # Reset environment\n",
        "        state = env.reset()\n",
        "        action = choose_action(env,Q, state,tau)\n",
        "        done = False\n",
        "    \n",
        "        while not env.done:\n",
        "            state_next, reward = env.step(state,action)\n",
        "            state_next_rowcol=seq_to_col_row(state_next, env.num_cols)\n",
        "            state_rowcols=seq_to_col_row(state, env.num_cols)\n",
        "            \n",
        "            action_next = choose_action(env,Q, state_next,tau)\n",
        "\n",
        "\n",
        "            Q[state_rowcols[0][0],state_rowcols[0][1], action] = Q[state_rowcols[0][0],state_rowcols[0][1], action] + alpha * (reward + gamma * Q[state_next_rowcol[0][0],state_next_rowcol[0][1], action_next] - Q[state_rowcols[0][0],state_rowcols[0][1], action])\n",
        "\n",
        "            state_visit_counts[state_rowcols[0][0], state_rowcols[0][1]] += 1\n",
        "       \n",
        "\n",
        "            tot_reward += reward\n",
        "            steps += 1\n",
        "\n",
        "            state, action = state_next, action_next\n",
        "\n",
        "        episode_rewards[ep] = tot_reward\n",
        "        steps_to_completion[ep] = steps\n",
        "\n",
        "        if (ep+1)%print_freq == 0 and plot_heat:\n",
        "            clear_output(wait=True)\n",
        "            env.plot_Q(Q, message = \"Episode %d: Reward: %f, Steps: %.2f, Qmax: %.2f, Qmin: %.2f\"%(ep+1, np.mean(episode_rewards[ep-print_freq+1:ep]),\n",
        "                                                                           np.mean(steps_to_completion[ep-print_freq+1:ep]),\n",
        "                                                                           Q.max(), Q.min()))\n",
        "\n",
        "    return Q, episode_rewards, steps_to_completion,state_visit_counts\n",
        "\n",
        "def best_policy(env,Q):\n",
        "\n",
        "    state = env.reset()\n",
        "    done = False\n",
        "    steps = 0\n",
        "    tot_reward = 0\n",
        "    while not env.done:\n",
        "        clear_output(wait=True)\n",
        "        plt.figure(figsize=(10, 10))\n",
        "        state_row_cols= seq_to_col_row(state, env.num_cols)\n",
        "        env.render(state_row_cols,ax=plt, render_agent=True)\n",
        "        plt.show()\n",
        "        steps += 1\n",
        "        state, reward = env.step(state,Q[state_row_cols[0][0],state_row_cols[0][1]].argmax())\n",
        "        tot_reward += reward\n",
        "        sleep(0.2)\n",
        "    print(\"Steps: %d, Total Reward: %d\"%(steps, tot_reward))\n",
        "\n",
        "\n",
        "def qlearning_s(env, Q, gamma = 1, plot_heat = False, choose_action = choose_action_softmax,epsilon0=0.1,alpha0=0.3,tau=0.2):\n",
        "  \n",
        "    episode_rewards = np.zeros(episodes)\n",
        "    steps_to_completion = np.zeros(episodes)\n",
        "    state_visit_counts = np.zeros((env.num_rows, env.num_cols))\n",
        "    if plot_heat:\n",
        "        clear_output(wait=True)\n",
        "        env.plot_Q(Q)\n",
        "    epsilon = epsilon0\n",
        "    alpha = alpha0\n",
        "    for ep in tqdm(range(episodes)):\n",
        "        tot_reward, steps = 0, 0\n",
        "\n",
        "        # Reset environment\n",
        "        state = env.reset()\n",
        "        action = choose_action(env,Q, state,tau)\n",
        "        done = False\n",
        "    \n",
        "        while not env.done:\n",
        "            state_next, reward = env.step(state,action)\n",
        "            state_next_rowcol=seq_to_col_row(state_next, env.num_cols)\n",
        "            state_rowcols=seq_to_col_row(state, env.num_cols)\n",
        "            \n",
        "            action_next = choose_action(env,Q, state_next,tau)\n",
        "\n",
        "\n",
        "            Q[state_rowcols[0][0],state_rowcols[0][1], action] = Q[state_rowcols[0][0],state_rowcols[0][1], action] + alpha * (reward + gamma * Q[state_next_rowcol[0][0],state_next_rowcol[0][1],np.argmax(Q[state_next_rowcol[0][0],state_next_rowcol[0][1]])] - Q[state_rowcols[0][0],state_rowcols[0][1], action])\n",
        "\n",
        "            tot_reward += reward\n",
        "            steps += 1\n",
        "            state_visit_counts[state_rowcols[0][0], state_rowcols[0][1]] += 1\n",
        "\n",
        "            state, action = state_next, action_next\n",
        "\n",
        "        episode_rewards[ep] = tot_reward\n",
        "        steps_to_completion[ep] = steps\n",
        "\n",
        "        if (ep+1)%print_freq == 0 and plot_heat:\n",
        "            clear_output(wait=True)\n",
        "            env.plot_Q(Q, message = \"Episode %d: Reward: %f, Steps: %.2f, Qmax: %.2f, Qmin: %.2f\"%(ep+1, np.mean(episode_rewards[ep-print_freq+1:ep]),\n",
        "                                                                           np.mean(steps_to_completion[ep-print_freq+1:ep]),\n",
        "                                                                           Q.max(), Q.min()))\n",
        "\n",
        "    return Q, episode_rewards, steps_to_completion,state_visit_counts\n",
        "\n",
        "\n",
        "\n",
        "\n"
      ]
    },
    {
      "cell_type": "code",
      "execution_count": null,
      "metadata": {},
      "outputs": [],
      "source": [
        "# sarsa with epsilon greedy \n",
        "\n",
        "def sarsa_e(env, Q, gamma = 0.9, plot_heat = False, choose_action = choose_action_epsilon,epsilon0=0.1,alpha0=0.3,tau=0.2):\n",
        "\n",
        "    episode_rewards = np.zeros(episodes)\n",
        "    steps_to_completion = np.zeros(episodes)\n",
        "    if plot_heat:\n",
        "        clear_output(wait=True)\n",
        "        env.plot_Q(Q)\n",
        "    epsilon = epsilon0\n",
        "    alpha = alpha0\n",
        "    state_visit_counts = np.zeros((env.num_rows, env.num_cols))\n",
        "    for ep in tqdm(range(episodes)):\n",
        "        tot_reward, steps = 0, 0\n",
        "\n",
        "        # Reset environment\n",
        "        state = env.reset()\n",
        "        action = choose_action(env,Q, state,epsilon)\n",
        "        done = False\n",
        "    \n",
        "        while not env.done:\n",
        "            state_next, reward = env.step(state,action)\n",
        "            state_next_rowcol=seq_to_col_row(state_next, env.num_cols)\n",
        "            state_rowcols=seq_to_col_row(state, env.num_cols)\n",
        "            \n",
        "            action_next = choose_action(env,Q, state_next,epsilon)\n",
        "\n",
        "\n",
        "            Q[state_rowcols[0][0],state_rowcols[0][1], action] = Q[state_rowcols[0][0],state_rowcols[0][1], action] + alpha * (reward + gamma * Q[state_next_rowcol[0][0],state_next_rowcol[0][1], action_next] - Q[state_rowcols[0][0],state_rowcols[0][1], action])\n",
        "\n",
        "            state_visit_counts[state_rowcols[0][0], state_rowcols[0][1]] += 1\n",
        "       \n",
        "\n",
        "            tot_reward += reward\n",
        "            steps += 1\n",
        "\n",
        "            state, action = state_next, action_next\n",
        "\n",
        "        episode_rewards[ep] = tot_reward\n",
        "        steps_to_completion[ep] = steps\n",
        "\n",
        "        if (ep+1)%print_freq == 0 and plot_heat:\n",
        "            clear_output(wait=True)\n",
        "            env.plot_Q(Q, message = \"Episode %d: Reward: %f, Steps: %.2f, Qmax: %.2f, Qmin: %.2f\"%(ep+1, np.mean(episode_rewards[ep-print_freq+1:ep]),\n",
        "                                                                           np.mean(steps_to_completion[ep-print_freq+1:ep]),\n",
        "                                                                           Q.max(), Q.min()))\n",
        "\n",
        "    return Q, episode_rewards, steps_to_completion,state_visit_counts\n",
        "    \n",
        "\n",
        "\n",
        "\n",
        "# Q-Learning with epsilon-greedy\n",
        "\n",
        "def qlearning_e(env, Q, gamma = 0.9, plot_heat = False, choose_action = choose_action_epsilon,epsilon0=0.1,alpha0=0.3,tau=0.2):\n",
        "\n",
        "    episode_rewards = np.zeros(episodes)\n",
        "    steps_to_completion = np.zeros(episodes)\n",
        "    state_visit_counts = np.zeros((env.num_rows, env.num_cols))\n",
        "    if plot_heat:\n",
        "        clear_output(wait=True)\n",
        "        env.plot_Q(Q)\n",
        "    epsilon = epsilon0\n",
        "    alpha = alpha0\n",
        "    for ep in tqdm(range(episodes)):\n",
        "        tot_reward, steps = 0, 0\n",
        "\n",
        "        # Reset environment\n",
        "        state = env.reset()\n",
        "        action = choose_action(env,Q, state,epsilon)\n",
        "        done = False\n",
        "    \n",
        "        while not env.done:\n",
        "            state_next, reward = env.step(state,action)\n",
        "            state_next_rowcol=seq_to_col_row(state_next, env.num_cols)\n",
        "            state_rowcols=seq_to_col_row(state, env.num_cols)\n",
        "            \n",
        "            action_next = choose_action(env,Q, state_next,epsilon)\n",
        "\n",
        "\n",
        "            Q[state_rowcols[0][0],state_rowcols[0][1], action] = Q[state_rowcols[0][0],state_rowcols[0][1], action] + alpha * (reward + gamma * Q[state_next_rowcol[0][0],state_next_rowcol[0][1],np.argmax(Q[state_next_rowcol[0][0],state_next_rowcol[0][1]])] - Q[state_rowcols[0][0],state_rowcols[0][1], action])\n",
        "\n",
        "            tot_reward += reward\n",
        "            steps += 1\n",
        "            state_visit_counts[state_rowcols[0][0], state_rowcols[0][1]] += 1\n",
        "\n",
        "            state, action = state_next, action_next\n",
        "\n",
        "        episode_rewards[ep] = tot_reward\n",
        "        steps_to_completion[ep] = steps\n",
        "\n",
        "        if (ep+1)%print_freq == 0 and plot_heat:\n",
        "            clear_output(wait=True)\n",
        "            env.plot_Q(Q, message = \"Episode %d: Reward: %f, Steps: %.2f, Qmax: %.2f, Qmin: %.2f\"%(ep+1, np.mean(episode_rewards[ep-print_freq+1:ep]),\n",
        "                                                                           np.mean(steps_to_completion[ep-print_freq+1:ep]),\n",
        "                                                                           Q.max(), Q.min()))\n",
        "            \n",
        "    return Q, episode_rewards, steps_to_completion,state_visit_counts\n",
        "\n"
      ]
    },
    {
      "cell_type": "code",
      "execution_count": null,
      "metadata": {},
      "outputs": [],
      "source": [
        "def plot_all(func,env):\n",
        "    env=env\n",
        "    num_expts = 5\n",
        "    reward_avgs, steps_avgs = [], []\n",
        "    rewards_all,steps_all=[],[]\n",
        "    mean_rewd=[]\n",
        "    Q_all= np.zeros((env.num_rows, env.num_cols, env.num_actions))\n",
        "    state_visits_all= np.zeros((env.num_rows, env.num_cols))\n",
        "    for i in range(num_expts):\n",
        "        print(\"Experiment: %d\"%(i+1))\n",
        "        Q = np.zeros((env.num_rows, env.num_cols, env.num_actions))\n",
        "        rg = np.random.RandomState(i)\n",
        "        Q, rewards, steps,state_visits = func(env, Q, gamma = gamma, plot_heat=False, choose_action= choose_action_softmax,epsilon0=epsilon0,alpha0=alpha0,tau=tau)\n",
        "        rewards_all.append(rewards)\n",
        "        mean_rewd.append(np.mean(rewards))\n",
        "        steps_all.append(steps)\n",
        "        Q_all=Q_all+Q\n",
        "        state_visits_all+=state_visits\n",
        "\n",
        "    Q_avg=Q_all/num_expts\n",
        "    state_visits_avg=state_visits_all/num_expts\n",
        "    reward_avgs.append(np.mean(rewards_all,axis=0))\n",
        "    steps_avgs.append(np.mean(steps_all,axis=0))\n",
        "    mean_steps=np.mean(steps_all)\n",
        "    mean_rewards=np.mean(mean_rewd)\n",
        "\n",
        "    env.plot_Q(Q_avg)\n",
        "\n",
        "    episodes_no=np.arange(episodes)\n",
        "    reward_stds = np.std(rewards_all, axis=0)\n",
        "    steps_stds = np.std(steps_all, axis=0)\n",
        "\n",
        "    fig, axes = plt.subplots(1, 3, figsize=(15, 5))\n",
        "\n",
        "# Plot Mean Steps\n",
        "    axes[0].errorbar(episodes_no, steps_avgs[0], yerr=steps_stds, label='Mean Steps', fmt='-o', ecolor='skyblue')\n",
        "    axes[0].set_xlabel('Episode')\n",
        "    axes[0].set_ylabel('Number of steps to Goal')\n",
        "    axes[0].set_title('Mean Steps')\n",
        "\n",
        "    # Plot Mean Reward\n",
        "    axes[1].errorbar(episodes_no, reward_avgs[0], yerr=reward_stds, label='Mean Reward', fmt='-o', ecolor='skyblue')\n",
        "    axes[1].set_xlabel('Episode')\n",
        "    axes[1].set_ylabel('Total Reward')\n",
        "    axes[1].set_title('Mean Reward')\n",
        "\n",
        "    # Plot State Visit Counts Heatmap\n",
        "    heatmap = axes[2].imshow(state_visits_avg, cmap='Blues', interpolation='nearest', origin='lower')\n",
        "    axes[2].set_title('State Visit Counts Heatmap')\n",
        "    axes[2].set_xlabel('Column Index')\n",
        "    axes[2].set_ylabel('Row Index')\n",
        "    axes[2].grid(True, linestyle='--', alpha=0.5, color='black') \n",
        "    fig.colorbar(heatmap, ax=axes[2], label='Visit Counts')\n",
        "\n",
        "    # Adjust layout to prevent clipping of titles\n",
        "    plt.tight_layout()\n",
        "\n",
        "    # Show the plots\n",
        "    plt.show()\n",
        "\n",
        "    print('Average reward across all the runs = ',mean_rewards)\n",
        "    print('Average steps across all the runs = ',mean_steps)"
      ]
    },
    {
      "cell_type": "code",
      "execution_count": null,
      "metadata": {},
      "outputs": [],
      "source": [
        "def opt_all(func,env,individual,e_s):\n",
        "    env=env\n",
        "    num_expts = 1\n",
        "    epsilon = 0\n",
        "    tau = 0\n",
        "    if e_s == 0:\n",
        "        alpha, gamma, epsilon = individual['alpha'], individual['gamma'], individual['epsilon_tau']\n",
        "    else:\n",
        "        alpha, gamma, tau = individual['alpha'], individual['gamma'], individual['epsilon_tau']\n",
        "    reward_avgs, steps_avgs = [], []\n",
        "    rewards_all,steps_all=[],[]\n",
        "    mean_rewd=[]\n",
        "    #print(alpha,gamma,epsilon,tau)\n",
        "    Q_all= np.zeros((env.num_rows, env.num_cols, env.num_actions))\n",
        "    state_visits_all= np.zeros((env.num_rows, env.num_cols))\n",
        "    for i in range(num_expts):\n",
        "        print(\"Experiment: %d\"%(i+1))\n",
        "        Q = np.zeros((env.num_rows, env.num_cols, env.num_actions))\n",
        "        rg = np.random.RandomState(i)\n",
        "        Q, rewards, steps,state_visits = func(env, Q, gamma = gamma, plot_heat=False, choose_action= choose_action_softmax,epsilon0=epsilon,alpha0=alpha,tau=tau)\n",
        "        rewards_all.append(rewards)\n",
        "        mean_rewd.append(np.mean(rewards))\n",
        "        steps_all.append(steps)\n",
        "        Q_all=Q_all+Q\n",
        "        state_visits_all+=state_visits\n",
        "\n",
        "    Q_avg=Q_all/num_expts\n",
        "    state_visits_avg=state_visits_all/num_expts\n",
        "    reward_avgs.append(np.mean(rewards_all,axis=0))\n",
        "    steps_avgs.append(np.mean(steps_all,axis=0))\n",
        "    mean_steps=np.mean(steps_all)\n",
        "    print(mean_steps)\n",
        "    mean_rewards=np.mean(mean_rewd)\n",
        "    return mean_rewards,mean_steps"
      ]
    },
    {
      "cell_type": "code",
      "execution_count": null,
      "metadata": {},
      "outputs": [],
      "source": [
        "env1= generate_world(False,1,[0,4])\n",
        "env2= generate_world(False,1,[3,6])\n",
        "env3= generate_world(False,0.7,[0,4])\n",
        "env4= generate_world(False,0.7,[3,6])\n",
        "env5= generate_world(True,1,[0,4])\n",
        "env6= generate_world(True,1,[3,6])"
      ]
    },
    {
      "cell_type": "code",
      "execution_count": null,
      "metadata": {},
      "outputs": [],
      "source": [
        "\n",
        "def initialize_population(population_size,e_s):\n",
        "    population = []\n",
        "    for _ in range(population_size):\n",
        "        if e_s:\n",
        "            individual = {\n",
        "                'alpha': np.random.uniform(0.1, 1.0),\n",
        "                'gamma': np.random.uniform(0.8, 1.0),\n",
        "                'epsilon_tau': np.random.uniform(0.3, 1), # tau for e_s=1\n",
        "                # 'tau': np.random.uniform(0.5,0.8)\n",
        "            }\n",
        "            population.append(individual)\n",
        "        else:\n",
        "            individual = {\n",
        "                'alpha': np.random.uniform(0.1, 0.7),\n",
        "                'gamma': np.random.uniform(0.65, 1.0),\n",
        "                'epsilon_tau': np.random.uniform(0.05,0.3)\n",
        "            }\n",
        "            population.append(individual)\n",
        "    return population\n",
        "\n",
        "def evaluate_individual(individual, env, func,e_s):\n",
        "    alpha, gamma, epsilon_tau = individual['alpha'], individual['gamma'], individual['epsilon_tau']\n",
        "    #print(alpha,gamma, epsilon, tau)\n",
        "    mean_rewards_ok, mean_steps_ok = opt_all(func, env,individual,e_s)\n",
        "    return mean_rewards_ok, mean_steps_ok\n",
        "\n",
        "def combined_score(individual, rewards_weight=0.5, steps_weight=0.5):\n",
        "    return rewards_weight * individual['mean_rewards'] + steps_weight * (-individual['mean_steps'] + 10)\n",
        "\n",
        "\n",
        "\n",
        "def select_parents(population, num_parents):\n",
        "    # Select top individuals based on their fitness\n",
        "    # sorted_population = sorted(population, key=lambda x: (x['mean_rewards'], -x['mean_steps']), reverse=True)\n",
        "    sorted_population = sorted(population, key=lambda x: combined_score(x), reverse=True)\n",
        "    print(sorted_population[:num_parents])\n",
        "    return sorted_population[:num_parents]\n",
        "\n",
        "def crossover(parent1, parent2):\n",
        "    # Perform crossover to create a new individual\n",
        "    crossover_point = np.random.choice(list(parent1.keys()))\n",
        "    child = {key: parent1[key] if np.random.rand() < 0.5 else parent2[key] for key in parent1.keys()}\n",
        "    return child\n",
        "\n",
        "def mutate(individual, mutation_rate=0.2,e_s=0):\n",
        "    # Perform mutation on an individual\n",
        "    for key in individual.keys():\n",
        "        if np.random.rand() < mutation_rate:\n",
        "            if key == 'epsilon_tau' and e_s == 1:\n",
        "                individual[key] = np.random.uniform(0.5,1.0)\n",
        "            elif key == 'alpha':\n",
        "                individual[key] = np.random.uniform(0.6,1.0)\n",
        "            elif key=='gamma':\n",
        "                individual[key] = np.random.uniform(0.7,1.0)\n",
        "\n",
        "            else:\n",
        "                individual[key] = np.random.uniform(0.001, 0.25)\n",
        "    return individual\n",
        "\n",
        "def genetic_algorithm(env, func, population_size=15, num_generations=7, num_parents=5,e_s = 0):\n",
        "    # Initialize population\n",
        "    #if e_s = 1, then it is softmax, e_s = 0 then it is epsilon greedy\n",
        "    population = initialize_population(population_size,e_s)\n",
        "    all_parents = []\n",
        "    # Evolution loop\n",
        "    for generation in range(num_generations):\n",
        "        print(f\"\\nGeneration {generation + 1}\")\n",
        "        for individual in population:\n",
        "            # Evaluate fitness of each individual\n",
        "            mean_rewards_yes, mean_steps_yes = evaluate_individual(individual, env, func,e_s)\n",
        "            individual['mean_rewards'] = mean_rewards_yes\n",
        "\n",
        "            individual['mean_steps'] = mean_steps_yes\n",
        "\n",
        "        # Select parents\n",
        "        parents = select_parents(population, num_parents)\n",
        "        all_parents += parents\n",
        "        best_individual = parents[0]\n",
        "        best_hyperparameters = {key: best_individual[key] for key in ['alpha', 'gamma', 'epsilon_tau']}\n",
        "        best_mean_rewards, best_mean_steps = best_individual['mean_rewards'], best_individual['mean_steps']\n",
        "      \n",
        "        print(best_individual)\n",
        "        \n",
        "        print(f\"\\nBest Hyperparameters: {best_hyperparameters}\")\n",
        "        print(f\"Best Mean Rewards: {best_mean_rewards}\")\n",
        "        print(f\"Best Mean Steps: {best_mean_steps}\")\n",
        "\n",
        "        # Create next generation\n",
        "        new_population = parents.copy()\n",
        "        while len(new_population) < population_size:\n",
        "            parent1, parent2 = np.random.choice(parents, size=2, replace=False)\n",
        "            child = crossover(parent1, parent2)\n",
        "            child = mutate(child,e_s=e_s)\n",
        "            new_population.append(child)\n",
        "\n",
        "        # Update population for the next generation\n",
        "        population = new_population\n",
        "    \n",
        "\n",
        "    return best_hyperparameters, best_mean_rewards, best_mean_steps, all_parents\n"
      ]
    },
    {
      "cell_type": "code",
      "execution_count": null,
      "metadata": {},
      "outputs": [],
      "source": [
        "def plot_training(all_parents):\n",
        "\n",
        "  x = np.array([individual['alpha'] for individual in all_parents])\n",
        "  y = np.array([individual['gamma'] for individual in all_parents])\n",
        "  z = np.array([individual['mean_rewards'] for individual in all_parents])\n",
        "  w = np.array([individual['mean_steps'] for individual in all_parents])\n",
        "\n",
        "  fig = plt.figure(figsize=(10,10))\n",
        "  ax = fig.add_subplot(221)\n",
        "  ax.set_xlabel('Alpha')\n",
        "  ax.set_ylabel('mean_rewards')\n",
        "  ax.scatter(x, z)  # You can customize the line style here if needed\n",
        "  ax2 = fig.add_subplot(222)\n",
        "  ax2.scatter(x,w)\n",
        "  ax2.set_xlabel('Alpha')\n",
        "  ax2.set_ylabel('mean_steps')\n",
        "  ax3 = fig.add_subplot(223)\n",
        "  ax3.set_xlabel('gamma')\n",
        "  ax3.set_ylabel('mean_rewards')\n",
        "  ax3.scatter(y, z, marker='o')  \n",
        "  ax4 = fig.add_subplot(224)\n",
        "  ax4.scatter(y,w,marker='o')\n",
        "  ax4.set_xlabel('gamma')\n",
        "  ax4.set_ylabel('mean_rewards')\n",
        "  plt.show()\n",
        "\n",
        "def write_results_to_file(file_path, algorithm_results, algorithm_name):\n",
        "    with open(file_path, 'a') as file:\n",
        "        file.write(f\"{algorithm_name} Results:\\n\")\n",
        "        file.write(\"Best Hyperparameters:\\n\")\n",
        "        file.write(str(algorithm_results[0]) + '\\n')\n",
        "        file.write(f\"Best Mean Rewards: {algorithm_results[1]}\\n\")\n",
        "        file.write(f\"Best Mean Steps: {algorithm_results[2]}\\n\\n\")\n",
        "\n",
        "file_path = \"results1.txt\""
      ]
    },
    {
      "cell_type": "code",
      "execution_count": null,
      "metadata": {},
      "outputs": [],
      "source": [
        "episodes=5000"
      ]
    },
    {
      "cell_type": "code",
      "execution_count": null,
      "metadata": {},
      "outputs": [],
      "source": [
        "best_hyperparameters, best_mean_rewards, best_mean_steps, b1 = genetic_algorithm(env6, sarsa_s, e_s=1)\n",
        "write_results_to_file(file_path, (best_hyperparameters, best_mean_rewards, best_mean_steps), \"SARSA_Softmax_e6\")\n"
      ]
    },
    {
      "cell_type": "code",
      "execution_count": null,
      "metadata": {},
      "outputs": [],
      "source": [
        "\n",
        "best_hyperparameters, best_mean_rewards, best_mean_steps, b2 = genetic_algorithm(env6, qlearning_s, e_s=1)\n",
        "write_results_to_file(file_path, (best_hyperparameters, best_mean_rewards, best_mean_steps), \"Q-Learning_Softmax_e6\")\n"
      ]
    },
    {
      "cell_type": "code",
      "execution_count": null,
      "metadata": {},
      "outputs": [],
      "source": [
        "\n",
        "best_hyperparameters, best_mean_rewards, best_mean_steps, b3 = genetic_algorithm(env6, sarsa_e, e_s=0)\n",
        "write_results_to_file(file_path, (best_hyperparameters, best_mean_rewards, best_mean_steps), \"SARSA_EpsilonGreedy_e6\")\n"
      ]
    },
    {
      "cell_type": "code",
      "execution_count": null,
      "metadata": {},
      "outputs": [],
      "source": [
        "\n",
        "best_hyperparameters, best_mean_rewards, best_mean_steps, b4 = genetic_algorithm(env6, qlearning_e, e_s=0)\n",
        "write_results_to_file(file_path, (best_hyperparameters, best_mean_rewards, best_mean_steps), \"Q-Learning_EpsilonGreedy_e6\")"
      ]
    },
    {
      "cell_type": "code",
      "execution_count": 44,
      "metadata": {},
      "outputs": [
        {
          "name": "stdout",
          "output_type": "stream",
          "text": [
            "\n",
            "Generation 1\n",
            "Experiment: 1\n"
          ]
        },
        {
          "name": "stderr",
          "output_type": "stream",
          "text": [
            "100%|██████████| 5000/5000 [00:14<00:00, 334.01it/s]\n"
          ]
        },
        {
          "name": "stdout",
          "output_type": "stream",
          "text": [
            "23.8406\n",
            "Experiment: 1\n"
          ]
        },
        {
          "name": "stderr",
          "output_type": "stream",
          "text": [
            "100%|██████████| 5000/5000 [00:27<00:00, 181.40it/s]\n"
          ]
        },
        {
          "name": "stdout",
          "output_type": "stream",
          "text": [
            "34.5438\n",
            "Experiment: 1\n"
          ]
        },
        {
          "name": "stderr",
          "output_type": "stream",
          "text": [
            "100%|██████████| 5000/5000 [00:14<00:00, 342.53it/s]\n"
          ]
        },
        {
          "name": "stdout",
          "output_type": "stream",
          "text": [
            "16.8064\n",
            "Experiment: 1\n"
          ]
        },
        {
          "name": "stderr",
          "output_type": "stream",
          "text": [
            "100%|██████████| 5000/5000 [00:19<00:00, 250.91it/s]\n"
          ]
        },
        {
          "name": "stdout",
          "output_type": "stream",
          "text": [
            "23.8284\n",
            "Experiment: 1\n"
          ]
        },
        {
          "name": "stderr",
          "output_type": "stream",
          "text": [
            "100%|██████████| 5000/5000 [00:20<00:00, 242.32it/s]\n"
          ]
        },
        {
          "name": "stdout",
          "output_type": "stream",
          "text": [
            "23.9996\n",
            "Experiment: 1\n"
          ]
        },
        {
          "name": "stderr",
          "output_type": "stream",
          "text": [
            "100%|██████████| 5000/5000 [00:46<00:00, 106.76it/s]\n"
          ]
        },
        {
          "name": "stdout",
          "output_type": "stream",
          "text": [
            "65.0936\n",
            "Experiment: 1\n"
          ]
        },
        {
          "name": "stderr",
          "output_type": "stream",
          "text": [
            "100%|██████████| 5000/5000 [00:16<00:00, 306.66it/s]\n"
          ]
        },
        {
          "name": "stdout",
          "output_type": "stream",
          "text": [
            "18.3054\n",
            "Experiment: 1\n"
          ]
        },
        {
          "name": "stderr",
          "output_type": "stream",
          "text": [
            "100%|██████████| 5000/5000 [00:36<00:00, 135.18it/s]\n"
          ]
        },
        {
          "name": "stdout",
          "output_type": "stream",
          "text": [
            "63.4234\n",
            "Experiment: 1\n"
          ]
        },
        {
          "name": "stderr",
          "output_type": "stream",
          "text": [
            "100%|██████████| 5000/5000 [00:08<00:00, 567.00it/s]\n"
          ]
        },
        {
          "name": "stdout",
          "output_type": "stream",
          "text": [
            "13.3654\n",
            "Experiment: 1\n"
          ]
        },
        {
          "name": "stderr",
          "output_type": "stream",
          "text": [
            "100%|██████████| 5000/5000 [00:11<00:00, 422.42it/s]\n"
          ]
        },
        {
          "name": "stdout",
          "output_type": "stream",
          "text": [
            "18.6892\n",
            "Experiment: 1\n"
          ]
        },
        {
          "name": "stderr",
          "output_type": "stream",
          "text": [
            "100%|██████████| 5000/5000 [00:10<00:00, 491.04it/s]\n"
          ]
        },
        {
          "name": "stdout",
          "output_type": "stream",
          "text": [
            "17.6428\n",
            "Experiment: 1\n"
          ]
        },
        {
          "name": "stderr",
          "output_type": "stream",
          "text": [
            "100%|██████████| 5000/5000 [00:10<00:00, 484.30it/s]\n"
          ]
        },
        {
          "name": "stdout",
          "output_type": "stream",
          "text": [
            "17.558\n",
            "Experiment: 1\n"
          ]
        },
        {
          "name": "stderr",
          "output_type": "stream",
          "text": [
            "100%|██████████| 5000/5000 [00:07<00:00, 698.14it/s]\n"
          ]
        },
        {
          "name": "stdout",
          "output_type": "stream",
          "text": [
            "13.6754\n",
            "Experiment: 1\n"
          ]
        },
        {
          "name": "stderr",
          "output_type": "stream",
          "text": [
            "100%|██████████| 5000/5000 [00:10<00:00, 476.56it/s]\n"
          ]
        },
        {
          "name": "stdout",
          "output_type": "stream",
          "text": [
            "17.8908\n",
            "Experiment: 1\n"
          ]
        },
        {
          "name": "stderr",
          "output_type": "stream",
          "text": [
            "100%|██████████| 5000/5000 [00:22<00:00, 225.55it/s]\n"
          ]
        },
        {
          "name": "stdout",
          "output_type": "stream",
          "text": [
            "44.7336\n",
            "[{'alpha': 0.21118892678947387, 'gamma': 0.9560684856480347, 'epsilon_tau': 0.46052088325714535, 'mean_rewards': -7.4992, 'mean_steps': 13.3654}, {'alpha': 0.8097257517999055, 'gamma': 0.9864573742737344, 'epsilon_tau': 0.8712414010884755, 'mean_rewards': -7.8076, 'mean_steps': 13.6754}, {'alpha': 0.5629363776940347, 'gamma': 0.9580374776381149, 'epsilon_tau': 0.5341376332774557, 'mean_rewards': -6.7526, 'mean_steps': 17.558}, {'alpha': 0.8446229392384752, 'gamma': 0.9537376871328095, 'epsilon_tau': 0.7962750687814556, 'mean_rewards': -7.6894, 'mean_steps': 16.8064}, {'alpha': 0.6519674777937787, 'gamma': 0.9771660263241517, 'epsilon_tau': 0.6572862658264153, 'mean_rewards': -7.1774, 'mean_steps': 17.6428}]\n",
            "{'alpha': 0.21118892678947387, 'gamma': 0.9560684856480347, 'epsilon_tau': 0.46052088325714535, 'mean_rewards': -7.4992, 'mean_steps': 13.3654}\n",
            "\n",
            "Best Hyperparameters: {'alpha': 0.21118892678947387, 'gamma': 0.9560684856480347, 'epsilon_tau': 0.46052088325714535}\n",
            "Best Mean Rewards: -7.4992\n",
            "Best Mean Steps: 13.3654\n",
            "\n",
            "Generation 2\n",
            "Experiment: 1\n"
          ]
        },
        {
          "name": "stderr",
          "output_type": "stream",
          "text": [
            "100%|██████████| 5000/5000 [00:06<00:00, 746.59it/s]\n"
          ]
        },
        {
          "name": "stdout",
          "output_type": "stream",
          "text": [
            "13.442\n",
            "Experiment: 1\n"
          ]
        },
        {
          "name": "stderr",
          "output_type": "stream",
          "text": [
            "100%|██████████| 5000/5000 [00:06<00:00, 795.71it/s]\n"
          ]
        },
        {
          "name": "stdout",
          "output_type": "stream",
          "text": [
            "12.6494\n",
            "Experiment: 1\n"
          ]
        },
        {
          "name": "stderr",
          "output_type": "stream",
          "text": [
            "100%|██████████| 5000/5000 [00:08<00:00, 565.28it/s]\n"
          ]
        },
        {
          "name": "stdout",
          "output_type": "stream",
          "text": [
            "15.0494\n",
            "Experiment: 1\n"
          ]
        },
        {
          "name": "stderr",
          "output_type": "stream",
          "text": [
            "100%|██████████| 5000/5000 [00:09<00:00, 507.15it/s]\n"
          ]
        },
        {
          "name": "stdout",
          "output_type": "stream",
          "text": [
            "16.5838\n",
            "Experiment: 1\n"
          ]
        },
        {
          "name": "stderr",
          "output_type": "stream",
          "text": [
            "100%|██████████| 5000/5000 [00:07<00:00, 642.78it/s]\n"
          ]
        },
        {
          "name": "stdout",
          "output_type": "stream",
          "text": [
            "13.9224\n",
            "Experiment: 1\n"
          ]
        },
        {
          "name": "stderr",
          "output_type": "stream",
          "text": [
            "100%|██████████| 5000/5000 [00:09<00:00, 548.38it/s]\n"
          ]
        },
        {
          "name": "stdout",
          "output_type": "stream",
          "text": [
            "17.4838\n",
            "Experiment: 1\n"
          ]
        },
        {
          "name": "stderr",
          "output_type": "stream",
          "text": [
            "100%|██████████| 5000/5000 [00:07<00:00, 627.74it/s]\n"
          ]
        },
        {
          "name": "stdout",
          "output_type": "stream",
          "text": [
            "14.86\n",
            "Experiment: 1\n"
          ]
        },
        {
          "name": "stderr",
          "output_type": "stream",
          "text": [
            "100%|██████████| 5000/5000 [00:06<00:00, 742.29it/s]\n"
          ]
        },
        {
          "name": "stdout",
          "output_type": "stream",
          "text": [
            "13.3726\n",
            "Experiment: 1\n"
          ]
        },
        {
          "name": "stderr",
          "output_type": "stream",
          "text": [
            "100%|██████████| 5000/5000 [00:34<00:00, 146.09it/s]\n"
          ]
        },
        {
          "name": "stdout",
          "output_type": "stream",
          "text": [
            "74.1502\n",
            "Experiment: 1\n"
          ]
        },
        {
          "name": "stderr",
          "output_type": "stream",
          "text": [
            "100%|██████████| 5000/5000 [00:07<00:00, 705.29it/s]\n"
          ]
        },
        {
          "name": "stdout",
          "output_type": "stream",
          "text": [
            "13.609\n",
            "Experiment: 1\n"
          ]
        },
        {
          "name": "stderr",
          "output_type": "stream",
          "text": [
            "100%|██████████| 5000/5000 [00:17<00:00, 280.59it/s]\n"
          ]
        },
        {
          "name": "stdout",
          "output_type": "stream",
          "text": [
            "30.3846\n",
            "Experiment: 1\n"
          ]
        },
        {
          "name": "stderr",
          "output_type": "stream",
          "text": [
            "100%|██████████| 5000/5000 [00:10<00:00, 465.63it/s]\n"
          ]
        },
        {
          "name": "stdout",
          "output_type": "stream",
          "text": [
            "12.7848\n",
            "Experiment: 1\n"
          ]
        },
        {
          "name": "stderr",
          "output_type": "stream",
          "text": [
            "100%|██████████| 5000/5000 [00:42<00:00, 118.24it/s]\n"
          ]
        },
        {
          "name": "stdout",
          "output_type": "stream",
          "text": [
            "75.609\n",
            "Experiment: 1\n"
          ]
        },
        {
          "name": "stderr",
          "output_type": "stream",
          "text": [
            "100%|██████████| 5000/5000 [00:11<00:00, 445.93it/s]\n"
          ]
        },
        {
          "name": "stdout",
          "output_type": "stream",
          "text": [
            "17.4688\n",
            "Experiment: 1\n"
          ]
        },
        {
          "name": "stderr",
          "output_type": "stream",
          "text": [
            "100%|██████████| 5000/5000 [00:08<00:00, 583.53it/s]\n"
          ]
        },
        {
          "name": "stdout",
          "output_type": "stream",
          "text": [
            "13.0242\n",
            "[{'alpha': 0.8097257517999055, 'gamma': 0.9864573742737344, 'epsilon_tau': 0.8712414010884755, 'mean_rewards': -6.7966, 'mean_steps': 12.6494}, {'alpha': 0.5629363776940347, 'gamma': 0.9560684856480347, 'epsilon_tau': 0.5341376332774557, 'mean_rewards': -6.9046, 'mean_steps': 12.7848}, {'alpha': 0.8486594788410023, 'gamma': 0.9537376871328095, 'epsilon_tau': 0.7962750687814556, 'mean_rewards': -7.1608, 'mean_steps': 13.0242}, {'alpha': 0.21118892678947387, 'gamma': 0.9560684856480347, 'epsilon_tau': 0.5341376332774557, 'mean_rewards': -7.5156, 'mean_steps': 13.3726}, {'alpha': 0.21118892678947387, 'gamma': 0.9560684856480347, 'epsilon_tau': 0.46052088325714535, 'mean_rewards': -7.5688, 'mean_steps': 13.442}]\n",
            "{'alpha': 0.8097257517999055, 'gamma': 0.9864573742737344, 'epsilon_tau': 0.8712414010884755, 'mean_rewards': -6.7966, 'mean_steps': 12.6494}\n",
            "\n",
            "Best Hyperparameters: {'alpha': 0.8097257517999055, 'gamma': 0.9864573742737344, 'epsilon_tau': 0.8712414010884755}\n",
            "Best Mean Rewards: -6.7966\n",
            "Best Mean Steps: 12.6494\n",
            "\n",
            "Generation 3\n",
            "Experiment: 1\n"
          ]
        },
        {
          "name": "stderr",
          "output_type": "stream",
          "text": [
            "100%|██████████| 5000/5000 [00:10<00:00, 487.38it/s]\n"
          ]
        },
        {
          "name": "stdout",
          "output_type": "stream",
          "text": [
            "14.0066\n",
            "Experiment: 1\n"
          ]
        },
        {
          "name": "stderr",
          "output_type": "stream",
          "text": [
            "100%|██████████| 5000/5000 [00:12<00:00, 397.57it/s]\n"
          ]
        },
        {
          "name": "stdout",
          "output_type": "stream",
          "text": [
            "17.7486\n",
            "Experiment: 1\n"
          ]
        },
        {
          "name": "stderr",
          "output_type": "stream",
          "text": [
            "100%|██████████| 5000/5000 [00:12<00:00, 386.55it/s]\n"
          ]
        },
        {
          "name": "stdout",
          "output_type": "stream",
          "text": [
            "18.2398\n",
            "Experiment: 1\n"
          ]
        },
        {
          "name": "stderr",
          "output_type": "stream",
          "text": [
            "100%|██████████| 5000/5000 [00:07<00:00, 630.28it/s]\n"
          ]
        },
        {
          "name": "stdout",
          "output_type": "stream",
          "text": [
            "13.4438\n",
            "Experiment: 1\n"
          ]
        },
        {
          "name": "stderr",
          "output_type": "stream",
          "text": [
            "100%|██████████| 5000/5000 [00:07<00:00, 702.70it/s]\n"
          ]
        },
        {
          "name": "stdout",
          "output_type": "stream",
          "text": [
            "13.491\n",
            "Experiment: 1\n"
          ]
        },
        {
          "name": "stderr",
          "output_type": "stream",
          "text": [
            "100%|██████████| 5000/5000 [00:10<00:00, 496.56it/s]\n"
          ]
        },
        {
          "name": "stdout",
          "output_type": "stream",
          "text": [
            "17.5326\n",
            "Experiment: 1\n"
          ]
        },
        {
          "name": "stderr",
          "output_type": "stream",
          "text": [
            "100%|██████████| 5000/5000 [00:08<00:00, 618.70it/s]\n"
          ]
        },
        {
          "name": "stdout",
          "output_type": "stream",
          "text": [
            "13.5388\n",
            "Experiment: 1\n"
          ]
        },
        {
          "name": "stderr",
          "output_type": "stream",
          "text": [
            "100%|██████████| 5000/5000 [00:45<00:00, 109.46it/s]\n"
          ]
        },
        {
          "name": "stdout",
          "output_type": "stream",
          "text": [
            "84.124\n",
            "Experiment: 1\n"
          ]
        },
        {
          "name": "stderr",
          "output_type": "stream",
          "text": [
            "100%|██████████| 5000/5000 [00:12<00:00, 399.17it/s]\n"
          ]
        },
        {
          "name": "stdout",
          "output_type": "stream",
          "text": [
            "19.4796\n",
            "Experiment: 1\n"
          ]
        },
        {
          "name": "stderr",
          "output_type": "stream",
          "text": [
            "100%|██████████| 5000/5000 [00:08<00:00, 594.74it/s]\n"
          ]
        },
        {
          "name": "stdout",
          "output_type": "stream",
          "text": [
            "14.749\n",
            "Experiment: 1\n"
          ]
        },
        {
          "name": "stderr",
          "output_type": "stream",
          "text": [
            "100%|██████████| 5000/5000 [00:11<00:00, 453.59it/s]\n"
          ]
        },
        {
          "name": "stdout",
          "output_type": "stream",
          "text": [
            "17.4844\n",
            "Experiment: 1\n"
          ]
        },
        {
          "name": "stderr",
          "output_type": "stream",
          "text": [
            "100%|██████████| 5000/5000 [00:10<00:00, 465.16it/s]\n"
          ]
        },
        {
          "name": "stdout",
          "output_type": "stream",
          "text": [
            "13.292\n",
            "Experiment: 1\n"
          ]
        },
        {
          "name": "stderr",
          "output_type": "stream",
          "text": [
            "100%|██████████| 5000/5000 [00:13<00:00, 357.26it/s]\n"
          ]
        },
        {
          "name": "stdout",
          "output_type": "stream",
          "text": [
            "16.1266\n",
            "Experiment: 1\n"
          ]
        },
        {
          "name": "stderr",
          "output_type": "stream",
          "text": [
            "100%|██████████| 5000/5000 [00:13<00:00, 381.62it/s]\n"
          ]
        },
        {
          "name": "stdout",
          "output_type": "stream",
          "text": [
            "18.591\n",
            "Experiment: 1\n"
          ]
        },
        {
          "name": "stderr",
          "output_type": "stream",
          "text": [
            "100%|██████████| 5000/5000 [00:09<00:00, 514.40it/s]\n"
          ]
        },
        {
          "name": "stdout",
          "output_type": "stream",
          "text": [
            "13.7418\n",
            "[{'alpha': 0.21118892678947387, 'gamma': 0.9864573742737344, 'epsilon_tau': 0.46052088325714535, 'mean_rewards': -7.4234, 'mean_steps': 13.292}, {'alpha': 0.782941585339836, 'gamma': 0.9537376871328095, 'epsilon_tau': 0.7962750687814556, 'mean_rewards': -7.2032, 'mean_steps': 13.7418}, {'alpha': 0.21118892678947387, 'gamma': 0.9560684856480347, 'epsilon_tau': 0.5341376332774557, 'mean_rewards': -7.6016, 'mean_steps': 13.4438}, {'alpha': 0.21118892678947387, 'gamma': 0.9560684856480347, 'epsilon_tau': 0.46052088325714535, 'mean_rewards': -7.5972, 'mean_steps': 13.491}, {'alpha': 0.7450908937963279, 'gamma': 0.9560684856480347, 'epsilon_tau': 0.640913737531544, 'mean_rewards': -7.6692, 'mean_steps': 13.5388}]\n",
            "{'alpha': 0.21118892678947387, 'gamma': 0.9864573742737344, 'epsilon_tau': 0.46052088325714535, 'mean_rewards': -7.4234, 'mean_steps': 13.292}\n",
            "\n",
            "Best Hyperparameters: {'alpha': 0.21118892678947387, 'gamma': 0.9864573742737344, 'epsilon_tau': 0.46052088325714535}\n",
            "Best Mean Rewards: -7.4234\n",
            "Best Mean Steps: 13.292\n",
            "\n",
            "Generation 4\n",
            "Experiment: 1\n"
          ]
        },
        {
          "name": "stderr",
          "output_type": "stream",
          "text": [
            "100%|██████████| 5000/5000 [00:08<00:00, 592.60it/s]\n"
          ]
        },
        {
          "name": "stdout",
          "output_type": "stream",
          "text": [
            "13.2844\n",
            "Experiment: 1\n"
          ]
        },
        {
          "name": "stderr",
          "output_type": "stream",
          "text": [
            "100%|██████████| 5000/5000 [00:13<00:00, 362.78it/s]\n"
          ]
        },
        {
          "name": "stdout",
          "output_type": "stream",
          "text": [
            "18.5866\n",
            "Experiment: 1\n"
          ]
        },
        {
          "name": "stderr",
          "output_type": "stream",
          "text": [
            "100%|██████████| 5000/5000 [00:09<00:00, 541.61it/s]\n"
          ]
        },
        {
          "name": "stdout",
          "output_type": "stream",
          "text": [
            "14.2432\n",
            "Experiment: 1\n"
          ]
        },
        {
          "name": "stderr",
          "output_type": "stream",
          "text": [
            "100%|██████████| 5000/5000 [00:08<00:00, 569.16it/s]\n"
          ]
        },
        {
          "name": "stdout",
          "output_type": "stream",
          "text": [
            "13.3574\n",
            "Experiment: 1\n"
          ]
        },
        {
          "name": "stderr",
          "output_type": "stream",
          "text": [
            "100%|██████████| 5000/5000 [00:10<00:00, 464.48it/s]\n"
          ]
        },
        {
          "name": "stdout",
          "output_type": "stream",
          "text": [
            "17.654\n",
            "Experiment: 1\n"
          ]
        },
        {
          "name": "stderr",
          "output_type": "stream",
          "text": [
            "100%|██████████| 5000/5000 [00:08<00:00, 571.05it/s]\n"
          ]
        },
        {
          "name": "stdout",
          "output_type": "stream",
          "text": [
            "13.3264\n",
            "Experiment: 1\n"
          ]
        },
        {
          "name": "stderr",
          "output_type": "stream",
          "text": [
            "100%|██████████| 5000/5000 [00:10<00:00, 469.83it/s]\n"
          ]
        },
        {
          "name": "stdout",
          "output_type": "stream",
          "text": [
            "16.2822\n",
            "Experiment: 1\n"
          ]
        },
        {
          "name": "stderr",
          "output_type": "stream",
          "text": [
            "100%|██████████| 5000/5000 [00:10<00:00, 497.80it/s]\n"
          ]
        },
        {
          "name": "stdout",
          "output_type": "stream",
          "text": [
            "16.5206\n",
            "Experiment: 1\n"
          ]
        },
        {
          "name": "stderr",
          "output_type": "stream",
          "text": [
            "100%|██████████| 5000/5000 [00:10<00:00, 459.84it/s]\n"
          ]
        },
        {
          "name": "stdout",
          "output_type": "stream",
          "text": [
            "13.3362\n",
            "Experiment: 1\n"
          ]
        },
        {
          "name": "stderr",
          "output_type": "stream",
          "text": [
            "100%|██████████| 5000/5000 [00:12<00:00, 396.80it/s]\n"
          ]
        },
        {
          "name": "stdout",
          "output_type": "stream",
          "text": [
            "17.3902\n",
            "Experiment: 1\n"
          ]
        },
        {
          "name": "stderr",
          "output_type": "stream",
          "text": [
            "100%|██████████| 5000/5000 [00:11<00:00, 418.33it/s]\n"
          ]
        },
        {
          "name": "stdout",
          "output_type": "stream",
          "text": [
            "17.6362\n",
            "Experiment: 1\n"
          ]
        },
        {
          "name": "stderr",
          "output_type": "stream",
          "text": [
            "100%|██████████| 5000/5000 [00:10<00:00, 471.60it/s]\n"
          ]
        },
        {
          "name": "stdout",
          "output_type": "stream",
          "text": [
            "16.8106\n",
            "Experiment: 1\n"
          ]
        },
        {
          "name": "stderr",
          "output_type": "stream",
          "text": [
            "100%|██████████| 5000/5000 [00:09<00:00, 541.92it/s]\n"
          ]
        },
        {
          "name": "stdout",
          "output_type": "stream",
          "text": [
            "12.511\n",
            "Experiment: 1\n"
          ]
        },
        {
          "name": "stderr",
          "output_type": "stream",
          "text": [
            "100%|██████████| 5000/5000 [00:10<00:00, 464.41it/s]\n"
          ]
        },
        {
          "name": "stdout",
          "output_type": "stream",
          "text": [
            "13.2508\n",
            "Experiment: 1\n"
          ]
        },
        {
          "name": "stderr",
          "output_type": "stream",
          "text": [
            "100%|██████████| 5000/5000 [00:15<00:00, 328.66it/s]\n"
          ]
        },
        {
          "name": "stdout",
          "output_type": "stream",
          "text": [
            "17.8808\n",
            "[{'alpha': 0.7319898919754997, 'gamma': 0.9537376871328095, 'epsilon_tau': 0.46052088325714535, 'mean_rewards': -6.6304, 'mean_steps': 12.511}, {'alpha': 0.21118892678947387, 'gamma': 0.9864573742737344, 'epsilon_tau': 0.46052088325714535, 'mean_rewards': -7.3904, 'mean_steps': 13.2508}, {'alpha': 0.21118892678947387, 'gamma': 0.9864573742737344, 'epsilon_tau': 0.46052088325714535, 'mean_rewards': -7.429, 'mean_steps': 13.2844}, {'alpha': 0.21118892678947387, 'gamma': 0.9560684856480347, 'epsilon_tau': 0.46052088325714535, 'mean_rewards': -7.468, 'mean_steps': 13.3264}, {'alpha': 0.21118892678947387, 'gamma': 0.9864573742737344, 'epsilon_tau': 0.5550333369907263, 'mean_rewards': -7.4856, 'mean_steps': 13.3362}]\n",
            "{'alpha': 0.7319898919754997, 'gamma': 0.9537376871328095, 'epsilon_tau': 0.46052088325714535, 'mean_rewards': -6.6304, 'mean_steps': 12.511}\n",
            "\n",
            "Best Hyperparameters: {'alpha': 0.7319898919754997, 'gamma': 0.9537376871328095, 'epsilon_tau': 0.46052088325714535}\n",
            "Best Mean Rewards: -6.6304\n",
            "Best Mean Steps: 12.511\n",
            "\n",
            "Generation 5\n",
            "Experiment: 1\n"
          ]
        },
        {
          "name": "stderr",
          "output_type": "stream",
          "text": [
            "100%|██████████| 5000/5000 [00:15<00:00, 320.70it/s]\n"
          ]
        },
        {
          "name": "stdout",
          "output_type": "stream",
          "text": [
            "17.5018\n",
            "Experiment: 1\n"
          ]
        },
        {
          "name": "stderr",
          "output_type": "stream",
          "text": [
            "100%|██████████| 5000/5000 [00:10<00:00, 487.07it/s]\n"
          ]
        },
        {
          "name": "stdout",
          "output_type": "stream",
          "text": [
            "13.2716\n",
            "Experiment: 1\n"
          ]
        },
        {
          "name": "stderr",
          "output_type": "stream",
          "text": [
            "100%|██████████| 5000/5000 [00:07<00:00, 658.92it/s]\n"
          ]
        },
        {
          "name": "stdout",
          "output_type": "stream",
          "text": [
            "13.3126\n",
            "Experiment: 1\n"
          ]
        },
        {
          "name": "stderr",
          "output_type": "stream",
          "text": [
            "100%|██████████| 5000/5000 [00:10<00:00, 458.18it/s]\n"
          ]
        },
        {
          "name": "stdout",
          "output_type": "stream",
          "text": [
            "18.3106\n",
            "Experiment: 1\n"
          ]
        },
        {
          "name": "stderr",
          "output_type": "stream",
          "text": [
            "100%|██████████| 5000/5000 [00:07<00:00, 643.66it/s]\n"
          ]
        },
        {
          "name": "stdout",
          "output_type": "stream",
          "text": [
            "13.3432\n",
            "Experiment: 1\n"
          ]
        },
        {
          "name": "stderr",
          "output_type": "stream",
          "text": [
            "100%|██████████| 5000/5000 [00:12<00:00, 392.20it/s]\n"
          ]
        },
        {
          "name": "stdout",
          "output_type": "stream",
          "text": [
            "18.209\n",
            "Experiment: 1\n"
          ]
        },
        {
          "name": "stderr",
          "output_type": "stream",
          "text": [
            "100%|██████████| 5000/5000 [00:51<00:00, 96.97it/s] \n"
          ]
        },
        {
          "name": "stdout",
          "output_type": "stream",
          "text": [
            "81.392\n",
            "Experiment: 1\n"
          ]
        },
        {
          "name": "stderr",
          "output_type": "stream",
          "text": [
            "100%|██████████| 5000/5000 [00:12<00:00, 412.59it/s]\n"
          ]
        },
        {
          "name": "stdout",
          "output_type": "stream",
          "text": [
            "17.4544\n",
            "Experiment: 1\n"
          ]
        },
        {
          "name": "stderr",
          "output_type": "stream",
          "text": [
            "100%|██████████| 5000/5000 [00:08<00:00, 598.26it/s]\n"
          ]
        },
        {
          "name": "stdout",
          "output_type": "stream",
          "text": [
            "13.8974\n",
            "Experiment: 1\n"
          ]
        },
        {
          "name": "stderr",
          "output_type": "stream",
          "text": [
            "100%|██████████| 5000/5000 [00:07<00:00, 668.76it/s]\n"
          ]
        },
        {
          "name": "stdout",
          "output_type": "stream",
          "text": [
            "13.3422\n",
            "Experiment: 1\n"
          ]
        },
        {
          "name": "stderr",
          "output_type": "stream",
          "text": [
            "100%|██████████| 5000/5000 [00:07<00:00, 675.46it/s]\n"
          ]
        },
        {
          "name": "stdout",
          "output_type": "stream",
          "text": [
            "13.201\n",
            "Experiment: 1\n"
          ]
        },
        {
          "name": "stderr",
          "output_type": "stream",
          "text": [
            "100%|██████████| 5000/5000 [00:07<00:00, 630.77it/s]\n"
          ]
        },
        {
          "name": "stdout",
          "output_type": "stream",
          "text": [
            "13.4226\n",
            "Experiment: 1\n"
          ]
        },
        {
          "name": "stderr",
          "output_type": "stream",
          "text": [
            "100%|██████████| 5000/5000 [00:08<00:00, 596.91it/s]\n"
          ]
        },
        {
          "name": "stdout",
          "output_type": "stream",
          "text": [
            "13.2622\n",
            "Experiment: 1\n"
          ]
        },
        {
          "name": "stderr",
          "output_type": "stream",
          "text": [
            "100%|██████████| 5000/5000 [00:12<00:00, 396.17it/s]\n"
          ]
        },
        {
          "name": "stdout",
          "output_type": "stream",
          "text": [
            "17.9642\n",
            "Experiment: 1\n"
          ]
        },
        {
          "name": "stderr",
          "output_type": "stream",
          "text": [
            "100%|██████████| 5000/5000 [00:12<00:00, 391.92it/s]\n"
          ]
        },
        {
          "name": "stdout",
          "output_type": "stream",
          "text": [
            "17.6482\n",
            "[{'alpha': 0.21118892678947387, 'gamma': 0.9864573742737344, 'epsilon_tau': 0.46052088325714535, 'mean_rewards': -7.3132, 'mean_steps': 13.201}, {'alpha': 0.21118892678947387, 'gamma': 0.9864573742737344, 'epsilon_tau': 0.46052088325714535, 'mean_rewards': -7.3998, 'mean_steps': 13.2716}, {'alpha': 0.21118892678947387, 'gamma': 0.9864573742737344, 'epsilon_tau': 0.46052088325714535, 'mean_rewards': -7.4318, 'mean_steps': 13.2622}, {'alpha': 0.21118892678947387, 'gamma': 0.9864573742737344, 'epsilon_tau': 0.46052088325714535, 'mean_rewards': -7.4466, 'mean_steps': 13.3126}, {'alpha': 0.21118892678947387, 'gamma': 0.9864573742737344, 'epsilon_tau': 0.5550333369907263, 'mean_rewards': -7.479, 'mean_steps': 13.3432}]\n",
            "{'alpha': 0.21118892678947387, 'gamma': 0.9864573742737344, 'epsilon_tau': 0.46052088325714535, 'mean_rewards': -7.3132, 'mean_steps': 13.201}\n",
            "\n",
            "Best Hyperparameters: {'alpha': 0.21118892678947387, 'gamma': 0.9864573742737344, 'epsilon_tau': 0.46052088325714535}\n",
            "Best Mean Rewards: -7.3132\n",
            "Best Mean Steps: 13.201\n",
            "\n",
            "Generation 6\n",
            "Experiment: 1\n"
          ]
        },
        {
          "name": "stderr",
          "output_type": "stream",
          "text": [
            "100%|██████████| 5000/5000 [00:07<00:00, 626.03it/s]\n"
          ]
        },
        {
          "name": "stdout",
          "output_type": "stream",
          "text": [
            "13.337\n",
            "Experiment: 1\n"
          ]
        },
        {
          "name": "stderr",
          "output_type": "stream",
          "text": [
            "100%|██████████| 5000/5000 [00:08<00:00, 607.88it/s]\n"
          ]
        },
        {
          "name": "stdout",
          "output_type": "stream",
          "text": [
            "13.2512\n",
            "Experiment: 1\n"
          ]
        },
        {
          "name": "stderr",
          "output_type": "stream",
          "text": [
            "100%|██████████| 5000/5000 [00:08<00:00, 606.11it/s]\n"
          ]
        },
        {
          "name": "stdout",
          "output_type": "stream",
          "text": [
            "13.2504\n",
            "Experiment: 1\n"
          ]
        },
        {
          "name": "stderr",
          "output_type": "stream",
          "text": [
            "100%|██████████| 5000/5000 [00:08<00:00, 621.71it/s]\n"
          ]
        },
        {
          "name": "stdout",
          "output_type": "stream",
          "text": [
            "13.1588\n",
            "Experiment: 1\n"
          ]
        },
        {
          "name": "stderr",
          "output_type": "stream",
          "text": [
            "100%|██████████| 5000/5000 [00:10<00:00, 456.17it/s]\n"
          ]
        },
        {
          "name": "stdout",
          "output_type": "stream",
          "text": [
            "13.3252\n",
            "Experiment: 1\n"
          ]
        },
        {
          "name": "stderr",
          "output_type": "stream",
          "text": [
            "100%|██████████| 5000/5000 [00:11<00:00, 435.22it/s]\n"
          ]
        },
        {
          "name": "stdout",
          "output_type": "stream",
          "text": [
            "13.2336\n",
            "Experiment: 1\n"
          ]
        },
        {
          "name": "stderr",
          "output_type": "stream",
          "text": [
            "100%|██████████| 5000/5000 [00:17<00:00, 287.93it/s]\n"
          ]
        },
        {
          "name": "stdout",
          "output_type": "stream",
          "text": [
            "17.4478\n",
            "Experiment: 1\n"
          ]
        },
        {
          "name": "stderr",
          "output_type": "stream",
          "text": [
            "100%|██████████| 5000/5000 [00:12<00:00, 397.71it/s]\n"
          ]
        },
        {
          "name": "stdout",
          "output_type": "stream",
          "text": [
            "13.2316\n",
            "Experiment: 1\n"
          ]
        },
        {
          "name": "stderr",
          "output_type": "stream",
          "text": [
            "100%|██████████| 5000/5000 [00:11<00:00, 437.17it/s]\n"
          ]
        },
        {
          "name": "stdout",
          "output_type": "stream",
          "text": [
            "13.3118\n",
            "Experiment: 1\n"
          ]
        },
        {
          "name": "stderr",
          "output_type": "stream",
          "text": [
            "100%|██████████| 5000/5000 [00:10<00:00, 460.65it/s]\n"
          ]
        },
        {
          "name": "stdout",
          "output_type": "stream",
          "text": [
            "13.3048\n",
            "Experiment: 1\n"
          ]
        },
        {
          "name": "stderr",
          "output_type": "stream",
          "text": [
            "100%|██████████| 5000/5000 [00:54<00:00, 91.97it/s] \n"
          ]
        },
        {
          "name": "stdout",
          "output_type": "stream",
          "text": [
            "85.5098\n",
            "Experiment: 1\n"
          ]
        },
        {
          "name": "stderr",
          "output_type": "stream",
          "text": [
            "100%|██████████| 5000/5000 [00:15<00:00, 331.72it/s]\n"
          ]
        },
        {
          "name": "stdout",
          "output_type": "stream",
          "text": [
            "18.8708\n",
            "Experiment: 1\n"
          ]
        },
        {
          "name": "stderr",
          "output_type": "stream",
          "text": [
            "100%|██████████| 5000/5000 [00:15<00:00, 329.71it/s]\n"
          ]
        },
        {
          "name": "stdout",
          "output_type": "stream",
          "text": [
            "17.5774\n",
            "Experiment: 1\n"
          ]
        },
        {
          "name": "stderr",
          "output_type": "stream",
          "text": [
            "100%|██████████| 5000/5000 [00:09<00:00, 549.85it/s]\n"
          ]
        },
        {
          "name": "stdout",
          "output_type": "stream",
          "text": [
            "13.4348\n",
            "Experiment: 1\n"
          ]
        },
        {
          "name": "stderr",
          "output_type": "stream",
          "text": [
            "100%|██████████| 5000/5000 [00:13<00:00, 363.94it/s]\n"
          ]
        },
        {
          "name": "stdout",
          "output_type": "stream",
          "text": [
            "17.3938\n",
            "[{'alpha': 0.21118892678947387, 'gamma': 0.9864573742737344, 'epsilon_tau': 0.46052088325714535, 'mean_rewards': -7.3046, 'mean_steps': 13.1588}, {'alpha': 0.21118892678947387, 'gamma': 0.9864573742737344, 'epsilon_tau': 0.46052088325714535, 'mean_rewards': -7.3668, 'mean_steps': 13.2316}, {'alpha': 0.21118892678947387, 'gamma': 0.9864573742737344, 'epsilon_tau': 0.46052088325714535, 'mean_rewards': -7.3726, 'mean_steps': 13.2336}, {'alpha': 0.21118892678947387, 'gamma': 0.9864573742737344, 'epsilon_tau': 0.46052088325714535, 'mean_rewards': -7.3838, 'mean_steps': 13.2512}, {'alpha': 0.21118892678947387, 'gamma': 0.9864573742737344, 'epsilon_tau': 0.46052088325714535, 'mean_rewards': -7.3924, 'mean_steps': 13.2504}]\n",
            "{'alpha': 0.21118892678947387, 'gamma': 0.9864573742737344, 'epsilon_tau': 0.46052088325714535, 'mean_rewards': -7.3046, 'mean_steps': 13.1588}\n",
            "\n",
            "Best Hyperparameters: {'alpha': 0.21118892678947387, 'gamma': 0.9864573742737344, 'epsilon_tau': 0.46052088325714535}\n",
            "Best Mean Rewards: -7.3046\n",
            "Best Mean Steps: 13.1588\n",
            "\n",
            "Generation 7\n",
            "Experiment: 1\n"
          ]
        },
        {
          "name": "stderr",
          "output_type": "stream",
          "text": [
            "100%|██████████| 5000/5000 [00:07<00:00, 632.46it/s]\n"
          ]
        },
        {
          "name": "stdout",
          "output_type": "stream",
          "text": [
            "13.3622\n",
            "Experiment: 1\n"
          ]
        },
        {
          "name": "stderr",
          "output_type": "stream",
          "text": [
            "100%|██████████| 5000/5000 [00:09<00:00, 526.71it/s]\n"
          ]
        },
        {
          "name": "stdout",
          "output_type": "stream",
          "text": [
            "13.3128\n",
            "Experiment: 1\n"
          ]
        },
        {
          "name": "stderr",
          "output_type": "stream",
          "text": [
            "100%|██████████| 5000/5000 [00:08<00:00, 593.27it/s]\n"
          ]
        },
        {
          "name": "stdout",
          "output_type": "stream",
          "text": [
            "13.3308\n",
            "Experiment: 1\n"
          ]
        },
        {
          "name": "stderr",
          "output_type": "stream",
          "text": [
            "100%|██████████| 5000/5000 [00:07<00:00, 669.20it/s]\n"
          ]
        },
        {
          "name": "stdout",
          "output_type": "stream",
          "text": [
            "13.2698\n",
            "Experiment: 1\n"
          ]
        },
        {
          "name": "stderr",
          "output_type": "stream",
          "text": [
            "100%|██████████| 5000/5000 [00:08<00:00, 595.79it/s]\n"
          ]
        },
        {
          "name": "stdout",
          "output_type": "stream",
          "text": [
            "13.2246\n",
            "Experiment: 1\n"
          ]
        },
        {
          "name": "stderr",
          "output_type": "stream",
          "text": [
            "100%|██████████| 5000/5000 [00:11<00:00, 449.51it/s]\n"
          ]
        },
        {
          "name": "stdout",
          "output_type": "stream",
          "text": [
            "17.3284\n",
            "Experiment: 1\n"
          ]
        },
        {
          "name": "stderr",
          "output_type": "stream",
          "text": [
            "100%|██████████| 5000/5000 [00:22<00:00, 224.75it/s]\n"
          ]
        },
        {
          "name": "stdout",
          "output_type": "stream",
          "text": [
            "39.824\n",
            "Experiment: 1\n"
          ]
        },
        {
          "name": "stderr",
          "output_type": "stream",
          "text": [
            "100%|██████████| 5000/5000 [00:07<00:00, 709.99it/s]\n"
          ]
        },
        {
          "name": "stdout",
          "output_type": "stream",
          "text": [
            "13.107\n",
            "Experiment: 1\n"
          ]
        },
        {
          "name": "stderr",
          "output_type": "stream",
          "text": [
            "100%|██████████| 5000/5000 [00:07<00:00, 697.67it/s]\n"
          ]
        },
        {
          "name": "stdout",
          "output_type": "stream",
          "text": [
            "12.5512\n",
            "Experiment: 1\n"
          ]
        },
        {
          "name": "stderr",
          "output_type": "stream",
          "text": [
            "100%|██████████| 5000/5000 [00:14<00:00, 349.44it/s]\n"
          ]
        },
        {
          "name": "stdout",
          "output_type": "stream",
          "text": [
            "24.6968\n",
            "Experiment: 1\n"
          ]
        },
        {
          "name": "stderr",
          "output_type": "stream",
          "text": [
            "100%|██████████| 5000/5000 [00:07<00:00, 704.62it/s]\n"
          ]
        },
        {
          "name": "stdout",
          "output_type": "stream",
          "text": [
            "13.2788\n",
            "Experiment: 1\n"
          ]
        },
        {
          "name": "stderr",
          "output_type": "stream",
          "text": [
            "100%|██████████| 5000/5000 [00:11<00:00, 418.52it/s]\n"
          ]
        },
        {
          "name": "stdout",
          "output_type": "stream",
          "text": [
            "22.1984\n",
            "Experiment: 1\n"
          ]
        },
        {
          "name": "stderr",
          "output_type": "stream",
          "text": [
            "100%|██████████| 5000/5000 [00:10<00:00, 460.48it/s]\n"
          ]
        },
        {
          "name": "stdout",
          "output_type": "stream",
          "text": [
            "17.3836\n",
            "Experiment: 1\n"
          ]
        },
        {
          "name": "stderr",
          "output_type": "stream",
          "text": [
            "100%|██████████| 5000/5000 [00:28<00:00, 172.92it/s]\n"
          ]
        },
        {
          "name": "stdout",
          "output_type": "stream",
          "text": [
            "37.2672\n",
            "Experiment: 1\n"
          ]
        },
        {
          "name": "stderr",
          "output_type": "stream",
          "text": [
            "100%|██████████| 5000/5000 [00:09<00:00, 521.11it/s]"
          ]
        },
        {
          "name": "stdout",
          "output_type": "stream",
          "text": [
            "13.2938\n",
            "[{'alpha': 0.6603787507134097, 'gamma': 0.9864573742737344, 'epsilon_tau': 0.46052088325714535, 'mean_rewards': -6.671, 'mean_steps': 12.5512}, {'alpha': 0.21118892678947387, 'gamma': 0.9864573742737344, 'epsilon_tau': 0.46052088325714535, 'mean_rewards': -7.2496, 'mean_steps': 13.107}, {'alpha': 0.21118892678947387, 'gamma': 0.9864573742737344, 'epsilon_tau': 0.46052088325714535, 'mean_rewards': -7.389, 'mean_steps': 13.2246}, {'alpha': 0.21118892678947387, 'gamma': 0.9864573742737344, 'epsilon_tau': 0.46052088325714535, 'mean_rewards': -7.4086, 'mean_steps': 13.2698}, {'alpha': 0.21118892678947387, 'gamma': 0.9864573742737344, 'epsilon_tau': 0.46052088325714535, 'mean_rewards': -7.4438, 'mean_steps': 13.2788}]\n",
            "{'alpha': 0.6603787507134097, 'gamma': 0.9864573742737344, 'epsilon_tau': 0.46052088325714535, 'mean_rewards': -6.671, 'mean_steps': 12.5512}\n",
            "\n",
            "Best Hyperparameters: {'alpha': 0.6603787507134097, 'gamma': 0.9864573742737344, 'epsilon_tau': 0.46052088325714535}\n",
            "Best Mean Rewards: -6.671\n",
            "Best Mean Steps: 12.5512\n"
          ]
        },
        {
          "name": "stderr",
          "output_type": "stream",
          "text": [
            "\n"
          ]
        }
      ],
      "source": [
        "best_hyperparameters, best_mean_rewards, best_mean_steps, a1 = genetic_algorithm(env1, sarsa_s, e_s=1)\n",
        "write_results_to_file(file_path, (best_hyperparameters, best_mean_rewards, best_mean_steps), \"SARSA_Softmax_e1\")"
      ]
    },
    {
      "cell_type": "code",
      "execution_count": 45,
      "metadata": {},
      "outputs": [
        {
          "name": "stdout",
          "output_type": "stream",
          "text": [
            "\n",
            "Generation 1\n",
            "Experiment: 1\n"
          ]
        },
        {
          "name": "stderr",
          "output_type": "stream",
          "text": [
            "100%|██████████| 5000/5000 [00:25<00:00, 192.68it/s]\n"
          ]
        },
        {
          "name": "stdout",
          "output_type": "stream",
          "text": [
            "39.0184\n",
            "Experiment: 1\n"
          ]
        },
        {
          "name": "stderr",
          "output_type": "stream",
          "text": [
            "100%|██████████| 5000/5000 [00:10<00:00, 463.04it/s]\n"
          ]
        },
        {
          "name": "stdout",
          "output_type": "stream",
          "text": [
            "17.4922\n",
            "Experiment: 1\n"
          ]
        },
        {
          "name": "stderr",
          "output_type": "stream",
          "text": [
            "100%|██████████| 5000/5000 [00:17<00:00, 278.30it/s]\n"
          ]
        },
        {
          "name": "stdout",
          "output_type": "stream",
          "text": [
            "32.2742\n",
            "Experiment: 1\n"
          ]
        },
        {
          "name": "stderr",
          "output_type": "stream",
          "text": [
            "100%|██████████| 5000/5000 [00:34<00:00, 144.98it/s]\n"
          ]
        },
        {
          "name": "stdout",
          "output_type": "stream",
          "text": [
            "53.5944\n",
            "Experiment: 1\n"
          ]
        },
        {
          "name": "stderr",
          "output_type": "stream",
          "text": [
            "100%|██████████| 5000/5000 [00:21<00:00, 227.77it/s]\n"
          ]
        },
        {
          "name": "stdout",
          "output_type": "stream",
          "text": [
            "31.7086\n",
            "Experiment: 1\n"
          ]
        },
        {
          "name": "stderr",
          "output_type": "stream",
          "text": [
            "100%|██████████| 5000/5000 [00:21<00:00, 229.12it/s]\n"
          ]
        },
        {
          "name": "stdout",
          "output_type": "stream",
          "text": [
            "30.0008\n",
            "Experiment: 1\n"
          ]
        },
        {
          "name": "stderr",
          "output_type": "stream",
          "text": [
            "100%|██████████| 5000/5000 [00:19<00:00, 255.80it/s]\n"
          ]
        },
        {
          "name": "stdout",
          "output_type": "stream",
          "text": [
            "31.2366\n",
            "Experiment: 1\n"
          ]
        },
        {
          "name": "stderr",
          "output_type": "stream",
          "text": [
            "100%|██████████| 5000/5000 [00:15<00:00, 327.62it/s]\n"
          ]
        },
        {
          "name": "stdout",
          "output_type": "stream",
          "text": [
            "23.2618\n",
            "Experiment: 1\n"
          ]
        },
        {
          "name": "stderr",
          "output_type": "stream",
          "text": [
            "100%|██████████| 5000/5000 [00:19<00:00, 252.09it/s]\n"
          ]
        },
        {
          "name": "stdout",
          "output_type": "stream",
          "text": [
            "28.3952\n",
            "Experiment: 1\n"
          ]
        },
        {
          "name": "stderr",
          "output_type": "stream",
          "text": [
            "100%|██████████| 5000/5000 [00:15<00:00, 329.35it/s]\n"
          ]
        },
        {
          "name": "stdout",
          "output_type": "stream",
          "text": [
            "19.8088\n",
            "Experiment: 1\n"
          ]
        },
        {
          "name": "stderr",
          "output_type": "stream",
          "text": [
            "100%|██████████| 5000/5000 [00:15<00:00, 325.89it/s]\n"
          ]
        },
        {
          "name": "stdout",
          "output_type": "stream",
          "text": [
            "24.5342\n",
            "Experiment: 1\n"
          ]
        },
        {
          "name": "stderr",
          "output_type": "stream",
          "text": [
            "100%|██████████| 5000/5000 [00:30<00:00, 165.39it/s]\n"
          ]
        },
        {
          "name": "stdout",
          "output_type": "stream",
          "text": [
            "59.6212\n",
            "Experiment: 1\n"
          ]
        },
        {
          "name": "stderr",
          "output_type": "stream",
          "text": [
            "100%|██████████| 5000/5000 [00:13<00:00, 362.02it/s]\n"
          ]
        },
        {
          "name": "stdout",
          "output_type": "stream",
          "text": [
            "21.5002\n",
            "Experiment: 1\n"
          ]
        },
        {
          "name": "stderr",
          "output_type": "stream",
          "text": [
            "100%|██████████| 5000/5000 [00:19<00:00, 256.23it/s]\n"
          ]
        },
        {
          "name": "stdout",
          "output_type": "stream",
          "text": [
            "30.515\n",
            "Experiment: 1\n"
          ]
        },
        {
          "name": "stderr",
          "output_type": "stream",
          "text": [
            "100%|██████████| 5000/5000 [00:20<00:00, 244.93it/s]\n"
          ]
        },
        {
          "name": "stdout",
          "output_type": "stream",
          "text": [
            "26.3206\n",
            "[{'alpha': 0.7679204513529706, 'gamma': 0.9640846284392658, 'epsilon_tau': 0.3737313381369028, 'mean_rewards': -6.6664, 'mean_steps': 17.4922}, {'alpha': 0.7755101743709872, 'gamma': 0.9455572945219477, 'epsilon_tau': 0.5701121974222824, 'mean_rewards': -8.981, 'mean_steps': 19.8088}, {'alpha': 0.6860569981052648, 'gamma': 0.9231616329929513, 'epsilon_tau': 0.5715431037270657, 'mean_rewards': -11.4792, 'mean_steps': 21.5002}, {'alpha': 0.8829065454442466, 'gamma': 0.985934409810812, 'epsilon_tau': 0.9497784943236927, 'mean_rewards': -12.4484, 'mean_steps': 23.2618}, {'alpha': 0.2308936880724816, 'gamma': 0.9140352225223097, 'epsilon_tau': 0.7387373838703406, 'mean_rewards': -16.8782, 'mean_steps': 24.5342}]\n",
            "{'alpha': 0.7679204513529706, 'gamma': 0.9640846284392658, 'epsilon_tau': 0.3737313381369028, 'mean_rewards': -6.6664, 'mean_steps': 17.4922}\n",
            "\n",
            "Best Hyperparameters: {'alpha': 0.7679204513529706, 'gamma': 0.9640846284392658, 'epsilon_tau': 0.3737313381369028}\n",
            "Best Mean Rewards: -6.6664\n",
            "Best Mean Steps: 17.4922\n",
            "\n",
            "Generation 2\n",
            "Experiment: 1\n"
          ]
        },
        {
          "name": "stderr",
          "output_type": "stream",
          "text": [
            "100%|██████████| 5000/5000 [00:12<00:00, 415.89it/s]\n"
          ]
        },
        {
          "name": "stdout",
          "output_type": "stream",
          "text": [
            "17.5822\n",
            "Experiment: 1\n"
          ]
        },
        {
          "name": "stderr",
          "output_type": "stream",
          "text": [
            "100%|██████████| 5000/5000 [00:17<00:00, 287.07it/s]\n"
          ]
        },
        {
          "name": "stdout",
          "output_type": "stream",
          "text": [
            "19.721\n",
            "Experiment: 1\n"
          ]
        },
        {
          "name": "stderr",
          "output_type": "stream",
          "text": [
            "100%|██████████| 5000/5000 [00:13<00:00, 369.49it/s]\n"
          ]
        },
        {
          "name": "stdout",
          "output_type": "stream",
          "text": [
            "19.4444\n",
            "Experiment: 1\n"
          ]
        },
        {
          "name": "stderr",
          "output_type": "stream",
          "text": [
            "100%|██████████| 5000/5000 [00:12<00:00, 415.22it/s]\n"
          ]
        },
        {
          "name": "stdout",
          "output_type": "stream",
          "text": [
            "19.6514\n",
            "Experiment: 1\n"
          ]
        },
        {
          "name": "stderr",
          "output_type": "stream",
          "text": [
            "100%|██████████| 5000/5000 [00:16<00:00, 308.03it/s]\n"
          ]
        },
        {
          "name": "stdout",
          "output_type": "stream",
          "text": [
            "24.1138\n",
            "Experiment: 1\n"
          ]
        },
        {
          "name": "stderr",
          "output_type": "stream",
          "text": [
            "100%|██████████| 5000/5000 [00:13<00:00, 368.79it/s]\n"
          ]
        },
        {
          "name": "stdout",
          "output_type": "stream",
          "text": [
            "17.4486\n",
            "Experiment: 1\n"
          ]
        },
        {
          "name": "stderr",
          "output_type": "stream",
          "text": [
            "100%|██████████| 5000/5000 [00:18<00:00, 272.06it/s]\n"
          ]
        },
        {
          "name": "stdout",
          "output_type": "stream",
          "text": [
            "19.9554\n",
            "Experiment: 1\n"
          ]
        },
        {
          "name": "stderr",
          "output_type": "stream",
          "text": [
            "100%|██████████| 5000/5000 [00:20<00:00, 243.10it/s]\n"
          ]
        },
        {
          "name": "stdout",
          "output_type": "stream",
          "text": [
            "22.4784\n",
            "Experiment: 1\n"
          ]
        },
        {
          "name": "stderr",
          "output_type": "stream",
          "text": [
            "100%|██████████| 5000/5000 [00:13<00:00, 369.26it/s]\n"
          ]
        },
        {
          "name": "stdout",
          "output_type": "stream",
          "text": [
            "17.3538\n",
            "Experiment: 1\n"
          ]
        },
        {
          "name": "stderr",
          "output_type": "stream",
          "text": [
            "100%|██████████| 5000/5000 [00:12<00:00, 398.11it/s]\n"
          ]
        },
        {
          "name": "stdout",
          "output_type": "stream",
          "text": [
            "17.8232\n",
            "Experiment: 1\n"
          ]
        },
        {
          "name": "stderr",
          "output_type": "stream",
          "text": [
            "100%|██████████| 5000/5000 [00:18<00:00, 272.68it/s]\n"
          ]
        },
        {
          "name": "stdout",
          "output_type": "stream",
          "text": [
            "24.423\n",
            "Experiment: 1\n"
          ]
        },
        {
          "name": "stderr",
          "output_type": "stream",
          "text": [
            "100%|██████████| 5000/5000 [00:28<00:00, 174.63it/s]\n"
          ]
        },
        {
          "name": "stdout",
          "output_type": "stream",
          "text": [
            "36.3906\n",
            "Experiment: 1\n"
          ]
        },
        {
          "name": "stderr",
          "output_type": "stream",
          "text": [
            "100%|██████████| 5000/5000 [00:22<00:00, 224.17it/s]\n"
          ]
        },
        {
          "name": "stdout",
          "output_type": "stream",
          "text": [
            "27.9284\n",
            "Experiment: 1\n"
          ]
        },
        {
          "name": "stderr",
          "output_type": "stream",
          "text": [
            "100%|██████████| 5000/5000 [00:47<00:00, 105.27it/s]\n"
          ]
        },
        {
          "name": "stdout",
          "output_type": "stream",
          "text": [
            "63.6652\n",
            "Experiment: 1\n"
          ]
        },
        {
          "name": "stderr",
          "output_type": "stream",
          "text": [
            "100%|██████████| 5000/5000 [00:38<00:00, 129.86it/s]\n"
          ]
        },
        {
          "name": "stdout",
          "output_type": "stream",
          "text": [
            "50.0476\n",
            "[{'alpha': 0.7755101743709872, 'gamma': 0.9455572945219477, 'epsilon_tau': 0.3737313381369028, 'mean_rewards': -6.6084, 'mean_steps': 17.4486}, {'alpha': 0.7679204513529706, 'gamma': 0.9640846284392658, 'epsilon_tau': 0.3737313381369028, 'mean_rewards': -6.7422, 'mean_steps': 17.5822}, {'alpha': 0.7203344586166456, 'gamma': 0.9763261445049514, 'epsilon_tau': 0.5715431037270657, 'mean_rewards': -7.0058, 'mean_steps': 17.8232}, {'alpha': 0.7755101743709872, 'gamma': 0.9455572945219477, 'epsilon_tau': 0.5701121974222824, 'mean_rewards': -8.9024, 'mean_steps': 19.721}, {'alpha': 0.2308936880724816, 'gamma': 0.9455572945219477, 'epsilon_tau': 0.5701121974222824, 'mean_rewards': -11.4762, 'mean_steps': 17.3538}]\n",
            "{'alpha': 0.7755101743709872, 'gamma': 0.9455572945219477, 'epsilon_tau': 0.3737313381369028, 'mean_rewards': -6.6084, 'mean_steps': 17.4486}\n",
            "\n",
            "Best Hyperparameters: {'alpha': 0.7755101743709872, 'gamma': 0.9455572945219477, 'epsilon_tau': 0.3737313381369028}\n",
            "Best Mean Rewards: -6.6084\n",
            "Best Mean Steps: 17.4486\n",
            "\n",
            "Generation 3\n",
            "Experiment: 1\n"
          ]
        },
        {
          "name": "stderr",
          "output_type": "stream",
          "text": [
            "100%|██████████| 5000/5000 [00:15<00:00, 321.68it/s]\n"
          ]
        },
        {
          "name": "stdout",
          "output_type": "stream",
          "text": [
            "17.5084\n",
            "Experiment: 1\n"
          ]
        },
        {
          "name": "stderr",
          "output_type": "stream",
          "text": [
            "100%|██████████| 5000/5000 [00:15<00:00, 327.81it/s]\n"
          ]
        },
        {
          "name": "stdout",
          "output_type": "stream",
          "text": [
            "17.4566\n",
            "Experiment: 1\n"
          ]
        },
        {
          "name": "stderr",
          "output_type": "stream",
          "text": [
            "100%|██████████| 5000/5000 [00:10<00:00, 481.52it/s]\n"
          ]
        },
        {
          "name": "stdout",
          "output_type": "stream",
          "text": [
            "12.6046\n",
            "Experiment: 1\n"
          ]
        },
        {
          "name": "stderr",
          "output_type": "stream",
          "text": [
            "100%|██████████| 5000/5000 [00:17<00:00, 293.05it/s]\n"
          ]
        },
        {
          "name": "stdout",
          "output_type": "stream",
          "text": [
            "20.1304\n",
            "Experiment: 1\n"
          ]
        },
        {
          "name": "stderr",
          "output_type": "stream",
          "text": [
            "100%|██████████| 5000/5000 [00:13<00:00, 373.85it/s]\n"
          ]
        },
        {
          "name": "stdout",
          "output_type": "stream",
          "text": [
            "16.3624\n",
            "Experiment: 1\n"
          ]
        },
        {
          "name": "stderr",
          "output_type": "stream",
          "text": [
            "100%|██████████| 5000/5000 [00:16<00:00, 308.82it/s]\n"
          ]
        },
        {
          "name": "stdout",
          "output_type": "stream",
          "text": [
            "17.7344\n",
            "Experiment: 1\n"
          ]
        },
        {
          "name": "stderr",
          "output_type": "stream",
          "text": [
            "100%|██████████| 5000/5000 [00:15<00:00, 325.50it/s]\n"
          ]
        },
        {
          "name": "stdout",
          "output_type": "stream",
          "text": [
            "17.5902\n",
            "Experiment: 1\n"
          ]
        },
        {
          "name": "stderr",
          "output_type": "stream",
          "text": [
            "100%|██████████| 5000/5000 [00:15<00:00, 315.18it/s]\n"
          ]
        },
        {
          "name": "stdout",
          "output_type": "stream",
          "text": [
            "17.7138\n",
            "Experiment: 1\n"
          ]
        },
        {
          "name": "stderr",
          "output_type": "stream",
          "text": [
            "100%|██████████| 5000/5000 [00:16<00:00, 311.70it/s]\n"
          ]
        },
        {
          "name": "stdout",
          "output_type": "stream",
          "text": [
            "19.6088\n",
            "Experiment: 1\n"
          ]
        },
        {
          "name": "stderr",
          "output_type": "stream",
          "text": [
            "100%|██████████| 5000/5000 [00:16<00:00, 298.86it/s]\n"
          ]
        },
        {
          "name": "stdout",
          "output_type": "stream",
          "text": [
            "20.3404\n",
            "Experiment: 1\n"
          ]
        },
        {
          "name": "stderr",
          "output_type": "stream",
          "text": [
            "100%|██████████| 5000/5000 [00:16<00:00, 312.42it/s]\n"
          ]
        },
        {
          "name": "stdout",
          "output_type": "stream",
          "text": [
            "17.5012\n",
            "Experiment: 1\n"
          ]
        },
        {
          "name": "stderr",
          "output_type": "stream",
          "text": [
            "100%|██████████| 5000/5000 [00:19<00:00, 251.92it/s]\n"
          ]
        },
        {
          "name": "stdout",
          "output_type": "stream",
          "text": [
            "25.0262\n",
            "Experiment: 1\n"
          ]
        },
        {
          "name": "stderr",
          "output_type": "stream",
          "text": [
            "100%|██████████| 5000/5000 [00:16<00:00, 309.99it/s]\n"
          ]
        },
        {
          "name": "stdout",
          "output_type": "stream",
          "text": [
            "17.8712\n",
            "Experiment: 1\n"
          ]
        },
        {
          "name": "stderr",
          "output_type": "stream",
          "text": [
            "100%|██████████| 5000/5000 [00:11<00:00, 428.17it/s]\n"
          ]
        },
        {
          "name": "stdout",
          "output_type": "stream",
          "text": [
            "17.7082\n",
            "Experiment: 1\n"
          ]
        },
        {
          "name": "stderr",
          "output_type": "stream",
          "text": [
            "100%|██████████| 5000/5000 [00:12<00:00, 395.93it/s]\n"
          ]
        },
        {
          "name": "stdout",
          "output_type": "stream",
          "text": [
            "17.5242\n",
            "[{'alpha': 0.7203344586166456, 'gamma': 0.9763261445049514, 'epsilon_tau': 0.5715431037270657, 'mean_rewards': -6.7302, 'mean_steps': 12.6046}, {'alpha': 0.7679204513529706, 'gamma': 0.9640846284392658, 'epsilon_tau': 0.3737313381369028, 'mean_rewards': -6.6162, 'mean_steps': 17.4566}, {'alpha': 0.7755101743709872, 'gamma': 0.9455572945219477, 'epsilon_tau': 0.3737313381369028, 'mean_rewards': -6.6612, 'mean_steps': 17.5012}, {'alpha': 0.7755101743709872, 'gamma': 0.9455572945219477, 'epsilon_tau': 0.3737313381369028, 'mean_rewards': -6.6746, 'mean_steps': 17.5084}, {'alpha': 0.7755101743709872, 'gamma': 0.9455572945219477, 'epsilon_tau': 0.3737313381369028, 'mean_rewards': -6.6922, 'mean_steps': 17.5242}]\n",
            "{'alpha': 0.7203344586166456, 'gamma': 0.9763261445049514, 'epsilon_tau': 0.5715431037270657, 'mean_rewards': -6.7302, 'mean_steps': 12.6046}\n",
            "\n",
            "Best Hyperparameters: {'alpha': 0.7203344586166456, 'gamma': 0.9763261445049514, 'epsilon_tau': 0.5715431037270657}\n",
            "Best Mean Rewards: -6.7302\n",
            "Best Mean Steps: 12.6046\n",
            "\n",
            "Generation 4\n",
            "Experiment: 1\n"
          ]
        },
        {
          "name": "stderr",
          "output_type": "stream",
          "text": [
            "100%|██████████| 5000/5000 [00:12<00:00, 402.14it/s]\n"
          ]
        },
        {
          "name": "stdout",
          "output_type": "stream",
          "text": [
            "17.6544\n",
            "Experiment: 1\n"
          ]
        },
        {
          "name": "stderr",
          "output_type": "stream",
          "text": [
            "100%|██████████| 5000/5000 [00:12<00:00, 411.19it/s]\n"
          ]
        },
        {
          "name": "stdout",
          "output_type": "stream",
          "text": [
            "17.4796\n",
            "Experiment: 1\n"
          ]
        },
        {
          "name": "stderr",
          "output_type": "stream",
          "text": [
            "100%|██████████| 5000/5000 [00:12<00:00, 411.37it/s]\n"
          ]
        },
        {
          "name": "stdout",
          "output_type": "stream",
          "text": [
            "17.592\n",
            "Experiment: 1\n"
          ]
        },
        {
          "name": "stderr",
          "output_type": "stream",
          "text": [
            "100%|██████████| 5000/5000 [00:13<00:00, 383.84it/s]\n"
          ]
        },
        {
          "name": "stdout",
          "output_type": "stream",
          "text": [
            "17.6562\n",
            "Experiment: 1\n"
          ]
        },
        {
          "name": "stderr",
          "output_type": "stream",
          "text": [
            "100%|██████████| 5000/5000 [00:15<00:00, 326.30it/s]\n"
          ]
        },
        {
          "name": "stdout",
          "output_type": "stream",
          "text": [
            "17.7214\n",
            "Experiment: 1\n"
          ]
        },
        {
          "name": "stderr",
          "output_type": "stream",
          "text": [
            "100%|██████████| 5000/5000 [00:12<00:00, 399.47it/s]\n"
          ]
        },
        {
          "name": "stdout",
          "output_type": "stream",
          "text": [
            "17.5434\n",
            "Experiment: 1\n"
          ]
        },
        {
          "name": "stderr",
          "output_type": "stream",
          "text": [
            "100%|██████████| 5000/5000 [00:15<00:00, 325.92it/s]\n"
          ]
        },
        {
          "name": "stdout",
          "output_type": "stream",
          "text": [
            "17.3536\n",
            "Experiment: 1\n"
          ]
        },
        {
          "name": "stderr",
          "output_type": "stream",
          "text": [
            "100%|██████████| 5000/5000 [00:13<00:00, 374.33it/s]\n"
          ]
        },
        {
          "name": "stdout",
          "output_type": "stream",
          "text": [
            "20.5262\n",
            "Experiment: 1\n"
          ]
        },
        {
          "name": "stderr",
          "output_type": "stream",
          "text": [
            "100%|██████████| 5000/5000 [00:11<00:00, 436.88it/s]\n"
          ]
        },
        {
          "name": "stdout",
          "output_type": "stream",
          "text": [
            "16.5538\n",
            "Experiment: 1\n"
          ]
        },
        {
          "name": "stderr",
          "output_type": "stream",
          "text": [
            "100%|██████████| 5000/5000 [00:10<00:00, 499.78it/s]\n"
          ]
        },
        {
          "name": "stdout",
          "output_type": "stream",
          "text": [
            "15.1528\n",
            "Experiment: 1\n"
          ]
        },
        {
          "name": "stderr",
          "output_type": "stream",
          "text": [
            "100%|██████████| 5000/5000 [00:33<00:00, 149.44it/s]\n"
          ]
        },
        {
          "name": "stdout",
          "output_type": "stream",
          "text": [
            "56.7306\n",
            "Experiment: 1\n"
          ]
        },
        {
          "name": "stderr",
          "output_type": "stream",
          "text": [
            "100%|██████████| 5000/5000 [00:16<00:00, 299.88it/s]\n"
          ]
        },
        {
          "name": "stdout",
          "output_type": "stream",
          "text": [
            "17.5866\n",
            "Experiment: 1\n"
          ]
        },
        {
          "name": "stderr",
          "output_type": "stream",
          "text": [
            "100%|██████████| 5000/5000 [00:28<00:00, 173.70it/s]\n"
          ]
        },
        {
          "name": "stdout",
          "output_type": "stream",
          "text": [
            "39.8\n",
            "Experiment: 1\n"
          ]
        },
        {
          "name": "stderr",
          "output_type": "stream",
          "text": [
            "100%|██████████| 5000/5000 [00:15<00:00, 317.38it/s]\n"
          ]
        },
        {
          "name": "stdout",
          "output_type": "stream",
          "text": [
            "23.399\n",
            "Experiment: 1\n"
          ]
        },
        {
          "name": "stderr",
          "output_type": "stream",
          "text": [
            "100%|██████████| 5000/5000 [00:14<00:00, 351.81it/s]\n"
          ]
        },
        {
          "name": "stdout",
          "output_type": "stream",
          "text": [
            "23.075\n",
            "[{'alpha': 0.7755101743709872, 'gamma': 0.9763261445049514, 'epsilon_tau': 0.5715431037270657, 'mean_rewards': -6.638, 'mean_steps': 15.1528}, {'alpha': 0.7679204513529706, 'gamma': 0.9640846284392658, 'epsilon_tau': 0.3737313381369028, 'mean_rewards': -6.645, 'mean_steps': 17.4796}, {'alpha': 0.7755101743709872, 'gamma': 0.9640846284392658, 'epsilon_tau': 0.3737313381369028, 'mean_rewards': -6.7004, 'mean_steps': 17.5434}, {'alpha': 0.7755101743709872, 'gamma': 0.9455572945219477, 'epsilon_tau': 0.3737313381369028, 'mean_rewards': -6.7486, 'mean_steps': 17.5866}, {'alpha': 0.7755101743709872, 'gamma': 0.9455572945219477, 'epsilon_tau': 0.3737313381369028, 'mean_rewards': -6.7518, 'mean_steps': 17.592}]\n",
            "{'alpha': 0.7755101743709872, 'gamma': 0.9763261445049514, 'epsilon_tau': 0.5715431037270657, 'mean_rewards': -6.638, 'mean_steps': 15.1528}\n",
            "\n",
            "Best Hyperparameters: {'alpha': 0.7755101743709872, 'gamma': 0.9763261445049514, 'epsilon_tau': 0.5715431037270657}\n",
            "Best Mean Rewards: -6.638\n",
            "Best Mean Steps: 15.1528\n",
            "\n",
            "Generation 5\n",
            "Experiment: 1\n"
          ]
        },
        {
          "name": "stderr",
          "output_type": "stream",
          "text": [
            "100%|██████████| 5000/5000 [00:11<00:00, 429.99it/s]\n"
          ]
        },
        {
          "name": "stdout",
          "output_type": "stream",
          "text": [
            "17.7778\n",
            "Experiment: 1\n"
          ]
        },
        {
          "name": "stderr",
          "output_type": "stream",
          "text": [
            "100%|██████████| 5000/5000 [00:12<00:00, 412.02it/s]\n"
          ]
        },
        {
          "name": "stdout",
          "output_type": "stream",
          "text": [
            "17.472\n",
            "Experiment: 1\n"
          ]
        },
        {
          "name": "stderr",
          "output_type": "stream",
          "text": [
            "100%|██████████| 5000/5000 [00:12<00:00, 390.60it/s]\n"
          ]
        },
        {
          "name": "stdout",
          "output_type": "stream",
          "text": [
            "17.4798\n",
            "Experiment: 1\n"
          ]
        },
        {
          "name": "stderr",
          "output_type": "stream",
          "text": [
            "100%|██████████| 5000/5000 [00:11<00:00, 422.31it/s]\n"
          ]
        },
        {
          "name": "stdout",
          "output_type": "stream",
          "text": [
            "17.4814\n",
            "Experiment: 1\n"
          ]
        },
        {
          "name": "stderr",
          "output_type": "stream",
          "text": [
            "100%|██████████| 5000/5000 [00:08<00:00, 609.92it/s]\n"
          ]
        },
        {
          "name": "stdout",
          "output_type": "stream",
          "text": [
            "12.6018\n",
            "Experiment: 1\n"
          ]
        },
        {
          "name": "stderr",
          "output_type": "stream",
          "text": [
            "100%|██████████| 5000/5000 [00:11<00:00, 430.27it/s]\n"
          ]
        },
        {
          "name": "stdout",
          "output_type": "stream",
          "text": [
            "17.3936\n",
            "Experiment: 1\n"
          ]
        },
        {
          "name": "stderr",
          "output_type": "stream",
          "text": [
            "100%|██████████| 5000/5000 [00:15<00:00, 314.58it/s]\n"
          ]
        },
        {
          "name": "stdout",
          "output_type": "stream",
          "text": [
            "24.942\n",
            "Experiment: 1\n"
          ]
        },
        {
          "name": "stderr",
          "output_type": "stream",
          "text": [
            "100%|██████████| 5000/5000 [00:14<00:00, 333.45it/s]\n"
          ]
        },
        {
          "name": "stdout",
          "output_type": "stream",
          "text": [
            "17.6002\n",
            "Experiment: 1\n"
          ]
        },
        {
          "name": "stderr",
          "output_type": "stream",
          "text": [
            "100%|██████████| 5000/5000 [00:13<00:00, 379.29it/s]\n"
          ]
        },
        {
          "name": "stdout",
          "output_type": "stream",
          "text": [
            "17.7582\n",
            "Experiment: 1\n"
          ]
        },
        {
          "name": "stderr",
          "output_type": "stream",
          "text": [
            "100%|██████████| 5000/5000 [00:12<00:00, 407.85it/s]\n"
          ]
        },
        {
          "name": "stdout",
          "output_type": "stream",
          "text": [
            "18.296\n",
            "Experiment: 1\n"
          ]
        },
        {
          "name": "stderr",
          "output_type": "stream",
          "text": [
            "100%|██████████| 5000/5000 [00:11<00:00, 420.03it/s]\n"
          ]
        },
        {
          "name": "stdout",
          "output_type": "stream",
          "text": [
            "17.4538\n",
            "Experiment: 1\n"
          ]
        },
        {
          "name": "stderr",
          "output_type": "stream",
          "text": [
            "100%|██████████| 5000/5000 [00:15<00:00, 326.75it/s]\n"
          ]
        },
        {
          "name": "stdout",
          "output_type": "stream",
          "text": [
            "17.4428\n",
            "Experiment: 1\n"
          ]
        },
        {
          "name": "stderr",
          "output_type": "stream",
          "text": [
            "100%|██████████| 5000/5000 [00:20<00:00, 240.10it/s]\n"
          ]
        },
        {
          "name": "stdout",
          "output_type": "stream",
          "text": [
            "17.717\n",
            "Experiment: 1\n"
          ]
        },
        {
          "name": "stderr",
          "output_type": "stream",
          "text": [
            "100%|██████████| 5000/5000 [00:17<00:00, 278.10it/s]\n"
          ]
        },
        {
          "name": "stdout",
          "output_type": "stream",
          "text": [
            "26.6526\n",
            "Experiment: 1\n"
          ]
        },
        {
          "name": "stderr",
          "output_type": "stream",
          "text": [
            "100%|██████████| 5000/5000 [00:12<00:00, 393.37it/s]\n"
          ]
        },
        {
          "name": "stdout",
          "output_type": "stream",
          "text": [
            "17.4982\n",
            "[{'alpha': 0.7755101743709872, 'gamma': 0.9455572945219477, 'epsilon_tau': 0.3737313381369028, 'mean_rewards': -6.7338, 'mean_steps': 12.6018}, {'alpha': 0.7755101743709872, 'gamma': 0.987529346538963, 'epsilon_tau': 0.3737313381369028, 'mean_rewards': -6.5518, 'mean_steps': 17.3936}, {'alpha': 0.7347510916531038, 'gamma': 0.9640846284392658, 'epsilon_tau': 0.3737313381369028, 'mean_rewards': -6.6094, 'mean_steps': 17.4428}, {'alpha': 0.7755101743709872, 'gamma': 0.9640846284392658, 'epsilon_tau': 0.3737313381369028, 'mean_rewards': -6.6172, 'mean_steps': 17.4538}, {'alpha': 0.7679204513529706, 'gamma': 0.9640846284392658, 'epsilon_tau': 0.3737313381369028, 'mean_rewards': -6.6474, 'mean_steps': 17.472}]\n",
            "{'alpha': 0.7755101743709872, 'gamma': 0.9455572945219477, 'epsilon_tau': 0.3737313381369028, 'mean_rewards': -6.7338, 'mean_steps': 12.6018}\n",
            "\n",
            "Best Hyperparameters: {'alpha': 0.7755101743709872, 'gamma': 0.9455572945219477, 'epsilon_tau': 0.3737313381369028}\n",
            "Best Mean Rewards: -6.7338\n",
            "Best Mean Steps: 12.6018\n",
            "\n",
            "Generation 6\n",
            "Experiment: 1\n"
          ]
        },
        {
          "name": "stderr",
          "output_type": "stream",
          "text": [
            "100%|██████████| 5000/5000 [00:12<00:00, 397.88it/s]\n"
          ]
        },
        {
          "name": "stdout",
          "output_type": "stream",
          "text": [
            "17.5422\n",
            "Experiment: 1\n"
          ]
        },
        {
          "name": "stderr",
          "output_type": "stream",
          "text": [
            "100%|██████████| 5000/5000 [00:16<00:00, 300.21it/s]\n"
          ]
        },
        {
          "name": "stdout",
          "output_type": "stream",
          "text": [
            "17.4446\n",
            "Experiment: 1\n"
          ]
        },
        {
          "name": "stderr",
          "output_type": "stream",
          "text": [
            "100%|██████████| 5000/5000 [00:13<00:00, 378.91it/s]\n"
          ]
        },
        {
          "name": "stdout",
          "output_type": "stream",
          "text": [
            "17.4524\n",
            "Experiment: 1\n"
          ]
        },
        {
          "name": "stderr",
          "output_type": "stream",
          "text": [
            "100%|██████████| 5000/5000 [00:12<00:00, 393.17it/s]\n"
          ]
        },
        {
          "name": "stdout",
          "output_type": "stream",
          "text": [
            "17.446\n",
            "Experiment: 1\n"
          ]
        },
        {
          "name": "stderr",
          "output_type": "stream",
          "text": [
            "100%|██████████| 5000/5000 [00:12<00:00, 415.24it/s]\n"
          ]
        },
        {
          "name": "stdout",
          "output_type": "stream",
          "text": [
            "17.4328\n",
            "Experiment: 1\n"
          ]
        },
        {
          "name": "stderr",
          "output_type": "stream",
          "text": [
            "100%|██████████| 5000/5000 [00:10<00:00, 454.78it/s]\n"
          ]
        },
        {
          "name": "stdout",
          "output_type": "stream",
          "text": [
            "17.4528\n",
            "Experiment: 1\n"
          ]
        },
        {
          "name": "stderr",
          "output_type": "stream",
          "text": [
            "100%|██████████| 5000/5000 [00:17<00:00, 294.09it/s]\n"
          ]
        },
        {
          "name": "stdout",
          "output_type": "stream",
          "text": [
            "27.7734\n",
            "Experiment: 1\n"
          ]
        },
        {
          "name": "stderr",
          "output_type": "stream",
          "text": [
            "100%|██████████| 5000/5000 [00:24<00:00, 200.62it/s]\n"
          ]
        },
        {
          "name": "stdout",
          "output_type": "stream",
          "text": [
            "45.6374\n",
            "Experiment: 1\n"
          ]
        },
        {
          "name": "stderr",
          "output_type": "stream",
          "text": [
            "100%|██████████| 5000/5000 [00:14<00:00, 352.04it/s]\n"
          ]
        },
        {
          "name": "stdout",
          "output_type": "stream",
          "text": [
            "20.3062\n",
            "Experiment: 1\n"
          ]
        },
        {
          "name": "stderr",
          "output_type": "stream",
          "text": [
            "100%|██████████| 5000/5000 [00:12<00:00, 402.70it/s]\n"
          ]
        },
        {
          "name": "stdout",
          "output_type": "stream",
          "text": [
            "17.5642\n",
            "Experiment: 1\n"
          ]
        },
        {
          "name": "stderr",
          "output_type": "stream",
          "text": [
            "100%|██████████| 5000/5000 [00:14<00:00, 333.86it/s]\n"
          ]
        },
        {
          "name": "stdout",
          "output_type": "stream",
          "text": [
            "17.6202\n",
            "Experiment: 1\n"
          ]
        },
        {
          "name": "stderr",
          "output_type": "stream",
          "text": [
            "100%|██████████| 5000/5000 [00:16<00:00, 308.66it/s]\n"
          ]
        },
        {
          "name": "stdout",
          "output_type": "stream",
          "text": [
            "18.7376\n",
            "Experiment: 1\n"
          ]
        },
        {
          "name": "stderr",
          "output_type": "stream",
          "text": [
            "100%|██████████| 5000/5000 [00:10<00:00, 469.74it/s]\n"
          ]
        },
        {
          "name": "stdout",
          "output_type": "stream",
          "text": [
            "12.5448\n",
            "Experiment: 1\n"
          ]
        },
        {
          "name": "stderr",
          "output_type": "stream",
          "text": [
            "100%|██████████| 5000/5000 [00:10<00:00, 462.58it/s]\n"
          ]
        },
        {
          "name": "stdout",
          "output_type": "stream",
          "text": [
            "12.9864\n",
            "Experiment: 1\n"
          ]
        },
        {
          "name": "stderr",
          "output_type": "stream",
          "text": [
            "100%|██████████| 5000/5000 [00:10<00:00, 498.06it/s]\n"
          ]
        },
        {
          "name": "stdout",
          "output_type": "stream",
          "text": [
            "12.5078\n",
            "[{'alpha': 0.7679204513529706, 'gamma': 0.9640846284392658, 'epsilon_tau': 0.3737313381369028, 'mean_rewards': -6.617, 'mean_steps': 12.5078}, {'alpha': 0.6983582480462471, 'gamma': 0.9640846284392658, 'epsilon_tau': 0.3737313381369028, 'mean_rewards': -6.6552, 'mean_steps': 12.5448}, {'alpha': 0.7347510916531038, 'gamma': 0.9455572945219477, 'epsilon_tau': 0.3737313381369028, 'mean_rewards': -7.1082, 'mean_steps': 12.9864}, {'alpha': 0.7679204513529706, 'gamma': 0.9640846284392658, 'epsilon_tau': 0.3737313381369028, 'mean_rewards': -6.5834, 'mean_steps': 17.4328}, {'alpha': 0.7755101743709872, 'gamma': 0.987529346538963, 'epsilon_tau': 0.3737313381369028, 'mean_rewards': -6.6064, 'mean_steps': 17.4446}]\n",
            "{'alpha': 0.7679204513529706, 'gamma': 0.9640846284392658, 'epsilon_tau': 0.3737313381369028, 'mean_rewards': -6.617, 'mean_steps': 12.5078}\n",
            "\n",
            "Best Hyperparameters: {'alpha': 0.7679204513529706, 'gamma': 0.9640846284392658, 'epsilon_tau': 0.3737313381369028}\n",
            "Best Mean Rewards: -6.617\n",
            "Best Mean Steps: 12.5078\n",
            "\n",
            "Generation 7\n",
            "Experiment: 1\n"
          ]
        },
        {
          "name": "stderr",
          "output_type": "stream",
          "text": [
            "100%|██████████| 5000/5000 [00:10<00:00, 472.51it/s]\n"
          ]
        },
        {
          "name": "stdout",
          "output_type": "stream",
          "text": [
            "12.5446\n",
            "Experiment: 1\n"
          ]
        },
        {
          "name": "stderr",
          "output_type": "stream",
          "text": [
            "100%|██████████| 5000/5000 [00:16<00:00, 311.58it/s]\n"
          ]
        },
        {
          "name": "stdout",
          "output_type": "stream",
          "text": [
            "17.4548\n",
            "Experiment: 1\n"
          ]
        },
        {
          "name": "stderr",
          "output_type": "stream",
          "text": [
            "100%|██████████| 5000/5000 [00:15<00:00, 323.25it/s]\n"
          ]
        },
        {
          "name": "stdout",
          "output_type": "stream",
          "text": [
            "17.659\n",
            "Experiment: 1\n"
          ]
        },
        {
          "name": "stderr",
          "output_type": "stream",
          "text": [
            "100%|██████████| 5000/5000 [00:15<00:00, 315.81it/s]\n"
          ]
        },
        {
          "name": "stdout",
          "output_type": "stream",
          "text": [
            "17.442\n",
            "Experiment: 1\n"
          ]
        },
        {
          "name": "stderr",
          "output_type": "stream",
          "text": [
            "100%|██████████| 5000/5000 [00:15<00:00, 313.51it/s]\n"
          ]
        },
        {
          "name": "stdout",
          "output_type": "stream",
          "text": [
            "17.3912\n",
            "Experiment: 1\n"
          ]
        },
        {
          "name": "stderr",
          "output_type": "stream",
          "text": [
            "100%|██████████| 5000/5000 [00:18<00:00, 277.35it/s]\n"
          ]
        },
        {
          "name": "stdout",
          "output_type": "stream",
          "text": [
            "17.5112\n",
            "Experiment: 1\n"
          ]
        },
        {
          "name": "stderr",
          "output_type": "stream",
          "text": [
            "100%|██████████| 5000/5000 [00:44<00:00, 112.98it/s]\n"
          ]
        },
        {
          "name": "stdout",
          "output_type": "stream",
          "text": [
            "67.0008\n",
            "Experiment: 1\n"
          ]
        },
        {
          "name": "stderr",
          "output_type": "stream",
          "text": [
            "100%|██████████| 5000/5000 [00:11<00:00, 449.03it/s]\n"
          ]
        },
        {
          "name": "stdout",
          "output_type": "stream",
          "text": [
            "17.4486\n",
            "Experiment: 1\n"
          ]
        },
        {
          "name": "stderr",
          "output_type": "stream",
          "text": [
            "100%|██████████| 5000/5000 [00:10<00:00, 456.35it/s]\n"
          ]
        },
        {
          "name": "stdout",
          "output_type": "stream",
          "text": [
            "17.5438\n",
            "Experiment: 1\n"
          ]
        },
        {
          "name": "stderr",
          "output_type": "stream",
          "text": [
            "100%|██████████| 5000/5000 [00:10<00:00, 457.31it/s]\n"
          ]
        },
        {
          "name": "stdout",
          "output_type": "stream",
          "text": [
            "17.652\n",
            "Experiment: 1\n"
          ]
        },
        {
          "name": "stderr",
          "output_type": "stream",
          "text": [
            "100%|██████████| 5000/5000 [00:10<00:00, 456.36it/s]\n"
          ]
        },
        {
          "name": "stdout",
          "output_type": "stream",
          "text": [
            "17.4634\n",
            "Experiment: 1\n"
          ]
        },
        {
          "name": "stderr",
          "output_type": "stream",
          "text": [
            "100%|██████████| 5000/5000 [00:10<00:00, 461.71it/s]\n"
          ]
        },
        {
          "name": "stdout",
          "output_type": "stream",
          "text": [
            "17.4818\n",
            "Experiment: 1\n"
          ]
        },
        {
          "name": "stderr",
          "output_type": "stream",
          "text": [
            "100%|██████████| 5000/5000 [00:13<00:00, 366.18it/s]\n"
          ]
        },
        {
          "name": "stdout",
          "output_type": "stream",
          "text": [
            "23.0064\n",
            "Experiment: 1\n"
          ]
        },
        {
          "name": "stderr",
          "output_type": "stream",
          "text": [
            "100%|██████████| 5000/5000 [00:10<00:00, 460.77it/s]\n"
          ]
        },
        {
          "name": "stdout",
          "output_type": "stream",
          "text": [
            "17.433\n",
            "Experiment: 1\n"
          ]
        },
        {
          "name": "stderr",
          "output_type": "stream",
          "text": [
            "100%|██████████| 5000/5000 [00:11<00:00, 452.54it/s]"
          ]
        },
        {
          "name": "stdout",
          "output_type": "stream",
          "text": [
            "17.7192\n",
            "[{'alpha': 0.7679204513529706, 'gamma': 0.9640846284392658, 'epsilon_tau': 0.3737313381369028, 'mean_rewards': -6.657, 'mean_steps': 12.5446}, {'alpha': 0.7755101743709872, 'gamma': 0.987529346538963, 'epsilon_tau': 0.3737313381369028, 'mean_rewards': -6.54, 'mean_steps': 17.3912}, {'alpha': 0.7755101743709872, 'gamma': 0.987529346538963, 'epsilon_tau': 0.3737313381369028, 'mean_rewards': -6.6046, 'mean_steps': 17.433}, {'alpha': 0.7679204513529706, 'gamma': 0.9640846284392658, 'epsilon_tau': 0.3737313381369028, 'mean_rewards': -6.6036, 'mean_steps': 17.442}, {'alpha': 0.7679204513529706, 'gamma': 0.9640846284392658, 'epsilon_tau': 0.3737313381369028, 'mean_rewards': -6.6218, 'mean_steps': 17.4486}]\n",
            "{'alpha': 0.7679204513529706, 'gamma': 0.9640846284392658, 'epsilon_tau': 0.3737313381369028, 'mean_rewards': -6.657, 'mean_steps': 12.5446}\n",
            "\n",
            "Best Hyperparameters: {'alpha': 0.7679204513529706, 'gamma': 0.9640846284392658, 'epsilon_tau': 0.3737313381369028}\n",
            "Best Mean Rewards: -6.657\n",
            "Best Mean Steps: 12.5446\n"
          ]
        },
        {
          "name": "stderr",
          "output_type": "stream",
          "text": [
            "\n"
          ]
        }
      ],
      "source": [
        "best_hyperparameters, best_mean_rewards, best_mean_steps, a2 = genetic_algorithm(env1, qlearning_s, e_s=1)\n",
        "write_results_to_file(file_path, (best_hyperparameters, best_mean_rewards, best_mean_steps), \"Q-Learning_Softmax_e1\")"
      ]
    },
    {
      "cell_type": "code",
      "execution_count": 46,
      "metadata": {},
      "outputs": [
        {
          "name": "stdout",
          "output_type": "stream",
          "text": [
            "\n",
            "Generation 1\n",
            "Experiment: 1\n"
          ]
        },
        {
          "name": "stderr",
          "output_type": "stream",
          "text": [
            "100%|██████████| 5000/5000 [00:19<00:00, 259.40it/s]\n"
          ]
        },
        {
          "name": "stdout",
          "output_type": "stream",
          "text": [
            "36.8448\n",
            "Experiment: 1\n"
          ]
        },
        {
          "name": "stderr",
          "output_type": "stream",
          "text": [
            "100%|██████████| 5000/5000 [00:17<00:00, 289.01it/s]\n"
          ]
        },
        {
          "name": "stdout",
          "output_type": "stream",
          "text": [
            "36.6548\n",
            "Experiment: 1\n"
          ]
        },
        {
          "name": "stderr",
          "output_type": "stream",
          "text": [
            "100%|██████████| 5000/5000 [00:09<00:00, 539.21it/s]\n"
          ]
        },
        {
          "name": "stdout",
          "output_type": "stream",
          "text": [
            "17.5662\n",
            "Experiment: 1\n"
          ]
        },
        {
          "name": "stderr",
          "output_type": "stream",
          "text": [
            "100%|██████████| 5000/5000 [00:06<00:00, 770.93it/s]\n"
          ]
        },
        {
          "name": "stdout",
          "output_type": "stream",
          "text": [
            "13.711\n",
            "Experiment: 1\n"
          ]
        },
        {
          "name": "stderr",
          "output_type": "stream",
          "text": [
            "100%|██████████| 5000/5000 [00:11<00:00, 433.55it/s]\n"
          ]
        },
        {
          "name": "stdout",
          "output_type": "stream",
          "text": [
            "22.7048\n",
            "Experiment: 1\n"
          ]
        },
        {
          "name": "stderr",
          "output_type": "stream",
          "text": [
            "100%|██████████| 5000/5000 [00:40<00:00, 123.25it/s]\n"
          ]
        },
        {
          "name": "stdout",
          "output_type": "stream",
          "text": [
            "85.677\n",
            "Experiment: 1\n"
          ]
        },
        {
          "name": "stderr",
          "output_type": "stream",
          "text": [
            "100%|██████████| 5000/5000 [00:36<00:00, 138.69it/s]\n"
          ]
        },
        {
          "name": "stdout",
          "output_type": "stream",
          "text": [
            "67.7918\n",
            "Experiment: 1\n"
          ]
        },
        {
          "name": "stderr",
          "output_type": "stream",
          "text": [
            "100%|██████████| 5000/5000 [00:11<00:00, 439.64it/s]\n"
          ]
        },
        {
          "name": "stdout",
          "output_type": "stream",
          "text": [
            "17.5774\n",
            "Experiment: 1\n"
          ]
        },
        {
          "name": "stderr",
          "output_type": "stream",
          "text": [
            "100%|██████████| 5000/5000 [00:12<00:00, 393.67it/s]\n"
          ]
        },
        {
          "name": "stdout",
          "output_type": "stream",
          "text": [
            "17.7908\n",
            "Experiment: 1\n"
          ]
        },
        {
          "name": "stderr",
          "output_type": "stream",
          "text": [
            "100%|██████████| 5000/5000 [00:08<00:00, 572.22it/s]\n"
          ]
        },
        {
          "name": "stdout",
          "output_type": "stream",
          "text": [
            "13.7722\n",
            "Experiment: 1\n"
          ]
        },
        {
          "name": "stderr",
          "output_type": "stream",
          "text": [
            "100%|██████████| 5000/5000 [00:14<00:00, 354.77it/s]\n"
          ]
        },
        {
          "name": "stdout",
          "output_type": "stream",
          "text": [
            "17.496\n",
            "Experiment: 1\n"
          ]
        },
        {
          "name": "stderr",
          "output_type": "stream",
          "text": [
            "100%|██████████| 5000/5000 [00:58<00:00, 85.79it/s] \n"
          ]
        },
        {
          "name": "stdout",
          "output_type": "stream",
          "text": [
            "83.1254\n",
            "Experiment: 1\n"
          ]
        },
        {
          "name": "stderr",
          "output_type": "stream",
          "text": [
            "100%|██████████| 5000/5000 [00:14<00:00, 333.67it/s]\n"
          ]
        },
        {
          "name": "stdout",
          "output_type": "stream",
          "text": [
            "22.3648\n",
            "Experiment: 1\n"
          ]
        },
        {
          "name": "stderr",
          "output_type": "stream",
          "text": [
            "100%|██████████| 5000/5000 [00:42<00:00, 117.32it/s]\n"
          ]
        },
        {
          "name": "stdout",
          "output_type": "stream",
          "text": [
            "71.9562\n",
            "Experiment: 1\n"
          ]
        },
        {
          "name": "stderr",
          "output_type": "stream",
          "text": [
            "100%|██████████| 5000/5000 [00:14<00:00, 352.06it/s]\n"
          ]
        },
        {
          "name": "stdout",
          "output_type": "stream",
          "text": [
            "17.4622\n",
            "[{'alpha': 0.3981786982641753, 'gamma': 0.946529602064741, 'epsilon_tau': 0.29306890194966667, 'mean_rewards': -6.8068, 'mean_steps': 13.7722}, {'alpha': 0.1458088491864964, 'gamma': 0.8799052938856896, 'epsilon_tau': 0.08775006096636721, 'mean_rewards': -7.8034, 'mean_steps': 13.711}, {'alpha': 0.448983947052519, 'gamma': 0.97193767356752, 'epsilon_tau': 0.11359101286569344, 'mean_rewards': -6.6244, 'mean_steps': 17.4622}, {'alpha': 0.4623844561476358, 'gamma': 0.949960715276752, 'epsilon_tau': 0.05912286552288319, 'mean_rewards': -6.666, 'mean_steps': 17.496}, {'alpha': 0.4301326977396073, 'gamma': 0.9379382022131078, 'epsilon_tau': 0.0852466270118596, 'mean_rewards': -6.7492, 'mean_steps': 17.5662}]\n",
            "{'alpha': 0.3981786982641753, 'gamma': 0.946529602064741, 'epsilon_tau': 0.29306890194966667, 'mean_rewards': -6.8068, 'mean_steps': 13.7722}\n",
            "\n",
            "Best Hyperparameters: {'alpha': 0.3981786982641753, 'gamma': 0.946529602064741, 'epsilon_tau': 0.29306890194966667}\n",
            "Best Mean Rewards: -6.8068\n",
            "Best Mean Steps: 13.7722\n",
            "\n",
            "Generation 2\n",
            "Experiment: 1\n"
          ]
        },
        {
          "name": "stderr",
          "output_type": "stream",
          "text": [
            "100%|██████████| 5000/5000 [00:11<00:00, 420.23it/s]\n"
          ]
        },
        {
          "name": "stdout",
          "output_type": "stream",
          "text": [
            "17.6834\n",
            "Experiment: 1\n"
          ]
        },
        {
          "name": "stderr",
          "output_type": "stream",
          "text": [
            "100%|██████████| 5000/5000 [00:11<00:00, 443.94it/s]\n"
          ]
        },
        {
          "name": "stdout",
          "output_type": "stream",
          "text": [
            "18.4594\n",
            "Experiment: 1\n"
          ]
        },
        {
          "name": "stderr",
          "output_type": "stream",
          "text": [
            "100%|██████████| 5000/5000 [00:10<00:00, 467.80it/s]\n"
          ]
        },
        {
          "name": "stdout",
          "output_type": "stream",
          "text": [
            "17.5366\n",
            "Experiment: 1\n"
          ]
        },
        {
          "name": "stderr",
          "output_type": "stream",
          "text": [
            "100%|██████████| 5000/5000 [00:11<00:00, 449.13it/s]\n"
          ]
        },
        {
          "name": "stdout",
          "output_type": "stream",
          "text": [
            "17.5358\n",
            "Experiment: 1\n"
          ]
        },
        {
          "name": "stderr",
          "output_type": "stream",
          "text": [
            "100%|██████████| 5000/5000 [00:13<00:00, 373.67it/s]\n"
          ]
        },
        {
          "name": "stdout",
          "output_type": "stream",
          "text": [
            "17.547\n",
            "Experiment: 1\n"
          ]
        },
        {
          "name": "stderr",
          "output_type": "stream",
          "text": [
            "100%|██████████| 5000/5000 [00:12<00:00, 386.75it/s]\n"
          ]
        },
        {
          "name": "stdout",
          "output_type": "stream",
          "text": [
            "17.535\n",
            "Experiment: 1\n"
          ]
        },
        {
          "name": "stderr",
          "output_type": "stream",
          "text": [
            "100%|██████████| 5000/5000 [00:14<00:00, 356.32it/s]\n"
          ]
        },
        {
          "name": "stdout",
          "output_type": "stream",
          "text": [
            "18.711\n",
            "Experiment: 1\n"
          ]
        },
        {
          "name": "stderr",
          "output_type": "stream",
          "text": [
            "100%|██████████| 5000/5000 [00:12<00:00, 415.82it/s]\n"
          ]
        },
        {
          "name": "stdout",
          "output_type": "stream",
          "text": [
            "18.4428\n",
            "Experiment: 1\n"
          ]
        },
        {
          "name": "stderr",
          "output_type": "stream",
          "text": [
            "100%|██████████| 5000/5000 [00:10<00:00, 478.04it/s]\n"
          ]
        },
        {
          "name": "stdout",
          "output_type": "stream",
          "text": [
            "17.5182\n",
            "Experiment: 1\n"
          ]
        },
        {
          "name": "stderr",
          "output_type": "stream",
          "text": [
            "100%|██████████| 5000/5000 [00:10<00:00, 490.95it/s]\n"
          ]
        },
        {
          "name": "stdout",
          "output_type": "stream",
          "text": [
            "17.38\n",
            "Experiment: 1\n"
          ]
        },
        {
          "name": "stderr",
          "output_type": "stream",
          "text": [
            "100%|██████████| 5000/5000 [00:10<00:00, 469.57it/s]\n"
          ]
        },
        {
          "name": "stdout",
          "output_type": "stream",
          "text": [
            "18.4834\n",
            "Experiment: 1\n"
          ]
        },
        {
          "name": "stderr",
          "output_type": "stream",
          "text": [
            "100%|██████████| 5000/5000 [00:07<00:00, 710.28it/s]\n"
          ]
        },
        {
          "name": "stdout",
          "output_type": "stream",
          "text": [
            "13.5408\n",
            "Experiment: 1\n"
          ]
        },
        {
          "name": "stderr",
          "output_type": "stream",
          "text": [
            "100%|██████████| 5000/5000 [00:10<00:00, 479.57it/s]\n"
          ]
        },
        {
          "name": "stdout",
          "output_type": "stream",
          "text": [
            "17.5568\n",
            "Experiment: 1\n"
          ]
        },
        {
          "name": "stderr",
          "output_type": "stream",
          "text": [
            "100%|██████████| 5000/5000 [00:11<00:00, 450.19it/s]\n"
          ]
        },
        {
          "name": "stdout",
          "output_type": "stream",
          "text": [
            "20.0922\n",
            "Experiment: 1\n"
          ]
        },
        {
          "name": "stderr",
          "output_type": "stream",
          "text": [
            "100%|██████████| 5000/5000 [00:10<00:00, 495.91it/s]\n"
          ]
        },
        {
          "name": "stdout",
          "output_type": "stream",
          "text": [
            "17.5874\n",
            "[{'alpha': 0.1458088491864964, 'gamma': 0.9246446156990709, 'epsilon_tau': 0.08775006096636721, 'mean_rewards': -7.6302, 'mean_steps': 13.5408}, {'alpha': 0.7591830750919508, 'gamma': 0.946529602064741, 'epsilon_tau': 0.11359101286569344, 'mean_rewards': -6.5356, 'mean_steps': 17.38}, {'alpha': 0.448983947052519, 'gamma': 0.946529602064741, 'epsilon_tau': 0.11359101286569344, 'mean_rewards': -6.7, 'mean_steps': 17.5182}, {'alpha': 0.4623844561476358, 'gamma': 0.949960715276752, 'epsilon_tau': 0.05912286552288319, 'mean_rewards': -6.7154, 'mean_steps': 17.535}, {'alpha': 0.4623844561476358, 'gamma': 0.949960715276752, 'epsilon_tau': 0.05912286552288319, 'mean_rewards': -6.7192, 'mean_steps': 17.5358}]\n",
            "{'alpha': 0.1458088491864964, 'gamma': 0.9246446156990709, 'epsilon_tau': 0.08775006096636721, 'mean_rewards': -7.6302, 'mean_steps': 13.5408}\n",
            "\n",
            "Best Hyperparameters: {'alpha': 0.1458088491864964, 'gamma': 0.9246446156990709, 'epsilon_tau': 0.08775006096636721}\n",
            "Best Mean Rewards: -7.6302\n",
            "Best Mean Steps: 13.5408\n",
            "\n",
            "Generation 3\n",
            "Experiment: 1\n"
          ]
        },
        {
          "name": "stderr",
          "output_type": "stream",
          "text": [
            "100%|██████████| 5000/5000 [00:10<00:00, 476.29it/s]\n"
          ]
        },
        {
          "name": "stdout",
          "output_type": "stream",
          "text": [
            "18.4006\n",
            "Experiment: 1\n"
          ]
        },
        {
          "name": "stderr",
          "output_type": "stream",
          "text": [
            "100%|██████████| 5000/5000 [00:09<00:00, 536.30it/s]\n"
          ]
        },
        {
          "name": "stdout",
          "output_type": "stream",
          "text": [
            "17.3862\n",
            "Experiment: 1\n"
          ]
        },
        {
          "name": "stderr",
          "output_type": "stream",
          "text": [
            "100%|██████████| 5000/5000 [00:10<00:00, 495.79it/s]\n"
          ]
        },
        {
          "name": "stdout",
          "output_type": "stream",
          "text": [
            "17.5528\n",
            "Experiment: 1\n"
          ]
        },
        {
          "name": "stderr",
          "output_type": "stream",
          "text": [
            "100%|██████████| 5000/5000 [00:09<00:00, 518.71it/s]\n"
          ]
        },
        {
          "name": "stdout",
          "output_type": "stream",
          "text": [
            "17.5266\n",
            "Experiment: 1\n"
          ]
        },
        {
          "name": "stderr",
          "output_type": "stream",
          "text": [
            "100%|██████████| 5000/5000 [00:10<00:00, 494.42it/s]\n"
          ]
        },
        {
          "name": "stdout",
          "output_type": "stream",
          "text": [
            "17.525\n",
            "Experiment: 1\n"
          ]
        },
        {
          "name": "stderr",
          "output_type": "stream",
          "text": [
            "100%|██████████| 5000/5000 [00:10<00:00, 493.37it/s]\n"
          ]
        },
        {
          "name": "stdout",
          "output_type": "stream",
          "text": [
            "17.5104\n",
            "Experiment: 1\n"
          ]
        },
        {
          "name": "stderr",
          "output_type": "stream",
          "text": [
            "100%|██████████| 5000/5000 [00:09<00:00, 501.53it/s]\n"
          ]
        },
        {
          "name": "stdout",
          "output_type": "stream",
          "text": [
            "17.5468\n",
            "Experiment: 1\n"
          ]
        },
        {
          "name": "stderr",
          "output_type": "stream",
          "text": [
            "100%|██████████| 5000/5000 [00:09<00:00, 501.94it/s]\n"
          ]
        },
        {
          "name": "stdout",
          "output_type": "stream",
          "text": [
            "17.573\n",
            "Experiment: 1\n"
          ]
        },
        {
          "name": "stderr",
          "output_type": "stream",
          "text": [
            "100%|██████████| 5000/5000 [00:10<00:00, 488.79it/s]\n"
          ]
        },
        {
          "name": "stdout",
          "output_type": "stream",
          "text": [
            "17.431\n",
            "Experiment: 1\n"
          ]
        },
        {
          "name": "stderr",
          "output_type": "stream",
          "text": [
            "100%|██████████| 5000/5000 [00:10<00:00, 478.38it/s]\n"
          ]
        },
        {
          "name": "stdout",
          "output_type": "stream",
          "text": [
            "17.5432\n",
            "Experiment: 1\n"
          ]
        },
        {
          "name": "stderr",
          "output_type": "stream",
          "text": [
            "100%|██████████| 5000/5000 [00:09<00:00, 500.97it/s]\n"
          ]
        },
        {
          "name": "stdout",
          "output_type": "stream",
          "text": [
            "17.5028\n",
            "Experiment: 1\n"
          ]
        },
        {
          "name": "stderr",
          "output_type": "stream",
          "text": [
            "100%|██████████| 5000/5000 [00:10<00:00, 499.01it/s]\n"
          ]
        },
        {
          "name": "stdout",
          "output_type": "stream",
          "text": [
            "17.4308\n",
            "Experiment: 1\n"
          ]
        },
        {
          "name": "stderr",
          "output_type": "stream",
          "text": [
            "100%|██████████| 5000/5000 [00:10<00:00, 479.46it/s]\n"
          ]
        },
        {
          "name": "stdout",
          "output_type": "stream",
          "text": [
            "18.3102\n",
            "Experiment: 1\n"
          ]
        },
        {
          "name": "stderr",
          "output_type": "stream",
          "text": [
            "100%|██████████| 5000/5000 [00:09<00:00, 503.81it/s]\n"
          ]
        },
        {
          "name": "stdout",
          "output_type": "stream",
          "text": [
            "17.4348\n",
            "Experiment: 1\n"
          ]
        },
        {
          "name": "stderr",
          "output_type": "stream",
          "text": [
            "100%|██████████| 5000/5000 [00:11<00:00, 451.10it/s]\n"
          ]
        },
        {
          "name": "stdout",
          "output_type": "stream",
          "text": [
            "19.6698\n",
            "[{'alpha': 0.7591830750919508, 'gamma': 0.946529602064741, 'epsilon_tau': 0.05912286552288319, 'mean_rewards': -6.5884, 'mean_steps': 17.4308}, {'alpha': 0.6227552879935246, 'gamma': 0.946529602064741, 'epsilon_tau': 0.05912286552288319, 'mean_rewards': -6.5928, 'mean_steps': 17.431}, {'alpha': 0.6125494652091306, 'gamma': 0.9246446156990709, 'epsilon_tau': 0.08775006096636721, 'mean_rewards': -6.5964, 'mean_steps': 17.4348}, {'alpha': 0.4623844561476358, 'gamma': 0.9837034183810172, 'epsilon_tau': 0.05912286552288319, 'mean_rewards': -6.6754, 'mean_steps': 17.5028}, {'alpha': 0.4623844561476358, 'gamma': 0.9807793400610745, 'epsilon_tau': 0.05912286552288319, 'mean_rewards': -6.6844, 'mean_steps': 17.5104}]\n",
            "{'alpha': 0.7591830750919508, 'gamma': 0.946529602064741, 'epsilon_tau': 0.05912286552288319, 'mean_rewards': -6.5884, 'mean_steps': 17.4308}\n",
            "\n",
            "Best Hyperparameters: {'alpha': 0.7591830750919508, 'gamma': 0.946529602064741, 'epsilon_tau': 0.05912286552288319}\n",
            "Best Mean Rewards: -6.5884\n",
            "Best Mean Steps: 17.4308\n",
            "\n",
            "Generation 4\n",
            "Experiment: 1\n"
          ]
        },
        {
          "name": "stderr",
          "output_type": "stream",
          "text": [
            "100%|██████████| 5000/5000 [00:10<00:00, 493.81it/s]\n"
          ]
        },
        {
          "name": "stdout",
          "output_type": "stream",
          "text": [
            "17.3848\n",
            "Experiment: 1\n"
          ]
        },
        {
          "name": "stderr",
          "output_type": "stream",
          "text": [
            "100%|██████████| 5000/5000 [00:09<00:00, 506.23it/s]\n"
          ]
        },
        {
          "name": "stdout",
          "output_type": "stream",
          "text": [
            "17.4216\n",
            "Experiment: 1\n"
          ]
        },
        {
          "name": "stderr",
          "output_type": "stream",
          "text": [
            "100%|██████████| 5000/5000 [00:11<00:00, 441.02it/s]\n"
          ]
        },
        {
          "name": "stdout",
          "output_type": "stream",
          "text": [
            "17.4294\n",
            "Experiment: 1\n"
          ]
        },
        {
          "name": "stderr",
          "output_type": "stream",
          "text": [
            "100%|██████████| 5000/5000 [00:10<00:00, 462.17it/s]\n"
          ]
        },
        {
          "name": "stdout",
          "output_type": "stream",
          "text": [
            "17.4576\n",
            "Experiment: 1\n"
          ]
        },
        {
          "name": "stderr",
          "output_type": "stream",
          "text": [
            "100%|██████████| 5000/5000 [00:09<00:00, 500.45it/s]\n"
          ]
        },
        {
          "name": "stdout",
          "output_type": "stream",
          "text": [
            "17.5052\n",
            "Experiment: 1\n"
          ]
        },
        {
          "name": "stderr",
          "output_type": "stream",
          "text": [
            "100%|██████████| 5000/5000 [00:09<00:00, 539.23it/s]\n"
          ]
        },
        {
          "name": "stdout",
          "output_type": "stream",
          "text": [
            "17.348\n",
            "Experiment: 1\n"
          ]
        },
        {
          "name": "stderr",
          "output_type": "stream",
          "text": [
            "100%|██████████| 5000/5000 [00:09<00:00, 500.71it/s]\n"
          ]
        },
        {
          "name": "stdout",
          "output_type": "stream",
          "text": [
            "17.9578\n",
            "Experiment: 1\n"
          ]
        },
        {
          "name": "stderr",
          "output_type": "stream",
          "text": [
            "100%|██████████| 5000/5000 [00:09<00:00, 546.02it/s]\n"
          ]
        },
        {
          "name": "stdout",
          "output_type": "stream",
          "text": [
            "17.3608\n",
            "Experiment: 1\n"
          ]
        },
        {
          "name": "stderr",
          "output_type": "stream",
          "text": [
            "100%|██████████| 5000/5000 [00:08<00:00, 567.14it/s]\n"
          ]
        },
        {
          "name": "stdout",
          "output_type": "stream",
          "text": [
            "17.4274\n",
            "Experiment: 1\n"
          ]
        },
        {
          "name": "stderr",
          "output_type": "stream",
          "text": [
            "100%|██████████| 5000/5000 [00:06<00:00, 748.75it/s]\n"
          ]
        },
        {
          "name": "stdout",
          "output_type": "stream",
          "text": [
            "12.4412\n",
            "Experiment: 1\n"
          ]
        },
        {
          "name": "stderr",
          "output_type": "stream",
          "text": [
            "100%|██████████| 5000/5000 [00:09<00:00, 505.47it/s]\n"
          ]
        },
        {
          "name": "stdout",
          "output_type": "stream",
          "text": [
            "17.4622\n",
            "Experiment: 1\n"
          ]
        },
        {
          "name": "stderr",
          "output_type": "stream",
          "text": [
            "100%|██████████| 5000/5000 [00:10<00:00, 488.57it/s]\n"
          ]
        },
        {
          "name": "stdout",
          "output_type": "stream",
          "text": [
            "17.5306\n",
            "Experiment: 1\n"
          ]
        },
        {
          "name": "stderr",
          "output_type": "stream",
          "text": [
            "100%|██████████| 5000/5000 [00:09<00:00, 526.65it/s]\n"
          ]
        },
        {
          "name": "stdout",
          "output_type": "stream",
          "text": [
            "17.5018\n",
            "Experiment: 1\n"
          ]
        },
        {
          "name": "stderr",
          "output_type": "stream",
          "text": [
            "100%|██████████| 5000/5000 [00:08<00:00, 560.69it/s]\n"
          ]
        },
        {
          "name": "stdout",
          "output_type": "stream",
          "text": [
            "17.5528\n",
            "Experiment: 1\n"
          ]
        },
        {
          "name": "stderr",
          "output_type": "stream",
          "text": [
            "100%|██████████| 5000/5000 [00:08<00:00, 560.39it/s]\n"
          ]
        },
        {
          "name": "stdout",
          "output_type": "stream",
          "text": [
            "17.5332\n",
            "[{'alpha': 0.7591830750919508, 'gamma': 0.946529602064741, 'epsilon_tau': 0.05912286552288319, 'mean_rewards': -6.5452, 'mean_steps': 12.4412}, {'alpha': 0.7591830750919508, 'gamma': 0.946529602064741, 'epsilon_tau': 0.05912286552288319, 'mean_rewards': -6.5268, 'mean_steps': 17.3848}, {'alpha': 0.6227552879935246, 'gamma': 0.946529602064741, 'epsilon_tau': 0.05912286552288319, 'mean_rewards': -6.5718, 'mean_steps': 17.4216}, {'alpha': 0.6125494652091306, 'gamma': 0.9246446156990709, 'epsilon_tau': 0.08775006096636721, 'mean_rewards': -6.5786, 'mean_steps': 17.4294}, {'alpha': 0.6709037303554602, 'gamma': 0.946529602064741, 'epsilon_tau': 0.05912286552288319, 'mean_rewards': -6.5852, 'mean_steps': 17.4274}]\n",
            "{'alpha': 0.7591830750919508, 'gamma': 0.946529602064741, 'epsilon_tau': 0.05912286552288319, 'mean_rewards': -6.5452, 'mean_steps': 12.4412}\n",
            "\n",
            "Best Hyperparameters: {'alpha': 0.7591830750919508, 'gamma': 0.946529602064741, 'epsilon_tau': 0.05912286552288319}\n",
            "Best Mean Rewards: -6.5452\n",
            "Best Mean Steps: 12.4412\n",
            "\n",
            "Generation 5\n",
            "Experiment: 1\n"
          ]
        },
        {
          "name": "stderr",
          "output_type": "stream",
          "text": [
            "100%|██████████| 5000/5000 [00:09<00:00, 548.37it/s]\n"
          ]
        },
        {
          "name": "stdout",
          "output_type": "stream",
          "text": [
            "17.3806\n",
            "Experiment: 1\n"
          ]
        },
        {
          "name": "stderr",
          "output_type": "stream",
          "text": [
            "100%|██████████| 5000/5000 [00:10<00:00, 486.49it/s]\n"
          ]
        },
        {
          "name": "stdout",
          "output_type": "stream",
          "text": [
            "17.3426\n",
            "Experiment: 1\n"
          ]
        },
        {
          "name": "stderr",
          "output_type": "stream",
          "text": [
            "100%|██████████| 5000/5000 [00:10<00:00, 487.92it/s]\n"
          ]
        },
        {
          "name": "stdout",
          "output_type": "stream",
          "text": [
            "17.4622\n",
            "Experiment: 1\n"
          ]
        },
        {
          "name": "stderr",
          "output_type": "stream",
          "text": [
            "100%|██████████| 5000/5000 [00:11<00:00, 445.53it/s]\n"
          ]
        },
        {
          "name": "stdout",
          "output_type": "stream",
          "text": [
            "17.4578\n",
            "Experiment: 1\n"
          ]
        },
        {
          "name": "stderr",
          "output_type": "stream",
          "text": [
            "100%|██████████| 5000/5000 [00:10<00:00, 494.66it/s]\n"
          ]
        },
        {
          "name": "stdout",
          "output_type": "stream",
          "text": [
            "17.3928\n",
            "Experiment: 1\n"
          ]
        },
        {
          "name": "stderr",
          "output_type": "stream",
          "text": [
            "100%|██████████| 5000/5000 [00:08<00:00, 580.86it/s]\n"
          ]
        },
        {
          "name": "stdout",
          "output_type": "stream",
          "text": [
            "17.3472\n",
            "Experiment: 1\n"
          ]
        },
        {
          "name": "stderr",
          "output_type": "stream",
          "text": [
            "100%|██████████| 5000/5000 [00:08<00:00, 562.51it/s]\n"
          ]
        },
        {
          "name": "stdout",
          "output_type": "stream",
          "text": [
            "17.4016\n",
            "Experiment: 1\n"
          ]
        },
        {
          "name": "stderr",
          "output_type": "stream",
          "text": [
            "100%|██████████| 5000/5000 [00:09<00:00, 519.47it/s]\n"
          ]
        },
        {
          "name": "stdout",
          "output_type": "stream",
          "text": [
            "17.3464\n",
            "Experiment: 1\n"
          ]
        },
        {
          "name": "stderr",
          "output_type": "stream",
          "text": [
            "100%|██████████| 5000/5000 [00:08<00:00, 582.48it/s]\n"
          ]
        },
        {
          "name": "stdout",
          "output_type": "stream",
          "text": [
            "17.4144\n",
            "Experiment: 1\n"
          ]
        },
        {
          "name": "stderr",
          "output_type": "stream",
          "text": [
            "100%|██████████| 5000/5000 [00:08<00:00, 590.81it/s]\n"
          ]
        },
        {
          "name": "stdout",
          "output_type": "stream",
          "text": [
            "17.3574\n",
            "Experiment: 1\n"
          ]
        },
        {
          "name": "stderr",
          "output_type": "stream",
          "text": [
            "100%|██████████| 5000/5000 [00:08<00:00, 563.22it/s]\n"
          ]
        },
        {
          "name": "stdout",
          "output_type": "stream",
          "text": [
            "17.3768\n",
            "Experiment: 1\n"
          ]
        },
        {
          "name": "stderr",
          "output_type": "stream",
          "text": [
            "100%|██████████| 5000/5000 [00:08<00:00, 573.99it/s]\n"
          ]
        },
        {
          "name": "stdout",
          "output_type": "stream",
          "text": [
            "17.4336\n",
            "Experiment: 1\n"
          ]
        },
        {
          "name": "stderr",
          "output_type": "stream",
          "text": [
            "100%|██████████| 5000/5000 [00:08<00:00, 575.67it/s]\n"
          ]
        },
        {
          "name": "stdout",
          "output_type": "stream",
          "text": [
            "17.4346\n",
            "Experiment: 1\n"
          ]
        },
        {
          "name": "stderr",
          "output_type": "stream",
          "text": [
            "100%|██████████| 5000/5000 [00:09<00:00, 553.38it/s]\n"
          ]
        },
        {
          "name": "stdout",
          "output_type": "stream",
          "text": [
            "17.3978\n",
            "Experiment: 1\n"
          ]
        },
        {
          "name": "stderr",
          "output_type": "stream",
          "text": [
            "100%|██████████| 5000/5000 [00:09<00:00, 538.49it/s]\n"
          ]
        },
        {
          "name": "stdout",
          "output_type": "stream",
          "text": [
            "17.4636\n",
            "[{'alpha': 0.7591830750919508, 'gamma': 0.946529602064741, 'epsilon_tau': 0.05912286552288319, 'mean_rewards': -6.4862, 'mean_steps': 17.3472}, {'alpha': 0.7591830750919508, 'gamma': 0.946529602064741, 'epsilon_tau': 0.05912286552288319, 'mean_rewards': -6.4916, 'mean_steps': 17.3426}, {'alpha': 0.8794476869153175, 'gamma': 0.946529602064741, 'epsilon_tau': 0.05912286552288319, 'mean_rewards': -6.496, 'mean_steps': 17.3464}, {'alpha': 0.7591830750919508, 'gamma': 0.9885114496433483, 'epsilon_tau': 0.01725410788350103, 'mean_rewards': -6.5184, 'mean_steps': 17.3574}, {'alpha': 0.7043974845088125, 'gamma': 0.946529602064741, 'epsilon_tau': 0.05912286552288319, 'mean_rewards': -6.5308, 'mean_steps': 17.3768}]\n",
            "{'alpha': 0.7591830750919508, 'gamma': 0.946529602064741, 'epsilon_tau': 0.05912286552288319, 'mean_rewards': -6.4862, 'mean_steps': 17.3472}\n",
            "\n",
            "Best Hyperparameters: {'alpha': 0.7591830750919508, 'gamma': 0.946529602064741, 'epsilon_tau': 0.05912286552288319}\n",
            "Best Mean Rewards: -6.4862\n",
            "Best Mean Steps: 17.3472\n",
            "\n",
            "Generation 6\n",
            "Experiment: 1\n"
          ]
        },
        {
          "name": "stderr",
          "output_type": "stream",
          "text": [
            "100%|██████████| 5000/5000 [00:08<00:00, 583.33it/s]\n"
          ]
        },
        {
          "name": "stdout",
          "output_type": "stream",
          "text": [
            "17.3956\n",
            "Experiment: 1\n"
          ]
        },
        {
          "name": "stderr",
          "output_type": "stream",
          "text": [
            "100%|██████████| 5000/5000 [00:08<00:00, 588.25it/s]\n"
          ]
        },
        {
          "name": "stdout",
          "output_type": "stream",
          "text": [
            "17.3954\n",
            "Experiment: 1\n"
          ]
        },
        {
          "name": "stderr",
          "output_type": "stream",
          "text": [
            "100%|██████████| 5000/5000 [00:08<00:00, 622.30it/s]\n"
          ]
        },
        {
          "name": "stdout",
          "output_type": "stream",
          "text": [
            "17.3602\n",
            "Experiment: 1\n"
          ]
        },
        {
          "name": "stderr",
          "output_type": "stream",
          "text": [
            "100%|██████████| 5000/5000 [00:08<00:00, 582.99it/s]\n"
          ]
        },
        {
          "name": "stdout",
          "output_type": "stream",
          "text": [
            "17.3814\n",
            "Experiment: 1\n"
          ]
        },
        {
          "name": "stderr",
          "output_type": "stream",
          "text": [
            "100%|██████████| 5000/5000 [00:08<00:00, 607.99it/s]\n"
          ]
        },
        {
          "name": "stdout",
          "output_type": "stream",
          "text": [
            "17.4168\n",
            "Experiment: 1\n"
          ]
        },
        {
          "name": "stderr",
          "output_type": "stream",
          "text": [
            "100%|██████████| 5000/5000 [00:08<00:00, 584.04it/s]\n"
          ]
        },
        {
          "name": "stdout",
          "output_type": "stream",
          "text": [
            "17.3806\n",
            "Experiment: 1\n"
          ]
        },
        {
          "name": "stderr",
          "output_type": "stream",
          "text": [
            "100%|██████████| 5000/5000 [00:09<00:00, 554.16it/s]\n"
          ]
        },
        {
          "name": "stdout",
          "output_type": "stream",
          "text": [
            "17.419\n",
            "Experiment: 1\n"
          ]
        },
        {
          "name": "stderr",
          "output_type": "stream",
          "text": [
            "100%|██████████| 5000/5000 [00:08<00:00, 574.28it/s]\n"
          ]
        },
        {
          "name": "stdout",
          "output_type": "stream",
          "text": [
            "17.3666\n",
            "Experiment: 1\n"
          ]
        },
        {
          "name": "stderr",
          "output_type": "stream",
          "text": [
            "100%|██████████| 5000/5000 [00:09<00:00, 512.46it/s]\n"
          ]
        },
        {
          "name": "stdout",
          "output_type": "stream",
          "text": [
            "17.3982\n",
            "Experiment: 1\n"
          ]
        },
        {
          "name": "stderr",
          "output_type": "stream",
          "text": [
            "100%|██████████| 5000/5000 [00:08<00:00, 574.31it/s]\n"
          ]
        },
        {
          "name": "stdout",
          "output_type": "stream",
          "text": [
            "17.408\n",
            "Experiment: 1\n"
          ]
        },
        {
          "name": "stderr",
          "output_type": "stream",
          "text": [
            "100%|██████████| 5000/5000 [00:08<00:00, 591.99it/s]\n"
          ]
        },
        {
          "name": "stdout",
          "output_type": "stream",
          "text": [
            "17.4094\n",
            "Experiment: 1\n"
          ]
        },
        {
          "name": "stderr",
          "output_type": "stream",
          "text": [
            "100%|██████████| 5000/5000 [00:11<00:00, 449.27it/s]\n"
          ]
        },
        {
          "name": "stdout",
          "output_type": "stream",
          "text": [
            "23.673\n",
            "Experiment: 1\n"
          ]
        },
        {
          "name": "stderr",
          "output_type": "stream",
          "text": [
            "100%|██████████| 5000/5000 [00:08<00:00, 587.63it/s]\n"
          ]
        },
        {
          "name": "stdout",
          "output_type": "stream",
          "text": [
            "17.4004\n",
            "Experiment: 1\n"
          ]
        },
        {
          "name": "stderr",
          "output_type": "stream",
          "text": [
            "100%|██████████| 5000/5000 [00:08<00:00, 574.21it/s]\n"
          ]
        },
        {
          "name": "stdout",
          "output_type": "stream",
          "text": [
            "17.3378\n",
            "Experiment: 1\n"
          ]
        },
        {
          "name": "stderr",
          "output_type": "stream",
          "text": [
            "100%|██████████| 5000/5000 [00:08<00:00, 596.52it/s]\n"
          ]
        },
        {
          "name": "stdout",
          "output_type": "stream",
          "text": [
            "17.392\n",
            "[{'alpha': 0.8282341354202208, 'gamma': 0.946529602064741, 'epsilon_tau': 0.05912286552288319, 'mean_rewards': -6.4828, 'mean_steps': 17.3378}, {'alpha': 0.7591830750919508, 'gamma': 0.946529602064741, 'epsilon_tau': 0.21399628846551672, 'mean_rewards': -6.5178, 'mean_steps': 17.3666}, {'alpha': 0.7591830750919508, 'gamma': 0.9151924815330819, 'epsilon_tau': 0.01725410788350103, 'mean_rewards': -6.5262, 'mean_steps': 17.3806}, {'alpha': 0.7591830750919508, 'gamma': 0.9885114496433483, 'epsilon_tau': 0.01725410788350103, 'mean_rewards': -6.5438, 'mean_steps': 17.3814}, {'alpha': 0.7043974845088125, 'gamma': 0.9885114496433483, 'epsilon_tau': 0.01725410788350103, 'mean_rewards': -6.5524, 'mean_steps': 17.392}]\n",
            "{'alpha': 0.8282341354202208, 'gamma': 0.946529602064741, 'epsilon_tau': 0.05912286552288319, 'mean_rewards': -6.4828, 'mean_steps': 17.3378}\n",
            "\n",
            "Best Hyperparameters: {'alpha': 0.8282341354202208, 'gamma': 0.946529602064741, 'epsilon_tau': 0.05912286552288319}\n",
            "Best Mean Rewards: -6.4828\n",
            "Best Mean Steps: 17.3378\n",
            "\n",
            "Generation 7\n",
            "Experiment: 1\n"
          ]
        },
        {
          "name": "stderr",
          "output_type": "stream",
          "text": [
            "100%|██████████| 5000/5000 [00:08<00:00, 623.03it/s]\n"
          ]
        },
        {
          "name": "stdout",
          "output_type": "stream",
          "text": [
            "17.3852\n",
            "Experiment: 1\n"
          ]
        },
        {
          "name": "stderr",
          "output_type": "stream",
          "text": [
            "100%|██████████| 5000/5000 [00:08<00:00, 617.00it/s]\n"
          ]
        },
        {
          "name": "stdout",
          "output_type": "stream",
          "text": [
            "17.4336\n",
            "Experiment: 1\n"
          ]
        },
        {
          "name": "stderr",
          "output_type": "stream",
          "text": [
            "100%|██████████| 5000/5000 [00:08<00:00, 617.06it/s]\n"
          ]
        },
        {
          "name": "stdout",
          "output_type": "stream",
          "text": [
            "17.4276\n",
            "Experiment: 1\n"
          ]
        },
        {
          "name": "stderr",
          "output_type": "stream",
          "text": [
            "100%|██████████| 5000/5000 [00:08<00:00, 589.66it/s]\n"
          ]
        },
        {
          "name": "stdout",
          "output_type": "stream",
          "text": [
            "17.3514\n",
            "Experiment: 1\n"
          ]
        },
        {
          "name": "stderr",
          "output_type": "stream",
          "text": [
            "100%|██████████| 5000/5000 [00:08<00:00, 570.73it/s]\n"
          ]
        },
        {
          "name": "stdout",
          "output_type": "stream",
          "text": [
            "17.4058\n",
            "Experiment: 1\n"
          ]
        },
        {
          "name": "stderr",
          "output_type": "stream",
          "text": [
            "100%|██████████| 5000/5000 [00:08<00:00, 592.85it/s]\n"
          ]
        },
        {
          "name": "stdout",
          "output_type": "stream",
          "text": [
            "17.3924\n",
            "Experiment: 1\n"
          ]
        },
        {
          "name": "stderr",
          "output_type": "stream",
          "text": [
            "100%|██████████| 5000/5000 [00:08<00:00, 566.36it/s]\n"
          ]
        },
        {
          "name": "stdout",
          "output_type": "stream",
          "text": [
            "17.3754\n",
            "Experiment: 1\n"
          ]
        },
        {
          "name": "stderr",
          "output_type": "stream",
          "text": [
            "100%|██████████| 5000/5000 [00:08<00:00, 587.79it/s]\n"
          ]
        },
        {
          "name": "stdout",
          "output_type": "stream",
          "text": [
            "17.3558\n",
            "Experiment: 1\n"
          ]
        },
        {
          "name": "stderr",
          "output_type": "stream",
          "text": [
            "100%|██████████| 5000/5000 [00:08<00:00, 585.89it/s]\n"
          ]
        },
        {
          "name": "stdout",
          "output_type": "stream",
          "text": [
            "17.3934\n",
            "Experiment: 1\n"
          ]
        },
        {
          "name": "stderr",
          "output_type": "stream",
          "text": [
            "100%|██████████| 5000/5000 [00:08<00:00, 592.00it/s]\n"
          ]
        },
        {
          "name": "stdout",
          "output_type": "stream",
          "text": [
            "17.384\n",
            "Experiment: 1\n"
          ]
        },
        {
          "name": "stderr",
          "output_type": "stream",
          "text": [
            "100%|██████████| 5000/5000 [00:08<00:00, 584.99it/s]\n"
          ]
        },
        {
          "name": "stdout",
          "output_type": "stream",
          "text": [
            "17.407\n",
            "Experiment: 1\n"
          ]
        },
        {
          "name": "stderr",
          "output_type": "stream",
          "text": [
            "100%|██████████| 5000/5000 [00:08<00:00, 577.09it/s]\n"
          ]
        },
        {
          "name": "stdout",
          "output_type": "stream",
          "text": [
            "17.5476\n",
            "Experiment: 1\n"
          ]
        },
        {
          "name": "stderr",
          "output_type": "stream",
          "text": [
            "100%|██████████| 5000/5000 [00:08<00:00, 580.49it/s]\n"
          ]
        },
        {
          "name": "stdout",
          "output_type": "stream",
          "text": [
            "17.3846\n",
            "Experiment: 1\n"
          ]
        },
        {
          "name": "stderr",
          "output_type": "stream",
          "text": [
            "100%|██████████| 5000/5000 [00:08<00:00, 577.93it/s]\n"
          ]
        },
        {
          "name": "stdout",
          "output_type": "stream",
          "text": [
            "17.4046\n",
            "Experiment: 1\n"
          ]
        },
        {
          "name": "stderr",
          "output_type": "stream",
          "text": [
            "100%|██████████| 5000/5000 [00:08<00:00, 616.39it/s]"
          ]
        },
        {
          "name": "stdout",
          "output_type": "stream",
          "text": [
            "17.354\n",
            "[{'alpha': 0.7591830750919508, 'gamma': 0.9885114496433483, 'epsilon_tau': 0.01725410788350103, 'mean_rewards': -6.5112, 'mean_steps': 17.3514}, {'alpha': 0.7591830750919508, 'gamma': 0.9885114496433483, 'epsilon_tau': 0.01725410788350103, 'mean_rewards': -6.515, 'mean_steps': 17.3558}, {'alpha': 0.8282341354202208, 'gamma': 0.946529602064741, 'epsilon_tau': 0.01725410788350103, 'mean_rewards': -6.5164, 'mean_steps': 17.3754}, {'alpha': 0.8196490070391125, 'gamma': 0.946529602064741, 'epsilon_tau': 0.09735061865962202, 'mean_rewards': -6.5348, 'mean_steps': 17.3846}, {'alpha': 0.8282341354202208, 'gamma': 0.946529602064741, 'epsilon_tau': 0.21399628846551672, 'mean_rewards': -6.5358, 'mean_steps': 17.384}]\n",
            "{'alpha': 0.7591830750919508, 'gamma': 0.9885114496433483, 'epsilon_tau': 0.01725410788350103, 'mean_rewards': -6.5112, 'mean_steps': 17.3514}\n",
            "\n",
            "Best Hyperparameters: {'alpha': 0.7591830750919508, 'gamma': 0.9885114496433483, 'epsilon_tau': 0.01725410788350103}\n",
            "Best Mean Rewards: -6.5112\n",
            "Best Mean Steps: 17.3514\n"
          ]
        },
        {
          "name": "stderr",
          "output_type": "stream",
          "text": [
            "\n"
          ]
        }
      ],
      "source": [
        "best_hyperparameters, best_mean_rewards, best_mean_steps, a3 = genetic_algorithm(env1, sarsa_e, e_s=0)\n",
        "write_results_to_file(file_path, (best_hyperparameters, best_mean_rewards, best_mean_steps), \"SARSA_EpsilonGreedy_e1\")\n"
      ]
    },
    {
      "cell_type": "code",
      "execution_count": 47,
      "metadata": {},
      "outputs": [
        {
          "name": "stdout",
          "output_type": "stream",
          "text": [
            "\n",
            "Generation 1\n",
            "Experiment: 1\n"
          ]
        },
        {
          "name": "stderr",
          "output_type": "stream",
          "text": [
            "100%|██████████| 5000/5000 [00:11<00:00, 423.12it/s]\n"
          ]
        },
        {
          "name": "stdout",
          "output_type": "stream",
          "text": [
            "21.956\n",
            "Experiment: 1\n"
          ]
        },
        {
          "name": "stderr",
          "output_type": "stream",
          "text": [
            "100%|██████████| 5000/5000 [00:29<00:00, 169.38it/s]\n"
          ]
        },
        {
          "name": "stdout",
          "output_type": "stream",
          "text": [
            "64.6992\n",
            "Experiment: 1\n"
          ]
        },
        {
          "name": "stderr",
          "output_type": "stream",
          "text": [
            "100%|██████████| 5000/5000 [00:09<00:00, 539.52it/s]\n"
          ]
        },
        {
          "name": "stdout",
          "output_type": "stream",
          "text": [
            "17.9164\n",
            "Experiment: 1\n"
          ]
        },
        {
          "name": "stderr",
          "output_type": "stream",
          "text": [
            "100%|██████████| 5000/5000 [00:09<00:00, 541.71it/s]\n"
          ]
        },
        {
          "name": "stdout",
          "output_type": "stream",
          "text": [
            "17.5176\n",
            "Experiment: 1\n"
          ]
        },
        {
          "name": "stderr",
          "output_type": "stream",
          "text": [
            "100%|██████████| 5000/5000 [00:10<00:00, 455.81it/s]\n"
          ]
        },
        {
          "name": "stdout",
          "output_type": "stream",
          "text": [
            "22.0246\n",
            "Experiment: 1\n"
          ]
        },
        {
          "name": "stderr",
          "output_type": "stream",
          "text": [
            "100%|██████████| 5000/5000 [00:08<00:00, 562.41it/s]\n"
          ]
        },
        {
          "name": "stdout",
          "output_type": "stream",
          "text": [
            "17.571\n",
            "Experiment: 1\n"
          ]
        },
        {
          "name": "stderr",
          "output_type": "stream",
          "text": [
            "100%|██████████| 5000/5000 [00:06<00:00, 817.85it/s]\n"
          ]
        },
        {
          "name": "stdout",
          "output_type": "stream",
          "text": [
            "12.8572\n",
            "Experiment: 1\n"
          ]
        },
        {
          "name": "stderr",
          "output_type": "stream",
          "text": [
            "100%|██████████| 5000/5000 [00:08<00:00, 558.14it/s]\n"
          ]
        },
        {
          "name": "stdout",
          "output_type": "stream",
          "text": [
            "17.478\n",
            "Experiment: 1\n"
          ]
        },
        {
          "name": "stderr",
          "output_type": "stream",
          "text": [
            "100%|██████████| 5000/5000 [00:10<00:00, 473.17it/s]\n"
          ]
        },
        {
          "name": "stdout",
          "output_type": "stream",
          "text": [
            "20.7852\n",
            "Experiment: 1\n"
          ]
        },
        {
          "name": "stderr",
          "output_type": "stream",
          "text": [
            "100%|██████████| 5000/5000 [00:11<00:00, 429.92it/s]\n"
          ]
        },
        {
          "name": "stdout",
          "output_type": "stream",
          "text": [
            "22.8212\n",
            "Experiment: 1\n"
          ]
        },
        {
          "name": "stderr",
          "output_type": "stream",
          "text": [
            "100%|██████████| 5000/5000 [00:05<00:00, 837.93it/s]\n"
          ]
        },
        {
          "name": "stdout",
          "output_type": "stream",
          "text": [
            "12.6764\n",
            "Experiment: 1\n"
          ]
        },
        {
          "name": "stderr",
          "output_type": "stream",
          "text": [
            "100%|██████████| 5000/5000 [00:30<00:00, 162.66it/s]\n"
          ]
        },
        {
          "name": "stdout",
          "output_type": "stream",
          "text": [
            "67.8154\n",
            "Experiment: 1\n"
          ]
        },
        {
          "name": "stderr",
          "output_type": "stream",
          "text": [
            "100%|██████████| 5000/5000 [00:09<00:00, 547.42it/s]\n"
          ]
        },
        {
          "name": "stdout",
          "output_type": "stream",
          "text": [
            "17.8572\n",
            "Experiment: 1\n"
          ]
        },
        {
          "name": "stderr",
          "output_type": "stream",
          "text": [
            "100%|██████████| 5000/5000 [00:22<00:00, 225.17it/s]\n"
          ]
        },
        {
          "name": "stdout",
          "output_type": "stream",
          "text": [
            "47.0638\n",
            "Experiment: 1\n"
          ]
        },
        {
          "name": "stderr",
          "output_type": "stream",
          "text": [
            "100%|██████████| 5000/5000 [00:09<00:00, 544.33it/s]\n"
          ]
        },
        {
          "name": "stdout",
          "output_type": "stream",
          "text": [
            "17.4946\n",
            "[{'alpha': 0.38985489551900776, 'gamma': 0.9960852362843509, 'epsilon_tau': 0.2673914181218377, 'mean_rewards': -6.788, 'mean_steps': 12.6764}, {'alpha': 0.3140208219967873, 'gamma': 0.9324495060775455, 'epsilon_tau': 0.19770708351400829, 'mean_rewards': -6.9554, 'mean_steps': 12.8572}, {'alpha': 0.6366018579074443, 'gamma': 0.9744459875561495, 'epsilon_tau': 0.23616015752699987, 'mean_rewards': -6.6532, 'mean_steps': 17.478}, {'alpha': 0.5453128545413763, 'gamma': 0.9748686907720474, 'epsilon_tau': 0.183064106226967, 'mean_rewards': -6.6706, 'mean_steps': 17.4946}, {'alpha': 0.43359099764274833, 'gamma': 0.9869709110577701, 'epsilon_tau': 0.09814955758038395, 'mean_rewards': -6.6984, 'mean_steps': 17.5176}]\n",
            "{'alpha': 0.38985489551900776, 'gamma': 0.9960852362843509, 'epsilon_tau': 0.2673914181218377, 'mean_rewards': -6.788, 'mean_steps': 12.6764}\n",
            "\n",
            "Best Hyperparameters: {'alpha': 0.38985489551900776, 'gamma': 0.9960852362843509, 'epsilon_tau': 0.2673914181218377}\n",
            "Best Mean Rewards: -6.788\n",
            "Best Mean Steps: 12.6764\n",
            "\n",
            "Generation 2\n",
            "Experiment: 1\n"
          ]
        },
        {
          "name": "stderr",
          "output_type": "stream",
          "text": [
            "100%|██████████| 5000/5000 [00:08<00:00, 556.80it/s]\n"
          ]
        },
        {
          "name": "stdout",
          "output_type": "stream",
          "text": [
            "17.618\n",
            "Experiment: 1\n"
          ]
        },
        {
          "name": "stderr",
          "output_type": "stream",
          "text": [
            "100%|██████████| 5000/5000 [00:09<00:00, 531.03it/s]\n"
          ]
        },
        {
          "name": "stdout",
          "output_type": "stream",
          "text": [
            "17.8622\n",
            "Experiment: 1\n"
          ]
        },
        {
          "name": "stderr",
          "output_type": "stream",
          "text": [
            "100%|██████████| 5000/5000 [00:09<00:00, 553.28it/s]\n"
          ]
        },
        {
          "name": "stdout",
          "output_type": "stream",
          "text": [
            "17.436\n",
            "Experiment: 1\n"
          ]
        },
        {
          "name": "stderr",
          "output_type": "stream",
          "text": [
            "100%|██████████| 5000/5000 [00:05<00:00, 868.77it/s]\n"
          ]
        },
        {
          "name": "stdout",
          "output_type": "stream",
          "text": [
            "12.522\n",
            "Experiment: 1\n"
          ]
        },
        {
          "name": "stderr",
          "output_type": "stream",
          "text": [
            "100%|██████████| 5000/5000 [00:08<00:00, 561.83it/s]\n"
          ]
        },
        {
          "name": "stdout",
          "output_type": "stream",
          "text": [
            "17.5166\n",
            "Experiment: 1\n"
          ]
        },
        {
          "name": "stderr",
          "output_type": "stream",
          "text": [
            "100%|██████████| 5000/5000 [00:07<00:00, 705.81it/s]\n"
          ]
        },
        {
          "name": "stdout",
          "output_type": "stream",
          "text": [
            "13.5502\n",
            "Experiment: 1\n"
          ]
        },
        {
          "name": "stderr",
          "output_type": "stream",
          "text": [
            "100%|██████████| 5000/5000 [00:09<00:00, 541.85it/s]\n"
          ]
        },
        {
          "name": "stdout",
          "output_type": "stream",
          "text": [
            "17.7188\n",
            "Experiment: 1\n"
          ]
        },
        {
          "name": "stderr",
          "output_type": "stream",
          "text": [
            "100%|██████████| 5000/5000 [00:06<00:00, 822.08it/s]\n"
          ]
        },
        {
          "name": "stdout",
          "output_type": "stream",
          "text": [
            "12.5112\n",
            "Experiment: 1\n"
          ]
        },
        {
          "name": "stderr",
          "output_type": "stream",
          "text": [
            "100%|██████████| 5000/5000 [00:08<00:00, 556.93it/s]\n"
          ]
        },
        {
          "name": "stdout",
          "output_type": "stream",
          "text": [
            "17.4378\n",
            "Experiment: 1\n"
          ]
        },
        {
          "name": "stderr",
          "output_type": "stream",
          "text": [
            "100%|██████████| 5000/5000 [00:05<00:00, 881.87it/s] \n"
          ]
        },
        {
          "name": "stdout",
          "output_type": "stream",
          "text": [
            "12.7038\n",
            "Experiment: 1\n"
          ]
        },
        {
          "name": "stderr",
          "output_type": "stream",
          "text": [
            "100%|██████████| 5000/5000 [00:08<00:00, 572.47it/s]\n"
          ]
        },
        {
          "name": "stdout",
          "output_type": "stream",
          "text": [
            "17.4102\n",
            "Experiment: 1\n"
          ]
        },
        {
          "name": "stderr",
          "output_type": "stream",
          "text": [
            "100%|██████████| 5000/5000 [00:08<00:00, 617.89it/s]\n"
          ]
        },
        {
          "name": "stdout",
          "output_type": "stream",
          "text": [
            "17.9284\n",
            "Experiment: 1\n"
          ]
        },
        {
          "name": "stderr",
          "output_type": "stream",
          "text": [
            "100%|██████████| 5000/5000 [00:10<00:00, 493.42it/s]\n"
          ]
        },
        {
          "name": "stdout",
          "output_type": "stream",
          "text": [
            "17.6262\n",
            "Experiment: 1\n"
          ]
        },
        {
          "name": "stderr",
          "output_type": "stream",
          "text": [
            "100%|██████████| 5000/5000 [00:09<00:00, 537.87it/s]\n"
          ]
        },
        {
          "name": "stdout",
          "output_type": "stream",
          "text": [
            "17.3782\n",
            "Experiment: 1\n"
          ]
        },
        {
          "name": "stderr",
          "output_type": "stream",
          "text": [
            "100%|██████████| 5000/5000 [00:09<00:00, 501.35it/s]\n"
          ]
        },
        {
          "name": "stdout",
          "output_type": "stream",
          "text": [
            "17.8522\n",
            "[{'alpha': 0.6366018579074443, 'gamma': 0.9869709110577701, 'epsilon_tau': 0.23616015752699987, 'mean_rewards': -6.6166, 'mean_steps': 12.5112}, {'alpha': 0.5453128545413763, 'gamma': 0.9748686907720474, 'epsilon_tau': 0.183064106226967, 'mean_rewards': -6.6304, 'mean_steps': 12.522}, {'alpha': 0.38985489551900776, 'gamma': 0.9960852362843509, 'epsilon_tau': 0.23722593254498164, 'mean_rewards': -6.8182, 'mean_steps': 12.7038}, {'alpha': 0.5453128545413763, 'gamma': 0.9748686907720474, 'epsilon_tau': 0.2334125364891902, 'mean_rewards': -7.6634, 'mean_steps': 13.5502}, {'alpha': 0.8113675182488771, 'gamma': 0.9887996327500127, 'epsilon_tau': 0.2148343739440326, 'mean_rewards': -6.5362, 'mean_steps': 17.3782}]\n",
            "{'alpha': 0.6366018579074443, 'gamma': 0.9869709110577701, 'epsilon_tau': 0.23616015752699987, 'mean_rewards': -6.6166, 'mean_steps': 12.5112}\n",
            "\n",
            "Best Hyperparameters: {'alpha': 0.6366018579074443, 'gamma': 0.9869709110577701, 'epsilon_tau': 0.23616015752699987}\n",
            "Best Mean Rewards: -6.6166\n",
            "Best Mean Steps: 12.5112\n",
            "\n",
            "Generation 3\n",
            "Experiment: 1\n"
          ]
        },
        {
          "name": "stderr",
          "output_type": "stream",
          "text": [
            "100%|██████████| 5000/5000 [00:09<00:00, 528.11it/s]\n"
          ]
        },
        {
          "name": "stdout",
          "output_type": "stream",
          "text": [
            "17.4496\n",
            "Experiment: 1\n"
          ]
        },
        {
          "name": "stderr",
          "output_type": "stream",
          "text": [
            "100%|██████████| 5000/5000 [00:06<00:00, 830.46it/s]\n"
          ]
        },
        {
          "name": "stdout",
          "output_type": "stream",
          "text": [
            "12.5106\n",
            "Experiment: 1\n"
          ]
        },
        {
          "name": "stderr",
          "output_type": "stream",
          "text": [
            "100%|██████████| 5000/5000 [00:09<00:00, 535.02it/s]\n"
          ]
        },
        {
          "name": "stdout",
          "output_type": "stream",
          "text": [
            "17.593\n",
            "Experiment: 1\n"
          ]
        },
        {
          "name": "stderr",
          "output_type": "stream",
          "text": [
            "100%|██████████| 5000/5000 [00:08<00:00, 581.83it/s]\n"
          ]
        },
        {
          "name": "stdout",
          "output_type": "stream",
          "text": [
            "17.5116\n",
            "Experiment: 1\n"
          ]
        },
        {
          "name": "stderr",
          "output_type": "stream",
          "text": [
            "100%|██████████| 5000/5000 [00:09<00:00, 538.67it/s]\n"
          ]
        },
        {
          "name": "stdout",
          "output_type": "stream",
          "text": [
            "17.353\n",
            "Experiment: 1\n"
          ]
        },
        {
          "name": "stderr",
          "output_type": "stream",
          "text": [
            "100%|██████████| 5000/5000 [00:17<00:00, 291.47it/s]\n"
          ]
        },
        {
          "name": "stdout",
          "output_type": "stream",
          "text": [
            "34.2766\n",
            "Experiment: 1\n"
          ]
        },
        {
          "name": "stderr",
          "output_type": "stream",
          "text": [
            "100%|██████████| 5000/5000 [00:09<00:00, 518.47it/s]\n"
          ]
        },
        {
          "name": "stdout",
          "output_type": "stream",
          "text": [
            "17.6022\n",
            "Experiment: 1\n"
          ]
        },
        {
          "name": "stderr",
          "output_type": "stream",
          "text": [
            "100%|██████████| 5000/5000 [00:07<00:00, 679.74it/s]\n"
          ]
        },
        {
          "name": "stdout",
          "output_type": "stream",
          "text": [
            "13.3898\n",
            "Experiment: 1\n"
          ]
        },
        {
          "name": "stderr",
          "output_type": "stream",
          "text": [
            "100%|██████████| 5000/5000 [00:09<00:00, 539.26it/s]\n"
          ]
        },
        {
          "name": "stdout",
          "output_type": "stream",
          "text": [
            "17.437\n",
            "Experiment: 1\n"
          ]
        },
        {
          "name": "stderr",
          "output_type": "stream",
          "text": [
            "100%|██████████| 5000/5000 [00:09<00:00, 515.76it/s]\n"
          ]
        },
        {
          "name": "stdout",
          "output_type": "stream",
          "text": [
            "17.351\n",
            "Experiment: 1\n"
          ]
        },
        {
          "name": "stderr",
          "output_type": "stream",
          "text": [
            "100%|██████████| 5000/5000 [00:21<00:00, 227.80it/s]\n"
          ]
        },
        {
          "name": "stdout",
          "output_type": "stream",
          "text": [
            "45.5248\n",
            "Experiment: 1\n"
          ]
        },
        {
          "name": "stderr",
          "output_type": "stream",
          "text": [
            "100%|██████████| 5000/5000 [00:05<00:00, 860.24it/s]\n"
          ]
        },
        {
          "name": "stdout",
          "output_type": "stream",
          "text": [
            "12.4104\n",
            "Experiment: 1\n"
          ]
        },
        {
          "name": "stderr",
          "output_type": "stream",
          "text": [
            "100%|██████████| 5000/5000 [00:09<00:00, 536.54it/s]\n"
          ]
        },
        {
          "name": "stdout",
          "output_type": "stream",
          "text": [
            "17.3668\n",
            "Experiment: 1\n"
          ]
        },
        {
          "name": "stderr",
          "output_type": "stream",
          "text": [
            "100%|██████████| 5000/5000 [00:09<00:00, 521.91it/s]\n"
          ]
        },
        {
          "name": "stdout",
          "output_type": "stream",
          "text": [
            "17.5272\n",
            "Experiment: 1\n"
          ]
        },
        {
          "name": "stderr",
          "output_type": "stream",
          "text": [
            "100%|██████████| 5000/5000 [00:08<00:00, 563.75it/s]\n"
          ]
        },
        {
          "name": "stdout",
          "output_type": "stream",
          "text": [
            "17.4312\n",
            "[{'alpha': 0.9366280070739533, 'gamma': 0.9960852362843509, 'epsilon_tau': 0.23722593254498164, 'mean_rewards': -6.5186, 'mean_steps': 12.4104}, {'alpha': 0.5453128545413763, 'gamma': 0.9748686907720474, 'epsilon_tau': 0.183064106226967, 'mean_rewards': -6.6256, 'mean_steps': 12.5106}, {'alpha': 0.921404165666913, 'gamma': 0.9960852362843509, 'epsilon_tau': 0.23722593254498164, 'mean_rewards': -7.5036, 'mean_steps': 13.3898}, {'alpha': 0.8113675182488771, 'gamma': 0.9887996327500127, 'epsilon_tau': 0.2148343739440326, 'mean_rewards': -6.511, 'mean_steps': 17.351}, {'alpha': 0.8113675182488771, 'gamma': 0.9887996327500127, 'epsilon_tau': 0.2148343739440326, 'mean_rewards': -6.5166, 'mean_steps': 17.353}]\n",
            "{'alpha': 0.9366280070739533, 'gamma': 0.9960852362843509, 'epsilon_tau': 0.23722593254498164, 'mean_rewards': -6.5186, 'mean_steps': 12.4104}\n",
            "\n",
            "Best Hyperparameters: {'alpha': 0.9366280070739533, 'gamma': 0.9960852362843509, 'epsilon_tau': 0.23722593254498164}\n",
            "Best Mean Rewards: -6.5186\n",
            "Best Mean Steps: 12.4104\n",
            "\n",
            "Generation 4\n",
            "Experiment: 1\n"
          ]
        },
        {
          "name": "stderr",
          "output_type": "stream",
          "text": [
            "100%|██████████| 5000/5000 [00:08<00:00, 574.77it/s]\n"
          ]
        },
        {
          "name": "stdout",
          "output_type": "stream",
          "text": [
            "17.3572\n",
            "Experiment: 1\n"
          ]
        },
        {
          "name": "stderr",
          "output_type": "stream",
          "text": [
            "100%|██████████| 5000/5000 [00:09<00:00, 530.98it/s]\n"
          ]
        },
        {
          "name": "stdout",
          "output_type": "stream",
          "text": [
            "17.5096\n",
            "Experiment: 1\n"
          ]
        },
        {
          "name": "stderr",
          "output_type": "stream",
          "text": [
            "100%|██████████| 5000/5000 [00:09<00:00, 536.34it/s]\n"
          ]
        },
        {
          "name": "stdout",
          "output_type": "stream",
          "text": [
            "17.3432\n",
            "Experiment: 1\n"
          ]
        },
        {
          "name": "stderr",
          "output_type": "stream",
          "text": [
            "100%|██████████| 5000/5000 [00:08<00:00, 578.57it/s]\n"
          ]
        },
        {
          "name": "stdout",
          "output_type": "stream",
          "text": [
            "17.3522\n",
            "Experiment: 1\n"
          ]
        },
        {
          "name": "stderr",
          "output_type": "stream",
          "text": [
            "100%|██████████| 5000/5000 [00:09<00:00, 535.56it/s]\n"
          ]
        },
        {
          "name": "stdout",
          "output_type": "stream",
          "text": [
            "17.3614\n",
            "Experiment: 1\n"
          ]
        },
        {
          "name": "stderr",
          "output_type": "stream",
          "text": [
            "100%|██████████| 5000/5000 [00:11<00:00, 438.14it/s]\n"
          ]
        },
        {
          "name": "stdout",
          "output_type": "stream",
          "text": [
            "20.866\n",
            "Experiment: 1\n"
          ]
        },
        {
          "name": "stderr",
          "output_type": "stream",
          "text": [
            "100%|██████████| 5000/5000 [00:09<00:00, 523.42it/s]\n"
          ]
        },
        {
          "name": "stdout",
          "output_type": "stream",
          "text": [
            "17.3394\n",
            "Experiment: 1\n"
          ]
        },
        {
          "name": "stderr",
          "output_type": "stream",
          "text": [
            "100%|██████████| 5000/5000 [00:09<00:00, 509.50it/s]\n"
          ]
        },
        {
          "name": "stdout",
          "output_type": "stream",
          "text": [
            "17.3008\n",
            "Experiment: 1\n"
          ]
        },
        {
          "name": "stderr",
          "output_type": "stream",
          "text": [
            "100%|██████████| 5000/5000 [00:10<00:00, 492.83it/s]\n"
          ]
        },
        {
          "name": "stdout",
          "output_type": "stream",
          "text": [
            "18.4974\n",
            "Experiment: 1\n"
          ]
        },
        {
          "name": "stderr",
          "output_type": "stream",
          "text": [
            "100%|██████████| 5000/5000 [00:08<00:00, 558.77it/s]\n"
          ]
        },
        {
          "name": "stdout",
          "output_type": "stream",
          "text": [
            "17.4664\n",
            "Experiment: 1\n"
          ]
        },
        {
          "name": "stderr",
          "output_type": "stream",
          "text": [
            "100%|██████████| 5000/5000 [00:09<00:00, 551.31it/s]\n"
          ]
        },
        {
          "name": "stdout",
          "output_type": "stream",
          "text": [
            "17.4878\n",
            "Experiment: 1\n"
          ]
        },
        {
          "name": "stderr",
          "output_type": "stream",
          "text": [
            "100%|██████████| 5000/5000 [00:09<00:00, 509.50it/s]\n"
          ]
        },
        {
          "name": "stdout",
          "output_type": "stream",
          "text": [
            "17.3632\n",
            "Experiment: 1\n"
          ]
        },
        {
          "name": "stderr",
          "output_type": "stream",
          "text": [
            "100%|██████████| 5000/5000 [00:09<00:00, 536.94it/s]\n"
          ]
        },
        {
          "name": "stdout",
          "output_type": "stream",
          "text": [
            "17.4176\n",
            "Experiment: 1\n"
          ]
        },
        {
          "name": "stderr",
          "output_type": "stream",
          "text": [
            "100%|██████████| 5000/5000 [00:08<00:00, 581.35it/s]\n"
          ]
        },
        {
          "name": "stdout",
          "output_type": "stream",
          "text": [
            "17.3498\n",
            "Experiment: 1\n"
          ]
        },
        {
          "name": "stderr",
          "output_type": "stream",
          "text": [
            "100%|██████████| 5000/5000 [00:09<00:00, 546.63it/s]\n"
          ]
        },
        {
          "name": "stdout",
          "output_type": "stream",
          "text": [
            "17.3734\n",
            "[{'alpha': 0.9366280070739533, 'gamma': 0.9960852362843509, 'epsilon_tau': 0.23722593254498164, 'mean_rewards': -6.443, 'mean_steps': 17.3008}, {'alpha': 0.9684431988947442, 'gamma': 0.9887996327500127, 'epsilon_tau': 0.2148343739440326, 'mean_rewards': -6.4914, 'mean_steps': 17.3394}, {'alpha': 0.921404165666913, 'gamma': 0.9960852362843509, 'epsilon_tau': 0.23722593254498164, 'mean_rewards': -6.4994, 'mean_steps': 17.3432}, {'alpha': 0.9366280070739533, 'gamma': 0.9960852362843509, 'epsilon_tau': 0.019678075515387753, 'mean_rewards': -6.5098, 'mean_steps': 17.3498}, {'alpha': 0.8113675182488771, 'gamma': 0.9887996327500127, 'epsilon_tau': 0.2148343739440326, 'mean_rewards': -6.509, 'mean_steps': 17.3522}]\n",
            "{'alpha': 0.9366280070739533, 'gamma': 0.9960852362843509, 'epsilon_tau': 0.23722593254498164, 'mean_rewards': -6.443, 'mean_steps': 17.3008}\n",
            "\n",
            "Best Hyperparameters: {'alpha': 0.9366280070739533, 'gamma': 0.9960852362843509, 'epsilon_tau': 0.23722593254498164}\n",
            "Best Mean Rewards: -6.443\n",
            "Best Mean Steps: 17.3008\n",
            "\n",
            "Generation 5\n",
            "Experiment: 1\n"
          ]
        },
        {
          "name": "stderr",
          "output_type": "stream",
          "text": [
            "100%|██████████| 5000/5000 [00:08<00:00, 584.04it/s]\n"
          ]
        },
        {
          "name": "stdout",
          "output_type": "stream",
          "text": [
            "17.3304\n",
            "Experiment: 1\n"
          ]
        },
        {
          "name": "stderr",
          "output_type": "stream",
          "text": [
            "100%|██████████| 5000/5000 [00:09<00:00, 547.36it/s]\n"
          ]
        },
        {
          "name": "stdout",
          "output_type": "stream",
          "text": [
            "17.3312\n",
            "Experiment: 1\n"
          ]
        },
        {
          "name": "stderr",
          "output_type": "stream",
          "text": [
            "100%|██████████| 5000/5000 [00:09<00:00, 549.86it/s]\n"
          ]
        },
        {
          "name": "stdout",
          "output_type": "stream",
          "text": [
            "17.359\n",
            "Experiment: 1\n"
          ]
        },
        {
          "name": "stderr",
          "output_type": "stream",
          "text": [
            "100%|██████████| 5000/5000 [00:09<00:00, 550.79it/s]\n"
          ]
        },
        {
          "name": "stdout",
          "output_type": "stream",
          "text": [
            "17.3776\n",
            "Experiment: 1\n"
          ]
        },
        {
          "name": "stderr",
          "output_type": "stream",
          "text": [
            "100%|██████████| 5000/5000 [00:09<00:00, 538.51it/s]\n"
          ]
        },
        {
          "name": "stdout",
          "output_type": "stream",
          "text": [
            "17.3252\n",
            "Experiment: 1\n"
          ]
        },
        {
          "name": "stderr",
          "output_type": "stream",
          "text": [
            "100%|██████████| 5000/5000 [00:26<00:00, 190.64it/s]\n"
          ]
        },
        {
          "name": "stdout",
          "output_type": "stream",
          "text": [
            "56.4632\n",
            "Experiment: 1\n"
          ]
        },
        {
          "name": "stderr",
          "output_type": "stream",
          "text": [
            "100%|██████████| 5000/5000 [00:08<00:00, 605.53it/s]\n"
          ]
        },
        {
          "name": "stdout",
          "output_type": "stream",
          "text": [
            "15.3674\n",
            "Experiment: 1\n"
          ]
        },
        {
          "name": "stderr",
          "output_type": "stream",
          "text": [
            "100%|██████████| 5000/5000 [00:09<00:00, 552.36it/s]\n"
          ]
        },
        {
          "name": "stdout",
          "output_type": "stream",
          "text": [
            "17.3366\n",
            "Experiment: 1\n"
          ]
        },
        {
          "name": "stderr",
          "output_type": "stream",
          "text": [
            "100%|██████████| 5000/5000 [00:08<00:00, 561.17it/s]\n"
          ]
        },
        {
          "name": "stdout",
          "output_type": "stream",
          "text": [
            "17.3612\n",
            "Experiment: 1\n"
          ]
        },
        {
          "name": "stderr",
          "output_type": "stream",
          "text": [
            "100%|██████████| 5000/5000 [00:10<00:00, 484.08it/s]\n"
          ]
        },
        {
          "name": "stdout",
          "output_type": "stream",
          "text": [
            "17.358\n",
            "Experiment: 1\n"
          ]
        },
        {
          "name": "stderr",
          "output_type": "stream",
          "text": [
            "100%|██████████| 5000/5000 [00:10<00:00, 491.66it/s]\n"
          ]
        },
        {
          "name": "stdout",
          "output_type": "stream",
          "text": [
            "17.367\n",
            "Experiment: 1\n"
          ]
        },
        {
          "name": "stderr",
          "output_type": "stream",
          "text": [
            "100%|██████████| 5000/5000 [00:09<00:00, 540.66it/s]\n"
          ]
        },
        {
          "name": "stdout",
          "output_type": "stream",
          "text": [
            "17.3812\n",
            "Experiment: 1\n"
          ]
        },
        {
          "name": "stderr",
          "output_type": "stream",
          "text": [
            "100%|██████████| 5000/5000 [00:09<00:00, 519.62it/s]\n"
          ]
        },
        {
          "name": "stdout",
          "output_type": "stream",
          "text": [
            "17.3432\n",
            "Experiment: 1\n"
          ]
        },
        {
          "name": "stderr",
          "output_type": "stream",
          "text": [
            "100%|██████████| 5000/5000 [00:09<00:00, 549.08it/s]\n"
          ]
        },
        {
          "name": "stdout",
          "output_type": "stream",
          "text": [
            "17.3618\n",
            "Experiment: 1\n"
          ]
        },
        {
          "name": "stderr",
          "output_type": "stream",
          "text": [
            "100%|██████████| 5000/5000 [00:12<00:00, 402.04it/s]\n"
          ]
        },
        {
          "name": "stdout",
          "output_type": "stream",
          "text": [
            "24.589\n",
            "[{'alpha': 0.8113675182488771, 'gamma': 0.9887996327500127, 'epsilon_tau': 0.2148343739440326, 'mean_rewards': -6.4762, 'mean_steps': 17.3252}, {'alpha': 0.9366280070739533, 'gamma': 0.9887996327500127, 'epsilon_tau': 0.10263454663670159, 'mean_rewards': -6.4812, 'mean_steps': 17.3366}, {'alpha': 0.9684431988947442, 'gamma': 0.9887996327500127, 'epsilon_tau': 0.2148343739440326, 'mean_rewards': -6.4936, 'mean_steps': 17.3312}, {'alpha': 0.9366280070739533, 'gamma': 0.9960852362843509, 'epsilon_tau': 0.126287626242929, 'mean_rewards': -6.4932, 'mean_steps': 17.3432}, {'alpha': 0.8113675182488771, 'gamma': 0.9960852362843509, 'epsilon_tau': 0.23722593254498164, 'mean_rewards': -6.5122, 'mean_steps': 17.3612}]\n",
            "{'alpha': 0.8113675182488771, 'gamma': 0.9887996327500127, 'epsilon_tau': 0.2148343739440326, 'mean_rewards': -6.4762, 'mean_steps': 17.3252}\n",
            "\n",
            "Best Hyperparameters: {'alpha': 0.8113675182488771, 'gamma': 0.9887996327500127, 'epsilon_tau': 0.2148343739440326}\n",
            "Best Mean Rewards: -6.4762\n",
            "Best Mean Steps: 17.3252\n",
            "\n",
            "Generation 6\n",
            "Experiment: 1\n"
          ]
        },
        {
          "name": "stderr",
          "output_type": "stream",
          "text": [
            "100%|██████████| 5000/5000 [00:09<00:00, 538.43it/s]\n"
          ]
        },
        {
          "name": "stdout",
          "output_type": "stream",
          "text": [
            "17.3136\n",
            "Experiment: 1\n"
          ]
        },
        {
          "name": "stderr",
          "output_type": "stream",
          "text": [
            "100%|██████████| 5000/5000 [00:09<00:00, 525.51it/s]\n"
          ]
        },
        {
          "name": "stdout",
          "output_type": "stream",
          "text": [
            "17.3256\n",
            "Experiment: 1\n"
          ]
        },
        {
          "name": "stderr",
          "output_type": "stream",
          "text": [
            "100%|██████████| 5000/5000 [00:09<00:00, 532.75it/s]\n"
          ]
        },
        {
          "name": "stdout",
          "output_type": "stream",
          "text": [
            "17.3554\n",
            "Experiment: 1\n"
          ]
        },
        {
          "name": "stderr",
          "output_type": "stream",
          "text": [
            "100%|██████████| 5000/5000 [00:08<00:00, 561.90it/s]\n"
          ]
        },
        {
          "name": "stdout",
          "output_type": "stream",
          "text": [
            "17.3366\n",
            "Experiment: 1\n"
          ]
        },
        {
          "name": "stderr",
          "output_type": "stream",
          "text": [
            "100%|██████████| 5000/5000 [00:08<00:00, 574.41it/s]\n"
          ]
        },
        {
          "name": "stdout",
          "output_type": "stream",
          "text": [
            "17.3856\n",
            "Experiment: 1\n"
          ]
        },
        {
          "name": "stderr",
          "output_type": "stream",
          "text": [
            "100%|██████████| 5000/5000 [00:09<00:00, 544.35it/s]\n"
          ]
        },
        {
          "name": "stdout",
          "output_type": "stream",
          "text": [
            "17.3362\n",
            "Experiment: 1\n"
          ]
        },
        {
          "name": "stderr",
          "output_type": "stream",
          "text": [
            "100%|██████████| 5000/5000 [00:09<00:00, 553.78it/s]\n"
          ]
        },
        {
          "name": "stdout",
          "output_type": "stream",
          "text": [
            "17.4556\n",
            "Experiment: 1\n"
          ]
        },
        {
          "name": "stderr",
          "output_type": "stream",
          "text": [
            "100%|██████████| 5000/5000 [00:09<00:00, 554.13it/s]\n"
          ]
        },
        {
          "name": "stdout",
          "output_type": "stream",
          "text": [
            "17.3606\n",
            "Experiment: 1\n"
          ]
        },
        {
          "name": "stderr",
          "output_type": "stream",
          "text": [
            "100%|██████████| 5000/5000 [00:09<00:00, 527.49it/s]\n"
          ]
        },
        {
          "name": "stdout",
          "output_type": "stream",
          "text": [
            "17.3374\n",
            "Experiment: 1\n"
          ]
        },
        {
          "name": "stderr",
          "output_type": "stream",
          "text": [
            "100%|██████████| 5000/5000 [00:08<00:00, 573.93it/s]\n"
          ]
        },
        {
          "name": "stdout",
          "output_type": "stream",
          "text": [
            "17.3258\n",
            "Experiment: 1\n"
          ]
        },
        {
          "name": "stderr",
          "output_type": "stream",
          "text": [
            "100%|██████████| 5000/5000 [00:08<00:00, 581.24it/s]\n"
          ]
        },
        {
          "name": "stdout",
          "output_type": "stream",
          "text": [
            "17.3446\n",
            "Experiment: 1\n"
          ]
        },
        {
          "name": "stderr",
          "output_type": "stream",
          "text": [
            "100%|██████████| 5000/5000 [00:09<00:00, 539.51it/s]\n"
          ]
        },
        {
          "name": "stdout",
          "output_type": "stream",
          "text": [
            "17.3692\n",
            "Experiment: 1\n"
          ]
        },
        {
          "name": "stderr",
          "output_type": "stream",
          "text": [
            "100%|██████████| 5000/5000 [00:08<00:00, 590.55it/s]\n"
          ]
        },
        {
          "name": "stdout",
          "output_type": "stream",
          "text": [
            "17.4034\n",
            "Experiment: 1\n"
          ]
        },
        {
          "name": "stderr",
          "output_type": "stream",
          "text": [
            "100%|██████████| 5000/5000 [00:08<00:00, 559.58it/s]\n"
          ]
        },
        {
          "name": "stdout",
          "output_type": "stream",
          "text": [
            "17.333\n",
            "Experiment: 1\n"
          ]
        },
        {
          "name": "stderr",
          "output_type": "stream",
          "text": [
            "100%|██████████| 5000/5000 [00:08<00:00, 569.43it/s]\n"
          ]
        },
        {
          "name": "stdout",
          "output_type": "stream",
          "text": [
            "17.3504\n",
            "[{'alpha': 0.8113675182488771, 'gamma': 0.9887996327500127, 'epsilon_tau': 0.2148343739440326, 'mean_rewards': -6.4534, 'mean_steps': 17.3136}, {'alpha': 0.9366280070739533, 'gamma': 0.9887996327500127, 'epsilon_tau': 0.10263454663670159, 'mean_rewards': -6.4778, 'mean_steps': 17.3256}, {'alpha': 0.9366280070739533, 'gamma': 0.9960852362843509, 'epsilon_tau': 0.09284647480243868, 'mean_rewards': -6.4878, 'mean_steps': 17.333}, {'alpha': 0.9366280070739533, 'gamma': 0.9960852362843509, 'epsilon_tau': 0.126287626242929, 'mean_rewards': -6.4848, 'mean_steps': 17.3366}, {'alpha': 0.9366280070739533, 'gamma': 0.9887996327500127, 'epsilon_tau': 0.2148343739440326, 'mean_rewards': -6.4944, 'mean_steps': 17.3362}]\n",
            "{'alpha': 0.8113675182488771, 'gamma': 0.9887996327500127, 'epsilon_tau': 0.2148343739440326, 'mean_rewards': -6.4534, 'mean_steps': 17.3136}\n",
            "\n",
            "Best Hyperparameters: {'alpha': 0.8113675182488771, 'gamma': 0.9887996327500127, 'epsilon_tau': 0.2148343739440326}\n",
            "Best Mean Rewards: -6.4534\n",
            "Best Mean Steps: 17.3136\n",
            "\n",
            "Generation 7\n",
            "Experiment: 1\n"
          ]
        },
        {
          "name": "stderr",
          "output_type": "stream",
          "text": [
            "100%|██████████| 5000/5000 [00:09<00:00, 525.17it/s]\n"
          ]
        },
        {
          "name": "stdout",
          "output_type": "stream",
          "text": [
            "17.3726\n",
            "Experiment: 1\n"
          ]
        },
        {
          "name": "stderr",
          "output_type": "stream",
          "text": [
            "100%|██████████| 5000/5000 [00:09<00:00, 546.01it/s]\n"
          ]
        },
        {
          "name": "stdout",
          "output_type": "stream",
          "text": [
            "17.3454\n",
            "Experiment: 1\n"
          ]
        },
        {
          "name": "stderr",
          "output_type": "stream",
          "text": [
            "100%|██████████| 5000/5000 [00:09<00:00, 541.88it/s]\n"
          ]
        },
        {
          "name": "stdout",
          "output_type": "stream",
          "text": [
            "17.3306\n",
            "Experiment: 1\n"
          ]
        },
        {
          "name": "stderr",
          "output_type": "stream",
          "text": [
            "100%|██████████| 5000/5000 [00:09<00:00, 538.60it/s]\n"
          ]
        },
        {
          "name": "stdout",
          "output_type": "stream",
          "text": [
            "17.3632\n",
            "Experiment: 1\n"
          ]
        },
        {
          "name": "stderr",
          "output_type": "stream",
          "text": [
            "100%|██████████| 5000/5000 [00:09<00:00, 552.50it/s]\n"
          ]
        },
        {
          "name": "stdout",
          "output_type": "stream",
          "text": [
            "17.3378\n",
            "Experiment: 1\n"
          ]
        },
        {
          "name": "stderr",
          "output_type": "stream",
          "text": [
            "100%|██████████| 5000/5000 [00:10<00:00, 498.44it/s]\n"
          ]
        },
        {
          "name": "stdout",
          "output_type": "stream",
          "text": [
            "17.371\n",
            "Experiment: 1\n"
          ]
        },
        {
          "name": "stderr",
          "output_type": "stream",
          "text": [
            "100%|██████████| 5000/5000 [00:09<00:00, 546.39it/s]\n"
          ]
        },
        {
          "name": "stdout",
          "output_type": "stream",
          "text": [
            "17.3078\n",
            "Experiment: 1\n"
          ]
        },
        {
          "name": "stderr",
          "output_type": "stream",
          "text": [
            "100%|██████████| 5000/5000 [00:08<00:00, 564.51it/s]\n"
          ]
        },
        {
          "name": "stdout",
          "output_type": "stream",
          "text": [
            "17.357\n",
            "Experiment: 1\n"
          ]
        },
        {
          "name": "stderr",
          "output_type": "stream",
          "text": [
            "100%|██████████| 5000/5000 [00:09<00:00, 529.06it/s]\n"
          ]
        },
        {
          "name": "stdout",
          "output_type": "stream",
          "text": [
            "17.3758\n",
            "Experiment: 1\n"
          ]
        },
        {
          "name": "stderr",
          "output_type": "stream",
          "text": [
            "100%|██████████| 5000/5000 [00:09<00:00, 549.83it/s]\n"
          ]
        },
        {
          "name": "stdout",
          "output_type": "stream",
          "text": [
            "17.3798\n",
            "Experiment: 1\n"
          ]
        },
        {
          "name": "stderr",
          "output_type": "stream",
          "text": [
            "100%|██████████| 5000/5000 [00:05<00:00, 833.66it/s]\n"
          ]
        },
        {
          "name": "stdout",
          "output_type": "stream",
          "text": [
            "12.4022\n",
            "Experiment: 1\n"
          ]
        },
        {
          "name": "stderr",
          "output_type": "stream",
          "text": [
            "100%|██████████| 5000/5000 [00:09<00:00, 533.71it/s]\n"
          ]
        },
        {
          "name": "stdout",
          "output_type": "stream",
          "text": [
            "17.3918\n",
            "Experiment: 1\n"
          ]
        },
        {
          "name": "stderr",
          "output_type": "stream",
          "text": [
            "100%|██████████| 5000/5000 [00:09<00:00, 533.89it/s]\n"
          ]
        },
        {
          "name": "stdout",
          "output_type": "stream",
          "text": [
            "17.3958\n",
            "Experiment: 1\n"
          ]
        },
        {
          "name": "stderr",
          "output_type": "stream",
          "text": [
            "100%|██████████| 5000/5000 [00:09<00:00, 540.15it/s]\n"
          ]
        },
        {
          "name": "stdout",
          "output_type": "stream",
          "text": [
            "17.3362\n",
            "Experiment: 1\n"
          ]
        },
        {
          "name": "stderr",
          "output_type": "stream",
          "text": [
            "100%|██████████| 5000/5000 [00:09<00:00, 547.17it/s]"
          ]
        },
        {
          "name": "stdout",
          "output_type": "stream",
          "text": [
            "17.4344\n",
            "[{'alpha': 0.8113675182488771, 'gamma': 0.9887996327500127, 'epsilon_tau': 0.09284647480243868, 'mean_rewards': -6.5252, 'mean_steps': 12.4022}, {'alpha': 0.9366280070739533, 'gamma': 0.9960852362843509, 'epsilon_tau': 0.1715253133518598, 'mean_rewards': -6.4538, 'mean_steps': 17.3078}, {'alpha': 0.9366280070739533, 'gamma': 0.9887996327500127, 'epsilon_tau': 0.2148343739440326, 'mean_rewards': -6.4798, 'mean_steps': 17.3378}, {'alpha': 0.9366280070739533, 'gamma': 0.9887996327500127, 'epsilon_tau': 0.2148343739440326, 'mean_rewards': -6.4824, 'mean_steps': 17.3362}, {'alpha': 0.9366280070739533, 'gamma': 0.9960852362843509, 'epsilon_tau': 0.09284647480243868, 'mean_rewards': -6.4936, 'mean_steps': 17.3306}]\n",
            "{'alpha': 0.8113675182488771, 'gamma': 0.9887996327500127, 'epsilon_tau': 0.09284647480243868, 'mean_rewards': -6.5252, 'mean_steps': 12.4022}\n",
            "\n",
            "Best Hyperparameters: {'alpha': 0.8113675182488771, 'gamma': 0.9887996327500127, 'epsilon_tau': 0.09284647480243868}\n",
            "Best Mean Rewards: -6.5252\n",
            "Best Mean Steps: 12.4022\n"
          ]
        },
        {
          "name": "stderr",
          "output_type": "stream",
          "text": [
            "\n"
          ]
        }
      ],
      "source": [
        "best_hyperparameters, best_mean_rewards, best_mean_steps, a4 = genetic_algorithm(env1, qlearning_e, e_s=0)\n",
        "write_results_to_file(file_path, (best_hyperparameters, best_mean_rewards, best_mean_steps), \"Q-Learning_EpsilonGreedy_e1\")"
      ]
    },
    {
      "cell_type": "code",
      "execution_count": 48,
      "metadata": {},
      "outputs": [
        {
          "name": "stdout",
          "output_type": "stream",
          "text": [
            "\n",
            "Generation 1\n",
            "Experiment: 1\n"
          ]
        },
        {
          "name": "stderr",
          "output_type": "stream",
          "text": [
            "100%|██████████| 5000/5000 [00:14<00:00, 354.16it/s]\n"
          ]
        },
        {
          "name": "stdout",
          "output_type": "stream",
          "text": [
            "27.7352\n",
            "Experiment: 1\n"
          ]
        },
        {
          "name": "stderr",
          "output_type": "stream",
          "text": [
            "100%|██████████| 5000/5000 [00:36<00:00, 138.59it/s]\n"
          ]
        },
        {
          "name": "stdout",
          "output_type": "stream",
          "text": [
            "78.0096\n",
            "Experiment: 1\n"
          ]
        },
        {
          "name": "stderr",
          "output_type": "stream",
          "text": [
            "100%|██████████| 5000/5000 [00:20<00:00, 243.85it/s]\n"
          ]
        },
        {
          "name": "stdout",
          "output_type": "stream",
          "text": [
            "45.2896\n",
            "Experiment: 1\n"
          ]
        },
        {
          "name": "stderr",
          "output_type": "stream",
          "text": [
            "100%|██████████| 5000/5000 [00:30<00:00, 163.39it/s]\n"
          ]
        },
        {
          "name": "stdout",
          "output_type": "stream",
          "text": [
            "67.2844\n",
            "Experiment: 1\n"
          ]
        },
        {
          "name": "stderr",
          "output_type": "stream",
          "text": [
            "100%|██████████| 5000/5000 [00:38<00:00, 130.42it/s]\n"
          ]
        },
        {
          "name": "stdout",
          "output_type": "stream",
          "text": [
            "84.2558\n",
            "Experiment: 1\n"
          ]
        },
        {
          "name": "stderr",
          "output_type": "stream",
          "text": [
            "100%|██████████| 5000/5000 [00:35<00:00, 142.31it/s]\n"
          ]
        },
        {
          "name": "stdout",
          "output_type": "stream",
          "text": [
            "78.0702\n",
            "Experiment: 1\n"
          ]
        },
        {
          "name": "stderr",
          "output_type": "stream",
          "text": [
            "100%|██████████| 5000/5000 [00:15<00:00, 318.78it/s]\n"
          ]
        },
        {
          "name": "stdout",
          "output_type": "stream",
          "text": [
            "32.562\n",
            "Experiment: 1\n"
          ]
        },
        {
          "name": "stderr",
          "output_type": "stream",
          "text": [
            "100%|██████████| 5000/5000 [00:26<00:00, 188.14it/s]\n"
          ]
        },
        {
          "name": "stdout",
          "output_type": "stream",
          "text": [
            "58.1628\n",
            "Experiment: 1\n"
          ]
        },
        {
          "name": "stderr",
          "output_type": "stream",
          "text": [
            "100%|██████████| 5000/5000 [00:30<00:00, 166.10it/s]\n"
          ]
        },
        {
          "name": "stdout",
          "output_type": "stream",
          "text": [
            "67.0536\n",
            "Experiment: 1\n"
          ]
        },
        {
          "name": "stderr",
          "output_type": "stream",
          "text": [
            "100%|██████████| 5000/5000 [00:28<00:00, 175.77it/s]\n"
          ]
        },
        {
          "name": "stdout",
          "output_type": "stream",
          "text": [
            "60.1518\n",
            "Experiment: 1\n"
          ]
        },
        {
          "name": "stderr",
          "output_type": "stream",
          "text": [
            "100%|██████████| 5000/5000 [00:15<00:00, 325.74it/s]\n"
          ]
        },
        {
          "name": "stdout",
          "output_type": "stream",
          "text": [
            "30.0678\n",
            "Experiment: 1\n"
          ]
        },
        {
          "name": "stderr",
          "output_type": "stream",
          "text": [
            "100%|██████████| 5000/5000 [00:20<00:00, 246.11it/s]\n"
          ]
        },
        {
          "name": "stdout",
          "output_type": "stream",
          "text": [
            "43.4308\n",
            "Experiment: 1\n"
          ]
        },
        {
          "name": "stderr",
          "output_type": "stream",
          "text": [
            "100%|██████████| 5000/5000 [00:41<00:00, 119.86it/s]\n"
          ]
        },
        {
          "name": "stdout",
          "output_type": "stream",
          "text": [
            "91.54\n",
            "Experiment: 1\n"
          ]
        },
        {
          "name": "stderr",
          "output_type": "stream",
          "text": [
            "100%|██████████| 5000/5000 [00:12<00:00, 399.36it/s]\n"
          ]
        },
        {
          "name": "stdout",
          "output_type": "stream",
          "text": [
            "26.7734\n",
            "Experiment: 1\n"
          ]
        },
        {
          "name": "stderr",
          "output_type": "stream",
          "text": [
            "100%|██████████| 5000/5000 [00:14<00:00, 335.81it/s]\n"
          ]
        },
        {
          "name": "stdout",
          "output_type": "stream",
          "text": [
            "31.2926\n",
            "[{'alpha': 0.6200478383451511, 'gamma': 0.9885509604565297, 'epsilon_tau': 0.9714030394107416, 'mean_rewards': -21.775, 'mean_steps': 26.7734}, {'alpha': 0.6653632729173063, 'gamma': 0.9908767051431533, 'epsilon_tau': 0.986423081884443, 'mean_rewards': -22.2076, 'mean_steps': 27.7352}, {'alpha': 0.19778647933057916, 'gamma': 0.9833365909625759, 'epsilon_tau': 0.8843388190656778, 'mean_rewards': -23.6386, 'mean_steps': 30.0678}, {'alpha': 0.2905382564645742, 'gamma': 0.9503910797664487, 'epsilon_tau': 0.6435870074300768, 'mean_rewards': -24.585, 'mean_steps': 31.2926}, {'alpha': 0.33316484311302175, 'gamma': 0.9641437704688354, 'epsilon_tau': 0.9139675827404019, 'mean_rewards': -26.0176, 'mean_steps': 32.562}]\n",
            "{'alpha': 0.6200478383451511, 'gamma': 0.9885509604565297, 'epsilon_tau': 0.9714030394107416, 'mean_rewards': -21.775, 'mean_steps': 26.7734}\n",
            "\n",
            "Best Hyperparameters: {'alpha': 0.6200478383451511, 'gamma': 0.9885509604565297, 'epsilon_tau': 0.9714030394107416}\n",
            "Best Mean Rewards: -21.775\n",
            "Best Mean Steps: 26.7734\n",
            "\n",
            "Generation 2\n",
            "Experiment: 1\n"
          ]
        },
        {
          "name": "stderr",
          "output_type": "stream",
          "text": [
            "100%|██████████| 5000/5000 [00:13<00:00, 359.87it/s]\n"
          ]
        },
        {
          "name": "stdout",
          "output_type": "stream",
          "text": [
            "27.6892\n",
            "Experiment: 1\n"
          ]
        },
        {
          "name": "stderr",
          "output_type": "stream",
          "text": [
            "100%|██████████| 5000/5000 [00:13<00:00, 368.38it/s]\n"
          ]
        },
        {
          "name": "stdout",
          "output_type": "stream",
          "text": [
            "26.8818\n",
            "Experiment: 1\n"
          ]
        },
        {
          "name": "stderr",
          "output_type": "stream",
          "text": [
            "100%|██████████| 5000/5000 [00:13<00:00, 357.22it/s]\n"
          ]
        },
        {
          "name": "stdout",
          "output_type": "stream",
          "text": [
            "28.675\n",
            "Experiment: 1\n"
          ]
        },
        {
          "name": "stderr",
          "output_type": "stream",
          "text": [
            "100%|██████████| 5000/5000 [00:15<00:00, 330.29it/s]\n"
          ]
        },
        {
          "name": "stdout",
          "output_type": "stream",
          "text": [
            "31.8146\n",
            "Experiment: 1\n"
          ]
        },
        {
          "name": "stderr",
          "output_type": "stream",
          "text": [
            "100%|██████████| 5000/5000 [00:15<00:00, 323.53it/s]\n"
          ]
        },
        {
          "name": "stdout",
          "output_type": "stream",
          "text": [
            "32.2306\n",
            "Experiment: 1\n"
          ]
        },
        {
          "name": "stderr",
          "output_type": "stream",
          "text": [
            "100%|██████████| 5000/5000 [00:38<00:00, 130.57it/s]\n"
          ]
        },
        {
          "name": "stdout",
          "output_type": "stream",
          "text": [
            "83.8686\n",
            "Experiment: 1\n"
          ]
        },
        {
          "name": "stderr",
          "output_type": "stream",
          "text": [
            "100%|██████████| 5000/5000 [00:15<00:00, 320.67it/s]\n"
          ]
        },
        {
          "name": "stdout",
          "output_type": "stream",
          "text": [
            "32.4044\n",
            "Experiment: 1\n"
          ]
        },
        {
          "name": "stderr",
          "output_type": "stream",
          "text": [
            "100%|██████████| 5000/5000 [00:14<00:00, 351.74it/s]\n"
          ]
        },
        {
          "name": "stdout",
          "output_type": "stream",
          "text": [
            "29.3364\n",
            "Experiment: 1\n"
          ]
        },
        {
          "name": "stderr",
          "output_type": "stream",
          "text": [
            "100%|██████████| 5000/5000 [00:14<00:00, 335.66it/s]\n"
          ]
        },
        {
          "name": "stdout",
          "output_type": "stream",
          "text": [
            "31.26\n",
            "Experiment: 1\n"
          ]
        },
        {
          "name": "stderr",
          "output_type": "stream",
          "text": [
            "100%|██████████| 5000/5000 [00:13<00:00, 380.10it/s]\n"
          ]
        },
        {
          "name": "stdout",
          "output_type": "stream",
          "text": [
            "28.2182\n",
            "Experiment: 1\n"
          ]
        },
        {
          "name": "stderr",
          "output_type": "stream",
          "text": [
            "100%|██████████| 5000/5000 [00:34<00:00, 145.52it/s]\n"
          ]
        },
        {
          "name": "stdout",
          "output_type": "stream",
          "text": [
            "71.2618\n",
            "Experiment: 1\n"
          ]
        },
        {
          "name": "stderr",
          "output_type": "stream",
          "text": [
            "100%|██████████| 5000/5000 [00:40<00:00, 124.57it/s]\n"
          ]
        },
        {
          "name": "stdout",
          "output_type": "stream",
          "text": [
            "87.6126\n",
            "Experiment: 1\n"
          ]
        },
        {
          "name": "stderr",
          "output_type": "stream",
          "text": [
            "100%|██████████| 5000/5000 [00:13<00:00, 361.15it/s]\n"
          ]
        },
        {
          "name": "stdout",
          "output_type": "stream",
          "text": [
            "28.611\n",
            "Experiment: 1\n"
          ]
        },
        {
          "name": "stderr",
          "output_type": "stream",
          "text": [
            "100%|██████████| 5000/5000 [00:13<00:00, 371.21it/s]\n"
          ]
        },
        {
          "name": "stdout",
          "output_type": "stream",
          "text": [
            "29.0292\n",
            "Experiment: 1\n"
          ]
        },
        {
          "name": "stderr",
          "output_type": "stream",
          "text": [
            "100%|██████████| 5000/5000 [00:14<00:00, 344.35it/s]\n"
          ]
        },
        {
          "name": "stdout",
          "output_type": "stream",
          "text": [
            "30.9678\n",
            "[{'alpha': 0.6653632729173063, 'gamma': 0.9908767051431533, 'epsilon_tau': 0.986423081884443, 'mean_rewards': -21.6612, 'mean_steps': 26.8818}, {'alpha': 0.6200478383451511, 'gamma': 0.9885509604565297, 'epsilon_tau': 0.9714030394107416, 'mean_rewards': -21.37, 'mean_steps': 27.6892}, {'alpha': 0.6653632729173063, 'gamma': 0.9885509604565297, 'epsilon_tau': 0.9714030394107416, 'mean_rewards': -22.0852, 'mean_steps': 28.2182}, {'alpha': 0.19778647933057916, 'gamma': 0.9833365909625759, 'epsilon_tau': 0.8843388190656778, 'mean_rewards': -22.0196, 'mean_steps': 28.675}, {'alpha': 0.6653632729173063, 'gamma': 0.9833365909625759, 'epsilon_tau': 0.5420195534129328, 'mean_rewards': -22.312, 'mean_steps': 28.611}]\n",
            "{'alpha': 0.6653632729173063, 'gamma': 0.9908767051431533, 'epsilon_tau': 0.986423081884443, 'mean_rewards': -21.6612, 'mean_steps': 26.8818}\n",
            "\n",
            "Best Hyperparameters: {'alpha': 0.6653632729173063, 'gamma': 0.9908767051431533, 'epsilon_tau': 0.986423081884443}\n",
            "Best Mean Rewards: -21.6612\n",
            "Best Mean Steps: 26.8818\n",
            "\n",
            "Generation 3\n",
            "Experiment: 1\n"
          ]
        },
        {
          "name": "stderr",
          "output_type": "stream",
          "text": [
            "100%|██████████| 5000/5000 [00:12<00:00, 393.26it/s]\n"
          ]
        },
        {
          "name": "stdout",
          "output_type": "stream",
          "text": [
            "26.274\n",
            "Experiment: 1\n"
          ]
        },
        {
          "name": "stderr",
          "output_type": "stream",
          "text": [
            "100%|██████████| 5000/5000 [00:13<00:00, 369.96it/s]\n"
          ]
        },
        {
          "name": "stdout",
          "output_type": "stream",
          "text": [
            "28.5118\n",
            "Experiment: 1\n"
          ]
        },
        {
          "name": "stderr",
          "output_type": "stream",
          "text": [
            "100%|██████████| 5000/5000 [00:13<00:00, 373.57it/s]\n"
          ]
        },
        {
          "name": "stdout",
          "output_type": "stream",
          "text": [
            "28.0588\n",
            "Experiment: 1\n"
          ]
        },
        {
          "name": "stderr",
          "output_type": "stream",
          "text": [
            "100%|██████████| 5000/5000 [00:14<00:00, 344.12it/s]\n"
          ]
        },
        {
          "name": "stdout",
          "output_type": "stream",
          "text": [
            "29.5488\n",
            "Experiment: 1\n"
          ]
        },
        {
          "name": "stderr",
          "output_type": "stream",
          "text": [
            "100%|██████████| 5000/5000 [00:13<00:00, 377.63it/s]\n"
          ]
        },
        {
          "name": "stdout",
          "output_type": "stream",
          "text": [
            "27.9092\n",
            "Experiment: 1\n"
          ]
        },
        {
          "name": "stderr",
          "output_type": "stream",
          "text": [
            "100%|██████████| 5000/5000 [00:13<00:00, 367.16it/s]\n"
          ]
        },
        {
          "name": "stdout",
          "output_type": "stream",
          "text": [
            "28.407\n",
            "Experiment: 1\n"
          ]
        },
        {
          "name": "stderr",
          "output_type": "stream",
          "text": [
            "100%|██████████| 5000/5000 [00:13<00:00, 370.88it/s]\n"
          ]
        },
        {
          "name": "stdout",
          "output_type": "stream",
          "text": [
            "27.7872\n",
            "Experiment: 1\n"
          ]
        },
        {
          "name": "stderr",
          "output_type": "stream",
          "text": [
            "100%|██████████| 5000/5000 [00:24<00:00, 207.35it/s]\n"
          ]
        },
        {
          "name": "stdout",
          "output_type": "stream",
          "text": [
            "53.1658\n",
            "Experiment: 1\n"
          ]
        },
        {
          "name": "stderr",
          "output_type": "stream",
          "text": [
            "100%|██████████| 5000/5000 [00:36<00:00, 137.88it/s]\n"
          ]
        },
        {
          "name": "stdout",
          "output_type": "stream",
          "text": [
            "78.908\n",
            "Experiment: 1\n"
          ]
        },
        {
          "name": "stderr",
          "output_type": "stream",
          "text": [
            "100%|██████████| 5000/5000 [00:13<00:00, 381.63it/s]\n"
          ]
        },
        {
          "name": "stdout",
          "output_type": "stream",
          "text": [
            "28.004\n",
            "Experiment: 1\n"
          ]
        },
        {
          "name": "stderr",
          "output_type": "stream",
          "text": [
            "100%|██████████| 5000/5000 [00:12<00:00, 393.75it/s]\n"
          ]
        },
        {
          "name": "stdout",
          "output_type": "stream",
          "text": [
            "27.0642\n",
            "Experiment: 1\n"
          ]
        },
        {
          "name": "stderr",
          "output_type": "stream",
          "text": [
            "100%|██████████| 5000/5000 [00:13<00:00, 369.35it/s]\n"
          ]
        },
        {
          "name": "stdout",
          "output_type": "stream",
          "text": [
            "28.6316\n",
            "Experiment: 1\n"
          ]
        },
        {
          "name": "stderr",
          "output_type": "stream",
          "text": [
            "100%|██████████| 5000/5000 [00:14<00:00, 342.42it/s]\n"
          ]
        },
        {
          "name": "stdout",
          "output_type": "stream",
          "text": [
            "28.8902\n",
            "Experiment: 1\n"
          ]
        },
        {
          "name": "stderr",
          "output_type": "stream",
          "text": [
            "100%|██████████| 5000/5000 [00:13<00:00, 374.88it/s]\n"
          ]
        },
        {
          "name": "stdout",
          "output_type": "stream",
          "text": [
            "27.1808\n",
            "Experiment: 1\n"
          ]
        },
        {
          "name": "stderr",
          "output_type": "stream",
          "text": [
            "100%|██████████| 5000/5000 [00:32<00:00, 152.84it/s]\n"
          ]
        },
        {
          "name": "stdout",
          "output_type": "stream",
          "text": [
            "72.0158\n",
            "[{'alpha': 0.6653632729173063, 'gamma': 0.9908767051431533, 'epsilon_tau': 0.986423081884443, 'mean_rewards': -20.963, 'mean_steps': 26.274}, {'alpha': 0.6200478383451511, 'gamma': 0.9885509604565297, 'epsilon_tau': 0.9714030394107416, 'mean_rewards': -20.6782, 'mean_steps': 27.1808}, {'alpha': 0.6653632729173063, 'gamma': 0.9885509604565297, 'epsilon_tau': 0.9714030394107416, 'mean_rewards': -20.4668, 'mean_steps': 28.004}, {'alpha': 0.6653632729173063, 'gamma': 0.9833365909625759, 'epsilon_tau': 0.986423081884443, 'mean_rewards': -21.5668, 'mean_steps': 27.0642}, {'alpha': 0.6653632729173063, 'gamma': 0.9833365909625759, 'epsilon_tau': 0.516565243115543, 'mean_rewards': -21.755, 'mean_steps': 27.7872}]\n",
            "{'alpha': 0.6653632729173063, 'gamma': 0.9908767051431533, 'epsilon_tau': 0.986423081884443, 'mean_rewards': -20.963, 'mean_steps': 26.274}\n",
            "\n",
            "Best Hyperparameters: {'alpha': 0.6653632729173063, 'gamma': 0.9908767051431533, 'epsilon_tau': 0.986423081884443}\n",
            "Best Mean Rewards: -20.963\n",
            "Best Mean Steps: 26.274\n",
            "\n",
            "Generation 4\n",
            "Experiment: 1\n"
          ]
        },
        {
          "name": "stderr",
          "output_type": "stream",
          "text": [
            "100%|██████████| 5000/5000 [00:14<00:00, 345.00it/s]\n"
          ]
        },
        {
          "name": "stdout",
          "output_type": "stream",
          "text": [
            "27.8862\n",
            "Experiment: 1\n"
          ]
        },
        {
          "name": "stderr",
          "output_type": "stream",
          "text": [
            "100%|██████████| 5000/5000 [00:14<00:00, 336.68it/s]\n"
          ]
        },
        {
          "name": "stdout",
          "output_type": "stream",
          "text": [
            "27.7722\n",
            "Experiment: 1\n"
          ]
        },
        {
          "name": "stderr",
          "output_type": "stream",
          "text": [
            "100%|██████████| 5000/5000 [00:13<00:00, 367.43it/s]\n"
          ]
        },
        {
          "name": "stdout",
          "output_type": "stream",
          "text": [
            "28.4594\n",
            "Experiment: 1\n"
          ]
        },
        {
          "name": "stderr",
          "output_type": "stream",
          "text": [
            "100%|██████████| 5000/5000 [00:13<00:00, 375.64it/s]\n"
          ]
        },
        {
          "name": "stdout",
          "output_type": "stream",
          "text": [
            "28.354\n",
            "Experiment: 1\n"
          ]
        },
        {
          "name": "stderr",
          "output_type": "stream",
          "text": [
            "100%|██████████| 5000/5000 [00:13<00:00, 370.58it/s]\n"
          ]
        },
        {
          "name": "stdout",
          "output_type": "stream",
          "text": [
            "28.1426\n",
            "Experiment: 1\n"
          ]
        },
        {
          "name": "stderr",
          "output_type": "stream",
          "text": [
            "100%|██████████| 5000/5000 [00:13<00:00, 366.98it/s]\n"
          ]
        },
        {
          "name": "stdout",
          "output_type": "stream",
          "text": [
            "27.3538\n",
            "Experiment: 1\n"
          ]
        },
        {
          "name": "stderr",
          "output_type": "stream",
          "text": [
            "100%|██████████| 5000/5000 [00:13<00:00, 370.62it/s]\n"
          ]
        },
        {
          "name": "stdout",
          "output_type": "stream",
          "text": [
            "28.1454\n",
            "Experiment: 1\n"
          ]
        },
        {
          "name": "stderr",
          "output_type": "stream",
          "text": [
            "100%|██████████| 5000/5000 [00:12<00:00, 414.01it/s]\n"
          ]
        },
        {
          "name": "stdout",
          "output_type": "stream",
          "text": [
            "26.2852\n",
            "Experiment: 1\n"
          ]
        },
        {
          "name": "stderr",
          "output_type": "stream",
          "text": [
            "100%|██████████| 5000/5000 [00:13<00:00, 378.55it/s]\n"
          ]
        },
        {
          "name": "stdout",
          "output_type": "stream",
          "text": [
            "27.2398\n",
            "Experiment: 1\n"
          ]
        },
        {
          "name": "stderr",
          "output_type": "stream",
          "text": [
            "100%|██████████| 5000/5000 [00:13<00:00, 383.07it/s]\n"
          ]
        },
        {
          "name": "stdout",
          "output_type": "stream",
          "text": [
            "27.5774\n",
            "Experiment: 1\n"
          ]
        },
        {
          "name": "stderr",
          "output_type": "stream",
          "text": [
            "100%|██████████| 5000/5000 [00:12<00:00, 385.67it/s]\n"
          ]
        },
        {
          "name": "stdout",
          "output_type": "stream",
          "text": [
            "26.9264\n",
            "Experiment: 1\n"
          ]
        },
        {
          "name": "stderr",
          "output_type": "stream",
          "text": [
            "100%|██████████| 5000/5000 [00:12<00:00, 395.10it/s]\n"
          ]
        },
        {
          "name": "stdout",
          "output_type": "stream",
          "text": [
            "27.2614\n",
            "Experiment: 1\n"
          ]
        },
        {
          "name": "stderr",
          "output_type": "stream",
          "text": [
            "100%|██████████| 5000/5000 [00:13<00:00, 378.00it/s]\n"
          ]
        },
        {
          "name": "stdout",
          "output_type": "stream",
          "text": [
            "28.4216\n",
            "Experiment: 1\n"
          ]
        },
        {
          "name": "stderr",
          "output_type": "stream",
          "text": [
            "100%|██████████| 5000/5000 [00:33<00:00, 149.51it/s]\n"
          ]
        },
        {
          "name": "stdout",
          "output_type": "stream",
          "text": [
            "74.0468\n",
            "Experiment: 1\n"
          ]
        },
        {
          "name": "stderr",
          "output_type": "stream",
          "text": [
            "100%|██████████| 5000/5000 [00:13<00:00, 365.27it/s]\n"
          ]
        },
        {
          "name": "stdout",
          "output_type": "stream",
          "text": [
            "27.598\n",
            "[{'alpha': 0.6653632729173063, 'gamma': 0.9833365909625759, 'epsilon_tau': 0.516565243115543, 'mean_rewards': -20.6844, 'mean_steps': 26.9264}, {'alpha': 0.6653632729173063, 'gamma': 0.9833365909625759, 'epsilon_tau': 0.516565243115543, 'mean_rewards': -21.5312, 'mean_steps': 26.2852}, {'alpha': 0.6200478383451511, 'gamma': 0.9885509604565297, 'epsilon_tau': 0.9714030394107416, 'mean_rewards': -20.3996, 'mean_steps': 27.7722}, {'alpha': 0.7049294832111433, 'gamma': 0.9885509604565297, 'epsilon_tau': 0.986423081884443, 'mean_rewards': -21.3632, 'mean_steps': 27.2614}, {'alpha': 0.6653632729173063, 'gamma': 0.9908767051431533, 'epsilon_tau': 0.986423081884443, 'mean_rewards': -21.4414, 'mean_steps': 27.3538}]\n",
            "{'alpha': 0.6653632729173063, 'gamma': 0.9833365909625759, 'epsilon_tau': 0.516565243115543, 'mean_rewards': -20.6844, 'mean_steps': 26.9264}\n",
            "\n",
            "Best Hyperparameters: {'alpha': 0.6653632729173063, 'gamma': 0.9833365909625759, 'epsilon_tau': 0.516565243115543}\n",
            "Best Mean Rewards: -20.6844\n",
            "Best Mean Steps: 26.9264\n",
            "\n",
            "Generation 5\n",
            "Experiment: 1\n"
          ]
        },
        {
          "name": "stderr",
          "output_type": "stream",
          "text": [
            "100%|██████████| 5000/5000 [00:13<00:00, 371.27it/s]\n"
          ]
        },
        {
          "name": "stdout",
          "output_type": "stream",
          "text": [
            "28.2068\n",
            "Experiment: 1\n"
          ]
        },
        {
          "name": "stderr",
          "output_type": "stream",
          "text": [
            "100%|██████████| 5000/5000 [00:13<00:00, 370.40it/s]\n"
          ]
        },
        {
          "name": "stdout",
          "output_type": "stream",
          "text": [
            "28.2322\n",
            "Experiment: 1\n"
          ]
        },
        {
          "name": "stderr",
          "output_type": "stream",
          "text": [
            "100%|██████████| 5000/5000 [00:13<00:00, 366.63it/s]\n"
          ]
        },
        {
          "name": "stdout",
          "output_type": "stream",
          "text": [
            "25.7304\n",
            "Experiment: 1\n"
          ]
        },
        {
          "name": "stderr",
          "output_type": "stream",
          "text": [
            "100%|██████████| 5000/5000 [00:14<00:00, 352.96it/s]\n"
          ]
        },
        {
          "name": "stdout",
          "output_type": "stream",
          "text": [
            "27.1\n",
            "Experiment: 1\n"
          ]
        },
        {
          "name": "stderr",
          "output_type": "stream",
          "text": [
            "100%|██████████| 5000/5000 [00:12<00:00, 393.21it/s]\n"
          ]
        },
        {
          "name": "stdout",
          "output_type": "stream",
          "text": [
            "27.372\n",
            "Experiment: 1\n"
          ]
        },
        {
          "name": "stderr",
          "output_type": "stream",
          "text": [
            "100%|██████████| 5000/5000 [00:32<00:00, 155.26it/s]\n"
          ]
        },
        {
          "name": "stdout",
          "output_type": "stream",
          "text": [
            "72.2148\n",
            "Experiment: 1\n"
          ]
        },
        {
          "name": "stderr",
          "output_type": "stream",
          "text": [
            "100%|██████████| 5000/5000 [00:12<00:00, 406.29it/s]\n"
          ]
        },
        {
          "name": "stdout",
          "output_type": "stream",
          "text": [
            "26.599\n",
            "Experiment: 1\n"
          ]
        },
        {
          "name": "stderr",
          "output_type": "stream",
          "text": [
            "100%|██████████| 5000/5000 [00:13<00:00, 373.69it/s]\n"
          ]
        },
        {
          "name": "stdout",
          "output_type": "stream",
          "text": [
            "27.5768\n",
            "Experiment: 1\n"
          ]
        },
        {
          "name": "stderr",
          "output_type": "stream",
          "text": [
            "100%|██████████| 5000/5000 [00:39<00:00, 126.17it/s]\n"
          ]
        },
        {
          "name": "stdout",
          "output_type": "stream",
          "text": [
            "87.5476\n",
            "Experiment: 1\n"
          ]
        },
        {
          "name": "stderr",
          "output_type": "stream",
          "text": [
            "100%|██████████| 5000/5000 [00:13<00:00, 364.76it/s]\n"
          ]
        },
        {
          "name": "stdout",
          "output_type": "stream",
          "text": [
            "28.0798\n",
            "Experiment: 1\n"
          ]
        },
        {
          "name": "stderr",
          "output_type": "stream",
          "text": [
            "100%|██████████| 5000/5000 [00:13<00:00, 368.72it/s]\n"
          ]
        },
        {
          "name": "stdout",
          "output_type": "stream",
          "text": [
            "27.9282\n",
            "Experiment: 1\n"
          ]
        },
        {
          "name": "stderr",
          "output_type": "stream",
          "text": [
            "100%|██████████| 5000/5000 [00:39<00:00, 126.17it/s]\n"
          ]
        },
        {
          "name": "stdout",
          "output_type": "stream",
          "text": [
            "88.1378\n",
            "Experiment: 1\n"
          ]
        },
        {
          "name": "stderr",
          "output_type": "stream",
          "text": [
            "100%|██████████| 5000/5000 [00:14<00:00, 355.87it/s]\n"
          ]
        },
        {
          "name": "stdout",
          "output_type": "stream",
          "text": [
            "29.5382\n",
            "Experiment: 1\n"
          ]
        },
        {
          "name": "stderr",
          "output_type": "stream",
          "text": [
            "100%|██████████| 5000/5000 [00:16<00:00, 305.13it/s]\n"
          ]
        },
        {
          "name": "stdout",
          "output_type": "stream",
          "text": [
            "33.9946\n",
            "Experiment: 1\n"
          ]
        },
        {
          "name": "stderr",
          "output_type": "stream",
          "text": [
            "100%|██████████| 5000/5000 [00:13<00:00, 378.46it/s]\n"
          ]
        },
        {
          "name": "stdout",
          "output_type": "stream",
          "text": [
            "27.986\n",
            "[{'alpha': 0.6200478383451511, 'gamma': 0.9885509604565297, 'epsilon_tau': 0.9714030394107416, 'mean_rewards': -20.9972, 'mean_steps': 25.7304}, {'alpha': 0.6653632729173063, 'gamma': 0.9833365909625759, 'epsilon_tau': 0.516565243115543, 'mean_rewards': -21.1364, 'mean_steps': 27.5768}, {'alpha': 0.855744007558726, 'gamma': 0.9833365909625759, 'epsilon_tau': 0.9714030394107416, 'mean_rewards': -22.1856, 'mean_steps': 26.599}, {'alpha': 0.6653632729173063, 'gamma': 0.9908767051431533, 'epsilon_tau': 0.986423081884443, 'mean_rewards': -21.477, 'mean_steps': 27.372}, {'alpha': 0.7049294832111433, 'gamma': 0.9885509604565297, 'epsilon_tau': 0.986423081884443, 'mean_rewards': -21.7962, 'mean_steps': 27.1}]\n",
            "{'alpha': 0.6200478383451511, 'gamma': 0.9885509604565297, 'epsilon_tau': 0.9714030394107416, 'mean_rewards': -20.9972, 'mean_steps': 25.7304}\n",
            "\n",
            "Best Hyperparameters: {'alpha': 0.6200478383451511, 'gamma': 0.9885509604565297, 'epsilon_tau': 0.9714030394107416}\n",
            "Best Mean Rewards: -20.9972\n",
            "Best Mean Steps: 25.7304\n",
            "\n",
            "Generation 6\n",
            "Experiment: 1\n"
          ]
        },
        {
          "name": "stderr",
          "output_type": "stream",
          "text": [
            "100%|██████████| 5000/5000 [00:12<00:00, 384.87it/s]\n"
          ]
        },
        {
          "name": "stdout",
          "output_type": "stream",
          "text": [
            "27.8176\n",
            "Experiment: 1\n"
          ]
        },
        {
          "name": "stderr",
          "output_type": "stream",
          "text": [
            "100%|██████████| 5000/5000 [00:14<00:00, 355.47it/s]\n"
          ]
        },
        {
          "name": "stdout",
          "output_type": "stream",
          "text": [
            "27.4144\n",
            "Experiment: 1\n"
          ]
        },
        {
          "name": "stderr",
          "output_type": "stream",
          "text": [
            "100%|██████████| 5000/5000 [00:18<00:00, 276.48it/s]\n"
          ]
        },
        {
          "name": "stdout",
          "output_type": "stream",
          "text": [
            "36.5962\n",
            "Experiment: 1\n"
          ]
        },
        {
          "name": "stderr",
          "output_type": "stream",
          "text": [
            "100%|██████████| 5000/5000 [00:14<00:00, 353.08it/s]\n"
          ]
        },
        {
          "name": "stdout",
          "output_type": "stream",
          "text": [
            "27.2162\n",
            "Experiment: 1\n"
          ]
        },
        {
          "name": "stderr",
          "output_type": "stream",
          "text": [
            "100%|██████████| 5000/5000 [00:12<00:00, 388.88it/s]\n"
          ]
        },
        {
          "name": "stdout",
          "output_type": "stream",
          "text": [
            "27.2538\n",
            "Experiment: 1\n"
          ]
        },
        {
          "name": "stderr",
          "output_type": "stream",
          "text": [
            "100%|██████████| 5000/5000 [00:14<00:00, 355.72it/s]\n"
          ]
        },
        {
          "name": "stdout",
          "output_type": "stream",
          "text": [
            "29.7096\n",
            "Experiment: 1\n"
          ]
        },
        {
          "name": "stderr",
          "output_type": "stream",
          "text": [
            "100%|██████████| 5000/5000 [00:14<00:00, 356.10it/s]\n"
          ]
        },
        {
          "name": "stdout",
          "output_type": "stream",
          "text": [
            "30.1008\n",
            "Experiment: 1\n"
          ]
        },
        {
          "name": "stderr",
          "output_type": "stream",
          "text": [
            "100%|██████████| 5000/5000 [00:13<00:00, 368.21it/s]\n"
          ]
        },
        {
          "name": "stdout",
          "output_type": "stream",
          "text": [
            "28.1954\n",
            "Experiment: 1\n"
          ]
        },
        {
          "name": "stderr",
          "output_type": "stream",
          "text": [
            "100%|██████████| 5000/5000 [00:13<00:00, 384.59it/s]\n"
          ]
        },
        {
          "name": "stdout",
          "output_type": "stream",
          "text": [
            "27.7116\n",
            "Experiment: 1\n"
          ]
        },
        {
          "name": "stderr",
          "output_type": "stream",
          "text": [
            "100%|██████████| 5000/5000 [00:14<00:00, 355.64it/s]\n"
          ]
        },
        {
          "name": "stdout",
          "output_type": "stream",
          "text": [
            "28.0992\n",
            "Experiment: 1\n"
          ]
        },
        {
          "name": "stderr",
          "output_type": "stream",
          "text": [
            "100%|██████████| 5000/5000 [00:15<00:00, 333.08it/s]\n"
          ]
        },
        {
          "name": "stdout",
          "output_type": "stream",
          "text": [
            "28.738\n",
            "Experiment: 1\n"
          ]
        },
        {
          "name": "stderr",
          "output_type": "stream",
          "text": [
            "100%|██████████| 5000/5000 [00:13<00:00, 363.35it/s]\n"
          ]
        },
        {
          "name": "stdout",
          "output_type": "stream",
          "text": [
            "28.3\n",
            "Experiment: 1\n"
          ]
        },
        {
          "name": "stderr",
          "output_type": "stream",
          "text": [
            "100%|██████████| 5000/5000 [00:37<00:00, 134.56it/s]\n"
          ]
        },
        {
          "name": "stdout",
          "output_type": "stream",
          "text": [
            "78.9596\n",
            "Experiment: 1\n"
          ]
        },
        {
          "name": "stderr",
          "output_type": "stream",
          "text": [
            "100%|██████████| 5000/5000 [00:14<00:00, 353.87it/s]\n"
          ]
        },
        {
          "name": "stdout",
          "output_type": "stream",
          "text": [
            "29.8668\n",
            "Experiment: 1\n"
          ]
        },
        {
          "name": "stderr",
          "output_type": "stream",
          "text": [
            "100%|██████████| 5000/5000 [00:12<00:00, 387.08it/s]\n"
          ]
        },
        {
          "name": "stdout",
          "output_type": "stream",
          "text": [
            "26.9906\n",
            "[{'alpha': 0.6653632729173063, 'gamma': 0.9833365909625759, 'epsilon_tau': 0.516565243115543, 'mean_rewards': -20.3268, 'mean_steps': 27.4144}, {'alpha': 0.6200478383451511, 'gamma': 0.9885509604565297, 'epsilon_tau': 0.652518375803463, 'mean_rewards': -21.9376, 'mean_steps': 26.9906}, {'alpha': 0.6653632729173063, 'gamma': 0.9908767051431533, 'epsilon_tau': 0.986423081884443, 'mean_rewards': -21.8728, 'mean_steps': 27.2162}, {'alpha': 0.7049294832111433, 'gamma': 0.9885509604565297, 'epsilon_tau': 0.986423081884443, 'mean_rewards': -21.9778, 'mean_steps': 27.2538}, {'alpha': 0.6200478383451511, 'gamma': 0.9885509604565297, 'epsilon_tau': 0.9714030394107416, 'mean_rewards': -21.9552, 'mean_steps': 27.8176}]\n",
            "{'alpha': 0.6653632729173063, 'gamma': 0.9833365909625759, 'epsilon_tau': 0.516565243115543, 'mean_rewards': -20.3268, 'mean_steps': 27.4144}\n",
            "\n",
            "Best Hyperparameters: {'alpha': 0.6653632729173063, 'gamma': 0.9833365909625759, 'epsilon_tau': 0.516565243115543}\n",
            "Best Mean Rewards: -20.3268\n",
            "Best Mean Steps: 27.4144\n",
            "\n",
            "Generation 7\n",
            "Experiment: 1\n"
          ]
        },
        {
          "name": "stderr",
          "output_type": "stream",
          "text": [
            "100%|██████████| 5000/5000 [00:12<00:00, 410.18it/s]\n"
          ]
        },
        {
          "name": "stdout",
          "output_type": "stream",
          "text": [
            "26.5858\n",
            "Experiment: 1\n"
          ]
        },
        {
          "name": "stderr",
          "output_type": "stream",
          "text": [
            "100%|██████████| 5000/5000 [00:12<00:00, 391.29it/s]\n"
          ]
        },
        {
          "name": "stdout",
          "output_type": "stream",
          "text": [
            "26.4146\n",
            "Experiment: 1\n"
          ]
        },
        {
          "name": "stderr",
          "output_type": "stream",
          "text": [
            "100%|██████████| 5000/5000 [00:13<00:00, 367.47it/s]\n"
          ]
        },
        {
          "name": "stdout",
          "output_type": "stream",
          "text": [
            "28.4182\n",
            "Experiment: 1\n"
          ]
        },
        {
          "name": "stderr",
          "output_type": "stream",
          "text": [
            "100%|██████████| 5000/5000 [00:12<00:00, 399.29it/s]\n"
          ]
        },
        {
          "name": "stdout",
          "output_type": "stream",
          "text": [
            "26.7968\n",
            "Experiment: 1\n"
          ]
        },
        {
          "name": "stderr",
          "output_type": "stream",
          "text": [
            "100%|██████████| 5000/5000 [00:12<00:00, 399.00it/s]\n"
          ]
        },
        {
          "name": "stdout",
          "output_type": "stream",
          "text": [
            "26.2554\n",
            "Experiment: 1\n"
          ]
        },
        {
          "name": "stderr",
          "output_type": "stream",
          "text": [
            "100%|██████████| 5000/5000 [00:13<00:00, 377.11it/s]\n"
          ]
        },
        {
          "name": "stdout",
          "output_type": "stream",
          "text": [
            "26.9368\n",
            "Experiment: 1\n"
          ]
        },
        {
          "name": "stderr",
          "output_type": "stream",
          "text": [
            "100%|██████████| 5000/5000 [00:12<00:00, 388.62it/s]\n"
          ]
        },
        {
          "name": "stdout",
          "output_type": "stream",
          "text": [
            "28.5442\n",
            "Experiment: 1\n"
          ]
        },
        {
          "name": "stderr",
          "output_type": "stream",
          "text": [
            "100%|██████████| 5000/5000 [00:12<00:00, 391.02it/s]\n"
          ]
        },
        {
          "name": "stdout",
          "output_type": "stream",
          "text": [
            "26.2026\n",
            "Experiment: 1\n"
          ]
        },
        {
          "name": "stderr",
          "output_type": "stream",
          "text": [
            "100%|██████████| 5000/5000 [00:13<00:00, 357.38it/s]\n"
          ]
        },
        {
          "name": "stdout",
          "output_type": "stream",
          "text": [
            "27.7984\n",
            "Experiment: 1\n"
          ]
        },
        {
          "name": "stderr",
          "output_type": "stream",
          "text": [
            "100%|██████████| 5000/5000 [00:13<00:00, 368.75it/s]\n"
          ]
        },
        {
          "name": "stdout",
          "output_type": "stream",
          "text": [
            "27.3652\n",
            "Experiment: 1\n"
          ]
        },
        {
          "name": "stderr",
          "output_type": "stream",
          "text": [
            "100%|██████████| 5000/5000 [00:13<00:00, 371.52it/s]\n"
          ]
        },
        {
          "name": "stdout",
          "output_type": "stream",
          "text": [
            "27.4716\n",
            "Experiment: 1\n"
          ]
        },
        {
          "name": "stderr",
          "output_type": "stream",
          "text": [
            "100%|██████████| 5000/5000 [00:12<00:00, 390.02it/s]\n"
          ]
        },
        {
          "name": "stdout",
          "output_type": "stream",
          "text": [
            "27.2252\n",
            "Experiment: 1\n"
          ]
        },
        {
          "name": "stderr",
          "output_type": "stream",
          "text": [
            "100%|██████████| 5000/5000 [00:12<00:00, 411.83it/s]\n"
          ]
        },
        {
          "name": "stdout",
          "output_type": "stream",
          "text": [
            "26.1368\n",
            "Experiment: 1\n"
          ]
        },
        {
          "name": "stderr",
          "output_type": "stream",
          "text": [
            "100%|██████████| 5000/5000 [00:13<00:00, 364.54it/s]\n"
          ]
        },
        {
          "name": "stdout",
          "output_type": "stream",
          "text": [
            "29.0286\n",
            "Experiment: 1\n"
          ]
        },
        {
          "name": "stderr",
          "output_type": "stream",
          "text": [
            "100%|██████████| 5000/5000 [00:40<00:00, 124.12it/s]"
          ]
        },
        {
          "name": "stdout",
          "output_type": "stream",
          "text": [
            "88.4254\n",
            "[{'alpha': 0.6653632729173063, 'gamma': 0.9908767051431533, 'epsilon_tau': 0.7133989663909417, 'mean_rewards': -20.9498, 'mean_steps': 26.1368}, {'alpha': 0.6200478383451511, 'gamma': 0.9885509604565297, 'epsilon_tau': 0.652518375803463, 'mean_rewards': -20.8394, 'mean_steps': 26.4146}, {'alpha': 0.6200478383451511, 'gamma': 0.9885509604565297, 'epsilon_tau': 0.9714030394107416, 'mean_rewards': -21.174, 'mean_steps': 26.2026}, {'alpha': 0.6200478383451511, 'gamma': 0.9885509604565297, 'epsilon_tau': 0.9714030394107416, 'mean_rewards': -21.2338, 'mean_steps': 26.2554}, {'alpha': 0.6200478383451511, 'gamma': 0.9885509604565297, 'epsilon_tau': 0.9714030394107416, 'mean_rewards': -20.99, 'mean_steps': 26.9368}]\n",
            "{'alpha': 0.6653632729173063, 'gamma': 0.9908767051431533, 'epsilon_tau': 0.7133989663909417, 'mean_rewards': -20.9498, 'mean_steps': 26.1368}\n",
            "\n",
            "Best Hyperparameters: {'alpha': 0.6653632729173063, 'gamma': 0.9908767051431533, 'epsilon_tau': 0.7133989663909417}\n",
            "Best Mean Rewards: -20.9498\n",
            "Best Mean Steps: 26.1368\n"
          ]
        },
        {
          "name": "stderr",
          "output_type": "stream",
          "text": [
            "\n"
          ]
        }
      ],
      "source": [
        "best_hyperparameters, best_mean_rewards, best_mean_steps, d1 = genetic_algorithm(env4, sarsa_s, e_s=1)\n",
        "write_results_to_file(file_path, (best_hyperparameters, best_mean_rewards, best_mean_steps), \"SARSA_Softmax_e4\")"
      ]
    },
    {
      "cell_type": "code",
      "execution_count": 49,
      "metadata": {},
      "outputs": [
        {
          "name": "stdout",
          "output_type": "stream",
          "text": [
            "\n",
            "Generation 1\n",
            "Experiment: 1\n"
          ]
        },
        {
          "name": "stderr",
          "output_type": "stream",
          "text": [
            "100%|██████████| 5000/5000 [00:33<00:00, 147.99it/s]\n"
          ]
        },
        {
          "name": "stdout",
          "output_type": "stream",
          "text": [
            "68.9368\n",
            "Experiment: 1\n"
          ]
        },
        {
          "name": "stderr",
          "output_type": "stream",
          "text": [
            "100%|██████████| 5000/5000 [00:23<00:00, 211.39it/s]\n"
          ]
        },
        {
          "name": "stdout",
          "output_type": "stream",
          "text": [
            "46.9008\n",
            "Experiment: 1\n"
          ]
        },
        {
          "name": "stderr",
          "output_type": "stream",
          "text": [
            "100%|██████████| 5000/5000 [00:14<00:00, 346.34it/s]\n"
          ]
        },
        {
          "name": "stdout",
          "output_type": "stream",
          "text": [
            "28.522\n",
            "Experiment: 1\n"
          ]
        },
        {
          "name": "stderr",
          "output_type": "stream",
          "text": [
            "100%|██████████| 5000/5000 [00:21<00:00, 229.58it/s]\n"
          ]
        },
        {
          "name": "stdout",
          "output_type": "stream",
          "text": [
            "44.858\n",
            "Experiment: 1\n"
          ]
        },
        {
          "name": "stderr",
          "output_type": "stream",
          "text": [
            "100%|██████████| 5000/5000 [00:25<00:00, 198.95it/s]\n"
          ]
        },
        {
          "name": "stdout",
          "output_type": "stream",
          "text": [
            "51.2556\n",
            "Experiment: 1\n"
          ]
        },
        {
          "name": "stderr",
          "output_type": "stream",
          "text": [
            "100%|██████████| 5000/5000 [00:37<00:00, 135.11it/s]\n"
          ]
        },
        {
          "name": "stdout",
          "output_type": "stream",
          "text": [
            "78.5462\n",
            "Experiment: 1\n"
          ]
        },
        {
          "name": "stderr",
          "output_type": "stream",
          "text": [
            "100%|██████████| 5000/5000 [00:25<00:00, 196.80it/s]\n"
          ]
        },
        {
          "name": "stdout",
          "output_type": "stream",
          "text": [
            "51.2202\n",
            "Experiment: 1\n"
          ]
        },
        {
          "name": "stderr",
          "output_type": "stream",
          "text": [
            "100%|██████████| 5000/5000 [00:16<00:00, 309.33it/s]\n"
          ]
        },
        {
          "name": "stdout",
          "output_type": "stream",
          "text": [
            "32.5134\n",
            "Experiment: 1\n"
          ]
        },
        {
          "name": "stderr",
          "output_type": "stream",
          "text": [
            "100%|██████████| 5000/5000 [00:18<00:00, 270.43it/s]\n"
          ]
        },
        {
          "name": "stdout",
          "output_type": "stream",
          "text": [
            "36.4596\n",
            "Experiment: 1\n"
          ]
        },
        {
          "name": "stderr",
          "output_type": "stream",
          "text": [
            "100%|██████████| 5000/5000 [00:25<00:00, 199.62it/s]\n"
          ]
        },
        {
          "name": "stdout",
          "output_type": "stream",
          "text": [
            "50.9208\n",
            "Experiment: 1\n"
          ]
        },
        {
          "name": "stderr",
          "output_type": "stream",
          "text": [
            "100%|██████████| 5000/5000 [00:36<00:00, 138.54it/s]\n"
          ]
        },
        {
          "name": "stdout",
          "output_type": "stream",
          "text": [
            "77.0622\n",
            "Experiment: 1\n"
          ]
        },
        {
          "name": "stderr",
          "output_type": "stream",
          "text": [
            "100%|██████████| 5000/5000 [00:31<00:00, 159.44it/s]\n"
          ]
        },
        {
          "name": "stdout",
          "output_type": "stream",
          "text": [
            "71.2092\n",
            "Experiment: 1\n"
          ]
        },
        {
          "name": "stderr",
          "output_type": "stream",
          "text": [
            "100%|██████████| 5000/5000 [00:27<00:00, 184.20it/s]\n"
          ]
        },
        {
          "name": "stdout",
          "output_type": "stream",
          "text": [
            "60.857\n",
            "Experiment: 1\n"
          ]
        },
        {
          "name": "stderr",
          "output_type": "stream",
          "text": [
            "100%|██████████| 5000/5000 [00:12<00:00, 394.50it/s]\n"
          ]
        },
        {
          "name": "stdout",
          "output_type": "stream",
          "text": [
            "28.4576\n",
            "Experiment: 1\n"
          ]
        },
        {
          "name": "stderr",
          "output_type": "stream",
          "text": [
            "100%|██████████| 5000/5000 [00:17<00:00, 283.09it/s]\n"
          ]
        },
        {
          "name": "stdout",
          "output_type": "stream",
          "text": [
            "39.975\n",
            "[{'alpha': 0.5325657152281554, 'gamma': 0.9622561026344328, 'epsilon_tau': 0.410489923148047, 'mean_rewards': -21.5442, 'mean_steps': 28.4576}, {'alpha': 0.7381921068907208, 'gamma': 0.9892010591527947, 'epsilon_tau': 0.35145021600216664, 'mean_rewards': -23.4292, 'mean_steps': 28.522}, {'alpha': 0.8949736382207159, 'gamma': 0.9849418633763452, 'epsilon_tau': 0.9615574350296519, 'mean_rewards': -27.443, 'mean_steps': 32.5134}, {'alpha': 0.6497665325255236, 'gamma': 0.9637678881083277, 'epsilon_tau': 0.8974076570024352, 'mean_rewards': -30.9066, 'mean_steps': 36.4596}, {'alpha': 0.11235998953562527, 'gamma': 0.9480738651351384, 'epsilon_tau': 0.6842234024433256, 'mean_rewards': -33.8574, 'mean_steps': 39.975}]\n",
            "{'alpha': 0.5325657152281554, 'gamma': 0.9622561026344328, 'epsilon_tau': 0.410489923148047, 'mean_rewards': -21.5442, 'mean_steps': 28.4576}\n",
            "\n",
            "Best Hyperparameters: {'alpha': 0.5325657152281554, 'gamma': 0.9622561026344328, 'epsilon_tau': 0.410489923148047}\n",
            "Best Mean Rewards: -21.5442\n",
            "Best Mean Steps: 28.4576\n",
            "\n",
            "Generation 2\n",
            "Experiment: 1\n"
          ]
        },
        {
          "name": "stderr",
          "output_type": "stream",
          "text": [
            "100%|██████████| 5000/5000 [00:13<00:00, 362.71it/s]\n"
          ]
        },
        {
          "name": "stdout",
          "output_type": "stream",
          "text": [
            "30.915\n",
            "Experiment: 1\n"
          ]
        },
        {
          "name": "stderr",
          "output_type": "stream",
          "text": [
            "100%|██████████| 5000/5000 [00:12<00:00, 398.46it/s]\n"
          ]
        },
        {
          "name": "stdout",
          "output_type": "stream",
          "text": [
            "27.9506\n",
            "Experiment: 1\n"
          ]
        },
        {
          "name": "stderr",
          "output_type": "stream",
          "text": [
            "100%|██████████| 5000/5000 [00:13<00:00, 358.20it/s]\n"
          ]
        },
        {
          "name": "stdout",
          "output_type": "stream",
          "text": [
            "31.2592\n",
            "Experiment: 1\n"
          ]
        },
        {
          "name": "stderr",
          "output_type": "stream",
          "text": [
            "100%|██████████| 5000/5000 [00:17<00:00, 289.13it/s]\n"
          ]
        },
        {
          "name": "stdout",
          "output_type": "stream",
          "text": [
            "39.419\n",
            "Experiment: 1\n"
          ]
        },
        {
          "name": "stderr",
          "output_type": "stream",
          "text": [
            "100%|██████████| 5000/5000 [00:18<00:00, 273.72it/s]\n"
          ]
        },
        {
          "name": "stdout",
          "output_type": "stream",
          "text": [
            "40.3716\n",
            "Experiment: 1\n"
          ]
        },
        {
          "name": "stderr",
          "output_type": "stream",
          "text": [
            "100%|██████████| 5000/5000 [00:27<00:00, 184.32it/s]\n"
          ]
        },
        {
          "name": "stdout",
          "output_type": "stream",
          "text": [
            "61.0484\n",
            "Experiment: 1\n"
          ]
        },
        {
          "name": "stderr",
          "output_type": "stream",
          "text": [
            "100%|██████████| 5000/5000 [00:36<00:00, 137.38it/s]\n"
          ]
        },
        {
          "name": "stdout",
          "output_type": "stream",
          "text": [
            "84.6138\n",
            "Experiment: 1\n"
          ]
        },
        {
          "name": "stderr",
          "output_type": "stream",
          "text": [
            "100%|██████████| 5000/5000 [00:36<00:00, 138.04it/s]\n"
          ]
        },
        {
          "name": "stdout",
          "output_type": "stream",
          "text": [
            "82.4118\n",
            "Experiment: 1\n"
          ]
        },
        {
          "name": "stderr",
          "output_type": "stream",
          "text": [
            "100%|██████████| 5000/5000 [00:14<00:00, 345.80it/s]\n"
          ]
        },
        {
          "name": "stdout",
          "output_type": "stream",
          "text": [
            "32.3728\n",
            "Experiment: 1\n"
          ]
        },
        {
          "name": "stderr",
          "output_type": "stream",
          "text": [
            "100%|██████████| 5000/5000 [00:12<00:00, 386.80it/s]\n"
          ]
        },
        {
          "name": "stdout",
          "output_type": "stream",
          "text": [
            "30.1004\n",
            "Experiment: 1\n"
          ]
        },
        {
          "name": "stderr",
          "output_type": "stream",
          "text": [
            "100%|██████████| 5000/5000 [00:14<00:00, 340.19it/s]\n"
          ]
        },
        {
          "name": "stdout",
          "output_type": "stream",
          "text": [
            "32.0532\n",
            "Experiment: 1\n"
          ]
        },
        {
          "name": "stderr",
          "output_type": "stream",
          "text": [
            "100%|██████████| 5000/5000 [00:37<00:00, 133.54it/s]\n"
          ]
        },
        {
          "name": "stdout",
          "output_type": "stream",
          "text": [
            "86.2372\n",
            "Experiment: 1\n"
          ]
        },
        {
          "name": "stderr",
          "output_type": "stream",
          "text": [
            "100%|██████████| 5000/5000 [00:12<00:00, 409.48it/s]\n"
          ]
        },
        {
          "name": "stdout",
          "output_type": "stream",
          "text": [
            "26.235\n",
            "Experiment: 1\n"
          ]
        },
        {
          "name": "stderr",
          "output_type": "stream",
          "text": [
            "100%|██████████| 5000/5000 [00:21<00:00, 231.98it/s]\n"
          ]
        },
        {
          "name": "stdout",
          "output_type": "stream",
          "text": [
            "48.3484\n",
            "Experiment: 1\n"
          ]
        },
        {
          "name": "stderr",
          "output_type": "stream",
          "text": [
            "100%|██████████| 5000/5000 [00:18<00:00, 263.51it/s]\n"
          ]
        },
        {
          "name": "stdout",
          "output_type": "stream",
          "text": [
            "44.0062\n",
            "[{'alpha': 0.609503583393099, 'gamma': 0.9892010591527947, 'epsilon_tau': 0.5769556291969975, 'mean_rewards': -21.2054, 'mean_steps': 26.235}, {'alpha': 0.7381921068907208, 'gamma': 0.9892010591527947, 'epsilon_tau': 0.35145021600216664, 'mean_rewards': -21.646, 'mean_steps': 27.9506}, {'alpha': 0.5325657152281554, 'gamma': 0.9622561026344328, 'epsilon_tau': 0.410489923148047, 'mean_rewards': -22.8126, 'mean_steps': 30.915}, {'alpha': 0.8949736382207159, 'gamma': 0.9849418633763452, 'epsilon_tau': 0.9763342114723141, 'mean_rewards': -24.4032, 'mean_steps': 30.1004}, {'alpha': 0.8949736382207159, 'gamma': 0.9849418633763452, 'epsilon_tau': 0.9615574350296519, 'mean_rewards': -26.4494, 'mean_steps': 31.2592}]\n",
            "{'alpha': 0.609503583393099, 'gamma': 0.9892010591527947, 'epsilon_tau': 0.5769556291969975, 'mean_rewards': -21.2054, 'mean_steps': 26.235}\n",
            "\n",
            "Best Hyperparameters: {'alpha': 0.609503583393099, 'gamma': 0.9892010591527947, 'epsilon_tau': 0.5769556291969975}\n",
            "Best Mean Rewards: -21.2054\n",
            "Best Mean Steps: 26.235\n",
            "\n",
            "Generation 3\n",
            "Experiment: 1\n"
          ]
        },
        {
          "name": "stderr",
          "output_type": "stream",
          "text": [
            "100%|██████████| 5000/5000 [00:12<00:00, 399.31it/s]\n"
          ]
        },
        {
          "name": "stdout",
          "output_type": "stream",
          "text": [
            "28.0112\n",
            "Experiment: 1\n"
          ]
        },
        {
          "name": "stderr",
          "output_type": "stream",
          "text": [
            "100%|██████████| 5000/5000 [00:12<00:00, 411.78it/s]\n"
          ]
        },
        {
          "name": "stdout",
          "output_type": "stream",
          "text": [
            "27.3152\n",
            "Experiment: 1\n"
          ]
        },
        {
          "name": "stderr",
          "output_type": "stream",
          "text": [
            "100%|██████████| 5000/5000 [00:14<00:00, 351.01it/s]\n"
          ]
        },
        {
          "name": "stdout",
          "output_type": "stream",
          "text": [
            "30.8714\n",
            "Experiment: 1\n"
          ]
        },
        {
          "name": "stderr",
          "output_type": "stream",
          "text": [
            "100%|██████████| 5000/5000 [00:13<00:00, 372.62it/s]\n"
          ]
        },
        {
          "name": "stdout",
          "output_type": "stream",
          "text": [
            "30.8244\n",
            "Experiment: 1\n"
          ]
        },
        {
          "name": "stderr",
          "output_type": "stream",
          "text": [
            "100%|██████████| 5000/5000 [00:14<00:00, 346.70it/s]\n"
          ]
        },
        {
          "name": "stdout",
          "output_type": "stream",
          "text": [
            "32.5154\n",
            "Experiment: 1\n"
          ]
        },
        {
          "name": "stderr",
          "output_type": "stream",
          "text": [
            "100%|██████████| 5000/5000 [00:18<00:00, 267.50it/s]\n"
          ]
        },
        {
          "name": "stdout",
          "output_type": "stream",
          "text": [
            "42.5814\n",
            "Experiment: 1\n"
          ]
        },
        {
          "name": "stderr",
          "output_type": "stream",
          "text": [
            "100%|██████████| 5000/5000 [00:15<00:00, 332.77it/s]\n"
          ]
        },
        {
          "name": "stdout",
          "output_type": "stream",
          "text": [
            "32.773\n",
            "Experiment: 1\n"
          ]
        },
        {
          "name": "stderr",
          "output_type": "stream",
          "text": [
            "100%|██████████| 5000/5000 [00:13<00:00, 360.41it/s]\n"
          ]
        },
        {
          "name": "stdout",
          "output_type": "stream",
          "text": [
            "31.3926\n",
            "Experiment: 1\n"
          ]
        },
        {
          "name": "stderr",
          "output_type": "stream",
          "text": [
            "100%|██████████| 5000/5000 [00:16<00:00, 301.25it/s]\n"
          ]
        },
        {
          "name": "stdout",
          "output_type": "stream",
          "text": [
            "37.1276\n",
            "Experiment: 1\n"
          ]
        },
        {
          "name": "stderr",
          "output_type": "stream",
          "text": [
            "100%|██████████| 5000/5000 [00:14<00:00, 335.46it/s]\n"
          ]
        },
        {
          "name": "stdout",
          "output_type": "stream",
          "text": [
            "33.3116\n",
            "Experiment: 1\n"
          ]
        },
        {
          "name": "stderr",
          "output_type": "stream",
          "text": [
            "100%|██████████| 5000/5000 [00:14<00:00, 344.18it/s]\n"
          ]
        },
        {
          "name": "stdout",
          "output_type": "stream",
          "text": [
            "30.8988\n",
            "Experiment: 1\n"
          ]
        },
        {
          "name": "stderr",
          "output_type": "stream",
          "text": [
            "100%|██████████| 5000/5000 [00:11<00:00, 418.06it/s]\n"
          ]
        },
        {
          "name": "stdout",
          "output_type": "stream",
          "text": [
            "26.8568\n",
            "Experiment: 1\n"
          ]
        },
        {
          "name": "stderr",
          "output_type": "stream",
          "text": [
            "100%|██████████| 5000/5000 [00:15<00:00, 328.70it/s]\n"
          ]
        },
        {
          "name": "stdout",
          "output_type": "stream",
          "text": [
            "34.2566\n",
            "Experiment: 1\n"
          ]
        },
        {
          "name": "stderr",
          "output_type": "stream",
          "text": [
            "100%|██████████| 5000/5000 [00:13<00:00, 384.30it/s]\n"
          ]
        },
        {
          "name": "stdout",
          "output_type": "stream",
          "text": [
            "28.0428\n",
            "Experiment: 1\n"
          ]
        },
        {
          "name": "stderr",
          "output_type": "stream",
          "text": [
            "100%|██████████| 5000/5000 [00:13<00:00, 381.65it/s]\n"
          ]
        },
        {
          "name": "stdout",
          "output_type": "stream",
          "text": [
            "28.2968\n",
            "[{'alpha': 0.609503583393099, 'gamma': 0.9892010591527947, 'epsilon_tau': 0.5769556291969975, 'mean_rewards': -20.7106, 'mean_steps': 26.8568}, {'alpha': 0.7381921068907208, 'gamma': 0.9892010591527947, 'epsilon_tau': 0.35145021600216664, 'mean_rewards': -21.271, 'mean_steps': 27.3152}, {'alpha': 0.609503583393099, 'gamma': 0.9892010591527947, 'epsilon_tau': 0.5769556291969975, 'mean_rewards': -22.0034, 'mean_steps': 28.0112}, {'alpha': 0.7381921068907208, 'gamma': 0.9892010591527947, 'epsilon_tau': 0.35145021600216664, 'mean_rewards': -21.9914, 'mean_steps': 28.2968}, {'alpha': 0.8949736382207159, 'gamma': 0.9892010591527947, 'epsilon_tau': 0.35145021600216664, 'mean_rewards': -22.5104, 'mean_steps': 28.0428}]\n",
            "{'alpha': 0.609503583393099, 'gamma': 0.9892010591527947, 'epsilon_tau': 0.5769556291969975, 'mean_rewards': -20.7106, 'mean_steps': 26.8568}\n",
            "\n",
            "Best Hyperparameters: {'alpha': 0.609503583393099, 'gamma': 0.9892010591527947, 'epsilon_tau': 0.5769556291969975}\n",
            "Best Mean Rewards: -20.7106\n",
            "Best Mean Steps: 26.8568\n",
            "\n",
            "Generation 4\n",
            "Experiment: 1\n"
          ]
        },
        {
          "name": "stderr",
          "output_type": "stream",
          "text": [
            "100%|██████████| 5000/5000 [00:11<00:00, 418.57it/s]\n"
          ]
        },
        {
          "name": "stdout",
          "output_type": "stream",
          "text": [
            "26.6076\n",
            "Experiment: 1\n"
          ]
        },
        {
          "name": "stderr",
          "output_type": "stream",
          "text": [
            "100%|██████████| 5000/5000 [00:12<00:00, 391.90it/s]\n"
          ]
        },
        {
          "name": "stdout",
          "output_type": "stream",
          "text": [
            "28.3\n",
            "Experiment: 1\n"
          ]
        },
        {
          "name": "stderr",
          "output_type": "stream",
          "text": [
            "100%|██████████| 5000/5000 [00:12<00:00, 384.88it/s]\n"
          ]
        },
        {
          "name": "stdout",
          "output_type": "stream",
          "text": [
            "28.3062\n",
            "Experiment: 1\n"
          ]
        },
        {
          "name": "stderr",
          "output_type": "stream",
          "text": [
            "100%|██████████| 5000/5000 [00:12<00:00, 415.11it/s]\n"
          ]
        },
        {
          "name": "stdout",
          "output_type": "stream",
          "text": [
            "27.5738\n",
            "Experiment: 1\n"
          ]
        },
        {
          "name": "stderr",
          "output_type": "stream",
          "text": [
            "100%|██████████| 5000/5000 [00:13<00:00, 372.43it/s]\n"
          ]
        },
        {
          "name": "stdout",
          "output_type": "stream",
          "text": [
            "29.5798\n",
            "Experiment: 1\n"
          ]
        },
        {
          "name": "stderr",
          "output_type": "stream",
          "text": [
            "100%|██████████| 5000/5000 [00:11<00:00, 425.79it/s]\n"
          ]
        },
        {
          "name": "stdout",
          "output_type": "stream",
          "text": [
            "26.275\n",
            "Experiment: 1\n"
          ]
        },
        {
          "name": "stderr",
          "output_type": "stream",
          "text": [
            "100%|██████████| 5000/5000 [00:13<00:00, 373.44it/s]\n"
          ]
        },
        {
          "name": "stdout",
          "output_type": "stream",
          "text": [
            "29.449\n",
            "Experiment: 1\n"
          ]
        },
        {
          "name": "stderr",
          "output_type": "stream",
          "text": [
            "100%|██████████| 5000/5000 [00:12<00:00, 410.88it/s]\n"
          ]
        },
        {
          "name": "stdout",
          "output_type": "stream",
          "text": [
            "27.8614\n",
            "Experiment: 1\n"
          ]
        },
        {
          "name": "stderr",
          "output_type": "stream",
          "text": [
            "100%|██████████| 5000/5000 [00:12<00:00, 415.24it/s]\n"
          ]
        },
        {
          "name": "stdout",
          "output_type": "stream",
          "text": [
            "26.3884\n",
            "Experiment: 1\n"
          ]
        },
        {
          "name": "stderr",
          "output_type": "stream",
          "text": [
            "100%|██████████| 5000/5000 [00:14<00:00, 343.78it/s]\n"
          ]
        },
        {
          "name": "stdout",
          "output_type": "stream",
          "text": [
            "33.3282\n",
            "Experiment: 1\n"
          ]
        },
        {
          "name": "stderr",
          "output_type": "stream",
          "text": [
            "100%|██████████| 5000/5000 [00:15<00:00, 316.40it/s]\n"
          ]
        },
        {
          "name": "stdout",
          "output_type": "stream",
          "text": [
            "35.4592\n",
            "Experiment: 1\n"
          ]
        },
        {
          "name": "stderr",
          "output_type": "stream",
          "text": [
            "100%|██████████| 5000/5000 [00:25<00:00, 198.13it/s]\n"
          ]
        },
        {
          "name": "stdout",
          "output_type": "stream",
          "text": [
            "56.5984\n",
            "Experiment: 1\n"
          ]
        },
        {
          "name": "stderr",
          "output_type": "stream",
          "text": [
            "100%|██████████| 5000/5000 [00:32<00:00, 155.74it/s]\n"
          ]
        },
        {
          "name": "stdout",
          "output_type": "stream",
          "text": [
            "72.838\n",
            "Experiment: 1\n"
          ]
        },
        {
          "name": "stderr",
          "output_type": "stream",
          "text": [
            "100%|██████████| 5000/5000 [00:13<00:00, 365.72it/s]\n"
          ]
        },
        {
          "name": "stdout",
          "output_type": "stream",
          "text": [
            "30.2714\n",
            "Experiment: 1\n"
          ]
        },
        {
          "name": "stderr",
          "output_type": "stream",
          "text": [
            "100%|██████████| 5000/5000 [00:12<00:00, 393.66it/s]\n"
          ]
        },
        {
          "name": "stdout",
          "output_type": "stream",
          "text": [
            "28.5594\n",
            "[{'alpha': 0.609503583393099, 'gamma': 0.9892010591527947, 'epsilon_tau': 0.35145021600216664, 'mean_rewards': -20.2864, 'mean_steps': 26.3884}, {'alpha': 0.609503583393099, 'gamma': 0.9892010591527947, 'epsilon_tau': 0.5769556291969975, 'mean_rewards': -20.979, 'mean_steps': 26.275}, {'alpha': 0.609503583393099, 'gamma': 0.9892010591527947, 'epsilon_tau': 0.5769556291969975, 'mean_rewards': -21.8056, 'mean_steps': 26.6076}, {'alpha': 0.7381921068907208, 'gamma': 0.9892010591527947, 'epsilon_tau': 0.35145021600216664, 'mean_rewards': -21.3984, 'mean_steps': 27.5738}, {'alpha': 0.7381921068907208, 'gamma': 0.9892010591527947, 'epsilon_tau': 0.35145021600216664, 'mean_rewards': -22.0844, 'mean_steps': 28.3}]\n",
            "{'alpha': 0.609503583393099, 'gamma': 0.9892010591527947, 'epsilon_tau': 0.35145021600216664, 'mean_rewards': -20.2864, 'mean_steps': 26.3884}\n",
            "\n",
            "Best Hyperparameters: {'alpha': 0.609503583393099, 'gamma': 0.9892010591527947, 'epsilon_tau': 0.35145021600216664}\n",
            "Best Mean Rewards: -20.2864\n",
            "Best Mean Steps: 26.3884\n",
            "\n",
            "Generation 5\n",
            "Experiment: 1\n"
          ]
        },
        {
          "name": "stderr",
          "output_type": "stream",
          "text": [
            "100%|██████████| 5000/5000 [00:12<00:00, 393.00it/s]\n"
          ]
        },
        {
          "name": "stdout",
          "output_type": "stream",
          "text": [
            "27.2648\n",
            "Experiment: 1\n"
          ]
        },
        {
          "name": "stderr",
          "output_type": "stream",
          "text": [
            "100%|██████████| 5000/5000 [00:12<00:00, 400.22it/s]\n"
          ]
        },
        {
          "name": "stdout",
          "output_type": "stream",
          "text": [
            "26.7944\n",
            "Experiment: 1\n"
          ]
        },
        {
          "name": "stderr",
          "output_type": "stream",
          "text": [
            "100%|██████████| 5000/5000 [00:12<00:00, 398.97it/s]\n"
          ]
        },
        {
          "name": "stdout",
          "output_type": "stream",
          "text": [
            "27.4782\n",
            "Experiment: 1\n"
          ]
        },
        {
          "name": "stderr",
          "output_type": "stream",
          "text": [
            "100%|██████████| 5000/5000 [00:13<00:00, 366.27it/s]\n"
          ]
        },
        {
          "name": "stdout",
          "output_type": "stream",
          "text": [
            "28.9042\n",
            "Experiment: 1\n"
          ]
        },
        {
          "name": "stderr",
          "output_type": "stream",
          "text": [
            "100%|██████████| 5000/5000 [00:12<00:00, 388.29it/s]\n"
          ]
        },
        {
          "name": "stdout",
          "output_type": "stream",
          "text": [
            "28.2062\n",
            "Experiment: 1\n"
          ]
        },
        {
          "name": "stderr",
          "output_type": "stream",
          "text": [
            "100%|██████████| 5000/5000 [00:13<00:00, 372.26it/s]\n"
          ]
        },
        {
          "name": "stdout",
          "output_type": "stream",
          "text": [
            "30.554\n",
            "Experiment: 1\n"
          ]
        },
        {
          "name": "stderr",
          "output_type": "stream",
          "text": [
            "100%|██████████| 5000/5000 [00:15<00:00, 325.28it/s]\n"
          ]
        },
        {
          "name": "stdout",
          "output_type": "stream",
          "text": [
            "32.765\n",
            "Experiment: 1\n"
          ]
        },
        {
          "name": "stderr",
          "output_type": "stream",
          "text": [
            "100%|██████████| 5000/5000 [00:11<00:00, 419.00it/s]\n"
          ]
        },
        {
          "name": "stdout",
          "output_type": "stream",
          "text": [
            "26.7772\n",
            "Experiment: 1\n"
          ]
        },
        {
          "name": "stderr",
          "output_type": "stream",
          "text": [
            "100%|██████████| 5000/5000 [00:13<00:00, 374.25it/s]\n"
          ]
        },
        {
          "name": "stdout",
          "output_type": "stream",
          "text": [
            "30.8094\n",
            "Experiment: 1\n"
          ]
        },
        {
          "name": "stderr",
          "output_type": "stream",
          "text": [
            "100%|██████████| 5000/5000 [00:13<00:00, 377.68it/s]\n"
          ]
        },
        {
          "name": "stdout",
          "output_type": "stream",
          "text": [
            "28.2804\n",
            "Experiment: 1\n"
          ]
        },
        {
          "name": "stderr",
          "output_type": "stream",
          "text": [
            "100%|██████████| 5000/5000 [00:12<00:00, 411.37it/s]\n"
          ]
        },
        {
          "name": "stdout",
          "output_type": "stream",
          "text": [
            "26.388\n",
            "Experiment: 1\n"
          ]
        },
        {
          "name": "stderr",
          "output_type": "stream",
          "text": [
            "100%|██████████| 5000/5000 [00:12<00:00, 395.95it/s]\n"
          ]
        },
        {
          "name": "stdout",
          "output_type": "stream",
          "text": [
            "28.0218\n",
            "Experiment: 1\n"
          ]
        },
        {
          "name": "stderr",
          "output_type": "stream",
          "text": [
            "100%|██████████| 5000/5000 [00:12<00:00, 408.85it/s]\n"
          ]
        },
        {
          "name": "stdout",
          "output_type": "stream",
          "text": [
            "26.8134\n",
            "Experiment: 1\n"
          ]
        },
        {
          "name": "stderr",
          "output_type": "stream",
          "text": [
            "100%|██████████| 5000/5000 [00:13<00:00, 384.20it/s]\n"
          ]
        },
        {
          "name": "stdout",
          "output_type": "stream",
          "text": [
            "28.753\n",
            "Experiment: 1\n"
          ]
        },
        {
          "name": "stderr",
          "output_type": "stream",
          "text": [
            "100%|██████████| 5000/5000 [00:12<00:00, 395.28it/s]\n"
          ]
        },
        {
          "name": "stdout",
          "output_type": "stream",
          "text": [
            "27.811\n",
            "[{'alpha': 0.609503583393099, 'gamma': 0.9892010591527947, 'epsilon_tau': 0.5802007822214084, 'mean_rewards': -20.3846, 'mean_steps': 26.388}, {'alpha': 0.609503583393099, 'gamma': 0.9892010591527947, 'epsilon_tau': 0.5769556291969975, 'mean_rewards': -20.6518, 'mean_steps': 26.7772}, {'alpha': 0.609503583393099, 'gamma': 0.9892010591527947, 'epsilon_tau': 0.5769556291969975, 'mean_rewards': -21.13, 'mean_steps': 26.7944}, {'alpha': 0.609503583393099, 'gamma': 0.9892010591527947, 'epsilon_tau': 0.5868202249558615, 'mean_rewards': -21.7518, 'mean_steps': 26.8134}, {'alpha': 0.609503583393099, 'gamma': 0.9892010591527947, 'epsilon_tau': 0.35145021600216664, 'mean_rewards': -21.8164, 'mean_steps': 27.2648}]\n",
            "{'alpha': 0.609503583393099, 'gamma': 0.9892010591527947, 'epsilon_tau': 0.5802007822214084, 'mean_rewards': -20.3846, 'mean_steps': 26.388}\n",
            "\n",
            "Best Hyperparameters: {'alpha': 0.609503583393099, 'gamma': 0.9892010591527947, 'epsilon_tau': 0.5802007822214084}\n",
            "Best Mean Rewards: -20.3846\n",
            "Best Mean Steps: 26.388\n",
            "\n",
            "Generation 6\n",
            "Experiment: 1\n"
          ]
        },
        {
          "name": "stderr",
          "output_type": "stream",
          "text": [
            "100%|██████████| 5000/5000 [00:12<00:00, 392.37it/s]\n"
          ]
        },
        {
          "name": "stdout",
          "output_type": "stream",
          "text": [
            "28.43\n",
            "Experiment: 1\n"
          ]
        },
        {
          "name": "stderr",
          "output_type": "stream",
          "text": [
            "100%|██████████| 5000/5000 [00:12<00:00, 397.81it/s]\n"
          ]
        },
        {
          "name": "stdout",
          "output_type": "stream",
          "text": [
            "27.7212\n",
            "Experiment: 1\n"
          ]
        },
        {
          "name": "stderr",
          "output_type": "stream",
          "text": [
            "100%|██████████| 5000/5000 [00:12<00:00, 410.50it/s]\n"
          ]
        },
        {
          "name": "stdout",
          "output_type": "stream",
          "text": [
            "27.4414\n",
            "Experiment: 1\n"
          ]
        },
        {
          "name": "stderr",
          "output_type": "stream",
          "text": [
            "100%|██████████| 5000/5000 [00:11<00:00, 431.18it/s]\n"
          ]
        },
        {
          "name": "stdout",
          "output_type": "stream",
          "text": [
            "26.9454\n",
            "Experiment: 1\n"
          ]
        },
        {
          "name": "stderr",
          "output_type": "stream",
          "text": [
            "100%|██████████| 5000/5000 [00:12<00:00, 401.61it/s]\n"
          ]
        },
        {
          "name": "stdout",
          "output_type": "stream",
          "text": [
            "27.5866\n",
            "Experiment: 1\n"
          ]
        },
        {
          "name": "stderr",
          "output_type": "stream",
          "text": [
            "100%|██████████| 5000/5000 [00:12<00:00, 400.61it/s]\n"
          ]
        },
        {
          "name": "stdout",
          "output_type": "stream",
          "text": [
            "27.9374\n",
            "Experiment: 1\n"
          ]
        },
        {
          "name": "stderr",
          "output_type": "stream",
          "text": [
            "100%|██████████| 5000/5000 [00:35<00:00, 140.27it/s]\n"
          ]
        },
        {
          "name": "stdout",
          "output_type": "stream",
          "text": [
            "81.887\n",
            "Experiment: 1\n"
          ]
        },
        {
          "name": "stderr",
          "output_type": "stream",
          "text": [
            "100%|██████████| 5000/5000 [00:12<00:00, 405.10it/s]\n"
          ]
        },
        {
          "name": "stdout",
          "output_type": "stream",
          "text": [
            "27.3114\n",
            "Experiment: 1\n"
          ]
        },
        {
          "name": "stderr",
          "output_type": "stream",
          "text": [
            "100%|██████████| 5000/5000 [00:12<00:00, 388.75it/s]\n"
          ]
        },
        {
          "name": "stdout",
          "output_type": "stream",
          "text": [
            "28.043\n",
            "Experiment: 1\n"
          ]
        },
        {
          "name": "stderr",
          "output_type": "stream",
          "text": [
            "100%|██████████| 5000/5000 [00:12<00:00, 391.65it/s]\n"
          ]
        },
        {
          "name": "stdout",
          "output_type": "stream",
          "text": [
            "28.9064\n",
            "Experiment: 1\n"
          ]
        },
        {
          "name": "stderr",
          "output_type": "stream",
          "text": [
            "100%|██████████| 5000/5000 [00:12<00:00, 395.08it/s]\n"
          ]
        },
        {
          "name": "stdout",
          "output_type": "stream",
          "text": [
            "28.1378\n",
            "Experiment: 1\n"
          ]
        },
        {
          "name": "stderr",
          "output_type": "stream",
          "text": [
            "100%|██████████| 5000/5000 [00:11<00:00, 419.37it/s]\n"
          ]
        },
        {
          "name": "stdout",
          "output_type": "stream",
          "text": [
            "26.9812\n",
            "Experiment: 1\n"
          ]
        },
        {
          "name": "stderr",
          "output_type": "stream",
          "text": [
            "100%|██████████| 5000/5000 [00:11<00:00, 423.22it/s]\n"
          ]
        },
        {
          "name": "stdout",
          "output_type": "stream",
          "text": [
            "27.0144\n",
            "Experiment: 1\n"
          ]
        },
        {
          "name": "stderr",
          "output_type": "stream",
          "text": [
            "100%|██████████| 5000/5000 [00:20<00:00, 240.87it/s]\n"
          ]
        },
        {
          "name": "stdout",
          "output_type": "stream",
          "text": [
            "46.7134\n",
            "Experiment: 1\n"
          ]
        },
        {
          "name": "stderr",
          "output_type": "stream",
          "text": [
            "100%|██████████| 5000/5000 [00:12<00:00, 394.55it/s]\n"
          ]
        },
        {
          "name": "stdout",
          "output_type": "stream",
          "text": [
            "28.2542\n",
            "[{'alpha': 0.609503583393099, 'gamma': 0.9892010591527947, 'epsilon_tau': 0.5868202249558615, 'mean_rewards': -21.2782, 'mean_steps': 26.9454}, {'alpha': 0.609503583393099, 'gamma': 0.9892010591527947, 'epsilon_tau': 0.5769556291969975, 'mean_rewards': -20.8194, 'mean_steps': 27.4414}, {'alpha': 0.609503583393099, 'gamma': 0.9892010591527947, 'epsilon_tau': 0.35145021600216664, 'mean_rewards': -21.4076, 'mean_steps': 27.3114}, {'alpha': 0.609503583393099, 'gamma': 0.9892010591527947, 'epsilon_tau': 0.5769556291969975, 'mean_rewards': -21.812, 'mean_steps': 26.9812}, {'alpha': 0.609503583393099, 'gamma': 0.9892010591527947, 'epsilon_tau': 0.5769556291969975, 'mean_rewards': -21.0898, 'mean_steps': 27.7212}]\n",
            "{'alpha': 0.609503583393099, 'gamma': 0.9892010591527947, 'epsilon_tau': 0.5868202249558615, 'mean_rewards': -21.2782, 'mean_steps': 26.9454}\n",
            "\n",
            "Best Hyperparameters: {'alpha': 0.609503583393099, 'gamma': 0.9892010591527947, 'epsilon_tau': 0.5868202249558615}\n",
            "Best Mean Rewards: -21.2782\n",
            "Best Mean Steps: 26.9454\n",
            "\n",
            "Generation 7\n",
            "Experiment: 1\n"
          ]
        },
        {
          "name": "stderr",
          "output_type": "stream",
          "text": [
            "100%|██████████| 5000/5000 [00:13<00:00, 379.27it/s]\n"
          ]
        },
        {
          "name": "stdout",
          "output_type": "stream",
          "text": [
            "28.7976\n",
            "Experiment: 1\n"
          ]
        },
        {
          "name": "stderr",
          "output_type": "stream",
          "text": [
            "100%|██████████| 5000/5000 [00:12<00:00, 407.00it/s]\n"
          ]
        },
        {
          "name": "stdout",
          "output_type": "stream",
          "text": [
            "26.6228\n",
            "Experiment: 1\n"
          ]
        },
        {
          "name": "stderr",
          "output_type": "stream",
          "text": [
            "100%|██████████| 5000/5000 [00:12<00:00, 393.16it/s]\n"
          ]
        },
        {
          "name": "stdout",
          "output_type": "stream",
          "text": [
            "28.7436\n",
            "Experiment: 1\n"
          ]
        },
        {
          "name": "stderr",
          "output_type": "stream",
          "text": [
            "100%|██████████| 5000/5000 [00:12<00:00, 390.13it/s]\n"
          ]
        },
        {
          "name": "stdout",
          "output_type": "stream",
          "text": [
            "28.7888\n",
            "Experiment: 1\n"
          ]
        },
        {
          "name": "stderr",
          "output_type": "stream",
          "text": [
            "100%|██████████| 5000/5000 [00:12<00:00, 393.44it/s]\n"
          ]
        },
        {
          "name": "stdout",
          "output_type": "stream",
          "text": [
            "27.6038\n",
            "Experiment: 1\n"
          ]
        },
        {
          "name": "stderr",
          "output_type": "stream",
          "text": [
            "100%|██████████| 5000/5000 [00:12<00:00, 403.09it/s]\n"
          ]
        },
        {
          "name": "stdout",
          "output_type": "stream",
          "text": [
            "27.3536\n",
            "Experiment: 1\n"
          ]
        },
        {
          "name": "stderr",
          "output_type": "stream",
          "text": [
            "100%|██████████| 5000/5000 [00:27<00:00, 178.77it/s]\n"
          ]
        },
        {
          "name": "stdout",
          "output_type": "stream",
          "text": [
            "62.8856\n",
            "Experiment: 1\n"
          ]
        },
        {
          "name": "stderr",
          "output_type": "stream",
          "text": [
            "100%|██████████| 5000/5000 [00:12<00:00, 392.53it/s]\n"
          ]
        },
        {
          "name": "stdout",
          "output_type": "stream",
          "text": [
            "27.8352\n",
            "Experiment: 1\n"
          ]
        },
        {
          "name": "stderr",
          "output_type": "stream",
          "text": [
            "100%|██████████| 5000/5000 [00:12<00:00, 391.74it/s]\n"
          ]
        },
        {
          "name": "stdout",
          "output_type": "stream",
          "text": [
            "27.9304\n",
            "Experiment: 1\n"
          ]
        },
        {
          "name": "stderr",
          "output_type": "stream",
          "text": [
            "100%|██████████| 5000/5000 [00:13<00:00, 378.08it/s]\n"
          ]
        },
        {
          "name": "stdout",
          "output_type": "stream",
          "text": [
            "28.673\n",
            "Experiment: 1\n"
          ]
        },
        {
          "name": "stderr",
          "output_type": "stream",
          "text": [
            "100%|██████████| 5000/5000 [00:13<00:00, 374.07it/s]\n"
          ]
        },
        {
          "name": "stdout",
          "output_type": "stream",
          "text": [
            "29.9362\n",
            "Experiment: 1\n"
          ]
        },
        {
          "name": "stderr",
          "output_type": "stream",
          "text": [
            "100%|██████████| 5000/5000 [00:12<00:00, 394.29it/s]\n"
          ]
        },
        {
          "name": "stdout",
          "output_type": "stream",
          "text": [
            "27.3148\n",
            "Experiment: 1\n"
          ]
        },
        {
          "name": "stderr",
          "output_type": "stream",
          "text": [
            "100%|██████████| 5000/5000 [00:13<00:00, 361.63it/s]\n"
          ]
        },
        {
          "name": "stdout",
          "output_type": "stream",
          "text": [
            "30.0022\n",
            "Experiment: 1\n"
          ]
        },
        {
          "name": "stderr",
          "output_type": "stream",
          "text": [
            "100%|██████████| 5000/5000 [00:11<00:00, 426.56it/s]\n"
          ]
        },
        {
          "name": "stdout",
          "output_type": "stream",
          "text": [
            "26.1738\n",
            "Experiment: 1\n"
          ]
        },
        {
          "name": "stderr",
          "output_type": "stream",
          "text": [
            "100%|██████████| 5000/5000 [00:12<00:00, 408.78it/s]"
          ]
        },
        {
          "name": "stdout",
          "output_type": "stream",
          "text": [
            "27.252\n",
            "[{'alpha': 0.739682318905825, 'gamma': 0.9892010591527947, 'epsilon_tau': 0.5868202249558615, 'mean_rewards': -20.5504, 'mean_steps': 26.1738}, {'alpha': 0.609503583393099, 'gamma': 0.9892010591527947, 'epsilon_tau': 0.5769556291969975, 'mean_rewards': -21.4092, 'mean_steps': 26.6228}, {'alpha': 0.609503583393099, 'gamma': 0.9892010591527947, 'epsilon_tau': 0.5769556291969975, 'mean_rewards': -21.0358, 'mean_steps': 27.3148}, {'alpha': 0.609503583393099, 'gamma': 0.9892010591527947, 'epsilon_tau': 0.35145021600216664, 'mean_rewards': -21.292, 'mean_steps': 27.252}, {'alpha': 0.609503583393099, 'gamma': 0.9892010591527947, 'epsilon_tau': 0.5769556291969975, 'mean_rewards': -21.3814, 'mean_steps': 27.9304}]\n",
            "{'alpha': 0.739682318905825, 'gamma': 0.9892010591527947, 'epsilon_tau': 0.5868202249558615, 'mean_rewards': -20.5504, 'mean_steps': 26.1738}\n",
            "\n",
            "Best Hyperparameters: {'alpha': 0.739682318905825, 'gamma': 0.9892010591527947, 'epsilon_tau': 0.5868202249558615}\n",
            "Best Mean Rewards: -20.5504\n",
            "Best Mean Steps: 26.1738\n"
          ]
        },
        {
          "name": "stderr",
          "output_type": "stream",
          "text": [
            "\n"
          ]
        }
      ],
      "source": [
        "best_hyperparameters, best_mean_rewards, best_mean_steps, d2 = genetic_algorithm(env4, qlearning_s, e_s=1)\n",
        "write_results_to_file(file_path, (best_hyperparameters, best_mean_rewards, best_mean_steps), \"Q-Learning_Softmax_e4\")"
      ]
    },
    {
      "cell_type": "code",
      "execution_count": 50,
      "metadata": {},
      "outputs": [
        {
          "name": "stdout",
          "output_type": "stream",
          "text": [
            "\n",
            "Generation 1\n",
            "Experiment: 1\n"
          ]
        },
        {
          "name": "stderr",
          "output_type": "stream",
          "text": [
            "100%|██████████| 5000/5000 [00:13<00:00, 362.33it/s]\n"
          ]
        },
        {
          "name": "stdout",
          "output_type": "stream",
          "text": [
            "31.8682\n",
            "Experiment: 1\n"
          ]
        },
        {
          "name": "stderr",
          "output_type": "stream",
          "text": [
            "100%|██████████| 5000/5000 [00:31<00:00, 156.73it/s]\n"
          ]
        },
        {
          "name": "stdout",
          "output_type": "stream",
          "text": [
            "76.8484\n",
            "Experiment: 1\n"
          ]
        },
        {
          "name": "stderr",
          "output_type": "stream",
          "text": [
            "100%|██████████| 5000/5000 [00:27<00:00, 181.32it/s]\n"
          ]
        },
        {
          "name": "stdout",
          "output_type": "stream",
          "text": [
            "68.6816\n",
            "Experiment: 1\n"
          ]
        },
        {
          "name": "stderr",
          "output_type": "stream",
          "text": [
            "100%|██████████| 5000/5000 [00:31<00:00, 158.47it/s]\n"
          ]
        },
        {
          "name": "stdout",
          "output_type": "stream",
          "text": [
            "77.2374\n",
            "Experiment: 1\n"
          ]
        },
        {
          "name": "stderr",
          "output_type": "stream",
          "text": [
            "100%|██████████| 5000/5000 [00:11<00:00, 438.76it/s]\n"
          ]
        },
        {
          "name": "stdout",
          "output_type": "stream",
          "text": [
            "26.7448\n",
            "Experiment: 1\n"
          ]
        },
        {
          "name": "stderr",
          "output_type": "stream",
          "text": [
            "100%|██████████| 5000/5000 [00:12<00:00, 412.73it/s]\n"
          ]
        },
        {
          "name": "stdout",
          "output_type": "stream",
          "text": [
            "27.9874\n",
            "Experiment: 1\n"
          ]
        },
        {
          "name": "stderr",
          "output_type": "stream",
          "text": [
            "100%|██████████| 5000/5000 [00:10<00:00, 462.72it/s]\n"
          ]
        },
        {
          "name": "stdout",
          "output_type": "stream",
          "text": [
            "26.0384\n",
            "Experiment: 1\n"
          ]
        },
        {
          "name": "stderr",
          "output_type": "stream",
          "text": [
            "100%|██████████| 5000/5000 [00:13<00:00, 361.27it/s]\n"
          ]
        },
        {
          "name": "stdout",
          "output_type": "stream",
          "text": [
            "30.732\n",
            "Experiment: 1\n"
          ]
        },
        {
          "name": "stderr",
          "output_type": "stream",
          "text": [
            "100%|██████████| 5000/5000 [00:11<00:00, 421.89it/s]\n"
          ]
        },
        {
          "name": "stdout",
          "output_type": "stream",
          "text": [
            "27.0152\n",
            "Experiment: 1\n"
          ]
        },
        {
          "name": "stderr",
          "output_type": "stream",
          "text": [
            "100%|██████████| 5000/5000 [00:30<00:00, 164.02it/s]\n"
          ]
        },
        {
          "name": "stdout",
          "output_type": "stream",
          "text": [
            "74.919\n",
            "Experiment: 1\n"
          ]
        },
        {
          "name": "stderr",
          "output_type": "stream",
          "text": [
            "100%|██████████| 5000/5000 [00:31<00:00, 158.45it/s]\n"
          ]
        },
        {
          "name": "stdout",
          "output_type": "stream",
          "text": [
            "77.4754\n",
            "Experiment: 1\n"
          ]
        },
        {
          "name": "stderr",
          "output_type": "stream",
          "text": [
            "100%|██████████| 5000/5000 [00:13<00:00, 374.54it/s]\n"
          ]
        },
        {
          "name": "stdout",
          "output_type": "stream",
          "text": [
            "30.5558\n",
            "Experiment: 1\n"
          ]
        },
        {
          "name": "stderr",
          "output_type": "stream",
          "text": [
            "100%|██████████| 5000/5000 [00:31<00:00, 157.85it/s]\n"
          ]
        },
        {
          "name": "stdout",
          "output_type": "stream",
          "text": [
            "78.203\n",
            "Experiment: 1\n"
          ]
        },
        {
          "name": "stderr",
          "output_type": "stream",
          "text": [
            "100%|██████████| 5000/5000 [00:29<00:00, 167.76it/s]\n"
          ]
        },
        {
          "name": "stdout",
          "output_type": "stream",
          "text": [
            "70.9862\n",
            "Experiment: 1\n"
          ]
        },
        {
          "name": "stderr",
          "output_type": "stream",
          "text": [
            "100%|██████████| 5000/5000 [00:28<00:00, 174.09it/s]\n"
          ]
        },
        {
          "name": "stdout",
          "output_type": "stream",
          "text": [
            "70.491\n",
            "[{'alpha': 0.35498033669497064, 'gamma': 0.952570674169936, 'epsilon_tau': 0.09317284134423219, 'mean_rewards': -20.9976, 'mean_steps': 26.0384}, {'alpha': 0.3733304297956709, 'gamma': 0.954604118696557, 'epsilon_tau': 0.132221214922567, 'mean_rewards': -21.5312, 'mean_steps': 26.7448}, {'alpha': 0.14064475919320313, 'gamma': 0.9452857962434873, 'epsilon_tau': 0.07286054896877493, 'mean_rewards': -21.7314, 'mean_steps': 27.0152}, {'alpha': 0.15476225436848312, 'gamma': 0.9203625588586763, 'epsilon_tau': 0.19688164318814377, 'mean_rewards': -22.068, 'mean_steps': 27.9874}, {'alpha': 0.678971214269022, 'gamma': 0.9669457659729693, 'epsilon_tau': 0.20778322264501065, 'mean_rewards': -23.5006, 'mean_steps': 30.732}]\n",
            "{'alpha': 0.35498033669497064, 'gamma': 0.952570674169936, 'epsilon_tau': 0.09317284134423219, 'mean_rewards': -20.9976, 'mean_steps': 26.0384}\n",
            "\n",
            "Best Hyperparameters: {'alpha': 0.35498033669497064, 'gamma': 0.952570674169936, 'epsilon_tau': 0.09317284134423219}\n",
            "Best Mean Rewards: -20.9976\n",
            "Best Mean Steps: 26.0384\n",
            "\n",
            "Generation 2\n",
            "Experiment: 1\n"
          ]
        },
        {
          "name": "stderr",
          "output_type": "stream",
          "text": [
            "100%|██████████| 5000/5000 [00:11<00:00, 422.68it/s]\n"
          ]
        },
        {
          "name": "stdout",
          "output_type": "stream",
          "text": [
            "27.2448\n",
            "Experiment: 1\n"
          ]
        },
        {
          "name": "stderr",
          "output_type": "stream",
          "text": [
            "100%|██████████| 5000/5000 [00:12<00:00, 409.79it/s]\n"
          ]
        },
        {
          "name": "stdout",
          "output_type": "stream",
          "text": [
            "28.5582\n",
            "Experiment: 1\n"
          ]
        },
        {
          "name": "stderr",
          "output_type": "stream",
          "text": [
            "100%|██████████| 5000/5000 [00:12<00:00, 406.25it/s]\n"
          ]
        },
        {
          "name": "stdout",
          "output_type": "stream",
          "text": [
            "28.575\n",
            "Experiment: 1\n"
          ]
        },
        {
          "name": "stderr",
          "output_type": "stream",
          "text": [
            "100%|██████████| 5000/5000 [00:12<00:00, 412.78it/s]\n"
          ]
        },
        {
          "name": "stdout",
          "output_type": "stream",
          "text": [
            "29.1066\n",
            "Experiment: 1\n"
          ]
        },
        {
          "name": "stderr",
          "output_type": "stream",
          "text": [
            "100%|██████████| 5000/5000 [00:12<00:00, 409.68it/s]\n"
          ]
        },
        {
          "name": "stdout",
          "output_type": "stream",
          "text": [
            "29.012\n",
            "Experiment: 1\n"
          ]
        },
        {
          "name": "stderr",
          "output_type": "stream",
          "text": [
            "100%|██████████| 5000/5000 [00:10<00:00, 456.31it/s]\n"
          ]
        },
        {
          "name": "stdout",
          "output_type": "stream",
          "text": [
            "26.7054\n",
            "Experiment: 1\n"
          ]
        },
        {
          "name": "stderr",
          "output_type": "stream",
          "text": [
            "100%|██████████| 5000/5000 [00:12<00:00, 403.44it/s]\n"
          ]
        },
        {
          "name": "stdout",
          "output_type": "stream",
          "text": [
            "28.4958\n",
            "Experiment: 1\n"
          ]
        },
        {
          "name": "stderr",
          "output_type": "stream",
          "text": [
            "100%|██████████| 5000/5000 [00:11<00:00, 428.90it/s]\n"
          ]
        },
        {
          "name": "stdout",
          "output_type": "stream",
          "text": [
            "27.1868\n",
            "Experiment: 1\n"
          ]
        },
        {
          "name": "stderr",
          "output_type": "stream",
          "text": [
            "100%|██████████| 5000/5000 [00:11<00:00, 420.03it/s]\n"
          ]
        },
        {
          "name": "stdout",
          "output_type": "stream",
          "text": [
            "27.8234\n",
            "Experiment: 1\n"
          ]
        },
        {
          "name": "stderr",
          "output_type": "stream",
          "text": [
            "100%|██████████| 5000/5000 [00:11<00:00, 438.91it/s]\n"
          ]
        },
        {
          "name": "stdout",
          "output_type": "stream",
          "text": [
            "28.2004\n",
            "Experiment: 1\n"
          ]
        },
        {
          "name": "stderr",
          "output_type": "stream",
          "text": [
            "100%|██████████| 5000/5000 [00:12<00:00, 390.31it/s]\n"
          ]
        },
        {
          "name": "stdout",
          "output_type": "stream",
          "text": [
            "29.232\n",
            "Experiment: 1\n"
          ]
        },
        {
          "name": "stderr",
          "output_type": "stream",
          "text": [
            "100%|██████████| 5000/5000 [00:11<00:00, 432.56it/s]\n"
          ]
        },
        {
          "name": "stdout",
          "output_type": "stream",
          "text": [
            "26.8952\n",
            "Experiment: 1\n"
          ]
        },
        {
          "name": "stderr",
          "output_type": "stream",
          "text": [
            "100%|██████████| 5000/5000 [00:11<00:00, 425.35it/s]\n"
          ]
        },
        {
          "name": "stdout",
          "output_type": "stream",
          "text": [
            "27.9886\n",
            "Experiment: 1\n"
          ]
        },
        {
          "name": "stderr",
          "output_type": "stream",
          "text": [
            "100%|██████████| 5000/5000 [00:11<00:00, 436.97it/s]\n"
          ]
        },
        {
          "name": "stdout",
          "output_type": "stream",
          "text": [
            "27.0346\n",
            "Experiment: 1\n"
          ]
        },
        {
          "name": "stderr",
          "output_type": "stream",
          "text": [
            "100%|██████████| 5000/5000 [00:12<00:00, 409.60it/s]\n"
          ]
        },
        {
          "name": "stdout",
          "output_type": "stream",
          "text": [
            "28.5552\n",
            "[{'alpha': 0.15476225436848312, 'gamma': 0.9203625588586763, 'epsilon_tau': 0.07286054896877493, 'mean_rewards': -21.0448, 'mean_steps': 26.8952}, {'alpha': 0.35498033669497064, 'gamma': 0.952570674169936, 'epsilon_tau': 0.09317284134423219, 'mean_rewards': -20.9092, 'mean_steps': 27.2448}, {'alpha': 0.14064475919320313, 'gamma': 0.9669457659729693, 'epsilon_tau': 0.07286054896877493, 'mean_rewards': -21.5838, 'mean_steps': 26.7054}, {'alpha': 0.3733304297956709, 'gamma': 0.9452857962434873, 'epsilon_tau': 0.132221214922567, 'mean_rewards': -19.9594, 'mean_steps': 28.4958}, {'alpha': 0.678971214269022, 'gamma': 0.9669457659729693, 'epsilon_tau': 0.07286054896877493, 'mean_rewards': -21.6082, 'mean_steps': 27.0346}]\n",
            "{'alpha': 0.15476225436848312, 'gamma': 0.9203625588586763, 'epsilon_tau': 0.07286054896877493, 'mean_rewards': -21.0448, 'mean_steps': 26.8952}\n",
            "\n",
            "Best Hyperparameters: {'alpha': 0.15476225436848312, 'gamma': 0.9203625588586763, 'epsilon_tau': 0.07286054896877493}\n",
            "Best Mean Rewards: -21.0448\n",
            "Best Mean Steps: 26.8952\n",
            "\n",
            "Generation 3\n",
            "Experiment: 1\n"
          ]
        },
        {
          "name": "stderr",
          "output_type": "stream",
          "text": [
            "100%|██████████| 5000/5000 [00:11<00:00, 434.69it/s]\n"
          ]
        },
        {
          "name": "stdout",
          "output_type": "stream",
          "text": [
            "26.9912\n",
            "Experiment: 1\n"
          ]
        },
        {
          "name": "stderr",
          "output_type": "stream",
          "text": [
            "100%|██████████| 5000/5000 [00:11<00:00, 423.10it/s]\n"
          ]
        },
        {
          "name": "stdout",
          "output_type": "stream",
          "text": [
            "27.6132\n",
            "Experiment: 1\n"
          ]
        },
        {
          "name": "stderr",
          "output_type": "stream",
          "text": [
            "100%|██████████| 5000/5000 [00:11<00:00, 437.27it/s]\n"
          ]
        },
        {
          "name": "stdout",
          "output_type": "stream",
          "text": [
            "27.964\n",
            "Experiment: 1\n"
          ]
        },
        {
          "name": "stderr",
          "output_type": "stream",
          "text": [
            "100%|██████████| 5000/5000 [00:10<00:00, 468.88it/s]\n"
          ]
        },
        {
          "name": "stdout",
          "output_type": "stream",
          "text": [
            "25.717\n",
            "Experiment: 1\n"
          ]
        },
        {
          "name": "stderr",
          "output_type": "stream",
          "text": [
            "100%|██████████| 5000/5000 [00:11<00:00, 443.27it/s]\n"
          ]
        },
        {
          "name": "stdout",
          "output_type": "stream",
          "text": [
            "26.8338\n",
            "Experiment: 1\n"
          ]
        },
        {
          "name": "stderr",
          "output_type": "stream",
          "text": [
            "100%|██████████| 5000/5000 [00:11<00:00, 445.46it/s]\n"
          ]
        },
        {
          "name": "stdout",
          "output_type": "stream",
          "text": [
            "26.438\n",
            "Experiment: 1\n"
          ]
        },
        {
          "name": "stderr",
          "output_type": "stream",
          "text": [
            "100%|██████████| 5000/5000 [00:11<00:00, 423.14it/s]\n"
          ]
        },
        {
          "name": "stdout",
          "output_type": "stream",
          "text": [
            "28.7266\n",
            "Experiment: 1\n"
          ]
        },
        {
          "name": "stderr",
          "output_type": "stream",
          "text": [
            "100%|██████████| 5000/5000 [00:12<00:00, 395.04it/s]\n"
          ]
        },
        {
          "name": "stdout",
          "output_type": "stream",
          "text": [
            "29.1114\n",
            "Experiment: 1\n"
          ]
        },
        {
          "name": "stderr",
          "output_type": "stream",
          "text": [
            "100%|██████████| 5000/5000 [00:12<00:00, 403.29it/s]\n"
          ]
        },
        {
          "name": "stdout",
          "output_type": "stream",
          "text": [
            "29.97\n",
            "Experiment: 1\n"
          ]
        },
        {
          "name": "stderr",
          "output_type": "stream",
          "text": [
            "100%|██████████| 5000/5000 [00:13<00:00, 361.24it/s]\n"
          ]
        },
        {
          "name": "stdout",
          "output_type": "stream",
          "text": [
            "31.8682\n",
            "Experiment: 1\n"
          ]
        },
        {
          "name": "stderr",
          "output_type": "stream",
          "text": [
            "100%|██████████| 5000/5000 [00:12<00:00, 406.42it/s]\n"
          ]
        },
        {
          "name": "stdout",
          "output_type": "stream",
          "text": [
            "28.0748\n",
            "Experiment: 1\n"
          ]
        },
        {
          "name": "stderr",
          "output_type": "stream",
          "text": [
            "100%|██████████| 5000/5000 [00:20<00:00, 240.77it/s]\n"
          ]
        },
        {
          "name": "stdout",
          "output_type": "stream",
          "text": [
            "48.1556\n",
            "Experiment: 1\n"
          ]
        },
        {
          "name": "stderr",
          "output_type": "stream",
          "text": [
            "100%|██████████| 5000/5000 [00:11<00:00, 423.24it/s]\n"
          ]
        },
        {
          "name": "stdout",
          "output_type": "stream",
          "text": [
            "27.971\n",
            "Experiment: 1\n"
          ]
        },
        {
          "name": "stderr",
          "output_type": "stream",
          "text": [
            "100%|██████████| 5000/5000 [00:11<00:00, 426.51it/s]\n"
          ]
        },
        {
          "name": "stdout",
          "output_type": "stream",
          "text": [
            "27.3232\n",
            "Experiment: 1\n"
          ]
        },
        {
          "name": "stderr",
          "output_type": "stream",
          "text": [
            "100%|██████████| 5000/5000 [00:11<00:00, 439.94it/s]\n"
          ]
        },
        {
          "name": "stdout",
          "output_type": "stream",
          "text": [
            "26.6018\n",
            "[{'alpha': 0.3733304297956709, 'gamma': 0.9452857962434873, 'epsilon_tau': 0.132221214922567, 'mean_rewards': -20.4516, 'mean_steps': 25.717}, {'alpha': 0.14064475919320313, 'gamma': 0.9669457659729693, 'epsilon_tau': 0.02116819161552588, 'mean_rewards': -21.3778, 'mean_steps': 26.438}, {'alpha': 0.678971214269022, 'gamma': 0.9669457659729693, 'epsilon_tau': 0.07286054896877493, 'mean_rewards': -21.1138, 'mean_steps': 26.8338}, {'alpha': 0.15476225436848312, 'gamma': 0.9203625588586763, 'epsilon_tau': 0.07286054896877493, 'mean_rewards': -21.1294, 'mean_steps': 26.9912}, {'alpha': 0.35498033669497064, 'gamma': 0.952570674169936, 'epsilon_tau': 0.09317284134423219, 'mean_rewards': -21.0586, 'mean_steps': 27.6132}]\n",
            "{'alpha': 0.3733304297956709, 'gamma': 0.9452857962434873, 'epsilon_tau': 0.132221214922567, 'mean_rewards': -20.4516, 'mean_steps': 25.717}\n",
            "\n",
            "Best Hyperparameters: {'alpha': 0.3733304297956709, 'gamma': 0.9452857962434873, 'epsilon_tau': 0.132221214922567}\n",
            "Best Mean Rewards: -20.4516\n",
            "Best Mean Steps: 25.717\n",
            "\n",
            "Generation 4\n",
            "Experiment: 1\n"
          ]
        },
        {
          "name": "stderr",
          "output_type": "stream",
          "text": [
            "100%|██████████| 5000/5000 [00:12<00:00, 404.86it/s]\n"
          ]
        },
        {
          "name": "stdout",
          "output_type": "stream",
          "text": [
            "28.5214\n",
            "Experiment: 1\n"
          ]
        },
        {
          "name": "stderr",
          "output_type": "stream",
          "text": [
            "100%|██████████| 5000/5000 [00:12<00:00, 415.19it/s]\n"
          ]
        },
        {
          "name": "stdout",
          "output_type": "stream",
          "text": [
            "27.4728\n",
            "Experiment: 1\n"
          ]
        },
        {
          "name": "stderr",
          "output_type": "stream",
          "text": [
            "100%|██████████| 5000/5000 [00:12<00:00, 399.67it/s]\n"
          ]
        },
        {
          "name": "stdout",
          "output_type": "stream",
          "text": [
            "30.374\n",
            "Experiment: 1\n"
          ]
        },
        {
          "name": "stderr",
          "output_type": "stream",
          "text": [
            "100%|██████████| 5000/5000 [00:11<00:00, 438.19it/s]\n"
          ]
        },
        {
          "name": "stdout",
          "output_type": "stream",
          "text": [
            "27.2762\n",
            "Experiment: 1\n"
          ]
        },
        {
          "name": "stderr",
          "output_type": "stream",
          "text": [
            "100%|██████████| 5000/5000 [00:11<00:00, 450.50it/s]\n"
          ]
        },
        {
          "name": "stdout",
          "output_type": "stream",
          "text": [
            "26.639\n",
            "Experiment: 1\n"
          ]
        },
        {
          "name": "stderr",
          "output_type": "stream",
          "text": [
            "100%|██████████| 5000/5000 [00:11<00:00, 430.47it/s]\n"
          ]
        },
        {
          "name": "stdout",
          "output_type": "stream",
          "text": [
            "27.2574\n",
            "Experiment: 1\n"
          ]
        },
        {
          "name": "stderr",
          "output_type": "stream",
          "text": [
            "100%|██████████| 5000/5000 [00:11<00:00, 441.76it/s]\n"
          ]
        },
        {
          "name": "stdout",
          "output_type": "stream",
          "text": [
            "27.2474\n",
            "Experiment: 1\n"
          ]
        },
        {
          "name": "stderr",
          "output_type": "stream",
          "text": [
            "100%|██████████| 5000/5000 [00:10<00:00, 457.15it/s]\n"
          ]
        },
        {
          "name": "stdout",
          "output_type": "stream",
          "text": [
            "26.209\n",
            "Experiment: 1\n"
          ]
        },
        {
          "name": "stderr",
          "output_type": "stream",
          "text": [
            "100%|██████████| 5000/5000 [00:15<00:00, 322.37it/s]\n"
          ]
        },
        {
          "name": "stdout",
          "output_type": "stream",
          "text": [
            "35.4742\n",
            "Experiment: 1\n"
          ]
        },
        {
          "name": "stderr",
          "output_type": "stream",
          "text": [
            "100%|██████████| 5000/5000 [00:13<00:00, 357.21it/s]\n"
          ]
        },
        {
          "name": "stdout",
          "output_type": "stream",
          "text": [
            "32.3988\n",
            "Experiment: 1\n"
          ]
        },
        {
          "name": "stderr",
          "output_type": "stream",
          "text": [
            "100%|██████████| 5000/5000 [00:19<00:00, 252.00it/s]\n"
          ]
        },
        {
          "name": "stdout",
          "output_type": "stream",
          "text": [
            "47.7186\n",
            "Experiment: 1\n"
          ]
        },
        {
          "name": "stderr",
          "output_type": "stream",
          "text": [
            "100%|██████████| 5000/5000 [00:11<00:00, 419.07it/s]\n"
          ]
        },
        {
          "name": "stdout",
          "output_type": "stream",
          "text": [
            "28.3872\n",
            "Experiment: 1\n"
          ]
        },
        {
          "name": "stderr",
          "output_type": "stream",
          "text": [
            "100%|██████████| 5000/5000 [00:11<00:00, 420.63it/s]\n"
          ]
        },
        {
          "name": "stdout",
          "output_type": "stream",
          "text": [
            "27.202\n",
            "Experiment: 1\n"
          ]
        },
        {
          "name": "stderr",
          "output_type": "stream",
          "text": [
            "100%|██████████| 5000/5000 [00:11<00:00, 418.58it/s]\n"
          ]
        },
        {
          "name": "stdout",
          "output_type": "stream",
          "text": [
            "28.2518\n",
            "Experiment: 1\n"
          ]
        },
        {
          "name": "stderr",
          "output_type": "stream",
          "text": [
            "100%|██████████| 5000/5000 [00:11<00:00, 448.43it/s]\n"
          ]
        },
        {
          "name": "stdout",
          "output_type": "stream",
          "text": [
            "27.3192\n",
            "[{'alpha': 0.3733304297956709, 'gamma': 0.9669457659729693, 'epsilon_tau': 0.18936318329203997, 'mean_rewards': -20.0064, 'mean_steps': 26.209}, {'alpha': 0.35498033669497064, 'gamma': 0.952570674169936, 'epsilon_tau': 0.09317284134423219, 'mean_rewards': -20.1808, 'mean_steps': 26.639}, {'alpha': 0.678971214269022, 'gamma': 0.9669457659729693, 'epsilon_tau': 0.07286054896877493, 'mean_rewards': -20.6008, 'mean_steps': 27.202}, {'alpha': 0.15476225436848312, 'gamma': 0.9203625588586763, 'epsilon_tau': 0.07286054896877493, 'mean_rewards': -21.4674, 'mean_steps': 27.2574}, {'alpha': 0.14064475919320313, 'gamma': 0.9669457659729693, 'epsilon_tau': 0.02116819161552588, 'mean_rewards': -21.2694, 'mean_steps': 27.4728}]\n",
            "{'alpha': 0.3733304297956709, 'gamma': 0.9669457659729693, 'epsilon_tau': 0.18936318329203997, 'mean_rewards': -20.0064, 'mean_steps': 26.209}\n",
            "\n",
            "Best Hyperparameters: {'alpha': 0.3733304297956709, 'gamma': 0.9669457659729693, 'epsilon_tau': 0.18936318329203997}\n",
            "Best Mean Rewards: -20.0064\n",
            "Best Mean Steps: 26.209\n",
            "\n",
            "Generation 5\n",
            "Experiment: 1\n"
          ]
        },
        {
          "name": "stderr",
          "output_type": "stream",
          "text": [
            "100%|██████████| 5000/5000 [00:11<00:00, 446.45it/s]\n"
          ]
        },
        {
          "name": "stdout",
          "output_type": "stream",
          "text": [
            "26.6386\n",
            "Experiment: 1\n"
          ]
        },
        {
          "name": "stderr",
          "output_type": "stream",
          "text": [
            "100%|██████████| 5000/5000 [00:12<00:00, 408.80it/s]\n"
          ]
        },
        {
          "name": "stdout",
          "output_type": "stream",
          "text": [
            "28.2404\n",
            "Experiment: 1\n"
          ]
        },
        {
          "name": "stderr",
          "output_type": "stream",
          "text": [
            "100%|██████████| 5000/5000 [00:12<00:00, 397.76it/s]\n"
          ]
        },
        {
          "name": "stdout",
          "output_type": "stream",
          "text": [
            "29.7158\n",
            "Experiment: 1\n"
          ]
        },
        {
          "name": "stderr",
          "output_type": "stream",
          "text": [
            "100%|██████████| 5000/5000 [00:12<00:00, 396.30it/s]\n"
          ]
        },
        {
          "name": "stdout",
          "output_type": "stream",
          "text": [
            "28.786\n",
            "Experiment: 1\n"
          ]
        },
        {
          "name": "stderr",
          "output_type": "stream",
          "text": [
            "100%|██████████| 5000/5000 [00:10<00:00, 460.28it/s]\n"
          ]
        },
        {
          "name": "stdout",
          "output_type": "stream",
          "text": [
            "26.3094\n",
            "Experiment: 1\n"
          ]
        },
        {
          "name": "stderr",
          "output_type": "stream",
          "text": [
            "100%|██████████| 5000/5000 [00:12<00:00, 403.39it/s]\n"
          ]
        },
        {
          "name": "stdout",
          "output_type": "stream",
          "text": [
            "29.1856\n",
            "Experiment: 1\n"
          ]
        },
        {
          "name": "stderr",
          "output_type": "stream",
          "text": [
            "100%|██████████| 5000/5000 [00:11<00:00, 437.88it/s]\n"
          ]
        },
        {
          "name": "stdout",
          "output_type": "stream",
          "text": [
            "27.6988\n",
            "Experiment: 1\n"
          ]
        },
        {
          "name": "stderr",
          "output_type": "stream",
          "text": [
            "100%|██████████| 5000/5000 [00:13<00:00, 378.43it/s]\n"
          ]
        },
        {
          "name": "stdout",
          "output_type": "stream",
          "text": [
            "30.9082\n",
            "Experiment: 1\n"
          ]
        },
        {
          "name": "stderr",
          "output_type": "stream",
          "text": [
            "100%|██████████| 5000/5000 [00:11<00:00, 433.06it/s]\n"
          ]
        },
        {
          "name": "stdout",
          "output_type": "stream",
          "text": [
            "26.9246\n",
            "Experiment: 1\n"
          ]
        },
        {
          "name": "stderr",
          "output_type": "stream",
          "text": [
            "100%|██████████| 5000/5000 [00:11<00:00, 426.39it/s]\n"
          ]
        },
        {
          "name": "stdout",
          "output_type": "stream",
          "text": [
            "26.6434\n",
            "Experiment: 1\n"
          ]
        },
        {
          "name": "stderr",
          "output_type": "stream",
          "text": [
            "100%|██████████| 5000/5000 [00:12<00:00, 398.26it/s]\n"
          ]
        },
        {
          "name": "stdout",
          "output_type": "stream",
          "text": [
            "28.7168\n",
            "Experiment: 1\n"
          ]
        },
        {
          "name": "stderr",
          "output_type": "stream",
          "text": [
            "100%|██████████| 5000/5000 [00:11<00:00, 445.93it/s]\n"
          ]
        },
        {
          "name": "stdout",
          "output_type": "stream",
          "text": [
            "26.7278\n",
            "Experiment: 1\n"
          ]
        },
        {
          "name": "stderr",
          "output_type": "stream",
          "text": [
            "100%|██████████| 5000/5000 [00:20<00:00, 243.60it/s]\n"
          ]
        },
        {
          "name": "stdout",
          "output_type": "stream",
          "text": [
            "46.413\n",
            "Experiment: 1\n"
          ]
        },
        {
          "name": "stderr",
          "output_type": "stream",
          "text": [
            "100%|██████████| 5000/5000 [00:12<00:00, 399.70it/s]\n"
          ]
        },
        {
          "name": "stdout",
          "output_type": "stream",
          "text": [
            "28.087\n",
            "Experiment: 1\n"
          ]
        },
        {
          "name": "stderr",
          "output_type": "stream",
          "text": [
            "100%|██████████| 5000/5000 [00:10<00:00, 478.32it/s]\n"
          ]
        },
        {
          "name": "stdout",
          "output_type": "stream",
          "text": [
            "25.489\n",
            "[{'alpha': 0.35498033669497064, 'gamma': 0.9669457659729693, 'epsilon_tau': 0.02116819161552588, 'mean_rewards': -20.4728, 'mean_steps': 25.489}, {'alpha': 0.6830037133074602, 'gamma': 0.9669457659729693, 'epsilon_tau': 0.07286054896877493, 'mean_rewards': -20.383, 'mean_steps': 26.6434}, {'alpha': 0.3733304297956709, 'gamma': 0.9669457659729693, 'epsilon_tau': 0.18936318329203997, 'mean_rewards': -20.5218, 'mean_steps': 26.6386}, {'alpha': 0.35498033669497064, 'gamma': 0.9669457659729693, 'epsilon_tau': 0.07286054896877493, 'mean_rewards': -20.5144, 'mean_steps': 26.7278}, {'alpha': 0.14064475919320313, 'gamma': 0.9669457659729693, 'epsilon_tau': 0.02116819161552588, 'mean_rewards': -21.2826, 'mean_steps': 26.3094}]\n",
            "{'alpha': 0.35498033669497064, 'gamma': 0.9669457659729693, 'epsilon_tau': 0.02116819161552588, 'mean_rewards': -20.4728, 'mean_steps': 25.489}\n",
            "\n",
            "Best Hyperparameters: {'alpha': 0.35498033669497064, 'gamma': 0.9669457659729693, 'epsilon_tau': 0.02116819161552588}\n",
            "Best Mean Rewards: -20.4728\n",
            "Best Mean Steps: 25.489\n",
            "\n",
            "Generation 6\n",
            "Experiment: 1\n"
          ]
        },
        {
          "name": "stderr",
          "output_type": "stream",
          "text": [
            "100%|██████████| 5000/5000 [00:11<00:00, 432.46it/s]\n"
          ]
        },
        {
          "name": "stdout",
          "output_type": "stream",
          "text": [
            "26.0816\n",
            "Experiment: 1\n"
          ]
        },
        {
          "name": "stderr",
          "output_type": "stream",
          "text": [
            "100%|██████████| 5000/5000 [00:11<00:00, 430.36it/s]\n"
          ]
        },
        {
          "name": "stdout",
          "output_type": "stream",
          "text": [
            "27.332\n",
            "Experiment: 1\n"
          ]
        },
        {
          "name": "stderr",
          "output_type": "stream",
          "text": [
            "100%|██████████| 5000/5000 [00:12<00:00, 414.26it/s]\n"
          ]
        },
        {
          "name": "stdout",
          "output_type": "stream",
          "text": [
            "27.9546\n",
            "Experiment: 1\n"
          ]
        },
        {
          "name": "stderr",
          "output_type": "stream",
          "text": [
            "100%|██████████| 5000/5000 [00:12<00:00, 390.58it/s]\n"
          ]
        },
        {
          "name": "stdout",
          "output_type": "stream",
          "text": [
            "28.0242\n",
            "Experiment: 1\n"
          ]
        },
        {
          "name": "stderr",
          "output_type": "stream",
          "text": [
            "100%|██████████| 5000/5000 [00:11<00:00, 422.69it/s]\n"
          ]
        },
        {
          "name": "stdout",
          "output_type": "stream",
          "text": [
            "27.7918\n",
            "Experiment: 1\n"
          ]
        },
        {
          "name": "stderr",
          "output_type": "stream",
          "text": [
            "100%|██████████| 5000/5000 [00:29<00:00, 168.30it/s]\n"
          ]
        },
        {
          "name": "stdout",
          "output_type": "stream",
          "text": [
            "70.5596\n",
            "Experiment: 1\n"
          ]
        },
        {
          "name": "stderr",
          "output_type": "stream",
          "text": [
            "100%|██████████| 5000/5000 [00:11<00:00, 424.87it/s]\n"
          ]
        },
        {
          "name": "stdout",
          "output_type": "stream",
          "text": [
            "27.6142\n",
            "Experiment: 1\n"
          ]
        },
        {
          "name": "stderr",
          "output_type": "stream",
          "text": [
            "100%|██████████| 5000/5000 [00:12<00:00, 405.68it/s]\n"
          ]
        },
        {
          "name": "stdout",
          "output_type": "stream",
          "text": [
            "28.8554\n",
            "Experiment: 1\n"
          ]
        },
        {
          "name": "stderr",
          "output_type": "stream",
          "text": [
            "100%|██████████| 5000/5000 [00:11<00:00, 449.54it/s]\n"
          ]
        },
        {
          "name": "stdout",
          "output_type": "stream",
          "text": [
            "25.9568\n",
            "Experiment: 1\n"
          ]
        },
        {
          "name": "stderr",
          "output_type": "stream",
          "text": [
            "100%|██████████| 5000/5000 [00:11<00:00, 436.64it/s]\n"
          ]
        },
        {
          "name": "stdout",
          "output_type": "stream",
          "text": [
            "26.5258\n",
            "Experiment: 1\n"
          ]
        },
        {
          "name": "stderr",
          "output_type": "stream",
          "text": [
            "100%|██████████| 5000/5000 [00:10<00:00, 455.20it/s]\n"
          ]
        },
        {
          "name": "stdout",
          "output_type": "stream",
          "text": [
            "26.6672\n",
            "Experiment: 1\n"
          ]
        },
        {
          "name": "stderr",
          "output_type": "stream",
          "text": [
            "100%|██████████| 5000/5000 [00:12<00:00, 416.33it/s]\n"
          ]
        },
        {
          "name": "stdout",
          "output_type": "stream",
          "text": [
            "27.667\n",
            "Experiment: 1\n"
          ]
        },
        {
          "name": "stderr",
          "output_type": "stream",
          "text": [
            "100%|██████████| 5000/5000 [00:11<00:00, 433.20it/s]\n"
          ]
        },
        {
          "name": "stdout",
          "output_type": "stream",
          "text": [
            "27.2104\n",
            "Experiment: 1\n"
          ]
        },
        {
          "name": "stderr",
          "output_type": "stream",
          "text": [
            "100%|██████████| 5000/5000 [00:11<00:00, 437.54it/s]\n"
          ]
        },
        {
          "name": "stdout",
          "output_type": "stream",
          "text": [
            "27.4238\n",
            "Experiment: 1\n"
          ]
        },
        {
          "name": "stderr",
          "output_type": "stream",
          "text": [
            "100%|██████████| 5000/5000 [00:11<00:00, 430.63it/s]\n"
          ]
        },
        {
          "name": "stdout",
          "output_type": "stream",
          "text": [
            "26.4188\n",
            "[{'alpha': 0.35498033669497064, 'gamma': 0.9669457659729693, 'epsilon_tau': 0.02116819161552588, 'mean_rewards': -20.4138, 'mean_steps': 26.0816}, {'alpha': 0.3733304297956709, 'gamma': 0.9669457659729693, 'epsilon_tau': 0.18936318329203997, 'mean_rewards': -21.0612, 'mean_steps': 25.9568}, {'alpha': 0.35498033669497064, 'gamma': 0.9669457659729693, 'epsilon_tau': 0.07286054896877493, 'mean_rewards': -20.6778, 'mean_steps': 26.4188}, {'alpha': 0.660372201244989, 'gamma': 0.9669457659729693, 'epsilon_tau': 0.19258879092028053, 'mean_rewards': -20.0582, 'mean_steps': 27.667}, {'alpha': 0.6830037133074602, 'gamma': 0.9669457659729693, 'epsilon_tau': 0.07286054896877493, 'mean_rewards': -20.433, 'mean_steps': 27.332}]\n",
            "{'alpha': 0.35498033669497064, 'gamma': 0.9669457659729693, 'epsilon_tau': 0.02116819161552588, 'mean_rewards': -20.4138, 'mean_steps': 26.0816}\n",
            "\n",
            "Best Hyperparameters: {'alpha': 0.35498033669497064, 'gamma': 0.9669457659729693, 'epsilon_tau': 0.02116819161552588}\n",
            "Best Mean Rewards: -20.4138\n",
            "Best Mean Steps: 26.0816\n",
            "\n",
            "Generation 7\n",
            "Experiment: 1\n"
          ]
        },
        {
          "name": "stderr",
          "output_type": "stream",
          "text": [
            "100%|██████████| 5000/5000 [00:10<00:00, 463.72it/s]\n"
          ]
        },
        {
          "name": "stdout",
          "output_type": "stream",
          "text": [
            "25.9794\n",
            "Experiment: 1\n"
          ]
        },
        {
          "name": "stderr",
          "output_type": "stream",
          "text": [
            "100%|██████████| 5000/5000 [00:12<00:00, 396.41it/s]\n"
          ]
        },
        {
          "name": "stdout",
          "output_type": "stream",
          "text": [
            "28.4786\n",
            "Experiment: 1\n"
          ]
        },
        {
          "name": "stderr",
          "output_type": "stream",
          "text": [
            "100%|██████████| 5000/5000 [00:11<00:00, 450.14it/s]\n"
          ]
        },
        {
          "name": "stdout",
          "output_type": "stream",
          "text": [
            "26.4156\n",
            "Experiment: 1\n"
          ]
        },
        {
          "name": "stderr",
          "output_type": "stream",
          "text": [
            "100%|██████████| 5000/5000 [00:12<00:00, 401.67it/s]\n"
          ]
        },
        {
          "name": "stdout",
          "output_type": "stream",
          "text": [
            "29.0396\n",
            "Experiment: 1\n"
          ]
        },
        {
          "name": "stderr",
          "output_type": "stream",
          "text": [
            "100%|██████████| 5000/5000 [00:12<00:00, 407.83it/s]\n"
          ]
        },
        {
          "name": "stdout",
          "output_type": "stream",
          "text": [
            "28.7194\n",
            "Experiment: 1\n"
          ]
        },
        {
          "name": "stderr",
          "output_type": "stream",
          "text": [
            "100%|██████████| 5000/5000 [00:11<00:00, 430.01it/s]\n"
          ]
        },
        {
          "name": "stdout",
          "output_type": "stream",
          "text": [
            "28.049\n",
            "Experiment: 1\n"
          ]
        },
        {
          "name": "stderr",
          "output_type": "stream",
          "text": [
            "100%|██████████| 5000/5000 [00:12<00:00, 402.24it/s]\n"
          ]
        },
        {
          "name": "stdout",
          "output_type": "stream",
          "text": [
            "29.1388\n",
            "Experiment: 1\n"
          ]
        },
        {
          "name": "stderr",
          "output_type": "stream",
          "text": [
            "100%|██████████| 5000/5000 [00:12<00:00, 401.68it/s]\n"
          ]
        },
        {
          "name": "stdout",
          "output_type": "stream",
          "text": [
            "27.4152\n",
            "Experiment: 1\n"
          ]
        },
        {
          "name": "stderr",
          "output_type": "stream",
          "text": [
            "100%|██████████| 5000/5000 [00:13<00:00, 362.92it/s]\n"
          ]
        },
        {
          "name": "stdout",
          "output_type": "stream",
          "text": [
            "34.0116\n",
            "Experiment: 1\n"
          ]
        },
        {
          "name": "stderr",
          "output_type": "stream",
          "text": [
            "100%|██████████| 5000/5000 [00:11<00:00, 422.11it/s]\n"
          ]
        },
        {
          "name": "stdout",
          "output_type": "stream",
          "text": [
            "28.4854\n",
            "Experiment: 1\n"
          ]
        },
        {
          "name": "stderr",
          "output_type": "stream",
          "text": [
            "100%|██████████| 5000/5000 [00:11<00:00, 419.66it/s]\n"
          ]
        },
        {
          "name": "stdout",
          "output_type": "stream",
          "text": [
            "27.2092\n",
            "Experiment: 1\n"
          ]
        },
        {
          "name": "stderr",
          "output_type": "stream",
          "text": [
            "100%|██████████| 5000/5000 [00:12<00:00, 416.36it/s]\n"
          ]
        },
        {
          "name": "stdout",
          "output_type": "stream",
          "text": [
            "27.9532\n",
            "Experiment: 1\n"
          ]
        },
        {
          "name": "stderr",
          "output_type": "stream",
          "text": [
            "100%|██████████| 5000/5000 [00:13<00:00, 374.39it/s]\n"
          ]
        },
        {
          "name": "stdout",
          "output_type": "stream",
          "text": [
            "31.6266\n",
            "Experiment: 1\n"
          ]
        },
        {
          "name": "stderr",
          "output_type": "stream",
          "text": [
            "100%|██████████| 5000/5000 [00:12<00:00, 408.66it/s]\n"
          ]
        },
        {
          "name": "stdout",
          "output_type": "stream",
          "text": [
            "28.6314\n",
            "Experiment: 1\n"
          ]
        },
        {
          "name": "stderr",
          "output_type": "stream",
          "text": [
            "100%|██████████| 5000/5000 [00:11<00:00, 419.95it/s]"
          ]
        },
        {
          "name": "stdout",
          "output_type": "stream",
          "text": [
            "28.46\n",
            "[{'alpha': 0.35498033669497064, 'gamma': 0.9669457659729693, 'epsilon_tau': 0.02116819161552588, 'mean_rewards': -19.8592, 'mean_steps': 25.9794}, {'alpha': 0.35498033669497064, 'gamma': 0.9669457659729693, 'epsilon_tau': 0.07286054896877493, 'mean_rewards': -21.2138, 'mean_steps': 26.4156}, {'alpha': 0.35498033669497064, 'gamma': 0.9669457659729693, 'epsilon_tau': 0.07286054896877493, 'mean_rewards': -20.932, 'mean_steps': 27.2092}, {'alpha': 0.35498033669497064, 'gamma': 0.9669457659729693, 'epsilon_tau': 0.10606721485843337, 'mean_rewards': -20.9702, 'mean_steps': 27.4152}, {'alpha': 0.3733304297956709, 'gamma': 0.9669457659729693, 'epsilon_tau': 0.18936318329203997, 'mean_rewards': -21.1022, 'mean_steps': 28.4786}]\n",
            "{'alpha': 0.35498033669497064, 'gamma': 0.9669457659729693, 'epsilon_tau': 0.02116819161552588, 'mean_rewards': -19.8592, 'mean_steps': 25.9794}\n",
            "\n",
            "Best Hyperparameters: {'alpha': 0.35498033669497064, 'gamma': 0.9669457659729693, 'epsilon_tau': 0.02116819161552588}\n",
            "Best Mean Rewards: -19.8592\n",
            "Best Mean Steps: 25.9794\n"
          ]
        },
        {
          "name": "stderr",
          "output_type": "stream",
          "text": [
            "\n"
          ]
        }
      ],
      "source": [
        "best_hyperparameters, best_mean_rewards, best_mean_steps, d3 = genetic_algorithm(env4, sarsa_e, e_s=0)\n",
        "write_results_to_file(file_path, (best_hyperparameters, best_mean_rewards, best_mean_steps), \"SARSA_EpsilonGreedy_e4\")"
      ]
    },
    {
      "cell_type": "code",
      "execution_count": 51,
      "metadata": {},
      "outputs": [
        {
          "name": "stdout",
          "output_type": "stream",
          "text": [
            "\n",
            "Generation 1\n",
            "Experiment: 1\n"
          ]
        },
        {
          "name": "stderr",
          "output_type": "stream",
          "text": [
            "100%|██████████| 5000/5000 [00:12<00:00, 400.23it/s]\n"
          ]
        },
        {
          "name": "stdout",
          "output_type": "stream",
          "text": [
            "28.2522\n",
            "Experiment: 1\n"
          ]
        },
        {
          "name": "stderr",
          "output_type": "stream",
          "text": [
            "100%|██████████| 5000/5000 [00:19<00:00, 250.03it/s]\n"
          ]
        },
        {
          "name": "stdout",
          "output_type": "stream",
          "text": [
            "46.218\n",
            "Experiment: 1\n"
          ]
        },
        {
          "name": "stderr",
          "output_type": "stream",
          "text": [
            "100%|██████████| 5000/5000 [00:13<00:00, 359.67it/s]\n"
          ]
        },
        {
          "name": "stdout",
          "output_type": "stream",
          "text": [
            "31.1758\n",
            "Experiment: 1\n"
          ]
        },
        {
          "name": "stderr",
          "output_type": "stream",
          "text": [
            "100%|██████████| 5000/5000 [00:16<00:00, 299.24it/s]\n"
          ]
        },
        {
          "name": "stdout",
          "output_type": "stream",
          "text": [
            "37.6808\n",
            "Experiment: 1\n"
          ]
        },
        {
          "name": "stderr",
          "output_type": "stream",
          "text": [
            "100%|██████████| 5000/5000 [00:36<00:00, 135.95it/s]\n"
          ]
        },
        {
          "name": "stdout",
          "output_type": "stream",
          "text": [
            "84.2218\n",
            "Experiment: 1\n"
          ]
        },
        {
          "name": "stderr",
          "output_type": "stream",
          "text": [
            "100%|██████████| 5000/5000 [00:30<00:00, 166.17it/s]\n"
          ]
        },
        {
          "name": "stdout",
          "output_type": "stream",
          "text": [
            "69.482\n",
            "Experiment: 1\n"
          ]
        },
        {
          "name": "stderr",
          "output_type": "stream",
          "text": [
            "100%|██████████| 5000/5000 [00:35<00:00, 139.22it/s]\n"
          ]
        },
        {
          "name": "stdout",
          "output_type": "stream",
          "text": [
            "82.69\n",
            "Experiment: 1\n"
          ]
        },
        {
          "name": "stderr",
          "output_type": "stream",
          "text": [
            "100%|██████████| 5000/5000 [00:18<00:00, 272.46it/s]\n"
          ]
        },
        {
          "name": "stdout",
          "output_type": "stream",
          "text": [
            "41.146\n",
            "Experiment: 1\n"
          ]
        },
        {
          "name": "stderr",
          "output_type": "stream",
          "text": [
            "100%|██████████| 5000/5000 [00:30<00:00, 161.81it/s]\n"
          ]
        },
        {
          "name": "stdout",
          "output_type": "stream",
          "text": [
            "71.5198\n",
            "Experiment: 1\n"
          ]
        },
        {
          "name": "stderr",
          "output_type": "stream",
          "text": [
            "100%|██████████| 5000/5000 [00:13<00:00, 383.16it/s]\n"
          ]
        },
        {
          "name": "stdout",
          "output_type": "stream",
          "text": [
            "29.1026\n",
            "Experiment: 1\n"
          ]
        },
        {
          "name": "stderr",
          "output_type": "stream",
          "text": [
            "100%|██████████| 5000/5000 [00:29<00:00, 170.77it/s]\n"
          ]
        },
        {
          "name": "stdout",
          "output_type": "stream",
          "text": [
            "67.9152\n",
            "Experiment: 1\n"
          ]
        },
        {
          "name": "stderr",
          "output_type": "stream",
          "text": [
            "100%|██████████| 5000/5000 [00:12<00:00, 386.65it/s]\n"
          ]
        },
        {
          "name": "stdout",
          "output_type": "stream",
          "text": [
            "28.4384\n",
            "Experiment: 1\n"
          ]
        },
        {
          "name": "stderr",
          "output_type": "stream",
          "text": [
            "100%|██████████| 5000/5000 [00:33<00:00, 148.46it/s]\n"
          ]
        },
        {
          "name": "stdout",
          "output_type": "stream",
          "text": [
            "77.1016\n",
            "Experiment: 1\n"
          ]
        },
        {
          "name": "stderr",
          "output_type": "stream",
          "text": [
            "100%|██████████| 5000/5000 [00:35<00:00, 139.48it/s]\n"
          ]
        },
        {
          "name": "stdout",
          "output_type": "stream",
          "text": [
            "83.7524\n",
            "Experiment: 1\n"
          ]
        },
        {
          "name": "stderr",
          "output_type": "stream",
          "text": [
            "100%|██████████| 5000/5000 [00:11<00:00, 422.11it/s]\n"
          ]
        },
        {
          "name": "stdout",
          "output_type": "stream",
          "text": [
            "27.033\n",
            "[{'alpha': 0.5889695809039539, 'gamma': 0.976984590744896, 'epsilon_tau': 0.2921866494316016, 'mean_rewards': -21.3412, 'mean_steps': 27.033}, {'alpha': 0.23076706806487618, 'gamma': 0.917237187916716, 'epsilon_tau': 0.08412883577744186, 'mean_rewards': -21.3946, 'mean_steps': 28.4384}, {'alpha': 0.6961790700180825, 'gamma': 0.9713817178174646, 'epsilon_tau': 0.20342225738606518, 'mean_rewards': -21.9258, 'mean_steps': 28.2522}, {'alpha': 0.10654442249405492, 'gamma': 0.9842975077898486, 'epsilon_tau': 0.2751659819838368, 'mean_rewards': -22.5592, 'mean_steps': 29.1026}, {'alpha': 0.1429417302909503, 'gamma': 0.9155380736954783, 'epsilon_tau': 0.22742457505545655, 'mean_rewards': -25.136, 'mean_steps': 31.1758}]\n",
            "{'alpha': 0.5889695809039539, 'gamma': 0.976984590744896, 'epsilon_tau': 0.2921866494316016, 'mean_rewards': -21.3412, 'mean_steps': 27.033}\n",
            "\n",
            "Best Hyperparameters: {'alpha': 0.5889695809039539, 'gamma': 0.976984590744896, 'epsilon_tau': 0.2921866494316016}\n",
            "Best Mean Rewards: -21.3412\n",
            "Best Mean Steps: 27.033\n",
            "\n",
            "Generation 2\n",
            "Experiment: 1\n"
          ]
        },
        {
          "name": "stderr",
          "output_type": "stream",
          "text": [
            "100%|██████████| 5000/5000 [00:13<00:00, 383.31it/s]\n"
          ]
        },
        {
          "name": "stdout",
          "output_type": "stream",
          "text": [
            "28.4364\n",
            "Experiment: 1\n"
          ]
        },
        {
          "name": "stderr",
          "output_type": "stream",
          "text": [
            "100%|██████████| 5000/5000 [00:12<00:00, 411.13it/s]\n"
          ]
        },
        {
          "name": "stdout",
          "output_type": "stream",
          "text": [
            "27.1878\n",
            "Experiment: 1\n"
          ]
        },
        {
          "name": "stderr",
          "output_type": "stream",
          "text": [
            "100%|██████████| 5000/5000 [00:13<00:00, 360.53it/s]\n"
          ]
        },
        {
          "name": "stdout",
          "output_type": "stream",
          "text": [
            "30.3728\n",
            "Experiment: 1\n"
          ]
        },
        {
          "name": "stderr",
          "output_type": "stream",
          "text": [
            "100%|██████████| 5000/5000 [00:13<00:00, 375.49it/s]\n"
          ]
        },
        {
          "name": "stdout",
          "output_type": "stream",
          "text": [
            "29.3324\n",
            "Experiment: 1\n"
          ]
        },
        {
          "name": "stderr",
          "output_type": "stream",
          "text": [
            "100%|██████████| 5000/5000 [00:14<00:00, 335.47it/s]\n"
          ]
        },
        {
          "name": "stdout",
          "output_type": "stream",
          "text": [
            "33.0334\n",
            "Experiment: 1\n"
          ]
        },
        {
          "name": "stderr",
          "output_type": "stream",
          "text": [
            "100%|██████████| 5000/5000 [00:12<00:00, 407.33it/s]\n"
          ]
        },
        {
          "name": "stdout",
          "output_type": "stream",
          "text": [
            "27.747\n",
            "Experiment: 1\n"
          ]
        },
        {
          "name": "stderr",
          "output_type": "stream",
          "text": [
            "100%|██████████| 5000/5000 [00:12<00:00, 392.14it/s]\n"
          ]
        },
        {
          "name": "stdout",
          "output_type": "stream",
          "text": [
            "28.3696\n",
            "Experiment: 1\n"
          ]
        },
        {
          "name": "stderr",
          "output_type": "stream",
          "text": [
            "100%|██████████| 5000/5000 [00:13<00:00, 377.66it/s]\n"
          ]
        },
        {
          "name": "stdout",
          "output_type": "stream",
          "text": [
            "28.7032\n",
            "Experiment: 1\n"
          ]
        },
        {
          "name": "stderr",
          "output_type": "stream",
          "text": [
            "100%|██████████| 5000/5000 [00:13<00:00, 374.76it/s]\n"
          ]
        },
        {
          "name": "stdout",
          "output_type": "stream",
          "text": [
            "30.9148\n",
            "Experiment: 1\n"
          ]
        },
        {
          "name": "stderr",
          "output_type": "stream",
          "text": [
            "100%|██████████| 5000/5000 [00:12<00:00, 404.44it/s]\n"
          ]
        },
        {
          "name": "stdout",
          "output_type": "stream",
          "text": [
            "27.956\n",
            "Experiment: 1\n"
          ]
        },
        {
          "name": "stderr",
          "output_type": "stream",
          "text": [
            "100%|██████████| 5000/5000 [00:13<00:00, 381.89it/s]\n"
          ]
        },
        {
          "name": "stdout",
          "output_type": "stream",
          "text": [
            "29.081\n",
            "Experiment: 1\n"
          ]
        },
        {
          "name": "stderr",
          "output_type": "stream",
          "text": [
            "100%|██████████| 5000/5000 [00:13<00:00, 376.84it/s]\n"
          ]
        },
        {
          "name": "stdout",
          "output_type": "stream",
          "text": [
            "29.6446\n",
            "Experiment: 1\n"
          ]
        },
        {
          "name": "stderr",
          "output_type": "stream",
          "text": [
            "100%|██████████| 5000/5000 [00:20<00:00, 242.88it/s]\n"
          ]
        },
        {
          "name": "stdout",
          "output_type": "stream",
          "text": [
            "45.6052\n",
            "Experiment: 1\n"
          ]
        },
        {
          "name": "stderr",
          "output_type": "stream",
          "text": [
            "100%|██████████| 5000/5000 [00:22<00:00, 221.15it/s]\n"
          ]
        },
        {
          "name": "stdout",
          "output_type": "stream",
          "text": [
            "49.2192\n",
            "Experiment: 1\n"
          ]
        },
        {
          "name": "stderr",
          "output_type": "stream",
          "text": [
            "100%|██████████| 5000/5000 [00:17<00:00, 293.27it/s]\n"
          ]
        },
        {
          "name": "stdout",
          "output_type": "stream",
          "text": [
            "37.2286\n",
            "[{'alpha': 0.23076706806487618, 'gamma': 0.917237187916716, 'epsilon_tau': 0.08412883577744186, 'mean_rewards': -20.4144, 'mean_steps': 27.956}, {'alpha': 0.23076706806487618, 'gamma': 0.917237187916716, 'epsilon_tau': 0.08412883577744186, 'mean_rewards': -21.4648, 'mean_steps': 27.1878}, {'alpha': 0.5889695809039539, 'gamma': 0.976984590744896, 'epsilon_tau': 0.2921866494316016, 'mean_rewards': -21.2012, 'mean_steps': 28.4364}, {'alpha': 0.5889695809039539, 'gamma': 0.976984590744896, 'epsilon_tau': 0.2921866494316016, 'mean_rewards': -21.5548, 'mean_steps': 28.7032}, {'alpha': 0.5889695809039539, 'gamma': 0.9842975077898486, 'epsilon_tau': 0.2921866494316016, 'mean_rewards': -22.6956, 'mean_steps': 27.747}]\n",
            "{'alpha': 0.23076706806487618, 'gamma': 0.917237187916716, 'epsilon_tau': 0.08412883577744186, 'mean_rewards': -20.4144, 'mean_steps': 27.956}\n",
            "\n",
            "Best Hyperparameters: {'alpha': 0.23076706806487618, 'gamma': 0.917237187916716, 'epsilon_tau': 0.08412883577744186}\n",
            "Best Mean Rewards: -20.4144\n",
            "Best Mean Steps: 27.956\n",
            "\n",
            "Generation 3\n",
            "Experiment: 1\n"
          ]
        },
        {
          "name": "stderr",
          "output_type": "stream",
          "text": [
            "100%|██████████| 5000/5000 [00:12<00:00, 415.35it/s]\n"
          ]
        },
        {
          "name": "stdout",
          "output_type": "stream",
          "text": [
            "26.705\n",
            "Experiment: 1\n"
          ]
        },
        {
          "name": "stderr",
          "output_type": "stream",
          "text": [
            "100%|██████████| 5000/5000 [00:12<00:00, 404.31it/s]\n"
          ]
        },
        {
          "name": "stdout",
          "output_type": "stream",
          "text": [
            "27.4682\n",
            "Experiment: 1\n"
          ]
        },
        {
          "name": "stderr",
          "output_type": "stream",
          "text": [
            "100%|██████████| 5000/5000 [00:12<00:00, 411.31it/s]\n"
          ]
        },
        {
          "name": "stdout",
          "output_type": "stream",
          "text": [
            "26.469\n",
            "Experiment: 1\n"
          ]
        },
        {
          "name": "stderr",
          "output_type": "stream",
          "text": [
            "100%|██████████| 5000/5000 [00:13<00:00, 381.76it/s]\n"
          ]
        },
        {
          "name": "stdout",
          "output_type": "stream",
          "text": [
            "28.2284\n",
            "Experiment: 1\n"
          ]
        },
        {
          "name": "stderr",
          "output_type": "stream",
          "text": [
            "100%|██████████| 5000/5000 [00:13<00:00, 367.47it/s]\n"
          ]
        },
        {
          "name": "stdout",
          "output_type": "stream",
          "text": [
            "28.3252\n",
            "Experiment: 1\n"
          ]
        },
        {
          "name": "stderr",
          "output_type": "stream",
          "text": [
            "100%|██████████| 5000/5000 [00:18<00:00, 270.02it/s]\n"
          ]
        },
        {
          "name": "stdout",
          "output_type": "stream",
          "text": [
            "38.2988\n",
            "Experiment: 1\n"
          ]
        },
        {
          "name": "stderr",
          "output_type": "stream",
          "text": [
            "100%|██████████| 5000/5000 [00:12<00:00, 394.82it/s]\n"
          ]
        },
        {
          "name": "stdout",
          "output_type": "stream",
          "text": [
            "28.525\n",
            "Experiment: 1\n"
          ]
        },
        {
          "name": "stderr",
          "output_type": "stream",
          "text": [
            "100%|██████████| 5000/5000 [00:13<00:00, 368.71it/s]\n"
          ]
        },
        {
          "name": "stdout",
          "output_type": "stream",
          "text": [
            "28.341\n",
            "Experiment: 1\n"
          ]
        },
        {
          "name": "stderr",
          "output_type": "stream",
          "text": [
            "100%|██████████| 5000/5000 [00:16<00:00, 298.52it/s]\n"
          ]
        },
        {
          "name": "stdout",
          "output_type": "stream",
          "text": [
            "35.656\n",
            "Experiment: 1\n"
          ]
        },
        {
          "name": "stderr",
          "output_type": "stream",
          "text": [
            "100%|██████████| 5000/5000 [00:14<00:00, 356.47it/s]\n"
          ]
        },
        {
          "name": "stdout",
          "output_type": "stream",
          "text": [
            "32.1874\n",
            "Experiment: 1\n"
          ]
        },
        {
          "name": "stderr",
          "output_type": "stream",
          "text": [
            "100%|██████████| 5000/5000 [00:12<00:00, 403.67it/s]\n"
          ]
        },
        {
          "name": "stdout",
          "output_type": "stream",
          "text": [
            "27.3094\n",
            "Experiment: 1\n"
          ]
        },
        {
          "name": "stderr",
          "output_type": "stream",
          "text": [
            "100%|██████████| 5000/5000 [00:12<00:00, 413.08it/s]\n"
          ]
        },
        {
          "name": "stdout",
          "output_type": "stream",
          "text": [
            "26.6438\n",
            "Experiment: 1\n"
          ]
        },
        {
          "name": "stderr",
          "output_type": "stream",
          "text": [
            "100%|██████████| 5000/5000 [00:37<00:00, 133.83it/s]\n"
          ]
        },
        {
          "name": "stdout",
          "output_type": "stream",
          "text": [
            "83.0874\n",
            "Experiment: 1\n"
          ]
        },
        {
          "name": "stderr",
          "output_type": "stream",
          "text": [
            "100%|██████████| 5000/5000 [00:12<00:00, 390.43it/s]\n"
          ]
        },
        {
          "name": "stdout",
          "output_type": "stream",
          "text": [
            "27.1616\n",
            "Experiment: 1\n"
          ]
        },
        {
          "name": "stderr",
          "output_type": "stream",
          "text": [
            "100%|██████████| 5000/5000 [00:12<00:00, 413.25it/s]\n"
          ]
        },
        {
          "name": "stdout",
          "output_type": "stream",
          "text": [
            "26.9394\n",
            "[{'alpha': 0.5889695809039539, 'gamma': 0.976984590744896, 'epsilon_tau': 0.2921866494316016, 'mean_rewards': -20.9992, 'mean_steps': 26.469}, {'alpha': 0.5889695809039539, 'gamma': 0.9842975077898486, 'epsilon_tau': 0.1043733059559325, 'mean_rewards': -20.9876, 'mean_steps': 26.6438}, {'alpha': 0.23076706806487618, 'gamma': 0.917237187916716, 'epsilon_tau': 0.08412883577744186, 'mean_rewards': -21.1476, 'mean_steps': 26.705}, {'alpha': 0.5889695809039539, 'gamma': 0.976984590744896, 'epsilon_tau': 0.08412883577744186, 'mean_rewards': -20.961, 'mean_steps': 26.9394}, {'alpha': 0.23076706806487618, 'gamma': 0.917237187916716, 'epsilon_tau': 0.08412883577744186, 'mean_rewards': -20.7336, 'mean_steps': 27.4682}]\n",
            "{'alpha': 0.5889695809039539, 'gamma': 0.976984590744896, 'epsilon_tau': 0.2921866494316016, 'mean_rewards': -20.9992, 'mean_steps': 26.469}\n",
            "\n",
            "Best Hyperparameters: {'alpha': 0.5889695809039539, 'gamma': 0.976984590744896, 'epsilon_tau': 0.2921866494316016}\n",
            "Best Mean Rewards: -20.9992\n",
            "Best Mean Steps: 26.469\n",
            "\n",
            "Generation 4\n",
            "Experiment: 1\n"
          ]
        },
        {
          "name": "stderr",
          "output_type": "stream",
          "text": [
            "100%|██████████| 5000/5000 [00:12<00:00, 406.69it/s]\n"
          ]
        },
        {
          "name": "stdout",
          "output_type": "stream",
          "text": [
            "27.0404\n",
            "Experiment: 1\n"
          ]
        },
        {
          "name": "stderr",
          "output_type": "stream",
          "text": [
            "100%|██████████| 5000/5000 [00:11<00:00, 419.08it/s]\n"
          ]
        },
        {
          "name": "stdout",
          "output_type": "stream",
          "text": [
            "27.2354\n",
            "Experiment: 1\n"
          ]
        },
        {
          "name": "stderr",
          "output_type": "stream",
          "text": [
            "100%|██████████| 5000/5000 [00:12<00:00, 393.93it/s]\n"
          ]
        },
        {
          "name": "stdout",
          "output_type": "stream",
          "text": [
            "28.4484\n",
            "Experiment: 1\n"
          ]
        },
        {
          "name": "stderr",
          "output_type": "stream",
          "text": [
            "100%|██████████| 5000/5000 [00:11<00:00, 421.40it/s]\n"
          ]
        },
        {
          "name": "stdout",
          "output_type": "stream",
          "text": [
            "27.5782\n",
            "Experiment: 1\n"
          ]
        },
        {
          "name": "stderr",
          "output_type": "stream",
          "text": [
            "100%|██████████| 5000/5000 [00:13<00:00, 383.91it/s]\n"
          ]
        },
        {
          "name": "stdout",
          "output_type": "stream",
          "text": [
            "27.2722\n",
            "Experiment: 1\n"
          ]
        },
        {
          "name": "stderr",
          "output_type": "stream",
          "text": [
            "100%|██████████| 5000/5000 [00:34<00:00, 142.90it/s]\n"
          ]
        },
        {
          "name": "stdout",
          "output_type": "stream",
          "text": [
            "78.3156\n",
            "Experiment: 1\n"
          ]
        },
        {
          "name": "stderr",
          "output_type": "stream",
          "text": [
            "100%|██████████| 5000/5000 [00:15<00:00, 322.74it/s]\n"
          ]
        },
        {
          "name": "stdout",
          "output_type": "stream",
          "text": [
            "32.7054\n",
            "Experiment: 1\n"
          ]
        },
        {
          "name": "stderr",
          "output_type": "stream",
          "text": [
            "100%|██████████| 5000/5000 [00:22<00:00, 217.47it/s]\n"
          ]
        },
        {
          "name": "stdout",
          "output_type": "stream",
          "text": [
            "49.4992\n",
            "Experiment: 1\n"
          ]
        },
        {
          "name": "stderr",
          "output_type": "stream",
          "text": [
            "100%|██████████| 5000/5000 [00:16<00:00, 309.23it/s]\n"
          ]
        },
        {
          "name": "stdout",
          "output_type": "stream",
          "text": [
            "34.5466\n",
            "Experiment: 1\n"
          ]
        },
        {
          "name": "stderr",
          "output_type": "stream",
          "text": [
            "100%|██████████| 5000/5000 [00:12<00:00, 397.12it/s]\n"
          ]
        },
        {
          "name": "stdout",
          "output_type": "stream",
          "text": [
            "27.4442\n",
            "Experiment: 1\n"
          ]
        },
        {
          "name": "stderr",
          "output_type": "stream",
          "text": [
            "100%|██████████| 5000/5000 [00:12<00:00, 399.12it/s]\n"
          ]
        },
        {
          "name": "stdout",
          "output_type": "stream",
          "text": [
            "27.8122\n",
            "Experiment: 1\n"
          ]
        },
        {
          "name": "stderr",
          "output_type": "stream",
          "text": [
            "100%|██████████| 5000/5000 [00:11<00:00, 423.25it/s]\n"
          ]
        },
        {
          "name": "stdout",
          "output_type": "stream",
          "text": [
            "26.4224\n",
            "Experiment: 1\n"
          ]
        },
        {
          "name": "stderr",
          "output_type": "stream",
          "text": [
            "100%|██████████| 5000/5000 [00:12<00:00, 415.82it/s]\n"
          ]
        },
        {
          "name": "stdout",
          "output_type": "stream",
          "text": [
            "26.575\n",
            "Experiment: 1\n"
          ]
        },
        {
          "name": "stderr",
          "output_type": "stream",
          "text": [
            "100%|██████████| 5000/5000 [00:30<00:00, 164.62it/s]\n"
          ]
        },
        {
          "name": "stdout",
          "output_type": "stream",
          "text": [
            "68.793\n",
            "Experiment: 1\n"
          ]
        },
        {
          "name": "stderr",
          "output_type": "stream",
          "text": [
            "100%|██████████| 5000/5000 [00:17<00:00, 293.41it/s]\n"
          ]
        },
        {
          "name": "stdout",
          "output_type": "stream",
          "text": [
            "38.3262\n",
            "[{'alpha': 0.5889695809039539, 'gamma': 0.9842975077898486, 'epsilon_tau': 0.08368133263797044, 'mean_rewards': -21.4294, 'mean_steps': 26.4224}, {'alpha': 0.5889695809039539, 'gamma': 0.976984590744896, 'epsilon_tau': 0.08412883577744186, 'mean_rewards': -21.3196, 'mean_steps': 26.575}, {'alpha': 0.5889695809039539, 'gamma': 0.9842975077898486, 'epsilon_tau': 0.1043733059559325, 'mean_rewards': -21.2458, 'mean_steps': 27.2354}, {'alpha': 0.23076706806487618, 'gamma': 0.917237187916716, 'epsilon_tau': 0.08412883577744186, 'mean_rewards': -21.3368, 'mean_steps': 27.2722}, {'alpha': 0.5889695809039539, 'gamma': 0.976984590744896, 'epsilon_tau': 0.2921866494316016, 'mean_rewards': -21.6092, 'mean_steps': 27.0404}]\n",
            "{'alpha': 0.5889695809039539, 'gamma': 0.9842975077898486, 'epsilon_tau': 0.08368133263797044, 'mean_rewards': -21.4294, 'mean_steps': 26.4224}\n",
            "\n",
            "Best Hyperparameters: {'alpha': 0.5889695809039539, 'gamma': 0.9842975077898486, 'epsilon_tau': 0.08368133263797044}\n",
            "Best Mean Rewards: -21.4294\n",
            "Best Mean Steps: 26.4224\n",
            "\n",
            "Generation 5\n",
            "Experiment: 1\n"
          ]
        },
        {
          "name": "stderr",
          "output_type": "stream",
          "text": [
            "100%|██████████| 5000/5000 [00:13<00:00, 377.65it/s]\n"
          ]
        },
        {
          "name": "stdout",
          "output_type": "stream",
          "text": [
            "29.2756\n",
            "Experiment: 1\n"
          ]
        },
        {
          "name": "stderr",
          "output_type": "stream",
          "text": [
            "100%|██████████| 5000/5000 [00:12<00:00, 395.66it/s]\n"
          ]
        },
        {
          "name": "stdout",
          "output_type": "stream",
          "text": [
            "27.5928\n",
            "Experiment: 1\n"
          ]
        },
        {
          "name": "stderr",
          "output_type": "stream",
          "text": [
            "100%|██████████| 5000/5000 [00:12<00:00, 405.24it/s]\n"
          ]
        },
        {
          "name": "stdout",
          "output_type": "stream",
          "text": [
            "27.3366\n",
            "Experiment: 1\n"
          ]
        },
        {
          "name": "stderr",
          "output_type": "stream",
          "text": [
            "100%|██████████| 5000/5000 [00:12<00:00, 387.61it/s]\n"
          ]
        },
        {
          "name": "stdout",
          "output_type": "stream",
          "text": [
            "28.5566\n",
            "Experiment: 1\n"
          ]
        },
        {
          "name": "stderr",
          "output_type": "stream",
          "text": [
            "100%|██████████| 5000/5000 [00:13<00:00, 377.45it/s]\n"
          ]
        },
        {
          "name": "stdout",
          "output_type": "stream",
          "text": [
            "28.3224\n",
            "Experiment: 1\n"
          ]
        },
        {
          "name": "stderr",
          "output_type": "stream",
          "text": [
            "100%|██████████| 5000/5000 [00:32<00:00, 154.42it/s]\n"
          ]
        },
        {
          "name": "stdout",
          "output_type": "stream",
          "text": [
            "74.2354\n",
            "Experiment: 1\n"
          ]
        },
        {
          "name": "stderr",
          "output_type": "stream",
          "text": [
            "100%|██████████| 5000/5000 [00:12<00:00, 411.98it/s]\n"
          ]
        },
        {
          "name": "stdout",
          "output_type": "stream",
          "text": [
            "27.394\n",
            "Experiment: 1\n"
          ]
        },
        {
          "name": "stderr",
          "output_type": "stream",
          "text": [
            "100%|██████████| 5000/5000 [00:12<00:00, 394.89it/s]\n"
          ]
        },
        {
          "name": "stdout",
          "output_type": "stream",
          "text": [
            "28.2132\n",
            "Experiment: 1\n"
          ]
        },
        {
          "name": "stderr",
          "output_type": "stream",
          "text": [
            "100%|██████████| 5000/5000 [00:11<00:00, 424.86it/s]\n"
          ]
        },
        {
          "name": "stdout",
          "output_type": "stream",
          "text": [
            "26.3916\n",
            "Experiment: 1\n"
          ]
        },
        {
          "name": "stderr",
          "output_type": "stream",
          "text": [
            "100%|██████████| 5000/5000 [00:23<00:00, 211.13it/s]\n"
          ]
        },
        {
          "name": "stdout",
          "output_type": "stream",
          "text": [
            "51.6466\n",
            "Experiment: 1\n"
          ]
        },
        {
          "name": "stderr",
          "output_type": "stream",
          "text": [
            "100%|██████████| 5000/5000 [00:11<00:00, 420.32it/s]\n"
          ]
        },
        {
          "name": "stdout",
          "output_type": "stream",
          "text": [
            "25.868\n",
            "Experiment: 1\n"
          ]
        },
        {
          "name": "stderr",
          "output_type": "stream",
          "text": [
            "100%|██████████| 5000/5000 [00:35<00:00, 142.76it/s]\n"
          ]
        },
        {
          "name": "stdout",
          "output_type": "stream",
          "text": [
            "78.5494\n",
            "Experiment: 1\n"
          ]
        },
        {
          "name": "stderr",
          "output_type": "stream",
          "text": [
            "100%|██████████| 5000/5000 [00:17<00:00, 291.00it/s]\n"
          ]
        },
        {
          "name": "stdout",
          "output_type": "stream",
          "text": [
            "37.0826\n",
            "Experiment: 1\n"
          ]
        },
        {
          "name": "stderr",
          "output_type": "stream",
          "text": [
            "100%|██████████| 5000/5000 [00:12<00:00, 387.85it/s]\n"
          ]
        },
        {
          "name": "stdout",
          "output_type": "stream",
          "text": [
            "29.0502\n",
            "Experiment: 1\n"
          ]
        },
        {
          "name": "stderr",
          "output_type": "stream",
          "text": [
            "100%|██████████| 5000/5000 [00:12<00:00, 406.99it/s]\n"
          ]
        },
        {
          "name": "stdout",
          "output_type": "stream",
          "text": [
            "26.5616\n",
            "[{'alpha': 0.5889695809039539, 'gamma': 0.9842975077898486, 'epsilon_tau': 0.11619440897560725, 'mean_rewards': -20.1202, 'mean_steps': 26.3916}, {'alpha': 0.5889695809039539, 'gamma': 0.976984590744896, 'epsilon_tau': 0.004097758344983166, 'mean_rewards': -21.23, 'mean_steps': 25.868}, {'alpha': 0.5889695809039539, 'gamma': 0.976984590744896, 'epsilon_tau': 0.2921866494316016, 'mean_rewards': -22.0018, 'mean_steps': 26.5616}, {'alpha': 0.5889695809039539, 'gamma': 0.976984590744896, 'epsilon_tau': 0.08412883577744186, 'mean_rewards': -21.4082, 'mean_steps': 27.5928}, {'alpha': 0.23076706806487618, 'gamma': 0.917237187916716, 'epsilon_tau': 0.08412883577744186, 'mean_rewards': -20.532, 'mean_steps': 28.5566}]\n",
            "{'alpha': 0.5889695809039539, 'gamma': 0.9842975077898486, 'epsilon_tau': 0.11619440897560725, 'mean_rewards': -20.1202, 'mean_steps': 26.3916}\n",
            "\n",
            "Best Hyperparameters: {'alpha': 0.5889695809039539, 'gamma': 0.9842975077898486, 'epsilon_tau': 0.11619440897560725}\n",
            "Best Mean Rewards: -20.1202\n",
            "Best Mean Steps: 26.3916\n",
            "\n",
            "Generation 6\n",
            "Experiment: 1\n"
          ]
        },
        {
          "name": "stderr",
          "output_type": "stream",
          "text": [
            "100%|██████████| 5000/5000 [00:12<00:00, 410.48it/s]\n"
          ]
        },
        {
          "name": "stdout",
          "output_type": "stream",
          "text": [
            "26.8734\n",
            "Experiment: 1\n"
          ]
        },
        {
          "name": "stderr",
          "output_type": "stream",
          "text": [
            "100%|██████████| 5000/5000 [00:12<00:00, 402.61it/s]\n"
          ]
        },
        {
          "name": "stdout",
          "output_type": "stream",
          "text": [
            "27.3826\n",
            "Experiment: 1\n"
          ]
        },
        {
          "name": "stderr",
          "output_type": "stream",
          "text": [
            "100%|██████████| 5000/5000 [00:12<00:00, 401.13it/s]\n"
          ]
        },
        {
          "name": "stdout",
          "output_type": "stream",
          "text": [
            "27.8444\n",
            "Experiment: 1\n"
          ]
        },
        {
          "name": "stderr",
          "output_type": "stream",
          "text": [
            "100%|██████████| 5000/5000 [00:12<00:00, 386.11it/s]\n"
          ]
        },
        {
          "name": "stdout",
          "output_type": "stream",
          "text": [
            "28.6158\n",
            "Experiment: 1\n"
          ]
        },
        {
          "name": "stderr",
          "output_type": "stream",
          "text": [
            "100%|██████████| 5000/5000 [00:13<00:00, 377.38it/s]\n"
          ]
        },
        {
          "name": "stdout",
          "output_type": "stream",
          "text": [
            "28.6932\n",
            "Experiment: 1\n"
          ]
        },
        {
          "name": "stderr",
          "output_type": "stream",
          "text": [
            "100%|██████████| 5000/5000 [00:13<00:00, 372.42it/s]\n"
          ]
        },
        {
          "name": "stdout",
          "output_type": "stream",
          "text": [
            "30.0564\n",
            "Experiment: 1\n"
          ]
        },
        {
          "name": "stderr",
          "output_type": "stream",
          "text": [
            "100%|██████████| 5000/5000 [00:12<00:00, 391.49it/s]\n"
          ]
        },
        {
          "name": "stdout",
          "output_type": "stream",
          "text": [
            "27.6224\n",
            "Experiment: 1\n"
          ]
        },
        {
          "name": "stderr",
          "output_type": "stream",
          "text": [
            "100%|██████████| 5000/5000 [00:31<00:00, 161.09it/s]\n"
          ]
        },
        {
          "name": "stdout",
          "output_type": "stream",
          "text": [
            "69.4244\n",
            "Experiment: 1\n"
          ]
        },
        {
          "name": "stderr",
          "output_type": "stream",
          "text": [
            "100%|██████████| 5000/5000 [00:20<00:00, 244.49it/s]\n"
          ]
        },
        {
          "name": "stdout",
          "output_type": "stream",
          "text": [
            "43.5494\n",
            "Experiment: 1\n"
          ]
        },
        {
          "name": "stderr",
          "output_type": "stream",
          "text": [
            "100%|██████████| 5000/5000 [00:13<00:00, 375.29it/s]\n"
          ]
        },
        {
          "name": "stdout",
          "output_type": "stream",
          "text": [
            "28.897\n",
            "Experiment: 1\n"
          ]
        },
        {
          "name": "stderr",
          "output_type": "stream",
          "text": [
            "100%|██████████| 5000/5000 [00:11<00:00, 425.82it/s]\n"
          ]
        },
        {
          "name": "stdout",
          "output_type": "stream",
          "text": [
            "26.4326\n",
            "Experiment: 1\n"
          ]
        },
        {
          "name": "stderr",
          "output_type": "stream",
          "text": [
            "100%|██████████| 5000/5000 [00:12<00:00, 405.94it/s]\n"
          ]
        },
        {
          "name": "stdout",
          "output_type": "stream",
          "text": [
            "26.7924\n",
            "Experiment: 1\n"
          ]
        },
        {
          "name": "stderr",
          "output_type": "stream",
          "text": [
            "100%|██████████| 5000/5000 [00:38<00:00, 128.95it/s]\n"
          ]
        },
        {
          "name": "stdout",
          "output_type": "stream",
          "text": [
            "86.9322\n",
            "Experiment: 1\n"
          ]
        },
        {
          "name": "stderr",
          "output_type": "stream",
          "text": [
            "100%|██████████| 5000/5000 [00:13<00:00, 382.20it/s]\n"
          ]
        },
        {
          "name": "stdout",
          "output_type": "stream",
          "text": [
            "28.8526\n",
            "Experiment: 1\n"
          ]
        },
        {
          "name": "stderr",
          "output_type": "stream",
          "text": [
            "100%|██████████| 5000/5000 [00:13<00:00, 362.48it/s]\n"
          ]
        },
        {
          "name": "stdout",
          "output_type": "stream",
          "text": [
            "30.0522\n",
            "[{'alpha': 0.5889695809039539, 'gamma': 0.976984590744896, 'epsilon_tau': 0.004097758344983166, 'mean_rewards': -20.1842, 'mean_steps': 27.3826}, {'alpha': 0.5889695809039539, 'gamma': 0.9842975077898486, 'epsilon_tau': 0.08412883577744186, 'mean_rewards': -21.061, 'mean_steps': 26.7924}, {'alpha': 0.5889695809039539, 'gamma': 0.9842975077898486, 'epsilon_tau': 0.11619440897560725, 'mean_rewards': -21.1204, 'mean_steps': 26.8734}, {'alpha': 0.5889695809039539, 'gamma': 0.976984590744896, 'epsilon_tau': 0.08412883577744186, 'mean_rewards': -21.6582, 'mean_steps': 26.4326}, {'alpha': 0.23076706806487618, 'gamma': 0.8251607797548279, 'epsilon_tau': 0.004097758344983166, 'mean_rewards': -21.2984, 'mean_steps': 27.6224}]\n",
            "{'alpha': 0.5889695809039539, 'gamma': 0.976984590744896, 'epsilon_tau': 0.004097758344983166, 'mean_rewards': -20.1842, 'mean_steps': 27.3826}\n",
            "\n",
            "Best Hyperparameters: {'alpha': 0.5889695809039539, 'gamma': 0.976984590744896, 'epsilon_tau': 0.004097758344983166}\n",
            "Best Mean Rewards: -20.1842\n",
            "Best Mean Steps: 27.3826\n",
            "\n",
            "Generation 7\n",
            "Experiment: 1\n"
          ]
        },
        {
          "name": "stderr",
          "output_type": "stream",
          "text": [
            "100%|██████████| 5000/5000 [00:12<00:00, 408.11it/s]\n"
          ]
        },
        {
          "name": "stdout",
          "output_type": "stream",
          "text": [
            "27.0584\n",
            "Experiment: 1\n"
          ]
        },
        {
          "name": "stderr",
          "output_type": "stream",
          "text": [
            "100%|██████████| 5000/5000 [00:12<00:00, 413.13it/s]\n"
          ]
        },
        {
          "name": "stdout",
          "output_type": "stream",
          "text": [
            "26.3394\n",
            "Experiment: 1\n"
          ]
        },
        {
          "name": "stderr",
          "output_type": "stream",
          "text": [
            "100%|██████████| 5000/5000 [00:11<00:00, 424.05it/s]\n"
          ]
        },
        {
          "name": "stdout",
          "output_type": "stream",
          "text": [
            "25.8506\n",
            "Experiment: 1\n"
          ]
        },
        {
          "name": "stderr",
          "output_type": "stream",
          "text": [
            "100%|██████████| 5000/5000 [00:13<00:00, 380.03it/s]\n"
          ]
        },
        {
          "name": "stdout",
          "output_type": "stream",
          "text": [
            "28.5434\n",
            "Experiment: 1\n"
          ]
        },
        {
          "name": "stderr",
          "output_type": "stream",
          "text": [
            "100%|██████████| 5000/5000 [00:12<00:00, 387.82it/s]\n"
          ]
        },
        {
          "name": "stdout",
          "output_type": "stream",
          "text": [
            "27.6842\n",
            "Experiment: 1\n"
          ]
        },
        {
          "name": "stderr",
          "output_type": "stream",
          "text": [
            "100%|██████████| 5000/5000 [00:14<00:00, 348.41it/s]\n"
          ]
        },
        {
          "name": "stdout",
          "output_type": "stream",
          "text": [
            "32.2652\n",
            "Experiment: 1\n"
          ]
        },
        {
          "name": "stderr",
          "output_type": "stream",
          "text": [
            "100%|██████████| 5000/5000 [00:12<00:00, 401.41it/s]\n"
          ]
        },
        {
          "name": "stdout",
          "output_type": "stream",
          "text": [
            "27.0414\n",
            "Experiment: 1\n"
          ]
        },
        {
          "name": "stderr",
          "output_type": "stream",
          "text": [
            "100%|██████████| 5000/5000 [00:16<00:00, 309.68it/s]\n"
          ]
        },
        {
          "name": "stdout",
          "output_type": "stream",
          "text": [
            "35.5968\n",
            "Experiment: 1\n"
          ]
        },
        {
          "name": "stderr",
          "output_type": "stream",
          "text": [
            "100%|██████████| 5000/5000 [00:11<00:00, 418.47it/s]\n"
          ]
        },
        {
          "name": "stdout",
          "output_type": "stream",
          "text": [
            "26.6498\n",
            "Experiment: 1\n"
          ]
        },
        {
          "name": "stderr",
          "output_type": "stream",
          "text": [
            "100%|██████████| 5000/5000 [00:11<00:00, 416.80it/s]\n"
          ]
        },
        {
          "name": "stdout",
          "output_type": "stream",
          "text": [
            "26.5898\n",
            "Experiment: 1\n"
          ]
        },
        {
          "name": "stderr",
          "output_type": "stream",
          "text": [
            "100%|██████████| 5000/5000 [00:12<00:00, 415.83it/s]\n"
          ]
        },
        {
          "name": "stdout",
          "output_type": "stream",
          "text": [
            "26.8212\n",
            "Experiment: 1\n"
          ]
        },
        {
          "name": "stderr",
          "output_type": "stream",
          "text": [
            "100%|██████████| 5000/5000 [00:23<00:00, 212.91it/s]\n"
          ]
        },
        {
          "name": "stdout",
          "output_type": "stream",
          "text": [
            "53.7068\n",
            "Experiment: 1\n"
          ]
        },
        {
          "name": "stderr",
          "output_type": "stream",
          "text": [
            "100%|██████████| 5000/5000 [00:13<00:00, 383.66it/s]\n"
          ]
        },
        {
          "name": "stdout",
          "output_type": "stream",
          "text": [
            "28.1212\n",
            "Experiment: 1\n"
          ]
        },
        {
          "name": "stderr",
          "output_type": "stream",
          "text": [
            "100%|██████████| 5000/5000 [00:12<00:00, 396.53it/s]\n"
          ]
        },
        {
          "name": "stdout",
          "output_type": "stream",
          "text": [
            "27.5864\n",
            "Experiment: 1\n"
          ]
        },
        {
          "name": "stderr",
          "output_type": "stream",
          "text": [
            "100%|██████████| 5000/5000 [00:13<00:00, 357.29it/s]"
          ]
        },
        {
          "name": "stdout",
          "output_type": "stream",
          "text": [
            "30.157\n",
            "[{'alpha': 0.5889695809039539, 'gamma': 0.9842975077898486, 'epsilon_tau': 0.11619440897560725, 'mean_rewards': -20.435, 'mean_steps': 25.8506}, {'alpha': 0.5889695809039539, 'gamma': 0.9842975077898486, 'epsilon_tau': 0.08412883577744186, 'mean_rewards': -20.264, 'mean_steps': 26.3394}, {'alpha': 0.23076706806487618, 'gamma': 0.976984590744896, 'epsilon_tau': 0.15667983520926923, 'mean_rewards': -20.1902, 'mean_steps': 26.6498}, {'alpha': 0.6389914990281362, 'gamma': 0.976984590744896, 'epsilon_tau': 0.08412883577744186, 'mean_rewards': -20.7836, 'mean_steps': 26.8212}, {'alpha': 0.5889695809039539, 'gamma': 0.9842975077898486, 'epsilon_tau': 0.11619440897560725, 'mean_rewards': -21.2614, 'mean_steps': 26.5898}]\n",
            "{'alpha': 0.5889695809039539, 'gamma': 0.9842975077898486, 'epsilon_tau': 0.11619440897560725, 'mean_rewards': -20.435, 'mean_steps': 25.8506}\n",
            "\n",
            "Best Hyperparameters: {'alpha': 0.5889695809039539, 'gamma': 0.9842975077898486, 'epsilon_tau': 0.11619440897560725}\n",
            "Best Mean Rewards: -20.435\n",
            "Best Mean Steps: 25.8506\n"
          ]
        },
        {
          "name": "stderr",
          "output_type": "stream",
          "text": [
            "\n"
          ]
        }
      ],
      "source": [
        "best_hyperparameters, best_mean_rewards, best_mean_steps, d4 = genetic_algorithm(env4, qlearning_e, e_s=0)\n",
        "write_results_to_file(file_path, (best_hyperparameters, best_mean_rewards, best_mean_steps), \"Q-Learning_EpsilonGreedy_e4\")"
      ]
    }
  ],
  "metadata": {
    "colab": {
      "provenance": []
    },
    "kernelspec": {
      "display_name": "Python 3",
      "name": "python3"
    },
    "language_info": {
      "codemirror_mode": {
        "name": "ipython",
        "version": 3
      },
      "file_extension": ".py",
      "mimetype": "text/x-python",
      "name": "python",
      "nbconvert_exporter": "python",
      "pygments_lexer": "ipython3",
      "version": "3.10.11"
    }
  },
  "nbformat": 4,
  "nbformat_minor": 0
}
