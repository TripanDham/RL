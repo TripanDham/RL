{
 "cells": [
  {
   "cell_type": "code",
   "execution_count": 2,
   "metadata": {},
   "outputs": [
    {
     "name": "stdout",
     "output_type": "stream",
     "text": [
      "WARNING:tensorflow:From c:\\Users\\tripa\\AppData\\Local\\Programs\\Python\\Python310\\lib\\site-packages\\tf_keras\\src\\losses.py:2976: The name tf.losses.sparse_softmax_cross_entropy is deprecated. Please use tf.compat.v1.losses.sparse_softmax_cross_entropy instead.\n",
      "\n",
      "WARNING:tensorflow:From c:\\Users\\tripa\\AppData\\Local\\Programs\\Python\\Python310\\lib\\site-packages\\tensorflow_probability\\python\\internal\\backend\\numpy\\_utils.py:48: The name tf.logging.TaskLevelStatusMessage is deprecated. Please use tf.compat.v1.logging.TaskLevelStatusMessage instead.\n",
      "\n",
      "WARNING:tensorflow:From c:\\Users\\tripa\\AppData\\Local\\Programs\\Python\\Python310\\lib\\site-packages\\tensorflow_probability\\python\\internal\\backend\\numpy\\_utils.py:48: The name tf.control_flow_v2_enabled is deprecated. Please use tf.compat.v1.control_flow_v2_enabled instead.\n",
      "\n"
     ]
    }
   ],
   "source": [
    "'''\n",
    "A bunch of imports, you don't have to worry about these\n",
    "'''\n",
    "\n",
    "import numpy as np\n",
    "import random\n",
    "import torch\n",
    "import torch.nn as nn\n",
    "import torch.nn.functional as F\n",
    "from collections import namedtuple, deque\n",
    "import torch.optim as optim\n",
    "import datetime\n",
    "import gym\n",
    "from gym.wrappers.record_video import RecordVideo\n",
    "import glob\n",
    "import io\n",
    "import base64\n",
    "import matplotlib.pyplot as plt\n",
    "from IPython.display import HTML\n",
    "from pyvirtualdisplay import Display\n",
    "import tensorflow as tf\n",
    "from IPython import display as ipythondisplay\n",
    "from PIL import Image\n",
    "import tensorflow_probability as tfp\n",
    "import wandb\n"
   ]
  },
  {
   "cell_type": "code",
   "execution_count": 6,
   "metadata": {},
   "outputs": [
    {
     "name": "stdout",
     "output_type": "stream",
     "text": [
      "Create sweep with ID: et9o2o7a\n",
      "Sweep URL: https://wandb.ai/tripan-dham/dueling_mean_cartpole/sweeps/et9o2o7a\n"
     ]
    },
    {
     "name": "stderr",
     "output_type": "stream",
     "text": [
      "\u001b[34m\u001b[1mwandb\u001b[0m: Agent Starting Run: bhr5kx7i with config:\n",
      "\u001b[34m\u001b[1mwandb\u001b[0m: \tBATCH_SIZE: 64\n",
      "\u001b[34m\u001b[1mwandb\u001b[0m: \tBUFFER_SIZE: 100000\n",
      "\u001b[34m\u001b[1mwandb\u001b[0m: \tLR: 0.0039552992809681895\n",
      "\u001b[34m\u001b[1mwandb\u001b[0m: \tUPDATE_EVERY: 75\n",
      "Failed to detect the name of this notebook, you can set it manually with the WANDB_NOTEBOOK_NAME environment variable to enable code saving.\n",
      "\u001b[34m\u001b[1mwandb\u001b[0m: \u001b[33mWARNING\u001b[0m Ignored wandb.init() arg project when running a sweep.\n"
     ]
    },
    {
     "data": {
      "text/html": [
       "wandb version 0.16.6 is available!  To upgrade, please run:\n",
       " $ pip install wandb --upgrade"
      ],
      "text/plain": [
       "<IPython.core.display.HTML object>"
      ]
     },
     "metadata": {},
     "output_type": "display_data"
    },
    {
     "data": {
      "text/html": [
       "Tracking run with wandb version 0.16.5"
      ],
      "text/plain": [
       "<IPython.core.display.HTML object>"
      ]
     },
     "metadata": {},
     "output_type": "display_data"
    },
    {
     "data": {
      "text/html": [
       "Run data is saved locally in <code>C:\\Users\\tripa\\AppData\\Local\\Programs\\Microsoft VS Code\\wandb\\run-20240404_033041-bhr5kx7i</code>"
      ],
      "text/plain": [
       "<IPython.core.display.HTML object>"
      ]
     },
     "metadata": {},
     "output_type": "display_data"
    },
    {
     "data": {
      "text/html": [
       "Syncing run <strong><a href='https://wandb.ai/tripan-dham/dueling_mean_cartpole/runs/bhr5kx7i/workspace' target=\"_blank\">skilled-sweep-1</a></strong> to <a href='https://wandb.ai/tripan-dham/dueling_mean_cartpole' target=\"_blank\">Weights & Biases</a> (<a href='https://wandb.me/run' target=\"_blank\">docs</a>)<br/>Sweep page: <a href='https://wandb.ai/tripan-dham/dueling_mean_cartpole/sweeps/et9o2o7a' target=\"_blank\">https://wandb.ai/tripan-dham/dueling_mean_cartpole/sweeps/et9o2o7a</a>"
      ],
      "text/plain": [
       "<IPython.core.display.HTML object>"
      ]
     },
     "metadata": {},
     "output_type": "display_data"
    },
    {
     "data": {
      "text/html": [
       " View project at <a href='https://wandb.ai/tripan-dham/dueling_mean_cartpole' target=\"_blank\">https://wandb.ai/tripan-dham/dueling_mean_cartpole</a>"
      ],
      "text/plain": [
       "<IPython.core.display.HTML object>"
      ]
     },
     "metadata": {},
     "output_type": "display_data"
    },
    {
     "data": {
      "text/html": [
       " View sweep at <a href='https://wandb.ai/tripan-dham/dueling_mean_cartpole/sweeps/et9o2o7a' target=\"_blank\">https://wandb.ai/tripan-dham/dueling_mean_cartpole/sweeps/et9o2o7a</a>"
      ],
      "text/plain": [
       "<IPython.core.display.HTML object>"
      ]
     },
     "metadata": {},
     "output_type": "display_data"
    },
    {
     "data": {
      "text/html": [
       " View run at <a href='https://wandb.ai/tripan-dham/dueling_mean_cartpole/runs/bhr5kx7i/workspace' target=\"_blank\">https://wandb.ai/tripan-dham/dueling_mean_cartpole/runs/bhr5kx7i/workspace</a>"
      ],
      "text/plain": [
       "<IPython.core.display.HTML object>"
      ]
     },
     "metadata": {},
     "output_type": "display_data"
    },
    {
     "data": {
      "application/vnd.jupyter.widget-view+json": {
       "model_id": "fff136552944449e80f0c7911ea767d8",
       "version_major": 2,
       "version_minor": 0
      },
      "text/plain": [
       "VBox(children=(Label(value='0.001 MB of 0.005 MB uploaded\\r'), FloatProgress(value=0.22433962264150945, max=1.…"
      ]
     },
     "metadata": {},
     "output_type": "display_data"
    },
    {
     "data": {
      "text/html": [
       "<style>\n",
       "    table.wandb td:nth-child(1) { padding: 0 10px; text-align: left ; width: auto;} td:nth-child(2) {text-align: left ; width: 100%}\n",
       "    .wandb-row { display: flex; flex-direction: row; flex-wrap: wrap; justify-content: flex-start; width: 100% }\n",
       "    .wandb-col { display: flex; flex-direction: column; flex-basis: 100%; flex: 1; padding: 10px; }\n",
       "    </style>\n",
       "<div class=\"wandb-row\"><div class=\"wandb-col\"><h3>Run history:</h3><br/><table class=\"wandb\"><tr><td>regret</td><td>▁</td></tr></table><br/></div><div class=\"wandb-col\"><h3>Run summary:</h3><br/><table class=\"wandb\"><tr><td>regret</td><td>113341.56097</td></tr></table><br/></div></div>"
      ],
      "text/plain": [
       "<IPython.core.display.HTML object>"
      ]
     },
     "metadata": {},
     "output_type": "display_data"
    },
    {
     "data": {
      "text/html": [
       " View run <strong style=\"color:#cdcd00\">skilled-sweep-1</strong> at: <a href='https://wandb.ai/tripan-dham/dueling_mean_cartpole/runs/bhr5kx7i/workspace' target=\"_blank\">https://wandb.ai/tripan-dham/dueling_mean_cartpole/runs/bhr5kx7i/workspace</a><br/>Synced 4 W&B file(s), 0 media file(s), 0 artifact file(s) and 0 other file(s)"
      ],
      "text/plain": [
       "<IPython.core.display.HTML object>"
      ]
     },
     "metadata": {},
     "output_type": "display_data"
    },
    {
     "data": {
      "text/html": [
       "Find logs at: <code>.\\wandb\\run-20240404_033041-bhr5kx7i\\logs</code>"
      ],
      "text/plain": [
       "<IPython.core.display.HTML object>"
      ]
     },
     "metadata": {},
     "output_type": "display_data"
    },
    {
     "name": "stderr",
     "output_type": "stream",
     "text": [
      "\u001b[34m\u001b[1mwandb\u001b[0m: Agent Starting Run: 3ac873vq with config:\n",
      "\u001b[34m\u001b[1mwandb\u001b[0m: \tBATCH_SIZE: 256\n",
      "\u001b[34m\u001b[1mwandb\u001b[0m: \tBUFFER_SIZE: 100000\n",
      "\u001b[34m\u001b[1mwandb\u001b[0m: \tLR: 0.009992821911483842\n",
      "\u001b[34m\u001b[1mwandb\u001b[0m: \tUPDATE_EVERY: 100\n",
      "Failed to detect the name of this notebook, you can set it manually with the WANDB_NOTEBOOK_NAME environment variable to enable code saving.\n",
      "\u001b[34m\u001b[1mwandb\u001b[0m: \u001b[33mWARNING\u001b[0m Ignored wandb.init() arg project when running a sweep.\n"
     ]
    },
    {
     "data": {
      "text/html": [
       "wandb version 0.16.6 is available!  To upgrade, please run:\n",
       " $ pip install wandb --upgrade"
      ],
      "text/plain": [
       "<IPython.core.display.HTML object>"
      ]
     },
     "metadata": {},
     "output_type": "display_data"
    },
    {
     "data": {
      "text/html": [
       "Tracking run with wandb version 0.16.5"
      ],
      "text/plain": [
       "<IPython.core.display.HTML object>"
      ]
     },
     "metadata": {},
     "output_type": "display_data"
    },
    {
     "data": {
      "text/html": [
       "Run data is saved locally in <code>C:\\Users\\tripa\\AppData\\Local\\Programs\\Microsoft VS Code\\wandb\\run-20240404_033356-3ac873vq</code>"
      ],
      "text/plain": [
       "<IPython.core.display.HTML object>"
      ]
     },
     "metadata": {},
     "output_type": "display_data"
    },
    {
     "data": {
      "text/html": [
       "Syncing run <strong><a href='https://wandb.ai/tripan-dham/dueling_mean_cartpole/runs/3ac873vq/workspace' target=\"_blank\">noble-sweep-2</a></strong> to <a href='https://wandb.ai/tripan-dham/dueling_mean_cartpole' target=\"_blank\">Weights & Biases</a> (<a href='https://wandb.me/run' target=\"_blank\">docs</a>)<br/>Sweep page: <a href='https://wandb.ai/tripan-dham/dueling_mean_cartpole/sweeps/et9o2o7a' target=\"_blank\">https://wandb.ai/tripan-dham/dueling_mean_cartpole/sweeps/et9o2o7a</a>"
      ],
      "text/plain": [
       "<IPython.core.display.HTML object>"
      ]
     },
     "metadata": {},
     "output_type": "display_data"
    },
    {
     "data": {
      "text/html": [
       " View project at <a href='https://wandb.ai/tripan-dham/dueling_mean_cartpole' target=\"_blank\">https://wandb.ai/tripan-dham/dueling_mean_cartpole</a>"
      ],
      "text/plain": [
       "<IPython.core.display.HTML object>"
      ]
     },
     "metadata": {},
     "output_type": "display_data"
    },
    {
     "data": {
      "text/html": [
       " View sweep at <a href='https://wandb.ai/tripan-dham/dueling_mean_cartpole/sweeps/et9o2o7a' target=\"_blank\">https://wandb.ai/tripan-dham/dueling_mean_cartpole/sweeps/et9o2o7a</a>"
      ],
      "text/plain": [
       "<IPython.core.display.HTML object>"
      ]
     },
     "metadata": {},
     "output_type": "display_data"
    },
    {
     "data": {
      "text/html": [
       " View run at <a href='https://wandb.ai/tripan-dham/dueling_mean_cartpole/runs/3ac873vq/workspace' target=\"_blank\">https://wandb.ai/tripan-dham/dueling_mean_cartpole/runs/3ac873vq/workspace</a>"
      ],
      "text/plain": [
       "<IPython.core.display.HTML object>"
      ]
     },
     "metadata": {},
     "output_type": "display_data"
    },
    {
     "data": {
      "application/vnd.jupyter.widget-view+json": {
       "model_id": "17c1ff79d77a48e290edca1be7bdda90",
       "version_major": 2,
       "version_minor": 0
      },
      "text/plain": [
       "VBox(children=(Label(value='0.001 MB of 0.005 MB uploaded\\r'), FloatProgress(value=0.23015873015873015, max=1.…"
      ]
     },
     "metadata": {},
     "output_type": "display_data"
    },
    {
     "data": {
      "text/html": [
       " View run <strong style=\"color:#cdcd00\">noble-sweep-2</strong> at: <a href='https://wandb.ai/tripan-dham/dueling_mean_cartpole/runs/3ac873vq/workspace' target=\"_blank\">https://wandb.ai/tripan-dham/dueling_mean_cartpole/runs/3ac873vq/workspace</a><br/>Synced 4 W&B file(s), 0 media file(s), 0 artifact file(s) and 0 other file(s)"
      ],
      "text/plain": [
       "<IPython.core.display.HTML object>"
      ]
     },
     "metadata": {},
     "output_type": "display_data"
    },
    {
     "data": {
      "text/html": [
       "Find logs at: <code>.\\wandb\\run-20240404_033356-3ac873vq\\logs</code>"
      ],
      "text/plain": [
       "<IPython.core.display.HTML object>"
      ]
     },
     "metadata": {},
     "output_type": "display_data"
    },
    {
     "name": "stderr",
     "output_type": "stream",
     "text": [
      "Run 3ac873vq errored:\n",
      "Traceback (most recent call last):\n",
      "  File \"c:\\Users\\tripa\\AppData\\Local\\Programs\\Python\\Python310\\lib\\site-packages\\wandb\\agents\\pyagent.py\", line 308, in _run_job\n",
      "    self._function()\n",
      "  File \"C:\\Users\\tripa\\AppData\\Local\\Temp\\ipykernel_1648\\2843854326.py\", line 252, in run_training\n",
      "    regret = train(LR, UPDATE_EVERY, BUFFER_SIZE, BATCH_SIZE)\n",
      "  File \"C:\\Users\\tripa\\AppData\\Local\\Temp\\ipykernel_1648\\2843854326.py\", line 230, in train\n",
      "    all_scores_1=dqn(agent)\n",
      "  File \"C:\\Users\\tripa\\AppData\\Local\\Temp\\ipykernel_1648\\2843854326.py\", line 182, in dqn\n",
      "    agent.step(state, action, reward, next_state, done)\n",
      "  File \"C:\\Users\\tripa\\AppData\\Local\\Temp\\ipykernel_1648\\2843854326.py\", line 117, in step\n",
      "    experiences = self.memory.sample()\n",
      "  File \"C:\\Users\\tripa\\AppData\\Local\\Temp\\ipykernel_1648\\2843854326.py\", line 77, in sample\n",
      "    experiences = random.sample(self.memory, k=self.batch_size)\n",
      "  File \"c:\\Users\\tripa\\AppData\\Local\\Programs\\Python\\Python310\\lib\\random.py\", line 482, in sample\n",
      "    raise ValueError(\"Sample larger than population or is negative\")\n",
      "ValueError: Sample larger than population or is negative\n",
      "\n",
      "\u001b[34m\u001b[1mwandb\u001b[0m: \u001b[32m\u001b[41mERROR\u001b[0m Run 3ac873vq errored:\n",
      "\u001b[34m\u001b[1mwandb\u001b[0m: \u001b[32m\u001b[41mERROR\u001b[0m Traceback (most recent call last):\n",
      "\u001b[34m\u001b[1mwandb\u001b[0m: \u001b[32m\u001b[41mERROR\u001b[0m   File \"c:\\Users\\tripa\\AppData\\Local\\Programs\\Python\\Python310\\lib\\site-packages\\wandb\\agents\\pyagent.py\", line 308, in _run_job\n",
      "\u001b[34m\u001b[1mwandb\u001b[0m: \u001b[32m\u001b[41mERROR\u001b[0m     self._function()\n",
      "\u001b[34m\u001b[1mwandb\u001b[0m: \u001b[32m\u001b[41mERROR\u001b[0m   File \"C:\\Users\\tripa\\AppData\\Local\\Temp\\ipykernel_1648\\2843854326.py\", line 252, in run_training\n",
      "\u001b[34m\u001b[1mwandb\u001b[0m: \u001b[32m\u001b[41mERROR\u001b[0m     regret = train(LR, UPDATE_EVERY, BUFFER_SIZE, BATCH_SIZE)\n",
      "\u001b[34m\u001b[1mwandb\u001b[0m: \u001b[32m\u001b[41mERROR\u001b[0m   File \"C:\\Users\\tripa\\AppData\\Local\\Temp\\ipykernel_1648\\2843854326.py\", line 230, in train\n",
      "\u001b[34m\u001b[1mwandb\u001b[0m: \u001b[32m\u001b[41mERROR\u001b[0m     all_scores_1=dqn(agent)\n",
      "\u001b[34m\u001b[1mwandb\u001b[0m: \u001b[32m\u001b[41mERROR\u001b[0m   File \"C:\\Users\\tripa\\AppData\\Local\\Temp\\ipykernel_1648\\2843854326.py\", line 182, in dqn\n",
      "\u001b[34m\u001b[1mwandb\u001b[0m: \u001b[32m\u001b[41mERROR\u001b[0m     agent.step(state, action, reward, next_state, done)\n",
      "\u001b[34m\u001b[1mwandb\u001b[0m: \u001b[32m\u001b[41mERROR\u001b[0m   File \"C:\\Users\\tripa\\AppData\\Local\\Temp\\ipykernel_1648\\2843854326.py\", line 117, in step\n",
      "\u001b[34m\u001b[1mwandb\u001b[0m: \u001b[32m\u001b[41mERROR\u001b[0m     experiences = self.memory.sample()\n",
      "\u001b[34m\u001b[1mwandb\u001b[0m: \u001b[32m\u001b[41mERROR\u001b[0m   File \"C:\\Users\\tripa\\AppData\\Local\\Temp\\ipykernel_1648\\2843854326.py\", line 77, in sample\n",
      "\u001b[34m\u001b[1mwandb\u001b[0m: \u001b[32m\u001b[41mERROR\u001b[0m     experiences = random.sample(self.memory, k=self.batch_size)\n",
      "\u001b[34m\u001b[1mwandb\u001b[0m: \u001b[32m\u001b[41mERROR\u001b[0m   File \"c:\\Users\\tripa\\AppData\\Local\\Programs\\Python\\Python310\\lib\\random.py\", line 482, in sample\n",
      "\u001b[34m\u001b[1mwandb\u001b[0m: \u001b[32m\u001b[41mERROR\u001b[0m     raise ValueError(\"Sample larger than population or is negative\")\n",
      "\u001b[34m\u001b[1mwandb\u001b[0m: \u001b[32m\u001b[41mERROR\u001b[0m ValueError: Sample larger than population or is negative\n",
      "\u001b[34m\u001b[1mwandb\u001b[0m: \u001b[32m\u001b[41mERROR\u001b[0m \n",
      "\u001b[34m\u001b[1mwandb\u001b[0m: Agent Starting Run: pj2lcb47 with config:\n",
      "\u001b[34m\u001b[1mwandb\u001b[0m: \tBATCH_SIZE: 256\n",
      "\u001b[34m\u001b[1mwandb\u001b[0m: \tBUFFER_SIZE: 100\n",
      "\u001b[34m\u001b[1mwandb\u001b[0m: \tLR: 0.008437485230188477\n",
      "\u001b[34m\u001b[1mwandb\u001b[0m: \tUPDATE_EVERY: 50\n",
      "Failed to detect the name of this notebook, you can set it manually with the WANDB_NOTEBOOK_NAME environment variable to enable code saving.\n",
      "\u001b[34m\u001b[1mwandb\u001b[0m: \u001b[33mWARNING\u001b[0m Ignored wandb.init() arg project when running a sweep.\n"
     ]
    },
    {
     "data": {
      "text/html": [
       "wandb version 0.16.6 is available!  To upgrade, please run:\n",
       " $ pip install wandb --upgrade"
      ],
      "text/plain": [
       "<IPython.core.display.HTML object>"
      ]
     },
     "metadata": {},
     "output_type": "display_data"
    },
    {
     "data": {
      "text/html": [
       "Tracking run with wandb version 0.16.5"
      ],
      "text/plain": [
       "<IPython.core.display.HTML object>"
      ]
     },
     "metadata": {},
     "output_type": "display_data"
    },
    {
     "data": {
      "text/html": [
       "Run data is saved locally in <code>C:\\Users\\tripa\\AppData\\Local\\Programs\\Microsoft VS Code\\wandb\\run-20240404_033407-pj2lcb47</code>"
      ],
      "text/plain": [
       "<IPython.core.display.HTML object>"
      ]
     },
     "metadata": {},
     "output_type": "display_data"
    },
    {
     "data": {
      "text/html": [
       "Syncing run <strong><a href='https://wandb.ai/tripan-dham/dueling_mean_cartpole/runs/pj2lcb47/workspace' target=\"_blank\">hearty-sweep-3</a></strong> to <a href='https://wandb.ai/tripan-dham/dueling_mean_cartpole' target=\"_blank\">Weights & Biases</a> (<a href='https://wandb.me/run' target=\"_blank\">docs</a>)<br/>Sweep page: <a href='https://wandb.ai/tripan-dham/dueling_mean_cartpole/sweeps/et9o2o7a' target=\"_blank\">https://wandb.ai/tripan-dham/dueling_mean_cartpole/sweeps/et9o2o7a</a>"
      ],
      "text/plain": [
       "<IPython.core.display.HTML object>"
      ]
     },
     "metadata": {},
     "output_type": "display_data"
    },
    {
     "data": {
      "text/html": [
       " View project at <a href='https://wandb.ai/tripan-dham/dueling_mean_cartpole' target=\"_blank\">https://wandb.ai/tripan-dham/dueling_mean_cartpole</a>"
      ],
      "text/plain": [
       "<IPython.core.display.HTML object>"
      ]
     },
     "metadata": {},
     "output_type": "display_data"
    },
    {
     "data": {
      "text/html": [
       " View sweep at <a href='https://wandb.ai/tripan-dham/dueling_mean_cartpole/sweeps/et9o2o7a' target=\"_blank\">https://wandb.ai/tripan-dham/dueling_mean_cartpole/sweeps/et9o2o7a</a>"
      ],
      "text/plain": [
       "<IPython.core.display.HTML object>"
      ]
     },
     "metadata": {},
     "output_type": "display_data"
    },
    {
     "data": {
      "text/html": [
       " View run at <a href='https://wandb.ai/tripan-dham/dueling_mean_cartpole/runs/pj2lcb47/workspace' target=\"_blank\">https://wandb.ai/tripan-dham/dueling_mean_cartpole/runs/pj2lcb47/workspace</a>"
      ],
      "text/plain": [
       "<IPython.core.display.HTML object>"
      ]
     },
     "metadata": {},
     "output_type": "display_data"
    },
    {
     "data": {
      "application/vnd.jupyter.widget-view+json": {
       "model_id": "a760dbffcf19489fb1438311c541fa0f",
       "version_major": 2,
       "version_minor": 0
      },
      "text/plain": [
       "VBox(children=(Label(value='0.005 MB of 0.005 MB uploaded\\r'), FloatProgress(value=1.0, max=1.0)))"
      ]
     },
     "metadata": {},
     "output_type": "display_data"
    },
    {
     "data": {
      "text/html": [
       " View run <strong style=\"color:#cdcd00\">hearty-sweep-3</strong> at: <a href='https://wandb.ai/tripan-dham/dueling_mean_cartpole/runs/pj2lcb47/workspace' target=\"_blank\">https://wandb.ai/tripan-dham/dueling_mean_cartpole/runs/pj2lcb47/workspace</a><br/>Synced 4 W&B file(s), 0 media file(s), 0 artifact file(s) and 0 other file(s)"
      ],
      "text/plain": [
       "<IPython.core.display.HTML object>"
      ]
     },
     "metadata": {},
     "output_type": "display_data"
    },
    {
     "data": {
      "text/html": [
       "Find logs at: <code>.\\wandb\\run-20240404_033407-pj2lcb47\\logs</code>"
      ],
      "text/plain": [
       "<IPython.core.display.HTML object>"
      ]
     },
     "metadata": {},
     "output_type": "display_data"
    },
    {
     "name": "stderr",
     "output_type": "stream",
     "text": [
      "Run pj2lcb47 errored:\n",
      "Traceback (most recent call last):\n",
      "  File \"c:\\Users\\tripa\\AppData\\Local\\Programs\\Python\\Python310\\lib\\site-packages\\wandb\\agents\\pyagent.py\", line 308, in _run_job\n",
      "    self._function()\n",
      "  File \"C:\\Users\\tripa\\AppData\\Local\\Temp\\ipykernel_1648\\2843854326.py\", line 252, in run_training\n",
      "    regret = train(LR, UPDATE_EVERY, BUFFER_SIZE, BATCH_SIZE)\n",
      "  File \"C:\\Users\\tripa\\AppData\\Local\\Temp\\ipykernel_1648\\2843854326.py\", line 230, in train\n",
      "    all_scores_1=dqn(agent)\n",
      "  File \"C:\\Users\\tripa\\AppData\\Local\\Temp\\ipykernel_1648\\2843854326.py\", line 182, in dqn\n",
      "    agent.step(state, action, reward, next_state, done)\n",
      "  File \"C:\\Users\\tripa\\AppData\\Local\\Temp\\ipykernel_1648\\2843854326.py\", line 117, in step\n",
      "    experiences = self.memory.sample()\n",
      "  File \"C:\\Users\\tripa\\AppData\\Local\\Temp\\ipykernel_1648\\2843854326.py\", line 77, in sample\n",
      "    experiences = random.sample(self.memory, k=self.batch_size)\n",
      "  File \"c:\\Users\\tripa\\AppData\\Local\\Programs\\Python\\Python310\\lib\\random.py\", line 482, in sample\n",
      "    raise ValueError(\"Sample larger than population or is negative\")\n",
      "ValueError: Sample larger than population or is negative\n",
      "\n",
      "\u001b[34m\u001b[1mwandb\u001b[0m: \u001b[32m\u001b[41mERROR\u001b[0m Run pj2lcb47 errored:\n",
      "\u001b[34m\u001b[1mwandb\u001b[0m: \u001b[32m\u001b[41mERROR\u001b[0m Traceback (most recent call last):\n",
      "\u001b[34m\u001b[1mwandb\u001b[0m: \u001b[32m\u001b[41mERROR\u001b[0m   File \"c:\\Users\\tripa\\AppData\\Local\\Programs\\Python\\Python310\\lib\\site-packages\\wandb\\agents\\pyagent.py\", line 308, in _run_job\n",
      "\u001b[34m\u001b[1mwandb\u001b[0m: \u001b[32m\u001b[41mERROR\u001b[0m     self._function()\n",
      "\u001b[34m\u001b[1mwandb\u001b[0m: \u001b[32m\u001b[41mERROR\u001b[0m   File \"C:\\Users\\tripa\\AppData\\Local\\Temp\\ipykernel_1648\\2843854326.py\", line 252, in run_training\n",
      "\u001b[34m\u001b[1mwandb\u001b[0m: \u001b[32m\u001b[41mERROR\u001b[0m     regret = train(LR, UPDATE_EVERY, BUFFER_SIZE, BATCH_SIZE)\n",
      "\u001b[34m\u001b[1mwandb\u001b[0m: \u001b[32m\u001b[41mERROR\u001b[0m   File \"C:\\Users\\tripa\\AppData\\Local\\Temp\\ipykernel_1648\\2843854326.py\", line 230, in train\n",
      "\u001b[34m\u001b[1mwandb\u001b[0m: \u001b[32m\u001b[41mERROR\u001b[0m     all_scores_1=dqn(agent)\n",
      "\u001b[34m\u001b[1mwandb\u001b[0m: \u001b[32m\u001b[41mERROR\u001b[0m   File \"C:\\Users\\tripa\\AppData\\Local\\Temp\\ipykernel_1648\\2843854326.py\", line 182, in dqn\n",
      "\u001b[34m\u001b[1mwandb\u001b[0m: \u001b[32m\u001b[41mERROR\u001b[0m     agent.step(state, action, reward, next_state, done)\n",
      "\u001b[34m\u001b[1mwandb\u001b[0m: \u001b[32m\u001b[41mERROR\u001b[0m   File \"C:\\Users\\tripa\\AppData\\Local\\Temp\\ipykernel_1648\\2843854326.py\", line 117, in step\n",
      "\u001b[34m\u001b[1mwandb\u001b[0m: \u001b[32m\u001b[41mERROR\u001b[0m     experiences = self.memory.sample()\n",
      "\u001b[34m\u001b[1mwandb\u001b[0m: \u001b[32m\u001b[41mERROR\u001b[0m   File \"C:\\Users\\tripa\\AppData\\Local\\Temp\\ipykernel_1648\\2843854326.py\", line 77, in sample\n",
      "\u001b[34m\u001b[1mwandb\u001b[0m: \u001b[32m\u001b[41mERROR\u001b[0m     experiences = random.sample(self.memory, k=self.batch_size)\n",
      "\u001b[34m\u001b[1mwandb\u001b[0m: \u001b[32m\u001b[41mERROR\u001b[0m   File \"c:\\Users\\tripa\\AppData\\Local\\Programs\\Python\\Python310\\lib\\random.py\", line 482, in sample\n",
      "\u001b[34m\u001b[1mwandb\u001b[0m: \u001b[32m\u001b[41mERROR\u001b[0m     raise ValueError(\"Sample larger than population or is negative\")\n",
      "\u001b[34m\u001b[1mwandb\u001b[0m: \u001b[32m\u001b[41mERROR\u001b[0m ValueError: Sample larger than population or is negative\n",
      "\u001b[34m\u001b[1mwandb\u001b[0m: \u001b[32m\u001b[41mERROR\u001b[0m \n",
      "\u001b[34m\u001b[1mwandb\u001b[0m: Agent Starting Run: bbbflyk5 with config:\n",
      "\u001b[34m\u001b[1mwandb\u001b[0m: \tBATCH_SIZE: 256\n",
      "\u001b[34m\u001b[1mwandb\u001b[0m: \tBUFFER_SIZE: 100\n",
      "\u001b[34m\u001b[1mwandb\u001b[0m: \tLR: 0.004293352525450412\n",
      "\u001b[34m\u001b[1mwandb\u001b[0m: \tUPDATE_EVERY: 50\n",
      "Failed to detect the name of this notebook, you can set it manually with the WANDB_NOTEBOOK_NAME environment variable to enable code saving.\n",
      "\u001b[34m\u001b[1mwandb\u001b[0m: \u001b[33mWARNING\u001b[0m Ignored wandb.init() arg project when running a sweep.\n"
     ]
    },
    {
     "data": {
      "text/html": [
       "wandb version 0.16.6 is available!  To upgrade, please run:\n",
       " $ pip install wandb --upgrade"
      ],
      "text/plain": [
       "<IPython.core.display.HTML object>"
      ]
     },
     "metadata": {},
     "output_type": "display_data"
    },
    {
     "data": {
      "text/html": [
       "Tracking run with wandb version 0.16.5"
      ],
      "text/plain": [
       "<IPython.core.display.HTML object>"
      ]
     },
     "metadata": {},
     "output_type": "display_data"
    },
    {
     "data": {
      "text/html": [
       "Run data is saved locally in <code>C:\\Users\\tripa\\AppData\\Local\\Programs\\Microsoft VS Code\\wandb\\run-20240404_033418-bbbflyk5</code>"
      ],
      "text/plain": [
       "<IPython.core.display.HTML object>"
      ]
     },
     "metadata": {},
     "output_type": "display_data"
    },
    {
     "data": {
      "text/html": [
       "Syncing run <strong><a href='https://wandb.ai/tripan-dham/dueling_mean_cartpole/runs/bbbflyk5/workspace' target=\"_blank\">wobbly-sweep-4</a></strong> to <a href='https://wandb.ai/tripan-dham/dueling_mean_cartpole' target=\"_blank\">Weights & Biases</a> (<a href='https://wandb.me/run' target=\"_blank\">docs</a>)<br/>Sweep page: <a href='https://wandb.ai/tripan-dham/dueling_mean_cartpole/sweeps/et9o2o7a' target=\"_blank\">https://wandb.ai/tripan-dham/dueling_mean_cartpole/sweeps/et9o2o7a</a>"
      ],
      "text/plain": [
       "<IPython.core.display.HTML object>"
      ]
     },
     "metadata": {},
     "output_type": "display_data"
    },
    {
     "data": {
      "text/html": [
       " View project at <a href='https://wandb.ai/tripan-dham/dueling_mean_cartpole' target=\"_blank\">https://wandb.ai/tripan-dham/dueling_mean_cartpole</a>"
      ],
      "text/plain": [
       "<IPython.core.display.HTML object>"
      ]
     },
     "metadata": {},
     "output_type": "display_data"
    },
    {
     "data": {
      "text/html": [
       " View sweep at <a href='https://wandb.ai/tripan-dham/dueling_mean_cartpole/sweeps/et9o2o7a' target=\"_blank\">https://wandb.ai/tripan-dham/dueling_mean_cartpole/sweeps/et9o2o7a</a>"
      ],
      "text/plain": [
       "<IPython.core.display.HTML object>"
      ]
     },
     "metadata": {},
     "output_type": "display_data"
    },
    {
     "data": {
      "text/html": [
       " View run at <a href='https://wandb.ai/tripan-dham/dueling_mean_cartpole/runs/bbbflyk5/workspace' target=\"_blank\">https://wandb.ai/tripan-dham/dueling_mean_cartpole/runs/bbbflyk5/workspace</a>"
      ],
      "text/plain": [
       "<IPython.core.display.HTML object>"
      ]
     },
     "metadata": {},
     "output_type": "display_data"
    },
    {
     "data": {
      "application/vnd.jupyter.widget-view+json": {
       "model_id": "c8a2ad1547c84a2aa3780a4ba63a670a",
       "version_major": 2,
       "version_minor": 0
      },
      "text/plain": [
       "VBox(children=(Label(value='0.001 MB of 0.005 MB uploaded\\r'), FloatProgress(value=0.2304861514623281, max=1.0…"
      ]
     },
     "metadata": {},
     "output_type": "display_data"
    },
    {
     "data": {
      "text/html": [
       " View run <strong style=\"color:#cdcd00\">wobbly-sweep-4</strong> at: <a href='https://wandb.ai/tripan-dham/dueling_mean_cartpole/runs/bbbflyk5/workspace' target=\"_blank\">https://wandb.ai/tripan-dham/dueling_mean_cartpole/runs/bbbflyk5/workspace</a><br/>Synced 4 W&B file(s), 0 media file(s), 0 artifact file(s) and 0 other file(s)"
      ],
      "text/plain": [
       "<IPython.core.display.HTML object>"
      ]
     },
     "metadata": {},
     "output_type": "display_data"
    },
    {
     "data": {
      "text/html": [
       "Find logs at: <code>.\\wandb\\run-20240404_033418-bbbflyk5\\logs</code>"
      ],
      "text/plain": [
       "<IPython.core.display.HTML object>"
      ]
     },
     "metadata": {},
     "output_type": "display_data"
    },
    {
     "name": "stderr",
     "output_type": "stream",
     "text": [
      "Run bbbflyk5 errored:\n",
      "Traceback (most recent call last):\n",
      "  File \"c:\\Users\\tripa\\AppData\\Local\\Programs\\Python\\Python310\\lib\\site-packages\\wandb\\agents\\pyagent.py\", line 308, in _run_job\n",
      "    self._function()\n",
      "  File \"C:\\Users\\tripa\\AppData\\Local\\Temp\\ipykernel_1648\\2843854326.py\", line 252, in run_training\n",
      "    regret = train(LR, UPDATE_EVERY, BUFFER_SIZE, BATCH_SIZE)\n",
      "  File \"C:\\Users\\tripa\\AppData\\Local\\Temp\\ipykernel_1648\\2843854326.py\", line 230, in train\n",
      "    all_scores_1=dqn(agent)\n",
      "  File \"C:\\Users\\tripa\\AppData\\Local\\Temp\\ipykernel_1648\\2843854326.py\", line 182, in dqn\n",
      "    agent.step(state, action, reward, next_state, done)\n",
      "  File \"C:\\Users\\tripa\\AppData\\Local\\Temp\\ipykernel_1648\\2843854326.py\", line 117, in step\n",
      "    experiences = self.memory.sample()\n",
      "  File \"C:\\Users\\tripa\\AppData\\Local\\Temp\\ipykernel_1648\\2843854326.py\", line 77, in sample\n",
      "    experiences = random.sample(self.memory, k=self.batch_size)\n",
      "  File \"c:\\Users\\tripa\\AppData\\Local\\Programs\\Python\\Python310\\lib\\random.py\", line 482, in sample\n",
      "    raise ValueError(\"Sample larger than population or is negative\")\n",
      "ValueError: Sample larger than population or is negative\n",
      "\n",
      "\u001b[34m\u001b[1mwandb\u001b[0m: \u001b[32m\u001b[41mERROR\u001b[0m Run bbbflyk5 errored:\n",
      "\u001b[34m\u001b[1mwandb\u001b[0m: \u001b[32m\u001b[41mERROR\u001b[0m Traceback (most recent call last):\n",
      "\u001b[34m\u001b[1mwandb\u001b[0m: \u001b[32m\u001b[41mERROR\u001b[0m   File \"c:\\Users\\tripa\\AppData\\Local\\Programs\\Python\\Python310\\lib\\site-packages\\wandb\\agents\\pyagent.py\", line 308, in _run_job\n",
      "\u001b[34m\u001b[1mwandb\u001b[0m: \u001b[32m\u001b[41mERROR\u001b[0m     self._function()\n",
      "\u001b[34m\u001b[1mwandb\u001b[0m: \u001b[32m\u001b[41mERROR\u001b[0m   File \"C:\\Users\\tripa\\AppData\\Local\\Temp\\ipykernel_1648\\2843854326.py\", line 252, in run_training\n",
      "\u001b[34m\u001b[1mwandb\u001b[0m: \u001b[32m\u001b[41mERROR\u001b[0m     regret = train(LR, UPDATE_EVERY, BUFFER_SIZE, BATCH_SIZE)\n",
      "\u001b[34m\u001b[1mwandb\u001b[0m: \u001b[32m\u001b[41mERROR\u001b[0m   File \"C:\\Users\\tripa\\AppData\\Local\\Temp\\ipykernel_1648\\2843854326.py\", line 230, in train\n",
      "\u001b[34m\u001b[1mwandb\u001b[0m: \u001b[32m\u001b[41mERROR\u001b[0m     all_scores_1=dqn(agent)\n",
      "\u001b[34m\u001b[1mwandb\u001b[0m: \u001b[32m\u001b[41mERROR\u001b[0m   File \"C:\\Users\\tripa\\AppData\\Local\\Temp\\ipykernel_1648\\2843854326.py\", line 182, in dqn\n",
      "\u001b[34m\u001b[1mwandb\u001b[0m: \u001b[32m\u001b[41mERROR\u001b[0m     agent.step(state, action, reward, next_state, done)\n",
      "\u001b[34m\u001b[1mwandb\u001b[0m: \u001b[32m\u001b[41mERROR\u001b[0m   File \"C:\\Users\\tripa\\AppData\\Local\\Temp\\ipykernel_1648\\2843854326.py\", line 117, in step\n",
      "\u001b[34m\u001b[1mwandb\u001b[0m: \u001b[32m\u001b[41mERROR\u001b[0m     experiences = self.memory.sample()\n",
      "\u001b[34m\u001b[1mwandb\u001b[0m: \u001b[32m\u001b[41mERROR\u001b[0m   File \"C:\\Users\\tripa\\AppData\\Local\\Temp\\ipykernel_1648\\2843854326.py\", line 77, in sample\n",
      "\u001b[34m\u001b[1mwandb\u001b[0m: \u001b[32m\u001b[41mERROR\u001b[0m     experiences = random.sample(self.memory, k=self.batch_size)\n",
      "\u001b[34m\u001b[1mwandb\u001b[0m: \u001b[32m\u001b[41mERROR\u001b[0m   File \"c:\\Users\\tripa\\AppData\\Local\\Programs\\Python\\Python310\\lib\\random.py\", line 482, in sample\n",
      "\u001b[34m\u001b[1mwandb\u001b[0m: \u001b[32m\u001b[41mERROR\u001b[0m     raise ValueError(\"Sample larger than population or is negative\")\n",
      "\u001b[34m\u001b[1mwandb\u001b[0m: \u001b[32m\u001b[41mERROR\u001b[0m ValueError: Sample larger than population or is negative\n",
      "\u001b[34m\u001b[1mwandb\u001b[0m: \u001b[32m\u001b[41mERROR\u001b[0m \n",
      "\u001b[34m\u001b[1mwandb\u001b[0m: Agent Starting Run: nwytrnts with config:\n",
      "\u001b[34m\u001b[1mwandb\u001b[0m: \tBATCH_SIZE: 64\n",
      "\u001b[34m\u001b[1mwandb\u001b[0m: \tBUFFER_SIZE: 100000\n",
      "\u001b[34m\u001b[1mwandb\u001b[0m: \tLR: 0.008137048506879338\n",
      "\u001b[34m\u001b[1mwandb\u001b[0m: \tUPDATE_EVERY: 50\n",
      "Failed to detect the name of this notebook, you can set it manually with the WANDB_NOTEBOOK_NAME environment variable to enable code saving.\n",
      "\u001b[34m\u001b[1mwandb\u001b[0m: \u001b[33mWARNING\u001b[0m Ignored wandb.init() arg project when running a sweep.\n"
     ]
    },
    {
     "data": {
      "text/html": [
       "wandb version 0.16.6 is available!  To upgrade, please run:\n",
       " $ pip install wandb --upgrade"
      ],
      "text/plain": [
       "<IPython.core.display.HTML object>"
      ]
     },
     "metadata": {},
     "output_type": "display_data"
    },
    {
     "data": {
      "text/html": [
       "Tracking run with wandb version 0.16.5"
      ],
      "text/plain": [
       "<IPython.core.display.HTML object>"
      ]
     },
     "metadata": {},
     "output_type": "display_data"
    },
    {
     "data": {
      "text/html": [
       "Run data is saved locally in <code>C:\\Users\\tripa\\AppData\\Local\\Programs\\Microsoft VS Code\\wandb\\run-20240404_033429-nwytrnts</code>"
      ],
      "text/plain": [
       "<IPython.core.display.HTML object>"
      ]
     },
     "metadata": {},
     "output_type": "display_data"
    },
    {
     "data": {
      "text/html": [
       "Syncing run <strong><a href='https://wandb.ai/tripan-dham/dueling_mean_cartpole/runs/nwytrnts/workspace' target=\"_blank\">charmed-sweep-5</a></strong> to <a href='https://wandb.ai/tripan-dham/dueling_mean_cartpole' target=\"_blank\">Weights & Biases</a> (<a href='https://wandb.me/run' target=\"_blank\">docs</a>)<br/>Sweep page: <a href='https://wandb.ai/tripan-dham/dueling_mean_cartpole/sweeps/et9o2o7a' target=\"_blank\">https://wandb.ai/tripan-dham/dueling_mean_cartpole/sweeps/et9o2o7a</a>"
      ],
      "text/plain": [
       "<IPython.core.display.HTML object>"
      ]
     },
     "metadata": {},
     "output_type": "display_data"
    },
    {
     "data": {
      "text/html": [
       " View project at <a href='https://wandb.ai/tripan-dham/dueling_mean_cartpole' target=\"_blank\">https://wandb.ai/tripan-dham/dueling_mean_cartpole</a>"
      ],
      "text/plain": [
       "<IPython.core.display.HTML object>"
      ]
     },
     "metadata": {},
     "output_type": "display_data"
    },
    {
     "data": {
      "text/html": [
       " View sweep at <a href='https://wandb.ai/tripan-dham/dueling_mean_cartpole/sweeps/et9o2o7a' target=\"_blank\">https://wandb.ai/tripan-dham/dueling_mean_cartpole/sweeps/et9o2o7a</a>"
      ],
      "text/plain": [
       "<IPython.core.display.HTML object>"
      ]
     },
     "metadata": {},
     "output_type": "display_data"
    },
    {
     "data": {
      "text/html": [
       " View run at <a href='https://wandb.ai/tripan-dham/dueling_mean_cartpole/runs/nwytrnts/workspace' target=\"_blank\">https://wandb.ai/tripan-dham/dueling_mean_cartpole/runs/nwytrnts/workspace</a>"
      ],
      "text/plain": [
       "<IPython.core.display.HTML object>"
      ]
     },
     "metadata": {},
     "output_type": "display_data"
    },
    {
     "data": {
      "application/vnd.jupyter.widget-view+json": {
       "model_id": "afdc3dfe022146dbbb7b6afeccfd3e5f",
       "version_major": 2,
       "version_minor": 0
      },
      "text/plain": [
       "VBox(children=(Label(value='0.001 MB of 0.005 MB uploaded\\r'), FloatProgress(value=0.2244859460479155, max=1.0…"
      ]
     },
     "metadata": {},
     "output_type": "display_data"
    },
    {
     "data": {
      "text/html": [
       "<style>\n",
       "    table.wandb td:nth-child(1) { padding: 0 10px; text-align: left ; width: auto;} td:nth-child(2) {text-align: left ; width: 100%}\n",
       "    .wandb-row { display: flex; flex-direction: row; flex-wrap: wrap; justify-content: flex-start; width: 100% }\n",
       "    .wandb-col { display: flex; flex-direction: column; flex-basis: 100%; flex: 1; padding: 10px; }\n",
       "    </style>\n",
       "<div class=\"wandb-row\"><div class=\"wandb-col\"><h3>Run history:</h3><br/><table class=\"wandb\"><tr><td>regret</td><td>▁</td></tr></table><br/></div><div class=\"wandb-col\"><h3>Run summary:</h3><br/><table class=\"wandb\"><tr><td>regret</td><td>113259.18636</td></tr></table><br/></div></div>"
      ],
      "text/plain": [
       "<IPython.core.display.HTML object>"
      ]
     },
     "metadata": {},
     "output_type": "display_data"
    },
    {
     "data": {
      "text/html": [
       " View run <strong style=\"color:#cdcd00\">charmed-sweep-5</strong> at: <a href='https://wandb.ai/tripan-dham/dueling_mean_cartpole/runs/nwytrnts/workspace' target=\"_blank\">https://wandb.ai/tripan-dham/dueling_mean_cartpole/runs/nwytrnts/workspace</a><br/>Synced 4 W&B file(s), 0 media file(s), 0 artifact file(s) and 0 other file(s)"
      ],
      "text/plain": [
       "<IPython.core.display.HTML object>"
      ]
     },
     "metadata": {},
     "output_type": "display_data"
    },
    {
     "data": {
      "text/html": [
       "Find logs at: <code>.\\wandb\\run-20240404_033429-nwytrnts\\logs</code>"
      ],
      "text/plain": [
       "<IPython.core.display.HTML object>"
      ]
     },
     "metadata": {},
     "output_type": "display_data"
    },
    {
     "name": "stderr",
     "output_type": "stream",
     "text": [
      "\u001b[34m\u001b[1mwandb\u001b[0m: Agent Starting Run: i3o4qqgt with config:\n",
      "\u001b[34m\u001b[1mwandb\u001b[0m: \tBATCH_SIZE: 128\n",
      "\u001b[34m\u001b[1mwandb\u001b[0m: \tBUFFER_SIZE: 100000\n",
      "\u001b[34m\u001b[1mwandb\u001b[0m: \tLR: 0.007789389518903339\n",
      "\u001b[34m\u001b[1mwandb\u001b[0m: \tUPDATE_EVERY: 75\n",
      "Failed to detect the name of this notebook, you can set it manually with the WANDB_NOTEBOOK_NAME environment variable to enable code saving.\n",
      "\u001b[34m\u001b[1mwandb\u001b[0m: \u001b[33mWARNING\u001b[0m Ignored wandb.init() arg project when running a sweep.\n"
     ]
    },
    {
     "data": {
      "text/html": [
       "wandb version 0.16.6 is available!  To upgrade, please run:\n",
       " $ pip install wandb --upgrade"
      ],
      "text/plain": [
       "<IPython.core.display.HTML object>"
      ]
     },
     "metadata": {},
     "output_type": "display_data"
    },
    {
     "data": {
      "text/html": [
       "Tracking run with wandb version 0.16.5"
      ],
      "text/plain": [
       "<IPython.core.display.HTML object>"
      ]
     },
     "metadata": {},
     "output_type": "display_data"
    },
    {
     "data": {
      "text/html": [
       "Run data is saved locally in <code>C:\\Users\\tripa\\AppData\\Local\\Programs\\Microsoft VS Code\\wandb\\run-20240404_033713-i3o4qqgt</code>"
      ],
      "text/plain": [
       "<IPython.core.display.HTML object>"
      ]
     },
     "metadata": {},
     "output_type": "display_data"
    },
    {
     "data": {
      "text/html": [
       "Syncing run <strong><a href='https://wandb.ai/tripan-dham/dueling_mean_cartpole/runs/i3o4qqgt/workspace' target=\"_blank\">distinctive-sweep-6</a></strong> to <a href='https://wandb.ai/tripan-dham/dueling_mean_cartpole' target=\"_blank\">Weights & Biases</a> (<a href='https://wandb.me/run' target=\"_blank\">docs</a>)<br/>Sweep page: <a href='https://wandb.ai/tripan-dham/dueling_mean_cartpole/sweeps/et9o2o7a' target=\"_blank\">https://wandb.ai/tripan-dham/dueling_mean_cartpole/sweeps/et9o2o7a</a>"
      ],
      "text/plain": [
       "<IPython.core.display.HTML object>"
      ]
     },
     "metadata": {},
     "output_type": "display_data"
    },
    {
     "data": {
      "text/html": [
       " View project at <a href='https://wandb.ai/tripan-dham/dueling_mean_cartpole' target=\"_blank\">https://wandb.ai/tripan-dham/dueling_mean_cartpole</a>"
      ],
      "text/plain": [
       "<IPython.core.display.HTML object>"
      ]
     },
     "metadata": {},
     "output_type": "display_data"
    },
    {
     "data": {
      "text/html": [
       " View sweep at <a href='https://wandb.ai/tripan-dham/dueling_mean_cartpole/sweeps/et9o2o7a' target=\"_blank\">https://wandb.ai/tripan-dham/dueling_mean_cartpole/sweeps/et9o2o7a</a>"
      ],
      "text/plain": [
       "<IPython.core.display.HTML object>"
      ]
     },
     "metadata": {},
     "output_type": "display_data"
    },
    {
     "data": {
      "text/html": [
       " View run at <a href='https://wandb.ai/tripan-dham/dueling_mean_cartpole/runs/i3o4qqgt/workspace' target=\"_blank\">https://wandb.ai/tripan-dham/dueling_mean_cartpole/runs/i3o4qqgt/workspace</a>"
      ],
      "text/plain": [
       "<IPython.core.display.HTML object>"
      ]
     },
     "metadata": {},
     "output_type": "display_data"
    },
    {
     "data": {
      "application/vnd.jupyter.widget-view+json": {
       "model_id": "54407c4521384e45afd4efb0e74f2dfc",
       "version_major": 2,
       "version_minor": 0
      },
      "text/plain": [
       "VBox(children=(Label(value='0.001 MB of 0.005 MB uploaded\\r'), FloatProgress(value=0.23035230352303523, max=1.…"
      ]
     },
     "metadata": {},
     "output_type": "display_data"
    },
    {
     "data": {
      "text/html": [
       " View run <strong style=\"color:#cdcd00\">distinctive-sweep-6</strong> at: <a href='https://wandb.ai/tripan-dham/dueling_mean_cartpole/runs/i3o4qqgt/workspace' target=\"_blank\">https://wandb.ai/tripan-dham/dueling_mean_cartpole/runs/i3o4qqgt/workspace</a><br/>Synced 4 W&B file(s), 0 media file(s), 0 artifact file(s) and 0 other file(s)"
      ],
      "text/plain": [
       "<IPython.core.display.HTML object>"
      ]
     },
     "metadata": {},
     "output_type": "display_data"
    },
    {
     "data": {
      "text/html": [
       "Find logs at: <code>.\\wandb\\run-20240404_033713-i3o4qqgt\\logs</code>"
      ],
      "text/plain": [
       "<IPython.core.display.HTML object>"
      ]
     },
     "metadata": {},
     "output_type": "display_data"
    },
    {
     "name": "stderr",
     "output_type": "stream",
     "text": [
      "Run i3o4qqgt errored:\n",
      "Traceback (most recent call last):\n",
      "  File \"c:\\Users\\tripa\\AppData\\Local\\Programs\\Python\\Python310\\lib\\site-packages\\wandb\\agents\\pyagent.py\", line 308, in _run_job\n",
      "    self._function()\n",
      "  File \"C:\\Users\\tripa\\AppData\\Local\\Temp\\ipykernel_1648\\2843854326.py\", line 252, in run_training\n",
      "    regret = train(LR, UPDATE_EVERY, BUFFER_SIZE, BATCH_SIZE)\n",
      "  File \"C:\\Users\\tripa\\AppData\\Local\\Temp\\ipykernel_1648\\2843854326.py\", line 230, in train\n",
      "    all_scores_1=dqn(agent)\n",
      "  File \"C:\\Users\\tripa\\AppData\\Local\\Temp\\ipykernel_1648\\2843854326.py\", line 182, in dqn\n",
      "    agent.step(state, action, reward, next_state, done)\n",
      "  File \"C:\\Users\\tripa\\AppData\\Local\\Temp\\ipykernel_1648\\2843854326.py\", line 117, in step\n",
      "    experiences = self.memory.sample()\n",
      "  File \"C:\\Users\\tripa\\AppData\\Local\\Temp\\ipykernel_1648\\2843854326.py\", line 77, in sample\n",
      "    experiences = random.sample(self.memory, k=self.batch_size)\n",
      "  File \"c:\\Users\\tripa\\AppData\\Local\\Programs\\Python\\Python310\\lib\\random.py\", line 482, in sample\n",
      "    raise ValueError(\"Sample larger than population or is negative\")\n",
      "ValueError: Sample larger than population or is negative\n",
      "\n",
      "\u001b[34m\u001b[1mwandb\u001b[0m: \u001b[32m\u001b[41mERROR\u001b[0m Run i3o4qqgt errored:\n",
      "\u001b[34m\u001b[1mwandb\u001b[0m: \u001b[32m\u001b[41mERROR\u001b[0m Traceback (most recent call last):\n",
      "\u001b[34m\u001b[1mwandb\u001b[0m: \u001b[32m\u001b[41mERROR\u001b[0m   File \"c:\\Users\\tripa\\AppData\\Local\\Programs\\Python\\Python310\\lib\\site-packages\\wandb\\agents\\pyagent.py\", line 308, in _run_job\n",
      "\u001b[34m\u001b[1mwandb\u001b[0m: \u001b[32m\u001b[41mERROR\u001b[0m     self._function()\n",
      "\u001b[34m\u001b[1mwandb\u001b[0m: \u001b[32m\u001b[41mERROR\u001b[0m   File \"C:\\Users\\tripa\\AppData\\Local\\Temp\\ipykernel_1648\\2843854326.py\", line 252, in run_training\n",
      "\u001b[34m\u001b[1mwandb\u001b[0m: \u001b[32m\u001b[41mERROR\u001b[0m     regret = train(LR, UPDATE_EVERY, BUFFER_SIZE, BATCH_SIZE)\n",
      "\u001b[34m\u001b[1mwandb\u001b[0m: \u001b[32m\u001b[41mERROR\u001b[0m   File \"C:\\Users\\tripa\\AppData\\Local\\Temp\\ipykernel_1648\\2843854326.py\", line 230, in train\n",
      "\u001b[34m\u001b[1mwandb\u001b[0m: \u001b[32m\u001b[41mERROR\u001b[0m     all_scores_1=dqn(agent)\n",
      "\u001b[34m\u001b[1mwandb\u001b[0m: \u001b[32m\u001b[41mERROR\u001b[0m   File \"C:\\Users\\tripa\\AppData\\Local\\Temp\\ipykernel_1648\\2843854326.py\", line 182, in dqn\n",
      "\u001b[34m\u001b[1mwandb\u001b[0m: \u001b[32m\u001b[41mERROR\u001b[0m     agent.step(state, action, reward, next_state, done)\n",
      "\u001b[34m\u001b[1mwandb\u001b[0m: \u001b[32m\u001b[41mERROR\u001b[0m   File \"C:\\Users\\tripa\\AppData\\Local\\Temp\\ipykernel_1648\\2843854326.py\", line 117, in step\n",
      "\u001b[34m\u001b[1mwandb\u001b[0m: \u001b[32m\u001b[41mERROR\u001b[0m     experiences = self.memory.sample()\n",
      "\u001b[34m\u001b[1mwandb\u001b[0m: \u001b[32m\u001b[41mERROR\u001b[0m   File \"C:\\Users\\tripa\\AppData\\Local\\Temp\\ipykernel_1648\\2843854326.py\", line 77, in sample\n",
      "\u001b[34m\u001b[1mwandb\u001b[0m: \u001b[32m\u001b[41mERROR\u001b[0m     experiences = random.sample(self.memory, k=self.batch_size)\n",
      "\u001b[34m\u001b[1mwandb\u001b[0m: \u001b[32m\u001b[41mERROR\u001b[0m   File \"c:\\Users\\tripa\\AppData\\Local\\Programs\\Python\\Python310\\lib\\random.py\", line 482, in sample\n",
      "\u001b[34m\u001b[1mwandb\u001b[0m: \u001b[32m\u001b[41mERROR\u001b[0m     raise ValueError(\"Sample larger than population or is negative\")\n",
      "\u001b[34m\u001b[1mwandb\u001b[0m: \u001b[32m\u001b[41mERROR\u001b[0m ValueError: Sample larger than population or is negative\n",
      "\u001b[34m\u001b[1mwandb\u001b[0m: \u001b[32m\u001b[41mERROR\u001b[0m \n",
      "\u001b[34m\u001b[1mwandb\u001b[0m: Agent Starting Run: fq3kobh2 with config:\n",
      "\u001b[34m\u001b[1mwandb\u001b[0m: \tBATCH_SIZE: 256\n",
      "\u001b[34m\u001b[1mwandb\u001b[0m: \tBUFFER_SIZE: 1000\n",
      "\u001b[34m\u001b[1mwandb\u001b[0m: \tLR: 0.007495400688686008\n",
      "\u001b[34m\u001b[1mwandb\u001b[0m: \tUPDATE_EVERY: 20\n",
      "Failed to detect the name of this notebook, you can set it manually with the WANDB_NOTEBOOK_NAME environment variable to enable code saving.\n",
      "\u001b[34m\u001b[1mwandb\u001b[0m: \u001b[33mWARNING\u001b[0m Ignored wandb.init() arg project when running a sweep.\n"
     ]
    },
    {
     "data": {
      "text/html": [
       "wandb version 0.16.6 is available!  To upgrade, please run:\n",
       " $ pip install wandb --upgrade"
      ],
      "text/plain": [
       "<IPython.core.display.HTML object>"
      ]
     },
     "metadata": {},
     "output_type": "display_data"
    },
    {
     "data": {
      "text/html": [
       "Tracking run with wandb version 0.16.5"
      ],
      "text/plain": [
       "<IPython.core.display.HTML object>"
      ]
     },
     "metadata": {},
     "output_type": "display_data"
    },
    {
     "data": {
      "text/html": [
       "Run data is saved locally in <code>C:\\Users\\tripa\\AppData\\Local\\Programs\\Microsoft VS Code\\wandb\\run-20240404_033724-fq3kobh2</code>"
      ],
      "text/plain": [
       "<IPython.core.display.HTML object>"
      ]
     },
     "metadata": {},
     "output_type": "display_data"
    },
    {
     "data": {
      "text/html": [
       "Syncing run <strong><a href='https://wandb.ai/tripan-dham/dueling_mean_cartpole/runs/fq3kobh2/workspace' target=\"_blank\">fresh-sweep-7</a></strong> to <a href='https://wandb.ai/tripan-dham/dueling_mean_cartpole' target=\"_blank\">Weights & Biases</a> (<a href='https://wandb.me/run' target=\"_blank\">docs</a>)<br/>Sweep page: <a href='https://wandb.ai/tripan-dham/dueling_mean_cartpole/sweeps/et9o2o7a' target=\"_blank\">https://wandb.ai/tripan-dham/dueling_mean_cartpole/sweeps/et9o2o7a</a>"
      ],
      "text/plain": [
       "<IPython.core.display.HTML object>"
      ]
     },
     "metadata": {},
     "output_type": "display_data"
    },
    {
     "data": {
      "text/html": [
       " View project at <a href='https://wandb.ai/tripan-dham/dueling_mean_cartpole' target=\"_blank\">https://wandb.ai/tripan-dham/dueling_mean_cartpole</a>"
      ],
      "text/plain": [
       "<IPython.core.display.HTML object>"
      ]
     },
     "metadata": {},
     "output_type": "display_data"
    },
    {
     "data": {
      "text/html": [
       " View sweep at <a href='https://wandb.ai/tripan-dham/dueling_mean_cartpole/sweeps/et9o2o7a' target=\"_blank\">https://wandb.ai/tripan-dham/dueling_mean_cartpole/sweeps/et9o2o7a</a>"
      ],
      "text/plain": [
       "<IPython.core.display.HTML object>"
      ]
     },
     "metadata": {},
     "output_type": "display_data"
    },
    {
     "data": {
      "text/html": [
       " View run at <a href='https://wandb.ai/tripan-dham/dueling_mean_cartpole/runs/fq3kobh2/workspace' target=\"_blank\">https://wandb.ai/tripan-dham/dueling_mean_cartpole/runs/fq3kobh2/workspace</a>"
      ],
      "text/plain": [
       "<IPython.core.display.HTML object>"
      ]
     },
     "metadata": {},
     "output_type": "display_data"
    },
    {
     "data": {
      "application/vnd.jupyter.widget-view+json": {
       "model_id": "7b368caf65f141d88cc44e90cf615187",
       "version_major": 2,
       "version_minor": 0
      },
      "text/plain": [
       "VBox(children=(Label(value='0.001 MB of 0.005 MB uploaded\\r'), FloatProgress(value=0.23044151820294345, max=1.…"
      ]
     },
     "metadata": {},
     "output_type": "display_data"
    },
    {
     "data": {
      "text/html": [
       " View run <strong style=\"color:#cdcd00\">fresh-sweep-7</strong> at: <a href='https://wandb.ai/tripan-dham/dueling_mean_cartpole/runs/fq3kobh2/workspace' target=\"_blank\">https://wandb.ai/tripan-dham/dueling_mean_cartpole/runs/fq3kobh2/workspace</a><br/>Synced 4 W&B file(s), 0 media file(s), 0 artifact file(s) and 0 other file(s)"
      ],
      "text/plain": [
       "<IPython.core.display.HTML object>"
      ]
     },
     "metadata": {},
     "output_type": "display_data"
    },
    {
     "data": {
      "text/html": [
       "Find logs at: <code>.\\wandb\\run-20240404_033724-fq3kobh2\\logs</code>"
      ],
      "text/plain": [
       "<IPython.core.display.HTML object>"
      ]
     },
     "metadata": {},
     "output_type": "display_data"
    },
    {
     "name": "stderr",
     "output_type": "stream",
     "text": [
      "Run fq3kobh2 errored:\n",
      "Traceback (most recent call last):\n",
      "  File \"c:\\Users\\tripa\\AppData\\Local\\Programs\\Python\\Python310\\lib\\site-packages\\wandb\\agents\\pyagent.py\", line 308, in _run_job\n",
      "    self._function()\n",
      "  File \"C:\\Users\\tripa\\AppData\\Local\\Temp\\ipykernel_1648\\2843854326.py\", line 252, in run_training\n",
      "    regret = train(LR, UPDATE_EVERY, BUFFER_SIZE, BATCH_SIZE)\n",
      "  File \"C:\\Users\\tripa\\AppData\\Local\\Temp\\ipykernel_1648\\2843854326.py\", line 230, in train\n",
      "    all_scores_1=dqn(agent)\n",
      "  File \"C:\\Users\\tripa\\AppData\\Local\\Temp\\ipykernel_1648\\2843854326.py\", line 182, in dqn\n",
      "    agent.step(state, action, reward, next_state, done)\n",
      "  File \"C:\\Users\\tripa\\AppData\\Local\\Temp\\ipykernel_1648\\2843854326.py\", line 117, in step\n",
      "    experiences = self.memory.sample()\n",
      "  File \"C:\\Users\\tripa\\AppData\\Local\\Temp\\ipykernel_1648\\2843854326.py\", line 77, in sample\n",
      "    experiences = random.sample(self.memory, k=self.batch_size)\n",
      "  File \"c:\\Users\\tripa\\AppData\\Local\\Programs\\Python\\Python310\\lib\\random.py\", line 482, in sample\n",
      "    raise ValueError(\"Sample larger than population or is negative\")\n",
      "ValueError: Sample larger than population or is negative\n",
      "\n",
      "\u001b[34m\u001b[1mwandb\u001b[0m: \u001b[32m\u001b[41mERROR\u001b[0m Run fq3kobh2 errored:\n",
      "\u001b[34m\u001b[1mwandb\u001b[0m: \u001b[32m\u001b[41mERROR\u001b[0m Traceback (most recent call last):\n",
      "\u001b[34m\u001b[1mwandb\u001b[0m: \u001b[32m\u001b[41mERROR\u001b[0m   File \"c:\\Users\\tripa\\AppData\\Local\\Programs\\Python\\Python310\\lib\\site-packages\\wandb\\agents\\pyagent.py\", line 308, in _run_job\n",
      "\u001b[34m\u001b[1mwandb\u001b[0m: \u001b[32m\u001b[41mERROR\u001b[0m     self._function()\n",
      "\u001b[34m\u001b[1mwandb\u001b[0m: \u001b[32m\u001b[41mERROR\u001b[0m   File \"C:\\Users\\tripa\\AppData\\Local\\Temp\\ipykernel_1648\\2843854326.py\", line 252, in run_training\n",
      "\u001b[34m\u001b[1mwandb\u001b[0m: \u001b[32m\u001b[41mERROR\u001b[0m     regret = train(LR, UPDATE_EVERY, BUFFER_SIZE, BATCH_SIZE)\n",
      "\u001b[34m\u001b[1mwandb\u001b[0m: \u001b[32m\u001b[41mERROR\u001b[0m   File \"C:\\Users\\tripa\\AppData\\Local\\Temp\\ipykernel_1648\\2843854326.py\", line 230, in train\n",
      "\u001b[34m\u001b[1mwandb\u001b[0m: \u001b[32m\u001b[41mERROR\u001b[0m     all_scores_1=dqn(agent)\n",
      "\u001b[34m\u001b[1mwandb\u001b[0m: \u001b[32m\u001b[41mERROR\u001b[0m   File \"C:\\Users\\tripa\\AppData\\Local\\Temp\\ipykernel_1648\\2843854326.py\", line 182, in dqn\n",
      "\u001b[34m\u001b[1mwandb\u001b[0m: \u001b[32m\u001b[41mERROR\u001b[0m     agent.step(state, action, reward, next_state, done)\n",
      "\u001b[34m\u001b[1mwandb\u001b[0m: \u001b[32m\u001b[41mERROR\u001b[0m   File \"C:\\Users\\tripa\\AppData\\Local\\Temp\\ipykernel_1648\\2843854326.py\", line 117, in step\n",
      "\u001b[34m\u001b[1mwandb\u001b[0m: \u001b[32m\u001b[41mERROR\u001b[0m     experiences = self.memory.sample()\n",
      "\u001b[34m\u001b[1mwandb\u001b[0m: \u001b[32m\u001b[41mERROR\u001b[0m   File \"C:\\Users\\tripa\\AppData\\Local\\Temp\\ipykernel_1648\\2843854326.py\", line 77, in sample\n",
      "\u001b[34m\u001b[1mwandb\u001b[0m: \u001b[32m\u001b[41mERROR\u001b[0m     experiences = random.sample(self.memory, k=self.batch_size)\n",
      "\u001b[34m\u001b[1mwandb\u001b[0m: \u001b[32m\u001b[41mERROR\u001b[0m   File \"c:\\Users\\tripa\\AppData\\Local\\Programs\\Python\\Python310\\lib\\random.py\", line 482, in sample\n",
      "\u001b[34m\u001b[1mwandb\u001b[0m: \u001b[32m\u001b[41mERROR\u001b[0m     raise ValueError(\"Sample larger than population or is negative\")\n",
      "\u001b[34m\u001b[1mwandb\u001b[0m: \u001b[32m\u001b[41mERROR\u001b[0m ValueError: Sample larger than population or is negative\n",
      "\u001b[34m\u001b[1mwandb\u001b[0m: \u001b[32m\u001b[41mERROR\u001b[0m \n",
      "\u001b[34m\u001b[1mwandb\u001b[0m: Agent Starting Run: yq8hxg67 with config:\n",
      "\u001b[34m\u001b[1mwandb\u001b[0m: \tBATCH_SIZE: 256\n",
      "\u001b[34m\u001b[1mwandb\u001b[0m: \tBUFFER_SIZE: 1000\n",
      "\u001b[34m\u001b[1mwandb\u001b[0m: \tLR: 0.0036999975773668783\n",
      "\u001b[34m\u001b[1mwandb\u001b[0m: \tUPDATE_EVERY: 100\n",
      "Failed to detect the name of this notebook, you can set it manually with the WANDB_NOTEBOOK_NAME environment variable to enable code saving.\n",
      "\u001b[34m\u001b[1mwandb\u001b[0m: \u001b[33mWARNING\u001b[0m Ignored wandb.init() arg project when running a sweep.\n"
     ]
    },
    {
     "data": {
      "text/html": [
       "wandb version 0.16.6 is available!  To upgrade, please run:\n",
       " $ pip install wandb --upgrade"
      ],
      "text/plain": [
       "<IPython.core.display.HTML object>"
      ]
     },
     "metadata": {},
     "output_type": "display_data"
    },
    {
     "data": {
      "text/html": [
       "Tracking run with wandb version 0.16.5"
      ],
      "text/plain": [
       "<IPython.core.display.HTML object>"
      ]
     },
     "metadata": {},
     "output_type": "display_data"
    },
    {
     "data": {
      "text/html": [
       "Run data is saved locally in <code>C:\\Users\\tripa\\AppData\\Local\\Programs\\Microsoft VS Code\\wandb\\run-20240404_033736-yq8hxg67</code>"
      ],
      "text/plain": [
       "<IPython.core.display.HTML object>"
      ]
     },
     "metadata": {},
     "output_type": "display_data"
    },
    {
     "data": {
      "text/html": [
       "Syncing run <strong><a href='https://wandb.ai/tripan-dham/dueling_mean_cartpole/runs/yq8hxg67/workspace' target=\"_blank\">jumping-sweep-8</a></strong> to <a href='https://wandb.ai/tripan-dham/dueling_mean_cartpole' target=\"_blank\">Weights & Biases</a> (<a href='https://wandb.me/run' target=\"_blank\">docs</a>)<br/>Sweep page: <a href='https://wandb.ai/tripan-dham/dueling_mean_cartpole/sweeps/et9o2o7a' target=\"_blank\">https://wandb.ai/tripan-dham/dueling_mean_cartpole/sweeps/et9o2o7a</a>"
      ],
      "text/plain": [
       "<IPython.core.display.HTML object>"
      ]
     },
     "metadata": {},
     "output_type": "display_data"
    },
    {
     "data": {
      "text/html": [
       " View project at <a href='https://wandb.ai/tripan-dham/dueling_mean_cartpole' target=\"_blank\">https://wandb.ai/tripan-dham/dueling_mean_cartpole</a>"
      ],
      "text/plain": [
       "<IPython.core.display.HTML object>"
      ]
     },
     "metadata": {},
     "output_type": "display_data"
    },
    {
     "data": {
      "text/html": [
       " View sweep at <a href='https://wandb.ai/tripan-dham/dueling_mean_cartpole/sweeps/et9o2o7a' target=\"_blank\">https://wandb.ai/tripan-dham/dueling_mean_cartpole/sweeps/et9o2o7a</a>"
      ],
      "text/plain": [
       "<IPython.core.display.HTML object>"
      ]
     },
     "metadata": {},
     "output_type": "display_data"
    },
    {
     "data": {
      "text/html": [
       " View run at <a href='https://wandb.ai/tripan-dham/dueling_mean_cartpole/runs/yq8hxg67/workspace' target=\"_blank\">https://wandb.ai/tripan-dham/dueling_mean_cartpole/runs/yq8hxg67/workspace</a>"
      ],
      "text/plain": [
       "<IPython.core.display.HTML object>"
      ]
     },
     "metadata": {},
     "output_type": "display_data"
    },
    {
     "data": {
      "application/vnd.jupyter.widget-view+json": {
       "model_id": "7547afd458e240098639f36a9d0d3a0b",
       "version_major": 2,
       "version_minor": 0
      },
      "text/plain": [
       "VBox(children=(Label(value='0.001 MB of 0.005 MB uploaded\\r'), FloatProgress(value=0.22905027932960895, max=1.…"
      ]
     },
     "metadata": {},
     "output_type": "display_data"
    },
    {
     "data": {
      "text/html": [
       " View run <strong style=\"color:#cdcd00\">jumping-sweep-8</strong> at: <a href='https://wandb.ai/tripan-dham/dueling_mean_cartpole/runs/yq8hxg67/workspace' target=\"_blank\">https://wandb.ai/tripan-dham/dueling_mean_cartpole/runs/yq8hxg67/workspace</a><br/>Synced 4 W&B file(s), 0 media file(s), 0 artifact file(s) and 0 other file(s)"
      ],
      "text/plain": [
       "<IPython.core.display.HTML object>"
      ]
     },
     "metadata": {},
     "output_type": "display_data"
    },
    {
     "data": {
      "text/html": [
       "Find logs at: <code>.\\wandb\\run-20240404_033736-yq8hxg67\\logs</code>"
      ],
      "text/plain": [
       "<IPython.core.display.HTML object>"
      ]
     },
     "metadata": {},
     "output_type": "display_data"
    },
    {
     "name": "stderr",
     "output_type": "stream",
     "text": [
      "Run yq8hxg67 errored:\n",
      "Traceback (most recent call last):\n",
      "  File \"c:\\Users\\tripa\\AppData\\Local\\Programs\\Python\\Python310\\lib\\site-packages\\wandb\\agents\\pyagent.py\", line 308, in _run_job\n",
      "    self._function()\n",
      "  File \"C:\\Users\\tripa\\AppData\\Local\\Temp\\ipykernel_1648\\2843854326.py\", line 252, in run_training\n",
      "    regret = train(LR, UPDATE_EVERY, BUFFER_SIZE, BATCH_SIZE)\n",
      "  File \"C:\\Users\\tripa\\AppData\\Local\\Temp\\ipykernel_1648\\2843854326.py\", line 230, in train\n",
      "    all_scores_1=dqn(agent)\n",
      "  File \"C:\\Users\\tripa\\AppData\\Local\\Temp\\ipykernel_1648\\2843854326.py\", line 182, in dqn\n",
      "    agent.step(state, action, reward, next_state, done)\n",
      "  File \"C:\\Users\\tripa\\AppData\\Local\\Temp\\ipykernel_1648\\2843854326.py\", line 117, in step\n",
      "    experiences = self.memory.sample()\n",
      "  File \"C:\\Users\\tripa\\AppData\\Local\\Temp\\ipykernel_1648\\2843854326.py\", line 77, in sample\n",
      "    experiences = random.sample(self.memory, k=self.batch_size)\n",
      "  File \"c:\\Users\\tripa\\AppData\\Local\\Programs\\Python\\Python310\\lib\\random.py\", line 482, in sample\n",
      "    raise ValueError(\"Sample larger than population or is negative\")\n",
      "ValueError: Sample larger than population or is negative\n",
      "\n",
      "\u001b[34m\u001b[1mwandb\u001b[0m: \u001b[32m\u001b[41mERROR\u001b[0m Run yq8hxg67 errored:\n",
      "\u001b[34m\u001b[1mwandb\u001b[0m: \u001b[32m\u001b[41mERROR\u001b[0m Traceback (most recent call last):\n",
      "\u001b[34m\u001b[1mwandb\u001b[0m: \u001b[32m\u001b[41mERROR\u001b[0m   File \"c:\\Users\\tripa\\AppData\\Local\\Programs\\Python\\Python310\\lib\\site-packages\\wandb\\agents\\pyagent.py\", line 308, in _run_job\n",
      "\u001b[34m\u001b[1mwandb\u001b[0m: \u001b[32m\u001b[41mERROR\u001b[0m     self._function()\n",
      "\u001b[34m\u001b[1mwandb\u001b[0m: \u001b[32m\u001b[41mERROR\u001b[0m   File \"C:\\Users\\tripa\\AppData\\Local\\Temp\\ipykernel_1648\\2843854326.py\", line 252, in run_training\n",
      "\u001b[34m\u001b[1mwandb\u001b[0m: \u001b[32m\u001b[41mERROR\u001b[0m     regret = train(LR, UPDATE_EVERY, BUFFER_SIZE, BATCH_SIZE)\n",
      "\u001b[34m\u001b[1mwandb\u001b[0m: \u001b[32m\u001b[41mERROR\u001b[0m   File \"C:\\Users\\tripa\\AppData\\Local\\Temp\\ipykernel_1648\\2843854326.py\", line 230, in train\n",
      "\u001b[34m\u001b[1mwandb\u001b[0m: \u001b[32m\u001b[41mERROR\u001b[0m     all_scores_1=dqn(agent)\n",
      "\u001b[34m\u001b[1mwandb\u001b[0m: \u001b[32m\u001b[41mERROR\u001b[0m   File \"C:\\Users\\tripa\\AppData\\Local\\Temp\\ipykernel_1648\\2843854326.py\", line 182, in dqn\n",
      "\u001b[34m\u001b[1mwandb\u001b[0m: \u001b[32m\u001b[41mERROR\u001b[0m     agent.step(state, action, reward, next_state, done)\n",
      "\u001b[34m\u001b[1mwandb\u001b[0m: \u001b[32m\u001b[41mERROR\u001b[0m   File \"C:\\Users\\tripa\\AppData\\Local\\Temp\\ipykernel_1648\\2843854326.py\", line 117, in step\n",
      "\u001b[34m\u001b[1mwandb\u001b[0m: \u001b[32m\u001b[41mERROR\u001b[0m     experiences = self.memory.sample()\n",
      "\u001b[34m\u001b[1mwandb\u001b[0m: \u001b[32m\u001b[41mERROR\u001b[0m   File \"C:\\Users\\tripa\\AppData\\Local\\Temp\\ipykernel_1648\\2843854326.py\", line 77, in sample\n",
      "\u001b[34m\u001b[1mwandb\u001b[0m: \u001b[32m\u001b[41mERROR\u001b[0m     experiences = random.sample(self.memory, k=self.batch_size)\n",
      "\u001b[34m\u001b[1mwandb\u001b[0m: \u001b[32m\u001b[41mERROR\u001b[0m   File \"c:\\Users\\tripa\\AppData\\Local\\Programs\\Python\\Python310\\lib\\random.py\", line 482, in sample\n",
      "\u001b[34m\u001b[1mwandb\u001b[0m: \u001b[32m\u001b[41mERROR\u001b[0m     raise ValueError(\"Sample larger than population or is negative\")\n",
      "\u001b[34m\u001b[1mwandb\u001b[0m: \u001b[32m\u001b[41mERROR\u001b[0m ValueError: Sample larger than population or is negative\n",
      "\u001b[34m\u001b[1mwandb\u001b[0m: \u001b[32m\u001b[41mERROR\u001b[0m \n",
      "\u001b[34m\u001b[1mwandb\u001b[0m: Agent Starting Run: ec1by0v6 with config:\n",
      "\u001b[34m\u001b[1mwandb\u001b[0m: \tBATCH_SIZE: 64\n",
      "\u001b[34m\u001b[1mwandb\u001b[0m: \tBUFFER_SIZE: 100\n",
      "\u001b[34m\u001b[1mwandb\u001b[0m: \tLR: 0.0028237457369954225\n",
      "\u001b[34m\u001b[1mwandb\u001b[0m: \tUPDATE_EVERY: 50\n",
      "Failed to detect the name of this notebook, you can set it manually with the WANDB_NOTEBOOK_NAME environment variable to enable code saving.\n",
      "\u001b[34m\u001b[1mwandb\u001b[0m: \u001b[33mWARNING\u001b[0m Ignored wandb.init() arg project when running a sweep.\n"
     ]
    },
    {
     "data": {
      "text/html": [
       "wandb version 0.16.6 is available!  To upgrade, please run:\n",
       " $ pip install wandb --upgrade"
      ],
      "text/plain": [
       "<IPython.core.display.HTML object>"
      ]
     },
     "metadata": {},
     "output_type": "display_data"
    },
    {
     "data": {
      "text/html": [
       "Tracking run with wandb version 0.16.5"
      ],
      "text/plain": [
       "<IPython.core.display.HTML object>"
      ]
     },
     "metadata": {},
     "output_type": "display_data"
    },
    {
     "data": {
      "text/html": [
       "Run data is saved locally in <code>C:\\Users\\tripa\\AppData\\Local\\Programs\\Microsoft VS Code\\wandb\\run-20240404_033746-ec1by0v6</code>"
      ],
      "text/plain": [
       "<IPython.core.display.HTML object>"
      ]
     },
     "metadata": {},
     "output_type": "display_data"
    },
    {
     "data": {
      "text/html": [
       "Syncing run <strong><a href='https://wandb.ai/tripan-dham/dueling_mean_cartpole/runs/ec1by0v6/workspace' target=\"_blank\">floral-sweep-9</a></strong> to <a href='https://wandb.ai/tripan-dham/dueling_mean_cartpole' target=\"_blank\">Weights & Biases</a> (<a href='https://wandb.me/run' target=\"_blank\">docs</a>)<br/>Sweep page: <a href='https://wandb.ai/tripan-dham/dueling_mean_cartpole/sweeps/et9o2o7a' target=\"_blank\">https://wandb.ai/tripan-dham/dueling_mean_cartpole/sweeps/et9o2o7a</a>"
      ],
      "text/plain": [
       "<IPython.core.display.HTML object>"
      ]
     },
     "metadata": {},
     "output_type": "display_data"
    },
    {
     "data": {
      "text/html": [
       " View project at <a href='https://wandb.ai/tripan-dham/dueling_mean_cartpole' target=\"_blank\">https://wandb.ai/tripan-dham/dueling_mean_cartpole</a>"
      ],
      "text/plain": [
       "<IPython.core.display.HTML object>"
      ]
     },
     "metadata": {},
     "output_type": "display_data"
    },
    {
     "data": {
      "text/html": [
       " View sweep at <a href='https://wandb.ai/tripan-dham/dueling_mean_cartpole/sweeps/et9o2o7a' target=\"_blank\">https://wandb.ai/tripan-dham/dueling_mean_cartpole/sweeps/et9o2o7a</a>"
      ],
      "text/plain": [
       "<IPython.core.display.HTML object>"
      ]
     },
     "metadata": {},
     "output_type": "display_data"
    },
    {
     "data": {
      "text/html": [
       " View run at <a href='https://wandb.ai/tripan-dham/dueling_mean_cartpole/runs/ec1by0v6/workspace' target=\"_blank\">https://wandb.ai/tripan-dham/dueling_mean_cartpole/runs/ec1by0v6/workspace</a>"
      ],
      "text/plain": [
       "<IPython.core.display.HTML object>"
      ]
     },
     "metadata": {},
     "output_type": "display_data"
    },
    {
     "data": {
      "application/vnd.jupyter.widget-view+json": {
       "model_id": "830f141702324ad3aeb97097da418a27",
       "version_major": 2,
       "version_minor": 0
      },
      "text/plain": [
       "VBox(children=(Label(value='0.001 MB of 0.005 MB uploaded\\r'), FloatProgress(value=0.2303370786516854, max=1.0…"
      ]
     },
     "metadata": {},
     "output_type": "display_data"
    },
    {
     "data": {
      "text/html": [
       "<style>\n",
       "    table.wandb td:nth-child(1) { padding: 0 10px; text-align: left ; width: auto;} td:nth-child(2) {text-align: left ; width: 100%}\n",
       "    .wandb-row { display: flex; flex-direction: row; flex-wrap: wrap; justify-content: flex-start; width: 100% }\n",
       "    .wandb-col { display: flex; flex-direction: column; flex-basis: 100%; flex: 1; padding: 10px; }\n",
       "    </style>\n",
       "<div class=\"wandb-row\"><div class=\"wandb-col\"><h3>Run history:</h3><br/><table class=\"wandb\"><tr><td>regret</td><td>▁</td></tr></table><br/></div><div class=\"wandb-col\"><h3>Run summary:</h3><br/><table class=\"wandb\"><tr><td>regret</td><td>111097.93932</td></tr></table><br/></div></div>"
      ],
      "text/plain": [
       "<IPython.core.display.HTML object>"
      ]
     },
     "metadata": {},
     "output_type": "display_data"
    },
    {
     "data": {
      "text/html": [
       " View run <strong style=\"color:#cdcd00\">floral-sweep-9</strong> at: <a href='https://wandb.ai/tripan-dham/dueling_mean_cartpole/runs/ec1by0v6/workspace' target=\"_blank\">https://wandb.ai/tripan-dham/dueling_mean_cartpole/runs/ec1by0v6/workspace</a><br/>Synced 4 W&B file(s), 0 media file(s), 0 artifact file(s) and 0 other file(s)"
      ],
      "text/plain": [
       "<IPython.core.display.HTML object>"
      ]
     },
     "metadata": {},
     "output_type": "display_data"
    },
    {
     "data": {
      "text/html": [
       "Find logs at: <code>.\\wandb\\run-20240404_033746-ec1by0v6\\logs</code>"
      ],
      "text/plain": [
       "<IPython.core.display.HTML object>"
      ]
     },
     "metadata": {},
     "output_type": "display_data"
    },
    {
     "name": "stderr",
     "output_type": "stream",
     "text": [
      "\u001b[34m\u001b[1mwandb\u001b[0m: Agent Starting Run: h8uh0qja with config:\n",
      "\u001b[34m\u001b[1mwandb\u001b[0m: \tBATCH_SIZE: 64\n",
      "\u001b[34m\u001b[1mwandb\u001b[0m: \tBUFFER_SIZE: 100\n",
      "\u001b[34m\u001b[1mwandb\u001b[0m: \tLR: 0.0016589854100256323\n",
      "\u001b[34m\u001b[1mwandb\u001b[0m: \tUPDATE_EVERY: 50\n",
      "Failed to detect the name of this notebook, you can set it manually with the WANDB_NOTEBOOK_NAME environment variable to enable code saving.\n",
      "\u001b[34m\u001b[1mwandb\u001b[0m: \u001b[33mWARNING\u001b[0m Ignored wandb.init() arg project when running a sweep.\n"
     ]
    },
    {
     "data": {
      "text/html": [
       "wandb version 0.16.6 is available!  To upgrade, please run:\n",
       " $ pip install wandb --upgrade"
      ],
      "text/plain": [
       "<IPython.core.display.HTML object>"
      ]
     },
     "metadata": {},
     "output_type": "display_data"
    },
    {
     "data": {
      "text/html": [
       "Tracking run with wandb version 0.16.5"
      ],
      "text/plain": [
       "<IPython.core.display.HTML object>"
      ]
     },
     "metadata": {},
     "output_type": "display_data"
    },
    {
     "data": {
      "text/html": [
       "Run data is saved locally in <code>C:\\Users\\tripa\\AppData\\Local\\Programs\\Microsoft VS Code\\wandb\\run-20240404_034210-h8uh0qja</code>"
      ],
      "text/plain": [
       "<IPython.core.display.HTML object>"
      ]
     },
     "metadata": {},
     "output_type": "display_data"
    },
    {
     "data": {
      "text/html": [
       "Syncing run <strong><a href='https://wandb.ai/tripan-dham/dueling_mean_cartpole/runs/h8uh0qja/workspace' target=\"_blank\">floral-sweep-10</a></strong> to <a href='https://wandb.ai/tripan-dham/dueling_mean_cartpole' target=\"_blank\">Weights & Biases</a> (<a href='https://wandb.me/run' target=\"_blank\">docs</a>)<br/>Sweep page: <a href='https://wandb.ai/tripan-dham/dueling_mean_cartpole/sweeps/et9o2o7a' target=\"_blank\">https://wandb.ai/tripan-dham/dueling_mean_cartpole/sweeps/et9o2o7a</a>"
      ],
      "text/plain": [
       "<IPython.core.display.HTML object>"
      ]
     },
     "metadata": {},
     "output_type": "display_data"
    },
    {
     "data": {
      "text/html": [
       " View project at <a href='https://wandb.ai/tripan-dham/dueling_mean_cartpole' target=\"_blank\">https://wandb.ai/tripan-dham/dueling_mean_cartpole</a>"
      ],
      "text/plain": [
       "<IPython.core.display.HTML object>"
      ]
     },
     "metadata": {},
     "output_type": "display_data"
    },
    {
     "data": {
      "text/html": [
       " View sweep at <a href='https://wandb.ai/tripan-dham/dueling_mean_cartpole/sweeps/et9o2o7a' target=\"_blank\">https://wandb.ai/tripan-dham/dueling_mean_cartpole/sweeps/et9o2o7a</a>"
      ],
      "text/plain": [
       "<IPython.core.display.HTML object>"
      ]
     },
     "metadata": {},
     "output_type": "display_data"
    },
    {
     "data": {
      "text/html": [
       " View run at <a href='https://wandb.ai/tripan-dham/dueling_mean_cartpole/runs/h8uh0qja/workspace' target=\"_blank\">https://wandb.ai/tripan-dham/dueling_mean_cartpole/runs/h8uh0qja/workspace</a>"
      ],
      "text/plain": [
       "<IPython.core.display.HTML object>"
      ]
     },
     "metadata": {},
     "output_type": "display_data"
    },
    {
     "data": {
      "application/vnd.jupyter.widget-view+json": {
       "model_id": "e99f90c71e804475b13be2e21f0a4127",
       "version_major": 2,
       "version_minor": 0
      },
      "text/plain": [
       "VBox(children=(Label(value='0.001 MB of 0.005 MB uploaded\\r'), FloatProgress(value=0.22450906344410876, max=1.…"
      ]
     },
     "metadata": {},
     "output_type": "display_data"
    },
    {
     "data": {
      "text/html": [
       "<style>\n",
       "    table.wandb td:nth-child(1) { padding: 0 10px; text-align: left ; width: auto;} td:nth-child(2) {text-align: left ; width: 100%}\n",
       "    .wandb-row { display: flex; flex-direction: row; flex-wrap: wrap; justify-content: flex-start; width: 100% }\n",
       "    .wandb-col { display: flex; flex-direction: column; flex-basis: 100%; flex: 1; padding: 10px; }\n",
       "    </style>\n",
       "<div class=\"wandb-row\"><div class=\"wandb-col\"><h3>Run history:</h3><br/><table class=\"wandb\"><tr><td>regret</td><td>▁</td></tr></table><br/></div><div class=\"wandb-col\"><h3>Run summary:</h3><br/><table class=\"wandb\"><tr><td>regret</td><td>108451.67906</td></tr></table><br/></div></div>"
      ],
      "text/plain": [
       "<IPython.core.display.HTML object>"
      ]
     },
     "metadata": {},
     "output_type": "display_data"
    },
    {
     "data": {
      "text/html": [
       " View run <strong style=\"color:#cdcd00\">floral-sweep-10</strong> at: <a href='https://wandb.ai/tripan-dham/dueling_mean_cartpole/runs/h8uh0qja/workspace' target=\"_blank\">https://wandb.ai/tripan-dham/dueling_mean_cartpole/runs/h8uh0qja/workspace</a><br/>Synced 4 W&B file(s), 0 media file(s), 0 artifact file(s) and 0 other file(s)"
      ],
      "text/plain": [
       "<IPython.core.display.HTML object>"
      ]
     },
     "metadata": {},
     "output_type": "display_data"
    },
    {
     "data": {
      "text/html": [
       "Find logs at: <code>.\\wandb\\run-20240404_034210-h8uh0qja\\logs</code>"
      ],
      "text/plain": [
       "<IPython.core.display.HTML object>"
      ]
     },
     "metadata": {},
     "output_type": "display_data"
    },
    {
     "name": "stderr",
     "output_type": "stream",
     "text": [
      "\u001b[34m\u001b[1mwandb\u001b[0m: Agent Starting Run: ic1rqewx with config:\n",
      "\u001b[34m\u001b[1mwandb\u001b[0m: \tBATCH_SIZE: 128\n",
      "\u001b[34m\u001b[1mwandb\u001b[0m: \tBUFFER_SIZE: 1000\n",
      "\u001b[34m\u001b[1mwandb\u001b[0m: \tLR: 0.0028070661936068996\n",
      "\u001b[34m\u001b[1mwandb\u001b[0m: \tUPDATE_EVERY: 50\n",
      "Failed to detect the name of this notebook, you can set it manually with the WANDB_NOTEBOOK_NAME environment variable to enable code saving.\n",
      "\u001b[34m\u001b[1mwandb\u001b[0m: \u001b[33mWARNING\u001b[0m Ignored wandb.init() arg project when running a sweep.\n"
     ]
    },
    {
     "data": {
      "text/html": [
       "wandb version 0.16.6 is available!  To upgrade, please run:\n",
       " $ pip install wandb --upgrade"
      ],
      "text/plain": [
       "<IPython.core.display.HTML object>"
      ]
     },
     "metadata": {},
     "output_type": "display_data"
    },
    {
     "data": {
      "text/html": [
       "Tracking run with wandb version 0.16.5"
      ],
      "text/plain": [
       "<IPython.core.display.HTML object>"
      ]
     },
     "metadata": {},
     "output_type": "display_data"
    },
    {
     "data": {
      "text/html": [
       "Run data is saved locally in <code>C:\\Users\\tripa\\AppData\\Local\\Programs\\Microsoft VS Code\\wandb\\run-20240404_034552-ic1rqewx</code>"
      ],
      "text/plain": [
       "<IPython.core.display.HTML object>"
      ]
     },
     "metadata": {},
     "output_type": "display_data"
    },
    {
     "data": {
      "text/html": [
       "Syncing run <strong><a href='https://wandb.ai/tripan-dham/dueling_mean_cartpole/runs/ic1rqewx/workspace' target=\"_blank\">different-sweep-11</a></strong> to <a href='https://wandb.ai/tripan-dham/dueling_mean_cartpole' target=\"_blank\">Weights & Biases</a> (<a href='https://wandb.me/run' target=\"_blank\">docs</a>)<br/>Sweep page: <a href='https://wandb.ai/tripan-dham/dueling_mean_cartpole/sweeps/et9o2o7a' target=\"_blank\">https://wandb.ai/tripan-dham/dueling_mean_cartpole/sweeps/et9o2o7a</a>"
      ],
      "text/plain": [
       "<IPython.core.display.HTML object>"
      ]
     },
     "metadata": {},
     "output_type": "display_data"
    },
    {
     "data": {
      "text/html": [
       " View project at <a href='https://wandb.ai/tripan-dham/dueling_mean_cartpole' target=\"_blank\">https://wandb.ai/tripan-dham/dueling_mean_cartpole</a>"
      ],
      "text/plain": [
       "<IPython.core.display.HTML object>"
      ]
     },
     "metadata": {},
     "output_type": "display_data"
    },
    {
     "data": {
      "text/html": [
       " View sweep at <a href='https://wandb.ai/tripan-dham/dueling_mean_cartpole/sweeps/et9o2o7a' target=\"_blank\">https://wandb.ai/tripan-dham/dueling_mean_cartpole/sweeps/et9o2o7a</a>"
      ],
      "text/plain": [
       "<IPython.core.display.HTML object>"
      ]
     },
     "metadata": {},
     "output_type": "display_data"
    },
    {
     "data": {
      "text/html": [
       " View run at <a href='https://wandb.ai/tripan-dham/dueling_mean_cartpole/runs/ic1rqewx/workspace' target=\"_blank\">https://wandb.ai/tripan-dham/dueling_mean_cartpole/runs/ic1rqewx/workspace</a>"
      ],
      "text/plain": [
       "<IPython.core.display.HTML object>"
      ]
     },
     "metadata": {},
     "output_type": "display_data"
    },
    {
     "data": {
      "application/vnd.jupyter.widget-view+json": {
       "model_id": "138095ca78d848b697b403cce043f54f",
       "version_major": 2,
       "version_minor": 0
      },
      "text/plain": [
       "VBox(children=(Label(value='0.001 MB of 0.001 MB uploaded\\r'), FloatProgress(value=1.0, max=1.0)))"
      ]
     },
     "metadata": {},
     "output_type": "display_data"
    },
    {
     "data": {
      "text/html": [
       " View run <strong style=\"color:#cdcd00\">different-sweep-11</strong> at: <a href='https://wandb.ai/tripan-dham/dueling_mean_cartpole/runs/ic1rqewx/workspace' target=\"_blank\">https://wandb.ai/tripan-dham/dueling_mean_cartpole/runs/ic1rqewx/workspace</a><br/>Synced 4 W&B file(s), 0 media file(s), 0 artifact file(s) and 0 other file(s)"
      ],
      "text/plain": [
       "<IPython.core.display.HTML object>"
      ]
     },
     "metadata": {},
     "output_type": "display_data"
    },
    {
     "data": {
      "text/html": [
       "Find logs at: <code>.\\wandb\\run-20240404_034552-ic1rqewx\\logs</code>"
      ],
      "text/plain": [
       "<IPython.core.display.HTML object>"
      ]
     },
     "metadata": {},
     "output_type": "display_data"
    },
    {
     "name": "stderr",
     "output_type": "stream",
     "text": [
      "Run ic1rqewx errored:\n",
      "Traceback (most recent call last):\n",
      "  File \"c:\\Users\\tripa\\AppData\\Local\\Programs\\Python\\Python310\\lib\\site-packages\\wandb\\agents\\pyagent.py\", line 308, in _run_job\n",
      "    self._function()\n",
      "  File \"C:\\Users\\tripa\\AppData\\Local\\Temp\\ipykernel_1648\\2843854326.py\", line 252, in run_training\n",
      "    regret = train(LR, UPDATE_EVERY, BUFFER_SIZE, BATCH_SIZE)\n",
      "  File \"C:\\Users\\tripa\\AppData\\Local\\Temp\\ipykernel_1648\\2843854326.py\", line 230, in train\n",
      "    all_scores_1=dqn(agent)\n",
      "  File \"C:\\Users\\tripa\\AppData\\Local\\Temp\\ipykernel_1648\\2843854326.py\", line 182, in dqn\n",
      "    agent.step(state, action, reward, next_state, done)\n",
      "  File \"C:\\Users\\tripa\\AppData\\Local\\Temp\\ipykernel_1648\\2843854326.py\", line 117, in step\n",
      "    experiences = self.memory.sample()\n",
      "  File \"C:\\Users\\tripa\\AppData\\Local\\Temp\\ipykernel_1648\\2843854326.py\", line 77, in sample\n",
      "    experiences = random.sample(self.memory, k=self.batch_size)\n",
      "  File \"c:\\Users\\tripa\\AppData\\Local\\Programs\\Python\\Python310\\lib\\random.py\", line 482, in sample\n",
      "    raise ValueError(\"Sample larger than population or is negative\")\n",
      "ValueError: Sample larger than population or is negative\n",
      "\n",
      "\u001b[34m\u001b[1mwandb\u001b[0m: \u001b[32m\u001b[41mERROR\u001b[0m Run ic1rqewx errored:\n",
      "\u001b[34m\u001b[1mwandb\u001b[0m: \u001b[32m\u001b[41mERROR\u001b[0m Traceback (most recent call last):\n",
      "\u001b[34m\u001b[1mwandb\u001b[0m: \u001b[32m\u001b[41mERROR\u001b[0m   File \"c:\\Users\\tripa\\AppData\\Local\\Programs\\Python\\Python310\\lib\\site-packages\\wandb\\agents\\pyagent.py\", line 308, in _run_job\n",
      "\u001b[34m\u001b[1mwandb\u001b[0m: \u001b[32m\u001b[41mERROR\u001b[0m     self._function()\n",
      "\u001b[34m\u001b[1mwandb\u001b[0m: \u001b[32m\u001b[41mERROR\u001b[0m   File \"C:\\Users\\tripa\\AppData\\Local\\Temp\\ipykernel_1648\\2843854326.py\", line 252, in run_training\n",
      "\u001b[34m\u001b[1mwandb\u001b[0m: \u001b[32m\u001b[41mERROR\u001b[0m     regret = train(LR, UPDATE_EVERY, BUFFER_SIZE, BATCH_SIZE)\n",
      "\u001b[34m\u001b[1mwandb\u001b[0m: \u001b[32m\u001b[41mERROR\u001b[0m   File \"C:\\Users\\tripa\\AppData\\Local\\Temp\\ipykernel_1648\\2843854326.py\", line 230, in train\n",
      "\u001b[34m\u001b[1mwandb\u001b[0m: \u001b[32m\u001b[41mERROR\u001b[0m     all_scores_1=dqn(agent)\n",
      "\u001b[34m\u001b[1mwandb\u001b[0m: \u001b[32m\u001b[41mERROR\u001b[0m   File \"C:\\Users\\tripa\\AppData\\Local\\Temp\\ipykernel_1648\\2843854326.py\", line 182, in dqn\n",
      "\u001b[34m\u001b[1mwandb\u001b[0m: \u001b[32m\u001b[41mERROR\u001b[0m     agent.step(state, action, reward, next_state, done)\n",
      "\u001b[34m\u001b[1mwandb\u001b[0m: \u001b[32m\u001b[41mERROR\u001b[0m   File \"C:\\Users\\tripa\\AppData\\Local\\Temp\\ipykernel_1648\\2843854326.py\", line 117, in step\n",
      "\u001b[34m\u001b[1mwandb\u001b[0m: \u001b[32m\u001b[41mERROR\u001b[0m     experiences = self.memory.sample()\n",
      "\u001b[34m\u001b[1mwandb\u001b[0m: \u001b[32m\u001b[41mERROR\u001b[0m   File \"C:\\Users\\tripa\\AppData\\Local\\Temp\\ipykernel_1648\\2843854326.py\", line 77, in sample\n",
      "\u001b[34m\u001b[1mwandb\u001b[0m: \u001b[32m\u001b[41mERROR\u001b[0m     experiences = random.sample(self.memory, k=self.batch_size)\n",
      "\u001b[34m\u001b[1mwandb\u001b[0m: \u001b[32m\u001b[41mERROR\u001b[0m   File \"c:\\Users\\tripa\\AppData\\Local\\Programs\\Python\\Python310\\lib\\random.py\", line 482, in sample\n",
      "\u001b[34m\u001b[1mwandb\u001b[0m: \u001b[32m\u001b[41mERROR\u001b[0m     raise ValueError(\"Sample larger than population or is negative\")\n",
      "\u001b[34m\u001b[1mwandb\u001b[0m: \u001b[32m\u001b[41mERROR\u001b[0m ValueError: Sample larger than population or is negative\n",
      "\u001b[34m\u001b[1mwandb\u001b[0m: \u001b[32m\u001b[41mERROR\u001b[0m \n",
      "\u001b[34m\u001b[1mwandb\u001b[0m: Agent Starting Run: wwtjbmrk with config:\n",
      "\u001b[34m\u001b[1mwandb\u001b[0m: \tBATCH_SIZE: 128\n",
      "\u001b[34m\u001b[1mwandb\u001b[0m: \tBUFFER_SIZE: 1000\n",
      "\u001b[34m\u001b[1mwandb\u001b[0m: \tLR: 0.0011412113616163218\n",
      "\u001b[34m\u001b[1mwandb\u001b[0m: \tUPDATE_EVERY: 50\n",
      "Failed to detect the name of this notebook, you can set it manually with the WANDB_NOTEBOOK_NAME environment variable to enable code saving.\n",
      "\u001b[34m\u001b[1mwandb\u001b[0m: \u001b[33mWARNING\u001b[0m Ignored wandb.init() arg project when running a sweep.\n"
     ]
    },
    {
     "data": {
      "text/html": [
       "wandb version 0.16.6 is available!  To upgrade, please run:\n",
       " $ pip install wandb --upgrade"
      ],
      "text/plain": [
       "<IPython.core.display.HTML object>"
      ]
     },
     "metadata": {},
     "output_type": "display_data"
    },
    {
     "data": {
      "text/html": [
       "Tracking run with wandb version 0.16.5"
      ],
      "text/plain": [
       "<IPython.core.display.HTML object>"
      ]
     },
     "metadata": {},
     "output_type": "display_data"
    },
    {
     "data": {
      "text/html": [
       "Run data is saved locally in <code>C:\\Users\\tripa\\AppData\\Local\\Programs\\Microsoft VS Code\\wandb\\run-20240404_034602-wwtjbmrk</code>"
      ],
      "text/plain": [
       "<IPython.core.display.HTML object>"
      ]
     },
     "metadata": {},
     "output_type": "display_data"
    },
    {
     "data": {
      "text/html": [
       "Syncing run <strong><a href='https://wandb.ai/tripan-dham/dueling_mean_cartpole/runs/wwtjbmrk/workspace' target=\"_blank\">effortless-sweep-12</a></strong> to <a href='https://wandb.ai/tripan-dham/dueling_mean_cartpole' target=\"_blank\">Weights & Biases</a> (<a href='https://wandb.me/run' target=\"_blank\">docs</a>)<br/>Sweep page: <a href='https://wandb.ai/tripan-dham/dueling_mean_cartpole/sweeps/et9o2o7a' target=\"_blank\">https://wandb.ai/tripan-dham/dueling_mean_cartpole/sweeps/et9o2o7a</a>"
      ],
      "text/plain": [
       "<IPython.core.display.HTML object>"
      ]
     },
     "metadata": {},
     "output_type": "display_data"
    },
    {
     "data": {
      "text/html": [
       " View project at <a href='https://wandb.ai/tripan-dham/dueling_mean_cartpole' target=\"_blank\">https://wandb.ai/tripan-dham/dueling_mean_cartpole</a>"
      ],
      "text/plain": [
       "<IPython.core.display.HTML object>"
      ]
     },
     "metadata": {},
     "output_type": "display_data"
    },
    {
     "data": {
      "text/html": [
       " View sweep at <a href='https://wandb.ai/tripan-dham/dueling_mean_cartpole/sweeps/et9o2o7a' target=\"_blank\">https://wandb.ai/tripan-dham/dueling_mean_cartpole/sweeps/et9o2o7a</a>"
      ],
      "text/plain": [
       "<IPython.core.display.HTML object>"
      ]
     },
     "metadata": {},
     "output_type": "display_data"
    },
    {
     "data": {
      "text/html": [
       " View run at <a href='https://wandb.ai/tripan-dham/dueling_mean_cartpole/runs/wwtjbmrk/workspace' target=\"_blank\">https://wandb.ai/tripan-dham/dueling_mean_cartpole/runs/wwtjbmrk/workspace</a>"
      ],
      "text/plain": [
       "<IPython.core.display.HTML object>"
      ]
     },
     "metadata": {},
     "output_type": "display_data"
    },
    {
     "data": {
      "application/vnd.jupyter.widget-view+json": {
       "model_id": "bf5b75eedc874c86aaf644bdcb30145a",
       "version_major": 2,
       "version_minor": 0
      },
      "text/plain": [
       "VBox(children=(Label(value='0.001 MB of 0.005 MB uploaded\\r'), FloatProgress(value=0.22909441233140654, max=1.…"
      ]
     },
     "metadata": {},
     "output_type": "display_data"
    },
    {
     "data": {
      "text/html": [
       " View run <strong style=\"color:#cdcd00\">effortless-sweep-12</strong> at: <a href='https://wandb.ai/tripan-dham/dueling_mean_cartpole/runs/wwtjbmrk/workspace' target=\"_blank\">https://wandb.ai/tripan-dham/dueling_mean_cartpole/runs/wwtjbmrk/workspace</a><br/>Synced 4 W&B file(s), 0 media file(s), 0 artifact file(s) and 0 other file(s)"
      ],
      "text/plain": [
       "<IPython.core.display.HTML object>"
      ]
     },
     "metadata": {},
     "output_type": "display_data"
    },
    {
     "data": {
      "text/html": [
       "Find logs at: <code>.\\wandb\\run-20240404_034602-wwtjbmrk\\logs</code>"
      ],
      "text/plain": [
       "<IPython.core.display.HTML object>"
      ]
     },
     "metadata": {},
     "output_type": "display_data"
    },
    {
     "name": "stderr",
     "output_type": "stream",
     "text": [
      "Run wwtjbmrk errored:\n",
      "Traceback (most recent call last):\n",
      "  File \"c:\\Users\\tripa\\AppData\\Local\\Programs\\Python\\Python310\\lib\\site-packages\\wandb\\agents\\pyagent.py\", line 308, in _run_job\n",
      "    self._function()\n",
      "  File \"C:\\Users\\tripa\\AppData\\Local\\Temp\\ipykernel_1648\\2843854326.py\", line 252, in run_training\n",
      "    regret = train(LR, UPDATE_EVERY, BUFFER_SIZE, BATCH_SIZE)\n",
      "  File \"C:\\Users\\tripa\\AppData\\Local\\Temp\\ipykernel_1648\\2843854326.py\", line 230, in train\n",
      "    all_scores_1=dqn(agent)\n",
      "  File \"C:\\Users\\tripa\\AppData\\Local\\Temp\\ipykernel_1648\\2843854326.py\", line 182, in dqn\n",
      "    agent.step(state, action, reward, next_state, done)\n",
      "  File \"C:\\Users\\tripa\\AppData\\Local\\Temp\\ipykernel_1648\\2843854326.py\", line 117, in step\n",
      "    experiences = self.memory.sample()\n",
      "  File \"C:\\Users\\tripa\\AppData\\Local\\Temp\\ipykernel_1648\\2843854326.py\", line 77, in sample\n",
      "    experiences = random.sample(self.memory, k=self.batch_size)\n",
      "  File \"c:\\Users\\tripa\\AppData\\Local\\Programs\\Python\\Python310\\lib\\random.py\", line 482, in sample\n",
      "    raise ValueError(\"Sample larger than population or is negative\")\n",
      "ValueError: Sample larger than population or is negative\n",
      "\n",
      "\u001b[34m\u001b[1mwandb\u001b[0m: \u001b[32m\u001b[41mERROR\u001b[0m Run wwtjbmrk errored:\n",
      "\u001b[34m\u001b[1mwandb\u001b[0m: \u001b[32m\u001b[41mERROR\u001b[0m Traceback (most recent call last):\n",
      "\u001b[34m\u001b[1mwandb\u001b[0m: \u001b[32m\u001b[41mERROR\u001b[0m   File \"c:\\Users\\tripa\\AppData\\Local\\Programs\\Python\\Python310\\lib\\site-packages\\wandb\\agents\\pyagent.py\", line 308, in _run_job\n",
      "\u001b[34m\u001b[1mwandb\u001b[0m: \u001b[32m\u001b[41mERROR\u001b[0m     self._function()\n",
      "\u001b[34m\u001b[1mwandb\u001b[0m: \u001b[32m\u001b[41mERROR\u001b[0m   File \"C:\\Users\\tripa\\AppData\\Local\\Temp\\ipykernel_1648\\2843854326.py\", line 252, in run_training\n",
      "\u001b[34m\u001b[1mwandb\u001b[0m: \u001b[32m\u001b[41mERROR\u001b[0m     regret = train(LR, UPDATE_EVERY, BUFFER_SIZE, BATCH_SIZE)\n",
      "\u001b[34m\u001b[1mwandb\u001b[0m: \u001b[32m\u001b[41mERROR\u001b[0m   File \"C:\\Users\\tripa\\AppData\\Local\\Temp\\ipykernel_1648\\2843854326.py\", line 230, in train\n",
      "\u001b[34m\u001b[1mwandb\u001b[0m: \u001b[32m\u001b[41mERROR\u001b[0m     all_scores_1=dqn(agent)\n",
      "\u001b[34m\u001b[1mwandb\u001b[0m: \u001b[32m\u001b[41mERROR\u001b[0m   File \"C:\\Users\\tripa\\AppData\\Local\\Temp\\ipykernel_1648\\2843854326.py\", line 182, in dqn\n",
      "\u001b[34m\u001b[1mwandb\u001b[0m: \u001b[32m\u001b[41mERROR\u001b[0m     agent.step(state, action, reward, next_state, done)\n",
      "\u001b[34m\u001b[1mwandb\u001b[0m: \u001b[32m\u001b[41mERROR\u001b[0m   File \"C:\\Users\\tripa\\AppData\\Local\\Temp\\ipykernel_1648\\2843854326.py\", line 117, in step\n",
      "\u001b[34m\u001b[1mwandb\u001b[0m: \u001b[32m\u001b[41mERROR\u001b[0m     experiences = self.memory.sample()\n",
      "\u001b[34m\u001b[1mwandb\u001b[0m: \u001b[32m\u001b[41mERROR\u001b[0m   File \"C:\\Users\\tripa\\AppData\\Local\\Temp\\ipykernel_1648\\2843854326.py\", line 77, in sample\n",
      "\u001b[34m\u001b[1mwandb\u001b[0m: \u001b[32m\u001b[41mERROR\u001b[0m     experiences = random.sample(self.memory, k=self.batch_size)\n",
      "\u001b[34m\u001b[1mwandb\u001b[0m: \u001b[32m\u001b[41mERROR\u001b[0m   File \"c:\\Users\\tripa\\AppData\\Local\\Programs\\Python\\Python310\\lib\\random.py\", line 482, in sample\n",
      "\u001b[34m\u001b[1mwandb\u001b[0m: \u001b[32m\u001b[41mERROR\u001b[0m     raise ValueError(\"Sample larger than population or is negative\")\n",
      "\u001b[34m\u001b[1mwandb\u001b[0m: \u001b[32m\u001b[41mERROR\u001b[0m ValueError: Sample larger than population or is negative\n",
      "\u001b[34m\u001b[1mwandb\u001b[0m: \u001b[32m\u001b[41mERROR\u001b[0m \n",
      "\u001b[34m\u001b[1mwandb\u001b[0m: Agent Starting Run: 4gt0zi7q with config:\n",
      "\u001b[34m\u001b[1mwandb\u001b[0m: \tBATCH_SIZE: 64\n",
      "\u001b[34m\u001b[1mwandb\u001b[0m: \tBUFFER_SIZE: 100\n",
      "\u001b[34m\u001b[1mwandb\u001b[0m: \tLR: 0.002262572560248064\n",
      "\u001b[34m\u001b[1mwandb\u001b[0m: \tUPDATE_EVERY: 75\n",
      "Failed to detect the name of this notebook, you can set it manually with the WANDB_NOTEBOOK_NAME environment variable to enable code saving.\n",
      "\u001b[34m\u001b[1mwandb\u001b[0m: \u001b[33mWARNING\u001b[0m Ignored wandb.init() arg project when running a sweep.\n"
     ]
    },
    {
     "data": {
      "text/html": [
       "wandb version 0.16.6 is available!  To upgrade, please run:\n",
       " $ pip install wandb --upgrade"
      ],
      "text/plain": [
       "<IPython.core.display.HTML object>"
      ]
     },
     "metadata": {},
     "output_type": "display_data"
    },
    {
     "data": {
      "text/html": [
       "Tracking run with wandb version 0.16.5"
      ],
      "text/plain": [
       "<IPython.core.display.HTML object>"
      ]
     },
     "metadata": {},
     "output_type": "display_data"
    },
    {
     "data": {
      "text/html": [
       "Run data is saved locally in <code>C:\\Users\\tripa\\AppData\\Local\\Programs\\Microsoft VS Code\\wandb\\run-20240404_034613-4gt0zi7q</code>"
      ],
      "text/plain": [
       "<IPython.core.display.HTML object>"
      ]
     },
     "metadata": {},
     "output_type": "display_data"
    },
    {
     "data": {
      "text/html": [
       "Syncing run <strong><a href='https://wandb.ai/tripan-dham/dueling_mean_cartpole/runs/4gt0zi7q/workspace' target=\"_blank\">hardy-sweep-13</a></strong> to <a href='https://wandb.ai/tripan-dham/dueling_mean_cartpole' target=\"_blank\">Weights & Biases</a> (<a href='https://wandb.me/run' target=\"_blank\">docs</a>)<br/>Sweep page: <a href='https://wandb.ai/tripan-dham/dueling_mean_cartpole/sweeps/et9o2o7a' target=\"_blank\">https://wandb.ai/tripan-dham/dueling_mean_cartpole/sweeps/et9o2o7a</a>"
      ],
      "text/plain": [
       "<IPython.core.display.HTML object>"
      ]
     },
     "metadata": {},
     "output_type": "display_data"
    },
    {
     "data": {
      "text/html": [
       " View project at <a href='https://wandb.ai/tripan-dham/dueling_mean_cartpole' target=\"_blank\">https://wandb.ai/tripan-dham/dueling_mean_cartpole</a>"
      ],
      "text/plain": [
       "<IPython.core.display.HTML object>"
      ]
     },
     "metadata": {},
     "output_type": "display_data"
    },
    {
     "data": {
      "text/html": [
       " View sweep at <a href='https://wandb.ai/tripan-dham/dueling_mean_cartpole/sweeps/et9o2o7a' target=\"_blank\">https://wandb.ai/tripan-dham/dueling_mean_cartpole/sweeps/et9o2o7a</a>"
      ],
      "text/plain": [
       "<IPython.core.display.HTML object>"
      ]
     },
     "metadata": {},
     "output_type": "display_data"
    },
    {
     "data": {
      "text/html": [
       " View run at <a href='https://wandb.ai/tripan-dham/dueling_mean_cartpole/runs/4gt0zi7q/workspace' target=\"_blank\">https://wandb.ai/tripan-dham/dueling_mean_cartpole/runs/4gt0zi7q/workspace</a>"
      ],
      "text/plain": [
       "<IPython.core.display.HTML object>"
      ]
     },
     "metadata": {},
     "output_type": "display_data"
    },
    {
     "data": {
      "application/vnd.jupyter.widget-view+json": {
       "model_id": "2ee99d5211b044d19e6d5829ad700516",
       "version_major": 2,
       "version_minor": 0
      },
      "text/plain": [
       "VBox(children=(Label(value='0.005 MB of 0.005 MB uploaded\\r'), FloatProgress(value=1.0, max=1.0)))"
      ]
     },
     "metadata": {},
     "output_type": "display_data"
    },
    {
     "data": {
      "text/html": [
       "<style>\n",
       "    table.wandb td:nth-child(1) { padding: 0 10px; text-align: left ; width: auto;} td:nth-child(2) {text-align: left ; width: 100%}\n",
       "    .wandb-row { display: flex; flex-direction: row; flex-wrap: wrap; justify-content: flex-start; width: 100% }\n",
       "    .wandb-col { display: flex; flex-direction: column; flex-basis: 100%; flex: 1; padding: 10px; }\n",
       "    </style>\n",
       "<div class=\"wandb-row\"><div class=\"wandb-col\"><h3>Run history:</h3><br/><table class=\"wandb\"><tr><td>regret</td><td>▁</td></tr></table><br/></div><div class=\"wandb-col\"><h3>Run summary:</h3><br/><table class=\"wandb\"><tr><td>regret</td><td>110143.777</td></tr></table><br/></div></div>"
      ],
      "text/plain": [
       "<IPython.core.display.HTML object>"
      ]
     },
     "metadata": {},
     "output_type": "display_data"
    },
    {
     "data": {
      "text/html": [
       " View run <strong style=\"color:#cdcd00\">hardy-sweep-13</strong> at: <a href='https://wandb.ai/tripan-dham/dueling_mean_cartpole/runs/4gt0zi7q/workspace' target=\"_blank\">https://wandb.ai/tripan-dham/dueling_mean_cartpole/runs/4gt0zi7q/workspace</a><br/>Synced 4 W&B file(s), 0 media file(s), 0 artifact file(s) and 0 other file(s)"
      ],
      "text/plain": [
       "<IPython.core.display.HTML object>"
      ]
     },
     "metadata": {},
     "output_type": "display_data"
    },
    {
     "data": {
      "text/html": [
       "Find logs at: <code>.\\wandb\\run-20240404_034613-4gt0zi7q\\logs</code>"
      ],
      "text/plain": [
       "<IPython.core.display.HTML object>"
      ]
     },
     "metadata": {},
     "output_type": "display_data"
    },
    {
     "name": "stderr",
     "output_type": "stream",
     "text": [
      "\u001b[34m\u001b[1mwandb\u001b[0m: Agent Starting Run: 6tyckutg with config:\n",
      "\u001b[34m\u001b[1mwandb\u001b[0m: \tBATCH_SIZE: 64\n",
      "\u001b[34m\u001b[1mwandb\u001b[0m: \tBUFFER_SIZE: 100\n",
      "\u001b[34m\u001b[1mwandb\u001b[0m: \tLR: 0.001207553334829007\n",
      "\u001b[34m\u001b[1mwandb\u001b[0m: \tUPDATE_EVERY: 50\n",
      "Failed to detect the name of this notebook, you can set it manually with the WANDB_NOTEBOOK_NAME environment variable to enable code saving.\n",
      "\u001b[34m\u001b[1mwandb\u001b[0m: \u001b[33mWARNING\u001b[0m Ignored wandb.init() arg project when running a sweep.\n"
     ]
    },
    {
     "data": {
      "text/html": [
       "wandb version 0.16.6 is available!  To upgrade, please run:\n",
       " $ pip install wandb --upgrade"
      ],
      "text/plain": [
       "<IPython.core.display.HTML object>"
      ]
     },
     "metadata": {},
     "output_type": "display_data"
    },
    {
     "data": {
      "text/html": [
       "Tracking run with wandb version 0.16.5"
      ],
      "text/plain": [
       "<IPython.core.display.HTML object>"
      ]
     },
     "metadata": {},
     "output_type": "display_data"
    },
    {
     "data": {
      "text/html": [
       "Run data is saved locally in <code>C:\\Users\\tripa\\AppData\\Local\\Programs\\Microsoft VS Code\\wandb\\run-20240404_035028-6tyckutg</code>"
      ],
      "text/plain": [
       "<IPython.core.display.HTML object>"
      ]
     },
     "metadata": {},
     "output_type": "display_data"
    },
    {
     "data": {
      "text/html": [
       "Syncing run <strong><a href='https://wandb.ai/tripan-dham/dueling_mean_cartpole/runs/6tyckutg/workspace' target=\"_blank\">volcanic-sweep-14</a></strong> to <a href='https://wandb.ai/tripan-dham/dueling_mean_cartpole' target=\"_blank\">Weights & Biases</a> (<a href='https://wandb.me/run' target=\"_blank\">docs</a>)<br/>Sweep page: <a href='https://wandb.ai/tripan-dham/dueling_mean_cartpole/sweeps/et9o2o7a' target=\"_blank\">https://wandb.ai/tripan-dham/dueling_mean_cartpole/sweeps/et9o2o7a</a>"
      ],
      "text/plain": [
       "<IPython.core.display.HTML object>"
      ]
     },
     "metadata": {},
     "output_type": "display_data"
    },
    {
     "data": {
      "text/html": [
       " View project at <a href='https://wandb.ai/tripan-dham/dueling_mean_cartpole' target=\"_blank\">https://wandb.ai/tripan-dham/dueling_mean_cartpole</a>"
      ],
      "text/plain": [
       "<IPython.core.display.HTML object>"
      ]
     },
     "metadata": {},
     "output_type": "display_data"
    },
    {
     "data": {
      "text/html": [
       " View sweep at <a href='https://wandb.ai/tripan-dham/dueling_mean_cartpole/sweeps/et9o2o7a' target=\"_blank\">https://wandb.ai/tripan-dham/dueling_mean_cartpole/sweeps/et9o2o7a</a>"
      ],
      "text/plain": [
       "<IPython.core.display.HTML object>"
      ]
     },
     "metadata": {},
     "output_type": "display_data"
    },
    {
     "data": {
      "text/html": [
       " View run at <a href='https://wandb.ai/tripan-dham/dueling_mean_cartpole/runs/6tyckutg/workspace' target=\"_blank\">https://wandb.ai/tripan-dham/dueling_mean_cartpole/runs/6tyckutg/workspace</a>"
      ],
      "text/plain": [
       "<IPython.core.display.HTML object>"
      ]
     },
     "metadata": {},
     "output_type": "display_data"
    },
    {
     "data": {
      "application/vnd.jupyter.widget-view+json": {
       "model_id": "35b98ca7c4bb4d13aea14619e50f2ba1",
       "version_major": 2,
       "version_minor": 0
      },
      "text/plain": [
       "VBox(children=(Label(value='0.001 MB of 0.005 MB uploaded\\r'), FloatProgress(value=0.22465546535774966, max=1.…"
      ]
     },
     "metadata": {},
     "output_type": "display_data"
    },
    {
     "data": {
      "text/html": [
       "<style>\n",
       "    table.wandb td:nth-child(1) { padding: 0 10px; text-align: left ; width: auto;} td:nth-child(2) {text-align: left ; width: 100%}\n",
       "    .wandb-row { display: flex; flex-direction: row; flex-wrap: wrap; justify-content: flex-start; width: 100% }\n",
       "    .wandb-col { display: flex; flex-direction: column; flex-basis: 100%; flex: 1; padding: 10px; }\n",
       "    </style>\n",
       "<div class=\"wandb-row\"><div class=\"wandb-col\"><h3>Run history:</h3><br/><table class=\"wandb\"><tr><td>regret</td><td>▁</td></tr></table><br/></div><div class=\"wandb-col\"><h3>Run summary:</h3><br/><table class=\"wandb\"><tr><td>regret</td><td>109019.11861</td></tr></table><br/></div></div>"
      ],
      "text/plain": [
       "<IPython.core.display.HTML object>"
      ]
     },
     "metadata": {},
     "output_type": "display_data"
    },
    {
     "data": {
      "text/html": [
       " View run <strong style=\"color:#cdcd00\">volcanic-sweep-14</strong> at: <a href='https://wandb.ai/tripan-dham/dueling_mean_cartpole/runs/6tyckutg/workspace' target=\"_blank\">https://wandb.ai/tripan-dham/dueling_mean_cartpole/runs/6tyckutg/workspace</a><br/>Synced 4 W&B file(s), 0 media file(s), 0 artifact file(s) and 0 other file(s)"
      ],
      "text/plain": [
       "<IPython.core.display.HTML object>"
      ]
     },
     "metadata": {},
     "output_type": "display_data"
    },
    {
     "data": {
      "text/html": [
       "Find logs at: <code>.\\wandb\\run-20240404_035028-6tyckutg\\logs</code>"
      ],
      "text/plain": [
       "<IPython.core.display.HTML object>"
      ]
     },
     "metadata": {},
     "output_type": "display_data"
    },
    {
     "name": "stderr",
     "output_type": "stream",
     "text": [
      "\u001b[34m\u001b[1mwandb\u001b[0m: Agent Starting Run: 5lxp0zrg with config:\n",
      "\u001b[34m\u001b[1mwandb\u001b[0m: \tBATCH_SIZE: 128\n",
      "\u001b[34m\u001b[1mwandb\u001b[0m: \tBUFFER_SIZE: 100\n",
      "\u001b[34m\u001b[1mwandb\u001b[0m: \tLR: 0.0018922266829742456\n",
      "\u001b[34m\u001b[1mwandb\u001b[0m: \tUPDATE_EVERY: 75\n",
      "Failed to detect the name of this notebook, you can set it manually with the WANDB_NOTEBOOK_NAME environment variable to enable code saving.\n",
      "\u001b[34m\u001b[1mwandb\u001b[0m: \u001b[33mWARNING\u001b[0m Ignored wandb.init() arg project when running a sweep.\n"
     ]
    },
    {
     "data": {
      "text/html": [
       "wandb version 0.16.6 is available!  To upgrade, please run:\n",
       " $ pip install wandb --upgrade"
      ],
      "text/plain": [
       "<IPython.core.display.HTML object>"
      ]
     },
     "metadata": {},
     "output_type": "display_data"
    },
    {
     "data": {
      "text/html": [
       "Tracking run with wandb version 0.16.5"
      ],
      "text/plain": [
       "<IPython.core.display.HTML object>"
      ]
     },
     "metadata": {},
     "output_type": "display_data"
    },
    {
     "data": {
      "text/html": [
       "Run data is saved locally in <code>C:\\Users\\tripa\\AppData\\Local\\Programs\\Microsoft VS Code\\wandb\\run-20240404_035757-5lxp0zrg</code>"
      ],
      "text/plain": [
       "<IPython.core.display.HTML object>"
      ]
     },
     "metadata": {},
     "output_type": "display_data"
    },
    {
     "data": {
      "text/html": [
       "Syncing run <strong><a href='https://wandb.ai/tripan-dham/dueling_mean_cartpole/runs/5lxp0zrg/workspace' target=\"_blank\">honest-sweep-15</a></strong> to <a href='https://wandb.ai/tripan-dham/dueling_mean_cartpole' target=\"_blank\">Weights & Biases</a> (<a href='https://wandb.me/run' target=\"_blank\">docs</a>)<br/>Sweep page: <a href='https://wandb.ai/tripan-dham/dueling_mean_cartpole/sweeps/et9o2o7a' target=\"_blank\">https://wandb.ai/tripan-dham/dueling_mean_cartpole/sweeps/et9o2o7a</a>"
      ],
      "text/plain": [
       "<IPython.core.display.HTML object>"
      ]
     },
     "metadata": {},
     "output_type": "display_data"
    },
    {
     "data": {
      "text/html": [
       " View project at <a href='https://wandb.ai/tripan-dham/dueling_mean_cartpole' target=\"_blank\">https://wandb.ai/tripan-dham/dueling_mean_cartpole</a>"
      ],
      "text/plain": [
       "<IPython.core.display.HTML object>"
      ]
     },
     "metadata": {},
     "output_type": "display_data"
    },
    {
     "data": {
      "text/html": [
       " View sweep at <a href='https://wandb.ai/tripan-dham/dueling_mean_cartpole/sweeps/et9o2o7a' target=\"_blank\">https://wandb.ai/tripan-dham/dueling_mean_cartpole/sweeps/et9o2o7a</a>"
      ],
      "text/plain": [
       "<IPython.core.display.HTML object>"
      ]
     },
     "metadata": {},
     "output_type": "display_data"
    },
    {
     "data": {
      "text/html": [
       " View run at <a href='https://wandb.ai/tripan-dham/dueling_mean_cartpole/runs/5lxp0zrg/workspace' target=\"_blank\">https://wandb.ai/tripan-dham/dueling_mean_cartpole/runs/5lxp0zrg/workspace</a>"
      ],
      "text/plain": [
       "<IPython.core.display.HTML object>"
      ]
     },
     "metadata": {},
     "output_type": "display_data"
    },
    {
     "data": {
      "application/vnd.jupyter.widget-view+json": {
       "model_id": "4dacbb63f0f94a3eb540fc618f9eeb35",
       "version_major": 2,
       "version_minor": 0
      },
      "text/plain": [
       "VBox(children=(Label(value='0.001 MB of 0.005 MB uploaded\\r'), FloatProgress(value=0.22928709055876687, max=1.…"
      ]
     },
     "metadata": {},
     "output_type": "display_data"
    },
    {
     "data": {
      "text/html": [
       " View run <strong style=\"color:#cdcd00\">honest-sweep-15</strong> at: <a href='https://wandb.ai/tripan-dham/dueling_mean_cartpole/runs/5lxp0zrg/workspace' target=\"_blank\">https://wandb.ai/tripan-dham/dueling_mean_cartpole/runs/5lxp0zrg/workspace</a><br/>Synced 4 W&B file(s), 0 media file(s), 0 artifact file(s) and 0 other file(s)"
      ],
      "text/plain": [
       "<IPython.core.display.HTML object>"
      ]
     },
     "metadata": {},
     "output_type": "display_data"
    },
    {
     "data": {
      "text/html": [
       "Find logs at: <code>.\\wandb\\run-20240404_035757-5lxp0zrg\\logs</code>"
      ],
      "text/plain": [
       "<IPython.core.display.HTML object>"
      ]
     },
     "metadata": {},
     "output_type": "display_data"
    },
    {
     "name": "stderr",
     "output_type": "stream",
     "text": [
      "Run 5lxp0zrg errored:\n",
      "Traceback (most recent call last):\n",
      "  File \"c:\\Users\\tripa\\AppData\\Local\\Programs\\Python\\Python310\\lib\\site-packages\\wandb\\agents\\pyagent.py\", line 308, in _run_job\n",
      "    self._function()\n",
      "  File \"C:\\Users\\tripa\\AppData\\Local\\Temp\\ipykernel_1648\\2843854326.py\", line 252, in run_training\n",
      "    regret = train(LR, UPDATE_EVERY, BUFFER_SIZE, BATCH_SIZE)\n",
      "  File \"C:\\Users\\tripa\\AppData\\Local\\Temp\\ipykernel_1648\\2843854326.py\", line 230, in train\n",
      "    all_scores_1=dqn(agent)\n",
      "  File \"C:\\Users\\tripa\\AppData\\Local\\Temp\\ipykernel_1648\\2843854326.py\", line 182, in dqn\n",
      "    agent.step(state, action, reward, next_state, done)\n",
      "  File \"C:\\Users\\tripa\\AppData\\Local\\Temp\\ipykernel_1648\\2843854326.py\", line 117, in step\n",
      "    experiences = self.memory.sample()\n",
      "  File \"C:\\Users\\tripa\\AppData\\Local\\Temp\\ipykernel_1648\\2843854326.py\", line 77, in sample\n",
      "    experiences = random.sample(self.memory, k=self.batch_size)\n",
      "  File \"c:\\Users\\tripa\\AppData\\Local\\Programs\\Python\\Python310\\lib\\random.py\", line 482, in sample\n",
      "    raise ValueError(\"Sample larger than population or is negative\")\n",
      "ValueError: Sample larger than population or is negative\n",
      "\n",
      "\u001b[34m\u001b[1mwandb\u001b[0m: \u001b[32m\u001b[41mERROR\u001b[0m Run 5lxp0zrg errored:\n",
      "\u001b[34m\u001b[1mwandb\u001b[0m: \u001b[32m\u001b[41mERROR\u001b[0m Traceback (most recent call last):\n",
      "\u001b[34m\u001b[1mwandb\u001b[0m: \u001b[32m\u001b[41mERROR\u001b[0m   File \"c:\\Users\\tripa\\AppData\\Local\\Programs\\Python\\Python310\\lib\\site-packages\\wandb\\agents\\pyagent.py\", line 308, in _run_job\n",
      "\u001b[34m\u001b[1mwandb\u001b[0m: \u001b[32m\u001b[41mERROR\u001b[0m     self._function()\n",
      "\u001b[34m\u001b[1mwandb\u001b[0m: \u001b[32m\u001b[41mERROR\u001b[0m   File \"C:\\Users\\tripa\\AppData\\Local\\Temp\\ipykernel_1648\\2843854326.py\", line 252, in run_training\n",
      "\u001b[34m\u001b[1mwandb\u001b[0m: \u001b[32m\u001b[41mERROR\u001b[0m     regret = train(LR, UPDATE_EVERY, BUFFER_SIZE, BATCH_SIZE)\n",
      "\u001b[34m\u001b[1mwandb\u001b[0m: \u001b[32m\u001b[41mERROR\u001b[0m   File \"C:\\Users\\tripa\\AppData\\Local\\Temp\\ipykernel_1648\\2843854326.py\", line 230, in train\n",
      "\u001b[34m\u001b[1mwandb\u001b[0m: \u001b[32m\u001b[41mERROR\u001b[0m     all_scores_1=dqn(agent)\n",
      "\u001b[34m\u001b[1mwandb\u001b[0m: \u001b[32m\u001b[41mERROR\u001b[0m   File \"C:\\Users\\tripa\\AppData\\Local\\Temp\\ipykernel_1648\\2843854326.py\", line 182, in dqn\n",
      "\u001b[34m\u001b[1mwandb\u001b[0m: \u001b[32m\u001b[41mERROR\u001b[0m     agent.step(state, action, reward, next_state, done)\n",
      "\u001b[34m\u001b[1mwandb\u001b[0m: \u001b[32m\u001b[41mERROR\u001b[0m   File \"C:\\Users\\tripa\\AppData\\Local\\Temp\\ipykernel_1648\\2843854326.py\", line 117, in step\n",
      "\u001b[34m\u001b[1mwandb\u001b[0m: \u001b[32m\u001b[41mERROR\u001b[0m     experiences = self.memory.sample()\n",
      "\u001b[34m\u001b[1mwandb\u001b[0m: \u001b[32m\u001b[41mERROR\u001b[0m   File \"C:\\Users\\tripa\\AppData\\Local\\Temp\\ipykernel_1648\\2843854326.py\", line 77, in sample\n",
      "\u001b[34m\u001b[1mwandb\u001b[0m: \u001b[32m\u001b[41mERROR\u001b[0m     experiences = random.sample(self.memory, k=self.batch_size)\n",
      "\u001b[34m\u001b[1mwandb\u001b[0m: \u001b[32m\u001b[41mERROR\u001b[0m   File \"c:\\Users\\tripa\\AppData\\Local\\Programs\\Python\\Python310\\lib\\random.py\", line 482, in sample\n",
      "\u001b[34m\u001b[1mwandb\u001b[0m: \u001b[32m\u001b[41mERROR\u001b[0m     raise ValueError(\"Sample larger than population or is negative\")\n",
      "\u001b[34m\u001b[1mwandb\u001b[0m: \u001b[32m\u001b[41mERROR\u001b[0m ValueError: Sample larger than population or is negative\n",
      "\u001b[34m\u001b[1mwandb\u001b[0m: \u001b[32m\u001b[41mERROR\u001b[0m \n",
      "\u001b[34m\u001b[1mwandb\u001b[0m: Agent Starting Run: m1yqu4lw with config:\n",
      "\u001b[34m\u001b[1mwandb\u001b[0m: \tBATCH_SIZE: 128\n",
      "\u001b[34m\u001b[1mwandb\u001b[0m: \tBUFFER_SIZE: 1000\n",
      "\u001b[34m\u001b[1mwandb\u001b[0m: \tLR: 0.001194517841780714\n",
      "\u001b[34m\u001b[1mwandb\u001b[0m: \tUPDATE_EVERY: 75\n",
      "Failed to detect the name of this notebook, you can set it manually with the WANDB_NOTEBOOK_NAME environment variable to enable code saving.\n",
      "\u001b[34m\u001b[1mwandb\u001b[0m: \u001b[33mWARNING\u001b[0m Ignored wandb.init() arg project when running a sweep.\n"
     ]
    },
    {
     "data": {
      "text/html": [
       "wandb version 0.16.6 is available!  To upgrade, please run:\n",
       " $ pip install wandb --upgrade"
      ],
      "text/plain": [
       "<IPython.core.display.HTML object>"
      ]
     },
     "metadata": {},
     "output_type": "display_data"
    },
    {
     "data": {
      "text/html": [
       "Tracking run with wandb version 0.16.5"
      ],
      "text/plain": [
       "<IPython.core.display.HTML object>"
      ]
     },
     "metadata": {},
     "output_type": "display_data"
    },
    {
     "data": {
      "text/html": [
       "Run data is saved locally in <code>C:\\Users\\tripa\\AppData\\Local\\Programs\\Microsoft VS Code\\wandb\\run-20240404_035809-m1yqu4lw</code>"
      ],
      "text/plain": [
       "<IPython.core.display.HTML object>"
      ]
     },
     "metadata": {},
     "output_type": "display_data"
    },
    {
     "data": {
      "text/html": [
       "Syncing run <strong><a href='https://wandb.ai/tripan-dham/dueling_mean_cartpole/runs/m1yqu4lw/workspace' target=\"_blank\">upbeat-sweep-16</a></strong> to <a href='https://wandb.ai/tripan-dham/dueling_mean_cartpole' target=\"_blank\">Weights & Biases</a> (<a href='https://wandb.me/run' target=\"_blank\">docs</a>)<br/>Sweep page: <a href='https://wandb.ai/tripan-dham/dueling_mean_cartpole/sweeps/et9o2o7a' target=\"_blank\">https://wandb.ai/tripan-dham/dueling_mean_cartpole/sweeps/et9o2o7a</a>"
      ],
      "text/plain": [
       "<IPython.core.display.HTML object>"
      ]
     },
     "metadata": {},
     "output_type": "display_data"
    },
    {
     "data": {
      "text/html": [
       " View project at <a href='https://wandb.ai/tripan-dham/dueling_mean_cartpole' target=\"_blank\">https://wandb.ai/tripan-dham/dueling_mean_cartpole</a>"
      ],
      "text/plain": [
       "<IPython.core.display.HTML object>"
      ]
     },
     "metadata": {},
     "output_type": "display_data"
    },
    {
     "data": {
      "text/html": [
       " View sweep at <a href='https://wandb.ai/tripan-dham/dueling_mean_cartpole/sweeps/et9o2o7a' target=\"_blank\">https://wandb.ai/tripan-dham/dueling_mean_cartpole/sweeps/et9o2o7a</a>"
      ],
      "text/plain": [
       "<IPython.core.display.HTML object>"
      ]
     },
     "metadata": {},
     "output_type": "display_data"
    },
    {
     "data": {
      "text/html": [
       " View run at <a href='https://wandb.ai/tripan-dham/dueling_mean_cartpole/runs/m1yqu4lw/workspace' target=\"_blank\">https://wandb.ai/tripan-dham/dueling_mean_cartpole/runs/m1yqu4lw/workspace</a>"
      ],
      "text/plain": [
       "<IPython.core.display.HTML object>"
      ]
     },
     "metadata": {},
     "output_type": "display_data"
    },
    {
     "data": {
      "application/vnd.jupyter.widget-view+json": {
       "model_id": "b7ba3ef5d72c486e805a338975429653",
       "version_major": 2,
       "version_minor": 0
      },
      "text/plain": [
       "VBox(children=(Label(value='0.001 MB of 0.005 MB uploaded\\r'), FloatProgress(value=0.2302924656207631, max=1.0…"
      ]
     },
     "metadata": {},
     "output_type": "display_data"
    },
    {
     "data": {
      "text/html": [
       " View run <strong style=\"color:#cdcd00\">upbeat-sweep-16</strong> at: <a href='https://wandb.ai/tripan-dham/dueling_mean_cartpole/runs/m1yqu4lw/workspace' target=\"_blank\">https://wandb.ai/tripan-dham/dueling_mean_cartpole/runs/m1yqu4lw/workspace</a><br/>Synced 4 W&B file(s), 0 media file(s), 0 artifact file(s) and 0 other file(s)"
      ],
      "text/plain": [
       "<IPython.core.display.HTML object>"
      ]
     },
     "metadata": {},
     "output_type": "display_data"
    },
    {
     "data": {
      "text/html": [
       "Find logs at: <code>.\\wandb\\run-20240404_035809-m1yqu4lw\\logs</code>"
      ],
      "text/plain": [
       "<IPython.core.display.HTML object>"
      ]
     },
     "metadata": {},
     "output_type": "display_data"
    },
    {
     "name": "stderr",
     "output_type": "stream",
     "text": [
      "Run m1yqu4lw errored:\n",
      "Traceback (most recent call last):\n",
      "  File \"c:\\Users\\tripa\\AppData\\Local\\Programs\\Python\\Python310\\lib\\site-packages\\wandb\\agents\\pyagent.py\", line 308, in _run_job\n",
      "    self._function()\n",
      "  File \"C:\\Users\\tripa\\AppData\\Local\\Temp\\ipykernel_1648\\2843854326.py\", line 252, in run_training\n",
      "    regret = train(LR, UPDATE_EVERY, BUFFER_SIZE, BATCH_SIZE)\n",
      "  File \"C:\\Users\\tripa\\AppData\\Local\\Temp\\ipykernel_1648\\2843854326.py\", line 230, in train\n",
      "    all_scores_1=dqn(agent)\n",
      "  File \"C:\\Users\\tripa\\AppData\\Local\\Temp\\ipykernel_1648\\2843854326.py\", line 182, in dqn\n",
      "    agent.step(state, action, reward, next_state, done)\n",
      "  File \"C:\\Users\\tripa\\AppData\\Local\\Temp\\ipykernel_1648\\2843854326.py\", line 117, in step\n",
      "    experiences = self.memory.sample()\n",
      "  File \"C:\\Users\\tripa\\AppData\\Local\\Temp\\ipykernel_1648\\2843854326.py\", line 77, in sample\n",
      "    experiences = random.sample(self.memory, k=self.batch_size)\n",
      "  File \"c:\\Users\\tripa\\AppData\\Local\\Programs\\Python\\Python310\\lib\\random.py\", line 482, in sample\n",
      "    raise ValueError(\"Sample larger than population or is negative\")\n",
      "ValueError: Sample larger than population or is negative\n",
      "\n",
      "\u001b[34m\u001b[1mwandb\u001b[0m: \u001b[32m\u001b[41mERROR\u001b[0m Run m1yqu4lw errored:\n",
      "\u001b[34m\u001b[1mwandb\u001b[0m: \u001b[32m\u001b[41mERROR\u001b[0m Traceback (most recent call last):\n",
      "\u001b[34m\u001b[1mwandb\u001b[0m: \u001b[32m\u001b[41mERROR\u001b[0m   File \"c:\\Users\\tripa\\AppData\\Local\\Programs\\Python\\Python310\\lib\\site-packages\\wandb\\agents\\pyagent.py\", line 308, in _run_job\n",
      "\u001b[34m\u001b[1mwandb\u001b[0m: \u001b[32m\u001b[41mERROR\u001b[0m     self._function()\n",
      "\u001b[34m\u001b[1mwandb\u001b[0m: \u001b[32m\u001b[41mERROR\u001b[0m   File \"C:\\Users\\tripa\\AppData\\Local\\Temp\\ipykernel_1648\\2843854326.py\", line 252, in run_training\n",
      "\u001b[34m\u001b[1mwandb\u001b[0m: \u001b[32m\u001b[41mERROR\u001b[0m     regret = train(LR, UPDATE_EVERY, BUFFER_SIZE, BATCH_SIZE)\n",
      "\u001b[34m\u001b[1mwandb\u001b[0m: \u001b[32m\u001b[41mERROR\u001b[0m   File \"C:\\Users\\tripa\\AppData\\Local\\Temp\\ipykernel_1648\\2843854326.py\", line 230, in train\n",
      "\u001b[34m\u001b[1mwandb\u001b[0m: \u001b[32m\u001b[41mERROR\u001b[0m     all_scores_1=dqn(agent)\n",
      "\u001b[34m\u001b[1mwandb\u001b[0m: \u001b[32m\u001b[41mERROR\u001b[0m   File \"C:\\Users\\tripa\\AppData\\Local\\Temp\\ipykernel_1648\\2843854326.py\", line 182, in dqn\n",
      "\u001b[34m\u001b[1mwandb\u001b[0m: \u001b[32m\u001b[41mERROR\u001b[0m     agent.step(state, action, reward, next_state, done)\n",
      "\u001b[34m\u001b[1mwandb\u001b[0m: \u001b[32m\u001b[41mERROR\u001b[0m   File \"C:\\Users\\tripa\\AppData\\Local\\Temp\\ipykernel_1648\\2843854326.py\", line 117, in step\n",
      "\u001b[34m\u001b[1mwandb\u001b[0m: \u001b[32m\u001b[41mERROR\u001b[0m     experiences = self.memory.sample()\n",
      "\u001b[34m\u001b[1mwandb\u001b[0m: \u001b[32m\u001b[41mERROR\u001b[0m   File \"C:\\Users\\tripa\\AppData\\Local\\Temp\\ipykernel_1648\\2843854326.py\", line 77, in sample\n",
      "\u001b[34m\u001b[1mwandb\u001b[0m: \u001b[32m\u001b[41mERROR\u001b[0m     experiences = random.sample(self.memory, k=self.batch_size)\n",
      "\u001b[34m\u001b[1mwandb\u001b[0m: \u001b[32m\u001b[41mERROR\u001b[0m   File \"c:\\Users\\tripa\\AppData\\Local\\Programs\\Python\\Python310\\lib\\random.py\", line 482, in sample\n",
      "\u001b[34m\u001b[1mwandb\u001b[0m: \u001b[32m\u001b[41mERROR\u001b[0m     raise ValueError(\"Sample larger than population or is negative\")\n",
      "\u001b[34m\u001b[1mwandb\u001b[0m: \u001b[32m\u001b[41mERROR\u001b[0m ValueError: Sample larger than population or is negative\n",
      "\u001b[34m\u001b[1mwandb\u001b[0m: \u001b[32m\u001b[41mERROR\u001b[0m \n",
      "\u001b[34m\u001b[1mwandb\u001b[0m: Sweep Agent: Waiting for job.\n",
      "\u001b[34m\u001b[1mwandb\u001b[0m: Job received.\n",
      "\u001b[34m\u001b[1mwandb\u001b[0m: Agent Starting Run: 4mdintul with config:\n",
      "\u001b[34m\u001b[1mwandb\u001b[0m: \tBATCH_SIZE: 64\n",
      "\u001b[34m\u001b[1mwandb\u001b[0m: \tBUFFER_SIZE: 1000\n",
      "\u001b[34m\u001b[1mwandb\u001b[0m: \tLR: 0.0016553964305296195\n",
      "\u001b[34m\u001b[1mwandb\u001b[0m: \tUPDATE_EVERY: 75\n",
      "Failed to detect the name of this notebook, you can set it manually with the WANDB_NOTEBOOK_NAME environment variable to enable code saving.\n",
      "\u001b[34m\u001b[1mwandb\u001b[0m: \u001b[33mWARNING\u001b[0m Ignored wandb.init() arg project when running a sweep.\n"
     ]
    },
    {
     "data": {
      "text/html": [
       "wandb version 0.16.6 is available!  To upgrade, please run:\n",
       " $ pip install wandb --upgrade"
      ],
      "text/plain": [
       "<IPython.core.display.HTML object>"
      ]
     },
     "metadata": {},
     "output_type": "display_data"
    },
    {
     "data": {
      "text/html": [
       "Tracking run with wandb version 0.16.5"
      ],
      "text/plain": [
       "<IPython.core.display.HTML object>"
      ]
     },
     "metadata": {},
     "output_type": "display_data"
    },
    {
     "data": {
      "text/html": [
       "Run data is saved locally in <code>C:\\Users\\tripa\\AppData\\Local\\Programs\\Microsoft VS Code\\wandb\\run-20240404_035830-4mdintul</code>"
      ],
      "text/plain": [
       "<IPython.core.display.HTML object>"
      ]
     },
     "metadata": {},
     "output_type": "display_data"
    },
    {
     "data": {
      "text/html": [
       "Syncing run <strong><a href='https://wandb.ai/tripan-dham/dueling_mean_cartpole/runs/4mdintul/workspace' target=\"_blank\">hardy-sweep-17</a></strong> to <a href='https://wandb.ai/tripan-dham/dueling_mean_cartpole' target=\"_blank\">Weights & Biases</a> (<a href='https://wandb.me/run' target=\"_blank\">docs</a>)<br/>Sweep page: <a href='https://wandb.ai/tripan-dham/dueling_mean_cartpole/sweeps/et9o2o7a' target=\"_blank\">https://wandb.ai/tripan-dham/dueling_mean_cartpole/sweeps/et9o2o7a</a>"
      ],
      "text/plain": [
       "<IPython.core.display.HTML object>"
      ]
     },
     "metadata": {},
     "output_type": "display_data"
    },
    {
     "data": {
      "text/html": [
       " View project at <a href='https://wandb.ai/tripan-dham/dueling_mean_cartpole' target=\"_blank\">https://wandb.ai/tripan-dham/dueling_mean_cartpole</a>"
      ],
      "text/plain": [
       "<IPython.core.display.HTML object>"
      ]
     },
     "metadata": {},
     "output_type": "display_data"
    },
    {
     "data": {
      "text/html": [
       " View sweep at <a href='https://wandb.ai/tripan-dham/dueling_mean_cartpole/sweeps/et9o2o7a' target=\"_blank\">https://wandb.ai/tripan-dham/dueling_mean_cartpole/sweeps/et9o2o7a</a>"
      ],
      "text/plain": [
       "<IPython.core.display.HTML object>"
      ]
     },
     "metadata": {},
     "output_type": "display_data"
    },
    {
     "data": {
      "text/html": [
       " View run at <a href='https://wandb.ai/tripan-dham/dueling_mean_cartpole/runs/4mdintul/workspace' target=\"_blank\">https://wandb.ai/tripan-dham/dueling_mean_cartpole/runs/4mdintul/workspace</a>"
      ],
      "text/plain": [
       "<IPython.core.display.HTML object>"
      ]
     },
     "metadata": {},
     "output_type": "display_data"
    },
    {
     "data": {
      "application/vnd.jupyter.widget-view+json": {
       "model_id": "26edf01212d44773b63c2128f9f85ab0",
       "version_major": 2,
       "version_minor": 0
      },
      "text/plain": [
       "VBox(children=(Label(value='0.001 MB of 0.005 MB uploaded\\r'), FloatProgress(value=0.22446667925240701, max=1.…"
      ]
     },
     "metadata": {},
     "output_type": "display_data"
    },
    {
     "data": {
      "text/html": [
       "<style>\n",
       "    table.wandb td:nth-child(1) { padding: 0 10px; text-align: left ; width: auto;} td:nth-child(2) {text-align: left ; width: 100%}\n",
       "    .wandb-row { display: flex; flex-direction: row; flex-wrap: wrap; justify-content: flex-start; width: 100% }\n",
       "    .wandb-col { display: flex; flex-direction: column; flex-basis: 100%; flex: 1; padding: 10px; }\n",
       "    </style>\n",
       "<div class=\"wandb-row\"><div class=\"wandb-col\"><h3>Run history:</h3><br/><table class=\"wandb\"><tr><td>regret</td><td>▁</td></tr></table><br/></div><div class=\"wandb-col\"><h3>Run summary:</h3><br/><table class=\"wandb\"><tr><td>regret</td><td>112439.0246</td></tr></table><br/></div></div>"
      ],
      "text/plain": [
       "<IPython.core.display.HTML object>"
      ]
     },
     "metadata": {},
     "output_type": "display_data"
    },
    {
     "data": {
      "text/html": [
       " View run <strong style=\"color:#cdcd00\">hardy-sweep-17</strong> at: <a href='https://wandb.ai/tripan-dham/dueling_mean_cartpole/runs/4mdintul/workspace' target=\"_blank\">https://wandb.ai/tripan-dham/dueling_mean_cartpole/runs/4mdintul/workspace</a><br/>Synced 4 W&B file(s), 0 media file(s), 0 artifact file(s) and 0 other file(s)"
      ],
      "text/plain": [
       "<IPython.core.display.HTML object>"
      ]
     },
     "metadata": {},
     "output_type": "display_data"
    },
    {
     "data": {
      "text/html": [
       "Find logs at: <code>.\\wandb\\run-20240404_035830-4mdintul\\logs</code>"
      ],
      "text/plain": [
       "<IPython.core.display.HTML object>"
      ]
     },
     "metadata": {},
     "output_type": "display_data"
    },
    {
     "name": "stderr",
     "output_type": "stream",
     "text": [
      "\u001b[34m\u001b[1mwandb\u001b[0m: Agent Starting Run: yz3beiyi with config:\n",
      "\u001b[34m\u001b[1mwandb\u001b[0m: \tBATCH_SIZE: 64\n",
      "\u001b[34m\u001b[1mwandb\u001b[0m: \tBUFFER_SIZE: 100\n",
      "\u001b[34m\u001b[1mwandb\u001b[0m: \tLR: 0.0008102549875651213\n",
      "\u001b[34m\u001b[1mwandb\u001b[0m: \tUPDATE_EVERY: 75\n",
      "Failed to detect the name of this notebook, you can set it manually with the WANDB_NOTEBOOK_NAME environment variable to enable code saving.\n",
      "\u001b[34m\u001b[1mwandb\u001b[0m: \u001b[33mWARNING\u001b[0m Ignored wandb.init() arg project when running a sweep.\n"
     ]
    },
    {
     "data": {
      "text/html": [
       "wandb version 0.16.6 is available!  To upgrade, please run:\n",
       " $ pip install wandb --upgrade"
      ],
      "text/plain": [
       "<IPython.core.display.HTML object>"
      ]
     },
     "metadata": {},
     "output_type": "display_data"
    },
    {
     "data": {
      "text/html": [
       "Tracking run with wandb version 0.16.5"
      ],
      "text/plain": [
       "<IPython.core.display.HTML object>"
      ]
     },
     "metadata": {},
     "output_type": "display_data"
    },
    {
     "data": {
      "text/html": [
       "Run data is saved locally in <code>C:\\Users\\tripa\\AppData\\Local\\Programs\\Microsoft VS Code\\wandb\\run-20240404_040430-yz3beiyi</code>"
      ],
      "text/plain": [
       "<IPython.core.display.HTML object>"
      ]
     },
     "metadata": {},
     "output_type": "display_data"
    },
    {
     "data": {
      "text/html": [
       "Syncing run <strong><a href='https://wandb.ai/tripan-dham/dueling_mean_cartpole/runs/yz3beiyi/workspace' target=\"_blank\">grateful-sweep-18</a></strong> to <a href='https://wandb.ai/tripan-dham/dueling_mean_cartpole' target=\"_blank\">Weights & Biases</a> (<a href='https://wandb.me/run' target=\"_blank\">docs</a>)<br/>Sweep page: <a href='https://wandb.ai/tripan-dham/dueling_mean_cartpole/sweeps/et9o2o7a' target=\"_blank\">https://wandb.ai/tripan-dham/dueling_mean_cartpole/sweeps/et9o2o7a</a>"
      ],
      "text/plain": [
       "<IPython.core.display.HTML object>"
      ]
     },
     "metadata": {},
     "output_type": "display_data"
    },
    {
     "data": {
      "text/html": [
       " View project at <a href='https://wandb.ai/tripan-dham/dueling_mean_cartpole' target=\"_blank\">https://wandb.ai/tripan-dham/dueling_mean_cartpole</a>"
      ],
      "text/plain": [
       "<IPython.core.display.HTML object>"
      ]
     },
     "metadata": {},
     "output_type": "display_data"
    },
    {
     "data": {
      "text/html": [
       " View sweep at <a href='https://wandb.ai/tripan-dham/dueling_mean_cartpole/sweeps/et9o2o7a' target=\"_blank\">https://wandb.ai/tripan-dham/dueling_mean_cartpole/sweeps/et9o2o7a</a>"
      ],
      "text/plain": [
       "<IPython.core.display.HTML object>"
      ]
     },
     "metadata": {},
     "output_type": "display_data"
    },
    {
     "data": {
      "text/html": [
       " View run at <a href='https://wandb.ai/tripan-dham/dueling_mean_cartpole/runs/yz3beiyi/workspace' target=\"_blank\">https://wandb.ai/tripan-dham/dueling_mean_cartpole/runs/yz3beiyi/workspace</a>"
      ],
      "text/plain": [
       "<IPython.core.display.HTML object>"
      ]
     },
     "metadata": {},
     "output_type": "display_data"
    },
    {
     "data": {
      "application/vnd.jupyter.widget-view+json": {
       "model_id": "bcf8a7b08c604f17bc1504ec88c5ec23",
       "version_major": 2,
       "version_minor": 0
      },
      "text/plain": [
       "VBox(children=(Label(value='0.001 MB of 0.005 MB uploaded\\r'), FloatProgress(value=0.2303370786516854, max=1.0…"
      ]
     },
     "metadata": {},
     "output_type": "display_data"
    },
    {
     "data": {
      "text/html": [
       "<style>\n",
       "    table.wandb td:nth-child(1) { padding: 0 10px; text-align: left ; width: auto;} td:nth-child(2) {text-align: left ; width: 100%}\n",
       "    .wandb-row { display: flex; flex-direction: row; flex-wrap: wrap; justify-content: flex-start; width: 100% }\n",
       "    .wandb-col { display: flex; flex-direction: column; flex-basis: 100%; flex: 1; padding: 10px; }\n",
       "    </style>\n",
       "<div class=\"wandb-row\"><div class=\"wandb-col\"><h3>Run history:</h3><br/><table class=\"wandb\"><tr><td>regret</td><td>▁</td></tr></table><br/></div><div class=\"wandb-col\"><h3>Run summary:</h3><br/><table class=\"wandb\"><tr><td>regret</td><td>108131.27928</td></tr></table><br/></div></div>"
      ],
      "text/plain": [
       "<IPython.core.display.HTML object>"
      ]
     },
     "metadata": {},
     "output_type": "display_data"
    },
    {
     "data": {
      "text/html": [
       " View run <strong style=\"color:#cdcd00\">grateful-sweep-18</strong> at: <a href='https://wandb.ai/tripan-dham/dueling_mean_cartpole/runs/yz3beiyi/workspace' target=\"_blank\">https://wandb.ai/tripan-dham/dueling_mean_cartpole/runs/yz3beiyi/workspace</a><br/>Synced 4 W&B file(s), 0 media file(s), 0 artifact file(s) and 0 other file(s)"
      ],
      "text/plain": [
       "<IPython.core.display.HTML object>"
      ]
     },
     "metadata": {},
     "output_type": "display_data"
    },
    {
     "data": {
      "text/html": [
       "Find logs at: <code>.\\wandb\\run-20240404_040430-yz3beiyi\\logs</code>"
      ],
      "text/plain": [
       "<IPython.core.display.HTML object>"
      ]
     },
     "metadata": {},
     "output_type": "display_data"
    },
    {
     "name": "stderr",
     "output_type": "stream",
     "text": [
      "\u001b[34m\u001b[1mwandb\u001b[0m: Agent Starting Run: 0na0plvh with config:\n",
      "\u001b[34m\u001b[1mwandb\u001b[0m: \tBATCH_SIZE: 64\n",
      "\u001b[34m\u001b[1mwandb\u001b[0m: \tBUFFER_SIZE: 1000\n",
      "\u001b[34m\u001b[1mwandb\u001b[0m: \tLR: 0.00020316789548192025\n",
      "\u001b[34m\u001b[1mwandb\u001b[0m: \tUPDATE_EVERY: 100\n",
      "Failed to detect the name of this notebook, you can set it manually with the WANDB_NOTEBOOK_NAME environment variable to enable code saving.\n",
      "\u001b[34m\u001b[1mwandb\u001b[0m: \u001b[33mWARNING\u001b[0m Ignored wandb.init() arg project when running a sweep.\n"
     ]
    },
    {
     "data": {
      "text/html": [
       "wandb version 0.16.6 is available!  To upgrade, please run:\n",
       " $ pip install wandb --upgrade"
      ],
      "text/plain": [
       "<IPython.core.display.HTML object>"
      ]
     },
     "metadata": {},
     "output_type": "display_data"
    },
    {
     "data": {
      "text/html": [
       "Tracking run with wandb version 0.16.5"
      ],
      "text/plain": [
       "<IPython.core.display.HTML object>"
      ]
     },
     "metadata": {},
     "output_type": "display_data"
    },
    {
     "data": {
      "text/html": [
       "Run data is saved locally in <code>C:\\Users\\tripa\\AppData\\Local\\Programs\\Microsoft VS Code\\wandb\\run-20240404_041421-0na0plvh</code>"
      ],
      "text/plain": [
       "<IPython.core.display.HTML object>"
      ]
     },
     "metadata": {},
     "output_type": "display_data"
    },
    {
     "data": {
      "text/html": [
       "Syncing run <strong><a href='https://wandb.ai/tripan-dham/dueling_mean_cartpole/runs/0na0plvh/workspace' target=\"_blank\">fine-sweep-19</a></strong> to <a href='https://wandb.ai/tripan-dham/dueling_mean_cartpole' target=\"_blank\">Weights & Biases</a> (<a href='https://wandb.me/run' target=\"_blank\">docs</a>)<br/>Sweep page: <a href='https://wandb.ai/tripan-dham/dueling_mean_cartpole/sweeps/et9o2o7a' target=\"_blank\">https://wandb.ai/tripan-dham/dueling_mean_cartpole/sweeps/et9o2o7a</a>"
      ],
      "text/plain": [
       "<IPython.core.display.HTML object>"
      ]
     },
     "metadata": {},
     "output_type": "display_data"
    },
    {
     "data": {
      "text/html": [
       " View project at <a href='https://wandb.ai/tripan-dham/dueling_mean_cartpole' target=\"_blank\">https://wandb.ai/tripan-dham/dueling_mean_cartpole</a>"
      ],
      "text/plain": [
       "<IPython.core.display.HTML object>"
      ]
     },
     "metadata": {},
     "output_type": "display_data"
    },
    {
     "data": {
      "text/html": [
       " View sweep at <a href='https://wandb.ai/tripan-dham/dueling_mean_cartpole/sweeps/et9o2o7a' target=\"_blank\">https://wandb.ai/tripan-dham/dueling_mean_cartpole/sweeps/et9o2o7a</a>"
      ],
      "text/plain": [
       "<IPython.core.display.HTML object>"
      ]
     },
     "metadata": {},
     "output_type": "display_data"
    },
    {
     "data": {
      "text/html": [
       " View run at <a href='https://wandb.ai/tripan-dham/dueling_mean_cartpole/runs/0na0plvh/workspace' target=\"_blank\">https://wandb.ai/tripan-dham/dueling_mean_cartpole/runs/0na0plvh/workspace</a>"
      ],
      "text/plain": [
       "<IPython.core.display.HTML object>"
      ]
     },
     "metadata": {},
     "output_type": "display_data"
    },
    {
     "data": {
      "application/vnd.jupyter.widget-view+json": {
       "model_id": "0a2c74e7180646eeb1c2251fe83f336c",
       "version_major": 2,
       "version_minor": 0
      },
      "text/plain": [
       "VBox(children=(Label(value='0.001 MB of 0.005 MB uploaded\\r'), FloatProgress(value=0.22433962264150945, max=1.…"
      ]
     },
     "metadata": {},
     "output_type": "display_data"
    },
    {
     "data": {
      "text/html": [
       "<style>\n",
       "    table.wandb td:nth-child(1) { padding: 0 10px; text-align: left ; width: auto;} td:nth-child(2) {text-align: left ; width: 100%}\n",
       "    .wandb-row { display: flex; flex-direction: row; flex-wrap: wrap; justify-content: flex-start; width: 100% }\n",
       "    .wandb-col { display: flex; flex-direction: column; flex-basis: 100%; flex: 1; padding: 10px; }\n",
       "    </style>\n",
       "<div class=\"wandb-row\"><div class=\"wandb-col\"><h3>Run history:</h3><br/><table class=\"wandb\"><tr><td>regret</td><td>▁</td></tr></table><br/></div><div class=\"wandb-col\"><h3>Run summary:</h3><br/><table class=\"wandb\"><tr><td>regret</td><td>102134.20879</td></tr></table><br/></div></div>"
      ],
      "text/plain": [
       "<IPython.core.display.HTML object>"
      ]
     },
     "metadata": {},
     "output_type": "display_data"
    },
    {
     "data": {
      "text/html": [
       " View run <strong style=\"color:#cdcd00\">fine-sweep-19</strong> at: <a href='https://wandb.ai/tripan-dham/dueling_mean_cartpole/runs/0na0plvh/workspace' target=\"_blank\">https://wandb.ai/tripan-dham/dueling_mean_cartpole/runs/0na0plvh/workspace</a><br/>Synced 4 W&B file(s), 0 media file(s), 0 artifact file(s) and 0 other file(s)"
      ],
      "text/plain": [
       "<IPython.core.display.HTML object>"
      ]
     },
     "metadata": {},
     "output_type": "display_data"
    },
    {
     "data": {
      "text/html": [
       "Find logs at: <code>.\\wandb\\run-20240404_041421-0na0plvh\\logs</code>"
      ],
      "text/plain": [
       "<IPython.core.display.HTML object>"
      ]
     },
     "metadata": {},
     "output_type": "display_data"
    },
    {
     "name": "stderr",
     "output_type": "stream",
     "text": [
      "\u001b[34m\u001b[1mwandb\u001b[0m: Agent Starting Run: i6h70ssc with config:\n",
      "\u001b[34m\u001b[1mwandb\u001b[0m: \tBATCH_SIZE: 128\n",
      "\u001b[34m\u001b[1mwandb\u001b[0m: \tBUFFER_SIZE: 100000\n",
      "\u001b[34m\u001b[1mwandb\u001b[0m: \tLR: 5.359103373052524e-05\n",
      "\u001b[34m\u001b[1mwandb\u001b[0m: \tUPDATE_EVERY: 100\n",
      "Failed to detect the name of this notebook, you can set it manually with the WANDB_NOTEBOOK_NAME environment variable to enable code saving.\n",
      "\u001b[34m\u001b[1mwandb\u001b[0m: \u001b[33mWARNING\u001b[0m Ignored wandb.init() arg project when running a sweep.\n"
     ]
    },
    {
     "data": {
      "text/html": [
       "wandb version 0.16.6 is available!  To upgrade, please run:\n",
       " $ pip install wandb --upgrade"
      ],
      "text/plain": [
       "<IPython.core.display.HTML object>"
      ]
     },
     "metadata": {},
     "output_type": "display_data"
    },
    {
     "data": {
      "text/html": [
       "Tracking run with wandb version 0.16.5"
      ],
      "text/plain": [
       "<IPython.core.display.HTML object>"
      ]
     },
     "metadata": {},
     "output_type": "display_data"
    },
    {
     "data": {
      "text/html": [
       "Run data is saved locally in <code>C:\\Users\\tripa\\AppData\\Local\\Programs\\Microsoft VS Code\\wandb\\run-20240404_042516-i6h70ssc</code>"
      ],
      "text/plain": [
       "<IPython.core.display.HTML object>"
      ]
     },
     "metadata": {},
     "output_type": "display_data"
    },
    {
     "data": {
      "text/html": [
       "Syncing run <strong><a href='https://wandb.ai/tripan-dham/dueling_mean_cartpole/runs/i6h70ssc/workspace' target=\"_blank\">peachy-sweep-20</a></strong> to <a href='https://wandb.ai/tripan-dham/dueling_mean_cartpole' target=\"_blank\">Weights & Biases</a> (<a href='https://wandb.me/run' target=\"_blank\">docs</a>)<br/>Sweep page: <a href='https://wandb.ai/tripan-dham/dueling_mean_cartpole/sweeps/et9o2o7a' target=\"_blank\">https://wandb.ai/tripan-dham/dueling_mean_cartpole/sweeps/et9o2o7a</a>"
      ],
      "text/plain": [
       "<IPython.core.display.HTML object>"
      ]
     },
     "metadata": {},
     "output_type": "display_data"
    },
    {
     "data": {
      "text/html": [
       " View project at <a href='https://wandb.ai/tripan-dham/dueling_mean_cartpole' target=\"_blank\">https://wandb.ai/tripan-dham/dueling_mean_cartpole</a>"
      ],
      "text/plain": [
       "<IPython.core.display.HTML object>"
      ]
     },
     "metadata": {},
     "output_type": "display_data"
    },
    {
     "data": {
      "text/html": [
       " View sweep at <a href='https://wandb.ai/tripan-dham/dueling_mean_cartpole/sweeps/et9o2o7a' target=\"_blank\">https://wandb.ai/tripan-dham/dueling_mean_cartpole/sweeps/et9o2o7a</a>"
      ],
      "text/plain": [
       "<IPython.core.display.HTML object>"
      ]
     },
     "metadata": {},
     "output_type": "display_data"
    },
    {
     "data": {
      "text/html": [
       " View run at <a href='https://wandb.ai/tripan-dham/dueling_mean_cartpole/runs/i6h70ssc/workspace' target=\"_blank\">https://wandb.ai/tripan-dham/dueling_mean_cartpole/runs/i6h70ssc/workspace</a>"
      ],
      "text/plain": [
       "<IPython.core.display.HTML object>"
      ]
     },
     "metadata": {},
     "output_type": "display_data"
    },
    {
     "data": {
      "application/vnd.jupyter.widget-view+json": {
       "model_id": "a575a1d0f6af47fba9f4a68aa75966f3",
       "version_major": 2,
       "version_minor": 0
      },
      "text/plain": [
       "VBox(children=(Label(value='0.001 MB of 0.005 MB uploaded\\r'), FloatProgress(value=0.23026315789473684, max=1.…"
      ]
     },
     "metadata": {},
     "output_type": "display_data"
    },
    {
     "data": {
      "text/html": [
       " View run <strong style=\"color:#cdcd00\">peachy-sweep-20</strong> at: <a href='https://wandb.ai/tripan-dham/dueling_mean_cartpole/runs/i6h70ssc/workspace' target=\"_blank\">https://wandb.ai/tripan-dham/dueling_mean_cartpole/runs/i6h70ssc/workspace</a><br/>Synced 4 W&B file(s), 0 media file(s), 0 artifact file(s) and 0 other file(s)"
      ],
      "text/plain": [
       "<IPython.core.display.HTML object>"
      ]
     },
     "metadata": {},
     "output_type": "display_data"
    },
    {
     "data": {
      "text/html": [
       "Find logs at: <code>.\\wandb\\run-20240404_042516-i6h70ssc\\logs</code>"
      ],
      "text/plain": [
       "<IPython.core.display.HTML object>"
      ]
     },
     "metadata": {},
     "output_type": "display_data"
    },
    {
     "name": "stderr",
     "output_type": "stream",
     "text": [
      "Run i6h70ssc errored:\n",
      "Traceback (most recent call last):\n",
      "  File \"c:\\Users\\tripa\\AppData\\Local\\Programs\\Python\\Python310\\lib\\site-packages\\wandb\\agents\\pyagent.py\", line 308, in _run_job\n",
      "    self._function()\n",
      "  File \"C:\\Users\\tripa\\AppData\\Local\\Temp\\ipykernel_1648\\2843854326.py\", line 252, in run_training\n",
      "    regret = train(LR, UPDATE_EVERY, BUFFER_SIZE, BATCH_SIZE)\n",
      "  File \"C:\\Users\\tripa\\AppData\\Local\\Temp\\ipykernel_1648\\2843854326.py\", line 230, in train\n",
      "    all_scores_1=dqn(agent)\n",
      "  File \"C:\\Users\\tripa\\AppData\\Local\\Temp\\ipykernel_1648\\2843854326.py\", line 182, in dqn\n",
      "    agent.step(state, action, reward, next_state, done)\n",
      "  File \"C:\\Users\\tripa\\AppData\\Local\\Temp\\ipykernel_1648\\2843854326.py\", line 117, in step\n",
      "    experiences = self.memory.sample()\n",
      "  File \"C:\\Users\\tripa\\AppData\\Local\\Temp\\ipykernel_1648\\2843854326.py\", line 77, in sample\n",
      "    experiences = random.sample(self.memory, k=self.batch_size)\n",
      "  File \"c:\\Users\\tripa\\AppData\\Local\\Programs\\Python\\Python310\\lib\\random.py\", line 482, in sample\n",
      "    raise ValueError(\"Sample larger than population or is negative\")\n",
      "ValueError: Sample larger than population or is negative\n",
      "\n",
      "\u001b[34m\u001b[1mwandb\u001b[0m: \u001b[32m\u001b[41mERROR\u001b[0m Run i6h70ssc errored:\n",
      "\u001b[34m\u001b[1mwandb\u001b[0m: \u001b[32m\u001b[41mERROR\u001b[0m Traceback (most recent call last):\n",
      "\u001b[34m\u001b[1mwandb\u001b[0m: \u001b[32m\u001b[41mERROR\u001b[0m   File \"c:\\Users\\tripa\\AppData\\Local\\Programs\\Python\\Python310\\lib\\site-packages\\wandb\\agents\\pyagent.py\", line 308, in _run_job\n",
      "\u001b[34m\u001b[1mwandb\u001b[0m: \u001b[32m\u001b[41mERROR\u001b[0m     self._function()\n",
      "\u001b[34m\u001b[1mwandb\u001b[0m: \u001b[32m\u001b[41mERROR\u001b[0m   File \"C:\\Users\\tripa\\AppData\\Local\\Temp\\ipykernel_1648\\2843854326.py\", line 252, in run_training\n",
      "\u001b[34m\u001b[1mwandb\u001b[0m: \u001b[32m\u001b[41mERROR\u001b[0m     regret = train(LR, UPDATE_EVERY, BUFFER_SIZE, BATCH_SIZE)\n",
      "\u001b[34m\u001b[1mwandb\u001b[0m: \u001b[32m\u001b[41mERROR\u001b[0m   File \"C:\\Users\\tripa\\AppData\\Local\\Temp\\ipykernel_1648\\2843854326.py\", line 230, in train\n",
      "\u001b[34m\u001b[1mwandb\u001b[0m: \u001b[32m\u001b[41mERROR\u001b[0m     all_scores_1=dqn(agent)\n",
      "\u001b[34m\u001b[1mwandb\u001b[0m: \u001b[32m\u001b[41mERROR\u001b[0m   File \"C:\\Users\\tripa\\AppData\\Local\\Temp\\ipykernel_1648\\2843854326.py\", line 182, in dqn\n",
      "\u001b[34m\u001b[1mwandb\u001b[0m: \u001b[32m\u001b[41mERROR\u001b[0m     agent.step(state, action, reward, next_state, done)\n",
      "\u001b[34m\u001b[1mwandb\u001b[0m: \u001b[32m\u001b[41mERROR\u001b[0m   File \"C:\\Users\\tripa\\AppData\\Local\\Temp\\ipykernel_1648\\2843854326.py\", line 117, in step\n",
      "\u001b[34m\u001b[1mwandb\u001b[0m: \u001b[32m\u001b[41mERROR\u001b[0m     experiences = self.memory.sample()\n",
      "\u001b[34m\u001b[1mwandb\u001b[0m: \u001b[32m\u001b[41mERROR\u001b[0m   File \"C:\\Users\\tripa\\AppData\\Local\\Temp\\ipykernel_1648\\2843854326.py\", line 77, in sample\n",
      "\u001b[34m\u001b[1mwandb\u001b[0m: \u001b[32m\u001b[41mERROR\u001b[0m     experiences = random.sample(self.memory, k=self.batch_size)\n",
      "\u001b[34m\u001b[1mwandb\u001b[0m: \u001b[32m\u001b[41mERROR\u001b[0m   File \"c:\\Users\\tripa\\AppData\\Local\\Programs\\Python\\Python310\\lib\\random.py\", line 482, in sample\n",
      "\u001b[34m\u001b[1mwandb\u001b[0m: \u001b[32m\u001b[41mERROR\u001b[0m     raise ValueError(\"Sample larger than population or is negative\")\n",
      "\u001b[34m\u001b[1mwandb\u001b[0m: \u001b[32m\u001b[41mERROR\u001b[0m ValueError: Sample larger than population or is negative\n",
      "\u001b[34m\u001b[1mwandb\u001b[0m: \u001b[32m\u001b[41mERROR\u001b[0m \n",
      "\u001b[34m\u001b[1mwandb\u001b[0m: Sweep Agent: Waiting for job.\n",
      "\u001b[34m\u001b[1mwandb\u001b[0m: Job received.\n",
      "\u001b[34m\u001b[1mwandb\u001b[0m: Agent Starting Run: jfh82j4w with config:\n",
      "\u001b[34m\u001b[1mwandb\u001b[0m: \tBATCH_SIZE: 64\n",
      "\u001b[34m\u001b[1mwandb\u001b[0m: \tBUFFER_SIZE: 1000\n",
      "\u001b[34m\u001b[1mwandb\u001b[0m: \tLR: 0.0013884883042352258\n",
      "\u001b[34m\u001b[1mwandb\u001b[0m: \tUPDATE_EVERY: 100\n",
      "Failed to detect the name of this notebook, you can set it manually with the WANDB_NOTEBOOK_NAME environment variable to enable code saving.\n",
      "\u001b[34m\u001b[1mwandb\u001b[0m: \u001b[33mWARNING\u001b[0m Ignored wandb.init() arg project when running a sweep.\n"
     ]
    },
    {
     "data": {
      "text/html": [
       "wandb version 0.16.6 is available!  To upgrade, please run:\n",
       " $ pip install wandb --upgrade"
      ],
      "text/plain": [
       "<IPython.core.display.HTML object>"
      ]
     },
     "metadata": {},
     "output_type": "display_data"
    },
    {
     "data": {
      "text/html": [
       "Tracking run with wandb version 0.16.5"
      ],
      "text/plain": [
       "<IPython.core.display.HTML object>"
      ]
     },
     "metadata": {},
     "output_type": "display_data"
    },
    {
     "data": {
      "text/html": [
       "Run data is saved locally in <code>C:\\Users\\tripa\\AppData\\Local\\Programs\\Microsoft VS Code\\wandb\\run-20240404_042535-jfh82j4w</code>"
      ],
      "text/plain": [
       "<IPython.core.display.HTML object>"
      ]
     },
     "metadata": {},
     "output_type": "display_data"
    },
    {
     "data": {
      "text/html": [
       "Syncing run <strong><a href='https://wandb.ai/tripan-dham/dueling_mean_cartpole/runs/jfh82j4w/workspace' target=\"_blank\">worthy-sweep-21</a></strong> to <a href='https://wandb.ai/tripan-dham/dueling_mean_cartpole' target=\"_blank\">Weights & Biases</a> (<a href='https://wandb.me/run' target=\"_blank\">docs</a>)<br/>Sweep page: <a href='https://wandb.ai/tripan-dham/dueling_mean_cartpole/sweeps/et9o2o7a' target=\"_blank\">https://wandb.ai/tripan-dham/dueling_mean_cartpole/sweeps/et9o2o7a</a>"
      ],
      "text/plain": [
       "<IPython.core.display.HTML object>"
      ]
     },
     "metadata": {},
     "output_type": "display_data"
    },
    {
     "data": {
      "text/html": [
       " View project at <a href='https://wandb.ai/tripan-dham/dueling_mean_cartpole' target=\"_blank\">https://wandb.ai/tripan-dham/dueling_mean_cartpole</a>"
      ],
      "text/plain": [
       "<IPython.core.display.HTML object>"
      ]
     },
     "metadata": {},
     "output_type": "display_data"
    },
    {
     "data": {
      "text/html": [
       " View sweep at <a href='https://wandb.ai/tripan-dham/dueling_mean_cartpole/sweeps/et9o2o7a' target=\"_blank\">https://wandb.ai/tripan-dham/dueling_mean_cartpole/sweeps/et9o2o7a</a>"
      ],
      "text/plain": [
       "<IPython.core.display.HTML object>"
      ]
     },
     "metadata": {},
     "output_type": "display_data"
    },
    {
     "data": {
      "text/html": [
       " View run at <a href='https://wandb.ai/tripan-dham/dueling_mean_cartpole/runs/jfh82j4w/workspace' target=\"_blank\">https://wandb.ai/tripan-dham/dueling_mean_cartpole/runs/jfh82j4w/workspace</a>"
      ],
      "text/plain": [
       "<IPython.core.display.HTML object>"
      ]
     },
     "metadata": {},
     "output_type": "display_data"
    }
   ],
   "source": [
    "'''\n",
    "Bunch of Hyper parameters (Which you might have to tune later)\n",
    "'''\n",
    "BUFFER_SIZE = int(1e5)  # replay buffer size\n",
    "BATCH_SIZE = 64         # minibatch size\n",
    "GAMMA = 0.99            # discount factor\n",
    "LR = 5e-4               # learning rate\n",
    "UPDATE_EVERY = 50   # how often to update the network (When Q target is present)\n",
    "env = gym.make('CartPole-v1')\n",
    "\n",
    "class QNetwork1(nn.Module):\n",
    "\n",
    "    def __init__(self, state_size, action_size, seed, fc1_units=128, fc2_units=64, fc3_units=64, fc4_units=128):\n",
    "        \"\"\"Initialize parameters and build model.\n",
    "        Params\n",
    "        ======\n",
    "            state_size (int): Dimension of each state\n",
    "            action_size (int): Dimension of each action\n",
    "            seed (int): Random seed\n",
    "            fc1_units (int): Number of nodes in first hidden layer\n",
    "            fc2_units (int): Number of nodes in second hidden layer\n",
    "        \"\"\"\n",
    "        super(QNetwork1, self).__init__()\n",
    "        self.seed = torch.manual_seed(seed)\n",
    "        self.fc1 = nn.Linear(state_size, fc1_units)\n",
    "        self.fc2 = nn.Linear(fc1_units, fc2_units)\n",
    "        # Advantage stream\n",
    "        self.fc3 = nn.Linear(state_size, fc3_units)\n",
    "        self.fc4 = nn.Linear(fc3_units, fc4_units)\n",
    "\n",
    "        self.fc_advantage = nn.Linear(fc4_units, action_size)\n",
    "        # Value stream\n",
    "        self.fc_value = nn.Linear(fc2_units, 1)\n",
    "\n",
    "    def forward(self, state):\n",
    "        \"\"\"Build a network that maps state -> action values.\"\"\"\n",
    "        x = F.relu(self.fc1(state))\n",
    "        x = F.relu(self.fc2(x))\n",
    "        value = self.fc_value(x)\n",
    "        x = F.relu(self.fc3(state))\n",
    "        x = F.relu(self.fc4(x))\n",
    "        advantage = self.fc_advantage(x)\n",
    "\n",
    "        # Combine value and advantage to get Q-values\n",
    "        Q_values = value + (advantage - advantage.mean(dim=1, keepdim=True))\n",
    "\n",
    "        return Q_values\n",
    "    \n",
    "device = torch.device(\"cuda:0\" if torch.cuda.is_available() else \"cpu\")\n",
    "\n",
    "class ReplayBuffer:\n",
    "    \"\"\"Fixed-size buffer to store experience tuples.\"\"\"\n",
    "\n",
    "    def __init__(self, action_size, buffer_size, batch_size, seed):\n",
    "        \"\"\"Initialize a ReplayBuffer object.\n",
    "\n",
    "        Params\n",
    "        ======\n",
    "            action_size (int): dimension of each action\n",
    "            buffer_size (int): maximum size of buffer\n",
    "            batch_size (int): size of each training batch\n",
    "            seed (int): random seed\n",
    "        \"\"\"\n",
    "        self.action_size = action_size\n",
    "        self.memory = deque(maxlen=buffer_size)\n",
    "        self.batch_size = batch_size\n",
    "        self.experience = namedtuple(\"Experience\", field_names=[\"state\", \"action\", \"reward\", \"next_state\", \"done\"])\n",
    "        self.seed = random.seed(seed)\n",
    "\n",
    "    def add(self, state, action, reward, next_state, done):\n",
    "        \"\"\"Add a new experience to memory.\"\"\"\n",
    "        e = self.experience(state, action, reward, next_state, done)\n",
    "        self.memory.append(e)\n",
    "\n",
    "    def sample(self):\n",
    "        \"\"\"Randomly sample a batch of experiences from memory.\"\"\"\n",
    "        experiences = random.sample(self.memory, k=self.batch_size)\n",
    "\n",
    "        states = torch.from_numpy(np.vstack([e.state for e in experiences if e is not None])).float().to(device)\n",
    "        actions = torch.from_numpy(np.vstack([e.action for e in experiences if e is not None])).long().to(device)\n",
    "        rewards = torch.from_numpy(np.vstack([e.reward for e in experiences if e is not None])).float().to(device)\n",
    "        next_states = torch.from_numpy(np.vstack([e.next_state for e in experiences if e is not None])).float().to(device)\n",
    "        dones = torch.from_numpy(np.vstack([e.done for e in experiences if e is not None]).astype(np.uint8)).float().to(device)\n",
    "\n",
    "        return (states, actions, rewards, next_states, dones)\n",
    "\n",
    "    def __len__(self):\n",
    "        \"\"\"Return the current size of internal memory.\"\"\"\n",
    "        return len(self.memory)\n",
    "class TutorialAgent1():\n",
    "\n",
    "    def __init__(self, state_size, action_size, seed, LR, UPDATE_EVERY, BATCH_SIZE, BUFFER_SIZE):\n",
    "\n",
    "        ''' Agent Environment Interaction '''\n",
    "        self.state_size = state_size\n",
    "        self.action_size = action_size\n",
    "        self.seed = random.seed(seed)\n",
    "\n",
    "        ''' Q-Network '''\n",
    "        self.qnetwork_local = QNetwork1(state_size, action_size, seed).to(device)\n",
    "        self.qnetwork_target = QNetwork1(state_size, action_size, seed).to(device)\n",
    "        self.optimizer = optim.Adam(self.qnetwork_local.parameters(), lr=LR)\n",
    "\n",
    "        ''' Replay memory '''\n",
    "        self.memory = ReplayBuffer(action_size, BUFFER_SIZE, BATCH_SIZE, seed)\n",
    "\n",
    "        ''' Initialize time step (for updating every UPDATE_EVERY steps)           -Needed for Q Targets '''\n",
    "        self.t_step = 0\n",
    "\n",
    "    def step(self, state, action, reward, next_state, done):\n",
    "\n",
    "        ''' Save experience in replay memory '''\n",
    "        self.memory.add(state, action, reward, next_state, done)\n",
    "\n",
    "        ''' If enough samples are available in memory, get random subset and learn '''\n",
    "        if len(self.memory) >= BATCH_SIZE:\n",
    "            experiences = self.memory.sample()\n",
    "            self.learn(experiences, GAMMA)\n",
    "\n",
    "        \"\"\" +Q TARGETS PRESENT \"\"\"\n",
    "        ''' Updating the Network every 'UPDATE_EVERY' steps taken '''\n",
    "        self.t_step = (self.t_step + 1) % UPDATE_EVERY\n",
    "        if self.t_step == 0:\n",
    "\n",
    "            self.qnetwork_target.load_state_dict(self.qnetwork_local.state_dict())\n",
    "\n",
    "    def act(self, state, eps=0.):\n",
    "        \n",
    "        state = torch.from_numpy(state).float().unsqueeze(0).to(device)\n",
    "        self.qnetwork_local.eval()\n",
    "        with torch.no_grad():\n",
    "            action_values = self.qnetwork_local(state)\n",
    "        self.qnetwork_local.train()\n",
    "\n",
    "        ''' Epsilon-greedy action selection (Already Present) '''\n",
    "        if random.random() > eps:\n",
    "            return np.argmax(action_values.cpu().data.numpy())\n",
    "        else:\n",
    "            return random.choice(np.arange(self.action_size))\n",
    "\n",
    "    def learn(self, experiences, gamma):\n",
    "        \"\"\" +E EXPERIENCE REPLAY PRESENT \"\"\"\n",
    "        states, actions, rewards, next_states, dones = experiences\n",
    "\n",
    "        Q_targets_next = self.qnetwork_target(next_states)\n",
    "\n",
    "        # Compute value and advantage streams\n",
    "        next_state_values = self.qnetwork_target(next_states).detach().max(1)[0].unsqueeze(1)\n",
    "        Q_targets = rewards + (gamma * next_state_values * (1 - dones))\n",
    "\n",
    "        # Compute Q-values for current states using local network\n",
    "        Q_expected = self.qnetwork_local(states).gather(1, actions)\n",
    "\n",
    "        # Compute loss\n",
    "        loss = F.mse_loss(Q_expected, Q_targets)\n",
    "\n",
    "        # Minimize the loss\n",
    "        self.optimizer.zero_grad()\n",
    "        loss.backward()\n",
    "        self.optimizer.step()\n",
    "\n",
    "\n",
    "        ''' Defining DQN Algorithm '''\n",
    "\n",
    "def dqn(agent,n_episodes=10000, max_t=500, eps_start=1.0, eps_end=0.01, eps_decay=0.995):\n",
    "\n",
    "    scores_window = deque(maxlen=100)\n",
    "    all_scores=np.array([])\n",
    "    moving_avg_scores=np.array([])\n",
    "    done,truncated=False,False\n",
    "    ''' last 100 scores for checking if the avg is more than 195 '''\n",
    "\n",
    "    eps = eps_start\n",
    "    ''' initialize epsilon '''\n",
    "\n",
    "    for i_episode in range(1, n_episodes+1):\n",
    "        state,_ = env.reset()\n",
    "        score = 0\n",
    "        for t in range(max_t):\n",
    "            action = agent.act(state, eps)\n",
    "            next_state,reward, done, truncated,_ = env.step(action)\n",
    "            agent.step(state, action, reward, next_state, done)\n",
    "            state = next_state\n",
    "            score += reward\n",
    "            if done or truncated:\n",
    "                break\n",
    "        scores_window.append(score)\n",
    "        all_scores=np.append(all_scores,score)\n",
    "\n",
    "        eps = max(eps_end, eps_decay*eps)\n",
    "        ''' decrease epsilon '''\n",
    "\n",
    "        moving_avg_scores=np.append(moving_avg_scores,np.mean(scores_window))\n",
    "        if i_episode==250:\n",
    "           break\n",
    "    return moving_avg_scores,True\n",
    "  \n",
    "\n",
    "sweep_config = {\n",
    "\"method\": \"bayes\",\n",
    "\"metric\": {\"name\": \"regret\", \"goal\": \"minimize\"},\n",
    "\"parameters\": {\n",
    "    \"LR\": {\"min\": 1e-5, \"max\": 1e-2},\n",
    "    \"UPDATE_EVERY\": {\"values\":[20,50,75,100]},\n",
    "    \"BUFFER_SIZE\": {\"values\":[1e2,1e3,1e5]},\n",
    "    \"BATCH_SIZE\": {\"values\":[32,64,128]}\n",
    "},\n",
    "\"project\": \"dueling_mean_Acrobot\",\n",
    "\"early_terminate\": {\n",
    "    \"type\": \"hyperband\",\n",
    "    \"min_iter\": 3,\n",
    "    \"max_iter\": 100\n",
    "}\n",
    "}\n",
    "# Initialize the sweep\n",
    "sweep_id = wandb.sweep(sweep_config)\n",
    "\n",
    "def train(LR, UPDATE_EVERY, BUFFER_SIZE, BATCH_SIZE):\n",
    "    UPDATE_EVERY = UPDATE_EVERY\n",
    "    BUFFER_SIZE = BUFFER_SIZE\n",
    "    LR = LR\n",
    "    BATCH_SIZE = BATCH_SIZE\n",
    "    env = gym.make('Acrobot-v1')\n",
    "    state_shape = env.observation_space.shape[0]\n",
    "    action_shape = env.action_space.n\n",
    "    no_of_actions = env.action_space.n\n",
    "    state,_ = env.reset()\n",
    "    state=np.array(state)\n",
    "    agent = TutorialAgent1(state_shape, action_shape,0, LR, UPDATE_EVERY, BATCH_SIZE, BUFFER_SIZE)\n",
    "    all_scores_1=dqn(agent)\n",
    "    all1=(all_scores_1[0])\n",
    "    regret=0\n",
    "    for i in all1:\n",
    "        if i>500:\n",
    "            break\n",
    "        else:\n",
    "            regret+=(-i)\n",
    "    return regret\n",
    "\n",
    "def run_training():\n",
    "    config_defaults = {\n",
    "        \"LR\": 5e-4,\n",
    "        \"UPDATE_EVERY\": 50,\n",
    "        \"BUFFER_SIZE\": 1e5,\n",
    "        \"BATCH_SIZE\": 64\n",
    "    }\n",
    "    config = wandb.init(config=config_defaults,project=\"dueling_mean_Acrobot\")\n",
    "    LR = config.config[\"LR\"]\n",
    "    UPDATE_EVERY=config.config['UPDATE_EVERY']\n",
    "    BATCH_SIZE = config.config[\"BATCH_SIZE\"]\n",
    "    BUFFER_SIZE = config.config[\"BUFFER_SIZE\"]\n",
    "    regret = train(LR, UPDATE_EVERY, BUFFER_SIZE, BATCH_SIZE)\n",
    "    wandb.log({\"regret\": regret})\n",
    "\n",
    "# Run the sweep\n",
    "wandb.agent(sweep_id, function=run_training)"
   ]
  }
 ],
 "metadata": {
  "kernelspec": {
   "display_name": "Python 3",
   "language": "python",
   "name": "python3"
  },
  "language_info": {
   "codemirror_mode": {
    "name": "ipython",
    "version": 3
   },
   "file_extension": ".py",
   "mimetype": "text/x-python",
   "name": "python",
   "nbconvert_exporter": "python",
   "pygments_lexer": "ipython3",
   "version": "3.10.10"
  }
 },
 "nbformat": 4,
 "nbformat_minor": 2
}
