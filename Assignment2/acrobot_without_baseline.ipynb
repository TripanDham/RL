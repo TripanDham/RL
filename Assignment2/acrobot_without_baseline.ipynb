{
 "cells": [
  {
   "cell_type": "code",
   "execution_count": 2,
   "metadata": {},
   "outputs": [
    {
     "name": "stdout",
     "output_type": "stream",
     "text": [
      "Create sweep with ID: yivd2k4v\n",
      "Sweep URL: https://wandb.ai/rl_shobhith/uncategorized/sweeps/yivd2k4v\n"
     ]
    },
    {
     "name": "stderr",
     "output_type": "stream",
     "text": [
      "\u001b[34m\u001b[1mwandb\u001b[0m: Agent Starting Run: x9tzpmyb with config:\n",
      "\u001b[34m\u001b[1mwandb\u001b[0m: \thidden_dim: 256\n",
      "\u001b[34m\u001b[1mwandb\u001b[0m: \tlearning_rate: 0.0034544734589122225\n",
      "Failed to detect the name of this notebook, you can set it manually with the WANDB_NOTEBOOK_NAME environment variable to enable code saving.\n",
      "\u001b[34m\u001b[1mwandb\u001b[0m: \u001b[33mWARNING\u001b[0m Ignored wandb.init() arg project when running a sweep.\n"
     ]
    },
    {
     "data": {
      "text/html": [
       "Tracking run with wandb version 0.16.5"
      ],
      "text/plain": [
       "<IPython.core.display.HTML object>"
      ]
     },
     "metadata": {},
     "output_type": "display_data"
    },
    {
     "data": {
      "text/html": [
       "Run data is saved locally in <code>c:\\Users\\Shobhith Vadlamudi\\AppData\\Local\\Programs\\Microsoft VS Code\\wandb\\run-20240402_001947-x9tzpmyb</code>"
      ],
      "text/plain": [
       "<IPython.core.display.HTML object>"
      ]
     },
     "metadata": {},
     "output_type": "display_data"
    },
    {
     "data": {
      "text/html": [
       "Syncing run <strong><a href='https://wandb.ai/rl_shobhith/uncategorized/runs/x9tzpmyb/workspace' target=\"_blank\">stilted-sweep-1</a></strong> to <a href='https://wandb.ai/rl_shobhith/uncategorized' target=\"_blank\">Weights & Biases</a> (<a href='https://wandb.me/run' target=\"_blank\">docs</a>)<br/>Sweep page: <a href='https://wandb.ai/rl_shobhith/uncategorized/sweeps/yivd2k4v' target=\"_blank\">https://wandb.ai/rl_shobhith/uncategorized/sweeps/yivd2k4v</a>"
      ],
      "text/plain": [
       "<IPython.core.display.HTML object>"
      ]
     },
     "metadata": {},
     "output_type": "display_data"
    },
    {
     "data": {
      "text/html": [
       " View project at <a href='https://wandb.ai/rl_shobhith/uncategorized' target=\"_blank\">https://wandb.ai/rl_shobhith/uncategorized</a>"
      ],
      "text/plain": [
       "<IPython.core.display.HTML object>"
      ]
     },
     "metadata": {},
     "output_type": "display_data"
    },
    {
     "data": {
      "text/html": [
       " View sweep at <a href='https://wandb.ai/rl_shobhith/uncategorized/sweeps/yivd2k4v' target=\"_blank\">https://wandb.ai/rl_shobhith/uncategorized/sweeps/yivd2k4v</a>"
      ],
      "text/plain": [
       "<IPython.core.display.HTML object>"
      ]
     },
     "metadata": {},
     "output_type": "display_data"
    },
    {
     "data": {
      "text/html": [
       " View run at <a href='https://wandb.ai/rl_shobhith/uncategorized/runs/x9tzpmyb/workspace' target=\"_blank\">https://wandb.ai/rl_shobhith/uncategorized/runs/x9tzpmyb/workspace</a>"
      ],
      "text/plain": [
       "<IPython.core.display.HTML object>"
      ]
     },
     "metadata": {},
     "output_type": "display_data"
    },
    {
     "name": "stderr",
     "output_type": "stream",
     "text": [
      "Iteration 0:   0%|          | 0/50 [00:00<?, ?it/s]C:\\Users\\Shobhith Vadlamudi\\AppData\\Local\\Packages\\PythonSoftwareFoundation.Python.3.10_qbz5n2kfra8p0\\LocalCache\\local-packages\\Python310\\site-packages\\gym\\utils\\passive_env_checker.py:233: DeprecationWarning: `np.bool8` is a deprecated alias for `np.bool_`.  (Deprecated NumPy 1.24)\n",
      "  if not isinstance(terminated, (bool, np.bool8)):\n",
      "Iteration 0: 100%|██████████| 50/50 [00:21<00:00,  2.28it/s, episode_return=50, return=-262.200]\n",
      "Iteration 1: 100%|██████████| 50/50 [00:07<00:00,  6.72it/s, episode_return=100, return=-138.500]\n",
      "Iteration 2: 100%|██████████| 50/50 [00:05<00:00,  8.47it/s, episode_return=150, return=-104.600]\n",
      "Iteration 3: 100%|██████████| 50/50 [00:04<00:00, 10.11it/s, episode_return=200, return=-98.700] \n",
      "Iteration 4: 100%|██████████| 50/50 [00:06<00:00,  8.12it/s, episode_return=250, return=-104.500]\n",
      "Iteration 5: 100%|██████████| 50/50 [00:05<00:00,  8.93it/s, episode_return=300, return=-92.100] \n",
      "Iteration 6: 100%|██████████| 50/50 [00:05<00:00,  8.79it/s, episode_return=350, return=-84.900] \n",
      "Iteration 7: 100%|██████████| 50/50 [00:05<00:00,  8.90it/s, episode_return=400, return=-89.200] \n",
      "Iteration 8: 100%|██████████| 50/50 [00:05<00:00,  8.44it/s, episode_return=450, return=-116.000]\n",
      "Iteration 9: 100%|██████████| 50/50 [00:05<00:00,  9.28it/s, episode_return=500, return=-86.600] \n"
     ]
    },
    {
     "data": {
      "application/vnd.jupyter.widget-view+json": {
       "model_id": "06be277f7ce047738d5630def210a585",
       "version_major": 2,
       "version_minor": 0
      },
      "text/plain": [
       "VBox(children=(Label(value='0.001 MB of 0.001 MB uploaded\\r'), FloatProgress(value=1.0, max=1.0)))"
      ]
     },
     "metadata": {},
     "output_type": "display_data"
    },
    {
     "data": {
      "text/html": [
       "<style>\n",
       "    table.wandb td:nth-child(1) { padding: 0 10px; text-align: left ; width: auto;} td:nth-child(2) {text-align: left ; width: 100%}\n",
       "    .wandb-row { display: flex; flex-direction: row; flex-wrap: wrap; justify-content: flex-start; width: 100% }\n",
       "    .wandb-col { display: flex; flex-direction: column; flex-basis: 100%; flex: 1; padding: 10px; }\n",
       "    </style>\n",
       "<div class=\"wandb-row\"><div class=\"wandb-col\"><h3>Run history:</h3><br/><table class=\"wandb\"><tr><td>regret</td><td>▁</td></tr></table><br/></div><div class=\"wandb-col\"><h3>Run summary:</h3><br/><table class=\"wandb\"><tr><td>regret</td><td>88398.84219</td></tr></table><br/></div></div>"
      ],
      "text/plain": [
       "<IPython.core.display.HTML object>"
      ]
     },
     "metadata": {},
     "output_type": "display_data"
    },
    {
     "data": {
      "text/html": [
       " View run <strong style=\"color:#cdcd00\">stilted-sweep-1</strong> at: <a href='https://wandb.ai/rl_shobhith/uncategorized/runs/x9tzpmyb/workspace' target=\"_blank\">https://wandb.ai/rl_shobhith/uncategorized/runs/x9tzpmyb/workspace</a><br/>Synced 5 W&B file(s), 0 media file(s), 0 artifact file(s) and 0 other file(s)"
      ],
      "text/plain": [
       "<IPython.core.display.HTML object>"
      ]
     },
     "metadata": {},
     "output_type": "display_data"
    },
    {
     "data": {
      "text/html": [
       "Find logs at: <code>.\\wandb\\run-20240402_001947-x9tzpmyb\\logs</code>"
      ],
      "text/plain": [
       "<IPython.core.display.HTML object>"
      ]
     },
     "metadata": {},
     "output_type": "display_data"
    },
    {
     "name": "stderr",
     "output_type": "stream",
     "text": [
      "\u001b[34m\u001b[1mwandb\u001b[0m: Agent Starting Run: 3i1ptoje with config:\n",
      "\u001b[34m\u001b[1mwandb\u001b[0m: \thidden_dim: 128\n",
      "\u001b[34m\u001b[1mwandb\u001b[0m: \tlearning_rate: 0.006770331299173917\n",
      "Failed to detect the name of this notebook, you can set it manually with the WANDB_NOTEBOOK_NAME environment variable to enable code saving.\n",
      "\u001b[34m\u001b[1mwandb\u001b[0m: \u001b[33mWARNING\u001b[0m Ignored wandb.init() arg project when running a sweep.\n"
     ]
    },
    {
     "data": {
      "text/html": [
       "Tracking run with wandb version 0.16.5"
      ],
      "text/plain": [
       "<IPython.core.display.HTML object>"
      ]
     },
     "metadata": {},
     "output_type": "display_data"
    },
    {
     "data": {
      "text/html": [
       "Run data is saved locally in <code>c:\\Users\\Shobhith Vadlamudi\\AppData\\Local\\Programs\\Microsoft VS Code\\wandb\\run-20240402_002123-3i1ptoje</code>"
      ],
      "text/plain": [
       "<IPython.core.display.HTML object>"
      ]
     },
     "metadata": {},
     "output_type": "display_data"
    },
    {
     "data": {
      "text/html": [
       "Syncing run <strong><a href='https://wandb.ai/rl_shobhith/uncategorized/runs/3i1ptoje/workspace' target=\"_blank\">light-sweep-2</a></strong> to <a href='https://wandb.ai/rl_shobhith/uncategorized' target=\"_blank\">Weights & Biases</a> (<a href='https://wandb.me/run' target=\"_blank\">docs</a>)<br/>Sweep page: <a href='https://wandb.ai/rl_shobhith/uncategorized/sweeps/yivd2k4v' target=\"_blank\">https://wandb.ai/rl_shobhith/uncategorized/sweeps/yivd2k4v</a>"
      ],
      "text/plain": [
       "<IPython.core.display.HTML object>"
      ]
     },
     "metadata": {},
     "output_type": "display_data"
    },
    {
     "data": {
      "text/html": [
       " View project at <a href='https://wandb.ai/rl_shobhith/uncategorized' target=\"_blank\">https://wandb.ai/rl_shobhith/uncategorized</a>"
      ],
      "text/plain": [
       "<IPython.core.display.HTML object>"
      ]
     },
     "metadata": {},
     "output_type": "display_data"
    },
    {
     "data": {
      "text/html": [
       " View sweep at <a href='https://wandb.ai/rl_shobhith/uncategorized/sweeps/yivd2k4v' target=\"_blank\">https://wandb.ai/rl_shobhith/uncategorized/sweeps/yivd2k4v</a>"
      ],
      "text/plain": [
       "<IPython.core.display.HTML object>"
      ]
     },
     "metadata": {},
     "output_type": "display_data"
    },
    {
     "data": {
      "text/html": [
       " View run at <a href='https://wandb.ai/rl_shobhith/uncategorized/runs/3i1ptoje/workspace' target=\"_blank\">https://wandb.ai/rl_shobhith/uncategorized/runs/3i1ptoje/workspace</a>"
      ],
      "text/plain": [
       "<IPython.core.display.HTML object>"
      ]
     },
     "metadata": {},
     "output_type": "display_data"
    },
    {
     "name": "stderr",
     "output_type": "stream",
     "text": [
      "Iteration 0: 100%|██████████| 50/50 [00:07<00:00,  6.28it/s, episode_return=50, return=-189.000]\n",
      "Iteration 1: 100%|██████████| 50/50 [00:04<00:00, 11.09it/s, episode_return=100, return=-105.800]\n",
      "Iteration 2: 100%|██████████| 50/50 [00:03<00:00, 12.57it/s, episode_return=150, return=-97.800] \n",
      "Iteration 3: 100%|██████████| 50/50 [00:03<00:00, 12.56it/s, episode_return=200, return=-104.900]\n",
      "Iteration 4: 100%|██████████| 50/50 [00:04<00:00, 12.12it/s, episode_return=250, return=-90.700] \n",
      "Iteration 5: 100%|██████████| 50/50 [00:05<00:00,  8.83it/s, episode_return=300, return=-129.300]\n",
      "Iteration 6: 100%|██████████| 50/50 [00:04<00:00, 11.10it/s, episode_return=350, return=-103.800]\n",
      "Iteration 7: 100%|██████████| 50/50 [00:04<00:00, 11.74it/s, episode_return=400, return=-98.900] \n",
      "Iteration 8: 100%|██████████| 50/50 [00:04<00:00, 11.17it/s, episode_return=450, return=-80.600] \n",
      "Iteration 9: 100%|██████████| 50/50 [00:04<00:00, 11.02it/s, episode_return=500, return=-97.700]\n"
     ]
    },
    {
     "data": {
      "application/vnd.jupyter.widget-view+json": {
       "model_id": "26b8582cfe2b4a8abca7e74dff4d9850",
       "version_major": 2,
       "version_minor": 0
      },
      "text/plain": [
       "VBox(children=(Label(value='0.001 MB of 0.007 MB uploaded\\r'), FloatProgress(value=0.16722542577444013, max=1.…"
      ]
     },
     "metadata": {},
     "output_type": "display_data"
    },
    {
     "data": {
      "text/html": [
       "<style>\n",
       "    table.wandb td:nth-child(1) { padding: 0 10px; text-align: left ; width: auto;} td:nth-child(2) {text-align: left ; width: 100%}\n",
       "    .wandb-row { display: flex; flex-direction: row; flex-wrap: wrap; justify-content: flex-start; width: 100% }\n",
       "    .wandb-col { display: flex; flex-direction: column; flex-basis: 100%; flex: 1; padding: 10px; }\n",
       "    </style>\n",
       "<div class=\"wandb-row\"><div class=\"wandb-col\"><h3>Run history:</h3><br/><table class=\"wandb\"><tr><td>regret</td><td>▁</td></tr></table><br/></div><div class=\"wandb-col\"><h3>Run summary:</h3><br/><table class=\"wandb\"><tr><td>regret</td><td>61016.15872</td></tr></table><br/></div></div>"
      ],
      "text/plain": [
       "<IPython.core.display.HTML object>"
      ]
     },
     "metadata": {},
     "output_type": "display_data"
    },
    {
     "data": {
      "text/html": [
       " View run <strong style=\"color:#cdcd00\">light-sweep-2</strong> at: <a href='https://wandb.ai/rl_shobhith/uncategorized/runs/3i1ptoje/workspace' target=\"_blank\">https://wandb.ai/rl_shobhith/uncategorized/runs/3i1ptoje/workspace</a><br/>Synced 5 W&B file(s), 0 media file(s), 0 artifact file(s) and 0 other file(s)"
      ],
      "text/plain": [
       "<IPython.core.display.HTML object>"
      ]
     },
     "metadata": {},
     "output_type": "display_data"
    },
    {
     "data": {
      "text/html": [
       "Find logs at: <code>.\\wandb\\run-20240402_002123-3i1ptoje\\logs</code>"
      ],
      "text/plain": [
       "<IPython.core.display.HTML object>"
      ]
     },
     "metadata": {},
     "output_type": "display_data"
    },
    {
     "name": "stderr",
     "output_type": "stream",
     "text": [
      "\u001b[34m\u001b[1mwandb\u001b[0m: Agent Starting Run: qq8dt6g1 with config:\n",
      "\u001b[34m\u001b[1mwandb\u001b[0m: \thidden_dim: 128\n",
      "\u001b[34m\u001b[1mwandb\u001b[0m: \tlearning_rate: 0.006817300816763001\n",
      "Failed to detect the name of this notebook, you can set it manually with the WANDB_NOTEBOOK_NAME environment variable to enable code saving.\n",
      "\u001b[34m\u001b[1mwandb\u001b[0m: \u001b[33mWARNING\u001b[0m Ignored wandb.init() arg project when running a sweep.\n"
     ]
    },
    {
     "data": {
      "text/html": [
       "Tracking run with wandb version 0.16.5"
      ],
      "text/plain": [
       "<IPython.core.display.HTML object>"
      ]
     },
     "metadata": {},
     "output_type": "display_data"
    },
    {
     "data": {
      "text/html": [
       "Run data is saved locally in <code>c:\\Users\\Shobhith Vadlamudi\\AppData\\Local\\Programs\\Microsoft VS Code\\wandb\\run-20240402_002222-qq8dt6g1</code>"
      ],
      "text/plain": [
       "<IPython.core.display.HTML object>"
      ]
     },
     "metadata": {},
     "output_type": "display_data"
    },
    {
     "data": {
      "text/html": [
       "Syncing run <strong><a href='https://wandb.ai/rl_shobhith/uncategorized/runs/qq8dt6g1/workspace' target=\"_blank\">misty-sweep-3</a></strong> to <a href='https://wandb.ai/rl_shobhith/uncategorized' target=\"_blank\">Weights & Biases</a> (<a href='https://wandb.me/run' target=\"_blank\">docs</a>)<br/>Sweep page: <a href='https://wandb.ai/rl_shobhith/uncategorized/sweeps/yivd2k4v' target=\"_blank\">https://wandb.ai/rl_shobhith/uncategorized/sweeps/yivd2k4v</a>"
      ],
      "text/plain": [
       "<IPython.core.display.HTML object>"
      ]
     },
     "metadata": {},
     "output_type": "display_data"
    },
    {
     "data": {
      "text/html": [
       " View project at <a href='https://wandb.ai/rl_shobhith/uncategorized' target=\"_blank\">https://wandb.ai/rl_shobhith/uncategorized</a>"
      ],
      "text/plain": [
       "<IPython.core.display.HTML object>"
      ]
     },
     "metadata": {},
     "output_type": "display_data"
    },
    {
     "data": {
      "text/html": [
       " View sweep at <a href='https://wandb.ai/rl_shobhith/uncategorized/sweeps/yivd2k4v' target=\"_blank\">https://wandb.ai/rl_shobhith/uncategorized/sweeps/yivd2k4v</a>"
      ],
      "text/plain": [
       "<IPython.core.display.HTML object>"
      ]
     },
     "metadata": {},
     "output_type": "display_data"
    },
    {
     "data": {
      "text/html": [
       " View run at <a href='https://wandb.ai/rl_shobhith/uncategorized/runs/qq8dt6g1/workspace' target=\"_blank\">https://wandb.ai/rl_shobhith/uncategorized/runs/qq8dt6g1/workspace</a>"
      ],
      "text/plain": [
       "<IPython.core.display.HTML object>"
      ]
     },
     "metadata": {},
     "output_type": "display_data"
    },
    {
     "name": "stderr",
     "output_type": "stream",
     "text": [
      "Iteration 0: 100%|██████████| 50/50 [00:21<00:00,  2.36it/s, episode_return=50, return=-419.200]\n",
      "Iteration 1: 100%|██████████| 50/50 [00:17<00:00,  2.80it/s, episode_return=100, return=-172.000]\n",
      "Iteration 2: 100%|██████████| 50/50 [00:05<00:00,  9.98it/s, episode_return=150, return=-102.600]\n",
      "Iteration 3: 100%|██████████| 50/50 [00:05<00:00,  8.61it/s, episode_return=200, return=-94.200] \n",
      "Iteration 4: 100%|██████████| 50/50 [00:06<00:00,  8.30it/s, episode_return=250, return=-113.100]\n",
      "Iteration 5: 100%|██████████| 50/50 [00:06<00:00,  7.77it/s, episode_return=300, return=-90.400] \n",
      "Iteration 6: 100%|██████████| 50/50 [00:06<00:00,  7.63it/s, episode_return=350, return=-97.100] \n",
      "Iteration 7: 100%|██████████| 50/50 [00:06<00:00,  8.21it/s, episode_return=400, return=-111.500]\n",
      "Iteration 8: 100%|██████████| 50/50 [00:06<00:00,  8.15it/s, episode_return=450, return=-90.100] \n",
      "Iteration 9: 100%|██████████| 50/50 [00:04<00:00, 10.35it/s, episode_return=500, return=-94.400]\n"
     ]
    },
    {
     "data": {
      "application/vnd.jupyter.widget-view+json": {
       "model_id": "c3b6608af3774678a29134f6f0f5601b",
       "version_major": 2,
       "version_minor": 0
      },
      "text/plain": [
       "VBox(children=(Label(value='0.001 MB of 0.001 MB uploaded\\r'), FloatProgress(value=1.0, max=1.0)))"
      ]
     },
     "metadata": {},
     "output_type": "display_data"
    },
    {
     "data": {
      "text/html": [
       "<style>\n",
       "    table.wandb td:nth-child(1) { padding: 0 10px; text-align: left ; width: auto;} td:nth-child(2) {text-align: left ; width: 100%}\n",
       "    .wandb-row { display: flex; flex-direction: row; flex-wrap: wrap; justify-content: flex-start; width: 100% }\n",
       "    .wandb-col { display: flex; flex-direction: column; flex-basis: 100%; flex: 1; padding: 10px; }\n",
       "    </style>\n",
       "<div class=\"wandb-row\"><div class=\"wandb-col\"><h3>Run history:</h3><br/><table class=\"wandb\"><tr><td>regret</td><td>▁</td></tr></table><br/></div><div class=\"wandb-col\"><h3>Run summary:</h3><br/><table class=\"wandb\"><tr><td>regret</td><td>102919.22348</td></tr></table><br/></div></div>"
      ],
      "text/plain": [
       "<IPython.core.display.HTML object>"
      ]
     },
     "metadata": {},
     "output_type": "display_data"
    },
    {
     "data": {
      "text/html": [
       " View run <strong style=\"color:#cdcd00\">misty-sweep-3</strong> at: <a href='https://wandb.ai/rl_shobhith/uncategorized/runs/qq8dt6g1/workspace' target=\"_blank\">https://wandb.ai/rl_shobhith/uncategorized/runs/qq8dt6g1/workspace</a><br/>Synced 5 W&B file(s), 0 media file(s), 0 artifact file(s) and 0 other file(s)"
      ],
      "text/plain": [
       "<IPython.core.display.HTML object>"
      ]
     },
     "metadata": {},
     "output_type": "display_data"
    },
    {
     "data": {
      "text/html": [
       "Find logs at: <code>.\\wandb\\run-20240402_002222-qq8dt6g1\\logs</code>"
      ],
      "text/plain": [
       "<IPython.core.display.HTML object>"
      ]
     },
     "metadata": {},
     "output_type": "display_data"
    },
    {
     "name": "stderr",
     "output_type": "stream",
     "text": [
      "\u001b[34m\u001b[1mwandb\u001b[0m: Agent Starting Run: b31wcyd9 with config:\n",
      "\u001b[34m\u001b[1mwandb\u001b[0m: \thidden_dim: 256\n",
      "\u001b[34m\u001b[1mwandb\u001b[0m: \tlearning_rate: 0.005495405683931503\n",
      "Failed to detect the name of this notebook, you can set it manually with the WANDB_NOTEBOOK_NAME environment variable to enable code saving.\n",
      "\u001b[34m\u001b[1mwandb\u001b[0m: \u001b[33mWARNING\u001b[0m Ignored wandb.init() arg project when running a sweep.\n"
     ]
    },
    {
     "data": {
      "text/html": [
       "Tracking run with wandb version 0.16.5"
      ],
      "text/plain": [
       "<IPython.core.display.HTML object>"
      ]
     },
     "metadata": {},
     "output_type": "display_data"
    },
    {
     "data": {
      "text/html": [
       "Run data is saved locally in <code>c:\\Users\\Shobhith Vadlamudi\\AppData\\Local\\Programs\\Microsoft VS Code\\wandb\\run-20240402_002407-b31wcyd9</code>"
      ],
      "text/plain": [
       "<IPython.core.display.HTML object>"
      ]
     },
     "metadata": {},
     "output_type": "display_data"
    },
    {
     "data": {
      "text/html": [
       "Syncing run <strong><a href='https://wandb.ai/rl_shobhith/uncategorized/runs/b31wcyd9/workspace' target=\"_blank\">crisp-sweep-4</a></strong> to <a href='https://wandb.ai/rl_shobhith/uncategorized' target=\"_blank\">Weights & Biases</a> (<a href='https://wandb.me/run' target=\"_blank\">docs</a>)<br/>Sweep page: <a href='https://wandb.ai/rl_shobhith/uncategorized/sweeps/yivd2k4v' target=\"_blank\">https://wandb.ai/rl_shobhith/uncategorized/sweeps/yivd2k4v</a>"
      ],
      "text/plain": [
       "<IPython.core.display.HTML object>"
      ]
     },
     "metadata": {},
     "output_type": "display_data"
    },
    {
     "data": {
      "text/html": [
       " View project at <a href='https://wandb.ai/rl_shobhith/uncategorized' target=\"_blank\">https://wandb.ai/rl_shobhith/uncategorized</a>"
      ],
      "text/plain": [
       "<IPython.core.display.HTML object>"
      ]
     },
     "metadata": {},
     "output_type": "display_data"
    },
    {
     "data": {
      "text/html": [
       " View sweep at <a href='https://wandb.ai/rl_shobhith/uncategorized/sweeps/yivd2k4v' target=\"_blank\">https://wandb.ai/rl_shobhith/uncategorized/sweeps/yivd2k4v</a>"
      ],
      "text/plain": [
       "<IPython.core.display.HTML object>"
      ]
     },
     "metadata": {},
     "output_type": "display_data"
    },
    {
     "data": {
      "text/html": [
       " View run at <a href='https://wandb.ai/rl_shobhith/uncategorized/runs/b31wcyd9/workspace' target=\"_blank\">https://wandb.ai/rl_shobhith/uncategorized/runs/b31wcyd9/workspace</a>"
      ],
      "text/plain": [
       "<IPython.core.display.HTML object>"
      ]
     },
     "metadata": {},
     "output_type": "display_data"
    },
    {
     "name": "stderr",
     "output_type": "stream",
     "text": [
      "Iteration 0: 100%|██████████| 50/50 [00:17<00:00,  2.78it/s, episode_return=50, return=-500.000]\n",
      "Iteration 1: 100%|██████████| 50/50 [00:25<00:00,  1.97it/s, episode_return=100, return=-500.000]\n",
      "Iteration 2: 100%|██████████| 50/50 [00:26<00:00,  1.86it/s, episode_return=150, return=-500.000]\n",
      "Iteration 3: 100%|██████████| 50/50 [00:26<00:00,  1.88it/s, episode_return=200, return=-500.000]\n",
      "Iteration 4: 100%|██████████| 50/50 [00:25<00:00,  1.93it/s, episode_return=250, return=-500.000]\n",
      "Iteration 5: 100%|██████████| 50/50 [00:25<00:00,  1.95it/s, episode_return=300, return=-500.000]\n",
      "Iteration 6: 100%|██████████| 50/50 [00:27<00:00,  1.84it/s, episode_return=350, return=-500.000]\n",
      "Iteration 7: 100%|██████████| 50/50 [00:26<00:00,  1.89it/s, episode_return=400, return=-500.000]\n",
      "Iteration 8: 100%|██████████| 50/50 [00:26<00:00,  1.87it/s, episode_return=450, return=-500.000]\n",
      "Iteration 9: 100%|██████████| 50/50 [00:26<00:00,  1.88it/s, episode_return=500, return=-500.000]\n"
     ]
    },
    {
     "data": {
      "application/vnd.jupyter.widget-view+json": {
       "model_id": "5674b143c26a4071983566698b100753",
       "version_major": 2,
       "version_minor": 0
      },
      "text/plain": [
       "VBox(children=(Label(value='0.001 MB of 0.001 MB uploaded\\r'), FloatProgress(value=1.0, max=1.0)))"
      ]
     },
     "metadata": {},
     "output_type": "display_data"
    },
    {
     "data": {
      "text/html": [
       "<style>\n",
       "    table.wandb td:nth-child(1) { padding: 0 10px; text-align: left ; width: auto;} td:nth-child(2) {text-align: left ; width: 100%}\n",
       "    .wandb-row { display: flex; flex-direction: row; flex-wrap: wrap; justify-content: flex-start; width: 100% }\n",
       "    .wandb-col { display: flex; flex-direction: column; flex-basis: 100%; flex: 1; padding: 10px; }\n",
       "    </style>\n",
       "<div class=\"wandb-row\"><div class=\"wandb-col\"><h3>Run history:</h3><br/><table class=\"wandb\"><tr><td>regret</td><td>▁</td></tr></table><br/></div><div class=\"wandb-col\"><h3>Run summary:</h3><br/><table class=\"wandb\"><tr><td>regret</td><td>235592.34531</td></tr></table><br/></div></div>"
      ],
      "text/plain": [
       "<IPython.core.display.HTML object>"
      ]
     },
     "metadata": {},
     "output_type": "display_data"
    },
    {
     "data": {
      "text/html": [
       " View run <strong style=\"color:#cdcd00\">crisp-sweep-4</strong> at: <a href='https://wandb.ai/rl_shobhith/uncategorized/runs/b31wcyd9/workspace' target=\"_blank\">https://wandb.ai/rl_shobhith/uncategorized/runs/b31wcyd9/workspace</a><br/>Synced 5 W&B file(s), 0 media file(s), 0 artifact file(s) and 0 other file(s)"
      ],
      "text/plain": [
       "<IPython.core.display.HTML object>"
      ]
     },
     "metadata": {},
     "output_type": "display_data"
    },
    {
     "data": {
      "text/html": [
       "Find logs at: <code>.\\wandb\\run-20240402_002407-b31wcyd9\\logs</code>"
      ],
      "text/plain": [
       "<IPython.core.display.HTML object>"
      ]
     },
     "metadata": {},
     "output_type": "display_data"
    },
    {
     "name": "stderr",
     "output_type": "stream",
     "text": [
      "\u001b[34m\u001b[1mwandb\u001b[0m: Agent Starting Run: i35d0ktp with config:\n",
      "\u001b[34m\u001b[1mwandb\u001b[0m: \thidden_dim: 128\n",
      "\u001b[34m\u001b[1mwandb\u001b[0m: \tlearning_rate: 0.008128049410257755\n",
      "Failed to detect the name of this notebook, you can set it manually with the WANDB_NOTEBOOK_NAME environment variable to enable code saving.\n",
      "\u001b[34m\u001b[1mwandb\u001b[0m: \u001b[33mWARNING\u001b[0m Ignored wandb.init() arg project when running a sweep.\n"
     ]
    },
    {
     "data": {
      "text/html": [
       "Tracking run with wandb version 0.16.5"
      ],
      "text/plain": [
       "<IPython.core.display.HTML object>"
      ]
     },
     "metadata": {},
     "output_type": "display_data"
    },
    {
     "data": {
      "text/html": [
       "Run data is saved locally in <code>c:\\Users\\Shobhith Vadlamudi\\AppData\\Local\\Programs\\Microsoft VS Code\\wandb\\run-20240402_002837-i35d0ktp</code>"
      ],
      "text/plain": [
       "<IPython.core.display.HTML object>"
      ]
     },
     "metadata": {},
     "output_type": "display_data"
    },
    {
     "data": {
      "text/html": [
       "Syncing run <strong><a href='https://wandb.ai/rl_shobhith/uncategorized/runs/i35d0ktp/workspace' target=\"_blank\">autumn-sweep-5</a></strong> to <a href='https://wandb.ai/rl_shobhith/uncategorized' target=\"_blank\">Weights & Biases</a> (<a href='https://wandb.me/run' target=\"_blank\">docs</a>)<br/>Sweep page: <a href='https://wandb.ai/rl_shobhith/uncategorized/sweeps/yivd2k4v' target=\"_blank\">https://wandb.ai/rl_shobhith/uncategorized/sweeps/yivd2k4v</a>"
      ],
      "text/plain": [
       "<IPython.core.display.HTML object>"
      ]
     },
     "metadata": {},
     "output_type": "display_data"
    },
    {
     "data": {
      "text/html": [
       " View project at <a href='https://wandb.ai/rl_shobhith/uncategorized' target=\"_blank\">https://wandb.ai/rl_shobhith/uncategorized</a>"
      ],
      "text/plain": [
       "<IPython.core.display.HTML object>"
      ]
     },
     "metadata": {},
     "output_type": "display_data"
    },
    {
     "data": {
      "text/html": [
       " View sweep at <a href='https://wandb.ai/rl_shobhith/uncategorized/sweeps/yivd2k4v' target=\"_blank\">https://wandb.ai/rl_shobhith/uncategorized/sweeps/yivd2k4v</a>"
      ],
      "text/plain": [
       "<IPython.core.display.HTML object>"
      ]
     },
     "metadata": {},
     "output_type": "display_data"
    },
    {
     "data": {
      "text/html": [
       " View run at <a href='https://wandb.ai/rl_shobhith/uncategorized/runs/i35d0ktp/workspace' target=\"_blank\">https://wandb.ai/rl_shobhith/uncategorized/runs/i35d0ktp/workspace</a>"
      ],
      "text/plain": [
       "<IPython.core.display.HTML object>"
      ]
     },
     "metadata": {},
     "output_type": "display_data"
    },
    {
     "name": "stderr",
     "output_type": "stream",
     "text": [
      "Iteration 0: 100%|██████████| 50/50 [00:22<00:00,  2.27it/s, episode_return=50, return=-500.000]\n",
      "Iteration 1: 100%|██████████| 50/50 [00:21<00:00,  2.30it/s, episode_return=100, return=-500.000]\n",
      "Iteration 2: 100%|██████████| 50/50 [00:21<00:00,  2.31it/s, episode_return=150, return=-500.000]\n",
      "Iteration 3: 100%|██████████| 50/50 [00:22<00:00,  2.24it/s, episode_return=200, return=-500.000]\n",
      "Iteration 4: 100%|██████████| 50/50 [00:21<00:00,  2.35it/s, episode_return=250, return=-500.000]\n",
      "Iteration 5: 100%|██████████| 50/50 [00:22<00:00,  2.26it/s, episode_return=300, return=-500.000]\n",
      "Iteration 6: 100%|██████████| 50/50 [00:22<00:00,  2.24it/s, episode_return=350, return=-500.000]\n",
      "Iteration 7: 100%|██████████| 50/50 [00:21<00:00,  2.28it/s, episode_return=400, return=-500.000]\n",
      "Iteration 8: 100%|██████████| 50/50 [00:21<00:00,  2.36it/s, episode_return=450, return=-500.000]\n",
      "Iteration 9: 100%|██████████| 50/50 [00:20<00:00,  2.47it/s, episode_return=500, return=-500.000]\n"
     ]
    },
    {
     "data": {
      "application/vnd.jupyter.widget-view+json": {
       "model_id": "e455476d1bf04cfc8c2ac348527266a1",
       "version_major": 2,
       "version_minor": 0
      },
      "text/plain": [
       "VBox(children=(Label(value='0.001 MB of 0.007 MB uploaded\\r'), FloatProgress(value=0.1680830972615675, max=1.0…"
      ]
     },
     "metadata": {},
     "output_type": "display_data"
    },
    {
     "data": {
      "text/html": [
       "<style>\n",
       "    table.wandb td:nth-child(1) { padding: 0 10px; text-align: left ; width: auto;} td:nth-child(2) {text-align: left ; width: 100%}\n",
       "    .wandb-row { display: flex; flex-direction: row; flex-wrap: wrap; justify-content: flex-start; width: 100% }\n",
       "    .wandb-col { display: flex; flex-direction: column; flex-basis: 100%; flex: 1; padding: 10px; }\n",
       "    </style>\n",
       "<div class=\"wandb-row\"><div class=\"wandb-col\"><h3>Run history:</h3><br/><table class=\"wandb\"><tr><td>regret</td><td>▁</td></tr></table><br/></div><div class=\"wandb-col\"><h3>Run summary:</h3><br/><table class=\"wandb\"><tr><td>regret</td><td>246751.44709</td></tr></table><br/></div></div>"
      ],
      "text/plain": [
       "<IPython.core.display.HTML object>"
      ]
     },
     "metadata": {},
     "output_type": "display_data"
    },
    {
     "data": {
      "text/html": [
       " View run <strong style=\"color:#cdcd00\">autumn-sweep-5</strong> at: <a href='https://wandb.ai/rl_shobhith/uncategorized/runs/i35d0ktp/workspace' target=\"_blank\">https://wandb.ai/rl_shobhith/uncategorized/runs/i35d0ktp/workspace</a><br/>Synced 5 W&B file(s), 0 media file(s), 0 artifact file(s) and 0 other file(s)"
      ],
      "text/plain": [
       "<IPython.core.display.HTML object>"
      ]
     },
     "metadata": {},
     "output_type": "display_data"
    },
    {
     "data": {
      "text/html": [
       "Find logs at: <code>.\\wandb\\run-20240402_002837-i35d0ktp\\logs</code>"
      ],
      "text/plain": [
       "<IPython.core.display.HTML object>"
      ]
     },
     "metadata": {},
     "output_type": "display_data"
    },
    {
     "name": "stderr",
     "output_type": "stream",
     "text": [
      "\u001b[34m\u001b[1mwandb\u001b[0m: Agent Starting Run: irb4c94c with config:\n",
      "\u001b[34m\u001b[1mwandb\u001b[0m: \thidden_dim: 256\n",
      "\u001b[34m\u001b[1mwandb\u001b[0m: \tlearning_rate: 0.00900683959142062\n",
      "Failed to detect the name of this notebook, you can set it manually with the WANDB_NOTEBOOK_NAME environment variable to enable code saving.\n",
      "\u001b[34m\u001b[1mwandb\u001b[0m: \u001b[33mWARNING\u001b[0m Ignored wandb.init() arg project when running a sweep.\n"
     ]
    },
    {
     "data": {
      "application/vnd.jupyter.widget-view+json": {
       "model_id": "f13212b6dab0470486181e14b20ee403",
       "version_major": 2,
       "version_minor": 0
      },
      "text/plain": [
       "VBox(children=(Label(value='Waiting for wandb.init()...\\r'), FloatProgress(value=0.011277777777286247, max=1.0…"
      ]
     },
     "metadata": {},
     "output_type": "display_data"
    },
    {
     "data": {
      "text/html": [
       "Tracking run with wandb version 0.16.5"
      ],
      "text/plain": [
       "<IPython.core.display.HTML object>"
      ]
     },
     "metadata": {},
     "output_type": "display_data"
    },
    {
     "data": {
      "text/html": [
       "Run data is saved locally in <code>c:\\Users\\Shobhith Vadlamudi\\AppData\\Local\\Programs\\Microsoft VS Code\\wandb\\run-20240402_003224-irb4c94c</code>"
      ],
      "text/plain": [
       "<IPython.core.display.HTML object>"
      ]
     },
     "metadata": {},
     "output_type": "display_data"
    },
    {
     "data": {
      "text/html": [
       "Syncing run <strong><a href='https://wandb.ai/rl_shobhith/uncategorized/runs/irb4c94c/workspace' target=\"_blank\">glamorous-sweep-6</a></strong> to <a href='https://wandb.ai/rl_shobhith/uncategorized' target=\"_blank\">Weights & Biases</a> (<a href='https://wandb.me/run' target=\"_blank\">docs</a>)<br/>Sweep page: <a href='https://wandb.ai/rl_shobhith/uncategorized/sweeps/yivd2k4v' target=\"_blank\">https://wandb.ai/rl_shobhith/uncategorized/sweeps/yivd2k4v</a>"
      ],
      "text/plain": [
       "<IPython.core.display.HTML object>"
      ]
     },
     "metadata": {},
     "output_type": "display_data"
    },
    {
     "data": {
      "text/html": [
       " View project at <a href='https://wandb.ai/rl_shobhith/uncategorized' target=\"_blank\">https://wandb.ai/rl_shobhith/uncategorized</a>"
      ],
      "text/plain": [
       "<IPython.core.display.HTML object>"
      ]
     },
     "metadata": {},
     "output_type": "display_data"
    },
    {
     "data": {
      "text/html": [
       " View sweep at <a href='https://wandb.ai/rl_shobhith/uncategorized/sweeps/yivd2k4v' target=\"_blank\">https://wandb.ai/rl_shobhith/uncategorized/sweeps/yivd2k4v</a>"
      ],
      "text/plain": [
       "<IPython.core.display.HTML object>"
      ]
     },
     "metadata": {},
     "output_type": "display_data"
    },
    {
     "data": {
      "text/html": [
       " View run at <a href='https://wandb.ai/rl_shobhith/uncategorized/runs/irb4c94c/workspace' target=\"_blank\">https://wandb.ai/rl_shobhith/uncategorized/runs/irb4c94c/workspace</a>"
      ],
      "text/plain": [
       "<IPython.core.display.HTML object>"
      ]
     },
     "metadata": {},
     "output_type": "display_data"
    },
    {
     "name": "stderr",
     "output_type": "stream",
     "text": [
      "Iteration 0: 100%|██████████| 50/50 [00:14<00:00,  3.56it/s, episode_return=50, return=-217.500]\n",
      "Iteration 1: 100%|██████████| 50/50 [00:10<00:00,  4.66it/s, episode_return=100, return=-171.200]\n",
      "Iteration 2: 100%|██████████| 50/50 [00:08<00:00,  5.60it/s, episode_return=150, return=-154.900]\n",
      "Iteration 3: 100%|██████████| 50/50 [00:09<00:00,  5.14it/s, episode_return=200, return=-201.000]\n",
      "Iteration 4: 100%|██████████| 50/50 [00:11<00:00,  4.45it/s, episode_return=250, return=-174.400]\n",
      "Iteration 5: 100%|██████████| 50/50 [00:09<00:00,  5.20it/s, episode_return=300, return=-185.800]\n",
      "Iteration 6: 100%|██████████| 50/50 [00:09<00:00,  5.13it/s, episode_return=350, return=-159.600]\n",
      "Iteration 7: 100%|██████████| 50/50 [00:10<00:00,  4.99it/s, episode_return=400, return=-182.100]\n",
      "Iteration 8: 100%|██████████| 50/50 [00:09<00:00,  5.15it/s, episode_return=450, return=-166.400]\n",
      "Iteration 9: 100%|██████████| 50/50 [00:09<00:00,  5.14it/s, episode_return=500, return=-167.800]\n"
     ]
    },
    {
     "data": {
      "application/vnd.jupyter.widget-view+json": {
       "model_id": "2b57d36cf84740a582dfc4a5a92495ad",
       "version_major": 2,
       "version_minor": 0
      },
      "text/plain": [
       "VBox(children=(Label(value='0.001 MB of 0.001 MB uploaded\\r'), FloatProgress(value=1.0, max=1.0)))"
      ]
     },
     "metadata": {},
     "output_type": "display_data"
    },
    {
     "data": {
      "text/html": [
       "<style>\n",
       "    table.wandb td:nth-child(1) { padding: 0 10px; text-align: left ; width: auto;} td:nth-child(2) {text-align: left ; width: 100%}\n",
       "    .wandb-row { display: flex; flex-direction: row; flex-wrap: wrap; justify-content: flex-start; width: 100% }\n",
       "    .wandb-col { display: flex; flex-direction: column; flex-basis: 100%; flex: 1; padding: 10px; }\n",
       "    </style>\n",
       "<div class=\"wandb-row\"><div class=\"wandb-col\"><h3>Run history:</h3><br/><table class=\"wandb\"><tr><td>regret</td><td>▁</td></tr></table><br/></div><div class=\"wandb-col\"><h3>Run summary:</h3><br/><table class=\"wandb\"><tr><td>regret</td><td>101931.32348</td></tr></table><br/></div></div>"
      ],
      "text/plain": [
       "<IPython.core.display.HTML object>"
      ]
     },
     "metadata": {},
     "output_type": "display_data"
    },
    {
     "data": {
      "text/html": [
       " View run <strong style=\"color:#cdcd00\">glamorous-sweep-6</strong> at: <a href='https://wandb.ai/rl_shobhith/uncategorized/runs/irb4c94c/workspace' target=\"_blank\">https://wandb.ai/rl_shobhith/uncategorized/runs/irb4c94c/workspace</a><br/>Synced 5 W&B file(s), 0 media file(s), 0 artifact file(s) and 0 other file(s)"
      ],
      "text/plain": [
       "<IPython.core.display.HTML object>"
      ]
     },
     "metadata": {},
     "output_type": "display_data"
    },
    {
     "data": {
      "text/html": [
       "Find logs at: <code>.\\wandb\\run-20240402_003224-irb4c94c\\logs</code>"
      ],
      "text/plain": [
       "<IPython.core.display.HTML object>"
      ]
     },
     "metadata": {},
     "output_type": "display_data"
    },
    {
     "name": "stderr",
     "output_type": "stream",
     "text": [
      "\u001b[34m\u001b[1mwandb\u001b[0m: Agent Starting Run: vt4724ru with config:\n",
      "\u001b[34m\u001b[1mwandb\u001b[0m: \thidden_dim: 256\n",
      "\u001b[34m\u001b[1mwandb\u001b[0m: \tlearning_rate: 0.005593329198501046\n",
      "Failed to detect the name of this notebook, you can set it manually with the WANDB_NOTEBOOK_NAME environment variable to enable code saving.\n",
      "\u001b[34m\u001b[1mwandb\u001b[0m: \u001b[33mWARNING\u001b[0m Ignored wandb.init() arg project when running a sweep.\n"
     ]
    },
    {
     "data": {
      "text/html": [
       "Tracking run with wandb version 0.16.5"
      ],
      "text/plain": [
       "<IPython.core.display.HTML object>"
      ]
     },
     "metadata": {},
     "output_type": "display_data"
    },
    {
     "data": {
      "text/html": [
       "Run data is saved locally in <code>c:\\Users\\Shobhith Vadlamudi\\AppData\\Local\\Programs\\Microsoft VS Code\\wandb\\run-20240402_003421-vt4724ru</code>"
      ],
      "text/plain": [
       "<IPython.core.display.HTML object>"
      ]
     },
     "metadata": {},
     "output_type": "display_data"
    },
    {
     "data": {
      "text/html": [
       "Syncing run <strong><a href='https://wandb.ai/rl_shobhith/uncategorized/runs/vt4724ru/workspace' target=\"_blank\">vital-sweep-7</a></strong> to <a href='https://wandb.ai/rl_shobhith/uncategorized' target=\"_blank\">Weights & Biases</a> (<a href='https://wandb.me/run' target=\"_blank\">docs</a>)<br/>Sweep page: <a href='https://wandb.ai/rl_shobhith/uncategorized/sweeps/yivd2k4v' target=\"_blank\">https://wandb.ai/rl_shobhith/uncategorized/sweeps/yivd2k4v</a>"
      ],
      "text/plain": [
       "<IPython.core.display.HTML object>"
      ]
     },
     "metadata": {},
     "output_type": "display_data"
    },
    {
     "data": {
      "text/html": [
       " View project at <a href='https://wandb.ai/rl_shobhith/uncategorized' target=\"_blank\">https://wandb.ai/rl_shobhith/uncategorized</a>"
      ],
      "text/plain": [
       "<IPython.core.display.HTML object>"
      ]
     },
     "metadata": {},
     "output_type": "display_data"
    },
    {
     "data": {
      "text/html": [
       " View sweep at <a href='https://wandb.ai/rl_shobhith/uncategorized/sweeps/yivd2k4v' target=\"_blank\">https://wandb.ai/rl_shobhith/uncategorized/sweeps/yivd2k4v</a>"
      ],
      "text/plain": [
       "<IPython.core.display.HTML object>"
      ]
     },
     "metadata": {},
     "output_type": "display_data"
    },
    {
     "data": {
      "text/html": [
       " View run at <a href='https://wandb.ai/rl_shobhith/uncategorized/runs/vt4724ru/workspace' target=\"_blank\">https://wandb.ai/rl_shobhith/uncategorized/runs/vt4724ru/workspace</a>"
      ],
      "text/plain": [
       "<IPython.core.display.HTML object>"
      ]
     },
     "metadata": {},
     "output_type": "display_data"
    },
    {
     "name": "stderr",
     "output_type": "stream",
     "text": [
      "Iteration 0: 100%|██████████| 50/50 [00:24<00:00,  2.02it/s, episode_return=50, return=-500.000]\n",
      "Iteration 1: 100%|██████████| 50/50 [00:26<00:00,  1.90it/s, episode_return=100, return=-500.000]\n",
      "Iteration 2: 100%|██████████| 50/50 [00:25<00:00,  1.99it/s, episode_return=150, return=-500.000]\n",
      "Iteration 3: 100%|██████████| 50/50 [00:25<00:00,  1.96it/s, episode_return=200, return=-500.000]\n",
      "Iteration 4: 100%|██████████| 50/50 [00:24<00:00,  2.06it/s, episode_return=250, return=-500.000]\n",
      "Iteration 5: 100%|██████████| 50/50 [00:25<00:00,  1.97it/s, episode_return=300, return=-500.000]\n",
      "Iteration 6: 100%|██████████| 50/50 [00:24<00:00,  2.05it/s, episode_return=350, return=-500.000]\n",
      "Iteration 7: 100%|██████████| 50/50 [00:24<00:00,  2.02it/s, episode_return=400, return=-500.000]\n",
      "Iteration 8: 100%|██████████| 50/50 [00:24<00:00,  2.01it/s, episode_return=450, return=-500.000]\n",
      "Iteration 9: 100%|██████████| 50/50 [00:24<00:00,  2.00it/s, episode_return=500, return=-500.000]\n"
     ]
    },
    {
     "data": {
      "application/vnd.jupyter.widget-view+json": {
       "model_id": "f491a1cf3252469883edc0c1a18cd323",
       "version_major": 2,
       "version_minor": 0
      },
      "text/plain": [
       "VBox(children=(Label(value='0.001 MB of 0.001 MB uploaded\\r'), FloatProgress(value=1.0, max=1.0)))"
      ]
     },
     "metadata": {},
     "output_type": "display_data"
    },
    {
     "data": {
      "text/html": [
       "<style>\n",
       "    table.wandb td:nth-child(1) { padding: 0 10px; text-align: left ; width: auto;} td:nth-child(2) {text-align: left ; width: 100%}\n",
       "    .wandb-row { display: flex; flex-direction: row; flex-wrap: wrap; justify-content: flex-start; width: 100% }\n",
       "    .wandb-col { display: flex; flex-direction: column; flex-basis: 100%; flex: 1; padding: 10px; }\n",
       "    </style>\n",
       "<div class=\"wandb-row\"><div class=\"wandb-col\"><h3>Run history:</h3><br/><table class=\"wandb\"><tr><td>regret</td><td>▁</td></tr></table><br/></div><div class=\"wandb-col\"><h3>Run summary:</h3><br/><table class=\"wandb\"><tr><td>regret</td><td>240845.3702</td></tr></table><br/></div></div>"
      ],
      "text/plain": [
       "<IPython.core.display.HTML object>"
      ]
     },
     "metadata": {},
     "output_type": "display_data"
    },
    {
     "data": {
      "text/html": [
       " View run <strong style=\"color:#cdcd00\">vital-sweep-7</strong> at: <a href='https://wandb.ai/rl_shobhith/uncategorized/runs/vt4724ru/workspace' target=\"_blank\">https://wandb.ai/rl_shobhith/uncategorized/runs/vt4724ru/workspace</a><br/>Synced 5 W&B file(s), 0 media file(s), 0 artifact file(s) and 0 other file(s)"
      ],
      "text/plain": [
       "<IPython.core.display.HTML object>"
      ]
     },
     "metadata": {},
     "output_type": "display_data"
    },
    {
     "data": {
      "text/html": [
       "Find logs at: <code>.\\wandb\\run-20240402_003421-vt4724ru\\logs</code>"
      ],
      "text/plain": [
       "<IPython.core.display.HTML object>"
      ]
     },
     "metadata": {},
     "output_type": "display_data"
    },
    {
     "name": "stderr",
     "output_type": "stream",
     "text": [
      "\u001b[34m\u001b[1mwandb\u001b[0m: Agent Starting Run: rj7666g7 with config:\n",
      "\u001b[34m\u001b[1mwandb\u001b[0m: \thidden_dim: 64\n",
      "\u001b[34m\u001b[1mwandb\u001b[0m: \tlearning_rate: 0.005279820512891518\n",
      "Failed to detect the name of this notebook, you can set it manually with the WANDB_NOTEBOOK_NAME environment variable to enable code saving.\n",
      "\u001b[34m\u001b[1mwandb\u001b[0m: \u001b[33mWARNING\u001b[0m Ignored wandb.init() arg project when running a sweep.\n"
     ]
    },
    {
     "data": {
      "text/html": [
       "Tracking run with wandb version 0.16.5"
      ],
      "text/plain": [
       "<IPython.core.display.HTML object>"
      ]
     },
     "metadata": {},
     "output_type": "display_data"
    },
    {
     "data": {
      "text/html": [
       "Run data is saved locally in <code>c:\\Users\\Shobhith Vadlamudi\\AppData\\Local\\Programs\\Microsoft VS Code\\wandb\\run-20240402_003846-rj7666g7</code>"
      ],
      "text/plain": [
       "<IPython.core.display.HTML object>"
      ]
     },
     "metadata": {},
     "output_type": "display_data"
    },
    {
     "data": {
      "text/html": [
       "Syncing run <strong><a href='https://wandb.ai/rl_shobhith/uncategorized/runs/rj7666g7/workspace' target=\"_blank\">devoted-sweep-8</a></strong> to <a href='https://wandb.ai/rl_shobhith/uncategorized' target=\"_blank\">Weights & Biases</a> (<a href='https://wandb.me/run' target=\"_blank\">docs</a>)<br/>Sweep page: <a href='https://wandb.ai/rl_shobhith/uncategorized/sweeps/yivd2k4v' target=\"_blank\">https://wandb.ai/rl_shobhith/uncategorized/sweeps/yivd2k4v</a>"
      ],
      "text/plain": [
       "<IPython.core.display.HTML object>"
      ]
     },
     "metadata": {},
     "output_type": "display_data"
    },
    {
     "data": {
      "text/html": [
       " View project at <a href='https://wandb.ai/rl_shobhith/uncategorized' target=\"_blank\">https://wandb.ai/rl_shobhith/uncategorized</a>"
      ],
      "text/plain": [
       "<IPython.core.display.HTML object>"
      ]
     },
     "metadata": {},
     "output_type": "display_data"
    },
    {
     "data": {
      "text/html": [
       " View sweep at <a href='https://wandb.ai/rl_shobhith/uncategorized/sweeps/yivd2k4v' target=\"_blank\">https://wandb.ai/rl_shobhith/uncategorized/sweeps/yivd2k4v</a>"
      ],
      "text/plain": [
       "<IPython.core.display.HTML object>"
      ]
     },
     "metadata": {},
     "output_type": "display_data"
    },
    {
     "data": {
      "text/html": [
       " View run at <a href='https://wandb.ai/rl_shobhith/uncategorized/runs/rj7666g7/workspace' target=\"_blank\">https://wandb.ai/rl_shobhith/uncategorized/runs/rj7666g7/workspace</a>"
      ],
      "text/plain": [
       "<IPython.core.display.HTML object>"
      ]
     },
     "metadata": {},
     "output_type": "display_data"
    },
    {
     "name": "stderr",
     "output_type": "stream",
     "text": [
      "Iteration 0: 100%|██████████| 50/50 [00:13<00:00,  3.82it/s, episode_return=50, return=-221.400]\n",
      "Iteration 1: 100%|██████████| 50/50 [00:06<00:00,  8.33it/s, episode_return=100, return=-177.000]\n",
      "Iteration 2: 100%|██████████| 50/50 [00:05<00:00,  8.40it/s, episode_return=150, return=-141.000]\n",
      "Iteration 3: 100%|██████████| 50/50 [00:04<00:00, 10.81it/s, episode_return=200, return=-106.100]\n",
      "Iteration 4: 100%|██████████| 50/50 [00:04<00:00, 11.65it/s, episode_return=250, return=-105.700]\n",
      "Iteration 5: 100%|██████████| 50/50 [00:03<00:00, 12.65it/s, episode_return=300, return=-97.400] \n",
      "Iteration 6: 100%|██████████| 50/50 [00:04<00:00, 11.71it/s, episode_return=350, return=-88.400] \n",
      "Iteration 7: 100%|██████████| 50/50 [00:04<00:00, 11.20it/s, episode_return=400, return=-105.000]\n",
      "Iteration 8: 100%|██████████| 50/50 [00:03<00:00, 13.09it/s, episode_return=450, return=-113.100]\n",
      "Iteration 9: 100%|██████████| 50/50 [00:03<00:00, 13.01it/s, episode_return=500, return=-86.100] \n"
     ]
    },
    {
     "data": {
      "application/vnd.jupyter.widget-view+json": {
       "model_id": "95cfa54d4932406e97ffcb3ca6a4cae2",
       "version_major": 2,
       "version_minor": 0
      },
      "text/plain": [
       "VBox(children=(Label(value='0.007 MB of 0.007 MB uploaded\\r'), FloatProgress(value=1.0, max=1.0)))"
      ]
     },
     "metadata": {},
     "output_type": "display_data"
    },
    {
     "data": {
      "text/html": [
       "<style>\n",
       "    table.wandb td:nth-child(1) { padding: 0 10px; text-align: left ; width: auto;} td:nth-child(2) {text-align: left ; width: 100%}\n",
       "    .wandb-row { display: flex; flex-direction: row; flex-wrap: wrap; justify-content: flex-start; width: 100% }\n",
       "    .wandb-col { display: flex; flex-direction: column; flex-basis: 100%; flex: 1; padding: 10px; }\n",
       "    </style>\n",
       "<div class=\"wandb-row\"><div class=\"wandb-col\"><h3>Run history:</h3><br/><table class=\"wandb\"><tr><td>regret</td><td>▁</td></tr></table><br/></div><div class=\"wandb-col\"><h3>Run summary:</h3><br/><table class=\"wandb\"><tr><td>regret</td><td>84519.69847</td></tr></table><br/></div></div>"
      ],
      "text/plain": [
       "<IPython.core.display.HTML object>"
      ]
     },
     "metadata": {},
     "output_type": "display_data"
    },
    {
     "data": {
      "text/html": [
       " View run <strong style=\"color:#cdcd00\">devoted-sweep-8</strong> at: <a href='https://wandb.ai/rl_shobhith/uncategorized/runs/rj7666g7/workspace' target=\"_blank\">https://wandb.ai/rl_shobhith/uncategorized/runs/rj7666g7/workspace</a><br/>Synced 5 W&B file(s), 0 media file(s), 0 artifact file(s) and 0 other file(s)"
      ],
      "text/plain": [
       "<IPython.core.display.HTML object>"
      ]
     },
     "metadata": {},
     "output_type": "display_data"
    },
    {
     "data": {
      "text/html": [
       "Find logs at: <code>.\\wandb\\run-20240402_003846-rj7666g7\\logs</code>"
      ],
      "text/plain": [
       "<IPython.core.display.HTML object>"
      ]
     },
     "metadata": {},
     "output_type": "display_data"
    },
    {
     "name": "stderr",
     "output_type": "stream",
     "text": [
      "\u001b[34m\u001b[1mwandb\u001b[0m: Agent Starting Run: ji9ald4o with config:\n",
      "\u001b[34m\u001b[1mwandb\u001b[0m: \thidden_dim: 128\n",
      "\u001b[34m\u001b[1mwandb\u001b[0m: \tlearning_rate: 0.0026849068411551697\n",
      "Failed to detect the name of this notebook, you can set it manually with the WANDB_NOTEBOOK_NAME environment variable to enable code saving.\n",
      "\u001b[34m\u001b[1mwandb\u001b[0m: \u001b[33mWARNING\u001b[0m Ignored wandb.init() arg project when running a sweep.\n"
     ]
    },
    {
     "data": {
      "text/html": [
       "Tracking run with wandb version 0.16.5"
      ],
      "text/plain": [
       "<IPython.core.display.HTML object>"
      ]
     },
     "metadata": {},
     "output_type": "display_data"
    },
    {
     "data": {
      "text/html": [
       "Run data is saved locally in <code>c:\\Users\\Shobhith Vadlamudi\\AppData\\Local\\Programs\\Microsoft VS Code\\wandb\\run-20240402_003949-ji9ald4o</code>"
      ],
      "text/plain": [
       "<IPython.core.display.HTML object>"
      ]
     },
     "metadata": {},
     "output_type": "display_data"
    },
    {
     "data": {
      "text/html": [
       "Syncing run <strong><a href='https://wandb.ai/rl_shobhith/uncategorized/runs/ji9ald4o/workspace' target=\"_blank\">gallant-sweep-9</a></strong> to <a href='https://wandb.ai/rl_shobhith/uncategorized' target=\"_blank\">Weights & Biases</a> (<a href='https://wandb.me/run' target=\"_blank\">docs</a>)<br/>Sweep page: <a href='https://wandb.ai/rl_shobhith/uncategorized/sweeps/yivd2k4v' target=\"_blank\">https://wandb.ai/rl_shobhith/uncategorized/sweeps/yivd2k4v</a>"
      ],
      "text/plain": [
       "<IPython.core.display.HTML object>"
      ]
     },
     "metadata": {},
     "output_type": "display_data"
    },
    {
     "data": {
      "text/html": [
       " View project at <a href='https://wandb.ai/rl_shobhith/uncategorized' target=\"_blank\">https://wandb.ai/rl_shobhith/uncategorized</a>"
      ],
      "text/plain": [
       "<IPython.core.display.HTML object>"
      ]
     },
     "metadata": {},
     "output_type": "display_data"
    },
    {
     "data": {
      "text/html": [
       " View sweep at <a href='https://wandb.ai/rl_shobhith/uncategorized/sweeps/yivd2k4v' target=\"_blank\">https://wandb.ai/rl_shobhith/uncategorized/sweeps/yivd2k4v</a>"
      ],
      "text/plain": [
       "<IPython.core.display.HTML object>"
      ]
     },
     "metadata": {},
     "output_type": "display_data"
    },
    {
     "data": {
      "text/html": [
       " View run at <a href='https://wandb.ai/rl_shobhith/uncategorized/runs/ji9ald4o/workspace' target=\"_blank\">https://wandb.ai/rl_shobhith/uncategorized/runs/ji9ald4o/workspace</a>"
      ],
      "text/plain": [
       "<IPython.core.display.HTML object>"
      ]
     },
     "metadata": {},
     "output_type": "display_data"
    },
    {
     "name": "stderr",
     "output_type": "stream",
     "text": [
      "Iteration 0: 100%|██████████| 50/50 [00:13<00:00,  3.64it/s, episode_return=50, return=-159.200]\n",
      "Iteration 1: 100%|██████████| 50/50 [00:08<00:00,  5.57it/s, episode_return=100, return=-196.100]\n",
      "Iteration 2: 100%|██████████| 50/50 [00:08<00:00,  5.64it/s, episode_return=150, return=-213.300]\n",
      "Iteration 3: 100%|██████████| 50/50 [00:08<00:00,  6.16it/s, episode_return=200, return=-184.400]\n",
      "Iteration 4: 100%|██████████| 50/50 [00:08<00:00,  5.94it/s, episode_return=250, return=-220.400]\n",
      "Iteration 5: 100%|██████████| 50/50 [00:13<00:00,  3.77it/s, episode_return=300, return=-310.400]\n",
      "Iteration 6: 100%|██████████| 50/50 [00:20<00:00,  2.47it/s, episode_return=350, return=-500.000]\n",
      "Iteration 7: 100%|██████████| 50/50 [00:21<00:00,  2.31it/s, episode_return=400, return=-500.000]\n",
      "Iteration 8: 100%|██████████| 50/50 [00:22<00:00,  2.24it/s, episode_return=450, return=-500.000]\n",
      "Iteration 9: 100%|██████████| 50/50 [00:21<00:00,  2.30it/s, episode_return=500, return=-500.000]\n"
     ]
    },
    {
     "data": {
      "application/vnd.jupyter.widget-view+json": {
       "model_id": "e4f0ea0768e249ad8d1e925721006d76",
       "version_major": 2,
       "version_minor": 0
      },
      "text/plain": [
       "VBox(children=(Label(value='0.001 MB of 0.001 MB uploaded\\r'), FloatProgress(value=1.0, max=1.0)))"
      ]
     },
     "metadata": {},
     "output_type": "display_data"
    },
    {
     "data": {
      "text/html": [
       "<style>\n",
       "    table.wandb td:nth-child(1) { padding: 0 10px; text-align: left ; width: auto;} td:nth-child(2) {text-align: left ; width: 100%}\n",
       "    .wandb-row { display: flex; flex-direction: row; flex-wrap: wrap; justify-content: flex-start; width: 100% }\n",
       "    .wandb-col { display: flex; flex-direction: column; flex-basis: 100%; flex: 1; padding: 10px; }\n",
       "    </style>\n",
       "<div class=\"wandb-row\"><div class=\"wandb-col\"><h3>Run history:</h3><br/><table class=\"wandb\"><tr><td>regret</td><td>▁</td></tr></table><br/></div><div class=\"wandb-col\"><h3>Run summary:</h3><br/><table class=\"wandb\"><tr><td>regret</td><td>157785.51669</td></tr></table><br/></div></div>"
      ],
      "text/plain": [
       "<IPython.core.display.HTML object>"
      ]
     },
     "metadata": {},
     "output_type": "display_data"
    },
    {
     "data": {
      "text/html": [
       " View run <strong style=\"color:#cdcd00\">gallant-sweep-9</strong> at: <a href='https://wandb.ai/rl_shobhith/uncategorized/runs/ji9ald4o/workspace' target=\"_blank\">https://wandb.ai/rl_shobhith/uncategorized/runs/ji9ald4o/workspace</a><br/>Synced 5 W&B file(s), 0 media file(s), 0 artifact file(s) and 0 other file(s)"
      ],
      "text/plain": [
       "<IPython.core.display.HTML object>"
      ]
     },
     "metadata": {},
     "output_type": "display_data"
    },
    {
     "data": {
      "text/html": [
       "Find logs at: <code>.\\wandb\\run-20240402_003949-ji9ald4o\\logs</code>"
      ],
      "text/plain": [
       "<IPython.core.display.HTML object>"
      ]
     },
     "metadata": {},
     "output_type": "display_data"
    },
    {
     "name": "stderr",
     "output_type": "stream",
     "text": [
      "\u001b[34m\u001b[1mwandb\u001b[0m: Agent Starting Run: cvve4286 with config:\n",
      "\u001b[34m\u001b[1mwandb\u001b[0m: \thidden_dim: 256\n",
      "\u001b[34m\u001b[1mwandb\u001b[0m: \tlearning_rate: 0.006778444897275646\n",
      "Failed to detect the name of this notebook, you can set it manually with the WANDB_NOTEBOOK_NAME environment variable to enable code saving.\n",
      "\u001b[34m\u001b[1mwandb\u001b[0m: \u001b[33mWARNING\u001b[0m Ignored wandb.init() arg project when running a sweep.\n"
     ]
    },
    {
     "data": {
      "text/html": [
       "Tracking run with wandb version 0.16.5"
      ],
      "text/plain": [
       "<IPython.core.display.HTML object>"
      ]
     },
     "metadata": {},
     "output_type": "display_data"
    },
    {
     "data": {
      "text/html": [
       "Run data is saved locally in <code>c:\\Users\\Shobhith Vadlamudi\\AppData\\Local\\Programs\\Microsoft VS Code\\wandb\\run-20240402_004228-cvve4286</code>"
      ],
      "text/plain": [
       "<IPython.core.display.HTML object>"
      ]
     },
     "metadata": {},
     "output_type": "display_data"
    },
    {
     "data": {
      "text/html": [
       "Syncing run <strong><a href='https://wandb.ai/rl_shobhith/uncategorized/runs/cvve4286/workspace' target=\"_blank\">deep-sweep-10</a></strong> to <a href='https://wandb.ai/rl_shobhith/uncategorized' target=\"_blank\">Weights & Biases</a> (<a href='https://wandb.me/run' target=\"_blank\">docs</a>)<br/>Sweep page: <a href='https://wandb.ai/rl_shobhith/uncategorized/sweeps/yivd2k4v' target=\"_blank\">https://wandb.ai/rl_shobhith/uncategorized/sweeps/yivd2k4v</a>"
      ],
      "text/plain": [
       "<IPython.core.display.HTML object>"
      ]
     },
     "metadata": {},
     "output_type": "display_data"
    },
    {
     "data": {
      "text/html": [
       " View project at <a href='https://wandb.ai/rl_shobhith/uncategorized' target=\"_blank\">https://wandb.ai/rl_shobhith/uncategorized</a>"
      ],
      "text/plain": [
       "<IPython.core.display.HTML object>"
      ]
     },
     "metadata": {},
     "output_type": "display_data"
    },
    {
     "data": {
      "text/html": [
       " View sweep at <a href='https://wandb.ai/rl_shobhith/uncategorized/sweeps/yivd2k4v' target=\"_blank\">https://wandb.ai/rl_shobhith/uncategorized/sweeps/yivd2k4v</a>"
      ],
      "text/plain": [
       "<IPython.core.display.HTML object>"
      ]
     },
     "metadata": {},
     "output_type": "display_data"
    },
    {
     "data": {
      "text/html": [
       " View run at <a href='https://wandb.ai/rl_shobhith/uncategorized/runs/cvve4286/workspace' target=\"_blank\">https://wandb.ai/rl_shobhith/uncategorized/runs/cvve4286/workspace</a>"
      ],
      "text/plain": [
       "<IPython.core.display.HTML object>"
      ]
     },
     "metadata": {},
     "output_type": "display_data"
    },
    {
     "name": "stderr",
     "output_type": "stream",
     "text": [
      "Iteration 0: 100%|██████████| 50/50 [00:09<00:00,  5.00it/s, episode_return=50, return=-109.500]\n",
      "Iteration 1: 100%|██████████| 50/50 [00:09<00:00,  5.29it/s, episode_return=100, return=-108.600]\n",
      "Iteration 2: 100%|██████████| 50/50 [00:06<00:00,  8.31it/s, episode_return=150, return=-95.800] \n",
      "Iteration 3: 100%|██████████| 50/50 [00:11<00:00,  4.48it/s, episode_return=200, return=-423.700]\n",
      "Iteration 4: 100%|██████████| 50/50 [00:28<00:00,  1.76it/s, episode_return=250, return=-500.000]\n",
      "Iteration 5: 100%|██████████| 50/50 [00:33<00:00,  1.51it/s, episode_return=300, return=-500.000]\n",
      "Iteration 6: 100%|██████████| 50/50 [00:31<00:00,  1.57it/s, episode_return=350, return=-500.000]\n",
      "Iteration 7: 100%|██████████| 50/50 [00:31<00:00,  1.59it/s, episode_return=400, return=-500.000]\n",
      "Iteration 8: 100%|██████████| 50/50 [00:32<00:00,  1.56it/s, episode_return=450, return=-500.000]\n",
      "Iteration 9: 100%|██████████| 50/50 [00:26<00:00,  1.86it/s, episode_return=500, return=-500.000]\n"
     ]
    },
    {
     "data": {
      "application/vnd.jupyter.widget-view+json": {
       "model_id": "84e60ed6e4634aeea746e855909e4b20",
       "version_major": 2,
       "version_minor": 0
      },
      "text/plain": [
       "VBox(children=(Label(value='0.001 MB of 0.001 MB uploaded\\r'), FloatProgress(value=1.0, max=1.0)))"
      ]
     },
     "metadata": {},
     "output_type": "display_data"
    },
    {
     "data": {
      "text/html": [
       "<style>\n",
       "    table.wandb td:nth-child(1) { padding: 0 10px; text-align: left ; width: auto;} td:nth-child(2) {text-align: left ; width: 100%}\n",
       "    .wandb-row { display: flex; flex-direction: row; flex-wrap: wrap; justify-content: flex-start; width: 100% }\n",
       "    .wandb-col { display: flex; flex-direction: column; flex-basis: 100%; flex: 1; padding: 10px; }\n",
       "    </style>\n",
       "<div class=\"wandb-row\"><div class=\"wandb-col\"><h3>Run history:</h3><br/><table class=\"wandb\"><tr><td>regret</td><td>▁</td></tr></table><br/></div><div class=\"wandb-col\"><h3>Run summary:</h3><br/><table class=\"wandb\"><tr><td>regret</td><td>160930.36785</td></tr></table><br/></div></div>"
      ],
      "text/plain": [
       "<IPython.core.display.HTML object>"
      ]
     },
     "metadata": {},
     "output_type": "display_data"
    },
    {
     "data": {
      "text/html": [
       " View run <strong style=\"color:#cdcd00\">deep-sweep-10</strong> at: <a href='https://wandb.ai/rl_shobhith/uncategorized/runs/cvve4286/workspace' target=\"_blank\">https://wandb.ai/rl_shobhith/uncategorized/runs/cvve4286/workspace</a><br/>Synced 5 W&B file(s), 0 media file(s), 0 artifact file(s) and 0 other file(s)"
      ],
      "text/plain": [
       "<IPython.core.display.HTML object>"
      ]
     },
     "metadata": {},
     "output_type": "display_data"
    },
    {
     "data": {
      "text/html": [
       "Find logs at: <code>.\\wandb\\run-20240402_004228-cvve4286\\logs</code>"
      ],
      "text/plain": [
       "<IPython.core.display.HTML object>"
      ]
     },
     "metadata": {},
     "output_type": "display_data"
    },
    {
     "name": "stderr",
     "output_type": "stream",
     "text": [
      "\u001b[34m\u001b[1mwandb\u001b[0m: Agent Starting Run: 521q2i00 with config:\n",
      "\u001b[34m\u001b[1mwandb\u001b[0m: \thidden_dim: 64\n",
      "\u001b[34m\u001b[1mwandb\u001b[0m: \tlearning_rate: 0.006795384419294438\n",
      "Failed to detect the name of this notebook, you can set it manually with the WANDB_NOTEBOOK_NAME environment variable to enable code saving.\n",
      "\u001b[34m\u001b[1mwandb\u001b[0m: \u001b[33mWARNING\u001b[0m Ignored wandb.init() arg project when running a sweep.\n"
     ]
    },
    {
     "data": {
      "text/html": [
       "Tracking run with wandb version 0.16.5"
      ],
      "text/plain": [
       "<IPython.core.display.HTML object>"
      ]
     },
     "metadata": {},
     "output_type": "display_data"
    },
    {
     "data": {
      "text/html": [
       "Run data is saved locally in <code>c:\\Users\\Shobhith Vadlamudi\\AppData\\Local\\Programs\\Microsoft VS Code\\wandb\\run-20240402_004620-521q2i00</code>"
      ],
      "text/plain": [
       "<IPython.core.display.HTML object>"
      ]
     },
     "metadata": {},
     "output_type": "display_data"
    },
    {
     "data": {
      "text/html": [
       "Syncing run <strong><a href='https://wandb.ai/rl_shobhith/uncategorized/runs/521q2i00/workspace' target=\"_blank\">rose-sweep-11</a></strong> to <a href='https://wandb.ai/rl_shobhith/uncategorized' target=\"_blank\">Weights & Biases</a> (<a href='https://wandb.me/run' target=\"_blank\">docs</a>)<br/>Sweep page: <a href='https://wandb.ai/rl_shobhith/uncategorized/sweeps/yivd2k4v' target=\"_blank\">https://wandb.ai/rl_shobhith/uncategorized/sweeps/yivd2k4v</a>"
      ],
      "text/plain": [
       "<IPython.core.display.HTML object>"
      ]
     },
     "metadata": {},
     "output_type": "display_data"
    },
    {
     "data": {
      "text/html": [
       " View project at <a href='https://wandb.ai/rl_shobhith/uncategorized' target=\"_blank\">https://wandb.ai/rl_shobhith/uncategorized</a>"
      ],
      "text/plain": [
       "<IPython.core.display.HTML object>"
      ]
     },
     "metadata": {},
     "output_type": "display_data"
    },
    {
     "data": {
      "text/html": [
       " View sweep at <a href='https://wandb.ai/rl_shobhith/uncategorized/sweeps/yivd2k4v' target=\"_blank\">https://wandb.ai/rl_shobhith/uncategorized/sweeps/yivd2k4v</a>"
      ],
      "text/plain": [
       "<IPython.core.display.HTML object>"
      ]
     },
     "metadata": {},
     "output_type": "display_data"
    },
    {
     "data": {
      "text/html": [
       " View run at <a href='https://wandb.ai/rl_shobhith/uncategorized/runs/521q2i00/workspace' target=\"_blank\">https://wandb.ai/rl_shobhith/uncategorized/runs/521q2i00/workspace</a>"
      ],
      "text/plain": [
       "<IPython.core.display.HTML object>"
      ]
     },
     "metadata": {},
     "output_type": "display_data"
    },
    {
     "name": "stderr",
     "output_type": "stream",
     "text": [
      "Iteration 0: 100%|██████████| 50/50 [00:16<00:00,  2.99it/s, episode_return=50, return=-500.000]\n",
      "Iteration 1: 100%|██████████| 50/50 [00:15<00:00,  3.19it/s, episode_return=100, return=-500.000]\n",
      "Iteration 2: 100%|██████████| 50/50 [00:15<00:00,  3.13it/s, episode_return=150, return=-500.000]\n",
      "Iteration 3: 100%|██████████| 50/50 [00:16<00:00,  3.10it/s, episode_return=200, return=-500.000]\n",
      "Iteration 4: 100%|██████████| 50/50 [00:16<00:00,  2.98it/s, episode_return=250, return=-500.000]\n",
      "Iteration 5: 100%|██████████| 50/50 [00:14<00:00,  3.33it/s, episode_return=300, return=-407.400]\n",
      "Iteration 6: 100%|██████████| 50/50 [00:15<00:00,  3.20it/s, episode_return=350, return=-500.000]\n",
      "Iteration 7: 100%|██████████| 50/50 [00:15<00:00,  3.32it/s, episode_return=400, return=-500.000]\n",
      "Iteration 8: 100%|██████████| 50/50 [00:16<00:00,  3.09it/s, episode_return=450, return=-500.000]\n",
      "Iteration 9: 100%|██████████| 50/50 [00:17<00:00,  2.81it/s, episode_return=500, return=-500.000]\n"
     ]
    },
    {
     "data": {
      "application/vnd.jupyter.widget-view+json": {
       "model_id": "702c1e5c66bb4dcfb8595cf56a9dd0e4",
       "version_major": 2,
       "version_minor": 0
      },
      "text/plain": [
       "VBox(children=(Label(value='0.001 MB of 0.001 MB uploaded\\r'), FloatProgress(value=1.0, max=1.0)))"
      ]
     },
     "metadata": {},
     "output_type": "display_data"
    },
    {
     "data": {
      "text/html": [
       "<style>\n",
       "    table.wandb td:nth-child(1) { padding: 0 10px; text-align: left ; width: auto;} td:nth-child(2) {text-align: left ; width: 100%}\n",
       "    .wandb-row { display: flex; flex-direction: row; flex-wrap: wrap; justify-content: flex-start; width: 100% }\n",
       "    .wandb-col { display: flex; flex-direction: column; flex-basis: 100%; flex: 1; padding: 10px; }\n",
       "    </style>\n",
       "<div class=\"wandb-row\"><div class=\"wandb-col\"><h3>Run history:</h3><br/><table class=\"wandb\"><tr><td>regret</td><td>▁</td></tr></table><br/></div><div class=\"wandb-col\"><h3>Run summary:</h3><br/><table class=\"wandb\"><tr><td>regret</td><td>247666.0</td></tr></table><br/></div></div>"
      ],
      "text/plain": [
       "<IPython.core.display.HTML object>"
      ]
     },
     "metadata": {},
     "output_type": "display_data"
    },
    {
     "data": {
      "text/html": [
       " View run <strong style=\"color:#cdcd00\">rose-sweep-11</strong> at: <a href='https://wandb.ai/rl_shobhith/uncategorized/runs/521q2i00/workspace' target=\"_blank\">https://wandb.ai/rl_shobhith/uncategorized/runs/521q2i00/workspace</a><br/>Synced 5 W&B file(s), 0 media file(s), 0 artifact file(s) and 0 other file(s)"
      ],
      "text/plain": [
       "<IPython.core.display.HTML object>"
      ]
     },
     "metadata": {},
     "output_type": "display_data"
    },
    {
     "data": {
      "text/html": [
       "Find logs at: <code>.\\wandb\\run-20240402_004620-521q2i00\\logs</code>"
      ],
      "text/plain": [
       "<IPython.core.display.HTML object>"
      ]
     },
     "metadata": {},
     "output_type": "display_data"
    },
    {
     "name": "stderr",
     "output_type": "stream",
     "text": [
      "\u001b[34m\u001b[1mwandb\u001b[0m: Agent Starting Run: tf6n0y2i with config:\n",
      "\u001b[34m\u001b[1mwandb\u001b[0m: \thidden_dim: 64\n",
      "\u001b[34m\u001b[1mwandb\u001b[0m: \tlearning_rate: 0.008108650677199437\n",
      "Failed to detect the name of this notebook, you can set it manually with the WANDB_NOTEBOOK_NAME environment variable to enable code saving.\n",
      "\u001b[34m\u001b[1mwandb\u001b[0m: \u001b[33mWARNING\u001b[0m Ignored wandb.init() arg project when running a sweep.\n"
     ]
    },
    {
     "data": {
      "text/html": [
       "Tracking run with wandb version 0.16.5"
      ],
      "text/plain": [
       "<IPython.core.display.HTML object>"
      ]
     },
     "metadata": {},
     "output_type": "display_data"
    },
    {
     "data": {
      "text/html": [
       "Run data is saved locally in <code>c:\\Users\\Shobhith Vadlamudi\\AppData\\Local\\Programs\\Microsoft VS Code\\wandb\\run-20240402_004915-tf6n0y2i</code>"
      ],
      "text/plain": [
       "<IPython.core.display.HTML object>"
      ]
     },
     "metadata": {},
     "output_type": "display_data"
    },
    {
     "data": {
      "text/html": [
       "Syncing run <strong><a href='https://wandb.ai/rl_shobhith/uncategorized/runs/tf6n0y2i/workspace' target=\"_blank\">quiet-sweep-12</a></strong> to <a href='https://wandb.ai/rl_shobhith/uncategorized' target=\"_blank\">Weights & Biases</a> (<a href='https://wandb.me/run' target=\"_blank\">docs</a>)<br/>Sweep page: <a href='https://wandb.ai/rl_shobhith/uncategorized/sweeps/yivd2k4v' target=\"_blank\">https://wandb.ai/rl_shobhith/uncategorized/sweeps/yivd2k4v</a>"
      ],
      "text/plain": [
       "<IPython.core.display.HTML object>"
      ]
     },
     "metadata": {},
     "output_type": "display_data"
    },
    {
     "data": {
      "text/html": [
       " View project at <a href='https://wandb.ai/rl_shobhith/uncategorized' target=\"_blank\">https://wandb.ai/rl_shobhith/uncategorized</a>"
      ],
      "text/plain": [
       "<IPython.core.display.HTML object>"
      ]
     },
     "metadata": {},
     "output_type": "display_data"
    },
    {
     "data": {
      "text/html": [
       " View sweep at <a href='https://wandb.ai/rl_shobhith/uncategorized/sweeps/yivd2k4v' target=\"_blank\">https://wandb.ai/rl_shobhith/uncategorized/sweeps/yivd2k4v</a>"
      ],
      "text/plain": [
       "<IPython.core.display.HTML object>"
      ]
     },
     "metadata": {},
     "output_type": "display_data"
    },
    {
     "data": {
      "text/html": [
       " View run at <a href='https://wandb.ai/rl_shobhith/uncategorized/runs/tf6n0y2i/workspace' target=\"_blank\">https://wandb.ai/rl_shobhith/uncategorized/runs/tf6n0y2i/workspace</a>"
      ],
      "text/plain": [
       "<IPython.core.display.HTML object>"
      ]
     },
     "metadata": {},
     "output_type": "display_data"
    },
    {
     "name": "stderr",
     "output_type": "stream",
     "text": [
      "Iteration 0: 100%|██████████| 50/50 [00:17<00:00,  2.83it/s, episode_return=50, return=-500.000]\n",
      "Iteration 1: 100%|██████████| 50/50 [00:20<00:00,  2.42it/s, episode_return=100, return=-500.000]\n",
      "Iteration 2: 100%|██████████| 50/50 [00:17<00:00,  2.88it/s, episode_return=150, return=-500.000]\n",
      "Iteration 3: 100%|██████████| 50/50 [00:17<00:00,  2.80it/s, episode_return=200, return=-500.000]\n",
      "Iteration 4: 100%|██████████| 50/50 [00:16<00:00,  2.96it/s, episode_return=250, return=-500.000]\n",
      "Iteration 5: 100%|██████████| 50/50 [00:17<00:00,  2.91it/s, episode_return=300, return=-500.000]\n",
      "Iteration 6: 100%|██████████| 50/50 [00:17<00:00,  2.81it/s, episode_return=350, return=-500.000]\n",
      "Iteration 7: 100%|██████████| 50/50 [00:16<00:00,  3.08it/s, episode_return=400, return=-500.000]\n",
      "Iteration 8: 100%|██████████| 50/50 [00:16<00:00,  3.09it/s, episode_return=450, return=-500.000]\n",
      "Iteration 9: 100%|██████████| 50/50 [00:16<00:00,  2.97it/s, episode_return=500, return=-500.000]\n"
     ]
    },
    {
     "data": {
      "application/vnd.jupyter.widget-view+json": {
       "model_id": "a598a163546b4b22bc69e16f74254581",
       "version_major": 2,
       "version_minor": 0
      },
      "text/plain": [
       "VBox(children=(Label(value='0.001 MB of 0.007 MB uploaded\\r'), FloatProgress(value=0.16869588744588745, max=1.…"
      ]
     },
     "metadata": {},
     "output_type": "display_data"
    },
    {
     "data": {
      "text/html": [
       "<style>\n",
       "    table.wandb td:nth-child(1) { padding: 0 10px; text-align: left ; width: auto;} td:nth-child(2) {text-align: left ; width: 100%}\n",
       "    .wandb-row { display: flex; flex-direction: row; flex-wrap: wrap; justify-content: flex-start; width: 100% }\n",
       "    .wandb-col { display: flex; flex-direction: column; flex-basis: 100%; flex: 1; padding: 10px; }\n",
       "    </style>\n",
       "<div class=\"wandb-row\"><div class=\"wandb-col\"><h3>Run history:</h3><br/><table class=\"wandb\"><tr><td>regret</td><td>▁</td></tr></table><br/></div><div class=\"wandb-col\"><h3>Run summary:</h3><br/><table class=\"wandb\"><tr><td>regret</td><td>249487.44526</td></tr></table><br/></div></div>"
      ],
      "text/plain": [
       "<IPython.core.display.HTML object>"
      ]
     },
     "metadata": {},
     "output_type": "display_data"
    },
    {
     "data": {
      "text/html": [
       " View run <strong style=\"color:#cdcd00\">quiet-sweep-12</strong> at: <a href='https://wandb.ai/rl_shobhith/uncategorized/runs/tf6n0y2i/workspace' target=\"_blank\">https://wandb.ai/rl_shobhith/uncategorized/runs/tf6n0y2i/workspace</a><br/>Synced 5 W&B file(s), 0 media file(s), 0 artifact file(s) and 0 other file(s)"
      ],
      "text/plain": [
       "<IPython.core.display.HTML object>"
      ]
     },
     "metadata": {},
     "output_type": "display_data"
    },
    {
     "data": {
      "text/html": [
       "Find logs at: <code>.\\wandb\\run-20240402_004915-tf6n0y2i\\logs</code>"
      ],
      "text/plain": [
       "<IPython.core.display.HTML object>"
      ]
     },
     "metadata": {},
     "output_type": "display_data"
    },
    {
     "name": "stderr",
     "output_type": "stream",
     "text": [
      "\u001b[34m\u001b[1mwandb\u001b[0m: Agent Starting Run: 38t1e2g5 with config:\n",
      "\u001b[34m\u001b[1mwandb\u001b[0m: \thidden_dim: 256\n",
      "\u001b[34m\u001b[1mwandb\u001b[0m: \tlearning_rate: 0.005605650705137361\n",
      "Failed to detect the name of this notebook, you can set it manually with the WANDB_NOTEBOOK_NAME environment variable to enable code saving.\n",
      "\u001b[34m\u001b[1mwandb\u001b[0m: \u001b[33mWARNING\u001b[0m Ignored wandb.init() arg project when running a sweep.\n"
     ]
    },
    {
     "data": {
      "text/html": [
       "Tracking run with wandb version 0.16.5"
      ],
      "text/plain": [
       "<IPython.core.display.HTML object>"
      ]
     },
     "metadata": {},
     "output_type": "display_data"
    },
    {
     "data": {
      "text/html": [
       "Run data is saved locally in <code>c:\\Users\\Shobhith Vadlamudi\\AppData\\Local\\Programs\\Microsoft VS Code\\wandb\\run-20240402_005225-38t1e2g5</code>"
      ],
      "text/plain": [
       "<IPython.core.display.HTML object>"
      ]
     },
     "metadata": {},
     "output_type": "display_data"
    },
    {
     "data": {
      "text/html": [
       "Syncing run <strong><a href='https://wandb.ai/rl_shobhith/uncategorized/runs/38t1e2g5/workspace' target=\"_blank\">earthy-sweep-13</a></strong> to <a href='https://wandb.ai/rl_shobhith/uncategorized' target=\"_blank\">Weights & Biases</a> (<a href='https://wandb.me/run' target=\"_blank\">docs</a>)<br/>Sweep page: <a href='https://wandb.ai/rl_shobhith/uncategorized/sweeps/yivd2k4v' target=\"_blank\">https://wandb.ai/rl_shobhith/uncategorized/sweeps/yivd2k4v</a>"
      ],
      "text/plain": [
       "<IPython.core.display.HTML object>"
      ]
     },
     "metadata": {},
     "output_type": "display_data"
    },
    {
     "data": {
      "text/html": [
       " View project at <a href='https://wandb.ai/rl_shobhith/uncategorized' target=\"_blank\">https://wandb.ai/rl_shobhith/uncategorized</a>"
      ],
      "text/plain": [
       "<IPython.core.display.HTML object>"
      ]
     },
     "metadata": {},
     "output_type": "display_data"
    },
    {
     "data": {
      "text/html": [
       " View sweep at <a href='https://wandb.ai/rl_shobhith/uncategorized/sweeps/yivd2k4v' target=\"_blank\">https://wandb.ai/rl_shobhith/uncategorized/sweeps/yivd2k4v</a>"
      ],
      "text/plain": [
       "<IPython.core.display.HTML object>"
      ]
     },
     "metadata": {},
     "output_type": "display_data"
    },
    {
     "data": {
      "text/html": [
       " View run at <a href='https://wandb.ai/rl_shobhith/uncategorized/runs/38t1e2g5/workspace' target=\"_blank\">https://wandb.ai/rl_shobhith/uncategorized/runs/38t1e2g5/workspace</a>"
      ],
      "text/plain": [
       "<IPython.core.display.HTML object>"
      ]
     },
     "metadata": {},
     "output_type": "display_data"
    },
    {
     "name": "stderr",
     "output_type": "stream",
     "text": [
      "Iteration 0: 100%|██████████| 50/50 [00:14<00:00,  3.57it/s, episode_return=50, return=-181.700]\n",
      "Iteration 1: 100%|██████████| 50/50 [00:12<00:00,  4.05it/s, episode_return=100, return=-415.500]\n",
      "Iteration 2: 100%|██████████| 50/50 [00:24<00:00,  2.07it/s, episode_return=150, return=-500.000]\n",
      "Iteration 3: 100%|██████████| 50/50 [00:29<00:00,  1.67it/s, episode_return=200, return=-500.000]\n",
      "Iteration 4: 100%|██████████| 50/50 [00:30<00:00,  1.63it/s, episode_return=250, return=-500.000]\n",
      "Iteration 5: 100%|██████████| 50/50 [00:28<00:00,  1.77it/s, episode_return=300, return=-500.000]\n",
      "Iteration 6: 100%|██████████| 50/50 [00:25<00:00,  1.96it/s, episode_return=350, return=-500.000]\n",
      "Iteration 7: 100%|██████████| 50/50 [00:26<00:00,  1.90it/s, episode_return=400, return=-500.000]\n",
      "Iteration 8: 100%|██████████| 50/50 [00:24<00:00,  2.02it/s, episode_return=450, return=-500.000]\n",
      "Iteration 9: 100%|██████████| 50/50 [00:24<00:00,  2.01it/s, episode_return=500, return=-500.000]\n"
     ]
    },
    {
     "data": {
      "application/vnd.jupyter.widget-view+json": {
       "model_id": "70197a1f544c48a895d0b3732c7a6827",
       "version_major": 2,
       "version_minor": 0
      },
      "text/plain": [
       "VBox(children=(Label(value='0.001 MB of 0.001 MB uploaded\\r'), FloatProgress(value=1.0, max=1.0)))"
      ]
     },
     "metadata": {},
     "output_type": "display_data"
    },
    {
     "data": {
      "text/html": [
       "<style>\n",
       "    table.wandb td:nth-child(1) { padding: 0 10px; text-align: left ; width: auto;} td:nth-child(2) {text-align: left ; width: 100%}\n",
       "    .wandb-row { display: flex; flex-direction: row; flex-wrap: wrap; justify-content: flex-start; width: 100% }\n",
       "    .wandb-col { display: flex; flex-direction: column; flex-basis: 100%; flex: 1; padding: 10px; }\n",
       "    </style>\n",
       "<div class=\"wandb-row\"><div class=\"wandb-col\"><h3>Run history:</h3><br/><table class=\"wandb\"><tr><td>regret</td><td>▁</td></tr></table><br/></div><div class=\"wandb-col\"><h3>Run summary:</h3><br/><table class=\"wandb\"><tr><td>regret</td><td>212881.15568</td></tr></table><br/></div></div>"
      ],
      "text/plain": [
       "<IPython.core.display.HTML object>"
      ]
     },
     "metadata": {},
     "output_type": "display_data"
    },
    {
     "data": {
      "text/html": [
       " View run <strong style=\"color:#cdcd00\">earthy-sweep-13</strong> at: <a href='https://wandb.ai/rl_shobhith/uncategorized/runs/38t1e2g5/workspace' target=\"_blank\">https://wandb.ai/rl_shobhith/uncategorized/runs/38t1e2g5/workspace</a><br/>Synced 5 W&B file(s), 0 media file(s), 0 artifact file(s) and 0 other file(s)"
      ],
      "text/plain": [
       "<IPython.core.display.HTML object>"
      ]
     },
     "metadata": {},
     "output_type": "display_data"
    },
    {
     "data": {
      "text/html": [
       "Find logs at: <code>.\\wandb\\run-20240402_005225-38t1e2g5\\logs</code>"
      ],
      "text/plain": [
       "<IPython.core.display.HTML object>"
      ]
     },
     "metadata": {},
     "output_type": "display_data"
    },
    {
     "name": "stderr",
     "output_type": "stream",
     "text": [
      "\u001b[34m\u001b[1mwandb\u001b[0m: Agent Starting Run: 40qcwzos with config:\n",
      "\u001b[34m\u001b[1mwandb\u001b[0m: \thidden_dim: 128\n",
      "\u001b[34m\u001b[1mwandb\u001b[0m: \tlearning_rate: 0.005309639738870366\n",
      "Failed to detect the name of this notebook, you can set it manually with the WANDB_NOTEBOOK_NAME environment variable to enable code saving.\n",
      "\u001b[34m\u001b[1mwandb\u001b[0m: \u001b[33mWARNING\u001b[0m Ignored wandb.init() arg project when running a sweep.\n"
     ]
    },
    {
     "data": {
      "text/html": [
       "Tracking run with wandb version 0.16.5"
      ],
      "text/plain": [
       "<IPython.core.display.HTML object>"
      ]
     },
     "metadata": {},
     "output_type": "display_data"
    },
    {
     "data": {
      "text/html": [
       "Run data is saved locally in <code>c:\\Users\\Shobhith Vadlamudi\\AppData\\Local\\Programs\\Microsoft VS Code\\wandb\\run-20240402_005639-40qcwzos</code>"
      ],
      "text/plain": [
       "<IPython.core.display.HTML object>"
      ]
     },
     "metadata": {},
     "output_type": "display_data"
    },
    {
     "data": {
      "text/html": [
       "Syncing run <strong><a href='https://wandb.ai/rl_shobhith/uncategorized/runs/40qcwzos/workspace' target=\"_blank\">distinctive-sweep-14</a></strong> to <a href='https://wandb.ai/rl_shobhith/uncategorized' target=\"_blank\">Weights & Biases</a> (<a href='https://wandb.me/run' target=\"_blank\">docs</a>)<br/>Sweep page: <a href='https://wandb.ai/rl_shobhith/uncategorized/sweeps/yivd2k4v' target=\"_blank\">https://wandb.ai/rl_shobhith/uncategorized/sweeps/yivd2k4v</a>"
      ],
      "text/plain": [
       "<IPython.core.display.HTML object>"
      ]
     },
     "metadata": {},
     "output_type": "display_data"
    },
    {
     "data": {
      "text/html": [
       " View project at <a href='https://wandb.ai/rl_shobhith/uncategorized' target=\"_blank\">https://wandb.ai/rl_shobhith/uncategorized</a>"
      ],
      "text/plain": [
       "<IPython.core.display.HTML object>"
      ]
     },
     "metadata": {},
     "output_type": "display_data"
    },
    {
     "data": {
      "text/html": [
       " View sweep at <a href='https://wandb.ai/rl_shobhith/uncategorized/sweeps/yivd2k4v' target=\"_blank\">https://wandb.ai/rl_shobhith/uncategorized/sweeps/yivd2k4v</a>"
      ],
      "text/plain": [
       "<IPython.core.display.HTML object>"
      ]
     },
     "metadata": {},
     "output_type": "display_data"
    },
    {
     "data": {
      "text/html": [
       " View run at <a href='https://wandb.ai/rl_shobhith/uncategorized/runs/40qcwzos/workspace' target=\"_blank\">https://wandb.ai/rl_shobhith/uncategorized/runs/40qcwzos/workspace</a>"
      ],
      "text/plain": [
       "<IPython.core.display.HTML object>"
      ]
     },
     "metadata": {},
     "output_type": "display_data"
    },
    {
     "name": "stderr",
     "output_type": "stream",
     "text": [
      "Iteration 0: 100%|██████████| 50/50 [00:31<00:00,  1.59it/s, episode_return=50, return=-500.000]\n",
      "Iteration 1: 100%|██████████| 50/50 [00:23<00:00,  2.15it/s, episode_return=100, return=-500.000]\n",
      "Iteration 2: 100%|██████████| 50/50 [00:24<00:00,  2.05it/s, episode_return=150, return=-500.000]\n",
      "Iteration 3: 100%|██████████| 50/50 [00:20<00:00,  2.39it/s, episode_return=200, return=-500.000]\n",
      "Iteration 4: 100%|██████████| 50/50 [00:22<00:00,  2.19it/s, episode_return=250, return=-500.000]\n",
      "Iteration 5: 100%|██████████| 50/50 [00:28<00:00,  1.76it/s, episode_return=300, return=-500.000]\n",
      "Iteration 6: 100%|██████████| 50/50 [00:23<00:00,  2.11it/s, episode_return=350, return=-500.000]\n",
      "Iteration 7: 100%|██████████| 50/50 [00:23<00:00,  2.16it/s, episode_return=400, return=-500.000]\n",
      "Iteration 8: 100%|██████████| 50/50 [00:21<00:00,  2.33it/s, episode_return=450, return=-500.000]\n",
      "Iteration 9: 100%|██████████| 50/50 [00:23<00:00,  2.14it/s, episode_return=500, return=-500.000]\n"
     ]
    },
    {
     "data": {
      "application/vnd.jupyter.widget-view+json": {
       "model_id": "5210a5ad99374a6c8787d4992a3f8b41",
       "version_major": 2,
       "version_minor": 0
      },
      "text/plain": [
       "VBox(children=(Label(value='0.001 MB of 0.007 MB uploaded\\r'), FloatProgress(value=0.16509996028068316, max=1.…"
      ]
     },
     "metadata": {},
     "output_type": "display_data"
    },
    {
     "data": {
      "text/html": [
       "<style>\n",
       "    table.wandb td:nth-child(1) { padding: 0 10px; text-align: left ; width: auto;} td:nth-child(2) {text-align: left ; width: 100%}\n",
       "    .wandb-row { display: flex; flex-direction: row; flex-wrap: wrap; justify-content: flex-start; width: 100% }\n",
       "    .wandb-col { display: flex; flex-direction: column; flex-basis: 100%; flex: 1; padding: 10px; }\n",
       "    </style>\n",
       "<div class=\"wandb-row\"><div class=\"wandb-col\"><h3>Run history:</h3><br/><table class=\"wandb\"><tr><td>regret</td><td>▁</td></tr></table><br/></div><div class=\"wandb-col\"><h3>Run summary:</h3><br/><table class=\"wandb\"><tr><td>regret</td><td>250000.0</td></tr></table><br/></div></div>"
      ],
      "text/plain": [
       "<IPython.core.display.HTML object>"
      ]
     },
     "metadata": {},
     "output_type": "display_data"
    },
    {
     "data": {
      "text/html": [
       " View run <strong style=\"color:#cdcd00\">distinctive-sweep-14</strong> at: <a href='https://wandb.ai/rl_shobhith/uncategorized/runs/40qcwzos/workspace' target=\"_blank\">https://wandb.ai/rl_shobhith/uncategorized/runs/40qcwzos/workspace</a><br/>Synced 5 W&B file(s), 0 media file(s), 0 artifact file(s) and 0 other file(s)"
      ],
      "text/plain": [
       "<IPython.core.display.HTML object>"
      ]
     },
     "metadata": {},
     "output_type": "display_data"
    },
    {
     "data": {
      "text/html": [
       "Find logs at: <code>.\\wandb\\run-20240402_005639-40qcwzos\\logs</code>"
      ],
      "text/plain": [
       "<IPython.core.display.HTML object>"
      ]
     },
     "metadata": {},
     "output_type": "display_data"
    },
    {
     "name": "stderr",
     "output_type": "stream",
     "text": [
      "\u001b[34m\u001b[1mwandb\u001b[0m: Agent Starting Run: n9a81ggi with config:\n",
      "\u001b[34m\u001b[1mwandb\u001b[0m: \thidden_dim: 256\n",
      "\u001b[34m\u001b[1mwandb\u001b[0m: \tlearning_rate: 0.009307740234868842\n",
      "Failed to detect the name of this notebook, you can set it manually with the WANDB_NOTEBOOK_NAME environment variable to enable code saving.\n",
      "\u001b[34m\u001b[1mwandb\u001b[0m: \u001b[33mWARNING\u001b[0m Ignored wandb.init() arg project when running a sweep.\n"
     ]
    },
    {
     "data": {
      "text/html": [
       "Tracking run with wandb version 0.16.5"
      ],
      "text/plain": [
       "<IPython.core.display.HTML object>"
      ]
     },
     "metadata": {},
     "output_type": "display_data"
    },
    {
     "data": {
      "text/html": [
       "Run data is saved locally in <code>c:\\Users\\Shobhith Vadlamudi\\AppData\\Local\\Programs\\Microsoft VS Code\\wandb\\run-20240402_010054-n9a81ggi</code>"
      ],
      "text/plain": [
       "<IPython.core.display.HTML object>"
      ]
     },
     "metadata": {},
     "output_type": "display_data"
    },
    {
     "data": {
      "text/html": [
       "Syncing run <strong><a href='https://wandb.ai/rl_shobhith/uncategorized/runs/n9a81ggi/workspace' target=\"_blank\">bumbling-sweep-15</a></strong> to <a href='https://wandb.ai/rl_shobhith/uncategorized' target=\"_blank\">Weights & Biases</a> (<a href='https://wandb.me/run' target=\"_blank\">docs</a>)<br/>Sweep page: <a href='https://wandb.ai/rl_shobhith/uncategorized/sweeps/yivd2k4v' target=\"_blank\">https://wandb.ai/rl_shobhith/uncategorized/sweeps/yivd2k4v</a>"
      ],
      "text/plain": [
       "<IPython.core.display.HTML object>"
      ]
     },
     "metadata": {},
     "output_type": "display_data"
    },
    {
     "data": {
      "text/html": [
       " View project at <a href='https://wandb.ai/rl_shobhith/uncategorized' target=\"_blank\">https://wandb.ai/rl_shobhith/uncategorized</a>"
      ],
      "text/plain": [
       "<IPython.core.display.HTML object>"
      ]
     },
     "metadata": {},
     "output_type": "display_data"
    },
    {
     "data": {
      "text/html": [
       " View sweep at <a href='https://wandb.ai/rl_shobhith/uncategorized/sweeps/yivd2k4v' target=\"_blank\">https://wandb.ai/rl_shobhith/uncategorized/sweeps/yivd2k4v</a>"
      ],
      "text/plain": [
       "<IPython.core.display.HTML object>"
      ]
     },
     "metadata": {},
     "output_type": "display_data"
    },
    {
     "data": {
      "text/html": [
       " View run at <a href='https://wandb.ai/rl_shobhith/uncategorized/runs/n9a81ggi/workspace' target=\"_blank\">https://wandb.ai/rl_shobhith/uncategorized/runs/n9a81ggi/workspace</a>"
      ],
      "text/plain": [
       "<IPython.core.display.HTML object>"
      ]
     },
     "metadata": {},
     "output_type": "display_data"
    },
    {
     "name": "stderr",
     "output_type": "stream",
     "text": [
      "Iteration 0: 100%|██████████| 50/50 [00:31<00:00,  1.58it/s, episode_return=50, return=-500.000]\n",
      "Iteration 1: 100%|██████████| 50/50 [00:32<00:00,  1.55it/s, episode_return=100, return=-500.000]\n",
      "Iteration 2: 100%|██████████| 50/50 [00:38<00:00,  1.31it/s, episode_return=150, return=-500.000]\n",
      "Iteration 3: 100%|██████████| 50/50 [00:34<00:00,  1.44it/s, episode_return=200, return=-500.000]\n",
      "Iteration 4: 100%|██████████| 50/50 [00:31<00:00,  1.60it/s, episode_return=250, return=-500.000]\n",
      "Iteration 5: 100%|██████████| 50/50 [00:35<00:00,  1.40it/s, episode_return=300, return=-500.000]\n",
      "Iteration 6: 100%|██████████| 50/50 [00:34<00:00,  1.44it/s, episode_return=350, return=-500.000]\n",
      "Iteration 7: 100%|██████████| 50/50 [00:33<00:00,  1.50it/s, episode_return=400, return=-500.000]\n",
      "Iteration 8: 100%|██████████| 50/50 [00:30<00:00,  1.64it/s, episode_return=450, return=-500.000]\n",
      "Iteration 9: 100%|██████████| 50/50 [00:31<00:00,  1.60it/s, episode_return=500, return=-500.000]\n"
     ]
    },
    {
     "data": {
      "application/vnd.jupyter.widget-view+json": {
       "model_id": "e33d5bd8f43145018ae3c7a60fb2d9b3",
       "version_major": 2,
       "version_minor": 0
      },
      "text/plain": [
       "VBox(children=(Label(value='0.001 MB of 0.001 MB uploaded\\r'), FloatProgress(value=1.0, max=1.0)))"
      ]
     },
     "metadata": {},
     "output_type": "display_data"
    },
    {
     "data": {
      "text/html": [
       "<style>\n",
       "    table.wandb td:nth-child(1) { padding: 0 10px; text-align: left ; width: auto;} td:nth-child(2) {text-align: left ; width: 100%}\n",
       "    .wandb-row { display: flex; flex-direction: row; flex-wrap: wrap; justify-content: flex-start; width: 100% }\n",
       "    .wandb-col { display: flex; flex-direction: column; flex-basis: 100%; flex: 1; padding: 10px; }\n",
       "    </style>\n",
       "<div class=\"wandb-row\"><div class=\"wandb-col\"><h3>Run history:</h3><br/><table class=\"wandb\"><tr><td>regret</td><td>▁</td></tr></table><br/></div><div class=\"wandb-col\"><h3>Run summary:</h3><br/><table class=\"wandb\"><tr><td>regret</td><td>242305.12533</td></tr></table><br/></div></div>"
      ],
      "text/plain": [
       "<IPython.core.display.HTML object>"
      ]
     },
     "metadata": {},
     "output_type": "display_data"
    },
    {
     "data": {
      "text/html": [
       " View run <strong style=\"color:#cdcd00\">bumbling-sweep-15</strong> at: <a href='https://wandb.ai/rl_shobhith/uncategorized/runs/n9a81ggi/workspace' target=\"_blank\">https://wandb.ai/rl_shobhith/uncategorized/runs/n9a81ggi/workspace</a><br/>Synced 5 W&B file(s), 0 media file(s), 0 artifact file(s) and 0 other file(s)"
      ],
      "text/plain": [
       "<IPython.core.display.HTML object>"
      ]
     },
     "metadata": {},
     "output_type": "display_data"
    },
    {
     "data": {
      "text/html": [
       "Find logs at: <code>.\\wandb\\run-20240402_010054-n9a81ggi\\logs</code>"
      ],
      "text/plain": [
       "<IPython.core.display.HTML object>"
      ]
     },
     "metadata": {},
     "output_type": "display_data"
    },
    {
     "name": "stderr",
     "output_type": "stream",
     "text": [
      "\u001b[34m\u001b[1mwandb\u001b[0m: Agent Starting Run: py91qe95 with config:\n",
      "\u001b[34m\u001b[1mwandb\u001b[0m: \thidden_dim: 64\n",
      "\u001b[34m\u001b[1mwandb\u001b[0m: \tlearning_rate: 0.004997434735497943\n",
      "Failed to detect the name of this notebook, you can set it manually with the WANDB_NOTEBOOK_NAME environment variable to enable code saving.\n",
      "\u001b[34m\u001b[1mwandb\u001b[0m: \u001b[33mWARNING\u001b[0m Ignored wandb.init() arg project when running a sweep.\n"
     ]
    },
    {
     "data": {
      "text/html": [
       "Tracking run with wandb version 0.16.5"
      ],
      "text/plain": [
       "<IPython.core.display.HTML object>"
      ]
     },
     "metadata": {},
     "output_type": "display_data"
    },
    {
     "data": {
      "text/html": [
       "Run data is saved locally in <code>c:\\Users\\Shobhith Vadlamudi\\AppData\\Local\\Programs\\Microsoft VS Code\\wandb\\run-20240402_010643-py91qe95</code>"
      ],
      "text/plain": [
       "<IPython.core.display.HTML object>"
      ]
     },
     "metadata": {},
     "output_type": "display_data"
    },
    {
     "data": {
      "text/html": [
       "Syncing run <strong><a href='https://wandb.ai/rl_shobhith/uncategorized/runs/py91qe95/workspace' target=\"_blank\">rose-sweep-16</a></strong> to <a href='https://wandb.ai/rl_shobhith/uncategorized' target=\"_blank\">Weights & Biases</a> (<a href='https://wandb.me/run' target=\"_blank\">docs</a>)<br/>Sweep page: <a href='https://wandb.ai/rl_shobhith/uncategorized/sweeps/yivd2k4v' target=\"_blank\">https://wandb.ai/rl_shobhith/uncategorized/sweeps/yivd2k4v</a>"
      ],
      "text/plain": [
       "<IPython.core.display.HTML object>"
      ]
     },
     "metadata": {},
     "output_type": "display_data"
    },
    {
     "data": {
      "text/html": [
       " View project at <a href='https://wandb.ai/rl_shobhith/uncategorized' target=\"_blank\">https://wandb.ai/rl_shobhith/uncategorized</a>"
      ],
      "text/plain": [
       "<IPython.core.display.HTML object>"
      ]
     },
     "metadata": {},
     "output_type": "display_data"
    },
    {
     "data": {
      "text/html": [
       " View sweep at <a href='https://wandb.ai/rl_shobhith/uncategorized/sweeps/yivd2k4v' target=\"_blank\">https://wandb.ai/rl_shobhith/uncategorized/sweeps/yivd2k4v</a>"
      ],
      "text/plain": [
       "<IPython.core.display.HTML object>"
      ]
     },
     "metadata": {},
     "output_type": "display_data"
    },
    {
     "data": {
      "text/html": [
       " View run at <a href='https://wandb.ai/rl_shobhith/uncategorized/runs/py91qe95/workspace' target=\"_blank\">https://wandb.ai/rl_shobhith/uncategorized/runs/py91qe95/workspace</a>"
      ],
      "text/plain": [
       "<IPython.core.display.HTML object>"
      ]
     },
     "metadata": {},
     "output_type": "display_data"
    },
    {
     "name": "stderr",
     "output_type": "stream",
     "text": [
      "Iteration 0: 100%|██████████| 50/50 [00:14<00:00,  3.50it/s, episode_return=50, return=-139.000]\n",
      "Iteration 1: 100%|██████████| 50/50 [00:08<00:00,  6.12it/s, episode_return=100, return=-126.400]\n",
      "Iteration 2: 100%|██████████| 50/50 [00:09<00:00,  5.24it/s, episode_return=150, return=-101.800]\n",
      "Iteration 3: 100%|██████████| 50/50 [00:08<00:00,  5.82it/s, episode_return=200, return=-123.900]\n",
      "Iteration 4: 100%|██████████| 50/50 [00:07<00:00,  6.90it/s, episode_return=250, return=-106.200]\n",
      "Iteration 5: 100%|██████████| 50/50 [00:07<00:00,  6.76it/s, episode_return=300, return=-110.600]\n",
      "Iteration 6: 100%|██████████| 50/50 [00:06<00:00,  7.25it/s, episode_return=350, return=-123.200]\n",
      "Iteration 7: 100%|██████████| 50/50 [00:06<00:00,  7.86it/s, episode_return=400, return=-85.400] \n",
      "Iteration 8: 100%|██████████| 50/50 [00:06<00:00,  8.23it/s, episode_return=450, return=-83.100]\n",
      "Iteration 9: 100%|██████████| 50/50 [00:07<00:00,  7.01it/s, episode_return=500, return=-89.200] \n"
     ]
    },
    {
     "data": {
      "application/vnd.jupyter.widget-view+json": {
       "model_id": "fbcece2cd4cc49f395330d2a0ba5ffde",
       "version_major": 2,
       "version_minor": 0
      },
      "text/plain": [
       "VBox(children=(Label(value='0.001 MB of 0.001 MB uploaded\\r'), FloatProgress(value=1.0, max=1.0)))"
      ]
     },
     "metadata": {},
     "output_type": "display_data"
    },
    {
     "data": {
      "text/html": [
       "<style>\n",
       "    table.wandb td:nth-child(1) { padding: 0 10px; text-align: left ; width: auto;} td:nth-child(2) {text-align: left ; width: 100%}\n",
       "    .wandb-row { display: flex; flex-direction: row; flex-wrap: wrap; justify-content: flex-start; width: 100% }\n",
       "    .wandb-col { display: flex; flex-direction: column; flex-basis: 100%; flex: 1; padding: 10px; }\n",
       "    </style>\n",
       "<div class=\"wandb-row\"><div class=\"wandb-col\"><h3>Run history:</h3><br/><table class=\"wandb\"><tr><td>regret</td><td>▁</td></tr></table><br/></div><div class=\"wandb-col\"><h3>Run summary:</h3><br/><table class=\"wandb\"><tr><td>regret</td><td>69076.4516</td></tr></table><br/></div></div>"
      ],
      "text/plain": [
       "<IPython.core.display.HTML object>"
      ]
     },
     "metadata": {},
     "output_type": "display_data"
    },
    {
     "data": {
      "text/html": [
       " View run <strong style=\"color:#cdcd00\">rose-sweep-16</strong> at: <a href='https://wandb.ai/rl_shobhith/uncategorized/runs/py91qe95/workspace' target=\"_blank\">https://wandb.ai/rl_shobhith/uncategorized/runs/py91qe95/workspace</a><br/>Synced 5 W&B file(s), 0 media file(s), 0 artifact file(s) and 0 other file(s)"
      ],
      "text/plain": [
       "<IPython.core.display.HTML object>"
      ]
     },
     "metadata": {},
     "output_type": "display_data"
    },
    {
     "data": {
      "text/html": [
       "Find logs at: <code>.\\wandb\\run-20240402_010643-py91qe95\\logs</code>"
      ],
      "text/plain": [
       "<IPython.core.display.HTML object>"
      ]
     },
     "metadata": {},
     "output_type": "display_data"
    },
    {
     "name": "stderr",
     "output_type": "stream",
     "text": [
      "\u001b[34m\u001b[1mwandb\u001b[0m: Agent Starting Run: bmco371e with config:\n",
      "\u001b[34m\u001b[1mwandb\u001b[0m: \thidden_dim: 256\n",
      "\u001b[34m\u001b[1mwandb\u001b[0m: \tlearning_rate: 0.002954331250975507\n",
      "Failed to detect the name of this notebook, you can set it manually with the WANDB_NOTEBOOK_NAME environment variable to enable code saving.\n",
      "\u001b[34m\u001b[1mwandb\u001b[0m: \u001b[33mWARNING\u001b[0m Ignored wandb.init() arg project when running a sweep.\n"
     ]
    },
    {
     "data": {
      "text/html": [
       "Tracking run with wandb version 0.16.5"
      ],
      "text/plain": [
       "<IPython.core.display.HTML object>"
      ]
     },
     "metadata": {},
     "output_type": "display_data"
    },
    {
     "data": {
      "text/html": [
       "Run data is saved locally in <code>c:\\Users\\Shobhith Vadlamudi\\AppData\\Local\\Programs\\Microsoft VS Code\\wandb\\run-20240402_010819-bmco371e</code>"
      ],
      "text/plain": [
       "<IPython.core.display.HTML object>"
      ]
     },
     "metadata": {},
     "output_type": "display_data"
    },
    {
     "data": {
      "text/html": [
       "Syncing run <strong><a href='https://wandb.ai/rl_shobhith/uncategorized/runs/bmco371e/workspace' target=\"_blank\">visionary-sweep-17</a></strong> to <a href='https://wandb.ai/rl_shobhith/uncategorized' target=\"_blank\">Weights & Biases</a> (<a href='https://wandb.me/run' target=\"_blank\">docs</a>)<br/>Sweep page: <a href='https://wandb.ai/rl_shobhith/uncategorized/sweeps/yivd2k4v' target=\"_blank\">https://wandb.ai/rl_shobhith/uncategorized/sweeps/yivd2k4v</a>"
      ],
      "text/plain": [
       "<IPython.core.display.HTML object>"
      ]
     },
     "metadata": {},
     "output_type": "display_data"
    },
    {
     "data": {
      "text/html": [
       " View project at <a href='https://wandb.ai/rl_shobhith/uncategorized' target=\"_blank\">https://wandb.ai/rl_shobhith/uncategorized</a>"
      ],
      "text/plain": [
       "<IPython.core.display.HTML object>"
      ]
     },
     "metadata": {},
     "output_type": "display_data"
    },
    {
     "data": {
      "text/html": [
       " View sweep at <a href='https://wandb.ai/rl_shobhith/uncategorized/sweeps/yivd2k4v' target=\"_blank\">https://wandb.ai/rl_shobhith/uncategorized/sweeps/yivd2k4v</a>"
      ],
      "text/plain": [
       "<IPython.core.display.HTML object>"
      ]
     },
     "metadata": {},
     "output_type": "display_data"
    },
    {
     "data": {
      "text/html": [
       " View run at <a href='https://wandb.ai/rl_shobhith/uncategorized/runs/bmco371e/workspace' target=\"_blank\">https://wandb.ai/rl_shobhith/uncategorized/runs/bmco371e/workspace</a>"
      ],
      "text/plain": [
       "<IPython.core.display.HTML object>"
      ]
     },
     "metadata": {},
     "output_type": "display_data"
    },
    {
     "name": "stderr",
     "output_type": "stream",
     "text": [
      "Iteration 0: 100%|██████████| 50/50 [00:31<00:00,  1.56it/s, episode_return=50, return=-494.100]\n",
      "Iteration 1: 100%|██████████| 50/50 [00:38<00:00,  1.30it/s, episode_return=100, return=-500.000]\n",
      "Iteration 2: 100%|██████████| 50/50 [00:39<00:00,  1.26it/s, episode_return=150, return=-500.000]\n",
      "Iteration 3: 100%|██████████| 50/50 [00:25<00:00,  1.93it/s, episode_return=200, return=-183.400]\n",
      "Iteration 4: 100%|██████████| 50/50 [00:13<00:00,  3.78it/s, episode_return=250, return=-160.400]\n",
      "Iteration 5: 100%|██████████| 50/50 [00:11<00:00,  4.36it/s, episode_return=300, return=-173.500]\n",
      "Iteration 6: 100%|██████████| 50/50 [00:12<00:00,  3.91it/s, episode_return=350, return=-161.600]\n",
      "Iteration 7: 100%|██████████| 50/50 [00:12<00:00,  3.87it/s, episode_return=400, return=-171.500]\n",
      "Iteration 8: 100%|██████████| 50/50 [00:13<00:00,  3.69it/s, episode_return=450, return=-156.900]\n",
      "Iteration 9: 100%|██████████| 50/50 [00:14<00:00,  3.55it/s, episode_return=500, return=-159.800]\n"
     ]
    },
    {
     "data": {
      "application/vnd.jupyter.widget-view+json": {
       "model_id": "cabfbd6565284b0ea8122182e01d9626",
       "version_major": 2,
       "version_minor": 0
      },
      "text/plain": [
       "VBox(children=(Label(value='0.001 MB of 0.001 MB uploaded\\r'), FloatProgress(value=1.0, max=1.0)))"
      ]
     },
     "metadata": {},
     "output_type": "display_data"
    },
    {
     "data": {
      "text/html": [
       "<style>\n",
       "    table.wandb td:nth-child(1) { padding: 0 10px; text-align: left ; width: auto;} td:nth-child(2) {text-align: left ; width: 100%}\n",
       "    .wandb-row { display: flex; flex-direction: row; flex-wrap: wrap; justify-content: flex-start; width: 100% }\n",
       "    .wandb-col { display: flex; flex-direction: column; flex-basis: 100%; flex: 1; padding: 10px; }\n",
       "    </style>\n",
       "<div class=\"wandb-row\"><div class=\"wandb-col\"><h3>Run history:</h3><br/><table class=\"wandb\"><tr><td>regret</td><td>▁</td></tr></table><br/></div><div class=\"wandb-col\"><h3>Run summary:</h3><br/><table class=\"wandb\"><tr><td>regret</td><td>160072.4772</td></tr></table><br/></div></div>"
      ],
      "text/plain": [
       "<IPython.core.display.HTML object>"
      ]
     },
     "metadata": {},
     "output_type": "display_data"
    },
    {
     "data": {
      "text/html": [
       " View run <strong style=\"color:#cdcd00\">visionary-sweep-17</strong> at: <a href='https://wandb.ai/rl_shobhith/uncategorized/runs/bmco371e/workspace' target=\"_blank\">https://wandb.ai/rl_shobhith/uncategorized/runs/bmco371e/workspace</a><br/>Synced 5 W&B file(s), 0 media file(s), 0 artifact file(s) and 0 other file(s)"
      ],
      "text/plain": [
       "<IPython.core.display.HTML object>"
      ]
     },
     "metadata": {},
     "output_type": "display_data"
    },
    {
     "data": {
      "text/html": [
       "Find logs at: <code>.\\wandb\\run-20240402_010819-bmco371e\\logs</code>"
      ],
      "text/plain": [
       "<IPython.core.display.HTML object>"
      ]
     },
     "metadata": {},
     "output_type": "display_data"
    },
    {
     "name": "stderr",
     "output_type": "stream",
     "text": [
      "\u001b[34m\u001b[1mwandb\u001b[0m: Sweep Agent: Waiting for job.\n",
      "\u001b[34m\u001b[1mwandb\u001b[0m: Job received.\n",
      "\u001b[34m\u001b[1mwandb\u001b[0m: Agent Starting Run: 34bnjktg with config:\n",
      "\u001b[34m\u001b[1mwandb\u001b[0m: \thidden_dim: 64\n",
      "\u001b[34m\u001b[1mwandb\u001b[0m: \tlearning_rate: 0.009812246117752057\n",
      "Failed to detect the name of this notebook, you can set it manually with the WANDB_NOTEBOOK_NAME environment variable to enable code saving.\n",
      "\u001b[34m\u001b[1mwandb\u001b[0m: \u001b[33mWARNING\u001b[0m Ignored wandb.init() arg project when running a sweep.\n"
     ]
    },
    {
     "data": {
      "text/html": [
       "Tracking run with wandb version 0.16.5"
      ],
      "text/plain": [
       "<IPython.core.display.HTML object>"
      ]
     },
     "metadata": {},
     "output_type": "display_data"
    },
    {
     "data": {
      "text/html": [
       "Run data is saved locally in <code>c:\\Users\\Shobhith Vadlamudi\\AppData\\Local\\Programs\\Microsoft VS Code\\wandb\\run-20240402_011215-34bnjktg</code>"
      ],
      "text/plain": [
       "<IPython.core.display.HTML object>"
      ]
     },
     "metadata": {},
     "output_type": "display_data"
    },
    {
     "data": {
      "text/html": [
       "Syncing run <strong><a href='https://wandb.ai/rl_shobhith/uncategorized/runs/34bnjktg/workspace' target=\"_blank\">woven-sweep-18</a></strong> to <a href='https://wandb.ai/rl_shobhith/uncategorized' target=\"_blank\">Weights & Biases</a> (<a href='https://wandb.me/run' target=\"_blank\">docs</a>)<br/>Sweep page: <a href='https://wandb.ai/rl_shobhith/uncategorized/sweeps/yivd2k4v' target=\"_blank\">https://wandb.ai/rl_shobhith/uncategorized/sweeps/yivd2k4v</a>"
      ],
      "text/plain": [
       "<IPython.core.display.HTML object>"
      ]
     },
     "metadata": {},
     "output_type": "display_data"
    },
    {
     "data": {
      "text/html": [
       " View project at <a href='https://wandb.ai/rl_shobhith/uncategorized' target=\"_blank\">https://wandb.ai/rl_shobhith/uncategorized</a>"
      ],
      "text/plain": [
       "<IPython.core.display.HTML object>"
      ]
     },
     "metadata": {},
     "output_type": "display_data"
    },
    {
     "data": {
      "text/html": [
       " View sweep at <a href='https://wandb.ai/rl_shobhith/uncategorized/sweeps/yivd2k4v' target=\"_blank\">https://wandb.ai/rl_shobhith/uncategorized/sweeps/yivd2k4v</a>"
      ],
      "text/plain": [
       "<IPython.core.display.HTML object>"
      ]
     },
     "metadata": {},
     "output_type": "display_data"
    },
    {
     "data": {
      "text/html": [
       " View run at <a href='https://wandb.ai/rl_shobhith/uncategorized/runs/34bnjktg/workspace' target=\"_blank\">https://wandb.ai/rl_shobhith/uncategorized/runs/34bnjktg/workspace</a>"
      ],
      "text/plain": [
       "<IPython.core.display.HTML object>"
      ]
     },
     "metadata": {},
     "output_type": "display_data"
    },
    {
     "name": "stderr",
     "output_type": "stream",
     "text": [
      "Iteration 0: 100%|██████████| 50/50 [00:31<00:00,  1.59it/s, episode_return=50, return=-500.000]\n",
      "Iteration 1: 100%|██████████| 50/50 [00:37<00:00,  1.34it/s, episode_return=100, return=-500.000]\n",
      "Iteration 2: 100%|██████████| 50/50 [00:35<00:00,  1.40it/s, episode_return=150, return=-500.000]\n",
      "Iteration 3: 100%|██████████| 50/50 [00:31<00:00,  1.59it/s, episode_return=200, return=-500.000]\n",
      "Iteration 4: 100%|██████████| 50/50 [00:30<00:00,  1.65it/s, episode_return=250, return=-500.000]\n",
      "Iteration 5: 100%|██████████| 50/50 [00:31<00:00,  1.60it/s, episode_return=300, return=-500.000]\n",
      "Iteration 6: 100%|██████████| 50/50 [00:29<00:00,  1.67it/s, episode_return=350, return=-500.000]\n",
      "Iteration 7: 100%|██████████| 50/50 [00:30<00:00,  1.64it/s, episode_return=400, return=-500.000]\n",
      "Iteration 8: 100%|██████████| 50/50 [00:29<00:00,  1.71it/s, episode_return=450, return=-500.000]\n",
      "Iteration 9: 100%|██████████| 50/50 [00:31<00:00,  1.60it/s, episode_return=500, return=-500.000]\n"
     ]
    },
    {
     "data": {
      "application/vnd.jupyter.widget-view+json": {
       "model_id": "e53e9cda96264d22b9da56c757be0f4a",
       "version_major": 2,
       "version_minor": 0
      },
      "text/plain": [
       "VBox(children=(Label(value='0.001 MB of 0.001 MB uploaded\\r'), FloatProgress(value=1.0, max=1.0)))"
      ]
     },
     "metadata": {},
     "output_type": "display_data"
    },
    {
     "data": {
      "text/html": [
       "<style>\n",
       "    table.wandb td:nth-child(1) { padding: 0 10px; text-align: left ; width: auto;} td:nth-child(2) {text-align: left ; width: 100%}\n",
       "    .wandb-row { display: flex; flex-direction: row; flex-wrap: wrap; justify-content: flex-start; width: 100% }\n",
       "    .wandb-col { display: flex; flex-direction: column; flex-basis: 100%; flex: 1; padding: 10px; }\n",
       "    </style>\n",
       "<div class=\"wandb-row\"><div class=\"wandb-col\"><h3>Run history:</h3><br/><table class=\"wandb\"><tr><td>regret</td><td>▁</td></tr></table><br/></div><div class=\"wandb-col\"><h3>Run summary:</h3><br/><table class=\"wandb\"><tr><td>regret</td><td>249459.48304</td></tr></table><br/></div></div>"
      ],
      "text/plain": [
       "<IPython.core.display.HTML object>"
      ]
     },
     "metadata": {},
     "output_type": "display_data"
    },
    {
     "data": {
      "text/html": [
       " View run <strong style=\"color:#cdcd00\">woven-sweep-18</strong> at: <a href='https://wandb.ai/rl_shobhith/uncategorized/runs/34bnjktg/workspace' target=\"_blank\">https://wandb.ai/rl_shobhith/uncategorized/runs/34bnjktg/workspace</a><br/>Synced 5 W&B file(s), 0 media file(s), 0 artifact file(s) and 0 other file(s)"
      ],
      "text/plain": [
       "<IPython.core.display.HTML object>"
      ]
     },
     "metadata": {},
     "output_type": "display_data"
    },
    {
     "data": {
      "text/html": [
       "Find logs at: <code>.\\wandb\\run-20240402_011215-34bnjktg\\logs</code>"
      ],
      "text/plain": [
       "<IPython.core.display.HTML object>"
      ]
     },
     "metadata": {},
     "output_type": "display_data"
    },
    {
     "name": "stderr",
     "output_type": "stream",
     "text": [
      "\u001b[34m\u001b[1mwandb\u001b[0m: Agent Starting Run: e0mvwyiu with config:\n",
      "\u001b[34m\u001b[1mwandb\u001b[0m: \thidden_dim: 256\n",
      "\u001b[34m\u001b[1mwandb\u001b[0m: \tlearning_rate: 0.0007469597628320514\n",
      "Failed to detect the name of this notebook, you can set it manually with the WANDB_NOTEBOOK_NAME environment variable to enable code saving.\n",
      "\u001b[34m\u001b[1mwandb\u001b[0m: \u001b[33mWARNING\u001b[0m Ignored wandb.init() arg project when running a sweep.\n"
     ]
    },
    {
     "data": {
      "application/vnd.jupyter.widget-view+json": {
       "model_id": "5ef4d341e56e4ca993c984fca719445c",
       "version_major": 2,
       "version_minor": 0
      },
      "text/plain": [
       "VBox(children=(Label(value='Waiting for wandb.init()...\\r'), FloatProgress(value=0.011277777777932999, max=1.0…"
      ]
     },
     "metadata": {},
     "output_type": "display_data"
    },
    {
     "data": {
      "text/html": [
       "Tracking run with wandb version 0.16.5"
      ],
      "text/plain": [
       "<IPython.core.display.HTML object>"
      ]
     },
     "metadata": {},
     "output_type": "display_data"
    },
    {
     "data": {
      "text/html": [
       "Run data is saved locally in <code>c:\\Users\\Shobhith Vadlamudi\\AppData\\Local\\Programs\\Microsoft VS Code\\wandb\\run-20240402_011748-e0mvwyiu</code>"
      ],
      "text/plain": [
       "<IPython.core.display.HTML object>"
      ]
     },
     "metadata": {},
     "output_type": "display_data"
    },
    {
     "data": {
      "text/html": [
       "Syncing run <strong><a href='https://wandb.ai/rl_shobhith/uncategorized/runs/e0mvwyiu/workspace' target=\"_blank\">faithful-sweep-19</a></strong> to <a href='https://wandb.ai/rl_shobhith/uncategorized' target=\"_blank\">Weights & Biases</a> (<a href='https://wandb.me/run' target=\"_blank\">docs</a>)<br/>Sweep page: <a href='https://wandb.ai/rl_shobhith/uncategorized/sweeps/yivd2k4v' target=\"_blank\">https://wandb.ai/rl_shobhith/uncategorized/sweeps/yivd2k4v</a>"
      ],
      "text/plain": [
       "<IPython.core.display.HTML object>"
      ]
     },
     "metadata": {},
     "output_type": "display_data"
    },
    {
     "data": {
      "text/html": [
       " View project at <a href='https://wandb.ai/rl_shobhith/uncategorized' target=\"_blank\">https://wandb.ai/rl_shobhith/uncategorized</a>"
      ],
      "text/plain": [
       "<IPython.core.display.HTML object>"
      ]
     },
     "metadata": {},
     "output_type": "display_data"
    },
    {
     "data": {
      "text/html": [
       " View sweep at <a href='https://wandb.ai/rl_shobhith/uncategorized/sweeps/yivd2k4v' target=\"_blank\">https://wandb.ai/rl_shobhith/uncategorized/sweeps/yivd2k4v</a>"
      ],
      "text/plain": [
       "<IPython.core.display.HTML object>"
      ]
     },
     "metadata": {},
     "output_type": "display_data"
    },
    {
     "data": {
      "text/html": [
       " View run at <a href='https://wandb.ai/rl_shobhith/uncategorized/runs/e0mvwyiu/workspace' target=\"_blank\">https://wandb.ai/rl_shobhith/uncategorized/runs/e0mvwyiu/workspace</a>"
      ],
      "text/plain": [
       "<IPython.core.display.HTML object>"
      ]
     },
     "metadata": {},
     "output_type": "display_data"
    },
    {
     "name": "stderr",
     "output_type": "stream",
     "text": [
      "Iteration 0: 100%|██████████| 50/50 [00:35<00:00,  1.39it/s, episode_return=50, return=-500.000]\n",
      "Iteration 1: 100%|██████████| 50/50 [00:37<00:00,  1.32it/s, episode_return=100, return=-500.000]\n",
      "Iteration 2: 100%|██████████| 50/50 [00:34<00:00,  1.46it/s, episode_return=150, return=-423.400]\n",
      "Iteration 3: 100%|██████████| 50/50 [00:18<00:00,  2.67it/s, episode_return=200, return=-187.500]\n",
      "Iteration 4: 100%|██████████| 50/50 [00:15<00:00,  3.30it/s, episode_return=250, return=-189.300]\n",
      "Iteration 5: 100%|██████████| 50/50 [00:12<00:00,  4.14it/s, episode_return=300, return=-106.700]\n",
      "Iteration 6: 100%|██████████| 50/50 [00:09<00:00,  5.51it/s, episode_return=350, return=-112.100]\n",
      "Iteration 7: 100%|██████████| 50/50 [00:08<00:00,  5.75it/s, episode_return=400, return=-125.700]\n",
      "Iteration 8: 100%|██████████| 50/50 [00:08<00:00,  6.03it/s, episode_return=450, return=-121.600]\n",
      "Iteration 9: 100%|██████████| 50/50 [00:08<00:00,  6.16it/s, episode_return=500, return=-122.500]\n"
     ]
    },
    {
     "data": {
      "application/vnd.jupyter.widget-view+json": {
       "model_id": "a981e279dc314f969937ec7e36b48703",
       "version_major": 2,
       "version_minor": 0
      },
      "text/plain": [
       "VBox(children=(Label(value='0.001 MB of 0.001 MB uploaded\\r'), FloatProgress(value=1.0, max=1.0)))"
      ]
     },
     "metadata": {},
     "output_type": "display_data"
    },
    {
     "data": {
      "text/html": [
       "<style>\n",
       "    table.wandb td:nth-child(1) { padding: 0 10px; text-align: left ; width: auto;} td:nth-child(2) {text-align: left ; width: 100%}\n",
       "    .wandb-row { display: flex; flex-direction: row; flex-wrap: wrap; justify-content: flex-start; width: 100% }\n",
       "    .wandb-col { display: flex; flex-direction: column; flex-basis: 100%; flex: 1; padding: 10px; }\n",
       "    </style>\n",
       "<div class=\"wandb-row\"><div class=\"wandb-col\"><h3>Run history:</h3><br/><table class=\"wandb\"><tr><td>regret</td><td>▁</td></tr></table><br/></div><div class=\"wandb-col\"><h3>Run summary:</h3><br/><table class=\"wandb\"><tr><td>regret</td><td>144391.31683</td></tr></table><br/></div></div>"
      ],
      "text/plain": [
       "<IPython.core.display.HTML object>"
      ]
     },
     "metadata": {},
     "output_type": "display_data"
    },
    {
     "data": {
      "text/html": [
       " View run <strong style=\"color:#cdcd00\">faithful-sweep-19</strong> at: <a href='https://wandb.ai/rl_shobhith/uncategorized/runs/e0mvwyiu/workspace' target=\"_blank\">https://wandb.ai/rl_shobhith/uncategorized/runs/e0mvwyiu/workspace</a><br/>Synced 5 W&B file(s), 0 media file(s), 0 artifact file(s) and 0 other file(s)"
      ],
      "text/plain": [
       "<IPython.core.display.HTML object>"
      ]
     },
     "metadata": {},
     "output_type": "display_data"
    },
    {
     "data": {
      "text/html": [
       "Find logs at: <code>.\\wandb\\run-20240402_011748-e0mvwyiu\\logs</code>"
      ],
      "text/plain": [
       "<IPython.core.display.HTML object>"
      ]
     },
     "metadata": {},
     "output_type": "display_data"
    },
    {
     "name": "stderr",
     "output_type": "stream",
     "text": [
      "\u001b[34m\u001b[1mwandb\u001b[0m: Agent Starting Run: lca4ropj with config:\n",
      "\u001b[34m\u001b[1mwandb\u001b[0m: \thidden_dim: 256\n",
      "\u001b[34m\u001b[1mwandb\u001b[0m: \tlearning_rate: 0.006588492510516708\n",
      "Failed to detect the name of this notebook, you can set it manually with the WANDB_NOTEBOOK_NAME environment variable to enable code saving.\n",
      "\u001b[34m\u001b[1mwandb\u001b[0m: \u001b[33mWARNING\u001b[0m Ignored wandb.init() arg project when running a sweep.\n"
     ]
    },
    {
     "data": {
      "text/html": [
       "Tracking run with wandb version 0.16.5"
      ],
      "text/plain": [
       "<IPython.core.display.HTML object>"
      ]
     },
     "metadata": {},
     "output_type": "display_data"
    },
    {
     "data": {
      "text/html": [
       "Run data is saved locally in <code>c:\\Users\\Shobhith Vadlamudi\\AppData\\Local\\Programs\\Microsoft VS Code\\wandb\\run-20240402_012111-lca4ropj</code>"
      ],
      "text/plain": [
       "<IPython.core.display.HTML object>"
      ]
     },
     "metadata": {},
     "output_type": "display_data"
    },
    {
     "data": {
      "text/html": [
       "Syncing run <strong><a href='https://wandb.ai/rl_shobhith/uncategorized/runs/lca4ropj/workspace' target=\"_blank\">frosty-sweep-20</a></strong> to <a href='https://wandb.ai/rl_shobhith/uncategorized' target=\"_blank\">Weights & Biases</a> (<a href='https://wandb.me/run' target=\"_blank\">docs</a>)<br/>Sweep page: <a href='https://wandb.ai/rl_shobhith/uncategorized/sweeps/yivd2k4v' target=\"_blank\">https://wandb.ai/rl_shobhith/uncategorized/sweeps/yivd2k4v</a>"
      ],
      "text/plain": [
       "<IPython.core.display.HTML object>"
      ]
     },
     "metadata": {},
     "output_type": "display_data"
    },
    {
     "data": {
      "text/html": [
       " View project at <a href='https://wandb.ai/rl_shobhith/uncategorized' target=\"_blank\">https://wandb.ai/rl_shobhith/uncategorized</a>"
      ],
      "text/plain": [
       "<IPython.core.display.HTML object>"
      ]
     },
     "metadata": {},
     "output_type": "display_data"
    },
    {
     "data": {
      "text/html": [
       " View sweep at <a href='https://wandb.ai/rl_shobhith/uncategorized/sweeps/yivd2k4v' target=\"_blank\">https://wandb.ai/rl_shobhith/uncategorized/sweeps/yivd2k4v</a>"
      ],
      "text/plain": [
       "<IPython.core.display.HTML object>"
      ]
     },
     "metadata": {},
     "output_type": "display_data"
    },
    {
     "data": {
      "text/html": [
       " View run at <a href='https://wandb.ai/rl_shobhith/uncategorized/runs/lca4ropj/workspace' target=\"_blank\">https://wandb.ai/rl_shobhith/uncategorized/runs/lca4ropj/workspace</a>"
      ],
      "text/plain": [
       "<IPython.core.display.HTML object>"
      ]
     },
     "metadata": {},
     "output_type": "display_data"
    },
    {
     "name": "stderr",
     "output_type": "stream",
     "text": [
      "Iteration 0: 100%|██████████| 50/50 [00:11<00:00,  4.52it/s, episode_return=50, return=-164.400]\n",
      "Iteration 1: 100%|██████████| 50/50 [00:09<00:00,  5.03it/s, episode_return=100, return=-113.800]\n",
      "Iteration 2: 100%|██████████| 50/50 [00:06<00:00,  7.52it/s, episode_return=150, return=-85.900]\n",
      "Iteration 3: 100%|██████████| 50/50 [00:07<00:00,  7.04it/s, episode_return=200, return=-84.900]\n",
      "Iteration 4: 100%|██████████| 50/50 [00:08<00:00,  5.96it/s, episode_return=250, return=-140.500]\n",
      "Iteration 5: 100%|██████████| 50/50 [00:31<00:00,  1.58it/s, episode_return=300, return=-500.000]\n",
      "Iteration 6: 100%|██████████| 50/50 [00:35<00:00,  1.39it/s, episode_return=350, return=-500.000]\n",
      "Iteration 7: 100%|██████████| 50/50 [00:35<00:00,  1.43it/s, episode_return=400, return=-500.000]\n",
      "Iteration 8: 100%|██████████| 50/50 [00:35<00:00,  1.40it/s, episode_return=450, return=-500.000]\n",
      "Iteration 9: 100%|██████████| 50/50 [00:35<00:00,  1.41it/s, episode_return=500, return=-500.000]\n"
     ]
    },
    {
     "data": {
      "application/vnd.jupyter.widget-view+json": {
       "model_id": "6d5db30f9a614a648a30224b9c2582e9",
       "version_major": 2,
       "version_minor": 0
      },
      "text/plain": [
       "VBox(children=(Label(value='0.001 MB of 0.001 MB uploaded\\r'), FloatProgress(value=1.0, max=1.0)))"
      ]
     },
     "metadata": {},
     "output_type": "display_data"
    },
    {
     "data": {
      "text/html": [
       "<style>\n",
       "    table.wandb td:nth-child(1) { padding: 0 10px; text-align: left ; width: auto;} td:nth-child(2) {text-align: left ; width: 100%}\n",
       "    .wandb-row { display: flex; flex-direction: row; flex-wrap: wrap; justify-content: flex-start; width: 100% }\n",
       "    .wandb-col { display: flex; flex-direction: column; flex-basis: 100%; flex: 1; padding: 10px; }\n",
       "    </style>\n",
       "<div class=\"wandb-row\"><div class=\"wandb-col\"><h3>Run history:</h3><br/><table class=\"wandb\"><tr><td>regret</td><td>▁</td></tr></table><br/></div><div class=\"wandb-col\"><h3>Run summary:</h3><br/><table class=\"wandb\"><tr><td>regret</td><td>134860.45175</td></tr></table><br/></div></div>"
      ],
      "text/plain": [
       "<IPython.core.display.HTML object>"
      ]
     },
     "metadata": {},
     "output_type": "display_data"
    },
    {
     "data": {
      "text/html": [
       " View run <strong style=\"color:#cdcd00\">frosty-sweep-20</strong> at: <a href='https://wandb.ai/rl_shobhith/uncategorized/runs/lca4ropj/workspace' target=\"_blank\">https://wandb.ai/rl_shobhith/uncategorized/runs/lca4ropj/workspace</a><br/>Synced 5 W&B file(s), 0 media file(s), 0 artifact file(s) and 0 other file(s)"
      ],
      "text/plain": [
       "<IPython.core.display.HTML object>"
      ]
     },
     "metadata": {},
     "output_type": "display_data"
    },
    {
     "data": {
      "text/html": [
       "Find logs at: <code>.\\wandb\\run-20240402_012111-lca4ropj\\logs</code>"
      ],
      "text/plain": [
       "<IPython.core.display.HTML object>"
      ]
     },
     "metadata": {},
     "output_type": "display_data"
    },
    {
     "name": "stderr",
     "output_type": "stream",
     "text": [
      "\u001b[34m\u001b[1mwandb\u001b[0m: Agent Starting Run: r0elrjcj with config:\n",
      "\u001b[34m\u001b[1mwandb\u001b[0m: \thidden_dim: 128\n",
      "\u001b[34m\u001b[1mwandb\u001b[0m: \tlearning_rate: 0.002146067857693506\n",
      "Failed to detect the name of this notebook, you can set it manually with the WANDB_NOTEBOOK_NAME environment variable to enable code saving.\n",
      "\u001b[34m\u001b[1mwandb\u001b[0m: \u001b[33mWARNING\u001b[0m Ignored wandb.init() arg project when running a sweep.\n"
     ]
    },
    {
     "data": {
      "text/html": [
       "Tracking run with wandb version 0.16.5"
      ],
      "text/plain": [
       "<IPython.core.display.HTML object>"
      ]
     },
     "metadata": {},
     "output_type": "display_data"
    },
    {
     "data": {
      "text/html": [
       "Run data is saved locally in <code>c:\\Users\\Shobhith Vadlamudi\\AppData\\Local\\Programs\\Microsoft VS Code\\wandb\\run-20240402_012503-r0elrjcj</code>"
      ],
      "text/plain": [
       "<IPython.core.display.HTML object>"
      ]
     },
     "metadata": {},
     "output_type": "display_data"
    },
    {
     "data": {
      "text/html": [
       "Syncing run <strong><a href='https://wandb.ai/rl_shobhith/uncategorized/runs/r0elrjcj/workspace' target=\"_blank\">distinctive-sweep-21</a></strong> to <a href='https://wandb.ai/rl_shobhith/uncategorized' target=\"_blank\">Weights & Biases</a> (<a href='https://wandb.me/run' target=\"_blank\">docs</a>)<br/>Sweep page: <a href='https://wandb.ai/rl_shobhith/uncategorized/sweeps/yivd2k4v' target=\"_blank\">https://wandb.ai/rl_shobhith/uncategorized/sweeps/yivd2k4v</a>"
      ],
      "text/plain": [
       "<IPython.core.display.HTML object>"
      ]
     },
     "metadata": {},
     "output_type": "display_data"
    },
    {
     "data": {
      "text/html": [
       " View project at <a href='https://wandb.ai/rl_shobhith/uncategorized' target=\"_blank\">https://wandb.ai/rl_shobhith/uncategorized</a>"
      ],
      "text/plain": [
       "<IPython.core.display.HTML object>"
      ]
     },
     "metadata": {},
     "output_type": "display_data"
    },
    {
     "data": {
      "text/html": [
       " View sweep at <a href='https://wandb.ai/rl_shobhith/uncategorized/sweeps/yivd2k4v' target=\"_blank\">https://wandb.ai/rl_shobhith/uncategorized/sweeps/yivd2k4v</a>"
      ],
      "text/plain": [
       "<IPython.core.display.HTML object>"
      ]
     },
     "metadata": {},
     "output_type": "display_data"
    },
    {
     "data": {
      "text/html": [
       " View run at <a href='https://wandb.ai/rl_shobhith/uncategorized/runs/r0elrjcj/workspace' target=\"_blank\">https://wandb.ai/rl_shobhith/uncategorized/runs/r0elrjcj/workspace</a>"
      ],
      "text/plain": [
       "<IPython.core.display.HTML object>"
      ]
     },
     "metadata": {},
     "output_type": "display_data"
    },
    {
     "name": "stderr",
     "output_type": "stream",
     "text": [
      "Iteration 0: 100%|██████████| 50/50 [00:15<00:00,  3.28it/s, episode_return=50, return=-136.600]\n",
      "Iteration 1: 100%|██████████| 50/50 [00:09<00:00,  5.19it/s, episode_return=100, return=-147.700]\n",
      "Iteration 2: 100%|██████████| 50/50 [00:09<00:00,  5.04it/s, episode_return=150, return=-141.600]\n",
      "Iteration 3: 100%|██████████| 50/50 [00:09<00:00,  5.13it/s, episode_return=200, return=-134.500]\n",
      "Iteration 4: 100%|██████████| 50/50 [00:11<00:00,  4.51it/s, episode_return=250, return=-140.200]\n",
      "Iteration 5: 100%|██████████| 50/50 [00:10<00:00,  4.76it/s, episode_return=300, return=-149.600]\n",
      "Iteration 6: 100%|██████████| 50/50 [00:09<00:00,  5.33it/s, episode_return=350, return=-123.100]\n",
      "Iteration 7: 100%|██████████| 50/50 [00:08<00:00,  5.92it/s, episode_return=400, return=-129.400]\n",
      "Iteration 8: 100%|██████████| 50/50 [00:07<00:00,  6.61it/s, episode_return=450, return=-107.300]\n",
      "Iteration 9: 100%|██████████| 50/50 [00:08<00:00,  5.80it/s, episode_return=500, return=-118.300]\n"
     ]
    },
    {
     "data": {
      "application/vnd.jupyter.widget-view+json": {
       "model_id": "ae5c6f492bf74550988899d86d129f24",
       "version_major": 2,
       "version_minor": 0
      },
      "text/plain": [
       "VBox(children=(Label(value='0.001 MB of 0.007 MB uploaded\\r'), FloatProgress(value=0.1664886515353805, max=1.0…"
      ]
     },
     "metadata": {},
     "output_type": "display_data"
    },
    {
     "data": {
      "text/html": [
       "<style>\n",
       "    table.wandb td:nth-child(1) { padding: 0 10px; text-align: left ; width: auto;} td:nth-child(2) {text-align: left ; width: 100%}\n",
       "    .wandb-row { display: flex; flex-direction: row; flex-wrap: wrap; justify-content: flex-start; width: 100% }\n",
       "    .wandb-col { display: flex; flex-direction: column; flex-basis: 100%; flex: 1; padding: 10px; }\n",
       "    </style>\n",
       "<div class=\"wandb-row\"><div class=\"wandb-col\"><h3>Run history:</h3><br/><table class=\"wandb\"><tr><td>regret</td><td>▁</td></tr></table><br/></div><div class=\"wandb-col\"><h3>Run summary:</h3><br/><table class=\"wandb\"><tr><td>regret</td><td>81940.60268</td></tr></table><br/></div></div>"
      ],
      "text/plain": [
       "<IPython.core.display.HTML object>"
      ]
     },
     "metadata": {},
     "output_type": "display_data"
    },
    {
     "data": {
      "text/html": [
       " View run <strong style=\"color:#cdcd00\">distinctive-sweep-21</strong> at: <a href='https://wandb.ai/rl_shobhith/uncategorized/runs/r0elrjcj/workspace' target=\"_blank\">https://wandb.ai/rl_shobhith/uncategorized/runs/r0elrjcj/workspace</a><br/>Synced 5 W&B file(s), 0 media file(s), 0 artifact file(s) and 0 other file(s)"
      ],
      "text/plain": [
       "<IPython.core.display.HTML object>"
      ]
     },
     "metadata": {},
     "output_type": "display_data"
    },
    {
     "data": {
      "text/html": [
       "Find logs at: <code>.\\wandb\\run-20240402_012503-r0elrjcj\\logs</code>"
      ],
      "text/plain": [
       "<IPython.core.display.HTML object>"
      ]
     },
     "metadata": {},
     "output_type": "display_data"
    },
    {
     "name": "stderr",
     "output_type": "stream",
     "text": [
      "\u001b[34m\u001b[1mwandb\u001b[0m: Agent Starting Run: engyj8ce with config:\n",
      "\u001b[34m\u001b[1mwandb\u001b[0m: \thidden_dim: 128\n",
      "\u001b[34m\u001b[1mwandb\u001b[0m: \tlearning_rate: 0.0011635270672414912\n",
      "Failed to detect the name of this notebook, you can set it manually with the WANDB_NOTEBOOK_NAME environment variable to enable code saving.\n",
      "\u001b[34m\u001b[1mwandb\u001b[0m: \u001b[33mWARNING\u001b[0m Ignored wandb.init() arg project when running a sweep.\n"
     ]
    },
    {
     "data": {
      "text/html": [
       "Tracking run with wandb version 0.16.5"
      ],
      "text/plain": [
       "<IPython.core.display.HTML object>"
      ]
     },
     "metadata": {},
     "output_type": "display_data"
    },
    {
     "data": {
      "text/html": [
       "Run data is saved locally in <code>c:\\Users\\Shobhith Vadlamudi\\AppData\\Local\\Programs\\Microsoft VS Code\\wandb\\run-20240402_012653-engyj8ce</code>"
      ],
      "text/plain": [
       "<IPython.core.display.HTML object>"
      ]
     },
     "metadata": {},
     "output_type": "display_data"
    },
    {
     "data": {
      "text/html": [
       "Syncing run <strong><a href='https://wandb.ai/rl_shobhith/uncategorized/runs/engyj8ce/workspace' target=\"_blank\">decent-sweep-22</a></strong> to <a href='https://wandb.ai/rl_shobhith/uncategorized' target=\"_blank\">Weights & Biases</a> (<a href='https://wandb.me/run' target=\"_blank\">docs</a>)<br/>Sweep page: <a href='https://wandb.ai/rl_shobhith/uncategorized/sweeps/yivd2k4v' target=\"_blank\">https://wandb.ai/rl_shobhith/uncategorized/sweeps/yivd2k4v</a>"
      ],
      "text/plain": [
       "<IPython.core.display.HTML object>"
      ]
     },
     "metadata": {},
     "output_type": "display_data"
    },
    {
     "data": {
      "text/html": [
       " View project at <a href='https://wandb.ai/rl_shobhith/uncategorized' target=\"_blank\">https://wandb.ai/rl_shobhith/uncategorized</a>"
      ],
      "text/plain": [
       "<IPython.core.display.HTML object>"
      ]
     },
     "metadata": {},
     "output_type": "display_data"
    },
    {
     "data": {
      "text/html": [
       " View sweep at <a href='https://wandb.ai/rl_shobhith/uncategorized/sweeps/yivd2k4v' target=\"_blank\">https://wandb.ai/rl_shobhith/uncategorized/sweeps/yivd2k4v</a>"
      ],
      "text/plain": [
       "<IPython.core.display.HTML object>"
      ]
     },
     "metadata": {},
     "output_type": "display_data"
    },
    {
     "data": {
      "text/html": [
       " View run at <a href='https://wandb.ai/rl_shobhith/uncategorized/runs/engyj8ce/workspace' target=\"_blank\">https://wandb.ai/rl_shobhith/uncategorized/runs/engyj8ce/workspace</a>"
      ],
      "text/plain": [
       "<IPython.core.display.HTML object>"
      ]
     },
     "metadata": {},
     "output_type": "display_data"
    },
    {
     "name": "stderr",
     "output_type": "stream",
     "text": [
      "Iteration 0: 100%|██████████| 50/50 [00:30<00:00,  1.62it/s, episode_return=50, return=-454.500]\n",
      "Iteration 1: 100%|██████████| 50/50 [00:29<00:00,  1.70it/s, episode_return=100, return=-428.100]\n",
      "Iteration 2: 100%|██████████| 50/50 [00:18<00:00,  2.76it/s, episode_return=150, return=-214.200]\n",
      "Iteration 3: 100%|██████████| 50/50 [00:14<00:00,  3.52it/s, episode_return=200, return=-254.000]\n",
      "Iteration 4: 100%|██████████| 50/50 [00:11<00:00,  4.43it/s, episode_return=250, return=-164.800]\n",
      "Iteration 5: 100%|██████████| 50/50 [00:10<00:00,  4.87it/s, episode_return=300, return=-139.900]\n",
      "Iteration 6: 100%|██████████| 50/50 [00:09<00:00,  5.24it/s, episode_return=350, return=-129.200]\n",
      "Iteration 7: 100%|██████████| 50/50 [00:08<00:00,  5.61it/s, episode_return=400, return=-115.800]\n",
      "Iteration 8: 100%|██████████| 50/50 [00:08<00:00,  5.81it/s, episode_return=450, return=-140.300]\n",
      "Iteration 9: 100%|██████████| 50/50 [00:09<00:00,  5.27it/s, episode_return=500, return=-163.500]\n"
     ]
    },
    {
     "data": {
      "application/vnd.jupyter.widget-view+json": {
       "model_id": "7660c416cdf740a3bd9e0cbafceb542f",
       "version_major": 2,
       "version_minor": 0
      },
      "text/plain": [
       "VBox(children=(Label(value='0.001 MB of 0.001 MB uploaded\\r'), FloatProgress(value=1.0, max=1.0)))"
      ]
     },
     "metadata": {},
     "output_type": "display_data"
    },
    {
     "data": {
      "text/html": [
       "<style>\n",
       "    table.wandb td:nth-child(1) { padding: 0 10px; text-align: left ; width: auto;} td:nth-child(2) {text-align: left ; width: 100%}\n",
       "    .wandb-row { display: flex; flex-direction: row; flex-wrap: wrap; justify-content: flex-start; width: 100% }\n",
       "    .wandb-col { display: flex; flex-direction: column; flex-basis: 100%; flex: 1; padding: 10px; }\n",
       "    </style>\n",
       "<div class=\"wandb-row\"><div class=\"wandb-col\"><h3>Run history:</h3><br/><table class=\"wandb\"><tr><td>regret</td><td>▁</td></tr></table><br/></div><div class=\"wandb-col\"><h3>Run summary:</h3><br/><table class=\"wandb\"><tr><td>regret</td><td>124594.80881</td></tr></table><br/></div></div>"
      ],
      "text/plain": [
       "<IPython.core.display.HTML object>"
      ]
     },
     "metadata": {},
     "output_type": "display_data"
    },
    {
     "data": {
      "text/html": [
       " View run <strong style=\"color:#cdcd00\">decent-sweep-22</strong> at: <a href='https://wandb.ai/rl_shobhith/uncategorized/runs/engyj8ce/workspace' target=\"_blank\">https://wandb.ai/rl_shobhith/uncategorized/runs/engyj8ce/workspace</a><br/>Synced 5 W&B file(s), 0 media file(s), 0 artifact file(s) and 0 other file(s)"
      ],
      "text/plain": [
       "<IPython.core.display.HTML object>"
      ]
     },
     "metadata": {},
     "output_type": "display_data"
    },
    {
     "data": {
      "text/html": [
       "Find logs at: <code>.\\wandb\\run-20240402_012653-engyj8ce\\logs</code>"
      ],
      "text/plain": [
       "<IPython.core.display.HTML object>"
      ]
     },
     "metadata": {},
     "output_type": "display_data"
    },
    {
     "name": "stderr",
     "output_type": "stream",
     "text": [
      "\u001b[34m\u001b[1mwandb\u001b[0m: Agent Starting Run: i4hdtwng with config:\n",
      "\u001b[34m\u001b[1mwandb\u001b[0m: \thidden_dim: 128\n",
      "\u001b[34m\u001b[1mwandb\u001b[0m: \tlearning_rate: 0.008039208063719692\n",
      "Failed to detect the name of this notebook, you can set it manually with the WANDB_NOTEBOOK_NAME environment variable to enable code saving.\n",
      "\u001b[34m\u001b[1mwandb\u001b[0m: \u001b[33mWARNING\u001b[0m Ignored wandb.init() arg project when running a sweep.\n"
     ]
    },
    {
     "data": {
      "text/html": [
       "Tracking run with wandb version 0.16.5"
      ],
      "text/plain": [
       "<IPython.core.display.HTML object>"
      ]
     },
     "metadata": {},
     "output_type": "display_data"
    },
    {
     "data": {
      "text/html": [
       "Run data is saved locally in <code>c:\\Users\\Shobhith Vadlamudi\\AppData\\Local\\Programs\\Microsoft VS Code\\wandb\\run-20240402_012938-i4hdtwng</code>"
      ],
      "text/plain": [
       "<IPython.core.display.HTML object>"
      ]
     },
     "metadata": {},
     "output_type": "display_data"
    },
    {
     "data": {
      "text/html": [
       "Syncing run <strong><a href='https://wandb.ai/rl_shobhith/uncategorized/runs/i4hdtwng/workspace' target=\"_blank\">deep-sweep-23</a></strong> to <a href='https://wandb.ai/rl_shobhith/uncategorized' target=\"_blank\">Weights & Biases</a> (<a href='https://wandb.me/run' target=\"_blank\">docs</a>)<br/>Sweep page: <a href='https://wandb.ai/rl_shobhith/uncategorized/sweeps/yivd2k4v' target=\"_blank\">https://wandb.ai/rl_shobhith/uncategorized/sweeps/yivd2k4v</a>"
      ],
      "text/plain": [
       "<IPython.core.display.HTML object>"
      ]
     },
     "metadata": {},
     "output_type": "display_data"
    },
    {
     "data": {
      "text/html": [
       " View project at <a href='https://wandb.ai/rl_shobhith/uncategorized' target=\"_blank\">https://wandb.ai/rl_shobhith/uncategorized</a>"
      ],
      "text/plain": [
       "<IPython.core.display.HTML object>"
      ]
     },
     "metadata": {},
     "output_type": "display_data"
    },
    {
     "data": {
      "text/html": [
       " View sweep at <a href='https://wandb.ai/rl_shobhith/uncategorized/sweeps/yivd2k4v' target=\"_blank\">https://wandb.ai/rl_shobhith/uncategorized/sweeps/yivd2k4v</a>"
      ],
      "text/plain": [
       "<IPython.core.display.HTML object>"
      ]
     },
     "metadata": {},
     "output_type": "display_data"
    },
    {
     "data": {
      "text/html": [
       " View run at <a href='https://wandb.ai/rl_shobhith/uncategorized/runs/i4hdtwng/workspace' target=\"_blank\">https://wandb.ai/rl_shobhith/uncategorized/runs/i4hdtwng/workspace</a>"
      ],
      "text/plain": [
       "<IPython.core.display.HTML object>"
      ]
     },
     "metadata": {},
     "output_type": "display_data"
    },
    {
     "name": "stderr",
     "output_type": "stream",
     "text": [
      "Iteration 0: 100%|██████████| 50/50 [00:32<00:00,  1.56it/s, episode_return=50, return=-500.000]\n",
      "Iteration 1: 100%|██████████| 50/50 [00:32<00:00,  1.55it/s, episode_return=100, return=-500.000]\n",
      "Iteration 2: 100%|██████████| 50/50 [00:32<00:00,  1.52it/s, episode_return=150, return=-500.000]\n",
      "Iteration 3: 100%|██████████| 50/50 [00:32<00:00,  1.55it/s, episode_return=200, return=-500.000]\n",
      "Iteration 4: 100%|██████████| 50/50 [00:32<00:00,  1.52it/s, episode_return=250, return=-500.000]\n",
      "Iteration 5: 100%|██████████| 50/50 [00:32<00:00,  1.52it/s, episode_return=300, return=-500.000]\n",
      "Iteration 6: 100%|██████████| 50/50 [00:35<00:00,  1.39it/s, episode_return=350, return=-500.000]\n",
      "Iteration 7: 100%|██████████| 50/50 [00:34<00:00,  1.46it/s, episode_return=400, return=-500.000]\n",
      "Iteration 8: 100%|██████████| 50/50 [00:32<00:00,  1.53it/s, episode_return=450, return=-500.000]\n",
      "Iteration 9: 100%|██████████| 50/50 [00:32<00:00,  1.53it/s, episode_return=500, return=-500.000]\n"
     ]
    },
    {
     "data": {
      "application/vnd.jupyter.widget-view+json": {
       "model_id": "a915855c3c544eee8ac43deadcff1166",
       "version_major": 2,
       "version_minor": 0
      },
      "text/plain": [
       "VBox(children=(Label(value='0.001 MB of 0.001 MB uploaded\\r'), FloatProgress(value=1.0, max=1.0)))"
      ]
     },
     "metadata": {},
     "output_type": "display_data"
    },
    {
     "data": {
      "text/html": [
       "<style>\n",
       "    table.wandb td:nth-child(1) { padding: 0 10px; text-align: left ; width: auto;} td:nth-child(2) {text-align: left ; width: 100%}\n",
       "    .wandb-row { display: flex; flex-direction: row; flex-wrap: wrap; justify-content: flex-start; width: 100% }\n",
       "    .wandb-col { display: flex; flex-direction: column; flex-basis: 100%; flex: 1; padding: 10px; }\n",
       "    </style>\n",
       "<div class=\"wandb-row\"><div class=\"wandb-col\"><h3>Run history:</h3><br/><table class=\"wandb\"><tr><td>regret</td><td>▁</td></tr></table><br/></div><div class=\"wandb-col\"><h3>Run summary:</h3><br/><table class=\"wandb\"><tr><td>regret</td><td>249813.34935</td></tr></table><br/></div></div>"
      ],
      "text/plain": [
       "<IPython.core.display.HTML object>"
      ]
     },
     "metadata": {},
     "output_type": "display_data"
    },
    {
     "data": {
      "text/html": [
       " View run <strong style=\"color:#cdcd00\">deep-sweep-23</strong> at: <a href='https://wandb.ai/rl_shobhith/uncategorized/runs/i4hdtwng/workspace' target=\"_blank\">https://wandb.ai/rl_shobhith/uncategorized/runs/i4hdtwng/workspace</a><br/>Synced 5 W&B file(s), 0 media file(s), 0 artifact file(s) and 0 other file(s)"
      ],
      "text/plain": [
       "<IPython.core.display.HTML object>"
      ]
     },
     "metadata": {},
     "output_type": "display_data"
    },
    {
     "data": {
      "text/html": [
       "Find logs at: <code>.\\wandb\\run-20240402_012938-i4hdtwng\\logs</code>"
      ],
      "text/plain": [
       "<IPython.core.display.HTML object>"
      ]
     },
     "metadata": {},
     "output_type": "display_data"
    },
    {
     "name": "stderr",
     "output_type": "stream",
     "text": [
      "\u001b[34m\u001b[1mwandb\u001b[0m: Sweep Agent: Waiting for job.\n",
      "\u001b[34m\u001b[1mwandb\u001b[0m: Job received.\n",
      "\u001b[34m\u001b[1mwandb\u001b[0m: Agent Starting Run: ghh5k0jh with config:\n",
      "\u001b[34m\u001b[1mwandb\u001b[0m: \thidden_dim: 256\n",
      "\u001b[34m\u001b[1mwandb\u001b[0m: \tlearning_rate: 0.0019979553144285236\n",
      "Failed to detect the name of this notebook, you can set it manually with the WANDB_NOTEBOOK_NAME environment variable to enable code saving.\n",
      "\u001b[34m\u001b[1mwandb\u001b[0m: \u001b[33mWARNING\u001b[0m Ignored wandb.init() arg project when running a sweep.\n"
     ]
    },
    {
     "data": {
      "application/vnd.jupyter.widget-view+json": {
       "model_id": "4edee8dffda14e4bb116d357f0c382de",
       "version_major": 2,
       "version_minor": 0
      },
      "text/plain": [
       "VBox(children=(Label(value='Waiting for wandb.init()...\\r'), FloatProgress(value=0.011288888888925108, max=1.0…"
      ]
     },
     "metadata": {},
     "output_type": "display_data"
    },
    {
     "data": {
      "text/html": [
       "Tracking run with wandb version 0.16.5"
      ],
      "text/plain": [
       "<IPython.core.display.HTML object>"
      ]
     },
     "metadata": {},
     "output_type": "display_data"
    },
    {
     "data": {
      "text/html": [
       "Run data is saved locally in <code>c:\\Users\\Shobhith Vadlamudi\\AppData\\Local\\Programs\\Microsoft VS Code\\wandb\\run-20240402_013531-ghh5k0jh</code>"
      ],
      "text/plain": [
       "<IPython.core.display.HTML object>"
      ]
     },
     "metadata": {},
     "output_type": "display_data"
    },
    {
     "data": {
      "text/html": [
       "Syncing run <strong><a href='https://wandb.ai/rl_shobhith/uncategorized/runs/ghh5k0jh/workspace' target=\"_blank\">vital-sweep-24</a></strong> to <a href='https://wandb.ai/rl_shobhith/uncategorized' target=\"_blank\">Weights & Biases</a> (<a href='https://wandb.me/run' target=\"_blank\">docs</a>)<br/>Sweep page: <a href='https://wandb.ai/rl_shobhith/uncategorized/sweeps/yivd2k4v' target=\"_blank\">https://wandb.ai/rl_shobhith/uncategorized/sweeps/yivd2k4v</a>"
      ],
      "text/plain": [
       "<IPython.core.display.HTML object>"
      ]
     },
     "metadata": {},
     "output_type": "display_data"
    },
    {
     "data": {
      "text/html": [
       " View project at <a href='https://wandb.ai/rl_shobhith/uncategorized' target=\"_blank\">https://wandb.ai/rl_shobhith/uncategorized</a>"
      ],
      "text/plain": [
       "<IPython.core.display.HTML object>"
      ]
     },
     "metadata": {},
     "output_type": "display_data"
    },
    {
     "data": {
      "text/html": [
       " View sweep at <a href='https://wandb.ai/rl_shobhith/uncategorized/sweeps/yivd2k4v' target=\"_blank\">https://wandb.ai/rl_shobhith/uncategorized/sweeps/yivd2k4v</a>"
      ],
      "text/plain": [
       "<IPython.core.display.HTML object>"
      ]
     },
     "metadata": {},
     "output_type": "display_data"
    },
    {
     "data": {
      "text/html": [
       " View run at <a href='https://wandb.ai/rl_shobhith/uncategorized/runs/ghh5k0jh/workspace' target=\"_blank\">https://wandb.ai/rl_shobhith/uncategorized/runs/ghh5k0jh/workspace</a>"
      ],
      "text/plain": [
       "<IPython.core.display.HTML object>"
      ]
     },
     "metadata": {},
     "output_type": "display_data"
    },
    {
     "name": "stderr",
     "output_type": "stream",
     "text": [
      "Iteration 0: 100%|██████████| 50/50 [00:33<00:00,  1.49it/s, episode_return=50, return=-405.100]\n",
      "Iteration 1: 100%|██████████| 50/50 [00:34<00:00,  1.47it/s, episode_return=100, return=-500.000]\n",
      "Iteration 2: 100%|██████████| 50/50 [00:35<00:00,  1.40it/s, episode_return=150, return=-500.000]\n",
      "Iteration 3: 100%|██████████| 50/50 [00:36<00:00,  1.37it/s, episode_return=200, return=-500.000]\n",
      "Iteration 4: 100%|██████████| 50/50 [00:36<00:00,  1.36it/s, episode_return=250, return=-500.000]\n",
      "Iteration 5: 100%|██████████| 50/50 [00:36<00:00,  1.35it/s, episode_return=300, return=-500.000]\n",
      "Iteration 6: 100%|██████████| 50/50 [00:36<00:00,  1.35it/s, episode_return=350, return=-500.000]\n",
      "Iteration 7: 100%|██████████| 50/50 [00:35<00:00,  1.42it/s, episode_return=400, return=-500.000]\n",
      "Iteration 8: 100%|██████████| 50/50 [00:36<00:00,  1.37it/s, episode_return=450, return=-500.000]\n",
      "Iteration 9: 100%|██████████| 50/50 [00:36<00:00,  1.35it/s, episode_return=500, return=-500.000]\n"
     ]
    },
    {
     "data": {
      "application/vnd.jupyter.widget-view+json": {
       "model_id": "28f0218ee2874a658d385fbafe38f09b",
       "version_major": 2,
       "version_minor": 0
      },
      "text/plain": [
       "VBox(children=(Label(value='0.001 MB of 0.007 MB uploaded\\r'), FloatProgress(value=0.16353852211576322, max=1.…"
      ]
     },
     "metadata": {},
     "output_type": "display_data"
    },
    {
     "data": {
      "text/html": [
       "<style>\n",
       "    table.wandb td:nth-child(1) { padding: 0 10px; text-align: left ; width: auto;} td:nth-child(2) {text-align: left ; width: 100%}\n",
       "    .wandb-row { display: flex; flex-direction: row; flex-wrap: wrap; justify-content: flex-start; width: 100% }\n",
       "    .wandb-col { display: flex; flex-direction: column; flex-basis: 100%; flex: 1; padding: 10px; }\n",
       "    </style>\n",
       "<div class=\"wandb-row\"><div class=\"wandb-col\"><h3>Run history:</h3><br/><table class=\"wandb\"><tr><td>regret</td><td>▁</td></tr></table><br/></div><div class=\"wandb-col\"><h3>Run summary:</h3><br/><table class=\"wandb\"><tr><td>regret</td><td>246178.33368</td></tr></table><br/></div></div>"
      ],
      "text/plain": [
       "<IPython.core.display.HTML object>"
      ]
     },
     "metadata": {},
     "output_type": "display_data"
    },
    {
     "data": {
      "text/html": [
       " View run <strong style=\"color:#cdcd00\">vital-sweep-24</strong> at: <a href='https://wandb.ai/rl_shobhith/uncategorized/runs/ghh5k0jh/workspace' target=\"_blank\">https://wandb.ai/rl_shobhith/uncategorized/runs/ghh5k0jh/workspace</a><br/>Synced 5 W&B file(s), 0 media file(s), 0 artifact file(s) and 0 other file(s)"
      ],
      "text/plain": [
       "<IPython.core.display.HTML object>"
      ]
     },
     "metadata": {},
     "output_type": "display_data"
    },
    {
     "data": {
      "text/html": [
       "Find logs at: <code>.\\wandb\\run-20240402_013531-ghh5k0jh\\logs</code>"
      ],
      "text/plain": [
       "<IPython.core.display.HTML object>"
      ]
     },
     "metadata": {},
     "output_type": "display_data"
    },
    {
     "name": "stderr",
     "output_type": "stream",
     "text": [
      "\u001b[34m\u001b[1mwandb\u001b[0m: Agent Starting Run: l1df0ytm with config:\n",
      "\u001b[34m\u001b[1mwandb\u001b[0m: \thidden_dim: 256\n",
      "\u001b[34m\u001b[1mwandb\u001b[0m: \tlearning_rate: 0.005636964692421278\n",
      "Failed to detect the name of this notebook, you can set it manually with the WANDB_NOTEBOOK_NAME environment variable to enable code saving.\n",
      "\u001b[34m\u001b[1mwandb\u001b[0m: \u001b[33mWARNING\u001b[0m Ignored wandb.init() arg project when running a sweep.\n"
     ]
    },
    {
     "data": {
      "text/html": [
       "Tracking run with wandb version 0.16.5"
      ],
      "text/plain": [
       "<IPython.core.display.HTML object>"
      ]
     },
     "metadata": {},
     "output_type": "display_data"
    },
    {
     "data": {
      "text/html": [
       "Run data is saved locally in <code>c:\\Users\\Shobhith Vadlamudi\\AppData\\Local\\Programs\\Microsoft VS Code\\wandb\\run-20240402_014142-l1df0ytm</code>"
      ],
      "text/plain": [
       "<IPython.core.display.HTML object>"
      ]
     },
     "metadata": {},
     "output_type": "display_data"
    },
    {
     "data": {
      "text/html": [
       "Syncing run <strong><a href='https://wandb.ai/rl_shobhith/uncategorized/runs/l1df0ytm/workspace' target=\"_blank\">classic-sweep-25</a></strong> to <a href='https://wandb.ai/rl_shobhith/uncategorized' target=\"_blank\">Weights & Biases</a> (<a href='https://wandb.me/run' target=\"_blank\">docs</a>)<br/>Sweep page: <a href='https://wandb.ai/rl_shobhith/uncategorized/sweeps/yivd2k4v' target=\"_blank\">https://wandb.ai/rl_shobhith/uncategorized/sweeps/yivd2k4v</a>"
      ],
      "text/plain": [
       "<IPython.core.display.HTML object>"
      ]
     },
     "metadata": {},
     "output_type": "display_data"
    },
    {
     "data": {
      "text/html": [
       " View project at <a href='https://wandb.ai/rl_shobhith/uncategorized' target=\"_blank\">https://wandb.ai/rl_shobhith/uncategorized</a>"
      ],
      "text/plain": [
       "<IPython.core.display.HTML object>"
      ]
     },
     "metadata": {},
     "output_type": "display_data"
    },
    {
     "data": {
      "text/html": [
       " View sweep at <a href='https://wandb.ai/rl_shobhith/uncategorized/sweeps/yivd2k4v' target=\"_blank\">https://wandb.ai/rl_shobhith/uncategorized/sweeps/yivd2k4v</a>"
      ],
      "text/plain": [
       "<IPython.core.display.HTML object>"
      ]
     },
     "metadata": {},
     "output_type": "display_data"
    },
    {
     "data": {
      "text/html": [
       " View run at <a href='https://wandb.ai/rl_shobhith/uncategorized/runs/l1df0ytm/workspace' target=\"_blank\">https://wandb.ai/rl_shobhith/uncategorized/runs/l1df0ytm/workspace</a>"
      ],
      "text/plain": [
       "<IPython.core.display.HTML object>"
      ]
     },
     "metadata": {},
     "output_type": "display_data"
    },
    {
     "name": "stderr",
     "output_type": "stream",
     "text": [
      "Iteration 0: 100%|██████████| 50/50 [00:20<00:00,  2.43it/s, episode_return=50, return=-196.900]\n",
      "Iteration 1: 100%|██████████| 50/50 [00:13<00:00,  3.68it/s, episode_return=100, return=-181.000]\n",
      "Iteration 2: 100%|██████████| 50/50 [00:14<00:00,  3.43it/s, episode_return=150, return=-178.900]\n",
      "Iteration 3: 100%|██████████| 50/50 [00:12<00:00,  3.86it/s, episode_return=200, return=-165.800]\n",
      "Iteration 4: 100%|██████████| 50/50 [00:11<00:00,  4.49it/s, episode_return=250, return=-123.300]\n",
      "Iteration 5: 100%|██████████| 50/50 [00:09<00:00,  5.41it/s, episode_return=300, return=-105.300]\n",
      "Iteration 6: 100%|██████████| 50/50 [00:06<00:00,  7.56it/s, episode_return=350, return=-92.100]\n",
      "Iteration 7: 100%|██████████| 50/50 [00:07<00:00,  6.95it/s, episode_return=400, return=-83.400] \n",
      "Iteration 8: 100%|██████████| 50/50 [00:06<00:00,  7.31it/s, episode_return=450, return=-89.200] \n",
      "Iteration 9: 100%|██████████| 50/50 [00:06<00:00,  7.35it/s, episode_return=500, return=-80.900]\n"
     ]
    },
    {
     "data": {
      "application/vnd.jupyter.widget-view+json": {
       "model_id": "4bca99b450c74061abf4c06e0397cbfe",
       "version_major": 2,
       "version_minor": 0
      },
      "text/plain": [
       "VBox(children=(Label(value='0.001 MB of 0.001 MB uploaded\\r'), FloatProgress(value=1.0, max=1.0)))"
      ]
     },
     "metadata": {},
     "output_type": "display_data"
    },
    {
     "data": {
      "text/html": [
       "<style>\n",
       "    table.wandb td:nth-child(1) { padding: 0 10px; text-align: left ; width: auto;} td:nth-child(2) {text-align: left ; width: 100%}\n",
       "    .wandb-row { display: flex; flex-direction: row; flex-wrap: wrap; justify-content: flex-start; width: 100% }\n",
       "    .wandb-col { display: flex; flex-direction: column; flex-basis: 100%; flex: 1; padding: 10px; }\n",
       "    </style>\n",
       "<div class=\"wandb-row\"><div class=\"wandb-col\"><h3>Run history:</h3><br/><table class=\"wandb\"><tr><td>regret</td><td>▁</td></tr></table><br/></div><div class=\"wandb-col\"><h3>Run summary:</h3><br/><table class=\"wandb\"><tr><td>regret</td><td>84335.99915</td></tr></table><br/></div></div>"
      ],
      "text/plain": [
       "<IPython.core.display.HTML object>"
      ]
     },
     "metadata": {},
     "output_type": "display_data"
    },
    {
     "data": {
      "text/html": [
       " View run <strong style=\"color:#cdcd00\">classic-sweep-25</strong> at: <a href='https://wandb.ai/rl_shobhith/uncategorized/runs/l1df0ytm/workspace' target=\"_blank\">https://wandb.ai/rl_shobhith/uncategorized/runs/l1df0ytm/workspace</a><br/>Synced 5 W&B file(s), 0 media file(s), 0 artifact file(s) and 0 other file(s)"
      ],
      "text/plain": [
       "<IPython.core.display.HTML object>"
      ]
     },
     "metadata": {},
     "output_type": "display_data"
    },
    {
     "data": {
      "text/html": [
       "Find logs at: <code>.\\wandb\\run-20240402_014142-l1df0ytm\\logs</code>"
      ],
      "text/plain": [
       "<IPython.core.display.HTML object>"
      ]
     },
     "metadata": {},
     "output_type": "display_data"
    },
    {
     "name": "stderr",
     "output_type": "stream",
     "text": [
      "\u001b[34m\u001b[1mwandb\u001b[0m: Agent Starting Run: rn5ccw1e with config:\n",
      "\u001b[34m\u001b[1mwandb\u001b[0m: \thidden_dim: 256\n",
      "\u001b[34m\u001b[1mwandb\u001b[0m: \tlearning_rate: 0.0010339203945478608\n",
      "Failed to detect the name of this notebook, you can set it manually with the WANDB_NOTEBOOK_NAME environment variable to enable code saving.\n",
      "\u001b[34m\u001b[1mwandb\u001b[0m: \u001b[33mWARNING\u001b[0m Ignored wandb.init() arg project when running a sweep.\n"
     ]
    },
    {
     "data": {
      "text/html": [
       "Tracking run with wandb version 0.16.5"
      ],
      "text/plain": [
       "<IPython.core.display.HTML object>"
      ]
     },
     "metadata": {},
     "output_type": "display_data"
    },
    {
     "data": {
      "text/html": [
       "Run data is saved locally in <code>c:\\Users\\Shobhith Vadlamudi\\AppData\\Local\\Programs\\Microsoft VS Code\\wandb\\run-20240402_014344-rn5ccw1e</code>"
      ],
      "text/plain": [
       "<IPython.core.display.HTML object>"
      ]
     },
     "metadata": {},
     "output_type": "display_data"
    },
    {
     "data": {
      "text/html": [
       "Syncing run <strong><a href='https://wandb.ai/rl_shobhith/uncategorized/runs/rn5ccw1e/workspace' target=\"_blank\">rosy-sweep-26</a></strong> to <a href='https://wandb.ai/rl_shobhith/uncategorized' target=\"_blank\">Weights & Biases</a> (<a href='https://wandb.me/run' target=\"_blank\">docs</a>)<br/>Sweep page: <a href='https://wandb.ai/rl_shobhith/uncategorized/sweeps/yivd2k4v' target=\"_blank\">https://wandb.ai/rl_shobhith/uncategorized/sweeps/yivd2k4v</a>"
      ],
      "text/plain": [
       "<IPython.core.display.HTML object>"
      ]
     },
     "metadata": {},
     "output_type": "display_data"
    },
    {
     "data": {
      "text/html": [
       " View project at <a href='https://wandb.ai/rl_shobhith/uncategorized' target=\"_blank\">https://wandb.ai/rl_shobhith/uncategorized</a>"
      ],
      "text/plain": [
       "<IPython.core.display.HTML object>"
      ]
     },
     "metadata": {},
     "output_type": "display_data"
    },
    {
     "data": {
      "text/html": [
       " View sweep at <a href='https://wandb.ai/rl_shobhith/uncategorized/sweeps/yivd2k4v' target=\"_blank\">https://wandb.ai/rl_shobhith/uncategorized/sweeps/yivd2k4v</a>"
      ],
      "text/plain": [
       "<IPython.core.display.HTML object>"
      ]
     },
     "metadata": {},
     "output_type": "display_data"
    },
    {
     "data": {
      "text/html": [
       " View run at <a href='https://wandb.ai/rl_shobhith/uncategorized/runs/rn5ccw1e/workspace' target=\"_blank\">https://wandb.ai/rl_shobhith/uncategorized/runs/rn5ccw1e/workspace</a>"
      ],
      "text/plain": [
       "<IPython.core.display.HTML object>"
      ]
     },
     "metadata": {},
     "output_type": "display_data"
    },
    {
     "name": "stderr",
     "output_type": "stream",
     "text": [
      "Iteration 0: 100%|██████████| 50/50 [00:24<00:00,  2.02it/s, episode_return=50, return=-190.300]\n",
      "Iteration 1: 100%|██████████| 50/50 [00:15<00:00,  3.16it/s, episode_return=100, return=-194.700]\n",
      "Iteration 2: 100%|██████████| 50/50 [00:11<00:00,  4.45it/s, episode_return=150, return=-136.500]\n",
      "Iteration 3: 100%|██████████| 50/50 [00:11<00:00,  4.50it/s, episode_return=200, return=-134.500]\n",
      "Iteration 4: 100%|██████████| 50/50 [00:10<00:00,  4.76it/s, episode_return=250, return=-127.300]\n",
      "Iteration 5: 100%|██████████| 50/50 [00:08<00:00,  6.05it/s, episode_return=300, return=-114.900]\n",
      "Iteration 6: 100%|██████████| 50/50 [00:07<00:00,  6.95it/s, episode_return=350, return=-93.200] \n",
      "Iteration 7: 100%|██████████| 50/50 [00:08<00:00,  6.20it/s, episode_return=400, return=-97.000] \n",
      "Iteration 8: 100%|██████████| 50/50 [00:09<00:00,  5.25it/s, episode_return=450, return=-95.400] \n",
      "Iteration 9: 100%|██████████| 50/50 [00:09<00:00,  5.47it/s, episode_return=500, return=-96.500] \n"
     ]
    },
    {
     "data": {
      "application/vnd.jupyter.widget-view+json": {
       "model_id": "8bf8a5bfa5c94bcca6af6ca8caf8d6f6",
       "version_major": 2,
       "version_minor": 0
      },
      "text/plain": [
       "VBox(children=(Label(value='0.001 MB of 0.001 MB uploaded\\r'), FloatProgress(value=1.0, max=1.0)))"
      ]
     },
     "metadata": {},
     "output_type": "display_data"
    },
    {
     "data": {
      "text/html": [
       "<style>\n",
       "    table.wandb td:nth-child(1) { padding: 0 10px; text-align: left ; width: auto;} td:nth-child(2) {text-align: left ; width: 100%}\n",
       "    .wandb-row { display: flex; flex-direction: row; flex-wrap: wrap; justify-content: flex-start; width: 100% }\n",
       "    .wandb-col { display: flex; flex-direction: column; flex-basis: 100%; flex: 1; padding: 10px; }\n",
       "    </style>\n",
       "<div class=\"wandb-row\"><div class=\"wandb-col\"><h3>Run history:</h3><br/><table class=\"wandb\"><tr><td>regret</td><td>▁</td></tr></table><br/></div><div class=\"wandb-col\"><h3>Run summary:</h3><br/><table class=\"wandb\"><tr><td>regret</td><td>90388.08451</td></tr></table><br/></div></div>"
      ],
      "text/plain": [
       "<IPython.core.display.HTML object>"
      ]
     },
     "metadata": {},
     "output_type": "display_data"
    },
    {
     "data": {
      "text/html": [
       " View run <strong style=\"color:#cdcd00\">rosy-sweep-26</strong> at: <a href='https://wandb.ai/rl_shobhith/uncategorized/runs/rn5ccw1e/workspace' target=\"_blank\">https://wandb.ai/rl_shobhith/uncategorized/runs/rn5ccw1e/workspace</a><br/>Synced 5 W&B file(s), 0 media file(s), 0 artifact file(s) and 0 other file(s)"
      ],
      "text/plain": [
       "<IPython.core.display.HTML object>"
      ]
     },
     "metadata": {},
     "output_type": "display_data"
    },
    {
     "data": {
      "text/html": [
       "Find logs at: <code>.\\wandb\\run-20240402_014344-rn5ccw1e\\logs</code>"
      ],
      "text/plain": [
       "<IPython.core.display.HTML object>"
      ]
     },
     "metadata": {},
     "output_type": "display_data"
    },
    {
     "name": "stderr",
     "output_type": "stream",
     "text": [
      "\u001b[34m\u001b[1mwandb\u001b[0m: Sweep Agent: Waiting for job.\n",
      "\u001b[34m\u001b[1mwandb\u001b[0m: Job received.\n",
      "\u001b[34m\u001b[1mwandb\u001b[0m: Agent Starting Run: wrl6j9qc with config:\n",
      "\u001b[34m\u001b[1mwandb\u001b[0m: \thidden_dim: 128\n",
      "\u001b[34m\u001b[1mwandb\u001b[0m: \tlearning_rate: 0.00785925265509163\n",
      "Failed to detect the name of this notebook, you can set it manually with the WANDB_NOTEBOOK_NAME environment variable to enable code saving.\n",
      "\u001b[34m\u001b[1mwandb\u001b[0m: \u001b[33mWARNING\u001b[0m Ignored wandb.init() arg project when running a sweep.\n"
     ]
    },
    {
     "data": {
      "text/html": [
       "Tracking run with wandb version 0.16.5"
      ],
      "text/plain": [
       "<IPython.core.display.HTML object>"
      ]
     },
     "metadata": {},
     "output_type": "display_data"
    },
    {
     "data": {
      "text/html": [
       "Run data is saved locally in <code>c:\\Users\\Shobhith Vadlamudi\\AppData\\Local\\Programs\\Microsoft VS Code\\wandb\\run-20240402_014601-wrl6j9qc</code>"
      ],
      "text/plain": [
       "<IPython.core.display.HTML object>"
      ]
     },
     "metadata": {},
     "output_type": "display_data"
    },
    {
     "data": {
      "text/html": [
       "Syncing run <strong><a href='https://wandb.ai/rl_shobhith/uncategorized/runs/wrl6j9qc/workspace' target=\"_blank\">swift-sweep-27</a></strong> to <a href='https://wandb.ai/rl_shobhith/uncategorized' target=\"_blank\">Weights & Biases</a> (<a href='https://wandb.me/run' target=\"_blank\">docs</a>)<br/>Sweep page: <a href='https://wandb.ai/rl_shobhith/uncategorized/sweeps/yivd2k4v' target=\"_blank\">https://wandb.ai/rl_shobhith/uncategorized/sweeps/yivd2k4v</a>"
      ],
      "text/plain": [
       "<IPython.core.display.HTML object>"
      ]
     },
     "metadata": {},
     "output_type": "display_data"
    },
    {
     "data": {
      "text/html": [
       " View project at <a href='https://wandb.ai/rl_shobhith/uncategorized' target=\"_blank\">https://wandb.ai/rl_shobhith/uncategorized</a>"
      ],
      "text/plain": [
       "<IPython.core.display.HTML object>"
      ]
     },
     "metadata": {},
     "output_type": "display_data"
    },
    {
     "data": {
      "text/html": [
       " View sweep at <a href='https://wandb.ai/rl_shobhith/uncategorized/sweeps/yivd2k4v' target=\"_blank\">https://wandb.ai/rl_shobhith/uncategorized/sweeps/yivd2k4v</a>"
      ],
      "text/plain": [
       "<IPython.core.display.HTML object>"
      ]
     },
     "metadata": {},
     "output_type": "display_data"
    },
    {
     "data": {
      "text/html": [
       " View run at <a href='https://wandb.ai/rl_shobhith/uncategorized/runs/wrl6j9qc/workspace' target=\"_blank\">https://wandb.ai/rl_shobhith/uncategorized/runs/wrl6j9qc/workspace</a>"
      ],
      "text/plain": [
       "<IPython.core.display.HTML object>"
      ]
     },
     "metadata": {},
     "output_type": "display_data"
    },
    {
     "name": "stderr",
     "output_type": "stream",
     "text": [
      "Iteration 0: 100%|██████████| 50/50 [00:36<00:00,  1.38it/s, episode_return=50, return=-500.000]\n",
      "Iteration 1: 100%|██████████| 50/50 [00:36<00:00,  1.38it/s, episode_return=100, return=-500.000]\n",
      "Iteration 2: 100%|██████████| 50/50 [00:36<00:00,  1.36it/s, episode_return=150, return=-500.000]\n",
      "Iteration 3: 100%|██████████| 50/50 [00:38<00:00,  1.28it/s, episode_return=200, return=-500.000]\n",
      "Iteration 4: 100%|██████████| 50/50 [00:39<00:00,  1.28it/s, episode_return=250, return=-500.000]\n",
      "Iteration 5: 100%|██████████| 50/50 [00:37<00:00,  1.34it/s, episode_return=300, return=-500.000]\n",
      "Iteration 6: 100%|██████████| 50/50 [00:39<00:00,  1.28it/s, episode_return=350, return=-500.000]\n",
      "Iteration 7: 100%|██████████| 50/50 [00:38<00:00,  1.29it/s, episode_return=400, return=-500.000]\n",
      "Iteration 8: 100%|██████████| 50/50 [00:35<00:00,  1.40it/s, episode_return=450, return=-500.000]\n",
      "Iteration 9: 100%|██████████| 50/50 [00:35<00:00,  1.40it/s, episode_return=500, return=-500.000]\n"
     ]
    },
    {
     "data": {
      "application/vnd.jupyter.widget-view+json": {
       "model_id": "1b8532291508460faeed94bff74b9d33",
       "version_major": 2,
       "version_minor": 0
      },
      "text/plain": [
       "VBox(children=(Label(value='0.001 MB of 0.001 MB uploaded\\r'), FloatProgress(value=1.0, max=1.0)))"
      ]
     },
     "metadata": {},
     "output_type": "display_data"
    },
    {
     "data": {
      "text/html": [
       "<style>\n",
       "    table.wandb td:nth-child(1) { padding: 0 10px; text-align: left ; width: auto;} td:nth-child(2) {text-align: left ; width: 100%}\n",
       "    .wandb-row { display: flex; flex-direction: row; flex-wrap: wrap; justify-content: flex-start; width: 100% }\n",
       "    .wandb-col { display: flex; flex-direction: column; flex-basis: 100%; flex: 1; padding: 10px; }\n",
       "    </style>\n",
       "<div class=\"wandb-row\"><div class=\"wandb-col\"><h3>Run history:</h3><br/><table class=\"wandb\"><tr><td>regret</td><td>▁</td></tr></table><br/></div><div class=\"wandb-col\"><h3>Run summary:</h3><br/><table class=\"wandb\"><tr><td>regret</td><td>250000.0</td></tr></table><br/></div></div>"
      ],
      "text/plain": [
       "<IPython.core.display.HTML object>"
      ]
     },
     "metadata": {},
     "output_type": "display_data"
    },
    {
     "data": {
      "text/html": [
       " View run <strong style=\"color:#cdcd00\">swift-sweep-27</strong> at: <a href='https://wandb.ai/rl_shobhith/uncategorized/runs/wrl6j9qc/workspace' target=\"_blank\">https://wandb.ai/rl_shobhith/uncategorized/runs/wrl6j9qc/workspace</a><br/>Synced 5 W&B file(s), 0 media file(s), 0 artifact file(s) and 0 other file(s)"
      ],
      "text/plain": [
       "<IPython.core.display.HTML object>"
      ]
     },
     "metadata": {},
     "output_type": "display_data"
    },
    {
     "data": {
      "text/html": [
       "Find logs at: <code>.\\wandb\\run-20240402_014601-wrl6j9qc\\logs</code>"
      ],
      "text/plain": [
       "<IPython.core.display.HTML object>"
      ]
     },
     "metadata": {},
     "output_type": "display_data"
    },
    {
     "name": "stderr",
     "output_type": "stream",
     "text": [
      "\u001b[34m\u001b[1mwandb\u001b[0m: Sweep Agent: Waiting for job.\n",
      "\u001b[34m\u001b[1mwandb\u001b[0m: Job received.\n",
      "\u001b[34m\u001b[1mwandb\u001b[0m: Agent Starting Run: bkj9pb5a with config:\n",
      "\u001b[34m\u001b[1mwandb\u001b[0m: \thidden_dim: 256\n",
      "\u001b[34m\u001b[1mwandb\u001b[0m: \tlearning_rate: 0.004746319411626931\n",
      "Failed to detect the name of this notebook, you can set it manually with the WANDB_NOTEBOOK_NAME environment variable to enable code saving.\n",
      "\u001b[34m\u001b[1mwandb\u001b[0m: \u001b[33mWARNING\u001b[0m Ignored wandb.init() arg project when running a sweep.\n"
     ]
    },
    {
     "data": {
      "text/html": [
       "Tracking run with wandb version 0.16.5"
      ],
      "text/plain": [
       "<IPython.core.display.HTML object>"
      ]
     },
     "metadata": {},
     "output_type": "display_data"
    },
    {
     "data": {
      "text/html": [
       "Run data is saved locally in <code>c:\\Users\\Shobhith Vadlamudi\\AppData\\Local\\Programs\\Microsoft VS Code\\wandb\\run-20240402_015241-bkj9pb5a</code>"
      ],
      "text/plain": [
       "<IPython.core.display.HTML object>"
      ]
     },
     "metadata": {},
     "output_type": "display_data"
    },
    {
     "data": {
      "text/html": [
       "Syncing run <strong><a href='https://wandb.ai/rl_shobhith/uncategorized/runs/bkj9pb5a/workspace' target=\"_blank\">autumn-sweep-28</a></strong> to <a href='https://wandb.ai/rl_shobhith/uncategorized' target=\"_blank\">Weights & Biases</a> (<a href='https://wandb.me/run' target=\"_blank\">docs</a>)<br/>Sweep page: <a href='https://wandb.ai/rl_shobhith/uncategorized/sweeps/yivd2k4v' target=\"_blank\">https://wandb.ai/rl_shobhith/uncategorized/sweeps/yivd2k4v</a>"
      ],
      "text/plain": [
       "<IPython.core.display.HTML object>"
      ]
     },
     "metadata": {},
     "output_type": "display_data"
    },
    {
     "data": {
      "text/html": [
       " View project at <a href='https://wandb.ai/rl_shobhith/uncategorized' target=\"_blank\">https://wandb.ai/rl_shobhith/uncategorized</a>"
      ],
      "text/plain": [
       "<IPython.core.display.HTML object>"
      ]
     },
     "metadata": {},
     "output_type": "display_data"
    },
    {
     "data": {
      "text/html": [
       " View sweep at <a href='https://wandb.ai/rl_shobhith/uncategorized/sweeps/yivd2k4v' target=\"_blank\">https://wandb.ai/rl_shobhith/uncategorized/sweeps/yivd2k4v</a>"
      ],
      "text/plain": [
       "<IPython.core.display.HTML object>"
      ]
     },
     "metadata": {},
     "output_type": "display_data"
    },
    {
     "data": {
      "text/html": [
       " View run at <a href='https://wandb.ai/rl_shobhith/uncategorized/runs/bkj9pb5a/workspace' target=\"_blank\">https://wandb.ai/rl_shobhith/uncategorized/runs/bkj9pb5a/workspace</a>"
      ],
      "text/plain": [
       "<IPython.core.display.HTML object>"
      ]
     },
     "metadata": {},
     "output_type": "display_data"
    },
    {
     "name": "stderr",
     "output_type": "stream",
     "text": [
      "Iteration 0: 100%|██████████| 50/50 [00:38<00:00,  1.30it/s, episode_return=50, return=-500.000]\n",
      "Iteration 1: 100%|██████████| 50/50 [00:39<00:00,  1.28it/s, episode_return=100, return=-500.000]\n",
      "Iteration 2: 100%|██████████| 50/50 [00:34<00:00,  1.46it/s, episode_return=150, return=-500.000]\n",
      "Iteration 3: 100%|██████████| 50/50 [00:36<00:00,  1.37it/s, episode_return=200, return=-500.000]\n",
      "Iteration 4: 100%|██████████| 50/50 [00:36<00:00,  1.36it/s, episode_return=250, return=-500.000]\n",
      "Iteration 5: 100%|██████████| 50/50 [00:37<00:00,  1.35it/s, episode_return=300, return=-500.000]\n",
      "Iteration 6: 100%|██████████| 50/50 [00:41<00:00,  1.22it/s, episode_return=350, return=-500.000]\n",
      "Iteration 7: 100%|██████████| 50/50 [00:37<00:00,  1.34it/s, episode_return=400, return=-500.000]\n",
      "Iteration 8: 100%|██████████| 50/50 [00:39<00:00,  1.28it/s, episode_return=450, return=-500.000]\n",
      "Iteration 9: 100%|██████████| 50/50 [00:41<00:00,  1.20it/s, episode_return=500, return=-500.000]\n"
     ]
    },
    {
     "data": {
      "application/vnd.jupyter.widget-view+json": {
       "model_id": "e4e002a246754b2d878032b04a2ebdf2",
       "version_major": 2,
       "version_minor": 0
      },
      "text/plain": [
       "VBox(children=(Label(value='0.001 MB of 0.001 MB uploaded\\r'), FloatProgress(value=1.0, max=1.0)))"
      ]
     },
     "metadata": {},
     "output_type": "display_data"
    },
    {
     "data": {
      "text/html": [
       "<style>\n",
       "    table.wandb td:nth-child(1) { padding: 0 10px; text-align: left ; width: auto;} td:nth-child(2) {text-align: left ; width: 100%}\n",
       "    .wandb-row { display: flex; flex-direction: row; flex-wrap: wrap; justify-content: flex-start; width: 100% }\n",
       "    .wandb-col { display: flex; flex-direction: column; flex-basis: 100%; flex: 1; padding: 10px; }\n",
       "    </style>\n",
       "<div class=\"wandb-row\"><div class=\"wandb-col\"><h3>Run history:</h3><br/><table class=\"wandb\"><tr><td>regret</td><td>▁</td></tr></table><br/></div><div class=\"wandb-col\"><h3>Run summary:</h3><br/><table class=\"wandb\"><tr><td>regret</td><td>249431.30901</td></tr></table><br/></div></div>"
      ],
      "text/plain": [
       "<IPython.core.display.HTML object>"
      ]
     },
     "metadata": {},
     "output_type": "display_data"
    },
    {
     "data": {
      "text/html": [
       " View run <strong style=\"color:#cdcd00\">autumn-sweep-28</strong> at: <a href='https://wandb.ai/rl_shobhith/uncategorized/runs/bkj9pb5a/workspace' target=\"_blank\">https://wandb.ai/rl_shobhith/uncategorized/runs/bkj9pb5a/workspace</a><br/>Synced 5 W&B file(s), 0 media file(s), 0 artifact file(s) and 0 other file(s)"
      ],
      "text/plain": [
       "<IPython.core.display.HTML object>"
      ]
     },
     "metadata": {},
     "output_type": "display_data"
    },
    {
     "data": {
      "text/html": [
       "Find logs at: <code>.\\wandb\\run-20240402_015241-bkj9pb5a\\logs</code>"
      ],
      "text/plain": [
       "<IPython.core.display.HTML object>"
      ]
     },
     "metadata": {},
     "output_type": "display_data"
    },
    {
     "name": "stderr",
     "output_type": "stream",
     "text": [
      "\u001b[34m\u001b[1mwandb\u001b[0m: Agent Starting Run: 5k29hepy with config:\n",
      "\u001b[34m\u001b[1mwandb\u001b[0m: \thidden_dim: 64\n",
      "\u001b[34m\u001b[1mwandb\u001b[0m: \tlearning_rate: 0.007459034272849588\n",
      "Failed to detect the name of this notebook, you can set it manually with the WANDB_NOTEBOOK_NAME environment variable to enable code saving.\n",
      "\u001b[34m\u001b[1mwandb\u001b[0m: \u001b[33mWARNING\u001b[0m Ignored wandb.init() arg project when running a sweep.\n"
     ]
    },
    {
     "data": {
      "text/html": [
       "Tracking run with wandb version 0.16.5"
      ],
      "text/plain": [
       "<IPython.core.display.HTML object>"
      ]
     },
     "metadata": {},
     "output_type": "display_data"
    },
    {
     "data": {
      "text/html": [
       "Run data is saved locally in <code>c:\\Users\\Shobhith Vadlamudi\\AppData\\Local\\Programs\\Microsoft VS Code\\wandb\\run-20240402_015917-5k29hepy</code>"
      ],
      "text/plain": [
       "<IPython.core.display.HTML object>"
      ]
     },
     "metadata": {},
     "output_type": "display_data"
    },
    {
     "data": {
      "text/html": [
       "Syncing run <strong><a href='https://wandb.ai/rl_shobhith/uncategorized/runs/5k29hepy/workspace' target=\"_blank\">vague-sweep-29</a></strong> to <a href='https://wandb.ai/rl_shobhith/uncategorized' target=\"_blank\">Weights & Biases</a> (<a href='https://wandb.me/run' target=\"_blank\">docs</a>)<br/>Sweep page: <a href='https://wandb.ai/rl_shobhith/uncategorized/sweeps/yivd2k4v' target=\"_blank\">https://wandb.ai/rl_shobhith/uncategorized/sweeps/yivd2k4v</a>"
      ],
      "text/plain": [
       "<IPython.core.display.HTML object>"
      ]
     },
     "metadata": {},
     "output_type": "display_data"
    },
    {
     "data": {
      "text/html": [
       " View project at <a href='https://wandb.ai/rl_shobhith/uncategorized' target=\"_blank\">https://wandb.ai/rl_shobhith/uncategorized</a>"
      ],
      "text/plain": [
       "<IPython.core.display.HTML object>"
      ]
     },
     "metadata": {},
     "output_type": "display_data"
    },
    {
     "data": {
      "text/html": [
       " View sweep at <a href='https://wandb.ai/rl_shobhith/uncategorized/sweeps/yivd2k4v' target=\"_blank\">https://wandb.ai/rl_shobhith/uncategorized/sweeps/yivd2k4v</a>"
      ],
      "text/plain": [
       "<IPython.core.display.HTML object>"
      ]
     },
     "metadata": {},
     "output_type": "display_data"
    },
    {
     "data": {
      "text/html": [
       " View run at <a href='https://wandb.ai/rl_shobhith/uncategorized/runs/5k29hepy/workspace' target=\"_blank\">https://wandb.ai/rl_shobhith/uncategorized/runs/5k29hepy/workspace</a>"
      ],
      "text/plain": [
       "<IPython.core.display.HTML object>"
      ]
     },
     "metadata": {},
     "output_type": "display_data"
    },
    {
     "name": "stderr",
     "output_type": "stream",
     "text": [
      "Iteration 0: 100%|██████████| 50/50 [00:28<00:00,  1.74it/s, episode_return=50, return=-500.000]\n",
      "Iteration 1: 100%|██████████| 50/50 [00:30<00:00,  1.64it/s, episode_return=100, return=-500.000]\n",
      "Iteration 2: 100%|██████████| 50/50 [00:30<00:00,  1.64it/s, episode_return=150, return=-500.000]\n",
      "Iteration 3: 100%|██████████| 50/50 [00:14<00:00,  3.47it/s, episode_return=200, return=-161.500]\n",
      "Iteration 4: 100%|██████████| 50/50 [00:10<00:00,  4.74it/s, episode_return=250, return=-167.900]\n",
      "Iteration 5: 100%|██████████| 50/50 [00:09<00:00,  5.47it/s, episode_return=300, return=-146.300]\n",
      "Iteration 6: 100%|██████████| 50/50 [00:08<00:00,  5.90it/s, episode_return=350, return=-136.500]\n",
      "Iteration 7: 100%|██████████| 50/50 [00:07<00:00,  6.27it/s, episode_return=400, return=-122.300]\n",
      "Iteration 8: 100%|██████████| 50/50 [00:06<00:00,  7.48it/s, episode_return=450, return=-83.000]\n",
      "Iteration 9: 100%|██████████| 50/50 [00:06<00:00,  7.16it/s, episode_return=500, return=-105.400]\n"
     ]
    },
    {
     "data": {
      "application/vnd.jupyter.widget-view+json": {
       "model_id": "3aaad778177d43af89563296fa048114",
       "version_major": 2,
       "version_minor": 0
      },
      "text/plain": [
       "VBox(children=(Label(value='0.001 MB of 0.001 MB uploaded\\r'), FloatProgress(value=1.0, max=1.0)))"
      ]
     },
     "metadata": {},
     "output_type": "display_data"
    },
    {
     "data": {
      "text/html": [
       "<style>\n",
       "    table.wandb td:nth-child(1) { padding: 0 10px; text-align: left ; width: auto;} td:nth-child(2) {text-align: left ; width: 100%}\n",
       "    .wandb-row { display: flex; flex-direction: row; flex-wrap: wrap; justify-content: flex-start; width: 100% }\n",
       "    .wandb-col { display: flex; flex-direction: column; flex-basis: 100%; flex: 1; padding: 10px; }\n",
       "    </style>\n",
       "<div class=\"wandb-row\"><div class=\"wandb-col\"><h3>Run history:</h3><br/><table class=\"wandb\"><tr><td>regret</td><td>▁</td></tr></table><br/></div><div class=\"wandb-col\"><h3>Run summary:</h3><br/><table class=\"wandb\"><tr><td>regret</td><td>139784.95669</td></tr></table><br/></div></div>"
      ],
      "text/plain": [
       "<IPython.core.display.HTML object>"
      ]
     },
     "metadata": {},
     "output_type": "display_data"
    },
    {
     "data": {
      "text/html": [
       " View run <strong style=\"color:#cdcd00\">vague-sweep-29</strong> at: <a href='https://wandb.ai/rl_shobhith/uncategorized/runs/5k29hepy/workspace' target=\"_blank\">https://wandb.ai/rl_shobhith/uncategorized/runs/5k29hepy/workspace</a><br/>Synced 5 W&B file(s), 0 media file(s), 0 artifact file(s) and 0 other file(s)"
      ],
      "text/plain": [
       "<IPython.core.display.HTML object>"
      ]
     },
     "metadata": {},
     "output_type": "display_data"
    },
    {
     "data": {
      "text/html": [
       "Find logs at: <code>.\\wandb\\run-20240402_015917-5k29hepy\\logs</code>"
      ],
      "text/plain": [
       "<IPython.core.display.HTML object>"
      ]
     },
     "metadata": {},
     "output_type": "display_data"
    },
    {
     "name": "stderr",
     "output_type": "stream",
     "text": [
      "\u001b[34m\u001b[1mwandb\u001b[0m: Agent Starting Run: en2e2365 with config:\n",
      "\u001b[34m\u001b[1mwandb\u001b[0m: \thidden_dim: 128\n",
      "\u001b[34m\u001b[1mwandb\u001b[0m: \tlearning_rate: 0.008557207810542073\n",
      "Failed to detect the name of this notebook, you can set it manually with the WANDB_NOTEBOOK_NAME environment variable to enable code saving.\n",
      "\u001b[34m\u001b[1mwandb\u001b[0m: \u001b[33mWARNING\u001b[0m Ignored wandb.init() arg project when running a sweep.\n"
     ]
    },
    {
     "data": {
      "text/html": [
       "Tracking run with wandb version 0.16.5"
      ],
      "text/plain": [
       "<IPython.core.display.HTML object>"
      ]
     },
     "metadata": {},
     "output_type": "display_data"
    },
    {
     "data": {
      "text/html": [
       "Run data is saved locally in <code>c:\\Users\\Shobhith Vadlamudi\\AppData\\Local\\Programs\\Microsoft VS Code\\wandb\\run-20240402_020206-en2e2365</code>"
      ],
      "text/plain": [
       "<IPython.core.display.HTML object>"
      ]
     },
     "metadata": {},
     "output_type": "display_data"
    },
    {
     "data": {
      "text/html": [
       "Syncing run <strong><a href='https://wandb.ai/rl_shobhith/uncategorized/runs/en2e2365/workspace' target=\"_blank\">ethereal-sweep-30</a></strong> to <a href='https://wandb.ai/rl_shobhith/uncategorized' target=\"_blank\">Weights & Biases</a> (<a href='https://wandb.me/run' target=\"_blank\">docs</a>)<br/>Sweep page: <a href='https://wandb.ai/rl_shobhith/uncategorized/sweeps/yivd2k4v' target=\"_blank\">https://wandb.ai/rl_shobhith/uncategorized/sweeps/yivd2k4v</a>"
      ],
      "text/plain": [
       "<IPython.core.display.HTML object>"
      ]
     },
     "metadata": {},
     "output_type": "display_data"
    },
    {
     "data": {
      "text/html": [
       " View project at <a href='https://wandb.ai/rl_shobhith/uncategorized' target=\"_blank\">https://wandb.ai/rl_shobhith/uncategorized</a>"
      ],
      "text/plain": [
       "<IPython.core.display.HTML object>"
      ]
     },
     "metadata": {},
     "output_type": "display_data"
    },
    {
     "data": {
      "text/html": [
       " View sweep at <a href='https://wandb.ai/rl_shobhith/uncategorized/sweeps/yivd2k4v' target=\"_blank\">https://wandb.ai/rl_shobhith/uncategorized/sweeps/yivd2k4v</a>"
      ],
      "text/plain": [
       "<IPython.core.display.HTML object>"
      ]
     },
     "metadata": {},
     "output_type": "display_data"
    },
    {
     "data": {
      "text/html": [
       " View run at <a href='https://wandb.ai/rl_shobhith/uncategorized/runs/en2e2365/workspace' target=\"_blank\">https://wandb.ai/rl_shobhith/uncategorized/runs/en2e2365/workspace</a>"
      ],
      "text/plain": [
       "<IPython.core.display.HTML object>"
      ]
     },
     "metadata": {},
     "output_type": "display_data"
    },
    {
     "name": "stderr",
     "output_type": "stream",
     "text": [
      "Iteration 0: 100%|██████████| 50/50 [00:19<00:00,  2.63it/s, episode_return=50, return=-219.700]\n",
      "Iteration 1: 100%|██████████| 50/50 [00:13<00:00,  3.82it/s, episode_return=100, return=-155.300]\n",
      "Iteration 2: 100%|██████████| 50/50 [00:13<00:00,  3.71it/s, episode_return=150, return=-194.100]\n",
      "Iteration 3: 100%|██████████| 50/50 [00:16<00:00,  2.97it/s, episode_return=200, return=-263.000]\n",
      "Iteration 4: 100%|██████████| 50/50 [00:16<00:00,  3.04it/s, episode_return=250, return=-215.900]\n",
      "Iteration 5: 100%|██████████| 50/50 [00:14<00:00,  3.53it/s, episode_return=300, return=-194.200]\n",
      "Iteration 6: 100%|██████████| 50/50 [00:24<00:00,  2.03it/s, episode_return=350, return=-500.000]\n",
      "Iteration 7: 100%|██████████| 50/50 [00:36<00:00,  1.38it/s, episode_return=400, return=-500.000]\n",
      "Iteration 8: 100%|██████████| 50/50 [00:33<00:00,  1.48it/s, episode_return=450, return=-500.000]\n",
      "Iteration 9: 100%|██████████| 50/50 [00:38<00:00,  1.30it/s, episode_return=500, return=-500.000]\n"
     ]
    },
    {
     "data": {
      "application/vnd.jupyter.widget-view+json": {
       "model_id": "6e622596f4924d148e89b10b580d438a",
       "version_major": 2,
       "version_minor": 0
      },
      "text/plain": [
       "VBox(children=(Label(value='0.001 MB of 0.001 MB uploaded\\r'), FloatProgress(value=1.0, max=1.0)))"
      ]
     },
     "metadata": {},
     "output_type": "display_data"
    },
    {
     "data": {
      "text/html": [
       "<style>\n",
       "    table.wandb td:nth-child(1) { padding: 0 10px; text-align: left ; width: auto;} td:nth-child(2) {text-align: left ; width: 100%}\n",
       "    .wandb-row { display: flex; flex-direction: row; flex-wrap: wrap; justify-content: flex-start; width: 100% }\n",
       "    .wandb-col { display: flex; flex-direction: column; flex-basis: 100%; flex: 1; padding: 10px; }\n",
       "    </style>\n",
       "<div class=\"wandb-row\"><div class=\"wandb-col\"><h3>Run history:</h3><br/><table class=\"wandb\"><tr><td>regret</td><td>▁</td></tr></table><br/></div><div class=\"wandb-col\"><h3>Run summary:</h3><br/><table class=\"wandb\"><tr><td>regret</td><td>146517.63213</td></tr></table><br/></div></div>"
      ],
      "text/plain": [
       "<IPython.core.display.HTML object>"
      ]
     },
     "metadata": {},
     "output_type": "display_data"
    },
    {
     "data": {
      "text/html": [
       " View run <strong style=\"color:#cdcd00\">ethereal-sweep-30</strong> at: <a href='https://wandb.ai/rl_shobhith/uncategorized/runs/en2e2365/workspace' target=\"_blank\">https://wandb.ai/rl_shobhith/uncategorized/runs/en2e2365/workspace</a><br/>Synced 5 W&B file(s), 0 media file(s), 0 artifact file(s) and 0 other file(s)"
      ],
      "text/plain": [
       "<IPython.core.display.HTML object>"
      ]
     },
     "metadata": {},
     "output_type": "display_data"
    },
    {
     "data": {
      "text/html": [
       "Find logs at: <code>.\\wandb\\run-20240402_020206-en2e2365\\logs</code>"
      ],
      "text/plain": [
       "<IPython.core.display.HTML object>"
      ]
     },
     "metadata": {},
     "output_type": "display_data"
    },
    {
     "name": "stderr",
     "output_type": "stream",
     "text": [
      "\u001b[34m\u001b[1mwandb\u001b[0m: Agent Starting Run: 0g3iwav5 with config:\n",
      "\u001b[34m\u001b[1mwandb\u001b[0m: \thidden_dim: 128\n",
      "\u001b[34m\u001b[1mwandb\u001b[0m: \tlearning_rate: 0.007095391417298069\n",
      "Failed to detect the name of this notebook, you can set it manually with the WANDB_NOTEBOOK_NAME environment variable to enable code saving.\n",
      "\u001b[34m\u001b[1mwandb\u001b[0m: \u001b[33mWARNING\u001b[0m Ignored wandb.init() arg project when running a sweep.\n"
     ]
    },
    {
     "data": {
      "text/html": [
       "Tracking run with wandb version 0.16.5"
      ],
      "text/plain": [
       "<IPython.core.display.HTML object>"
      ]
     },
     "metadata": {},
     "output_type": "display_data"
    },
    {
     "data": {
      "text/html": [
       "Run data is saved locally in <code>c:\\Users\\Shobhith Vadlamudi\\AppData\\Local\\Programs\\Microsoft VS Code\\wandb\\run-20240402_020608-0g3iwav5</code>"
      ],
      "text/plain": [
       "<IPython.core.display.HTML object>"
      ]
     },
     "metadata": {},
     "output_type": "display_data"
    },
    {
     "data": {
      "text/html": [
       "Syncing run <strong><a href='https://wandb.ai/rl_shobhith/uncategorized/runs/0g3iwav5/workspace' target=\"_blank\">lunar-sweep-31</a></strong> to <a href='https://wandb.ai/rl_shobhith/uncategorized' target=\"_blank\">Weights & Biases</a> (<a href='https://wandb.me/run' target=\"_blank\">docs</a>)<br/>Sweep page: <a href='https://wandb.ai/rl_shobhith/uncategorized/sweeps/yivd2k4v' target=\"_blank\">https://wandb.ai/rl_shobhith/uncategorized/sweeps/yivd2k4v</a>"
      ],
      "text/plain": [
       "<IPython.core.display.HTML object>"
      ]
     },
     "metadata": {},
     "output_type": "display_data"
    },
    {
     "data": {
      "text/html": [
       " View project at <a href='https://wandb.ai/rl_shobhith/uncategorized' target=\"_blank\">https://wandb.ai/rl_shobhith/uncategorized</a>"
      ],
      "text/plain": [
       "<IPython.core.display.HTML object>"
      ]
     },
     "metadata": {},
     "output_type": "display_data"
    },
    {
     "data": {
      "text/html": [
       " View sweep at <a href='https://wandb.ai/rl_shobhith/uncategorized/sweeps/yivd2k4v' target=\"_blank\">https://wandb.ai/rl_shobhith/uncategorized/sweeps/yivd2k4v</a>"
      ],
      "text/plain": [
       "<IPython.core.display.HTML object>"
      ]
     },
     "metadata": {},
     "output_type": "display_data"
    },
    {
     "data": {
      "text/html": [
       " View run at <a href='https://wandb.ai/rl_shobhith/uncategorized/runs/0g3iwav5/workspace' target=\"_blank\">https://wandb.ai/rl_shobhith/uncategorized/runs/0g3iwav5/workspace</a>"
      ],
      "text/plain": [
       "<IPython.core.display.HTML object>"
      ]
     },
     "metadata": {},
     "output_type": "display_data"
    },
    {
     "name": "stderr",
     "output_type": "stream",
     "text": [
      "Iteration 0: 100%|██████████| 50/50 [00:34<00:00,  1.44it/s, episode_return=50, return=-500.000]\n",
      "Iteration 1: 100%|██████████| 50/50 [00:35<00:00,  1.40it/s, episode_return=100, return=-500.000]\n",
      "Iteration 2: 100%|██████████| 50/50 [00:33<00:00,  1.50it/s, episode_return=150, return=-500.000]\n",
      "Iteration 3: 100%|██████████| 50/50 [00:32<00:00,  1.52it/s, episode_return=200, return=-500.000]\n",
      "Iteration 4: 100%|██████████| 50/50 [00:33<00:00,  1.51it/s, episode_return=250, return=-500.000]\n",
      "Iteration 5: 100%|██████████| 50/50 [00:33<00:00,  1.50it/s, episode_return=300, return=-500.000]\n",
      "Iteration 6: 100%|██████████| 50/50 [00:33<00:00,  1.51it/s, episode_return=350, return=-500.000]\n",
      "Iteration 7: 100%|██████████| 50/50 [00:30<00:00,  1.62it/s, episode_return=400, return=-500.000]\n",
      "Iteration 8: 100%|██████████| 50/50 [00:34<00:00,  1.43it/s, episode_return=450, return=-500.000]\n",
      "Iteration 9: 100%|██████████| 50/50 [00:37<00:00,  1.34it/s, episode_return=500, return=-500.000]\n"
     ]
    },
    {
     "data": {
      "application/vnd.jupyter.widget-view+json": {
       "model_id": "75e7cccf447b4bcba1c82805c03bd35b",
       "version_major": 2,
       "version_minor": 0
      },
      "text/plain": [
       "VBox(children=(Label(value='0.001 MB of 0.001 MB uploaded\\r'), FloatProgress(value=1.0, max=1.0)))"
      ]
     },
     "metadata": {},
     "output_type": "display_data"
    },
    {
     "data": {
      "text/html": [
       "<style>\n",
       "    table.wandb td:nth-child(1) { padding: 0 10px; text-align: left ; width: auto;} td:nth-child(2) {text-align: left ; width: 100%}\n",
       "    .wandb-row { display: flex; flex-direction: row; flex-wrap: wrap; justify-content: flex-start; width: 100% }\n",
       "    .wandb-col { display: flex; flex-direction: column; flex-basis: 100%; flex: 1; padding: 10px; }\n",
       "    </style>\n",
       "<div class=\"wandb-row\"><div class=\"wandb-col\"><h3>Run history:</h3><br/><table class=\"wandb\"><tr><td>regret</td><td>▁</td></tr></table><br/></div><div class=\"wandb-col\"><h3>Run summary:</h3><br/><table class=\"wandb\"><tr><td>regret</td><td>248939.75518</td></tr></table><br/></div></div>"
      ],
      "text/plain": [
       "<IPython.core.display.HTML object>"
      ]
     },
     "metadata": {},
     "output_type": "display_data"
    },
    {
     "data": {
      "text/html": [
       " View run <strong style=\"color:#cdcd00\">lunar-sweep-31</strong> at: <a href='https://wandb.ai/rl_shobhith/uncategorized/runs/0g3iwav5/workspace' target=\"_blank\">https://wandb.ai/rl_shobhith/uncategorized/runs/0g3iwav5/workspace</a><br/>Synced 5 W&B file(s), 0 media file(s), 0 artifact file(s) and 0 other file(s)"
      ],
      "text/plain": [
       "<IPython.core.display.HTML object>"
      ]
     },
     "metadata": {},
     "output_type": "display_data"
    },
    {
     "data": {
      "text/html": [
       "Find logs at: <code>.\\wandb\\run-20240402_020608-0g3iwav5\\logs</code>"
      ],
      "text/plain": [
       "<IPython.core.display.HTML object>"
      ]
     },
     "metadata": {},
     "output_type": "display_data"
    },
    {
     "name": "stderr",
     "output_type": "stream",
     "text": [
      "\u001b[34m\u001b[1mwandb\u001b[0m: Agent Starting Run: 3k6d4ez7 with config:\n",
      "\u001b[34m\u001b[1mwandb\u001b[0m: \thidden_dim: 256\n",
      "\u001b[34m\u001b[1mwandb\u001b[0m: \tlearning_rate: 0.001160996133202727\n",
      "Failed to detect the name of this notebook, you can set it manually with the WANDB_NOTEBOOK_NAME environment variable to enable code saving.\n",
      "\u001b[34m\u001b[1mwandb\u001b[0m: \u001b[33mWARNING\u001b[0m Ignored wandb.init() arg project when running a sweep.\n"
     ]
    },
    {
     "data": {
      "application/vnd.jupyter.widget-view+json": {
       "model_id": "d3fb8ce15a2d4a76bb23b2d6f7c60166",
       "version_major": 2,
       "version_minor": 0
      },
      "text/plain": [
       "VBox(children=(Label(value='Waiting for wandb.init()...\\r'), FloatProgress(value=0.011111111111111112, max=1.0…"
      ]
     },
     "metadata": {},
     "output_type": "display_data"
    },
    {
     "data": {
      "text/html": [
       "Tracking run with wandb version 0.16.5"
      ],
      "text/plain": [
       "<IPython.core.display.HTML object>"
      ]
     },
     "metadata": {},
     "output_type": "display_data"
    },
    {
     "data": {
      "text/html": [
       "Run data is saved locally in <code>c:\\Users\\Shobhith Vadlamudi\\AppData\\Local\\Programs\\Microsoft VS Code\\wandb\\run-20240402_021205-3k6d4ez7</code>"
      ],
      "text/plain": [
       "<IPython.core.display.HTML object>"
      ]
     },
     "metadata": {},
     "output_type": "display_data"
    },
    {
     "data": {
      "text/html": [
       "Syncing run <strong><a href='https://wandb.ai/rl_shobhith/uncategorized/runs/3k6d4ez7/workspace' target=\"_blank\">resilient-sweep-32</a></strong> to <a href='https://wandb.ai/rl_shobhith/uncategorized' target=\"_blank\">Weights & Biases</a> (<a href='https://wandb.me/run' target=\"_blank\">docs</a>)<br/>Sweep page: <a href='https://wandb.ai/rl_shobhith/uncategorized/sweeps/yivd2k4v' target=\"_blank\">https://wandb.ai/rl_shobhith/uncategorized/sweeps/yivd2k4v</a>"
      ],
      "text/plain": [
       "<IPython.core.display.HTML object>"
      ]
     },
     "metadata": {},
     "output_type": "display_data"
    },
    {
     "data": {
      "text/html": [
       " View project at <a href='https://wandb.ai/rl_shobhith/uncategorized' target=\"_blank\">https://wandb.ai/rl_shobhith/uncategorized</a>"
      ],
      "text/plain": [
       "<IPython.core.display.HTML object>"
      ]
     },
     "metadata": {},
     "output_type": "display_data"
    },
    {
     "data": {
      "text/html": [
       " View sweep at <a href='https://wandb.ai/rl_shobhith/uncategorized/sweeps/yivd2k4v' target=\"_blank\">https://wandb.ai/rl_shobhith/uncategorized/sweeps/yivd2k4v</a>"
      ],
      "text/plain": [
       "<IPython.core.display.HTML object>"
      ]
     },
     "metadata": {},
     "output_type": "display_data"
    },
    {
     "data": {
      "text/html": [
       " View run at <a href='https://wandb.ai/rl_shobhith/uncategorized/runs/3k6d4ez7/workspace' target=\"_blank\">https://wandb.ai/rl_shobhith/uncategorized/runs/3k6d4ez7/workspace</a>"
      ],
      "text/plain": [
       "<IPython.core.display.HTML object>"
      ]
     },
     "metadata": {},
     "output_type": "display_data"
    },
    {
     "name": "stderr",
     "output_type": "stream",
     "text": [
      "Iteration 0: 100%|██████████| 50/50 [00:39<00:00,  1.28it/s, episode_return=50, return=-500.000]\n",
      "Iteration 1: 100%|██████████| 50/50 [00:36<00:00,  1.37it/s, episode_return=100, return=-500.000]\n",
      "Iteration 2: 100%|██████████| 50/50 [00:39<00:00,  1.28it/s, episode_return=150, return=-500.000]\n",
      "Iteration 3: 100%|██████████| 50/50 [00:38<00:00,  1.29it/s, episode_return=200, return=-500.000]\n",
      "Iteration 4: 100%|██████████| 50/50 [00:38<00:00,  1.31it/s, episode_return=250, return=-500.000]\n",
      "Iteration 5: 100%|██████████| 50/50 [00:38<00:00,  1.29it/s, episode_return=300, return=-500.000]\n",
      "Iteration 6: 100%|██████████| 50/50 [00:37<00:00,  1.32it/s, episode_return=350, return=-500.000]\n",
      "Iteration 7: 100%|██████████| 50/50 [00:39<00:00,  1.27it/s, episode_return=400, return=-500.000]\n",
      "Iteration 8: 100%|██████████| 50/50 [00:38<00:00,  1.29it/s, episode_return=450, return=-500.000]\n",
      "Iteration 9: 100%|██████████| 50/50 [00:39<00:00,  1.27it/s, episode_return=500, return=-500.000]\n"
     ]
    },
    {
     "data": {
      "application/vnd.jupyter.widget-view+json": {
       "model_id": "c806ee791ae14863bda8c9d5843a54e1",
       "version_major": 2,
       "version_minor": 0
      },
      "text/plain": [
       "VBox(children=(Label(value='0.001 MB of 0.007 MB uploaded\\r'), FloatProgress(value=0.16339098532494759, max=1.…"
      ]
     },
     "metadata": {},
     "output_type": "display_data"
    },
    {
     "data": {
      "text/html": [
       "<style>\n",
       "    table.wandb td:nth-child(1) { padding: 0 10px; text-align: left ; width: auto;} td:nth-child(2) {text-align: left ; width: 100%}\n",
       "    .wandb-row { display: flex; flex-direction: row; flex-wrap: wrap; justify-content: flex-start; width: 100% }\n",
       "    .wandb-col { display: flex; flex-direction: column; flex-basis: 100%; flex: 1; padding: 10px; }\n",
       "    </style>\n",
       "<div class=\"wandb-row\"><div class=\"wandb-col\"><h3>Run history:</h3><br/><table class=\"wandb\"><tr><td>regret</td><td>▁</td></tr></table><br/></div><div class=\"wandb-col\"><h3>Run summary:</h3><br/><table class=\"wandb\"><tr><td>regret</td><td>248441.08833</td></tr></table><br/></div></div>"
      ],
      "text/plain": [
       "<IPython.core.display.HTML object>"
      ]
     },
     "metadata": {},
     "output_type": "display_data"
    },
    {
     "data": {
      "text/html": [
       " View run <strong style=\"color:#cdcd00\">resilient-sweep-32</strong> at: <a href='https://wandb.ai/rl_shobhith/uncategorized/runs/3k6d4ez7/workspace' target=\"_blank\">https://wandb.ai/rl_shobhith/uncategorized/runs/3k6d4ez7/workspace</a><br/>Synced 5 W&B file(s), 0 media file(s), 0 artifact file(s) and 0 other file(s)"
      ],
      "text/plain": [
       "<IPython.core.display.HTML object>"
      ]
     },
     "metadata": {},
     "output_type": "display_data"
    },
    {
     "data": {
      "text/html": [
       "Find logs at: <code>.\\wandb\\run-20240402_021205-3k6d4ez7\\logs</code>"
      ],
      "text/plain": [
       "<IPython.core.display.HTML object>"
      ]
     },
     "metadata": {},
     "output_type": "display_data"
    },
    {
     "name": "stderr",
     "output_type": "stream",
     "text": [
      "\u001b[34m\u001b[1mwandb\u001b[0m: Sweep Agent: Waiting for job.\n",
      "\u001b[34m\u001b[1mwandb\u001b[0m: Job received.\n",
      "\u001b[34m\u001b[1mwandb\u001b[0m: Agent Starting Run: va4ju0wx with config:\n",
      "\u001b[34m\u001b[1mwandb\u001b[0m: \thidden_dim: 64\n",
      "\u001b[34m\u001b[1mwandb\u001b[0m: \tlearning_rate: 0.0018845522842206365\n",
      "Failed to detect the name of this notebook, you can set it manually with the WANDB_NOTEBOOK_NAME environment variable to enable code saving.\n",
      "\u001b[34m\u001b[1mwandb\u001b[0m: \u001b[33mWARNING\u001b[0m Ignored wandb.init() arg project when running a sweep.\n"
     ]
    },
    {
     "data": {
      "text/html": [
       "Tracking run with wandb version 0.16.5"
      ],
      "text/plain": [
       "<IPython.core.display.HTML object>"
      ]
     },
     "metadata": {},
     "output_type": "display_data"
    },
    {
     "data": {
      "text/html": [
       "Run data is saved locally in <code>c:\\Users\\Shobhith Vadlamudi\\AppData\\Local\\Programs\\Microsoft VS Code\\wandb\\run-20240402_021851-va4ju0wx</code>"
      ],
      "text/plain": [
       "<IPython.core.display.HTML object>"
      ]
     },
     "metadata": {},
     "output_type": "display_data"
    },
    {
     "data": {
      "text/html": [
       "Syncing run <strong><a href='https://wandb.ai/rl_shobhith/uncategorized/runs/va4ju0wx/workspace' target=\"_blank\">classic-sweep-33</a></strong> to <a href='https://wandb.ai/rl_shobhith/uncategorized' target=\"_blank\">Weights & Biases</a> (<a href='https://wandb.me/run' target=\"_blank\">docs</a>)<br/>Sweep page: <a href='https://wandb.ai/rl_shobhith/uncategorized/sweeps/yivd2k4v' target=\"_blank\">https://wandb.ai/rl_shobhith/uncategorized/sweeps/yivd2k4v</a>"
      ],
      "text/plain": [
       "<IPython.core.display.HTML object>"
      ]
     },
     "metadata": {},
     "output_type": "display_data"
    },
    {
     "data": {
      "text/html": [
       " View project at <a href='https://wandb.ai/rl_shobhith/uncategorized' target=\"_blank\">https://wandb.ai/rl_shobhith/uncategorized</a>"
      ],
      "text/plain": [
       "<IPython.core.display.HTML object>"
      ]
     },
     "metadata": {},
     "output_type": "display_data"
    },
    {
     "data": {
      "text/html": [
       " View sweep at <a href='https://wandb.ai/rl_shobhith/uncategorized/sweeps/yivd2k4v' target=\"_blank\">https://wandb.ai/rl_shobhith/uncategorized/sweeps/yivd2k4v</a>"
      ],
      "text/plain": [
       "<IPython.core.display.HTML object>"
      ]
     },
     "metadata": {},
     "output_type": "display_data"
    },
    {
     "data": {
      "text/html": [
       " View run at <a href='https://wandb.ai/rl_shobhith/uncategorized/runs/va4ju0wx/workspace' target=\"_blank\">https://wandb.ai/rl_shobhith/uncategorized/runs/va4ju0wx/workspace</a>"
      ],
      "text/plain": [
       "<IPython.core.display.HTML object>"
      ]
     },
     "metadata": {},
     "output_type": "display_data"
    },
    {
     "name": "stderr",
     "output_type": "stream",
     "text": [
      "Iteration 0: 100%|██████████| 50/50 [00:32<00:00,  1.55it/s, episode_return=50, return=-500.000]\n",
      "Iteration 1: 100%|██████████| 50/50 [00:30<00:00,  1.66it/s, episode_return=100, return=-500.000]\n",
      "Iteration 2: 100%|██████████| 50/50 [00:30<00:00,  1.64it/s, episode_return=150, return=-500.000]\n",
      "Iteration 3: 100%|██████████| 50/50 [00:30<00:00,  1.66it/s, episode_return=200, return=-500.000]\n",
      "Iteration 4: 100%|██████████| 50/50 [00:32<00:00,  1.52it/s, episode_return=250, return=-500.000]\n",
      "Iteration 5: 100%|██████████| 50/50 [00:34<00:00,  1.43it/s, episode_return=300, return=-500.000]\n",
      "Iteration 6: 100%|██████████| 50/50 [00:34<00:00,  1.46it/s, episode_return=350, return=-500.000]\n",
      "Iteration 7: 100%|██████████| 50/50 [00:31<00:00,  1.60it/s, episode_return=400, return=-500.000]\n",
      "Iteration 8: 100%|██████████| 50/50 [00:29<00:00,  1.68it/s, episode_return=450, return=-500.000]\n",
      "Iteration 9: 100%|██████████| 50/50 [00:34<00:00,  1.47it/s, episode_return=500, return=-500.000]\n"
     ]
    },
    {
     "data": {
      "application/vnd.jupyter.widget-view+json": {
       "model_id": "1624f61da8a048cdb3398b7252ee2e93",
       "version_major": 2,
       "version_minor": 0
      },
      "text/plain": [
       "VBox(children=(Label(value='0.001 MB of 0.001 MB uploaded\\r'), FloatProgress(value=1.0, max=1.0)))"
      ]
     },
     "metadata": {},
     "output_type": "display_data"
    },
    {
     "data": {
      "text/html": [
       "<style>\n",
       "    table.wandb td:nth-child(1) { padding: 0 10px; text-align: left ; width: auto;} td:nth-child(2) {text-align: left ; width: 100%}\n",
       "    .wandb-row { display: flex; flex-direction: row; flex-wrap: wrap; justify-content: flex-start; width: 100% }\n",
       "    .wandb-col { display: flex; flex-direction: column; flex-basis: 100%; flex: 1; padding: 10px; }\n",
       "    </style>\n",
       "<div class=\"wandb-row\"><div class=\"wandb-col\"><h3>Run history:</h3><br/><table class=\"wandb\"><tr><td>regret</td><td>▁</td></tr></table><br/></div><div class=\"wandb-col\"><h3>Run summary:</h3><br/><table class=\"wandb\"><tr><td>regret</td><td>250000.0</td></tr></table><br/></div></div>"
      ],
      "text/plain": [
       "<IPython.core.display.HTML object>"
      ]
     },
     "metadata": {},
     "output_type": "display_data"
    },
    {
     "data": {
      "text/html": [
       " View run <strong style=\"color:#cdcd00\">classic-sweep-33</strong> at: <a href='https://wandb.ai/rl_shobhith/uncategorized/runs/va4ju0wx/workspace' target=\"_blank\">https://wandb.ai/rl_shobhith/uncategorized/runs/va4ju0wx/workspace</a><br/>Synced 5 W&B file(s), 0 media file(s), 0 artifact file(s) and 0 other file(s)"
      ],
      "text/plain": [
       "<IPython.core.display.HTML object>"
      ]
     },
     "metadata": {},
     "output_type": "display_data"
    },
    {
     "data": {
      "text/html": [
       "Find logs at: <code>.\\wandb\\run-20240402_021851-va4ju0wx\\logs</code>"
      ],
      "text/plain": [
       "<IPython.core.display.HTML object>"
      ]
     },
     "metadata": {},
     "output_type": "display_data"
    },
    {
     "name": "stderr",
     "output_type": "stream",
     "text": [
      "\u001b[34m\u001b[1mwandb\u001b[0m: Agent Starting Run: 5xiooh66 with config:\n",
      "\u001b[34m\u001b[1mwandb\u001b[0m: \thidden_dim: 64\n",
      "\u001b[34m\u001b[1mwandb\u001b[0m: \tlearning_rate: 0.005564348523833343\n",
      "Failed to detect the name of this notebook, you can set it manually with the WANDB_NOTEBOOK_NAME environment variable to enable code saving.\n",
      "\u001b[34m\u001b[1mwandb\u001b[0m: \u001b[33mWARNING\u001b[0m Ignored wandb.init() arg project when running a sweep.\n"
     ]
    },
    {
     "data": {
      "text/html": [
       "Tracking run with wandb version 0.16.5"
      ],
      "text/plain": [
       "<IPython.core.display.HTML object>"
      ]
     },
     "metadata": {},
     "output_type": "display_data"
    },
    {
     "data": {
      "text/html": [
       "Run data is saved locally in <code>c:\\Users\\Shobhith Vadlamudi\\AppData\\Local\\Programs\\Microsoft VS Code\\wandb\\run-20240402_022423-5xiooh66</code>"
      ],
      "text/plain": [
       "<IPython.core.display.HTML object>"
      ]
     },
     "metadata": {},
     "output_type": "display_data"
    },
    {
     "data": {
      "text/html": [
       "Syncing run <strong><a href='https://wandb.ai/rl_shobhith/uncategorized/runs/5xiooh66/workspace' target=\"_blank\">upbeat-sweep-34</a></strong> to <a href='https://wandb.ai/rl_shobhith/uncategorized' target=\"_blank\">Weights & Biases</a> (<a href='https://wandb.me/run' target=\"_blank\">docs</a>)<br/>Sweep page: <a href='https://wandb.ai/rl_shobhith/uncategorized/sweeps/yivd2k4v' target=\"_blank\">https://wandb.ai/rl_shobhith/uncategorized/sweeps/yivd2k4v</a>"
      ],
      "text/plain": [
       "<IPython.core.display.HTML object>"
      ]
     },
     "metadata": {},
     "output_type": "display_data"
    },
    {
     "data": {
      "text/html": [
       " View project at <a href='https://wandb.ai/rl_shobhith/uncategorized' target=\"_blank\">https://wandb.ai/rl_shobhith/uncategorized</a>"
      ],
      "text/plain": [
       "<IPython.core.display.HTML object>"
      ]
     },
     "metadata": {},
     "output_type": "display_data"
    },
    {
     "data": {
      "text/html": [
       " View sweep at <a href='https://wandb.ai/rl_shobhith/uncategorized/sweeps/yivd2k4v' target=\"_blank\">https://wandb.ai/rl_shobhith/uncategorized/sweeps/yivd2k4v</a>"
      ],
      "text/plain": [
       "<IPython.core.display.HTML object>"
      ]
     },
     "metadata": {},
     "output_type": "display_data"
    },
    {
     "data": {
      "text/html": [
       " View run at <a href='https://wandb.ai/rl_shobhith/uncategorized/runs/5xiooh66/workspace' target=\"_blank\">https://wandb.ai/rl_shobhith/uncategorized/runs/5xiooh66/workspace</a>"
      ],
      "text/plain": [
       "<IPython.core.display.HTML object>"
      ]
     },
     "metadata": {},
     "output_type": "display_data"
    },
    {
     "name": "stderr",
     "output_type": "stream",
     "text": [
      "Iteration 0: 100%|██████████| 50/50 [00:14<00:00,  3.56it/s, episode_return=50, return=-114.200]\n",
      "Iteration 1: 100%|██████████| 50/50 [00:07<00:00,  6.43it/s, episode_return=100, return=-93.600]\n",
      "Iteration 2: 100%|██████████| 50/50 [00:07<00:00,  6.63it/s, episode_return=150, return=-99.700] \n",
      "Iteration 3: 100%|██████████| 50/50 [00:07<00:00,  6.71it/s, episode_return=200, return=-99.400] \n",
      "Iteration 4: 100%|██████████| 50/50 [00:06<00:00,  7.70it/s, episode_return=250, return=-105.400]\n",
      "Iteration 5: 100%|██████████| 50/50 [00:07<00:00,  6.63it/s, episode_return=300, return=-99.500] \n",
      "Iteration 6: 100%|██████████| 50/50 [00:07<00:00,  6.57it/s, episode_return=350, return=-105.400]\n",
      "Iteration 7: 100%|██████████| 50/50 [00:06<00:00,  7.56it/s, episode_return=400, return=-89.000]\n",
      "Iteration 8: 100%|██████████| 50/50 [00:05<00:00,  8.50it/s, episode_return=450, return=-84.000] \n",
      "Iteration 9: 100%|██████████| 50/50 [00:04<00:00, 10.10it/s, episode_return=500, return=-90.600]\n"
     ]
    },
    {
     "data": {
      "application/vnd.jupyter.widget-view+json": {
       "model_id": "bd5418e5a29d40b4be2885ef9ef2b4d1",
       "version_major": 2,
       "version_minor": 0
      },
      "text/plain": [
       "VBox(children=(Label(value='0.001 MB of 0.001 MB uploaded\\r'), FloatProgress(value=1.0, max=1.0)))"
      ]
     },
     "metadata": {},
     "output_type": "display_data"
    },
    {
     "data": {
      "text/html": [
       "<style>\n",
       "    table.wandb td:nth-child(1) { padding: 0 10px; text-align: left ; width: auto;} td:nth-child(2) {text-align: left ; width: 100%}\n",
       "    .wandb-row { display: flex; flex-direction: row; flex-wrap: wrap; justify-content: flex-start; width: 100% }\n",
       "    .wandb-col { display: flex; flex-direction: column; flex-basis: 100%; flex: 1; padding: 10px; }\n",
       "    </style>\n",
       "<div class=\"wandb-row\"><div class=\"wandb-col\"><h3>Run history:</h3><br/><table class=\"wandb\"><tr><td>regret</td><td>▁</td></tr></table><br/></div><div class=\"wandb-col\"><h3>Run summary:</h3><br/><table class=\"wandb\"><tr><td>regret</td><td>65104.86107</td></tr></table><br/></div></div>"
      ],
      "text/plain": [
       "<IPython.core.display.HTML object>"
      ]
     },
     "metadata": {},
     "output_type": "display_data"
    },
    {
     "data": {
      "text/html": [
       " View run <strong style=\"color:#cdcd00\">upbeat-sweep-34</strong> at: <a href='https://wandb.ai/rl_shobhith/uncategorized/runs/5xiooh66/workspace' target=\"_blank\">https://wandb.ai/rl_shobhith/uncategorized/runs/5xiooh66/workspace</a><br/>Synced 5 W&B file(s), 0 media file(s), 0 artifact file(s) and 0 other file(s)"
      ],
      "text/plain": [
       "<IPython.core.display.HTML object>"
      ]
     },
     "metadata": {},
     "output_type": "display_data"
    },
    {
     "data": {
      "text/html": [
       "Find logs at: <code>.\\wandb\\run-20240402_022423-5xiooh66\\logs</code>"
      ],
      "text/plain": [
       "<IPython.core.display.HTML object>"
      ]
     },
     "metadata": {},
     "output_type": "display_data"
    },
    {
     "name": "stderr",
     "output_type": "stream",
     "text": [
      "\u001b[34m\u001b[1mwandb\u001b[0m: Agent Starting Run: z6te66fz with config:\n",
      "\u001b[34m\u001b[1mwandb\u001b[0m: \thidden_dim: 64\n",
      "\u001b[34m\u001b[1mwandb\u001b[0m: \tlearning_rate: 0.007221126963879197\n",
      "Failed to detect the name of this notebook, you can set it manually with the WANDB_NOTEBOOK_NAME environment variable to enable code saving.\n",
      "\u001b[34m\u001b[1mwandb\u001b[0m: \u001b[33mWARNING\u001b[0m Ignored wandb.init() arg project when running a sweep.\n"
     ]
    },
    {
     "data": {
      "text/html": [
       "Tracking run with wandb version 0.16.5"
      ],
      "text/plain": [
       "<IPython.core.display.HTML object>"
      ]
     },
     "metadata": {},
     "output_type": "display_data"
    },
    {
     "data": {
      "text/html": [
       "Run data is saved locally in <code>c:\\Users\\Shobhith Vadlamudi\\AppData\\Local\\Programs\\Microsoft VS Code\\wandb\\run-20240402_022554-z6te66fz</code>"
      ],
      "text/plain": [
       "<IPython.core.display.HTML object>"
      ]
     },
     "metadata": {},
     "output_type": "display_data"
    },
    {
     "data": {
      "text/html": [
       "Syncing run <strong><a href='https://wandb.ai/rl_shobhith/uncategorized/runs/z6te66fz/workspace' target=\"_blank\">snowy-sweep-35</a></strong> to <a href='https://wandb.ai/rl_shobhith/uncategorized' target=\"_blank\">Weights & Biases</a> (<a href='https://wandb.me/run' target=\"_blank\">docs</a>)<br/>Sweep page: <a href='https://wandb.ai/rl_shobhith/uncategorized/sweeps/yivd2k4v' target=\"_blank\">https://wandb.ai/rl_shobhith/uncategorized/sweeps/yivd2k4v</a>"
      ],
      "text/plain": [
       "<IPython.core.display.HTML object>"
      ]
     },
     "metadata": {},
     "output_type": "display_data"
    },
    {
     "data": {
      "text/html": [
       " View project at <a href='https://wandb.ai/rl_shobhith/uncategorized' target=\"_blank\">https://wandb.ai/rl_shobhith/uncategorized</a>"
      ],
      "text/plain": [
       "<IPython.core.display.HTML object>"
      ]
     },
     "metadata": {},
     "output_type": "display_data"
    },
    {
     "data": {
      "text/html": [
       " View sweep at <a href='https://wandb.ai/rl_shobhith/uncategorized/sweeps/yivd2k4v' target=\"_blank\">https://wandb.ai/rl_shobhith/uncategorized/sweeps/yivd2k4v</a>"
      ],
      "text/plain": [
       "<IPython.core.display.HTML object>"
      ]
     },
     "metadata": {},
     "output_type": "display_data"
    },
    {
     "data": {
      "text/html": [
       " View run at <a href='https://wandb.ai/rl_shobhith/uncategorized/runs/z6te66fz/workspace' target=\"_blank\">https://wandb.ai/rl_shobhith/uncategorized/runs/z6te66fz/workspace</a>"
      ],
      "text/plain": [
       "<IPython.core.display.HTML object>"
      ]
     },
     "metadata": {},
     "output_type": "display_data"
    },
    {
     "name": "stderr",
     "output_type": "stream",
     "text": [
      "Iteration 0: 100%|██████████| 50/50 [00:34<00:00,  1.45it/s, episode_return=50, return=-500.000]\n",
      "Iteration 1: 100%|██████████| 50/50 [00:34<00:00,  1.44it/s, episode_return=100, return=-500.000]\n",
      "Iteration 2: 100%|██████████| 50/50 [00:33<00:00,  1.50it/s, episode_return=150, return=-500.000]\n",
      "Iteration 3: 100%|██████████| 50/50 [00:33<00:00,  1.50it/s, episode_return=200, return=-500.000]\n",
      "Iteration 4: 100%|██████████| 50/50 [00:34<00:00,  1.46it/s, episode_return=250, return=-500.000]\n",
      "Iteration 5: 100%|██████████| 50/50 [00:34<00:00,  1.44it/s, episode_return=300, return=-500.000]\n",
      "Iteration 6: 100%|██████████| 50/50 [00:33<00:00,  1.51it/s, episode_return=350, return=-500.000]\n",
      "Iteration 7: 100%|██████████| 50/50 [00:27<00:00,  1.80it/s, episode_return=400, return=-500.000]\n",
      "Iteration 8: 100%|██████████| 50/50 [00:28<00:00,  1.73it/s, episode_return=450, return=-362.200]\n",
      "Iteration 9: 100%|██████████| 50/50 [00:06<00:00,  7.77it/s, episode_return=500, return=-100.200]\n"
     ]
    },
    {
     "data": {
      "application/vnd.jupyter.widget-view+json": {
       "model_id": "de23da7310354c0ea0829fced8e749ec",
       "version_major": 2,
       "version_minor": 0
      },
      "text/plain": [
       "VBox(children=(Label(value='0.001 MB of 0.001 MB uploaded\\r'), FloatProgress(value=1.0, max=1.0)))"
      ]
     },
     "metadata": {},
     "output_type": "display_data"
    },
    {
     "data": {
      "text/html": [
       "<style>\n",
       "    table.wandb td:nth-child(1) { padding: 0 10px; text-align: left ; width: auto;} td:nth-child(2) {text-align: left ; width: 100%}\n",
       "    .wandb-row { display: flex; flex-direction: row; flex-wrap: wrap; justify-content: flex-start; width: 100% }\n",
       "    .wandb-col { display: flex; flex-direction: column; flex-basis: 100%; flex: 1; padding: 10px; }\n",
       "    </style>\n",
       "<div class=\"wandb-row\"><div class=\"wandb-col\"><h3>Run history:</h3><br/><table class=\"wandb\"><tr><td>regret</td><td>▁</td></tr></table><br/></div><div class=\"wandb-col\"><h3>Run summary:</h3><br/><table class=\"wandb\"><tr><td>regret</td><td>243757.08202</td></tr></table><br/></div></div>"
      ],
      "text/plain": [
       "<IPython.core.display.HTML object>"
      ]
     },
     "metadata": {},
     "output_type": "display_data"
    },
    {
     "data": {
      "text/html": [
       " View run <strong style=\"color:#cdcd00\">snowy-sweep-35</strong> at: <a href='https://wandb.ai/rl_shobhith/uncategorized/runs/z6te66fz/workspace' target=\"_blank\">https://wandb.ai/rl_shobhith/uncategorized/runs/z6te66fz/workspace</a><br/>Synced 5 W&B file(s), 0 media file(s), 0 artifact file(s) and 0 other file(s)"
      ],
      "text/plain": [
       "<IPython.core.display.HTML object>"
      ]
     },
     "metadata": {},
     "output_type": "display_data"
    },
    {
     "data": {
      "text/html": [
       "Find logs at: <code>.\\wandb\\run-20240402_022554-z6te66fz\\logs</code>"
      ],
      "text/plain": [
       "<IPython.core.display.HTML object>"
      ]
     },
     "metadata": {},
     "output_type": "display_data"
    },
    {
     "name": "stderr",
     "output_type": "stream",
     "text": [
      "\u001b[34m\u001b[1mwandb\u001b[0m: Agent Starting Run: 1ugdzqqc with config:\n",
      "\u001b[34m\u001b[1mwandb\u001b[0m: \thidden_dim: 256\n",
      "\u001b[34m\u001b[1mwandb\u001b[0m: \tlearning_rate: 0.002234795891937935\n",
      "Failed to detect the name of this notebook, you can set it manually with the WANDB_NOTEBOOK_NAME environment variable to enable code saving.\n",
      "\u001b[34m\u001b[1mwandb\u001b[0m: \u001b[33mWARNING\u001b[0m Ignored wandb.init() arg project when running a sweep.\n"
     ]
    },
    {
     "data": {
      "text/html": [
       "Tracking run with wandb version 0.16.5"
      ],
      "text/plain": [
       "<IPython.core.display.HTML object>"
      ]
     },
     "metadata": {},
     "output_type": "display_data"
    },
    {
     "data": {
      "text/html": [
       "Run data is saved locally in <code>c:\\Users\\Shobhith Vadlamudi\\AppData\\Local\\Programs\\Microsoft VS Code\\wandb\\run-20240402_023110-1ugdzqqc</code>"
      ],
      "text/plain": [
       "<IPython.core.display.HTML object>"
      ]
     },
     "metadata": {},
     "output_type": "display_data"
    },
    {
     "data": {
      "text/html": [
       "Syncing run <strong><a href='https://wandb.ai/rl_shobhith/uncategorized/runs/1ugdzqqc/workspace' target=\"_blank\">bumbling-sweep-36</a></strong> to <a href='https://wandb.ai/rl_shobhith/uncategorized' target=\"_blank\">Weights & Biases</a> (<a href='https://wandb.me/run' target=\"_blank\">docs</a>)<br/>Sweep page: <a href='https://wandb.ai/rl_shobhith/uncategorized/sweeps/yivd2k4v' target=\"_blank\">https://wandb.ai/rl_shobhith/uncategorized/sweeps/yivd2k4v</a>"
      ],
      "text/plain": [
       "<IPython.core.display.HTML object>"
      ]
     },
     "metadata": {},
     "output_type": "display_data"
    },
    {
     "data": {
      "text/html": [
       " View project at <a href='https://wandb.ai/rl_shobhith/uncategorized' target=\"_blank\">https://wandb.ai/rl_shobhith/uncategorized</a>"
      ],
      "text/plain": [
       "<IPython.core.display.HTML object>"
      ]
     },
     "metadata": {},
     "output_type": "display_data"
    },
    {
     "data": {
      "text/html": [
       " View sweep at <a href='https://wandb.ai/rl_shobhith/uncategorized/sweeps/yivd2k4v' target=\"_blank\">https://wandb.ai/rl_shobhith/uncategorized/sweeps/yivd2k4v</a>"
      ],
      "text/plain": [
       "<IPython.core.display.HTML object>"
      ]
     },
     "metadata": {},
     "output_type": "display_data"
    },
    {
     "data": {
      "text/html": [
       " View run at <a href='https://wandb.ai/rl_shobhith/uncategorized/runs/1ugdzqqc/workspace' target=\"_blank\">https://wandb.ai/rl_shobhith/uncategorized/runs/1ugdzqqc/workspace</a>"
      ],
      "text/plain": [
       "<IPython.core.display.HTML object>"
      ]
     },
     "metadata": {},
     "output_type": "display_data"
    },
    {
     "name": "stderr",
     "output_type": "stream",
     "text": [
      "Iteration 0: 100%|██████████| 50/50 [00:15<00:00,  3.24it/s, episode_return=50, return=-158.700]\n",
      "Iteration 1: 100%|██████████| 50/50 [00:09<00:00,  5.21it/s, episode_return=100, return=-117.800]\n",
      "Iteration 2: 100%|██████████| 50/50 [00:09<00:00,  5.26it/s, episode_return=150, return=-131.900]\n",
      "Iteration 3: 100%|██████████| 50/50 [00:09<00:00,  5.18it/s, episode_return=200, return=-109.300]\n",
      "Iteration 4: 100%|██████████| 50/50 [00:08<00:00,  6.24it/s, episode_return=250, return=-108.100]\n",
      "Iteration 5: 100%|██████████| 50/50 [00:07<00:00,  6.65it/s, episode_return=300, return=-89.900] \n",
      "Iteration 6: 100%|██████████| 50/50 [00:07<00:00,  6.83it/s, episode_return=350, return=-94.900] \n",
      "Iteration 7: 100%|██████████| 50/50 [00:08<00:00,  5.98it/s, episode_return=400, return=-106.400]\n",
      "Iteration 8: 100%|██████████| 50/50 [00:07<00:00,  6.95it/s, episode_return=450, return=-89.200] \n",
      "Iteration 9: 100%|██████████| 50/50 [00:08<00:00,  6.19it/s, episode_return=500, return=-100.100]\n"
     ]
    },
    {
     "data": {
      "application/vnd.jupyter.widget-view+json": {
       "model_id": "901909532c3b45d0b60fdea678fa9203",
       "version_major": 2,
       "version_minor": 0
      },
      "text/plain": [
       "VBox(children=(Label(value='0.001 MB of 0.001 MB uploaded\\r'), FloatProgress(value=1.0, max=1.0)))"
      ]
     },
     "metadata": {},
     "output_type": "display_data"
    },
    {
     "data": {
      "text/html": [
       "<style>\n",
       "    table.wandb td:nth-child(1) { padding: 0 10px; text-align: left ; width: auto;} td:nth-child(2) {text-align: left ; width: 100%}\n",
       "    .wandb-row { display: flex; flex-direction: row; flex-wrap: wrap; justify-content: flex-start; width: 100% }\n",
       "    .wandb-col { display: flex; flex-direction: column; flex-basis: 100%; flex: 1; padding: 10px; }\n",
       "    </style>\n",
       "<div class=\"wandb-row\"><div class=\"wandb-col\"><h3>Run history:</h3><br/><table class=\"wandb\"><tr><td>regret</td><td>▁</td></tr></table><br/></div><div class=\"wandb-col\"><h3>Run summary:</h3><br/><table class=\"wandb\"><tr><td>regret</td><td>63227.82171</td></tr></table><br/></div></div>"
      ],
      "text/plain": [
       "<IPython.core.display.HTML object>"
      ]
     },
     "metadata": {},
     "output_type": "display_data"
    },
    {
     "data": {
      "text/html": [
       " View run <strong style=\"color:#cdcd00\">bumbling-sweep-36</strong> at: <a href='https://wandb.ai/rl_shobhith/uncategorized/runs/1ugdzqqc/workspace' target=\"_blank\">https://wandb.ai/rl_shobhith/uncategorized/runs/1ugdzqqc/workspace</a><br/>Synced 5 W&B file(s), 0 media file(s), 0 artifact file(s) and 0 other file(s)"
      ],
      "text/plain": [
       "<IPython.core.display.HTML object>"
      ]
     },
     "metadata": {},
     "output_type": "display_data"
    },
    {
     "data": {
      "text/html": [
       "Find logs at: <code>.\\wandb\\run-20240402_023110-1ugdzqqc\\logs</code>"
      ],
      "text/plain": [
       "<IPython.core.display.HTML object>"
      ]
     },
     "metadata": {},
     "output_type": "display_data"
    },
    {
     "name": "stderr",
     "output_type": "stream",
     "text": [
      "\u001b[34m\u001b[1mwandb\u001b[0m: Agent Starting Run: 4r6arfml with config:\n",
      "\u001b[34m\u001b[1mwandb\u001b[0m: \thidden_dim: 256\n",
      "\u001b[34m\u001b[1mwandb\u001b[0m: \tlearning_rate: 0.004942302837605629\n",
      "Failed to detect the name of this notebook, you can set it manually with the WANDB_NOTEBOOK_NAME environment variable to enable code saving.\n",
      "\u001b[34m\u001b[1mwandb\u001b[0m: \u001b[33mWARNING\u001b[0m Ignored wandb.init() arg project when running a sweep.\n"
     ]
    },
    {
     "data": {
      "text/html": [
       "Tracking run with wandb version 0.16.5"
      ],
      "text/plain": [
       "<IPython.core.display.HTML object>"
      ]
     },
     "metadata": {},
     "output_type": "display_data"
    },
    {
     "data": {
      "text/html": [
       "Run data is saved locally in <code>c:\\Users\\Shobhith Vadlamudi\\AppData\\Local\\Programs\\Microsoft VS Code\\wandb\\run-20240402_023258-4r6arfml</code>"
      ],
      "text/plain": [
       "<IPython.core.display.HTML object>"
      ]
     },
     "metadata": {},
     "output_type": "display_data"
    },
    {
     "data": {
      "text/html": [
       "Syncing run <strong><a href='https://wandb.ai/rl_shobhith/uncategorized/runs/4r6arfml/workspace' target=\"_blank\">pretty-sweep-37</a></strong> to <a href='https://wandb.ai/rl_shobhith/uncategorized' target=\"_blank\">Weights & Biases</a> (<a href='https://wandb.me/run' target=\"_blank\">docs</a>)<br/>Sweep page: <a href='https://wandb.ai/rl_shobhith/uncategorized/sweeps/yivd2k4v' target=\"_blank\">https://wandb.ai/rl_shobhith/uncategorized/sweeps/yivd2k4v</a>"
      ],
      "text/plain": [
       "<IPython.core.display.HTML object>"
      ]
     },
     "metadata": {},
     "output_type": "display_data"
    },
    {
     "data": {
      "text/html": [
       " View project at <a href='https://wandb.ai/rl_shobhith/uncategorized' target=\"_blank\">https://wandb.ai/rl_shobhith/uncategorized</a>"
      ],
      "text/plain": [
       "<IPython.core.display.HTML object>"
      ]
     },
     "metadata": {},
     "output_type": "display_data"
    },
    {
     "data": {
      "text/html": [
       " View sweep at <a href='https://wandb.ai/rl_shobhith/uncategorized/sweeps/yivd2k4v' target=\"_blank\">https://wandb.ai/rl_shobhith/uncategorized/sweeps/yivd2k4v</a>"
      ],
      "text/plain": [
       "<IPython.core.display.HTML object>"
      ]
     },
     "metadata": {},
     "output_type": "display_data"
    },
    {
     "data": {
      "text/html": [
       " View run at <a href='https://wandb.ai/rl_shobhith/uncategorized/runs/4r6arfml/workspace' target=\"_blank\">https://wandb.ai/rl_shobhith/uncategorized/runs/4r6arfml/workspace</a>"
      ],
      "text/plain": [
       "<IPython.core.display.HTML object>"
      ]
     },
     "metadata": {},
     "output_type": "display_data"
    },
    {
     "name": "stderr",
     "output_type": "stream",
     "text": [
      "Iteration 0: 100%|██████████| 50/50 [00:12<00:00,  4.10it/s, episode_return=50, return=-114.000]\n",
      "Iteration 1: 100%|██████████| 50/50 [00:07<00:00,  6.41it/s, episode_return=100, return=-92.700]\n",
      "Iteration 2: 100%|██████████| 50/50 [00:07<00:00,  6.58it/s, episode_return=150, return=-116.800]\n",
      "Iteration 3: 100%|██████████| 50/50 [00:11<00:00,  4.42it/s, episode_return=200, return=-161.600]\n",
      "Iteration 4: 100%|██████████| 50/50 [00:08<00:00,  5.69it/s, episode_return=250, return=-103.100]\n",
      "Iteration 5: 100%|██████████| 50/50 [00:07<00:00,  6.33it/s, episode_return=300, return=-104.000]\n",
      "Iteration 6: 100%|██████████| 50/50 [00:08<00:00,  6.20it/s, episode_return=350, return=-109.600]\n",
      "Iteration 7: 100%|██████████| 50/50 [00:11<00:00,  4.34it/s, episode_return=400, return=-154.200]\n",
      "Iteration 8: 100%|██████████| 50/50 [00:15<00:00,  3.21it/s, episode_return=450, return=-173.300]\n",
      "Iteration 9: 100%|██████████| 50/50 [00:14<00:00,  3.46it/s, episode_return=500, return=-200.100]\n"
     ]
    },
    {
     "data": {
      "application/vnd.jupyter.widget-view+json": {
       "model_id": "8576608c235545b7b789e4f02932e4b0",
       "version_major": 2,
       "version_minor": 0
      },
      "text/plain": [
       "VBox(children=(Label(value='0.001 MB of 0.001 MB uploaded\\r'), FloatProgress(value=1.0, max=1.0)))"
      ]
     },
     "metadata": {},
     "output_type": "display_data"
    },
    {
     "data": {
      "text/html": [
       "<style>\n",
       "    table.wandb td:nth-child(1) { padding: 0 10px; text-align: left ; width: auto;} td:nth-child(2) {text-align: left ; width: 100%}\n",
       "    .wandb-row { display: flex; flex-direction: row; flex-wrap: wrap; justify-content: flex-start; width: 100% }\n",
       "    .wandb-col { display: flex; flex-direction: column; flex-basis: 100%; flex: 1; padding: 10px; }\n",
       "    </style>\n",
       "<div class=\"wandb-row\"><div class=\"wandb-col\"><h3>Run history:</h3><br/><table class=\"wandb\"><tr><td>regret</td><td>▁</td></tr></table><br/></div><div class=\"wandb-col\"><h3>Run summary:</h3><br/><table class=\"wandb\"><tr><td>regret</td><td>71701.35817</td></tr></table><br/></div></div>"
      ],
      "text/plain": [
       "<IPython.core.display.HTML object>"
      ]
     },
     "metadata": {},
     "output_type": "display_data"
    },
    {
     "data": {
      "text/html": [
       " View run <strong style=\"color:#cdcd00\">pretty-sweep-37</strong> at: <a href='https://wandb.ai/rl_shobhith/uncategorized/runs/4r6arfml/workspace' target=\"_blank\">https://wandb.ai/rl_shobhith/uncategorized/runs/4r6arfml/workspace</a><br/>Synced 5 W&B file(s), 0 media file(s), 0 artifact file(s) and 0 other file(s)"
      ],
      "text/plain": [
       "<IPython.core.display.HTML object>"
      ]
     },
     "metadata": {},
     "output_type": "display_data"
    },
    {
     "data": {
      "text/html": [
       "Find logs at: <code>.\\wandb\\run-20240402_023258-4r6arfml\\logs</code>"
      ],
      "text/plain": [
       "<IPython.core.display.HTML object>"
      ]
     },
     "metadata": {},
     "output_type": "display_data"
    },
    {
     "name": "stderr",
     "output_type": "stream",
     "text": [
      "\u001b[34m\u001b[1mwandb\u001b[0m: Agent Starting Run: byomy441 with config:\n",
      "\u001b[34m\u001b[1mwandb\u001b[0m: \thidden_dim: 256\n",
      "\u001b[34m\u001b[1mwandb\u001b[0m: \tlearning_rate: 0.005107696770897987\n",
      "Failed to detect the name of this notebook, you can set it manually with the WANDB_NOTEBOOK_NAME environment variable to enable code saving.\n",
      "\u001b[34m\u001b[1mwandb\u001b[0m: \u001b[33mWARNING\u001b[0m Ignored wandb.init() arg project when running a sweep.\n"
     ]
    },
    {
     "data": {
      "text/html": [
       "Tracking run with wandb version 0.16.5"
      ],
      "text/plain": [
       "<IPython.core.display.HTML object>"
      ]
     },
     "metadata": {},
     "output_type": "display_data"
    },
    {
     "data": {
      "text/html": [
       "Run data is saved locally in <code>c:\\Users\\Shobhith Vadlamudi\\AppData\\Local\\Programs\\Microsoft VS Code\\wandb\\run-20240402_023459-byomy441</code>"
      ],
      "text/plain": [
       "<IPython.core.display.HTML object>"
      ]
     },
     "metadata": {},
     "output_type": "display_data"
    },
    {
     "data": {
      "text/html": [
       "Syncing run <strong><a href='https://wandb.ai/rl_shobhith/uncategorized/runs/byomy441/workspace' target=\"_blank\">unique-sweep-38</a></strong> to <a href='https://wandb.ai/rl_shobhith/uncategorized' target=\"_blank\">Weights & Biases</a> (<a href='https://wandb.me/run' target=\"_blank\">docs</a>)<br/>Sweep page: <a href='https://wandb.ai/rl_shobhith/uncategorized/sweeps/yivd2k4v' target=\"_blank\">https://wandb.ai/rl_shobhith/uncategorized/sweeps/yivd2k4v</a>"
      ],
      "text/plain": [
       "<IPython.core.display.HTML object>"
      ]
     },
     "metadata": {},
     "output_type": "display_data"
    },
    {
     "data": {
      "text/html": [
       " View project at <a href='https://wandb.ai/rl_shobhith/uncategorized' target=\"_blank\">https://wandb.ai/rl_shobhith/uncategorized</a>"
      ],
      "text/plain": [
       "<IPython.core.display.HTML object>"
      ]
     },
     "metadata": {},
     "output_type": "display_data"
    },
    {
     "data": {
      "text/html": [
       " View sweep at <a href='https://wandb.ai/rl_shobhith/uncategorized/sweeps/yivd2k4v' target=\"_blank\">https://wandb.ai/rl_shobhith/uncategorized/sweeps/yivd2k4v</a>"
      ],
      "text/plain": [
       "<IPython.core.display.HTML object>"
      ]
     },
     "metadata": {},
     "output_type": "display_data"
    },
    {
     "data": {
      "text/html": [
       " View run at <a href='https://wandb.ai/rl_shobhith/uncategorized/runs/byomy441/workspace' target=\"_blank\">https://wandb.ai/rl_shobhith/uncategorized/runs/byomy441/workspace</a>"
      ],
      "text/plain": [
       "<IPython.core.display.HTML object>"
      ]
     },
     "metadata": {},
     "output_type": "display_data"
    },
    {
     "name": "stderr",
     "output_type": "stream",
     "text": [
      "Iteration 0: 100%|██████████| 50/50 [00:16<00:00,  3.02it/s, episode_return=50, return=-188.200]\n",
      "Iteration 1: 100%|██████████| 50/50 [00:14<00:00,  3.49it/s, episode_return=100, return=-173.000]\n",
      "Iteration 2: 100%|██████████| 50/50 [00:21<00:00,  2.37it/s, episode_return=150, return=-500.000]\n",
      "Iteration 3: 100%|██████████| 50/50 [00:37<00:00,  1.35it/s, episode_return=200, return=-500.000]\n",
      "Iteration 4: 100%|██████████| 50/50 [00:34<00:00,  1.44it/s, episode_return=250, return=-500.000]\n",
      "Iteration 5: 100%|██████████| 50/50 [00:36<00:00,  1.38it/s, episode_return=300, return=-500.000]\n",
      "Iteration 6: 100%|██████████| 50/50 [00:35<00:00,  1.41it/s, episode_return=350, return=-500.000]\n",
      "Iteration 7: 100%|██████████| 50/50 [00:35<00:00,  1.40it/s, episode_return=400, return=-500.000]\n",
      "Iteration 8: 100%|██████████| 50/50 [00:35<00:00,  1.42it/s, episode_return=450, return=-500.000]\n",
      "Iteration 9: 100%|██████████| 50/50 [00:35<00:00,  1.40it/s, episode_return=500, return=-500.000]\n"
     ]
    },
    {
     "data": {
      "application/vnd.jupyter.widget-view+json": {
       "model_id": "079d9a0cf6a7481499cf397d7b5d535c",
       "version_major": 2,
       "version_minor": 0
      },
      "text/plain": [
       "VBox(children=(Label(value='0.001 MB of 0.001 MB uploaded\\r'), FloatProgress(value=1.0, max=1.0)))"
      ]
     },
     "metadata": {},
     "output_type": "display_data"
    },
    {
     "data": {
      "text/html": [
       "<style>\n",
       "    table.wandb td:nth-child(1) { padding: 0 10px; text-align: left ; width: auto;} td:nth-child(2) {text-align: left ; width: 100%}\n",
       "    .wandb-row { display: flex; flex-direction: row; flex-wrap: wrap; justify-content: flex-start; width: 100% }\n",
       "    .wandb-col { display: flex; flex-direction: column; flex-basis: 100%; flex: 1; padding: 10px; }\n",
       "    </style>\n",
       "<div class=\"wandb-row\"><div class=\"wandb-col\"><h3>Run history:</h3><br/><table class=\"wandb\"><tr><td>regret</td><td>▁</td></tr></table><br/></div><div class=\"wandb-col\"><h3>Run summary:</h3><br/><table class=\"wandb\"><tr><td>regret</td><td>197963.32554</td></tr></table><br/></div></div>"
      ],
      "text/plain": [
       "<IPython.core.display.HTML object>"
      ]
     },
     "metadata": {},
     "output_type": "display_data"
    },
    {
     "data": {
      "text/html": [
       " View run <strong style=\"color:#cdcd00\">unique-sweep-38</strong> at: <a href='https://wandb.ai/rl_shobhith/uncategorized/runs/byomy441/workspace' target=\"_blank\">https://wandb.ai/rl_shobhith/uncategorized/runs/byomy441/workspace</a><br/>Synced 5 W&B file(s), 0 media file(s), 0 artifact file(s) and 0 other file(s)"
      ],
      "text/plain": [
       "<IPython.core.display.HTML object>"
      ]
     },
     "metadata": {},
     "output_type": "display_data"
    },
    {
     "data": {
      "text/html": [
       "Find logs at: <code>.\\wandb\\run-20240402_023459-byomy441\\logs</code>"
      ],
      "text/plain": [
       "<IPython.core.display.HTML object>"
      ]
     },
     "metadata": {},
     "output_type": "display_data"
    },
    {
     "name": "stderr",
     "output_type": "stream",
     "text": [
      "\u001b[34m\u001b[1mwandb\u001b[0m: Agent Starting Run: b8n5k72m with config:\n",
      "\u001b[34m\u001b[1mwandb\u001b[0m: \thidden_dim: 128\n",
      "\u001b[34m\u001b[1mwandb\u001b[0m: \tlearning_rate: 0.009590788859355872\n",
      "Failed to detect the name of this notebook, you can set it manually with the WANDB_NOTEBOOK_NAME environment variable to enable code saving.\n",
      "\u001b[34m\u001b[1mwandb\u001b[0m: \u001b[33mWARNING\u001b[0m Ignored wandb.init() arg project when running a sweep.\n"
     ]
    },
    {
     "data": {
      "text/html": [
       "Tracking run with wandb version 0.16.5"
      ],
      "text/plain": [
       "<IPython.core.display.HTML object>"
      ]
     },
     "metadata": {},
     "output_type": "display_data"
    },
    {
     "data": {
      "text/html": [
       "Run data is saved locally in <code>c:\\Users\\Shobhith Vadlamudi\\AppData\\Local\\Programs\\Microsoft VS Code\\wandb\\run-20240402_024015-b8n5k72m</code>"
      ],
      "text/plain": [
       "<IPython.core.display.HTML object>"
      ]
     },
     "metadata": {},
     "output_type": "display_data"
    },
    {
     "data": {
      "text/html": [
       "Syncing run <strong><a href='https://wandb.ai/rl_shobhith/uncategorized/runs/b8n5k72m/workspace' target=\"_blank\">whole-sweep-39</a></strong> to <a href='https://wandb.ai/rl_shobhith/uncategorized' target=\"_blank\">Weights & Biases</a> (<a href='https://wandb.me/run' target=\"_blank\">docs</a>)<br/>Sweep page: <a href='https://wandb.ai/rl_shobhith/uncategorized/sweeps/yivd2k4v' target=\"_blank\">https://wandb.ai/rl_shobhith/uncategorized/sweeps/yivd2k4v</a>"
      ],
      "text/plain": [
       "<IPython.core.display.HTML object>"
      ]
     },
     "metadata": {},
     "output_type": "display_data"
    },
    {
     "data": {
      "text/html": [
       " View project at <a href='https://wandb.ai/rl_shobhith/uncategorized' target=\"_blank\">https://wandb.ai/rl_shobhith/uncategorized</a>"
      ],
      "text/plain": [
       "<IPython.core.display.HTML object>"
      ]
     },
     "metadata": {},
     "output_type": "display_data"
    },
    {
     "data": {
      "text/html": [
       " View sweep at <a href='https://wandb.ai/rl_shobhith/uncategorized/sweeps/yivd2k4v' target=\"_blank\">https://wandb.ai/rl_shobhith/uncategorized/sweeps/yivd2k4v</a>"
      ],
      "text/plain": [
       "<IPython.core.display.HTML object>"
      ]
     },
     "metadata": {},
     "output_type": "display_data"
    },
    {
     "data": {
      "text/html": [
       " View run at <a href='https://wandb.ai/rl_shobhith/uncategorized/runs/b8n5k72m/workspace' target=\"_blank\">https://wandb.ai/rl_shobhith/uncategorized/runs/b8n5k72m/workspace</a>"
      ],
      "text/plain": [
       "<IPython.core.display.HTML object>"
      ]
     },
     "metadata": {},
     "output_type": "display_data"
    },
    {
     "name": "stderr",
     "output_type": "stream",
     "text": [
      "Iteration 0: 100%|██████████| 50/50 [00:09<00:00,  5.09it/s, episode_return=50, return=-93.000] \n",
      "Iteration 1: 100%|██████████| 50/50 [00:07<00:00,  6.40it/s, episode_return=100, return=-97.900]\n",
      "Iteration 2: 100%|██████████| 50/50 [00:05<00:00,  8.62it/s, episode_return=150, return=-74.300] \n",
      "Iteration 3: 100%|██████████| 50/50 [00:06<00:00,  7.37it/s, episode_return=200, return=-84.300] \n",
      "Iteration 4: 100%|██████████| 50/50 [00:06<00:00,  7.70it/s, episode_return=250, return=-86.400] \n",
      "Iteration 5: 100%|██████████| 50/50 [00:06<00:00,  8.16it/s, episode_return=300, return=-96.400]\n",
      "Iteration 6: 100%|██████████| 50/50 [00:06<00:00,  7.19it/s, episode_return=350, return=-99.300] \n",
      "Iteration 7: 100%|██████████| 50/50 [00:05<00:00,  8.53it/s, episode_return=400, return=-86.800]\n",
      "Iteration 8: 100%|██████████| 50/50 [00:06<00:00,  8.27it/s, episode_return=450, return=-95.100]\n",
      "Iteration 9: 100%|██████████| 50/50 [00:06<00:00,  7.79it/s, episode_return=500, return=-85.500] \n"
     ]
    },
    {
     "data": {
      "application/vnd.jupyter.widget-view+json": {
       "model_id": "4fc7f43cf2e34d02a47c5beab42fbc04",
       "version_major": 2,
       "version_minor": 0
      },
      "text/plain": [
       "VBox(children=(Label(value='0.001 MB of 0.007 MB uploaded\\r'), FloatProgress(value=0.1669793621013133, max=1.0…"
      ]
     },
     "metadata": {},
     "output_type": "display_data"
    },
    {
     "data": {
      "text/html": [
       "<style>\n",
       "    table.wandb td:nth-child(1) { padding: 0 10px; text-align: left ; width: auto;} td:nth-child(2) {text-align: left ; width: 100%}\n",
       "    .wandb-row { display: flex; flex-direction: row; flex-wrap: wrap; justify-content: flex-start; width: 100% }\n",
       "    .wandb-col { display: flex; flex-direction: column; flex-basis: 100%; flex: 1; padding: 10px; }\n",
       "    </style>\n",
       "<div class=\"wandb-row\"><div class=\"wandb-col\"><h3>Run history:</h3><br/><table class=\"wandb\"><tr><td>regret</td><td>▁</td></tr></table><br/></div><div class=\"wandb-col\"><h3>Run summary:</h3><br/><table class=\"wandb\"><tr><td>regret</td><td>52537.1875</td></tr></table><br/></div></div>"
      ],
      "text/plain": [
       "<IPython.core.display.HTML object>"
      ]
     },
     "metadata": {},
     "output_type": "display_data"
    },
    {
     "data": {
      "text/html": [
       " View run <strong style=\"color:#cdcd00\">whole-sweep-39</strong> at: <a href='https://wandb.ai/rl_shobhith/uncategorized/runs/b8n5k72m/workspace' target=\"_blank\">https://wandb.ai/rl_shobhith/uncategorized/runs/b8n5k72m/workspace</a><br/>Synced 5 W&B file(s), 0 media file(s), 0 artifact file(s) and 0 other file(s)"
      ],
      "text/plain": [
       "<IPython.core.display.HTML object>"
      ]
     },
     "metadata": {},
     "output_type": "display_data"
    },
    {
     "data": {
      "text/html": [
       "Find logs at: <code>.\\wandb\\run-20240402_024015-b8n5k72m\\logs</code>"
      ],
      "text/plain": [
       "<IPython.core.display.HTML object>"
      ]
     },
     "metadata": {},
     "output_type": "display_data"
    },
    {
     "name": "stderr",
     "output_type": "stream",
     "text": [
      "\u001b[34m\u001b[1mwandb\u001b[0m: Agent Starting Run: x11xkmnm with config:\n",
      "\u001b[34m\u001b[1mwandb\u001b[0m: \thidden_dim: 256\n",
      "\u001b[34m\u001b[1mwandb\u001b[0m: \tlearning_rate: 0.0035482895128003795\n",
      "Failed to detect the name of this notebook, you can set it manually with the WANDB_NOTEBOOK_NAME environment variable to enable code saving.\n",
      "\u001b[34m\u001b[1mwandb\u001b[0m: \u001b[33mWARNING\u001b[0m Ignored wandb.init() arg project when running a sweep.\n"
     ]
    },
    {
     "data": {
      "text/html": [
       "Tracking run with wandb version 0.16.5"
      ],
      "text/plain": [
       "<IPython.core.display.HTML object>"
      ]
     },
     "metadata": {},
     "output_type": "display_data"
    },
    {
     "data": {
      "text/html": [
       "Run data is saved locally in <code>c:\\Users\\Shobhith Vadlamudi\\AppData\\Local\\Programs\\Microsoft VS Code\\wandb\\run-20240402_024135-x11xkmnm</code>"
      ],
      "text/plain": [
       "<IPython.core.display.HTML object>"
      ]
     },
     "metadata": {},
     "output_type": "display_data"
    },
    {
     "data": {
      "text/html": [
       "Syncing run <strong><a href='https://wandb.ai/rl_shobhith/uncategorized/runs/x11xkmnm/workspace' target=\"_blank\">vague-sweep-40</a></strong> to <a href='https://wandb.ai/rl_shobhith/uncategorized' target=\"_blank\">Weights & Biases</a> (<a href='https://wandb.me/run' target=\"_blank\">docs</a>)<br/>Sweep page: <a href='https://wandb.ai/rl_shobhith/uncategorized/sweeps/yivd2k4v' target=\"_blank\">https://wandb.ai/rl_shobhith/uncategorized/sweeps/yivd2k4v</a>"
      ],
      "text/plain": [
       "<IPython.core.display.HTML object>"
      ]
     },
     "metadata": {},
     "output_type": "display_data"
    },
    {
     "data": {
      "text/html": [
       " View project at <a href='https://wandb.ai/rl_shobhith/uncategorized' target=\"_blank\">https://wandb.ai/rl_shobhith/uncategorized</a>"
      ],
      "text/plain": [
       "<IPython.core.display.HTML object>"
      ]
     },
     "metadata": {},
     "output_type": "display_data"
    },
    {
     "data": {
      "text/html": [
       " View sweep at <a href='https://wandb.ai/rl_shobhith/uncategorized/sweeps/yivd2k4v' target=\"_blank\">https://wandb.ai/rl_shobhith/uncategorized/sweeps/yivd2k4v</a>"
      ],
      "text/plain": [
       "<IPython.core.display.HTML object>"
      ]
     },
     "metadata": {},
     "output_type": "display_data"
    },
    {
     "data": {
      "text/html": [
       " View run at <a href='https://wandb.ai/rl_shobhith/uncategorized/runs/x11xkmnm/workspace' target=\"_blank\">https://wandb.ai/rl_shobhith/uncategorized/runs/x11xkmnm/workspace</a>"
      ],
      "text/plain": [
       "<IPython.core.display.HTML object>"
      ]
     },
     "metadata": {},
     "output_type": "display_data"
    },
    {
     "name": "stderr",
     "output_type": "stream",
     "text": [
      "Iteration 0: 100%|██████████| 50/50 [00:36<00:00,  1.36it/s, episode_return=50, return=-500.000]\n",
      "Iteration 1: 100%|██████████| 50/50 [00:34<00:00,  1.43it/s, episode_return=100, return=-500.000]\n",
      "Iteration 2: 100%|██████████| 50/50 [00:36<00:00,  1.38it/s, episode_return=150, return=-500.000]\n",
      "Iteration 3: 100%|██████████| 50/50 [00:34<00:00,  1.44it/s, episode_return=200, return=-500.000]\n",
      "Iteration 4: 100%|██████████| 50/50 [00:37<00:00,  1.34it/s, episode_return=250, return=-500.000]\n",
      "Iteration 5: 100%|██████████| 50/50 [00:36<00:00,  1.38it/s, episode_return=300, return=-500.000]\n",
      "Iteration 6: 100%|██████████| 50/50 [00:36<00:00,  1.36it/s, episode_return=350, return=-500.000]\n",
      "Iteration 7: 100%|██████████| 50/50 [00:35<00:00,  1.41it/s, episode_return=400, return=-500.000]\n",
      "Iteration 8: 100%|██████████| 50/50 [00:36<00:00,  1.37it/s, episode_return=450, return=-500.000]\n",
      "Iteration 9: 100%|██████████| 50/50 [00:35<00:00,  1.41it/s, episode_return=500, return=-500.000]\n"
     ]
    },
    {
     "data": {
      "application/vnd.jupyter.widget-view+json": {
       "model_id": "c0c92b2f76634a9da831c381c58fb2ce",
       "version_major": 2,
       "version_minor": 0
      },
      "text/plain": [
       "VBox(children=(Label(value='0.001 MB of 0.001 MB uploaded\\r'), FloatProgress(value=1.0, max=1.0)))"
      ]
     },
     "metadata": {},
     "output_type": "display_data"
    },
    {
     "data": {
      "text/html": [
       "<style>\n",
       "    table.wandb td:nth-child(1) { padding: 0 10px; text-align: left ; width: auto;} td:nth-child(2) {text-align: left ; width: 100%}\n",
       "    .wandb-row { display: flex; flex-direction: row; flex-wrap: wrap; justify-content: flex-start; width: 100% }\n",
       "    .wandb-col { display: flex; flex-direction: column; flex-basis: 100%; flex: 1; padding: 10px; }\n",
       "    </style>\n",
       "<div class=\"wandb-row\"><div class=\"wandb-col\"><h3>Run history:</h3><br/><table class=\"wandb\"><tr><td>regret</td><td>▁</td></tr></table><br/></div><div class=\"wandb-col\"><h3>Run summary:</h3><br/><table class=\"wandb\"><tr><td>regret</td><td>250000.0</td></tr></table><br/></div></div>"
      ],
      "text/plain": [
       "<IPython.core.display.HTML object>"
      ]
     },
     "metadata": {},
     "output_type": "display_data"
    },
    {
     "data": {
      "text/html": [
       " View run <strong style=\"color:#cdcd00\">vague-sweep-40</strong> at: <a href='https://wandb.ai/rl_shobhith/uncategorized/runs/x11xkmnm/workspace' target=\"_blank\">https://wandb.ai/rl_shobhith/uncategorized/runs/x11xkmnm/workspace</a><br/>Synced 5 W&B file(s), 0 media file(s), 0 artifact file(s) and 0 other file(s)"
      ],
      "text/plain": [
       "<IPython.core.display.HTML object>"
      ]
     },
     "metadata": {},
     "output_type": "display_data"
    },
    {
     "data": {
      "text/html": [
       "Find logs at: <code>.\\wandb\\run-20240402_024135-x11xkmnm\\logs</code>"
      ],
      "text/plain": [
       "<IPython.core.display.HTML object>"
      ]
     },
     "metadata": {},
     "output_type": "display_data"
    },
    {
     "name": "stderr",
     "output_type": "stream",
     "text": [
      "\u001b[34m\u001b[1mwandb\u001b[0m: Agent Starting Run: 7g0iyzv2 with config:\n",
      "\u001b[34m\u001b[1mwandb\u001b[0m: \thidden_dim: 128\n",
      "\u001b[34m\u001b[1mwandb\u001b[0m: \tlearning_rate: 0.0035070758767692225\n",
      "Failed to detect the name of this notebook, you can set it manually with the WANDB_NOTEBOOK_NAME environment variable to enable code saving.\n",
      "\u001b[34m\u001b[1mwandb\u001b[0m: \u001b[33mWARNING\u001b[0m Ignored wandb.init() arg project when running a sweep.\n"
     ]
    },
    {
     "data": {
      "text/html": [
       "Tracking run with wandb version 0.16.5"
      ],
      "text/plain": [
       "<IPython.core.display.HTML object>"
      ]
     },
     "metadata": {},
     "output_type": "display_data"
    },
    {
     "data": {
      "text/html": [
       "Run data is saved locally in <code>c:\\Users\\Shobhith Vadlamudi\\AppData\\Local\\Programs\\Microsoft VS Code\\wandb\\run-20240402_024749-7g0iyzv2</code>"
      ],
      "text/plain": [
       "<IPython.core.display.HTML object>"
      ]
     },
     "metadata": {},
     "output_type": "display_data"
    },
    {
     "data": {
      "text/html": [
       "Syncing run <strong><a href='https://wandb.ai/rl_shobhith/uncategorized/runs/7g0iyzv2/workspace' target=\"_blank\">earthy-sweep-41</a></strong> to <a href='https://wandb.ai/rl_shobhith/uncategorized' target=\"_blank\">Weights & Biases</a> (<a href='https://wandb.me/run' target=\"_blank\">docs</a>)<br/>Sweep page: <a href='https://wandb.ai/rl_shobhith/uncategorized/sweeps/yivd2k4v' target=\"_blank\">https://wandb.ai/rl_shobhith/uncategorized/sweeps/yivd2k4v</a>"
      ],
      "text/plain": [
       "<IPython.core.display.HTML object>"
      ]
     },
     "metadata": {},
     "output_type": "display_data"
    },
    {
     "data": {
      "text/html": [
       " View project at <a href='https://wandb.ai/rl_shobhith/uncategorized' target=\"_blank\">https://wandb.ai/rl_shobhith/uncategorized</a>"
      ],
      "text/plain": [
       "<IPython.core.display.HTML object>"
      ]
     },
     "metadata": {},
     "output_type": "display_data"
    },
    {
     "data": {
      "text/html": [
       " View sweep at <a href='https://wandb.ai/rl_shobhith/uncategorized/sweeps/yivd2k4v' target=\"_blank\">https://wandb.ai/rl_shobhith/uncategorized/sweeps/yivd2k4v</a>"
      ],
      "text/plain": [
       "<IPython.core.display.HTML object>"
      ]
     },
     "metadata": {},
     "output_type": "display_data"
    },
    {
     "data": {
      "text/html": [
       " View run at <a href='https://wandb.ai/rl_shobhith/uncategorized/runs/7g0iyzv2/workspace' target=\"_blank\">https://wandb.ai/rl_shobhith/uncategorized/runs/7g0iyzv2/workspace</a>"
      ],
      "text/plain": [
       "<IPython.core.display.HTML object>"
      ]
     },
     "metadata": {},
     "output_type": "display_data"
    },
    {
     "name": "stderr",
     "output_type": "stream",
     "text": [
      "Iteration 0: 100%|██████████| 50/50 [00:36<00:00,  1.38it/s, episode_return=50, return=-478.500]\n",
      "Iteration 1: 100%|██████████| 50/50 [00:20<00:00,  2.47it/s, episode_return=100, return=-267.400]\n",
      "Iteration 2: 100%|██████████| 50/50 [00:17<00:00,  2.92it/s, episode_return=150, return=-193.500]\n",
      "Iteration 3: 100%|██████████| 50/50 [00:14<00:00,  3.42it/s, episode_return=200, return=-180.400]\n",
      "Iteration 4: 100%|██████████| 50/50 [00:14<00:00,  3.44it/s, episode_return=250, return=-195.400]\n",
      "Iteration 5: 100%|██████████| 50/50 [00:12<00:00,  3.87it/s, episode_return=300, return=-156.300]\n",
      "Iteration 6: 100%|██████████| 50/50 [00:12<00:00,  4.07it/s, episode_return=350, return=-150.300]\n",
      "Iteration 7: 100%|██████████| 50/50 [00:12<00:00,  3.87it/s, episode_return=400, return=-193.400]\n",
      "Iteration 8: 100%|██████████| 50/50 [00:11<00:00,  4.42it/s, episode_return=450, return=-129.000]\n",
      "Iteration 9: 100%|██████████| 50/50 [00:07<00:00,  6.26it/s, episode_return=500, return=-97.800] \n"
     ]
    },
    {
     "data": {
      "application/vnd.jupyter.widget-view+json": {
       "model_id": "d58ee6de9904466380372a6264adffe1",
       "version_major": 2,
       "version_minor": 0
      },
      "text/plain": [
       "VBox(children=(Label(value='0.001 MB of 0.001 MB uploaded\\r'), FloatProgress(value=1.0, max=1.0)))"
      ]
     },
     "metadata": {},
     "output_type": "display_data"
    },
    {
     "data": {
      "text/html": [
       "<style>\n",
       "    table.wandb td:nth-child(1) { padding: 0 10px; text-align: left ; width: auto;} td:nth-child(2) {text-align: left ; width: 100%}\n",
       "    .wandb-row { display: flex; flex-direction: row; flex-wrap: wrap; justify-content: flex-start; width: 100% }\n",
       "    .wandb-col { display: flex; flex-direction: column; flex-basis: 100%; flex: 1; padding: 10px; }\n",
       "    </style>\n",
       "<div class=\"wandb-row\"><div class=\"wandb-col\"><h3>Run history:</h3><br/><table class=\"wandb\"><tr><td>regret</td><td>▁</td></tr></table><br/></div><div class=\"wandb-col\"><h3>Run summary:</h3><br/><table class=\"wandb\"><tr><td>regret</td><td>125478.65883</td></tr></table><br/></div></div>"
      ],
      "text/plain": [
       "<IPython.core.display.HTML object>"
      ]
     },
     "metadata": {},
     "output_type": "display_data"
    },
    {
     "data": {
      "text/html": [
       " View run <strong style=\"color:#cdcd00\">earthy-sweep-41</strong> at: <a href='https://wandb.ai/rl_shobhith/uncategorized/runs/7g0iyzv2/workspace' target=\"_blank\">https://wandb.ai/rl_shobhith/uncategorized/runs/7g0iyzv2/workspace</a><br/>Synced 5 W&B file(s), 0 media file(s), 0 artifact file(s) and 0 other file(s)"
      ],
      "text/plain": [
       "<IPython.core.display.HTML object>"
      ]
     },
     "metadata": {},
     "output_type": "display_data"
    },
    {
     "data": {
      "text/html": [
       "Find logs at: <code>.\\wandb\\run-20240402_024749-7g0iyzv2\\logs</code>"
      ],
      "text/plain": [
       "<IPython.core.display.HTML object>"
      ]
     },
     "metadata": {},
     "output_type": "display_data"
    },
    {
     "name": "stderr",
     "output_type": "stream",
     "text": [
      "\u001b[34m\u001b[1mwandb\u001b[0m: Agent Starting Run: ajori2c5 with config:\n",
      "\u001b[34m\u001b[1mwandb\u001b[0m: \thidden_dim: 128\n",
      "\u001b[34m\u001b[1mwandb\u001b[0m: \tlearning_rate: 0.0034853049669278952\n",
      "Failed to detect the name of this notebook, you can set it manually with the WANDB_NOTEBOOK_NAME environment variable to enable code saving.\n",
      "\u001b[34m\u001b[1mwandb\u001b[0m: \u001b[33mWARNING\u001b[0m Ignored wandb.init() arg project when running a sweep.\n"
     ]
    },
    {
     "data": {
      "text/html": [
       "Tracking run with wandb version 0.16.5"
      ],
      "text/plain": [
       "<IPython.core.display.HTML object>"
      ]
     },
     "metadata": {},
     "output_type": "display_data"
    },
    {
     "data": {
      "text/html": [
       "Run data is saved locally in <code>c:\\Users\\Shobhith Vadlamudi\\AppData\\Local\\Programs\\Microsoft VS Code\\wandb\\run-20240402_025043-ajori2c5</code>"
      ],
      "text/plain": [
       "<IPython.core.display.HTML object>"
      ]
     },
     "metadata": {},
     "output_type": "display_data"
    },
    {
     "data": {
      "text/html": [
       "Syncing run <strong><a href='https://wandb.ai/rl_shobhith/uncategorized/runs/ajori2c5/workspace' target=\"_blank\">smooth-sweep-42</a></strong> to <a href='https://wandb.ai/rl_shobhith/uncategorized' target=\"_blank\">Weights & Biases</a> (<a href='https://wandb.me/run' target=\"_blank\">docs</a>)<br/>Sweep page: <a href='https://wandb.ai/rl_shobhith/uncategorized/sweeps/yivd2k4v' target=\"_blank\">https://wandb.ai/rl_shobhith/uncategorized/sweeps/yivd2k4v</a>"
      ],
      "text/plain": [
       "<IPython.core.display.HTML object>"
      ]
     },
     "metadata": {},
     "output_type": "display_data"
    },
    {
     "data": {
      "text/html": [
       " View project at <a href='https://wandb.ai/rl_shobhith/uncategorized' target=\"_blank\">https://wandb.ai/rl_shobhith/uncategorized</a>"
      ],
      "text/plain": [
       "<IPython.core.display.HTML object>"
      ]
     },
     "metadata": {},
     "output_type": "display_data"
    },
    {
     "data": {
      "text/html": [
       " View sweep at <a href='https://wandb.ai/rl_shobhith/uncategorized/sweeps/yivd2k4v' target=\"_blank\">https://wandb.ai/rl_shobhith/uncategorized/sweeps/yivd2k4v</a>"
      ],
      "text/plain": [
       "<IPython.core.display.HTML object>"
      ]
     },
     "metadata": {},
     "output_type": "display_data"
    },
    {
     "data": {
      "text/html": [
       " View run at <a href='https://wandb.ai/rl_shobhith/uncategorized/runs/ajori2c5/workspace' target=\"_blank\">https://wandb.ai/rl_shobhith/uncategorized/runs/ajori2c5/workspace</a>"
      ],
      "text/plain": [
       "<IPython.core.display.HTML object>"
      ]
     },
     "metadata": {},
     "output_type": "display_data"
    },
    {
     "name": "stderr",
     "output_type": "stream",
     "text": [
      "Iteration 0: 100%|██████████| 50/50 [00:16<00:00,  3.04it/s, episode_return=50, return=-114.100]\n",
      "Iteration 1: 100%|██████████| 50/50 [00:06<00:00,  7.21it/s, episode_return=100, return=-95.200]\n",
      "Iteration 2: 100%|██████████| 50/50 [00:07<00:00,  7.00it/s, episode_return=150, return=-100.400]\n",
      "Iteration 3: 100%|██████████| 50/50 [00:07<00:00,  6.90it/s, episode_return=200, return=-105.100]\n",
      "Iteration 4: 100%|██████████| 50/50 [00:08<00:00,  5.75it/s, episode_return=250, return=-107.900]\n",
      "Iteration 5: 100%|██████████| 50/50 [00:07<00:00,  6.96it/s, episode_return=300, return=-95.300] \n",
      "Iteration 6: 100%|██████████| 50/50 [00:07<00:00,  6.96it/s, episode_return=350, return=-87.600] \n",
      "Iteration 7: 100%|██████████| 50/50 [00:06<00:00,  7.16it/s, episode_return=400, return=-108.300]\n",
      "Iteration 8: 100%|██████████| 50/50 [00:09<00:00,  5.49it/s, episode_return=450, return=-91.400] \n",
      "Iteration 9: 100%|██████████| 50/50 [00:08<00:00,  5.98it/s, episode_return=500, return=-133.100]\n"
     ]
    },
    {
     "data": {
      "application/vnd.jupyter.widget-view+json": {
       "model_id": "6bc67942d20b47898291fe9738c2e305",
       "version_major": 2,
       "version_minor": 0
      },
      "text/plain": [
       "VBox(children=(Label(value='0.001 MB of 0.001 MB uploaded\\r'), FloatProgress(value=1.0, max=1.0)))"
      ]
     },
     "metadata": {},
     "output_type": "display_data"
    },
    {
     "data": {
      "text/html": [
       "<style>\n",
       "    table.wandb td:nth-child(1) { padding: 0 10px; text-align: left ; width: auto;} td:nth-child(2) {text-align: left ; width: 100%}\n",
       "    .wandb-row { display: flex; flex-direction: row; flex-wrap: wrap; justify-content: flex-start; width: 100% }\n",
       "    .wandb-col { display: flex; flex-direction: column; flex-basis: 100%; flex: 1; padding: 10px; }\n",
       "    </style>\n",
       "<div class=\"wandb-row\"><div class=\"wandb-col\"><h3>Run history:</h3><br/><table class=\"wandb\"><tr><td>regret</td><td>▁</td></tr></table><br/></div><div class=\"wandb-col\"><h3>Run summary:</h3><br/><table class=\"wandb\"><tr><td>regret</td><td>69249.68917</td></tr></table><br/></div></div>"
      ],
      "text/plain": [
       "<IPython.core.display.HTML object>"
      ]
     },
     "metadata": {},
     "output_type": "display_data"
    },
    {
     "data": {
      "text/html": [
       " View run <strong style=\"color:#cdcd00\">smooth-sweep-42</strong> at: <a href='https://wandb.ai/rl_shobhith/uncategorized/runs/ajori2c5/workspace' target=\"_blank\">https://wandb.ai/rl_shobhith/uncategorized/runs/ajori2c5/workspace</a><br/>Synced 5 W&B file(s), 0 media file(s), 0 artifact file(s) and 0 other file(s)"
      ],
      "text/plain": [
       "<IPython.core.display.HTML object>"
      ]
     },
     "metadata": {},
     "output_type": "display_data"
    },
    {
     "data": {
      "text/html": [
       "Find logs at: <code>.\\wandb\\run-20240402_025043-ajori2c5\\logs</code>"
      ],
      "text/plain": [
       "<IPython.core.display.HTML object>"
      ]
     },
     "metadata": {},
     "output_type": "display_data"
    },
    {
     "name": "stderr",
     "output_type": "stream",
     "text": [
      "\u001b[34m\u001b[1mwandb\u001b[0m: Agent Starting Run: 7xaymvef with config:\n",
      "\u001b[34m\u001b[1mwandb\u001b[0m: \thidden_dim: 64\n",
      "\u001b[34m\u001b[1mwandb\u001b[0m: \tlearning_rate: 0.009868992082953653\n",
      "Failed to detect the name of this notebook, you can set it manually with the WANDB_NOTEBOOK_NAME environment variable to enable code saving.\n",
      "\u001b[34m\u001b[1mwandb\u001b[0m: \u001b[33mWARNING\u001b[0m Ignored wandb.init() arg project when running a sweep.\n"
     ]
    },
    {
     "data": {
      "text/html": [
       "Tracking run with wandb version 0.16.5"
      ],
      "text/plain": [
       "<IPython.core.display.HTML object>"
      ]
     },
     "metadata": {},
     "output_type": "display_data"
    },
    {
     "data": {
      "text/html": [
       "Run data is saved locally in <code>c:\\Users\\Shobhith Vadlamudi\\AppData\\Local\\Programs\\Microsoft VS Code\\wandb\\run-20240402_025220-7xaymvef</code>"
      ],
      "text/plain": [
       "<IPython.core.display.HTML object>"
      ]
     },
     "metadata": {},
     "output_type": "display_data"
    },
    {
     "data": {
      "text/html": [
       "Syncing run <strong><a href='https://wandb.ai/rl_shobhith/uncategorized/runs/7xaymvef/workspace' target=\"_blank\">stilted-sweep-43</a></strong> to <a href='https://wandb.ai/rl_shobhith/uncategorized' target=\"_blank\">Weights & Biases</a> (<a href='https://wandb.me/run' target=\"_blank\">docs</a>)<br/>Sweep page: <a href='https://wandb.ai/rl_shobhith/uncategorized/sweeps/yivd2k4v' target=\"_blank\">https://wandb.ai/rl_shobhith/uncategorized/sweeps/yivd2k4v</a>"
      ],
      "text/plain": [
       "<IPython.core.display.HTML object>"
      ]
     },
     "metadata": {},
     "output_type": "display_data"
    },
    {
     "data": {
      "text/html": [
       " View project at <a href='https://wandb.ai/rl_shobhith/uncategorized' target=\"_blank\">https://wandb.ai/rl_shobhith/uncategorized</a>"
      ],
      "text/plain": [
       "<IPython.core.display.HTML object>"
      ]
     },
     "metadata": {},
     "output_type": "display_data"
    },
    {
     "data": {
      "text/html": [
       " View sweep at <a href='https://wandb.ai/rl_shobhith/uncategorized/sweeps/yivd2k4v' target=\"_blank\">https://wandb.ai/rl_shobhith/uncategorized/sweeps/yivd2k4v</a>"
      ],
      "text/plain": [
       "<IPython.core.display.HTML object>"
      ]
     },
     "metadata": {},
     "output_type": "display_data"
    },
    {
     "data": {
      "text/html": [
       " View run at <a href='https://wandb.ai/rl_shobhith/uncategorized/runs/7xaymvef/workspace' target=\"_blank\">https://wandb.ai/rl_shobhith/uncategorized/runs/7xaymvef/workspace</a>"
      ],
      "text/plain": [
       "<IPython.core.display.HTML object>"
      ]
     },
     "metadata": {},
     "output_type": "display_data"
    },
    {
     "name": "stderr",
     "output_type": "stream",
     "text": [
      "Iteration 0: 100%|██████████| 50/50 [00:30<00:00,  1.62it/s, episode_return=50, return=-500.000]\n",
      "Iteration 1: 100%|██████████| 50/50 [00:31<00:00,  1.61it/s, episode_return=100, return=-500.000]\n",
      "Iteration 2: 100%|██████████| 50/50 [00:23<00:00,  2.13it/s, episode_return=150, return=-189.500]\n",
      "Iteration 3: 100%|██████████| 50/50 [00:11<00:00,  4.52it/s, episode_return=200, return=-176.700]\n",
      "Iteration 4: 100%|██████████| 50/50 [00:11<00:00,  4.45it/s, episode_return=250, return=-200.200]\n",
      "Iteration 5: 100%|██████████| 50/50 [00:13<00:00,  3.77it/s, episode_return=300, return=-245.700]\n",
      "Iteration 6: 100%|██████████| 50/50 [00:24<00:00,  2.04it/s, episode_return=350, return=-452.100]\n",
      "Iteration 7: 100%|██████████| 50/50 [00:27<00:00,  1.82it/s, episode_return=400, return=-500.000]\n",
      "Iteration 8: 100%|██████████| 50/50 [00:29<00:00,  1.69it/s, episode_return=450, return=-500.000]\n",
      "Iteration 9: 100%|██████████| 50/50 [00:29<00:00,  1.68it/s, episode_return=500, return=-500.000]\n"
     ]
    },
    {
     "data": {
      "application/vnd.jupyter.widget-view+json": {
       "model_id": "1cd8dea5ce0f43faab830dd4d6e30206",
       "version_major": 2,
       "version_minor": 0
      },
      "text/plain": [
       "VBox(children=(Label(value='0.001 MB of 0.001 MB uploaded\\r'), FloatProgress(value=1.0, max=1.0)))"
      ]
     },
     "metadata": {},
     "output_type": "display_data"
    },
    {
     "data": {
      "text/html": [
       "<style>\n",
       "    table.wandb td:nth-child(1) { padding: 0 10px; text-align: left ; width: auto;} td:nth-child(2) {text-align: left ; width: 100%}\n",
       "    .wandb-row { display: flex; flex-direction: row; flex-wrap: wrap; justify-content: flex-start; width: 100% }\n",
       "    .wandb-col { display: flex; flex-direction: column; flex-basis: 100%; flex: 1; padding: 10px; }\n",
       "    </style>\n",
       "<div class=\"wandb-row\"><div class=\"wandb-col\"><h3>Run history:</h3><br/><table class=\"wandb\"><tr><td>regret</td><td>▁</td></tr></table><br/></div><div class=\"wandb-col\"><h3>Run summary:</h3><br/><table class=\"wandb\"><tr><td>regret</td><td>191553.35379</td></tr></table><br/></div></div>"
      ],
      "text/plain": [
       "<IPython.core.display.HTML object>"
      ]
     },
     "metadata": {},
     "output_type": "display_data"
    },
    {
     "data": {
      "text/html": [
       " View run <strong style=\"color:#cdcd00\">stilted-sweep-43</strong> at: <a href='https://wandb.ai/rl_shobhith/uncategorized/runs/7xaymvef/workspace' target=\"_blank\">https://wandb.ai/rl_shobhith/uncategorized/runs/7xaymvef/workspace</a><br/>Synced 5 W&B file(s), 0 media file(s), 0 artifact file(s) and 0 other file(s)"
      ],
      "text/plain": [
       "<IPython.core.display.HTML object>"
      ]
     },
     "metadata": {},
     "output_type": "display_data"
    },
    {
     "data": {
      "text/html": [
       "Find logs at: <code>.\\wandb\\run-20240402_025220-7xaymvef\\logs</code>"
      ],
      "text/plain": [
       "<IPython.core.display.HTML object>"
      ]
     },
     "metadata": {},
     "output_type": "display_data"
    },
    {
     "name": "stderr",
     "output_type": "stream",
     "text": [
      "\u001b[34m\u001b[1mwandb\u001b[0m: Agent Starting Run: jxkm6gt6 with config:\n",
      "\u001b[34m\u001b[1mwandb\u001b[0m: \thidden_dim: 256\n",
      "\u001b[34m\u001b[1mwandb\u001b[0m: \tlearning_rate: 0.008721276114999232\n",
      "Failed to detect the name of this notebook, you can set it manually with the WANDB_NOTEBOOK_NAME environment variable to enable code saving.\n",
      "\u001b[34m\u001b[1mwandb\u001b[0m: \u001b[33mWARNING\u001b[0m Ignored wandb.init() arg project when running a sweep.\n"
     ]
    },
    {
     "data": {
      "text/html": [
       "Tracking run with wandb version 0.16.5"
      ],
      "text/plain": [
       "<IPython.core.display.HTML object>"
      ]
     },
     "metadata": {},
     "output_type": "display_data"
    },
    {
     "data": {
      "text/html": [
       "Run data is saved locally in <code>c:\\Users\\Shobhith Vadlamudi\\AppData\\Local\\Programs\\Microsoft VS Code\\wandb\\run-20240402_025624-jxkm6gt6</code>"
      ],
      "text/plain": [
       "<IPython.core.display.HTML object>"
      ]
     },
     "metadata": {},
     "output_type": "display_data"
    },
    {
     "data": {
      "text/html": [
       "Syncing run <strong><a href='https://wandb.ai/rl_shobhith/uncategorized/runs/jxkm6gt6/workspace' target=\"_blank\">logical-sweep-44</a></strong> to <a href='https://wandb.ai/rl_shobhith/uncategorized' target=\"_blank\">Weights & Biases</a> (<a href='https://wandb.me/run' target=\"_blank\">docs</a>)<br/>Sweep page: <a href='https://wandb.ai/rl_shobhith/uncategorized/sweeps/yivd2k4v' target=\"_blank\">https://wandb.ai/rl_shobhith/uncategorized/sweeps/yivd2k4v</a>"
      ],
      "text/plain": [
       "<IPython.core.display.HTML object>"
      ]
     },
     "metadata": {},
     "output_type": "display_data"
    },
    {
     "data": {
      "text/html": [
       " View project at <a href='https://wandb.ai/rl_shobhith/uncategorized' target=\"_blank\">https://wandb.ai/rl_shobhith/uncategorized</a>"
      ],
      "text/plain": [
       "<IPython.core.display.HTML object>"
      ]
     },
     "metadata": {},
     "output_type": "display_data"
    },
    {
     "data": {
      "text/html": [
       " View sweep at <a href='https://wandb.ai/rl_shobhith/uncategorized/sweeps/yivd2k4v' target=\"_blank\">https://wandb.ai/rl_shobhith/uncategorized/sweeps/yivd2k4v</a>"
      ],
      "text/plain": [
       "<IPython.core.display.HTML object>"
      ]
     },
     "metadata": {},
     "output_type": "display_data"
    },
    {
     "data": {
      "text/html": [
       " View run at <a href='https://wandb.ai/rl_shobhith/uncategorized/runs/jxkm6gt6/workspace' target=\"_blank\">https://wandb.ai/rl_shobhith/uncategorized/runs/jxkm6gt6/workspace</a>"
      ],
      "text/plain": [
       "<IPython.core.display.HTML object>"
      ]
     },
     "metadata": {},
     "output_type": "display_data"
    },
    {
     "name": "stderr",
     "output_type": "stream",
     "text": [
      "Iteration 0: 100%|██████████| 50/50 [00:15<00:00,  3.14it/s, episode_return=50, return=-175.400]\n",
      "Iteration 1: 100%|██████████| 50/50 [00:15<00:00,  3.13it/s, episode_return=100, return=-242.000]\n",
      "Iteration 2: 100%|██████████| 50/50 [00:32<00:00,  1.53it/s, episode_return=150, return=-500.000]\n",
      "Iteration 3: 100%|██████████| 50/50 [00:38<00:00,  1.31it/s, episode_return=200, return=-500.000]\n",
      "Iteration 4: 100%|██████████| 50/50 [00:40<00:00,  1.25it/s, episode_return=250, return=-500.000]\n",
      "Iteration 5: 100%|██████████| 50/50 [00:43<00:00,  1.15it/s, episode_return=300, return=-500.000]\n",
      "Iteration 6: 100%|██████████| 50/50 [00:37<00:00,  1.32it/s, episode_return=350, return=-500.000]\n",
      "Iteration 7: 100%|██████████| 50/50 [00:35<00:00,  1.39it/s, episode_return=400, return=-500.000]\n",
      "Iteration 8: 100%|██████████| 50/50 [00:40<00:00,  1.23it/s, episode_return=450, return=-500.000]\n",
      "Iteration 9: 100%|██████████| 50/50 [00:39<00:00,  1.25it/s, episode_return=500, return=-500.000]\n"
     ]
    },
    {
     "data": {
      "application/vnd.jupyter.widget-view+json": {
       "model_id": "6fb314e4ecb84662a79f89c984e9f283",
       "version_major": 2,
       "version_minor": 0
      },
      "text/plain": [
       "VBox(children=(Label(value='0.001 MB of 0.001 MB uploaded\\r'), FloatProgress(value=1.0, max=1.0)))"
      ]
     },
     "metadata": {},
     "output_type": "display_data"
    },
    {
     "data": {
      "text/html": [
       "<style>\n",
       "    table.wandb td:nth-child(1) { padding: 0 10px; text-align: left ; width: auto;} td:nth-child(2) {text-align: left ; width: 100%}\n",
       "    .wandb-row { display: flex; flex-direction: row; flex-wrap: wrap; justify-content: flex-start; width: 100% }\n",
       "    .wandb-col { display: flex; flex-direction: column; flex-basis: 100%; flex: 1; padding: 10px; }\n",
       "    </style>\n",
       "<div class=\"wandb-row\"><div class=\"wandb-col\"><h3>Run history:</h3><br/><table class=\"wandb\"><tr><td>regret</td><td>▁</td></tr></table><br/></div><div class=\"wandb-col\"><h3>Run summary:</h3><br/><table class=\"wandb\"><tr><td>regret</td><td>203687.83392</td></tr></table><br/></div></div>"
      ],
      "text/plain": [
       "<IPython.core.display.HTML object>"
      ]
     },
     "metadata": {},
     "output_type": "display_data"
    },
    {
     "data": {
      "text/html": [
       " View run <strong style=\"color:#cdcd00\">logical-sweep-44</strong> at: <a href='https://wandb.ai/rl_shobhith/uncategorized/runs/jxkm6gt6/workspace' target=\"_blank\">https://wandb.ai/rl_shobhith/uncategorized/runs/jxkm6gt6/workspace</a><br/>Synced 5 W&B file(s), 0 media file(s), 0 artifact file(s) and 0 other file(s)"
      ],
      "text/plain": [
       "<IPython.core.display.HTML object>"
      ]
     },
     "metadata": {},
     "output_type": "display_data"
    },
    {
     "data": {
      "text/html": [
       "Find logs at: <code>.\\wandb\\run-20240402_025624-jxkm6gt6\\logs</code>"
      ],
      "text/plain": [
       "<IPython.core.display.HTML object>"
      ]
     },
     "metadata": {},
     "output_type": "display_data"
    },
    {
     "name": "stderr",
     "output_type": "stream",
     "text": [
      "\u001b[34m\u001b[1mwandb\u001b[0m: Agent Starting Run: a80b7jbg with config:\n",
      "\u001b[34m\u001b[1mwandb\u001b[0m: \thidden_dim: 256\n",
      "\u001b[34m\u001b[1mwandb\u001b[0m: \tlearning_rate: 0.004355007747860562\n",
      "Failed to detect the name of this notebook, you can set it manually with the WANDB_NOTEBOOK_NAME environment variable to enable code saving.\n",
      "\u001b[34m\u001b[1mwandb\u001b[0m: \u001b[33mWARNING\u001b[0m Ignored wandb.init() arg project when running a sweep.\n"
     ]
    },
    {
     "data": {
      "text/html": [
       "Tracking run with wandb version 0.16.5"
      ],
      "text/plain": [
       "<IPython.core.display.HTML object>"
      ]
     },
     "metadata": {},
     "output_type": "display_data"
    },
    {
     "data": {
      "text/html": [
       "Run data is saved locally in <code>c:\\Users\\Shobhith Vadlamudi\\AppData\\Local\\Programs\\Microsoft VS Code\\wandb\\run-20240402_030218-a80b7jbg</code>"
      ],
      "text/plain": [
       "<IPython.core.display.HTML object>"
      ]
     },
     "metadata": {},
     "output_type": "display_data"
    },
    {
     "data": {
      "text/html": [
       "Syncing run <strong><a href='https://wandb.ai/rl_shobhith/uncategorized/runs/a80b7jbg/workspace' target=\"_blank\">easy-sweep-45</a></strong> to <a href='https://wandb.ai/rl_shobhith/uncategorized' target=\"_blank\">Weights & Biases</a> (<a href='https://wandb.me/run' target=\"_blank\">docs</a>)<br/>Sweep page: <a href='https://wandb.ai/rl_shobhith/uncategorized/sweeps/yivd2k4v' target=\"_blank\">https://wandb.ai/rl_shobhith/uncategorized/sweeps/yivd2k4v</a>"
      ],
      "text/plain": [
       "<IPython.core.display.HTML object>"
      ]
     },
     "metadata": {},
     "output_type": "display_data"
    },
    {
     "data": {
      "text/html": [
       " View project at <a href='https://wandb.ai/rl_shobhith/uncategorized' target=\"_blank\">https://wandb.ai/rl_shobhith/uncategorized</a>"
      ],
      "text/plain": [
       "<IPython.core.display.HTML object>"
      ]
     },
     "metadata": {},
     "output_type": "display_data"
    },
    {
     "data": {
      "text/html": [
       " View sweep at <a href='https://wandb.ai/rl_shobhith/uncategorized/sweeps/yivd2k4v' target=\"_blank\">https://wandb.ai/rl_shobhith/uncategorized/sweeps/yivd2k4v</a>"
      ],
      "text/plain": [
       "<IPython.core.display.HTML object>"
      ]
     },
     "metadata": {},
     "output_type": "display_data"
    },
    {
     "data": {
      "text/html": [
       " View run at <a href='https://wandb.ai/rl_shobhith/uncategorized/runs/a80b7jbg/workspace' target=\"_blank\">https://wandb.ai/rl_shobhith/uncategorized/runs/a80b7jbg/workspace</a>"
      ],
      "text/plain": [
       "<IPython.core.display.HTML object>"
      ]
     },
     "metadata": {},
     "output_type": "display_data"
    },
    {
     "name": "stderr",
     "output_type": "stream",
     "text": [
      "Iteration 0: 100%|██████████| 50/50 [00:37<00:00,  1.32it/s, episode_return=50, return=-500.000]\n",
      "Iteration 1: 100%|██████████| 50/50 [00:39<00:00,  1.27it/s, episode_return=100, return=-500.000]\n",
      "Iteration 2: 100%|██████████| 50/50 [00:38<00:00,  1.28it/s, episode_return=150, return=-500.000]\n",
      "Iteration 3: 100%|██████████| 50/50 [00:38<00:00,  1.28it/s, episode_return=200, return=-500.000]\n",
      "Iteration 4: 100%|██████████| 50/50 [00:35<00:00,  1.39it/s, episode_return=250, return=-500.000]\n",
      "Iteration 5: 100%|██████████| 50/50 [00:38<00:00,  1.29it/s, episode_return=300, return=-500.000]\n",
      "Iteration 6: 100%|██████████| 50/50 [00:41<00:00,  1.19it/s, episode_return=350, return=-500.000]\n",
      "Iteration 7: 100%|██████████| 50/50 [00:37<00:00,  1.32it/s, episode_return=400, return=-500.000]\n",
      "Iteration 8: 100%|██████████| 50/50 [00:38<00:00,  1.31it/s, episode_return=450, return=-500.000]\n",
      "Iteration 9: 100%|██████████| 50/50 [00:38<00:00,  1.30it/s, episode_return=500, return=-500.000]\n"
     ]
    },
    {
     "data": {
      "application/vnd.jupyter.widget-view+json": {
       "model_id": "1a584fea2c79473fba56d9abf2656c84",
       "version_major": 2,
       "version_minor": 0
      },
      "text/plain": [
       "VBox(children=(Label(value='0.001 MB of 0.001 MB uploaded\\r'), FloatProgress(value=1.0, max=1.0)))"
      ]
     },
     "metadata": {},
     "output_type": "display_data"
    },
    {
     "data": {
      "text/html": [
       "<style>\n",
       "    table.wandb td:nth-child(1) { padding: 0 10px; text-align: left ; width: auto;} td:nth-child(2) {text-align: left ; width: 100%}\n",
       "    .wandb-row { display: flex; flex-direction: row; flex-wrap: wrap; justify-content: flex-start; width: 100% }\n",
       "    .wandb-col { display: flex; flex-direction: column; flex-basis: 100%; flex: 1; padding: 10px; }\n",
       "    </style>\n",
       "<div class=\"wandb-row\"><div class=\"wandb-col\"><h3>Run history:</h3><br/><table class=\"wandb\"><tr><td>regret</td><td>▁</td></tr></table><br/></div><div class=\"wandb-col\"><h3>Run summary:</h3><br/><table class=\"wandb\"><tr><td>regret</td><td>246884.75468</td></tr></table><br/></div></div>"
      ],
      "text/plain": [
       "<IPython.core.display.HTML object>"
      ]
     },
     "metadata": {},
     "output_type": "display_data"
    },
    {
     "data": {
      "text/html": [
       " View run <strong style=\"color:#cdcd00\">easy-sweep-45</strong> at: <a href='https://wandb.ai/rl_shobhith/uncategorized/runs/a80b7jbg/workspace' target=\"_blank\">https://wandb.ai/rl_shobhith/uncategorized/runs/a80b7jbg/workspace</a><br/>Synced 5 W&B file(s), 0 media file(s), 0 artifact file(s) and 0 other file(s)"
      ],
      "text/plain": [
       "<IPython.core.display.HTML object>"
      ]
     },
     "metadata": {},
     "output_type": "display_data"
    },
    {
     "data": {
      "text/html": [
       "Find logs at: <code>.\\wandb\\run-20240402_030218-a80b7jbg\\logs</code>"
      ],
      "text/plain": [
       "<IPython.core.display.HTML object>"
      ]
     },
     "metadata": {},
     "output_type": "display_data"
    },
    {
     "name": "stderr",
     "output_type": "stream",
     "text": [
      "\u001b[34m\u001b[1mwandb\u001b[0m: Agent Starting Run: 0tm5hmud with config:\n",
      "\u001b[34m\u001b[1mwandb\u001b[0m: \thidden_dim: 64\n",
      "\u001b[34m\u001b[1mwandb\u001b[0m: \tlearning_rate: 0.0039397295305185435\n",
      "Failed to detect the name of this notebook, you can set it manually with the WANDB_NOTEBOOK_NAME environment variable to enable code saving.\n",
      "\u001b[34m\u001b[1mwandb\u001b[0m: \u001b[33mWARNING\u001b[0m Ignored wandb.init() arg project when running a sweep.\n"
     ]
    },
    {
     "data": {
      "text/html": [
       "Tracking run with wandb version 0.16.5"
      ],
      "text/plain": [
       "<IPython.core.display.HTML object>"
      ]
     },
     "metadata": {},
     "output_type": "display_data"
    },
    {
     "data": {
      "text/html": [
       "Run data is saved locally in <code>c:\\Users\\Shobhith Vadlamudi\\AppData\\Local\\Programs\\Microsoft VS Code\\wandb\\run-20240402_030859-0tm5hmud</code>"
      ],
      "text/plain": [
       "<IPython.core.display.HTML object>"
      ]
     },
     "metadata": {},
     "output_type": "display_data"
    },
    {
     "data": {
      "text/html": [
       "Syncing run <strong><a href='https://wandb.ai/rl_shobhith/uncategorized/runs/0tm5hmud/workspace' target=\"_blank\">comfy-sweep-46</a></strong> to <a href='https://wandb.ai/rl_shobhith/uncategorized' target=\"_blank\">Weights & Biases</a> (<a href='https://wandb.me/run' target=\"_blank\">docs</a>)<br/>Sweep page: <a href='https://wandb.ai/rl_shobhith/uncategorized/sweeps/yivd2k4v' target=\"_blank\">https://wandb.ai/rl_shobhith/uncategorized/sweeps/yivd2k4v</a>"
      ],
      "text/plain": [
       "<IPython.core.display.HTML object>"
      ]
     },
     "metadata": {},
     "output_type": "display_data"
    },
    {
     "data": {
      "text/html": [
       " View project at <a href='https://wandb.ai/rl_shobhith/uncategorized' target=\"_blank\">https://wandb.ai/rl_shobhith/uncategorized</a>"
      ],
      "text/plain": [
       "<IPython.core.display.HTML object>"
      ]
     },
     "metadata": {},
     "output_type": "display_data"
    },
    {
     "data": {
      "text/html": [
       " View sweep at <a href='https://wandb.ai/rl_shobhith/uncategorized/sweeps/yivd2k4v' target=\"_blank\">https://wandb.ai/rl_shobhith/uncategorized/sweeps/yivd2k4v</a>"
      ],
      "text/plain": [
       "<IPython.core.display.HTML object>"
      ]
     },
     "metadata": {},
     "output_type": "display_data"
    },
    {
     "data": {
      "text/html": [
       " View run at <a href='https://wandb.ai/rl_shobhith/uncategorized/runs/0tm5hmud/workspace' target=\"_blank\">https://wandb.ai/rl_shobhith/uncategorized/runs/0tm5hmud/workspace</a>"
      ],
      "text/plain": [
       "<IPython.core.display.HTML object>"
      ]
     },
     "metadata": {},
     "output_type": "display_data"
    },
    {
     "name": "stderr",
     "output_type": "stream",
     "text": [
      "Iteration 0: 100%|██████████| 50/50 [00:10<00:00,  4.91it/s, episode_return=50, return=-143.300]\n",
      "Iteration 1: 100%|██████████| 50/50 [00:08<00:00,  6.18it/s, episode_return=100, return=-130.200]\n",
      "Iteration 2: 100%|██████████| 50/50 [00:07<00:00,  6.34it/s, episode_return=150, return=-114.800]\n",
      "Iteration 3: 100%|██████████| 50/50 [00:08<00:00,  5.96it/s, episode_return=200, return=-140.600]\n",
      "Iteration 4: 100%|██████████| 50/50 [00:07<00:00,  6.85it/s, episode_return=250, return=-92.800] \n",
      "Iteration 5: 100%|██████████| 50/50 [00:06<00:00,  7.49it/s, episode_return=300, return=-101.700]\n",
      "Iteration 6: 100%|██████████| 50/50 [00:06<00:00,  8.26it/s, episode_return=350, return=-114.700]\n",
      "Iteration 7: 100%|██████████| 50/50 [00:06<00:00,  7.78it/s, episode_return=400, return=-107.200]\n",
      "Iteration 8: 100%|██████████| 50/50 [00:06<00:00,  7.36it/s, episode_return=450, return=-108.300]\n",
      "Iteration 9: 100%|██████████| 50/50 [00:08<00:00,  5.89it/s, episode_return=500, return=-119.200]\n"
     ]
    },
    {
     "data": {
      "application/vnd.jupyter.widget-view+json": {
       "model_id": "9120f6ee6f0143f79d9595ba39b746cb",
       "version_major": 2,
       "version_minor": 0
      },
      "text/plain": [
       "VBox(children=(Label(value='0.001 MB of 0.007 MB uploaded\\r'), FloatProgress(value=0.16684506288466686, max=1.…"
      ]
     },
     "metadata": {},
     "output_type": "display_data"
    },
    {
     "data": {
      "text/html": [
       "<style>\n",
       "    table.wandb td:nth-child(1) { padding: 0 10px; text-align: left ; width: auto;} td:nth-child(2) {text-align: left ; width: 100%}\n",
       "    .wandb-row { display: flex; flex-direction: row; flex-wrap: wrap; justify-content: flex-start; width: 100% }\n",
       "    .wandb-col { display: flex; flex-direction: column; flex-basis: 100%; flex: 1; padding: 10px; }\n",
       "    </style>\n",
       "<div class=\"wandb-row\"><div class=\"wandb-col\"><h3>Run history:</h3><br/><table class=\"wandb\"><tr><td>regret</td><td>▁</td></tr></table><br/></div><div class=\"wandb-col\"><h3>Run summary:</h3><br/><table class=\"wandb\"><tr><td>regret</td><td>63958.25603</td></tr></table><br/></div></div>"
      ],
      "text/plain": [
       "<IPython.core.display.HTML object>"
      ]
     },
     "metadata": {},
     "output_type": "display_data"
    },
    {
     "data": {
      "text/html": [
       " View run <strong style=\"color:#cdcd00\">comfy-sweep-46</strong> at: <a href='https://wandb.ai/rl_shobhith/uncategorized/runs/0tm5hmud/workspace' target=\"_blank\">https://wandb.ai/rl_shobhith/uncategorized/runs/0tm5hmud/workspace</a><br/>Synced 5 W&B file(s), 0 media file(s), 0 artifact file(s) and 0 other file(s)"
      ],
      "text/plain": [
       "<IPython.core.display.HTML object>"
      ]
     },
     "metadata": {},
     "output_type": "display_data"
    },
    {
     "data": {
      "text/html": [
       "Find logs at: <code>.\\wandb\\run-20240402_030859-0tm5hmud\\logs</code>"
      ],
      "text/plain": [
       "<IPython.core.display.HTML object>"
      ]
     },
     "metadata": {},
     "output_type": "display_data"
    },
    {
     "name": "stderr",
     "output_type": "stream",
     "text": [
      "\u001b[34m\u001b[1mwandb\u001b[0m: Agent Starting Run: t46zrlp6 with config:\n",
      "\u001b[34m\u001b[1mwandb\u001b[0m: \thidden_dim: 64\n",
      "\u001b[34m\u001b[1mwandb\u001b[0m: \tlearning_rate: 0.00458412908033848\n",
      "Failed to detect the name of this notebook, you can set it manually with the WANDB_NOTEBOOK_NAME environment variable to enable code saving.\n",
      "\u001b[34m\u001b[1mwandb\u001b[0m: \u001b[33mWARNING\u001b[0m Ignored wandb.init() arg project when running a sweep.\n"
     ]
    },
    {
     "data": {
      "application/vnd.jupyter.widget-view+json": {
       "model_id": "126fd57524b34f0d8deee36536ad3a42",
       "version_major": 2,
       "version_minor": 0
      },
      "text/plain": [
       "VBox(children=(Label(value='Waiting for wandb.init()...\\r'), FloatProgress(value=0.011288888888925108, max=1.0…"
      ]
     },
     "metadata": {},
     "output_type": "display_data"
    },
    {
     "data": {
      "text/html": [
       "Tracking run with wandb version 0.16.5"
      ],
      "text/plain": [
       "<IPython.core.display.HTML object>"
      ]
     },
     "metadata": {},
     "output_type": "display_data"
    },
    {
     "data": {
      "text/html": [
       "Run data is saved locally in <code>c:\\Users\\Shobhith Vadlamudi\\AppData\\Local\\Programs\\Microsoft VS Code\\wandb\\run-20240402_031029-t46zrlp6</code>"
      ],
      "text/plain": [
       "<IPython.core.display.HTML object>"
      ]
     },
     "metadata": {},
     "output_type": "display_data"
    },
    {
     "data": {
      "text/html": [
       "Syncing run <strong><a href='https://wandb.ai/rl_shobhith/uncategorized/runs/t46zrlp6/workspace' target=\"_blank\">noble-sweep-47</a></strong> to <a href='https://wandb.ai/rl_shobhith/uncategorized' target=\"_blank\">Weights & Biases</a> (<a href='https://wandb.me/run' target=\"_blank\">docs</a>)<br/>Sweep page: <a href='https://wandb.ai/rl_shobhith/uncategorized/sweeps/yivd2k4v' target=\"_blank\">https://wandb.ai/rl_shobhith/uncategorized/sweeps/yivd2k4v</a>"
      ],
      "text/plain": [
       "<IPython.core.display.HTML object>"
      ]
     },
     "metadata": {},
     "output_type": "display_data"
    },
    {
     "data": {
      "text/html": [
       " View project at <a href='https://wandb.ai/rl_shobhith/uncategorized' target=\"_blank\">https://wandb.ai/rl_shobhith/uncategorized</a>"
      ],
      "text/plain": [
       "<IPython.core.display.HTML object>"
      ]
     },
     "metadata": {},
     "output_type": "display_data"
    },
    {
     "data": {
      "text/html": [
       " View sweep at <a href='https://wandb.ai/rl_shobhith/uncategorized/sweeps/yivd2k4v' target=\"_blank\">https://wandb.ai/rl_shobhith/uncategorized/sweeps/yivd2k4v</a>"
      ],
      "text/plain": [
       "<IPython.core.display.HTML object>"
      ]
     },
     "metadata": {},
     "output_type": "display_data"
    },
    {
     "data": {
      "text/html": [
       " View run at <a href='https://wandb.ai/rl_shobhith/uncategorized/runs/t46zrlp6/workspace' target=\"_blank\">https://wandb.ai/rl_shobhith/uncategorized/runs/t46zrlp6/workspace</a>"
      ],
      "text/plain": [
       "<IPython.core.display.HTML object>"
      ]
     },
     "metadata": {},
     "output_type": "display_data"
    },
    {
     "name": "stderr",
     "output_type": "stream",
     "text": [
      "Iteration 0: 100%|██████████| 50/50 [00:34<00:00,  1.43it/s, episode_return=50, return=-500.000]\n",
      "Iteration 1: 100%|██████████| 50/50 [00:31<00:00,  1.60it/s, episode_return=100, return=-500.000]\n",
      "Iteration 2: 100%|██████████| 50/50 [00:30<00:00,  1.62it/s, episode_return=150, return=-500.000]\n",
      "Iteration 3: 100%|██████████| 50/50 [00:30<00:00,  1.66it/s, episode_return=200, return=-500.000]\n",
      "Iteration 4: 100%|██████████| 50/50 [00:29<00:00,  1.67it/s, episode_return=250, return=-500.000]\n",
      "Iteration 5: 100%|██████████| 50/50 [00:30<00:00,  1.64it/s, episode_return=300, return=-500.000]\n",
      "Iteration 6: 100%|██████████| 50/50 [00:30<00:00,  1.63it/s, episode_return=350, return=-500.000]\n",
      "Iteration 7: 100%|██████████| 50/50 [00:28<00:00,  1.75it/s, episode_return=400, return=-500.000]\n",
      "Iteration 8: 100%|██████████| 50/50 [00:31<00:00,  1.61it/s, episode_return=450, return=-500.000]\n",
      "Iteration 9: 100%|██████████| 50/50 [00:33<00:00,  1.50it/s, episode_return=500, return=-500.000]\n"
     ]
    },
    {
     "data": {
      "application/vnd.jupyter.widget-view+json": {
       "model_id": "0f2bb84886a74fc1b63251548ce84ee7",
       "version_major": 2,
       "version_minor": 0
      },
      "text/plain": [
       "VBox(children=(Label(value='0.001 MB of 0.001 MB uploaded\\r'), FloatProgress(value=1.0, max=1.0)))"
      ]
     },
     "metadata": {},
     "output_type": "display_data"
    },
    {
     "data": {
      "text/html": [
       "<style>\n",
       "    table.wandb td:nth-child(1) { padding: 0 10px; text-align: left ; width: auto;} td:nth-child(2) {text-align: left ; width: 100%}\n",
       "    .wandb-row { display: flex; flex-direction: row; flex-wrap: wrap; justify-content: flex-start; width: 100% }\n",
       "    .wandb-col { display: flex; flex-direction: column; flex-basis: 100%; flex: 1; padding: 10px; }\n",
       "    </style>\n",
       "<div class=\"wandb-row\"><div class=\"wandb-col\"><h3>Run history:</h3><br/><table class=\"wandb\"><tr><td>regret</td><td>▁</td></tr></table><br/></div><div class=\"wandb-col\"><h3>Run summary:</h3><br/><table class=\"wandb\"><tr><td>regret</td><td>249651.78234</td></tr></table><br/></div></div>"
      ],
      "text/plain": [
       "<IPython.core.display.HTML object>"
      ]
     },
     "metadata": {},
     "output_type": "display_data"
    },
    {
     "data": {
      "text/html": [
       " View run <strong style=\"color:#cdcd00\">noble-sweep-47</strong> at: <a href='https://wandb.ai/rl_shobhith/uncategorized/runs/t46zrlp6/workspace' target=\"_blank\">https://wandb.ai/rl_shobhith/uncategorized/runs/t46zrlp6/workspace</a><br/>Synced 5 W&B file(s), 0 media file(s), 0 artifact file(s) and 0 other file(s)"
      ],
      "text/plain": [
       "<IPython.core.display.HTML object>"
      ]
     },
     "metadata": {},
     "output_type": "display_data"
    },
    {
     "data": {
      "text/html": [
       "Find logs at: <code>.\\wandb\\run-20240402_031029-t46zrlp6\\logs</code>"
      ],
      "text/plain": [
       "<IPython.core.display.HTML object>"
      ]
     },
     "metadata": {},
     "output_type": "display_data"
    },
    {
     "name": "stderr",
     "output_type": "stream",
     "text": [
      "\u001b[34m\u001b[1mwandb\u001b[0m: Agent Starting Run: vj0hozp6 with config:\n",
      "\u001b[34m\u001b[1mwandb\u001b[0m: \thidden_dim: 256\n",
      "\u001b[34m\u001b[1mwandb\u001b[0m: \tlearning_rate: 0.008456904690631909\n",
      "Failed to detect the name of this notebook, you can set it manually with the WANDB_NOTEBOOK_NAME environment variable to enable code saving.\n",
      "\u001b[34m\u001b[1mwandb\u001b[0m: \u001b[33mWARNING\u001b[0m Ignored wandb.init() arg project when running a sweep.\n"
     ]
    },
    {
     "data": {
      "text/html": [
       "Tracking run with wandb version 0.16.5"
      ],
      "text/plain": [
       "<IPython.core.display.HTML object>"
      ]
     },
     "metadata": {},
     "output_type": "display_data"
    },
    {
     "data": {
      "text/html": [
       "Run data is saved locally in <code>c:\\Users\\Shobhith Vadlamudi\\AppData\\Local\\Programs\\Microsoft VS Code\\wandb\\run-20240402_031556-vj0hozp6</code>"
      ],
      "text/plain": [
       "<IPython.core.display.HTML object>"
      ]
     },
     "metadata": {},
     "output_type": "display_data"
    },
    {
     "data": {
      "text/html": [
       "Syncing run <strong><a href='https://wandb.ai/rl_shobhith/uncategorized/runs/vj0hozp6/workspace' target=\"_blank\">dulcet-sweep-48</a></strong> to <a href='https://wandb.ai/rl_shobhith/uncategorized' target=\"_blank\">Weights & Biases</a> (<a href='https://wandb.me/run' target=\"_blank\">docs</a>)<br/>Sweep page: <a href='https://wandb.ai/rl_shobhith/uncategorized/sweeps/yivd2k4v' target=\"_blank\">https://wandb.ai/rl_shobhith/uncategorized/sweeps/yivd2k4v</a>"
      ],
      "text/plain": [
       "<IPython.core.display.HTML object>"
      ]
     },
     "metadata": {},
     "output_type": "display_data"
    },
    {
     "data": {
      "text/html": [
       " View project at <a href='https://wandb.ai/rl_shobhith/uncategorized' target=\"_blank\">https://wandb.ai/rl_shobhith/uncategorized</a>"
      ],
      "text/plain": [
       "<IPython.core.display.HTML object>"
      ]
     },
     "metadata": {},
     "output_type": "display_data"
    },
    {
     "data": {
      "text/html": [
       " View sweep at <a href='https://wandb.ai/rl_shobhith/uncategorized/sweeps/yivd2k4v' target=\"_blank\">https://wandb.ai/rl_shobhith/uncategorized/sweeps/yivd2k4v</a>"
      ],
      "text/plain": [
       "<IPython.core.display.HTML object>"
      ]
     },
     "metadata": {},
     "output_type": "display_data"
    },
    {
     "data": {
      "text/html": [
       " View run at <a href='https://wandb.ai/rl_shobhith/uncategorized/runs/vj0hozp6/workspace' target=\"_blank\">https://wandb.ai/rl_shobhith/uncategorized/runs/vj0hozp6/workspace</a>"
      ],
      "text/plain": [
       "<IPython.core.display.HTML object>"
      ]
     },
     "metadata": {},
     "output_type": "display_data"
    },
    {
     "name": "stderr",
     "output_type": "stream",
     "text": [
      "Iteration 0: 100%|██████████| 50/50 [00:38<00:00,  1.29it/s, episode_return=50, return=-500.000]\n",
      "Iteration 1: 100%|██████████| 50/50 [00:39<00:00,  1.27it/s, episode_return=100, return=-500.000]\n",
      "Iteration 2: 100%|██████████| 50/50 [00:37<00:00,  1.32it/s, episode_return=150, return=-500.000]\n",
      "Iteration 3: 100%|██████████| 50/50 [00:35<00:00,  1.42it/s, episode_return=200, return=-500.000]\n",
      "Iteration 4: 100%|██████████| 50/50 [00:36<00:00,  1.38it/s, episode_return=250, return=-500.000]\n",
      "Iteration 5: 100%|██████████| 50/50 [00:39<00:00,  1.27it/s, episode_return=300, return=-500.000]\n",
      "Iteration 6: 100%|██████████| 50/50 [00:35<00:00,  1.41it/s, episode_return=350, return=-500.000]\n",
      "Iteration 7: 100%|██████████| 50/50 [00:36<00:00,  1.39it/s, episode_return=400, return=-500.000]\n",
      "Iteration 8: 100%|██████████| 50/50 [00:34<00:00,  1.46it/s, episode_return=450, return=-500.000]\n",
      "Iteration 9: 100%|██████████| 50/50 [00:28<00:00,  1.75it/s, episode_return=500, return=-250.900]\n"
     ]
    },
    {
     "data": {
      "application/vnd.jupyter.widget-view+json": {
       "model_id": "61ab693232ae485a9c938660063cb577",
       "version_major": 2,
       "version_minor": 0
      },
      "text/plain": [
       "VBox(children=(Label(value='0.001 MB of 0.001 MB uploaded\\r'), FloatProgress(value=1.0, max=1.0)))"
      ]
     },
     "metadata": {},
     "output_type": "display_data"
    },
    {
     "data": {
      "text/html": [
       "<style>\n",
       "    table.wandb td:nth-child(1) { padding: 0 10px; text-align: left ; width: auto;} td:nth-child(2) {text-align: left ; width: 100%}\n",
       "    .wandb-row { display: flex; flex-direction: row; flex-wrap: wrap; justify-content: flex-start; width: 100% }\n",
       "    .wandb-col { display: flex; flex-direction: column; flex-basis: 100%; flex: 1; padding: 10px; }\n",
       "    </style>\n",
       "<div class=\"wandb-row\"><div class=\"wandb-col\"><h3>Run history:</h3><br/><table class=\"wandb\"><tr><td>regret</td><td>▁</td></tr></table><br/></div><div class=\"wandb-col\"><h3>Run summary:</h3><br/><table class=\"wandb\"><tr><td>regret</td><td>248665.26733</td></tr></table><br/></div></div>"
      ],
      "text/plain": [
       "<IPython.core.display.HTML object>"
      ]
     },
     "metadata": {},
     "output_type": "display_data"
    },
    {
     "data": {
      "text/html": [
       " View run <strong style=\"color:#cdcd00\">dulcet-sweep-48</strong> at: <a href='https://wandb.ai/rl_shobhith/uncategorized/runs/vj0hozp6/workspace' target=\"_blank\">https://wandb.ai/rl_shobhith/uncategorized/runs/vj0hozp6/workspace</a><br/>Synced 5 W&B file(s), 0 media file(s), 0 artifact file(s) and 0 other file(s)"
      ],
      "text/plain": [
       "<IPython.core.display.HTML object>"
      ]
     },
     "metadata": {},
     "output_type": "display_data"
    },
    {
     "data": {
      "text/html": [
       "Find logs at: <code>.\\wandb\\run-20240402_031556-vj0hozp6\\logs</code>"
      ],
      "text/plain": [
       "<IPython.core.display.HTML object>"
      ]
     },
     "metadata": {},
     "output_type": "display_data"
    },
    {
     "name": "stderr",
     "output_type": "stream",
     "text": [
      "\u001b[34m\u001b[1mwandb\u001b[0m: Agent Starting Run: et26m10g with config:\n",
      "\u001b[34m\u001b[1mwandb\u001b[0m: \thidden_dim: 256\n",
      "\u001b[34m\u001b[1mwandb\u001b[0m: \tlearning_rate: 0.008386448878760175\n",
      "Failed to detect the name of this notebook, you can set it manually with the WANDB_NOTEBOOK_NAME environment variable to enable code saving.\n",
      "\u001b[34m\u001b[1mwandb\u001b[0m: \u001b[33mWARNING\u001b[0m Ignored wandb.init() arg project when running a sweep.\n"
     ]
    },
    {
     "data": {
      "text/html": [
       "Tracking run with wandb version 0.16.5"
      ],
      "text/plain": [
       "<IPython.core.display.HTML object>"
      ]
     },
     "metadata": {},
     "output_type": "display_data"
    },
    {
     "data": {
      "text/html": [
       "Run data is saved locally in <code>c:\\Users\\Shobhith Vadlamudi\\AppData\\Local\\Programs\\Microsoft VS Code\\wandb\\run-20240402_032211-et26m10g</code>"
      ],
      "text/plain": [
       "<IPython.core.display.HTML object>"
      ]
     },
     "metadata": {},
     "output_type": "display_data"
    },
    {
     "data": {
      "text/html": [
       "Syncing run <strong><a href='https://wandb.ai/rl_shobhith/uncategorized/runs/et26m10g/workspace' target=\"_blank\">avid-sweep-49</a></strong> to <a href='https://wandb.ai/rl_shobhith/uncategorized' target=\"_blank\">Weights & Biases</a> (<a href='https://wandb.me/run' target=\"_blank\">docs</a>)<br/>Sweep page: <a href='https://wandb.ai/rl_shobhith/uncategorized/sweeps/yivd2k4v' target=\"_blank\">https://wandb.ai/rl_shobhith/uncategorized/sweeps/yivd2k4v</a>"
      ],
      "text/plain": [
       "<IPython.core.display.HTML object>"
      ]
     },
     "metadata": {},
     "output_type": "display_data"
    },
    {
     "data": {
      "text/html": [
       " View project at <a href='https://wandb.ai/rl_shobhith/uncategorized' target=\"_blank\">https://wandb.ai/rl_shobhith/uncategorized</a>"
      ],
      "text/plain": [
       "<IPython.core.display.HTML object>"
      ]
     },
     "metadata": {},
     "output_type": "display_data"
    },
    {
     "data": {
      "text/html": [
       " View sweep at <a href='https://wandb.ai/rl_shobhith/uncategorized/sweeps/yivd2k4v' target=\"_blank\">https://wandb.ai/rl_shobhith/uncategorized/sweeps/yivd2k4v</a>"
      ],
      "text/plain": [
       "<IPython.core.display.HTML object>"
      ]
     },
     "metadata": {},
     "output_type": "display_data"
    },
    {
     "data": {
      "text/html": [
       " View run at <a href='https://wandb.ai/rl_shobhith/uncategorized/runs/et26m10g/workspace' target=\"_blank\">https://wandb.ai/rl_shobhith/uncategorized/runs/et26m10g/workspace</a>"
      ],
      "text/plain": [
       "<IPython.core.display.HTML object>"
      ]
     },
     "metadata": {},
     "output_type": "display_data"
    },
    {
     "name": "stderr",
     "output_type": "stream",
     "text": [
      "Iteration 0: 100%|██████████| 50/50 [00:35<00:00,  1.40it/s, episode_return=50, return=-500.000]\n",
      "Iteration 1: 100%|██████████| 50/50 [00:38<00:00,  1.29it/s, episode_return=100, return=-500.000]\n",
      "Iteration 2: 100%|██████████| 50/50 [00:37<00:00,  1.33it/s, episode_return=150, return=-500.000]\n",
      "Iteration 3: 100%|██████████| 50/50 [00:32<00:00,  1.55it/s, episode_return=200, return=-500.000]\n",
      "Iteration 4: 100%|██████████| 50/50 [00:39<00:00,  1.25it/s, episode_return=250, return=-500.000]\n",
      "Iteration 5: 100%|██████████| 50/50 [00:34<00:00,  1.44it/s, episode_return=300, return=-500.000]\n",
      "Iteration 6: 100%|██████████| 50/50 [00:35<00:00,  1.40it/s, episode_return=350, return=-500.000]\n",
      "Iteration 7: 100%|██████████| 50/50 [00:36<00:00,  1.38it/s, episode_return=400, return=-500.000]\n",
      "Iteration 8: 100%|██████████| 50/50 [00:35<00:00,  1.39it/s, episode_return=450, return=-500.000]\n",
      "Iteration 9: 100%|██████████| 50/50 [00:35<00:00,  1.40it/s, episode_return=500, return=-500.000]\n"
     ]
    },
    {
     "data": {
      "application/vnd.jupyter.widget-view+json": {
       "model_id": "de279c7e4de745c5965083dab074e386",
       "version_major": 2,
       "version_minor": 0
      },
      "text/plain": [
       "VBox(children=(Label(value='0.001 MB of 0.001 MB uploaded\\r'), FloatProgress(value=1.0, max=1.0)))"
      ]
     },
     "metadata": {},
     "output_type": "display_data"
    },
    {
     "data": {
      "text/html": [
       "<style>\n",
       "    table.wandb td:nth-child(1) { padding: 0 10px; text-align: left ; width: auto;} td:nth-child(2) {text-align: left ; width: 100%}\n",
       "    .wandb-row { display: flex; flex-direction: row; flex-wrap: wrap; justify-content: flex-start; width: 100% }\n",
       "    .wandb-col { display: flex; flex-direction: column; flex-basis: 100%; flex: 1; padding: 10px; }\n",
       "    </style>\n",
       "<div class=\"wandb-row\"><div class=\"wandb-col\"><h3>Run history:</h3><br/><table class=\"wandb\"><tr><td>regret</td><td>▁</td></tr></table><br/></div><div class=\"wandb-col\"><h3>Run summary:</h3><br/><table class=\"wandb\"><tr><td>regret</td><td>250000.0</td></tr></table><br/></div></div>"
      ],
      "text/plain": [
       "<IPython.core.display.HTML object>"
      ]
     },
     "metadata": {},
     "output_type": "display_data"
    },
    {
     "data": {
      "text/html": [
       " View run <strong style=\"color:#cdcd00\">avid-sweep-49</strong> at: <a href='https://wandb.ai/rl_shobhith/uncategorized/runs/et26m10g/workspace' target=\"_blank\">https://wandb.ai/rl_shobhith/uncategorized/runs/et26m10g/workspace</a><br/>Synced 5 W&B file(s), 0 media file(s), 0 artifact file(s) and 0 other file(s)"
      ],
      "text/plain": [
       "<IPython.core.display.HTML object>"
      ]
     },
     "metadata": {},
     "output_type": "display_data"
    },
    {
     "data": {
      "text/html": [
       "Find logs at: <code>.\\wandb\\run-20240402_032211-et26m10g\\logs</code>"
      ],
      "text/plain": [
       "<IPython.core.display.HTML object>"
      ]
     },
     "metadata": {},
     "output_type": "display_data"
    },
    {
     "name": "stderr",
     "output_type": "stream",
     "text": [
      "\u001b[34m\u001b[1mwandb\u001b[0m: Agent Starting Run: y4w7hl7r with config:\n",
      "\u001b[34m\u001b[1mwandb\u001b[0m: \thidden_dim: 64\n",
      "\u001b[34m\u001b[1mwandb\u001b[0m: \tlearning_rate: 0.005090024139067689\n",
      "Failed to detect the name of this notebook, you can set it manually with the WANDB_NOTEBOOK_NAME environment variable to enable code saving.\n",
      "\u001b[34m\u001b[1mwandb\u001b[0m: \u001b[33mWARNING\u001b[0m Ignored wandb.init() arg project when running a sweep.\n"
     ]
    },
    {
     "data": {
      "text/html": [
       "Tracking run with wandb version 0.16.5"
      ],
      "text/plain": [
       "<IPython.core.display.HTML object>"
      ]
     },
     "metadata": {},
     "output_type": "display_data"
    },
    {
     "data": {
      "text/html": [
       "Run data is saved locally in <code>c:\\Users\\Shobhith Vadlamudi\\AppData\\Local\\Programs\\Microsoft VS Code\\wandb\\run-20240402_032825-y4w7hl7r</code>"
      ],
      "text/plain": [
       "<IPython.core.display.HTML object>"
      ]
     },
     "metadata": {},
     "output_type": "display_data"
    },
    {
     "data": {
      "text/html": [
       "Syncing run <strong><a href='https://wandb.ai/rl_shobhith/uncategorized/runs/y4w7hl7r/workspace' target=\"_blank\">pleasant-sweep-50</a></strong> to <a href='https://wandb.ai/rl_shobhith/uncategorized' target=\"_blank\">Weights & Biases</a> (<a href='https://wandb.me/run' target=\"_blank\">docs</a>)<br/>Sweep page: <a href='https://wandb.ai/rl_shobhith/uncategorized/sweeps/yivd2k4v' target=\"_blank\">https://wandb.ai/rl_shobhith/uncategorized/sweeps/yivd2k4v</a>"
      ],
      "text/plain": [
       "<IPython.core.display.HTML object>"
      ]
     },
     "metadata": {},
     "output_type": "display_data"
    },
    {
     "data": {
      "text/html": [
       " View project at <a href='https://wandb.ai/rl_shobhith/uncategorized' target=\"_blank\">https://wandb.ai/rl_shobhith/uncategorized</a>"
      ],
      "text/plain": [
       "<IPython.core.display.HTML object>"
      ]
     },
     "metadata": {},
     "output_type": "display_data"
    },
    {
     "data": {
      "text/html": [
       " View sweep at <a href='https://wandb.ai/rl_shobhith/uncategorized/sweeps/yivd2k4v' target=\"_blank\">https://wandb.ai/rl_shobhith/uncategorized/sweeps/yivd2k4v</a>"
      ],
      "text/plain": [
       "<IPython.core.display.HTML object>"
      ]
     },
     "metadata": {},
     "output_type": "display_data"
    },
    {
     "data": {
      "text/html": [
       " View run at <a href='https://wandb.ai/rl_shobhith/uncategorized/runs/y4w7hl7r/workspace' target=\"_blank\">https://wandb.ai/rl_shobhith/uncategorized/runs/y4w7hl7r/workspace</a>"
      ],
      "text/plain": [
       "<IPython.core.display.HTML object>"
      ]
     },
     "metadata": {},
     "output_type": "display_data"
    },
    {
     "name": "stderr",
     "output_type": "stream",
     "text": [
      "Iteration 0: 100%|██████████| 50/50 [00:22<00:00,  2.19it/s, episode_return=50, return=-257.200]\n",
      "Iteration 1: 100%|██████████| 50/50 [00:18<00:00,  2.77it/s, episode_return=100, return=-328.400]\n",
      "Iteration 2: 100%|██████████| 50/50 [00:25<00:00,  1.99it/s, episode_return=150, return=-400.400]\n",
      "Iteration 3: 100%|██████████| 50/50 [00:30<00:00,  1.63it/s, episode_return=200, return=-500.000]\n",
      "Iteration 4: 100%|██████████| 50/50 [00:30<00:00,  1.65it/s, episode_return=250, return=-312.400]\n",
      "Iteration 5: 100%|██████████| 50/50 [00:12<00:00,  3.88it/s, episode_return=300, return=-198.700]\n",
      "Iteration 6: 100%|██████████| 50/50 [00:11<00:00,  4.40it/s, episode_return=350, return=-175.000]\n",
      "Iteration 7: 100%|██████████| 50/50 [00:12<00:00,  4.01it/s, episode_return=400, return=-171.500]\n",
      "Iteration 8: 100%|██████████| 50/50 [00:13<00:00,  3.64it/s, episode_return=450, return=-203.700]\n",
      "Iteration 9: 100%|██████████| 50/50 [00:13<00:00,  3.66it/s, episode_return=500, return=-196.600]\n"
     ]
    },
    {
     "data": {
      "application/vnd.jupyter.widget-view+json": {
       "model_id": "f93db267bcac4031860e37fc0cbcdd50",
       "version_major": 2,
       "version_minor": 0
      },
      "text/plain": [
       "VBox(children=(Label(value='0.001 MB of 0.007 MB uploaded\\r'), FloatProgress(value=0.1655382981547856, max=1.0…"
      ]
     },
     "metadata": {},
     "output_type": "display_data"
    },
    {
     "data": {
      "text/html": [
       "<style>\n",
       "    table.wandb td:nth-child(1) { padding: 0 10px; text-align: left ; width: auto;} td:nth-child(2) {text-align: left ; width: 100%}\n",
       "    .wandb-row { display: flex; flex-direction: row; flex-wrap: wrap; justify-content: flex-start; width: 100% }\n",
       "    .wandb-col { display: flex; flex-direction: column; flex-basis: 100%; flex: 1; padding: 10px; }\n",
       "    </style>\n",
       "<div class=\"wandb-row\"><div class=\"wandb-col\"><h3>Run history:</h3><br/><table class=\"wandb\"><tr><td>regret</td><td>▁</td></tr></table><br/></div><div class=\"wandb-col\"><h3>Run summary:</h3><br/><table class=\"wandb\"><tr><td>regret</td><td>158478.1254</td></tr></table><br/></div></div>"
      ],
      "text/plain": [
       "<IPython.core.display.HTML object>"
      ]
     },
     "metadata": {},
     "output_type": "display_data"
    },
    {
     "data": {
      "text/html": [
       " View run <strong style=\"color:#cdcd00\">pleasant-sweep-50</strong> at: <a href='https://wandb.ai/rl_shobhith/uncategorized/runs/y4w7hl7r/workspace' target=\"_blank\">https://wandb.ai/rl_shobhith/uncategorized/runs/y4w7hl7r/workspace</a><br/>Synced 5 W&B file(s), 0 media file(s), 0 artifact file(s) and 0 other file(s)"
      ],
      "text/plain": [
       "<IPython.core.display.HTML object>"
      ]
     },
     "metadata": {},
     "output_type": "display_data"
    },
    {
     "data": {
      "text/html": [
       "Find logs at: <code>.\\wandb\\run-20240402_032825-y4w7hl7r\\logs</code>"
      ],
      "text/plain": [
       "<IPython.core.display.HTML object>"
      ]
     },
     "metadata": {},
     "output_type": "display_data"
    },
    {
     "name": "stderr",
     "output_type": "stream",
     "text": [
      "\u001b[34m\u001b[1mwandb\u001b[0m: Sweep Agent: Waiting for job.\n",
      "\u001b[34m\u001b[1mwandb\u001b[0m: Job received.\n",
      "\u001b[34m\u001b[1mwandb\u001b[0m: Agent Starting Run: 5ru4l881 with config:\n",
      "\u001b[34m\u001b[1mwandb\u001b[0m: \thidden_dim: 64\n",
      "\u001b[34m\u001b[1mwandb\u001b[0m: \tlearning_rate: 0.00538123052898101\n",
      "Failed to detect the name of this notebook, you can set it manually with the WANDB_NOTEBOOK_NAME environment variable to enable code saving.\n",
      "\u001b[34m\u001b[1mwandb\u001b[0m: \u001b[33mWARNING\u001b[0m Ignored wandb.init() arg project when running a sweep.\n"
     ]
    },
    {
     "data": {
      "text/html": [
       "Tracking run with wandb version 0.16.5"
      ],
      "text/plain": [
       "<IPython.core.display.HTML object>"
      ]
     },
     "metadata": {},
     "output_type": "display_data"
    },
    {
     "data": {
      "text/html": [
       "Run data is saved locally in <code>c:\\Users\\Shobhith Vadlamudi\\AppData\\Local\\Programs\\Microsoft VS Code\\wandb\\run-20240402_033156-5ru4l881</code>"
      ],
      "text/plain": [
       "<IPython.core.display.HTML object>"
      ]
     },
     "metadata": {},
     "output_type": "display_data"
    },
    {
     "data": {
      "text/html": [
       "Syncing run <strong><a href='https://wandb.ai/rl_shobhith/uncategorized/runs/5ru4l881/workspace' target=\"_blank\">pious-sweep-51</a></strong> to <a href='https://wandb.ai/rl_shobhith/uncategorized' target=\"_blank\">Weights & Biases</a> (<a href='https://wandb.me/run' target=\"_blank\">docs</a>)<br/>Sweep page: <a href='https://wandb.ai/rl_shobhith/uncategorized/sweeps/yivd2k4v' target=\"_blank\">https://wandb.ai/rl_shobhith/uncategorized/sweeps/yivd2k4v</a>"
      ],
      "text/plain": [
       "<IPython.core.display.HTML object>"
      ]
     },
     "metadata": {},
     "output_type": "display_data"
    },
    {
     "data": {
      "text/html": [
       " View project at <a href='https://wandb.ai/rl_shobhith/uncategorized' target=\"_blank\">https://wandb.ai/rl_shobhith/uncategorized</a>"
      ],
      "text/plain": [
       "<IPython.core.display.HTML object>"
      ]
     },
     "metadata": {},
     "output_type": "display_data"
    },
    {
     "data": {
      "text/html": [
       " View sweep at <a href='https://wandb.ai/rl_shobhith/uncategorized/sweeps/yivd2k4v' target=\"_blank\">https://wandb.ai/rl_shobhith/uncategorized/sweeps/yivd2k4v</a>"
      ],
      "text/plain": [
       "<IPython.core.display.HTML object>"
      ]
     },
     "metadata": {},
     "output_type": "display_data"
    },
    {
     "data": {
      "text/html": [
       " View run at <a href='https://wandb.ai/rl_shobhith/uncategorized/runs/5ru4l881/workspace' target=\"_blank\">https://wandb.ai/rl_shobhith/uncategorized/runs/5ru4l881/workspace</a>"
      ],
      "text/plain": [
       "<IPython.core.display.HTML object>"
      ]
     },
     "metadata": {},
     "output_type": "display_data"
    },
    {
     "name": "stderr",
     "output_type": "stream",
     "text": [
      "Iteration 0: 100%|██████████| 50/50 [00:35<00:00,  1.43it/s, episode_return=50, return=-500.000]\n",
      "Iteration 1: 100%|██████████| 50/50 [00:37<00:00,  1.34it/s, episode_return=100, return=-500.000]\n",
      "Iteration 2: 100%|██████████| 50/50 [00:39<00:00,  1.28it/s, episode_return=150, return=-500.000]\n",
      "Iteration 3: 100%|██████████| 50/50 [00:35<00:00,  1.39it/s, episode_return=200, return=-500.000]\n",
      "Iteration 4: 100%|██████████| 50/50 [00:36<00:00,  1.37it/s, episode_return=250, return=-500.000]\n",
      "Iteration 5: 100%|██████████| 50/50 [00:35<00:00,  1.42it/s, episode_return=300, return=-500.000]\n",
      "Iteration 6: 100%|██████████| 50/50 [00:33<00:00,  1.50it/s, episode_return=350, return=-500.000]\n",
      "Iteration 7: 100%|██████████| 50/50 [00:31<00:00,  1.57it/s, episode_return=400, return=-500.000]\n",
      "Iteration 8: 100%|██████████| 50/50 [00:35<00:00,  1.40it/s, episode_return=450, return=-500.000]\n",
      "Iteration 9: 100%|██████████| 50/50 [00:33<00:00,  1.51it/s, episode_return=500, return=-500.000]\n"
     ]
    },
    {
     "data": {
      "application/vnd.jupyter.widget-view+json": {
       "model_id": "d2fa00c6e2c44e9bb5621cb0acc05b2c",
       "version_major": 2,
       "version_minor": 0
      },
      "text/plain": [
       "VBox(children=(Label(value='0.001 MB of 0.007 MB uploaded\\r'), FloatProgress(value=0.16397107166337935, max=1.…"
      ]
     },
     "metadata": {},
     "output_type": "display_data"
    },
    {
     "data": {
      "text/html": [
       "<style>\n",
       "    table.wandb td:nth-child(1) { padding: 0 10px; text-align: left ; width: auto;} td:nth-child(2) {text-align: left ; width: 100%}\n",
       "    .wandb-row { display: flex; flex-direction: row; flex-wrap: wrap; justify-content: flex-start; width: 100% }\n",
       "    .wandb-col { display: flex; flex-direction: column; flex-basis: 100%; flex: 1; padding: 10px; }\n",
       "    </style>\n",
       "<div class=\"wandb-row\"><div class=\"wandb-col\"><h3>Run history:</h3><br/><table class=\"wandb\"><tr><td>regret</td><td>▁</td></tr></table><br/></div><div class=\"wandb-col\"><h3>Run summary:</h3><br/><table class=\"wandb\"><tr><td>regret</td><td>250000.0</td></tr></table><br/></div></div>"
      ],
      "text/plain": [
       "<IPython.core.display.HTML object>"
      ]
     },
     "metadata": {},
     "output_type": "display_data"
    },
    {
     "data": {
      "text/html": [
       " View run <strong style=\"color:#cdcd00\">pious-sweep-51</strong> at: <a href='https://wandb.ai/rl_shobhith/uncategorized/runs/5ru4l881/workspace' target=\"_blank\">https://wandb.ai/rl_shobhith/uncategorized/runs/5ru4l881/workspace</a><br/>Synced 5 W&B file(s), 0 media file(s), 0 artifact file(s) and 0 other file(s)"
      ],
      "text/plain": [
       "<IPython.core.display.HTML object>"
      ]
     },
     "metadata": {},
     "output_type": "display_data"
    },
    {
     "data": {
      "text/html": [
       "Find logs at: <code>.\\wandb\\run-20240402_033156-5ru4l881\\logs</code>"
      ],
      "text/plain": [
       "<IPython.core.display.HTML object>"
      ]
     },
     "metadata": {},
     "output_type": "display_data"
    },
    {
     "name": "stderr",
     "output_type": "stream",
     "text": [
      "\u001b[34m\u001b[1mwandb\u001b[0m: Agent Starting Run: qnx9tsir with config:\n",
      "\u001b[34m\u001b[1mwandb\u001b[0m: \thidden_dim: 64\n",
      "\u001b[34m\u001b[1mwandb\u001b[0m: \tlearning_rate: 0.002511406575845394\n",
      "Failed to detect the name of this notebook, you can set it manually with the WANDB_NOTEBOOK_NAME environment variable to enable code saving.\n",
      "\u001b[34m\u001b[1mwandb\u001b[0m: \u001b[33mWARNING\u001b[0m Ignored wandb.init() arg project when running a sweep.\n"
     ]
    },
    {
     "data": {
      "text/html": [
       "Tracking run with wandb version 0.16.5"
      ],
      "text/plain": [
       "<IPython.core.display.HTML object>"
      ]
     },
     "metadata": {},
     "output_type": "display_data"
    },
    {
     "data": {
      "text/html": [
       "Run data is saved locally in <code>c:\\Users\\Shobhith Vadlamudi\\AppData\\Local\\Programs\\Microsoft VS Code\\wandb\\run-20240402_033801-qnx9tsir</code>"
      ],
      "text/plain": [
       "<IPython.core.display.HTML object>"
      ]
     },
     "metadata": {},
     "output_type": "display_data"
    },
    {
     "data": {
      "text/html": [
       "Syncing run <strong><a href='https://wandb.ai/rl_shobhith/uncategorized/runs/qnx9tsir/workspace' target=\"_blank\">eager-sweep-52</a></strong> to <a href='https://wandb.ai/rl_shobhith/uncategorized' target=\"_blank\">Weights & Biases</a> (<a href='https://wandb.me/run' target=\"_blank\">docs</a>)<br/>Sweep page: <a href='https://wandb.ai/rl_shobhith/uncategorized/sweeps/yivd2k4v' target=\"_blank\">https://wandb.ai/rl_shobhith/uncategorized/sweeps/yivd2k4v</a>"
      ],
      "text/plain": [
       "<IPython.core.display.HTML object>"
      ]
     },
     "metadata": {},
     "output_type": "display_data"
    },
    {
     "data": {
      "text/html": [
       " View project at <a href='https://wandb.ai/rl_shobhith/uncategorized' target=\"_blank\">https://wandb.ai/rl_shobhith/uncategorized</a>"
      ],
      "text/plain": [
       "<IPython.core.display.HTML object>"
      ]
     },
     "metadata": {},
     "output_type": "display_data"
    },
    {
     "data": {
      "text/html": [
       " View sweep at <a href='https://wandb.ai/rl_shobhith/uncategorized/sweeps/yivd2k4v' target=\"_blank\">https://wandb.ai/rl_shobhith/uncategorized/sweeps/yivd2k4v</a>"
      ],
      "text/plain": [
       "<IPython.core.display.HTML object>"
      ]
     },
     "metadata": {},
     "output_type": "display_data"
    },
    {
     "data": {
      "text/html": [
       " View run at <a href='https://wandb.ai/rl_shobhith/uncategorized/runs/qnx9tsir/workspace' target=\"_blank\">https://wandb.ai/rl_shobhith/uncategorized/runs/qnx9tsir/workspace</a>"
      ],
      "text/plain": [
       "<IPython.core.display.HTML object>"
      ]
     },
     "metadata": {},
     "output_type": "display_data"
    },
    {
     "name": "stderr",
     "output_type": "stream",
     "text": [
      "Iteration 0: 100%|██████████| 50/50 [00:15<00:00,  3.15it/s, episode_return=50, return=-156.300]\n",
      "Iteration 1: 100%|██████████| 50/50 [00:09<00:00,  5.55it/s, episode_return=100, return=-161.800]\n",
      "Iteration 2: 100%|██████████| 50/50 [00:10<00:00,  4.90it/s, episode_return=150, return=-129.500]\n",
      "Iteration 3: 100%|██████████| 50/50 [00:09<00:00,  5.12it/s, episode_return=200, return=-131.700]\n",
      "Iteration 4: 100%|██████████| 50/50 [00:08<00:00,  6.22it/s, episode_return=250, return=-106.600]\n",
      "Iteration 5: 100%|██████████| 50/50 [00:07<00:00,  6.35it/s, episode_return=300, return=-128.800]\n",
      "Iteration 6: 100%|██████████| 50/50 [00:07<00:00,  6.43it/s, episode_return=350, return=-100.900]\n",
      "Iteration 7: 100%|██████████| 50/50 [00:07<00:00,  6.31it/s, episode_return=400, return=-110.100]\n",
      "Iteration 8: 100%|██████████| 50/50 [00:07<00:00,  6.32it/s, episode_return=450, return=-98.700] \n",
      "Iteration 9: 100%|██████████| 50/50 [00:07<00:00,  6.82it/s, episode_return=500, return=-102.100]\n"
     ]
    },
    {
     "data": {
      "application/vnd.jupyter.widget-view+json": {
       "model_id": "074ed7672fae46ad96e36a6daab834f1",
       "version_major": 2,
       "version_minor": 0
      },
      "text/plain": [
       "VBox(children=(Label(value='0.001 MB of 0.001 MB uploaded\\r'), FloatProgress(value=1.0, max=1.0)))"
      ]
     },
     "metadata": {},
     "output_type": "display_data"
    },
    {
     "data": {
      "text/html": [
       "<style>\n",
       "    table.wandb td:nth-child(1) { padding: 0 10px; text-align: left ; width: auto;} td:nth-child(2) {text-align: left ; width: 100%}\n",
       "    .wandb-row { display: flex; flex-direction: row; flex-wrap: wrap; justify-content: flex-start; width: 100% }\n",
       "    .wandb-col { display: flex; flex-direction: column; flex-basis: 100%; flex: 1; padding: 10px; }\n",
       "    </style>\n",
       "<div class=\"wandb-row\"><div class=\"wandb-col\"><h3>Run history:</h3><br/><table class=\"wandb\"><tr><td>regret</td><td>▁</td></tr></table><br/></div><div class=\"wandb-col\"><h3>Run summary:</h3><br/><table class=\"wandb\"><tr><td>regret</td><td>76525.20085</td></tr></table><br/></div></div>"
      ],
      "text/plain": [
       "<IPython.core.display.HTML object>"
      ]
     },
     "metadata": {},
     "output_type": "display_data"
    },
    {
     "data": {
      "text/html": [
       " View run <strong style=\"color:#cdcd00\">eager-sweep-52</strong> at: <a href='https://wandb.ai/rl_shobhith/uncategorized/runs/qnx9tsir/workspace' target=\"_blank\">https://wandb.ai/rl_shobhith/uncategorized/runs/qnx9tsir/workspace</a><br/>Synced 5 W&B file(s), 0 media file(s), 0 artifact file(s) and 0 other file(s)"
      ],
      "text/plain": [
       "<IPython.core.display.HTML object>"
      ]
     },
     "metadata": {},
     "output_type": "display_data"
    },
    {
     "data": {
      "text/html": [
       "Find logs at: <code>.\\wandb\\run-20240402_033801-qnx9tsir\\logs</code>"
      ],
      "text/plain": [
       "<IPython.core.display.HTML object>"
      ]
     },
     "metadata": {},
     "output_type": "display_data"
    },
    {
     "name": "stderr",
     "output_type": "stream",
     "text": [
      "\u001b[34m\u001b[1mwandb\u001b[0m: Agent Starting Run: mtjzaew7 with config:\n",
      "\u001b[34m\u001b[1mwandb\u001b[0m: \thidden_dim: 64\n",
      "\u001b[34m\u001b[1mwandb\u001b[0m: \tlearning_rate: 0.0069505772760839095\n",
      "Failed to detect the name of this notebook, you can set it manually with the WANDB_NOTEBOOK_NAME environment variable to enable code saving.\n",
      "\u001b[34m\u001b[1mwandb\u001b[0m: \u001b[33mWARNING\u001b[0m Ignored wandb.init() arg project when running a sweep.\n"
     ]
    },
    {
     "data": {
      "text/html": [
       "Tracking run with wandb version 0.16.5"
      ],
      "text/plain": [
       "<IPython.core.display.HTML object>"
      ]
     },
     "metadata": {},
     "output_type": "display_data"
    },
    {
     "data": {
      "text/html": [
       "Run data is saved locally in <code>c:\\Users\\Shobhith Vadlamudi\\AppData\\Local\\Programs\\Microsoft VS Code\\wandb\\run-20240402_033947-mtjzaew7</code>"
      ],
      "text/plain": [
       "<IPython.core.display.HTML object>"
      ]
     },
     "metadata": {},
     "output_type": "display_data"
    },
    {
     "data": {
      "text/html": [
       "Syncing run <strong><a href='https://wandb.ai/rl_shobhith/uncategorized/runs/mtjzaew7/workspace' target=\"_blank\">unique-sweep-53</a></strong> to <a href='https://wandb.ai/rl_shobhith/uncategorized' target=\"_blank\">Weights & Biases</a> (<a href='https://wandb.me/run' target=\"_blank\">docs</a>)<br/>Sweep page: <a href='https://wandb.ai/rl_shobhith/uncategorized/sweeps/yivd2k4v' target=\"_blank\">https://wandb.ai/rl_shobhith/uncategorized/sweeps/yivd2k4v</a>"
      ],
      "text/plain": [
       "<IPython.core.display.HTML object>"
      ]
     },
     "metadata": {},
     "output_type": "display_data"
    },
    {
     "data": {
      "text/html": [
       " View project at <a href='https://wandb.ai/rl_shobhith/uncategorized' target=\"_blank\">https://wandb.ai/rl_shobhith/uncategorized</a>"
      ],
      "text/plain": [
       "<IPython.core.display.HTML object>"
      ]
     },
     "metadata": {},
     "output_type": "display_data"
    },
    {
     "data": {
      "text/html": [
       " View sweep at <a href='https://wandb.ai/rl_shobhith/uncategorized/sweeps/yivd2k4v' target=\"_blank\">https://wandb.ai/rl_shobhith/uncategorized/sweeps/yivd2k4v</a>"
      ],
      "text/plain": [
       "<IPython.core.display.HTML object>"
      ]
     },
     "metadata": {},
     "output_type": "display_data"
    },
    {
     "data": {
      "text/html": [
       " View run at <a href='https://wandb.ai/rl_shobhith/uncategorized/runs/mtjzaew7/workspace' target=\"_blank\">https://wandb.ai/rl_shobhith/uncategorized/runs/mtjzaew7/workspace</a>"
      ],
      "text/plain": [
       "<IPython.core.display.HTML object>"
      ]
     },
     "metadata": {},
     "output_type": "display_data"
    },
    {
     "name": "stderr",
     "output_type": "stream",
     "text": [
      "Iteration 0: 100%|██████████| 50/50 [00:30<00:00,  1.62it/s, episode_return=50, return=-455.000]\n",
      "Iteration 1: 100%|██████████| 50/50 [00:36<00:00,  1.37it/s, episode_return=100, return=-500.000]\n",
      "Iteration 2: 100%|██████████| 50/50 [00:37<00:00,  1.35it/s, episode_return=150, return=-500.000]\n",
      "Iteration 3: 100%|██████████| 50/50 [00:36<00:00,  1.36it/s, episode_return=200, return=-500.000]\n",
      "Iteration 4: 100%|██████████| 50/50 [00:35<00:00,  1.39it/s, episode_return=250, return=-500.000]\n",
      "Iteration 5: 100%|██████████| 50/50 [00:36<00:00,  1.39it/s, episode_return=300, return=-500.000]\n",
      "Iteration 6: 100%|██████████| 50/50 [00:36<00:00,  1.36it/s, episode_return=350, return=-500.000]\n",
      "Iteration 7: 100%|██████████| 50/50 [00:36<00:00,  1.36it/s, episode_return=400, return=-500.000]\n",
      "Iteration 8: 100%|██████████| 50/50 [00:36<00:00,  1.37it/s, episode_return=450, return=-500.000]\n",
      "Iteration 9: 100%|██████████| 50/50 [00:35<00:00,  1.43it/s, episode_return=500, return=-428.000]\n"
     ]
    },
    {
     "data": {
      "application/vnd.jupyter.widget-view+json": {
       "model_id": "a85aff1738f1404894585f3792b27a5b",
       "version_major": 2,
       "version_minor": 0
      },
      "text/plain": [
       "VBox(children=(Label(value='0.001 MB of 0.001 MB uploaded\\r'), FloatProgress(value=1.0, max=1.0)))"
      ]
     },
     "metadata": {},
     "output_type": "display_data"
    },
    {
     "data": {
      "text/html": [
       "<style>\n",
       "    table.wandb td:nth-child(1) { padding: 0 10px; text-align: left ; width: auto;} td:nth-child(2) {text-align: left ; width: 100%}\n",
       "    .wandb-row { display: flex; flex-direction: row; flex-wrap: wrap; justify-content: flex-start; width: 100% }\n",
       "    .wandb-col { display: flex; flex-direction: column; flex-basis: 100%; flex: 1; padding: 10px; }\n",
       "    </style>\n",
       "<div class=\"wandb-row\"><div class=\"wandb-col\"><h3>Run history:</h3><br/><table class=\"wandb\"><tr><td>regret</td><td>▁</td></tr></table><br/></div><div class=\"wandb-col\"><h3>Run summary:</h3><br/><table class=\"wandb\"><tr><td>regret</td><td>248026.38509</td></tr></table><br/></div></div>"
      ],
      "text/plain": [
       "<IPython.core.display.HTML object>"
      ]
     },
     "metadata": {},
     "output_type": "display_data"
    },
    {
     "data": {
      "text/html": [
       " View run <strong style=\"color:#cdcd00\">unique-sweep-53</strong> at: <a href='https://wandb.ai/rl_shobhith/uncategorized/runs/mtjzaew7/workspace' target=\"_blank\">https://wandb.ai/rl_shobhith/uncategorized/runs/mtjzaew7/workspace</a><br/>Synced 5 W&B file(s), 0 media file(s), 0 artifact file(s) and 0 other file(s)"
      ],
      "text/plain": [
       "<IPython.core.display.HTML object>"
      ]
     },
     "metadata": {},
     "output_type": "display_data"
    },
    {
     "data": {
      "text/html": [
       "Find logs at: <code>.\\wandb\\run-20240402_033947-mtjzaew7\\logs</code>"
      ],
      "text/plain": [
       "<IPython.core.display.HTML object>"
      ]
     },
     "metadata": {},
     "output_type": "display_data"
    },
    {
     "name": "stderr",
     "output_type": "stream",
     "text": [
      "\u001b[34m\u001b[1mwandb\u001b[0m: Agent Starting Run: 6svjsnuk with config:\n",
      "\u001b[34m\u001b[1mwandb\u001b[0m: \thidden_dim: 64\n",
      "\u001b[34m\u001b[1mwandb\u001b[0m: \tlearning_rate: 0.0004403672012827457\n",
      "Failed to detect the name of this notebook, you can set it manually with the WANDB_NOTEBOOK_NAME environment variable to enable code saving.\n",
      "\u001b[34m\u001b[1mwandb\u001b[0m: \u001b[33mWARNING\u001b[0m Ignored wandb.init() arg project when running a sweep.\n"
     ]
    },
    {
     "data": {
      "text/html": [
       "Tracking run with wandb version 0.16.5"
      ],
      "text/plain": [
       "<IPython.core.display.HTML object>"
      ]
     },
     "metadata": {},
     "output_type": "display_data"
    },
    {
     "data": {
      "text/html": [
       "Run data is saved locally in <code>c:\\Users\\Shobhith Vadlamudi\\AppData\\Local\\Programs\\Microsoft VS Code\\wandb\\run-20240402_034558-6svjsnuk</code>"
      ],
      "text/plain": [
       "<IPython.core.display.HTML object>"
      ]
     },
     "metadata": {},
     "output_type": "display_data"
    },
    {
     "data": {
      "text/html": [
       "Syncing run <strong><a href='https://wandb.ai/rl_shobhith/uncategorized/runs/6svjsnuk/workspace' target=\"_blank\">absurd-sweep-54</a></strong> to <a href='https://wandb.ai/rl_shobhith/uncategorized' target=\"_blank\">Weights & Biases</a> (<a href='https://wandb.me/run' target=\"_blank\">docs</a>)<br/>Sweep page: <a href='https://wandb.ai/rl_shobhith/uncategorized/sweeps/yivd2k4v' target=\"_blank\">https://wandb.ai/rl_shobhith/uncategorized/sweeps/yivd2k4v</a>"
      ],
      "text/plain": [
       "<IPython.core.display.HTML object>"
      ]
     },
     "metadata": {},
     "output_type": "display_data"
    },
    {
     "data": {
      "text/html": [
       " View project at <a href='https://wandb.ai/rl_shobhith/uncategorized' target=\"_blank\">https://wandb.ai/rl_shobhith/uncategorized</a>"
      ],
      "text/plain": [
       "<IPython.core.display.HTML object>"
      ]
     },
     "metadata": {},
     "output_type": "display_data"
    },
    {
     "data": {
      "text/html": [
       " View sweep at <a href='https://wandb.ai/rl_shobhith/uncategorized/sweeps/yivd2k4v' target=\"_blank\">https://wandb.ai/rl_shobhith/uncategorized/sweeps/yivd2k4v</a>"
      ],
      "text/plain": [
       "<IPython.core.display.HTML object>"
      ]
     },
     "metadata": {},
     "output_type": "display_data"
    },
    {
     "data": {
      "text/html": [
       " View run at <a href='https://wandb.ai/rl_shobhith/uncategorized/runs/6svjsnuk/workspace' target=\"_blank\">https://wandb.ai/rl_shobhith/uncategorized/runs/6svjsnuk/workspace</a>"
      ],
      "text/plain": [
       "<IPython.core.display.HTML object>"
      ]
     },
     "metadata": {},
     "output_type": "display_data"
    },
    {
     "name": "stderr",
     "output_type": "stream",
     "text": [
      "Iteration 0: 100%|██████████| 50/50 [00:35<00:00,  1.40it/s, episode_return=50, return=-500.000]\n",
      "Iteration 1: 100%|██████████| 50/50 [00:36<00:00,  1.39it/s, episode_return=100, return=-500.000]\n",
      "Iteration 2: 100%|██████████| 50/50 [00:34<00:00,  1.44it/s, episode_return=150, return=-500.000]\n",
      "Iteration 3: 100%|██████████| 50/50 [00:36<00:00,  1.37it/s, episode_return=200, return=-500.000]\n",
      "Iteration 4: 100%|██████████| 50/50 [00:36<00:00,  1.37it/s, episode_return=250, return=-500.000]\n",
      "Iteration 5: 100%|██████████| 50/50 [00:32<00:00,  1.52it/s, episode_return=300, return=-500.000]\n",
      "Iteration 6: 100%|██████████| 50/50 [00:37<00:00,  1.35it/s, episode_return=350, return=-500.000]\n",
      "Iteration 7: 100%|██████████| 50/50 [00:35<00:00,  1.42it/s, episode_return=400, return=-500.000]\n",
      "Iteration 8: 100%|██████████| 50/50 [00:37<00:00,  1.33it/s, episode_return=450, return=-500.000]\n",
      "Iteration 9: 100%|██████████| 50/50 [00:36<00:00,  1.35it/s, episode_return=500, return=-500.000]\n"
     ]
    },
    {
     "data": {
      "application/vnd.jupyter.widget-view+json": {
       "model_id": "01c8bd2910a64a01b30fb242d9ee667b",
       "version_major": 2,
       "version_minor": 0
      },
      "text/plain": [
       "VBox(children=(Label(value='0.001 MB of 0.001 MB uploaded\\r'), FloatProgress(value=1.0, max=1.0)))"
      ]
     },
     "metadata": {},
     "output_type": "display_data"
    },
    {
     "data": {
      "text/html": [
       "<style>\n",
       "    table.wandb td:nth-child(1) { padding: 0 10px; text-align: left ; width: auto;} td:nth-child(2) {text-align: left ; width: 100%}\n",
       "    .wandb-row { display: flex; flex-direction: row; flex-wrap: wrap; justify-content: flex-start; width: 100% }\n",
       "    .wandb-col { display: flex; flex-direction: column; flex-basis: 100%; flex: 1; padding: 10px; }\n",
       "    </style>\n",
       "<div class=\"wandb-row\"><div class=\"wandb-col\"><h3>Run history:</h3><br/><table class=\"wandb\"><tr><td>regret</td><td>▁</td></tr></table><br/></div><div class=\"wandb-col\"><h3>Run summary:</h3><br/><table class=\"wandb\"><tr><td>regret</td><td>250000.0</td></tr></table><br/></div></div>"
      ],
      "text/plain": [
       "<IPython.core.display.HTML object>"
      ]
     },
     "metadata": {},
     "output_type": "display_data"
    },
    {
     "data": {
      "text/html": [
       " View run <strong style=\"color:#cdcd00\">absurd-sweep-54</strong> at: <a href='https://wandb.ai/rl_shobhith/uncategorized/runs/6svjsnuk/workspace' target=\"_blank\">https://wandb.ai/rl_shobhith/uncategorized/runs/6svjsnuk/workspace</a><br/>Synced 5 W&B file(s), 0 media file(s), 0 artifact file(s) and 0 other file(s)"
      ],
      "text/plain": [
       "<IPython.core.display.HTML object>"
      ]
     },
     "metadata": {},
     "output_type": "display_data"
    },
    {
     "data": {
      "text/html": [
       "Find logs at: <code>.\\wandb\\run-20240402_034558-6svjsnuk\\logs</code>"
      ],
      "text/plain": [
       "<IPython.core.display.HTML object>"
      ]
     },
     "metadata": {},
     "output_type": "display_data"
    },
    {
     "name": "stderr",
     "output_type": "stream",
     "text": [
      "\u001b[34m\u001b[1mwandb\u001b[0m: Agent Starting Run: mhsrrqs4 with config:\n",
      "\u001b[34m\u001b[1mwandb\u001b[0m: \thidden_dim: 128\n",
      "\u001b[34m\u001b[1mwandb\u001b[0m: \tlearning_rate: 0.0029712813838715523\n",
      "Failed to detect the name of this notebook, you can set it manually with the WANDB_NOTEBOOK_NAME environment variable to enable code saving.\n",
      "\u001b[34m\u001b[1mwandb\u001b[0m: \u001b[33mWARNING\u001b[0m Ignored wandb.init() arg project when running a sweep.\n"
     ]
    },
    {
     "data": {
      "text/html": [
       "Tracking run with wandb version 0.16.5"
      ],
      "text/plain": [
       "<IPython.core.display.HTML object>"
      ]
     },
     "metadata": {},
     "output_type": "display_data"
    },
    {
     "data": {
      "text/html": [
       "Run data is saved locally in <code>c:\\Users\\Shobhith Vadlamudi\\AppData\\Local\\Programs\\Microsoft VS Code\\wandb\\run-20240402_035212-mhsrrqs4</code>"
      ],
      "text/plain": [
       "<IPython.core.display.HTML object>"
      ]
     },
     "metadata": {},
     "output_type": "display_data"
    },
    {
     "data": {
      "text/html": [
       "Syncing run <strong><a href='https://wandb.ai/rl_shobhith/uncategorized/runs/mhsrrqs4/workspace' target=\"_blank\">fresh-sweep-55</a></strong> to <a href='https://wandb.ai/rl_shobhith/uncategorized' target=\"_blank\">Weights & Biases</a> (<a href='https://wandb.me/run' target=\"_blank\">docs</a>)<br/>Sweep page: <a href='https://wandb.ai/rl_shobhith/uncategorized/sweeps/yivd2k4v' target=\"_blank\">https://wandb.ai/rl_shobhith/uncategorized/sweeps/yivd2k4v</a>"
      ],
      "text/plain": [
       "<IPython.core.display.HTML object>"
      ]
     },
     "metadata": {},
     "output_type": "display_data"
    },
    {
     "data": {
      "text/html": [
       " View project at <a href='https://wandb.ai/rl_shobhith/uncategorized' target=\"_blank\">https://wandb.ai/rl_shobhith/uncategorized</a>"
      ],
      "text/plain": [
       "<IPython.core.display.HTML object>"
      ]
     },
     "metadata": {},
     "output_type": "display_data"
    },
    {
     "data": {
      "text/html": [
       " View sweep at <a href='https://wandb.ai/rl_shobhith/uncategorized/sweeps/yivd2k4v' target=\"_blank\">https://wandb.ai/rl_shobhith/uncategorized/sweeps/yivd2k4v</a>"
      ],
      "text/plain": [
       "<IPython.core.display.HTML object>"
      ]
     },
     "metadata": {},
     "output_type": "display_data"
    },
    {
     "data": {
      "text/html": [
       " View run at <a href='https://wandb.ai/rl_shobhith/uncategorized/runs/mhsrrqs4/workspace' target=\"_blank\">https://wandb.ai/rl_shobhith/uncategorized/runs/mhsrrqs4/workspace</a>"
      ],
      "text/plain": [
       "<IPython.core.display.HTML object>"
      ]
     },
     "metadata": {},
     "output_type": "display_data"
    },
    {
     "name": "stderr",
     "output_type": "stream",
     "text": [
      "Iteration 0: 100%|██████████| 50/50 [00:22<00:00,  2.19it/s, episode_return=50, return=-167.800]\n",
      "Iteration 1: 100%|██████████| 50/50 [00:10<00:00,  4.61it/s, episode_return=100, return=-134.000]\n",
      "Iteration 2: 100%|██████████| 50/50 [00:09<00:00,  5.54it/s, episode_return=150, return=-104.500]\n",
      "Iteration 3: 100%|██████████| 50/50 [00:07<00:00,  6.42it/s, episode_return=200, return=-116.400]\n",
      "Iteration 4: 100%|██████████| 50/50 [00:09<00:00,  5.10it/s, episode_return=250, return=-133.300]\n",
      "Iteration 5: 100%|██████████| 50/50 [00:22<00:00,  2.19it/s, episode_return=300, return=-500.000]\n",
      "Iteration 6: 100%|██████████| 50/50 [00:32<00:00,  1.52it/s, episode_return=350, return=-500.000]\n",
      "Iteration 7: 100%|██████████| 50/50 [00:31<00:00,  1.59it/s, episode_return=400, return=-500.000]\n",
      "Iteration 8: 100%|██████████| 50/50 [00:32<00:00,  1.55it/s, episode_return=450, return=-500.000]\n",
      "Iteration 9: 100%|██████████| 50/50 [00:32<00:00,  1.52it/s, episode_return=500, return=-500.000]\n"
     ]
    },
    {
     "data": {
      "application/vnd.jupyter.widget-view+json": {
       "model_id": "475857d2ecfc4cf0923619f7abc37882",
       "version_major": 2,
       "version_minor": 0
      },
      "text/plain": [
       "VBox(children=(Label(value='0.001 MB of 0.001 MB uploaded\\r'), FloatProgress(value=1.0, max=1.0)))"
      ]
     },
     "metadata": {},
     "output_type": "display_data"
    },
    {
     "data": {
      "text/html": [
       "<style>\n",
       "    table.wandb td:nth-child(1) { padding: 0 10px; text-align: left ; width: auto;} td:nth-child(2) {text-align: left ; width: 100%}\n",
       "    .wandb-row { display: flex; flex-direction: row; flex-wrap: wrap; justify-content: flex-start; width: 100% }\n",
       "    .wandb-col { display: flex; flex-direction: column; flex-basis: 100%; flex: 1; padding: 10px; }\n",
       "    </style>\n",
       "<div class=\"wandb-row\"><div class=\"wandb-col\"><h3>Run history:</h3><br/><table class=\"wandb\"><tr><td>regret</td><td>▁</td></tr></table><br/></div><div class=\"wandb-col\"><h3>Run summary:</h3><br/><table class=\"wandb\"><tr><td>regret</td><td>144654.06616</td></tr></table><br/></div></div>"
      ],
      "text/plain": [
       "<IPython.core.display.HTML object>"
      ]
     },
     "metadata": {},
     "output_type": "display_data"
    },
    {
     "data": {
      "text/html": [
       " View run <strong style=\"color:#cdcd00\">fresh-sweep-55</strong> at: <a href='https://wandb.ai/rl_shobhith/uncategorized/runs/mhsrrqs4/workspace' target=\"_blank\">https://wandb.ai/rl_shobhith/uncategorized/runs/mhsrrqs4/workspace</a><br/>Synced 5 W&B file(s), 0 media file(s), 0 artifact file(s) and 0 other file(s)"
      ],
      "text/plain": [
       "<IPython.core.display.HTML object>"
      ]
     },
     "metadata": {},
     "output_type": "display_data"
    },
    {
     "data": {
      "text/html": [
       "Find logs at: <code>.\\wandb\\run-20240402_035212-mhsrrqs4\\logs</code>"
      ],
      "text/plain": [
       "<IPython.core.display.HTML object>"
      ]
     },
     "metadata": {},
     "output_type": "display_data"
    },
    {
     "name": "stderr",
     "output_type": "stream",
     "text": [
      "\u001b[34m\u001b[1mwandb\u001b[0m: Agent Starting Run: 1qrarj4p with config:\n",
      "\u001b[34m\u001b[1mwandb\u001b[0m: \thidden_dim: 256\n",
      "\u001b[34m\u001b[1mwandb\u001b[0m: \tlearning_rate: 0.0018545121313780076\n",
      "Failed to detect the name of this notebook, you can set it manually with the WANDB_NOTEBOOK_NAME environment variable to enable code saving.\n",
      "\u001b[34m\u001b[1mwandb\u001b[0m: \u001b[33mWARNING\u001b[0m Ignored wandb.init() arg project when running a sweep.\n"
     ]
    },
    {
     "data": {
      "text/html": [
       "Tracking run with wandb version 0.16.5"
      ],
      "text/plain": [
       "<IPython.core.display.HTML object>"
      ]
     },
     "metadata": {},
     "output_type": "display_data"
    },
    {
     "data": {
      "text/html": [
       "Run data is saved locally in <code>c:\\Users\\Shobhith Vadlamudi\\AppData\\Local\\Programs\\Microsoft VS Code\\wandb\\run-20240402_035558-1qrarj4p</code>"
      ],
      "text/plain": [
       "<IPython.core.display.HTML object>"
      ]
     },
     "metadata": {},
     "output_type": "display_data"
    },
    {
     "data": {
      "text/html": [
       "Syncing run <strong><a href='https://wandb.ai/rl_shobhith/uncategorized/runs/1qrarj4p/workspace' target=\"_blank\">youthful-sweep-56</a></strong> to <a href='https://wandb.ai/rl_shobhith/uncategorized' target=\"_blank\">Weights & Biases</a> (<a href='https://wandb.me/run' target=\"_blank\">docs</a>)<br/>Sweep page: <a href='https://wandb.ai/rl_shobhith/uncategorized/sweeps/yivd2k4v' target=\"_blank\">https://wandb.ai/rl_shobhith/uncategorized/sweeps/yivd2k4v</a>"
      ],
      "text/plain": [
       "<IPython.core.display.HTML object>"
      ]
     },
     "metadata": {},
     "output_type": "display_data"
    },
    {
     "data": {
      "text/html": [
       " View project at <a href='https://wandb.ai/rl_shobhith/uncategorized' target=\"_blank\">https://wandb.ai/rl_shobhith/uncategorized</a>"
      ],
      "text/plain": [
       "<IPython.core.display.HTML object>"
      ]
     },
     "metadata": {},
     "output_type": "display_data"
    },
    {
     "data": {
      "text/html": [
       " View sweep at <a href='https://wandb.ai/rl_shobhith/uncategorized/sweeps/yivd2k4v' target=\"_blank\">https://wandb.ai/rl_shobhith/uncategorized/sweeps/yivd2k4v</a>"
      ],
      "text/plain": [
       "<IPython.core.display.HTML object>"
      ]
     },
     "metadata": {},
     "output_type": "display_data"
    },
    {
     "data": {
      "text/html": [
       " View run at <a href='https://wandb.ai/rl_shobhith/uncategorized/runs/1qrarj4p/workspace' target=\"_blank\">https://wandb.ai/rl_shobhith/uncategorized/runs/1qrarj4p/workspace</a>"
      ],
      "text/plain": [
       "<IPython.core.display.HTML object>"
      ]
     },
     "metadata": {},
     "output_type": "display_data"
    },
    {
     "name": "stderr",
     "output_type": "stream",
     "text": [
      "Iteration 0: 100%|██████████| 50/50 [00:35<00:00,  1.40it/s, episode_return=50, return=-500.000]\n",
      "Iteration 1: 100%|██████████| 50/50 [00:37<00:00,  1.33it/s, episode_return=100, return=-500.000]\n",
      "Iteration 2: 100%|██████████| 50/50 [00:37<00:00,  1.34it/s, episode_return=150, return=-500.000]\n",
      "Iteration 3: 100%|██████████| 50/50 [00:35<00:00,  1.39it/s, episode_return=200, return=-500.000]\n",
      "Iteration 4: 100%|██████████| 50/50 [00:37<00:00,  1.34it/s, episode_return=250, return=-500.000]\n",
      "Iteration 5: 100%|██████████| 50/50 [00:36<00:00,  1.38it/s, episode_return=300, return=-500.000]\n",
      "Iteration 6: 100%|██████████| 50/50 [00:35<00:00,  1.40it/s, episode_return=350, return=-500.000]\n",
      "Iteration 7: 100%|██████████| 50/50 [00:34<00:00,  1.44it/s, episode_return=400, return=-500.000]\n",
      "Iteration 8: 100%|██████████| 50/50 [00:35<00:00,  1.40it/s, episode_return=450, return=-500.000]\n",
      "Iteration 9: 100%|██████████| 50/50 [00:34<00:00,  1.44it/s, episode_return=500, return=-500.000]\n"
     ]
    },
    {
     "data": {
      "application/vnd.jupyter.widget-view+json": {
       "model_id": "4a5c42a00daa4481bc0943e0b134c62b",
       "version_major": 2,
       "version_minor": 0
      },
      "text/plain": [
       "VBox(children=(Label(value='0.001 MB of 0.001 MB uploaded\\r'), FloatProgress(value=1.0, max=1.0)))"
      ]
     },
     "metadata": {},
     "output_type": "display_data"
    },
    {
     "data": {
      "text/html": [
       "<style>\n",
       "    table.wandb td:nth-child(1) { padding: 0 10px; text-align: left ; width: auto;} td:nth-child(2) {text-align: left ; width: 100%}\n",
       "    .wandb-row { display: flex; flex-direction: row; flex-wrap: wrap; justify-content: flex-start; width: 100% }\n",
       "    .wandb-col { display: flex; flex-direction: column; flex-basis: 100%; flex: 1; padding: 10px; }\n",
       "    </style>\n",
       "<div class=\"wandb-row\"><div class=\"wandb-col\"><h3>Run history:</h3><br/><table class=\"wandb\"><tr><td>regret</td><td>▁</td></tr></table><br/></div><div class=\"wandb-col\"><h3>Run summary:</h3><br/><table class=\"wandb\"><tr><td>regret</td><td>248254.23171</td></tr></table><br/></div></div>"
      ],
      "text/plain": [
       "<IPython.core.display.HTML object>"
      ]
     },
     "metadata": {},
     "output_type": "display_data"
    },
    {
     "data": {
      "text/html": [
       " View run <strong style=\"color:#cdcd00\">youthful-sweep-56</strong> at: <a href='https://wandb.ai/rl_shobhith/uncategorized/runs/1qrarj4p/workspace' target=\"_blank\">https://wandb.ai/rl_shobhith/uncategorized/runs/1qrarj4p/workspace</a><br/>Synced 5 W&B file(s), 0 media file(s), 0 artifact file(s) and 0 other file(s)"
      ],
      "text/plain": [
       "<IPython.core.display.HTML object>"
      ]
     },
     "metadata": {},
     "output_type": "display_data"
    },
    {
     "data": {
      "text/html": [
       "Find logs at: <code>.\\wandb\\run-20240402_035558-1qrarj4p\\logs</code>"
      ],
      "text/plain": [
       "<IPython.core.display.HTML object>"
      ]
     },
     "metadata": {},
     "output_type": "display_data"
    },
    {
     "name": "stderr",
     "output_type": "stream",
     "text": [
      "\u001b[34m\u001b[1mwandb\u001b[0m: Agent Starting Run: ui4i2hs5 with config:\n",
      "\u001b[34m\u001b[1mwandb\u001b[0m: \thidden_dim: 128\n",
      "\u001b[34m\u001b[1mwandb\u001b[0m: \tlearning_rate: 0.006538251267216049\n",
      "Failed to detect the name of this notebook, you can set it manually with the WANDB_NOTEBOOK_NAME environment variable to enable code saving.\n",
      "\u001b[34m\u001b[1mwandb\u001b[0m: \u001b[33mWARNING\u001b[0m Ignored wandb.init() arg project when running a sweep.\n"
     ]
    },
    {
     "data": {
      "text/html": [
       "Tracking run with wandb version 0.16.5"
      ],
      "text/plain": [
       "<IPython.core.display.HTML object>"
      ]
     },
     "metadata": {},
     "output_type": "display_data"
    },
    {
     "data": {
      "text/html": [
       "Run data is saved locally in <code>c:\\Users\\Shobhith Vadlamudi\\AppData\\Local\\Programs\\Microsoft VS Code\\wandb\\run-20240402_040220-ui4i2hs5</code>"
      ],
      "text/plain": [
       "<IPython.core.display.HTML object>"
      ]
     },
     "metadata": {},
     "output_type": "display_data"
    },
    {
     "data": {
      "text/html": [
       "Syncing run <strong><a href='https://wandb.ai/rl_shobhith/uncategorized/runs/ui4i2hs5/workspace' target=\"_blank\">spring-sweep-57</a></strong> to <a href='https://wandb.ai/rl_shobhith/uncategorized' target=\"_blank\">Weights & Biases</a> (<a href='https://wandb.me/run' target=\"_blank\">docs</a>)<br/>Sweep page: <a href='https://wandb.ai/rl_shobhith/uncategorized/sweeps/yivd2k4v' target=\"_blank\">https://wandb.ai/rl_shobhith/uncategorized/sweeps/yivd2k4v</a>"
      ],
      "text/plain": [
       "<IPython.core.display.HTML object>"
      ]
     },
     "metadata": {},
     "output_type": "display_data"
    },
    {
     "data": {
      "text/html": [
       " View project at <a href='https://wandb.ai/rl_shobhith/uncategorized' target=\"_blank\">https://wandb.ai/rl_shobhith/uncategorized</a>"
      ],
      "text/plain": [
       "<IPython.core.display.HTML object>"
      ]
     },
     "metadata": {},
     "output_type": "display_data"
    },
    {
     "data": {
      "text/html": [
       " View sweep at <a href='https://wandb.ai/rl_shobhith/uncategorized/sweeps/yivd2k4v' target=\"_blank\">https://wandb.ai/rl_shobhith/uncategorized/sweeps/yivd2k4v</a>"
      ],
      "text/plain": [
       "<IPython.core.display.HTML object>"
      ]
     },
     "metadata": {},
     "output_type": "display_data"
    },
    {
     "data": {
      "text/html": [
       " View run at <a href='https://wandb.ai/rl_shobhith/uncategorized/runs/ui4i2hs5/workspace' target=\"_blank\">https://wandb.ai/rl_shobhith/uncategorized/runs/ui4i2hs5/workspace</a>"
      ],
      "text/plain": [
       "<IPython.core.display.HTML object>"
      ]
     },
     "metadata": {},
     "output_type": "display_data"
    },
    {
     "name": "stderr",
     "output_type": "stream",
     "text": [
      "Iteration 0: 100%|██████████| 50/50 [00:33<00:00,  1.49it/s, episode_return=50, return=-500.000]\n",
      "Iteration 1: 100%|██████████| 50/50 [00:33<00:00,  1.48it/s, episode_return=100, return=-500.000]\n",
      "Iteration 2: 100%|██████████| 50/50 [00:33<00:00,  1.50it/s, episode_return=150, return=-500.000]\n",
      "Iteration 3: 100%|██████████| 50/50 [00:31<00:00,  1.57it/s, episode_return=200, return=-500.000]\n",
      "Iteration 4: 100%|██████████| 50/50 [00:33<00:00,  1.51it/s, episode_return=250, return=-500.000]\n",
      "Iteration 5: 100%|██████████| 50/50 [00:32<00:00,  1.52it/s, episode_return=300, return=-500.000]\n",
      "Iteration 6: 100%|██████████| 50/50 [00:32<00:00,  1.54it/s, episode_return=350, return=-500.000]\n",
      "Iteration 7: 100%|██████████| 50/50 [00:33<00:00,  1.50it/s, episode_return=400, return=-500.000]\n",
      "Iteration 8: 100%|██████████| 50/50 [00:33<00:00,  1.51it/s, episode_return=450, return=-500.000]\n",
      "Iteration 9: 100%|██████████| 50/50 [00:35<00:00,  1.42it/s, episode_return=500, return=-500.000]\n"
     ]
    },
    {
     "data": {
      "application/vnd.jupyter.widget-view+json": {
       "model_id": "d93362b7b63a476885dda076eb0c696d",
       "version_major": 2,
       "version_minor": 0
      },
      "text/plain": [
       "VBox(children=(Label(value='0.001 MB of 0.007 MB uploaded\\r'), FloatProgress(value=0.16416535018430753, max=1.…"
      ]
     },
     "metadata": {},
     "output_type": "display_data"
    },
    {
     "data": {
      "text/html": [
       "<style>\n",
       "    table.wandb td:nth-child(1) { padding: 0 10px; text-align: left ; width: auto;} td:nth-child(2) {text-align: left ; width: 100%}\n",
       "    .wandb-row { display: flex; flex-direction: row; flex-wrap: wrap; justify-content: flex-start; width: 100% }\n",
       "    .wandb-col { display: flex; flex-direction: column; flex-basis: 100%; flex: 1; padding: 10px; }\n",
       "    </style>\n",
       "<div class=\"wandb-row\"><div class=\"wandb-col\"><h3>Run history:</h3><br/><table class=\"wandb\"><tr><td>regret</td><td>▁</td></tr></table><br/></div><div class=\"wandb-col\"><h3>Run summary:</h3><br/><table class=\"wandb\"><tr><td>regret</td><td>250000.0</td></tr></table><br/></div></div>"
      ],
      "text/plain": [
       "<IPython.core.display.HTML object>"
      ]
     },
     "metadata": {},
     "output_type": "display_data"
    },
    {
     "data": {
      "text/html": [
       " View run <strong style=\"color:#cdcd00\">spring-sweep-57</strong> at: <a href='https://wandb.ai/rl_shobhith/uncategorized/runs/ui4i2hs5/workspace' target=\"_blank\">https://wandb.ai/rl_shobhith/uncategorized/runs/ui4i2hs5/workspace</a><br/>Synced 5 W&B file(s), 0 media file(s), 0 artifact file(s) and 0 other file(s)"
      ],
      "text/plain": [
       "<IPython.core.display.HTML object>"
      ]
     },
     "metadata": {},
     "output_type": "display_data"
    },
    {
     "data": {
      "text/html": [
       "Find logs at: <code>.\\wandb\\run-20240402_040220-ui4i2hs5\\logs</code>"
      ],
      "text/plain": [
       "<IPython.core.display.HTML object>"
      ]
     },
     "metadata": {},
     "output_type": "display_data"
    },
    {
     "name": "stderr",
     "output_type": "stream",
     "text": [
      "\u001b[34m\u001b[1mwandb\u001b[0m: Agent Starting Run: thkiumat with config:\n",
      "\u001b[34m\u001b[1mwandb\u001b[0m: \thidden_dim: 256\n",
      "\u001b[34m\u001b[1mwandb\u001b[0m: \tlearning_rate: 0.005581385272204105\n",
      "Failed to detect the name of this notebook, you can set it manually with the WANDB_NOTEBOOK_NAME environment variable to enable code saving.\n",
      "\u001b[34m\u001b[1mwandb\u001b[0m: \u001b[33mWARNING\u001b[0m Ignored wandb.init() arg project when running a sweep.\n"
     ]
    },
    {
     "data": {
      "text/html": [
       "Tracking run with wandb version 0.16.5"
      ],
      "text/plain": [
       "<IPython.core.display.HTML object>"
      ]
     },
     "metadata": {},
     "output_type": "display_data"
    },
    {
     "data": {
      "text/html": [
       "Run data is saved locally in <code>c:\\Users\\Shobhith Vadlamudi\\AppData\\Local\\Programs\\Microsoft VS Code\\wandb\\run-20240402_040806-thkiumat</code>"
      ],
      "text/plain": [
       "<IPython.core.display.HTML object>"
      ]
     },
     "metadata": {},
     "output_type": "display_data"
    },
    {
     "data": {
      "text/html": [
       "Syncing run <strong><a href='https://wandb.ai/rl_shobhith/uncategorized/runs/thkiumat/workspace' target=\"_blank\">autumn-sweep-58</a></strong> to <a href='https://wandb.ai/rl_shobhith/uncategorized' target=\"_blank\">Weights & Biases</a> (<a href='https://wandb.me/run' target=\"_blank\">docs</a>)<br/>Sweep page: <a href='https://wandb.ai/rl_shobhith/uncategorized/sweeps/yivd2k4v' target=\"_blank\">https://wandb.ai/rl_shobhith/uncategorized/sweeps/yivd2k4v</a>"
      ],
      "text/plain": [
       "<IPython.core.display.HTML object>"
      ]
     },
     "metadata": {},
     "output_type": "display_data"
    },
    {
     "data": {
      "text/html": [
       " View project at <a href='https://wandb.ai/rl_shobhith/uncategorized' target=\"_blank\">https://wandb.ai/rl_shobhith/uncategorized</a>"
      ],
      "text/plain": [
       "<IPython.core.display.HTML object>"
      ]
     },
     "metadata": {},
     "output_type": "display_data"
    },
    {
     "data": {
      "text/html": [
       " View sweep at <a href='https://wandb.ai/rl_shobhith/uncategorized/sweeps/yivd2k4v' target=\"_blank\">https://wandb.ai/rl_shobhith/uncategorized/sweeps/yivd2k4v</a>"
      ],
      "text/plain": [
       "<IPython.core.display.HTML object>"
      ]
     },
     "metadata": {},
     "output_type": "display_data"
    },
    {
     "data": {
      "text/html": [
       " View run at <a href='https://wandb.ai/rl_shobhith/uncategorized/runs/thkiumat/workspace' target=\"_blank\">https://wandb.ai/rl_shobhith/uncategorized/runs/thkiumat/workspace</a>"
      ],
      "text/plain": [
       "<IPython.core.display.HTML object>"
      ]
     },
     "metadata": {},
     "output_type": "display_data"
    },
    {
     "name": "stderr",
     "output_type": "stream",
     "text": [
      "Iteration 0: 100%|██████████| 50/50 [00:36<00:00,  1.38it/s, episode_return=50, return=-500.000]\n",
      "Iteration 1: 100%|██████████| 50/50 [00:36<00:00,  1.37it/s, episode_return=100, return=-500.000]\n",
      "Iteration 2: 100%|██████████| 50/50 [00:35<00:00,  1.40it/s, episode_return=150, return=-500.000]\n",
      "Iteration 3: 100%|██████████| 50/50 [00:40<00:00,  1.23it/s, episode_return=200, return=-500.000]\n",
      "Iteration 4: 100%|██████████| 50/50 [00:40<00:00,  1.25it/s, episode_return=250, return=-500.000]\n",
      "Iteration 5: 100%|██████████| 50/50 [00:41<00:00,  1.22it/s, episode_return=300, return=-500.000]\n",
      "Iteration 6: 100%|██████████| 50/50 [00:35<00:00,  1.42it/s, episode_return=350, return=-311.800]\n",
      "Iteration 7: 100%|██████████| 50/50 [00:16<00:00,  3.10it/s, episode_return=400, return=-208.300]\n",
      "Iteration 8: 100%|██████████| 50/50 [00:33<00:00,  1.50it/s, episode_return=450, return=-500.000]\n",
      "Iteration 9: 100%|██████████| 50/50 [00:38<00:00,  1.30it/s, episode_return=500, return=-500.000]\n"
     ]
    },
    {
     "data": {
      "application/vnd.jupyter.widget-view+json": {
       "model_id": "4b5888d4a0ea4d7ebede4954f63fcf28",
       "version_major": 2,
       "version_minor": 0
      },
      "text/plain": [
       "VBox(children=(Label(value='0.001 MB of 0.007 MB uploaded\\r'), FloatProgress(value=0.16375574523965858, max=1.…"
      ]
     },
     "metadata": {},
     "output_type": "display_data"
    },
    {
     "data": {
      "text/html": [
       "<style>\n",
       "    table.wandb td:nth-child(1) { padding: 0 10px; text-align: left ; width: auto;} td:nth-child(2) {text-align: left ; width: 100%}\n",
       "    .wandb-row { display: flex; flex-direction: row; flex-wrap: wrap; justify-content: flex-start; width: 100% }\n",
       "    .wandb-col { display: flex; flex-direction: column; flex-basis: 100%; flex: 1; padding: 10px; }\n",
       "    </style>\n",
       "<div class=\"wandb-row\"><div class=\"wandb-col\"><h3>Run history:</h3><br/><table class=\"wandb\"><tr><td>regret</td><td>▁</td></tr></table><br/></div><div class=\"wandb-col\"><h3>Run summary:</h3><br/><table class=\"wandb\"><tr><td>regret</td><td>229243.89109</td></tr></table><br/></div></div>"
      ],
      "text/plain": [
       "<IPython.core.display.HTML object>"
      ]
     },
     "metadata": {},
     "output_type": "display_data"
    },
    {
     "data": {
      "text/html": [
       " View run <strong style=\"color:#cdcd00\">autumn-sweep-58</strong> at: <a href='https://wandb.ai/rl_shobhith/uncategorized/runs/thkiumat/workspace' target=\"_blank\">https://wandb.ai/rl_shobhith/uncategorized/runs/thkiumat/workspace</a><br/>Synced 5 W&B file(s), 0 media file(s), 0 artifact file(s) and 0 other file(s)"
      ],
      "text/plain": [
       "<IPython.core.display.HTML object>"
      ]
     },
     "metadata": {},
     "output_type": "display_data"
    },
    {
     "data": {
      "text/html": [
       "Find logs at: <code>.\\wandb\\run-20240402_040806-thkiumat\\logs</code>"
      ],
      "text/plain": [
       "<IPython.core.display.HTML object>"
      ]
     },
     "metadata": {},
     "output_type": "display_data"
    },
    {
     "name": "stderr",
     "output_type": "stream",
     "text": [
      "\u001b[34m\u001b[1mwandb\u001b[0m: Agent Starting Run: x9pfjb4l with config:\n",
      "\u001b[34m\u001b[1mwandb\u001b[0m: \thidden_dim: 128\n",
      "\u001b[34m\u001b[1mwandb\u001b[0m: \tlearning_rate: 0.006539633275929722\n",
      "Failed to detect the name of this notebook, you can set it manually with the WANDB_NOTEBOOK_NAME environment variable to enable code saving.\n",
      "\u001b[34m\u001b[1mwandb\u001b[0m: \u001b[33mWARNING\u001b[0m Ignored wandb.init() arg project when running a sweep.\n"
     ]
    },
    {
     "data": {
      "text/html": [
       "Tracking run with wandb version 0.16.5"
      ],
      "text/plain": [
       "<IPython.core.display.HTML object>"
      ]
     },
     "metadata": {},
     "output_type": "display_data"
    },
    {
     "data": {
      "text/html": [
       "Run data is saved locally in <code>c:\\Users\\Shobhith Vadlamudi\\AppData\\Local\\Programs\\Microsoft VS Code\\wandb\\run-20240402_041411-x9pfjb4l</code>"
      ],
      "text/plain": [
       "<IPython.core.display.HTML object>"
      ]
     },
     "metadata": {},
     "output_type": "display_data"
    },
    {
     "data": {
      "text/html": [
       "Syncing run <strong><a href='https://wandb.ai/rl_shobhith/uncategorized/runs/x9pfjb4l/workspace' target=\"_blank\">hardy-sweep-59</a></strong> to <a href='https://wandb.ai/rl_shobhith/uncategorized' target=\"_blank\">Weights & Biases</a> (<a href='https://wandb.me/run' target=\"_blank\">docs</a>)<br/>Sweep page: <a href='https://wandb.ai/rl_shobhith/uncategorized/sweeps/yivd2k4v' target=\"_blank\">https://wandb.ai/rl_shobhith/uncategorized/sweeps/yivd2k4v</a>"
      ],
      "text/plain": [
       "<IPython.core.display.HTML object>"
      ]
     },
     "metadata": {},
     "output_type": "display_data"
    },
    {
     "data": {
      "text/html": [
       " View project at <a href='https://wandb.ai/rl_shobhith/uncategorized' target=\"_blank\">https://wandb.ai/rl_shobhith/uncategorized</a>"
      ],
      "text/plain": [
       "<IPython.core.display.HTML object>"
      ]
     },
     "metadata": {},
     "output_type": "display_data"
    },
    {
     "data": {
      "text/html": [
       " View sweep at <a href='https://wandb.ai/rl_shobhith/uncategorized/sweeps/yivd2k4v' target=\"_blank\">https://wandb.ai/rl_shobhith/uncategorized/sweeps/yivd2k4v</a>"
      ],
      "text/plain": [
       "<IPython.core.display.HTML object>"
      ]
     },
     "metadata": {},
     "output_type": "display_data"
    },
    {
     "data": {
      "text/html": [
       " View run at <a href='https://wandb.ai/rl_shobhith/uncategorized/runs/x9pfjb4l/workspace' target=\"_blank\">https://wandb.ai/rl_shobhith/uncategorized/runs/x9pfjb4l/workspace</a>"
      ],
      "text/plain": [
       "<IPython.core.display.HTML object>"
      ]
     },
     "metadata": {},
     "output_type": "display_data"
    },
    {
     "name": "stderr",
     "output_type": "stream",
     "text": [
      "Iteration 0: 100%|██████████| 50/50 [00:34<00:00,  1.43it/s, episode_return=50, return=-500.000]\n",
      "Iteration 1: 100%|██████████| 50/50 [00:36<00:00,  1.37it/s, episode_return=100, return=-500.000]\n",
      "Iteration 2: 100%|██████████| 50/50 [00:34<00:00,  1.43it/s, episode_return=150, return=-500.000]\n",
      "Iteration 3: 100%|██████████| 50/50 [00:34<00:00,  1.43it/s, episode_return=200, return=-500.000]\n",
      "Iteration 4: 100%|██████████| 50/50 [00:36<00:00,  1.38it/s, episode_return=250, return=-500.000]\n",
      "Iteration 5: 100%|██████████| 50/50 [00:34<00:00,  1.45it/s, episode_return=300, return=-500.000]\n",
      "Iteration 6: 100%|██████████| 50/50 [00:35<00:00,  1.40it/s, episode_return=350, return=-500.000]\n",
      "Iteration 7: 100%|██████████| 50/50 [00:36<00:00,  1.38it/s, episode_return=400, return=-500.000]\n",
      "Iteration 8: 100%|██████████| 50/50 [00:35<00:00,  1.40it/s, episode_return=450, return=-500.000]\n",
      "Iteration 9: 100%|██████████| 50/50 [00:35<00:00,  1.41it/s, episode_return=500, return=-500.000]\n"
     ]
    },
    {
     "data": {
      "application/vnd.jupyter.widget-view+json": {
       "model_id": "79f604206fd0440bae1e9ccfadacc5d9",
       "version_major": 2,
       "version_minor": 0
      },
      "text/plain": [
       "VBox(children=(Label(value='0.001 MB of 0.001 MB uploaded\\r'), FloatProgress(value=1.0, max=1.0)))"
      ]
     },
     "metadata": {},
     "output_type": "display_data"
    },
    {
     "data": {
      "text/html": [
       "<style>\n",
       "    table.wandb td:nth-child(1) { padding: 0 10px; text-align: left ; width: auto;} td:nth-child(2) {text-align: left ; width: 100%}\n",
       "    .wandb-row { display: flex; flex-direction: row; flex-wrap: wrap; justify-content: flex-start; width: 100% }\n",
       "    .wandb-col { display: flex; flex-direction: column; flex-basis: 100%; flex: 1; padding: 10px; }\n",
       "    </style>\n",
       "<div class=\"wandb-row\"><div class=\"wandb-col\"><h3>Run history:</h3><br/><table class=\"wandb\"><tr><td>regret</td><td>▁</td></tr></table><br/></div><div class=\"wandb-col\"><h3>Run summary:</h3><br/><table class=\"wandb\"><tr><td>regret</td><td>247135.03518</td></tr></table><br/></div></div>"
      ],
      "text/plain": [
       "<IPython.core.display.HTML object>"
      ]
     },
     "metadata": {},
     "output_type": "display_data"
    },
    {
     "data": {
      "text/html": [
       " View run <strong style=\"color:#cdcd00\">hardy-sweep-59</strong> at: <a href='https://wandb.ai/rl_shobhith/uncategorized/runs/x9pfjb4l/workspace' target=\"_blank\">https://wandb.ai/rl_shobhith/uncategorized/runs/x9pfjb4l/workspace</a><br/>Synced 5 W&B file(s), 0 media file(s), 0 artifact file(s) and 0 other file(s)"
      ],
      "text/plain": [
       "<IPython.core.display.HTML object>"
      ]
     },
     "metadata": {},
     "output_type": "display_data"
    },
    {
     "data": {
      "text/html": [
       "Find logs at: <code>.\\wandb\\run-20240402_041411-x9pfjb4l\\logs</code>"
      ],
      "text/plain": [
       "<IPython.core.display.HTML object>"
      ]
     },
     "metadata": {},
     "output_type": "display_data"
    },
    {
     "name": "stderr",
     "output_type": "stream",
     "text": [
      "\u001b[34m\u001b[1mwandb\u001b[0m: Agent Starting Run: d4oq6bbw with config:\n",
      "\u001b[34m\u001b[1mwandb\u001b[0m: \thidden_dim: 64\n",
      "\u001b[34m\u001b[1mwandb\u001b[0m: \tlearning_rate: 0.006968137366172682\n",
      "Failed to detect the name of this notebook, you can set it manually with the WANDB_NOTEBOOK_NAME environment variable to enable code saving.\n",
      "\u001b[34m\u001b[1mwandb\u001b[0m: \u001b[33mWARNING\u001b[0m Ignored wandb.init() arg project when running a sweep.\n"
     ]
    },
    {
     "data": {
      "text/html": [
       "Tracking run with wandb version 0.16.5"
      ],
      "text/plain": [
       "<IPython.core.display.HTML object>"
      ]
     },
     "metadata": {},
     "output_type": "display_data"
    },
    {
     "data": {
      "text/html": [
       "Run data is saved locally in <code>c:\\Users\\Shobhith Vadlamudi\\AppData\\Local\\Programs\\Microsoft VS Code\\wandb\\run-20240402_042020-d4oq6bbw</code>"
      ],
      "text/plain": [
       "<IPython.core.display.HTML object>"
      ]
     },
     "metadata": {},
     "output_type": "display_data"
    },
    {
     "data": {
      "text/html": [
       "Syncing run <strong><a href='https://wandb.ai/rl_shobhith/uncategorized/runs/d4oq6bbw/workspace' target=\"_blank\">peach-sweep-60</a></strong> to <a href='https://wandb.ai/rl_shobhith/uncategorized' target=\"_blank\">Weights & Biases</a> (<a href='https://wandb.me/run' target=\"_blank\">docs</a>)<br/>Sweep page: <a href='https://wandb.ai/rl_shobhith/uncategorized/sweeps/yivd2k4v' target=\"_blank\">https://wandb.ai/rl_shobhith/uncategorized/sweeps/yivd2k4v</a>"
      ],
      "text/plain": [
       "<IPython.core.display.HTML object>"
      ]
     },
     "metadata": {},
     "output_type": "display_data"
    },
    {
     "data": {
      "text/html": [
       " View project at <a href='https://wandb.ai/rl_shobhith/uncategorized' target=\"_blank\">https://wandb.ai/rl_shobhith/uncategorized</a>"
      ],
      "text/plain": [
       "<IPython.core.display.HTML object>"
      ]
     },
     "metadata": {},
     "output_type": "display_data"
    },
    {
     "data": {
      "text/html": [
       " View sweep at <a href='https://wandb.ai/rl_shobhith/uncategorized/sweeps/yivd2k4v' target=\"_blank\">https://wandb.ai/rl_shobhith/uncategorized/sweeps/yivd2k4v</a>"
      ],
      "text/plain": [
       "<IPython.core.display.HTML object>"
      ]
     },
     "metadata": {},
     "output_type": "display_data"
    },
    {
     "data": {
      "text/html": [
       " View run at <a href='https://wandb.ai/rl_shobhith/uncategorized/runs/d4oq6bbw/workspace' target=\"_blank\">https://wandb.ai/rl_shobhith/uncategorized/runs/d4oq6bbw/workspace</a>"
      ],
      "text/plain": [
       "<IPython.core.display.HTML object>"
      ]
     },
     "metadata": {},
     "output_type": "display_data"
    },
    {
     "name": "stderr",
     "output_type": "stream",
     "text": [
      "Iteration 0: 100%|██████████| 50/50 [00:16<00:00,  3.00it/s, episode_return=50, return=-204.200]\n",
      "Iteration 1: 100%|██████████| 50/50 [00:11<00:00,  4.38it/s, episode_return=100, return=-127.400]\n",
      "Iteration 2: 100%|██████████| 50/50 [00:07<00:00,  6.49it/s, episode_return=150, return=-118.000]\n",
      "Iteration 3: 100%|██████████| 50/50 [00:08<00:00,  6.23it/s, episode_return=200, return=-170.300]\n",
      "Iteration 4: 100%|██████████| 50/50 [00:09<00:00,  5.35it/s, episode_return=250, return=-118.600]\n",
      "Iteration 5: 100%|██████████| 50/50 [00:06<00:00,  8.04it/s, episode_return=300, return=-88.500] \n",
      "Iteration 6: 100%|██████████| 50/50 [00:05<00:00,  8.48it/s, episode_return=350, return=-84.700]\n",
      "Iteration 7: 100%|██████████| 50/50 [00:06<00:00,  8.32it/s, episode_return=400, return=-97.700]\n",
      "Iteration 8: 100%|██████████| 50/50 [00:06<00:00,  7.55it/s, episode_return=450, return=-96.400]\n",
      "Iteration 9: 100%|██████████| 50/50 [00:07<00:00,  6.78it/s, episode_return=500, return=-147.600]\n"
     ]
    },
    {
     "data": {
      "application/vnd.jupyter.widget-view+json": {
       "model_id": "de8bdc2f84fe46d18d700385e27ec9b3",
       "version_major": 2,
       "version_minor": 0
      },
      "text/plain": [
       "VBox(children=(Label(value='0.001 MB of 0.001 MB uploaded\\r'), FloatProgress(value=1.0, max=1.0)))"
      ]
     },
     "metadata": {},
     "output_type": "display_data"
    },
    {
     "data": {
      "text/html": [
       "<style>\n",
       "    table.wandb td:nth-child(1) { padding: 0 10px; text-align: left ; width: auto;} td:nth-child(2) {text-align: left ; width: 100%}\n",
       "    .wandb-row { display: flex; flex-direction: row; flex-wrap: wrap; justify-content: flex-start; width: 100% }\n",
       "    .wandb-col { display: flex; flex-direction: column; flex-basis: 100%; flex: 1; padding: 10px; }\n",
       "    </style>\n",
       "<div class=\"wandb-row\"><div class=\"wandb-col\"><h3>Run history:</h3><br/><table class=\"wandb\"><tr><td>regret</td><td>▁</td></tr></table><br/></div><div class=\"wandb-col\"><h3>Run summary:</h3><br/><table class=\"wandb\"><tr><td>regret</td><td>74317.35528</td></tr></table><br/></div></div>"
      ],
      "text/plain": [
       "<IPython.core.display.HTML object>"
      ]
     },
     "metadata": {},
     "output_type": "display_data"
    },
    {
     "data": {
      "text/html": [
       " View run <strong style=\"color:#cdcd00\">peach-sweep-60</strong> at: <a href='https://wandb.ai/rl_shobhith/uncategorized/runs/d4oq6bbw/workspace' target=\"_blank\">https://wandb.ai/rl_shobhith/uncategorized/runs/d4oq6bbw/workspace</a><br/>Synced 5 W&B file(s), 0 media file(s), 0 artifact file(s) and 0 other file(s)"
      ],
      "text/plain": [
       "<IPython.core.display.HTML object>"
      ]
     },
     "metadata": {},
     "output_type": "display_data"
    },
    {
     "data": {
      "text/html": [
       "Find logs at: <code>.\\wandb\\run-20240402_042020-d4oq6bbw\\logs</code>"
      ],
      "text/plain": [
       "<IPython.core.display.HTML object>"
      ]
     },
     "metadata": {},
     "output_type": "display_data"
    },
    {
     "name": "stderr",
     "output_type": "stream",
     "text": [
      "\u001b[34m\u001b[1mwandb\u001b[0m: Sweep Agent: Waiting for job.\n",
      "\u001b[34m\u001b[1mwandb\u001b[0m: Job received.\n",
      "\u001b[34m\u001b[1mwandb\u001b[0m: Agent Starting Run: ahf641sv with config:\n",
      "\u001b[34m\u001b[1mwandb\u001b[0m: \thidden_dim: 64\n",
      "\u001b[34m\u001b[1mwandb\u001b[0m: \tlearning_rate: 0.005234326530443733\n",
      "Failed to detect the name of this notebook, you can set it manually with the WANDB_NOTEBOOK_NAME environment variable to enable code saving.\n",
      "\u001b[34m\u001b[1mwandb\u001b[0m: \u001b[33mWARNING\u001b[0m Ignored wandb.init() arg project when running a sweep.\n"
     ]
    },
    {
     "data": {
      "text/html": [
       "Tracking run with wandb version 0.16.5"
      ],
      "text/plain": [
       "<IPython.core.display.HTML object>"
      ]
     },
     "metadata": {},
     "output_type": "display_data"
    },
    {
     "data": {
      "text/html": [
       "Run data is saved locally in <code>c:\\Users\\Shobhith Vadlamudi\\AppData\\Local\\Programs\\Microsoft VS Code\\wandb\\run-20240402_042206-ahf641sv</code>"
      ],
      "text/plain": [
       "<IPython.core.display.HTML object>"
      ]
     },
     "metadata": {},
     "output_type": "display_data"
    },
    {
     "data": {
      "text/html": [
       "Syncing run <strong><a href='https://wandb.ai/rl_shobhith/uncategorized/runs/ahf641sv/workspace' target=\"_blank\">comfy-sweep-61</a></strong> to <a href='https://wandb.ai/rl_shobhith/uncategorized' target=\"_blank\">Weights & Biases</a> (<a href='https://wandb.me/run' target=\"_blank\">docs</a>)<br/>Sweep page: <a href='https://wandb.ai/rl_shobhith/uncategorized/sweeps/yivd2k4v' target=\"_blank\">https://wandb.ai/rl_shobhith/uncategorized/sweeps/yivd2k4v</a>"
      ],
      "text/plain": [
       "<IPython.core.display.HTML object>"
      ]
     },
     "metadata": {},
     "output_type": "display_data"
    },
    {
     "data": {
      "text/html": [
       " View project at <a href='https://wandb.ai/rl_shobhith/uncategorized' target=\"_blank\">https://wandb.ai/rl_shobhith/uncategorized</a>"
      ],
      "text/plain": [
       "<IPython.core.display.HTML object>"
      ]
     },
     "metadata": {},
     "output_type": "display_data"
    },
    {
     "data": {
      "text/html": [
       " View sweep at <a href='https://wandb.ai/rl_shobhith/uncategorized/sweeps/yivd2k4v' target=\"_blank\">https://wandb.ai/rl_shobhith/uncategorized/sweeps/yivd2k4v</a>"
      ],
      "text/plain": [
       "<IPython.core.display.HTML object>"
      ]
     },
     "metadata": {},
     "output_type": "display_data"
    },
    {
     "data": {
      "text/html": [
       " View run at <a href='https://wandb.ai/rl_shobhith/uncategorized/runs/ahf641sv/workspace' target=\"_blank\">https://wandb.ai/rl_shobhith/uncategorized/runs/ahf641sv/workspace</a>"
      ],
      "text/plain": [
       "<IPython.core.display.HTML object>"
      ]
     },
     "metadata": {},
     "output_type": "display_data"
    },
    {
     "name": "stderr",
     "output_type": "stream",
     "text": [
      "Iteration 0: 100%|██████████| 50/50 [00:29<00:00,  1.67it/s, episode_return=50, return=-474.200]\n",
      "Iteration 1: 100%|██████████| 50/50 [00:22<00:00,  2.22it/s, episode_return=100, return=-263.800]\n",
      "Iteration 2: 100%|██████████| 50/50 [00:12<00:00,  3.88it/s, episode_return=150, return=-235.300]\n",
      "Iteration 3: 100%|██████████| 50/50 [00:16<00:00,  3.08it/s, episode_return=200, return=-230.100]\n",
      "Iteration 4: 100%|██████████| 50/50 [00:14<00:00,  3.44it/s, episode_return=250, return=-208.100]\n",
      "Iteration 5: 100%|██████████| 50/50 [00:13<00:00,  3.74it/s, episode_return=300, return=-201.800]\n",
      "Iteration 6: 100%|██████████| 50/50 [00:11<00:00,  4.42it/s, episode_return=350, return=-189.500]\n",
      "Iteration 7: 100%|██████████| 50/50 [00:10<00:00,  4.66it/s, episode_return=400, return=-177.200]\n",
      "Iteration 8: 100%|██████████| 50/50 [00:11<00:00,  4.50it/s, episode_return=450, return=-180.800]\n",
      "Iteration 9: 100%|██████████| 50/50 [00:10<00:00,  4.94it/s, episode_return=500, return=-182.800]\n"
     ]
    },
    {
     "data": {
      "application/vnd.jupyter.widget-view+json": {
       "model_id": "24bbe82b88d84e739d98876c25d898d3",
       "version_major": 2,
       "version_minor": 0
      },
      "text/plain": [
       "VBox(children=(Label(value='0.001 MB of 0.007 MB uploaded\\r'), FloatProgress(value=0.16582379558158106, max=1.…"
      ]
     },
     "metadata": {},
     "output_type": "display_data"
    },
    {
     "data": {
      "text/html": [
       "<style>\n",
       "    table.wandb td:nth-child(1) { padding: 0 10px; text-align: left ; width: auto;} td:nth-child(2) {text-align: left ; width: 100%}\n",
       "    .wandb-row { display: flex; flex-direction: row; flex-wrap: wrap; justify-content: flex-start; width: 100% }\n",
       "    .wandb-col { display: flex; flex-direction: column; flex-basis: 100%; flex: 1; padding: 10px; }\n",
       "    </style>\n",
       "<div class=\"wandb-row\"><div class=\"wandb-col\"><h3>Run history:</h3><br/><table class=\"wandb\"><tr><td>regret</td><td>▁</td></tr></table><br/></div><div class=\"wandb-col\"><h3>Run summary:</h3><br/><table class=\"wandb\"><tr><td>regret</td><td>137738.19157</td></tr></table><br/></div></div>"
      ],
      "text/plain": [
       "<IPython.core.display.HTML object>"
      ]
     },
     "metadata": {},
     "output_type": "display_data"
    },
    {
     "data": {
      "text/html": [
       " View run <strong style=\"color:#cdcd00\">comfy-sweep-61</strong> at: <a href='https://wandb.ai/rl_shobhith/uncategorized/runs/ahf641sv/workspace' target=\"_blank\">https://wandb.ai/rl_shobhith/uncategorized/runs/ahf641sv/workspace</a><br/>Synced 5 W&B file(s), 0 media file(s), 0 artifact file(s) and 0 other file(s)"
      ],
      "text/plain": [
       "<IPython.core.display.HTML object>"
      ]
     },
     "metadata": {},
     "output_type": "display_data"
    },
    {
     "data": {
      "text/html": [
       "Find logs at: <code>.\\wandb\\run-20240402_042206-ahf641sv\\logs</code>"
      ],
      "text/plain": [
       "<IPython.core.display.HTML object>"
      ]
     },
     "metadata": {},
     "output_type": "display_data"
    },
    {
     "name": "stderr",
     "output_type": "stream",
     "text": [
      "\u001b[34m\u001b[1mwandb\u001b[0m: Agent Starting Run: d7fw7j3i with config:\n",
      "\u001b[34m\u001b[1mwandb\u001b[0m: \thidden_dim: 256\n",
      "\u001b[34m\u001b[1mwandb\u001b[0m: \tlearning_rate: 0.005721659235281456\n",
      "Failed to detect the name of this notebook, you can set it manually with the WANDB_NOTEBOOK_NAME environment variable to enable code saving.\n",
      "\u001b[34m\u001b[1mwandb\u001b[0m: \u001b[33mWARNING\u001b[0m Ignored wandb.init() arg project when running a sweep.\n"
     ]
    },
    {
     "data": {
      "text/html": [
       "Tracking run with wandb version 0.16.5"
      ],
      "text/plain": [
       "<IPython.core.display.HTML object>"
      ]
     },
     "metadata": {},
     "output_type": "display_data"
    },
    {
     "data": {
      "text/html": [
       "Run data is saved locally in <code>c:\\Users\\Shobhith Vadlamudi\\AppData\\Local\\Programs\\Microsoft VS Code\\wandb\\run-20240402_042450-d7fw7j3i</code>"
      ],
      "text/plain": [
       "<IPython.core.display.HTML object>"
      ]
     },
     "metadata": {},
     "output_type": "display_data"
    },
    {
     "data": {
      "text/html": [
       "Syncing run <strong><a href='https://wandb.ai/rl_shobhith/uncategorized/runs/d7fw7j3i/workspace' target=\"_blank\">valiant-sweep-62</a></strong> to <a href='https://wandb.ai/rl_shobhith/uncategorized' target=\"_blank\">Weights & Biases</a> (<a href='https://wandb.me/run' target=\"_blank\">docs</a>)<br/>Sweep page: <a href='https://wandb.ai/rl_shobhith/uncategorized/sweeps/yivd2k4v' target=\"_blank\">https://wandb.ai/rl_shobhith/uncategorized/sweeps/yivd2k4v</a>"
      ],
      "text/plain": [
       "<IPython.core.display.HTML object>"
      ]
     },
     "metadata": {},
     "output_type": "display_data"
    },
    {
     "data": {
      "text/html": [
       " View project at <a href='https://wandb.ai/rl_shobhith/uncategorized' target=\"_blank\">https://wandb.ai/rl_shobhith/uncategorized</a>"
      ],
      "text/plain": [
       "<IPython.core.display.HTML object>"
      ]
     },
     "metadata": {},
     "output_type": "display_data"
    },
    {
     "data": {
      "text/html": [
       " View sweep at <a href='https://wandb.ai/rl_shobhith/uncategorized/sweeps/yivd2k4v' target=\"_blank\">https://wandb.ai/rl_shobhith/uncategorized/sweeps/yivd2k4v</a>"
      ],
      "text/plain": [
       "<IPython.core.display.HTML object>"
      ]
     },
     "metadata": {},
     "output_type": "display_data"
    },
    {
     "data": {
      "text/html": [
       " View run at <a href='https://wandb.ai/rl_shobhith/uncategorized/runs/d7fw7j3i/workspace' target=\"_blank\">https://wandb.ai/rl_shobhith/uncategorized/runs/d7fw7j3i/workspace</a>"
      ],
      "text/plain": [
       "<IPython.core.display.HTML object>"
      ]
     },
     "metadata": {},
     "output_type": "display_data"
    },
    {
     "name": "stderr",
     "output_type": "stream",
     "text": [
      "Iteration 0: 100%|██████████| 50/50 [00:39<00:00,  1.28it/s, episode_return=50, return=-500.000]\n",
      "Iteration 1: 100%|██████████| 50/50 [00:38<00:00,  1.31it/s, episode_return=100, return=-500.000]\n",
      "Iteration 2: 100%|██████████| 50/50 [00:38<00:00,  1.29it/s, episode_return=150, return=-500.000]\n",
      "Iteration 3: 100%|██████████| 50/50 [00:34<00:00,  1.45it/s, episode_return=200, return=-500.000]\n",
      "Iteration 4: 100%|██████████| 50/50 [00:35<00:00,  1.40it/s, episode_return=250, return=-500.000]\n",
      "Iteration 5: 100%|██████████| 50/50 [00:35<00:00,  1.42it/s, episode_return=300, return=-500.000]\n",
      "Iteration 6: 100%|██████████| 50/50 [00:34<00:00,  1.44it/s, episode_return=350, return=-500.000]\n",
      "Iteration 7: 100%|██████████| 50/50 [00:35<00:00,  1.41it/s, episode_return=400, return=-500.000]\n",
      "Iteration 8: 100%|██████████| 50/50 [00:35<00:00,  1.43it/s, episode_return=450, return=-500.000]\n",
      "Iteration 9: 100%|██████████| 50/50 [00:35<00:00,  1.40it/s, episode_return=500, return=-500.000]\n"
     ]
    },
    {
     "data": {
      "application/vnd.jupyter.widget-view+json": {
       "model_id": "8b8e15ce87294c6caa426c06583b4c63",
       "version_major": 2,
       "version_minor": 0
      },
      "text/plain": [
       "VBox(children=(Label(value='0.001 MB of 0.001 MB uploaded\\r'), FloatProgress(value=1.0, max=1.0)))"
      ]
     },
     "metadata": {},
     "output_type": "display_data"
    },
    {
     "data": {
      "text/html": [
       "<style>\n",
       "    table.wandb td:nth-child(1) { padding: 0 10px; text-align: left ; width: auto;} td:nth-child(2) {text-align: left ; width: 100%}\n",
       "    .wandb-row { display: flex; flex-direction: row; flex-wrap: wrap; justify-content: flex-start; width: 100% }\n",
       "    .wandb-col { display: flex; flex-direction: column; flex-basis: 100%; flex: 1; padding: 10px; }\n",
       "    </style>\n",
       "<div class=\"wandb-row\"><div class=\"wandb-col\"><h3>Run history:</h3><br/><table class=\"wandb\"><tr><td>regret</td><td>▁</td></tr></table><br/></div><div class=\"wandb-col\"><h3>Run summary:</h3><br/><table class=\"wandb\"><tr><td>regret</td><td>250000.0</td></tr></table><br/></div></div>"
      ],
      "text/plain": [
       "<IPython.core.display.HTML object>"
      ]
     },
     "metadata": {},
     "output_type": "display_data"
    },
    {
     "data": {
      "text/html": [
       " View run <strong style=\"color:#cdcd00\">valiant-sweep-62</strong> at: <a href='https://wandb.ai/rl_shobhith/uncategorized/runs/d7fw7j3i/workspace' target=\"_blank\">https://wandb.ai/rl_shobhith/uncategorized/runs/d7fw7j3i/workspace</a><br/>Synced 5 W&B file(s), 0 media file(s), 0 artifact file(s) and 0 other file(s)"
      ],
      "text/plain": [
       "<IPython.core.display.HTML object>"
      ]
     },
     "metadata": {},
     "output_type": "display_data"
    },
    {
     "data": {
      "text/html": [
       "Find logs at: <code>.\\wandb\\run-20240402_042450-d7fw7j3i\\logs</code>"
      ],
      "text/plain": [
       "<IPython.core.display.HTML object>"
      ]
     },
     "metadata": {},
     "output_type": "display_data"
    },
    {
     "name": "stderr",
     "output_type": "stream",
     "text": [
      "\u001b[34m\u001b[1mwandb\u001b[0m: Agent Starting Run: dxnth9jk with config:\n",
      "\u001b[34m\u001b[1mwandb\u001b[0m: \thidden_dim: 64\n",
      "\u001b[34m\u001b[1mwandb\u001b[0m: \tlearning_rate: 0.004774891091182593\n",
      "Failed to detect the name of this notebook, you can set it manually with the WANDB_NOTEBOOK_NAME environment variable to enable code saving.\n",
      "\u001b[34m\u001b[1mwandb\u001b[0m: \u001b[33mWARNING\u001b[0m Ignored wandb.init() arg project when running a sweep.\n"
     ]
    },
    {
     "data": {
      "text/html": [
       "Tracking run with wandb version 0.16.5"
      ],
      "text/plain": [
       "<IPython.core.display.HTML object>"
      ]
     },
     "metadata": {},
     "output_type": "display_data"
    },
    {
     "data": {
      "text/html": [
       "Run data is saved locally in <code>c:\\Users\\Shobhith Vadlamudi\\AppData\\Local\\Programs\\Microsoft VS Code\\wandb\\run-20240402_043105-dxnth9jk</code>"
      ],
      "text/plain": [
       "<IPython.core.display.HTML object>"
      ]
     },
     "metadata": {},
     "output_type": "display_data"
    },
    {
     "data": {
      "text/html": [
       "Syncing run <strong><a href='https://wandb.ai/rl_shobhith/uncategorized/runs/dxnth9jk/workspace' target=\"_blank\">eager-sweep-63</a></strong> to <a href='https://wandb.ai/rl_shobhith/uncategorized' target=\"_blank\">Weights & Biases</a> (<a href='https://wandb.me/run' target=\"_blank\">docs</a>)<br/>Sweep page: <a href='https://wandb.ai/rl_shobhith/uncategorized/sweeps/yivd2k4v' target=\"_blank\">https://wandb.ai/rl_shobhith/uncategorized/sweeps/yivd2k4v</a>"
      ],
      "text/plain": [
       "<IPython.core.display.HTML object>"
      ]
     },
     "metadata": {},
     "output_type": "display_data"
    },
    {
     "data": {
      "text/html": [
       " View project at <a href='https://wandb.ai/rl_shobhith/uncategorized' target=\"_blank\">https://wandb.ai/rl_shobhith/uncategorized</a>"
      ],
      "text/plain": [
       "<IPython.core.display.HTML object>"
      ]
     },
     "metadata": {},
     "output_type": "display_data"
    },
    {
     "data": {
      "text/html": [
       " View sweep at <a href='https://wandb.ai/rl_shobhith/uncategorized/sweeps/yivd2k4v' target=\"_blank\">https://wandb.ai/rl_shobhith/uncategorized/sweeps/yivd2k4v</a>"
      ],
      "text/plain": [
       "<IPython.core.display.HTML object>"
      ]
     },
     "metadata": {},
     "output_type": "display_data"
    },
    {
     "data": {
      "text/html": [
       " View run at <a href='https://wandb.ai/rl_shobhith/uncategorized/runs/dxnth9jk/workspace' target=\"_blank\">https://wandb.ai/rl_shobhith/uncategorized/runs/dxnth9jk/workspace</a>"
      ],
      "text/plain": [
       "<IPython.core.display.HTML object>"
      ]
     },
     "metadata": {},
     "output_type": "display_data"
    },
    {
     "name": "stderr",
     "output_type": "stream",
     "text": [
      "Iteration 0: 100%|██████████| 50/50 [00:17<00:00,  2.88it/s, episode_return=50, return=-201.000]\n",
      "Iteration 1: 100%|██████████| 50/50 [00:08<00:00,  5.75it/s, episode_return=100, return=-146.100]\n",
      "Iteration 2: 100%|██████████| 50/50 [00:10<00:00,  4.71it/s, episode_return=150, return=-151.500]\n",
      "Iteration 3: 100%|██████████| 50/50 [00:08<00:00,  5.96it/s, episode_return=200, return=-99.400] \n",
      "Iteration 4: 100%|██████████| 50/50 [00:06<00:00,  7.46it/s, episode_return=250, return=-92.500] \n",
      "Iteration 5: 100%|██████████| 50/50 [00:06<00:00,  7.19it/s, episode_return=300, return=-106.100]\n",
      "Iteration 6: 100%|██████████| 50/50 [00:06<00:00,  7.48it/s, episode_return=350, return=-92.200] \n",
      "Iteration 7: 100%|██████████| 50/50 [00:06<00:00,  7.21it/s, episode_return=400, return=-136.800]\n",
      "Iteration 8: 100%|██████████| 50/50 [00:06<00:00,  8.03it/s, episode_return=450, return=-93.800]\n",
      "Iteration 9: 100%|██████████| 50/50 [00:05<00:00,  8.44it/s, episode_return=500, return=-85.500]\n"
     ]
    },
    {
     "data": {
      "application/vnd.jupyter.widget-view+json": {
       "model_id": "cc387d0108844e9c98e9d0e89be540b3",
       "version_major": 2,
       "version_minor": 0
      },
      "text/plain": [
       "VBox(children=(Label(value='0.001 MB of 0.001 MB uploaded\\r'), FloatProgress(value=1.0, max=1.0)))"
      ]
     },
     "metadata": {},
     "output_type": "display_data"
    },
    {
     "data": {
      "text/html": [
       "<style>\n",
       "    table.wandb td:nth-child(1) { padding: 0 10px; text-align: left ; width: auto;} td:nth-child(2) {text-align: left ; width: 100%}\n",
       "    .wandb-row { display: flex; flex-direction: row; flex-wrap: wrap; justify-content: flex-start; width: 100% }\n",
       "    .wandb-col { display: flex; flex-direction: column; flex-basis: 100%; flex: 1; padding: 10px; }\n",
       "    </style>\n",
       "<div class=\"wandb-row\"><div class=\"wandb-col\"><h3>Run history:</h3><br/><table class=\"wandb\"><tr><td>regret</td><td>▁</td></tr></table><br/></div><div class=\"wandb-col\"><h3>Run summary:</h3><br/><table class=\"wandb\"><tr><td>regret</td><td>73464.01304</td></tr></table><br/></div></div>"
      ],
      "text/plain": [
       "<IPython.core.display.HTML object>"
      ]
     },
     "metadata": {},
     "output_type": "display_data"
    },
    {
     "data": {
      "text/html": [
       " View run <strong style=\"color:#cdcd00\">eager-sweep-63</strong> at: <a href='https://wandb.ai/rl_shobhith/uncategorized/runs/dxnth9jk/workspace' target=\"_blank\">https://wandb.ai/rl_shobhith/uncategorized/runs/dxnth9jk/workspace</a><br/>Synced 5 W&B file(s), 0 media file(s), 0 artifact file(s) and 0 other file(s)"
      ],
      "text/plain": [
       "<IPython.core.display.HTML object>"
      ]
     },
     "metadata": {},
     "output_type": "display_data"
    },
    {
     "data": {
      "text/html": [
       "Find logs at: <code>.\\wandb\\run-20240402_043105-dxnth9jk\\logs</code>"
      ],
      "text/plain": [
       "<IPython.core.display.HTML object>"
      ]
     },
     "metadata": {},
     "output_type": "display_data"
    },
    {
     "name": "stderr",
     "output_type": "stream",
     "text": [
      "\u001b[34m\u001b[1mwandb\u001b[0m: Agent Starting Run: v0v6jc11 with config:\n",
      "\u001b[34m\u001b[1mwandb\u001b[0m: \thidden_dim: 256\n",
      "\u001b[34m\u001b[1mwandb\u001b[0m: \tlearning_rate: 0.006268304148626981\n",
      "Failed to detect the name of this notebook, you can set it manually with the WANDB_NOTEBOOK_NAME environment variable to enable code saving.\n",
      "\u001b[34m\u001b[1mwandb\u001b[0m: \u001b[33mWARNING\u001b[0m Ignored wandb.init() arg project when running a sweep.\n"
     ]
    },
    {
     "data": {
      "text/html": [
       "Tracking run with wandb version 0.16.5"
      ],
      "text/plain": [
       "<IPython.core.display.HTML object>"
      ]
     },
     "metadata": {},
     "output_type": "display_data"
    },
    {
     "data": {
      "text/html": [
       "Run data is saved locally in <code>c:\\Users\\Shobhith Vadlamudi\\AppData\\Local\\Programs\\Microsoft VS Code\\wandb\\run-20240402_043246-v0v6jc11</code>"
      ],
      "text/plain": [
       "<IPython.core.display.HTML object>"
      ]
     },
     "metadata": {},
     "output_type": "display_data"
    },
    {
     "data": {
      "text/html": [
       "Syncing run <strong><a href='https://wandb.ai/rl_shobhith/uncategorized/runs/v0v6jc11/workspace' target=\"_blank\">twilight-sweep-64</a></strong> to <a href='https://wandb.ai/rl_shobhith/uncategorized' target=\"_blank\">Weights & Biases</a> (<a href='https://wandb.me/run' target=\"_blank\">docs</a>)<br/>Sweep page: <a href='https://wandb.ai/rl_shobhith/uncategorized/sweeps/yivd2k4v' target=\"_blank\">https://wandb.ai/rl_shobhith/uncategorized/sweeps/yivd2k4v</a>"
      ],
      "text/plain": [
       "<IPython.core.display.HTML object>"
      ]
     },
     "metadata": {},
     "output_type": "display_data"
    },
    {
     "data": {
      "text/html": [
       " View project at <a href='https://wandb.ai/rl_shobhith/uncategorized' target=\"_blank\">https://wandb.ai/rl_shobhith/uncategorized</a>"
      ],
      "text/plain": [
       "<IPython.core.display.HTML object>"
      ]
     },
     "metadata": {},
     "output_type": "display_data"
    },
    {
     "data": {
      "text/html": [
       " View sweep at <a href='https://wandb.ai/rl_shobhith/uncategorized/sweeps/yivd2k4v' target=\"_blank\">https://wandb.ai/rl_shobhith/uncategorized/sweeps/yivd2k4v</a>"
      ],
      "text/plain": [
       "<IPython.core.display.HTML object>"
      ]
     },
     "metadata": {},
     "output_type": "display_data"
    },
    {
     "data": {
      "text/html": [
       " View run at <a href='https://wandb.ai/rl_shobhith/uncategorized/runs/v0v6jc11/workspace' target=\"_blank\">https://wandb.ai/rl_shobhith/uncategorized/runs/v0v6jc11/workspace</a>"
      ],
      "text/plain": [
       "<IPython.core.display.HTML object>"
      ]
     },
     "metadata": {},
     "output_type": "display_data"
    },
    {
     "name": "stderr",
     "output_type": "stream",
     "text": [
      "Iteration 0: 100%|██████████| 50/50 [00:38<00:00,  1.30it/s, episode_return=50, return=-500.000]\n",
      "Iteration 1: 100%|██████████| 50/50 [00:39<00:00,  1.28it/s, episode_return=100, return=-500.000]\n",
      "Iteration 2: 100%|██████████| 50/50 [00:37<00:00,  1.34it/s, episode_return=150, return=-500.000]\n",
      "Iteration 3: 100%|██████████| 50/50 [00:39<00:00,  1.25it/s, episode_return=200, return=-500.000]\n",
      "Iteration 4: 100%|██████████| 50/50 [00:38<00:00,  1.30it/s, episode_return=250, return=-500.000]\n",
      "Iteration 5: 100%|██████████| 50/50 [00:41<00:00,  1.20it/s, episode_return=300, return=-500.000]\n",
      "Iteration 6: 100%|██████████| 50/50 [00:41<00:00,  1.20it/s, episode_return=350, return=-500.000]\n",
      "Iteration 7: 100%|██████████| 50/50 [00:43<00:00,  1.14it/s, episode_return=400, return=-500.000]\n",
      "Iteration 8: 100%|██████████| 50/50 [00:41<00:00,  1.20it/s, episode_return=450, return=-500.000]\n",
      "Iteration 9: 100%|██████████| 50/50 [00:39<00:00,  1.26it/s, episode_return=500, return=-500.000]\n"
     ]
    },
    {
     "data": {
      "application/vnd.jupyter.widget-view+json": {
       "model_id": "a4c5594af6b04c71b560912ca81500ff",
       "version_major": 2,
       "version_minor": 0
      },
      "text/plain": [
       "VBox(children=(Label(value='0.001 MB of 0.001 MB uploaded\\r'), FloatProgress(value=1.0, max=1.0)))"
      ]
     },
     "metadata": {},
     "output_type": "display_data"
    },
    {
     "data": {
      "text/html": [
       "<style>\n",
       "    table.wandb td:nth-child(1) { padding: 0 10px; text-align: left ; width: auto;} td:nth-child(2) {text-align: left ; width: 100%}\n",
       "    .wandb-row { display: flex; flex-direction: row; flex-wrap: wrap; justify-content: flex-start; width: 100% }\n",
       "    .wandb-col { display: flex; flex-direction: column; flex-basis: 100%; flex: 1; padding: 10px; }\n",
       "    </style>\n",
       "<div class=\"wandb-row\"><div class=\"wandb-col\"><h3>Run history:</h3><br/><table class=\"wandb\"><tr><td>regret</td><td>▁</td></tr></table><br/></div><div class=\"wandb-col\"><h3>Run summary:</h3><br/><table class=\"wandb\"><tr><td>regret</td><td>248274.01494</td></tr></table><br/></div></div>"
      ],
      "text/plain": [
       "<IPython.core.display.HTML object>"
      ]
     },
     "metadata": {},
     "output_type": "display_data"
    },
    {
     "data": {
      "text/html": [
       " View run <strong style=\"color:#cdcd00\">twilight-sweep-64</strong> at: <a href='https://wandb.ai/rl_shobhith/uncategorized/runs/v0v6jc11/workspace' target=\"_blank\">https://wandb.ai/rl_shobhith/uncategorized/runs/v0v6jc11/workspace</a><br/>Synced 5 W&B file(s), 0 media file(s), 0 artifact file(s) and 0 other file(s)"
      ],
      "text/plain": [
       "<IPython.core.display.HTML object>"
      ]
     },
     "metadata": {},
     "output_type": "display_data"
    },
    {
     "data": {
      "text/html": [
       "Find logs at: <code>.\\wandb\\run-20240402_043246-v0v6jc11\\logs</code>"
      ],
      "text/plain": [
       "<IPython.core.display.HTML object>"
      ]
     },
     "metadata": {},
     "output_type": "display_data"
    },
    {
     "name": "stderr",
     "output_type": "stream",
     "text": [
      "\u001b[34m\u001b[1mwandb\u001b[0m: Sweep Agent: Waiting for job.\n",
      "\u001b[34m\u001b[1mwandb\u001b[0m: Job received.\n",
      "\u001b[34m\u001b[1mwandb\u001b[0m: Agent Starting Run: 5uk7p4ny with config:\n",
      "\u001b[34m\u001b[1mwandb\u001b[0m: \thidden_dim: 128\n",
      "\u001b[34m\u001b[1mwandb\u001b[0m: \tlearning_rate: 0.0019752108842442983\n",
      "Failed to detect the name of this notebook, you can set it manually with the WANDB_NOTEBOOK_NAME environment variable to enable code saving.\n",
      "\u001b[34m\u001b[1mwandb\u001b[0m: \u001b[33mWARNING\u001b[0m Ignored wandb.init() arg project when running a sweep.\n"
     ]
    },
    {
     "data": {
      "text/html": [
       "Tracking run with wandb version 0.16.5"
      ],
      "text/plain": [
       "<IPython.core.display.HTML object>"
      ]
     },
     "metadata": {},
     "output_type": "display_data"
    },
    {
     "data": {
      "text/html": [
       "Run data is saved locally in <code>c:\\Users\\Shobhith Vadlamudi\\AppData\\Local\\Programs\\Microsoft VS Code\\wandb\\run-20240402_043949-5uk7p4ny</code>"
      ],
      "text/plain": [
       "<IPython.core.display.HTML object>"
      ]
     },
     "metadata": {},
     "output_type": "display_data"
    },
    {
     "data": {
      "text/html": [
       "Syncing run <strong><a href='https://wandb.ai/rl_shobhith/uncategorized/runs/5uk7p4ny/workspace' target=\"_blank\">effortless-sweep-65</a></strong> to <a href='https://wandb.ai/rl_shobhith/uncategorized' target=\"_blank\">Weights & Biases</a> (<a href='https://wandb.me/run' target=\"_blank\">docs</a>)<br/>Sweep page: <a href='https://wandb.ai/rl_shobhith/uncategorized/sweeps/yivd2k4v' target=\"_blank\">https://wandb.ai/rl_shobhith/uncategorized/sweeps/yivd2k4v</a>"
      ],
      "text/plain": [
       "<IPython.core.display.HTML object>"
      ]
     },
     "metadata": {},
     "output_type": "display_data"
    },
    {
     "data": {
      "text/html": [
       " View project at <a href='https://wandb.ai/rl_shobhith/uncategorized' target=\"_blank\">https://wandb.ai/rl_shobhith/uncategorized</a>"
      ],
      "text/plain": [
       "<IPython.core.display.HTML object>"
      ]
     },
     "metadata": {},
     "output_type": "display_data"
    },
    {
     "data": {
      "text/html": [
       " View sweep at <a href='https://wandb.ai/rl_shobhith/uncategorized/sweeps/yivd2k4v' target=\"_blank\">https://wandb.ai/rl_shobhith/uncategorized/sweeps/yivd2k4v</a>"
      ],
      "text/plain": [
       "<IPython.core.display.HTML object>"
      ]
     },
     "metadata": {},
     "output_type": "display_data"
    },
    {
     "data": {
      "text/html": [
       " View run at <a href='https://wandb.ai/rl_shobhith/uncategorized/runs/5uk7p4ny/workspace' target=\"_blank\">https://wandb.ai/rl_shobhith/uncategorized/runs/5uk7p4ny/workspace</a>"
      ],
      "text/plain": [
       "<IPython.core.display.HTML object>"
      ]
     },
     "metadata": {},
     "output_type": "display_data"
    },
    {
     "name": "stderr",
     "output_type": "stream",
     "text": [
      "Iteration 0: 100%|██████████| 50/50 [00:22<00:00,  2.22it/s, episode_return=50, return=-319.200]\n",
      "Iteration 1: 100%|██████████| 50/50 [00:13<00:00,  3.59it/s, episode_return=100, return=-191.200]\n",
      "Iteration 2: 100%|██████████| 50/50 [00:09<00:00,  5.49it/s, episode_return=150, return=-133.700]\n",
      "Iteration 3: 100%|██████████| 50/50 [00:08<00:00,  5.87it/s, episode_return=200, return=-125.000]\n",
      "Iteration 4: 100%|██████████| 50/50 [00:09<00:00,  5.47it/s, episode_return=250, return=-123.400]\n",
      "Iteration 5: 100%|██████████| 50/50 [00:07<00:00,  6.73it/s, episode_return=300, return=-96.300] \n",
      "Iteration 6: 100%|██████████| 50/50 [00:07<00:00,  7.00it/s, episode_return=350, return=-120.800]\n",
      "Iteration 7: 100%|██████████| 50/50 [00:07<00:00,  6.95it/s, episode_return=400, return=-101.100]\n",
      "Iteration 8: 100%|██████████| 50/50 [00:07<00:00,  6.95it/s, episode_return=450, return=-99.500] \n",
      "Iteration 9: 100%|██████████| 50/50 [00:06<00:00,  7.40it/s, episode_return=500, return=-94.200] \n"
     ]
    },
    {
     "data": {
      "application/vnd.jupyter.widget-view+json": {
       "model_id": "5d5048543abd47ef97b97963ab452b14",
       "version_major": 2,
       "version_minor": 0
      },
      "text/plain": [
       "VBox(children=(Label(value='0.001 MB of 0.001 MB uploaded\\r'), FloatProgress(value=1.0, max=1.0)))"
      ]
     },
     "metadata": {},
     "output_type": "display_data"
    },
    {
     "data": {
      "text/html": [
       "<style>\n",
       "    table.wandb td:nth-child(1) { padding: 0 10px; text-align: left ; width: auto;} td:nth-child(2) {text-align: left ; width: 100%}\n",
       "    .wandb-row { display: flex; flex-direction: row; flex-wrap: wrap; justify-content: flex-start; width: 100% }\n",
       "    .wandb-col { display: flex; flex-direction: column; flex-basis: 100%; flex: 1; padding: 10px; }\n",
       "    </style>\n",
       "<div class=\"wandb-row\"><div class=\"wandb-col\"><h3>Run history:</h3><br/><table class=\"wandb\"><tr><td>regret</td><td>▁</td></tr></table><br/></div><div class=\"wandb-col\"><h3>Run summary:</h3><br/><table class=\"wandb\"><tr><td>regret</td><td>86153.53311</td></tr></table><br/></div></div>"
      ],
      "text/plain": [
       "<IPython.core.display.HTML object>"
      ]
     },
     "metadata": {},
     "output_type": "display_data"
    },
    {
     "data": {
      "text/html": [
       " View run <strong style=\"color:#cdcd00\">effortless-sweep-65</strong> at: <a href='https://wandb.ai/rl_shobhith/uncategorized/runs/5uk7p4ny/workspace' target=\"_blank\">https://wandb.ai/rl_shobhith/uncategorized/runs/5uk7p4ny/workspace</a><br/>Synced 5 W&B file(s), 0 media file(s), 0 artifact file(s) and 0 other file(s)"
      ],
      "text/plain": [
       "<IPython.core.display.HTML object>"
      ]
     },
     "metadata": {},
     "output_type": "display_data"
    },
    {
     "data": {
      "text/html": [
       "Find logs at: <code>.\\wandb\\run-20240402_043949-5uk7p4ny\\logs</code>"
      ],
      "text/plain": [
       "<IPython.core.display.HTML object>"
      ]
     },
     "metadata": {},
     "output_type": "display_data"
    },
    {
     "name": "stderr",
     "output_type": "stream",
     "text": [
      "\u001b[34m\u001b[1mwandb\u001b[0m: Agent Starting Run: c8dn5wsl with config:\n",
      "\u001b[34m\u001b[1mwandb\u001b[0m: \thidden_dim: 64\n",
      "\u001b[34m\u001b[1mwandb\u001b[0m: \tlearning_rate: 0.0024537016804231657\n",
      "Failed to detect the name of this notebook, you can set it manually with the WANDB_NOTEBOOK_NAME environment variable to enable code saving.\n",
      "\u001b[34m\u001b[1mwandb\u001b[0m: \u001b[33mWARNING\u001b[0m Ignored wandb.init() arg project when running a sweep.\n"
     ]
    },
    {
     "data": {
      "text/html": [
       "Tracking run with wandb version 0.16.5"
      ],
      "text/plain": [
       "<IPython.core.display.HTML object>"
      ]
     },
     "metadata": {},
     "output_type": "display_data"
    },
    {
     "data": {
      "text/html": [
       "Run data is saved locally in <code>c:\\Users\\Shobhith Vadlamudi\\AppData\\Local\\Programs\\Microsoft VS Code\\wandb\\run-20240402_044140-c8dn5wsl</code>"
      ],
      "text/plain": [
       "<IPython.core.display.HTML object>"
      ]
     },
     "metadata": {},
     "output_type": "display_data"
    },
    {
     "data": {
      "text/html": [
       "Syncing run <strong><a href='https://wandb.ai/rl_shobhith/uncategorized/runs/c8dn5wsl/workspace' target=\"_blank\">divine-sweep-66</a></strong> to <a href='https://wandb.ai/rl_shobhith/uncategorized' target=\"_blank\">Weights & Biases</a> (<a href='https://wandb.me/run' target=\"_blank\">docs</a>)<br/>Sweep page: <a href='https://wandb.ai/rl_shobhith/uncategorized/sweeps/yivd2k4v' target=\"_blank\">https://wandb.ai/rl_shobhith/uncategorized/sweeps/yivd2k4v</a>"
      ],
      "text/plain": [
       "<IPython.core.display.HTML object>"
      ]
     },
     "metadata": {},
     "output_type": "display_data"
    },
    {
     "data": {
      "text/html": [
       " View project at <a href='https://wandb.ai/rl_shobhith/uncategorized' target=\"_blank\">https://wandb.ai/rl_shobhith/uncategorized</a>"
      ],
      "text/plain": [
       "<IPython.core.display.HTML object>"
      ]
     },
     "metadata": {},
     "output_type": "display_data"
    },
    {
     "data": {
      "text/html": [
       " View sweep at <a href='https://wandb.ai/rl_shobhith/uncategorized/sweeps/yivd2k4v' target=\"_blank\">https://wandb.ai/rl_shobhith/uncategorized/sweeps/yivd2k4v</a>"
      ],
      "text/plain": [
       "<IPython.core.display.HTML object>"
      ]
     },
     "metadata": {},
     "output_type": "display_data"
    },
    {
     "data": {
      "text/html": [
       " View run at <a href='https://wandb.ai/rl_shobhith/uncategorized/runs/c8dn5wsl/workspace' target=\"_blank\">https://wandb.ai/rl_shobhith/uncategorized/runs/c8dn5wsl/workspace</a>"
      ],
      "text/plain": [
       "<IPython.core.display.HTML object>"
      ]
     },
     "metadata": {},
     "output_type": "display_data"
    },
    {
     "name": "stderr",
     "output_type": "stream",
     "text": [
      "Iteration 0: 100%|██████████| 50/50 [00:26<00:00,  1.88it/s, episode_return=50, return=-401.700]\n",
      "Iteration 1: 100%|██████████| 50/50 [00:15<00:00,  3.25it/s, episode_return=100, return=-166.500]\n",
      "Iteration 2: 100%|██████████| 50/50 [00:11<00:00,  4.41it/s, episode_return=150, return=-216.400]\n",
      "Iteration 3: 100%|██████████| 50/50 [00:13<00:00,  3.65it/s, episode_return=200, return=-224.400]\n",
      "Iteration 4: 100%|██████████| 50/50 [00:11<00:00,  4.46it/s, episode_return=250, return=-156.700]\n",
      "Iteration 5: 100%|██████████| 50/50 [00:09<00:00,  5.31it/s, episode_return=300, return=-132.600]\n",
      "Iteration 6: 100%|██████████| 50/50 [00:08<00:00,  5.99it/s, episode_return=350, return=-147.400]\n",
      "Iteration 7: 100%|██████████| 50/50 [00:07<00:00,  6.80it/s, episode_return=400, return=-115.600]\n",
      "Iteration 8: 100%|██████████| 50/50 [00:07<00:00,  6.55it/s, episode_return=450, return=-118.400]\n",
      "Iteration 9: 100%|██████████| 50/50 [00:07<00:00,  6.31it/s, episode_return=500, return=-117.700]\n"
     ]
    },
    {
     "data": {
      "application/vnd.jupyter.widget-view+json": {
       "model_id": "f09834c22eff40e680cebe757af84630",
       "version_major": 2,
       "version_minor": 0
      },
      "text/plain": [
       "VBox(children=(Label(value='0.001 MB of 0.001 MB uploaded\\r'), FloatProgress(value=1.0, max=1.0)))"
      ]
     },
     "metadata": {},
     "output_type": "display_data"
    },
    {
     "data": {
      "text/html": [
       "<style>\n",
       "    table.wandb td:nth-child(1) { padding: 0 10px; text-align: left ; width: auto;} td:nth-child(2) {text-align: left ; width: 100%}\n",
       "    .wandb-row { display: flex; flex-direction: row; flex-wrap: wrap; justify-content: flex-start; width: 100% }\n",
       "    .wandb-col { display: flex; flex-direction: column; flex-basis: 100%; flex: 1; padding: 10px; }\n",
       "    </style>\n",
       "<div class=\"wandb-row\"><div class=\"wandb-col\"><h3>Run history:</h3><br/><table class=\"wandb\"><tr><td>regret</td><td>▁</td></tr></table><br/></div><div class=\"wandb-col\"><h3>Run summary:</h3><br/><table class=\"wandb\"><tr><td>regret</td><td>109920.02848</td></tr></table><br/></div></div>"
      ],
      "text/plain": [
       "<IPython.core.display.HTML object>"
      ]
     },
     "metadata": {},
     "output_type": "display_data"
    },
    {
     "data": {
      "text/html": [
       " View run <strong style=\"color:#cdcd00\">divine-sweep-66</strong> at: <a href='https://wandb.ai/rl_shobhith/uncategorized/runs/c8dn5wsl/workspace' target=\"_blank\">https://wandb.ai/rl_shobhith/uncategorized/runs/c8dn5wsl/workspace</a><br/>Synced 5 W&B file(s), 0 media file(s), 0 artifact file(s) and 0 other file(s)"
      ],
      "text/plain": [
       "<IPython.core.display.HTML object>"
      ]
     },
     "metadata": {},
     "output_type": "display_data"
    },
    {
     "data": {
      "text/html": [
       "Find logs at: <code>.\\wandb\\run-20240402_044140-c8dn5wsl\\logs</code>"
      ],
      "text/plain": [
       "<IPython.core.display.HTML object>"
      ]
     },
     "metadata": {},
     "output_type": "display_data"
    },
    {
     "name": "stderr",
     "output_type": "stream",
     "text": [
      "\u001b[34m\u001b[1mwandb\u001b[0m: Agent Starting Run: rpeawzqm with config:\n",
      "\u001b[34m\u001b[1mwandb\u001b[0m: \thidden_dim: 256\n",
      "\u001b[34m\u001b[1mwandb\u001b[0m: \tlearning_rate: 0.0053169973015974115\n",
      "Failed to detect the name of this notebook, you can set it manually with the WANDB_NOTEBOOK_NAME environment variable to enable code saving.\n",
      "\u001b[34m\u001b[1mwandb\u001b[0m: \u001b[33mWARNING\u001b[0m Ignored wandb.init() arg project when running a sweep.\n"
     ]
    },
    {
     "data": {
      "text/html": [
       "Tracking run with wandb version 0.16.5"
      ],
      "text/plain": [
       "<IPython.core.display.HTML object>"
      ]
     },
     "metadata": {},
     "output_type": "display_data"
    },
    {
     "data": {
      "text/html": [
       "Run data is saved locally in <code>c:\\Users\\Shobhith Vadlamudi\\AppData\\Local\\Programs\\Microsoft VS Code\\wandb\\run-20240402_044351-rpeawzqm</code>"
      ],
      "text/plain": [
       "<IPython.core.display.HTML object>"
      ]
     },
     "metadata": {},
     "output_type": "display_data"
    },
    {
     "data": {
      "text/html": [
       "Syncing run <strong><a href='https://wandb.ai/rl_shobhith/uncategorized/runs/rpeawzqm/workspace' target=\"_blank\">ethereal-sweep-67</a></strong> to <a href='https://wandb.ai/rl_shobhith/uncategorized' target=\"_blank\">Weights & Biases</a> (<a href='https://wandb.me/run' target=\"_blank\">docs</a>)<br/>Sweep page: <a href='https://wandb.ai/rl_shobhith/uncategorized/sweeps/yivd2k4v' target=\"_blank\">https://wandb.ai/rl_shobhith/uncategorized/sweeps/yivd2k4v</a>"
      ],
      "text/plain": [
       "<IPython.core.display.HTML object>"
      ]
     },
     "metadata": {},
     "output_type": "display_data"
    },
    {
     "data": {
      "text/html": [
       " View project at <a href='https://wandb.ai/rl_shobhith/uncategorized' target=\"_blank\">https://wandb.ai/rl_shobhith/uncategorized</a>"
      ],
      "text/plain": [
       "<IPython.core.display.HTML object>"
      ]
     },
     "metadata": {},
     "output_type": "display_data"
    },
    {
     "data": {
      "text/html": [
       " View sweep at <a href='https://wandb.ai/rl_shobhith/uncategorized/sweeps/yivd2k4v' target=\"_blank\">https://wandb.ai/rl_shobhith/uncategorized/sweeps/yivd2k4v</a>"
      ],
      "text/plain": [
       "<IPython.core.display.HTML object>"
      ]
     },
     "metadata": {},
     "output_type": "display_data"
    },
    {
     "data": {
      "text/html": [
       " View run at <a href='https://wandb.ai/rl_shobhith/uncategorized/runs/rpeawzqm/workspace' target=\"_blank\">https://wandb.ai/rl_shobhith/uncategorized/runs/rpeawzqm/workspace</a>"
      ],
      "text/plain": [
       "<IPython.core.display.HTML object>"
      ]
     },
     "metadata": {},
     "output_type": "display_data"
    },
    {
     "name": "stderr",
     "output_type": "stream",
     "text": [
      "Iteration 0: 100%|██████████| 50/50 [00:16<00:00,  3.06it/s, episode_return=50, return=-102.200]\n",
      "Iteration 1: 100%|██████████| 50/50 [00:08<00:00,  5.87it/s, episode_return=100, return=-95.000]\n",
      "Iteration 2: 100%|██████████| 50/50 [00:06<00:00,  7.19it/s, episode_return=150, return=-93.800]\n",
      "Iteration 3: 100%|██████████| 50/50 [00:07<00:00,  6.87it/s, episode_return=200, return=-97.900]\n",
      "Iteration 4: 100%|██████████| 50/50 [00:11<00:00,  4.42it/s, episode_return=250, return=-359.600]\n",
      "Iteration 5: 100%|██████████| 50/50 [00:36<00:00,  1.37it/s, episode_return=300, return=-500.000]\n",
      "Iteration 6: 100%|██████████| 50/50 [00:35<00:00,  1.40it/s, episode_return=350, return=-500.000]\n",
      "Iteration 7: 100%|██████████| 50/50 [00:35<00:00,  1.40it/s, episode_return=400, return=-500.000]\n",
      "Iteration 8: 100%|██████████| 50/50 [00:34<00:00,  1.46it/s, episode_return=450, return=-500.000]\n",
      "Iteration 9: 100%|██████████| 50/50 [00:36<00:00,  1.38it/s, episode_return=500, return=-500.000]\n"
     ]
    },
    {
     "data": {
      "application/vnd.jupyter.widget-view+json": {
       "model_id": "e96f4ea23bac451793219826c1d647bb",
       "version_major": 2,
       "version_minor": 0
      },
      "text/plain": [
       "VBox(children=(Label(value='0.001 MB of 0.001 MB uploaded\\r'), FloatProgress(value=1.0, max=1.0)))"
      ]
     },
     "metadata": {},
     "output_type": "display_data"
    },
    {
     "data": {
      "text/html": [
       "<style>\n",
       "    table.wandb td:nth-child(1) { padding: 0 10px; text-align: left ; width: auto;} td:nth-child(2) {text-align: left ; width: 100%}\n",
       "    .wandb-row { display: flex; flex-direction: row; flex-wrap: wrap; justify-content: flex-start; width: 100% }\n",
       "    .wandb-col { display: flex; flex-direction: column; flex-basis: 100%; flex: 1; padding: 10px; }\n",
       "    </style>\n",
       "<div class=\"wandb-row\"><div class=\"wandb-col\"><h3>Run history:</h3><br/><table class=\"wandb\"><tr><td>regret</td><td>▁</td></tr></table><br/></div><div class=\"wandb-col\"><h3>Run summary:</h3><br/><table class=\"wandb\"><tr><td>regret</td><td>148145.3834</td></tr></table><br/></div></div>"
      ],
      "text/plain": [
       "<IPython.core.display.HTML object>"
      ]
     },
     "metadata": {},
     "output_type": "display_data"
    },
    {
     "data": {
      "text/html": [
       " View run <strong style=\"color:#cdcd00\">ethereal-sweep-67</strong> at: <a href='https://wandb.ai/rl_shobhith/uncategorized/runs/rpeawzqm/workspace' target=\"_blank\">https://wandb.ai/rl_shobhith/uncategorized/runs/rpeawzqm/workspace</a><br/>Synced 5 W&B file(s), 0 media file(s), 0 artifact file(s) and 0 other file(s)"
      ],
      "text/plain": [
       "<IPython.core.display.HTML object>"
      ]
     },
     "metadata": {},
     "output_type": "display_data"
    },
    {
     "data": {
      "text/html": [
       "Find logs at: <code>.\\wandb\\run-20240402_044351-rpeawzqm\\logs</code>"
      ],
      "text/plain": [
       "<IPython.core.display.HTML object>"
      ]
     },
     "metadata": {},
     "output_type": "display_data"
    },
    {
     "name": "stderr",
     "output_type": "stream",
     "text": [
      "\u001b[34m\u001b[1mwandb\u001b[0m: Sweep Agent: Waiting for job.\n",
      "\u001b[34m\u001b[1mwandb\u001b[0m: Job received.\n",
      "\u001b[34m\u001b[1mwandb\u001b[0m: Agent Starting Run: f86k2piv with config:\n",
      "\u001b[34m\u001b[1mwandb\u001b[0m: \thidden_dim: 64\n",
      "\u001b[34m\u001b[1mwandb\u001b[0m: \tlearning_rate: 0.0022952648227196077\n",
      "Failed to detect the name of this notebook, you can set it manually with the WANDB_NOTEBOOK_NAME environment variable to enable code saving.\n",
      "\u001b[34m\u001b[1mwandb\u001b[0m: \u001b[33mWARNING\u001b[0m Ignored wandb.init() arg project when running a sweep.\n"
     ]
    },
    {
     "data": {
      "text/html": [
       "Tracking run with wandb version 0.16.5"
      ],
      "text/plain": [
       "<IPython.core.display.HTML object>"
      ]
     },
     "metadata": {},
     "output_type": "display_data"
    },
    {
     "data": {
      "text/html": [
       "Run data is saved locally in <code>c:\\Users\\Shobhith Vadlamudi\\AppData\\Local\\Programs\\Microsoft VS Code\\wandb\\run-20240402_044804-f86k2piv</code>"
      ],
      "text/plain": [
       "<IPython.core.display.HTML object>"
      ]
     },
     "metadata": {},
     "output_type": "display_data"
    },
    {
     "data": {
      "text/html": [
       "Syncing run <strong><a href='https://wandb.ai/rl_shobhith/uncategorized/runs/f86k2piv/workspace' target=\"_blank\">scarlet-sweep-68</a></strong> to <a href='https://wandb.ai/rl_shobhith/uncategorized' target=\"_blank\">Weights & Biases</a> (<a href='https://wandb.me/run' target=\"_blank\">docs</a>)<br/>Sweep page: <a href='https://wandb.ai/rl_shobhith/uncategorized/sweeps/yivd2k4v' target=\"_blank\">https://wandb.ai/rl_shobhith/uncategorized/sweeps/yivd2k4v</a>"
      ],
      "text/plain": [
       "<IPython.core.display.HTML object>"
      ]
     },
     "metadata": {},
     "output_type": "display_data"
    },
    {
     "data": {
      "text/html": [
       " View project at <a href='https://wandb.ai/rl_shobhith/uncategorized' target=\"_blank\">https://wandb.ai/rl_shobhith/uncategorized</a>"
      ],
      "text/plain": [
       "<IPython.core.display.HTML object>"
      ]
     },
     "metadata": {},
     "output_type": "display_data"
    },
    {
     "data": {
      "text/html": [
       " View sweep at <a href='https://wandb.ai/rl_shobhith/uncategorized/sweeps/yivd2k4v' target=\"_blank\">https://wandb.ai/rl_shobhith/uncategorized/sweeps/yivd2k4v</a>"
      ],
      "text/plain": [
       "<IPython.core.display.HTML object>"
      ]
     },
     "metadata": {},
     "output_type": "display_data"
    },
    {
     "data": {
      "text/html": [
       " View run at <a href='https://wandb.ai/rl_shobhith/uncategorized/runs/f86k2piv/workspace' target=\"_blank\">https://wandb.ai/rl_shobhith/uncategorized/runs/f86k2piv/workspace</a>"
      ],
      "text/plain": [
       "<IPython.core.display.HTML object>"
      ]
     },
     "metadata": {},
     "output_type": "display_data"
    },
    {
     "name": "stderr",
     "output_type": "stream",
     "text": [
      "Iteration 0: 100%|██████████| 50/50 [00:31<00:00,  1.57it/s, episode_return=50, return=-327.600]\n",
      "Iteration 1: 100%|██████████| 50/50 [00:13<00:00,  3.74it/s, episode_return=100, return=-143.700]\n",
      "Iteration 2: 100%|██████████| 50/50 [00:08<00:00,  5.70it/s, episode_return=150, return=-129.400]\n",
      "Iteration 3: 100%|██████████| 50/50 [00:08<00:00,  5.73it/s, episode_return=200, return=-115.500]\n",
      "Iteration 4: 100%|██████████| 50/50 [00:08<00:00,  5.91it/s, episode_return=250, return=-124.100]\n",
      "Iteration 5: 100%|██████████| 50/50 [00:09<00:00,  5.28it/s, episode_return=300, return=-137.400]\n",
      "Iteration 6: 100%|██████████| 50/50 [00:08<00:00,  5.62it/s, episode_return=350, return=-137.900]\n",
      "Iteration 7: 100%|██████████| 50/50 [00:09<00:00,  5.44it/s, episode_return=400, return=-132.500]\n",
      "Iteration 8: 100%|██████████| 50/50 [00:07<00:00,  6.36it/s, episode_return=450, return=-107.500]\n",
      "Iteration 9: 100%|██████████| 50/50 [00:07<00:00,  6.54it/s, episode_return=500, return=-111.700]\n"
     ]
    },
    {
     "data": {
      "application/vnd.jupyter.widget-view+json": {
       "model_id": "d24267da7c2a4be2bd75a0c7b505046f",
       "version_major": 2,
       "version_minor": 0
      },
      "text/plain": [
       "VBox(children=(Label(value='0.001 MB of 0.001 MB uploaded\\r'), FloatProgress(value=1.0, max=1.0)))"
      ]
     },
     "metadata": {},
     "output_type": "display_data"
    },
    {
     "data": {
      "text/html": [
       "<style>\n",
       "    table.wandb td:nth-child(1) { padding: 0 10px; text-align: left ; width: auto;} td:nth-child(2) {text-align: left ; width: 100%}\n",
       "    .wandb-row { display: flex; flex-direction: row; flex-wrap: wrap; justify-content: flex-start; width: 100% }\n",
       "    .wandb-col { display: flex; flex-direction: column; flex-basis: 100%; flex: 1; padding: 10px; }\n",
       "    </style>\n",
       "<div class=\"wandb-row\"><div class=\"wandb-col\"><h3>Run history:</h3><br/><table class=\"wandb\"><tr><td>regret</td><td>▁</td></tr></table><br/></div><div class=\"wandb-col\"><h3>Run summary:</h3><br/><table class=\"wandb\"><tr><td>regret</td><td>101143.99448</td></tr></table><br/></div></div>"
      ],
      "text/plain": [
       "<IPython.core.display.HTML object>"
      ]
     },
     "metadata": {},
     "output_type": "display_data"
    },
    {
     "data": {
      "text/html": [
       " View run <strong style=\"color:#cdcd00\">scarlet-sweep-68</strong> at: <a href='https://wandb.ai/rl_shobhith/uncategorized/runs/f86k2piv/workspace' target=\"_blank\">https://wandb.ai/rl_shobhith/uncategorized/runs/f86k2piv/workspace</a><br/>Synced 5 W&B file(s), 0 media file(s), 0 artifact file(s) and 0 other file(s)"
      ],
      "text/plain": [
       "<IPython.core.display.HTML object>"
      ]
     },
     "metadata": {},
     "output_type": "display_data"
    },
    {
     "data": {
      "text/html": [
       "Find logs at: <code>.\\wandb\\run-20240402_044804-f86k2piv\\logs</code>"
      ],
      "text/plain": [
       "<IPython.core.display.HTML object>"
      ]
     },
     "metadata": {},
     "output_type": "display_data"
    },
    {
     "name": "stderr",
     "output_type": "stream",
     "text": [
      "\u001b[34m\u001b[1mwandb\u001b[0m: Agent Starting Run: 9wn45rpx with config:\n",
      "\u001b[34m\u001b[1mwandb\u001b[0m: \thidden_dim: 64\n",
      "\u001b[34m\u001b[1mwandb\u001b[0m: \tlearning_rate: 0.008352872950800158\n",
      "Failed to detect the name of this notebook, you can set it manually with the WANDB_NOTEBOOK_NAME environment variable to enable code saving.\n",
      "\u001b[34m\u001b[1mwandb\u001b[0m: \u001b[33mWARNING\u001b[0m Ignored wandb.init() arg project when running a sweep.\n"
     ]
    },
    {
     "data": {
      "text/html": [
       "Tracking run with wandb version 0.16.5"
      ],
      "text/plain": [
       "<IPython.core.display.HTML object>"
      ]
     },
     "metadata": {},
     "output_type": "display_data"
    },
    {
     "data": {
      "text/html": [
       "Run data is saved locally in <code>c:\\Users\\Shobhith Vadlamudi\\AppData\\Local\\Programs\\Microsoft VS Code\\wandb\\run-20240402_045012-9wn45rpx</code>"
      ],
      "text/plain": [
       "<IPython.core.display.HTML object>"
      ]
     },
     "metadata": {},
     "output_type": "display_data"
    },
    {
     "data": {
      "text/html": [
       "Syncing run <strong><a href='https://wandb.ai/rl_shobhith/uncategorized/runs/9wn45rpx/workspace' target=\"_blank\">jolly-sweep-69</a></strong> to <a href='https://wandb.ai/rl_shobhith/uncategorized' target=\"_blank\">Weights & Biases</a> (<a href='https://wandb.me/run' target=\"_blank\">docs</a>)<br/>Sweep page: <a href='https://wandb.ai/rl_shobhith/uncategorized/sweeps/yivd2k4v' target=\"_blank\">https://wandb.ai/rl_shobhith/uncategorized/sweeps/yivd2k4v</a>"
      ],
      "text/plain": [
       "<IPython.core.display.HTML object>"
      ]
     },
     "metadata": {},
     "output_type": "display_data"
    },
    {
     "data": {
      "text/html": [
       " View project at <a href='https://wandb.ai/rl_shobhith/uncategorized' target=\"_blank\">https://wandb.ai/rl_shobhith/uncategorized</a>"
      ],
      "text/plain": [
       "<IPython.core.display.HTML object>"
      ]
     },
     "metadata": {},
     "output_type": "display_data"
    },
    {
     "data": {
      "text/html": [
       " View sweep at <a href='https://wandb.ai/rl_shobhith/uncategorized/sweeps/yivd2k4v' target=\"_blank\">https://wandb.ai/rl_shobhith/uncategorized/sweeps/yivd2k4v</a>"
      ],
      "text/plain": [
       "<IPython.core.display.HTML object>"
      ]
     },
     "metadata": {},
     "output_type": "display_data"
    },
    {
     "data": {
      "text/html": [
       " View run at <a href='https://wandb.ai/rl_shobhith/uncategorized/runs/9wn45rpx/workspace' target=\"_blank\">https://wandb.ai/rl_shobhith/uncategorized/runs/9wn45rpx/workspace</a>"
      ],
      "text/plain": [
       "<IPython.core.display.HTML object>"
      ]
     },
     "metadata": {},
     "output_type": "display_data"
    },
    {
     "name": "stderr",
     "output_type": "stream",
     "text": [
      "Iteration 0: 100%|██████████| 50/50 [00:17<00:00,  2.81it/s, episode_return=50, return=-131.500]\n",
      "Iteration 1: 100%|██████████| 50/50 [00:09<00:00,  5.50it/s, episode_return=100, return=-121.300]\n",
      "Iteration 2: 100%|██████████| 50/50 [00:08<00:00,  5.57it/s, episode_return=150, return=-163.900]\n",
      "Iteration 3: 100%|██████████| 50/50 [00:09<00:00,  5.54it/s, episode_return=200, return=-141.500]\n",
      "Iteration 4: 100%|██████████| 50/50 [00:08<00:00,  5.94it/s, episode_return=250, return=-137.700]\n",
      "Iteration 5: 100%|██████████| 50/50 [00:09<00:00,  5.51it/s, episode_return=300, return=-111.800]\n",
      "Iteration 6: 100%|██████████| 50/50 [00:07<00:00,  6.70it/s, episode_return=350, return=-111.500]\n",
      "Iteration 7: 100%|██████████| 50/50 [00:08<00:00,  6.04it/s, episode_return=400, return=-122.000]\n",
      "Iteration 8: 100%|██████████| 50/50 [00:07<00:00,  6.92it/s, episode_return=450, return=-119.300]\n",
      "Iteration 9: 100%|██████████| 50/50 [00:06<00:00,  8.15it/s, episode_return=500, return=-81.800] \n"
     ]
    },
    {
     "data": {
      "application/vnd.jupyter.widget-view+json": {
       "model_id": "1025d873f143476b9f8b98af13fc25a6",
       "version_major": 2,
       "version_minor": 0
      },
      "text/plain": [
       "VBox(children=(Label(value='0.001 MB of 0.001 MB uploaded\\r'), FloatProgress(value=1.0, max=1.0)))"
      ]
     },
     "metadata": {},
     "output_type": "display_data"
    },
    {
     "data": {
      "text/html": [
       "<style>\n",
       "    table.wandb td:nth-child(1) { padding: 0 10px; text-align: left ; width: auto;} td:nth-child(2) {text-align: left ; width: 100%}\n",
       "    .wandb-row { display: flex; flex-direction: row; flex-wrap: wrap; justify-content: flex-start; width: 100% }\n",
       "    .wandb-col { display: flex; flex-direction: column; flex-basis: 100%; flex: 1; padding: 10px; }\n",
       "    </style>\n",
       "<div class=\"wandb-row\"><div class=\"wandb-col\"><h3>Run history:</h3><br/><table class=\"wandb\"><tr><td>regret</td><td>▁</td></tr></table><br/></div><div class=\"wandb-col\"><h3>Run summary:</h3><br/><table class=\"wandb\"><tr><td>regret</td><td>79782.5166</td></tr></table><br/></div></div>"
      ],
      "text/plain": [
       "<IPython.core.display.HTML object>"
      ]
     },
     "metadata": {},
     "output_type": "display_data"
    },
    {
     "data": {
      "text/html": [
       " View run <strong style=\"color:#cdcd00\">jolly-sweep-69</strong> at: <a href='https://wandb.ai/rl_shobhith/uncategorized/runs/9wn45rpx/workspace' target=\"_blank\">https://wandb.ai/rl_shobhith/uncategorized/runs/9wn45rpx/workspace</a><br/>Synced 5 W&B file(s), 0 media file(s), 0 artifact file(s) and 0 other file(s)"
      ],
      "text/plain": [
       "<IPython.core.display.HTML object>"
      ]
     },
     "metadata": {},
     "output_type": "display_data"
    },
    {
     "data": {
      "text/html": [
       "Find logs at: <code>.\\wandb\\run-20240402_045012-9wn45rpx\\logs</code>"
      ],
      "text/plain": [
       "<IPython.core.display.HTML object>"
      ]
     },
     "metadata": {},
     "output_type": "display_data"
    },
    {
     "name": "stderr",
     "output_type": "stream",
     "text": [
      "\u001b[34m\u001b[1mwandb\u001b[0m: Agent Starting Run: aax7m2sn with config:\n",
      "\u001b[34m\u001b[1mwandb\u001b[0m: \thidden_dim: 128\n",
      "\u001b[34m\u001b[1mwandb\u001b[0m: \tlearning_rate: 0.0060649122841024685\n",
      "Failed to detect the name of this notebook, you can set it manually with the WANDB_NOTEBOOK_NAME environment variable to enable code saving.\n",
      "\u001b[34m\u001b[1mwandb\u001b[0m: \u001b[33mWARNING\u001b[0m Ignored wandb.init() arg project when running a sweep.\n"
     ]
    },
    {
     "data": {
      "text/html": [
       "Tracking run with wandb version 0.16.5"
      ],
      "text/plain": [
       "<IPython.core.display.HTML object>"
      ]
     },
     "metadata": {},
     "output_type": "display_data"
    },
    {
     "data": {
      "text/html": [
       "Run data is saved locally in <code>c:\\Users\\Shobhith Vadlamudi\\AppData\\Local\\Programs\\Microsoft VS Code\\wandb\\run-20240402_045157-aax7m2sn</code>"
      ],
      "text/plain": [
       "<IPython.core.display.HTML object>"
      ]
     },
     "metadata": {},
     "output_type": "display_data"
    },
    {
     "data": {
      "text/html": [
       "Syncing run <strong><a href='https://wandb.ai/rl_shobhith/uncategorized/runs/aax7m2sn/workspace' target=\"_blank\">sweet-sweep-70</a></strong> to <a href='https://wandb.ai/rl_shobhith/uncategorized' target=\"_blank\">Weights & Biases</a> (<a href='https://wandb.me/run' target=\"_blank\">docs</a>)<br/>Sweep page: <a href='https://wandb.ai/rl_shobhith/uncategorized/sweeps/yivd2k4v' target=\"_blank\">https://wandb.ai/rl_shobhith/uncategorized/sweeps/yivd2k4v</a>"
      ],
      "text/plain": [
       "<IPython.core.display.HTML object>"
      ]
     },
     "metadata": {},
     "output_type": "display_data"
    },
    {
     "data": {
      "text/html": [
       " View project at <a href='https://wandb.ai/rl_shobhith/uncategorized' target=\"_blank\">https://wandb.ai/rl_shobhith/uncategorized</a>"
      ],
      "text/plain": [
       "<IPython.core.display.HTML object>"
      ]
     },
     "metadata": {},
     "output_type": "display_data"
    },
    {
     "data": {
      "text/html": [
       " View sweep at <a href='https://wandb.ai/rl_shobhith/uncategorized/sweeps/yivd2k4v' target=\"_blank\">https://wandb.ai/rl_shobhith/uncategorized/sweeps/yivd2k4v</a>"
      ],
      "text/plain": [
       "<IPython.core.display.HTML object>"
      ]
     },
     "metadata": {},
     "output_type": "display_data"
    },
    {
     "data": {
      "text/html": [
       " View run at <a href='https://wandb.ai/rl_shobhith/uncategorized/runs/aax7m2sn/workspace' target=\"_blank\">https://wandb.ai/rl_shobhith/uncategorized/runs/aax7m2sn/workspace</a>"
      ],
      "text/plain": [
       "<IPython.core.display.HTML object>"
      ]
     },
     "metadata": {},
     "output_type": "display_data"
    },
    {
     "name": "stderr",
     "output_type": "stream",
     "text": [
      "Iteration 0: 100%|██████████| 50/50 [00:32<00:00,  1.56it/s, episode_return=50, return=-500.000]\n",
      "Iteration 1: 100%|██████████| 50/50 [00:36<00:00,  1.37it/s, episode_return=100, return=-500.000]\n",
      "Iteration 2: 100%|██████████| 50/50 [00:40<00:00,  1.24it/s, episode_return=150, return=-500.000]\n",
      "Iteration 3: 100%|██████████| 50/50 [00:36<00:00,  1.36it/s, episode_return=200, return=-500.000]\n",
      "Iteration 4: 100%|██████████| 50/50 [00:36<00:00,  1.35it/s, episode_return=250, return=-500.000]\n",
      "Iteration 5: 100%|██████████| 50/50 [00:36<00:00,  1.36it/s, episode_return=300, return=-500.000]\n",
      "Iteration 6: 100%|██████████| 50/50 [00:36<00:00,  1.36it/s, episode_return=350, return=-500.000]\n",
      "Iteration 7: 100%|██████████| 50/50 [00:38<00:00,  1.31it/s, episode_return=400, return=-500.000]\n",
      "Iteration 8: 100%|██████████| 50/50 [00:36<00:00,  1.37it/s, episode_return=450, return=-500.000]\n",
      "Iteration 9: 100%|██████████| 50/50 [00:32<00:00,  1.54it/s, episode_return=500, return=-500.000]\n"
     ]
    },
    {
     "data": {
      "application/vnd.jupyter.widget-view+json": {
       "model_id": "d3a01e4a23b448b4b232057bb4e50444",
       "version_major": 2,
       "version_minor": 0
      },
      "text/plain": [
       "VBox(children=(Label(value='0.001 MB of 0.001 MB uploaded\\r'), FloatProgress(value=1.0, max=1.0)))"
      ]
     },
     "metadata": {},
     "output_type": "display_data"
    },
    {
     "data": {
      "text/html": [
       "<style>\n",
       "    table.wandb td:nth-child(1) { padding: 0 10px; text-align: left ; width: auto;} td:nth-child(2) {text-align: left ; width: 100%}\n",
       "    .wandb-row { display: flex; flex-direction: row; flex-wrap: wrap; justify-content: flex-start; width: 100% }\n",
       "    .wandb-col { display: flex; flex-direction: column; flex-basis: 100%; flex: 1; padding: 10px; }\n",
       "    </style>\n",
       "<div class=\"wandb-row\"><div class=\"wandb-col\"><h3>Run history:</h3><br/><table class=\"wandb\"><tr><td>regret</td><td>▁</td></tr></table><br/></div><div class=\"wandb-col\"><h3>Run summary:</h3><br/><table class=\"wandb\"><tr><td>regret</td><td>249922.04082</td></tr></table><br/></div></div>"
      ],
      "text/plain": [
       "<IPython.core.display.HTML object>"
      ]
     },
     "metadata": {},
     "output_type": "display_data"
    },
    {
     "data": {
      "text/html": [
       " View run <strong style=\"color:#cdcd00\">sweet-sweep-70</strong> at: <a href='https://wandb.ai/rl_shobhith/uncategorized/runs/aax7m2sn/workspace' target=\"_blank\">https://wandb.ai/rl_shobhith/uncategorized/runs/aax7m2sn/workspace</a><br/>Synced 5 W&B file(s), 0 media file(s), 0 artifact file(s) and 0 other file(s)"
      ],
      "text/plain": [
       "<IPython.core.display.HTML object>"
      ]
     },
     "metadata": {},
     "output_type": "display_data"
    },
    {
     "data": {
      "text/html": [
       "Find logs at: <code>.\\wandb\\run-20240402_045157-aax7m2sn\\logs</code>"
      ],
      "text/plain": [
       "<IPython.core.display.HTML object>"
      ]
     },
     "metadata": {},
     "output_type": "display_data"
    },
    {
     "name": "stderr",
     "output_type": "stream",
     "text": [
      "\u001b[34m\u001b[1mwandb\u001b[0m: Agent Starting Run: 2r29yod4 with config:\n",
      "\u001b[34m\u001b[1mwandb\u001b[0m: \thidden_dim: 256\n",
      "\u001b[34m\u001b[1mwandb\u001b[0m: \tlearning_rate: 0.005653038609250452\n",
      "Failed to detect the name of this notebook, you can set it manually with the WANDB_NOTEBOOK_NAME environment variable to enable code saving.\n",
      "\u001b[34m\u001b[1mwandb\u001b[0m: \u001b[33mWARNING\u001b[0m Ignored wandb.init() arg project when running a sweep.\n"
     ]
    },
    {
     "data": {
      "text/html": [
       "Tracking run with wandb version 0.16.5"
      ],
      "text/plain": [
       "<IPython.core.display.HTML object>"
      ]
     },
     "metadata": {},
     "output_type": "display_data"
    },
    {
     "data": {
      "text/html": [
       "Run data is saved locally in <code>c:\\Users\\Shobhith Vadlamudi\\AppData\\Local\\Programs\\Microsoft VS Code\\wandb\\run-20240402_045813-2r29yod4</code>"
      ],
      "text/plain": [
       "<IPython.core.display.HTML object>"
      ]
     },
     "metadata": {},
     "output_type": "display_data"
    },
    {
     "data": {
      "text/html": [
       "Syncing run <strong><a href='https://wandb.ai/rl_shobhith/uncategorized/runs/2r29yod4/workspace' target=\"_blank\">good-sweep-71</a></strong> to <a href='https://wandb.ai/rl_shobhith/uncategorized' target=\"_blank\">Weights & Biases</a> (<a href='https://wandb.me/run' target=\"_blank\">docs</a>)<br/>Sweep page: <a href='https://wandb.ai/rl_shobhith/uncategorized/sweeps/yivd2k4v' target=\"_blank\">https://wandb.ai/rl_shobhith/uncategorized/sweeps/yivd2k4v</a>"
      ],
      "text/plain": [
       "<IPython.core.display.HTML object>"
      ]
     },
     "metadata": {},
     "output_type": "display_data"
    },
    {
     "data": {
      "text/html": [
       " View project at <a href='https://wandb.ai/rl_shobhith/uncategorized' target=\"_blank\">https://wandb.ai/rl_shobhith/uncategorized</a>"
      ],
      "text/plain": [
       "<IPython.core.display.HTML object>"
      ]
     },
     "metadata": {},
     "output_type": "display_data"
    },
    {
     "data": {
      "text/html": [
       " View sweep at <a href='https://wandb.ai/rl_shobhith/uncategorized/sweeps/yivd2k4v' target=\"_blank\">https://wandb.ai/rl_shobhith/uncategorized/sweeps/yivd2k4v</a>"
      ],
      "text/plain": [
       "<IPython.core.display.HTML object>"
      ]
     },
     "metadata": {},
     "output_type": "display_data"
    },
    {
     "data": {
      "text/html": [
       " View run at <a href='https://wandb.ai/rl_shobhith/uncategorized/runs/2r29yod4/workspace' target=\"_blank\">https://wandb.ai/rl_shobhith/uncategorized/runs/2r29yod4/workspace</a>"
      ],
      "text/plain": [
       "<IPython.core.display.HTML object>"
      ]
     },
     "metadata": {},
     "output_type": "display_data"
    },
    {
     "name": "stderr",
     "output_type": "stream",
     "text": [
      "Iteration 0: 100%|██████████| 50/50 [00:20<00:00,  2.47it/s, episode_return=50, return=-183.300]\n",
      "Iteration 1: 100%|██████████| 50/50 [00:14<00:00,  3.51it/s, episode_return=100, return=-174.300]\n",
      "Iteration 2: 100%|██████████| 50/50 [00:18<00:00,  2.77it/s, episode_return=150, return=-240.100]\n",
      "Iteration 3: 100%|██████████| 50/50 [00:19<00:00,  2.50it/s, episode_return=200, return=-500.000]\n",
      "Iteration 4: 100%|██████████| 50/50 [00:31<00:00,  1.58it/s, episode_return=250, return=-357.100]\n",
      "Iteration 5: 100%|██████████| 50/50 [00:14<00:00,  3.42it/s, episode_return=300, return=-183.600]\n",
      "Iteration 6: 100%|██████████| 50/50 [00:12<00:00,  4.01it/s, episode_return=350, return=-174.900]\n",
      "Iteration 7: 100%|██████████| 50/50 [00:10<00:00,  4.73it/s, episode_return=400, return=-149.400]\n",
      "Iteration 8: 100%|██████████| 50/50 [00:12<00:00,  4.10it/s, episode_return=450, return=-150.300]\n",
      "Iteration 9: 100%|██████████| 50/50 [00:13<00:00,  3.77it/s, episode_return=500, return=-191.800]\n"
     ]
    },
    {
     "data": {
      "application/vnd.jupyter.widget-view+json": {
       "model_id": "d02afc62fc314ba597eec76741d6c6c3",
       "version_major": 2,
       "version_minor": 0
      },
      "text/plain": [
       "VBox(children=(Label(value='0.001 MB of 0.001 MB uploaded\\r'), FloatProgress(value=1.0, max=1.0)))"
      ]
     },
     "metadata": {},
     "output_type": "display_data"
    },
    {
     "data": {
      "text/html": [
       "<style>\n",
       "    table.wandb td:nth-child(1) { padding: 0 10px; text-align: left ; width: auto;} td:nth-child(2) {text-align: left ; width: 100%}\n",
       "    .wandb-row { display: flex; flex-direction: row; flex-wrap: wrap; justify-content: flex-start; width: 100% }\n",
       "    .wandb-col { display: flex; flex-direction: column; flex-basis: 100%; flex: 1; padding: 10px; }\n",
       "    </style>\n",
       "<div class=\"wandb-row\"><div class=\"wandb-col\"><h3>Run history:</h3><br/><table class=\"wandb\"><tr><td>regret</td><td>▁</td></tr></table><br/></div><div class=\"wandb-col\"><h3>Run summary:</h3><br/><table class=\"wandb\"><tr><td>regret</td><td>118657.52485</td></tr></table><br/></div></div>"
      ],
      "text/plain": [
       "<IPython.core.display.HTML object>"
      ]
     },
     "metadata": {},
     "output_type": "display_data"
    },
    {
     "data": {
      "text/html": [
       " View run <strong style=\"color:#cdcd00\">good-sweep-71</strong> at: <a href='https://wandb.ai/rl_shobhith/uncategorized/runs/2r29yod4/workspace' target=\"_blank\">https://wandb.ai/rl_shobhith/uncategorized/runs/2r29yod4/workspace</a><br/>Synced 5 W&B file(s), 0 media file(s), 0 artifact file(s) and 0 other file(s)"
      ],
      "text/plain": [
       "<IPython.core.display.HTML object>"
      ]
     },
     "metadata": {},
     "output_type": "display_data"
    },
    {
     "data": {
      "text/html": [
       "Find logs at: <code>.\\wandb\\run-20240402_045813-2r29yod4\\logs</code>"
      ],
      "text/plain": [
       "<IPython.core.display.HTML object>"
      ]
     },
     "metadata": {},
     "output_type": "display_data"
    },
    {
     "name": "stderr",
     "output_type": "stream",
     "text": [
      "\u001b[34m\u001b[1mwandb\u001b[0m: Agent Starting Run: jx6wk0so with config:\n",
      "\u001b[34m\u001b[1mwandb\u001b[0m: \thidden_dim: 64\n",
      "\u001b[34m\u001b[1mwandb\u001b[0m: \tlearning_rate: 0.009364066292156652\n",
      "Failed to detect the name of this notebook, you can set it manually with the WANDB_NOTEBOOK_NAME environment variable to enable code saving.\n",
      "\u001b[34m\u001b[1mwandb\u001b[0m: \u001b[33mWARNING\u001b[0m Ignored wandb.init() arg project when running a sweep.\n"
     ]
    },
    {
     "data": {
      "text/html": [
       "Tracking run with wandb version 0.16.5"
      ],
      "text/plain": [
       "<IPython.core.display.HTML object>"
      ]
     },
     "metadata": {},
     "output_type": "display_data"
    },
    {
     "data": {
      "text/html": [
       "Run data is saved locally in <code>c:\\Users\\Shobhith Vadlamudi\\AppData\\Local\\Programs\\Microsoft VS Code\\wandb\\run-20240402_050111-jx6wk0so</code>"
      ],
      "text/plain": [
       "<IPython.core.display.HTML object>"
      ]
     },
     "metadata": {},
     "output_type": "display_data"
    },
    {
     "data": {
      "text/html": [
       "Syncing run <strong><a href='https://wandb.ai/rl_shobhith/uncategorized/runs/jx6wk0so/workspace' target=\"_blank\">balmy-sweep-72</a></strong> to <a href='https://wandb.ai/rl_shobhith/uncategorized' target=\"_blank\">Weights & Biases</a> (<a href='https://wandb.me/run' target=\"_blank\">docs</a>)<br/>Sweep page: <a href='https://wandb.ai/rl_shobhith/uncategorized/sweeps/yivd2k4v' target=\"_blank\">https://wandb.ai/rl_shobhith/uncategorized/sweeps/yivd2k4v</a>"
      ],
      "text/plain": [
       "<IPython.core.display.HTML object>"
      ]
     },
     "metadata": {},
     "output_type": "display_data"
    },
    {
     "data": {
      "text/html": [
       " View project at <a href='https://wandb.ai/rl_shobhith/uncategorized' target=\"_blank\">https://wandb.ai/rl_shobhith/uncategorized</a>"
      ],
      "text/plain": [
       "<IPython.core.display.HTML object>"
      ]
     },
     "metadata": {},
     "output_type": "display_data"
    },
    {
     "data": {
      "text/html": [
       " View sweep at <a href='https://wandb.ai/rl_shobhith/uncategorized/sweeps/yivd2k4v' target=\"_blank\">https://wandb.ai/rl_shobhith/uncategorized/sweeps/yivd2k4v</a>"
      ],
      "text/plain": [
       "<IPython.core.display.HTML object>"
      ]
     },
     "metadata": {},
     "output_type": "display_data"
    },
    {
     "data": {
      "text/html": [
       " View run at <a href='https://wandb.ai/rl_shobhith/uncategorized/runs/jx6wk0so/workspace' target=\"_blank\">https://wandb.ai/rl_shobhith/uncategorized/runs/jx6wk0so/workspace</a>"
      ],
      "text/plain": [
       "<IPython.core.display.HTML object>"
      ]
     },
     "metadata": {},
     "output_type": "display_data"
    },
    {
     "name": "stderr",
     "output_type": "stream",
     "text": [
      "Iteration 0: 100%|██████████| 50/50 [00:13<00:00,  3.66it/s, episode_return=50, return=-174.300]\n",
      "Iteration 1: 100%|██████████| 50/50 [00:11<00:00,  4.38it/s, episode_return=100, return=-177.200]\n",
      "Iteration 2: 100%|██████████| 50/50 [00:12<00:00,  4.14it/s, episode_return=150, return=-232.800]\n",
      "Iteration 3: 100%|██████████| 50/50 [00:17<00:00,  2.91it/s, episode_return=200, return=-227.200]\n",
      "Iteration 4: 100%|██████████| 50/50 [00:11<00:00,  4.21it/s, episode_return=250, return=-177.300]\n",
      "Iteration 5: 100%|██████████| 50/50 [00:24<00:00,  2.06it/s, episode_return=300, return=-500.000]\n",
      "Iteration 6: 100%|██████████| 50/50 [00:33<00:00,  1.51it/s, episode_return=350, return=-500.000]\n",
      "Iteration 7: 100%|██████████| 50/50 [00:32<00:00,  1.52it/s, episode_return=400, return=-500.000]\n",
      "Iteration 8: 100%|██████████| 50/50 [00:32<00:00,  1.53it/s, episode_return=450, return=-500.000]\n",
      "Iteration 9: 100%|██████████| 50/50 [00:32<00:00,  1.54it/s, episode_return=500, return=-500.000]\n"
     ]
    },
    {
     "data": {
      "application/vnd.jupyter.widget-view+json": {
       "model_id": "73b3d4148a45444f835ad67c91bcf449",
       "version_major": 2,
       "version_minor": 0
      },
      "text/plain": [
       "VBox(children=(Label(value='0.001 MB of 0.001 MB uploaded\\r'), FloatProgress(value=1.0, max=1.0)))"
      ]
     },
     "metadata": {},
     "output_type": "display_data"
    },
    {
     "data": {
      "text/html": [
       "<style>\n",
       "    table.wandb td:nth-child(1) { padding: 0 10px; text-align: left ; width: auto;} td:nth-child(2) {text-align: left ; width: 100%}\n",
       "    .wandb-row { display: flex; flex-direction: row; flex-wrap: wrap; justify-content: flex-start; width: 100% }\n",
       "    .wandb-col { display: flex; flex-direction: column; flex-basis: 100%; flex: 1; padding: 10px; }\n",
       "    </style>\n",
       "<div class=\"wandb-row\"><div class=\"wandb-col\"><h3>Run history:</h3><br/><table class=\"wandb\"><tr><td>regret</td><td>▁</td></tr></table><br/></div><div class=\"wandb-col\"><h3>Run summary:</h3><br/><table class=\"wandb\"><tr><td>regret</td><td>162788.52414</td></tr></table><br/></div></div>"
      ],
      "text/plain": [
       "<IPython.core.display.HTML object>"
      ]
     },
     "metadata": {},
     "output_type": "display_data"
    },
    {
     "data": {
      "text/html": [
       " View run <strong style=\"color:#cdcd00\">balmy-sweep-72</strong> at: <a href='https://wandb.ai/rl_shobhith/uncategorized/runs/jx6wk0so/workspace' target=\"_blank\">https://wandb.ai/rl_shobhith/uncategorized/runs/jx6wk0so/workspace</a><br/>Synced 5 W&B file(s), 0 media file(s), 0 artifact file(s) and 0 other file(s)"
      ],
      "text/plain": [
       "<IPython.core.display.HTML object>"
      ]
     },
     "metadata": {},
     "output_type": "display_data"
    },
    {
     "data": {
      "text/html": [
       "Find logs at: <code>.\\wandb\\run-20240402_050111-jx6wk0so\\logs</code>"
      ],
      "text/plain": [
       "<IPython.core.display.HTML object>"
      ]
     },
     "metadata": {},
     "output_type": "display_data"
    },
    {
     "name": "stderr",
     "output_type": "stream",
     "text": [
      "\u001b[34m\u001b[1mwandb\u001b[0m: Agent Starting Run: fbkb40ku with config:\n",
      "\u001b[34m\u001b[1mwandb\u001b[0m: \thidden_dim: 256\n",
      "\u001b[34m\u001b[1mwandb\u001b[0m: \tlearning_rate: 0.0005252569024944184\n",
      "Failed to detect the name of this notebook, you can set it manually with the WANDB_NOTEBOOK_NAME environment variable to enable code saving.\n",
      "\u001b[34m\u001b[1mwandb\u001b[0m: \u001b[33mWARNING\u001b[0m Ignored wandb.init() arg project when running a sweep.\n"
     ]
    },
    {
     "data": {
      "text/html": [
       "Tracking run with wandb version 0.16.5"
      ],
      "text/plain": [
       "<IPython.core.display.HTML object>"
      ]
     },
     "metadata": {},
     "output_type": "display_data"
    },
    {
     "data": {
      "text/html": [
       "Run data is saved locally in <code>c:\\Users\\Shobhith Vadlamudi\\AppData\\Local\\Programs\\Microsoft VS Code\\wandb\\run-20240402_050510-fbkb40ku</code>"
      ],
      "text/plain": [
       "<IPython.core.display.HTML object>"
      ]
     },
     "metadata": {},
     "output_type": "display_data"
    },
    {
     "data": {
      "text/html": [
       "Syncing run <strong><a href='https://wandb.ai/rl_shobhith/uncategorized/runs/fbkb40ku/workspace' target=\"_blank\">genial-sweep-73</a></strong> to <a href='https://wandb.ai/rl_shobhith/uncategorized' target=\"_blank\">Weights & Biases</a> (<a href='https://wandb.me/run' target=\"_blank\">docs</a>)<br/>Sweep page: <a href='https://wandb.ai/rl_shobhith/uncategorized/sweeps/yivd2k4v' target=\"_blank\">https://wandb.ai/rl_shobhith/uncategorized/sweeps/yivd2k4v</a>"
      ],
      "text/plain": [
       "<IPython.core.display.HTML object>"
      ]
     },
     "metadata": {},
     "output_type": "display_data"
    },
    {
     "data": {
      "text/html": [
       " View project at <a href='https://wandb.ai/rl_shobhith/uncategorized' target=\"_blank\">https://wandb.ai/rl_shobhith/uncategorized</a>"
      ],
      "text/plain": [
       "<IPython.core.display.HTML object>"
      ]
     },
     "metadata": {},
     "output_type": "display_data"
    },
    {
     "data": {
      "text/html": [
       " View sweep at <a href='https://wandb.ai/rl_shobhith/uncategorized/sweeps/yivd2k4v' target=\"_blank\">https://wandb.ai/rl_shobhith/uncategorized/sweeps/yivd2k4v</a>"
      ],
      "text/plain": [
       "<IPython.core.display.HTML object>"
      ]
     },
     "metadata": {},
     "output_type": "display_data"
    },
    {
     "data": {
      "text/html": [
       " View run at <a href='https://wandb.ai/rl_shobhith/uncategorized/runs/fbkb40ku/workspace' target=\"_blank\">https://wandb.ai/rl_shobhith/uncategorized/runs/fbkb40ku/workspace</a>"
      ],
      "text/plain": [
       "<IPython.core.display.HTML object>"
      ]
     },
     "metadata": {},
     "output_type": "display_data"
    },
    {
     "name": "stderr",
     "output_type": "stream",
     "text": [
      "Iteration 0: 100%|██████████| 50/50 [00:21<00:00,  2.29it/s, episode_return=50, return=-259.200]\n",
      "Iteration 1: 100%|██████████| 50/50 [00:16<00:00,  3.06it/s, episode_return=100, return=-198.900]\n",
      "Iteration 2: 100%|██████████| 50/50 [00:13<00:00,  3.58it/s, episode_return=150, return=-169.500]\n",
      "Iteration 3: 100%|██████████| 50/50 [00:13<00:00,  3.83it/s, episode_return=200, return=-133.700]\n",
      "Iteration 4: 100%|██████████| 50/50 [00:11<00:00,  4.31it/s, episode_return=250, return=-138.300]\n",
      "Iteration 5: 100%|██████████| 50/50 [00:10<00:00,  4.56it/s, episode_return=300, return=-125.900]\n",
      "Iteration 6: 100%|██████████| 50/50 [00:13<00:00,  3.76it/s, episode_return=350, return=-193.300]\n",
      "Iteration 7: 100%|██████████| 50/50 [00:13<00:00,  3.61it/s, episode_return=400, return=-171.700]\n",
      "Iteration 8: 100%|██████████| 50/50 [00:13<00:00,  3.80it/s, episode_return=450, return=-160.200]\n",
      "Iteration 9: 100%|██████████| 50/50 [00:11<00:00,  4.25it/s, episode_return=500, return=-152.000]\n"
     ]
    },
    {
     "data": {
      "application/vnd.jupyter.widget-view+json": {
       "model_id": "d3f920db1e60407f8ad9ea444d84a3fc",
       "version_major": 2,
       "version_minor": 0
      },
      "text/plain": [
       "VBox(children=(Label(value='0.001 MB of 0.001 MB uploaded\\r'), FloatProgress(value=1.0, max=1.0)))"
      ]
     },
     "metadata": {},
     "output_type": "display_data"
    },
    {
     "data": {
      "text/html": [
       "<style>\n",
       "    table.wandb td:nth-child(1) { padding: 0 10px; text-align: left ; width: auto;} td:nth-child(2) {text-align: left ; width: 100%}\n",
       "    .wandb-row { display: flex; flex-direction: row; flex-wrap: wrap; justify-content: flex-start; width: 100% }\n",
       "    .wandb-col { display: flex; flex-direction: column; flex-basis: 100%; flex: 1; padding: 10px; }\n",
       "    </style>\n",
       "<div class=\"wandb-row\"><div class=\"wandb-col\"><h3>Run history:</h3><br/><table class=\"wandb\"><tr><td>regret</td><td>▁</td></tr></table><br/></div><div class=\"wandb-col\"><h3>Run summary:</h3><br/><table class=\"wandb\"><tr><td>regret</td><td>95162.7828</td></tr></table><br/></div></div>"
      ],
      "text/plain": [
       "<IPython.core.display.HTML object>"
      ]
     },
     "metadata": {},
     "output_type": "display_data"
    },
    {
     "data": {
      "text/html": [
       " View run <strong style=\"color:#cdcd00\">genial-sweep-73</strong> at: <a href='https://wandb.ai/rl_shobhith/uncategorized/runs/fbkb40ku/workspace' target=\"_blank\">https://wandb.ai/rl_shobhith/uncategorized/runs/fbkb40ku/workspace</a><br/>Synced 5 W&B file(s), 0 media file(s), 0 artifact file(s) and 0 other file(s)"
      ],
      "text/plain": [
       "<IPython.core.display.HTML object>"
      ]
     },
     "metadata": {},
     "output_type": "display_data"
    },
    {
     "data": {
      "text/html": [
       "Find logs at: <code>.\\wandb\\run-20240402_050510-fbkb40ku\\logs</code>"
      ],
      "text/plain": [
       "<IPython.core.display.HTML object>"
      ]
     },
     "metadata": {},
     "output_type": "display_data"
    },
    {
     "name": "stderr",
     "output_type": "stream",
     "text": [
      "\u001b[34m\u001b[1mwandb\u001b[0m: Agent Starting Run: y07e8mcy with config:\n",
      "\u001b[34m\u001b[1mwandb\u001b[0m: \thidden_dim: 128\n",
      "\u001b[34m\u001b[1mwandb\u001b[0m: \tlearning_rate: 0.006228690989681561\n",
      "Failed to detect the name of this notebook, you can set it manually with the WANDB_NOTEBOOK_NAME environment variable to enable code saving.\n",
      "\u001b[34m\u001b[1mwandb\u001b[0m: \u001b[33mWARNING\u001b[0m Ignored wandb.init() arg project when running a sweep.\n"
     ]
    },
    {
     "data": {
      "text/html": [
       "Tracking run with wandb version 0.16.5"
      ],
      "text/plain": [
       "<IPython.core.display.HTML object>"
      ]
     },
     "metadata": {},
     "output_type": "display_data"
    },
    {
     "data": {
      "text/html": [
       "Run data is saved locally in <code>c:\\Users\\Shobhith Vadlamudi\\AppData\\Local\\Programs\\Microsoft VS Code\\wandb\\run-20240402_050742-y07e8mcy</code>"
      ],
      "text/plain": [
       "<IPython.core.display.HTML object>"
      ]
     },
     "metadata": {},
     "output_type": "display_data"
    },
    {
     "data": {
      "text/html": [
       "Syncing run <strong><a href='https://wandb.ai/rl_shobhith/uncategorized/runs/y07e8mcy/workspace' target=\"_blank\">misty-sweep-74</a></strong> to <a href='https://wandb.ai/rl_shobhith/uncategorized' target=\"_blank\">Weights & Biases</a> (<a href='https://wandb.me/run' target=\"_blank\">docs</a>)<br/>Sweep page: <a href='https://wandb.ai/rl_shobhith/uncategorized/sweeps/yivd2k4v' target=\"_blank\">https://wandb.ai/rl_shobhith/uncategorized/sweeps/yivd2k4v</a>"
      ],
      "text/plain": [
       "<IPython.core.display.HTML object>"
      ]
     },
     "metadata": {},
     "output_type": "display_data"
    },
    {
     "data": {
      "text/html": [
       " View project at <a href='https://wandb.ai/rl_shobhith/uncategorized' target=\"_blank\">https://wandb.ai/rl_shobhith/uncategorized</a>"
      ],
      "text/plain": [
       "<IPython.core.display.HTML object>"
      ]
     },
     "metadata": {},
     "output_type": "display_data"
    },
    {
     "data": {
      "text/html": [
       " View sweep at <a href='https://wandb.ai/rl_shobhith/uncategorized/sweeps/yivd2k4v' target=\"_blank\">https://wandb.ai/rl_shobhith/uncategorized/sweeps/yivd2k4v</a>"
      ],
      "text/plain": [
       "<IPython.core.display.HTML object>"
      ]
     },
     "metadata": {},
     "output_type": "display_data"
    },
    {
     "data": {
      "text/html": [
       " View run at <a href='https://wandb.ai/rl_shobhith/uncategorized/runs/y07e8mcy/workspace' target=\"_blank\">https://wandb.ai/rl_shobhith/uncategorized/runs/y07e8mcy/workspace</a>"
      ],
      "text/plain": [
       "<IPython.core.display.HTML object>"
      ]
     },
     "metadata": {},
     "output_type": "display_data"
    },
    {
     "name": "stderr",
     "output_type": "stream",
     "text": [
      "Iteration 0: 100%|██████████| 50/50 [00:34<00:00,  1.44it/s, episode_return=50, return=-481.300]\n",
      "Iteration 1: 100%|██████████| 50/50 [00:38<00:00,  1.30it/s, episode_return=100, return=-500.000]\n",
      "Iteration 2: 100%|██████████| 50/50 [00:36<00:00,  1.38it/s, episode_return=150, return=-500.000]\n",
      "Iteration 3: 100%|██████████| 50/50 [00:37<00:00,  1.32it/s, episode_return=200, return=-500.000]\n",
      "Iteration 4: 100%|██████████| 50/50 [00:35<00:00,  1.43it/s, episode_return=250, return=-500.000]\n",
      "Iteration 5: 100%|██████████| 50/50 [00:36<00:00,  1.35it/s, episode_return=300, return=-500.000]\n",
      "Iteration 6: 100%|██████████| 50/50 [00:36<00:00,  1.36it/s, episode_return=350, return=-500.000]\n",
      "Iteration 7: 100%|██████████| 50/50 [00:33<00:00,  1.49it/s, episode_return=400, return=-500.000]\n",
      "Iteration 8: 100%|██████████| 50/50 [00:33<00:00,  1.48it/s, episode_return=450, return=-500.000]\n",
      "Iteration 9: 100%|██████████| 50/50 [00:33<00:00,  1.50it/s, episode_return=500, return=-500.000]\n"
     ]
    },
    {
     "data": {
      "application/vnd.jupyter.widget-view+json": {
       "model_id": "96e37786af4d466b90d35cd73562f051",
       "version_major": 2,
       "version_minor": 0
      },
      "text/plain": [
       "VBox(children=(Label(value='0.001 MB of 0.001 MB uploaded\\r'), FloatProgress(value=1.0, max=1.0)))"
      ]
     },
     "metadata": {},
     "output_type": "display_data"
    },
    {
     "data": {
      "text/html": [
       "<style>\n",
       "    table.wandb td:nth-child(1) { padding: 0 10px; text-align: left ; width: auto;} td:nth-child(2) {text-align: left ; width: 100%}\n",
       "    .wandb-row { display: flex; flex-direction: row; flex-wrap: wrap; justify-content: flex-start; width: 100% }\n",
       "    .wandb-col { display: flex; flex-direction: column; flex-basis: 100%; flex: 1; padding: 10px; }\n",
       "    </style>\n",
       "<div class=\"wandb-row\"><div class=\"wandb-col\"><h3>Run history:</h3><br/><table class=\"wandb\"><tr><td>regret</td><td>▁</td></tr></table><br/></div><div class=\"wandb-col\"><h3>Run summary:</h3><br/><table class=\"wandb\"><tr><td>regret</td><td>247853.1017</td></tr></table><br/></div></div>"
      ],
      "text/plain": [
       "<IPython.core.display.HTML object>"
      ]
     },
     "metadata": {},
     "output_type": "display_data"
    },
    {
     "data": {
      "text/html": [
       " View run <strong style=\"color:#cdcd00\">misty-sweep-74</strong> at: <a href='https://wandb.ai/rl_shobhith/uncategorized/runs/y07e8mcy/workspace' target=\"_blank\">https://wandb.ai/rl_shobhith/uncategorized/runs/y07e8mcy/workspace</a><br/>Synced 5 W&B file(s), 0 media file(s), 0 artifact file(s) and 0 other file(s)"
      ],
      "text/plain": [
       "<IPython.core.display.HTML object>"
      ]
     },
     "metadata": {},
     "output_type": "display_data"
    },
    {
     "data": {
      "text/html": [
       "Find logs at: <code>.\\wandb\\run-20240402_050742-y07e8mcy\\logs</code>"
      ],
      "text/plain": [
       "<IPython.core.display.HTML object>"
      ]
     },
     "metadata": {},
     "output_type": "display_data"
    },
    {
     "name": "stderr",
     "output_type": "stream",
     "text": [
      "\u001b[34m\u001b[1mwandb\u001b[0m: Sweep Agent: Waiting for job.\n",
      "\u001b[34m\u001b[1mwandb\u001b[0m: Job received.\n",
      "\u001b[34m\u001b[1mwandb\u001b[0m: Agent Starting Run: nor79rau with config:\n",
      "\u001b[34m\u001b[1mwandb\u001b[0m: \thidden_dim: 128\n",
      "\u001b[34m\u001b[1mwandb\u001b[0m: \tlearning_rate: 0.0017055618270306258\n",
      "Failed to detect the name of this notebook, you can set it manually with the WANDB_NOTEBOOK_NAME environment variable to enable code saving.\n",
      "\u001b[34m\u001b[1mwandb\u001b[0m: \u001b[33mWARNING\u001b[0m Ignored wandb.init() arg project when running a sweep.\n"
     ]
    },
    {
     "data": {
      "text/html": [
       "Tracking run with wandb version 0.16.5"
      ],
      "text/plain": [
       "<IPython.core.display.HTML object>"
      ]
     },
     "metadata": {},
     "output_type": "display_data"
    },
    {
     "data": {
      "text/html": [
       "Run data is saved locally in <code>c:\\Users\\Shobhith Vadlamudi\\AppData\\Local\\Programs\\Microsoft VS Code\\wandb\\run-20240402_051402-nor79rau</code>"
      ],
      "text/plain": [
       "<IPython.core.display.HTML object>"
      ]
     },
     "metadata": {},
     "output_type": "display_data"
    },
    {
     "data": {
      "text/html": [
       "Syncing run <strong><a href='https://wandb.ai/rl_shobhith/uncategorized/runs/nor79rau/workspace' target=\"_blank\">sandy-sweep-75</a></strong> to <a href='https://wandb.ai/rl_shobhith/uncategorized' target=\"_blank\">Weights & Biases</a> (<a href='https://wandb.me/run' target=\"_blank\">docs</a>)<br/>Sweep page: <a href='https://wandb.ai/rl_shobhith/uncategorized/sweeps/yivd2k4v' target=\"_blank\">https://wandb.ai/rl_shobhith/uncategorized/sweeps/yivd2k4v</a>"
      ],
      "text/plain": [
       "<IPython.core.display.HTML object>"
      ]
     },
     "metadata": {},
     "output_type": "display_data"
    },
    {
     "data": {
      "text/html": [
       " View project at <a href='https://wandb.ai/rl_shobhith/uncategorized' target=\"_blank\">https://wandb.ai/rl_shobhith/uncategorized</a>"
      ],
      "text/plain": [
       "<IPython.core.display.HTML object>"
      ]
     },
     "metadata": {},
     "output_type": "display_data"
    },
    {
     "data": {
      "text/html": [
       " View sweep at <a href='https://wandb.ai/rl_shobhith/uncategorized/sweeps/yivd2k4v' target=\"_blank\">https://wandb.ai/rl_shobhith/uncategorized/sweeps/yivd2k4v</a>"
      ],
      "text/plain": [
       "<IPython.core.display.HTML object>"
      ]
     },
     "metadata": {},
     "output_type": "display_data"
    },
    {
     "data": {
      "text/html": [
       " View run at <a href='https://wandb.ai/rl_shobhith/uncategorized/runs/nor79rau/workspace' target=\"_blank\">https://wandb.ai/rl_shobhith/uncategorized/runs/nor79rau/workspace</a>"
      ],
      "text/plain": [
       "<IPython.core.display.HTML object>"
      ]
     },
     "metadata": {},
     "output_type": "display_data"
    },
    {
     "name": "stderr",
     "output_type": "stream",
     "text": [
      "Iteration 0: 100%|██████████| 50/50 [00:25<00:00,  1.97it/s, episode_return=50, return=-258.900]\n",
      "Iteration 1: 100%|██████████| 50/50 [00:11<00:00,  4.19it/s, episode_return=100, return=-168.000]\n",
      "Iteration 2: 100%|██████████| 50/50 [00:09<00:00,  5.34it/s, episode_return=150, return=-130.400]\n",
      "Iteration 3: 100%|██████████| 50/50 [00:08<00:00,  5.62it/s, episode_return=200, return=-144.300]\n",
      "Iteration 4: 100%|██████████| 50/50 [00:08<00:00,  5.56it/s, episode_return=250, return=-106.600]\n",
      "Iteration 5: 100%|██████████| 50/50 [00:07<00:00,  6.61it/s, episode_return=300, return=-112.800]\n",
      "Iteration 6: 100%|██████████| 50/50 [00:07<00:00,  6.33it/s, episode_return=350, return=-109.600]\n",
      "Iteration 7: 100%|██████████| 50/50 [00:09<00:00,  5.45it/s, episode_return=400, return=-125.600]\n",
      "Iteration 8: 100%|██████████| 50/50 [00:08<00:00,  6.08it/s, episode_return=450, return=-104.100]\n",
      "Iteration 9: 100%|██████████| 50/50 [00:08<00:00,  5.91it/s, episode_return=500, return=-137.500]\n"
     ]
    },
    {
     "data": {
      "application/vnd.jupyter.widget-view+json": {
       "model_id": "7cf169c0eef447b98ed27bf6864b1c60",
       "version_major": 2,
       "version_minor": 0
      },
      "text/plain": [
       "VBox(children=(Label(value='0.001 MB of 0.001 MB uploaded\\r'), FloatProgress(value=1.0, max=1.0)))"
      ]
     },
     "metadata": {},
     "output_type": "display_data"
    },
    {
     "data": {
      "text/html": [
       "<style>\n",
       "    table.wandb td:nth-child(1) { padding: 0 10px; text-align: left ; width: auto;} td:nth-child(2) {text-align: left ; width: 100%}\n",
       "    .wandb-row { display: flex; flex-direction: row; flex-wrap: wrap; justify-content: flex-start; width: 100% }\n",
       "    .wandb-col { display: flex; flex-direction: column; flex-basis: 100%; flex: 1; padding: 10px; }\n",
       "    </style>\n",
       "<div class=\"wandb-row\"><div class=\"wandb-col\"><h3>Run history:</h3><br/><table class=\"wandb\"><tr><td>regret</td><td>▁</td></tr></table><br/></div><div class=\"wandb-col\"><h3>Run summary:</h3><br/><table class=\"wandb\"><tr><td>regret</td><td>92018.24004</td></tr></table><br/></div></div>"
      ],
      "text/plain": [
       "<IPython.core.display.HTML object>"
      ]
     },
     "metadata": {},
     "output_type": "display_data"
    },
    {
     "data": {
      "text/html": [
       " View run <strong style=\"color:#cdcd00\">sandy-sweep-75</strong> at: <a href='https://wandb.ai/rl_shobhith/uncategorized/runs/nor79rau/workspace' target=\"_blank\">https://wandb.ai/rl_shobhith/uncategorized/runs/nor79rau/workspace</a><br/>Synced 5 W&B file(s), 0 media file(s), 0 artifact file(s) and 0 other file(s)"
      ],
      "text/plain": [
       "<IPython.core.display.HTML object>"
      ]
     },
     "metadata": {},
     "output_type": "display_data"
    },
    {
     "data": {
      "text/html": [
       "Find logs at: <code>.\\wandb\\run-20240402_051402-nor79rau\\logs</code>"
      ],
      "text/plain": [
       "<IPython.core.display.HTML object>"
      ]
     },
     "metadata": {},
     "output_type": "display_data"
    },
    {
     "name": "stderr",
     "output_type": "stream",
     "text": [
      "\u001b[34m\u001b[1mwandb\u001b[0m: Agent Starting Run: cyaq07kk with config:\n",
      "\u001b[34m\u001b[1mwandb\u001b[0m: \thidden_dim: 256\n",
      "\u001b[34m\u001b[1mwandb\u001b[0m: \tlearning_rate: 0.005650796645328939\n",
      "Failed to detect the name of this notebook, you can set it manually with the WANDB_NOTEBOOK_NAME environment variable to enable code saving.\n",
      "\u001b[34m\u001b[1mwandb\u001b[0m: \u001b[33mWARNING\u001b[0m Ignored wandb.init() arg project when running a sweep.\n"
     ]
    },
    {
     "data": {
      "text/html": [
       "Tracking run with wandb version 0.16.5"
      ],
      "text/plain": [
       "<IPython.core.display.HTML object>"
      ]
     },
     "metadata": {},
     "output_type": "display_data"
    },
    {
     "data": {
      "text/html": [
       "Run data is saved locally in <code>c:\\Users\\Shobhith Vadlamudi\\AppData\\Local\\Programs\\Microsoft VS Code\\wandb\\run-20240402_051559-cyaq07kk</code>"
      ],
      "text/plain": [
       "<IPython.core.display.HTML object>"
      ]
     },
     "metadata": {},
     "output_type": "display_data"
    },
    {
     "data": {
      "text/html": [
       "Syncing run <strong><a href='https://wandb.ai/rl_shobhith/uncategorized/runs/cyaq07kk/workspace' target=\"_blank\">astral-sweep-76</a></strong> to <a href='https://wandb.ai/rl_shobhith/uncategorized' target=\"_blank\">Weights & Biases</a> (<a href='https://wandb.me/run' target=\"_blank\">docs</a>)<br/>Sweep page: <a href='https://wandb.ai/rl_shobhith/uncategorized/sweeps/yivd2k4v' target=\"_blank\">https://wandb.ai/rl_shobhith/uncategorized/sweeps/yivd2k4v</a>"
      ],
      "text/plain": [
       "<IPython.core.display.HTML object>"
      ]
     },
     "metadata": {},
     "output_type": "display_data"
    },
    {
     "data": {
      "text/html": [
       " View project at <a href='https://wandb.ai/rl_shobhith/uncategorized' target=\"_blank\">https://wandb.ai/rl_shobhith/uncategorized</a>"
      ],
      "text/plain": [
       "<IPython.core.display.HTML object>"
      ]
     },
     "metadata": {},
     "output_type": "display_data"
    },
    {
     "data": {
      "text/html": [
       " View sweep at <a href='https://wandb.ai/rl_shobhith/uncategorized/sweeps/yivd2k4v' target=\"_blank\">https://wandb.ai/rl_shobhith/uncategorized/sweeps/yivd2k4v</a>"
      ],
      "text/plain": [
       "<IPython.core.display.HTML object>"
      ]
     },
     "metadata": {},
     "output_type": "display_data"
    },
    {
     "data": {
      "text/html": [
       " View run at <a href='https://wandb.ai/rl_shobhith/uncategorized/runs/cyaq07kk/workspace' target=\"_blank\">https://wandb.ai/rl_shobhith/uncategorized/runs/cyaq07kk/workspace</a>"
      ],
      "text/plain": [
       "<IPython.core.display.HTML object>"
      ]
     },
     "metadata": {},
     "output_type": "display_data"
    },
    {
     "name": "stderr",
     "output_type": "stream",
     "text": [
      "Iteration 0: 100%|██████████| 50/50 [00:33<00:00,  1.50it/s, episode_return=50, return=-500.000]\n",
      "Iteration 1: 100%|██████████| 50/50 [00:35<00:00,  1.40it/s, episode_return=100, return=-500.000]\n",
      "Iteration 2: 100%|██████████| 50/50 [00:34<00:00,  1.45it/s, episode_return=150, return=-500.000]\n",
      "Iteration 3: 100%|██████████| 50/50 [00:35<00:00,  1.42it/s, episode_return=200, return=-485.900]\n",
      "Iteration 4: 100%|██████████| 50/50 [00:16<00:00,  2.97it/s, episode_return=250, return=-213.800]\n",
      "Iteration 5: 100%|██████████| 50/50 [00:14<00:00,  3.41it/s, episode_return=300, return=-163.200]\n",
      "Iteration 6: 100%|██████████| 50/50 [00:16<00:00,  2.94it/s, episode_return=350, return=-217.400]\n",
      "Iteration 7: 100%|██████████| 50/50 [00:14<00:00,  3.56it/s, episode_return=400, return=-170.100]\n",
      "Iteration 8: 100%|██████████| 50/50 [00:14<00:00,  3.34it/s, episode_return=450, return=-208.700]\n",
      "Iteration 9: 100%|██████████| 50/50 [00:15<00:00,  3.13it/s, episode_return=500, return=-227.900]\n"
     ]
    },
    {
     "data": {
      "application/vnd.jupyter.widget-view+json": {
       "model_id": "591a65b655b743938d3bfafd1857893f",
       "version_major": 2,
       "version_minor": 0
      },
      "text/plain": [
       "VBox(children=(Label(value='0.001 MB of 0.001 MB uploaded\\r'), FloatProgress(value=1.0, max=1.0)))"
      ]
     },
     "metadata": {},
     "output_type": "display_data"
    },
    {
     "data": {
      "text/html": [
       "<style>\n",
       "    table.wandb td:nth-child(1) { padding: 0 10px; text-align: left ; width: auto;} td:nth-child(2) {text-align: left ; width: 100%}\n",
       "    .wandb-row { display: flex; flex-direction: row; flex-wrap: wrap; justify-content: flex-start; width: 100% }\n",
       "    .wandb-col { display: flex; flex-direction: column; flex-basis: 100%; flex: 1; padding: 10px; }\n",
       "    </style>\n",
       "<div class=\"wandb-row\"><div class=\"wandb-col\"><h3>Run history:</h3><br/><table class=\"wandb\"><tr><td>regret</td><td>▁</td></tr></table><br/></div><div class=\"wandb-col\"><h3>Run summary:</h3><br/><table class=\"wandb\"><tr><td>regret</td><td>171249.41183</td></tr></table><br/></div></div>"
      ],
      "text/plain": [
       "<IPython.core.display.HTML object>"
      ]
     },
     "metadata": {},
     "output_type": "display_data"
    },
    {
     "data": {
      "text/html": [
       " View run <strong style=\"color:#cdcd00\">astral-sweep-76</strong> at: <a href='https://wandb.ai/rl_shobhith/uncategorized/runs/cyaq07kk/workspace' target=\"_blank\">https://wandb.ai/rl_shobhith/uncategorized/runs/cyaq07kk/workspace</a><br/>Synced 5 W&B file(s), 0 media file(s), 0 artifact file(s) and 0 other file(s)"
      ],
      "text/plain": [
       "<IPython.core.display.HTML object>"
      ]
     },
     "metadata": {},
     "output_type": "display_data"
    },
    {
     "data": {
      "text/html": [
       "Find logs at: <code>.\\wandb\\run-20240402_051559-cyaq07kk\\logs</code>"
      ],
      "text/plain": [
       "<IPython.core.display.HTML object>"
      ]
     },
     "metadata": {},
     "output_type": "display_data"
    },
    {
     "name": "stderr",
     "output_type": "stream",
     "text": [
      "\u001b[34m\u001b[1mwandb\u001b[0m: Agent Starting Run: jp2y65sk with config:\n",
      "\u001b[34m\u001b[1mwandb\u001b[0m: \thidden_dim: 128\n",
      "\u001b[34m\u001b[1mwandb\u001b[0m: \tlearning_rate: 0.0037270041563469062\n",
      "Failed to detect the name of this notebook, you can set it manually with the WANDB_NOTEBOOK_NAME environment variable to enable code saving.\n",
      "\u001b[34m\u001b[1mwandb\u001b[0m: \u001b[33mWARNING\u001b[0m Ignored wandb.init() arg project when running a sweep.\n"
     ]
    },
    {
     "data": {
      "application/vnd.jupyter.widget-view+json": {
       "model_id": "665b5936a77242a982da7629f10a2a67",
       "version_major": 2,
       "version_minor": 0
      },
      "text/plain": [
       "VBox(children=(Label(value='Waiting for wandb.init()...\\r'), FloatProgress(value=0.011288888888925108, max=1.0…"
      ]
     },
     "metadata": {},
     "output_type": "display_data"
    },
    {
     "data": {
      "text/html": [
       "Tracking run with wandb version 0.16.5"
      ],
      "text/plain": [
       "<IPython.core.display.HTML object>"
      ]
     },
     "metadata": {},
     "output_type": "display_data"
    },
    {
     "data": {
      "text/html": [
       "Run data is saved locally in <code>c:\\Users\\Shobhith Vadlamudi\\AppData\\Local\\Programs\\Microsoft VS Code\\wandb\\run-20240402_052007-jp2y65sk</code>"
      ],
      "text/plain": [
       "<IPython.core.display.HTML object>"
      ]
     },
     "metadata": {},
     "output_type": "display_data"
    },
    {
     "data": {
      "text/html": [
       "Syncing run <strong><a href='https://wandb.ai/rl_shobhith/uncategorized/runs/jp2y65sk/workspace' target=\"_blank\">wandering-sweep-77</a></strong> to <a href='https://wandb.ai/rl_shobhith/uncategorized' target=\"_blank\">Weights & Biases</a> (<a href='https://wandb.me/run' target=\"_blank\">docs</a>)<br/>Sweep page: <a href='https://wandb.ai/rl_shobhith/uncategorized/sweeps/yivd2k4v' target=\"_blank\">https://wandb.ai/rl_shobhith/uncategorized/sweeps/yivd2k4v</a>"
      ],
      "text/plain": [
       "<IPython.core.display.HTML object>"
      ]
     },
     "metadata": {},
     "output_type": "display_data"
    },
    {
     "data": {
      "text/html": [
       " View project at <a href='https://wandb.ai/rl_shobhith/uncategorized' target=\"_blank\">https://wandb.ai/rl_shobhith/uncategorized</a>"
      ],
      "text/plain": [
       "<IPython.core.display.HTML object>"
      ]
     },
     "metadata": {},
     "output_type": "display_data"
    },
    {
     "data": {
      "text/html": [
       " View sweep at <a href='https://wandb.ai/rl_shobhith/uncategorized/sweeps/yivd2k4v' target=\"_blank\">https://wandb.ai/rl_shobhith/uncategorized/sweeps/yivd2k4v</a>"
      ],
      "text/plain": [
       "<IPython.core.display.HTML object>"
      ]
     },
     "metadata": {},
     "output_type": "display_data"
    },
    {
     "data": {
      "text/html": [
       " View run at <a href='https://wandb.ai/rl_shobhith/uncategorized/runs/jp2y65sk/workspace' target=\"_blank\">https://wandb.ai/rl_shobhith/uncategorized/runs/jp2y65sk/workspace</a>"
      ],
      "text/plain": [
       "<IPython.core.display.HTML object>"
      ]
     },
     "metadata": {},
     "output_type": "display_data"
    },
    {
     "name": "stderr",
     "output_type": "stream",
     "text": [
      "Iteration 0: 100%|██████████| 50/50 [00:20<00:00,  2.48it/s, episode_return=50, return=-201.600]\n",
      "Iteration 1: 100%|██████████| 50/50 [00:29<00:00,  1.69it/s, episode_return=100, return=-500.000]\n",
      "Iteration 2: 100%|██████████| 50/50 [00:35<00:00,  1.40it/s, episode_return=150, return=-500.000]\n",
      "Iteration 3: 100%|██████████| 50/50 [00:35<00:00,  1.40it/s, episode_return=200, return=-500.000]\n",
      "Iteration 4: 100%|██████████| 50/50 [00:31<00:00,  1.57it/s, episode_return=250, return=-500.000]\n",
      "Iteration 5: 100%|██████████| 50/50 [00:36<00:00,  1.38it/s, episode_return=300, return=-500.000]\n",
      "Iteration 6: 100%|██████████| 50/50 [00:38<00:00,  1.29it/s, episode_return=350, return=-500.000]\n",
      "Iteration 7: 100%|██████████| 50/50 [00:29<00:00,  1.70it/s, episode_return=400, return=-500.000]\n",
      "Iteration 8: 100%|██████████| 50/50 [00:32<00:00,  1.52it/s, episode_return=450, return=-500.000]\n",
      "Iteration 9: 100%|██████████| 50/50 [00:32<00:00,  1.52it/s, episode_return=500, return=-500.000]\n"
     ]
    },
    {
     "data": {
      "application/vnd.jupyter.widget-view+json": {
       "model_id": "4c51dc8c31164c509ce2c25c2a153cf8",
       "version_major": 2,
       "version_minor": 0
      },
      "text/plain": [
       "VBox(children=(Label(value='0.001 MB of 0.001 MB uploaded\\r'), FloatProgress(value=1.0, max=1.0)))"
      ]
     },
     "metadata": {},
     "output_type": "display_data"
    },
    {
     "data": {
      "text/html": [
       "<style>\n",
       "    table.wandb td:nth-child(1) { padding: 0 10px; text-align: left ; width: auto;} td:nth-child(2) {text-align: left ; width: 100%}\n",
       "    .wandb-row { display: flex; flex-direction: row; flex-wrap: wrap; justify-content: flex-start; width: 100% }\n",
       "    .wandb-col { display: flex; flex-direction: column; flex-basis: 100%; flex: 1; padding: 10px; }\n",
       "    </style>\n",
       "<div class=\"wandb-row\"><div class=\"wandb-col\"><h3>Run history:</h3><br/><table class=\"wandb\"><tr><td>regret</td><td>▁</td></tr></table><br/></div><div class=\"wandb-col\"><h3>Run summary:</h3><br/><table class=\"wandb\"><tr><td>regret</td><td>226628.30528</td></tr></table><br/></div></div>"
      ],
      "text/plain": [
       "<IPython.core.display.HTML object>"
      ]
     },
     "metadata": {},
     "output_type": "display_data"
    },
    {
     "data": {
      "text/html": [
       " View run <strong style=\"color:#cdcd00\">wandering-sweep-77</strong> at: <a href='https://wandb.ai/rl_shobhith/uncategorized/runs/jp2y65sk/workspace' target=\"_blank\">https://wandb.ai/rl_shobhith/uncategorized/runs/jp2y65sk/workspace</a><br/>Synced 5 W&B file(s), 0 media file(s), 0 artifact file(s) and 0 other file(s)"
      ],
      "text/plain": [
       "<IPython.core.display.HTML object>"
      ]
     },
     "metadata": {},
     "output_type": "display_data"
    },
    {
     "data": {
      "text/html": [
       "Find logs at: <code>.\\wandb\\run-20240402_052007-jp2y65sk\\logs</code>"
      ],
      "text/plain": [
       "<IPython.core.display.HTML object>"
      ]
     },
     "metadata": {},
     "output_type": "display_data"
    },
    {
     "name": "stderr",
     "output_type": "stream",
     "text": [
      "\u001b[34m\u001b[1mwandb\u001b[0m: Agent Starting Run: kv35kve5 with config:\n",
      "\u001b[34m\u001b[1mwandb\u001b[0m: \thidden_dim: 128\n",
      "\u001b[34m\u001b[1mwandb\u001b[0m: \tlearning_rate: 0.000998591269745745\n",
      "Failed to detect the name of this notebook, you can set it manually with the WANDB_NOTEBOOK_NAME environment variable to enable code saving.\n",
      "\u001b[34m\u001b[1mwandb\u001b[0m: \u001b[33mWARNING\u001b[0m Ignored wandb.init() arg project when running a sweep.\n"
     ]
    },
    {
     "data": {
      "text/html": [
       "Tracking run with wandb version 0.16.5"
      ],
      "text/plain": [
       "<IPython.core.display.HTML object>"
      ]
     },
     "metadata": {},
     "output_type": "display_data"
    },
    {
     "data": {
      "text/html": [
       "Run data is saved locally in <code>c:\\Users\\Shobhith Vadlamudi\\AppData\\Local\\Programs\\Microsoft VS Code\\wandb\\run-20240402_052550-kv35kve5</code>"
      ],
      "text/plain": [
       "<IPython.core.display.HTML object>"
      ]
     },
     "metadata": {},
     "output_type": "display_data"
    },
    {
     "data": {
      "text/html": [
       "Syncing run <strong><a href='https://wandb.ai/rl_shobhith/uncategorized/runs/kv35kve5/workspace' target=\"_blank\">earnest-sweep-78</a></strong> to <a href='https://wandb.ai/rl_shobhith/uncategorized' target=\"_blank\">Weights & Biases</a> (<a href='https://wandb.me/run' target=\"_blank\">docs</a>)<br/>Sweep page: <a href='https://wandb.ai/rl_shobhith/uncategorized/sweeps/yivd2k4v' target=\"_blank\">https://wandb.ai/rl_shobhith/uncategorized/sweeps/yivd2k4v</a>"
      ],
      "text/plain": [
       "<IPython.core.display.HTML object>"
      ]
     },
     "metadata": {},
     "output_type": "display_data"
    },
    {
     "data": {
      "text/html": [
       " View project at <a href='https://wandb.ai/rl_shobhith/uncategorized' target=\"_blank\">https://wandb.ai/rl_shobhith/uncategorized</a>"
      ],
      "text/plain": [
       "<IPython.core.display.HTML object>"
      ]
     },
     "metadata": {},
     "output_type": "display_data"
    },
    {
     "data": {
      "text/html": [
       " View sweep at <a href='https://wandb.ai/rl_shobhith/uncategorized/sweeps/yivd2k4v' target=\"_blank\">https://wandb.ai/rl_shobhith/uncategorized/sweeps/yivd2k4v</a>"
      ],
      "text/plain": [
       "<IPython.core.display.HTML object>"
      ]
     },
     "metadata": {},
     "output_type": "display_data"
    },
    {
     "data": {
      "text/html": [
       " View run at <a href='https://wandb.ai/rl_shobhith/uncategorized/runs/kv35kve5/workspace' target=\"_blank\">https://wandb.ai/rl_shobhith/uncategorized/runs/kv35kve5/workspace</a>"
      ],
      "text/plain": [
       "<IPython.core.display.HTML object>"
      ]
     },
     "metadata": {},
     "output_type": "display_data"
    },
    {
     "name": "stderr",
     "output_type": "stream",
     "text": [
      "Iteration 0: 100%|██████████| 50/50 [00:32<00:00,  1.55it/s, episode_return=50, return=-500.000]\n",
      "Iteration 1: 100%|██████████| 50/50 [00:33<00:00,  1.50it/s, episode_return=100, return=-500.000]\n",
      "Iteration 2: 100%|██████████| 50/50 [00:32<00:00,  1.55it/s, episode_return=150, return=-500.000]\n",
      "Iteration 3: 100%|██████████| 50/50 [00:32<00:00,  1.54it/s, episode_return=200, return=-500.000]\n",
      "Iteration 4: 100%|██████████| 50/50 [00:32<00:00,  1.52it/s, episode_return=250, return=-500.000]\n",
      "Iteration 5: 100%|██████████| 50/50 [00:32<00:00,  1.55it/s, episode_return=300, return=-500.000]\n",
      "Iteration 6: 100%|██████████| 50/50 [00:32<00:00,  1.52it/s, episode_return=350, return=-500.000]\n",
      "Iteration 7: 100%|██████████| 50/50 [00:31<00:00,  1.60it/s, episode_return=400, return=-500.000]\n",
      "Iteration 8: 100%|██████████| 50/50 [00:36<00:00,  1.38it/s, episode_return=450, return=-500.000]\n",
      "Iteration 9: 100%|██████████| 50/50 [00:35<00:00,  1.41it/s, episode_return=500, return=-500.000]\n"
     ]
    },
    {
     "data": {
      "application/vnd.jupyter.widget-view+json": {
       "model_id": "6db1d106c5444e89a128cfb5a31e7aa5",
       "version_major": 2,
       "version_minor": 0
      },
      "text/plain": [
       "VBox(children=(Label(value='0.001 MB of 0.001 MB uploaded\\r'), FloatProgress(value=1.0, max=1.0)))"
      ]
     },
     "metadata": {},
     "output_type": "display_data"
    },
    {
     "data": {
      "text/html": [
       "<style>\n",
       "    table.wandb td:nth-child(1) { padding: 0 10px; text-align: left ; width: auto;} td:nth-child(2) {text-align: left ; width: 100%}\n",
       "    .wandb-row { display: flex; flex-direction: row; flex-wrap: wrap; justify-content: flex-start; width: 100% }\n",
       "    .wandb-col { display: flex; flex-direction: column; flex-basis: 100%; flex: 1; padding: 10px; }\n",
       "    </style>\n",
       "<div class=\"wandb-row\"><div class=\"wandb-col\"><h3>Run history:</h3><br/><table class=\"wandb\"><tr><td>regret</td><td>▁</td></tr></table><br/></div><div class=\"wandb-col\"><h3>Run summary:</h3><br/><table class=\"wandb\"><tr><td>regret</td><td>250000.0</td></tr></table><br/></div></div>"
      ],
      "text/plain": [
       "<IPython.core.display.HTML object>"
      ]
     },
     "metadata": {},
     "output_type": "display_data"
    },
    {
     "data": {
      "text/html": [
       " View run <strong style=\"color:#cdcd00\">earnest-sweep-78</strong> at: <a href='https://wandb.ai/rl_shobhith/uncategorized/runs/kv35kve5/workspace' target=\"_blank\">https://wandb.ai/rl_shobhith/uncategorized/runs/kv35kve5/workspace</a><br/>Synced 5 W&B file(s), 0 media file(s), 0 artifact file(s) and 0 other file(s)"
      ],
      "text/plain": [
       "<IPython.core.display.HTML object>"
      ]
     },
     "metadata": {},
     "output_type": "display_data"
    },
    {
     "data": {
      "text/html": [
       "Find logs at: <code>.\\wandb\\run-20240402_052550-kv35kve5\\logs</code>"
      ],
      "text/plain": [
       "<IPython.core.display.HTML object>"
      ]
     },
     "metadata": {},
     "output_type": "display_data"
    },
    {
     "name": "stderr",
     "output_type": "stream",
     "text": [
      "\u001b[34m\u001b[1mwandb\u001b[0m: Agent Starting Run: zls18zvn with config:\n",
      "\u001b[34m\u001b[1mwandb\u001b[0m: \thidden_dim: 64\n",
      "\u001b[34m\u001b[1mwandb\u001b[0m: \tlearning_rate: 0.009267136838663197\n",
      "Failed to detect the name of this notebook, you can set it manually with the WANDB_NOTEBOOK_NAME environment variable to enable code saving.\n",
      "\u001b[34m\u001b[1mwandb\u001b[0m: \u001b[33mWARNING\u001b[0m Ignored wandb.init() arg project when running a sweep.\n"
     ]
    },
    {
     "data": {
      "text/html": [
       "Tracking run with wandb version 0.16.5"
      ],
      "text/plain": [
       "<IPython.core.display.HTML object>"
      ]
     },
     "metadata": {},
     "output_type": "display_data"
    },
    {
     "data": {
      "text/html": [
       "Run data is saved locally in <code>c:\\Users\\Shobhith Vadlamudi\\AppData\\Local\\Programs\\Microsoft VS Code\\wandb\\run-20240402_053134-zls18zvn</code>"
      ],
      "text/plain": [
       "<IPython.core.display.HTML object>"
      ]
     },
     "metadata": {},
     "output_type": "display_data"
    },
    {
     "data": {
      "text/html": [
       "Syncing run <strong><a href='https://wandb.ai/rl_shobhith/uncategorized/runs/zls18zvn/workspace' target=\"_blank\">dandy-sweep-79</a></strong> to <a href='https://wandb.ai/rl_shobhith/uncategorized' target=\"_blank\">Weights & Biases</a> (<a href='https://wandb.me/run' target=\"_blank\">docs</a>)<br/>Sweep page: <a href='https://wandb.ai/rl_shobhith/uncategorized/sweeps/yivd2k4v' target=\"_blank\">https://wandb.ai/rl_shobhith/uncategorized/sweeps/yivd2k4v</a>"
      ],
      "text/plain": [
       "<IPython.core.display.HTML object>"
      ]
     },
     "metadata": {},
     "output_type": "display_data"
    },
    {
     "data": {
      "text/html": [
       " View project at <a href='https://wandb.ai/rl_shobhith/uncategorized' target=\"_blank\">https://wandb.ai/rl_shobhith/uncategorized</a>"
      ],
      "text/plain": [
       "<IPython.core.display.HTML object>"
      ]
     },
     "metadata": {},
     "output_type": "display_data"
    },
    {
     "data": {
      "text/html": [
       " View sweep at <a href='https://wandb.ai/rl_shobhith/uncategorized/sweeps/yivd2k4v' target=\"_blank\">https://wandb.ai/rl_shobhith/uncategorized/sweeps/yivd2k4v</a>"
      ],
      "text/plain": [
       "<IPython.core.display.HTML object>"
      ]
     },
     "metadata": {},
     "output_type": "display_data"
    },
    {
     "data": {
      "text/html": [
       " View run at <a href='https://wandb.ai/rl_shobhith/uncategorized/runs/zls18zvn/workspace' target=\"_blank\">https://wandb.ai/rl_shobhith/uncategorized/runs/zls18zvn/workspace</a>"
      ],
      "text/plain": [
       "<IPython.core.display.HTML object>"
      ]
     },
     "metadata": {},
     "output_type": "display_data"
    },
    {
     "name": "stderr",
     "output_type": "stream",
     "text": [
      "Iteration 0: 100%|██████████| 50/50 [00:32<00:00,  1.52it/s, episode_return=50, return=-500.000]\n",
      "Iteration 1: 100%|██████████| 50/50 [00:32<00:00,  1.54it/s, episode_return=100, return=-500.000]\n",
      "Iteration 2: 100%|██████████| 50/50 [00:32<00:00,  1.53it/s, episode_return=150, return=-500.000]\n",
      "Iteration 3: 100%|██████████| 50/50 [00:34<00:00,  1.46it/s, episode_return=200, return=-500.000]\n",
      "Iteration 4: 100%|██████████| 50/50 [00:31<00:00,  1.58it/s, episode_return=250, return=-500.000]\n",
      "Iteration 5: 100%|██████████| 50/50 [00:35<00:00,  1.41it/s, episode_return=300, return=-500.000]\n",
      "Iteration 6: 100%|██████████| 50/50 [00:24<00:00,  2.07it/s, episode_return=350, return=-285.700]\n",
      "Iteration 7: 100%|██████████| 50/50 [00:14<00:00,  3.34it/s, episode_return=400, return=-197.900]\n",
      "Iteration 8: 100%|██████████| 50/50 [00:13<00:00,  3.70it/s, episode_return=450, return=-157.300]\n",
      "Iteration 9: 100%|██████████| 50/50 [00:11<00:00,  4.17it/s, episode_return=500, return=-166.500]\n"
     ]
    },
    {
     "data": {
      "application/vnd.jupyter.widget-view+json": {
       "model_id": "d60068370d464d62a2056b45d529ba6c",
       "version_major": 2,
       "version_minor": 0
      },
      "text/plain": [
       "VBox(children=(Label(value='0.001 MB of 0.007 MB uploaded\\r'), FloatProgress(value=0.16769768692845616, max=1.…"
      ]
     },
     "metadata": {},
     "output_type": "display_data"
    },
    {
     "data": {
      "text/html": [
       "<style>\n",
       "    table.wandb td:nth-child(1) { padding: 0 10px; text-align: left ; width: auto;} td:nth-child(2) {text-align: left ; width: 100%}\n",
       "    .wandb-row { display: flex; flex-direction: row; flex-wrap: wrap; justify-content: flex-start; width: 100% }\n",
       "    .wandb-col { display: flex; flex-direction: column; flex-basis: 100%; flex: 1; padding: 10px; }\n",
       "    </style>\n",
       "<div class=\"wandb-row\"><div class=\"wandb-col\"><h3>Run history:</h3><br/><table class=\"wandb\"><tr><td>regret</td><td>▁</td></tr></table><br/></div><div class=\"wandb-col\"><h3>Run summary:</h3><br/><table class=\"wandb\"><tr><td>regret</td><td>211719.52475</td></tr></table><br/></div></div>"
      ],
      "text/plain": [
       "<IPython.core.display.HTML object>"
      ]
     },
     "metadata": {},
     "output_type": "display_data"
    },
    {
     "data": {
      "text/html": [
       " View run <strong style=\"color:#cdcd00\">dandy-sweep-79</strong> at: <a href='https://wandb.ai/rl_shobhith/uncategorized/runs/zls18zvn/workspace' target=\"_blank\">https://wandb.ai/rl_shobhith/uncategorized/runs/zls18zvn/workspace</a><br/>Synced 5 W&B file(s), 0 media file(s), 0 artifact file(s) and 0 other file(s)"
      ],
      "text/plain": [
       "<IPython.core.display.HTML object>"
      ]
     },
     "metadata": {},
     "output_type": "display_data"
    },
    {
     "data": {
      "text/html": [
       "Find logs at: <code>.\\wandb\\run-20240402_053134-zls18zvn\\logs</code>"
      ],
      "text/plain": [
       "<IPython.core.display.HTML object>"
      ]
     },
     "metadata": {},
     "output_type": "display_data"
    },
    {
     "name": "stderr",
     "output_type": "stream",
     "text": [
      "\u001b[34m\u001b[1mwandb\u001b[0m: Sweep Agent: Waiting for job.\n",
      "\u001b[34m\u001b[1mwandb\u001b[0m: Job received.\n",
      "\u001b[34m\u001b[1mwandb\u001b[0m: Agent Starting Run: vjizjtg7 with config:\n",
      "\u001b[34m\u001b[1mwandb\u001b[0m: \thidden_dim: 128\n",
      "\u001b[34m\u001b[1mwandb\u001b[0m: \tlearning_rate: 0.00700986505181529\n",
      "Failed to detect the name of this notebook, you can set it manually with the WANDB_NOTEBOOK_NAME environment variable to enable code saving.\n",
      "\u001b[34m\u001b[1mwandb\u001b[0m: \u001b[33mWARNING\u001b[0m Ignored wandb.init() arg project when running a sweep.\n"
     ]
    },
    {
     "data": {
      "text/html": [
       "Tracking run with wandb version 0.16.5"
      ],
      "text/plain": [
       "<IPython.core.display.HTML object>"
      ]
     },
     "metadata": {},
     "output_type": "display_data"
    },
    {
     "data": {
      "text/html": [
       "Run data is saved locally in <code>c:\\Users\\Shobhith Vadlamudi\\AppData\\Local\\Programs\\Microsoft VS Code\\wandb\\run-20240402_053619-vjizjtg7</code>"
      ],
      "text/plain": [
       "<IPython.core.display.HTML object>"
      ]
     },
     "metadata": {},
     "output_type": "display_data"
    },
    {
     "data": {
      "text/html": [
       "Syncing run <strong><a href='https://wandb.ai/rl_shobhith/uncategorized/runs/vjizjtg7/workspace' target=\"_blank\">ancient-sweep-80</a></strong> to <a href='https://wandb.ai/rl_shobhith/uncategorized' target=\"_blank\">Weights & Biases</a> (<a href='https://wandb.me/run' target=\"_blank\">docs</a>)<br/>Sweep page: <a href='https://wandb.ai/rl_shobhith/uncategorized/sweeps/yivd2k4v' target=\"_blank\">https://wandb.ai/rl_shobhith/uncategorized/sweeps/yivd2k4v</a>"
      ],
      "text/plain": [
       "<IPython.core.display.HTML object>"
      ]
     },
     "metadata": {},
     "output_type": "display_data"
    },
    {
     "data": {
      "text/html": [
       " View project at <a href='https://wandb.ai/rl_shobhith/uncategorized' target=\"_blank\">https://wandb.ai/rl_shobhith/uncategorized</a>"
      ],
      "text/plain": [
       "<IPython.core.display.HTML object>"
      ]
     },
     "metadata": {},
     "output_type": "display_data"
    },
    {
     "data": {
      "text/html": [
       " View sweep at <a href='https://wandb.ai/rl_shobhith/uncategorized/sweeps/yivd2k4v' target=\"_blank\">https://wandb.ai/rl_shobhith/uncategorized/sweeps/yivd2k4v</a>"
      ],
      "text/plain": [
       "<IPython.core.display.HTML object>"
      ]
     },
     "metadata": {},
     "output_type": "display_data"
    },
    {
     "data": {
      "text/html": [
       " View run at <a href='https://wandb.ai/rl_shobhith/uncategorized/runs/vjizjtg7/workspace' target=\"_blank\">https://wandb.ai/rl_shobhith/uncategorized/runs/vjizjtg7/workspace</a>"
      ],
      "text/plain": [
       "<IPython.core.display.HTML object>"
      ]
     },
     "metadata": {},
     "output_type": "display_data"
    },
    {
     "name": "stderr",
     "output_type": "stream",
     "text": [
      "Iteration 0: 100%|██████████| 50/50 [00:10<00:00,  4.97it/s, episode_return=50, return=-148.300]\n",
      "Iteration 1: 100%|██████████| 50/50 [00:17<00:00,  2.83it/s, episode_return=100, return=-440.900]\n",
      "Iteration 2: 100%|██████████| 50/50 [00:20<00:00,  2.38it/s, episode_return=150, return=-329.700]\n",
      "Iteration 3: 100%|██████████| 50/50 [00:22<00:00,  2.19it/s, episode_return=200, return=-500.000]\n",
      "Iteration 4: 100%|██████████| 50/50 [00:35<00:00,  1.42it/s, episode_return=250, return=-500.000]\n",
      "Iteration 5: 100%|██████████| 50/50 [00:35<00:00,  1.41it/s, episode_return=300, return=-500.000]\n",
      "Iteration 6: 100%|██████████| 50/50 [00:38<00:00,  1.31it/s, episode_return=350, return=-500.000]\n",
      "Iteration 7: 100%|██████████| 50/50 [00:34<00:00,  1.45it/s, episode_return=400, return=-500.000]\n",
      "Iteration 8: 100%|██████████| 50/50 [00:35<00:00,  1.42it/s, episode_return=450, return=-500.000]\n",
      "Iteration 9: 100%|██████████| 50/50 [00:35<00:00,  1.42it/s, episode_return=500, return=-500.000]\n"
     ]
    },
    {
     "data": {
      "application/vnd.jupyter.widget-view+json": {
       "model_id": "ba11c143a95d4eaab9e5850d3846b266",
       "version_major": 2,
       "version_minor": 0
      },
      "text/plain": [
       "VBox(children=(Label(value='0.001 MB of 0.001 MB uploaded\\r'), FloatProgress(value=1.0, max=1.0)))"
      ]
     },
     "metadata": {},
     "output_type": "display_data"
    },
    {
     "data": {
      "text/html": [
       "<style>\n",
       "    table.wandb td:nth-child(1) { padding: 0 10px; text-align: left ; width: auto;} td:nth-child(2) {text-align: left ; width: 100%}\n",
       "    .wandb-row { display: flex; flex-direction: row; flex-wrap: wrap; justify-content: flex-start; width: 100% }\n",
       "    .wandb-col { display: flex; flex-direction: column; flex-basis: 100%; flex: 1; padding: 10px; }\n",
       "    </style>\n",
       "<div class=\"wandb-row\"><div class=\"wandb-col\"><h3>Run history:</h3><br/><table class=\"wandb\"><tr><td>regret</td><td>▁</td></tr></table><br/></div><div class=\"wandb-col\"><h3>Run summary:</h3><br/><table class=\"wandb\"><tr><td>regret</td><td>184315.1365</td></tr></table><br/></div></div>"
      ],
      "text/plain": [
       "<IPython.core.display.HTML object>"
      ]
     },
     "metadata": {},
     "output_type": "display_data"
    },
    {
     "data": {
      "text/html": [
       " View run <strong style=\"color:#cdcd00\">ancient-sweep-80</strong> at: <a href='https://wandb.ai/rl_shobhith/uncategorized/runs/vjizjtg7/workspace' target=\"_blank\">https://wandb.ai/rl_shobhith/uncategorized/runs/vjizjtg7/workspace</a><br/>Synced 5 W&B file(s), 0 media file(s), 0 artifact file(s) and 0 other file(s)"
      ],
      "text/plain": [
       "<IPython.core.display.HTML object>"
      ]
     },
     "metadata": {},
     "output_type": "display_data"
    },
    {
     "data": {
      "text/html": [
       "Find logs at: <code>.\\wandb\\run-20240402_053619-vjizjtg7\\logs</code>"
      ],
      "text/plain": [
       "<IPython.core.display.HTML object>"
      ]
     },
     "metadata": {},
     "output_type": "display_data"
    },
    {
     "name": "stderr",
     "output_type": "stream",
     "text": [
      "\u001b[34m\u001b[1mwandb\u001b[0m: Agent Starting Run: pm3xp20y with config:\n",
      "\u001b[34m\u001b[1mwandb\u001b[0m: \thidden_dim: 128\n",
      "\u001b[34m\u001b[1mwandb\u001b[0m: \tlearning_rate: 0.0008588033760084197\n",
      "Failed to detect the name of this notebook, you can set it manually with the WANDB_NOTEBOOK_NAME environment variable to enable code saving.\n",
      "\u001b[34m\u001b[1mwandb\u001b[0m: \u001b[33mWARNING\u001b[0m Ignored wandb.init() arg project when running a sweep.\n"
     ]
    },
    {
     "data": {
      "text/html": [
       "Tracking run with wandb version 0.16.5"
      ],
      "text/plain": [
       "<IPython.core.display.HTML object>"
      ]
     },
     "metadata": {},
     "output_type": "display_data"
    },
    {
     "data": {
      "text/html": [
       "Run data is saved locally in <code>c:\\Users\\Shobhith Vadlamudi\\AppData\\Local\\Programs\\Microsoft VS Code\\wandb\\run-20240402_054121-pm3xp20y</code>"
      ],
      "text/plain": [
       "<IPython.core.display.HTML object>"
      ]
     },
     "metadata": {},
     "output_type": "display_data"
    },
    {
     "data": {
      "text/html": [
       "Syncing run <strong><a href='https://wandb.ai/rl_shobhith/uncategorized/runs/pm3xp20y/workspace' target=\"_blank\">expert-sweep-81</a></strong> to <a href='https://wandb.ai/rl_shobhith/uncategorized' target=\"_blank\">Weights & Biases</a> (<a href='https://wandb.me/run' target=\"_blank\">docs</a>)<br/>Sweep page: <a href='https://wandb.ai/rl_shobhith/uncategorized/sweeps/yivd2k4v' target=\"_blank\">https://wandb.ai/rl_shobhith/uncategorized/sweeps/yivd2k4v</a>"
      ],
      "text/plain": [
       "<IPython.core.display.HTML object>"
      ]
     },
     "metadata": {},
     "output_type": "display_data"
    },
    {
     "data": {
      "text/html": [
       " View project at <a href='https://wandb.ai/rl_shobhith/uncategorized' target=\"_blank\">https://wandb.ai/rl_shobhith/uncategorized</a>"
      ],
      "text/plain": [
       "<IPython.core.display.HTML object>"
      ]
     },
     "metadata": {},
     "output_type": "display_data"
    },
    {
     "data": {
      "text/html": [
       " View sweep at <a href='https://wandb.ai/rl_shobhith/uncategorized/sweeps/yivd2k4v' target=\"_blank\">https://wandb.ai/rl_shobhith/uncategorized/sweeps/yivd2k4v</a>"
      ],
      "text/plain": [
       "<IPython.core.display.HTML object>"
      ]
     },
     "metadata": {},
     "output_type": "display_data"
    },
    {
     "data": {
      "text/html": [
       " View run at <a href='https://wandb.ai/rl_shobhith/uncategorized/runs/pm3xp20y/workspace' target=\"_blank\">https://wandb.ai/rl_shobhith/uncategorized/runs/pm3xp20y/workspace</a>"
      ],
      "text/plain": [
       "<IPython.core.display.HTML object>"
      ]
     },
     "metadata": {},
     "output_type": "display_data"
    },
    {
     "name": "stderr",
     "output_type": "stream",
     "text": [
      "Iteration 0: 100%|██████████| 50/50 [00:36<00:00,  1.38it/s, episode_return=50, return=-500.000]\n",
      "Iteration 1: 100%|██████████| 50/50 [00:34<00:00,  1.44it/s, episode_return=100, return=-485.600]\n",
      "Iteration 2: 100%|██████████| 50/50 [00:34<00:00,  1.43it/s, episode_return=150, return=-500.000]\n",
      "Iteration 3: 100%|██████████| 50/50 [00:35<00:00,  1.41it/s, episode_return=200, return=-500.000]\n",
      "Iteration 4: 100%|██████████| 50/50 [00:33<00:00,  1.48it/s, episode_return=250, return=-500.000]\n",
      "Iteration 5: 100%|██████████| 50/50 [00:31<00:00,  1.60it/s, episode_return=300, return=-366.000]\n",
      "Iteration 6: 100%|██████████| 50/50 [00:22<00:00,  2.20it/s, episode_return=350, return=-306.600]\n",
      "Iteration 7: 100%|██████████| 50/50 [00:19<00:00,  2.60it/s, episode_return=400, return=-244.000]\n",
      "Iteration 8: 100%|██████████| 50/50 [00:18<00:00,  2.74it/s, episode_return=450, return=-254.100]\n",
      "Iteration 9: 100%|██████████| 50/50 [00:16<00:00,  3.01it/s, episode_return=500, return=-211.800]\n"
     ]
    },
    {
     "data": {
      "application/vnd.jupyter.widget-view+json": {
       "model_id": "b872b8fffab2483a9440df47ac440ef5",
       "version_major": 2,
       "version_minor": 0
      },
      "text/plain": [
       "VBox(children=(Label(value='0.001 MB of 0.001 MB uploaded\\r'), FloatProgress(value=1.0, max=1.0)))"
      ]
     },
     "metadata": {},
     "output_type": "display_data"
    },
    {
     "data": {
      "text/html": [
       "<style>\n",
       "    table.wandb td:nth-child(1) { padding: 0 10px; text-align: left ; width: auto;} td:nth-child(2) {text-align: left ; width: 100%}\n",
       "    .wandb-row { display: flex; flex-direction: row; flex-wrap: wrap; justify-content: flex-start; width: 100% }\n",
       "    .wandb-col { display: flex; flex-direction: column; flex-basis: 100%; flex: 1; padding: 10px; }\n",
       "    </style>\n",
       "<div class=\"wandb-row\"><div class=\"wandb-col\"><h3>Run history:</h3><br/><table class=\"wandb\"><tr><td>regret</td><td>▁</td></tr></table><br/></div><div class=\"wandb-col\"><h3>Run summary:</h3><br/><table class=\"wandb\"><tr><td>regret</td><td>213013.95541</td></tr></table><br/></div></div>"
      ],
      "text/plain": [
       "<IPython.core.display.HTML object>"
      ]
     },
     "metadata": {},
     "output_type": "display_data"
    },
    {
     "data": {
      "text/html": [
       " View run <strong style=\"color:#cdcd00\">expert-sweep-81</strong> at: <a href='https://wandb.ai/rl_shobhith/uncategorized/runs/pm3xp20y/workspace' target=\"_blank\">https://wandb.ai/rl_shobhith/uncategorized/runs/pm3xp20y/workspace</a><br/>Synced 5 W&B file(s), 0 media file(s), 0 artifact file(s) and 0 other file(s)"
      ],
      "text/plain": [
       "<IPython.core.display.HTML object>"
      ]
     },
     "metadata": {},
     "output_type": "display_data"
    },
    {
     "data": {
      "text/html": [
       "Find logs at: <code>.\\wandb\\run-20240402_054121-pm3xp20y\\logs</code>"
      ],
      "text/plain": [
       "<IPython.core.display.HTML object>"
      ]
     },
     "metadata": {},
     "output_type": "display_data"
    },
    {
     "name": "stderr",
     "output_type": "stream",
     "text": [
      "\u001b[34m\u001b[1mwandb\u001b[0m: Sweep Agent: Waiting for job.\n",
      "\u001b[34m\u001b[1mwandb\u001b[0m: Job received.\n",
      "\u001b[34m\u001b[1mwandb\u001b[0m: Agent Starting Run: cb2jm26n with config:\n",
      "\u001b[34m\u001b[1mwandb\u001b[0m: \thidden_dim: 128\n",
      "\u001b[34m\u001b[1mwandb\u001b[0m: \tlearning_rate: 0.0007848919440091931\n",
      "Failed to detect the name of this notebook, you can set it manually with the WANDB_NOTEBOOK_NAME environment variable to enable code saving.\n",
      "\u001b[34m\u001b[1mwandb\u001b[0m: \u001b[33mWARNING\u001b[0m Ignored wandb.init() arg project when running a sweep.\n"
     ]
    },
    {
     "data": {
      "text/html": [
       "Tracking run with wandb version 0.16.5"
      ],
      "text/plain": [
       "<IPython.core.display.HTML object>"
      ]
     },
     "metadata": {},
     "output_type": "display_data"
    },
    {
     "data": {
      "text/html": [
       "Run data is saved locally in <code>c:\\Users\\Shobhith Vadlamudi\\AppData\\Local\\Programs\\Microsoft VS Code\\wandb\\run-20240402_054626-cb2jm26n</code>"
      ],
      "text/plain": [
       "<IPython.core.display.HTML object>"
      ]
     },
     "metadata": {},
     "output_type": "display_data"
    },
    {
     "data": {
      "text/html": [
       "Syncing run <strong><a href='https://wandb.ai/rl_shobhith/uncategorized/runs/cb2jm26n/workspace' target=\"_blank\">youthful-sweep-82</a></strong> to <a href='https://wandb.ai/rl_shobhith/uncategorized' target=\"_blank\">Weights & Biases</a> (<a href='https://wandb.me/run' target=\"_blank\">docs</a>)<br/>Sweep page: <a href='https://wandb.ai/rl_shobhith/uncategorized/sweeps/yivd2k4v' target=\"_blank\">https://wandb.ai/rl_shobhith/uncategorized/sweeps/yivd2k4v</a>"
      ],
      "text/plain": [
       "<IPython.core.display.HTML object>"
      ]
     },
     "metadata": {},
     "output_type": "display_data"
    },
    {
     "data": {
      "text/html": [
       " View project at <a href='https://wandb.ai/rl_shobhith/uncategorized' target=\"_blank\">https://wandb.ai/rl_shobhith/uncategorized</a>"
      ],
      "text/plain": [
       "<IPython.core.display.HTML object>"
      ]
     },
     "metadata": {},
     "output_type": "display_data"
    },
    {
     "data": {
      "text/html": [
       " View sweep at <a href='https://wandb.ai/rl_shobhith/uncategorized/sweeps/yivd2k4v' target=\"_blank\">https://wandb.ai/rl_shobhith/uncategorized/sweeps/yivd2k4v</a>"
      ],
      "text/plain": [
       "<IPython.core.display.HTML object>"
      ]
     },
     "metadata": {},
     "output_type": "display_data"
    },
    {
     "data": {
      "text/html": [
       " View run at <a href='https://wandb.ai/rl_shobhith/uncategorized/runs/cb2jm26n/workspace' target=\"_blank\">https://wandb.ai/rl_shobhith/uncategorized/runs/cb2jm26n/workspace</a>"
      ],
      "text/plain": [
       "<IPython.core.display.HTML object>"
      ]
     },
     "metadata": {},
     "output_type": "display_data"
    },
    {
     "name": "stderr",
     "output_type": "stream",
     "text": [
      "Iteration 0: 100%|██████████| 50/50 [00:24<00:00,  2.04it/s, episode_return=50, return=-359.000]\n",
      "Iteration 1: 100%|██████████| 50/50 [00:21<00:00,  2.29it/s, episode_return=100, return=-272.100]\n",
      "Iteration 2: 100%|██████████| 50/50 [00:16<00:00,  3.02it/s, episode_return=150, return=-208.800]\n",
      "Iteration 3: 100%|██████████| 50/50 [00:14<00:00,  3.44it/s, episode_return=200, return=-197.400]\n",
      "Iteration 4: 100%|██████████| 50/50 [00:12<00:00,  4.08it/s, episode_return=250, return=-134.300]\n",
      "Iteration 5: 100%|██████████| 50/50 [00:10<00:00,  4.93it/s, episode_return=300, return=-121.600]\n",
      "Iteration 6: 100%|██████████| 50/50 [00:09<00:00,  5.23it/s, episode_return=350, return=-125.200]\n",
      "Iteration 7: 100%|██████████| 50/50 [00:10<00:00,  4.66it/s, episode_return=400, return=-154.800]\n",
      "Iteration 8: 100%|██████████| 50/50 [00:10<00:00,  4.98it/s, episode_return=450, return=-113.900]\n",
      "Iteration 9: 100%|██████████| 50/50 [00:10<00:00,  4.72it/s, episode_return=500, return=-116.800]\n"
     ]
    },
    {
     "data": {
      "application/vnd.jupyter.widget-view+json": {
       "model_id": "0dde19d2b4564e8fac68c36d8267f17b",
       "version_major": 2,
       "version_minor": 0
      },
      "text/plain": [
       "VBox(children=(Label(value='0.001 MB of 0.007 MB uploaded\\r'), FloatProgress(value=0.16903890470380914, max=1.…"
      ]
     },
     "metadata": {},
     "output_type": "display_data"
    },
    {
     "data": {
      "text/html": [
       "<style>\n",
       "    table.wandb td:nth-child(1) { padding: 0 10px; text-align: left ; width: auto;} td:nth-child(2) {text-align: left ; width: 100%}\n",
       "    .wandb-row { display: flex; flex-direction: row; flex-wrap: wrap; justify-content: flex-start; width: 100% }\n",
       "    .wandb-col { display: flex; flex-direction: column; flex-basis: 100%; flex: 1; padding: 10px; }\n",
       "    </style>\n",
       "<div class=\"wandb-row\"><div class=\"wandb-col\"><h3>Run history:</h3><br/><table class=\"wandb\"><tr><td>regret</td><td>▁</td></tr></table><br/></div><div class=\"wandb-col\"><h3>Run summary:</h3><br/><table class=\"wandb\"><tr><td>regret</td><td>108953.6786</td></tr></table><br/></div></div>"
      ],
      "text/plain": [
       "<IPython.core.display.HTML object>"
      ]
     },
     "metadata": {},
     "output_type": "display_data"
    },
    {
     "data": {
      "text/html": [
       " View run <strong style=\"color:#cdcd00\">youthful-sweep-82</strong> at: <a href='https://wandb.ai/rl_shobhith/uncategorized/runs/cb2jm26n/workspace' target=\"_blank\">https://wandb.ai/rl_shobhith/uncategorized/runs/cb2jm26n/workspace</a><br/>Synced 5 W&B file(s), 0 media file(s), 0 artifact file(s) and 0 other file(s)"
      ],
      "text/plain": [
       "<IPython.core.display.HTML object>"
      ]
     },
     "metadata": {},
     "output_type": "display_data"
    },
    {
     "data": {
      "text/html": [
       "Find logs at: <code>.\\wandb\\run-20240402_054626-cb2jm26n\\logs</code>"
      ],
      "text/plain": [
       "<IPython.core.display.HTML object>"
      ]
     },
     "metadata": {},
     "output_type": "display_data"
    },
    {
     "name": "stderr",
     "output_type": "stream",
     "text": [
      "\u001b[34m\u001b[1mwandb\u001b[0m: Agent Starting Run: lbfy36f9 with config:\n",
      "\u001b[34m\u001b[1mwandb\u001b[0m: \thidden_dim: 64\n",
      "\u001b[34m\u001b[1mwandb\u001b[0m: \tlearning_rate: 0.002598979855056288\n",
      "Failed to detect the name of this notebook, you can set it manually with the WANDB_NOTEBOOK_NAME environment variable to enable code saving.\n",
      "\u001b[34m\u001b[1mwandb\u001b[0m: \u001b[33mWARNING\u001b[0m Ignored wandb.init() arg project when running a sweep.\n"
     ]
    },
    {
     "data": {
      "application/vnd.jupyter.widget-view+json": {
       "model_id": "a001b3ec2a9841bf8e0505f73096e864",
       "version_major": 2,
       "version_minor": 0
      },
      "text/plain": [
       "VBox(children=(Label(value='Waiting for wandb.init()...\\r'), FloatProgress(value=0.011277777777286247, max=1.0…"
      ]
     },
     "metadata": {},
     "output_type": "display_data"
    },
    {
     "data": {
      "text/html": [
       "Tracking run with wandb version 0.16.5"
      ],
      "text/plain": [
       "<IPython.core.display.HTML object>"
      ]
     },
     "metadata": {},
     "output_type": "display_data"
    },
    {
     "data": {
      "text/html": [
       "Run data is saved locally in <code>c:\\Users\\Shobhith Vadlamudi\\AppData\\Local\\Programs\\Microsoft VS Code\\wandb\\run-20240402_054901-lbfy36f9</code>"
      ],
      "text/plain": [
       "<IPython.core.display.HTML object>"
      ]
     },
     "metadata": {},
     "output_type": "display_data"
    },
    {
     "data": {
      "text/html": [
       "Syncing run <strong><a href='https://wandb.ai/rl_shobhith/uncategorized/runs/lbfy36f9/workspace' target=\"_blank\">absurd-sweep-83</a></strong> to <a href='https://wandb.ai/rl_shobhith/uncategorized' target=\"_blank\">Weights & Biases</a> (<a href='https://wandb.me/run' target=\"_blank\">docs</a>)<br/>Sweep page: <a href='https://wandb.ai/rl_shobhith/uncategorized/sweeps/yivd2k4v' target=\"_blank\">https://wandb.ai/rl_shobhith/uncategorized/sweeps/yivd2k4v</a>"
      ],
      "text/plain": [
       "<IPython.core.display.HTML object>"
      ]
     },
     "metadata": {},
     "output_type": "display_data"
    },
    {
     "data": {
      "text/html": [
       " View project at <a href='https://wandb.ai/rl_shobhith/uncategorized' target=\"_blank\">https://wandb.ai/rl_shobhith/uncategorized</a>"
      ],
      "text/plain": [
       "<IPython.core.display.HTML object>"
      ]
     },
     "metadata": {},
     "output_type": "display_data"
    },
    {
     "data": {
      "text/html": [
       " View sweep at <a href='https://wandb.ai/rl_shobhith/uncategorized/sweeps/yivd2k4v' target=\"_blank\">https://wandb.ai/rl_shobhith/uncategorized/sweeps/yivd2k4v</a>"
      ],
      "text/plain": [
       "<IPython.core.display.HTML object>"
      ]
     },
     "metadata": {},
     "output_type": "display_data"
    },
    {
     "data": {
      "text/html": [
       " View run at <a href='https://wandb.ai/rl_shobhith/uncategorized/runs/lbfy36f9/workspace' target=\"_blank\">https://wandb.ai/rl_shobhith/uncategorized/runs/lbfy36f9/workspace</a>"
      ],
      "text/plain": [
       "<IPython.core.display.HTML object>"
      ]
     },
     "metadata": {},
     "output_type": "display_data"
    },
    {
     "name": "stderr",
     "output_type": "stream",
     "text": [
      "Iteration 0: 100%|██████████| 50/50 [00:28<00:00,  1.75it/s, episode_return=50, return=-270.000]\n",
      "Iteration 1: 100%|██████████| 50/50 [00:14<00:00,  3.56it/s, episode_return=100, return=-196.700]\n",
      "Iteration 2: 100%|██████████| 50/50 [00:14<00:00,  3.51it/s, episode_return=150, return=-204.200]\n",
      "Iteration 3: 100%|██████████| 50/50 [00:14<00:00,  3.55it/s, episode_return=200, return=-217.100]\n",
      "Iteration 4: 100%|██████████| 50/50 [00:15<00:00,  3.13it/s, episode_return=250, return=-207.900]\n",
      "Iteration 5: 100%|██████████| 50/50 [00:12<00:00,  4.10it/s, episode_return=300, return=-170.300]\n",
      "Iteration 6: 100%|██████████| 50/50 [00:11<00:00,  4.32it/s, episode_return=350, return=-151.500]\n",
      "Iteration 7: 100%|██████████| 50/50 [00:10<00:00,  4.73it/s, episode_return=400, return=-140.200]\n",
      "Iteration 8: 100%|██████████| 50/50 [00:09<00:00,  5.27it/s, episode_return=450, return=-133.200]\n",
      "Iteration 9: 100%|██████████| 50/50 [00:06<00:00,  7.48it/s, episode_return=500, return=-110.000]\n"
     ]
    },
    {
     "data": {
      "application/vnd.jupyter.widget-view+json": {
       "model_id": "e5b0ad2faebc4e2e8f8d749f281a4534",
       "version_major": 2,
       "version_minor": 0
      },
      "text/plain": [
       "VBox(children=(Label(value='0.001 MB of 0.001 MB uploaded\\r'), FloatProgress(value=1.0, max=1.0)))"
      ]
     },
     "metadata": {},
     "output_type": "display_data"
    },
    {
     "data": {
      "text/html": [
       "<style>\n",
       "    table.wandb td:nth-child(1) { padding: 0 10px; text-align: left ; width: auto;} td:nth-child(2) {text-align: left ; width: 100%}\n",
       "    .wandb-row { display: flex; flex-direction: row; flex-wrap: wrap; justify-content: flex-start; width: 100% }\n",
       "    .wandb-col { display: flex; flex-direction: column; flex-basis: 100%; flex: 1; padding: 10px; }\n",
       "    </style>\n",
       "<div class=\"wandb-row\"><div class=\"wandb-col\"><h3>Run history:</h3><br/><table class=\"wandb\"><tr><td>regret</td><td>▁</td></tr></table><br/></div><div class=\"wandb-col\"><h3>Run summary:</h3><br/><table class=\"wandb\"><tr><td>regret</td><td>119584.55148</td></tr></table><br/></div></div>"
      ],
      "text/plain": [
       "<IPython.core.display.HTML object>"
      ]
     },
     "metadata": {},
     "output_type": "display_data"
    },
    {
     "data": {
      "text/html": [
       " View run <strong style=\"color:#cdcd00\">absurd-sweep-83</strong> at: <a href='https://wandb.ai/rl_shobhith/uncategorized/runs/lbfy36f9/workspace' target=\"_blank\">https://wandb.ai/rl_shobhith/uncategorized/runs/lbfy36f9/workspace</a><br/>Synced 5 W&B file(s), 0 media file(s), 0 artifact file(s) and 0 other file(s)"
      ],
      "text/plain": [
       "<IPython.core.display.HTML object>"
      ]
     },
     "metadata": {},
     "output_type": "display_data"
    },
    {
     "data": {
      "text/html": [
       "Find logs at: <code>.\\wandb\\run-20240402_054901-lbfy36f9\\logs</code>"
      ],
      "text/plain": [
       "<IPython.core.display.HTML object>"
      ]
     },
     "metadata": {},
     "output_type": "display_data"
    },
    {
     "name": "stderr",
     "output_type": "stream",
     "text": [
      "\u001b[34m\u001b[1mwandb\u001b[0m: Agent Starting Run: qac1tk2w with config:\n",
      "\u001b[34m\u001b[1mwandb\u001b[0m: \thidden_dim: 64\n",
      "\u001b[34m\u001b[1mwandb\u001b[0m: \tlearning_rate: 0.006598143288978789\n",
      "Failed to detect the name of this notebook, you can set it manually with the WANDB_NOTEBOOK_NAME environment variable to enable code saving.\n",
      "\u001b[34m\u001b[1mwandb\u001b[0m: \u001b[33mWARNING\u001b[0m Ignored wandb.init() arg project when running a sweep.\n"
     ]
    },
    {
     "data": {
      "text/html": [
       "Tracking run with wandb version 0.16.5"
      ],
      "text/plain": [
       "<IPython.core.display.HTML object>"
      ]
     },
     "metadata": {},
     "output_type": "display_data"
    },
    {
     "data": {
      "text/html": [
       "Run data is saved locally in <code>c:\\Users\\Shobhith Vadlamudi\\AppData\\Local\\Programs\\Microsoft VS Code\\wandb\\run-20240402_055134-qac1tk2w</code>"
      ],
      "text/plain": [
       "<IPython.core.display.HTML object>"
      ]
     },
     "metadata": {},
     "output_type": "display_data"
    },
    {
     "data": {
      "text/html": [
       "Syncing run <strong><a href='https://wandb.ai/rl_shobhith/uncategorized/runs/qac1tk2w/workspace' target=\"_blank\">legendary-sweep-84</a></strong> to <a href='https://wandb.ai/rl_shobhith/uncategorized' target=\"_blank\">Weights & Biases</a> (<a href='https://wandb.me/run' target=\"_blank\">docs</a>)<br/>Sweep page: <a href='https://wandb.ai/rl_shobhith/uncategorized/sweeps/yivd2k4v' target=\"_blank\">https://wandb.ai/rl_shobhith/uncategorized/sweeps/yivd2k4v</a>"
      ],
      "text/plain": [
       "<IPython.core.display.HTML object>"
      ]
     },
     "metadata": {},
     "output_type": "display_data"
    },
    {
     "data": {
      "text/html": [
       " View project at <a href='https://wandb.ai/rl_shobhith/uncategorized' target=\"_blank\">https://wandb.ai/rl_shobhith/uncategorized</a>"
      ],
      "text/plain": [
       "<IPython.core.display.HTML object>"
      ]
     },
     "metadata": {},
     "output_type": "display_data"
    },
    {
     "data": {
      "text/html": [
       " View sweep at <a href='https://wandb.ai/rl_shobhith/uncategorized/sweeps/yivd2k4v' target=\"_blank\">https://wandb.ai/rl_shobhith/uncategorized/sweeps/yivd2k4v</a>"
      ],
      "text/plain": [
       "<IPython.core.display.HTML object>"
      ]
     },
     "metadata": {},
     "output_type": "display_data"
    },
    {
     "data": {
      "text/html": [
       " View run at <a href='https://wandb.ai/rl_shobhith/uncategorized/runs/qac1tk2w/workspace' target=\"_blank\">https://wandb.ai/rl_shobhith/uncategorized/runs/qac1tk2w/workspace</a>"
      ],
      "text/plain": [
       "<IPython.core.display.HTML object>"
      ]
     },
     "metadata": {},
     "output_type": "display_data"
    },
    {
     "name": "stderr",
     "output_type": "stream",
     "text": [
      "Iteration 0: 100%|██████████| 50/50 [00:27<00:00,  1.83it/s, episode_return=50, return=-174.700]\n",
      "Iteration 1: 100%|██████████| 50/50 [00:09<00:00,  5.29it/s, episode_return=100, return=-118.100]\n",
      "Iteration 2: 100%|██████████| 50/50 [00:08<00:00,  6.03it/s, episode_return=150, return=-107.100]\n",
      "Iteration 3: 100%|██████████| 50/50 [00:07<00:00,  6.93it/s, episode_return=200, return=-103.700]\n",
      "Iteration 4: 100%|██████████| 50/50 [00:07<00:00,  7.03it/s, episode_return=250, return=-98.700] \n",
      "Iteration 5: 100%|██████████| 50/50 [00:07<00:00,  6.88it/s, episode_return=300, return=-95.300] \n",
      "Iteration 6: 100%|██████████| 50/50 [00:06<00:00,  7.21it/s, episode_return=350, return=-113.100]\n",
      "Iteration 7: 100%|██████████| 50/50 [00:06<00:00,  7.55it/s, episode_return=400, return=-88.800]\n",
      "Iteration 8: 100%|██████████| 50/50 [00:06<00:00,  8.07it/s, episode_return=450, return=-83.500]\n",
      "Iteration 9: 100%|██████████| 50/50 [00:06<00:00,  7.43it/s, episode_return=500, return=-93.000] \n"
     ]
    },
    {
     "data": {
      "application/vnd.jupyter.widget-view+json": {
       "model_id": "33ce99747fb94253aec6768e3474bd49",
       "version_major": 2,
       "version_minor": 0
      },
      "text/plain": [
       "VBox(children=(Label(value='0.001 MB of 0.001 MB uploaded\\r'), FloatProgress(value=1.0, max=1.0)))"
      ]
     },
     "metadata": {},
     "output_type": "display_data"
    },
    {
     "data": {
      "text/html": [
       "<style>\n",
       "    table.wandb td:nth-child(1) { padding: 0 10px; text-align: left ; width: auto;} td:nth-child(2) {text-align: left ; width: 100%}\n",
       "    .wandb-row { display: flex; flex-direction: row; flex-wrap: wrap; justify-content: flex-start; width: 100% }\n",
       "    .wandb-col { display: flex; flex-direction: column; flex-basis: 100%; flex: 1; padding: 10px; }\n",
       "    </style>\n",
       "<div class=\"wandb-row\"><div class=\"wandb-col\"><h3>Run history:</h3><br/><table class=\"wandb\"><tr><td>regret</td><td>▁</td></tr></table><br/></div><div class=\"wandb-col\"><h3>Run summary:</h3><br/><table class=\"wandb\"><tr><td>regret</td><td>80568.15521</td></tr></table><br/></div></div>"
      ],
      "text/plain": [
       "<IPython.core.display.HTML object>"
      ]
     },
     "metadata": {},
     "output_type": "display_data"
    },
    {
     "data": {
      "text/html": [
       " View run <strong style=\"color:#cdcd00\">legendary-sweep-84</strong> at: <a href='https://wandb.ai/rl_shobhith/uncategorized/runs/qac1tk2w/workspace' target=\"_blank\">https://wandb.ai/rl_shobhith/uncategorized/runs/qac1tk2w/workspace</a><br/>Synced 5 W&B file(s), 0 media file(s), 0 artifact file(s) and 0 other file(s)"
      ],
      "text/plain": [
       "<IPython.core.display.HTML object>"
      ]
     },
     "metadata": {},
     "output_type": "display_data"
    },
    {
     "data": {
      "text/html": [
       "Find logs at: <code>.\\wandb\\run-20240402_055134-qac1tk2w\\logs</code>"
      ],
      "text/plain": [
       "<IPython.core.display.HTML object>"
      ]
     },
     "metadata": {},
     "output_type": "display_data"
    },
    {
     "name": "stderr",
     "output_type": "stream",
     "text": [
      "\u001b[34m\u001b[1mwandb\u001b[0m: Agent Starting Run: s25pu8e2 with config:\n",
      "\u001b[34m\u001b[1mwandb\u001b[0m: \thidden_dim: 64\n",
      "\u001b[34m\u001b[1mwandb\u001b[0m: \tlearning_rate: 4.153869589212678e-05\n",
      "Failed to detect the name of this notebook, you can set it manually with the WANDB_NOTEBOOK_NAME environment variable to enable code saving.\n",
      "\u001b[34m\u001b[1mwandb\u001b[0m: \u001b[33mWARNING\u001b[0m Ignored wandb.init() arg project when running a sweep.\n"
     ]
    },
    {
     "data": {
      "text/html": [
       "Tracking run with wandb version 0.16.5"
      ],
      "text/plain": [
       "<IPython.core.display.HTML object>"
      ]
     },
     "metadata": {},
     "output_type": "display_data"
    },
    {
     "data": {
      "text/html": [
       "Run data is saved locally in <code>c:\\Users\\Shobhith Vadlamudi\\AppData\\Local\\Programs\\Microsoft VS Code\\wandb\\run-20240402_055320-s25pu8e2</code>"
      ],
      "text/plain": [
       "<IPython.core.display.HTML object>"
      ]
     },
     "metadata": {},
     "output_type": "display_data"
    },
    {
     "data": {
      "text/html": [
       "Syncing run <strong><a href='https://wandb.ai/rl_shobhith/uncategorized/runs/s25pu8e2/workspace' target=\"_blank\">true-sweep-85</a></strong> to <a href='https://wandb.ai/rl_shobhith/uncategorized' target=\"_blank\">Weights & Biases</a> (<a href='https://wandb.me/run' target=\"_blank\">docs</a>)<br/>Sweep page: <a href='https://wandb.ai/rl_shobhith/uncategorized/sweeps/yivd2k4v' target=\"_blank\">https://wandb.ai/rl_shobhith/uncategorized/sweeps/yivd2k4v</a>"
      ],
      "text/plain": [
       "<IPython.core.display.HTML object>"
      ]
     },
     "metadata": {},
     "output_type": "display_data"
    },
    {
     "data": {
      "text/html": [
       " View project at <a href='https://wandb.ai/rl_shobhith/uncategorized' target=\"_blank\">https://wandb.ai/rl_shobhith/uncategorized</a>"
      ],
      "text/plain": [
       "<IPython.core.display.HTML object>"
      ]
     },
     "metadata": {},
     "output_type": "display_data"
    },
    {
     "data": {
      "text/html": [
       " View sweep at <a href='https://wandb.ai/rl_shobhith/uncategorized/sweeps/yivd2k4v' target=\"_blank\">https://wandb.ai/rl_shobhith/uncategorized/sweeps/yivd2k4v</a>"
      ],
      "text/plain": [
       "<IPython.core.display.HTML object>"
      ]
     },
     "metadata": {},
     "output_type": "display_data"
    },
    {
     "data": {
      "text/html": [
       " View run at <a href='https://wandb.ai/rl_shobhith/uncategorized/runs/s25pu8e2/workspace' target=\"_blank\">https://wandb.ai/rl_shobhith/uncategorized/runs/s25pu8e2/workspace</a>"
      ],
      "text/plain": [
       "<IPython.core.display.HTML object>"
      ]
     },
     "metadata": {},
     "output_type": "display_data"
    },
    {
     "name": "stderr",
     "output_type": "stream",
     "text": [
      "Iteration 0: 100%|██████████| 50/50 [00:31<00:00,  1.57it/s, episode_return=50, return=-500.000]\n",
      "Iteration 1: 100%|██████████| 50/50 [00:31<00:00,  1.58it/s, episode_return=100, return=-433.100]\n",
      "Iteration 2: 100%|██████████| 50/50 [00:29<00:00,  1.70it/s, episode_return=150, return=-471.700]\n",
      "Iteration 3: 100%|██████████| 50/50 [00:28<00:00,  1.73it/s, episode_return=200, return=-424.300]\n",
      "Iteration 4: 100%|██████████| 50/50 [00:27<00:00,  1.81it/s, episode_return=250, return=-432.300]\n",
      "Iteration 5: 100%|██████████| 50/50 [00:28<00:00,  1.73it/s, episode_return=300, return=-465.400]\n",
      "Iteration 6: 100%|██████████| 50/50 [00:26<00:00,  1.91it/s, episode_return=350, return=-422.400]\n",
      "Iteration 7: 100%|██████████| 50/50 [00:24<00:00,  2.04it/s, episode_return=400, return=-398.600]\n",
      "Iteration 8: 100%|██████████| 50/50 [00:25<00:00,  1.94it/s, episode_return=450, return=-379.100]\n",
      "Iteration 9: 100%|██████████| 50/50 [00:25<00:00,  1.93it/s, episode_return=500, return=-400.500]\n"
     ]
    },
    {
     "data": {
      "application/vnd.jupyter.widget-view+json": {
       "model_id": "df9762ad55bb4f27b4bc7f7e45390ae5",
       "version_major": 2,
       "version_minor": 0
      },
      "text/plain": [
       "VBox(children=(Label(value='0.001 MB of 0.001 MB uploaded\\r'), FloatProgress(value=1.0, max=1.0)))"
      ]
     },
     "metadata": {},
     "output_type": "display_data"
    },
    {
     "data": {
      "text/html": [
       "<style>\n",
       "    table.wandb td:nth-child(1) { padding: 0 10px; text-align: left ; width: auto;} td:nth-child(2) {text-align: left ; width: 100%}\n",
       "    .wandb-row { display: flex; flex-direction: row; flex-wrap: wrap; justify-content: flex-start; width: 100% }\n",
       "    .wandb-col { display: flex; flex-direction: column; flex-basis: 100%; flex: 1; padding: 10px; }\n",
       "    </style>\n",
       "<div class=\"wandb-row\"><div class=\"wandb-col\"><h3>Run history:</h3><br/><table class=\"wandb\"><tr><td>regret</td><td>▁</td></tr></table><br/></div><div class=\"wandb-col\"><h3>Run summary:</h3><br/><table class=\"wandb\"><tr><td>regret</td><td>219901.35005</td></tr></table><br/></div></div>"
      ],
      "text/plain": [
       "<IPython.core.display.HTML object>"
      ]
     },
     "metadata": {},
     "output_type": "display_data"
    },
    {
     "data": {
      "text/html": [
       " View run <strong style=\"color:#cdcd00\">true-sweep-85</strong> at: <a href='https://wandb.ai/rl_shobhith/uncategorized/runs/s25pu8e2/workspace' target=\"_blank\">https://wandb.ai/rl_shobhith/uncategorized/runs/s25pu8e2/workspace</a><br/>Synced 5 W&B file(s), 0 media file(s), 0 artifact file(s) and 0 other file(s)"
      ],
      "text/plain": [
       "<IPython.core.display.HTML object>"
      ]
     },
     "metadata": {},
     "output_type": "display_data"
    },
    {
     "data": {
      "text/html": [
       "Find logs at: <code>.\\wandb\\run-20240402_055320-s25pu8e2\\logs</code>"
      ],
      "text/plain": [
       "<IPython.core.display.HTML object>"
      ]
     },
     "metadata": {},
     "output_type": "display_data"
    },
    {
     "name": "stderr",
     "output_type": "stream",
     "text": [
      "\u001b[34m\u001b[1mwandb\u001b[0m: Agent Starting Run: bhz4b1le with config:\n",
      "\u001b[34m\u001b[1mwandb\u001b[0m: \thidden_dim: 256\n",
      "\u001b[34m\u001b[1mwandb\u001b[0m: \tlearning_rate: 0.009078073270325476\n",
      "Failed to detect the name of this notebook, you can set it manually with the WANDB_NOTEBOOK_NAME environment variable to enable code saving.\n",
      "\u001b[34m\u001b[1mwandb\u001b[0m: \u001b[33mWARNING\u001b[0m Ignored wandb.init() arg project when running a sweep.\n"
     ]
    },
    {
     "data": {
      "text/html": [
       "Tracking run with wandb version 0.16.5"
      ],
      "text/plain": [
       "<IPython.core.display.HTML object>"
      ]
     },
     "metadata": {},
     "output_type": "display_data"
    },
    {
     "data": {
      "text/html": [
       "Run data is saved locally in <code>c:\\Users\\Shobhith Vadlamudi\\AppData\\Local\\Programs\\Microsoft VS Code\\wandb\\run-20240402_055816-bhz4b1le</code>"
      ],
      "text/plain": [
       "<IPython.core.display.HTML object>"
      ]
     },
     "metadata": {},
     "output_type": "display_data"
    },
    {
     "data": {
      "text/html": [
       "Syncing run <strong><a href='https://wandb.ai/rl_shobhith/uncategorized/runs/bhz4b1le/workspace' target=\"_blank\">pretty-sweep-86</a></strong> to <a href='https://wandb.ai/rl_shobhith/uncategorized' target=\"_blank\">Weights & Biases</a> (<a href='https://wandb.me/run' target=\"_blank\">docs</a>)<br/>Sweep page: <a href='https://wandb.ai/rl_shobhith/uncategorized/sweeps/yivd2k4v' target=\"_blank\">https://wandb.ai/rl_shobhith/uncategorized/sweeps/yivd2k4v</a>"
      ],
      "text/plain": [
       "<IPython.core.display.HTML object>"
      ]
     },
     "metadata": {},
     "output_type": "display_data"
    },
    {
     "data": {
      "text/html": [
       " View project at <a href='https://wandb.ai/rl_shobhith/uncategorized' target=\"_blank\">https://wandb.ai/rl_shobhith/uncategorized</a>"
      ],
      "text/plain": [
       "<IPython.core.display.HTML object>"
      ]
     },
     "metadata": {},
     "output_type": "display_data"
    },
    {
     "data": {
      "text/html": [
       " View sweep at <a href='https://wandb.ai/rl_shobhith/uncategorized/sweeps/yivd2k4v' target=\"_blank\">https://wandb.ai/rl_shobhith/uncategorized/sweeps/yivd2k4v</a>"
      ],
      "text/plain": [
       "<IPython.core.display.HTML object>"
      ]
     },
     "metadata": {},
     "output_type": "display_data"
    },
    {
     "data": {
      "text/html": [
       " View run at <a href='https://wandb.ai/rl_shobhith/uncategorized/runs/bhz4b1le/workspace' target=\"_blank\">https://wandb.ai/rl_shobhith/uncategorized/runs/bhz4b1le/workspace</a>"
      ],
      "text/plain": [
       "<IPython.core.display.HTML object>"
      ]
     },
     "metadata": {},
     "output_type": "display_data"
    },
    {
     "name": "stderr",
     "output_type": "stream",
     "text": [
      "Iteration 0: 100%|██████████| 50/50 [00:20<00:00,  2.43it/s, episode_return=50, return=-446.200]\n",
      "Iteration 1: 100%|██████████| 50/50 [00:36<00:00,  1.38it/s, episode_return=100, return=-500.000]\n",
      "Iteration 2: 100%|██████████| 50/50 [00:35<00:00,  1.40it/s, episode_return=150, return=-500.000]\n",
      "Iteration 3: 100%|██████████| 50/50 [00:36<00:00,  1.39it/s, episode_return=200, return=-500.000]\n",
      "Iteration 4: 100%|██████████| 50/50 [00:35<00:00,  1.41it/s, episode_return=250, return=-500.000]\n",
      "Iteration 5: 100%|██████████| 50/50 [00:36<00:00,  1.36it/s, episode_return=300, return=-500.000]\n",
      "Iteration 6: 100%|██████████| 50/50 [00:36<00:00,  1.37it/s, episode_return=350, return=-500.000]\n",
      "Iteration 7: 100%|██████████| 50/50 [00:35<00:00,  1.40it/s, episode_return=400, return=-500.000]\n",
      "Iteration 8: 100%|██████████| 50/50 [00:36<00:00,  1.38it/s, episode_return=450, return=-500.000]\n",
      "Iteration 9: 100%|██████████| 50/50 [00:37<00:00,  1.32it/s, episode_return=500, return=-500.000]\n"
     ]
    },
    {
     "data": {
      "application/vnd.jupyter.widget-view+json": {
       "model_id": "2dd3aa26a2e943c1bf89c58af9a71100",
       "version_major": 2,
       "version_minor": 0
      },
      "text/plain": [
       "VBox(children=(Label(value='0.001 MB of 0.007 MB uploaded\\r'), FloatProgress(value=0.16382028376248028, max=1.…"
      ]
     },
     "metadata": {},
     "output_type": "display_data"
    },
    {
     "data": {
      "text/html": [
       "<style>\n",
       "    table.wandb td:nth-child(1) { padding: 0 10px; text-align: left ; width: auto;} td:nth-child(2) {text-align: left ; width: 100%}\n",
       "    .wandb-row { display: flex; flex-direction: row; flex-wrap: wrap; justify-content: flex-start; width: 100% }\n",
       "    .wandb-col { display: flex; flex-direction: column; flex-basis: 100%; flex: 1; padding: 10px; }\n",
       "    </style>\n",
       "<div class=\"wandb-row\"><div class=\"wandb-col\"><h3>Run history:</h3><br/><table class=\"wandb\"><tr><td>regret</td><td>▁</td></tr></table><br/></div><div class=\"wandb-col\"><h3>Run summary:</h3><br/><table class=\"wandb\"><tr><td>regret</td><td>226774.32024</td></tr></table><br/></div></div>"
      ],
      "text/plain": [
       "<IPython.core.display.HTML object>"
      ]
     },
     "metadata": {},
     "output_type": "display_data"
    },
    {
     "data": {
      "text/html": [
       " View run <strong style=\"color:#cdcd00\">pretty-sweep-86</strong> at: <a href='https://wandb.ai/rl_shobhith/uncategorized/runs/bhz4b1le/workspace' target=\"_blank\">https://wandb.ai/rl_shobhith/uncategorized/runs/bhz4b1le/workspace</a><br/>Synced 5 W&B file(s), 0 media file(s), 0 artifact file(s) and 0 other file(s)"
      ],
      "text/plain": [
       "<IPython.core.display.HTML object>"
      ]
     },
     "metadata": {},
     "output_type": "display_data"
    },
    {
     "data": {
      "text/html": [
       "Find logs at: <code>.\\wandb\\run-20240402_055816-bhz4b1le\\logs</code>"
      ],
      "text/plain": [
       "<IPython.core.display.HTML object>"
      ]
     },
     "metadata": {},
     "output_type": "display_data"
    },
    {
     "name": "stderr",
     "output_type": "stream",
     "text": [
      "\u001b[34m\u001b[1mwandb\u001b[0m: Agent Starting Run: qzocn35v with config:\n",
      "\u001b[34m\u001b[1mwandb\u001b[0m: \thidden_dim: 128\n",
      "\u001b[34m\u001b[1mwandb\u001b[0m: \tlearning_rate: 0.009174127161485955\n",
      "Failed to detect the name of this notebook, you can set it manually with the WANDB_NOTEBOOK_NAME environment variable to enable code saving.\n",
      "\u001b[34m\u001b[1mwandb\u001b[0m: \u001b[33mWARNING\u001b[0m Ignored wandb.init() arg project when running a sweep.\n"
     ]
    },
    {
     "data": {
      "text/html": [
       "Tracking run with wandb version 0.16.5"
      ],
      "text/plain": [
       "<IPython.core.display.HTML object>"
      ]
     },
     "metadata": {},
     "output_type": "display_data"
    },
    {
     "data": {
      "text/html": [
       "Run data is saved locally in <code>c:\\Users\\Shobhith Vadlamudi\\AppData\\Local\\Programs\\Microsoft VS Code\\wandb\\run-20240402_060415-qzocn35v</code>"
      ],
      "text/plain": [
       "<IPython.core.display.HTML object>"
      ]
     },
     "metadata": {},
     "output_type": "display_data"
    },
    {
     "data": {
      "text/html": [
       "Syncing run <strong><a href='https://wandb.ai/rl_shobhith/uncategorized/runs/qzocn35v/workspace' target=\"_blank\">driven-sweep-87</a></strong> to <a href='https://wandb.ai/rl_shobhith/uncategorized' target=\"_blank\">Weights & Biases</a> (<a href='https://wandb.me/run' target=\"_blank\">docs</a>)<br/>Sweep page: <a href='https://wandb.ai/rl_shobhith/uncategorized/sweeps/yivd2k4v' target=\"_blank\">https://wandb.ai/rl_shobhith/uncategorized/sweeps/yivd2k4v</a>"
      ],
      "text/plain": [
       "<IPython.core.display.HTML object>"
      ]
     },
     "metadata": {},
     "output_type": "display_data"
    },
    {
     "data": {
      "text/html": [
       " View project at <a href='https://wandb.ai/rl_shobhith/uncategorized' target=\"_blank\">https://wandb.ai/rl_shobhith/uncategorized</a>"
      ],
      "text/plain": [
       "<IPython.core.display.HTML object>"
      ]
     },
     "metadata": {},
     "output_type": "display_data"
    },
    {
     "data": {
      "text/html": [
       " View sweep at <a href='https://wandb.ai/rl_shobhith/uncategorized/sweeps/yivd2k4v' target=\"_blank\">https://wandb.ai/rl_shobhith/uncategorized/sweeps/yivd2k4v</a>"
      ],
      "text/plain": [
       "<IPython.core.display.HTML object>"
      ]
     },
     "metadata": {},
     "output_type": "display_data"
    },
    {
     "data": {
      "text/html": [
       " View run at <a href='https://wandb.ai/rl_shobhith/uncategorized/runs/qzocn35v/workspace' target=\"_blank\">https://wandb.ai/rl_shobhith/uncategorized/runs/qzocn35v/workspace</a>"
      ],
      "text/plain": [
       "<IPython.core.display.HTML object>"
      ]
     },
     "metadata": {},
     "output_type": "display_data"
    },
    {
     "name": "stderr",
     "output_type": "stream",
     "text": [
      "Iteration 0: 100%|██████████| 50/50 [00:32<00:00,  1.55it/s, episode_return=50, return=-500.000]\n",
      "Iteration 1: 100%|██████████| 50/50 [00:35<00:00,  1.39it/s, episode_return=100, return=-500.000]\n",
      "Iteration 2: 100%|██████████| 50/50 [00:36<00:00,  1.38it/s, episode_return=150, return=-500.000]\n",
      "Iteration 3: 100%|██████████| 50/50 [00:35<00:00,  1.39it/s, episode_return=200, return=-500.000]\n",
      "Iteration 4: 100%|██████████| 50/50 [00:32<00:00,  1.55it/s, episode_return=250, return=-500.000]\n",
      "Iteration 5: 100%|██████████| 50/50 [00:34<00:00,  1.45it/s, episode_return=300, return=-500.000]\n",
      "Iteration 6: 100%|██████████| 50/50 [00:33<00:00,  1.49it/s, episode_return=350, return=-500.000]\n",
      "Iteration 7: 100%|██████████| 50/50 [00:34<00:00,  1.45it/s, episode_return=400, return=-500.000]\n",
      "Iteration 8: 100%|██████████| 50/50 [00:37<00:00,  1.35it/s, episode_return=450, return=-500.000]\n",
      "Iteration 9: 100%|██████████| 50/50 [00:38<00:00,  1.31it/s, episode_return=500, return=-500.000]\n"
     ]
    },
    {
     "data": {
      "application/vnd.jupyter.widget-view+json": {
       "model_id": "b528d83502614987beae34dbe32ff43f",
       "version_major": 2,
       "version_minor": 0
      },
      "text/plain": [
       "VBox(children=(Label(value='0.001 MB of 0.001 MB uploaded\\r'), FloatProgress(value=1.0, max=1.0)))"
      ]
     },
     "metadata": {},
     "output_type": "display_data"
    },
    {
     "data": {
      "text/html": [
       "<style>\n",
       "    table.wandb td:nth-child(1) { padding: 0 10px; text-align: left ; width: auto;} td:nth-child(2) {text-align: left ; width: 100%}\n",
       "    .wandb-row { display: flex; flex-direction: row; flex-wrap: wrap; justify-content: flex-start; width: 100% }\n",
       "    .wandb-col { display: flex; flex-direction: column; flex-basis: 100%; flex: 1; padding: 10px; }\n",
       "    </style>\n",
       "<div class=\"wandb-row\"><div class=\"wandb-col\"><h3>Run history:</h3><br/><table class=\"wandb\"><tr><td>regret</td><td>▁</td></tr></table><br/></div><div class=\"wandb-col\"><h3>Run summary:</h3><br/><table class=\"wandb\"><tr><td>regret</td><td>243172.34785</td></tr></table><br/></div></div>"
      ],
      "text/plain": [
       "<IPython.core.display.HTML object>"
      ]
     },
     "metadata": {},
     "output_type": "display_data"
    },
    {
     "data": {
      "text/html": [
       " View run <strong style=\"color:#cdcd00\">driven-sweep-87</strong> at: <a href='https://wandb.ai/rl_shobhith/uncategorized/runs/qzocn35v/workspace' target=\"_blank\">https://wandb.ai/rl_shobhith/uncategorized/runs/qzocn35v/workspace</a><br/>Synced 5 W&B file(s), 0 media file(s), 0 artifact file(s) and 0 other file(s)"
      ],
      "text/plain": [
       "<IPython.core.display.HTML object>"
      ]
     },
     "metadata": {},
     "output_type": "display_data"
    },
    {
     "data": {
      "text/html": [
       "Find logs at: <code>.\\wandb\\run-20240402_060415-qzocn35v\\logs</code>"
      ],
      "text/plain": [
       "<IPython.core.display.HTML object>"
      ]
     },
     "metadata": {},
     "output_type": "display_data"
    },
    {
     "name": "stderr",
     "output_type": "stream",
     "text": [
      "\u001b[34m\u001b[1mwandb\u001b[0m: Agent Starting Run: vg3wx7ej with config:\n",
      "\u001b[34m\u001b[1mwandb\u001b[0m: \thidden_dim: 64\n",
      "\u001b[34m\u001b[1mwandb\u001b[0m: \tlearning_rate: 0.004900475264415265\n",
      "Failed to detect the name of this notebook, you can set it manually with the WANDB_NOTEBOOK_NAME environment variable to enable code saving.\n",
      "\u001b[34m\u001b[1mwandb\u001b[0m: \u001b[33mWARNING\u001b[0m Ignored wandb.init() arg project when running a sweep.\n"
     ]
    },
    {
     "data": {
      "text/html": [
       "Tracking run with wandb version 0.16.5"
      ],
      "text/plain": [
       "<IPython.core.display.HTML object>"
      ]
     },
     "metadata": {},
     "output_type": "display_data"
    },
    {
     "data": {
      "text/html": [
       "Run data is saved locally in <code>c:\\Users\\Shobhith Vadlamudi\\AppData\\Local\\Programs\\Microsoft VS Code\\wandb\\run-20240402_061020-vg3wx7ej</code>"
      ],
      "text/plain": [
       "<IPython.core.display.HTML object>"
      ]
     },
     "metadata": {},
     "output_type": "display_data"
    },
    {
     "data": {
      "text/html": [
       "Syncing run <strong><a href='https://wandb.ai/rl_shobhith/uncategorized/runs/vg3wx7ej/workspace' target=\"_blank\">fancy-sweep-88</a></strong> to <a href='https://wandb.ai/rl_shobhith/uncategorized' target=\"_blank\">Weights & Biases</a> (<a href='https://wandb.me/run' target=\"_blank\">docs</a>)<br/>Sweep page: <a href='https://wandb.ai/rl_shobhith/uncategorized/sweeps/yivd2k4v' target=\"_blank\">https://wandb.ai/rl_shobhith/uncategorized/sweeps/yivd2k4v</a>"
      ],
      "text/plain": [
       "<IPython.core.display.HTML object>"
      ]
     },
     "metadata": {},
     "output_type": "display_data"
    },
    {
     "data": {
      "text/html": [
       " View project at <a href='https://wandb.ai/rl_shobhith/uncategorized' target=\"_blank\">https://wandb.ai/rl_shobhith/uncategorized</a>"
      ],
      "text/plain": [
       "<IPython.core.display.HTML object>"
      ]
     },
     "metadata": {},
     "output_type": "display_data"
    },
    {
     "data": {
      "text/html": [
       " View sweep at <a href='https://wandb.ai/rl_shobhith/uncategorized/sweeps/yivd2k4v' target=\"_blank\">https://wandb.ai/rl_shobhith/uncategorized/sweeps/yivd2k4v</a>"
      ],
      "text/plain": [
       "<IPython.core.display.HTML object>"
      ]
     },
     "metadata": {},
     "output_type": "display_data"
    },
    {
     "data": {
      "text/html": [
       " View run at <a href='https://wandb.ai/rl_shobhith/uncategorized/runs/vg3wx7ej/workspace' target=\"_blank\">https://wandb.ai/rl_shobhith/uncategorized/runs/vg3wx7ej/workspace</a>"
      ],
      "text/plain": [
       "<IPython.core.display.HTML object>"
      ]
     },
     "metadata": {},
     "output_type": "display_data"
    },
    {
     "name": "stderr",
     "output_type": "stream",
     "text": [
      "Iteration 0: 100%|██████████| 50/50 [00:36<00:00,  1.37it/s, episode_return=50, return=-500.000]\n",
      "Iteration 1: 100%|██████████| 50/50 [00:34<00:00,  1.43it/s, episode_return=100, return=-500.000]\n",
      "Iteration 2: 100%|██████████| 50/50 [00:34<00:00,  1.46it/s, episode_return=150, return=-500.000]\n",
      "Iteration 3: 100%|██████████| 50/50 [00:32<00:00,  1.55it/s, episode_return=200, return=-500.000]\n",
      "Iteration 4: 100%|██████████| 50/50 [00:33<00:00,  1.49it/s, episode_return=250, return=-500.000]\n",
      "Iteration 5: 100%|██████████| 50/50 [00:33<00:00,  1.50it/s, episode_return=300, return=-500.000]\n",
      "Iteration 6: 100%|██████████| 50/50 [00:33<00:00,  1.50it/s, episode_return=350, return=-500.000]\n",
      "Iteration 7: 100%|██████████| 50/50 [00:31<00:00,  1.58it/s, episode_return=400, return=-500.000]\n",
      "Iteration 8: 100%|██████████| 50/50 [00:33<00:00,  1.49it/s, episode_return=450, return=-500.000]\n",
      "Iteration 9: 100%|██████████| 50/50 [00:33<00:00,  1.51it/s, episode_return=500, return=-500.000]\n"
     ]
    },
    {
     "data": {
      "application/vnd.jupyter.widget-view+json": {
       "model_id": "d463bddeb5ad48cba551f7e1cc251afb",
       "version_major": 2,
       "version_minor": 0
      },
      "text/plain": [
       "VBox(children=(Label(value='0.001 MB of 0.007 MB uploaded\\r'), FloatProgress(value=0.166889721627409, max=1.0)…"
      ]
     },
     "metadata": {},
     "output_type": "display_data"
    },
    {
     "data": {
      "text/html": [
       "<style>\n",
       "    table.wandb td:nth-child(1) { padding: 0 10px; text-align: left ; width: auto;} td:nth-child(2) {text-align: left ; width: 100%}\n",
       "    .wandb-row { display: flex; flex-direction: row; flex-wrap: wrap; justify-content: flex-start; width: 100% }\n",
       "    .wandb-col { display: flex; flex-direction: column; flex-basis: 100%; flex: 1; padding: 10px; }\n",
       "    </style>\n",
       "<div class=\"wandb-row\"><div class=\"wandb-col\"><h3>Run history:</h3><br/><table class=\"wandb\"><tr><td>regret</td><td>▁</td></tr></table><br/></div><div class=\"wandb-col\"><h3>Run summary:</h3><br/><table class=\"wandb\"><tr><td>regret</td><td>250000.0</td></tr></table><br/></div></div>"
      ],
      "text/plain": [
       "<IPython.core.display.HTML object>"
      ]
     },
     "metadata": {},
     "output_type": "display_data"
    },
    {
     "data": {
      "text/html": [
       " View run <strong style=\"color:#cdcd00\">fancy-sweep-88</strong> at: <a href='https://wandb.ai/rl_shobhith/uncategorized/runs/vg3wx7ej/workspace' target=\"_blank\">https://wandb.ai/rl_shobhith/uncategorized/runs/vg3wx7ej/workspace</a><br/>Synced 5 W&B file(s), 0 media file(s), 0 artifact file(s) and 0 other file(s)"
      ],
      "text/plain": [
       "<IPython.core.display.HTML object>"
      ]
     },
     "metadata": {},
     "output_type": "display_data"
    },
    {
     "data": {
      "text/html": [
       "Find logs at: <code>.\\wandb\\run-20240402_061020-vg3wx7ej\\logs</code>"
      ],
      "text/plain": [
       "<IPython.core.display.HTML object>"
      ]
     },
     "metadata": {},
     "output_type": "display_data"
    },
    {
     "name": "stderr",
     "output_type": "stream",
     "text": [
      "\u001b[34m\u001b[1mwandb\u001b[0m: Agent Starting Run: oih3pnjc with config:\n",
      "\u001b[34m\u001b[1mwandb\u001b[0m: \thidden_dim: 256\n",
      "\u001b[34m\u001b[1mwandb\u001b[0m: \tlearning_rate: 0.008262066925753696\n",
      "Failed to detect the name of this notebook, you can set it manually with the WANDB_NOTEBOOK_NAME environment variable to enable code saving.\n",
      "\u001b[34m\u001b[1mwandb\u001b[0m: \u001b[33mWARNING\u001b[0m Ignored wandb.init() arg project when running a sweep.\n"
     ]
    },
    {
     "data": {
      "text/html": [
       "Tracking run with wandb version 0.16.5"
      ],
      "text/plain": [
       "<IPython.core.display.HTML object>"
      ]
     },
     "metadata": {},
     "output_type": "display_data"
    },
    {
     "data": {
      "text/html": [
       "Run data is saved locally in <code>c:\\Users\\Shobhith Vadlamudi\\AppData\\Local\\Programs\\Microsoft VS Code\\wandb\\run-20240402_061613-oih3pnjc</code>"
      ],
      "text/plain": [
       "<IPython.core.display.HTML object>"
      ]
     },
     "metadata": {},
     "output_type": "display_data"
    },
    {
     "data": {
      "text/html": [
       "Syncing run <strong><a href='https://wandb.ai/rl_shobhith/uncategorized/runs/oih3pnjc/workspace' target=\"_blank\">apricot-sweep-89</a></strong> to <a href='https://wandb.ai/rl_shobhith/uncategorized' target=\"_blank\">Weights & Biases</a> (<a href='https://wandb.me/run' target=\"_blank\">docs</a>)<br/>Sweep page: <a href='https://wandb.ai/rl_shobhith/uncategorized/sweeps/yivd2k4v' target=\"_blank\">https://wandb.ai/rl_shobhith/uncategorized/sweeps/yivd2k4v</a>"
      ],
      "text/plain": [
       "<IPython.core.display.HTML object>"
      ]
     },
     "metadata": {},
     "output_type": "display_data"
    },
    {
     "data": {
      "text/html": [
       " View project at <a href='https://wandb.ai/rl_shobhith/uncategorized' target=\"_blank\">https://wandb.ai/rl_shobhith/uncategorized</a>"
      ],
      "text/plain": [
       "<IPython.core.display.HTML object>"
      ]
     },
     "metadata": {},
     "output_type": "display_data"
    },
    {
     "data": {
      "text/html": [
       " View sweep at <a href='https://wandb.ai/rl_shobhith/uncategorized/sweeps/yivd2k4v' target=\"_blank\">https://wandb.ai/rl_shobhith/uncategorized/sweeps/yivd2k4v</a>"
      ],
      "text/plain": [
       "<IPython.core.display.HTML object>"
      ]
     },
     "metadata": {},
     "output_type": "display_data"
    },
    {
     "data": {
      "text/html": [
       " View run at <a href='https://wandb.ai/rl_shobhith/uncategorized/runs/oih3pnjc/workspace' target=\"_blank\">https://wandb.ai/rl_shobhith/uncategorized/runs/oih3pnjc/workspace</a>"
      ],
      "text/plain": [
       "<IPython.core.display.HTML object>"
      ]
     },
     "metadata": {},
     "output_type": "display_data"
    },
    {
     "name": "stderr",
     "output_type": "stream",
     "text": [
      "Iteration 0: 100%|██████████| 50/50 [00:20<00:00,  2.44it/s, episode_return=50, return=-203.400]\n",
      "Iteration 1: 100%|██████████| 50/50 [00:27<00:00,  1.83it/s, episode_return=100, return=-329.200]\n",
      "Iteration 2: 100%|██████████| 50/50 [00:16<00:00,  2.95it/s, episode_return=150, return=-180.800]\n",
      "Iteration 3: 100%|██████████| 50/50 [00:14<00:00,  3.53it/s, episode_return=200, return=-184.200]\n",
      "Iteration 4: 100%|██████████| 50/50 [00:13<00:00,  3.76it/s, episode_return=250, return=-313.700]\n",
      "Iteration 5: 100%|██████████| 50/50 [00:12<00:00,  4.07it/s, episode_return=300, return=-158.300]\n",
      "Iteration 6: 100%|██████████| 50/50 [00:12<00:00,  4.05it/s, episode_return=350, return=-166.500]\n",
      "Iteration 7: 100%|██████████| 50/50 [00:12<00:00,  3.92it/s, episode_return=400, return=-155.600]\n",
      "Iteration 8: 100%|██████████| 50/50 [00:13<00:00,  3.75it/s, episode_return=450, return=-166.200]\n",
      "Iteration 9: 100%|██████████| 50/50 [00:12<00:00,  3.98it/s, episode_return=500, return=-148.800]\n"
     ]
    },
    {
     "data": {
      "application/vnd.jupyter.widget-view+json": {
       "model_id": "06c2f5a84e3d4142ae91f80cad3b239c",
       "version_major": 2,
       "version_minor": 0
      },
      "text/plain": [
       "VBox(children=(Label(value='0.001 MB of 0.001 MB uploaded\\r'), FloatProgress(value=1.0, max=1.0)))"
      ]
     },
     "metadata": {},
     "output_type": "display_data"
    },
    {
     "data": {
      "text/html": [
       "<style>\n",
       "    table.wandb td:nth-child(1) { padding: 0 10px; text-align: left ; width: auto;} td:nth-child(2) {text-align: left ; width: 100%}\n",
       "    .wandb-row { display: flex; flex-direction: row; flex-wrap: wrap; justify-content: flex-start; width: 100% }\n",
       "    .wandb-col { display: flex; flex-direction: column; flex-basis: 100%; flex: 1; padding: 10px; }\n",
       "    </style>\n",
       "<div class=\"wandb-row\"><div class=\"wandb-col\"><h3>Run history:</h3><br/><table class=\"wandb\"><tr><td>regret</td><td>▁</td></tr></table><br/></div><div class=\"wandb-col\"><h3>Run summary:</h3><br/><table class=\"wandb\"><tr><td>regret</td><td>113728.74354</td></tr></table><br/></div></div>"
      ],
      "text/plain": [
       "<IPython.core.display.HTML object>"
      ]
     },
     "metadata": {},
     "output_type": "display_data"
    },
    {
     "data": {
      "text/html": [
       " View run <strong style=\"color:#cdcd00\">apricot-sweep-89</strong> at: <a href='https://wandb.ai/rl_shobhith/uncategorized/runs/oih3pnjc/workspace' target=\"_blank\">https://wandb.ai/rl_shobhith/uncategorized/runs/oih3pnjc/workspace</a><br/>Synced 5 W&B file(s), 0 media file(s), 0 artifact file(s) and 0 other file(s)"
      ],
      "text/plain": [
       "<IPython.core.display.HTML object>"
      ]
     },
     "metadata": {},
     "output_type": "display_data"
    },
    {
     "data": {
      "text/html": [
       "Find logs at: <code>.\\wandb\\run-20240402_061613-oih3pnjc\\logs</code>"
      ],
      "text/plain": [
       "<IPython.core.display.HTML object>"
      ]
     },
     "metadata": {},
     "output_type": "display_data"
    },
    {
     "name": "stderr",
     "output_type": "stream",
     "text": [
      "\u001b[34m\u001b[1mwandb\u001b[0m: Agent Starting Run: fpratbof with config:\n",
      "\u001b[34m\u001b[1mwandb\u001b[0m: \thidden_dim: 256\n",
      "\u001b[34m\u001b[1mwandb\u001b[0m: \tlearning_rate: 0.00015685484914512628\n",
      "Failed to detect the name of this notebook, you can set it manually with the WANDB_NOTEBOOK_NAME environment variable to enable code saving.\n",
      "\u001b[34m\u001b[1mwandb\u001b[0m: \u001b[33mWARNING\u001b[0m Ignored wandb.init() arg project when running a sweep.\n"
     ]
    },
    {
     "data": {
      "text/html": [
       "Tracking run with wandb version 0.16.5"
      ],
      "text/plain": [
       "<IPython.core.display.HTML object>"
      ]
     },
     "metadata": {},
     "output_type": "display_data"
    },
    {
     "data": {
      "text/html": [
       "Run data is saved locally in <code>c:\\Users\\Shobhith Vadlamudi\\AppData\\Local\\Programs\\Microsoft VS Code\\wandb\\run-20240402_061903-fpratbof</code>"
      ],
      "text/plain": [
       "<IPython.core.display.HTML object>"
      ]
     },
     "metadata": {},
     "output_type": "display_data"
    },
    {
     "data": {
      "text/html": [
       "Syncing run <strong><a href='https://wandb.ai/rl_shobhith/uncategorized/runs/fpratbof/workspace' target=\"_blank\">giddy-sweep-90</a></strong> to <a href='https://wandb.ai/rl_shobhith/uncategorized' target=\"_blank\">Weights & Biases</a> (<a href='https://wandb.me/run' target=\"_blank\">docs</a>)<br/>Sweep page: <a href='https://wandb.ai/rl_shobhith/uncategorized/sweeps/yivd2k4v' target=\"_blank\">https://wandb.ai/rl_shobhith/uncategorized/sweeps/yivd2k4v</a>"
      ],
      "text/plain": [
       "<IPython.core.display.HTML object>"
      ]
     },
     "metadata": {},
     "output_type": "display_data"
    },
    {
     "data": {
      "text/html": [
       " View project at <a href='https://wandb.ai/rl_shobhith/uncategorized' target=\"_blank\">https://wandb.ai/rl_shobhith/uncategorized</a>"
      ],
      "text/plain": [
       "<IPython.core.display.HTML object>"
      ]
     },
     "metadata": {},
     "output_type": "display_data"
    },
    {
     "data": {
      "text/html": [
       " View sweep at <a href='https://wandb.ai/rl_shobhith/uncategorized/sweeps/yivd2k4v' target=\"_blank\">https://wandb.ai/rl_shobhith/uncategorized/sweeps/yivd2k4v</a>"
      ],
      "text/plain": [
       "<IPython.core.display.HTML object>"
      ]
     },
     "metadata": {},
     "output_type": "display_data"
    },
    {
     "data": {
      "text/html": [
       " View run at <a href='https://wandb.ai/rl_shobhith/uncategorized/runs/fpratbof/workspace' target=\"_blank\">https://wandb.ai/rl_shobhith/uncategorized/runs/fpratbof/workspace</a>"
      ],
      "text/plain": [
       "<IPython.core.display.HTML object>"
      ]
     },
     "metadata": {},
     "output_type": "display_data"
    },
    {
     "name": "stderr",
     "output_type": "stream",
     "text": [
      "Iteration 0: 100%|██████████| 50/50 [00:36<00:00,  1.38it/s, episode_return=50, return=-500.000]\n",
      "Iteration 1: 100%|██████████| 50/50 [00:36<00:00,  1.36it/s, episode_return=100, return=-500.000]\n",
      "Iteration 2: 100%|██████████| 50/50 [00:35<00:00,  1.42it/s, episode_return=150, return=-500.000]\n",
      "Iteration 3: 100%|██████████| 50/50 [00:33<00:00,  1.50it/s, episode_return=200, return=-494.700]\n",
      "Iteration 4: 100%|██████████| 50/50 [00:34<00:00,  1.46it/s, episode_return=250, return=-468.000]\n",
      "Iteration 5: 100%|██████████| 50/50 [00:30<00:00,  1.65it/s, episode_return=300, return=-430.500]\n",
      "Iteration 6: 100%|██████████| 50/50 [00:29<00:00,  1.68it/s, episode_return=350, return=-411.300]\n",
      "Iteration 7: 100%|██████████| 50/50 [00:31<00:00,  1.58it/s, episode_return=400, return=-398.200]\n",
      "Iteration 8: 100%|██████████| 50/50 [00:22<00:00,  2.22it/s, episode_return=450, return=-233.700]\n",
      "Iteration 9: 100%|██████████| 50/50 [00:19<00:00,  2.57it/s, episode_return=500, return=-233.900]\n"
     ]
    },
    {
     "data": {
      "application/vnd.jupyter.widget-view+json": {
       "model_id": "69ddd7e3a6b7445b908a8a3580bb4d6c",
       "version_major": 2,
       "version_minor": 0
      },
      "text/plain": [
       "VBox(children=(Label(value='0.001 MB of 0.001 MB uploaded\\r'), FloatProgress(value=1.0, max=1.0)))"
      ]
     },
     "metadata": {},
     "output_type": "display_data"
    },
    {
     "data": {
      "text/html": [
       "<style>\n",
       "    table.wandb td:nth-child(1) { padding: 0 10px; text-align: left ; width: auto;} td:nth-child(2) {text-align: left ; width: 100%}\n",
       "    .wandb-row { display: flex; flex-direction: row; flex-wrap: wrap; justify-content: flex-start; width: 100% }\n",
       "    .wandb-col { display: flex; flex-direction: column; flex-basis: 100%; flex: 1; padding: 10px; }\n",
       "    </style>\n",
       "<div class=\"wandb-row\"><div class=\"wandb-col\"><h3>Run history:</h3><br/><table class=\"wandb\"><tr><td>regret</td><td>▁</td></tr></table><br/></div><div class=\"wandb-col\"><h3>Run summary:</h3><br/><table class=\"wandb\"><tr><td>regret</td><td>224553.95804</td></tr></table><br/></div></div>"
      ],
      "text/plain": [
       "<IPython.core.display.HTML object>"
      ]
     },
     "metadata": {},
     "output_type": "display_data"
    },
    {
     "data": {
      "text/html": [
       " View run <strong style=\"color:#cdcd00\">giddy-sweep-90</strong> at: <a href='https://wandb.ai/rl_shobhith/uncategorized/runs/fpratbof/workspace' target=\"_blank\">https://wandb.ai/rl_shobhith/uncategorized/runs/fpratbof/workspace</a><br/>Synced 5 W&B file(s), 0 media file(s), 0 artifact file(s) and 0 other file(s)"
      ],
      "text/plain": [
       "<IPython.core.display.HTML object>"
      ]
     },
     "metadata": {},
     "output_type": "display_data"
    },
    {
     "data": {
      "text/html": [
       "Find logs at: <code>.\\wandb\\run-20240402_061903-fpratbof\\logs</code>"
      ],
      "text/plain": [
       "<IPython.core.display.HTML object>"
      ]
     },
     "metadata": {},
     "output_type": "display_data"
    },
    {
     "name": "stderr",
     "output_type": "stream",
     "text": [
      "\u001b[34m\u001b[1mwandb\u001b[0m: Agent Starting Run: m4st524b with config:\n",
      "\u001b[34m\u001b[1mwandb\u001b[0m: \thidden_dim: 256\n",
      "\u001b[34m\u001b[1mwandb\u001b[0m: \tlearning_rate: 0.005050367815164579\n",
      "Failed to detect the name of this notebook, you can set it manually with the WANDB_NOTEBOOK_NAME environment variable to enable code saving.\n",
      "\u001b[34m\u001b[1mwandb\u001b[0m: \u001b[33mWARNING\u001b[0m Ignored wandb.init() arg project when running a sweep.\n"
     ]
    },
    {
     "data": {
      "text/html": [
       "Tracking run with wandb version 0.16.5"
      ],
      "text/plain": [
       "<IPython.core.display.HTML object>"
      ]
     },
     "metadata": {},
     "output_type": "display_data"
    },
    {
     "data": {
      "text/html": [
       "Run data is saved locally in <code>c:\\Users\\Shobhith Vadlamudi\\AppData\\Local\\Programs\\Microsoft VS Code\\wandb\\run-20240402_062425-m4st524b</code>"
      ],
      "text/plain": [
       "<IPython.core.display.HTML object>"
      ]
     },
     "metadata": {},
     "output_type": "display_data"
    },
    {
     "data": {
      "text/html": [
       "Syncing run <strong><a href='https://wandb.ai/rl_shobhith/uncategorized/runs/m4st524b/workspace' target=\"_blank\">eager-sweep-91</a></strong> to <a href='https://wandb.ai/rl_shobhith/uncategorized' target=\"_blank\">Weights & Biases</a> (<a href='https://wandb.me/run' target=\"_blank\">docs</a>)<br/>Sweep page: <a href='https://wandb.ai/rl_shobhith/uncategorized/sweeps/yivd2k4v' target=\"_blank\">https://wandb.ai/rl_shobhith/uncategorized/sweeps/yivd2k4v</a>"
      ],
      "text/plain": [
       "<IPython.core.display.HTML object>"
      ]
     },
     "metadata": {},
     "output_type": "display_data"
    },
    {
     "data": {
      "text/html": [
       " View project at <a href='https://wandb.ai/rl_shobhith/uncategorized' target=\"_blank\">https://wandb.ai/rl_shobhith/uncategorized</a>"
      ],
      "text/plain": [
       "<IPython.core.display.HTML object>"
      ]
     },
     "metadata": {},
     "output_type": "display_data"
    },
    {
     "data": {
      "text/html": [
       " View sweep at <a href='https://wandb.ai/rl_shobhith/uncategorized/sweeps/yivd2k4v' target=\"_blank\">https://wandb.ai/rl_shobhith/uncategorized/sweeps/yivd2k4v</a>"
      ],
      "text/plain": [
       "<IPython.core.display.HTML object>"
      ]
     },
     "metadata": {},
     "output_type": "display_data"
    },
    {
     "data": {
      "text/html": [
       " View run at <a href='https://wandb.ai/rl_shobhith/uncategorized/runs/m4st524b/workspace' target=\"_blank\">https://wandb.ai/rl_shobhith/uncategorized/runs/m4st524b/workspace</a>"
      ],
      "text/plain": [
       "<IPython.core.display.HTML object>"
      ]
     },
     "metadata": {},
     "output_type": "display_data"
    },
    {
     "name": "stderr",
     "output_type": "stream",
     "text": [
      "Iteration 0: 100%|██████████| 50/50 [00:11<00:00,  4.33it/s, episode_return=50, return=-85.900] \n",
      "Iteration 1: 100%|██████████| 50/50 [00:08<00:00,  5.98it/s, episode_return=100, return=-82.000]\n",
      "Iteration 2: 100%|██████████| 50/50 [00:07<00:00,  6.81it/s, episode_return=150, return=-113.600]\n",
      "Iteration 3: 100%|██████████| 50/50 [00:33<00:00,  1.48it/s, episode_return=200, return=-500.000]\n",
      "Iteration 4: 100%|██████████| 50/50 [00:36<00:00,  1.38it/s, episode_return=250, return=-500.000]\n",
      "Iteration 5: 100%|██████████| 50/50 [00:37<00:00,  1.33it/s, episode_return=300, return=-500.000]\n",
      "Iteration 6: 100%|██████████| 50/50 [00:37<00:00,  1.32it/s, episode_return=350, return=-500.000]\n",
      "Iteration 7: 100%|██████████| 50/50 [00:37<00:00,  1.34it/s, episode_return=400, return=-500.000]\n",
      "Iteration 8: 100%|██████████| 50/50 [00:37<00:00,  1.35it/s, episode_return=450, return=-500.000]\n",
      "Iteration 9: 100%|██████████| 50/50 [00:37<00:00,  1.33it/s, episode_return=500, return=-500.000]\n"
     ]
    },
    {
     "data": {
      "application/vnd.jupyter.widget-view+json": {
       "model_id": "b75b374988b044e280b64551ccdabba5",
       "version_major": 2,
       "version_minor": 0
      },
      "text/plain": [
       "VBox(children=(Label(value='0.001 MB of 0.007 MB uploaded\\r'), FloatProgress(value=0.1645118733509235, max=1.0…"
      ]
     },
     "metadata": {},
     "output_type": "display_data"
    },
    {
     "data": {
      "text/html": [
       "<style>\n",
       "    table.wandb td:nth-child(1) { padding: 0 10px; text-align: left ; width: auto;} td:nth-child(2) {text-align: left ; width: 100%}\n",
       "    .wandb-row { display: flex; flex-direction: row; flex-wrap: wrap; justify-content: flex-start; width: 100% }\n",
       "    .wandb-col { display: flex; flex-direction: column; flex-basis: 100%; flex: 1; padding: 10px; }\n",
       "    </style>\n",
       "<div class=\"wandb-row\"><div class=\"wandb-col\"><h3>Run history:</h3><br/><table class=\"wandb\"><tr><td>regret</td><td>▁</td></tr></table><br/></div><div class=\"wandb-col\"><h3>Run summary:</h3><br/><table class=\"wandb\"><tr><td>regret</td><td>170226.49522</td></tr></table><br/></div></div>"
      ],
      "text/plain": [
       "<IPython.core.display.HTML object>"
      ]
     },
     "metadata": {},
     "output_type": "display_data"
    },
    {
     "data": {
      "text/html": [
       " View run <strong style=\"color:#cdcd00\">eager-sweep-91</strong> at: <a href='https://wandb.ai/rl_shobhith/uncategorized/runs/m4st524b/workspace' target=\"_blank\">https://wandb.ai/rl_shobhith/uncategorized/runs/m4st524b/workspace</a><br/>Synced 5 W&B file(s), 0 media file(s), 0 artifact file(s) and 0 other file(s)"
      ],
      "text/plain": [
       "<IPython.core.display.HTML object>"
      ]
     },
     "metadata": {},
     "output_type": "display_data"
    },
    {
     "data": {
      "text/html": [
       "Find logs at: <code>.\\wandb\\run-20240402_062425-m4st524b\\logs</code>"
      ],
      "text/plain": [
       "<IPython.core.display.HTML object>"
      ]
     },
     "metadata": {},
     "output_type": "display_data"
    },
    {
     "name": "stderr",
     "output_type": "stream",
     "text": [
      "\u001b[34m\u001b[1mwandb\u001b[0m: Sweep Agent: Waiting for job.\n",
      "\u001b[34m\u001b[1mwandb\u001b[0m: Job received.\n",
      "\u001b[34m\u001b[1mwandb\u001b[0m: Agent Starting Run: om47mkwd with config:\n",
      "\u001b[34m\u001b[1mwandb\u001b[0m: \thidden_dim: 64\n",
      "\u001b[34m\u001b[1mwandb\u001b[0m: \tlearning_rate: 0.0017698122390377071\n",
      "Failed to detect the name of this notebook, you can set it manually with the WANDB_NOTEBOOK_NAME environment variable to enable code saving.\n",
      "\u001b[34m\u001b[1mwandb\u001b[0m: \u001b[33mWARNING\u001b[0m Ignored wandb.init() arg project when running a sweep.\n"
     ]
    },
    {
     "data": {
      "application/vnd.jupyter.widget-view+json": {
       "model_id": "22e559bb4cf645b7880942643c9c9bc2",
       "version_major": 2,
       "version_minor": 0
      },
      "text/plain": [
       "VBox(children=(Label(value='Waiting for wandb.init()...\\r'), FloatProgress(value=0.011111111111111112, max=1.0…"
      ]
     },
     "metadata": {},
     "output_type": "display_data"
    },
    {
     "data": {
      "text/html": [
       "Tracking run with wandb version 0.16.5"
      ],
      "text/plain": [
       "<IPython.core.display.HTML object>"
      ]
     },
     "metadata": {},
     "output_type": "display_data"
    },
    {
     "data": {
      "text/html": [
       "Run data is saved locally in <code>c:\\Users\\Shobhith Vadlamudi\\AppData\\Local\\Programs\\Microsoft VS Code\\wandb\\run-20240402_062930-om47mkwd</code>"
      ],
      "text/plain": [
       "<IPython.core.display.HTML object>"
      ]
     },
     "metadata": {},
     "output_type": "display_data"
    },
    {
     "data": {
      "text/html": [
       "Syncing run <strong><a href='https://wandb.ai/rl_shobhith/uncategorized/runs/om47mkwd/workspace' target=\"_blank\">worthy-sweep-92</a></strong> to <a href='https://wandb.ai/rl_shobhith/uncategorized' target=\"_blank\">Weights & Biases</a> (<a href='https://wandb.me/run' target=\"_blank\">docs</a>)<br/>Sweep page: <a href='https://wandb.ai/rl_shobhith/uncategorized/sweeps/yivd2k4v' target=\"_blank\">https://wandb.ai/rl_shobhith/uncategorized/sweeps/yivd2k4v</a>"
      ],
      "text/plain": [
       "<IPython.core.display.HTML object>"
      ]
     },
     "metadata": {},
     "output_type": "display_data"
    },
    {
     "data": {
      "text/html": [
       " View project at <a href='https://wandb.ai/rl_shobhith/uncategorized' target=\"_blank\">https://wandb.ai/rl_shobhith/uncategorized</a>"
      ],
      "text/plain": [
       "<IPython.core.display.HTML object>"
      ]
     },
     "metadata": {},
     "output_type": "display_data"
    },
    {
     "data": {
      "text/html": [
       " View sweep at <a href='https://wandb.ai/rl_shobhith/uncategorized/sweeps/yivd2k4v' target=\"_blank\">https://wandb.ai/rl_shobhith/uncategorized/sweeps/yivd2k4v</a>"
      ],
      "text/plain": [
       "<IPython.core.display.HTML object>"
      ]
     },
     "metadata": {},
     "output_type": "display_data"
    },
    {
     "data": {
      "text/html": [
       " View run at <a href='https://wandb.ai/rl_shobhith/uncategorized/runs/om47mkwd/workspace' target=\"_blank\">https://wandb.ai/rl_shobhith/uncategorized/runs/om47mkwd/workspace</a>"
      ],
      "text/plain": [
       "<IPython.core.display.HTML object>"
      ]
     },
     "metadata": {},
     "output_type": "display_data"
    },
    {
     "name": "stderr",
     "output_type": "stream",
     "text": [
      "Iteration 0: 100%|██████████| 50/50 [00:26<00:00,  1.87it/s, episode_return=50, return=-440.700]\n",
      "Iteration 1: 100%|██████████| 50/50 [00:22<00:00,  2.23it/s, episode_return=100, return=-254.300]\n",
      "Iteration 2: 100%|██████████| 50/50 [00:12<00:00,  4.00it/s, episode_return=150, return=-176.700]\n",
      "Iteration 3: 100%|██████████| 50/50 [00:11<00:00,  4.34it/s, episode_return=200, return=-162.700]\n",
      "Iteration 4: 100%|██████████| 50/50 [00:09<00:00,  5.55it/s, episode_return=250, return=-150.300]\n",
      "Iteration 5: 100%|██████████| 50/50 [00:07<00:00,  6.95it/s, episode_return=300, return=-116.500]\n",
      "Iteration 6: 100%|██████████| 50/50 [00:08<00:00,  6.03it/s, episode_return=350, return=-129.200]\n",
      "Iteration 7: 100%|██████████| 50/50 [00:07<00:00,  6.34it/s, episode_return=400, return=-118.200]\n",
      "Iteration 8: 100%|██████████| 50/50 [00:07<00:00,  6.78it/s, episode_return=450, return=-127.200]\n",
      "Iteration 9: 100%|██████████| 50/50 [00:07<00:00,  6.40it/s, episode_return=500, return=-129.300]\n"
     ]
    },
    {
     "data": {
      "application/vnd.jupyter.widget-view+json": {
       "model_id": "613848a6a9d74027b5e8562a32619fa8",
       "version_major": 2,
       "version_minor": 0
      },
      "text/plain": [
       "VBox(children=(Label(value='0.001 MB of 0.001 MB uploaded\\r'), FloatProgress(value=1.0, max=1.0)))"
      ]
     },
     "metadata": {},
     "output_type": "display_data"
    },
    {
     "data": {
      "text/html": [
       "<style>\n",
       "    table.wandb td:nth-child(1) { padding: 0 10px; text-align: left ; width: auto;} td:nth-child(2) {text-align: left ; width: 100%}\n",
       "    .wandb-row { display: flex; flex-direction: row; flex-wrap: wrap; justify-content: flex-start; width: 100% }\n",
       "    .wandb-col { display: flex; flex-direction: column; flex-basis: 100%; flex: 1; padding: 10px; }\n",
       "    </style>\n",
       "<div class=\"wandb-row\"><div class=\"wandb-col\"><h3>Run history:</h3><br/><table class=\"wandb\"><tr><td>regret</td><td>▁</td></tr></table><br/></div><div class=\"wandb-col\"><h3>Run summary:</h3><br/><table class=\"wandb\"><tr><td>regret</td><td>109912.02846</td></tr></table><br/></div></div>"
      ],
      "text/plain": [
       "<IPython.core.display.HTML object>"
      ]
     },
     "metadata": {},
     "output_type": "display_data"
    },
    {
     "data": {
      "text/html": [
       " View run <strong style=\"color:#cdcd00\">worthy-sweep-92</strong> at: <a href='https://wandb.ai/rl_shobhith/uncategorized/runs/om47mkwd/workspace' target=\"_blank\">https://wandb.ai/rl_shobhith/uncategorized/runs/om47mkwd/workspace</a><br/>Synced 5 W&B file(s), 0 media file(s), 0 artifact file(s) and 0 other file(s)"
      ],
      "text/plain": [
       "<IPython.core.display.HTML object>"
      ]
     },
     "metadata": {},
     "output_type": "display_data"
    },
    {
     "data": {
      "text/html": [
       "Find logs at: <code>.\\wandb\\run-20240402_062930-om47mkwd\\logs</code>"
      ],
      "text/plain": [
       "<IPython.core.display.HTML object>"
      ]
     },
     "metadata": {},
     "output_type": "display_data"
    },
    {
     "name": "stderr",
     "output_type": "stream",
     "text": [
      "\u001b[34m\u001b[1mwandb\u001b[0m: Agent Starting Run: 7vs81syr with config:\n",
      "\u001b[34m\u001b[1mwandb\u001b[0m: \thidden_dim: 128\n",
      "\u001b[34m\u001b[1mwandb\u001b[0m: \tlearning_rate: 0.005398766987862276\n",
      "Failed to detect the name of this notebook, you can set it manually with the WANDB_NOTEBOOK_NAME environment variable to enable code saving.\n",
      "\u001b[34m\u001b[1mwandb\u001b[0m: \u001b[33mWARNING\u001b[0m Ignored wandb.init() arg project when running a sweep.\n"
     ]
    },
    {
     "data": {
      "text/html": [
       "Tracking run with wandb version 0.16.5"
      ],
      "text/plain": [
       "<IPython.core.display.HTML object>"
      ]
     },
     "metadata": {},
     "output_type": "display_data"
    },
    {
     "data": {
      "text/html": [
       "Run data is saved locally in <code>c:\\Users\\Shobhith Vadlamudi\\AppData\\Local\\Programs\\Microsoft VS Code\\wandb\\run-20240402_063148-7vs81syr</code>"
      ],
      "text/plain": [
       "<IPython.core.display.HTML object>"
      ]
     },
     "metadata": {},
     "output_type": "display_data"
    },
    {
     "data": {
      "text/html": [
       "Syncing run <strong><a href='https://wandb.ai/rl_shobhith/uncategorized/runs/7vs81syr/workspace' target=\"_blank\">driven-sweep-93</a></strong> to <a href='https://wandb.ai/rl_shobhith/uncategorized' target=\"_blank\">Weights & Biases</a> (<a href='https://wandb.me/run' target=\"_blank\">docs</a>)<br/>Sweep page: <a href='https://wandb.ai/rl_shobhith/uncategorized/sweeps/yivd2k4v' target=\"_blank\">https://wandb.ai/rl_shobhith/uncategorized/sweeps/yivd2k4v</a>"
      ],
      "text/plain": [
       "<IPython.core.display.HTML object>"
      ]
     },
     "metadata": {},
     "output_type": "display_data"
    },
    {
     "data": {
      "text/html": [
       " View project at <a href='https://wandb.ai/rl_shobhith/uncategorized' target=\"_blank\">https://wandb.ai/rl_shobhith/uncategorized</a>"
      ],
      "text/plain": [
       "<IPython.core.display.HTML object>"
      ]
     },
     "metadata": {},
     "output_type": "display_data"
    },
    {
     "data": {
      "text/html": [
       " View sweep at <a href='https://wandb.ai/rl_shobhith/uncategorized/sweeps/yivd2k4v' target=\"_blank\">https://wandb.ai/rl_shobhith/uncategorized/sweeps/yivd2k4v</a>"
      ],
      "text/plain": [
       "<IPython.core.display.HTML object>"
      ]
     },
     "metadata": {},
     "output_type": "display_data"
    },
    {
     "data": {
      "text/html": [
       " View run at <a href='https://wandb.ai/rl_shobhith/uncategorized/runs/7vs81syr/workspace' target=\"_blank\">https://wandb.ai/rl_shobhith/uncategorized/runs/7vs81syr/workspace</a>"
      ],
      "text/plain": [
       "<IPython.core.display.HTML object>"
      ]
     },
     "metadata": {},
     "output_type": "display_data"
    },
    {
     "name": "stderr",
     "output_type": "stream",
     "text": [
      "Iteration 0: 100%|██████████| 50/50 [00:31<00:00,  1.59it/s, episode_return=50, return=-500.000]\n",
      "Iteration 1: 100%|██████████| 50/50 [00:32<00:00,  1.55it/s, episode_return=100, return=-500.000]\n",
      "Iteration 2: 100%|██████████| 50/50 [00:32<00:00,  1.53it/s, episode_return=150, return=-500.000]\n",
      "Iteration 3: 100%|██████████| 50/50 [00:33<00:00,  1.51it/s, episode_return=200, return=-500.000]\n",
      "Iteration 4: 100%|██████████| 50/50 [00:32<00:00,  1.54it/s, episode_return=250, return=-500.000]\n",
      "Iteration 5: 100%|██████████| 50/50 [00:35<00:00,  1.42it/s, episode_return=300, return=-500.000]\n",
      "Iteration 6: 100%|██████████| 50/50 [00:36<00:00,  1.38it/s, episode_return=350, return=-500.000]\n",
      "Iteration 7: 100%|██████████| 50/50 [00:36<00:00,  1.36it/s, episode_return=400, return=-500.000]\n",
      "Iteration 8: 100%|██████████| 50/50 [00:36<00:00,  1.37it/s, episode_return=450, return=-500.000]\n",
      "Iteration 9: 100%|██████████| 50/50 [00:34<00:00,  1.43it/s, episode_return=500, return=-500.000]\n"
     ]
    },
    {
     "data": {
      "application/vnd.jupyter.widget-view+json": {
       "model_id": "69fc395dc4b0415ab2f632300c2d287e",
       "version_major": 2,
       "version_minor": 0
      },
      "text/plain": [
       "VBox(children=(Label(value='0.001 MB of 0.001 MB uploaded\\r'), FloatProgress(value=1.0, max=1.0)))"
      ]
     },
     "metadata": {},
     "output_type": "display_data"
    },
    {
     "data": {
      "text/html": [
       "<style>\n",
       "    table.wandb td:nth-child(1) { padding: 0 10px; text-align: left ; width: auto;} td:nth-child(2) {text-align: left ; width: 100%}\n",
       "    .wandb-row { display: flex; flex-direction: row; flex-wrap: wrap; justify-content: flex-start; width: 100% }\n",
       "    .wandb-col { display: flex; flex-direction: column; flex-basis: 100%; flex: 1; padding: 10px; }\n",
       "    </style>\n",
       "<div class=\"wandb-row\"><div class=\"wandb-col\"><h3>Run history:</h3><br/><table class=\"wandb\"><tr><td>regret</td><td>▁</td></tr></table><br/></div><div class=\"wandb-col\"><h3>Run summary:</h3><br/><table class=\"wandb\"><tr><td>regret</td><td>250000.0</td></tr></table><br/></div></div>"
      ],
      "text/plain": [
       "<IPython.core.display.HTML object>"
      ]
     },
     "metadata": {},
     "output_type": "display_data"
    },
    {
     "data": {
      "text/html": [
       " View run <strong style=\"color:#cdcd00\">driven-sweep-93</strong> at: <a href='https://wandb.ai/rl_shobhith/uncategorized/runs/7vs81syr/workspace' target=\"_blank\">https://wandb.ai/rl_shobhith/uncategorized/runs/7vs81syr/workspace</a><br/>Synced 5 W&B file(s), 0 media file(s), 0 artifact file(s) and 0 other file(s)"
      ],
      "text/plain": [
       "<IPython.core.display.HTML object>"
      ]
     },
     "metadata": {},
     "output_type": "display_data"
    },
    {
     "data": {
      "text/html": [
       "Find logs at: <code>.\\wandb\\run-20240402_063148-7vs81syr\\logs</code>"
      ],
      "text/plain": [
       "<IPython.core.display.HTML object>"
      ]
     },
     "metadata": {},
     "output_type": "display_data"
    },
    {
     "name": "stderr",
     "output_type": "stream",
     "text": [
      "\u001b[34m\u001b[1mwandb\u001b[0m: Agent Starting Run: qyygsz5j with config:\n",
      "\u001b[34m\u001b[1mwandb\u001b[0m: \thidden_dim: 128\n",
      "\u001b[34m\u001b[1mwandb\u001b[0m: \tlearning_rate: 0.00657812952206139\n",
      "Failed to detect the name of this notebook, you can set it manually with the WANDB_NOTEBOOK_NAME environment variable to enable code saving.\n",
      "\u001b[34m\u001b[1mwandb\u001b[0m: \u001b[33mWARNING\u001b[0m Ignored wandb.init() arg project when running a sweep.\n"
     ]
    },
    {
     "data": {
      "text/html": [
       "Tracking run with wandb version 0.16.5"
      ],
      "text/plain": [
       "<IPython.core.display.HTML object>"
      ]
     },
     "metadata": {},
     "output_type": "display_data"
    },
    {
     "data": {
      "text/html": [
       "Run data is saved locally in <code>c:\\Users\\Shobhith Vadlamudi\\AppData\\Local\\Programs\\Microsoft VS Code\\wandb\\run-20240402_063742-qyygsz5j</code>"
      ],
      "text/plain": [
       "<IPython.core.display.HTML object>"
      ]
     },
     "metadata": {},
     "output_type": "display_data"
    },
    {
     "data": {
      "text/html": [
       "Syncing run <strong><a href='https://wandb.ai/rl_shobhith/uncategorized/runs/qyygsz5j/workspace' target=\"_blank\">happy-sweep-94</a></strong> to <a href='https://wandb.ai/rl_shobhith/uncategorized' target=\"_blank\">Weights & Biases</a> (<a href='https://wandb.me/run' target=\"_blank\">docs</a>)<br/>Sweep page: <a href='https://wandb.ai/rl_shobhith/uncategorized/sweeps/yivd2k4v' target=\"_blank\">https://wandb.ai/rl_shobhith/uncategorized/sweeps/yivd2k4v</a>"
      ],
      "text/plain": [
       "<IPython.core.display.HTML object>"
      ]
     },
     "metadata": {},
     "output_type": "display_data"
    },
    {
     "data": {
      "text/html": [
       " View project at <a href='https://wandb.ai/rl_shobhith/uncategorized' target=\"_blank\">https://wandb.ai/rl_shobhith/uncategorized</a>"
      ],
      "text/plain": [
       "<IPython.core.display.HTML object>"
      ]
     },
     "metadata": {},
     "output_type": "display_data"
    },
    {
     "data": {
      "text/html": [
       " View sweep at <a href='https://wandb.ai/rl_shobhith/uncategorized/sweeps/yivd2k4v' target=\"_blank\">https://wandb.ai/rl_shobhith/uncategorized/sweeps/yivd2k4v</a>"
      ],
      "text/plain": [
       "<IPython.core.display.HTML object>"
      ]
     },
     "metadata": {},
     "output_type": "display_data"
    },
    {
     "data": {
      "text/html": [
       " View run at <a href='https://wandb.ai/rl_shobhith/uncategorized/runs/qyygsz5j/workspace' target=\"_blank\">https://wandb.ai/rl_shobhith/uncategorized/runs/qyygsz5j/workspace</a>"
      ],
      "text/plain": [
       "<IPython.core.display.HTML object>"
      ]
     },
     "metadata": {},
     "output_type": "display_data"
    },
    {
     "name": "stderr",
     "output_type": "stream",
     "text": [
      "Iteration 0: 100%|██████████| 50/50 [00:33<00:00,  1.50it/s, episode_return=50, return=-500.000]\n",
      "Iteration 1: 100%|██████████| 50/50 [00:33<00:00,  1.48it/s, episode_return=100, return=-500.000]\n",
      "Iteration 2: 100%|██████████| 50/50 [00:33<00:00,  1.51it/s, episode_return=150, return=-495.400]\n",
      "Iteration 3: 100%|██████████| 50/50 [00:16<00:00,  3.10it/s, episode_return=200, return=-172.600]\n",
      "Iteration 4: 100%|██████████| 50/50 [00:14<00:00,  3.37it/s, episode_return=250, return=-167.300]\n",
      "Iteration 5: 100%|██████████| 50/50 [00:11<00:00,  4.42it/s, episode_return=300, return=-154.800]\n",
      "Iteration 6: 100%|██████████| 50/50 [00:10<00:00,  4.79it/s, episode_return=350, return=-162.200]\n",
      "Iteration 7: 100%|██████████| 50/50 [00:11<00:00,  4.53it/s, episode_return=400, return=-179.400]\n",
      "Iteration 8: 100%|██████████| 50/50 [00:10<00:00,  4.63it/s, episode_return=450, return=-157.300]\n",
      "Iteration 9: 100%|██████████| 50/50 [00:19<00:00,  2.61it/s, episode_return=500, return=-340.500]\n"
     ]
    },
    {
     "data": {
      "application/vnd.jupyter.widget-view+json": {
       "model_id": "08c1e769ffd448bab5dee371aa7736a3",
       "version_major": 2,
       "version_minor": 0
      },
      "text/plain": [
       "VBox(children=(Label(value='0.001 MB of 0.001 MB uploaded\\r'), FloatProgress(value=1.0, max=1.0)))"
      ]
     },
     "metadata": {},
     "output_type": "display_data"
    },
    {
     "data": {
      "text/html": [
       "<style>\n",
       "    table.wandb td:nth-child(1) { padding: 0 10px; text-align: left ; width: auto;} td:nth-child(2) {text-align: left ; width: 100%}\n",
       "    .wandb-row { display: flex; flex-direction: row; flex-wrap: wrap; justify-content: flex-start; width: 100% }\n",
       "    .wandb-col { display: flex; flex-direction: column; flex-basis: 100%; flex: 1; padding: 10px; }\n",
       "    </style>\n",
       "<div class=\"wandb-row\"><div class=\"wandb-col\"><h3>Run history:</h3><br/><table class=\"wandb\"><tr><td>regret</td><td>▁</td></tr></table><br/></div><div class=\"wandb-col\"><h3>Run summary:</h3><br/><table class=\"wandb\"><tr><td>regret</td><td>152758.89109</td></tr></table><br/></div></div>"
      ],
      "text/plain": [
       "<IPython.core.display.HTML object>"
      ]
     },
     "metadata": {},
     "output_type": "display_data"
    },
    {
     "data": {
      "text/html": [
       " View run <strong style=\"color:#cdcd00\">happy-sweep-94</strong> at: <a href='https://wandb.ai/rl_shobhith/uncategorized/runs/qyygsz5j/workspace' target=\"_blank\">https://wandb.ai/rl_shobhith/uncategorized/runs/qyygsz5j/workspace</a><br/>Synced 5 W&B file(s), 0 media file(s), 0 artifact file(s) and 0 other file(s)"
      ],
      "text/plain": [
       "<IPython.core.display.HTML object>"
      ]
     },
     "metadata": {},
     "output_type": "display_data"
    },
    {
     "data": {
      "text/html": [
       "Find logs at: <code>.\\wandb\\run-20240402_063742-qyygsz5j\\logs</code>"
      ],
      "text/plain": [
       "<IPython.core.display.HTML object>"
      ]
     },
     "metadata": {},
     "output_type": "display_data"
    },
    {
     "name": "stderr",
     "output_type": "stream",
     "text": [
      "\u001b[34m\u001b[1mwandb\u001b[0m: Agent Starting Run: hdy51hnm with config:\n",
      "\u001b[34m\u001b[1mwandb\u001b[0m: \thidden_dim: 128\n",
      "\u001b[34m\u001b[1mwandb\u001b[0m: \tlearning_rate: 0.008183392879374871\n",
      "Failed to detect the name of this notebook, you can set it manually with the WANDB_NOTEBOOK_NAME environment variable to enable code saving.\n",
      "\u001b[34m\u001b[1mwandb\u001b[0m: \u001b[33mWARNING\u001b[0m Ignored wandb.init() arg project when running a sweep.\n"
     ]
    },
    {
     "data": {
      "text/html": [
       "Tracking run with wandb version 0.16.5"
      ],
      "text/plain": [
       "<IPython.core.display.HTML object>"
      ]
     },
     "metadata": {},
     "output_type": "display_data"
    },
    {
     "data": {
      "text/html": [
       "Run data is saved locally in <code>c:\\Users\\Shobhith Vadlamudi\\AppData\\Local\\Programs\\Microsoft VS Code\\wandb\\run-20240402_064109-hdy51hnm</code>"
      ],
      "text/plain": [
       "<IPython.core.display.HTML object>"
      ]
     },
     "metadata": {},
     "output_type": "display_data"
    },
    {
     "data": {
      "text/html": [
       "Syncing run <strong><a href='https://wandb.ai/rl_shobhith/uncategorized/runs/hdy51hnm/workspace' target=\"_blank\">scarlet-sweep-95</a></strong> to <a href='https://wandb.ai/rl_shobhith/uncategorized' target=\"_blank\">Weights & Biases</a> (<a href='https://wandb.me/run' target=\"_blank\">docs</a>)<br/>Sweep page: <a href='https://wandb.ai/rl_shobhith/uncategorized/sweeps/yivd2k4v' target=\"_blank\">https://wandb.ai/rl_shobhith/uncategorized/sweeps/yivd2k4v</a>"
      ],
      "text/plain": [
       "<IPython.core.display.HTML object>"
      ]
     },
     "metadata": {},
     "output_type": "display_data"
    },
    {
     "data": {
      "text/html": [
       " View project at <a href='https://wandb.ai/rl_shobhith/uncategorized' target=\"_blank\">https://wandb.ai/rl_shobhith/uncategorized</a>"
      ],
      "text/plain": [
       "<IPython.core.display.HTML object>"
      ]
     },
     "metadata": {},
     "output_type": "display_data"
    },
    {
     "data": {
      "text/html": [
       " View sweep at <a href='https://wandb.ai/rl_shobhith/uncategorized/sweeps/yivd2k4v' target=\"_blank\">https://wandb.ai/rl_shobhith/uncategorized/sweeps/yivd2k4v</a>"
      ],
      "text/plain": [
       "<IPython.core.display.HTML object>"
      ]
     },
     "metadata": {},
     "output_type": "display_data"
    },
    {
     "data": {
      "text/html": [
       " View run at <a href='https://wandb.ai/rl_shobhith/uncategorized/runs/hdy51hnm/workspace' target=\"_blank\">https://wandb.ai/rl_shobhith/uncategorized/runs/hdy51hnm/workspace</a>"
      ],
      "text/plain": [
       "<IPython.core.display.HTML object>"
      ]
     },
     "metadata": {},
     "output_type": "display_data"
    },
    {
     "name": "stderr",
     "output_type": "stream",
     "text": [
      "Iteration 0: 100%|██████████| 50/50 [00:14<00:00,  3.43it/s, episode_return=50, return=-182.500]\n",
      "Iteration 1: 100%|██████████| 50/50 [00:14<00:00,  3.45it/s, episode_return=100, return=-223.900]\n",
      "Iteration 2: 100%|██████████| 50/50 [00:14<00:00,  3.43it/s, episode_return=150, return=-165.500]\n",
      "Iteration 3: 100%|██████████| 50/50 [00:15<00:00,  3.30it/s, episode_return=200, return=-198.700]\n",
      "Iteration 4: 100%|██████████| 50/50 [00:12<00:00,  3.98it/s, episode_return=250, return=-180.500]\n",
      "Iteration 5: 100%|██████████| 50/50 [00:12<00:00,  4.07it/s, episode_return=300, return=-164.500]\n",
      "Iteration 6: 100%|██████████| 50/50 [00:10<00:00,  4.59it/s, episode_return=350, return=-153.900]\n",
      "Iteration 7: 100%|██████████| 50/50 [00:17<00:00,  2.84it/s, episode_return=400, return=-500.000]\n",
      "Iteration 8: 100%|██████████| 50/50 [00:31<00:00,  1.58it/s, episode_return=450, return=-500.000]\n",
      "Iteration 9: 100%|██████████| 50/50 [00:32<00:00,  1.52it/s, episode_return=500, return=-500.000]\n"
     ]
    },
    {
     "data": {
      "application/vnd.jupyter.widget-view+json": {
       "model_id": "9351a27b0aa1485284c34907794254ee",
       "version_major": 2,
       "version_minor": 0
      },
      "text/plain": [
       "VBox(children=(Label(value='0.001 MB of 0.001 MB uploaded\\r'), FloatProgress(value=1.0, max=1.0)))"
      ]
     },
     "metadata": {},
     "output_type": "display_data"
    },
    {
     "data": {
      "text/html": [
       "<style>\n",
       "    table.wandb td:nth-child(1) { padding: 0 10px; text-align: left ; width: auto;} td:nth-child(2) {text-align: left ; width: 100%}\n",
       "    .wandb-row { display: flex; flex-direction: row; flex-wrap: wrap; justify-content: flex-start; width: 100% }\n",
       "    .wandb-col { display: flex; flex-direction: column; flex-basis: 100%; flex: 1; padding: 10px; }\n",
       "    </style>\n",
       "<div class=\"wandb-row\"><div class=\"wandb-col\"><h3>Run history:</h3><br/><table class=\"wandb\"><tr><td>regret</td><td>▁</td></tr></table><br/></div><div class=\"wandb-col\"><h3>Run summary:</h3><br/><table class=\"wandb\"><tr><td>regret</td><td>121924.18079</td></tr></table><br/></div></div>"
      ],
      "text/plain": [
       "<IPython.core.display.HTML object>"
      ]
     },
     "metadata": {},
     "output_type": "display_data"
    },
    {
     "data": {
      "text/html": [
       " View run <strong style=\"color:#cdcd00\">scarlet-sweep-95</strong> at: <a href='https://wandb.ai/rl_shobhith/uncategorized/runs/hdy51hnm/workspace' target=\"_blank\">https://wandb.ai/rl_shobhith/uncategorized/runs/hdy51hnm/workspace</a><br/>Synced 5 W&B file(s), 0 media file(s), 0 artifact file(s) and 0 other file(s)"
      ],
      "text/plain": [
       "<IPython.core.display.HTML object>"
      ]
     },
     "metadata": {},
     "output_type": "display_data"
    },
    {
     "data": {
      "text/html": [
       "Find logs at: <code>.\\wandb\\run-20240402_064109-hdy51hnm\\logs</code>"
      ],
      "text/plain": [
       "<IPython.core.display.HTML object>"
      ]
     },
     "metadata": {},
     "output_type": "display_data"
    },
    {
     "name": "stderr",
     "output_type": "stream",
     "text": [
      "\u001b[34m\u001b[1mwandb\u001b[0m: Agent Starting Run: wn5ziglj with config:\n",
      "\u001b[34m\u001b[1mwandb\u001b[0m: \thidden_dim: 128\n",
      "\u001b[34m\u001b[1mwandb\u001b[0m: \tlearning_rate: 0.005682247712221909\n",
      "Failed to detect the name of this notebook, you can set it manually with the WANDB_NOTEBOOK_NAME environment variable to enable code saving.\n",
      "\u001b[34m\u001b[1mwandb\u001b[0m: \u001b[33mWARNING\u001b[0m Ignored wandb.init() arg project when running a sweep.\n"
     ]
    },
    {
     "data": {
      "text/html": [
       "Tracking run with wandb version 0.16.5"
      ],
      "text/plain": [
       "<IPython.core.display.HTML object>"
      ]
     },
     "metadata": {},
     "output_type": "display_data"
    },
    {
     "data": {
      "text/html": [
       "Run data is saved locally in <code>c:\\Users\\Shobhith Vadlamudi\\AppData\\Local\\Programs\\Microsoft VS Code\\wandb\\run-20240402_064418-wn5ziglj</code>"
      ],
      "text/plain": [
       "<IPython.core.display.HTML object>"
      ]
     },
     "metadata": {},
     "output_type": "display_data"
    },
    {
     "data": {
      "text/html": [
       "Syncing run <strong><a href='https://wandb.ai/rl_shobhith/uncategorized/runs/wn5ziglj/workspace' target=\"_blank\">soft-sweep-96</a></strong> to <a href='https://wandb.ai/rl_shobhith/uncategorized' target=\"_blank\">Weights & Biases</a> (<a href='https://wandb.me/run' target=\"_blank\">docs</a>)<br/>Sweep page: <a href='https://wandb.ai/rl_shobhith/uncategorized/sweeps/yivd2k4v' target=\"_blank\">https://wandb.ai/rl_shobhith/uncategorized/sweeps/yivd2k4v</a>"
      ],
      "text/plain": [
       "<IPython.core.display.HTML object>"
      ]
     },
     "metadata": {},
     "output_type": "display_data"
    },
    {
     "data": {
      "text/html": [
       " View project at <a href='https://wandb.ai/rl_shobhith/uncategorized' target=\"_blank\">https://wandb.ai/rl_shobhith/uncategorized</a>"
      ],
      "text/plain": [
       "<IPython.core.display.HTML object>"
      ]
     },
     "metadata": {},
     "output_type": "display_data"
    },
    {
     "data": {
      "text/html": [
       " View sweep at <a href='https://wandb.ai/rl_shobhith/uncategorized/sweeps/yivd2k4v' target=\"_blank\">https://wandb.ai/rl_shobhith/uncategorized/sweeps/yivd2k4v</a>"
      ],
      "text/plain": [
       "<IPython.core.display.HTML object>"
      ]
     },
     "metadata": {},
     "output_type": "display_data"
    },
    {
     "data": {
      "text/html": [
       " View run at <a href='https://wandb.ai/rl_shobhith/uncategorized/runs/wn5ziglj/workspace' target=\"_blank\">https://wandb.ai/rl_shobhith/uncategorized/runs/wn5ziglj/workspace</a>"
      ],
      "text/plain": [
       "<IPython.core.display.HTML object>"
      ]
     },
     "metadata": {},
     "output_type": "display_data"
    },
    {
     "name": "stderr",
     "output_type": "stream",
     "text": [
      "Iteration 0: 100%|██████████| 50/50 [00:32<00:00,  1.52it/s, episode_return=50, return=-500.000]\n",
      "Iteration 1: 100%|██████████| 50/50 [00:33<00:00,  1.51it/s, episode_return=100, return=-500.000]\n",
      "Iteration 2: 100%|██████████| 50/50 [00:32<00:00,  1.52it/s, episode_return=150, return=-500.000]\n",
      "Iteration 3: 100%|██████████| 50/50 [00:36<00:00,  1.36it/s, episode_return=200, return=-500.000]\n",
      "Iteration 4: 100%|██████████| 50/50 [00:33<00:00,  1.48it/s, episode_return=250, return=-500.000]\n",
      "Iteration 5: 100%|██████████| 50/50 [00:31<00:00,  1.59it/s, episode_return=300, return=-500.000]\n",
      "Iteration 6: 100%|██████████| 50/50 [00:31<00:00,  1.57it/s, episode_return=350, return=-500.000]\n",
      "Iteration 7: 100%|██████████| 50/50 [00:33<00:00,  1.51it/s, episode_return=400, return=-500.000]\n",
      "Iteration 8: 100%|██████████| 50/50 [00:29<00:00,  1.69it/s, episode_return=450, return=-491.100]\n",
      "Iteration 9: 100%|██████████| 50/50 [00:31<00:00,  1.57it/s, episode_return=500, return=-500.000]\n"
     ]
    },
    {
     "data": {
      "application/vnd.jupyter.widget-view+json": {
       "model_id": "8897223e7ae54cda80541bde70626657",
       "version_major": 2,
       "version_minor": 0
      },
      "text/plain": [
       "VBox(children=(Label(value='0.001 MB of 0.001 MB uploaded\\r'), FloatProgress(value=1.0, max=1.0)))"
      ]
     },
     "metadata": {},
     "output_type": "display_data"
    },
    {
     "data": {
      "text/html": [
       "<style>\n",
       "    table.wandb td:nth-child(1) { padding: 0 10px; text-align: left ; width: auto;} td:nth-child(2) {text-align: left ; width: 100%}\n",
       "    .wandb-row { display: flex; flex-direction: row; flex-wrap: wrap; justify-content: flex-start; width: 100% }\n",
       "    .wandb-col { display: flex; flex-direction: column; flex-basis: 100%; flex: 1; padding: 10px; }\n",
       "    </style>\n",
       "<div class=\"wandb-row\"><div class=\"wandb-col\"><h3>Run history:</h3><br/><table class=\"wandb\"><tr><td>regret</td><td>▁</td></tr></table><br/></div><div class=\"wandb-col\"><h3>Run summary:</h3><br/><table class=\"wandb\"><tr><td>regret</td><td>248130.86139</td></tr></table><br/></div></div>"
      ],
      "text/plain": [
       "<IPython.core.display.HTML object>"
      ]
     },
     "metadata": {},
     "output_type": "display_data"
    },
    {
     "data": {
      "text/html": [
       " View run <strong style=\"color:#cdcd00\">soft-sweep-96</strong> at: <a href='https://wandb.ai/rl_shobhith/uncategorized/runs/wn5ziglj/workspace' target=\"_blank\">https://wandb.ai/rl_shobhith/uncategorized/runs/wn5ziglj/workspace</a><br/>Synced 5 W&B file(s), 0 media file(s), 0 artifact file(s) and 0 other file(s)"
      ],
      "text/plain": [
       "<IPython.core.display.HTML object>"
      ]
     },
     "metadata": {},
     "output_type": "display_data"
    },
    {
     "data": {
      "text/html": [
       "Find logs at: <code>.\\wandb\\run-20240402_064418-wn5ziglj\\logs</code>"
      ],
      "text/plain": [
       "<IPython.core.display.HTML object>"
      ]
     },
     "metadata": {},
     "output_type": "display_data"
    },
    {
     "name": "stderr",
     "output_type": "stream",
     "text": [
      "\u001b[34m\u001b[1mwandb\u001b[0m: Agent Starting Run: ujvqf8uu with config:\n",
      "\u001b[34m\u001b[1mwandb\u001b[0m: \thidden_dim: 64\n",
      "\u001b[34m\u001b[1mwandb\u001b[0m: \tlearning_rate: 0.007412033057506342\n",
      "Failed to detect the name of this notebook, you can set it manually with the WANDB_NOTEBOOK_NAME environment variable to enable code saving.\n",
      "\u001b[34m\u001b[1mwandb\u001b[0m: \u001b[33mWARNING\u001b[0m Ignored wandb.init() arg project when running a sweep.\n"
     ]
    },
    {
     "data": {
      "application/vnd.jupyter.widget-view+json": {
       "model_id": "dc04598108f3478282849f7ca54b36c2",
       "version_major": 2,
       "version_minor": 0
      },
      "text/plain": [
       "VBox(children=(Label(value='Waiting for wandb.init()...\\r'), FloatProgress(value=0.011277777777932999, max=1.0…"
      ]
     },
     "metadata": {},
     "output_type": "display_data"
    },
    {
     "data": {
      "text/html": [
       "Tracking run with wandb version 0.16.5"
      ],
      "text/plain": [
       "<IPython.core.display.HTML object>"
      ]
     },
     "metadata": {},
     "output_type": "display_data"
    },
    {
     "data": {
      "text/html": [
       "Run data is saved locally in <code>c:\\Users\\Shobhith Vadlamudi\\AppData\\Local\\Programs\\Microsoft VS Code\\wandb\\run-20240402_065002-ujvqf8uu</code>"
      ],
      "text/plain": [
       "<IPython.core.display.HTML object>"
      ]
     },
     "metadata": {},
     "output_type": "display_data"
    },
    {
     "data": {
      "text/html": [
       "Syncing run <strong><a href='https://wandb.ai/rl_shobhith/uncategorized/runs/ujvqf8uu/workspace' target=\"_blank\">crisp-sweep-97</a></strong> to <a href='https://wandb.ai/rl_shobhith/uncategorized' target=\"_blank\">Weights & Biases</a> (<a href='https://wandb.me/run' target=\"_blank\">docs</a>)<br/>Sweep page: <a href='https://wandb.ai/rl_shobhith/uncategorized/sweeps/yivd2k4v' target=\"_blank\">https://wandb.ai/rl_shobhith/uncategorized/sweeps/yivd2k4v</a>"
      ],
      "text/plain": [
       "<IPython.core.display.HTML object>"
      ]
     },
     "metadata": {},
     "output_type": "display_data"
    },
    {
     "data": {
      "text/html": [
       " View project at <a href='https://wandb.ai/rl_shobhith/uncategorized' target=\"_blank\">https://wandb.ai/rl_shobhith/uncategorized</a>"
      ],
      "text/plain": [
       "<IPython.core.display.HTML object>"
      ]
     },
     "metadata": {},
     "output_type": "display_data"
    },
    {
     "data": {
      "text/html": [
       " View sweep at <a href='https://wandb.ai/rl_shobhith/uncategorized/sweeps/yivd2k4v' target=\"_blank\">https://wandb.ai/rl_shobhith/uncategorized/sweeps/yivd2k4v</a>"
      ],
      "text/plain": [
       "<IPython.core.display.HTML object>"
      ]
     },
     "metadata": {},
     "output_type": "display_data"
    },
    {
     "data": {
      "text/html": [
       " View run at <a href='https://wandb.ai/rl_shobhith/uncategorized/runs/ujvqf8uu/workspace' target=\"_blank\">https://wandb.ai/rl_shobhith/uncategorized/runs/ujvqf8uu/workspace</a>"
      ],
      "text/plain": [
       "<IPython.core.display.HTML object>"
      ]
     },
     "metadata": {},
     "output_type": "display_data"
    },
    {
     "name": "stderr",
     "output_type": "stream",
     "text": [
      "Iteration 0: 100%|██████████| 50/50 [00:10<00:00,  4.64it/s, episode_return=50, return=-102.600]\n",
      "Iteration 1: 100%|██████████| 50/50 [00:06<00:00,  7.80it/s, episode_return=100, return=-97.500]\n",
      "Iteration 2: 100%|██████████| 50/50 [00:06<00:00,  8.06it/s, episode_return=150, return=-107.000]\n",
      "Iteration 3: 100%|██████████| 50/50 [00:05<00:00,  9.14it/s, episode_return=200, return=-86.100]\n",
      "Iteration 4: 100%|██████████| 50/50 [00:06<00:00,  7.87it/s, episode_return=250, return=-90.200] \n",
      "Iteration 5: 100%|██████████| 50/50 [00:05<00:00,  8.89it/s, episode_return=300, return=-95.500]\n",
      "Iteration 6: 100%|██████████| 50/50 [00:05<00:00,  8.69it/s, episode_return=350, return=-86.900] \n",
      "Iteration 7: 100%|██████████| 50/50 [00:05<00:00,  8.93it/s, episode_return=400, return=-93.000]\n",
      "Iteration 8: 100%|██████████| 50/50 [00:05<00:00,  8.90it/s, episode_return=450, return=-90.700]\n",
      "Iteration 9: 100%|██████████| 50/50 [00:05<00:00,  9.45it/s, episode_return=500, return=-93.600]\n"
     ]
    },
    {
     "data": {
      "application/vnd.jupyter.widget-view+json": {
       "model_id": "9a7a7ec7f45540f18aba395dbc7b3bfe",
       "version_major": 2,
       "version_minor": 0
      },
      "text/plain": [
       "VBox(children=(Label(value='0.001 MB of 0.001 MB uploaded\\r'), FloatProgress(value=1.0, max=1.0)))"
      ]
     },
     "metadata": {},
     "output_type": "display_data"
    },
    {
     "data": {
      "text/html": [
       "<style>\n",
       "    table.wandb td:nth-child(1) { padding: 0 10px; text-align: left ; width: auto;} td:nth-child(2) {text-align: left ; width: 100%}\n",
       "    .wandb-row { display: flex; flex-direction: row; flex-wrap: wrap; justify-content: flex-start; width: 100% }\n",
       "    .wandb-col { display: flex; flex-direction: column; flex-basis: 100%; flex: 1; padding: 10px; }\n",
       "    </style>\n",
       "<div class=\"wandb-row\"><div class=\"wandb-col\"><h3>Run history:</h3><br/><table class=\"wandb\"><tr><td>regret</td><td>▁</td></tr></table><br/></div><div class=\"wandb-col\"><h3>Run summary:</h3><br/><table class=\"wandb\"><tr><td>regret</td><td>57805.13381</td></tr></table><br/></div></div>"
      ],
      "text/plain": [
       "<IPython.core.display.HTML object>"
      ]
     },
     "metadata": {},
     "output_type": "display_data"
    },
    {
     "data": {
      "text/html": [
       " View run <strong style=\"color:#cdcd00\">crisp-sweep-97</strong> at: <a href='https://wandb.ai/rl_shobhith/uncategorized/runs/ujvqf8uu/workspace' target=\"_blank\">https://wandb.ai/rl_shobhith/uncategorized/runs/ujvqf8uu/workspace</a><br/>Synced 5 W&B file(s), 0 media file(s), 0 artifact file(s) and 0 other file(s)"
      ],
      "text/plain": [
       "<IPython.core.display.HTML object>"
      ]
     },
     "metadata": {},
     "output_type": "display_data"
    },
    {
     "data": {
      "text/html": [
       "Find logs at: <code>.\\wandb\\run-20240402_065002-ujvqf8uu\\logs</code>"
      ],
      "text/plain": [
       "<IPython.core.display.HTML object>"
      ]
     },
     "metadata": {},
     "output_type": "display_data"
    },
    {
     "name": "stderr",
     "output_type": "stream",
     "text": [
      "\u001b[34m\u001b[1mwandb\u001b[0m: Agent Starting Run: rfc4nr1g with config:\n",
      "\u001b[34m\u001b[1mwandb\u001b[0m: \thidden_dim: 128\n",
      "\u001b[34m\u001b[1mwandb\u001b[0m: \tlearning_rate: 0.00963174200047685\n",
      "Failed to detect the name of this notebook, you can set it manually with the WANDB_NOTEBOOK_NAME environment variable to enable code saving.\n",
      "\u001b[34m\u001b[1mwandb\u001b[0m: \u001b[33mWARNING\u001b[0m Ignored wandb.init() arg project when running a sweep.\n"
     ]
    },
    {
     "data": {
      "text/html": [
       "Tracking run with wandb version 0.16.5"
      ],
      "text/plain": [
       "<IPython.core.display.HTML object>"
      ]
     },
     "metadata": {},
     "output_type": "display_data"
    },
    {
     "data": {
      "text/html": [
       "Run data is saved locally in <code>c:\\Users\\Shobhith Vadlamudi\\AppData\\Local\\Programs\\Microsoft VS Code\\wandb\\run-20240402_065121-rfc4nr1g</code>"
      ],
      "text/plain": [
       "<IPython.core.display.HTML object>"
      ]
     },
     "metadata": {},
     "output_type": "display_data"
    },
    {
     "data": {
      "text/html": [
       "Syncing run <strong><a href='https://wandb.ai/rl_shobhith/uncategorized/runs/rfc4nr1g/workspace' target=\"_blank\">robust-sweep-98</a></strong> to <a href='https://wandb.ai/rl_shobhith/uncategorized' target=\"_blank\">Weights & Biases</a> (<a href='https://wandb.me/run' target=\"_blank\">docs</a>)<br/>Sweep page: <a href='https://wandb.ai/rl_shobhith/uncategorized/sweeps/yivd2k4v' target=\"_blank\">https://wandb.ai/rl_shobhith/uncategorized/sweeps/yivd2k4v</a>"
      ],
      "text/plain": [
       "<IPython.core.display.HTML object>"
      ]
     },
     "metadata": {},
     "output_type": "display_data"
    },
    {
     "data": {
      "text/html": [
       " View project at <a href='https://wandb.ai/rl_shobhith/uncategorized' target=\"_blank\">https://wandb.ai/rl_shobhith/uncategorized</a>"
      ],
      "text/plain": [
       "<IPython.core.display.HTML object>"
      ]
     },
     "metadata": {},
     "output_type": "display_data"
    },
    {
     "data": {
      "text/html": [
       " View sweep at <a href='https://wandb.ai/rl_shobhith/uncategorized/sweeps/yivd2k4v' target=\"_blank\">https://wandb.ai/rl_shobhith/uncategorized/sweeps/yivd2k4v</a>"
      ],
      "text/plain": [
       "<IPython.core.display.HTML object>"
      ]
     },
     "metadata": {},
     "output_type": "display_data"
    },
    {
     "data": {
      "text/html": [
       " View run at <a href='https://wandb.ai/rl_shobhith/uncategorized/runs/rfc4nr1g/workspace' target=\"_blank\">https://wandb.ai/rl_shobhith/uncategorized/runs/rfc4nr1g/workspace</a>"
      ],
      "text/plain": [
       "<IPython.core.display.HTML object>"
      ]
     },
     "metadata": {},
     "output_type": "display_data"
    },
    {
     "name": "stderr",
     "output_type": "stream",
     "text": [
      "Iteration 0: 100%|██████████| 50/50 [00:14<00:00,  3.48it/s, episode_return=50, return=-155.100]\n",
      "Iteration 1: 100%|██████████| 50/50 [00:09<00:00,  5.25it/s, episode_return=100, return=-125.700]\n",
      "Iteration 2: 100%|██████████| 50/50 [00:09<00:00,  5.11it/s, episode_return=150, return=-135.200]\n",
      "Iteration 3: 100%|██████████| 50/50 [00:12<00:00,  4.06it/s, episode_return=200, return=-151.500]\n",
      "Iteration 4: 100%|██████████| 50/50 [00:10<00:00,  4.77it/s, episode_return=250, return=-228.100]\n",
      "Iteration 5: 100%|██████████| 50/50 [00:09<00:00,  5.54it/s, episode_return=300, return=-97.600] \n",
      "Iteration 6: 100%|██████████| 50/50 [00:07<00:00,  6.84it/s, episode_return=350, return=-95.500] \n",
      "Iteration 7: 100%|██████████| 50/50 [00:06<00:00,  8.02it/s, episode_return=400, return=-83.600]\n",
      "Iteration 8: 100%|██████████| 50/50 [00:06<00:00,  7.98it/s, episode_return=450, return=-103.500]\n",
      "Iteration 9: 100%|██████████| 50/50 [00:06<00:00,  8.20it/s, episode_return=500, return=-100.000]\n"
     ]
    },
    {
     "data": {
      "application/vnd.jupyter.widget-view+json": {
       "model_id": "10e465029b3942d6a9fdba2f684b2600",
       "version_major": 2,
       "version_minor": 0
      },
      "text/plain": [
       "VBox(children=(Label(value='0.001 MB of 0.001 MB uploaded\\r'), FloatProgress(value=1.0, max=1.0)))"
      ]
     },
     "metadata": {},
     "output_type": "display_data"
    },
    {
     "data": {
      "text/html": [
       "<style>\n",
       "    table.wandb td:nth-child(1) { padding: 0 10px; text-align: left ; width: auto;} td:nth-child(2) {text-align: left ; width: 100%}\n",
       "    .wandb-row { display: flex; flex-direction: row; flex-wrap: wrap; justify-content: flex-start; width: 100% }\n",
       "    .wandb-col { display: flex; flex-direction: column; flex-basis: 100%; flex: 1; padding: 10px; }\n",
       "    </style>\n",
       "<div class=\"wandb-row\"><div class=\"wandb-col\"><h3>Run history:</h3><br/><table class=\"wandb\"><tr><td>regret</td><td>▁</td></tr></table><br/></div><div class=\"wandb-col\"><h3>Run summary:</h3><br/><table class=\"wandb\"><tr><td>regret</td><td>73960.82831</td></tr></table><br/></div></div>"
      ],
      "text/plain": [
       "<IPython.core.display.HTML object>"
      ]
     },
     "metadata": {},
     "output_type": "display_data"
    },
    {
     "data": {
      "text/html": [
       " View run <strong style=\"color:#cdcd00\">robust-sweep-98</strong> at: <a href='https://wandb.ai/rl_shobhith/uncategorized/runs/rfc4nr1g/workspace' target=\"_blank\">https://wandb.ai/rl_shobhith/uncategorized/runs/rfc4nr1g/workspace</a><br/>Synced 5 W&B file(s), 0 media file(s), 0 artifact file(s) and 0 other file(s)"
      ],
      "text/plain": [
       "<IPython.core.display.HTML object>"
      ]
     },
     "metadata": {},
     "output_type": "display_data"
    },
    {
     "data": {
      "text/html": [
       "Find logs at: <code>.\\wandb\\run-20240402_065121-rfc4nr1g\\logs</code>"
      ],
      "text/plain": [
       "<IPython.core.display.HTML object>"
      ]
     },
     "metadata": {},
     "output_type": "display_data"
    },
    {
     "name": "stderr",
     "output_type": "stream",
     "text": [
      "\u001b[34m\u001b[1mwandb\u001b[0m: Agent Starting Run: pluecfbs with config:\n",
      "\u001b[34m\u001b[1mwandb\u001b[0m: \thidden_dim: 64\n",
      "\u001b[34m\u001b[1mwandb\u001b[0m: \tlearning_rate: 0.005780642591248327\n",
      "Failed to detect the name of this notebook, you can set it manually with the WANDB_NOTEBOOK_NAME environment variable to enable code saving.\n",
      "\u001b[34m\u001b[1mwandb\u001b[0m: \u001b[33mWARNING\u001b[0m Ignored wandb.init() arg project when running a sweep.\n"
     ]
    },
    {
     "data": {
      "text/html": [
       "Tracking run with wandb version 0.16.5"
      ],
      "text/plain": [
       "<IPython.core.display.HTML object>"
      ]
     },
     "metadata": {},
     "output_type": "display_data"
    },
    {
     "data": {
      "text/html": [
       "Run data is saved locally in <code>c:\\Users\\Shobhith Vadlamudi\\AppData\\Local\\Programs\\Microsoft VS Code\\wandb\\run-20240402_065308-pluecfbs</code>"
      ],
      "text/plain": [
       "<IPython.core.display.HTML object>"
      ]
     },
     "metadata": {},
     "output_type": "display_data"
    },
    {
     "data": {
      "text/html": [
       "Syncing run <strong><a href='https://wandb.ai/rl_shobhith/uncategorized/runs/pluecfbs/workspace' target=\"_blank\">jolly-sweep-99</a></strong> to <a href='https://wandb.ai/rl_shobhith/uncategorized' target=\"_blank\">Weights & Biases</a> (<a href='https://wandb.me/run' target=\"_blank\">docs</a>)<br/>Sweep page: <a href='https://wandb.ai/rl_shobhith/uncategorized/sweeps/yivd2k4v' target=\"_blank\">https://wandb.ai/rl_shobhith/uncategorized/sweeps/yivd2k4v</a>"
      ],
      "text/plain": [
       "<IPython.core.display.HTML object>"
      ]
     },
     "metadata": {},
     "output_type": "display_data"
    },
    {
     "data": {
      "text/html": [
       " View project at <a href='https://wandb.ai/rl_shobhith/uncategorized' target=\"_blank\">https://wandb.ai/rl_shobhith/uncategorized</a>"
      ],
      "text/plain": [
       "<IPython.core.display.HTML object>"
      ]
     },
     "metadata": {},
     "output_type": "display_data"
    },
    {
     "data": {
      "text/html": [
       " View sweep at <a href='https://wandb.ai/rl_shobhith/uncategorized/sweeps/yivd2k4v' target=\"_blank\">https://wandb.ai/rl_shobhith/uncategorized/sweeps/yivd2k4v</a>"
      ],
      "text/plain": [
       "<IPython.core.display.HTML object>"
      ]
     },
     "metadata": {},
     "output_type": "display_data"
    },
    {
     "data": {
      "text/html": [
       " View run at <a href='https://wandb.ai/rl_shobhith/uncategorized/runs/pluecfbs/workspace' target=\"_blank\">https://wandb.ai/rl_shobhith/uncategorized/runs/pluecfbs/workspace</a>"
      ],
      "text/plain": [
       "<IPython.core.display.HTML object>"
      ]
     },
     "metadata": {},
     "output_type": "display_data"
    },
    {
     "name": "stderr",
     "output_type": "stream",
     "text": [
      "Iteration 0: 100%|██████████| 50/50 [00:25<00:00,  1.96it/s, episode_return=50, return=-348.400]\n",
      "Iteration 1: 100%|██████████| 50/50 [00:11<00:00,  4.28it/s, episode_return=100, return=-180.400]\n",
      "Iteration 2: 100%|██████████| 50/50 [00:08<00:00,  5.97it/s, episode_return=150, return=-116.100]\n",
      "Iteration 3: 100%|██████████| 50/50 [00:08<00:00,  6.10it/s, episode_return=200, return=-120.300]\n",
      "Iteration 4: 100%|██████████| 50/50 [00:08<00:00,  6.22it/s, episode_return=250, return=-131.600]\n",
      "Iteration 5: 100%|██████████| 50/50 [00:07<00:00,  7.05it/s, episode_return=300, return=-120.600]\n",
      "Iteration 6: 100%|██████████| 50/50 [00:06<00:00,  7.41it/s, episode_return=350, return=-110.500]\n",
      "Iteration 7: 100%|██████████| 50/50 [00:06<00:00,  8.04it/s, episode_return=400, return=-96.800] \n",
      "Iteration 8: 100%|██████████| 50/50 [00:07<00:00,  6.39it/s, episode_return=450, return=-126.800]\n",
      "Iteration 9: 100%|██████████| 50/50 [00:08<00:00,  5.77it/s, episode_return=500, return=-150.500]\n"
     ]
    },
    {
     "data": {
      "application/vnd.jupyter.widget-view+json": {
       "model_id": "4611242b82be48118c7ee4ed1ab91b09",
       "version_major": 2,
       "version_minor": 0
      },
      "text/plain": [
       "VBox(children=(Label(value='0.001 MB of 0.007 MB uploaded\\r'), FloatProgress(value=0.16646626586506347, max=1.…"
      ]
     },
     "metadata": {},
     "output_type": "display_data"
    },
    {
     "data": {
      "text/html": [
       "<style>\n",
       "    table.wandb td:nth-child(1) { padding: 0 10px; text-align: left ; width: auto;} td:nth-child(2) {text-align: left ; width: 100%}\n",
       "    .wandb-row { display: flex; flex-direction: row; flex-wrap: wrap; justify-content: flex-start; width: 100% }\n",
       "    .wandb-col { display: flex; flex-direction: column; flex-basis: 100%; flex: 1; padding: 10px; }\n",
       "    </style>\n",
       "<div class=\"wandb-row\"><div class=\"wandb-col\"><h3>Run history:</h3><br/><table class=\"wandb\"><tr><td>regret</td><td>▁</td></tr></table><br/></div><div class=\"wandb-col\"><h3>Run summary:</h3><br/><table class=\"wandb\"><tr><td>regret</td><td>94235.63576</td></tr></table><br/></div></div>"
      ],
      "text/plain": [
       "<IPython.core.display.HTML object>"
      ]
     },
     "metadata": {},
     "output_type": "display_data"
    },
    {
     "data": {
      "text/html": [
       " View run <strong style=\"color:#cdcd00\">jolly-sweep-99</strong> at: <a href='https://wandb.ai/rl_shobhith/uncategorized/runs/pluecfbs/workspace' target=\"_blank\">https://wandb.ai/rl_shobhith/uncategorized/runs/pluecfbs/workspace</a><br/>Synced 5 W&B file(s), 0 media file(s), 0 artifact file(s) and 0 other file(s)"
      ],
      "text/plain": [
       "<IPython.core.display.HTML object>"
      ]
     },
     "metadata": {},
     "output_type": "display_data"
    },
    {
     "data": {
      "text/html": [
       "Find logs at: <code>.\\wandb\\run-20240402_065308-pluecfbs\\logs</code>"
      ],
      "text/plain": [
       "<IPython.core.display.HTML object>"
      ]
     },
     "metadata": {},
     "output_type": "display_data"
    },
    {
     "name": "stderr",
     "output_type": "stream",
     "text": [
      "\u001b[34m\u001b[1mwandb\u001b[0m: Agent Starting Run: f8uo39zb with config:\n",
      "\u001b[34m\u001b[1mwandb\u001b[0m: \thidden_dim: 128\n",
      "\u001b[34m\u001b[1mwandb\u001b[0m: \tlearning_rate: 0.007932829529272746\n",
      "Failed to detect the name of this notebook, you can set it manually with the WANDB_NOTEBOOK_NAME environment variable to enable code saving.\n",
      "\u001b[34m\u001b[1mwandb\u001b[0m: \u001b[33mWARNING\u001b[0m Ignored wandb.init() arg project when running a sweep.\n"
     ]
    },
    {
     "data": {
      "text/html": [
       "Tracking run with wandb version 0.16.5"
      ],
      "text/plain": [
       "<IPython.core.display.HTML object>"
      ]
     },
     "metadata": {},
     "output_type": "display_data"
    },
    {
     "data": {
      "text/html": [
       "Run data is saved locally in <code>c:\\Users\\Shobhith Vadlamudi\\AppData\\Local\\Programs\\Microsoft VS Code\\wandb\\run-20240402_065501-f8uo39zb</code>"
      ],
      "text/plain": [
       "<IPython.core.display.HTML object>"
      ]
     },
     "metadata": {},
     "output_type": "display_data"
    },
    {
     "data": {
      "text/html": [
       "Syncing run <strong><a href='https://wandb.ai/rl_shobhith/uncategorized/runs/f8uo39zb/workspace' target=\"_blank\">fearless-sweep-100</a></strong> to <a href='https://wandb.ai/rl_shobhith/uncategorized' target=\"_blank\">Weights & Biases</a> (<a href='https://wandb.me/run' target=\"_blank\">docs</a>)<br/>Sweep page: <a href='https://wandb.ai/rl_shobhith/uncategorized/sweeps/yivd2k4v' target=\"_blank\">https://wandb.ai/rl_shobhith/uncategorized/sweeps/yivd2k4v</a>"
      ],
      "text/plain": [
       "<IPython.core.display.HTML object>"
      ]
     },
     "metadata": {},
     "output_type": "display_data"
    },
    {
     "data": {
      "text/html": [
       " View project at <a href='https://wandb.ai/rl_shobhith/uncategorized' target=\"_blank\">https://wandb.ai/rl_shobhith/uncategorized</a>"
      ],
      "text/plain": [
       "<IPython.core.display.HTML object>"
      ]
     },
     "metadata": {},
     "output_type": "display_data"
    },
    {
     "data": {
      "text/html": [
       " View sweep at <a href='https://wandb.ai/rl_shobhith/uncategorized/sweeps/yivd2k4v' target=\"_blank\">https://wandb.ai/rl_shobhith/uncategorized/sweeps/yivd2k4v</a>"
      ],
      "text/plain": [
       "<IPython.core.display.HTML object>"
      ]
     },
     "metadata": {},
     "output_type": "display_data"
    },
    {
     "data": {
      "text/html": [
       " View run at <a href='https://wandb.ai/rl_shobhith/uncategorized/runs/f8uo39zb/workspace' target=\"_blank\">https://wandb.ai/rl_shobhith/uncategorized/runs/f8uo39zb/workspace</a>"
      ],
      "text/plain": [
       "<IPython.core.display.HTML object>"
      ]
     },
     "metadata": {},
     "output_type": "display_data"
    },
    {
     "name": "stderr",
     "output_type": "stream",
     "text": [
      "Iteration 0: 100%|██████████| 50/50 [00:33<00:00,  1.47it/s, episode_return=50, return=-500.000]\n",
      "Iteration 1: 100%|██████████| 50/50 [00:33<00:00,  1.49it/s, episode_return=100, return=-500.000]\n",
      "Iteration 2: 100%|██████████| 50/50 [00:32<00:00,  1.56it/s, episode_return=150, return=-500.000]\n",
      "Iteration 3: 100%|██████████| 50/50 [00:33<00:00,  1.49it/s, episode_return=200, return=-500.000]\n",
      "Iteration 4: 100%|██████████| 50/50 [00:33<00:00,  1.51it/s, episode_return=250, return=-500.000]\n",
      "Iteration 5: 100%|██████████| 50/50 [00:32<00:00,  1.52it/s, episode_return=300, return=-500.000]\n",
      "Iteration 6: 100%|██████████| 50/50 [00:33<00:00,  1.48it/s, episode_return=350, return=-500.000]\n",
      "Iteration 7: 100%|██████████| 50/50 [00:33<00:00,  1.49it/s, episode_return=400, return=-500.000]\n",
      "Iteration 8: 100%|██████████| 50/50 [00:33<00:00,  1.49it/s, episode_return=450, return=-500.000]\n",
      "Iteration 9: 100%|██████████| 50/50 [00:32<00:00,  1.53it/s, episode_return=500, return=-500.000]\n"
     ]
    },
    {
     "data": {
      "application/vnd.jupyter.widget-view+json": {
       "model_id": "875b8fdfa7cd400682570b36aff08fcd",
       "version_major": 2,
       "version_minor": 0
      },
      "text/plain": [
       "VBox(children=(Label(value='0.001 MB of 0.001 MB uploaded\\r'), FloatProgress(value=1.0, max=1.0)))"
      ]
     },
     "metadata": {},
     "output_type": "display_data"
    },
    {
     "data": {
      "text/html": [
       "<style>\n",
       "    table.wandb td:nth-child(1) { padding: 0 10px; text-align: left ; width: auto;} td:nth-child(2) {text-align: left ; width: 100%}\n",
       "    .wandb-row { display: flex; flex-direction: row; flex-wrap: wrap; justify-content: flex-start; width: 100% }\n",
       "    .wandb-col { display: flex; flex-direction: column; flex-basis: 100%; flex: 1; padding: 10px; }\n",
       "    </style>\n",
       "<div class=\"wandb-row\"><div class=\"wandb-col\"><h3>Run history:</h3><br/><table class=\"wandb\"><tr><td>regret</td><td>▁</td></tr></table><br/></div><div class=\"wandb-col\"><h3>Run summary:</h3><br/><table class=\"wandb\"><tr><td>regret</td><td>249148.83844</td></tr></table><br/></div></div>"
      ],
      "text/plain": [
       "<IPython.core.display.HTML object>"
      ]
     },
     "metadata": {},
     "output_type": "display_data"
    },
    {
     "data": {
      "text/html": [
       " View run <strong style=\"color:#cdcd00\">fearless-sweep-100</strong> at: <a href='https://wandb.ai/rl_shobhith/uncategorized/runs/f8uo39zb/workspace' target=\"_blank\">https://wandb.ai/rl_shobhith/uncategorized/runs/f8uo39zb/workspace</a><br/>Synced 5 W&B file(s), 0 media file(s), 0 artifact file(s) and 0 other file(s)"
      ],
      "text/plain": [
       "<IPython.core.display.HTML object>"
      ]
     },
     "metadata": {},
     "output_type": "display_data"
    },
    {
     "data": {
      "text/html": [
       "Find logs at: <code>.\\wandb\\run-20240402_065501-f8uo39zb\\logs</code>"
      ],
      "text/plain": [
       "<IPython.core.display.HTML object>"
      ]
     },
     "metadata": {},
     "output_type": "display_data"
    },
    {
     "name": "stderr",
     "output_type": "stream",
     "text": [
      "\u001b[34m\u001b[1mwandb\u001b[0m: Agent Starting Run: gp9bik0t with config:\n",
      "\u001b[34m\u001b[1mwandb\u001b[0m: \thidden_dim: 64\n",
      "\u001b[34m\u001b[1mwandb\u001b[0m: \tlearning_rate: 0.0030537001511856563\n",
      "Failed to detect the name of this notebook, you can set it manually with the WANDB_NOTEBOOK_NAME environment variable to enable code saving.\n",
      "\u001b[34m\u001b[1mwandb\u001b[0m: \u001b[33mWARNING\u001b[0m Ignored wandb.init() arg project when running a sweep.\n"
     ]
    },
    {
     "data": {
      "text/html": [
       "Tracking run with wandb version 0.16.5"
      ],
      "text/plain": [
       "<IPython.core.display.HTML object>"
      ]
     },
     "metadata": {},
     "output_type": "display_data"
    },
    {
     "data": {
      "text/html": [
       "Run data is saved locally in <code>c:\\Users\\Shobhith Vadlamudi\\AppData\\Local\\Programs\\Microsoft VS Code\\wandb\\run-20240402_070046-gp9bik0t</code>"
      ],
      "text/plain": [
       "<IPython.core.display.HTML object>"
      ]
     },
     "metadata": {},
     "output_type": "display_data"
    },
    {
     "data": {
      "text/html": [
       "Syncing run <strong><a href='https://wandb.ai/rl_shobhith/uncategorized/runs/gp9bik0t/workspace' target=\"_blank\">flowing-sweep-101</a></strong> to <a href='https://wandb.ai/rl_shobhith/uncategorized' target=\"_blank\">Weights & Biases</a> (<a href='https://wandb.me/run' target=\"_blank\">docs</a>)<br/>Sweep page: <a href='https://wandb.ai/rl_shobhith/uncategorized/sweeps/yivd2k4v' target=\"_blank\">https://wandb.ai/rl_shobhith/uncategorized/sweeps/yivd2k4v</a>"
      ],
      "text/plain": [
       "<IPython.core.display.HTML object>"
      ]
     },
     "metadata": {},
     "output_type": "display_data"
    },
    {
     "data": {
      "text/html": [
       " View project at <a href='https://wandb.ai/rl_shobhith/uncategorized' target=\"_blank\">https://wandb.ai/rl_shobhith/uncategorized</a>"
      ],
      "text/plain": [
       "<IPython.core.display.HTML object>"
      ]
     },
     "metadata": {},
     "output_type": "display_data"
    },
    {
     "data": {
      "text/html": [
       " View sweep at <a href='https://wandb.ai/rl_shobhith/uncategorized/sweeps/yivd2k4v' target=\"_blank\">https://wandb.ai/rl_shobhith/uncategorized/sweeps/yivd2k4v</a>"
      ],
      "text/plain": [
       "<IPython.core.display.HTML object>"
      ]
     },
     "metadata": {},
     "output_type": "display_data"
    },
    {
     "data": {
      "text/html": [
       " View run at <a href='https://wandb.ai/rl_shobhith/uncategorized/runs/gp9bik0t/workspace' target=\"_blank\">https://wandb.ai/rl_shobhith/uncategorized/runs/gp9bik0t/workspace</a>"
      ],
      "text/plain": [
       "<IPython.core.display.HTML object>"
      ]
     },
     "metadata": {},
     "output_type": "display_data"
    },
    {
     "name": "stderr",
     "output_type": "stream",
     "text": [
      "Iteration 0: 100%|██████████| 50/50 [00:26<00:00,  1.85it/s, episode_return=50, return=-412.700]\n",
      "Iteration 1: 100%|██████████| 50/50 [00:13<00:00,  3.64it/s, episode_return=100, return=-219.900]\n",
      "Iteration 2: 100%|██████████| 50/50 [00:13<00:00,  3.57it/s, episode_return=150, return=-218.600]\n",
      "Iteration 3: 100%|██████████| 50/50 [00:13<00:00,  3.80it/s, episode_return=200, return=-222.400]\n",
      "Iteration 4: 100%|██████████| 50/50 [00:11<00:00,  4.19it/s, episode_return=250, return=-166.800]\n",
      "Iteration 5: 100%|██████████| 50/50 [00:09<00:00,  5.10it/s, episode_return=300, return=-162.400]\n",
      "Iteration 6: 100%|██████████| 50/50 [00:09<00:00,  5.08it/s, episode_return=350, return=-186.500]\n",
      "Iteration 7: 100%|██████████| 50/50 [00:13<00:00,  3.58it/s, episode_return=400, return=-194.500]\n",
      "Iteration 8: 100%|██████████| 50/50 [00:10<00:00,  4.93it/s, episode_return=450, return=-131.900]\n",
      "Iteration 9: 100%|██████████| 50/50 [00:08<00:00,  5.95it/s, episode_return=500, return=-160.700]\n"
     ]
    },
    {
     "data": {
      "application/vnd.jupyter.widget-view+json": {
       "model_id": "f747c1aceffe4e5eb7881d7bec22e3f2",
       "version_major": 2,
       "version_minor": 0
      },
      "text/plain": [
       "VBox(children=(Label(value='0.001 MB of 0.001 MB uploaded\\r'), FloatProgress(value=1.0, max=1.0)))"
      ]
     },
     "metadata": {},
     "output_type": "display_data"
    },
    {
     "data": {
      "text/html": [
       "<style>\n",
       "    table.wandb td:nth-child(1) { padding: 0 10px; text-align: left ; width: auto;} td:nth-child(2) {text-align: left ; width: 100%}\n",
       "    .wandb-row { display: flex; flex-direction: row; flex-wrap: wrap; justify-content: flex-start; width: 100% }\n",
       "    .wandb-col { display: flex; flex-direction: column; flex-basis: 100%; flex: 1; padding: 10px; }\n",
       "    </style>\n",
       "<div class=\"wandb-row\"><div class=\"wandb-col\"><h3>Run history:</h3><br/><table class=\"wandb\"><tr><td>regret</td><td>▁</td></tr></table><br/></div><div class=\"wandb-col\"><h3>Run summary:</h3><br/><table class=\"wandb\"><tr><td>regret</td><td>121750.979</td></tr></table><br/></div></div>"
      ],
      "text/plain": [
       "<IPython.core.display.HTML object>"
      ]
     },
     "metadata": {},
     "output_type": "display_data"
    },
    {
     "data": {
      "text/html": [
       " View run <strong style=\"color:#cdcd00\">flowing-sweep-101</strong> at: <a href='https://wandb.ai/rl_shobhith/uncategorized/runs/gp9bik0t/workspace' target=\"_blank\">https://wandb.ai/rl_shobhith/uncategorized/runs/gp9bik0t/workspace</a><br/>Synced 5 W&B file(s), 0 media file(s), 0 artifact file(s) and 0 other file(s)"
      ],
      "text/plain": [
       "<IPython.core.display.HTML object>"
      ]
     },
     "metadata": {},
     "output_type": "display_data"
    },
    {
     "data": {
      "text/html": [
       "Find logs at: <code>.\\wandb\\run-20240402_070046-gp9bik0t\\logs</code>"
      ],
      "text/plain": [
       "<IPython.core.display.HTML object>"
      ]
     },
     "metadata": {},
     "output_type": "display_data"
    },
    {
     "name": "stderr",
     "output_type": "stream",
     "text": [
      "\u001b[34m\u001b[1mwandb\u001b[0m: Sweep Agent: Waiting for job.\n",
      "\u001b[34m\u001b[1mwandb\u001b[0m: Job received.\n",
      "\u001b[34m\u001b[1mwandb\u001b[0m: Agent Starting Run: 4twkqxx8 with config:\n",
      "\u001b[34m\u001b[1mwandb\u001b[0m: \thidden_dim: 128\n",
      "\u001b[34m\u001b[1mwandb\u001b[0m: \tlearning_rate: 0.007044952263274834\n",
      "Failed to detect the name of this notebook, you can set it manually with the WANDB_NOTEBOOK_NAME environment variable to enable code saving.\n",
      "\u001b[34m\u001b[1mwandb\u001b[0m: \u001b[33mWARNING\u001b[0m Ignored wandb.init() arg project when running a sweep.\n"
     ]
    },
    {
     "data": {
      "text/html": [
       "Tracking run with wandb version 0.16.5"
      ],
      "text/plain": [
       "<IPython.core.display.HTML object>"
      ]
     },
     "metadata": {},
     "output_type": "display_data"
    },
    {
     "data": {
      "text/html": [
       "Run data is saved locally in <code>c:\\Users\\Shobhith Vadlamudi\\AppData\\Local\\Programs\\Microsoft VS Code\\wandb\\run-20240402_070320-4twkqxx8</code>"
      ],
      "text/plain": [
       "<IPython.core.display.HTML object>"
      ]
     },
     "metadata": {},
     "output_type": "display_data"
    },
    {
     "data": {
      "text/html": [
       "Syncing run <strong><a href='https://wandb.ai/rl_shobhith/uncategorized/runs/4twkqxx8/workspace' target=\"_blank\">vivid-sweep-102</a></strong> to <a href='https://wandb.ai/rl_shobhith/uncategorized' target=\"_blank\">Weights & Biases</a> (<a href='https://wandb.me/run' target=\"_blank\">docs</a>)<br/>Sweep page: <a href='https://wandb.ai/rl_shobhith/uncategorized/sweeps/yivd2k4v' target=\"_blank\">https://wandb.ai/rl_shobhith/uncategorized/sweeps/yivd2k4v</a>"
      ],
      "text/plain": [
       "<IPython.core.display.HTML object>"
      ]
     },
     "metadata": {},
     "output_type": "display_data"
    },
    {
     "data": {
      "text/html": [
       " View project at <a href='https://wandb.ai/rl_shobhith/uncategorized' target=\"_blank\">https://wandb.ai/rl_shobhith/uncategorized</a>"
      ],
      "text/plain": [
       "<IPython.core.display.HTML object>"
      ]
     },
     "metadata": {},
     "output_type": "display_data"
    },
    {
     "data": {
      "text/html": [
       " View sweep at <a href='https://wandb.ai/rl_shobhith/uncategorized/sweeps/yivd2k4v' target=\"_blank\">https://wandb.ai/rl_shobhith/uncategorized/sweeps/yivd2k4v</a>"
      ],
      "text/plain": [
       "<IPython.core.display.HTML object>"
      ]
     },
     "metadata": {},
     "output_type": "display_data"
    },
    {
     "data": {
      "text/html": [
       " View run at <a href='https://wandb.ai/rl_shobhith/uncategorized/runs/4twkqxx8/workspace' target=\"_blank\">https://wandb.ai/rl_shobhith/uncategorized/runs/4twkqxx8/workspace</a>"
      ],
      "text/plain": [
       "<IPython.core.display.HTML object>"
      ]
     },
     "metadata": {},
     "output_type": "display_data"
    },
    {
     "name": "stderr",
     "output_type": "stream",
     "text": [
      "Iteration 0: 100%|██████████| 50/50 [00:36<00:00,  1.39it/s, episode_return=50, return=-494.800]\n",
      "Iteration 1: 100%|██████████| 50/50 [00:36<00:00,  1.37it/s, episode_return=100, return=-492.300]\n",
      "Iteration 2: 100%|██████████| 50/50 [00:34<00:00,  1.46it/s, episode_return=150, return=-500.000]\n",
      "Iteration 3: 100%|██████████| 50/50 [00:35<00:00,  1.39it/s, episode_return=200, return=-500.000]\n",
      "Iteration 4: 100%|██████████| 50/50 [00:34<00:00,  1.44it/s, episode_return=250, return=-500.000]\n",
      "Iteration 5: 100%|██████████| 50/50 [00:35<00:00,  1.39it/s, episode_return=300, return=-500.000]\n",
      "Iteration 6: 100%|██████████| 50/50 [00:32<00:00,  1.56it/s, episode_return=350, return=-500.000]\n",
      "Iteration 7: 100%|██████████| 50/50 [00:34<00:00,  1.46it/s, episode_return=400, return=-500.000]\n",
      "Iteration 8: 100%|██████████| 50/50 [00:35<00:00,  1.42it/s, episode_return=450, return=-500.000]\n",
      "Iteration 9: 100%|██████████| 50/50 [00:35<00:00,  1.42it/s, episode_return=500, return=-500.000]\n"
     ]
    },
    {
     "data": {
      "application/vnd.jupyter.widget-view+json": {
       "model_id": "11ffbfb4778c4e44b66bb2fb1c76fa05",
       "version_major": 2,
       "version_minor": 0
      },
      "text/plain": [
       "VBox(children=(Label(value='0.001 MB of 0.007 MB uploaded\\r'), FloatProgress(value=0.16375574523965858, max=1.…"
      ]
     },
     "metadata": {},
     "output_type": "display_data"
    },
    {
     "data": {
      "text/html": [
       "<style>\n",
       "    table.wandb td:nth-child(1) { padding: 0 10px; text-align: left ; width: auto;} td:nth-child(2) {text-align: left ; width: 100%}\n",
       "    .wandb-row { display: flex; flex-direction: row; flex-wrap: wrap; justify-content: flex-start; width: 100% }\n",
       "    .wandb-col { display: flex; flex-direction: column; flex-basis: 100%; flex: 1; padding: 10px; }\n",
       "    </style>\n",
       "<div class=\"wandb-row\"><div class=\"wandb-col\"><h3>Run history:</h3><br/><table class=\"wandb\"><tr><td>regret</td><td>▁</td></tr></table><br/></div><div class=\"wandb-col\"><h3>Run summary:</h3><br/><table class=\"wandb\"><tr><td>regret</td><td>248291.0523</td></tr></table><br/></div></div>"
      ],
      "text/plain": [
       "<IPython.core.display.HTML object>"
      ]
     },
     "metadata": {},
     "output_type": "display_data"
    },
    {
     "data": {
      "text/html": [
       " View run <strong style=\"color:#cdcd00\">vivid-sweep-102</strong> at: <a href='https://wandb.ai/rl_shobhith/uncategorized/runs/4twkqxx8/workspace' target=\"_blank\">https://wandb.ai/rl_shobhith/uncategorized/runs/4twkqxx8/workspace</a><br/>Synced 5 W&B file(s), 0 media file(s), 0 artifact file(s) and 0 other file(s)"
      ],
      "text/plain": [
       "<IPython.core.display.HTML object>"
      ]
     },
     "metadata": {},
     "output_type": "display_data"
    },
    {
     "data": {
      "text/html": [
       "Find logs at: <code>.\\wandb\\run-20240402_070320-4twkqxx8\\logs</code>"
      ],
      "text/plain": [
       "<IPython.core.display.HTML object>"
      ]
     },
     "metadata": {},
     "output_type": "display_data"
    },
    {
     "name": "stderr",
     "output_type": "stream",
     "text": [
      "\u001b[34m\u001b[1mwandb\u001b[0m: Agent Starting Run: yg37dwrt with config:\n",
      "\u001b[34m\u001b[1mwandb\u001b[0m: \thidden_dim: 64\n",
      "\u001b[34m\u001b[1mwandb\u001b[0m: \tlearning_rate: 0.0019328801955960757\n",
      "Failed to detect the name of this notebook, you can set it manually with the WANDB_NOTEBOOK_NAME environment variable to enable code saving.\n",
      "\u001b[34m\u001b[1mwandb\u001b[0m: \u001b[33mWARNING\u001b[0m Ignored wandb.init() arg project when running a sweep.\n"
     ]
    },
    {
     "data": {
      "text/html": [
       "Tracking run with wandb version 0.16.5"
      ],
      "text/plain": [
       "<IPython.core.display.HTML object>"
      ]
     },
     "metadata": {},
     "output_type": "display_data"
    },
    {
     "data": {
      "text/html": [
       "Run data is saved locally in <code>c:\\Users\\Shobhith Vadlamudi\\AppData\\Local\\Programs\\Microsoft VS Code\\wandb\\run-20240402_070925-yg37dwrt</code>"
      ],
      "text/plain": [
       "<IPython.core.display.HTML object>"
      ]
     },
     "metadata": {},
     "output_type": "display_data"
    },
    {
     "data": {
      "text/html": [
       "Syncing run <strong><a href='https://wandb.ai/rl_shobhith/uncategorized/runs/yg37dwrt/workspace' target=\"_blank\">lucky-sweep-103</a></strong> to <a href='https://wandb.ai/rl_shobhith/uncategorized' target=\"_blank\">Weights & Biases</a> (<a href='https://wandb.me/run' target=\"_blank\">docs</a>)<br/>Sweep page: <a href='https://wandb.ai/rl_shobhith/uncategorized/sweeps/yivd2k4v' target=\"_blank\">https://wandb.ai/rl_shobhith/uncategorized/sweeps/yivd2k4v</a>"
      ],
      "text/plain": [
       "<IPython.core.display.HTML object>"
      ]
     },
     "metadata": {},
     "output_type": "display_data"
    },
    {
     "data": {
      "text/html": [
       " View project at <a href='https://wandb.ai/rl_shobhith/uncategorized' target=\"_blank\">https://wandb.ai/rl_shobhith/uncategorized</a>"
      ],
      "text/plain": [
       "<IPython.core.display.HTML object>"
      ]
     },
     "metadata": {},
     "output_type": "display_data"
    },
    {
     "data": {
      "text/html": [
       " View sweep at <a href='https://wandb.ai/rl_shobhith/uncategorized/sweeps/yivd2k4v' target=\"_blank\">https://wandb.ai/rl_shobhith/uncategorized/sweeps/yivd2k4v</a>"
      ],
      "text/plain": [
       "<IPython.core.display.HTML object>"
      ]
     },
     "metadata": {},
     "output_type": "display_data"
    },
    {
     "data": {
      "text/html": [
       " View run at <a href='https://wandb.ai/rl_shobhith/uncategorized/runs/yg37dwrt/workspace' target=\"_blank\">https://wandb.ai/rl_shobhith/uncategorized/runs/yg37dwrt/workspace</a>"
      ],
      "text/plain": [
       "<IPython.core.display.HTML object>"
      ]
     },
     "metadata": {},
     "output_type": "display_data"
    },
    {
     "name": "stderr",
     "output_type": "stream",
     "text": [
      "Iteration 0: 100%|██████████| 50/50 [00:32<00:00,  1.53it/s, episode_return=50, return=-500.000]\n",
      "Iteration 1: 100%|██████████| 50/50 [00:35<00:00,  1.42it/s, episode_return=100, return=-500.000]\n",
      "Iteration 2: 100%|██████████| 50/50 [00:33<00:00,  1.51it/s, episode_return=150, return=-500.000]\n",
      "Iteration 3: 100%|██████████| 50/50 [00:28<00:00,  1.75it/s, episode_return=200, return=-500.000]\n",
      "Iteration 4: 100%|██████████| 50/50 [00:30<00:00,  1.61it/s, episode_return=250, return=-500.000]\n",
      "Iteration 5: 100%|██████████| 50/50 [00:27<00:00,  1.83it/s, episode_return=300, return=-500.000]\n",
      "Iteration 6: 100%|██████████| 50/50 [00:28<00:00,  1.75it/s, episode_return=350, return=-500.000]\n",
      "Iteration 7: 100%|██████████| 50/50 [00:30<00:00,  1.66it/s, episode_return=400, return=-500.000]\n",
      "Iteration 8: 100%|██████████| 50/50 [00:30<00:00,  1.66it/s, episode_return=450, return=-500.000]\n",
      "Iteration 9: 100%|██████████| 50/50 [00:30<00:00,  1.64it/s, episode_return=500, return=-500.000]\n"
     ]
    },
    {
     "data": {
      "application/vnd.jupyter.widget-view+json": {
       "model_id": "dc382670d24b4ed88a30a98b67d3fbbd",
       "version_major": 2,
       "version_minor": 0
      },
      "text/plain": [
       "VBox(children=(Label(value='0.001 MB of 0.001 MB uploaded\\r'), FloatProgress(value=1.0, max=1.0)))"
      ]
     },
     "metadata": {},
     "output_type": "display_data"
    },
    {
     "data": {
      "text/html": [
       "<style>\n",
       "    table.wandb td:nth-child(1) { padding: 0 10px; text-align: left ; width: auto;} td:nth-child(2) {text-align: left ; width: 100%}\n",
       "    .wandb-row { display: flex; flex-direction: row; flex-wrap: wrap; justify-content: flex-start; width: 100% }\n",
       "    .wandb-col { display: flex; flex-direction: column; flex-basis: 100%; flex: 1; padding: 10px; }\n",
       "    </style>\n",
       "<div class=\"wandb-row\"><div class=\"wandb-col\"><h3>Run history:</h3><br/><table class=\"wandb\"><tr><td>regret</td><td>▁</td></tr></table><br/></div><div class=\"wandb-col\"><h3>Run summary:</h3><br/><table class=\"wandb\"><tr><td>regret</td><td>250000.0</td></tr></table><br/></div></div>"
      ],
      "text/plain": [
       "<IPython.core.display.HTML object>"
      ]
     },
     "metadata": {},
     "output_type": "display_data"
    },
    {
     "data": {
      "text/html": [
       " View run <strong style=\"color:#cdcd00\">lucky-sweep-103</strong> at: <a href='https://wandb.ai/rl_shobhith/uncategorized/runs/yg37dwrt/workspace' target=\"_blank\">https://wandb.ai/rl_shobhith/uncategorized/runs/yg37dwrt/workspace</a><br/>Synced 5 W&B file(s), 0 media file(s), 0 artifact file(s) and 0 other file(s)"
      ],
      "text/plain": [
       "<IPython.core.display.HTML object>"
      ]
     },
     "metadata": {},
     "output_type": "display_data"
    },
    {
     "data": {
      "text/html": [
       "Find logs at: <code>.\\wandb\\run-20240402_070925-yg37dwrt\\logs</code>"
      ],
      "text/plain": [
       "<IPython.core.display.HTML object>"
      ]
     },
     "metadata": {},
     "output_type": "display_data"
    },
    {
     "name": "stderr",
     "output_type": "stream",
     "text": [
      "\u001b[34m\u001b[1mwandb\u001b[0m: Agent Starting Run: 7rlpi1qu with config:\n",
      "\u001b[34m\u001b[1mwandb\u001b[0m: \thidden_dim: 256\n",
      "\u001b[34m\u001b[1mwandb\u001b[0m: \tlearning_rate: 0.0031691514437060396\n",
      "Failed to detect the name of this notebook, you can set it manually with the WANDB_NOTEBOOK_NAME environment variable to enable code saving.\n",
      "\u001b[34m\u001b[1mwandb\u001b[0m: \u001b[33mWARNING\u001b[0m Ignored wandb.init() arg project when running a sweep.\n"
     ]
    },
    {
     "data": {
      "text/html": [
       "Tracking run with wandb version 0.16.5"
      ],
      "text/plain": [
       "<IPython.core.display.HTML object>"
      ]
     },
     "metadata": {},
     "output_type": "display_data"
    },
    {
     "data": {
      "text/html": [
       "Run data is saved locally in <code>c:\\Users\\Shobhith Vadlamudi\\AppData\\Local\\Programs\\Microsoft VS Code\\wandb\\run-20240402_071446-7rlpi1qu</code>"
      ],
      "text/plain": [
       "<IPython.core.display.HTML object>"
      ]
     },
     "metadata": {},
     "output_type": "display_data"
    },
    {
     "data": {
      "text/html": [
       "Syncing run <strong><a href='https://wandb.ai/rl_shobhith/uncategorized/runs/7rlpi1qu/workspace' target=\"_blank\">devout-sweep-104</a></strong> to <a href='https://wandb.ai/rl_shobhith/uncategorized' target=\"_blank\">Weights & Biases</a> (<a href='https://wandb.me/run' target=\"_blank\">docs</a>)<br/>Sweep page: <a href='https://wandb.ai/rl_shobhith/uncategorized/sweeps/yivd2k4v' target=\"_blank\">https://wandb.ai/rl_shobhith/uncategorized/sweeps/yivd2k4v</a>"
      ],
      "text/plain": [
       "<IPython.core.display.HTML object>"
      ]
     },
     "metadata": {},
     "output_type": "display_data"
    },
    {
     "data": {
      "text/html": [
       " View project at <a href='https://wandb.ai/rl_shobhith/uncategorized' target=\"_blank\">https://wandb.ai/rl_shobhith/uncategorized</a>"
      ],
      "text/plain": [
       "<IPython.core.display.HTML object>"
      ]
     },
     "metadata": {},
     "output_type": "display_data"
    },
    {
     "data": {
      "text/html": [
       " View sweep at <a href='https://wandb.ai/rl_shobhith/uncategorized/sweeps/yivd2k4v' target=\"_blank\">https://wandb.ai/rl_shobhith/uncategorized/sweeps/yivd2k4v</a>"
      ],
      "text/plain": [
       "<IPython.core.display.HTML object>"
      ]
     },
     "metadata": {},
     "output_type": "display_data"
    },
    {
     "data": {
      "text/html": [
       " View run at <a href='https://wandb.ai/rl_shobhith/uncategorized/runs/7rlpi1qu/workspace' target=\"_blank\">https://wandb.ai/rl_shobhith/uncategorized/runs/7rlpi1qu/workspace</a>"
      ],
      "text/plain": [
       "<IPython.core.display.HTML object>"
      ]
     },
     "metadata": {},
     "output_type": "display_data"
    },
    {
     "name": "stderr",
     "output_type": "stream",
     "text": [
      "Iteration 0: 100%|██████████| 50/50 [00:36<00:00,  1.39it/s, episode_return=50, return=-368.500]\n",
      "Iteration 1: 100%|██████████| 50/50 [00:34<00:00,  1.44it/s, episode_return=100, return=-500.000]\n",
      "Iteration 2: 100%|██████████| 50/50 [00:35<00:00,  1.42it/s, episode_return=150, return=-500.000]\n",
      "Iteration 3: 100%|██████████| 50/50 [00:39<00:00,  1.25it/s, episode_return=200, return=-500.000]\n",
      "Iteration 4: 100%|██████████| 50/50 [00:41<00:00,  1.21it/s, episode_return=250, return=-500.000]\n",
      "Iteration 5: 100%|██████████| 50/50 [00:43<00:00,  1.15it/s, episode_return=300, return=-500.000]\n",
      "Iteration 6: 100%|██████████| 50/50 [00:43<00:00,  1.16it/s, episode_return=350, return=-500.000]\n",
      "Iteration 7: 100%|██████████| 50/50 [00:41<00:00,  1.19it/s, episode_return=400, return=-500.000]\n",
      "Iteration 8: 100%|██████████| 50/50 [00:45<00:00,  1.10it/s, episode_return=450, return=-500.000]\n",
      "Iteration 9: 100%|██████████| 50/50 [00:46<00:00,  1.07it/s, episode_return=500, return=-500.000]\n"
     ]
    },
    {
     "data": {
      "application/vnd.jupyter.widget-view+json": {
       "model_id": "ef7a00adca554cedb5783dc53b228215",
       "version_major": 2,
       "version_minor": 0
      },
      "text/plain": [
       "VBox(children=(Label(value='0.001 MB of 0.007 MB uploaded\\r'), FloatProgress(value=0.16604527296937416, max=1.…"
      ]
     },
     "metadata": {},
     "output_type": "display_data"
    },
    {
     "data": {
      "text/html": [
       "<style>\n",
       "    table.wandb td:nth-child(1) { padding: 0 10px; text-align: left ; width: auto;} td:nth-child(2) {text-align: left ; width: 100%}\n",
       "    .wandb-row { display: flex; flex-direction: row; flex-wrap: wrap; justify-content: flex-start; width: 100% }\n",
       "    .wandb-col { display: flex; flex-direction: column; flex-basis: 100%; flex: 1; padding: 10px; }\n",
       "    </style>\n",
       "<div class=\"wandb-row\"><div class=\"wandb-col\"><h3>Run history:</h3><br/><table class=\"wandb\"><tr><td>regret</td><td>▁</td></tr></table><br/></div><div class=\"wandb-col\"><h3>Run summary:</h3><br/><table class=\"wandb\"><tr><td>regret</td><td>246905.00931</td></tr></table><br/></div></div>"
      ],
      "text/plain": [
       "<IPython.core.display.HTML object>"
      ]
     },
     "metadata": {},
     "output_type": "display_data"
    },
    {
     "data": {
      "text/html": [
       " View run <strong style=\"color:#cdcd00\">devout-sweep-104</strong> at: <a href='https://wandb.ai/rl_shobhith/uncategorized/runs/7rlpi1qu/workspace' target=\"_blank\">https://wandb.ai/rl_shobhith/uncategorized/runs/7rlpi1qu/workspace</a><br/>Synced 5 W&B file(s), 0 media file(s), 0 artifact file(s) and 0 other file(s)"
      ],
      "text/plain": [
       "<IPython.core.display.HTML object>"
      ]
     },
     "metadata": {},
     "output_type": "display_data"
    },
    {
     "data": {
      "text/html": [
       "Find logs at: <code>.\\wandb\\run-20240402_071446-7rlpi1qu\\logs</code>"
      ],
      "text/plain": [
       "<IPython.core.display.HTML object>"
      ]
     },
     "metadata": {},
     "output_type": "display_data"
    },
    {
     "name": "stderr",
     "output_type": "stream",
     "text": [
      "\u001b[34m\u001b[1mwandb\u001b[0m: Agent Starting Run: ejokls9e with config:\n",
      "\u001b[34m\u001b[1mwandb\u001b[0m: \thidden_dim: 128\n",
      "\u001b[34m\u001b[1mwandb\u001b[0m: \tlearning_rate: 0.00896646041345243\n",
      "Failed to detect the name of this notebook, you can set it manually with the WANDB_NOTEBOOK_NAME environment variable to enable code saving.\n",
      "\u001b[34m\u001b[1mwandb\u001b[0m: \u001b[33mWARNING\u001b[0m Ignored wandb.init() arg project when running a sweep.\n"
     ]
    },
    {
     "data": {
      "text/html": [
       "Tracking run with wandb version 0.16.5"
      ],
      "text/plain": [
       "<IPython.core.display.HTML object>"
      ]
     },
     "metadata": {},
     "output_type": "display_data"
    },
    {
     "data": {
      "text/html": [
       "Run data is saved locally in <code>c:\\Users\\Shobhith Vadlamudi\\AppData\\Local\\Programs\\Microsoft VS Code\\wandb\\run-20240402_072150-ejokls9e</code>"
      ],
      "text/plain": [
       "<IPython.core.display.HTML object>"
      ]
     },
     "metadata": {},
     "output_type": "display_data"
    },
    {
     "data": {
      "text/html": [
       "Syncing run <strong><a href='https://wandb.ai/rl_shobhith/uncategorized/runs/ejokls9e/workspace' target=\"_blank\">vibrant-sweep-105</a></strong> to <a href='https://wandb.ai/rl_shobhith/uncategorized' target=\"_blank\">Weights & Biases</a> (<a href='https://wandb.me/run' target=\"_blank\">docs</a>)<br/>Sweep page: <a href='https://wandb.ai/rl_shobhith/uncategorized/sweeps/yivd2k4v' target=\"_blank\">https://wandb.ai/rl_shobhith/uncategorized/sweeps/yivd2k4v</a>"
      ],
      "text/plain": [
       "<IPython.core.display.HTML object>"
      ]
     },
     "metadata": {},
     "output_type": "display_data"
    },
    {
     "data": {
      "text/html": [
       " View project at <a href='https://wandb.ai/rl_shobhith/uncategorized' target=\"_blank\">https://wandb.ai/rl_shobhith/uncategorized</a>"
      ],
      "text/plain": [
       "<IPython.core.display.HTML object>"
      ]
     },
     "metadata": {},
     "output_type": "display_data"
    },
    {
     "data": {
      "text/html": [
       " View sweep at <a href='https://wandb.ai/rl_shobhith/uncategorized/sweeps/yivd2k4v' target=\"_blank\">https://wandb.ai/rl_shobhith/uncategorized/sweeps/yivd2k4v</a>"
      ],
      "text/plain": [
       "<IPython.core.display.HTML object>"
      ]
     },
     "metadata": {},
     "output_type": "display_data"
    },
    {
     "data": {
      "text/html": [
       " View run at <a href='https://wandb.ai/rl_shobhith/uncategorized/runs/ejokls9e/workspace' target=\"_blank\">https://wandb.ai/rl_shobhith/uncategorized/runs/ejokls9e/workspace</a>"
      ],
      "text/plain": [
       "<IPython.core.display.HTML object>"
      ]
     },
     "metadata": {},
     "output_type": "display_data"
    },
    {
     "name": "stderr",
     "output_type": "stream",
     "text": [
      "Iteration 0: 100%|██████████| 50/50 [00:43<00:00,  1.15it/s, episode_return=50, return=-500.000]\n",
      "Iteration 1: 100%|██████████| 50/50 [00:42<00:00,  1.18it/s, episode_return=100, return=-500.000]\n",
      "Iteration 2: 100%|██████████| 50/50 [00:42<00:00,  1.18it/s, episode_return=150, return=-500.000]\n",
      "Iteration 3: 100%|██████████| 50/50 [00:42<00:00,  1.17it/s, episode_return=200, return=-500.000]\n",
      "Iteration 4: 100%|██████████| 50/50 [00:44<00:00,  1.12it/s, episode_return=250, return=-500.000]\n",
      "Iteration 5: 100%|██████████| 50/50 [00:41<00:00,  1.21it/s, episode_return=300, return=-500.000]\n",
      "Iteration 6: 100%|██████████| 50/50 [00:42<00:00,  1.18it/s, episode_return=350, return=-500.000]\n",
      "Iteration 7: 100%|██████████| 50/50 [00:41<00:00,  1.19it/s, episode_return=400, return=-500.000]\n",
      "Iteration 8: 100%|██████████| 50/50 [00:42<00:00,  1.19it/s, episode_return=450, return=-500.000]\n",
      "Iteration 9: 100%|██████████| 50/50 [00:40<00:00,  1.24it/s, episode_return=500, return=-500.000]\n"
     ]
    },
    {
     "data": {
      "application/vnd.jupyter.widget-view+json": {
       "model_id": "5ae5500f82c4455fbf852329e13fff92",
       "version_major": 2,
       "version_minor": 0
      },
      "text/plain": [
       "VBox(children=(Label(value='0.001 MB of 0.001 MB uploaded\\r'), FloatProgress(value=1.0, max=1.0)))"
      ]
     },
     "metadata": {},
     "output_type": "display_data"
    },
    {
     "data": {
      "text/html": [
       "<style>\n",
       "    table.wandb td:nth-child(1) { padding: 0 10px; text-align: left ; width: auto;} td:nth-child(2) {text-align: left ; width: 100%}\n",
       "    .wandb-row { display: flex; flex-direction: row; flex-wrap: wrap; justify-content: flex-start; width: 100% }\n",
       "    .wandb-col { display: flex; flex-direction: column; flex-basis: 100%; flex: 1; padding: 10px; }\n",
       "    </style>\n",
       "<div class=\"wandb-row\"><div class=\"wandb-col\"><h3>Run history:</h3><br/><table class=\"wandb\"><tr><td>regret</td><td>▁</td></tr></table><br/></div><div class=\"wandb-col\"><h3>Run summary:</h3><br/><table class=\"wandb\"><tr><td>regret</td><td>250000.0</td></tr></table><br/></div></div>"
      ],
      "text/plain": [
       "<IPython.core.display.HTML object>"
      ]
     },
     "metadata": {},
     "output_type": "display_data"
    },
    {
     "data": {
      "text/html": [
       " View run <strong style=\"color:#cdcd00\">vibrant-sweep-105</strong> at: <a href='https://wandb.ai/rl_shobhith/uncategorized/runs/ejokls9e/workspace' target=\"_blank\">https://wandb.ai/rl_shobhith/uncategorized/runs/ejokls9e/workspace</a><br/>Synced 5 W&B file(s), 0 media file(s), 0 artifact file(s) and 0 other file(s)"
      ],
      "text/plain": [
       "<IPython.core.display.HTML object>"
      ]
     },
     "metadata": {},
     "output_type": "display_data"
    },
    {
     "data": {
      "text/html": [
       "Find logs at: <code>.\\wandb\\run-20240402_072150-ejokls9e\\logs</code>"
      ],
      "text/plain": [
       "<IPython.core.display.HTML object>"
      ]
     },
     "metadata": {},
     "output_type": "display_data"
    },
    {
     "name": "stderr",
     "output_type": "stream",
     "text": [
      "\u001b[34m\u001b[1mwandb\u001b[0m: Sweep Agent: Waiting for job.\n",
      "\u001b[34m\u001b[1mwandb\u001b[0m: Job received.\n",
      "\u001b[34m\u001b[1mwandb\u001b[0m: Agent Starting Run: 04qs4mfx with config:\n",
      "\u001b[34m\u001b[1mwandb\u001b[0m: \thidden_dim: 256\n",
      "\u001b[34m\u001b[1mwandb\u001b[0m: \tlearning_rate: 0.003437400914326904\n",
      "Failed to detect the name of this notebook, you can set it manually with the WANDB_NOTEBOOK_NAME environment variable to enable code saving.\n",
      "\u001b[34m\u001b[1mwandb\u001b[0m: \u001b[33mWARNING\u001b[0m Ignored wandb.init() arg project when running a sweep.\n"
     ]
    },
    {
     "data": {
      "text/html": [
       "Tracking run with wandb version 0.16.5"
      ],
      "text/plain": [
       "<IPython.core.display.HTML object>"
      ]
     },
     "metadata": {},
     "output_type": "display_data"
    },
    {
     "data": {
      "text/html": [
       "Run data is saved locally in <code>c:\\Users\\Shobhith Vadlamudi\\AppData\\Local\\Programs\\Microsoft VS Code\\wandb\\run-20240402_072918-04qs4mfx</code>"
      ],
      "text/plain": [
       "<IPython.core.display.HTML object>"
      ]
     },
     "metadata": {},
     "output_type": "display_data"
    },
    {
     "data": {
      "text/html": [
       "Syncing run <strong><a href='https://wandb.ai/rl_shobhith/uncategorized/runs/04qs4mfx/workspace' target=\"_blank\">vague-sweep-106</a></strong> to <a href='https://wandb.ai/rl_shobhith/uncategorized' target=\"_blank\">Weights & Biases</a> (<a href='https://wandb.me/run' target=\"_blank\">docs</a>)<br/>Sweep page: <a href='https://wandb.ai/rl_shobhith/uncategorized/sweeps/yivd2k4v' target=\"_blank\">https://wandb.ai/rl_shobhith/uncategorized/sweeps/yivd2k4v</a>"
      ],
      "text/plain": [
       "<IPython.core.display.HTML object>"
      ]
     },
     "metadata": {},
     "output_type": "display_data"
    },
    {
     "data": {
      "text/html": [
       " View project at <a href='https://wandb.ai/rl_shobhith/uncategorized' target=\"_blank\">https://wandb.ai/rl_shobhith/uncategorized</a>"
      ],
      "text/plain": [
       "<IPython.core.display.HTML object>"
      ]
     },
     "metadata": {},
     "output_type": "display_data"
    },
    {
     "data": {
      "text/html": [
       " View sweep at <a href='https://wandb.ai/rl_shobhith/uncategorized/sweeps/yivd2k4v' target=\"_blank\">https://wandb.ai/rl_shobhith/uncategorized/sweeps/yivd2k4v</a>"
      ],
      "text/plain": [
       "<IPython.core.display.HTML object>"
      ]
     },
     "metadata": {},
     "output_type": "display_data"
    },
    {
     "data": {
      "text/html": [
       " View run at <a href='https://wandb.ai/rl_shobhith/uncategorized/runs/04qs4mfx/workspace' target=\"_blank\">https://wandb.ai/rl_shobhith/uncategorized/runs/04qs4mfx/workspace</a>"
      ],
      "text/plain": [
       "<IPython.core.display.HTML object>"
      ]
     },
     "metadata": {},
     "output_type": "display_data"
    },
    {
     "name": "stderr",
     "output_type": "stream",
     "text": [
      "Iteration 0: 100%|██████████| 50/50 [00:43<00:00,  1.14it/s, episode_return=50, return=-500.000]\n",
      "Iteration 1: 100%|██████████| 50/50 [00:44<00:00,  1.13it/s, episode_return=100, return=-500.000]\n",
      "Iteration 2: 100%|██████████| 50/50 [00:44<00:00,  1.13it/s, episode_return=150, return=-500.000]\n",
      "Iteration 3: 100%|██████████| 50/50 [00:42<00:00,  1.16it/s, episode_return=200, return=-461.600]\n",
      "Iteration 4: 100%|██████████| 50/50 [00:44<00:00,  1.14it/s, episode_return=250, return=-500.000]\n",
      "Iteration 5: 100%|██████████| 50/50 [00:44<00:00,  1.13it/s, episode_return=300, return=-500.000]\n",
      "Iteration 6: 100%|██████████| 50/50 [00:43<00:00,  1.15it/s, episode_return=350, return=-500.000]\n",
      "Iteration 7: 100%|██████████| 50/50 [00:44<00:00,  1.11it/s, episode_return=400, return=-500.000]\n",
      "Iteration 8: 100%|██████████| 50/50 [00:29<00:00,  1.69it/s, episode_return=450, return=-243.400]\n",
      "Iteration 9: 100%|██████████| 50/50 [00:17<00:00,  2.80it/s, episode_return=500, return=-203.300]\n"
     ]
    },
    {
     "data": {
      "application/vnd.jupyter.widget-view+json": {
       "model_id": "3a612564ca2948c3bc57537519bcf5e0",
       "version_major": 2,
       "version_minor": 0
      },
      "text/plain": [
       "VBox(children=(Label(value='0.001 MB of 0.001 MB uploaded\\r'), FloatProgress(value=1.0, max=1.0)))"
      ]
     },
     "metadata": {},
     "output_type": "display_data"
    },
    {
     "data": {
      "text/html": [
       "<style>\n",
       "    table.wandb td:nth-child(1) { padding: 0 10px; text-align: left ; width: auto;} td:nth-child(2) {text-align: left ; width: 100%}\n",
       "    .wandb-row { display: flex; flex-direction: row; flex-wrap: wrap; justify-content: flex-start; width: 100% }\n",
       "    .wandb-col { display: flex; flex-direction: column; flex-basis: 100%; flex: 1; padding: 10px; }\n",
       "    </style>\n",
       "<div class=\"wandb-row\"><div class=\"wandb-col\"><h3>Run history:</h3><br/><table class=\"wandb\"><tr><td>regret</td><td>▁</td></tr></table><br/></div><div class=\"wandb-col\"><h3>Run summary:</h3><br/><table class=\"wandb\"><tr><td>regret</td><td>240249.91888</td></tr></table><br/></div></div>"
      ],
      "text/plain": [
       "<IPython.core.display.HTML object>"
      ]
     },
     "metadata": {},
     "output_type": "display_data"
    },
    {
     "data": {
      "text/html": [
       " View run <strong style=\"color:#cdcd00\">vague-sweep-106</strong> at: <a href='https://wandb.ai/rl_shobhith/uncategorized/runs/04qs4mfx/workspace' target=\"_blank\">https://wandb.ai/rl_shobhith/uncategorized/runs/04qs4mfx/workspace</a><br/>Synced 5 W&B file(s), 0 media file(s), 0 artifact file(s) and 0 other file(s)"
      ],
      "text/plain": [
       "<IPython.core.display.HTML object>"
      ]
     },
     "metadata": {},
     "output_type": "display_data"
    },
    {
     "data": {
      "text/html": [
       "Find logs at: <code>.\\wandb\\run-20240402_072918-04qs4mfx\\logs</code>"
      ],
      "text/plain": [
       "<IPython.core.display.HTML object>"
      ]
     },
     "metadata": {},
     "output_type": "display_data"
    },
    {
     "name": "stderr",
     "output_type": "stream",
     "text": [
      "\u001b[34m\u001b[1mwandb\u001b[0m: Agent Starting Run: 6hq9xata with config:\n",
      "\u001b[34m\u001b[1mwandb\u001b[0m: \thidden_dim: 64\n",
      "\u001b[34m\u001b[1mwandb\u001b[0m: \tlearning_rate: 0.0003575459304779966\n",
      "Failed to detect the name of this notebook, you can set it manually with the WANDB_NOTEBOOK_NAME environment variable to enable code saving.\n",
      "\u001b[34m\u001b[1mwandb\u001b[0m: \u001b[33mWARNING\u001b[0m Ignored wandb.init() arg project when running a sweep.\n"
     ]
    },
    {
     "data": {
      "text/html": [
       "Tracking run with wandb version 0.16.5"
      ],
      "text/plain": [
       "<IPython.core.display.HTML object>"
      ]
     },
     "metadata": {},
     "output_type": "display_data"
    },
    {
     "data": {
      "text/html": [
       "Run data is saved locally in <code>c:\\Users\\Shobhith Vadlamudi\\AppData\\Local\\Programs\\Microsoft VS Code\\wandb\\run-20240402_073610-6hq9xata</code>"
      ],
      "text/plain": [
       "<IPython.core.display.HTML object>"
      ]
     },
     "metadata": {},
     "output_type": "display_data"
    },
    {
     "data": {
      "text/html": [
       "Syncing run <strong><a href='https://wandb.ai/rl_shobhith/uncategorized/runs/6hq9xata/workspace' target=\"_blank\">stellar-sweep-107</a></strong> to <a href='https://wandb.ai/rl_shobhith/uncategorized' target=\"_blank\">Weights & Biases</a> (<a href='https://wandb.me/run' target=\"_blank\">docs</a>)<br/>Sweep page: <a href='https://wandb.ai/rl_shobhith/uncategorized/sweeps/yivd2k4v' target=\"_blank\">https://wandb.ai/rl_shobhith/uncategorized/sweeps/yivd2k4v</a>"
      ],
      "text/plain": [
       "<IPython.core.display.HTML object>"
      ]
     },
     "metadata": {},
     "output_type": "display_data"
    },
    {
     "data": {
      "text/html": [
       " View project at <a href='https://wandb.ai/rl_shobhith/uncategorized' target=\"_blank\">https://wandb.ai/rl_shobhith/uncategorized</a>"
      ],
      "text/plain": [
       "<IPython.core.display.HTML object>"
      ]
     },
     "metadata": {},
     "output_type": "display_data"
    },
    {
     "data": {
      "text/html": [
       " View sweep at <a href='https://wandb.ai/rl_shobhith/uncategorized/sweeps/yivd2k4v' target=\"_blank\">https://wandb.ai/rl_shobhith/uncategorized/sweeps/yivd2k4v</a>"
      ],
      "text/plain": [
       "<IPython.core.display.HTML object>"
      ]
     },
     "metadata": {},
     "output_type": "display_data"
    },
    {
     "data": {
      "text/html": [
       " View run at <a href='https://wandb.ai/rl_shobhith/uncategorized/runs/6hq9xata/workspace' target=\"_blank\">https://wandb.ai/rl_shobhith/uncategorized/runs/6hq9xata/workspace</a>"
      ],
      "text/plain": [
       "<IPython.core.display.HTML object>"
      ]
     },
     "metadata": {},
     "output_type": "display_data"
    },
    {
     "name": "stderr",
     "output_type": "stream",
     "text": [
      "Iteration 0: 100%|██████████| 50/50 [00:40<00:00,  1.25it/s, episode_return=50, return=-500.000]\n",
      "Iteration 1: 100%|██████████| 50/50 [00:39<00:00,  1.25it/s, episode_return=100, return=-500.000]\n",
      "Iteration 2: 100%|██████████| 50/50 [00:39<00:00,  1.26it/s, episode_return=150, return=-500.000]\n",
      "Iteration 3: 100%|██████████| 50/50 [00:39<00:00,  1.28it/s, episode_return=200, return=-500.000]\n",
      "Iteration 4: 100%|██████████| 50/50 [00:39<00:00,  1.26it/s, episode_return=250, return=-500.000]\n",
      "Iteration 5: 100%|██████████| 50/50 [00:38<00:00,  1.29it/s, episode_return=300, return=-500.000]\n",
      "Iteration 6: 100%|██████████| 50/50 [00:41<00:00,  1.19it/s, episode_return=350, return=-500.000]\n",
      "Iteration 7: 100%|██████████| 50/50 [00:39<00:00,  1.27it/s, episode_return=400, return=-500.000]\n",
      "Iteration 8: 100%|██████████| 50/50 [00:39<00:00,  1.28it/s, episode_return=450, return=-500.000]\n",
      "Iteration 9: 100%|██████████| 50/50 [00:38<00:00,  1.30it/s, episode_return=500, return=-500.000]\n"
     ]
    },
    {
     "data": {
      "application/vnd.jupyter.widget-view+json": {
       "model_id": "aa10f0d1bc6a42a6a5604c61f6fb4cd3",
       "version_major": 2,
       "version_minor": 0
      },
      "text/plain": [
       "VBox(children=(Label(value='0.001 MB of 0.001 MB uploaded\\r'), FloatProgress(value=1.0, max=1.0)))"
      ]
     },
     "metadata": {},
     "output_type": "display_data"
    },
    {
     "data": {
      "text/html": [
       "<style>\n",
       "    table.wandb td:nth-child(1) { padding: 0 10px; text-align: left ; width: auto;} td:nth-child(2) {text-align: left ; width: 100%}\n",
       "    .wandb-row { display: flex; flex-direction: row; flex-wrap: wrap; justify-content: flex-start; width: 100% }\n",
       "    .wandb-col { display: flex; flex-direction: column; flex-basis: 100%; flex: 1; padding: 10px; }\n",
       "    </style>\n",
       "<div class=\"wandb-row\"><div class=\"wandb-col\"><h3>Run history:</h3><br/><table class=\"wandb\"><tr><td>regret</td><td>▁</td></tr></table><br/></div><div class=\"wandb-col\"><h3>Run summary:</h3><br/><table class=\"wandb\"><tr><td>regret</td><td>250000.0</td></tr></table><br/></div></div>"
      ],
      "text/plain": [
       "<IPython.core.display.HTML object>"
      ]
     },
     "metadata": {},
     "output_type": "display_data"
    },
    {
     "data": {
      "text/html": [
       " View run <strong style=\"color:#cdcd00\">stellar-sweep-107</strong> at: <a href='https://wandb.ai/rl_shobhith/uncategorized/runs/6hq9xata/workspace' target=\"_blank\">https://wandb.ai/rl_shobhith/uncategorized/runs/6hq9xata/workspace</a><br/>Synced 5 W&B file(s), 0 media file(s), 0 artifact file(s) and 0 other file(s)"
      ],
      "text/plain": [
       "<IPython.core.display.HTML object>"
      ]
     },
     "metadata": {},
     "output_type": "display_data"
    },
    {
     "data": {
      "text/html": [
       "Find logs at: <code>.\\wandb\\run-20240402_073610-6hq9xata\\logs</code>"
      ],
      "text/plain": [
       "<IPython.core.display.HTML object>"
      ]
     },
     "metadata": {},
     "output_type": "display_data"
    },
    {
     "name": "stderr",
     "output_type": "stream",
     "text": [
      "\u001b[34m\u001b[1mwandb\u001b[0m: Sweep Agent: Waiting for job.\n",
      "\u001b[34m\u001b[1mwandb\u001b[0m: Job received.\n",
      "\u001b[34m\u001b[1mwandb\u001b[0m: Agent Starting Run: at61zqo9 with config:\n",
      "\u001b[34m\u001b[1mwandb\u001b[0m: \thidden_dim: 128\n",
      "\u001b[34m\u001b[1mwandb\u001b[0m: \tlearning_rate: 0.007036780395029252\n",
      "Failed to detect the name of this notebook, you can set it manually with the WANDB_NOTEBOOK_NAME environment variable to enable code saving.\n",
      "\u001b[34m\u001b[1mwandb\u001b[0m: \u001b[33mWARNING\u001b[0m Ignored wandb.init() arg project when running a sweep.\n"
     ]
    },
    {
     "data": {
      "text/html": [
       "Tracking run with wandb version 0.16.5"
      ],
      "text/plain": [
       "<IPython.core.display.HTML object>"
      ]
     },
     "metadata": {},
     "output_type": "display_data"
    },
    {
     "data": {
      "text/html": [
       "Run data is saved locally in <code>c:\\Users\\Shobhith Vadlamudi\\AppData\\Local\\Programs\\Microsoft VS Code\\wandb\\run-20240402_074307-at61zqo9</code>"
      ],
      "text/plain": [
       "<IPython.core.display.HTML object>"
      ]
     },
     "metadata": {},
     "output_type": "display_data"
    },
    {
     "data": {
      "text/html": [
       "Syncing run <strong><a href='https://wandb.ai/rl_shobhith/uncategorized/runs/at61zqo9/workspace' target=\"_blank\">fallen-sweep-108</a></strong> to <a href='https://wandb.ai/rl_shobhith/uncategorized' target=\"_blank\">Weights & Biases</a> (<a href='https://wandb.me/run' target=\"_blank\">docs</a>)<br/>Sweep page: <a href='https://wandb.ai/rl_shobhith/uncategorized/sweeps/yivd2k4v' target=\"_blank\">https://wandb.ai/rl_shobhith/uncategorized/sweeps/yivd2k4v</a>"
      ],
      "text/plain": [
       "<IPython.core.display.HTML object>"
      ]
     },
     "metadata": {},
     "output_type": "display_data"
    },
    {
     "data": {
      "text/html": [
       " View project at <a href='https://wandb.ai/rl_shobhith/uncategorized' target=\"_blank\">https://wandb.ai/rl_shobhith/uncategorized</a>"
      ],
      "text/plain": [
       "<IPython.core.display.HTML object>"
      ]
     },
     "metadata": {},
     "output_type": "display_data"
    },
    {
     "data": {
      "text/html": [
       " View sweep at <a href='https://wandb.ai/rl_shobhith/uncategorized/sweeps/yivd2k4v' target=\"_blank\">https://wandb.ai/rl_shobhith/uncategorized/sweeps/yivd2k4v</a>"
      ],
      "text/plain": [
       "<IPython.core.display.HTML object>"
      ]
     },
     "metadata": {},
     "output_type": "display_data"
    },
    {
     "data": {
      "text/html": [
       " View run at <a href='https://wandb.ai/rl_shobhith/uncategorized/runs/at61zqo9/workspace' target=\"_blank\">https://wandb.ai/rl_shobhith/uncategorized/runs/at61zqo9/workspace</a>"
      ],
      "text/plain": [
       "<IPython.core.display.HTML object>"
      ]
     },
     "metadata": {},
     "output_type": "display_data"
    },
    {
     "name": "stderr",
     "output_type": "stream",
     "text": [
      "Iteration 0: 100%|██████████| 50/50 [00:24<00:00,  2.06it/s, episode_return=50, return=-201.100]\n",
      "Iteration 1: 100%|██████████| 50/50 [00:14<00:00,  3.36it/s, episode_return=100, return=-209.300]\n",
      "Iteration 2: 100%|██████████| 50/50 [00:13<00:00,  3.73it/s, episode_return=150, return=-139.800]\n",
      "Iteration 3: 100%|██████████| 50/50 [00:14<00:00,  3.55it/s, episode_return=200, return=-182.900]\n",
      "Iteration 4: 100%|██████████| 50/50 [00:14<00:00,  3.35it/s, episode_return=250, return=-189.700]\n",
      "Iteration 5: 100%|██████████| 50/50 [00:15<00:00,  3.30it/s, episode_return=300, return=-201.600]\n",
      "Iteration 6: 100%|██████████| 50/50 [00:16<00:00,  2.98it/s, episode_return=350, return=-145.700]\n",
      "Iteration 7: 100%|██████████| 50/50 [00:10<00:00,  4.96it/s, episode_return=400, return=-89.900] \n",
      "Iteration 8: 100%|██████████| 50/50 [00:07<00:00,  6.31it/s, episode_return=450, return=-101.400]\n",
      "Iteration 9: 100%|██████████| 50/50 [00:07<00:00,  6.31it/s, episode_return=500, return=-124.800]\n"
     ]
    },
    {
     "data": {
      "application/vnd.jupyter.widget-view+json": {
       "model_id": "040a4c118fa94ed1a7252779b150885f",
       "version_major": 2,
       "version_minor": 0
      },
      "text/plain": [
       "VBox(children=(Label(value='0.001 MB of 0.001 MB uploaded\\r'), FloatProgress(value=1.0, max=1.0)))"
      ]
     },
     "metadata": {},
     "output_type": "display_data"
    },
    {
     "data": {
      "text/html": [
       "<style>\n",
       "    table.wandb td:nth-child(1) { padding: 0 10px; text-align: left ; width: auto;} td:nth-child(2) {text-align: left ; width: 100%}\n",
       "    .wandb-row { display: flex; flex-direction: row; flex-wrap: wrap; justify-content: flex-start; width: 100% }\n",
       "    .wandb-col { display: flex; flex-direction: column; flex-basis: 100%; flex: 1; padding: 10px; }\n",
       "    </style>\n",
       "<div class=\"wandb-row\"><div class=\"wandb-col\"><h3>Run history:</h3><br/><table class=\"wandb\"><tr><td>regret</td><td>▁</td></tr></table><br/></div><div class=\"wandb-col\"><h3>Run summary:</h3><br/><table class=\"wandb\"><tr><td>regret</td><td>99980.54628</td></tr></table><br/></div></div>"
      ],
      "text/plain": [
       "<IPython.core.display.HTML object>"
      ]
     },
     "metadata": {},
     "output_type": "display_data"
    },
    {
     "data": {
      "text/html": [
       " View run <strong style=\"color:#cdcd00\">fallen-sweep-108</strong> at: <a href='https://wandb.ai/rl_shobhith/uncategorized/runs/at61zqo9/workspace' target=\"_blank\">https://wandb.ai/rl_shobhith/uncategorized/runs/at61zqo9/workspace</a><br/>Synced 5 W&B file(s), 0 media file(s), 0 artifact file(s) and 0 other file(s)"
      ],
      "text/plain": [
       "<IPython.core.display.HTML object>"
      ]
     },
     "metadata": {},
     "output_type": "display_data"
    },
    {
     "data": {
      "text/html": [
       "Find logs at: <code>.\\wandb\\run-20240402_074307-at61zqo9\\logs</code>"
      ],
      "text/plain": [
       "<IPython.core.display.HTML object>"
      ]
     },
     "metadata": {},
     "output_type": "display_data"
    },
    {
     "name": "stderr",
     "output_type": "stream",
     "text": [
      "\u001b[34m\u001b[1mwandb\u001b[0m: Agent Starting Run: p1n3k53l with config:\n",
      "\u001b[34m\u001b[1mwandb\u001b[0m: \thidden_dim: 256\n",
      "\u001b[34m\u001b[1mwandb\u001b[0m: \tlearning_rate: 0.002440908112126932\n",
      "Failed to detect the name of this notebook, you can set it manually with the WANDB_NOTEBOOK_NAME environment variable to enable code saving.\n",
      "\u001b[34m\u001b[1mwandb\u001b[0m: \u001b[33mWARNING\u001b[0m Ignored wandb.init() arg project when running a sweep.\n"
     ]
    },
    {
     "data": {
      "text/html": [
       "Tracking run with wandb version 0.16.5"
      ],
      "text/plain": [
       "<IPython.core.display.HTML object>"
      ]
     },
     "metadata": {},
     "output_type": "display_data"
    },
    {
     "data": {
      "text/html": [
       "Run data is saved locally in <code>c:\\Users\\Shobhith Vadlamudi\\AppData\\Local\\Programs\\Microsoft VS Code\\wandb\\run-20240402_074541-p1n3k53l</code>"
      ],
      "text/plain": [
       "<IPython.core.display.HTML object>"
      ]
     },
     "metadata": {},
     "output_type": "display_data"
    },
    {
     "data": {
      "text/html": [
       "Syncing run <strong><a href='https://wandb.ai/rl_shobhith/uncategorized/runs/p1n3k53l/workspace' target=\"_blank\">polar-sweep-109</a></strong> to <a href='https://wandb.ai/rl_shobhith/uncategorized' target=\"_blank\">Weights & Biases</a> (<a href='https://wandb.me/run' target=\"_blank\">docs</a>)<br/>Sweep page: <a href='https://wandb.ai/rl_shobhith/uncategorized/sweeps/yivd2k4v' target=\"_blank\">https://wandb.ai/rl_shobhith/uncategorized/sweeps/yivd2k4v</a>"
      ],
      "text/plain": [
       "<IPython.core.display.HTML object>"
      ]
     },
     "metadata": {},
     "output_type": "display_data"
    },
    {
     "data": {
      "text/html": [
       " View project at <a href='https://wandb.ai/rl_shobhith/uncategorized' target=\"_blank\">https://wandb.ai/rl_shobhith/uncategorized</a>"
      ],
      "text/plain": [
       "<IPython.core.display.HTML object>"
      ]
     },
     "metadata": {},
     "output_type": "display_data"
    },
    {
     "data": {
      "text/html": [
       " View sweep at <a href='https://wandb.ai/rl_shobhith/uncategorized/sweeps/yivd2k4v' target=\"_blank\">https://wandb.ai/rl_shobhith/uncategorized/sweeps/yivd2k4v</a>"
      ],
      "text/plain": [
       "<IPython.core.display.HTML object>"
      ]
     },
     "metadata": {},
     "output_type": "display_data"
    },
    {
     "data": {
      "text/html": [
       " View run at <a href='https://wandb.ai/rl_shobhith/uncategorized/runs/p1n3k53l/workspace' target=\"_blank\">https://wandb.ai/rl_shobhith/uncategorized/runs/p1n3k53l/workspace</a>"
      ],
      "text/plain": [
       "<IPython.core.display.HTML object>"
      ]
     },
     "metadata": {},
     "output_type": "display_data"
    },
    {
     "name": "stderr",
     "output_type": "stream",
     "text": [
      "Iteration 0: 100%|██████████| 50/50 [00:43<00:00,  1.16it/s, episode_return=50, return=-500.000]\n",
      "Iteration 1: 100%|██████████| 50/50 [00:42<00:00,  1.18it/s, episode_return=100, return=-500.000]\n",
      "Iteration 2: 100%|██████████| 50/50 [00:42<00:00,  1.18it/s, episode_return=150, return=-500.000]\n",
      "Iteration 3: 100%|██████████| 50/50 [00:44<00:00,  1.11it/s, episode_return=200, return=-500.000]\n",
      "Iteration 4: 100%|██████████| 50/50 [00:45<00:00,  1.10it/s, episode_return=250, return=-500.000]\n",
      "Iteration 5: 100%|██████████| 50/50 [00:42<00:00,  1.17it/s, episode_return=300, return=-500.000]\n",
      "Iteration 6: 100%|██████████| 50/50 [00:41<00:00,  1.20it/s, episode_return=350, return=-500.000]\n",
      "Iteration 7: 100%|██████████| 50/50 [00:42<00:00,  1.19it/s, episode_return=400, return=-500.000]\n",
      "Iteration 8: 100%|██████████| 50/50 [00:42<00:00,  1.16it/s, episode_return=450, return=-500.000]\n",
      "Iteration 9: 100%|██████████| 50/50 [00:42<00:00,  1.19it/s, episode_return=500, return=-500.000]\n"
     ]
    },
    {
     "data": {
      "application/vnd.jupyter.widget-view+json": {
       "model_id": "faf82116bf8841db84c262c1b9293193",
       "version_major": 2,
       "version_minor": 0
      },
      "text/plain": [
       "VBox(children=(Label(value='0.001 MB of 0.001 MB uploaded\\r'), FloatProgress(value=1.0, max=1.0)))"
      ]
     },
     "metadata": {},
     "output_type": "display_data"
    },
    {
     "data": {
      "text/html": [
       "<style>\n",
       "    table.wandb td:nth-child(1) { padding: 0 10px; text-align: left ; width: auto;} td:nth-child(2) {text-align: left ; width: 100%}\n",
       "    .wandb-row { display: flex; flex-direction: row; flex-wrap: wrap; justify-content: flex-start; width: 100% }\n",
       "    .wandb-col { display: flex; flex-direction: column; flex-basis: 100%; flex: 1; padding: 10px; }\n",
       "    </style>\n",
       "<div class=\"wandb-row\"><div class=\"wandb-col\"><h3>Run history:</h3><br/><table class=\"wandb\"><tr><td>regret</td><td>▁</td></tr></table><br/></div><div class=\"wandb-col\"><h3>Run summary:</h3><br/><table class=\"wandb\"><tr><td>regret</td><td>250000.0</td></tr></table><br/></div></div>"
      ],
      "text/plain": [
       "<IPython.core.display.HTML object>"
      ]
     },
     "metadata": {},
     "output_type": "display_data"
    },
    {
     "data": {
      "text/html": [
       " View run <strong style=\"color:#cdcd00\">polar-sweep-109</strong> at: <a href='https://wandb.ai/rl_shobhith/uncategorized/runs/p1n3k53l/workspace' target=\"_blank\">https://wandb.ai/rl_shobhith/uncategorized/runs/p1n3k53l/workspace</a><br/>Synced 5 W&B file(s), 0 media file(s), 0 artifact file(s) and 0 other file(s)"
      ],
      "text/plain": [
       "<IPython.core.display.HTML object>"
      ]
     },
     "metadata": {},
     "output_type": "display_data"
    },
    {
     "data": {
      "text/html": [
       "Find logs at: <code>.\\wandb\\run-20240402_074541-p1n3k53l\\logs</code>"
      ],
      "text/plain": [
       "<IPython.core.display.HTML object>"
      ]
     },
     "metadata": {},
     "output_type": "display_data"
    },
    {
     "name": "stderr",
     "output_type": "stream",
     "text": [
      "\u001b[34m\u001b[1mwandb\u001b[0m: Agent Starting Run: qs9aa8o5 with config:\n",
      "\u001b[34m\u001b[1mwandb\u001b[0m: \thidden_dim: 256\n",
      "\u001b[34m\u001b[1mwandb\u001b[0m: \tlearning_rate: 0.006051788592537706\n",
      "Failed to detect the name of this notebook, you can set it manually with the WANDB_NOTEBOOK_NAME environment variable to enable code saving.\n",
      "\u001b[34m\u001b[1mwandb\u001b[0m: \u001b[33mWARNING\u001b[0m Ignored wandb.init() arg project when running a sweep.\n"
     ]
    },
    {
     "data": {
      "text/html": [
       "Tracking run with wandb version 0.16.5"
      ],
      "text/plain": [
       "<IPython.core.display.HTML object>"
      ]
     },
     "metadata": {},
     "output_type": "display_data"
    },
    {
     "data": {
      "text/html": [
       "Run data is saved locally in <code>c:\\Users\\Shobhith Vadlamudi\\AppData\\Local\\Programs\\Microsoft VS Code\\wandb\\run-20240402_075304-qs9aa8o5</code>"
      ],
      "text/plain": [
       "<IPython.core.display.HTML object>"
      ]
     },
     "metadata": {},
     "output_type": "display_data"
    },
    {
     "data": {
      "text/html": [
       "Syncing run <strong><a href='https://wandb.ai/rl_shobhith/uncategorized/runs/qs9aa8o5/workspace' target=\"_blank\">northern-sweep-110</a></strong> to <a href='https://wandb.ai/rl_shobhith/uncategorized' target=\"_blank\">Weights & Biases</a> (<a href='https://wandb.me/run' target=\"_blank\">docs</a>)<br/>Sweep page: <a href='https://wandb.ai/rl_shobhith/uncategorized/sweeps/yivd2k4v' target=\"_blank\">https://wandb.ai/rl_shobhith/uncategorized/sweeps/yivd2k4v</a>"
      ],
      "text/plain": [
       "<IPython.core.display.HTML object>"
      ]
     },
     "metadata": {},
     "output_type": "display_data"
    },
    {
     "data": {
      "text/html": [
       " View project at <a href='https://wandb.ai/rl_shobhith/uncategorized' target=\"_blank\">https://wandb.ai/rl_shobhith/uncategorized</a>"
      ],
      "text/plain": [
       "<IPython.core.display.HTML object>"
      ]
     },
     "metadata": {},
     "output_type": "display_data"
    },
    {
     "data": {
      "text/html": [
       " View sweep at <a href='https://wandb.ai/rl_shobhith/uncategorized/sweeps/yivd2k4v' target=\"_blank\">https://wandb.ai/rl_shobhith/uncategorized/sweeps/yivd2k4v</a>"
      ],
      "text/plain": [
       "<IPython.core.display.HTML object>"
      ]
     },
     "metadata": {},
     "output_type": "display_data"
    },
    {
     "data": {
      "text/html": [
       " View run at <a href='https://wandb.ai/rl_shobhith/uncategorized/runs/qs9aa8o5/workspace' target=\"_blank\">https://wandb.ai/rl_shobhith/uncategorized/runs/qs9aa8o5/workspace</a>"
      ],
      "text/plain": [
       "<IPython.core.display.HTML object>"
      ]
     },
     "metadata": {},
     "output_type": "display_data"
    },
    {
     "name": "stderr",
     "output_type": "stream",
     "text": [
      "Iteration 0: 100%|██████████| 50/50 [00:43<00:00,  1.15it/s, episode_return=50, return=-500.000]\n",
      "Iteration 1: 100%|██████████| 50/50 [00:42<00:00,  1.18it/s, episode_return=100, return=-500.000]\n",
      "Iteration 2: 100%|██████████| 50/50 [00:37<00:00,  1.32it/s, episode_return=150, return=-500.000]\n",
      "Iteration 3: 100%|██████████| 50/50 [00:41<00:00,  1.21it/s, episode_return=200, return=-500.000]\n",
      "Iteration 4: 100%|██████████| 50/50 [00:48<00:00,  1.04it/s, episode_return=250, return=-500.000]\n",
      "Iteration 5: 100%|██████████| 50/50 [00:42<00:00,  1.17it/s, episode_return=300, return=-500.000]\n",
      "Iteration 6: 100%|██████████| 50/50 [00:35<00:00,  1.41it/s, episode_return=350, return=-500.000]\n",
      "Iteration 7: 100%|██████████| 50/50 [00:34<00:00,  1.45it/s, episode_return=400, return=-500.000]\n",
      "Iteration 8: 100%|██████████| 50/50 [00:36<00:00,  1.37it/s, episode_return=450, return=-500.000]\n",
      "Iteration 9: 100%|██████████| 50/50 [00:35<00:00,  1.42it/s, episode_return=500, return=-500.000]\n"
     ]
    },
    {
     "data": {
      "application/vnd.jupyter.widget-view+json": {
       "model_id": "f3ac5750a2694a7f81bf8e5882c47e69",
       "version_major": 2,
       "version_minor": 0
      },
      "text/plain": [
       "VBox(children=(Label(value='0.001 MB of 0.007 MB uploaded\\r'), FloatProgress(value=0.16291251964379255, max=1.…"
      ]
     },
     "metadata": {},
     "output_type": "display_data"
    },
    {
     "data": {
      "text/html": [
       "<style>\n",
       "    table.wandb td:nth-child(1) { padding: 0 10px; text-align: left ; width: auto;} td:nth-child(2) {text-align: left ; width: 100%}\n",
       "    .wandb-row { display: flex; flex-direction: row; flex-wrap: wrap; justify-content: flex-start; width: 100% }\n",
       "    .wandb-col { display: flex; flex-direction: column; flex-basis: 100%; flex: 1; padding: 10px; }\n",
       "    </style>\n",
       "<div class=\"wandb-row\"><div class=\"wandb-col\"><h3>Run history:</h3><br/><table class=\"wandb\"><tr><td>regret</td><td>▁</td></tr></table><br/></div><div class=\"wandb-col\"><h3>Run summary:</h3><br/><table class=\"wandb\"><tr><td>regret</td><td>248007.01344</td></tr></table><br/></div></div>"
      ],
      "text/plain": [
       "<IPython.core.display.HTML object>"
      ]
     },
     "metadata": {},
     "output_type": "display_data"
    },
    {
     "data": {
      "text/html": [
       " View run <strong style=\"color:#cdcd00\">northern-sweep-110</strong> at: <a href='https://wandb.ai/rl_shobhith/uncategorized/runs/qs9aa8o5/workspace' target=\"_blank\">https://wandb.ai/rl_shobhith/uncategorized/runs/qs9aa8o5/workspace</a><br/>Synced 5 W&B file(s), 0 media file(s), 0 artifact file(s) and 0 other file(s)"
      ],
      "text/plain": [
       "<IPython.core.display.HTML object>"
      ]
     },
     "metadata": {},
     "output_type": "display_data"
    },
    {
     "data": {
      "text/html": [
       "Find logs at: <code>.\\wandb\\run-20240402_075304-qs9aa8o5\\logs</code>"
      ],
      "text/plain": [
       "<IPython.core.display.HTML object>"
      ]
     },
     "metadata": {},
     "output_type": "display_data"
    },
    {
     "name": "stderr",
     "output_type": "stream",
     "text": [
      "\u001b[34m\u001b[1mwandb\u001b[0m: Agent Starting Run: fwcz2nue with config:\n",
      "\u001b[34m\u001b[1mwandb\u001b[0m: \thidden_dim: 64\n",
      "\u001b[34m\u001b[1mwandb\u001b[0m: \tlearning_rate: 0.005824004038464582\n",
      "Failed to detect the name of this notebook, you can set it manually with the WANDB_NOTEBOOK_NAME environment variable to enable code saving.\n",
      "\u001b[34m\u001b[1mwandb\u001b[0m: \u001b[33mWARNING\u001b[0m Ignored wandb.init() arg project when running a sweep.\n"
     ]
    },
    {
     "data": {
      "text/html": [
       "Tracking run with wandb version 0.16.5"
      ],
      "text/plain": [
       "<IPython.core.display.HTML object>"
      ]
     },
     "metadata": {},
     "output_type": "display_data"
    },
    {
     "data": {
      "text/html": [
       "Run data is saved locally in <code>c:\\Users\\Shobhith Vadlamudi\\AppData\\Local\\Programs\\Microsoft VS Code\\wandb\\run-20240402_075958-fwcz2nue</code>"
      ],
      "text/plain": [
       "<IPython.core.display.HTML object>"
      ]
     },
     "metadata": {},
     "output_type": "display_data"
    },
    {
     "data": {
      "text/html": [
       "Syncing run <strong><a href='https://wandb.ai/rl_shobhith/uncategorized/runs/fwcz2nue/workspace' target=\"_blank\">daily-sweep-111</a></strong> to <a href='https://wandb.ai/rl_shobhith/uncategorized' target=\"_blank\">Weights & Biases</a> (<a href='https://wandb.me/run' target=\"_blank\">docs</a>)<br/>Sweep page: <a href='https://wandb.ai/rl_shobhith/uncategorized/sweeps/yivd2k4v' target=\"_blank\">https://wandb.ai/rl_shobhith/uncategorized/sweeps/yivd2k4v</a>"
      ],
      "text/plain": [
       "<IPython.core.display.HTML object>"
      ]
     },
     "metadata": {},
     "output_type": "display_data"
    },
    {
     "data": {
      "text/html": [
       " View project at <a href='https://wandb.ai/rl_shobhith/uncategorized' target=\"_blank\">https://wandb.ai/rl_shobhith/uncategorized</a>"
      ],
      "text/plain": [
       "<IPython.core.display.HTML object>"
      ]
     },
     "metadata": {},
     "output_type": "display_data"
    },
    {
     "data": {
      "text/html": [
       " View sweep at <a href='https://wandb.ai/rl_shobhith/uncategorized/sweeps/yivd2k4v' target=\"_blank\">https://wandb.ai/rl_shobhith/uncategorized/sweeps/yivd2k4v</a>"
      ],
      "text/plain": [
       "<IPython.core.display.HTML object>"
      ]
     },
     "metadata": {},
     "output_type": "display_data"
    },
    {
     "data": {
      "text/html": [
       " View run at <a href='https://wandb.ai/rl_shobhith/uncategorized/runs/fwcz2nue/workspace' target=\"_blank\">https://wandb.ai/rl_shobhith/uncategorized/runs/fwcz2nue/workspace</a>"
      ],
      "text/plain": [
       "<IPython.core.display.HTML object>"
      ]
     },
     "metadata": {},
     "output_type": "display_data"
    },
    {
     "name": "stderr",
     "output_type": "stream",
     "text": [
      "Iteration 0: 100%|██████████| 50/50 [00:29<00:00,  1.71it/s, episode_return=50, return=-500.000]\n",
      "Iteration 1: 100%|██████████| 50/50 [00:22<00:00,  2.18it/s, episode_return=100, return=-208.100]\n",
      "Iteration 2: 100%|██████████| 50/50 [00:14<00:00,  3.39it/s, episode_return=150, return=-229.800]\n",
      "Iteration 3: 100%|██████████| 50/50 [00:12<00:00,  3.94it/s, episode_return=200, return=-196.900]\n",
      "Iteration 4: 100%|██████████| 50/50 [00:14<00:00,  3.38it/s, episode_return=250, return=-240.100]\n",
      "Iteration 5: 100%|██████████| 50/50 [00:17<00:00,  2.85it/s, episode_return=300, return=-230.500]\n",
      "Iteration 6: 100%|██████████| 50/50 [00:13<00:00,  3.72it/s, episode_return=350, return=-189.400]\n",
      "Iteration 7: 100%|██████████| 50/50 [00:12<00:00,  3.91it/s, episode_return=400, return=-190.700]\n",
      "Iteration 8: 100%|██████████| 50/50 [00:12<00:00,  3.86it/s, episode_return=450, return=-206.800]\n",
      "Iteration 9: 100%|██████████| 50/50 [00:15<00:00,  3.31it/s, episode_return=500, return=-191.800]\n"
     ]
    },
    {
     "data": {
      "application/vnd.jupyter.widget-view+json": {
       "model_id": "3be53e01b7834ab899cbab4229ba26fe",
       "version_major": 2,
       "version_minor": 0
      },
      "text/plain": [
       "VBox(children=(Label(value='0.001 MB of 0.001 MB uploaded\\r'), FloatProgress(value=1.0, max=1.0)))"
      ]
     },
     "metadata": {},
     "output_type": "display_data"
    },
    {
     "data": {
      "text/html": [
       "<style>\n",
       "    table.wandb td:nth-child(1) { padding: 0 10px; text-align: left ; width: auto;} td:nth-child(2) {text-align: left ; width: 100%}\n",
       "    .wandb-row { display: flex; flex-direction: row; flex-wrap: wrap; justify-content: flex-start; width: 100% }\n",
       "    .wandb-col { display: flex; flex-direction: column; flex-basis: 100%; flex: 1; padding: 10px; }\n",
       "    </style>\n",
       "<div class=\"wandb-row\"><div class=\"wandb-col\"><h3>Run history:</h3><br/><table class=\"wandb\"><tr><td>regret</td><td>▁</td></tr></table><br/></div><div class=\"wandb-col\"><h3>Run summary:</h3><br/><table class=\"wandb\"><tr><td>regret</td><td>140360.44745</td></tr></table><br/></div></div>"
      ],
      "text/plain": [
       "<IPython.core.display.HTML object>"
      ]
     },
     "metadata": {},
     "output_type": "display_data"
    },
    {
     "data": {
      "text/html": [
       " View run <strong style=\"color:#cdcd00\">daily-sweep-111</strong> at: <a href='https://wandb.ai/rl_shobhith/uncategorized/runs/fwcz2nue/workspace' target=\"_blank\">https://wandb.ai/rl_shobhith/uncategorized/runs/fwcz2nue/workspace</a><br/>Synced 5 W&B file(s), 0 media file(s), 0 artifact file(s) and 0 other file(s)"
      ],
      "text/plain": [
       "<IPython.core.display.HTML object>"
      ]
     },
     "metadata": {},
     "output_type": "display_data"
    },
    {
     "data": {
      "text/html": [
       "Find logs at: <code>.\\wandb\\run-20240402_075958-fwcz2nue\\logs</code>"
      ],
      "text/plain": [
       "<IPython.core.display.HTML object>"
      ]
     },
     "metadata": {},
     "output_type": "display_data"
    },
    {
     "name": "stderr",
     "output_type": "stream",
     "text": [
      "\u001b[34m\u001b[1mwandb\u001b[0m: Agent Starting Run: ljmelv7f with config:\n",
      "\u001b[34m\u001b[1mwandb\u001b[0m: \thidden_dim: 256\n",
      "\u001b[34m\u001b[1mwandb\u001b[0m: \tlearning_rate: 0.0027571697945401887\n",
      "Failed to detect the name of this notebook, you can set it manually with the WANDB_NOTEBOOK_NAME environment variable to enable code saving.\n",
      "\u001b[34m\u001b[1mwandb\u001b[0m: \u001b[33mWARNING\u001b[0m Ignored wandb.init() arg project when running a sweep.\n"
     ]
    },
    {
     "data": {
      "text/html": [
       "Tracking run with wandb version 0.16.5"
      ],
      "text/plain": [
       "<IPython.core.display.HTML object>"
      ]
     },
     "metadata": {},
     "output_type": "display_data"
    },
    {
     "data": {
      "text/html": [
       "Run data is saved locally in <code>c:\\Users\\Shobhith Vadlamudi\\AppData\\Local\\Programs\\Microsoft VS Code\\wandb\\run-20240402_080257-ljmelv7f</code>"
      ],
      "text/plain": [
       "<IPython.core.display.HTML object>"
      ]
     },
     "metadata": {},
     "output_type": "display_data"
    },
    {
     "data": {
      "text/html": [
       "Syncing run <strong><a href='https://wandb.ai/rl_shobhith/uncategorized/runs/ljmelv7f/workspace' target=\"_blank\">silver-sweep-112</a></strong> to <a href='https://wandb.ai/rl_shobhith/uncategorized' target=\"_blank\">Weights & Biases</a> (<a href='https://wandb.me/run' target=\"_blank\">docs</a>)<br/>Sweep page: <a href='https://wandb.ai/rl_shobhith/uncategorized/sweeps/yivd2k4v' target=\"_blank\">https://wandb.ai/rl_shobhith/uncategorized/sweeps/yivd2k4v</a>"
      ],
      "text/plain": [
       "<IPython.core.display.HTML object>"
      ]
     },
     "metadata": {},
     "output_type": "display_data"
    },
    {
     "data": {
      "text/html": [
       " View project at <a href='https://wandb.ai/rl_shobhith/uncategorized' target=\"_blank\">https://wandb.ai/rl_shobhith/uncategorized</a>"
      ],
      "text/plain": [
       "<IPython.core.display.HTML object>"
      ]
     },
     "metadata": {},
     "output_type": "display_data"
    },
    {
     "data": {
      "text/html": [
       " View sweep at <a href='https://wandb.ai/rl_shobhith/uncategorized/sweeps/yivd2k4v' target=\"_blank\">https://wandb.ai/rl_shobhith/uncategorized/sweeps/yivd2k4v</a>"
      ],
      "text/plain": [
       "<IPython.core.display.HTML object>"
      ]
     },
     "metadata": {},
     "output_type": "display_data"
    },
    {
     "data": {
      "text/html": [
       " View run at <a href='https://wandb.ai/rl_shobhith/uncategorized/runs/ljmelv7f/workspace' target=\"_blank\">https://wandb.ai/rl_shobhith/uncategorized/runs/ljmelv7f/workspace</a>"
      ],
      "text/plain": [
       "<IPython.core.display.HTML object>"
      ]
     },
     "metadata": {},
     "output_type": "display_data"
    },
    {
     "name": "stderr",
     "output_type": "stream",
     "text": [
      "Iteration 0: 100%|██████████| 50/50 [00:25<00:00,  1.93it/s, episode_return=50, return=-172.700]\n",
      "Iteration 1: 100%|██████████| 50/50 [00:14<00:00,  3.44it/s, episode_return=100, return=-186.900]\n",
      "Iteration 2: 100%|██████████| 50/50 [00:14<00:00,  3.39it/s, episode_return=150, return=-160.300]\n",
      "Iteration 3: 100%|██████████| 50/50 [00:14<00:00,  3.35it/s, episode_return=200, return=-164.300]\n",
      "Iteration 4: 100%|██████████| 50/50 [00:14<00:00,  3.38it/s, episode_return=250, return=-160.000]\n",
      "Iteration 5: 100%|██████████| 50/50 [00:13<00:00,  3.64it/s, episode_return=300, return=-171.900]\n",
      "Iteration 6: 100%|██████████| 50/50 [00:26<00:00,  1.85it/s, episode_return=350, return=-490.700]\n",
      "Iteration 7: 100%|██████████| 50/50 [00:40<00:00,  1.24it/s, episode_return=400, return=-500.000]\n",
      "Iteration 8: 100%|██████████| 50/50 [00:38<00:00,  1.31it/s, episode_return=450, return=-500.000]\n",
      "Iteration 9: 100%|██████████| 50/50 [00:38<00:00,  1.31it/s, episode_return=500, return=-500.000]\n"
     ]
    },
    {
     "data": {
      "application/vnd.jupyter.widget-view+json": {
       "model_id": "2bc730584a7d4da9a58ad35630b6e181",
       "version_major": 2,
       "version_minor": 0
      },
      "text/plain": [
       "VBox(children=(Label(value='0.001 MB of 0.001 MB uploaded\\r'), FloatProgress(value=1.0, max=1.0)))"
      ]
     },
     "metadata": {},
     "output_type": "display_data"
    },
    {
     "data": {
      "text/html": [
       "<style>\n",
       "    table.wandb td:nth-child(1) { padding: 0 10px; text-align: left ; width: auto;} td:nth-child(2) {text-align: left ; width: 100%}\n",
       "    .wandb-row { display: flex; flex-direction: row; flex-wrap: wrap; justify-content: flex-start; width: 100% }\n",
       "    .wandb-col { display: flex; flex-direction: column; flex-basis: 100%; flex: 1; padding: 10px; }\n",
       "    </style>\n",
       "<div class=\"wandb-row\"><div class=\"wandb-col\"><h3>Run history:</h3><br/><table class=\"wandb\"><tr><td>regret</td><td>▁</td></tr></table><br/></div><div class=\"wandb-col\"><h3>Run summary:</h3><br/><table class=\"wandb\"><tr><td>regret</td><td>143925.80257</td></tr></table><br/></div></div>"
      ],
      "text/plain": [
       "<IPython.core.display.HTML object>"
      ]
     },
     "metadata": {},
     "output_type": "display_data"
    },
    {
     "data": {
      "text/html": [
       " View run <strong style=\"color:#cdcd00\">silver-sweep-112</strong> at: <a href='https://wandb.ai/rl_shobhith/uncategorized/runs/ljmelv7f/workspace' target=\"_blank\">https://wandb.ai/rl_shobhith/uncategorized/runs/ljmelv7f/workspace</a><br/>Synced 5 W&B file(s), 0 media file(s), 0 artifact file(s) and 0 other file(s)"
      ],
      "text/plain": [
       "<IPython.core.display.HTML object>"
      ]
     },
     "metadata": {},
     "output_type": "display_data"
    },
    {
     "data": {
      "text/html": [
       "Find logs at: <code>.\\wandb\\run-20240402_080257-ljmelv7f\\logs</code>"
      ],
      "text/plain": [
       "<IPython.core.display.HTML object>"
      ]
     },
     "metadata": {},
     "output_type": "display_data"
    },
    {
     "name": "stderr",
     "output_type": "stream",
     "text": [
      "\u001b[34m\u001b[1mwandb\u001b[0m: Sweep Agent: Waiting for job.\n",
      "\u001b[34m\u001b[1mwandb\u001b[0m: Job received.\n",
      "\u001b[34m\u001b[1mwandb\u001b[0m: Agent Starting Run: ildgd6sa with config:\n",
      "\u001b[34m\u001b[1mwandb\u001b[0m: \thidden_dim: 128\n",
      "\u001b[34m\u001b[1mwandb\u001b[0m: \tlearning_rate: 0.0077597048160387505\n",
      "Failed to detect the name of this notebook, you can set it manually with the WANDB_NOTEBOOK_NAME environment variable to enable code saving.\n",
      "\u001b[34m\u001b[1mwandb\u001b[0m: \u001b[33mWARNING\u001b[0m Ignored wandb.init() arg project when running a sweep.\n"
     ]
    },
    {
     "data": {
      "text/html": [
       "Tracking run with wandb version 0.16.5"
      ],
      "text/plain": [
       "<IPython.core.display.HTML object>"
      ]
     },
     "metadata": {},
     "output_type": "display_data"
    },
    {
     "data": {
      "text/html": [
       "Run data is saved locally in <code>c:\\Users\\Shobhith Vadlamudi\\AppData\\Local\\Programs\\Microsoft VS Code\\wandb\\run-20240402_080722-ildgd6sa</code>"
      ],
      "text/plain": [
       "<IPython.core.display.HTML object>"
      ]
     },
     "metadata": {},
     "output_type": "display_data"
    },
    {
     "data": {
      "text/html": [
       "Syncing run <strong><a href='https://wandb.ai/rl_shobhith/uncategorized/runs/ildgd6sa/workspace' target=\"_blank\">fiery-sweep-113</a></strong> to <a href='https://wandb.ai/rl_shobhith/uncategorized' target=\"_blank\">Weights & Biases</a> (<a href='https://wandb.me/run' target=\"_blank\">docs</a>)<br/>Sweep page: <a href='https://wandb.ai/rl_shobhith/uncategorized/sweeps/yivd2k4v' target=\"_blank\">https://wandb.ai/rl_shobhith/uncategorized/sweeps/yivd2k4v</a>"
      ],
      "text/plain": [
       "<IPython.core.display.HTML object>"
      ]
     },
     "metadata": {},
     "output_type": "display_data"
    },
    {
     "data": {
      "text/html": [
       " View project at <a href='https://wandb.ai/rl_shobhith/uncategorized' target=\"_blank\">https://wandb.ai/rl_shobhith/uncategorized</a>"
      ],
      "text/plain": [
       "<IPython.core.display.HTML object>"
      ]
     },
     "metadata": {},
     "output_type": "display_data"
    },
    {
     "data": {
      "text/html": [
       " View sweep at <a href='https://wandb.ai/rl_shobhith/uncategorized/sweeps/yivd2k4v' target=\"_blank\">https://wandb.ai/rl_shobhith/uncategorized/sweeps/yivd2k4v</a>"
      ],
      "text/plain": [
       "<IPython.core.display.HTML object>"
      ]
     },
     "metadata": {},
     "output_type": "display_data"
    },
    {
     "data": {
      "text/html": [
       " View run at <a href='https://wandb.ai/rl_shobhith/uncategorized/runs/ildgd6sa/workspace' target=\"_blank\">https://wandb.ai/rl_shobhith/uncategorized/runs/ildgd6sa/workspace</a>"
      ],
      "text/plain": [
       "<IPython.core.display.HTML object>"
      ]
     },
     "metadata": {},
     "output_type": "display_data"
    },
    {
     "name": "stderr",
     "output_type": "stream",
     "text": [
      "Iteration 0: 100%|██████████| 50/50 [00:34<00:00,  1.46it/s, episode_return=50, return=-500.000]\n",
      "Iteration 1: 100%|██████████| 50/50 [00:38<00:00,  1.28it/s, episode_return=100, return=-500.000]\n",
      "Iteration 2: 100%|██████████| 50/50 [00:35<00:00,  1.43it/s, episode_return=150, return=-500.000]\n",
      "Iteration 3: 100%|██████████| 50/50 [00:17<00:00,  2.89it/s, episode_return=200, return=-203.500]\n",
      "Iteration 4: 100%|██████████| 50/50 [00:12<00:00,  3.87it/s, episode_return=250, return=-159.700]\n",
      "Iteration 5: 100%|██████████| 50/50 [00:10<00:00,  4.82it/s, episode_return=300, return=-155.300]\n",
      "Iteration 6: 100%|██████████| 50/50 [00:09<00:00,  5.44it/s, episode_return=350, return=-144.500]\n",
      "Iteration 7: 100%|██████████| 50/50 [00:11<00:00,  4.35it/s, episode_return=400, return=-166.100]\n",
      "Iteration 8: 100%|██████████| 50/50 [00:12<00:00,  4.13it/s, episode_return=450, return=-172.700]\n",
      "Iteration 9: 100%|██████████| 50/50 [00:11<00:00,  4.23it/s, episode_return=500, return=-150.200]\n"
     ]
    },
    {
     "data": {
      "application/vnd.jupyter.widget-view+json": {
       "model_id": "22426f9260244d59ad42d56bb41a046c",
       "version_major": 2,
       "version_minor": 0
      },
      "text/plain": [
       "VBox(children=(Label(value='0.001 MB of 0.001 MB uploaded\\r'), FloatProgress(value=1.0, max=1.0)))"
      ]
     },
     "metadata": {},
     "output_type": "display_data"
    },
    {
     "data": {
      "text/html": [
       "<style>\n",
       "    table.wandb td:nth-child(1) { padding: 0 10px; text-align: left ; width: auto;} td:nth-child(2) {text-align: left ; width: 100%}\n",
       "    .wandb-row { display: flex; flex-direction: row; flex-wrap: wrap; justify-content: flex-start; width: 100% }\n",
       "    .wandb-col { display: flex; flex-direction: column; flex-basis: 100%; flex: 1; padding: 10px; }\n",
       "    </style>\n",
       "<div class=\"wandb-row\"><div class=\"wandb-col\"><h3>Run history:</h3><br/><table class=\"wandb\"><tr><td>regret</td><td>▁</td></tr></table><br/></div><div class=\"wandb-col\"><h3>Run summary:</h3><br/><table class=\"wandb\"><tr><td>regret</td><td>152994.19215</td></tr></table><br/></div></div>"
      ],
      "text/plain": [
       "<IPython.core.display.HTML object>"
      ]
     },
     "metadata": {},
     "output_type": "display_data"
    },
    {
     "data": {
      "text/html": [
       " View run <strong style=\"color:#cdcd00\">fiery-sweep-113</strong> at: <a href='https://wandb.ai/rl_shobhith/uncategorized/runs/ildgd6sa/workspace' target=\"_blank\">https://wandb.ai/rl_shobhith/uncategorized/runs/ildgd6sa/workspace</a><br/>Synced 5 W&B file(s), 0 media file(s), 0 artifact file(s) and 0 other file(s)"
      ],
      "text/plain": [
       "<IPython.core.display.HTML object>"
      ]
     },
     "metadata": {},
     "output_type": "display_data"
    },
    {
     "data": {
      "text/html": [
       "Find logs at: <code>.\\wandb\\run-20240402_080722-ildgd6sa\\logs</code>"
      ],
      "text/plain": [
       "<IPython.core.display.HTML object>"
      ]
     },
     "metadata": {},
     "output_type": "display_data"
    },
    {
     "name": "stderr",
     "output_type": "stream",
     "text": [
      "\u001b[34m\u001b[1mwandb\u001b[0m: Sweep Agent: Waiting for job.\n",
      "\u001b[34m\u001b[1mwandb\u001b[0m: Job received.\n",
      "\u001b[34m\u001b[1mwandb\u001b[0m: Agent Starting Run: 8dqg2e1d with config:\n",
      "\u001b[34m\u001b[1mwandb\u001b[0m: \thidden_dim: 256\n",
      "\u001b[34m\u001b[1mwandb\u001b[0m: \tlearning_rate: 0.0012014058173007186\n",
      "Failed to detect the name of this notebook, you can set it manually with the WANDB_NOTEBOOK_NAME environment variable to enable code saving.\n",
      "\u001b[34m\u001b[1mwandb\u001b[0m: \u001b[33mWARNING\u001b[0m Ignored wandb.init() arg project when running a sweep.\n"
     ]
    },
    {
     "data": {
      "text/html": [
       "Tracking run with wandb version 0.16.5"
      ],
      "text/plain": [
       "<IPython.core.display.HTML object>"
      ]
     },
     "metadata": {},
     "output_type": "display_data"
    },
    {
     "data": {
      "text/html": [
       "Run data is saved locally in <code>c:\\Users\\Shobhith Vadlamudi\\AppData\\Local\\Programs\\Microsoft VS Code\\wandb\\run-20240402_081059-8dqg2e1d</code>"
      ],
      "text/plain": [
       "<IPython.core.display.HTML object>"
      ]
     },
     "metadata": {},
     "output_type": "display_data"
    },
    {
     "data": {
      "text/html": [
       "Syncing run <strong><a href='https://wandb.ai/rl_shobhith/uncategorized/runs/8dqg2e1d/workspace' target=\"_blank\">eager-sweep-114</a></strong> to <a href='https://wandb.ai/rl_shobhith/uncategorized' target=\"_blank\">Weights & Biases</a> (<a href='https://wandb.me/run' target=\"_blank\">docs</a>)<br/>Sweep page: <a href='https://wandb.ai/rl_shobhith/uncategorized/sweeps/yivd2k4v' target=\"_blank\">https://wandb.ai/rl_shobhith/uncategorized/sweeps/yivd2k4v</a>"
      ],
      "text/plain": [
       "<IPython.core.display.HTML object>"
      ]
     },
     "metadata": {},
     "output_type": "display_data"
    },
    {
     "data": {
      "text/html": [
       " View project at <a href='https://wandb.ai/rl_shobhith/uncategorized' target=\"_blank\">https://wandb.ai/rl_shobhith/uncategorized</a>"
      ],
      "text/plain": [
       "<IPython.core.display.HTML object>"
      ]
     },
     "metadata": {},
     "output_type": "display_data"
    },
    {
     "data": {
      "text/html": [
       " View sweep at <a href='https://wandb.ai/rl_shobhith/uncategorized/sweeps/yivd2k4v' target=\"_blank\">https://wandb.ai/rl_shobhith/uncategorized/sweeps/yivd2k4v</a>"
      ],
      "text/plain": [
       "<IPython.core.display.HTML object>"
      ]
     },
     "metadata": {},
     "output_type": "display_data"
    },
    {
     "data": {
      "text/html": [
       " View run at <a href='https://wandb.ai/rl_shobhith/uncategorized/runs/8dqg2e1d/workspace' target=\"_blank\">https://wandb.ai/rl_shobhith/uncategorized/runs/8dqg2e1d/workspace</a>"
      ],
      "text/plain": [
       "<IPython.core.display.HTML object>"
      ]
     },
     "metadata": {},
     "output_type": "display_data"
    },
    {
     "name": "stderr",
     "output_type": "stream",
     "text": [
      "Iteration 0: 100%|██████████| 50/50 [00:35<00:00,  1.41it/s, episode_return=50, return=-489.200]\n",
      "Iteration 1: 100%|██████████| 50/50 [00:34<00:00,  1.47it/s, episode_return=100, return=-500.000]\n",
      "Iteration 2: 100%|██████████| 50/50 [00:34<00:00,  1.45it/s, episode_return=150, return=-500.000]\n",
      "Iteration 3: 100%|██████████| 50/50 [00:36<00:00,  1.37it/s, episode_return=200, return=-500.000]\n",
      "Iteration 4: 100%|██████████| 50/50 [00:39<00:00,  1.28it/s, episode_return=250, return=-500.000]\n",
      "Iteration 5: 100%|██████████| 50/50 [00:39<00:00,  1.27it/s, episode_return=300, return=-500.000]\n",
      "Iteration 6: 100%|██████████| 50/50 [00:41<00:00,  1.22it/s, episode_return=350, return=-500.000]\n",
      "Iteration 7: 100%|██████████| 50/50 [00:45<00:00,  1.11it/s, episode_return=400, return=-500.000]\n",
      "Iteration 8: 100%|██████████| 50/50 [00:47<00:00,  1.06it/s, episode_return=450, return=-500.000]\n",
      "Iteration 9: 100%|██████████| 50/50 [00:42<00:00,  1.17it/s, episode_return=500, return=-500.000]\n"
     ]
    },
    {
     "data": {
      "application/vnd.jupyter.widget-view+json": {
       "model_id": "077a9501ef044331aa366e1677c435a6",
       "version_major": 2,
       "version_minor": 0
      },
      "text/plain": [
       "VBox(children=(Label(value='0.001 MB of 0.001 MB uploaded\\r'), FloatProgress(value=1.0, max=1.0)))"
      ]
     },
     "metadata": {},
     "output_type": "display_data"
    },
    {
     "data": {
      "text/html": [
       "<style>\n",
       "    table.wandb td:nth-child(1) { padding: 0 10px; text-align: left ; width: auto;} td:nth-child(2) {text-align: left ; width: 100%}\n",
       "    .wandb-row { display: flex; flex-direction: row; flex-wrap: wrap; justify-content: flex-start; width: 100% }\n",
       "    .wandb-col { display: flex; flex-direction: column; flex-basis: 100%; flex: 1; padding: 10px; }\n",
       "    </style>\n",
       "<div class=\"wandb-row\"><div class=\"wandb-col\"><h3>Run history:</h3><br/><table class=\"wandb\"><tr><td>regret</td><td>▁</td></tr></table><br/></div><div class=\"wandb-col\"><h3>Run summary:</h3><br/><table class=\"wandb\"><tr><td>regret</td><td>246171.55059</td></tr></table><br/></div></div>"
      ],
      "text/plain": [
       "<IPython.core.display.HTML object>"
      ]
     },
     "metadata": {},
     "output_type": "display_data"
    },
    {
     "data": {
      "text/html": [
       " View run <strong style=\"color:#cdcd00\">eager-sweep-114</strong> at: <a href='https://wandb.ai/rl_shobhith/uncategorized/runs/8dqg2e1d/workspace' target=\"_blank\">https://wandb.ai/rl_shobhith/uncategorized/runs/8dqg2e1d/workspace</a><br/>Synced 5 W&B file(s), 0 media file(s), 0 artifact file(s) and 0 other file(s)"
      ],
      "text/plain": [
       "<IPython.core.display.HTML object>"
      ]
     },
     "metadata": {},
     "output_type": "display_data"
    },
    {
     "data": {
      "text/html": [
       "Find logs at: <code>.\\wandb\\run-20240402_081059-8dqg2e1d\\logs</code>"
      ],
      "text/plain": [
       "<IPython.core.display.HTML object>"
      ]
     },
     "metadata": {},
     "output_type": "display_data"
    },
    {
     "name": "stderr",
     "output_type": "stream",
     "text": [
      "\u001b[34m\u001b[1mwandb\u001b[0m: Sweep Agent: Waiting for job.\n",
      "\u001b[34m\u001b[1mwandb\u001b[0m: Job received.\n",
      "\u001b[34m\u001b[1mwandb\u001b[0m: Agent Starting Run: pfw5zehe with config:\n",
      "\u001b[34m\u001b[1mwandb\u001b[0m: \thidden_dim: 128\n",
      "\u001b[34m\u001b[1mwandb\u001b[0m: \tlearning_rate: 0.005611430050181849\n",
      "Failed to detect the name of this notebook, you can set it manually with the WANDB_NOTEBOOK_NAME environment variable to enable code saving.\n",
      "\u001b[34m\u001b[1mwandb\u001b[0m: \u001b[33mWARNING\u001b[0m Ignored wandb.init() arg project when running a sweep.\n"
     ]
    },
    {
     "data": {
      "application/vnd.jupyter.widget-view+json": {
       "model_id": "b616842a513d469c95b390925713f564",
       "version_major": 2,
       "version_minor": 0
      },
      "text/plain": [
       "VBox(children=(Label(value='Waiting for wandb.init()...\\r'), FloatProgress(value=0.011288888888925108, max=1.0…"
      ]
     },
     "metadata": {},
     "output_type": "display_data"
    },
    {
     "data": {
      "text/html": [
       "Tracking run with wandb version 0.16.5"
      ],
      "text/plain": [
       "<IPython.core.display.HTML object>"
      ]
     },
     "metadata": {},
     "output_type": "display_data"
    },
    {
     "data": {
      "text/html": [
       "Run data is saved locally in <code>c:\\Users\\Shobhith Vadlamudi\\AppData\\Local\\Programs\\Microsoft VS Code\\wandb\\run-20240402_081755-pfw5zehe</code>"
      ],
      "text/plain": [
       "<IPython.core.display.HTML object>"
      ]
     },
     "metadata": {},
     "output_type": "display_data"
    },
    {
     "data": {
      "text/html": [
       "Syncing run <strong><a href='https://wandb.ai/rl_shobhith/uncategorized/runs/pfw5zehe/workspace' target=\"_blank\">fragrant-sweep-115</a></strong> to <a href='https://wandb.ai/rl_shobhith/uncategorized' target=\"_blank\">Weights & Biases</a> (<a href='https://wandb.me/run' target=\"_blank\">docs</a>)<br/>Sweep page: <a href='https://wandb.ai/rl_shobhith/uncategorized/sweeps/yivd2k4v' target=\"_blank\">https://wandb.ai/rl_shobhith/uncategorized/sweeps/yivd2k4v</a>"
      ],
      "text/plain": [
       "<IPython.core.display.HTML object>"
      ]
     },
     "metadata": {},
     "output_type": "display_data"
    },
    {
     "data": {
      "text/html": [
       " View project at <a href='https://wandb.ai/rl_shobhith/uncategorized' target=\"_blank\">https://wandb.ai/rl_shobhith/uncategorized</a>"
      ],
      "text/plain": [
       "<IPython.core.display.HTML object>"
      ]
     },
     "metadata": {},
     "output_type": "display_data"
    },
    {
     "data": {
      "text/html": [
       " View sweep at <a href='https://wandb.ai/rl_shobhith/uncategorized/sweeps/yivd2k4v' target=\"_blank\">https://wandb.ai/rl_shobhith/uncategorized/sweeps/yivd2k4v</a>"
      ],
      "text/plain": [
       "<IPython.core.display.HTML object>"
      ]
     },
     "metadata": {},
     "output_type": "display_data"
    },
    {
     "data": {
      "text/html": [
       " View run at <a href='https://wandb.ai/rl_shobhith/uncategorized/runs/pfw5zehe/workspace' target=\"_blank\">https://wandb.ai/rl_shobhith/uncategorized/runs/pfw5zehe/workspace</a>"
      ],
      "text/plain": [
       "<IPython.core.display.HTML object>"
      ]
     },
     "metadata": {},
     "output_type": "display_data"
    },
    {
     "name": "stderr",
     "output_type": "stream",
     "text": [
      "Iteration 0: 100%|██████████| 50/50 [00:25<00:00,  2.00it/s, episode_return=50, return=-210.800]\n",
      "Iteration 1: 100%|██████████| 50/50 [00:12<00:00,  4.14it/s, episode_return=100, return=-105.800]\n",
      "Iteration 2: 100%|██████████| 50/50 [00:10<00:00,  4.92it/s, episode_return=150, return=-152.000]\n",
      "Iteration 3: 100%|██████████| 50/50 [00:11<00:00,  4.40it/s, episode_return=200, return=-175.200]\n",
      "Iteration 4: 100%|██████████| 50/50 [00:10<00:00,  4.90it/s, episode_return=250, return=-87.700] \n",
      "Iteration 5: 100%|██████████| 50/50 [00:07<00:00,  6.33it/s, episode_return=300, return=-79.700]\n",
      "Iteration 6: 100%|██████████| 50/50 [00:08<00:00,  6.04it/s, episode_return=350, return=-100.300]\n",
      "Iteration 7: 100%|██████████| 50/50 [00:07<00:00,  6.42it/s, episode_return=400, return=-88.600]\n",
      "Iteration 8: 100%|██████████| 50/50 [00:07<00:00,  6.46it/s, episode_return=450, return=-84.900] \n",
      "Iteration 9: 100%|██████████| 50/50 [00:08<00:00,  6.08it/s, episode_return=500, return=-84.600] \n"
     ]
    },
    {
     "data": {
      "application/vnd.jupyter.widget-view+json": {
       "model_id": "4632046e7d5a4e1d88279039f4620105",
       "version_major": 2,
       "version_minor": 0
      },
      "text/plain": [
       "VBox(children=(Label(value='0.001 MB of 0.001 MB uploaded\\r'), FloatProgress(value=1.0, max=1.0)))"
      ]
     },
     "metadata": {},
     "output_type": "display_data"
    },
    {
     "data": {
      "text/html": [
       "<style>\n",
       "    table.wandb td:nth-child(1) { padding: 0 10px; text-align: left ; width: auto;} td:nth-child(2) {text-align: left ; width: 100%}\n",
       "    .wandb-row { display: flex; flex-direction: row; flex-wrap: wrap; justify-content: flex-start; width: 100% }\n",
       "    .wandb-col { display: flex; flex-direction: column; flex-basis: 100%; flex: 1; padding: 10px; }\n",
       "    </style>\n",
       "<div class=\"wandb-row\"><div class=\"wandb-col\"><h3>Run history:</h3><br/><table class=\"wandb\"><tr><td>regret</td><td>▁</td></tr></table><br/></div><div class=\"wandb-col\"><h3>Run summary:</h3><br/><table class=\"wandb\"><tr><td>regret</td><td>81591.19398</td></tr></table><br/></div></div>"
      ],
      "text/plain": [
       "<IPython.core.display.HTML object>"
      ]
     },
     "metadata": {},
     "output_type": "display_data"
    },
    {
     "data": {
      "text/html": [
       " View run <strong style=\"color:#cdcd00\">fragrant-sweep-115</strong> at: <a href='https://wandb.ai/rl_shobhith/uncategorized/runs/pfw5zehe/workspace' target=\"_blank\">https://wandb.ai/rl_shobhith/uncategorized/runs/pfw5zehe/workspace</a><br/>Synced 5 W&B file(s), 0 media file(s), 0 artifact file(s) and 0 other file(s)"
      ],
      "text/plain": [
       "<IPython.core.display.HTML object>"
      ]
     },
     "metadata": {},
     "output_type": "display_data"
    },
    {
     "data": {
      "text/html": [
       "Find logs at: <code>.\\wandb\\run-20240402_081755-pfw5zehe\\logs</code>"
      ],
      "text/plain": [
       "<IPython.core.display.HTML object>"
      ]
     },
     "metadata": {},
     "output_type": "display_data"
    },
    {
     "name": "stderr",
     "output_type": "stream",
     "text": [
      "\u001b[34m\u001b[1mwandb\u001b[0m: Sweep Agent: Waiting for job.\n",
      "\u001b[34m\u001b[1mwandb\u001b[0m: Job received.\n",
      "\u001b[34m\u001b[1mwandb\u001b[0m: Agent Starting Run: fpkj32ia with config:\n",
      "\u001b[34m\u001b[1mwandb\u001b[0m: \thidden_dim: 64\n",
      "\u001b[34m\u001b[1mwandb\u001b[0m: \tlearning_rate: 0.001440694426448926\n",
      "Failed to detect the name of this notebook, you can set it manually with the WANDB_NOTEBOOK_NAME environment variable to enable code saving.\n",
      "\u001b[34m\u001b[1mwandb\u001b[0m: \u001b[33mWARNING\u001b[0m Ignored wandb.init() arg project when running a sweep.\n"
     ]
    },
    {
     "data": {
      "text/html": [
       "Tracking run with wandb version 0.16.5"
      ],
      "text/plain": [
       "<IPython.core.display.HTML object>"
      ]
     },
     "metadata": {},
     "output_type": "display_data"
    },
    {
     "data": {
      "text/html": [
       "Run data is saved locally in <code>c:\\Users\\Shobhith Vadlamudi\\AppData\\Local\\Programs\\Microsoft VS Code\\wandb\\run-20240402_082008-fpkj32ia</code>"
      ],
      "text/plain": [
       "<IPython.core.display.HTML object>"
      ]
     },
     "metadata": {},
     "output_type": "display_data"
    },
    {
     "data": {
      "text/html": [
       "Syncing run <strong><a href='https://wandb.ai/rl_shobhith/uncategorized/runs/fpkj32ia/workspace' target=\"_blank\">lyric-sweep-116</a></strong> to <a href='https://wandb.ai/rl_shobhith/uncategorized' target=\"_blank\">Weights & Biases</a> (<a href='https://wandb.me/run' target=\"_blank\">docs</a>)<br/>Sweep page: <a href='https://wandb.ai/rl_shobhith/uncategorized/sweeps/yivd2k4v' target=\"_blank\">https://wandb.ai/rl_shobhith/uncategorized/sweeps/yivd2k4v</a>"
      ],
      "text/plain": [
       "<IPython.core.display.HTML object>"
      ]
     },
     "metadata": {},
     "output_type": "display_data"
    },
    {
     "data": {
      "text/html": [
       " View project at <a href='https://wandb.ai/rl_shobhith/uncategorized' target=\"_blank\">https://wandb.ai/rl_shobhith/uncategorized</a>"
      ],
      "text/plain": [
       "<IPython.core.display.HTML object>"
      ]
     },
     "metadata": {},
     "output_type": "display_data"
    },
    {
     "data": {
      "text/html": [
       " View sweep at <a href='https://wandb.ai/rl_shobhith/uncategorized/sweeps/yivd2k4v' target=\"_blank\">https://wandb.ai/rl_shobhith/uncategorized/sweeps/yivd2k4v</a>"
      ],
      "text/plain": [
       "<IPython.core.display.HTML object>"
      ]
     },
     "metadata": {},
     "output_type": "display_data"
    },
    {
     "data": {
      "text/html": [
       " View run at <a href='https://wandb.ai/rl_shobhith/uncategorized/runs/fpkj32ia/workspace' target=\"_blank\">https://wandb.ai/rl_shobhith/uncategorized/runs/fpkj32ia/workspace</a>"
      ],
      "text/plain": [
       "<IPython.core.display.HTML object>"
      ]
     },
     "metadata": {},
     "output_type": "display_data"
    },
    {
     "name": "stderr",
     "output_type": "stream",
     "text": [
      "Iteration 0: 100%|██████████| 50/50 [00:38<00:00,  1.29it/s, episode_return=50, return=-454.900]\n",
      "Iteration 1: 100%|██████████| 50/50 [00:36<00:00,  1.36it/s, episode_return=100, return=-468.900]\n",
      "Iteration 2: 100%|██████████| 50/50 [00:32<00:00,  1.54it/s, episode_return=150, return=-387.400]\n",
      "Iteration 3: 100%|██████████| 50/50 [00:21<00:00,  2.35it/s, episode_return=200, return=-242.800]\n",
      "Iteration 4: 100%|██████████| 50/50 [00:13<00:00,  3.58it/s, episode_return=250, return=-165.000]\n",
      "Iteration 5: 100%|██████████| 50/50 [00:12<00:00,  4.09it/s, episode_return=300, return=-164.200]\n",
      "Iteration 6: 100%|██████████| 50/50 [00:13<00:00,  3.80it/s, episode_return=350, return=-199.600]\n",
      "Iteration 7: 100%|██████████| 50/50 [00:10<00:00,  4.82it/s, episode_return=400, return=-166.300]\n",
      "Iteration 8: 100%|██████████| 50/50 [00:12<00:00,  4.04it/s, episode_return=450, return=-183.000]\n",
      "Iteration 9: 100%|██████████| 50/50 [00:11<00:00,  4.21it/s, episode_return=500, return=-155.600]\n"
     ]
    },
    {
     "data": {
      "application/vnd.jupyter.widget-view+json": {
       "model_id": "e4382803f03d4c4782fa5f71c871986a",
       "version_major": 2,
       "version_minor": 0
      },
      "text/plain": [
       "VBox(children=(Label(value='0.001 MB of 0.007 MB uploaded\\r'), FloatProgress(value=0.1683769916284094, max=1.0…"
      ]
     },
     "metadata": {},
     "output_type": "display_data"
    },
    {
     "data": {
      "text/html": [
       "<style>\n",
       "    table.wandb td:nth-child(1) { padding: 0 10px; text-align: left ; width: auto;} td:nth-child(2) {text-align: left ; width: 100%}\n",
       "    .wandb-row { display: flex; flex-direction: row; flex-wrap: wrap; justify-content: flex-start; width: 100% }\n",
       "    .wandb-col { display: flex; flex-direction: column; flex-basis: 100%; flex: 1; padding: 10px; }\n",
       "    </style>\n",
       "<div class=\"wandb-row\"><div class=\"wandb-col\"><h3>Run history:</h3><br/><table class=\"wandb\"><tr><td>regret</td><td>▁</td></tr></table><br/></div><div class=\"wandb-col\"><h3>Run summary:</h3><br/><table class=\"wandb\"><tr><td>regret</td><td>149522.45614</td></tr></table><br/></div></div>"
      ],
      "text/plain": [
       "<IPython.core.display.HTML object>"
      ]
     },
     "metadata": {},
     "output_type": "display_data"
    },
    {
     "data": {
      "text/html": [
       " View run <strong style=\"color:#cdcd00\">lyric-sweep-116</strong> at: <a href='https://wandb.ai/rl_shobhith/uncategorized/runs/fpkj32ia/workspace' target=\"_blank\">https://wandb.ai/rl_shobhith/uncategorized/runs/fpkj32ia/workspace</a><br/>Synced 5 W&B file(s), 0 media file(s), 0 artifact file(s) and 0 other file(s)"
      ],
      "text/plain": [
       "<IPython.core.display.HTML object>"
      ]
     },
     "metadata": {},
     "output_type": "display_data"
    },
    {
     "data": {
      "text/html": [
       "Find logs at: <code>.\\wandb\\run-20240402_082008-fpkj32ia\\logs</code>"
      ],
      "text/plain": [
       "<IPython.core.display.HTML object>"
      ]
     },
     "metadata": {},
     "output_type": "display_data"
    },
    {
     "name": "stderr",
     "output_type": "stream",
     "text": [
      "\u001b[34m\u001b[1mwandb\u001b[0m: Agent Starting Run: 86eyjl6g with config:\n",
      "\u001b[34m\u001b[1mwandb\u001b[0m: \thidden_dim: 256\n",
      "\u001b[34m\u001b[1mwandb\u001b[0m: \tlearning_rate: 0.004662381646000616\n",
      "Failed to detect the name of this notebook, you can set it manually with the WANDB_NOTEBOOK_NAME environment variable to enable code saving.\n",
      "\u001b[34m\u001b[1mwandb\u001b[0m: \u001b[33mWARNING\u001b[0m Ignored wandb.init() arg project when running a sweep.\n"
     ]
    },
    {
     "data": {
      "text/html": [
       "Tracking run with wandb version 0.16.5"
      ],
      "text/plain": [
       "<IPython.core.display.HTML object>"
      ]
     },
     "metadata": {},
     "output_type": "display_data"
    },
    {
     "data": {
      "text/html": [
       "Run data is saved locally in <code>c:\\Users\\Shobhith Vadlamudi\\AppData\\Local\\Programs\\Microsoft VS Code\\wandb\\run-20240402_082345-86eyjl6g</code>"
      ],
      "text/plain": [
       "<IPython.core.display.HTML object>"
      ]
     },
     "metadata": {},
     "output_type": "display_data"
    },
    {
     "data": {
      "text/html": [
       "Syncing run <strong><a href='https://wandb.ai/rl_shobhith/uncategorized/runs/86eyjl6g/workspace' target=\"_blank\">proud-sweep-117</a></strong> to <a href='https://wandb.ai/rl_shobhith/uncategorized' target=\"_blank\">Weights & Biases</a> (<a href='https://wandb.me/run' target=\"_blank\">docs</a>)<br/>Sweep page: <a href='https://wandb.ai/rl_shobhith/uncategorized/sweeps/yivd2k4v' target=\"_blank\">https://wandb.ai/rl_shobhith/uncategorized/sweeps/yivd2k4v</a>"
      ],
      "text/plain": [
       "<IPython.core.display.HTML object>"
      ]
     },
     "metadata": {},
     "output_type": "display_data"
    },
    {
     "data": {
      "text/html": [
       " View project at <a href='https://wandb.ai/rl_shobhith/uncategorized' target=\"_blank\">https://wandb.ai/rl_shobhith/uncategorized</a>"
      ],
      "text/plain": [
       "<IPython.core.display.HTML object>"
      ]
     },
     "metadata": {},
     "output_type": "display_data"
    },
    {
     "data": {
      "text/html": [
       " View sweep at <a href='https://wandb.ai/rl_shobhith/uncategorized/sweeps/yivd2k4v' target=\"_blank\">https://wandb.ai/rl_shobhith/uncategorized/sweeps/yivd2k4v</a>"
      ],
      "text/plain": [
       "<IPython.core.display.HTML object>"
      ]
     },
     "metadata": {},
     "output_type": "display_data"
    },
    {
     "data": {
      "text/html": [
       " View run at <a href='https://wandb.ai/rl_shobhith/uncategorized/runs/86eyjl6g/workspace' target=\"_blank\">https://wandb.ai/rl_shobhith/uncategorized/runs/86eyjl6g/workspace</a>"
      ],
      "text/plain": [
       "<IPython.core.display.HTML object>"
      ]
     },
     "metadata": {},
     "output_type": "display_data"
    },
    {
     "name": "stderr",
     "output_type": "stream",
     "text": [
      "Iteration 0: 100%|██████████| 50/50 [00:37<00:00,  1.33it/s, episode_return=50, return=-500.000]\n",
      "Iteration 1: 100%|██████████| 50/50 [00:37<00:00,  1.34it/s, episode_return=100, return=-500.000]\n",
      "Iteration 2: 100%|██████████| 50/50 [00:37<00:00,  1.33it/s, episode_return=150, return=-500.000]\n",
      "Iteration 3: 100%|██████████| 50/50 [00:40<00:00,  1.23it/s, episode_return=200, return=-500.000]\n",
      "Iteration 4: 100%|██████████| 50/50 [00:41<00:00,  1.20it/s, episode_return=250, return=-500.000]\n",
      "Iteration 5: 100%|██████████| 50/50 [00:37<00:00,  1.32it/s, episode_return=300, return=-500.000]\n",
      "Iteration 6: 100%|██████████| 50/50 [00:37<00:00,  1.33it/s, episode_return=350, return=-500.000]\n",
      "Iteration 7: 100%|██████████| 50/50 [00:37<00:00,  1.33it/s, episode_return=400, return=-500.000]\n",
      "Iteration 8: 100%|██████████| 50/50 [00:37<00:00,  1.33it/s, episode_return=450, return=-500.000]\n",
      "Iteration 9: 100%|██████████| 50/50 [00:37<00:00,  1.34it/s, episode_return=500, return=-500.000]\n"
     ]
    },
    {
     "data": {
      "application/vnd.jupyter.widget-view+json": {
       "model_id": "d7c9874172ff46ce99f02058ca80e7fe",
       "version_major": 2,
       "version_minor": 0
      },
      "text/plain": [
       "VBox(children=(Label(value='0.001 MB of 0.001 MB uploaded\\r'), FloatProgress(value=1.0, max=1.0)))"
      ]
     },
     "metadata": {},
     "output_type": "display_data"
    },
    {
     "data": {
      "text/html": [
       "<style>\n",
       "    table.wandb td:nth-child(1) { padding: 0 10px; text-align: left ; width: auto;} td:nth-child(2) {text-align: left ; width: 100%}\n",
       "    .wandb-row { display: flex; flex-direction: row; flex-wrap: wrap; justify-content: flex-start; width: 100% }\n",
       "    .wandb-col { display: flex; flex-direction: column; flex-basis: 100%; flex: 1; padding: 10px; }\n",
       "    </style>\n",
       "<div class=\"wandb-row\"><div class=\"wandb-col\"><h3>Run history:</h3><br/><table class=\"wandb\"><tr><td>regret</td><td>▁</td></tr></table><br/></div><div class=\"wandb-col\"><h3>Run summary:</h3><br/><table class=\"wandb\"><tr><td>regret</td><td>250000.0</td></tr></table><br/></div></div>"
      ],
      "text/plain": [
       "<IPython.core.display.HTML object>"
      ]
     },
     "metadata": {},
     "output_type": "display_data"
    },
    {
     "data": {
      "text/html": [
       " View run <strong style=\"color:#cdcd00\">proud-sweep-117</strong> at: <a href='https://wandb.ai/rl_shobhith/uncategorized/runs/86eyjl6g/workspace' target=\"_blank\">https://wandb.ai/rl_shobhith/uncategorized/runs/86eyjl6g/workspace</a><br/>Synced 5 W&B file(s), 0 media file(s), 0 artifact file(s) and 0 other file(s)"
      ],
      "text/plain": [
       "<IPython.core.display.HTML object>"
      ]
     },
     "metadata": {},
     "output_type": "display_data"
    },
    {
     "data": {
      "text/html": [
       "Find logs at: <code>.\\wandb\\run-20240402_082345-86eyjl6g\\logs</code>"
      ],
      "text/plain": [
       "<IPython.core.display.HTML object>"
      ]
     },
     "metadata": {},
     "output_type": "display_data"
    },
    {
     "name": "stderr",
     "output_type": "stream",
     "text": [
      "\u001b[34m\u001b[1mwandb\u001b[0m: Agent Starting Run: hxm7rtpw with config:\n",
      "\u001b[34m\u001b[1mwandb\u001b[0m: \thidden_dim: 128\n",
      "\u001b[34m\u001b[1mwandb\u001b[0m: \tlearning_rate: 0.005172705586780423\n",
      "Failed to detect the name of this notebook, you can set it manually with the WANDB_NOTEBOOK_NAME environment variable to enable code saving.\n",
      "\u001b[34m\u001b[1mwandb\u001b[0m: \u001b[33mWARNING\u001b[0m Ignored wandb.init() arg project when running a sweep.\n"
     ]
    },
    {
     "data": {
      "text/html": [
       "Tracking run with wandb version 0.16.5"
      ],
      "text/plain": [
       "<IPython.core.display.HTML object>"
      ]
     },
     "metadata": {},
     "output_type": "display_data"
    },
    {
     "data": {
      "text/html": [
       "Run data is saved locally in <code>c:\\Users\\Shobhith Vadlamudi\\AppData\\Local\\Programs\\Microsoft VS Code\\wandb\\run-20240402_083020-hxm7rtpw</code>"
      ],
      "text/plain": [
       "<IPython.core.display.HTML object>"
      ]
     },
     "metadata": {},
     "output_type": "display_data"
    },
    {
     "data": {
      "text/html": [
       "Syncing run <strong><a href='https://wandb.ai/rl_shobhith/uncategorized/runs/hxm7rtpw/workspace' target=\"_blank\">stilted-sweep-118</a></strong> to <a href='https://wandb.ai/rl_shobhith/uncategorized' target=\"_blank\">Weights & Biases</a> (<a href='https://wandb.me/run' target=\"_blank\">docs</a>)<br/>Sweep page: <a href='https://wandb.ai/rl_shobhith/uncategorized/sweeps/yivd2k4v' target=\"_blank\">https://wandb.ai/rl_shobhith/uncategorized/sweeps/yivd2k4v</a>"
      ],
      "text/plain": [
       "<IPython.core.display.HTML object>"
      ]
     },
     "metadata": {},
     "output_type": "display_data"
    },
    {
     "data": {
      "text/html": [
       " View project at <a href='https://wandb.ai/rl_shobhith/uncategorized' target=\"_blank\">https://wandb.ai/rl_shobhith/uncategorized</a>"
      ],
      "text/plain": [
       "<IPython.core.display.HTML object>"
      ]
     },
     "metadata": {},
     "output_type": "display_data"
    },
    {
     "data": {
      "text/html": [
       " View sweep at <a href='https://wandb.ai/rl_shobhith/uncategorized/sweeps/yivd2k4v' target=\"_blank\">https://wandb.ai/rl_shobhith/uncategorized/sweeps/yivd2k4v</a>"
      ],
      "text/plain": [
       "<IPython.core.display.HTML object>"
      ]
     },
     "metadata": {},
     "output_type": "display_data"
    },
    {
     "data": {
      "text/html": [
       " View run at <a href='https://wandb.ai/rl_shobhith/uncategorized/runs/hxm7rtpw/workspace' target=\"_blank\">https://wandb.ai/rl_shobhith/uncategorized/runs/hxm7rtpw/workspace</a>"
      ],
      "text/plain": [
       "<IPython.core.display.HTML object>"
      ]
     },
     "metadata": {},
     "output_type": "display_data"
    },
    {
     "name": "stderr",
     "output_type": "stream",
     "text": [
      "Iteration 0: 100%|██████████| 50/50 [00:10<00:00,  4.65it/s, episode_return=50, return=-138.500]\n",
      "Iteration 1: 100%|██████████| 50/50 [00:09<00:00,  5.41it/s, episode_return=100, return=-155.500]\n",
      "Iteration 2: 100%|██████████| 50/50 [00:15<00:00,  3.29it/s, episode_return=150, return=-210.400]\n",
      "Iteration 3: 100%|██████████| 50/50 [00:13<00:00,  3.61it/s, episode_return=200, return=-155.200]\n",
      "Iteration 4: 100%|██████████| 50/50 [00:13<00:00,  3.71it/s, episode_return=250, return=-161.300]\n",
      "Iteration 5: 100%|██████████| 50/50 [00:13<00:00,  3.66it/s, episode_return=300, return=-184.200]\n",
      "Iteration 6: 100%|██████████| 50/50 [00:11<00:00,  4.18it/s, episode_return=350, return=-193.300]\n",
      "Iteration 7: 100%|██████████| 50/50 [00:17<00:00,  2.81it/s, episode_return=400, return=-296.800]\n",
      "Iteration 8: 100%|██████████| 50/50 [00:16<00:00,  2.98it/s, episode_return=450, return=-164.200]\n",
      "Iteration 9: 100%|██████████| 50/50 [00:14<00:00,  3.50it/s, episode_return=500, return=-162.400]\n"
     ]
    },
    {
     "data": {
      "application/vnd.jupyter.widget-view+json": {
       "model_id": "a9990ab504dc44d2a49da109465a70e7",
       "version_major": 2,
       "version_minor": 0
      },
      "text/plain": [
       "VBox(children=(Label(value='0.001 MB of 0.001 MB uploaded\\r'), FloatProgress(value=1.0, max=1.0)))"
      ]
     },
     "metadata": {},
     "output_type": "display_data"
    },
    {
     "data": {
      "text/html": [
       "<style>\n",
       "    table.wandb td:nth-child(1) { padding: 0 10px; text-align: left ; width: auto;} td:nth-child(2) {text-align: left ; width: 100%}\n",
       "    .wandb-row { display: flex; flex-direction: row; flex-wrap: wrap; justify-content: flex-start; width: 100% }\n",
       "    .wandb-col { display: flex; flex-direction: column; flex-basis: 100%; flex: 1; padding: 10px; }\n",
       "    </style>\n",
       "<div class=\"wandb-row\"><div class=\"wandb-col\"><h3>Run history:</h3><br/><table class=\"wandb\"><tr><td>regret</td><td>▁</td></tr></table><br/></div><div class=\"wandb-col\"><h3>Run summary:</h3><br/><table class=\"wandb\"><tr><td>regret</td><td>90855.61961</td></tr></table><br/></div></div>"
      ],
      "text/plain": [
       "<IPython.core.display.HTML object>"
      ]
     },
     "metadata": {},
     "output_type": "display_data"
    },
    {
     "data": {
      "text/html": [
       " View run <strong style=\"color:#cdcd00\">stilted-sweep-118</strong> at: <a href='https://wandb.ai/rl_shobhith/uncategorized/runs/hxm7rtpw/workspace' target=\"_blank\">https://wandb.ai/rl_shobhith/uncategorized/runs/hxm7rtpw/workspace</a><br/>Synced 5 W&B file(s), 0 media file(s), 0 artifact file(s) and 0 other file(s)"
      ],
      "text/plain": [
       "<IPython.core.display.HTML object>"
      ]
     },
     "metadata": {},
     "output_type": "display_data"
    },
    {
     "data": {
      "text/html": [
       "Find logs at: <code>.\\wandb\\run-20240402_083020-hxm7rtpw\\logs</code>"
      ],
      "text/plain": [
       "<IPython.core.display.HTML object>"
      ]
     },
     "metadata": {},
     "output_type": "display_data"
    },
    {
     "name": "stderr",
     "output_type": "stream",
     "text": [
      "\u001b[34m\u001b[1mwandb\u001b[0m: Agent Starting Run: tswyx7vs with config:\n",
      "\u001b[34m\u001b[1mwandb\u001b[0m: \thidden_dim: 256\n",
      "\u001b[34m\u001b[1mwandb\u001b[0m: \tlearning_rate: 0.0020245105128374255\n",
      "Failed to detect the name of this notebook, you can set it manually with the WANDB_NOTEBOOK_NAME environment variable to enable code saving.\n",
      "\u001b[34m\u001b[1mwandb\u001b[0m: \u001b[33mWARNING\u001b[0m Ignored wandb.init() arg project when running a sweep.\n"
     ]
    },
    {
     "data": {
      "text/html": [
       "Tracking run with wandb version 0.16.5"
      ],
      "text/plain": [
       "<IPython.core.display.HTML object>"
      ]
     },
     "metadata": {},
     "output_type": "display_data"
    },
    {
     "data": {
      "text/html": [
       "Run data is saved locally in <code>c:\\Users\\Shobhith Vadlamudi\\AppData\\Local\\Programs\\Microsoft VS Code\\wandb\\run-20240402_083253-tswyx7vs</code>"
      ],
      "text/plain": [
       "<IPython.core.display.HTML object>"
      ]
     },
     "metadata": {},
     "output_type": "display_data"
    },
    {
     "data": {
      "text/html": [
       "Syncing run <strong><a href='https://wandb.ai/rl_shobhith/uncategorized/runs/tswyx7vs/workspace' target=\"_blank\">clear-sweep-119</a></strong> to <a href='https://wandb.ai/rl_shobhith/uncategorized' target=\"_blank\">Weights & Biases</a> (<a href='https://wandb.me/run' target=\"_blank\">docs</a>)<br/>Sweep page: <a href='https://wandb.ai/rl_shobhith/uncategorized/sweeps/yivd2k4v' target=\"_blank\">https://wandb.ai/rl_shobhith/uncategorized/sweeps/yivd2k4v</a>"
      ],
      "text/plain": [
       "<IPython.core.display.HTML object>"
      ]
     },
     "metadata": {},
     "output_type": "display_data"
    },
    {
     "data": {
      "text/html": [
       " View project at <a href='https://wandb.ai/rl_shobhith/uncategorized' target=\"_blank\">https://wandb.ai/rl_shobhith/uncategorized</a>"
      ],
      "text/plain": [
       "<IPython.core.display.HTML object>"
      ]
     },
     "metadata": {},
     "output_type": "display_data"
    },
    {
     "data": {
      "text/html": [
       " View sweep at <a href='https://wandb.ai/rl_shobhith/uncategorized/sweeps/yivd2k4v' target=\"_blank\">https://wandb.ai/rl_shobhith/uncategorized/sweeps/yivd2k4v</a>"
      ],
      "text/plain": [
       "<IPython.core.display.HTML object>"
      ]
     },
     "metadata": {},
     "output_type": "display_data"
    },
    {
     "data": {
      "text/html": [
       " View run at <a href='https://wandb.ai/rl_shobhith/uncategorized/runs/tswyx7vs/workspace' target=\"_blank\">https://wandb.ai/rl_shobhith/uncategorized/runs/tswyx7vs/workspace</a>"
      ],
      "text/plain": [
       "<IPython.core.display.HTML object>"
      ]
     },
     "metadata": {},
     "output_type": "display_data"
    },
    {
     "name": "stderr",
     "output_type": "stream",
     "text": [
      "Iteration 0: 100%|██████████| 50/50 [00:19<00:00,  2.62it/s, episode_return=50, return=-113.500]\n",
      "Iteration 1: 100%|██████████| 50/50 [00:08<00:00,  6.11it/s, episode_return=100, return=-114.600]\n",
      "Iteration 2: 100%|██████████| 50/50 [00:10<00:00,  4.91it/s, episode_return=150, return=-110.600]\n",
      "Iteration 3: 100%|██████████| 50/50 [00:09<00:00,  5.21it/s, episode_return=200, return=-121.700]\n",
      "Iteration 4: 100%|██████████| 50/50 [00:09<00:00,  5.54it/s, episode_return=250, return=-92.400] \n",
      "Iteration 5: 100%|██████████| 50/50 [00:08<00:00,  6.05it/s, episode_return=300, return=-100.400]\n",
      "Iteration 6: 100%|██████████| 50/50 [00:08<00:00,  5.74it/s, episode_return=350, return=-119.200]\n",
      "Iteration 7: 100%|██████████| 50/50 [00:11<00:00,  4.31it/s, episode_return=400, return=-157.800]\n",
      "Iteration 8: 100%|██████████| 50/50 [00:09<00:00,  5.09it/s, episode_return=450, return=-102.900]\n",
      "Iteration 9: 100%|██████████| 50/50 [00:07<00:00,  6.45it/s, episode_return=500, return=-115.900]\n"
     ]
    },
    {
     "data": {
      "application/vnd.jupyter.widget-view+json": {
       "model_id": "f875581ada9c4ab8a8c5b44fb089cbeb",
       "version_major": 2,
       "version_minor": 0
      },
      "text/plain": [
       "VBox(children=(Label(value='0.001 MB of 0.007 MB uploaded\\r'), FloatProgress(value=0.16644420715429792, max=1.…"
      ]
     },
     "metadata": {},
     "output_type": "display_data"
    },
    {
     "data": {
      "text/html": [
       "<style>\n",
       "    table.wandb td:nth-child(1) { padding: 0 10px; text-align: left ; width: auto;} td:nth-child(2) {text-align: left ; width: 100%}\n",
       "    .wandb-row { display: flex; flex-direction: row; flex-wrap: wrap; justify-content: flex-start; width: 100% }\n",
       "    .wandb-col { display: flex; flex-direction: column; flex-basis: 100%; flex: 1; padding: 10px; }\n",
       "    </style>\n",
       "<div class=\"wandb-row\"><div class=\"wandb-col\"><h3>Run history:</h3><br/><table class=\"wandb\"><tr><td>regret</td><td>▁</td></tr></table><br/></div><div class=\"wandb-col\"><h3>Run summary:</h3><br/><table class=\"wandb\"><tr><td>regret</td><td>72163.28861</td></tr></table><br/></div></div>"
      ],
      "text/plain": [
       "<IPython.core.display.HTML object>"
      ]
     },
     "metadata": {},
     "output_type": "display_data"
    },
    {
     "data": {
      "text/html": [
       " View run <strong style=\"color:#cdcd00\">clear-sweep-119</strong> at: <a href='https://wandb.ai/rl_shobhith/uncategorized/runs/tswyx7vs/workspace' target=\"_blank\">https://wandb.ai/rl_shobhith/uncategorized/runs/tswyx7vs/workspace</a><br/>Synced 5 W&B file(s), 0 media file(s), 0 artifact file(s) and 0 other file(s)"
      ],
      "text/plain": [
       "<IPython.core.display.HTML object>"
      ]
     },
     "metadata": {},
     "output_type": "display_data"
    },
    {
     "data": {
      "text/html": [
       "Find logs at: <code>.\\wandb\\run-20240402_083253-tswyx7vs\\logs</code>"
      ],
      "text/plain": [
       "<IPython.core.display.HTML object>"
      ]
     },
     "metadata": {},
     "output_type": "display_data"
    },
    {
     "name": "stderr",
     "output_type": "stream",
     "text": [
      "\u001b[34m\u001b[1mwandb\u001b[0m: Agent Starting Run: yniqvas2 with config:\n",
      "\u001b[34m\u001b[1mwandb\u001b[0m: \thidden_dim: 128\n",
      "\u001b[34m\u001b[1mwandb\u001b[0m: \tlearning_rate: 0.0006542810307502152\n",
      "Failed to detect the name of this notebook, you can set it manually with the WANDB_NOTEBOOK_NAME environment variable to enable code saving.\n",
      "\u001b[34m\u001b[1mwandb\u001b[0m: \u001b[33mWARNING\u001b[0m Ignored wandb.init() arg project when running a sweep.\n"
     ]
    },
    {
     "data": {
      "text/html": [
       "Tracking run with wandb version 0.16.5"
      ],
      "text/plain": [
       "<IPython.core.display.HTML object>"
      ]
     },
     "metadata": {},
     "output_type": "display_data"
    },
    {
     "data": {
      "text/html": [
       "Run data is saved locally in <code>c:\\Users\\Shobhith Vadlamudi\\AppData\\Local\\Programs\\Microsoft VS Code\\wandb\\run-20240402_083450-yniqvas2</code>"
      ],
      "text/plain": [
       "<IPython.core.display.HTML object>"
      ]
     },
     "metadata": {},
     "output_type": "display_data"
    },
    {
     "data": {
      "text/html": [
       "Syncing run <strong><a href='https://wandb.ai/rl_shobhith/uncategorized/runs/yniqvas2/workspace' target=\"_blank\">hardy-sweep-120</a></strong> to <a href='https://wandb.ai/rl_shobhith/uncategorized' target=\"_blank\">Weights & Biases</a> (<a href='https://wandb.me/run' target=\"_blank\">docs</a>)<br/>Sweep page: <a href='https://wandb.ai/rl_shobhith/uncategorized/sweeps/yivd2k4v' target=\"_blank\">https://wandb.ai/rl_shobhith/uncategorized/sweeps/yivd2k4v</a>"
      ],
      "text/plain": [
       "<IPython.core.display.HTML object>"
      ]
     },
     "metadata": {},
     "output_type": "display_data"
    },
    {
     "data": {
      "text/html": [
       " View project at <a href='https://wandb.ai/rl_shobhith/uncategorized' target=\"_blank\">https://wandb.ai/rl_shobhith/uncategorized</a>"
      ],
      "text/plain": [
       "<IPython.core.display.HTML object>"
      ]
     },
     "metadata": {},
     "output_type": "display_data"
    },
    {
     "data": {
      "text/html": [
       " View sweep at <a href='https://wandb.ai/rl_shobhith/uncategorized/sweeps/yivd2k4v' target=\"_blank\">https://wandb.ai/rl_shobhith/uncategorized/sweeps/yivd2k4v</a>"
      ],
      "text/plain": [
       "<IPython.core.display.HTML object>"
      ]
     },
     "metadata": {},
     "output_type": "display_data"
    },
    {
     "data": {
      "text/html": [
       " View run at <a href='https://wandb.ai/rl_shobhith/uncategorized/runs/yniqvas2/workspace' target=\"_blank\">https://wandb.ai/rl_shobhith/uncategorized/runs/yniqvas2/workspace</a>"
      ],
      "text/plain": [
       "<IPython.core.display.HTML object>"
      ]
     },
     "metadata": {},
     "output_type": "display_data"
    },
    {
     "name": "stderr",
     "output_type": "stream",
     "text": [
      "Iteration 0: 100%|██████████| 50/50 [00:34<00:00,  1.47it/s, episode_return=50, return=-500.000]\n",
      "Iteration 1: 100%|██████████| 50/50 [00:34<00:00,  1.46it/s, episode_return=100, return=-482.000]\n",
      "Iteration 2: 100%|██████████| 50/50 [00:31<00:00,  1.57it/s, episode_return=150, return=-379.300]\n",
      "Iteration 3: 100%|██████████| 50/50 [00:22<00:00,  2.23it/s, episode_return=200, return=-237.300]\n",
      "Iteration 4: 100%|██████████| 50/50 [00:15<00:00,  3.19it/s, episode_return=250, return=-219.200]\n",
      "Iteration 5: 100%|██████████| 50/50 [00:15<00:00,  3.25it/s, episode_return=300, return=-212.900]\n",
      "Iteration 6: 100%|██████████| 50/50 [00:14<00:00,  3.47it/s, episode_return=350, return=-188.100]\n",
      "Iteration 7: 100%|██████████| 50/50 [00:11<00:00,  4.43it/s, episode_return=400, return=-167.100]\n",
      "Iteration 8: 100%|██████████| 50/50 [00:13<00:00,  3.73it/s, episode_return=450, return=-164.200]\n",
      "Iteration 9: 100%|██████████| 50/50 [00:12<00:00,  4.00it/s, episode_return=500, return=-173.000]\n"
     ]
    },
    {
     "data": {
      "application/vnd.jupyter.widget-view+json": {
       "model_id": "21c820e397774732a0714bc30e5f017c",
       "version_major": 2,
       "version_minor": 0
      },
      "text/plain": [
       "VBox(children=(Label(value='0.001 MB of 0.007 MB uploaded\\r'), FloatProgress(value=0.1683088136050749, max=1.0…"
      ]
     },
     "metadata": {},
     "output_type": "display_data"
    },
    {
     "data": {
      "text/html": [
       "<style>\n",
       "    table.wandb td:nth-child(1) { padding: 0 10px; text-align: left ; width: auto;} td:nth-child(2) {text-align: left ; width: 100%}\n",
       "    .wandb-row { display: flex; flex-direction: row; flex-wrap: wrap; justify-content: flex-start; width: 100% }\n",
       "    .wandb-col { display: flex; flex-direction: column; flex-basis: 100%; flex: 1; padding: 10px; }\n",
       "    </style>\n",
       "<div class=\"wandb-row\"><div class=\"wandb-col\"><h3>Run history:</h3><br/><table class=\"wandb\"><tr><td>regret</td><td>▁</td></tr></table><br/></div><div class=\"wandb-col\"><h3>Run summary:</h3><br/><table class=\"wandb\"><tr><td>regret</td><td>163102.72</td></tr></table><br/></div></div>"
      ],
      "text/plain": [
       "<IPython.core.display.HTML object>"
      ]
     },
     "metadata": {},
     "output_type": "display_data"
    },
    {
     "data": {
      "text/html": [
       " View run <strong style=\"color:#cdcd00\">hardy-sweep-120</strong> at: <a href='https://wandb.ai/rl_shobhith/uncategorized/runs/yniqvas2/workspace' target=\"_blank\">https://wandb.ai/rl_shobhith/uncategorized/runs/yniqvas2/workspace</a><br/>Synced 5 W&B file(s), 0 media file(s), 0 artifact file(s) and 0 other file(s)"
      ],
      "text/plain": [
       "<IPython.core.display.HTML object>"
      ]
     },
     "metadata": {},
     "output_type": "display_data"
    },
    {
     "data": {
      "text/html": [
       "Find logs at: <code>.\\wandb\\run-20240402_083450-yniqvas2\\logs</code>"
      ],
      "text/plain": [
       "<IPython.core.display.HTML object>"
      ]
     },
     "metadata": {},
     "output_type": "display_data"
    },
    {
     "name": "stderr",
     "output_type": "stream",
     "text": [
      "\u001b[34m\u001b[1mwandb\u001b[0m: Agent Starting Run: 0yx2hu6g with config:\n",
      "\u001b[34m\u001b[1mwandb\u001b[0m: \thidden_dim: 64\n",
      "\u001b[34m\u001b[1mwandb\u001b[0m: \tlearning_rate: 0.004354142319070269\n",
      "Failed to detect the name of this notebook, you can set it manually with the WANDB_NOTEBOOK_NAME environment variable to enable code saving.\n",
      "\u001b[34m\u001b[1mwandb\u001b[0m: \u001b[33mWARNING\u001b[0m Ignored wandb.init() arg project when running a sweep.\n"
     ]
    },
    {
     "data": {
      "text/html": [
       "Tracking run with wandb version 0.16.5"
      ],
      "text/plain": [
       "<IPython.core.display.HTML object>"
      ]
     },
     "metadata": {},
     "output_type": "display_data"
    },
    {
     "data": {
      "text/html": [
       "Run data is saved locally in <code>c:\\Users\\Shobhith Vadlamudi\\AppData\\Local\\Programs\\Microsoft VS Code\\wandb\\run-20240402_083826-0yx2hu6g</code>"
      ],
      "text/plain": [
       "<IPython.core.display.HTML object>"
      ]
     },
     "metadata": {},
     "output_type": "display_data"
    },
    {
     "data": {
      "text/html": [
       "Syncing run <strong><a href='https://wandb.ai/rl_shobhith/uncategorized/runs/0yx2hu6g/workspace' target=\"_blank\">jolly-sweep-121</a></strong> to <a href='https://wandb.ai/rl_shobhith/uncategorized' target=\"_blank\">Weights & Biases</a> (<a href='https://wandb.me/run' target=\"_blank\">docs</a>)<br/>Sweep page: <a href='https://wandb.ai/rl_shobhith/uncategorized/sweeps/yivd2k4v' target=\"_blank\">https://wandb.ai/rl_shobhith/uncategorized/sweeps/yivd2k4v</a>"
      ],
      "text/plain": [
       "<IPython.core.display.HTML object>"
      ]
     },
     "metadata": {},
     "output_type": "display_data"
    },
    {
     "data": {
      "text/html": [
       " View project at <a href='https://wandb.ai/rl_shobhith/uncategorized' target=\"_blank\">https://wandb.ai/rl_shobhith/uncategorized</a>"
      ],
      "text/plain": [
       "<IPython.core.display.HTML object>"
      ]
     },
     "metadata": {},
     "output_type": "display_data"
    },
    {
     "data": {
      "text/html": [
       " View sweep at <a href='https://wandb.ai/rl_shobhith/uncategorized/sweeps/yivd2k4v' target=\"_blank\">https://wandb.ai/rl_shobhith/uncategorized/sweeps/yivd2k4v</a>"
      ],
      "text/plain": [
       "<IPython.core.display.HTML object>"
      ]
     },
     "metadata": {},
     "output_type": "display_data"
    },
    {
     "data": {
      "text/html": [
       " View run at <a href='https://wandb.ai/rl_shobhith/uncategorized/runs/0yx2hu6g/workspace' target=\"_blank\">https://wandb.ai/rl_shobhith/uncategorized/runs/0yx2hu6g/workspace</a>"
      ],
      "text/plain": [
       "<IPython.core.display.HTML object>"
      ]
     },
     "metadata": {},
     "output_type": "display_data"
    },
    {
     "name": "stderr",
     "output_type": "stream",
     "text": [
      "Iteration 0: 100%|██████████| 50/50 [00:33<00:00,  1.51it/s, episode_return=50, return=-484.300]\n",
      "Iteration 1: 100%|██████████| 50/50 [00:21<00:00,  2.34it/s, episode_return=100, return=-241.700]\n",
      "Iteration 2: 100%|██████████| 50/50 [00:17<00:00,  2.92it/s, episode_return=150, return=-214.000]\n",
      "Iteration 3: 100%|██████████| 50/50 [00:17<00:00,  2.78it/s, episode_return=200, return=-349.000]\n",
      "Iteration 4: 100%|██████████| 50/50 [00:16<00:00,  3.00it/s, episode_return=250, return=-221.300]\n",
      "Iteration 5: 100%|██████████| 50/50 [00:09<00:00,  5.05it/s, episode_return=300, return=-110.600]\n",
      "Iteration 6: 100%|██████████| 50/50 [00:09<00:00,  5.51it/s, episode_return=350, return=-124.700]\n",
      "Iteration 7: 100%|██████████| 50/50 [00:09<00:00,  5.46it/s, episode_return=400, return=-120.500]\n",
      "Iteration 8: 100%|██████████| 50/50 [00:07<00:00,  6.41it/s, episode_return=450, return=-106.000]\n",
      "Iteration 9: 100%|██████████| 50/50 [00:07<00:00,  6.46it/s, episode_return=500, return=-113.400]\n"
     ]
    },
    {
     "data": {
      "application/vnd.jupyter.widget-view+json": {
       "model_id": "0308ed72feec4273bf9daefde4ca3784",
       "version_major": 2,
       "version_minor": 0
      },
      "text/plain": [
       "VBox(children=(Label(value='0.001 MB of 0.001 MB uploaded\\r'), FloatProgress(value=1.0, max=1.0)))"
      ]
     },
     "metadata": {},
     "output_type": "display_data"
    },
    {
     "data": {
      "text/html": [
       "<style>\n",
       "    table.wandb td:nth-child(1) { padding: 0 10px; text-align: left ; width: auto;} td:nth-child(2) {text-align: left ; width: 100%}\n",
       "    .wandb-row { display: flex; flex-direction: row; flex-wrap: wrap; justify-content: flex-start; width: 100% }\n",
       "    .wandb-col { display: flex; flex-direction: column; flex-basis: 100%; flex: 1; padding: 10px; }\n",
       "    </style>\n",
       "<div class=\"wandb-row\"><div class=\"wandb-col\"><h3>Run history:</h3><br/><table class=\"wandb\"><tr><td>regret</td><td>▁</td></tr></table><br/></div><div class=\"wandb-col\"><h3>Run summary:</h3><br/><table class=\"wandb\"><tr><td>regret</td><td>131389.78627</td></tr></table><br/></div></div>"
      ],
      "text/plain": [
       "<IPython.core.display.HTML object>"
      ]
     },
     "metadata": {},
     "output_type": "display_data"
    },
    {
     "data": {
      "text/html": [
       " View run <strong style=\"color:#cdcd00\">jolly-sweep-121</strong> at: <a href='https://wandb.ai/rl_shobhith/uncategorized/runs/0yx2hu6g/workspace' target=\"_blank\">https://wandb.ai/rl_shobhith/uncategorized/runs/0yx2hu6g/workspace</a><br/>Synced 5 W&B file(s), 0 media file(s), 0 artifact file(s) and 0 other file(s)"
      ],
      "text/plain": [
       "<IPython.core.display.HTML object>"
      ]
     },
     "metadata": {},
     "output_type": "display_data"
    },
    {
     "data": {
      "text/html": [
       "Find logs at: <code>.\\wandb\\run-20240402_083826-0yx2hu6g\\logs</code>"
      ],
      "text/plain": [
       "<IPython.core.display.HTML object>"
      ]
     },
     "metadata": {},
     "output_type": "display_data"
    },
    {
     "name": "stderr",
     "output_type": "stream",
     "text": [
      "\u001b[34m\u001b[1mwandb\u001b[0m: Agent Starting Run: zp3neo7o with config:\n",
      "\u001b[34m\u001b[1mwandb\u001b[0m: \thidden_dim: 64\n",
      "\u001b[34m\u001b[1mwandb\u001b[0m: \tlearning_rate: 0.007760473741982262\n",
      "Failed to detect the name of this notebook, you can set it manually with the WANDB_NOTEBOOK_NAME environment variable to enable code saving.\n",
      "\u001b[34m\u001b[1mwandb\u001b[0m: \u001b[33mWARNING\u001b[0m Ignored wandb.init() arg project when running a sweep.\n"
     ]
    },
    {
     "data": {
      "text/html": [
       "Tracking run with wandb version 0.16.5"
      ],
      "text/plain": [
       "<IPython.core.display.HTML object>"
      ]
     },
     "metadata": {},
     "output_type": "display_data"
    },
    {
     "data": {
      "text/html": [
       "Run data is saved locally in <code>c:\\Users\\Shobhith Vadlamudi\\AppData\\Local\\Programs\\Microsoft VS Code\\wandb\\run-20240402_084109-zp3neo7o</code>"
      ],
      "text/plain": [
       "<IPython.core.display.HTML object>"
      ]
     },
     "metadata": {},
     "output_type": "display_data"
    },
    {
     "data": {
      "text/html": [
       "Syncing run <strong><a href='https://wandb.ai/rl_shobhith/uncategorized/runs/zp3neo7o/workspace' target=\"_blank\">whole-sweep-122</a></strong> to <a href='https://wandb.ai/rl_shobhith/uncategorized' target=\"_blank\">Weights & Biases</a> (<a href='https://wandb.me/run' target=\"_blank\">docs</a>)<br/>Sweep page: <a href='https://wandb.ai/rl_shobhith/uncategorized/sweeps/yivd2k4v' target=\"_blank\">https://wandb.ai/rl_shobhith/uncategorized/sweeps/yivd2k4v</a>"
      ],
      "text/plain": [
       "<IPython.core.display.HTML object>"
      ]
     },
     "metadata": {},
     "output_type": "display_data"
    },
    {
     "data": {
      "text/html": [
       " View project at <a href='https://wandb.ai/rl_shobhith/uncategorized' target=\"_blank\">https://wandb.ai/rl_shobhith/uncategorized</a>"
      ],
      "text/plain": [
       "<IPython.core.display.HTML object>"
      ]
     },
     "metadata": {},
     "output_type": "display_data"
    },
    {
     "data": {
      "text/html": [
       " View sweep at <a href='https://wandb.ai/rl_shobhith/uncategorized/sweeps/yivd2k4v' target=\"_blank\">https://wandb.ai/rl_shobhith/uncategorized/sweeps/yivd2k4v</a>"
      ],
      "text/plain": [
       "<IPython.core.display.HTML object>"
      ]
     },
     "metadata": {},
     "output_type": "display_data"
    },
    {
     "data": {
      "text/html": [
       " View run at <a href='https://wandb.ai/rl_shobhith/uncategorized/runs/zp3neo7o/workspace' target=\"_blank\">https://wandb.ai/rl_shobhith/uncategorized/runs/zp3neo7o/workspace</a>"
      ],
      "text/plain": [
       "<IPython.core.display.HTML object>"
      ]
     },
     "metadata": {},
     "output_type": "display_data"
    },
    {
     "name": "stderr",
     "output_type": "stream",
     "text": [
      "Iteration 0: 100%|██████████| 50/50 [00:40<00:00,  1.25it/s, episode_return=50, return=-500.000]\n",
      "Iteration 1: 100%|██████████| 50/50 [00:34<00:00,  1.44it/s, episode_return=100, return=-500.000]\n",
      "Iteration 2: 100%|██████████| 50/50 [00:37<00:00,  1.34it/s, episode_return=150, return=-500.000]\n",
      "Iteration 3: 100%|██████████| 50/50 [00:35<00:00,  1.41it/s, episode_return=200, return=-500.000]\n",
      "Iteration 4: 100%|██████████| 50/50 [00:36<00:00,  1.37it/s, episode_return=250, return=-500.000]\n",
      "Iteration 5: 100%|██████████| 50/50 [00:36<00:00,  1.38it/s, episode_return=300, return=-500.000]\n",
      "Iteration 6: 100%|██████████| 50/50 [00:33<00:00,  1.50it/s, episode_return=350, return=-500.000]\n",
      "Iteration 7: 100%|██████████| 50/50 [00:32<00:00,  1.53it/s, episode_return=400, return=-500.000]\n",
      "Iteration 8: 100%|██████████| 50/50 [00:32<00:00,  1.54it/s, episode_return=450, return=-500.000]\n",
      "Iteration 9: 100%|██████████| 50/50 [00:31<00:00,  1.57it/s, episode_return=500, return=-500.000]\n"
     ]
    },
    {
     "data": {
      "application/vnd.jupyter.widget-view+json": {
       "model_id": "fd0610894ae14346bd6045b1446e33b0",
       "version_major": 2,
       "version_minor": 0
      },
      "text/plain": [
       "VBox(children=(Label(value='0.001 MB of 0.007 MB uploaded\\r'), FloatProgress(value=0.1637772524297347, max=1.0…"
      ]
     },
     "metadata": {},
     "output_type": "display_data"
    },
    {
     "data": {
      "text/html": [
       "<style>\n",
       "    table.wandb td:nth-child(1) { padding: 0 10px; text-align: left ; width: auto;} td:nth-child(2) {text-align: left ; width: 100%}\n",
       "    .wandb-row { display: flex; flex-direction: row; flex-wrap: wrap; justify-content: flex-start; width: 100% }\n",
       "    .wandb-col { display: flex; flex-direction: column; flex-basis: 100%; flex: 1; padding: 10px; }\n",
       "    </style>\n",
       "<div class=\"wandb-row\"><div class=\"wandb-col\"><h3>Run history:</h3><br/><table class=\"wandb\"><tr><td>regret</td><td>▁</td></tr></table><br/></div><div class=\"wandb-col\"><h3>Run summary:</h3><br/><table class=\"wandb\"><tr><td>regret</td><td>248638.09881</td></tr></table><br/></div></div>"
      ],
      "text/plain": [
       "<IPython.core.display.HTML object>"
      ]
     },
     "metadata": {},
     "output_type": "display_data"
    },
    {
     "data": {
      "text/html": [
       " View run <strong style=\"color:#cdcd00\">whole-sweep-122</strong> at: <a href='https://wandb.ai/rl_shobhith/uncategorized/runs/zp3neo7o/workspace' target=\"_blank\">https://wandb.ai/rl_shobhith/uncategorized/runs/zp3neo7o/workspace</a><br/>Synced 5 W&B file(s), 0 media file(s), 0 artifact file(s) and 0 other file(s)"
      ],
      "text/plain": [
       "<IPython.core.display.HTML object>"
      ]
     },
     "metadata": {},
     "output_type": "display_data"
    },
    {
     "data": {
      "text/html": [
       "Find logs at: <code>.\\wandb\\run-20240402_084109-zp3neo7o\\logs</code>"
      ],
      "text/plain": [
       "<IPython.core.display.HTML object>"
      ]
     },
     "metadata": {},
     "output_type": "display_data"
    },
    {
     "name": "stderr",
     "output_type": "stream",
     "text": [
      "\u001b[34m\u001b[1mwandb\u001b[0m: Agent Starting Run: nzu1i4a9 with config:\n",
      "\u001b[34m\u001b[1mwandb\u001b[0m: \thidden_dim: 256\n",
      "\u001b[34m\u001b[1mwandb\u001b[0m: \tlearning_rate: 0.008828357767950575\n",
      "Failed to detect the name of this notebook, you can set it manually with the WANDB_NOTEBOOK_NAME environment variable to enable code saving.\n",
      "\u001b[34m\u001b[1mwandb\u001b[0m: \u001b[33mWARNING\u001b[0m Ignored wandb.init() arg project when running a sweep.\n"
     ]
    },
    {
     "data": {
      "application/vnd.jupyter.widget-view+json": {
       "model_id": "72ae427fcfa34990ab4af3c713a901a5",
       "version_major": 2,
       "version_minor": 0
      },
      "text/plain": [
       "VBox(children=(Label(value='Waiting for wandb.init()...\\r'), FloatProgress(value=0.011111111111111112, max=1.0…"
      ]
     },
     "metadata": {},
     "output_type": "display_data"
    },
    {
     "data": {
      "text/html": [
       "Tracking run with wandb version 0.16.5"
      ],
      "text/plain": [
       "<IPython.core.display.HTML object>"
      ]
     },
     "metadata": {},
     "output_type": "display_data"
    },
    {
     "data": {
      "text/html": [
       "Run data is saved locally in <code>c:\\Users\\Shobhith Vadlamudi\\AppData\\Local\\Programs\\Microsoft VS Code\\wandb\\run-20240402_084715-nzu1i4a9</code>"
      ],
      "text/plain": [
       "<IPython.core.display.HTML object>"
      ]
     },
     "metadata": {},
     "output_type": "display_data"
    },
    {
     "data": {
      "text/html": [
       "Syncing run <strong><a href='https://wandb.ai/rl_shobhith/uncategorized/runs/nzu1i4a9/workspace' target=\"_blank\">vibrant-sweep-123</a></strong> to <a href='https://wandb.ai/rl_shobhith/uncategorized' target=\"_blank\">Weights & Biases</a> (<a href='https://wandb.me/run' target=\"_blank\">docs</a>)<br/>Sweep page: <a href='https://wandb.ai/rl_shobhith/uncategorized/sweeps/yivd2k4v' target=\"_blank\">https://wandb.ai/rl_shobhith/uncategorized/sweeps/yivd2k4v</a>"
      ],
      "text/plain": [
       "<IPython.core.display.HTML object>"
      ]
     },
     "metadata": {},
     "output_type": "display_data"
    },
    {
     "data": {
      "text/html": [
       " View project at <a href='https://wandb.ai/rl_shobhith/uncategorized' target=\"_blank\">https://wandb.ai/rl_shobhith/uncategorized</a>"
      ],
      "text/plain": [
       "<IPython.core.display.HTML object>"
      ]
     },
     "metadata": {},
     "output_type": "display_data"
    },
    {
     "data": {
      "text/html": [
       " View sweep at <a href='https://wandb.ai/rl_shobhith/uncategorized/sweeps/yivd2k4v' target=\"_blank\">https://wandb.ai/rl_shobhith/uncategorized/sweeps/yivd2k4v</a>"
      ],
      "text/plain": [
       "<IPython.core.display.HTML object>"
      ]
     },
     "metadata": {},
     "output_type": "display_data"
    },
    {
     "data": {
      "text/html": [
       " View run at <a href='https://wandb.ai/rl_shobhith/uncategorized/runs/nzu1i4a9/workspace' target=\"_blank\">https://wandb.ai/rl_shobhith/uncategorized/runs/nzu1i4a9/workspace</a>"
      ],
      "text/plain": [
       "<IPython.core.display.HTML object>"
      ]
     },
     "metadata": {},
     "output_type": "display_data"
    },
    {
     "name": "stderr",
     "output_type": "stream",
     "text": [
      "Iteration 0: 100%|██████████| 50/50 [00:36<00:00,  1.37it/s, episode_return=50, return=-500.000]\n",
      "Iteration 1: 100%|██████████| 50/50 [00:36<00:00,  1.39it/s, episode_return=100, return=-500.000]\n",
      "Iteration 2: 100%|██████████| 50/50 [00:38<00:00,  1.28it/s, episode_return=150, return=-500.000]\n",
      "Iteration 3: 100%|██████████| 50/50 [00:37<00:00,  1.32it/s, episode_return=200, return=-500.000]\n",
      "Iteration 4: 100%|██████████| 50/50 [00:29<00:00,  1.69it/s, episode_return=250, return=-223.600]\n",
      "Iteration 5: 100%|██████████| 50/50 [00:14<00:00,  3.53it/s, episode_return=300, return=-190.500]\n",
      "Iteration 6: 100%|██████████| 50/50 [00:24<00:00,  2.04it/s, episode_return=350, return=-490.300]\n",
      "Iteration 7: 100%|██████████| 50/50 [00:38<00:00,  1.30it/s, episode_return=400, return=-500.000]\n",
      "Iteration 8: 100%|██████████| 50/50 [00:37<00:00,  1.32it/s, episode_return=450, return=-500.000]\n",
      "Iteration 9: 100%|██████████| 50/50 [00:37<00:00,  1.33it/s, episode_return=500, return=-500.000]\n"
     ]
    },
    {
     "data": {
      "application/vnd.jupyter.widget-view+json": {
       "model_id": "a1e328030b3946cebda16970535dbb4c",
       "version_major": 2,
       "version_minor": 0
      },
      "text/plain": [
       "VBox(children=(Label(value='0.001 MB of 0.001 MB uploaded\\r'), FloatProgress(value=1.0, max=1.0)))"
      ]
     },
     "metadata": {},
     "output_type": "display_data"
    },
    {
     "data": {
      "text/html": [
       "<style>\n",
       "    table.wandb td:nth-child(1) { padding: 0 10px; text-align: left ; width: auto;} td:nth-child(2) {text-align: left ; width: 100%}\n",
       "    .wandb-row { display: flex; flex-direction: row; flex-wrap: wrap; justify-content: flex-start; width: 100% }\n",
       "    .wandb-col { display: flex; flex-direction: column; flex-basis: 100%; flex: 1; padding: 10px; }\n",
       "    </style>\n",
       "<div class=\"wandb-row\"><div class=\"wandb-col\"><h3>Run history:</h3><br/><table class=\"wandb\"><tr><td>regret</td><td>▁</td></tr></table><br/></div><div class=\"wandb-col\"><h3>Run summary:</h3><br/><table class=\"wandb\"><tr><td>regret</td><td>219120.02727</td></tr></table><br/></div></div>"
      ],
      "text/plain": [
       "<IPython.core.display.HTML object>"
      ]
     },
     "metadata": {},
     "output_type": "display_data"
    },
    {
     "data": {
      "text/html": [
       " View run <strong style=\"color:#cdcd00\">vibrant-sweep-123</strong> at: <a href='https://wandb.ai/rl_shobhith/uncategorized/runs/nzu1i4a9/workspace' target=\"_blank\">https://wandb.ai/rl_shobhith/uncategorized/runs/nzu1i4a9/workspace</a><br/>Synced 5 W&B file(s), 0 media file(s), 0 artifact file(s) and 0 other file(s)"
      ],
      "text/plain": [
       "<IPython.core.display.HTML object>"
      ]
     },
     "metadata": {},
     "output_type": "display_data"
    },
    {
     "data": {
      "text/html": [
       "Find logs at: <code>.\\wandb\\run-20240402_084715-nzu1i4a9\\logs</code>"
      ],
      "text/plain": [
       "<IPython.core.display.HTML object>"
      ]
     },
     "metadata": {},
     "output_type": "display_data"
    },
    {
     "name": "stderr",
     "output_type": "stream",
     "text": [
      "\u001b[34m\u001b[1mwandb\u001b[0m: Agent Starting Run: u9crp692 with config:\n",
      "\u001b[34m\u001b[1mwandb\u001b[0m: \thidden_dim: 64\n",
      "\u001b[34m\u001b[1mwandb\u001b[0m: \tlearning_rate: 0.009511341900193402\n",
      "Failed to detect the name of this notebook, you can set it manually with the WANDB_NOTEBOOK_NAME environment variable to enable code saving.\n",
      "\u001b[34m\u001b[1mwandb\u001b[0m: \u001b[33mWARNING\u001b[0m Ignored wandb.init() arg project when running a sweep.\n"
     ]
    },
    {
     "data": {
      "text/html": [
       "Tracking run with wandb version 0.16.5"
      ],
      "text/plain": [
       "<IPython.core.display.HTML object>"
      ]
     },
     "metadata": {},
     "output_type": "display_data"
    },
    {
     "data": {
      "text/html": [
       "Run data is saved locally in <code>c:\\Users\\Shobhith Vadlamudi\\AppData\\Local\\Programs\\Microsoft VS Code\\wandb\\run-20240402_085304-u9crp692</code>"
      ],
      "text/plain": [
       "<IPython.core.display.HTML object>"
      ]
     },
     "metadata": {},
     "output_type": "display_data"
    },
    {
     "data": {
      "text/html": [
       "Syncing run <strong><a href='https://wandb.ai/rl_shobhith/uncategorized/runs/u9crp692/workspace' target=\"_blank\">resilient-sweep-124</a></strong> to <a href='https://wandb.ai/rl_shobhith/uncategorized' target=\"_blank\">Weights & Biases</a> (<a href='https://wandb.me/run' target=\"_blank\">docs</a>)<br/>Sweep page: <a href='https://wandb.ai/rl_shobhith/uncategorized/sweeps/yivd2k4v' target=\"_blank\">https://wandb.ai/rl_shobhith/uncategorized/sweeps/yivd2k4v</a>"
      ],
      "text/plain": [
       "<IPython.core.display.HTML object>"
      ]
     },
     "metadata": {},
     "output_type": "display_data"
    },
    {
     "data": {
      "text/html": [
       " View project at <a href='https://wandb.ai/rl_shobhith/uncategorized' target=\"_blank\">https://wandb.ai/rl_shobhith/uncategorized</a>"
      ],
      "text/plain": [
       "<IPython.core.display.HTML object>"
      ]
     },
     "metadata": {},
     "output_type": "display_data"
    },
    {
     "data": {
      "text/html": [
       " View sweep at <a href='https://wandb.ai/rl_shobhith/uncategorized/sweeps/yivd2k4v' target=\"_blank\">https://wandb.ai/rl_shobhith/uncategorized/sweeps/yivd2k4v</a>"
      ],
      "text/plain": [
       "<IPython.core.display.HTML object>"
      ]
     },
     "metadata": {},
     "output_type": "display_data"
    },
    {
     "data": {
      "text/html": [
       " View run at <a href='https://wandb.ai/rl_shobhith/uncategorized/runs/u9crp692/workspace' target=\"_blank\">https://wandb.ai/rl_shobhith/uncategorized/runs/u9crp692/workspace</a>"
      ],
      "text/plain": [
       "<IPython.core.display.HTML object>"
      ]
     },
     "metadata": {},
     "output_type": "display_data"
    },
    {
     "name": "stderr",
     "output_type": "stream",
     "text": [
      "Iteration 0: 100%|██████████| 50/50 [00:26<00:00,  1.86it/s, episode_return=50, return=-481.700]\n",
      "Iteration 1: 100%|██████████| 50/50 [00:20<00:00,  2.47it/s, episode_return=100, return=-183.900]\n",
      "Iteration 2: 100%|██████████| 50/50 [00:11<00:00,  4.50it/s, episode_return=150, return=-210.500]\n",
      "Iteration 3: 100%|██████████| 50/50 [00:09<00:00,  5.18it/s, episode_return=200, return=-146.000]\n",
      "Iteration 4: 100%|██████████| 50/50 [00:07<00:00,  7.01it/s, episode_return=250, return=-103.400]\n",
      "Iteration 5: 100%|██████████| 50/50 [00:06<00:00,  7.88it/s, episode_return=300, return=-90.800] \n",
      "Iteration 6: 100%|██████████| 50/50 [00:09<00:00,  5.06it/s, episode_return=350, return=-122.900]\n",
      "Iteration 7: 100%|██████████| 50/50 [00:07<00:00,  6.53it/s, episode_return=400, return=-106.100]\n",
      "Iteration 8: 100%|██████████| 50/50 [00:07<00:00,  6.64it/s, episode_return=450, return=-92.100] \n",
      "Iteration 9: 100%|██████████| 50/50 [00:06<00:00,  7.30it/s, episode_return=500, return=-98.000] \n"
     ]
    },
    {
     "data": {
      "application/vnd.jupyter.widget-view+json": {
       "model_id": "8f498f3b158943cf8486197c21c73b46",
       "version_major": 2,
       "version_minor": 0
      },
      "text/plain": [
       "VBox(children=(Label(value='0.001 MB of 0.001 MB uploaded\\r'), FloatProgress(value=1.0, max=1.0)))"
      ]
     },
     "metadata": {},
     "output_type": "display_data"
    },
    {
     "data": {
      "text/html": [
       "<style>\n",
       "    table.wandb td:nth-child(1) { padding: 0 10px; text-align: left ; width: auto;} td:nth-child(2) {text-align: left ; width: 100%}\n",
       "    .wandb-row { display: flex; flex-direction: row; flex-wrap: wrap; justify-content: flex-start; width: 100% }\n",
       "    .wandb-col { display: flex; flex-direction: column; flex-basis: 100%; flex: 1; padding: 10px; }\n",
       "    </style>\n",
       "<div class=\"wandb-row\"><div class=\"wandb-col\"><h3>Run history:</h3><br/><table class=\"wandb\"><tr><td>regret</td><td>▁</td></tr></table><br/></div><div class=\"wandb-col\"><h3>Run summary:</h3><br/><table class=\"wandb\"><tr><td>regret</td><td>101205.39139</td></tr></table><br/></div></div>"
      ],
      "text/plain": [
       "<IPython.core.display.HTML object>"
      ]
     },
     "metadata": {},
     "output_type": "display_data"
    },
    {
     "data": {
      "text/html": [
       " View run <strong style=\"color:#cdcd00\">resilient-sweep-124</strong> at: <a href='https://wandb.ai/rl_shobhith/uncategorized/runs/u9crp692/workspace' target=\"_blank\">https://wandb.ai/rl_shobhith/uncategorized/runs/u9crp692/workspace</a><br/>Synced 5 W&B file(s), 0 media file(s), 0 artifact file(s) and 0 other file(s)"
      ],
      "text/plain": [
       "<IPython.core.display.HTML object>"
      ]
     },
     "metadata": {},
     "output_type": "display_data"
    },
    {
     "data": {
      "text/html": [
       "Find logs at: <code>.\\wandb\\run-20240402_085304-u9crp692\\logs</code>"
      ],
      "text/plain": [
       "<IPython.core.display.HTML object>"
      ]
     },
     "metadata": {},
     "output_type": "display_data"
    },
    {
     "name": "stderr",
     "output_type": "stream",
     "text": [
      "\u001b[34m\u001b[1mwandb\u001b[0m: Agent Starting Run: pan9i5lj with config:\n",
      "\u001b[34m\u001b[1mwandb\u001b[0m: \thidden_dim: 256\n",
      "\u001b[34m\u001b[1mwandb\u001b[0m: \tlearning_rate: 0.0038045982880449353\n",
      "Failed to detect the name of this notebook, you can set it manually with the WANDB_NOTEBOOK_NAME environment variable to enable code saving.\n",
      "\u001b[34m\u001b[1mwandb\u001b[0m: \u001b[33mWARNING\u001b[0m Ignored wandb.init() arg project when running a sweep.\n"
     ]
    },
    {
     "data": {
      "text/html": [
       "Tracking run with wandb version 0.16.5"
      ],
      "text/plain": [
       "<IPython.core.display.HTML object>"
      ]
     },
     "metadata": {},
     "output_type": "display_data"
    },
    {
     "data": {
      "text/html": [
       "Run data is saved locally in <code>c:\\Users\\Shobhith Vadlamudi\\AppData\\Local\\Programs\\Microsoft VS Code\\wandb\\run-20240402_085510-pan9i5lj</code>"
      ],
      "text/plain": [
       "<IPython.core.display.HTML object>"
      ]
     },
     "metadata": {},
     "output_type": "display_data"
    },
    {
     "data": {
      "text/html": [
       "Syncing run <strong><a href='https://wandb.ai/rl_shobhith/uncategorized/runs/pan9i5lj/workspace' target=\"_blank\">misty-sweep-125</a></strong> to <a href='https://wandb.ai/rl_shobhith/uncategorized' target=\"_blank\">Weights & Biases</a> (<a href='https://wandb.me/run' target=\"_blank\">docs</a>)<br/>Sweep page: <a href='https://wandb.ai/rl_shobhith/uncategorized/sweeps/yivd2k4v' target=\"_blank\">https://wandb.ai/rl_shobhith/uncategorized/sweeps/yivd2k4v</a>"
      ],
      "text/plain": [
       "<IPython.core.display.HTML object>"
      ]
     },
     "metadata": {},
     "output_type": "display_data"
    },
    {
     "data": {
      "text/html": [
       " View project at <a href='https://wandb.ai/rl_shobhith/uncategorized' target=\"_blank\">https://wandb.ai/rl_shobhith/uncategorized</a>"
      ],
      "text/plain": [
       "<IPython.core.display.HTML object>"
      ]
     },
     "metadata": {},
     "output_type": "display_data"
    },
    {
     "data": {
      "text/html": [
       " View sweep at <a href='https://wandb.ai/rl_shobhith/uncategorized/sweeps/yivd2k4v' target=\"_blank\">https://wandb.ai/rl_shobhith/uncategorized/sweeps/yivd2k4v</a>"
      ],
      "text/plain": [
       "<IPython.core.display.HTML object>"
      ]
     },
     "metadata": {},
     "output_type": "display_data"
    },
    {
     "data": {
      "text/html": [
       " View run at <a href='https://wandb.ai/rl_shobhith/uncategorized/runs/pan9i5lj/workspace' target=\"_blank\">https://wandb.ai/rl_shobhith/uncategorized/runs/pan9i5lj/workspace</a>"
      ],
      "text/plain": [
       "<IPython.core.display.HTML object>"
      ]
     },
     "metadata": {},
     "output_type": "display_data"
    },
    {
     "name": "stderr",
     "output_type": "stream",
     "text": [
      "Iteration 0: 100%|██████████| 50/50 [00:43<00:00,  1.16it/s, episode_return=50, return=-500.000]\n",
      "Iteration 1: 100%|██████████| 50/50 [00:43<00:00,  1.15it/s, episode_return=100, return=-500.000]\n",
      "Iteration 2: 100%|██████████| 50/50 [00:45<00:00,  1.11it/s, episode_return=150, return=-500.000]\n",
      "Iteration 3: 100%|██████████| 50/50 [00:37<00:00,  1.33it/s, episode_return=200, return=-500.000]\n",
      "Iteration 4: 100%|██████████| 50/50 [00:38<00:00,  1.29it/s, episode_return=250, return=-500.000]\n",
      "Iteration 5: 100%|██████████| 50/50 [00:39<00:00,  1.26it/s, episode_return=300, return=-500.000]\n",
      "Iteration 6: 100%|██████████| 50/50 [00:38<00:00,  1.31it/s, episode_return=350, return=-500.000]\n",
      "Iteration 7: 100%|██████████| 50/50 [00:36<00:00,  1.35it/s, episode_return=400, return=-500.000]\n",
      "Iteration 8: 100%|██████████| 50/50 [00:37<00:00,  1.33it/s, episode_return=450, return=-500.000]\n",
      "Iteration 9: 100%|██████████| 50/50 [00:38<00:00,  1.30it/s, episode_return=500, return=-500.000]\n"
     ]
    },
    {
     "data": {
      "application/vnd.jupyter.widget-view+json": {
       "model_id": "c15663dd6b114f6fbe9ca0a42515f45f",
       "version_major": 2,
       "version_minor": 0
      },
      "text/plain": [
       "VBox(children=(Label(value='0.001 MB of 0.001 MB uploaded\\r'), FloatProgress(value=1.0, max=1.0)))"
      ]
     },
     "metadata": {},
     "output_type": "display_data"
    },
    {
     "data": {
      "text/html": [
       "<style>\n",
       "    table.wandb td:nth-child(1) { padding: 0 10px; text-align: left ; width: auto;} td:nth-child(2) {text-align: left ; width: 100%}\n",
       "    .wandb-row { display: flex; flex-direction: row; flex-wrap: wrap; justify-content: flex-start; width: 100% }\n",
       "    .wandb-col { display: flex; flex-direction: column; flex-basis: 100%; flex: 1; padding: 10px; }\n",
       "    </style>\n",
       "<div class=\"wandb-row\"><div class=\"wandb-col\"><h3>Run history:</h3><br/><table class=\"wandb\"><tr><td>regret</td><td>▁</td></tr></table><br/></div><div class=\"wandb-col\"><h3>Run summary:</h3><br/><table class=\"wandb\"><tr><td>regret</td><td>250000.0</td></tr></table><br/></div></div>"
      ],
      "text/plain": [
       "<IPython.core.display.HTML object>"
      ]
     },
     "metadata": {},
     "output_type": "display_data"
    },
    {
     "data": {
      "text/html": [
       " View run <strong style=\"color:#cdcd00\">misty-sweep-125</strong> at: <a href='https://wandb.ai/rl_shobhith/uncategorized/runs/pan9i5lj/workspace' target=\"_blank\">https://wandb.ai/rl_shobhith/uncategorized/runs/pan9i5lj/workspace</a><br/>Synced 5 W&B file(s), 0 media file(s), 0 artifact file(s) and 0 other file(s)"
      ],
      "text/plain": [
       "<IPython.core.display.HTML object>"
      ]
     },
     "metadata": {},
     "output_type": "display_data"
    },
    {
     "data": {
      "text/html": [
       "Find logs at: <code>.\\wandb\\run-20240402_085510-pan9i5lj\\logs</code>"
      ],
      "text/plain": [
       "<IPython.core.display.HTML object>"
      ]
     },
     "metadata": {},
     "output_type": "display_data"
    },
    {
     "name": "stderr",
     "output_type": "stream",
     "text": [
      "\u001b[34m\u001b[1mwandb\u001b[0m: Agent Starting Run: sxdol2vp with config:\n",
      "\u001b[34m\u001b[1mwandb\u001b[0m: \thidden_dim: 128\n",
      "\u001b[34m\u001b[1mwandb\u001b[0m: \tlearning_rate: 0.004822133781436487\n",
      "Failed to detect the name of this notebook, you can set it manually with the WANDB_NOTEBOOK_NAME environment variable to enable code saving.\n",
      "\u001b[34m\u001b[1mwandb\u001b[0m: \u001b[33mWARNING\u001b[0m Ignored wandb.init() arg project when running a sweep.\n"
     ]
    },
    {
     "data": {
      "text/html": [
       "Tracking run with wandb version 0.16.5"
      ],
      "text/plain": [
       "<IPython.core.display.HTML object>"
      ]
     },
     "metadata": {},
     "output_type": "display_data"
    },
    {
     "data": {
      "text/html": [
       "Run data is saved locally in <code>c:\\Users\\Shobhith Vadlamudi\\AppData\\Local\\Programs\\Microsoft VS Code\\wandb\\run-20240402_090201-sxdol2vp</code>"
      ],
      "text/plain": [
       "<IPython.core.display.HTML object>"
      ]
     },
     "metadata": {},
     "output_type": "display_data"
    },
    {
     "data": {
      "text/html": [
       "Syncing run <strong><a href='https://wandb.ai/rl_shobhith/uncategorized/runs/sxdol2vp/workspace' target=\"_blank\">helpful-sweep-126</a></strong> to <a href='https://wandb.ai/rl_shobhith/uncategorized' target=\"_blank\">Weights & Biases</a> (<a href='https://wandb.me/run' target=\"_blank\">docs</a>)<br/>Sweep page: <a href='https://wandb.ai/rl_shobhith/uncategorized/sweeps/yivd2k4v' target=\"_blank\">https://wandb.ai/rl_shobhith/uncategorized/sweeps/yivd2k4v</a>"
      ],
      "text/plain": [
       "<IPython.core.display.HTML object>"
      ]
     },
     "metadata": {},
     "output_type": "display_data"
    },
    {
     "data": {
      "text/html": [
       " View project at <a href='https://wandb.ai/rl_shobhith/uncategorized' target=\"_blank\">https://wandb.ai/rl_shobhith/uncategorized</a>"
      ],
      "text/plain": [
       "<IPython.core.display.HTML object>"
      ]
     },
     "metadata": {},
     "output_type": "display_data"
    },
    {
     "data": {
      "text/html": [
       " View sweep at <a href='https://wandb.ai/rl_shobhith/uncategorized/sweeps/yivd2k4v' target=\"_blank\">https://wandb.ai/rl_shobhith/uncategorized/sweeps/yivd2k4v</a>"
      ],
      "text/plain": [
       "<IPython.core.display.HTML object>"
      ]
     },
     "metadata": {},
     "output_type": "display_data"
    },
    {
     "data": {
      "text/html": [
       " View run at <a href='https://wandb.ai/rl_shobhith/uncategorized/runs/sxdol2vp/workspace' target=\"_blank\">https://wandb.ai/rl_shobhith/uncategorized/runs/sxdol2vp/workspace</a>"
      ],
      "text/plain": [
       "<IPython.core.display.HTML object>"
      ]
     },
     "metadata": {},
     "output_type": "display_data"
    },
    {
     "name": "stderr",
     "output_type": "stream",
     "text": [
      "Iteration 0: 100%|██████████| 50/50 [00:16<00:00,  2.97it/s, episode_return=50, return=-403.500]\n",
      "Iteration 1: 100%|██████████| 50/50 [00:33<00:00,  1.48it/s, episode_return=100, return=-500.000]\n",
      "Iteration 2: 100%|██████████| 50/50 [00:29<00:00,  1.72it/s, episode_return=150, return=-318.800]\n",
      "Iteration 3: 100%|██████████| 50/50 [00:09<00:00,  5.18it/s, episode_return=200, return=-91.000] \n",
      "Iteration 4: 100%|██████████| 50/50 [00:07<00:00,  6.97it/s, episode_return=250, return=-82.300] \n",
      "Iteration 5: 100%|██████████| 50/50 [00:06<00:00,  8.01it/s, episode_return=300, return=-86.800]\n",
      "Iteration 6: 100%|██████████| 50/50 [00:06<00:00,  7.74it/s, episode_return=350, return=-81.900]\n",
      "Iteration 7: 100%|██████████| 50/50 [00:06<00:00,  7.44it/s, episode_return=400, return=-85.100]\n",
      "Iteration 8: 100%|██████████| 50/50 [00:07<00:00,  7.14it/s, episode_return=450, return=-108.600]\n",
      "Iteration 9: 100%|██████████| 50/50 [00:06<00:00,  7.49it/s, episode_return=500, return=-91.600]\n"
     ]
    },
    {
     "data": {
      "application/vnd.jupyter.widget-view+json": {
       "model_id": "d4f9e9aff8ab4b659ebe19943a492e67",
       "version_major": 2,
       "version_minor": 0
      },
      "text/plain": [
       "VBox(children=(Label(value='0.001 MB of 0.001 MB uploaded\\r'), FloatProgress(value=1.0, max=1.0)))"
      ]
     },
     "metadata": {},
     "output_type": "display_data"
    },
    {
     "data": {
      "text/html": [
       "<style>\n",
       "    table.wandb td:nth-child(1) { padding: 0 10px; text-align: left ; width: auto;} td:nth-child(2) {text-align: left ; width: 100%}\n",
       "    .wandb-row { display: flex; flex-direction: row; flex-wrap: wrap; justify-content: flex-start; width: 100% }\n",
       "    .wandb-col { display: flex; flex-direction: column; flex-basis: 100%; flex: 1; padding: 10px; }\n",
       "    </style>\n",
       "<div class=\"wandb-row\"><div class=\"wandb-col\"><h3>Run history:</h3><br/><table class=\"wandb\"><tr><td>regret</td><td>▁</td></tr></table><br/></div><div class=\"wandb-col\"><h3>Run summary:</h3><br/><table class=\"wandb\"><tr><td>regret</td><td>97158.13971</td></tr></table><br/></div></div>"
      ],
      "text/plain": [
       "<IPython.core.display.HTML object>"
      ]
     },
     "metadata": {},
     "output_type": "display_data"
    },
    {
     "data": {
      "text/html": [
       " View run <strong style=\"color:#cdcd00\">helpful-sweep-126</strong> at: <a href='https://wandb.ai/rl_shobhith/uncategorized/runs/sxdol2vp/workspace' target=\"_blank\">https://wandb.ai/rl_shobhith/uncategorized/runs/sxdol2vp/workspace</a><br/>Synced 5 W&B file(s), 0 media file(s), 0 artifact file(s) and 0 other file(s)"
      ],
      "text/plain": [
       "<IPython.core.display.HTML object>"
      ]
     },
     "metadata": {},
     "output_type": "display_data"
    },
    {
     "data": {
      "text/html": [
       "Find logs at: <code>.\\wandb\\run-20240402_090201-sxdol2vp\\logs</code>"
      ],
      "text/plain": [
       "<IPython.core.display.HTML object>"
      ]
     },
     "metadata": {},
     "output_type": "display_data"
    },
    {
     "name": "stderr",
     "output_type": "stream",
     "text": [
      "\u001b[34m\u001b[1mwandb\u001b[0m: Agent Starting Run: j0o7o8aa with config:\n",
      "\u001b[34m\u001b[1mwandb\u001b[0m: \thidden_dim: 64\n",
      "\u001b[34m\u001b[1mwandb\u001b[0m: \tlearning_rate: 0.003322958929401467\n",
      "Failed to detect the name of this notebook, you can set it manually with the WANDB_NOTEBOOK_NAME environment variable to enable code saving.\n",
      "\u001b[34m\u001b[1mwandb\u001b[0m: \u001b[33mWARNING\u001b[0m Ignored wandb.init() arg project when running a sweep.\n"
     ]
    },
    {
     "data": {
      "text/html": [
       "Tracking run with wandb version 0.16.5"
      ],
      "text/plain": [
       "<IPython.core.display.HTML object>"
      ]
     },
     "metadata": {},
     "output_type": "display_data"
    },
    {
     "data": {
      "text/html": [
       "Run data is saved locally in <code>c:\\Users\\Shobhith Vadlamudi\\AppData\\Local\\Programs\\Microsoft VS Code\\wandb\\run-20240402_090423-j0o7o8aa</code>"
      ],
      "text/plain": [
       "<IPython.core.display.HTML object>"
      ]
     },
     "metadata": {},
     "output_type": "display_data"
    },
    {
     "data": {
      "text/html": [
       "Syncing run <strong><a href='https://wandb.ai/rl_shobhith/uncategorized/runs/j0o7o8aa/workspace' target=\"_blank\">still-sweep-127</a></strong> to <a href='https://wandb.ai/rl_shobhith/uncategorized' target=\"_blank\">Weights & Biases</a> (<a href='https://wandb.me/run' target=\"_blank\">docs</a>)<br/>Sweep page: <a href='https://wandb.ai/rl_shobhith/uncategorized/sweeps/yivd2k4v' target=\"_blank\">https://wandb.ai/rl_shobhith/uncategorized/sweeps/yivd2k4v</a>"
      ],
      "text/plain": [
       "<IPython.core.display.HTML object>"
      ]
     },
     "metadata": {},
     "output_type": "display_data"
    },
    {
     "data": {
      "text/html": [
       " View project at <a href='https://wandb.ai/rl_shobhith/uncategorized' target=\"_blank\">https://wandb.ai/rl_shobhith/uncategorized</a>"
      ],
      "text/plain": [
       "<IPython.core.display.HTML object>"
      ]
     },
     "metadata": {},
     "output_type": "display_data"
    },
    {
     "data": {
      "text/html": [
       " View sweep at <a href='https://wandb.ai/rl_shobhith/uncategorized/sweeps/yivd2k4v' target=\"_blank\">https://wandb.ai/rl_shobhith/uncategorized/sweeps/yivd2k4v</a>"
      ],
      "text/plain": [
       "<IPython.core.display.HTML object>"
      ]
     },
     "metadata": {},
     "output_type": "display_data"
    },
    {
     "data": {
      "text/html": [
       " View run at <a href='https://wandb.ai/rl_shobhith/uncategorized/runs/j0o7o8aa/workspace' target=\"_blank\">https://wandb.ai/rl_shobhith/uncategorized/runs/j0o7o8aa/workspace</a>"
      ],
      "text/plain": [
       "<IPython.core.display.HTML object>"
      ]
     },
     "metadata": {},
     "output_type": "display_data"
    },
    {
     "name": "stderr",
     "output_type": "stream",
     "text": [
      "Iteration 0: 100%|██████████| 50/50 [00:11<00:00,  4.34it/s, episode_return=50, return=-119.100]\n",
      "Iteration 1: 100%|██████████| 50/50 [00:08<00:00,  5.63it/s, episode_return=100, return=-112.000]\n",
      "Iteration 2: 100%|██████████| 50/50 [00:08<00:00,  5.65it/s, episode_return=150, return=-113.700]\n",
      "Iteration 3: 100%|██████████| 50/50 [00:08<00:00,  5.98it/s, episode_return=200, return=-110.900]\n",
      "Iteration 4: 100%|██████████| 50/50 [00:07<00:00,  6.93it/s, episode_return=250, return=-97.700] \n",
      "Iteration 5: 100%|██████████| 50/50 [00:08<00:00,  6.05it/s, episode_return=300, return=-136.000]\n",
      "Iteration 6: 100%|██████████| 50/50 [00:08<00:00,  6.04it/s, episode_return=350, return=-86.300] \n",
      "Iteration 7: 100%|██████████| 50/50 [00:08<00:00,  6.03it/s, episode_return=400, return=-117.000]\n",
      "Iteration 8: 100%|██████████| 50/50 [00:08<00:00,  6.06it/s, episode_return=450, return=-110.200]\n",
      "Iteration 9: 100%|██████████| 50/50 [00:07<00:00,  6.47it/s, episode_return=500, return=-94.300] \n"
     ]
    },
    {
     "data": {
      "application/vnd.jupyter.widget-view+json": {
       "model_id": "acfa5c25551243cbbc480adf7f9f0682",
       "version_major": 2,
       "version_minor": 0
      },
      "text/plain": [
       "VBox(children=(Label(value='0.001 MB of 0.001 MB uploaded\\r'), FloatProgress(value=1.0, max=1.0)))"
      ]
     },
     "metadata": {},
     "output_type": "display_data"
    },
    {
     "data": {
      "text/html": [
       "<style>\n",
       "    table.wandb td:nth-child(1) { padding: 0 10px; text-align: left ; width: auto;} td:nth-child(2) {text-align: left ; width: 100%}\n",
       "    .wandb-row { display: flex; flex-direction: row; flex-wrap: wrap; justify-content: flex-start; width: 100% }\n",
       "    .wandb-col { display: flex; flex-direction: column; flex-basis: 100%; flex: 1; padding: 10px; }\n",
       "    </style>\n",
       "<div class=\"wandb-row\"><div class=\"wandb-col\"><h3>Run history:</h3><br/><table class=\"wandb\"><tr><td>regret</td><td>▁</td></tr></table><br/></div><div class=\"wandb-col\"><h3>Run summary:</h3><br/><table class=\"wandb\"><tr><td>regret</td><td>65510.28285</td></tr></table><br/></div></div>"
      ],
      "text/plain": [
       "<IPython.core.display.HTML object>"
      ]
     },
     "metadata": {},
     "output_type": "display_data"
    },
    {
     "data": {
      "text/html": [
       " View run <strong style=\"color:#cdcd00\">still-sweep-127</strong> at: <a href='https://wandb.ai/rl_shobhith/uncategorized/runs/j0o7o8aa/workspace' target=\"_blank\">https://wandb.ai/rl_shobhith/uncategorized/runs/j0o7o8aa/workspace</a><br/>Synced 5 W&B file(s), 0 media file(s), 0 artifact file(s) and 0 other file(s)"
      ],
      "text/plain": [
       "<IPython.core.display.HTML object>"
      ]
     },
     "metadata": {},
     "output_type": "display_data"
    },
    {
     "data": {
      "text/html": [
       "Find logs at: <code>.\\wandb\\run-20240402_090423-j0o7o8aa\\logs</code>"
      ],
      "text/plain": [
       "<IPython.core.display.HTML object>"
      ]
     },
     "metadata": {},
     "output_type": "display_data"
    },
    {
     "name": "stderr",
     "output_type": "stream",
     "text": [
      "\u001b[34m\u001b[1mwandb\u001b[0m: Sweep Agent: Waiting for job.\n",
      "\u001b[34m\u001b[1mwandb\u001b[0m: Job received.\n",
      "\u001b[34m\u001b[1mwandb\u001b[0m: Agent Starting Run: dgfzr1c7 with config:\n",
      "\u001b[34m\u001b[1mwandb\u001b[0m: \thidden_dim: 256\n",
      "\u001b[34m\u001b[1mwandb\u001b[0m: \tlearning_rate: 0.009769967007327912\n",
      "Failed to detect the name of this notebook, you can set it manually with the WANDB_NOTEBOOK_NAME environment variable to enable code saving.\n",
      "\u001b[34m\u001b[1mwandb\u001b[0m: \u001b[33mWARNING\u001b[0m Ignored wandb.init() arg project when running a sweep.\n"
     ]
    },
    {
     "data": {
      "text/html": [
       "Tracking run with wandb version 0.16.5"
      ],
      "text/plain": [
       "<IPython.core.display.HTML object>"
      ]
     },
     "metadata": {},
     "output_type": "display_data"
    },
    {
     "data": {
      "text/html": [
       "Run data is saved locally in <code>c:\\Users\\Shobhith Vadlamudi\\AppData\\Local\\Programs\\Microsoft VS Code\\wandb\\run-20240402_090610-dgfzr1c7</code>"
      ],
      "text/plain": [
       "<IPython.core.display.HTML object>"
      ]
     },
     "metadata": {},
     "output_type": "display_data"
    },
    {
     "data": {
      "text/html": [
       "Syncing run <strong><a href='https://wandb.ai/rl_shobhith/uncategorized/runs/dgfzr1c7/workspace' target=\"_blank\">electric-sweep-128</a></strong> to <a href='https://wandb.ai/rl_shobhith/uncategorized' target=\"_blank\">Weights & Biases</a> (<a href='https://wandb.me/run' target=\"_blank\">docs</a>)<br/>Sweep page: <a href='https://wandb.ai/rl_shobhith/uncategorized/sweeps/yivd2k4v' target=\"_blank\">https://wandb.ai/rl_shobhith/uncategorized/sweeps/yivd2k4v</a>"
      ],
      "text/plain": [
       "<IPython.core.display.HTML object>"
      ]
     },
     "metadata": {},
     "output_type": "display_data"
    },
    {
     "data": {
      "text/html": [
       " View project at <a href='https://wandb.ai/rl_shobhith/uncategorized' target=\"_blank\">https://wandb.ai/rl_shobhith/uncategorized</a>"
      ],
      "text/plain": [
       "<IPython.core.display.HTML object>"
      ]
     },
     "metadata": {},
     "output_type": "display_data"
    },
    {
     "data": {
      "text/html": [
       " View sweep at <a href='https://wandb.ai/rl_shobhith/uncategorized/sweeps/yivd2k4v' target=\"_blank\">https://wandb.ai/rl_shobhith/uncategorized/sweeps/yivd2k4v</a>"
      ],
      "text/plain": [
       "<IPython.core.display.HTML object>"
      ]
     },
     "metadata": {},
     "output_type": "display_data"
    },
    {
     "data": {
      "text/html": [
       " View run at <a href='https://wandb.ai/rl_shobhith/uncategorized/runs/dgfzr1c7/workspace' target=\"_blank\">https://wandb.ai/rl_shobhith/uncategorized/runs/dgfzr1c7/workspace</a>"
      ],
      "text/plain": [
       "<IPython.core.display.HTML object>"
      ]
     },
     "metadata": {},
     "output_type": "display_data"
    },
    {
     "name": "stderr",
     "output_type": "stream",
     "text": [
      "Iteration 0: 100%|██████████| 50/50 [00:10<00:00,  4.80it/s, episode_return=50, return=-87.500] \n",
      "Iteration 1: 100%|██████████| 50/50 [00:09<00:00,  5.29it/s, episode_return=100, return=-78.000]\n",
      "Iteration 2: 100%|██████████| 50/50 [00:07<00:00,  6.90it/s, episode_return=150, return=-85.100]\n",
      "Iteration 3: 100%|██████████| 50/50 [00:07<00:00,  7.12it/s, episode_return=200, return=-86.500]\n",
      "Iteration 4: 100%|██████████| 50/50 [00:07<00:00,  6.64it/s, episode_return=250, return=-87.600]\n",
      "Iteration 5: 100%|██████████| 50/50 [00:07<00:00,  6.38it/s, episode_return=300, return=-89.100] \n",
      "Iteration 6: 100%|██████████| 50/50 [00:07<00:00,  6.26it/s, episode_return=350, return=-103.900]\n",
      "Iteration 7: 100%|██████████| 50/50 [00:07<00:00,  6.66it/s, episode_return=400, return=-95.200]\n",
      "Iteration 8: 100%|██████████| 50/50 [00:07<00:00,  6.74it/s, episode_return=450, return=-84.500]\n",
      "Iteration 9: 100%|██████████| 50/50 [00:06<00:00,  7.49it/s, episode_return=500, return=-79.200]\n"
     ]
    },
    {
     "data": {
      "application/vnd.jupyter.widget-view+json": {
       "model_id": "e48cc19e36b24ea5896a68ce82d76c7a",
       "version_major": 2,
       "version_minor": 0
      },
      "text/plain": [
       "VBox(children=(Label(value='0.001 MB of 0.001 MB uploaded\\r'), FloatProgress(value=1.0, max=1.0)))"
      ]
     },
     "metadata": {},
     "output_type": "display_data"
    },
    {
     "data": {
      "text/html": [
       "<style>\n",
       "    table.wandb td:nth-child(1) { padding: 0 10px; text-align: left ; width: auto;} td:nth-child(2) {text-align: left ; width: 100%}\n",
       "    .wandb-row { display: flex; flex-direction: row; flex-wrap: wrap; justify-content: flex-start; width: 100% }\n",
       "    .wandb-col { display: flex; flex-direction: column; flex-basis: 100%; flex: 1; padding: 10px; }\n",
       "    </style>\n",
       "<div class=\"wandb-row\"><div class=\"wandb-col\"><h3>Run history:</h3><br/><table class=\"wandb\"><tr><td>regret</td><td>▁</td></tr></table><br/></div><div class=\"wandb-col\"><h3>Run summary:</h3><br/><table class=\"wandb\"><tr><td>regret</td><td>49014.0805</td></tr></table><br/></div></div>"
      ],
      "text/plain": [
       "<IPython.core.display.HTML object>"
      ]
     },
     "metadata": {},
     "output_type": "display_data"
    },
    {
     "data": {
      "text/html": [
       " View run <strong style=\"color:#cdcd00\">electric-sweep-128</strong> at: <a href='https://wandb.ai/rl_shobhith/uncategorized/runs/dgfzr1c7/workspace' target=\"_blank\">https://wandb.ai/rl_shobhith/uncategorized/runs/dgfzr1c7/workspace</a><br/>Synced 5 W&B file(s), 0 media file(s), 0 artifact file(s) and 0 other file(s)"
      ],
      "text/plain": [
       "<IPython.core.display.HTML object>"
      ]
     },
     "metadata": {},
     "output_type": "display_data"
    },
    {
     "data": {
      "text/html": [
       "Find logs at: <code>.\\wandb\\run-20240402_090610-dgfzr1c7\\logs</code>"
      ],
      "text/plain": [
       "<IPython.core.display.HTML object>"
      ]
     },
     "metadata": {},
     "output_type": "display_data"
    },
    {
     "name": "stderr",
     "output_type": "stream",
     "text": [
      "\u001b[34m\u001b[1mwandb\u001b[0m: Sweep Agent: Waiting for job.\n",
      "\u001b[34m\u001b[1mwandb\u001b[0m: Job received.\n",
      "\u001b[34m\u001b[1mwandb\u001b[0m: Agent Starting Run: o3dudohq with config:\n",
      "\u001b[34m\u001b[1mwandb\u001b[0m: \thidden_dim: 128\n",
      "\u001b[34m\u001b[1mwandb\u001b[0m: \tlearning_rate: 0.00950924659224788\n",
      "Failed to detect the name of this notebook, you can set it manually with the WANDB_NOTEBOOK_NAME environment variable to enable code saving.\n",
      "\u001b[34m\u001b[1mwandb\u001b[0m: \u001b[33mWARNING\u001b[0m Ignored wandb.init() arg project when running a sweep.\n"
     ]
    },
    {
     "data": {
      "text/html": [
       "Tracking run with wandb version 0.16.5"
      ],
      "text/plain": [
       "<IPython.core.display.HTML object>"
      ]
     },
     "metadata": {},
     "output_type": "display_data"
    },
    {
     "data": {
      "text/html": [
       "Run data is saved locally in <code>c:\\Users\\Shobhith Vadlamudi\\AppData\\Local\\Programs\\Microsoft VS Code\\wandb\\run-20240402_090751-o3dudohq</code>"
      ],
      "text/plain": [
       "<IPython.core.display.HTML object>"
      ]
     },
     "metadata": {},
     "output_type": "display_data"
    },
    {
     "data": {
      "text/html": [
       "Syncing run <strong><a href='https://wandb.ai/rl_shobhith/uncategorized/runs/o3dudohq/workspace' target=\"_blank\">bumbling-sweep-129</a></strong> to <a href='https://wandb.ai/rl_shobhith/uncategorized' target=\"_blank\">Weights & Biases</a> (<a href='https://wandb.me/run' target=\"_blank\">docs</a>)<br/>Sweep page: <a href='https://wandb.ai/rl_shobhith/uncategorized/sweeps/yivd2k4v' target=\"_blank\">https://wandb.ai/rl_shobhith/uncategorized/sweeps/yivd2k4v</a>"
      ],
      "text/plain": [
       "<IPython.core.display.HTML object>"
      ]
     },
     "metadata": {},
     "output_type": "display_data"
    },
    {
     "data": {
      "text/html": [
       " View project at <a href='https://wandb.ai/rl_shobhith/uncategorized' target=\"_blank\">https://wandb.ai/rl_shobhith/uncategorized</a>"
      ],
      "text/plain": [
       "<IPython.core.display.HTML object>"
      ]
     },
     "metadata": {},
     "output_type": "display_data"
    },
    {
     "data": {
      "text/html": [
       " View sweep at <a href='https://wandb.ai/rl_shobhith/uncategorized/sweeps/yivd2k4v' target=\"_blank\">https://wandb.ai/rl_shobhith/uncategorized/sweeps/yivd2k4v</a>"
      ],
      "text/plain": [
       "<IPython.core.display.HTML object>"
      ]
     },
     "metadata": {},
     "output_type": "display_data"
    },
    {
     "data": {
      "text/html": [
       " View run at <a href='https://wandb.ai/rl_shobhith/uncategorized/runs/o3dudohq/workspace' target=\"_blank\">https://wandb.ai/rl_shobhith/uncategorized/runs/o3dudohq/workspace</a>"
      ],
      "text/plain": [
       "<IPython.core.display.HTML object>"
      ]
     },
     "metadata": {},
     "output_type": "display_data"
    },
    {
     "name": "stderr",
     "output_type": "stream",
     "text": [
      "Iteration 0: 100%|██████████| 50/50 [00:21<00:00,  2.31it/s, episode_return=50, return=-255.200]\n",
      "Iteration 1: 100%|██████████| 50/50 [00:14<00:00,  3.48it/s, episode_return=100, return=-212.300]\n",
      "Iteration 2: 100%|██████████| 50/50 [00:22<00:00,  2.23it/s, episode_return=150, return=-183.100]\n",
      "Iteration 3: 100%|██████████| 50/50 [00:26<00:00,  1.88it/s, episode_return=200, return=-278.400]\n",
      "Iteration 4: 100%|██████████| 50/50 [00:15<00:00,  3.30it/s, episode_return=250, return=-203.200]\n",
      "Iteration 5: 100%|██████████| 50/50 [00:18<00:00,  2.65it/s, episode_return=300, return=-168.000]\n",
      "Iteration 6: 100%|██████████| 50/50 [00:32<00:00,  1.54it/s, episode_return=350, return=-430.900]\n",
      "Iteration 7: 100%|██████████| 50/50 [00:16<00:00,  3.06it/s, episode_return=400, return=-168.000]\n",
      "Iteration 8: 100%|██████████| 50/50 [00:15<00:00,  3.25it/s, episode_return=450, return=-165.700]\n",
      "Iteration 9: 100%|██████████| 50/50 [00:16<00:00,  3.03it/s, episode_return=500, return=-195.400]\n"
     ]
    },
    {
     "data": {
      "application/vnd.jupyter.widget-view+json": {
       "model_id": "715c64a644b34082b6149d2c07302f15",
       "version_major": 2,
       "version_minor": 0
      },
      "text/plain": [
       "VBox(children=(Label(value='0.001 MB of 0.001 MB uploaded\\r'), FloatProgress(value=1.0, max=1.0)))"
      ]
     },
     "metadata": {},
     "output_type": "display_data"
    },
    {
     "data": {
      "text/html": [
       "<style>\n",
       "    table.wandb td:nth-child(1) { padding: 0 10px; text-align: left ; width: auto;} td:nth-child(2) {text-align: left ; width: 100%}\n",
       "    .wandb-row { display: flex; flex-direction: row; flex-wrap: wrap; justify-content: flex-start; width: 100% }\n",
       "    .wandb-col { display: flex; flex-direction: column; flex-basis: 100%; flex: 1; padding: 10px; }\n",
       "    </style>\n",
       "<div class=\"wandb-row\"><div class=\"wandb-col\"><h3>Run history:</h3><br/><table class=\"wandb\"><tr><td>regret</td><td>▁</td></tr></table><br/></div><div class=\"wandb-col\"><h3>Run summary:</h3><br/><table class=\"wandb\"><tr><td>regret</td><td>143043.13779</td></tr></table><br/></div></div>"
      ],
      "text/plain": [
       "<IPython.core.display.HTML object>"
      ]
     },
     "metadata": {},
     "output_type": "display_data"
    },
    {
     "data": {
      "text/html": [
       " View run <strong style=\"color:#cdcd00\">bumbling-sweep-129</strong> at: <a href='https://wandb.ai/rl_shobhith/uncategorized/runs/o3dudohq/workspace' target=\"_blank\">https://wandb.ai/rl_shobhith/uncategorized/runs/o3dudohq/workspace</a><br/>Synced 5 W&B file(s), 0 media file(s), 0 artifact file(s) and 0 other file(s)"
      ],
      "text/plain": [
       "<IPython.core.display.HTML object>"
      ]
     },
     "metadata": {},
     "output_type": "display_data"
    },
    {
     "data": {
      "text/html": [
       "Find logs at: <code>.\\wandb\\run-20240402_090751-o3dudohq\\logs</code>"
      ],
      "text/plain": [
       "<IPython.core.display.HTML object>"
      ]
     },
     "metadata": {},
     "output_type": "display_data"
    },
    {
     "name": "stderr",
     "output_type": "stream",
     "text": [
      "\u001b[34m\u001b[1mwandb\u001b[0m: Agent Starting Run: pqtsv7rm with config:\n",
      "\u001b[34m\u001b[1mwandb\u001b[0m: \thidden_dim: 64\n",
      "\u001b[34m\u001b[1mwandb\u001b[0m: \tlearning_rate: 0.00759120509521487\n",
      "Failed to detect the name of this notebook, you can set it manually with the WANDB_NOTEBOOK_NAME environment variable to enable code saving.\n",
      "\u001b[34m\u001b[1mwandb\u001b[0m: \u001b[33mWARNING\u001b[0m Ignored wandb.init() arg project when running a sweep.\n"
     ]
    },
    {
     "data": {
      "text/html": [
       "Tracking run with wandb version 0.16.5"
      ],
      "text/plain": [
       "<IPython.core.display.HTML object>"
      ]
     },
     "metadata": {},
     "output_type": "display_data"
    },
    {
     "data": {
      "text/html": [
       "Run data is saved locally in <code>c:\\Users\\Shobhith Vadlamudi\\AppData\\Local\\Programs\\Microsoft VS Code\\wandb\\run-20240402_092314-pqtsv7rm</code>"
      ],
      "text/plain": [
       "<IPython.core.display.HTML object>"
      ]
     },
     "metadata": {},
     "output_type": "display_data"
    },
    {
     "data": {
      "text/html": [
       "Syncing run <strong><a href='https://wandb.ai/rl_shobhith/uncategorized/runs/pqtsv7rm/workspace' target=\"_blank\">lilac-sweep-130</a></strong> to <a href='https://wandb.ai/rl_shobhith/uncategorized' target=\"_blank\">Weights & Biases</a> (<a href='https://wandb.me/run' target=\"_blank\">docs</a>)<br/>Sweep page: <a href='https://wandb.ai/rl_shobhith/uncategorized/sweeps/yivd2k4v' target=\"_blank\">https://wandb.ai/rl_shobhith/uncategorized/sweeps/yivd2k4v</a>"
      ],
      "text/plain": [
       "<IPython.core.display.HTML object>"
      ]
     },
     "metadata": {},
     "output_type": "display_data"
    },
    {
     "data": {
      "text/html": [
       " View project at <a href='https://wandb.ai/rl_shobhith/uncategorized' target=\"_blank\">https://wandb.ai/rl_shobhith/uncategorized</a>"
      ],
      "text/plain": [
       "<IPython.core.display.HTML object>"
      ]
     },
     "metadata": {},
     "output_type": "display_data"
    },
    {
     "data": {
      "text/html": [
       " View sweep at <a href='https://wandb.ai/rl_shobhith/uncategorized/sweeps/yivd2k4v' target=\"_blank\">https://wandb.ai/rl_shobhith/uncategorized/sweeps/yivd2k4v</a>"
      ],
      "text/plain": [
       "<IPython.core.display.HTML object>"
      ]
     },
     "metadata": {},
     "output_type": "display_data"
    },
    {
     "data": {
      "text/html": [
       " View run at <a href='https://wandb.ai/rl_shobhith/uncategorized/runs/pqtsv7rm/workspace' target=\"_blank\">https://wandb.ai/rl_shobhith/uncategorized/runs/pqtsv7rm/workspace</a>"
      ],
      "text/plain": [
       "<IPython.core.display.HTML object>"
      ]
     },
     "metadata": {},
     "output_type": "display_data"
    },
    {
     "name": "stderr",
     "output_type": "stream",
     "text": [
      "Iteration 0: 100%|██████████| 50/50 [00:17<00:00,  2.94it/s, episode_return=50, return=-139.200]\n",
      "Iteration 1: 100%|██████████| 50/50 [00:07<00:00,  6.30it/s, episode_return=100, return=-109.400]\n",
      "Iteration 2: 100%|██████████| 50/50 [00:07<00:00,  6.65it/s, episode_return=150, return=-176.500]\n",
      "Iteration 3: 100%|██████████| 50/50 [00:09<00:00,  5.30it/s, episode_return=200, return=-163.200]\n",
      "Iteration 4: 100%|██████████| 50/50 [00:15<00:00,  3.23it/s, episode_return=250, return=-259.300]\n",
      "Iteration 5: 100%|██████████| 50/50 [00:14<00:00,  3.53it/s, episode_return=300, return=-224.700]\n",
      "Iteration 6: 100%|██████████| 50/50 [00:15<00:00,  3.19it/s, episode_return=350, return=-157.300]\n",
      "Iteration 7: 100%|██████████| 50/50 [00:12<00:00,  4.01it/s, episode_return=400, return=-178.900]\n",
      "Iteration 8: 100%|██████████| 50/50 [00:11<00:00,  4.22it/s, episode_return=450, return=-155.500]\n",
      "Iteration 9:  82%|████████▏ | 41/50 [00:10<00:01,  5.23it/s, episode_return=490, return=-191.900]"
     ]
    }
   ],
   "source": [
    "import gym\n",
    "import wandb\n",
    "import torch\n",
    "import numpy as np\n",
    "from tqdm import tqdm\n",
    "import torch.nn as nn\n",
    "import torch.optim as optim\n",
    "import torch.nn.functional as F\n",
    "\n",
    "# Define Policy and REINFORCE classes\n",
    "\n",
    "class Policy(nn.Module):\n",
    "    def __init__(self, state_dim, hidden_dim, action_dim):\n",
    "        super(Policy, self).__init__()\n",
    "        self.fc1 = torch.nn.Linear(state_dim, hidden_dim)\n",
    "        self.fc2 = torch.nn.Linear(hidden_dim, action_dim)\n",
    "\n",
    "    def forward(self, x):\n",
    "        x = F.relu(self.fc1(x))\n",
    "        return F.softmax(self.fc2(x), dim=1)\n",
    "\n",
    "class REINFORCE:\n",
    "    def __init__(self, state_dim, hidden_dim, action_dim, learning_rate, gamma, device):\n",
    "        self.policy_net = Policy(state_dim, hidden_dim, action_dim).to(device)\n",
    "        self.optimizer = torch.optim.Adam(self.policy_net.parameters(), lr=learning_rate)\n",
    "        self.gamma = gamma\n",
    "        self.device = device\n",
    "\n",
    "    def take_action(self, state):\n",
    "        state = torch.tensor(state.reshape(1, -1), dtype=torch.float).to(self.device) \n",
    "        probs = self.policy_net(state)\n",
    "        action_dist = torch.distributions.Categorical(probs) \n",
    "        action = action_dist.sample()\n",
    "        return action.item()  \n",
    "\n",
    "    def update(self, transition_dict):\n",
    "        reward_list = transition_dict['rewards']\n",
    "        state_list = transition_dict['states']\n",
    "        action_list = transition_dict['actions']\n",
    "\n",
    "        G = 0\n",
    "        self.optimizer.zero_grad()\n",
    "        for i in reversed(range(len(reward_list))):\n",
    "            reward = reward_list[i]\n",
    "            state = torch.tensor(state_list[i].reshape(1, -1), dtype=torch.float).to(self.device)\n",
    "            action = torch.tensor(action_list[i]).view(-1, 1).to(self.device)\n",
    "            log_prob = torch.log(self.policy_net(state).gather(1, action))\n",
    "            G = self.gamma * G + reward\n",
    "            loss = -log_prob * G\n",
    "            loss.backward()\n",
    "        self.optimizer.step()\n",
    "\n",
    "# Hyperparameters\n",
    "learning_rate = 1e-3\n",
    "gamma = 0.99\n",
    "hidden_dim = 128\n",
    "num_pbar = 10\n",
    "num_episodes = 500\n",
    "device = torch.device(\"cuda\" if torch.cuda.is_available() else \"cpu\")\n",
    "env_name = \"Acrobot-v1\"\n",
    "\n",
    "# Define the sweep configuration\n",
    "sweep_config = {\n",
    "    \"method\": \"bayes\",\n",
    "    \"metric\": {\"name\": \"regret\", \"goal\": \"minimize\"},\n",
    "    \"parameters\": {\n",
    "        \"learning_rate\": {\"min\": 1e-5, \"max\": 1e-2},\n",
    "        \"hidden_dim\": {\"values\": [64, 128, 256]}\n",
    "    },\n",
    "    \"early_terminate\": {\n",
    "        \"type\": \"hyperband\",\n",
    "        \"min_iter\": 3,\n",
    "        \"max_iter\": 100\n",
    "}\n",
    "}\n",
    "# Initialize the sweep\n",
    "sweep_id = wandb.sweep(sweep_config)\n",
    "\n",
    "def train(learning_rate, hidden_dim):\n",
    "    env = gym.make(env_name)\n",
    "    env.reset(seed=0)\n",
    "    state_dim = env.observation_space.shape[0]\n",
    "    action_dim = env.action_space.n\n",
    "    agent = REINFORCE(state_dim, hidden_dim, action_dim, learning_rate, gamma, device)\n",
    "    return_list = []\n",
    "\n",
    "    for i in range(num_pbar):\n",
    "        with tqdm(total=int(num_episodes/num_pbar), desc='Iteration %d' % i) as pbar:\n",
    "            for i_episode in range(int(num_episodes/num_pbar)):\n",
    "                episode_return = 0\n",
    "                transition_dict = {\n",
    "                    \"states\": [],\n",
    "                    \"actions\": [],\n",
    "                    \"next_states\": [],\n",
    "                    \"rewards\": [],\n",
    "                    \"dones\": []\n",
    "                }\n",
    "                state, _ = env.reset()\n",
    "                terminated, truncated = False, False\n",
    "                while not terminated and not truncated:\n",
    "                    action = agent.take_action(state)\n",
    "                    next_state, reward, terminated, truncated, _ = env.step(action)\n",
    "                    transition_dict[\"states\"].append(state)\n",
    "                    transition_dict[\"actions\"].append(action)\n",
    "                    transition_dict[\"next_states\"].append(next_state)\n",
    "                    transition_dict[\"rewards\"].append(reward)\n",
    "                    transition_dict[\"dones\"].append(terminated)\n",
    "                    state = next_state\n",
    "                    episode_return += reward\n",
    "                return_list.append(episode_return)\n",
    "                agent.update(transition_dict)\n",
    "                if (i_episode+1)%10 == 0:\n",
    "                    pbar.set_postfix({\n",
    "                        'episode_return': '%d' % (num_episodes/num_pbar*i+i_episode+1),\n",
    "                        'return': '%.3f' % np.mean(return_list[-10:])\n",
    "                    })\n",
    "                pbar.update(1)\n",
    "\n",
    "    avg = []\n",
    "    for i in range(num_episodes):\n",
    "        if i < 100:\n",
    "            avg_return = np.mean(return_list[:i+1])\n",
    "        else:\n",
    "            avg_return = np.mean(return_list[i-100:i+1])\n",
    "        avg.append(avg_return)\n",
    "\n",
    "    regret=np.sum(avg)\n",
    "\n",
    "    return -(regret)\n",
    "\n",
    "def run_training():\n",
    "    config_defaults = {\n",
    "        \"learning_rate\": 1e-3,\n",
    "        \"hidden_dim\": 128\n",
    "    }\n",
    "    config = wandb.init(config=config_defaults,project=\"Acrobot_reinforce_without_baseline\")\n",
    "    learning_rate = config.config[\"learning_rate\"]\n",
    "    hidden_dim = config.config[\"hidden_dim\"]\n",
    "    regret = train(learning_rate, hidden_dim)\n",
    "    wandb.log({\"regret\": regret})\n",
    "\n",
    "# Run the sweep\n",
    "wandb.agent(sweep_id, function=run_training)\n"
   ]
  }
 ],
 "metadata": {
  "kernelspec": {
   "display_name": "Python 3",
   "language": "python",
   "name": "python3"
  },
  "language_info": {
   "codemirror_mode": {
    "name": "ipython",
    "version": 3
   },
   "file_extension": ".py",
   "mimetype": "text/x-python",
   "name": "python",
   "nbconvert_exporter": "python",
   "pygments_lexer": "ipython3",
   "version": "3.10.11"
  }
 },
 "nbformat": 4,
 "nbformat_minor": 2
}
