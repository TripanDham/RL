{
 "cells": [
  {
   "cell_type": "code",
   "execution_count": 1,
   "metadata": {},
   "outputs": [
    {
     "name": "stderr",
     "output_type": "stream",
     "text": [
      "Failed to detect the name of this notebook, you can set it manually with the WANDB_NOTEBOOK_NAME environment variable to enable code saving.\n"
     ]
    },
    {
     "name": "stdout",
     "output_type": "stream",
     "text": [
      "Create sweep with ID: ebygp3ca\n",
      "Sweep URL: https://wandb.ai/rl_shobhith/uncategorized/sweeps/ebygp3ca\n"
     ]
    },
    {
     "name": "stderr",
     "output_type": "stream",
     "text": [
      "\u001b[34m\u001b[1mwandb\u001b[0m: Agent Starting Run: knroq4ij with config:\n",
      "\u001b[34m\u001b[1mwandb\u001b[0m: \thidden_dim: 256\n",
      "\u001b[34m\u001b[1mwandb\u001b[0m: \tlearning_rate: 0.0008014309956249786\n",
      "Failed to detect the name of this notebook, you can set it manually with the WANDB_NOTEBOOK_NAME environment variable to enable code saving.\n",
      "\u001b[34m\u001b[1mwandb\u001b[0m: Currently logged in as: \u001b[33mshobhith-v\u001b[0m (\u001b[33mrl_shobhith\u001b[0m). Use \u001b[1m`wandb login --relogin`\u001b[0m to force relogin\n"
     ]
    },
    {
     "data": {
      "text/html": [
       "Tracking run with wandb version 0.16.5"
      ],
      "text/plain": [
       "<IPython.core.display.HTML object>"
      ]
     },
     "metadata": {},
     "output_type": "display_data"
    },
    {
     "data": {
      "text/html": [
       "Run data is saved locally in <code>c:\\Users\\Shobhith Vadlamudi\\Desktop\\3rd Year\\SEM 6\\RL\\wandb\\run-20240401_202830-knroq4ij</code>"
      ],
      "text/plain": [
       "<IPython.core.display.HTML object>"
      ]
     },
     "metadata": {},
     "output_type": "display_data"
    },
    {
     "data": {
      "text/html": [
       "Syncing run <strong><a href='https://wandb.ai/rl_shobhith/uncategorized/runs/knroq4ij/workspace' target=\"_blank\">avid-sweep-1</a></strong> to <a href='https://wandb.ai/rl_shobhith/uncategorized' target=\"_blank\">Weights & Biases</a> (<a href='https://wandb.me/run' target=\"_blank\">docs</a>)<br/>Sweep page: <a href='https://wandb.ai/rl_shobhith/uncategorized/sweeps/ebygp3ca' target=\"_blank\">https://wandb.ai/rl_shobhith/uncategorized/sweeps/ebygp3ca</a>"
      ],
      "text/plain": [
       "<IPython.core.display.HTML object>"
      ]
     },
     "metadata": {},
     "output_type": "display_data"
    },
    {
     "data": {
      "text/html": [
       " View project at <a href='https://wandb.ai/rl_shobhith/uncategorized' target=\"_blank\">https://wandb.ai/rl_shobhith/uncategorized</a>"
      ],
      "text/plain": [
       "<IPython.core.display.HTML object>"
      ]
     },
     "metadata": {},
     "output_type": "display_data"
    },
    {
     "data": {
      "text/html": [
       " View sweep at <a href='https://wandb.ai/rl_shobhith/uncategorized/sweeps/ebygp3ca' target=\"_blank\">https://wandb.ai/rl_shobhith/uncategorized/sweeps/ebygp3ca</a>"
      ],
      "text/plain": [
       "<IPython.core.display.HTML object>"
      ]
     },
     "metadata": {},
     "output_type": "display_data"
    },
    {
     "data": {
      "text/html": [
       " View run at <a href='https://wandb.ai/rl_shobhith/uncategorized/runs/knroq4ij/workspace' target=\"_blank\">https://wandb.ai/rl_shobhith/uncategorized/runs/knroq4ij/workspace</a>"
      ],
      "text/plain": [
       "<IPython.core.display.HTML object>"
      ]
     },
     "metadata": {},
     "output_type": "display_data"
    },
    {
     "name": "stderr",
     "output_type": "stream",
     "text": [
      "Iteration 0:   0%|          | 0/50 [00:00<?, ?it/s]C:\\Users\\Shobhith Vadlamudi\\AppData\\Local\\Packages\\PythonSoftwareFoundation.Python.3.10_qbz5n2kfra8p0\\LocalCache\\local-packages\\Python310\\site-packages\\gym\\utils\\passive_env_checker.py:233: DeprecationWarning: `np.bool8` is a deprecated alias for `np.bool_`.  (Deprecated NumPy 1.24)\n",
      "  if not isinstance(terminated, (bool, np.bool8)):\n",
      "Iteration 0: 100%|██████████| 50/50 [00:01<00:00, 41.72it/s, episode_return=50, return=32.300]\n",
      "Iteration 1: 100%|██████████| 50/50 [00:02<00:00, 19.50it/s, episode_return=100, return=78.500]\n",
      "Iteration 2: 100%|██████████| 50/50 [00:03<00:00, 12.62it/s, episode_return=150, return=115.000]\n",
      "Iteration 3: 100%|██████████| 50/50 [00:06<00:00,  7.75it/s, episode_return=200, return=132.200]\n",
      "Iteration 4: 100%|██████████| 50/50 [00:09<00:00,  5.13it/s, episode_return=250, return=154.400]\n",
      "Iteration 5: 100%|██████████| 50/50 [00:09<00:00,  5.38it/s, episode_return=300, return=174.100]\n",
      "Iteration 6: 100%|██████████| 50/50 [00:09<00:00,  5.36it/s, episode_return=350, return=246.200]\n",
      "Iteration 7: 100%|██████████| 50/50 [00:11<00:00,  4.25it/s, episode_return=400, return=312.100]\n",
      "Iteration 8: 100%|██████████| 50/50 [00:10<00:00,  4.72it/s, episode_return=450, return=241.100]\n",
      "Iteration 9: 100%|██████████| 50/50 [00:11<00:00,  4.53it/s, episode_return=500, return=321.700]\n"
     ]
    },
    {
     "data": {
      "application/vnd.jupyter.widget-view+json": {
       "model_id": "0b292765c5b04bbd9c5b01603390aecc",
       "version_major": 2,
       "version_minor": 0
      },
      "text/plain": [
       "VBox(children=(Label(value='0.001 MB of 0.001 MB uploaded\\r'), FloatProgress(value=1.0, max=1.0)))"
      ]
     },
     "metadata": {},
     "output_type": "display_data"
    },
    {
     "data": {
      "text/html": [
       "<style>\n",
       "    table.wandb td:nth-child(1) { padding: 0 10px; text-align: left ; width: auto;} td:nth-child(2) {text-align: left ; width: 100%}\n",
       "    .wandb-row { display: flex; flex-direction: row; flex-wrap: wrap; justify-content: flex-start; width: 100% }\n",
       "    .wandb-col { display: flex; flex-direction: column; flex-basis: 100%; flex: 1; padding: 10px; }\n",
       "    </style>\n",
       "<div class=\"wandb-row\"><div class=\"wandb-col\"><h3>Run history:</h3><br/><table class=\"wandb\"><tr><td>regret</td><td>▁</td></tr></table><br/></div><div class=\"wandb-col\"><h3>Run summary:</h3><br/><table class=\"wandb\"><tr><td>regret</td><td>30714.25507</td></tr></table><br/></div></div>"
      ],
      "text/plain": [
       "<IPython.core.display.HTML object>"
      ]
     },
     "metadata": {},
     "output_type": "display_data"
    },
    {
     "data": {
      "text/html": [
       " View run <strong style=\"color:#cdcd00\">avid-sweep-1</strong> at: <a href='https://wandb.ai/rl_shobhith/uncategorized/runs/knroq4ij/workspace' target=\"_blank\">https://wandb.ai/rl_shobhith/uncategorized/runs/knroq4ij/workspace</a><br/>Synced 5 W&B file(s), 0 media file(s), 0 artifact file(s) and 0 other file(s)"
      ],
      "text/plain": [
       "<IPython.core.display.HTML object>"
      ]
     },
     "metadata": {},
     "output_type": "display_data"
    },
    {
     "data": {
      "text/html": [
       "Find logs at: <code>.\\wandb\\run-20240401_202830-knroq4ij\\logs</code>"
      ],
      "text/plain": [
       "<IPython.core.display.HTML object>"
      ]
     },
     "metadata": {},
     "output_type": "display_data"
    },
    {
     "name": "stderr",
     "output_type": "stream",
     "text": [
      "\u001b[34m\u001b[1mwandb\u001b[0m: Agent Starting Run: xlv3s8jo with config:\n",
      "\u001b[34m\u001b[1mwandb\u001b[0m: \thidden_dim: 256\n",
      "\u001b[34m\u001b[1mwandb\u001b[0m: \tlearning_rate: 0.0006463588968790339\n",
      "Failed to detect the name of this notebook, you can set it manually with the WANDB_NOTEBOOK_NAME environment variable to enable code saving.\n"
     ]
    },
    {
     "data": {
      "application/vnd.jupyter.widget-view+json": {
       "model_id": "0dc829438687469ca9a345480690f589",
       "version_major": 2,
       "version_minor": 0
      },
      "text/plain": [
       "VBox(children=(Label(value='Waiting for wandb.init()...\\r'), FloatProgress(value=0.011288888888925108, max=1.0…"
      ]
     },
     "metadata": {},
     "output_type": "display_data"
    },
    {
     "data": {
      "text/html": [
       "Tracking run with wandb version 0.16.5"
      ],
      "text/plain": [
       "<IPython.core.display.HTML object>"
      ]
     },
     "metadata": {},
     "output_type": "display_data"
    },
    {
     "data": {
      "text/html": [
       "Run data is saved locally in <code>c:\\Users\\Shobhith Vadlamudi\\Desktop\\3rd Year\\SEM 6\\RL\\wandb\\run-20240401_203006-xlv3s8jo</code>"
      ],
      "text/plain": [
       "<IPython.core.display.HTML object>"
      ]
     },
     "metadata": {},
     "output_type": "display_data"
    },
    {
     "data": {
      "text/html": [
       "Syncing run <strong><a href='https://wandb.ai/rl_shobhith/uncategorized/runs/xlv3s8jo/workspace' target=\"_blank\">spring-sweep-2</a></strong> to <a href='https://wandb.ai/rl_shobhith/uncategorized' target=\"_blank\">Weights & Biases</a> (<a href='https://wandb.me/run' target=\"_blank\">docs</a>)<br/>Sweep page: <a href='https://wandb.ai/rl_shobhith/uncategorized/sweeps/ebygp3ca' target=\"_blank\">https://wandb.ai/rl_shobhith/uncategorized/sweeps/ebygp3ca</a>"
      ],
      "text/plain": [
       "<IPython.core.display.HTML object>"
      ]
     },
     "metadata": {},
     "output_type": "display_data"
    },
    {
     "data": {
      "text/html": [
       " View project at <a href='https://wandb.ai/rl_shobhith/uncategorized' target=\"_blank\">https://wandb.ai/rl_shobhith/uncategorized</a>"
      ],
      "text/plain": [
       "<IPython.core.display.HTML object>"
      ]
     },
     "metadata": {},
     "output_type": "display_data"
    },
    {
     "data": {
      "text/html": [
       " View sweep at <a href='https://wandb.ai/rl_shobhith/uncategorized/sweeps/ebygp3ca' target=\"_blank\">https://wandb.ai/rl_shobhith/uncategorized/sweeps/ebygp3ca</a>"
      ],
      "text/plain": [
       "<IPython.core.display.HTML object>"
      ]
     },
     "metadata": {},
     "output_type": "display_data"
    },
    {
     "data": {
      "text/html": [
       " View run at <a href='https://wandb.ai/rl_shobhith/uncategorized/runs/xlv3s8jo/workspace' target=\"_blank\">https://wandb.ai/rl_shobhith/uncategorized/runs/xlv3s8jo/workspace</a>"
      ],
      "text/plain": [
       "<IPython.core.display.HTML object>"
      ]
     },
     "metadata": {},
     "output_type": "display_data"
    },
    {
     "name": "stderr",
     "output_type": "stream",
     "text": [
      "Iteration 0: 100%|██████████| 50/50 [00:00<00:00, 50.13it/s, episode_return=50, return=22.800]\n",
      "Iteration 1: 100%|██████████| 50/50 [00:01<00:00, 30.93it/s, episode_return=100, return=48.600]\n",
      "Iteration 2: 100%|██████████| 50/50 [00:01<00:00, 25.89it/s, episode_return=150, return=48.900]\n",
      "Iteration 3: 100%|██████████| 50/50 [00:03<00:00, 15.11it/s, episode_return=200, return=71.500]\n",
      "Iteration 4: 100%|██████████| 50/50 [00:04<00:00, 12.40it/s, episode_return=250, return=107.800]\n",
      "Iteration 5: 100%|██████████| 50/50 [00:07<00:00,  6.81it/s, episode_return=300, return=144.800]\n",
      "Iteration 6: 100%|██████████| 50/50 [00:08<00:00,  5.99it/s, episode_return=350, return=142.300]\n",
      "Iteration 7: 100%|██████████| 50/50 [00:07<00:00,  6.87it/s, episode_return=400, return=194.700]\n",
      "Iteration 8: 100%|██████████| 50/50 [00:10<00:00,  4.78it/s, episode_return=450, return=272.900]\n",
      "Iteration 9: 100%|██████████| 50/50 [00:10<00:00,  4.83it/s, episode_return=500, return=297.200]\n"
     ]
    },
    {
     "data": {
      "application/vnd.jupyter.widget-view+json": {
       "model_id": "11fbd96862f743e4808a3ad901931a49",
       "version_major": 2,
       "version_minor": 0
      },
      "text/plain": [
       "VBox(children=(Label(value='0.001 MB of 0.007 MB uploaded\\r'), FloatProgress(value=0.1703319218685972, max=1.0…"
      ]
     },
     "metadata": {},
     "output_type": "display_data"
    },
    {
     "data": {
      "text/html": [
       "<style>\n",
       "    table.wandb td:nth-child(1) { padding: 0 10px; text-align: left ; width: auto;} td:nth-child(2) {text-align: left ; width: 100%}\n",
       "    .wandb-row { display: flex; flex-direction: row; flex-wrap: wrap; justify-content: flex-start; width: 100% }\n",
       "    .wandb-col { display: flex; flex-direction: column; flex-basis: 100%; flex: 1; padding: 10px; }\n",
       "    </style>\n",
       "<div class=\"wandb-row\"><div class=\"wandb-col\"><h3>Run history:</h3><br/><table class=\"wandb\"><tr><td>regret</td><td>▁</td></tr></table><br/></div><div class=\"wandb-col\"><h3>Run summary:</h3><br/><table class=\"wandb\"><tr><td>regret</td><td>48126.64405</td></tr></table><br/></div></div>"
      ],
      "text/plain": [
       "<IPython.core.display.HTML object>"
      ]
     },
     "metadata": {},
     "output_type": "display_data"
    },
    {
     "data": {
      "text/html": [
       " View run <strong style=\"color:#cdcd00\">spring-sweep-2</strong> at: <a href='https://wandb.ai/rl_shobhith/uncategorized/runs/xlv3s8jo/workspace' target=\"_blank\">https://wandb.ai/rl_shobhith/uncategorized/runs/xlv3s8jo/workspace</a><br/>Synced 5 W&B file(s), 0 media file(s), 0 artifact file(s) and 0 other file(s)"
      ],
      "text/plain": [
       "<IPython.core.display.HTML object>"
      ]
     },
     "metadata": {},
     "output_type": "display_data"
    },
    {
     "data": {
      "text/html": [
       "Find logs at: <code>.\\wandb\\run-20240401_203006-xlv3s8jo\\logs</code>"
      ],
      "text/plain": [
       "<IPython.core.display.HTML object>"
      ]
     },
     "metadata": {},
     "output_type": "display_data"
    },
    {
     "name": "stderr",
     "output_type": "stream",
     "text": [
      "\u001b[34m\u001b[1mwandb\u001b[0m: Sweep Agent: Waiting for job.\n",
      "\u001b[34m\u001b[1mwandb\u001b[0m: Job received.\n",
      "\u001b[34m\u001b[1mwandb\u001b[0m: Agent Starting Run: nj8r8s07 with config:\n",
      "\u001b[34m\u001b[1mwandb\u001b[0m: \thidden_dim: 64\n",
      "\u001b[34m\u001b[1mwandb\u001b[0m: \tlearning_rate: 0.0009234512744067692\n",
      "Failed to detect the name of this notebook, you can set it manually with the WANDB_NOTEBOOK_NAME environment variable to enable code saving.\n"
     ]
    },
    {
     "data": {
      "text/html": [
       "Tracking run with wandb version 0.16.5"
      ],
      "text/plain": [
       "<IPython.core.display.HTML object>"
      ]
     },
     "metadata": {},
     "output_type": "display_data"
    },
    {
     "data": {
      "text/html": [
       "Run data is saved locally in <code>c:\\Users\\Shobhith Vadlamudi\\Desktop\\3rd Year\\SEM 6\\RL\\wandb\\run-20240401_203126-nj8r8s07</code>"
      ],
      "text/plain": [
       "<IPython.core.display.HTML object>"
      ]
     },
     "metadata": {},
     "output_type": "display_data"
    },
    {
     "data": {
      "text/html": [
       "Syncing run <strong><a href='https://wandb.ai/rl_shobhith/uncategorized/runs/nj8r8s07/workspace' target=\"_blank\">dandy-sweep-3</a></strong> to <a href='https://wandb.ai/rl_shobhith/uncategorized' target=\"_blank\">Weights & Biases</a> (<a href='https://wandb.me/run' target=\"_blank\">docs</a>)<br/>Sweep page: <a href='https://wandb.ai/rl_shobhith/uncategorized/sweeps/ebygp3ca' target=\"_blank\">https://wandb.ai/rl_shobhith/uncategorized/sweeps/ebygp3ca</a>"
      ],
      "text/plain": [
       "<IPython.core.display.HTML object>"
      ]
     },
     "metadata": {},
     "output_type": "display_data"
    },
    {
     "data": {
      "text/html": [
       " View project at <a href='https://wandb.ai/rl_shobhith/uncategorized' target=\"_blank\">https://wandb.ai/rl_shobhith/uncategorized</a>"
      ],
      "text/plain": [
       "<IPython.core.display.HTML object>"
      ]
     },
     "metadata": {},
     "output_type": "display_data"
    },
    {
     "data": {
      "text/html": [
       " View sweep at <a href='https://wandb.ai/rl_shobhith/uncategorized/sweeps/ebygp3ca' target=\"_blank\">https://wandb.ai/rl_shobhith/uncategorized/sweeps/ebygp3ca</a>"
      ],
      "text/plain": [
       "<IPython.core.display.HTML object>"
      ]
     },
     "metadata": {},
     "output_type": "display_data"
    },
    {
     "data": {
      "text/html": [
       " View run at <a href='https://wandb.ai/rl_shobhith/uncategorized/runs/nj8r8s07/workspace' target=\"_blank\">https://wandb.ai/rl_shobhith/uncategorized/runs/nj8r8s07/workspace</a>"
      ],
      "text/plain": [
       "<IPython.core.display.HTML object>"
      ]
     },
     "metadata": {},
     "output_type": "display_data"
    },
    {
     "name": "stderr",
     "output_type": "stream",
     "text": [
      "Iteration 0: 100%|██████████| 50/50 [00:01<00:00, 41.66it/s, episode_return=50, return=28.700]\n",
      "Iteration 1: 100%|██████████| 50/50 [00:01<00:00, 35.23it/s, episode_return=100, return=39.800]\n",
      "Iteration 2: 100%|██████████| 50/50 [00:01<00:00, 29.15it/s, episode_return=150, return=54.800]\n",
      "Iteration 3: 100%|██████████| 50/50 [00:01<00:00, 31.75it/s, episode_return=200, return=47.200]\n",
      "Iteration 4: 100%|██████████| 50/50 [00:01<00:00, 25.65it/s, episode_return=250, return=48.200]\n",
      "Iteration 5: 100%|██████████| 50/50 [00:02<00:00, 22.15it/s, episode_return=300, return=67.600]\n",
      "Iteration 6: 100%|██████████| 50/50 [00:03<00:00, 16.15it/s, episode_return=350, return=106.800]\n",
      "Iteration 7: 100%|██████████| 50/50 [00:04<00:00, 10.63it/s, episode_return=400, return=116.000]\n",
      "Iteration 8: 100%|██████████| 50/50 [00:06<00:00,  7.39it/s, episode_return=450, return=262.700]\n",
      "Iteration 9: 100%|██████████| 50/50 [00:09<00:00,  5.34it/s, episode_return=500, return=227.300]\n"
     ]
    },
    {
     "data": {
      "application/vnd.jupyter.widget-view+json": {
       "model_id": "b03260517a8a492389e1dd226000d700",
       "version_major": 2,
       "version_minor": 0
      },
      "text/plain": [
       "VBox(children=(Label(value='0.001 MB of 0.001 MB uploaded\\r'), FloatProgress(value=1.0, max=1.0)))"
      ]
     },
     "metadata": {},
     "output_type": "display_data"
    },
    {
     "data": {
      "text/html": [
       "<style>\n",
       "    table.wandb td:nth-child(1) { padding: 0 10px; text-align: left ; width: auto;} td:nth-child(2) {text-align: left ; width: 100%}\n",
       "    .wandb-row { display: flex; flex-direction: row; flex-wrap: wrap; justify-content: flex-start; width: 100% }\n",
       "    .wandb-col { display: flex; flex-direction: column; flex-basis: 100%; flex: 1; padding: 10px; }\n",
       "    </style>\n",
       "<div class=\"wandb-row\"><div class=\"wandb-col\"><h3>Run history:</h3><br/><table class=\"wandb\"><tr><td>regret</td><td>▁</td></tr></table><br/></div><div class=\"wandb-col\"><h3>Run summary:</h3><br/><table class=\"wandb\"><tr><td>regret</td><td>65614.86782</td></tr></table><br/></div></div>"
      ],
      "text/plain": [
       "<IPython.core.display.HTML object>"
      ]
     },
     "metadata": {},
     "output_type": "display_data"
    },
    {
     "data": {
      "text/html": [
       " View run <strong style=\"color:#cdcd00\">dandy-sweep-3</strong> at: <a href='https://wandb.ai/rl_shobhith/uncategorized/runs/nj8r8s07/workspace' target=\"_blank\">https://wandb.ai/rl_shobhith/uncategorized/runs/nj8r8s07/workspace</a><br/>Synced 5 W&B file(s), 0 media file(s), 0 artifact file(s) and 0 other file(s)"
      ],
      "text/plain": [
       "<IPython.core.display.HTML object>"
      ]
     },
     "metadata": {},
     "output_type": "display_data"
    },
    {
     "data": {
      "text/html": [
       "Find logs at: <code>.\\wandb\\run-20240401_203126-nj8r8s07\\logs</code>"
      ],
      "text/plain": [
       "<IPython.core.display.HTML object>"
      ]
     },
     "metadata": {},
     "output_type": "display_data"
    },
    {
     "name": "stderr",
     "output_type": "stream",
     "text": [
      "\u001b[34m\u001b[1mwandb\u001b[0m: Agent Starting Run: bfs66mzk with config:\n",
      "\u001b[34m\u001b[1mwandb\u001b[0m: \thidden_dim: 256\n",
      "\u001b[34m\u001b[1mwandb\u001b[0m: \tlearning_rate: 0.0008186001347911228\n",
      "Failed to detect the name of this notebook, you can set it manually with the WANDB_NOTEBOOK_NAME environment variable to enable code saving.\n"
     ]
    },
    {
     "data": {
      "text/html": [
       "Tracking run with wandb version 0.16.5"
      ],
      "text/plain": [
       "<IPython.core.display.HTML object>"
      ]
     },
     "metadata": {},
     "output_type": "display_data"
    },
    {
     "data": {
      "text/html": [
       "Run data is saved locally in <code>c:\\Users\\Shobhith Vadlamudi\\Desktop\\3rd Year\\SEM 6\\RL\\wandb\\run-20240401_203213-bfs66mzk</code>"
      ],
      "text/plain": [
       "<IPython.core.display.HTML object>"
      ]
     },
     "metadata": {},
     "output_type": "display_data"
    },
    {
     "data": {
      "text/html": [
       "Syncing run <strong><a href='https://wandb.ai/rl_shobhith/uncategorized/runs/bfs66mzk/workspace' target=\"_blank\">warm-sweep-4</a></strong> to <a href='https://wandb.ai/rl_shobhith/uncategorized' target=\"_blank\">Weights & Biases</a> (<a href='https://wandb.me/run' target=\"_blank\">docs</a>)<br/>Sweep page: <a href='https://wandb.ai/rl_shobhith/uncategorized/sweeps/ebygp3ca' target=\"_blank\">https://wandb.ai/rl_shobhith/uncategorized/sweeps/ebygp3ca</a>"
      ],
      "text/plain": [
       "<IPython.core.display.HTML object>"
      ]
     },
     "metadata": {},
     "output_type": "display_data"
    },
    {
     "data": {
      "text/html": [
       " View project at <a href='https://wandb.ai/rl_shobhith/uncategorized' target=\"_blank\">https://wandb.ai/rl_shobhith/uncategorized</a>"
      ],
      "text/plain": [
       "<IPython.core.display.HTML object>"
      ]
     },
     "metadata": {},
     "output_type": "display_data"
    },
    {
     "data": {
      "text/html": [
       " View sweep at <a href='https://wandb.ai/rl_shobhith/uncategorized/sweeps/ebygp3ca' target=\"_blank\">https://wandb.ai/rl_shobhith/uncategorized/sweeps/ebygp3ca</a>"
      ],
      "text/plain": [
       "<IPython.core.display.HTML object>"
      ]
     },
     "metadata": {},
     "output_type": "display_data"
    },
    {
     "data": {
      "text/html": [
       " View run at <a href='https://wandb.ai/rl_shobhith/uncategorized/runs/bfs66mzk/workspace' target=\"_blank\">https://wandb.ai/rl_shobhith/uncategorized/runs/bfs66mzk/workspace</a>"
      ],
      "text/plain": [
       "<IPython.core.display.HTML object>"
      ]
     },
     "metadata": {},
     "output_type": "display_data"
    },
    {
     "name": "stderr",
     "output_type": "stream",
     "text": [
      "Iteration 0: 100%|██████████| 50/50 [00:02<00:00, 22.72it/s, episode_return=50, return=48.800]\n",
      "Iteration 1: 100%|██████████| 50/50 [00:02<00:00, 18.64it/s, episode_return=100, return=59.300]\n",
      "Iteration 2: 100%|██████████| 50/50 [00:03<00:00, 15.28it/s, episode_return=150, return=82.800]\n",
      "Iteration 3: 100%|██████████| 50/50 [00:05<00:00,  8.35it/s, episode_return=200, return=129.900]\n",
      "Iteration 4: 100%|██████████| 50/50 [00:07<00:00,  6.98it/s, episode_return=250, return=145.100]\n",
      "Iteration 5: 100%|██████████| 50/50 [00:08<00:00,  5.60it/s, episode_return=300, return=230.500]\n",
      "Iteration 6: 100%|██████████| 50/50 [00:07<00:00,  6.85it/s, episode_return=350, return=215.600]\n",
      "Iteration 7: 100%|██████████| 50/50 [00:07<00:00,  6.34it/s, episode_return=400, return=280.200]\n",
      "Iteration 8: 100%|██████████| 50/50 [00:11<00:00,  4.28it/s, episode_return=450, return=184.000]\n",
      "Iteration 9: 100%|██████████| 50/50 [00:18<00:00,  2.75it/s, episode_return=500, return=427.800]\n"
     ]
    },
    {
     "data": {
      "application/vnd.jupyter.widget-view+json": {
       "model_id": "c436fe0d4c454789a13e0ab1b4dd7509",
       "version_major": 2,
       "version_minor": 0
      },
      "text/plain": [
       "VBox(children=(Label(value='0.001 MB of 0.001 MB uploaded\\r'), FloatProgress(value=1.0, max=1.0)))"
      ]
     },
     "metadata": {},
     "output_type": "display_data"
    },
    {
     "data": {
      "text/html": [
       "<style>\n",
       "    table.wandb td:nth-child(1) { padding: 0 10px; text-align: left ; width: auto;} td:nth-child(2) {text-align: left ; width: 100%}\n",
       "    .wandb-row { display: flex; flex-direction: row; flex-wrap: wrap; justify-content: flex-start; width: 100% }\n",
       "    .wandb-col { display: flex; flex-direction: column; flex-basis: 100%; flex: 1; padding: 10px; }\n",
       "    </style>\n",
       "<div class=\"wandb-row\"><div class=\"wandb-col\"><h3>Run history:</h3><br/><table class=\"wandb\"><tr><td>regret</td><td>▁</td></tr></table><br/></div><div class=\"wandb-col\"><h3>Run summary:</h3><br/><table class=\"wandb\"><tr><td>regret</td><td>40372.91023</td></tr></table><br/></div></div>"
      ],
      "text/plain": [
       "<IPython.core.display.HTML object>"
      ]
     },
     "metadata": {},
     "output_type": "display_data"
    },
    {
     "data": {
      "text/html": [
       " View run <strong style=\"color:#cdcd00\">warm-sweep-4</strong> at: <a href='https://wandb.ai/rl_shobhith/uncategorized/runs/bfs66mzk/workspace' target=\"_blank\">https://wandb.ai/rl_shobhith/uncategorized/runs/bfs66mzk/workspace</a><br/>Synced 5 W&B file(s), 0 media file(s), 0 artifact file(s) and 0 other file(s)"
      ],
      "text/plain": [
       "<IPython.core.display.HTML object>"
      ]
     },
     "metadata": {},
     "output_type": "display_data"
    },
    {
     "data": {
      "text/html": [
       "Find logs at: <code>.\\wandb\\run-20240401_203213-bfs66mzk\\logs</code>"
      ],
      "text/plain": [
       "<IPython.core.display.HTML object>"
      ]
     },
     "metadata": {},
     "output_type": "display_data"
    },
    {
     "name": "stderr",
     "output_type": "stream",
     "text": [
      "\u001b[34m\u001b[1mwandb\u001b[0m: Sweep Agent: Waiting for job.\n",
      "\u001b[34m\u001b[1mwandb\u001b[0m: Job received.\n",
      "\u001b[34m\u001b[1mwandb\u001b[0m: Agent Starting Run: 9k3k0o8h with config:\n",
      "\u001b[34m\u001b[1mwandb\u001b[0m: \thidden_dim: 256\n",
      "\u001b[34m\u001b[1mwandb\u001b[0m: \tlearning_rate: 0.000259914132902407\n",
      "Failed to detect the name of this notebook, you can set it manually with the WANDB_NOTEBOOK_NAME environment variable to enable code saving.\n"
     ]
    },
    {
     "data": {
      "text/html": [
       "Tracking run with wandb version 0.16.5"
      ],
      "text/plain": [
       "<IPython.core.display.HTML object>"
      ]
     },
     "metadata": {},
     "output_type": "display_data"
    },
    {
     "data": {
      "text/html": [
       "Run data is saved locally in <code>c:\\Users\\Shobhith Vadlamudi\\Desktop\\3rd Year\\SEM 6\\RL\\wandb\\run-20240401_203348-9k3k0o8h</code>"
      ],
      "text/plain": [
       "<IPython.core.display.HTML object>"
      ]
     },
     "metadata": {},
     "output_type": "display_data"
    },
    {
     "data": {
      "text/html": [
       "Syncing run <strong><a href='https://wandb.ai/rl_shobhith/uncategorized/runs/9k3k0o8h/workspace' target=\"_blank\">divine-sweep-5</a></strong> to <a href='https://wandb.ai/rl_shobhith/uncategorized' target=\"_blank\">Weights & Biases</a> (<a href='https://wandb.me/run' target=\"_blank\">docs</a>)<br/>Sweep page: <a href='https://wandb.ai/rl_shobhith/uncategorized/sweeps/ebygp3ca' target=\"_blank\">https://wandb.ai/rl_shobhith/uncategorized/sweeps/ebygp3ca</a>"
      ],
      "text/plain": [
       "<IPython.core.display.HTML object>"
      ]
     },
     "metadata": {},
     "output_type": "display_data"
    },
    {
     "data": {
      "text/html": [
       " View project at <a href='https://wandb.ai/rl_shobhith/uncategorized' target=\"_blank\">https://wandb.ai/rl_shobhith/uncategorized</a>"
      ],
      "text/plain": [
       "<IPython.core.display.HTML object>"
      ]
     },
     "metadata": {},
     "output_type": "display_data"
    },
    {
     "data": {
      "text/html": [
       " View sweep at <a href='https://wandb.ai/rl_shobhith/uncategorized/sweeps/ebygp3ca' target=\"_blank\">https://wandb.ai/rl_shobhith/uncategorized/sweeps/ebygp3ca</a>"
      ],
      "text/plain": [
       "<IPython.core.display.HTML object>"
      ]
     },
     "metadata": {},
     "output_type": "display_data"
    },
    {
     "data": {
      "text/html": [
       " View run at <a href='https://wandb.ai/rl_shobhith/uncategorized/runs/9k3k0o8h/workspace' target=\"_blank\">https://wandb.ai/rl_shobhith/uncategorized/runs/9k3k0o8h/workspace</a>"
      ],
      "text/plain": [
       "<IPython.core.display.HTML object>"
      ]
     },
     "metadata": {},
     "output_type": "display_data"
    },
    {
     "name": "stderr",
     "output_type": "stream",
     "text": [
      "Iteration 0: 100%|██████████| 50/50 [00:01<00:00, 36.47it/s, episode_return=50, return=21.500]\n",
      "Iteration 1: 100%|██████████| 50/50 [00:01<00:00, 32.21it/s, episode_return=100, return=41.000]\n",
      "Iteration 2: 100%|██████████| 50/50 [00:01<00:00, 29.40it/s, episode_return=150, return=36.600]\n",
      "Iteration 3: 100%|██████████| 50/50 [00:02<00:00, 24.17it/s, episode_return=200, return=34.400]\n",
      "Iteration 4: 100%|██████████| 50/50 [00:02<00:00, 21.34it/s, episode_return=250, return=48.300]\n",
      "Iteration 5: 100%|██████████| 50/50 [00:02<00:00, 18.52it/s, episode_return=300, return=64.800]\n",
      "Iteration 6: 100%|██████████| 50/50 [00:03<00:00, 13.92it/s, episode_return=350, return=52.300]\n",
      "Iteration 7: 100%|██████████| 50/50 [00:02<00:00, 17.32it/s, episode_return=400, return=59.600]\n",
      "Iteration 8: 100%|██████████| 50/50 [00:03<00:00, 13.73it/s, episode_return=450, return=53.800]\n",
      "Iteration 9: 100%|██████████| 50/50 [00:03<00:00, 12.65it/s, episode_return=500, return=86.100]\n"
     ]
    },
    {
     "data": {
      "application/vnd.jupyter.widget-view+json": {
       "model_id": "f09d5b995c5949dcae309d4dc3bd34fa",
       "version_major": 2,
       "version_minor": 0
      },
      "text/plain": [
       "VBox(children=(Label(value='0.001 MB of 0.007 MB uploaded\\r'), FloatProgress(value=0.1677653706444235, max=1.0…"
      ]
     },
     "metadata": {},
     "output_type": "display_data"
    },
    {
     "data": {
      "text/html": [
       "<style>\n",
       "    table.wandb td:nth-child(1) { padding: 0 10px; text-align: left ; width: auto;} td:nth-child(2) {text-align: left ; width: 100%}\n",
       "    .wandb-row { display: flex; flex-direction: row; flex-wrap: wrap; justify-content: flex-start; width: 100% }\n",
       "    .wandb-col { display: flex; flex-direction: column; flex-basis: 100%; flex: 1; padding: 10px; }\n",
       "    </style>\n",
       "<div class=\"wandb-row\"><div class=\"wandb-col\"><h3>Run history:</h3><br/><table class=\"wandb\"><tr><td>regret</td><td>▁</td></tr></table><br/></div><div class=\"wandb-col\"><h3>Run summary:</h3><br/><table class=\"wandb\"><tr><td>regret</td><td>75244.85249</td></tr></table><br/></div></div>"
      ],
      "text/plain": [
       "<IPython.core.display.HTML object>"
      ]
     },
     "metadata": {},
     "output_type": "display_data"
    },
    {
     "data": {
      "text/html": [
       " View run <strong style=\"color:#cdcd00\">divine-sweep-5</strong> at: <a href='https://wandb.ai/rl_shobhith/uncategorized/runs/9k3k0o8h/workspace' target=\"_blank\">https://wandb.ai/rl_shobhith/uncategorized/runs/9k3k0o8h/workspace</a><br/>Synced 5 W&B file(s), 0 media file(s), 0 artifact file(s) and 0 other file(s)"
      ],
      "text/plain": [
       "<IPython.core.display.HTML object>"
      ]
     },
     "metadata": {},
     "output_type": "display_data"
    },
    {
     "data": {
      "text/html": [
       "Find logs at: <code>.\\wandb\\run-20240401_203348-9k3k0o8h\\logs</code>"
      ],
      "text/plain": [
       "<IPython.core.display.HTML object>"
      ]
     },
     "metadata": {},
     "output_type": "display_data"
    },
    {
     "name": "stderr",
     "output_type": "stream",
     "text": [
      "\u001b[34m\u001b[1mwandb\u001b[0m: Agent Starting Run: jrcezunp with config:\n",
      "\u001b[34m\u001b[1mwandb\u001b[0m: \thidden_dim: 64\n",
      "\u001b[34m\u001b[1mwandb\u001b[0m: \tlearning_rate: 0.00037329323262457766\n",
      "Failed to detect the name of this notebook, you can set it manually with the WANDB_NOTEBOOK_NAME environment variable to enable code saving.\n"
     ]
    },
    {
     "data": {
      "text/html": [
       "Tracking run with wandb version 0.16.5"
      ],
      "text/plain": [
       "<IPython.core.display.HTML object>"
      ]
     },
     "metadata": {},
     "output_type": "display_data"
    },
    {
     "data": {
      "text/html": [
       "Run data is saved locally in <code>c:\\Users\\Shobhith Vadlamudi\\Desktop\\3rd Year\\SEM 6\\RL\\wandb\\run-20240401_203425-jrcezunp</code>"
      ],
      "text/plain": [
       "<IPython.core.display.HTML object>"
      ]
     },
     "metadata": {},
     "output_type": "display_data"
    },
    {
     "data": {
      "text/html": [
       "Syncing run <strong><a href='https://wandb.ai/rl_shobhith/uncategorized/runs/jrcezunp/workspace' target=\"_blank\">celestial-sweep-6</a></strong> to <a href='https://wandb.ai/rl_shobhith/uncategorized' target=\"_blank\">Weights & Biases</a> (<a href='https://wandb.me/run' target=\"_blank\">docs</a>)<br/>Sweep page: <a href='https://wandb.ai/rl_shobhith/uncategorized/sweeps/ebygp3ca' target=\"_blank\">https://wandb.ai/rl_shobhith/uncategorized/sweeps/ebygp3ca</a>"
      ],
      "text/plain": [
       "<IPython.core.display.HTML object>"
      ]
     },
     "metadata": {},
     "output_type": "display_data"
    },
    {
     "data": {
      "text/html": [
       " View project at <a href='https://wandb.ai/rl_shobhith/uncategorized' target=\"_blank\">https://wandb.ai/rl_shobhith/uncategorized</a>"
      ],
      "text/plain": [
       "<IPython.core.display.HTML object>"
      ]
     },
     "metadata": {},
     "output_type": "display_data"
    },
    {
     "data": {
      "text/html": [
       " View sweep at <a href='https://wandb.ai/rl_shobhith/uncategorized/sweeps/ebygp3ca' target=\"_blank\">https://wandb.ai/rl_shobhith/uncategorized/sweeps/ebygp3ca</a>"
      ],
      "text/plain": [
       "<IPython.core.display.HTML object>"
      ]
     },
     "metadata": {},
     "output_type": "display_data"
    },
    {
     "data": {
      "text/html": [
       " View run at <a href='https://wandb.ai/rl_shobhith/uncategorized/runs/jrcezunp/workspace' target=\"_blank\">https://wandb.ai/rl_shobhith/uncategorized/runs/jrcezunp/workspace</a>"
      ],
      "text/plain": [
       "<IPython.core.display.HTML object>"
      ]
     },
     "metadata": {},
     "output_type": "display_data"
    },
    {
     "name": "stderr",
     "output_type": "stream",
     "text": [
      "Iteration 0: 100%|██████████| 50/50 [00:00<00:00, 53.28it/s, episode_return=50, return=17.000]\n",
      "Iteration 1: 100%|██████████| 50/50 [00:00<00:00, 56.21it/s, episode_return=100, return=23.500]\n",
      "Iteration 2: 100%|██████████| 50/50 [00:01<00:00, 45.71it/s, episode_return=150, return=25.500]\n",
      "Iteration 3: 100%|██████████| 50/50 [00:00<00:00, 50.42it/s, episode_return=200, return=30.400]\n",
      "Iteration 4: 100%|██████████| 50/50 [00:01<00:00, 46.82it/s, episode_return=250, return=30.400]\n",
      "Iteration 5: 100%|██████████| 50/50 [00:01<00:00, 38.90it/s, episode_return=300, return=32.900]\n",
      "Iteration 6: 100%|██████████| 50/50 [00:01<00:00, 36.94it/s, episode_return=350, return=28.900]\n",
      "Iteration 7: 100%|██████████| 50/50 [00:01<00:00, 37.12it/s, episode_return=400, return=26.600]\n",
      "Iteration 8: 100%|██████████| 50/50 [00:01<00:00, 30.30it/s, episode_return=450, return=33.800]\n",
      "Iteration 9: 100%|██████████| 50/50 [00:01<00:00, 32.16it/s, episode_return=500, return=30.800]\n"
     ]
    },
    {
     "data": {
      "application/vnd.jupyter.widget-view+json": {
       "model_id": "177be2eda8e24ec19300459b2391eb65",
       "version_major": 2,
       "version_minor": 0
      },
      "text/plain": [
       "VBox(children=(Label(value='0.001 MB of 0.001 MB uploaded\\r'), FloatProgress(value=1.0, max=1.0)))"
      ]
     },
     "metadata": {},
     "output_type": "display_data"
    },
    {
     "data": {
      "text/html": [
       "<style>\n",
       "    table.wandb td:nth-child(1) { padding: 0 10px; text-align: left ; width: auto;} td:nth-child(2) {text-align: left ; width: 100%}\n",
       "    .wandb-row { display: flex; flex-direction: row; flex-wrap: wrap; justify-content: flex-start; width: 100% }\n",
       "    .wandb-col { display: flex; flex-direction: column; flex-basis: 100%; flex: 1; padding: 10px; }\n",
       "    </style>\n",
       "<div class=\"wandb-row\"><div class=\"wandb-col\"><h3>Run history:</h3><br/><table class=\"wandb\"><tr><td>regret</td><td>▁</td></tr></table><br/></div><div class=\"wandb-col\"><h3>Run summary:</h3><br/><table class=\"wandb\"><tr><td>regret</td><td>84312.81358</td></tr></table><br/></div></div>"
      ],
      "text/plain": [
       "<IPython.core.display.HTML object>"
      ]
     },
     "metadata": {},
     "output_type": "display_data"
    },
    {
     "data": {
      "text/html": [
       " View run <strong style=\"color:#cdcd00\">celestial-sweep-6</strong> at: <a href='https://wandb.ai/rl_shobhith/uncategorized/runs/jrcezunp/workspace' target=\"_blank\">https://wandb.ai/rl_shobhith/uncategorized/runs/jrcezunp/workspace</a><br/>Synced 5 W&B file(s), 0 media file(s), 0 artifact file(s) and 0 other file(s)"
      ],
      "text/plain": [
       "<IPython.core.display.HTML object>"
      ]
     },
     "metadata": {},
     "output_type": "display_data"
    },
    {
     "data": {
      "text/html": [
       "Find logs at: <code>.\\wandb\\run-20240401_203425-jrcezunp\\logs</code>"
      ],
      "text/plain": [
       "<IPython.core.display.HTML object>"
      ]
     },
     "metadata": {},
     "output_type": "display_data"
    },
    {
     "name": "stderr",
     "output_type": "stream",
     "text": [
      "\u001b[34m\u001b[1mwandb\u001b[0m: Sweep Agent: Waiting for job.\n",
      "\u001b[34m\u001b[1mwandb\u001b[0m: Job received.\n",
      "\u001b[34m\u001b[1mwandb\u001b[0m: Agent Starting Run: 8s40bwxh with config:\n",
      "\u001b[34m\u001b[1mwandb\u001b[0m: \thidden_dim: 256\n",
      "\u001b[34m\u001b[1mwandb\u001b[0m: \tlearning_rate: 0.000795968701273675\n",
      "Failed to detect the name of this notebook, you can set it manually with the WANDB_NOTEBOOK_NAME environment variable to enable code saving.\n"
     ]
    },
    {
     "data": {
      "text/html": [
       "Tracking run with wandb version 0.16.5"
      ],
      "text/plain": [
       "<IPython.core.display.HTML object>"
      ]
     },
     "metadata": {},
     "output_type": "display_data"
    },
    {
     "data": {
      "text/html": [
       "Run data is saved locally in <code>c:\\Users\\Shobhith Vadlamudi\\Desktop\\3rd Year\\SEM 6\\RL\\wandb\\run-20240401_203458-8s40bwxh</code>"
      ],
      "text/plain": [
       "<IPython.core.display.HTML object>"
      ]
     },
     "metadata": {},
     "output_type": "display_data"
    },
    {
     "data": {
      "text/html": [
       "Syncing run <strong><a href='https://wandb.ai/rl_shobhith/uncategorized/runs/8s40bwxh/workspace' target=\"_blank\">rose-sweep-7</a></strong> to <a href='https://wandb.ai/rl_shobhith/uncategorized' target=\"_blank\">Weights & Biases</a> (<a href='https://wandb.me/run' target=\"_blank\">docs</a>)<br/>Sweep page: <a href='https://wandb.ai/rl_shobhith/uncategorized/sweeps/ebygp3ca' target=\"_blank\">https://wandb.ai/rl_shobhith/uncategorized/sweeps/ebygp3ca</a>"
      ],
      "text/plain": [
       "<IPython.core.display.HTML object>"
      ]
     },
     "metadata": {},
     "output_type": "display_data"
    },
    {
     "data": {
      "text/html": [
       " View project at <a href='https://wandb.ai/rl_shobhith/uncategorized' target=\"_blank\">https://wandb.ai/rl_shobhith/uncategorized</a>"
      ],
      "text/plain": [
       "<IPython.core.display.HTML object>"
      ]
     },
     "metadata": {},
     "output_type": "display_data"
    },
    {
     "data": {
      "text/html": [
       " View sweep at <a href='https://wandb.ai/rl_shobhith/uncategorized/sweeps/ebygp3ca' target=\"_blank\">https://wandb.ai/rl_shobhith/uncategorized/sweeps/ebygp3ca</a>"
      ],
      "text/plain": [
       "<IPython.core.display.HTML object>"
      ]
     },
     "metadata": {},
     "output_type": "display_data"
    },
    {
     "data": {
      "text/html": [
       " View run at <a href='https://wandb.ai/rl_shobhith/uncategorized/runs/8s40bwxh/workspace' target=\"_blank\">https://wandb.ai/rl_shobhith/uncategorized/runs/8s40bwxh/workspace</a>"
      ],
      "text/plain": [
       "<IPython.core.display.HTML object>"
      ]
     },
     "metadata": {},
     "output_type": "display_data"
    },
    {
     "name": "stderr",
     "output_type": "stream",
     "text": [
      "Iteration 0: 100%|██████████| 50/50 [00:01<00:00, 31.47it/s, episode_return=50, return=30.300]\n",
      "Iteration 1: 100%|██████████| 50/50 [00:02<00:00, 19.68it/s, episode_return=100, return=53.200]\n",
      "Iteration 2: 100%|██████████| 50/50 [00:04<00:00, 10.86it/s, episode_return=150, return=127.500]\n",
      "Iteration 3: 100%|██████████| 50/50 [00:06<00:00,  7.87it/s, episode_return=200, return=168.500]\n",
      "Iteration 4: 100%|██████████| 50/50 [00:08<00:00,  6.18it/s, episode_return=250, return=193.000]\n",
      "Iteration 5: 100%|██████████| 50/50 [00:08<00:00,  5.62it/s, episode_return=300, return=299.000]\n",
      "Iteration 6: 100%|██████████| 50/50 [00:11<00:00,  4.27it/s, episode_return=350, return=327.700]\n",
      "Iteration 7: 100%|██████████| 50/50 [00:09<00:00,  5.51it/s, episode_return=400, return=137.200]\n",
      "Iteration 8: 100%|██████████| 50/50 [00:09<00:00,  5.44it/s, episode_return=450, return=260.200]\n",
      "Iteration 9: 100%|██████████| 50/50 [00:11<00:00,  4.54it/s, episode_return=500, return=374.600]\n"
     ]
    },
    {
     "data": {
      "application/vnd.jupyter.widget-view+json": {
       "model_id": "dd2a23fc867e4c11a3a1c036c2275e7f",
       "version_major": 2,
       "version_minor": 0
      },
      "text/plain": [
       "VBox(children=(Label(value='0.001 MB of 0.001 MB uploaded\\r'), FloatProgress(value=1.0, max=1.0)))"
      ]
     },
     "metadata": {},
     "output_type": "display_data"
    },
    {
     "data": {
      "text/html": [
       "<style>\n",
       "    table.wandb td:nth-child(1) { padding: 0 10px; text-align: left ; width: auto;} td:nth-child(2) {text-align: left ; width: 100%}\n",
       "    .wandb-row { display: flex; flex-direction: row; flex-wrap: wrap; justify-content: flex-start; width: 100% }\n",
       "    .wandb-col { display: flex; flex-direction: column; flex-basis: 100%; flex: 1; padding: 10px; }\n",
       "    </style>\n",
       "<div class=\"wandb-row\"><div class=\"wandb-col\"><h3>Run history:</h3><br/><table class=\"wandb\"><tr><td>regret</td><td>▁</td></tr></table><br/></div><div class=\"wandb-col\"><h3>Run summary:</h3><br/><table class=\"wandb\"><tr><td>regret</td><td>34093.30635</td></tr></table><br/></div></div>"
      ],
      "text/plain": [
       "<IPython.core.display.HTML object>"
      ]
     },
     "metadata": {},
     "output_type": "display_data"
    },
    {
     "data": {
      "text/html": [
       " View run <strong style=\"color:#cdcd00\">rose-sweep-7</strong> at: <a href='https://wandb.ai/rl_shobhith/uncategorized/runs/8s40bwxh/workspace' target=\"_blank\">https://wandb.ai/rl_shobhith/uncategorized/runs/8s40bwxh/workspace</a><br/>Synced 5 W&B file(s), 0 media file(s), 0 artifact file(s) and 0 other file(s)"
      ],
      "text/plain": [
       "<IPython.core.display.HTML object>"
      ]
     },
     "metadata": {},
     "output_type": "display_data"
    },
    {
     "data": {
      "text/html": [
       "Find logs at: <code>.\\wandb\\run-20240401_203458-8s40bwxh\\logs</code>"
      ],
      "text/plain": [
       "<IPython.core.display.HTML object>"
      ]
     },
     "metadata": {},
     "output_type": "display_data"
    },
    {
     "name": "stderr",
     "output_type": "stream",
     "text": [
      "\u001b[34m\u001b[1mwandb\u001b[0m: Agent Starting Run: pcuueutx with config:\n",
      "\u001b[34m\u001b[1mwandb\u001b[0m: \thidden_dim: 128\n",
      "\u001b[34m\u001b[1mwandb\u001b[0m: \tlearning_rate: 0.000743784965576459\n",
      "Failed to detect the name of this notebook, you can set it manually with the WANDB_NOTEBOOK_NAME environment variable to enable code saving.\n"
     ]
    },
    {
     "data": {
      "text/html": [
       "Tracking run with wandb version 0.16.5"
      ],
      "text/plain": [
       "<IPython.core.display.HTML object>"
      ]
     },
     "metadata": {},
     "output_type": "display_data"
    },
    {
     "data": {
      "text/html": [
       "Run data is saved locally in <code>c:\\Users\\Shobhith Vadlamudi\\Desktop\\3rd Year\\SEM 6\\RL\\wandb\\run-20240401_203627-pcuueutx</code>"
      ],
      "text/plain": [
       "<IPython.core.display.HTML object>"
      ]
     },
     "metadata": {},
     "output_type": "display_data"
    },
    {
     "data": {
      "text/html": [
       "Syncing run <strong><a href='https://wandb.ai/rl_shobhith/uncategorized/runs/pcuueutx/workspace' target=\"_blank\">glorious-sweep-8</a></strong> to <a href='https://wandb.ai/rl_shobhith/uncategorized' target=\"_blank\">Weights & Biases</a> (<a href='https://wandb.me/run' target=\"_blank\">docs</a>)<br/>Sweep page: <a href='https://wandb.ai/rl_shobhith/uncategorized/sweeps/ebygp3ca' target=\"_blank\">https://wandb.ai/rl_shobhith/uncategorized/sweeps/ebygp3ca</a>"
      ],
      "text/plain": [
       "<IPython.core.display.HTML object>"
      ]
     },
     "metadata": {},
     "output_type": "display_data"
    },
    {
     "data": {
      "text/html": [
       " View project at <a href='https://wandb.ai/rl_shobhith/uncategorized' target=\"_blank\">https://wandb.ai/rl_shobhith/uncategorized</a>"
      ],
      "text/plain": [
       "<IPython.core.display.HTML object>"
      ]
     },
     "metadata": {},
     "output_type": "display_data"
    },
    {
     "data": {
      "text/html": [
       " View sweep at <a href='https://wandb.ai/rl_shobhith/uncategorized/sweeps/ebygp3ca' target=\"_blank\">https://wandb.ai/rl_shobhith/uncategorized/sweeps/ebygp3ca</a>"
      ],
      "text/plain": [
       "<IPython.core.display.HTML object>"
      ]
     },
     "metadata": {},
     "output_type": "display_data"
    },
    {
     "data": {
      "text/html": [
       " View run at <a href='https://wandb.ai/rl_shobhith/uncategorized/runs/pcuueutx/workspace' target=\"_blank\">https://wandb.ai/rl_shobhith/uncategorized/runs/pcuueutx/workspace</a>"
      ],
      "text/plain": [
       "<IPython.core.display.HTML object>"
      ]
     },
     "metadata": {},
     "output_type": "display_data"
    },
    {
     "name": "stderr",
     "output_type": "stream",
     "text": [
      "Iteration 0: 100%|██████████| 50/50 [00:02<00:00, 20.62it/s, episode_return=50, return=26.900]\n",
      "Iteration 1: 100%|██████████| 50/50 [00:02<00:00, 20.12it/s, episode_return=100, return=50.700]\n",
      "Iteration 2: 100%|██████████| 50/50 [00:02<00:00, 21.07it/s, episode_return=150, return=53.200]\n",
      "Iteration 3: 100%|██████████| 50/50 [00:02<00:00, 18.80it/s, episode_return=200, return=67.300]\n",
      "Iteration 4: 100%|██████████| 50/50 [00:03<00:00, 14.94it/s, episode_return=250, return=84.000]\n",
      "Iteration 5: 100%|██████████| 50/50 [00:04<00:00, 12.23it/s, episode_return=300, return=99.500] \n",
      "Iteration 6: 100%|██████████| 50/50 [00:06<00:00,  7.54it/s, episode_return=350, return=158.100]\n",
      "Iteration 7: 100%|██████████| 50/50 [00:07<00:00,  6.88it/s, episode_return=400, return=163.400]\n",
      "Iteration 8: 100%|██████████| 50/50 [00:09<00:00,  5.38it/s, episode_return=450, return=253.300]\n",
      "Iteration 9: 100%|██████████| 50/50 [00:11<00:00,  4.38it/s, episode_return=500, return=339.700]\n"
     ]
    },
    {
     "data": {
      "application/vnd.jupyter.widget-view+json": {
       "model_id": "530d079987714466b89342360aa24c04",
       "version_major": 2,
       "version_minor": 0
      },
      "text/plain": [
       "VBox(children=(Label(value='0.001 MB of 0.007 MB uploaded\\r'), FloatProgress(value=0.17044833242208857, max=1.…"
      ]
     },
     "metadata": {},
     "output_type": "display_data"
    },
    {
     "data": {
      "text/html": [
       "<style>\n",
       "    table.wandb td:nth-child(1) { padding: 0 10px; text-align: left ; width: auto;} td:nth-child(2) {text-align: left ; width: 100%}\n",
       "    .wandb-row { display: flex; flex-direction: row; flex-wrap: wrap; justify-content: flex-start; width: 100% }\n",
       "    .wandb-col { display: flex; flex-direction: column; flex-basis: 100%; flex: 1; padding: 10px; }\n",
       "    </style>\n",
       "<div class=\"wandb-row\"><div class=\"wandb-col\"><h3>Run history:</h3><br/><table class=\"wandb\"><tr><td>regret</td><td>▁</td></tr></table><br/></div><div class=\"wandb-col\"><h3>Run summary:</h3><br/><table class=\"wandb\"><tr><td>regret</td><td>51844.9123</td></tr></table><br/></div></div>"
      ],
      "text/plain": [
       "<IPython.core.display.HTML object>"
      ]
     },
     "metadata": {},
     "output_type": "display_data"
    },
    {
     "data": {
      "text/html": [
       " View run <strong style=\"color:#cdcd00\">glorious-sweep-8</strong> at: <a href='https://wandb.ai/rl_shobhith/uncategorized/runs/pcuueutx/workspace' target=\"_blank\">https://wandb.ai/rl_shobhith/uncategorized/runs/pcuueutx/workspace</a><br/>Synced 5 W&B file(s), 0 media file(s), 0 artifact file(s) and 0 other file(s)"
      ],
      "text/plain": [
       "<IPython.core.display.HTML object>"
      ]
     },
     "metadata": {},
     "output_type": "display_data"
    },
    {
     "data": {
      "text/html": [
       "Find logs at: <code>.\\wandb\\run-20240401_203627-pcuueutx\\logs</code>"
      ],
      "text/plain": [
       "<IPython.core.display.HTML object>"
      ]
     },
     "metadata": {},
     "output_type": "display_data"
    },
    {
     "name": "stderr",
     "output_type": "stream",
     "text": [
      "\u001b[34m\u001b[1mwandb\u001b[0m: Agent Starting Run: n6fmqbjq with config:\n",
      "\u001b[34m\u001b[1mwandb\u001b[0m: \thidden_dim: 256\n",
      "\u001b[34m\u001b[1mwandb\u001b[0m: \tlearning_rate: 0.00012546741234751018\n",
      "Failed to detect the name of this notebook, you can set it manually with the WANDB_NOTEBOOK_NAME environment variable to enable code saving.\n"
     ]
    },
    {
     "data": {
      "text/html": [
       "Tracking run with wandb version 0.16.5"
      ],
      "text/plain": [
       "<IPython.core.display.HTML object>"
      ]
     },
     "metadata": {},
     "output_type": "display_data"
    },
    {
     "data": {
      "text/html": [
       "Run data is saved locally in <code>c:\\Users\\Shobhith Vadlamudi\\Desktop\\3rd Year\\SEM 6\\RL\\wandb\\run-20240401_203732-n6fmqbjq</code>"
      ],
      "text/plain": [
       "<IPython.core.display.HTML object>"
      ]
     },
     "metadata": {},
     "output_type": "display_data"
    },
    {
     "data": {
      "text/html": [
       "Syncing run <strong><a href='https://wandb.ai/rl_shobhith/uncategorized/runs/n6fmqbjq/workspace' target=\"_blank\">bright-sweep-9</a></strong> to <a href='https://wandb.ai/rl_shobhith/uncategorized' target=\"_blank\">Weights & Biases</a> (<a href='https://wandb.me/run' target=\"_blank\">docs</a>)<br/>Sweep page: <a href='https://wandb.ai/rl_shobhith/uncategorized/sweeps/ebygp3ca' target=\"_blank\">https://wandb.ai/rl_shobhith/uncategorized/sweeps/ebygp3ca</a>"
      ],
      "text/plain": [
       "<IPython.core.display.HTML object>"
      ]
     },
     "metadata": {},
     "output_type": "display_data"
    },
    {
     "data": {
      "text/html": [
       " View project at <a href='https://wandb.ai/rl_shobhith/uncategorized' target=\"_blank\">https://wandb.ai/rl_shobhith/uncategorized</a>"
      ],
      "text/plain": [
       "<IPython.core.display.HTML object>"
      ]
     },
     "metadata": {},
     "output_type": "display_data"
    },
    {
     "data": {
      "text/html": [
       " View sweep at <a href='https://wandb.ai/rl_shobhith/uncategorized/sweeps/ebygp3ca' target=\"_blank\">https://wandb.ai/rl_shobhith/uncategorized/sweeps/ebygp3ca</a>"
      ],
      "text/plain": [
       "<IPython.core.display.HTML object>"
      ]
     },
     "metadata": {},
     "output_type": "display_data"
    },
    {
     "data": {
      "text/html": [
       " View run at <a href='https://wandb.ai/rl_shobhith/uncategorized/runs/n6fmqbjq/workspace' target=\"_blank\">https://wandb.ai/rl_shobhith/uncategorized/runs/n6fmqbjq/workspace</a>"
      ],
      "text/plain": [
       "<IPython.core.display.HTML object>"
      ]
     },
     "metadata": {},
     "output_type": "display_data"
    },
    {
     "name": "stderr",
     "output_type": "stream",
     "text": [
      "Iteration 0: 100%|██████████| 50/50 [00:01<00:00, 40.66it/s, episode_return=50, return=23.400]\n",
      "Iteration 1: 100%|██████████| 50/50 [00:01<00:00, 43.32it/s, episode_return=100, return=17.500]\n",
      "Iteration 2: 100%|██████████| 50/50 [00:01<00:00, 42.18it/s, episode_return=150, return=19.800]\n",
      "Iteration 3: 100%|██████████| 50/50 [00:01<00:00, 39.40it/s, episode_return=200, return=31.600]\n",
      "Iteration 4: 100%|██████████| 50/50 [00:01<00:00, 31.85it/s, episode_return=250, return=40.000]\n",
      "Iteration 5: 100%|██████████| 50/50 [00:01<00:00, 29.55it/s, episode_return=300, return=33.300]\n",
      "Iteration 6: 100%|██████████| 50/50 [00:01<00:00, 27.97it/s, episode_return=350, return=42.200]\n",
      "Iteration 7: 100%|██████████| 50/50 [00:02<00:00, 22.43it/s, episode_return=400, return=52.200]\n",
      "Iteration 8: 100%|██████████| 50/50 [00:01<00:00, 25.08it/s, episode_return=450, return=43.700]\n",
      "Iteration 9: 100%|██████████| 50/50 [00:02<00:00, 20.37it/s, episode_return=500, return=47.300]\n"
     ]
    },
    {
     "data": {
      "application/vnd.jupyter.widget-view+json": {
       "model_id": "0e2e233765e242d4a29667bcf47714f7",
       "version_major": 2,
       "version_minor": 0
      },
      "text/plain": [
       "VBox(children=(Label(value='0.001 MB of 0.001 MB uploaded\\r'), FloatProgress(value=1.0, max=1.0)))"
      ]
     },
     "metadata": {},
     "output_type": "display_data"
    },
    {
     "data": {
      "text/html": [
       "<style>\n",
       "    table.wandb td:nth-child(1) { padding: 0 10px; text-align: left ; width: auto;} td:nth-child(2) {text-align: left ; width: 100%}\n",
       "    .wandb-row { display: flex; flex-direction: row; flex-wrap: wrap; justify-content: flex-start; width: 100% }\n",
       "    .wandb-col { display: flex; flex-direction: column; flex-basis: 100%; flex: 1; padding: 10px; }\n",
       "    </style>\n",
       "<div class=\"wandb-row\"><div class=\"wandb-col\"><h3>Run history:</h3><br/><table class=\"wandb\"><tr><td>regret</td><td>▁</td></tr></table><br/></div><div class=\"wandb-col\"><h3>Run summary:</h3><br/><table class=\"wandb\"><tr><td>regret</td><td>81886.44244</td></tr></table><br/></div></div>"
      ],
      "text/plain": [
       "<IPython.core.display.HTML object>"
      ]
     },
     "metadata": {},
     "output_type": "display_data"
    },
    {
     "data": {
      "text/html": [
       " View run <strong style=\"color:#cdcd00\">bright-sweep-9</strong> at: <a href='https://wandb.ai/rl_shobhith/uncategorized/runs/n6fmqbjq/workspace' target=\"_blank\">https://wandb.ai/rl_shobhith/uncategorized/runs/n6fmqbjq/workspace</a><br/>Synced 5 W&B file(s), 0 media file(s), 0 artifact file(s) and 0 other file(s)"
      ],
      "text/plain": [
       "<IPython.core.display.HTML object>"
      ]
     },
     "metadata": {},
     "output_type": "display_data"
    },
    {
     "data": {
      "text/html": [
       "Find logs at: <code>.\\wandb\\run-20240401_203732-n6fmqbjq\\logs</code>"
      ],
      "text/plain": [
       "<IPython.core.display.HTML object>"
      ]
     },
     "metadata": {},
     "output_type": "display_data"
    },
    {
     "name": "stderr",
     "output_type": "stream",
     "text": [
      "\u001b[34m\u001b[1mwandb\u001b[0m: Agent Starting Run: 8beo1nlz with config:\n",
      "\u001b[34m\u001b[1mwandb\u001b[0m: \thidden_dim: 64\n",
      "\u001b[34m\u001b[1mwandb\u001b[0m: \tlearning_rate: 0.0009753580355680552\n",
      "Failed to detect the name of this notebook, you can set it manually with the WANDB_NOTEBOOK_NAME environment variable to enable code saving.\n"
     ]
    },
    {
     "data": {
      "text/html": [
       "Tracking run with wandb version 0.16.5"
      ],
      "text/plain": [
       "<IPython.core.display.HTML object>"
      ]
     },
     "metadata": {},
     "output_type": "display_data"
    },
    {
     "data": {
      "text/html": [
       "Run data is saved locally in <code>c:\\Users\\Shobhith Vadlamudi\\Desktop\\3rd Year\\SEM 6\\RL\\wandb\\run-20240401_203759-8beo1nlz</code>"
      ],
      "text/plain": [
       "<IPython.core.display.HTML object>"
      ]
     },
     "metadata": {},
     "output_type": "display_data"
    },
    {
     "data": {
      "text/html": [
       "Syncing run <strong><a href='https://wandb.ai/rl_shobhith/uncategorized/runs/8beo1nlz/workspace' target=\"_blank\">vivid-sweep-10</a></strong> to <a href='https://wandb.ai/rl_shobhith/uncategorized' target=\"_blank\">Weights & Biases</a> (<a href='https://wandb.me/run' target=\"_blank\">docs</a>)<br/>Sweep page: <a href='https://wandb.ai/rl_shobhith/uncategorized/sweeps/ebygp3ca' target=\"_blank\">https://wandb.ai/rl_shobhith/uncategorized/sweeps/ebygp3ca</a>"
      ],
      "text/plain": [
       "<IPython.core.display.HTML object>"
      ]
     },
     "metadata": {},
     "output_type": "display_data"
    },
    {
     "data": {
      "text/html": [
       " View project at <a href='https://wandb.ai/rl_shobhith/uncategorized' target=\"_blank\">https://wandb.ai/rl_shobhith/uncategorized</a>"
      ],
      "text/plain": [
       "<IPython.core.display.HTML object>"
      ]
     },
     "metadata": {},
     "output_type": "display_data"
    },
    {
     "data": {
      "text/html": [
       " View sweep at <a href='https://wandb.ai/rl_shobhith/uncategorized/sweeps/ebygp3ca' target=\"_blank\">https://wandb.ai/rl_shobhith/uncategorized/sweeps/ebygp3ca</a>"
      ],
      "text/plain": [
       "<IPython.core.display.HTML object>"
      ]
     },
     "metadata": {},
     "output_type": "display_data"
    },
    {
     "data": {
      "text/html": [
       " View run at <a href='https://wandb.ai/rl_shobhith/uncategorized/runs/8beo1nlz/workspace' target=\"_blank\">https://wandb.ai/rl_shobhith/uncategorized/runs/8beo1nlz/workspace</a>"
      ],
      "text/plain": [
       "<IPython.core.display.HTML object>"
      ]
     },
     "metadata": {},
     "output_type": "display_data"
    },
    {
     "name": "stderr",
     "output_type": "stream",
     "text": [
      "Iteration 0: 100%|██████████| 50/50 [00:01<00:00, 40.82it/s, episode_return=50, return=37.700]\n",
      "Iteration 1: 100%|██████████| 50/50 [00:01<00:00, 39.53it/s, episode_return=100, return=36.800]\n",
      "Iteration 2: 100%|██████████| 50/50 [00:01<00:00, 31.03it/s, episode_return=150, return=43.900]\n",
      "Iteration 3: 100%|██████████| 50/50 [00:01<00:00, 27.05it/s, episode_return=200, return=37.700]\n",
      "Iteration 4: 100%|██████████| 50/50 [00:02<00:00, 22.69it/s, episode_return=250, return=59.300]\n",
      "Iteration 5: 100%|██████████| 50/50 [00:03<00:00, 16.34it/s, episode_return=300, return=89.000]\n",
      "Iteration 6: 100%|██████████| 50/50 [00:04<00:00, 10.44it/s, episode_return=350, return=184.200]\n",
      "Iteration 7: 100%|██████████| 50/50 [00:06<00:00,  8.09it/s, episode_return=400, return=240.400]\n",
      "Iteration 8: 100%|██████████| 50/50 [00:06<00:00,  7.32it/s, episode_return=450, return=188.600]\n",
      "Iteration 9: 100%|██████████| 50/50 [00:07<00:00,  7.02it/s, episode_return=500, return=172.500]\n"
     ]
    },
    {
     "data": {
      "application/vnd.jupyter.widget-view+json": {
       "model_id": "1cecacdbad644e4ea8849c2b92c8d422",
       "version_major": 2,
       "version_minor": 0
      },
      "text/plain": [
       "VBox(children=(Label(value='0.001 MB of 0.001 MB uploaded\\r'), FloatProgress(value=1.0, max=1.0)))"
      ]
     },
     "metadata": {},
     "output_type": "display_data"
    },
    {
     "data": {
      "text/html": [
       "<style>\n",
       "    table.wandb td:nth-child(1) { padding: 0 10px; text-align: left ; width: auto;} td:nth-child(2) {text-align: left ; width: 100%}\n",
       "    .wandb-row { display: flex; flex-direction: row; flex-wrap: wrap; justify-content: flex-start; width: 100% }\n",
       "    .wandb-col { display: flex; flex-direction: column; flex-basis: 100%; flex: 1; padding: 10px; }\n",
       "    </style>\n",
       "<div class=\"wandb-row\"><div class=\"wandb-col\"><h3>Run history:</h3><br/><table class=\"wandb\"><tr><td>regret</td><td>▁</td></tr></table><br/></div><div class=\"wandb-col\"><h3>Run summary:</h3><br/><table class=\"wandb\"><tr><td>regret</td><td>55365.14919</td></tr></table><br/></div></div>"
      ],
      "text/plain": [
       "<IPython.core.display.HTML object>"
      ]
     },
     "metadata": {},
     "output_type": "display_data"
    },
    {
     "data": {
      "text/html": [
       " View run <strong style=\"color:#cdcd00\">vivid-sweep-10</strong> at: <a href='https://wandb.ai/rl_shobhith/uncategorized/runs/8beo1nlz/workspace' target=\"_blank\">https://wandb.ai/rl_shobhith/uncategorized/runs/8beo1nlz/workspace</a><br/>Synced 5 W&B file(s), 0 media file(s), 0 artifact file(s) and 0 other file(s)"
      ],
      "text/plain": [
       "<IPython.core.display.HTML object>"
      ]
     },
     "metadata": {},
     "output_type": "display_data"
    },
    {
     "data": {
      "text/html": [
       "Find logs at: <code>.\\wandb\\run-20240401_203759-8beo1nlz\\logs</code>"
      ],
      "text/plain": [
       "<IPython.core.display.HTML object>"
      ]
     },
     "metadata": {},
     "output_type": "display_data"
    },
    {
     "name": "stderr",
     "output_type": "stream",
     "text": [
      "\u001b[34m\u001b[1mwandb\u001b[0m: Agent Starting Run: tu9584oc with config:\n",
      "\u001b[34m\u001b[1mwandb\u001b[0m: \thidden_dim: 128\n",
      "\u001b[34m\u001b[1mwandb\u001b[0m: \tlearning_rate: 0.00054459266979986\n",
      "Failed to detect the name of this notebook, you can set it manually with the WANDB_NOTEBOOK_NAME environment variable to enable code saving.\n"
     ]
    },
    {
     "data": {
      "text/html": [
       "Tracking run with wandb version 0.16.5"
      ],
      "text/plain": [
       "<IPython.core.display.HTML object>"
      ]
     },
     "metadata": {},
     "output_type": "display_data"
    },
    {
     "data": {
      "text/html": [
       "Run data is saved locally in <code>c:\\Users\\Shobhith Vadlamudi\\Desktop\\3rd Year\\SEM 6\\RL\\wandb\\run-20240401_203847-tu9584oc</code>"
      ],
      "text/plain": [
       "<IPython.core.display.HTML object>"
      ]
     },
     "metadata": {},
     "output_type": "display_data"
    },
    {
     "data": {
      "text/html": [
       "Syncing run <strong><a href='https://wandb.ai/rl_shobhith/uncategorized/runs/tu9584oc/workspace' target=\"_blank\">astral-sweep-11</a></strong> to <a href='https://wandb.ai/rl_shobhith/uncategorized' target=\"_blank\">Weights & Biases</a> (<a href='https://wandb.me/run' target=\"_blank\">docs</a>)<br/>Sweep page: <a href='https://wandb.ai/rl_shobhith/uncategorized/sweeps/ebygp3ca' target=\"_blank\">https://wandb.ai/rl_shobhith/uncategorized/sweeps/ebygp3ca</a>"
      ],
      "text/plain": [
       "<IPython.core.display.HTML object>"
      ]
     },
     "metadata": {},
     "output_type": "display_data"
    },
    {
     "data": {
      "text/html": [
       " View project at <a href='https://wandb.ai/rl_shobhith/uncategorized' target=\"_blank\">https://wandb.ai/rl_shobhith/uncategorized</a>"
      ],
      "text/plain": [
       "<IPython.core.display.HTML object>"
      ]
     },
     "metadata": {},
     "output_type": "display_data"
    },
    {
     "data": {
      "text/html": [
       " View sweep at <a href='https://wandb.ai/rl_shobhith/uncategorized/sweeps/ebygp3ca' target=\"_blank\">https://wandb.ai/rl_shobhith/uncategorized/sweeps/ebygp3ca</a>"
      ],
      "text/plain": [
       "<IPython.core.display.HTML object>"
      ]
     },
     "metadata": {},
     "output_type": "display_data"
    },
    {
     "data": {
      "text/html": [
       " View run at <a href='https://wandb.ai/rl_shobhith/uncategorized/runs/tu9584oc/workspace' target=\"_blank\">https://wandb.ai/rl_shobhith/uncategorized/runs/tu9584oc/workspace</a>"
      ],
      "text/plain": [
       "<IPython.core.display.HTML object>"
      ]
     },
     "metadata": {},
     "output_type": "display_data"
    },
    {
     "name": "stderr",
     "output_type": "stream",
     "text": [
      "Iteration 0: 100%|██████████| 50/50 [00:01<00:00, 43.30it/s, episode_return=50, return=32.700]\n",
      "Iteration 1: 100%|██████████| 50/50 [00:01<00:00, 40.83it/s, episode_return=100, return=33.300]\n",
      "Iteration 2: 100%|██████████| 50/50 [00:01<00:00, 35.39it/s, episode_return=150, return=33.200]\n",
      "Iteration 3: 100%|██████████| 50/50 [00:01<00:00, 28.85it/s, episode_return=200, return=44.700]\n",
      "Iteration 4: 100%|██████████| 50/50 [00:02<00:00, 24.99it/s, episode_return=250, return=48.000]\n",
      "Iteration 5: 100%|██████████| 50/50 [00:02<00:00, 18.33it/s, episode_return=300, return=92.300]\n",
      "Iteration 6: 100%|██████████| 50/50 [00:04<00:00, 11.27it/s, episode_return=350, return=137.000]\n",
      "Iteration 7: 100%|██████████| 50/50 [00:05<00:00,  8.48it/s, episode_return=400, return=157.200]\n",
      "Iteration 8: 100%|██████████| 50/50 [00:06<00:00,  7.44it/s, episode_return=450, return=234.900]\n",
      "Iteration 9: 100%|██████████| 50/50 [00:06<00:00,  8.04it/s, episode_return=500, return=155.700]\n"
     ]
    },
    {
     "data": {
      "application/vnd.jupyter.widget-view+json": {
       "model_id": "7cda54164a16420bab267581df0f35cd",
       "version_major": 2,
       "version_minor": 0
      },
      "text/plain": [
       "VBox(children=(Label(value='0.001 MB of 0.007 MB uploaded\\r'), FloatProgress(value=0.17065827288901053, max=1.…"
      ]
     },
     "metadata": {},
     "output_type": "display_data"
    },
    {
     "data": {
      "text/html": [
       "<style>\n",
       "    table.wandb td:nth-child(1) { padding: 0 10px; text-align: left ; width: auto;} td:nth-child(2) {text-align: left ; width: 100%}\n",
       "    .wandb-row { display: flex; flex-direction: row; flex-wrap: wrap; justify-content: flex-start; width: 100% }\n",
       "    .wandb-col { display: flex; flex-direction: column; flex-basis: 100%; flex: 1; padding: 10px; }\n",
       "    </style>\n",
       "<div class=\"wandb-row\"><div class=\"wandb-col\"><h3>Run history:</h3><br/><table class=\"wandb\"><tr><td>regret</td><td>▁</td></tr></table><br/></div><div class=\"wandb-col\"><h3>Run summary:</h3><br/><table class=\"wandb\"><tr><td>regret</td><td>60999.89139</td></tr></table><br/></div></div>"
      ],
      "text/plain": [
       "<IPython.core.display.HTML object>"
      ]
     },
     "metadata": {},
     "output_type": "display_data"
    },
    {
     "data": {
      "text/html": [
       " View run <strong style=\"color:#cdcd00\">astral-sweep-11</strong> at: <a href='https://wandb.ai/rl_shobhith/uncategorized/runs/tu9584oc/workspace' target=\"_blank\">https://wandb.ai/rl_shobhith/uncategorized/runs/tu9584oc/workspace</a><br/>Synced 5 W&B file(s), 0 media file(s), 0 artifact file(s) and 0 other file(s)"
      ],
      "text/plain": [
       "<IPython.core.display.HTML object>"
      ]
     },
     "metadata": {},
     "output_type": "display_data"
    },
    {
     "data": {
      "text/html": [
       "Find logs at: <code>.\\wandb\\run-20240401_203847-tu9584oc\\logs</code>"
      ],
      "text/plain": [
       "<IPython.core.display.HTML object>"
      ]
     },
     "metadata": {},
     "output_type": "display_data"
    },
    {
     "name": "stderr",
     "output_type": "stream",
     "text": [
      "\u001b[34m\u001b[1mwandb\u001b[0m: Agent Starting Run: lxr88e29 with config:\n",
      "\u001b[34m\u001b[1mwandb\u001b[0m: \thidden_dim: 128\n",
      "\u001b[34m\u001b[1mwandb\u001b[0m: \tlearning_rate: 0.0002257789115525846\n",
      "Failed to detect the name of this notebook, you can set it manually with the WANDB_NOTEBOOK_NAME environment variable to enable code saving.\n"
     ]
    },
    {
     "data": {
      "application/vnd.jupyter.widget-view+json": {
       "model_id": "00581d6a58004cb1bd04442d20e665ad",
       "version_major": 2,
       "version_minor": 0
      },
      "text/plain": [
       "VBox(children=(Label(value='Waiting for wandb.init()...\\r'), FloatProgress(value=0.011288888888925108, max=1.0…"
      ]
     },
     "metadata": {},
     "output_type": "display_data"
    },
    {
     "data": {
      "text/html": [
       "Tracking run with wandb version 0.16.5"
      ],
      "text/plain": [
       "<IPython.core.display.HTML object>"
      ]
     },
     "metadata": {},
     "output_type": "display_data"
    },
    {
     "data": {
      "text/html": [
       "Run data is saved locally in <code>c:\\Users\\Shobhith Vadlamudi\\Desktop\\3rd Year\\SEM 6\\RL\\wandb\\run-20240401_203930-lxr88e29</code>"
      ],
      "text/plain": [
       "<IPython.core.display.HTML object>"
      ]
     },
     "metadata": {},
     "output_type": "display_data"
    },
    {
     "data": {
      "text/html": [
       "Syncing run <strong><a href='https://wandb.ai/rl_shobhith/uncategorized/runs/lxr88e29/workspace' target=\"_blank\">silver-sweep-12</a></strong> to <a href='https://wandb.ai/rl_shobhith/uncategorized' target=\"_blank\">Weights & Biases</a> (<a href='https://wandb.me/run' target=\"_blank\">docs</a>)<br/>Sweep page: <a href='https://wandb.ai/rl_shobhith/uncategorized/sweeps/ebygp3ca' target=\"_blank\">https://wandb.ai/rl_shobhith/uncategorized/sweeps/ebygp3ca</a>"
      ],
      "text/plain": [
       "<IPython.core.display.HTML object>"
      ]
     },
     "metadata": {},
     "output_type": "display_data"
    },
    {
     "data": {
      "text/html": [
       " View project at <a href='https://wandb.ai/rl_shobhith/uncategorized' target=\"_blank\">https://wandb.ai/rl_shobhith/uncategorized</a>"
      ],
      "text/plain": [
       "<IPython.core.display.HTML object>"
      ]
     },
     "metadata": {},
     "output_type": "display_data"
    },
    {
     "data": {
      "text/html": [
       " View sweep at <a href='https://wandb.ai/rl_shobhith/uncategorized/sweeps/ebygp3ca' target=\"_blank\">https://wandb.ai/rl_shobhith/uncategorized/sweeps/ebygp3ca</a>"
      ],
      "text/plain": [
       "<IPython.core.display.HTML object>"
      ]
     },
     "metadata": {},
     "output_type": "display_data"
    },
    {
     "data": {
      "text/html": [
       " View run at <a href='https://wandb.ai/rl_shobhith/uncategorized/runs/lxr88e29/workspace' target=\"_blank\">https://wandb.ai/rl_shobhith/uncategorized/runs/lxr88e29/workspace</a>"
      ],
      "text/plain": [
       "<IPython.core.display.HTML object>"
      ]
     },
     "metadata": {},
     "output_type": "display_data"
    },
    {
     "name": "stderr",
     "output_type": "stream",
     "text": [
      "Iteration 0: 100%|██████████| 50/50 [00:01<00:00, 45.96it/s, episode_return=50, return=23.100]\n",
      "Iteration 1: 100%|██████████| 50/50 [00:00<00:00, 51.85it/s, episode_return=100, return=25.200]\n",
      "Iteration 2: 100%|██████████| 50/50 [00:00<00:00, 54.74it/s, episode_return=150, return=23.000]\n",
      "Iteration 3: 100%|██████████| 50/50 [00:01<00:00, 43.78it/s, episode_return=200, return=26.700]\n",
      "Iteration 4: 100%|██████████| 50/50 [00:01<00:00, 46.60it/s, episode_return=250, return=27.600]\n",
      "Iteration 5: 100%|██████████| 50/50 [00:01<00:00, 43.82it/s, episode_return=300, return=27.600]\n",
      "Iteration 6: 100%|██████████| 50/50 [00:01<00:00, 40.17it/s, episode_return=350, return=29.600]\n",
      "Iteration 7: 100%|██████████| 50/50 [00:01<00:00, 36.41it/s, episode_return=400, return=51.500]\n",
      "Iteration 8: 100%|██████████| 50/50 [00:01<00:00, 30.73it/s, episode_return=450, return=37.900]\n",
      "Iteration 9: 100%|██████████| 50/50 [00:01<00:00, 28.16it/s, episode_return=500, return=45.300]\n"
     ]
    },
    {
     "data": {
      "application/vnd.jupyter.widget-view+json": {
       "model_id": "d8b31122d9194babbaf59d30768555ac",
       "version_major": 2,
       "version_minor": 0
      },
      "text/plain": [
       "VBox(children=(Label(value='0.001 MB of 0.001 MB uploaded\\r'), FloatProgress(value=1.0, max=1.0)))"
      ]
     },
     "metadata": {},
     "output_type": "display_data"
    },
    {
     "data": {
      "text/html": [
       "<style>\n",
       "    table.wandb td:nth-child(1) { padding: 0 10px; text-align: left ; width: auto;} td:nth-child(2) {text-align: left ; width: 100%}\n",
       "    .wandb-row { display: flex; flex-direction: row; flex-wrap: wrap; justify-content: flex-start; width: 100% }\n",
       "    .wandb-col { display: flex; flex-direction: column; flex-basis: 100%; flex: 1; padding: 10px; }\n",
       "    </style>\n",
       "<div class=\"wandb-row\"><div class=\"wandb-col\"><h3>Run history:</h3><br/><table class=\"wandb\"><tr><td>regret</td><td>▁</td></tr></table><br/></div><div class=\"wandb-col\"><h3>Run summary:</h3><br/><table class=\"wandb\"><tr><td>regret</td><td>83205.57987</td></tr></table><br/></div></div>"
      ],
      "text/plain": [
       "<IPython.core.display.HTML object>"
      ]
     },
     "metadata": {},
     "output_type": "display_data"
    },
    {
     "data": {
      "text/html": [
       " View run <strong style=\"color:#cdcd00\">silver-sweep-12</strong> at: <a href='https://wandb.ai/rl_shobhith/uncategorized/runs/lxr88e29/workspace' target=\"_blank\">https://wandb.ai/rl_shobhith/uncategorized/runs/lxr88e29/workspace</a><br/>Synced 5 W&B file(s), 0 media file(s), 0 artifact file(s) and 0 other file(s)"
      ],
      "text/plain": [
       "<IPython.core.display.HTML object>"
      ]
     },
     "metadata": {},
     "output_type": "display_data"
    },
    {
     "data": {
      "text/html": [
       "Find logs at: <code>.\\wandb\\run-20240401_203930-lxr88e29\\logs</code>"
      ],
      "text/plain": [
       "<IPython.core.display.HTML object>"
      ]
     },
     "metadata": {},
     "output_type": "display_data"
    },
    {
     "name": "stderr",
     "output_type": "stream",
     "text": [
      "\u001b[34m\u001b[1mwandb\u001b[0m: Agent Starting Run: j7e08wzd with config:\n",
      "\u001b[34m\u001b[1mwandb\u001b[0m: \thidden_dim: 256\n",
      "\u001b[34m\u001b[1mwandb\u001b[0m: \tlearning_rate: 0.0008488933458338834\n",
      "Failed to detect the name of this notebook, you can set it manually with the WANDB_NOTEBOOK_NAME environment variable to enable code saving.\n"
     ]
    },
    {
     "data": {
      "text/html": [
       "Tracking run with wandb version 0.16.5"
      ],
      "text/plain": [
       "<IPython.core.display.HTML object>"
      ]
     },
     "metadata": {},
     "output_type": "display_data"
    },
    {
     "data": {
      "text/html": [
       "Run data is saved locally in <code>c:\\Users\\Shobhith Vadlamudi\\Desktop\\3rd Year\\SEM 6\\RL\\wandb\\run-20240401_203957-j7e08wzd</code>"
      ],
      "text/plain": [
       "<IPython.core.display.HTML object>"
      ]
     },
     "metadata": {},
     "output_type": "display_data"
    },
    {
     "data": {
      "text/html": [
       "Syncing run <strong><a href='https://wandb.ai/rl_shobhith/uncategorized/runs/j7e08wzd/workspace' target=\"_blank\">dazzling-sweep-13</a></strong> to <a href='https://wandb.ai/rl_shobhith/uncategorized' target=\"_blank\">Weights & Biases</a> (<a href='https://wandb.me/run' target=\"_blank\">docs</a>)<br/>Sweep page: <a href='https://wandb.ai/rl_shobhith/uncategorized/sweeps/ebygp3ca' target=\"_blank\">https://wandb.ai/rl_shobhith/uncategorized/sweeps/ebygp3ca</a>"
      ],
      "text/plain": [
       "<IPython.core.display.HTML object>"
      ]
     },
     "metadata": {},
     "output_type": "display_data"
    },
    {
     "data": {
      "text/html": [
       " View project at <a href='https://wandb.ai/rl_shobhith/uncategorized' target=\"_blank\">https://wandb.ai/rl_shobhith/uncategorized</a>"
      ],
      "text/plain": [
       "<IPython.core.display.HTML object>"
      ]
     },
     "metadata": {},
     "output_type": "display_data"
    },
    {
     "data": {
      "text/html": [
       " View sweep at <a href='https://wandb.ai/rl_shobhith/uncategorized/sweeps/ebygp3ca' target=\"_blank\">https://wandb.ai/rl_shobhith/uncategorized/sweeps/ebygp3ca</a>"
      ],
      "text/plain": [
       "<IPython.core.display.HTML object>"
      ]
     },
     "metadata": {},
     "output_type": "display_data"
    },
    {
     "data": {
      "text/html": [
       " View run at <a href='https://wandb.ai/rl_shobhith/uncategorized/runs/j7e08wzd/workspace' target=\"_blank\">https://wandb.ai/rl_shobhith/uncategorized/runs/j7e08wzd/workspace</a>"
      ],
      "text/plain": [
       "<IPython.core.display.HTML object>"
      ]
     },
     "metadata": {},
     "output_type": "display_data"
    },
    {
     "name": "stderr",
     "output_type": "stream",
     "text": [
      "Iteration 0: 100%|██████████| 50/50 [00:01<00:00, 28.96it/s, episode_return=50, return=42.700]\n",
      "Iteration 1: 100%|██████████| 50/50 [00:02<00:00, 20.46it/s, episode_return=100, return=70.800]\n",
      "Iteration 2: 100%|██████████| 50/50 [00:03<00:00, 15.52it/s, episode_return=150, return=81.400]\n",
      "Iteration 3: 100%|██████████| 50/50 [00:05<00:00,  8.51it/s, episode_return=200, return=146.700]\n",
      "Iteration 4: 100%|██████████| 50/50 [00:07<00:00,  6.52it/s, episode_return=250, return=202.200]\n",
      "Iteration 5: 100%|██████████| 50/50 [00:11<00:00,  4.45it/s, episode_return=300, return=275.900]\n",
      "Iteration 6: 100%|██████████| 50/50 [00:10<00:00,  4.62it/s, episode_return=350, return=245.200]\n",
      "Iteration 7: 100%|██████████| 50/50 [00:07<00:00,  6.60it/s, episode_return=400, return=127.300]\n",
      "Iteration 8: 100%|██████████| 50/50 [00:06<00:00,  7.45it/s, episode_return=450, return=187.000]\n",
      "Iteration 9: 100%|██████████| 50/50 [00:12<00:00,  3.86it/s, episode_return=500, return=274.800]\n"
     ]
    },
    {
     "data": {
      "application/vnd.jupyter.widget-view+json": {
       "model_id": "96950f005b3649b6b137cc15c51fe95d",
       "version_major": 2,
       "version_minor": 0
      },
      "text/plain": [
       "VBox(children=(Label(value='0.001 MB of 0.001 MB uploaded\\r'), FloatProgress(value=1.0, max=1.0)))"
      ]
     },
     "metadata": {},
     "output_type": "display_data"
    },
    {
     "data": {
      "text/html": [
       "<style>\n",
       "    table.wandb td:nth-child(1) { padding: 0 10px; text-align: left ; width: auto;} td:nth-child(2) {text-align: left ; width: 100%}\n",
       "    .wandb-row { display: flex; flex-direction: row; flex-wrap: wrap; justify-content: flex-start; width: 100% }\n",
       "    .wandb-col { display: flex; flex-direction: column; flex-basis: 100%; flex: 1; padding: 10px; }\n",
       "    </style>\n",
       "<div class=\"wandb-row\"><div class=\"wandb-col\"><h3>Run history:</h3><br/><table class=\"wandb\"><tr><td>regret</td><td>▁</td></tr></table><br/></div><div class=\"wandb-col\"><h3>Run summary:</h3><br/><table class=\"wandb\"><tr><td>regret</td><td>35361.51433</td></tr></table><br/></div></div>"
      ],
      "text/plain": [
       "<IPython.core.display.HTML object>"
      ]
     },
     "metadata": {},
     "output_type": "display_data"
    },
    {
     "data": {
      "text/html": [
       " View run <strong style=\"color:#cdcd00\">dazzling-sweep-13</strong> at: <a href='https://wandb.ai/rl_shobhith/uncategorized/runs/j7e08wzd/workspace' target=\"_blank\">https://wandb.ai/rl_shobhith/uncategorized/runs/j7e08wzd/workspace</a><br/>Synced 5 W&B file(s), 0 media file(s), 0 artifact file(s) and 0 other file(s)"
      ],
      "text/plain": [
       "<IPython.core.display.HTML object>"
      ]
     },
     "metadata": {},
     "output_type": "display_data"
    },
    {
     "data": {
      "text/html": [
       "Find logs at: <code>.\\wandb\\run-20240401_203957-j7e08wzd\\logs</code>"
      ],
      "text/plain": [
       "<IPython.core.display.HTML object>"
      ]
     },
     "metadata": {},
     "output_type": "display_data"
    },
    {
     "name": "stderr",
     "output_type": "stream",
     "text": [
      "\u001b[34m\u001b[1mwandb\u001b[0m: Agent Starting Run: s3fklq73 with config:\n",
      "\u001b[34m\u001b[1mwandb\u001b[0m: \thidden_dim: 256\n",
      "\u001b[34m\u001b[1mwandb\u001b[0m: \tlearning_rate: 0.0005827739253038395\n",
      "Failed to detect the name of this notebook, you can set it manually with the WANDB_NOTEBOOK_NAME environment variable to enable code saving.\n"
     ]
    },
    {
     "data": {
      "text/html": [
       "Tracking run with wandb version 0.16.5"
      ],
      "text/plain": [
       "<IPython.core.display.HTML object>"
      ]
     },
     "metadata": {},
     "output_type": "display_data"
    },
    {
     "data": {
      "text/html": [
       "Run data is saved locally in <code>c:\\Users\\Shobhith Vadlamudi\\Desktop\\3rd Year\\SEM 6\\RL\\wandb\\run-20240401_204122-s3fklq73</code>"
      ],
      "text/plain": [
       "<IPython.core.display.HTML object>"
      ]
     },
     "metadata": {},
     "output_type": "display_data"
    },
    {
     "data": {
      "text/html": [
       "Syncing run <strong><a href='https://wandb.ai/rl_shobhith/uncategorized/runs/s3fklq73/workspace' target=\"_blank\">copper-sweep-14</a></strong> to <a href='https://wandb.ai/rl_shobhith/uncategorized' target=\"_blank\">Weights & Biases</a> (<a href='https://wandb.me/run' target=\"_blank\">docs</a>)<br/>Sweep page: <a href='https://wandb.ai/rl_shobhith/uncategorized/sweeps/ebygp3ca' target=\"_blank\">https://wandb.ai/rl_shobhith/uncategorized/sweeps/ebygp3ca</a>"
      ],
      "text/plain": [
       "<IPython.core.display.HTML object>"
      ]
     },
     "metadata": {},
     "output_type": "display_data"
    },
    {
     "data": {
      "text/html": [
       " View project at <a href='https://wandb.ai/rl_shobhith/uncategorized' target=\"_blank\">https://wandb.ai/rl_shobhith/uncategorized</a>"
      ],
      "text/plain": [
       "<IPython.core.display.HTML object>"
      ]
     },
     "metadata": {},
     "output_type": "display_data"
    },
    {
     "data": {
      "text/html": [
       " View sweep at <a href='https://wandb.ai/rl_shobhith/uncategorized/sweeps/ebygp3ca' target=\"_blank\">https://wandb.ai/rl_shobhith/uncategorized/sweeps/ebygp3ca</a>"
      ],
      "text/plain": [
       "<IPython.core.display.HTML object>"
      ]
     },
     "metadata": {},
     "output_type": "display_data"
    },
    {
     "data": {
      "text/html": [
       " View run at <a href='https://wandb.ai/rl_shobhith/uncategorized/runs/s3fklq73/workspace' target=\"_blank\">https://wandb.ai/rl_shobhith/uncategorized/runs/s3fklq73/workspace</a>"
      ],
      "text/plain": [
       "<IPython.core.display.HTML object>"
      ]
     },
     "metadata": {},
     "output_type": "display_data"
    },
    {
     "name": "stderr",
     "output_type": "stream",
     "text": [
      "Iteration 0: 100%|██████████| 50/50 [00:01<00:00, 39.57it/s, episode_return=50, return=23.000]\n",
      "Iteration 1: 100%|██████████| 50/50 [00:01<00:00, 29.76it/s, episode_return=100, return=48.000]\n",
      "Iteration 2: 100%|██████████| 50/50 [00:02<00:00, 23.21it/s, episode_return=150, return=56.600]\n",
      "Iteration 3: 100%|██████████| 50/50 [00:03<00:00, 13.24it/s, episode_return=200, return=104.700]\n",
      "Iteration 4: 100%|██████████| 50/50 [00:04<00:00, 10.53it/s, episode_return=250, return=101.600]\n",
      "Iteration 5: 100%|██████████| 50/50 [00:05<00:00,  8.65it/s, episode_return=300, return=139.200]\n",
      "Iteration 6: 100%|██████████| 50/50 [00:09<00:00,  5.37it/s, episode_return=350, return=254.400]\n",
      "Iteration 7: 100%|██████████| 50/50 [00:11<00:00,  4.53it/s, episode_return=400, return=315.900]\n",
      "Iteration 8: 100%|██████████| 50/50 [00:11<00:00,  4.36it/s, episode_return=450, return=238.600]\n",
      "Iteration 9: 100%|██████████| 50/50 [00:12<00:00,  3.85it/s, episode_return=500, return=269.600]\n"
     ]
    },
    {
     "data": {
      "application/vnd.jupyter.widget-view+json": {
       "model_id": "572ad4837e89429188a3a4c5b2606193",
       "version_major": 2,
       "version_minor": 0
      },
      "text/plain": [
       "VBox(children=(Label(value='0.001 MB of 0.001 MB uploaded\\r'), FloatProgress(value=1.0, max=1.0)))"
      ]
     },
     "metadata": {},
     "output_type": "display_data"
    },
    {
     "data": {
      "text/html": [
       "<style>\n",
       "    table.wandb td:nth-child(1) { padding: 0 10px; text-align: left ; width: auto;} td:nth-child(2) {text-align: left ; width: 100%}\n",
       "    .wandb-row { display: flex; flex-direction: row; flex-wrap: wrap; justify-content: flex-start; width: 100% }\n",
       "    .wandb-col { display: flex; flex-direction: column; flex-basis: 100%; flex: 1; padding: 10px; }\n",
       "    </style>\n",
       "<div class=\"wandb-row\"><div class=\"wandb-col\"><h3>Run history:</h3><br/><table class=\"wandb\"><tr><td>regret</td><td>▁</td></tr></table><br/></div><div class=\"wandb-col\"><h3>Run summary:</h3><br/><table class=\"wandb\"><tr><td>regret</td><td>46887.04423</td></tr></table><br/></div></div>"
      ],
      "text/plain": [
       "<IPython.core.display.HTML object>"
      ]
     },
     "metadata": {},
     "output_type": "display_data"
    },
    {
     "data": {
      "text/html": [
       " View run <strong style=\"color:#cdcd00\">copper-sweep-14</strong> at: <a href='https://wandb.ai/rl_shobhith/uncategorized/runs/s3fklq73/workspace' target=\"_blank\">https://wandb.ai/rl_shobhith/uncategorized/runs/s3fklq73/workspace</a><br/>Synced 5 W&B file(s), 0 media file(s), 0 artifact file(s) and 0 other file(s)"
      ],
      "text/plain": [
       "<IPython.core.display.HTML object>"
      ]
     },
     "metadata": {},
     "output_type": "display_data"
    },
    {
     "data": {
      "text/html": [
       "Find logs at: <code>.\\wandb\\run-20240401_204122-s3fklq73\\logs</code>"
      ],
      "text/plain": [
       "<IPython.core.display.HTML object>"
      ]
     },
     "metadata": {},
     "output_type": "display_data"
    },
    {
     "name": "stderr",
     "output_type": "stream",
     "text": [
      "\u001b[34m\u001b[1mwandb\u001b[0m: Agent Starting Run: t0497yol with config:\n",
      "\u001b[34m\u001b[1mwandb\u001b[0m: \thidden_dim: 128\n",
      "\u001b[34m\u001b[1mwandb\u001b[0m: \tlearning_rate: 0.0007238868973418295\n",
      "Failed to detect the name of this notebook, you can set it manually with the WANDB_NOTEBOOK_NAME environment variable to enable code saving.\n"
     ]
    },
    {
     "data": {
      "text/html": [
       "Tracking run with wandb version 0.16.5"
      ],
      "text/plain": [
       "<IPython.core.display.HTML object>"
      ]
     },
     "metadata": {},
     "output_type": "display_data"
    },
    {
     "data": {
      "text/html": [
       "Run data is saved locally in <code>c:\\Users\\Shobhith Vadlamudi\\Desktop\\3rd Year\\SEM 6\\RL\\wandb\\run-20240401_204241-t0497yol</code>"
      ],
      "text/plain": [
       "<IPython.core.display.HTML object>"
      ]
     },
     "metadata": {},
     "output_type": "display_data"
    },
    {
     "data": {
      "text/html": [
       "Syncing run <strong><a href='https://wandb.ai/rl_shobhith/uncategorized/runs/t0497yol/workspace' target=\"_blank\">lyric-sweep-15</a></strong> to <a href='https://wandb.ai/rl_shobhith/uncategorized' target=\"_blank\">Weights & Biases</a> (<a href='https://wandb.me/run' target=\"_blank\">docs</a>)<br/>Sweep page: <a href='https://wandb.ai/rl_shobhith/uncategorized/sweeps/ebygp3ca' target=\"_blank\">https://wandb.ai/rl_shobhith/uncategorized/sweeps/ebygp3ca</a>"
      ],
      "text/plain": [
       "<IPython.core.display.HTML object>"
      ]
     },
     "metadata": {},
     "output_type": "display_data"
    },
    {
     "data": {
      "text/html": [
       " View project at <a href='https://wandb.ai/rl_shobhith/uncategorized' target=\"_blank\">https://wandb.ai/rl_shobhith/uncategorized</a>"
      ],
      "text/plain": [
       "<IPython.core.display.HTML object>"
      ]
     },
     "metadata": {},
     "output_type": "display_data"
    },
    {
     "data": {
      "text/html": [
       " View sweep at <a href='https://wandb.ai/rl_shobhith/uncategorized/sweeps/ebygp3ca' target=\"_blank\">https://wandb.ai/rl_shobhith/uncategorized/sweeps/ebygp3ca</a>"
      ],
      "text/plain": [
       "<IPython.core.display.HTML object>"
      ]
     },
     "metadata": {},
     "output_type": "display_data"
    },
    {
     "data": {
      "text/html": [
       " View run at <a href='https://wandb.ai/rl_shobhith/uncategorized/runs/t0497yol/workspace' target=\"_blank\">https://wandb.ai/rl_shobhith/uncategorized/runs/t0497yol/workspace</a>"
      ],
      "text/plain": [
       "<IPython.core.display.HTML object>"
      ]
     },
     "metadata": {},
     "output_type": "display_data"
    },
    {
     "name": "stderr",
     "output_type": "stream",
     "text": [
      "Iteration 0: 100%|██████████| 50/50 [00:01<00:00, 44.10it/s, episode_return=50, return=22.600]\n",
      "Iteration 1: 100%|██████████| 50/50 [00:01<00:00, 32.70it/s, episode_return=100, return=36.500]\n",
      "Iteration 2: 100%|██████████| 50/50 [00:01<00:00, 28.93it/s, episode_return=150, return=49.000]\n",
      "Iteration 3: 100%|██████████| 50/50 [00:02<00:00, 24.16it/s, episode_return=200, return=62.600]\n",
      "Iteration 4: 100%|██████████| 50/50 [00:03<00:00, 16.66it/s, episode_return=250, return=69.400] \n",
      "Iteration 5: 100%|██████████| 50/50 [00:03<00:00, 13.32it/s, episode_return=300, return=100.600]\n",
      "Iteration 6: 100%|██████████| 50/50 [00:03<00:00, 15.37it/s, episode_return=350, return=94.600] \n",
      "Iteration 7: 100%|██████████| 50/50 [00:06<00:00,  7.32it/s, episode_return=400, return=174.400]\n",
      "Iteration 8: 100%|██████████| 50/50 [00:06<00:00,  7.87it/s, episode_return=450, return=138.500]\n",
      "Iteration 9: 100%|██████████| 50/50 [00:08<00:00,  6.18it/s, episode_return=500, return=246.300]\n"
     ]
    },
    {
     "data": {
      "application/vnd.jupyter.widget-view+json": {
       "model_id": "29d0c2dd37204beda4af81f18ce0f067",
       "version_major": 2,
       "version_minor": 0
      },
      "text/plain": [
       "VBox(children=(Label(value='0.001 MB of 0.007 MB uploaded\\r'), FloatProgress(value=0.17058823529411765, max=1.…"
      ]
     },
     "metadata": {},
     "output_type": "display_data"
    },
    {
     "data": {
      "text/html": [
       "<style>\n",
       "    table.wandb td:nth-child(1) { padding: 0 10px; text-align: left ; width: auto;} td:nth-child(2) {text-align: left ; width: 100%}\n",
       "    .wandb-row { display: flex; flex-direction: row; flex-wrap: wrap; justify-content: flex-start; width: 100% }\n",
       "    .wandb-col { display: flex; flex-direction: column; flex-basis: 100%; flex: 1; padding: 10px; }\n",
       "    </style>\n",
       "<div class=\"wandb-row\"><div class=\"wandb-col\"><h3>Run history:</h3><br/><table class=\"wandb\"><tr><td>regret</td><td>▁</td></tr></table><br/></div><div class=\"wandb-col\"><h3>Run summary:</h3><br/><table class=\"wandb\"><tr><td>regret</td><td>56697.30606</td></tr></table><br/></div></div>"
      ],
      "text/plain": [
       "<IPython.core.display.HTML object>"
      ]
     },
     "metadata": {},
     "output_type": "display_data"
    },
    {
     "data": {
      "text/html": [
       " View run <strong style=\"color:#cdcd00\">lyric-sweep-15</strong> at: <a href='https://wandb.ai/rl_shobhith/uncategorized/runs/t0497yol/workspace' target=\"_blank\">https://wandb.ai/rl_shobhith/uncategorized/runs/t0497yol/workspace</a><br/>Synced 5 W&B file(s), 0 media file(s), 0 artifact file(s) and 0 other file(s)"
      ],
      "text/plain": [
       "<IPython.core.display.HTML object>"
      ]
     },
     "metadata": {},
     "output_type": "display_data"
    },
    {
     "data": {
      "text/html": [
       "Find logs at: <code>.\\wandb\\run-20240401_204241-t0497yol\\logs</code>"
      ],
      "text/plain": [
       "<IPython.core.display.HTML object>"
      ]
     },
     "metadata": {},
     "output_type": "display_data"
    },
    {
     "name": "stderr",
     "output_type": "stream",
     "text": [
      "\u001b[34m\u001b[1mwandb\u001b[0m: Agent Starting Run: k2icy44q with config:\n",
      "\u001b[34m\u001b[1mwandb\u001b[0m: \thidden_dim: 64\n",
      "\u001b[34m\u001b[1mwandb\u001b[0m: \tlearning_rate: 0.000565778024360261\n",
      "Failed to detect the name of this notebook, you can set it manually with the WANDB_NOTEBOOK_NAME environment variable to enable code saving.\n"
     ]
    },
    {
     "data": {
      "text/html": [
       "Tracking run with wandb version 0.16.5"
      ],
      "text/plain": [
       "<IPython.core.display.HTML object>"
      ]
     },
     "metadata": {},
     "output_type": "display_data"
    },
    {
     "data": {
      "text/html": [
       "Run data is saved locally in <code>c:\\Users\\Shobhith Vadlamudi\\Desktop\\3rd Year\\SEM 6\\RL\\wandb\\run-20240401_204330-k2icy44q</code>"
      ],
      "text/plain": [
       "<IPython.core.display.HTML object>"
      ]
     },
     "metadata": {},
     "output_type": "display_data"
    },
    {
     "data": {
      "text/html": [
       "Syncing run <strong><a href='https://wandb.ai/rl_shobhith/uncategorized/runs/k2icy44q/workspace' target=\"_blank\">northern-sweep-16</a></strong> to <a href='https://wandb.ai/rl_shobhith/uncategorized' target=\"_blank\">Weights & Biases</a> (<a href='https://wandb.me/run' target=\"_blank\">docs</a>)<br/>Sweep page: <a href='https://wandb.ai/rl_shobhith/uncategorized/sweeps/ebygp3ca' target=\"_blank\">https://wandb.ai/rl_shobhith/uncategorized/sweeps/ebygp3ca</a>"
      ],
      "text/plain": [
       "<IPython.core.display.HTML object>"
      ]
     },
     "metadata": {},
     "output_type": "display_data"
    },
    {
     "data": {
      "text/html": [
       " View project at <a href='https://wandb.ai/rl_shobhith/uncategorized' target=\"_blank\">https://wandb.ai/rl_shobhith/uncategorized</a>"
      ],
      "text/plain": [
       "<IPython.core.display.HTML object>"
      ]
     },
     "metadata": {},
     "output_type": "display_data"
    },
    {
     "data": {
      "text/html": [
       " View sweep at <a href='https://wandb.ai/rl_shobhith/uncategorized/sweeps/ebygp3ca' target=\"_blank\">https://wandb.ai/rl_shobhith/uncategorized/sweeps/ebygp3ca</a>"
      ],
      "text/plain": [
       "<IPython.core.display.HTML object>"
      ]
     },
     "metadata": {},
     "output_type": "display_data"
    },
    {
     "data": {
      "text/html": [
       " View run at <a href='https://wandb.ai/rl_shobhith/uncategorized/runs/k2icy44q/workspace' target=\"_blank\">https://wandb.ai/rl_shobhith/uncategorized/runs/k2icy44q/workspace</a>"
      ],
      "text/plain": [
       "<IPython.core.display.HTML object>"
      ]
     },
     "metadata": {},
     "output_type": "display_data"
    },
    {
     "name": "stderr",
     "output_type": "stream",
     "text": [
      "Iteration 0: 100%|██████████| 50/50 [00:00<00:00, 54.00it/s, episode_return=50, return=17.800]\n",
      "Iteration 1: 100%|██████████| 50/50 [00:01<00:00, 46.15it/s, episode_return=100, return=27.700]\n",
      "Iteration 2: 100%|██████████| 50/50 [00:01<00:00, 43.21it/s, episode_return=150, return=31.200]\n",
      "Iteration 3: 100%|██████████| 50/50 [00:01<00:00, 34.74it/s, episode_return=200, return=40.700]\n",
      "Iteration 4: 100%|██████████| 50/50 [00:01<00:00, 36.51it/s, episode_return=250, return=41.400]\n",
      "Iteration 5: 100%|██████████| 50/50 [00:01<00:00, 33.69it/s, episode_return=300, return=54.500]\n",
      "Iteration 6: 100%|██████████| 50/50 [00:01<00:00, 33.04it/s, episode_return=350, return=42.300]\n",
      "Iteration 7: 100%|██████████| 50/50 [00:01<00:00, 27.66it/s, episode_return=400, return=45.400]\n",
      "Iteration 8: 100%|██████████| 50/50 [00:02<00:00, 24.24it/s, episode_return=450, return=66.500]\n",
      "Iteration 9: 100%|██████████| 50/50 [00:02<00:00, 22.98it/s, episode_return=500, return=65.900]\n"
     ]
    },
    {
     "data": {
      "application/vnd.jupyter.widget-view+json": {
       "model_id": "596ee663420c4bf08646d1e62a102cc5",
       "version_major": 2,
       "version_minor": 0
      },
      "text/plain": [
       "VBox(children=(Label(value='0.001 MB of 0.001 MB uploaded\\r'), FloatProgress(value=1.0, max=1.0)))"
      ]
     },
     "metadata": {},
     "output_type": "display_data"
    },
    {
     "data": {
      "text/html": [
       "<style>\n",
       "    table.wandb td:nth-child(1) { padding: 0 10px; text-align: left ; width: auto;} td:nth-child(2) {text-align: left ; width: 100%}\n",
       "    .wandb-row { display: flex; flex-direction: row; flex-wrap: wrap; justify-content: flex-start; width: 100% }\n",
       "    .wandb-col { display: flex; flex-direction: column; flex-basis: 100%; flex: 1; padding: 10px; }\n",
       "    </style>\n",
       "<div class=\"wandb-row\"><div class=\"wandb-col\"><h3>Run history:</h3><br/><table class=\"wandb\"><tr><td>regret</td><td>▁</td></tr></table><br/></div><div class=\"wandb-col\"><h3>Run summary:</h3><br/><table class=\"wandb\"><tr><td>regret</td><td>79454.67377</td></tr></table><br/></div></div>"
      ],
      "text/plain": [
       "<IPython.core.display.HTML object>"
      ]
     },
     "metadata": {},
     "output_type": "display_data"
    },
    {
     "data": {
      "text/html": [
       " View run <strong style=\"color:#cdcd00\">northern-sweep-16</strong> at: <a href='https://wandb.ai/rl_shobhith/uncategorized/runs/k2icy44q/workspace' target=\"_blank\">https://wandb.ai/rl_shobhith/uncategorized/runs/k2icy44q/workspace</a><br/>Synced 5 W&B file(s), 0 media file(s), 0 artifact file(s) and 0 other file(s)"
      ],
      "text/plain": [
       "<IPython.core.display.HTML object>"
      ]
     },
     "metadata": {},
     "output_type": "display_data"
    },
    {
     "data": {
      "text/html": [
       "Find logs at: <code>.\\wandb\\run-20240401_204330-k2icy44q\\logs</code>"
      ],
      "text/plain": [
       "<IPython.core.display.HTML object>"
      ]
     },
     "metadata": {},
     "output_type": "display_data"
    },
    {
     "name": "stderr",
     "output_type": "stream",
     "text": [
      "\u001b[34m\u001b[1mwandb\u001b[0m: Agent Starting Run: 20wauuig with config:\n",
      "\u001b[34m\u001b[1mwandb\u001b[0m: \thidden_dim: 64\n",
      "\u001b[34m\u001b[1mwandb\u001b[0m: \tlearning_rate: 0.000160468934919586\n",
      "Failed to detect the name of this notebook, you can set it manually with the WANDB_NOTEBOOK_NAME environment variable to enable code saving.\n"
     ]
    },
    {
     "data": {
      "text/html": [
       "Tracking run with wandb version 0.16.5"
      ],
      "text/plain": [
       "<IPython.core.display.HTML object>"
      ]
     },
     "metadata": {},
     "output_type": "display_data"
    },
    {
     "data": {
      "text/html": [
       "Run data is saved locally in <code>c:\\Users\\Shobhith Vadlamudi\\Desktop\\3rd Year\\SEM 6\\RL\\wandb\\run-20240401_204356-20wauuig</code>"
      ],
      "text/plain": [
       "<IPython.core.display.HTML object>"
      ]
     },
     "metadata": {},
     "output_type": "display_data"
    },
    {
     "data": {
      "text/html": [
       "Syncing run <strong><a href='https://wandb.ai/rl_shobhith/uncategorized/runs/20wauuig/workspace' target=\"_blank\">jumping-sweep-17</a></strong> to <a href='https://wandb.ai/rl_shobhith/uncategorized' target=\"_blank\">Weights & Biases</a> (<a href='https://wandb.me/run' target=\"_blank\">docs</a>)<br/>Sweep page: <a href='https://wandb.ai/rl_shobhith/uncategorized/sweeps/ebygp3ca' target=\"_blank\">https://wandb.ai/rl_shobhith/uncategorized/sweeps/ebygp3ca</a>"
      ],
      "text/plain": [
       "<IPython.core.display.HTML object>"
      ]
     },
     "metadata": {},
     "output_type": "display_data"
    },
    {
     "data": {
      "text/html": [
       " View project at <a href='https://wandb.ai/rl_shobhith/uncategorized' target=\"_blank\">https://wandb.ai/rl_shobhith/uncategorized</a>"
      ],
      "text/plain": [
       "<IPython.core.display.HTML object>"
      ]
     },
     "metadata": {},
     "output_type": "display_data"
    },
    {
     "data": {
      "text/html": [
       " View sweep at <a href='https://wandb.ai/rl_shobhith/uncategorized/sweeps/ebygp3ca' target=\"_blank\">https://wandb.ai/rl_shobhith/uncategorized/sweeps/ebygp3ca</a>"
      ],
      "text/plain": [
       "<IPython.core.display.HTML object>"
      ]
     },
     "metadata": {},
     "output_type": "display_data"
    },
    {
     "data": {
      "text/html": [
       " View run at <a href='https://wandb.ai/rl_shobhith/uncategorized/runs/20wauuig/workspace' target=\"_blank\">https://wandb.ai/rl_shobhith/uncategorized/runs/20wauuig/workspace</a>"
      ],
      "text/plain": [
       "<IPython.core.display.HTML object>"
      ]
     },
     "metadata": {},
     "output_type": "display_data"
    },
    {
     "name": "stderr",
     "output_type": "stream",
     "text": [
      "Iteration 0: 100%|██████████| 50/50 [00:00<00:00, 61.57it/s, episode_return=50, return=19.500]\n",
      "Iteration 1: 100%|██████████| 50/50 [00:00<00:00, 64.30it/s, episode_return=100, return=22.400]\n",
      "Iteration 2: 100%|██████████| 50/50 [00:00<00:00, 54.72it/s, episode_return=150, return=20.100]\n",
      "Iteration 3: 100%|██████████| 50/50 [00:00<00:00, 56.18it/s, episode_return=200, return=19.500]\n",
      "Iteration 4: 100%|██████████| 50/50 [00:00<00:00, 56.35it/s, episode_return=250, return=21.900]\n",
      "Iteration 5: 100%|██████████| 50/50 [00:00<00:00, 56.13it/s, episode_return=300, return=25.700]\n",
      "Iteration 6: 100%|██████████| 50/50 [00:00<00:00, 52.13it/s, episode_return=350, return=21.700]\n",
      "Iteration 7: 100%|██████████| 50/50 [00:00<00:00, 50.18it/s, episode_return=400, return=24.200]\n",
      "Iteration 8: 100%|██████████| 50/50 [00:00<00:00, 54.71it/s, episode_return=450, return=26.700]\n",
      "Iteration 9: 100%|██████████| 50/50 [00:00<00:00, 52.44it/s, episode_return=500, return=21.400]\n"
     ]
    },
    {
     "data": {
      "application/vnd.jupyter.widget-view+json": {
       "model_id": "de7b811d4c3a47d3b651802ebf806895",
       "version_major": 2,
       "version_minor": 0
      },
      "text/plain": [
       "VBox(children=(Label(value='0.001 MB of 0.001 MB uploaded\\r'), FloatProgress(value=1.0, max=1.0)))"
      ]
     },
     "metadata": {},
     "output_type": "display_data"
    },
    {
     "data": {
      "text/html": [
       "<style>\n",
       "    table.wandb td:nth-child(1) { padding: 0 10px; text-align: left ; width: auto;} td:nth-child(2) {text-align: left ; width: 100%}\n",
       "    .wandb-row { display: flex; flex-direction: row; flex-wrap: wrap; justify-content: flex-start; width: 100% }\n",
       "    .wandb-col { display: flex; flex-direction: column; flex-basis: 100%; flex: 1; padding: 10px; }\n",
       "    </style>\n",
       "<div class=\"wandb-row\"><div class=\"wandb-col\"><h3>Run history:</h3><br/><table class=\"wandb\"><tr><td>regret</td><td>▁</td></tr></table><br/></div><div class=\"wandb-col\"><h3>Run summary:</h3><br/><table class=\"wandb\"><tr><td>regret</td><td>86677.98236</td></tr></table><br/></div></div>"
      ],
      "text/plain": [
       "<IPython.core.display.HTML object>"
      ]
     },
     "metadata": {},
     "output_type": "display_data"
    },
    {
     "data": {
      "text/html": [
       " View run <strong style=\"color:#cdcd00\">jumping-sweep-17</strong> at: <a href='https://wandb.ai/rl_shobhith/uncategorized/runs/20wauuig/workspace' target=\"_blank\">https://wandb.ai/rl_shobhith/uncategorized/runs/20wauuig/workspace</a><br/>Synced 5 W&B file(s), 0 media file(s), 0 artifact file(s) and 0 other file(s)"
      ],
      "text/plain": [
       "<IPython.core.display.HTML object>"
      ]
     },
     "metadata": {},
     "output_type": "display_data"
    },
    {
     "data": {
      "text/html": [
       "Find logs at: <code>.\\wandb\\run-20240401_204356-20wauuig\\logs</code>"
      ],
      "text/plain": [
       "<IPython.core.display.HTML object>"
      ]
     },
     "metadata": {},
     "output_type": "display_data"
    },
    {
     "name": "stderr",
     "output_type": "stream",
     "text": [
      "\u001b[34m\u001b[1mwandb\u001b[0m: Agent Starting Run: ben7icc9 with config:\n",
      "\u001b[34m\u001b[1mwandb\u001b[0m: \thidden_dim: 128\n",
      "\u001b[34m\u001b[1mwandb\u001b[0m: \tlearning_rate: 0.0003252119712808914\n",
      "Failed to detect the name of this notebook, you can set it manually with the WANDB_NOTEBOOK_NAME environment variable to enable code saving.\n"
     ]
    },
    {
     "data": {
      "text/html": [
       "Tracking run with wandb version 0.16.5"
      ],
      "text/plain": [
       "<IPython.core.display.HTML object>"
      ]
     },
     "metadata": {},
     "output_type": "display_data"
    },
    {
     "data": {
      "text/html": [
       "Run data is saved locally in <code>c:\\Users\\Shobhith Vadlamudi\\Desktop\\3rd Year\\SEM 6\\RL\\wandb\\run-20240401_204418-ben7icc9</code>"
      ],
      "text/plain": [
       "<IPython.core.display.HTML object>"
      ]
     },
     "metadata": {},
     "output_type": "display_data"
    },
    {
     "data": {
      "text/html": [
       "Syncing run <strong><a href='https://wandb.ai/rl_shobhith/uncategorized/runs/ben7icc9/workspace' target=\"_blank\">misunderstood-sweep-18</a></strong> to <a href='https://wandb.ai/rl_shobhith/uncategorized' target=\"_blank\">Weights & Biases</a> (<a href='https://wandb.me/run' target=\"_blank\">docs</a>)<br/>Sweep page: <a href='https://wandb.ai/rl_shobhith/uncategorized/sweeps/ebygp3ca' target=\"_blank\">https://wandb.ai/rl_shobhith/uncategorized/sweeps/ebygp3ca</a>"
      ],
      "text/plain": [
       "<IPython.core.display.HTML object>"
      ]
     },
     "metadata": {},
     "output_type": "display_data"
    },
    {
     "data": {
      "text/html": [
       " View project at <a href='https://wandb.ai/rl_shobhith/uncategorized' target=\"_blank\">https://wandb.ai/rl_shobhith/uncategorized</a>"
      ],
      "text/plain": [
       "<IPython.core.display.HTML object>"
      ]
     },
     "metadata": {},
     "output_type": "display_data"
    },
    {
     "data": {
      "text/html": [
       " View sweep at <a href='https://wandb.ai/rl_shobhith/uncategorized/sweeps/ebygp3ca' target=\"_blank\">https://wandb.ai/rl_shobhith/uncategorized/sweeps/ebygp3ca</a>"
      ],
      "text/plain": [
       "<IPython.core.display.HTML object>"
      ]
     },
     "metadata": {},
     "output_type": "display_data"
    },
    {
     "data": {
      "text/html": [
       " View run at <a href='https://wandb.ai/rl_shobhith/uncategorized/runs/ben7icc9/workspace' target=\"_blank\">https://wandb.ai/rl_shobhith/uncategorized/runs/ben7icc9/workspace</a>"
      ],
      "text/plain": [
       "<IPython.core.display.HTML object>"
      ]
     },
     "metadata": {},
     "output_type": "display_data"
    },
    {
     "name": "stderr",
     "output_type": "stream",
     "text": [
      "Iteration 0: 100%|██████████| 50/50 [00:01<00:00, 48.68it/s, episode_return=50, return=19.900]\n",
      "Iteration 1: 100%|██████████| 50/50 [00:00<00:00, 51.21it/s, episode_return=100, return=21.400]\n",
      "Iteration 2: 100%|██████████| 50/50 [00:01<00:00, 47.74it/s, episode_return=150, return=22.900]\n",
      "Iteration 3: 100%|██████████| 50/50 [00:01<00:00, 41.00it/s, episode_return=200, return=25.200]\n",
      "Iteration 4: 100%|██████████| 50/50 [00:01<00:00, 36.99it/s, episode_return=250, return=30.900]\n",
      "Iteration 5: 100%|██████████| 50/50 [00:01<00:00, 27.07it/s, episode_return=300, return=40.900]\n",
      "Iteration 6: 100%|██████████| 50/50 [00:02<00:00, 23.03it/s, episode_return=350, return=46.200]\n",
      "Iteration 7: 100%|██████████| 50/50 [00:02<00:00, 21.85it/s, episode_return=400, return=49.200]\n",
      "Iteration 8: 100%|██████████| 50/50 [00:02<00:00, 20.79it/s, episode_return=450, return=66.500]\n",
      "Iteration 9: 100%|██████████| 50/50 [00:02<00:00, 16.70it/s, episode_return=500, return=70.800]\n"
     ]
    },
    {
     "data": {
      "application/vnd.jupyter.widget-view+json": {
       "model_id": "85e2d6169df74387955ab047d5cd6a28",
       "version_major": 2,
       "version_minor": 0
      },
      "text/plain": [
       "VBox(children=(Label(value='0.001 MB of 0.001 MB uploaded\\r'), FloatProgress(value=1.0, max=1.0)))"
      ]
     },
     "metadata": {},
     "output_type": "display_data"
    },
    {
     "data": {
      "text/html": [
       "<style>\n",
       "    table.wandb td:nth-child(1) { padding: 0 10px; text-align: left ; width: auto;} td:nth-child(2) {text-align: left ; width: 100%}\n",
       "    .wandb-row { display: flex; flex-direction: row; flex-wrap: wrap; justify-content: flex-start; width: 100% }\n",
       "    .wandb-col { display: flex; flex-direction: column; flex-basis: 100%; flex: 1; padding: 10px; }\n",
       "    </style>\n",
       "<div class=\"wandb-row\"><div class=\"wandb-col\"><h3>Run history:</h3><br/><table class=\"wandb\"><tr><td>regret</td><td>▁</td></tr></table><br/></div><div class=\"wandb-col\"><h3>Run summary:</h3><br/><table class=\"wandb\"><tr><td>regret</td><td>80778.42395</td></tr></table><br/></div></div>"
      ],
      "text/plain": [
       "<IPython.core.display.HTML object>"
      ]
     },
     "metadata": {},
     "output_type": "display_data"
    },
    {
     "data": {
      "text/html": [
       " View run <strong style=\"color:#cdcd00\">misunderstood-sweep-18</strong> at: <a href='https://wandb.ai/rl_shobhith/uncategorized/runs/ben7icc9/workspace' target=\"_blank\">https://wandb.ai/rl_shobhith/uncategorized/runs/ben7icc9/workspace</a><br/>Synced 5 W&B file(s), 0 media file(s), 0 artifact file(s) and 0 other file(s)"
      ],
      "text/plain": [
       "<IPython.core.display.HTML object>"
      ]
     },
     "metadata": {},
     "output_type": "display_data"
    },
    {
     "data": {
      "text/html": [
       "Find logs at: <code>.\\wandb\\run-20240401_204418-ben7icc9\\logs</code>"
      ],
      "text/plain": [
       "<IPython.core.display.HTML object>"
      ]
     },
     "metadata": {},
     "output_type": "display_data"
    },
    {
     "name": "stderr",
     "output_type": "stream",
     "text": [
      "\u001b[34m\u001b[1mwandb\u001b[0m: Agent Starting Run: skowrans with config:\n",
      "\u001b[34m\u001b[1mwandb\u001b[0m: \thidden_dim: 256\n",
      "\u001b[34m\u001b[1mwandb\u001b[0m: \tlearning_rate: 0.000922745219447915\n",
      "Failed to detect the name of this notebook, you can set it manually with the WANDB_NOTEBOOK_NAME environment variable to enable code saving.\n"
     ]
    },
    {
     "data": {
      "text/html": [
       "Tracking run with wandb version 0.16.5"
      ],
      "text/plain": [
       "<IPython.core.display.HTML object>"
      ]
     },
     "metadata": {},
     "output_type": "display_data"
    },
    {
     "data": {
      "text/html": [
       "Run data is saved locally in <code>c:\\Users\\Shobhith Vadlamudi\\Desktop\\3rd Year\\SEM 6\\RL\\wandb\\run-20240401_204445-skowrans</code>"
      ],
      "text/plain": [
       "<IPython.core.display.HTML object>"
      ]
     },
     "metadata": {},
     "output_type": "display_data"
    },
    {
     "data": {
      "text/html": [
       "Syncing run <strong><a href='https://wandb.ai/rl_shobhith/uncategorized/runs/skowrans/workspace' target=\"_blank\">proud-sweep-19</a></strong> to <a href='https://wandb.ai/rl_shobhith/uncategorized' target=\"_blank\">Weights & Biases</a> (<a href='https://wandb.me/run' target=\"_blank\">docs</a>)<br/>Sweep page: <a href='https://wandb.ai/rl_shobhith/uncategorized/sweeps/ebygp3ca' target=\"_blank\">https://wandb.ai/rl_shobhith/uncategorized/sweeps/ebygp3ca</a>"
      ],
      "text/plain": [
       "<IPython.core.display.HTML object>"
      ]
     },
     "metadata": {},
     "output_type": "display_data"
    },
    {
     "data": {
      "text/html": [
       " View project at <a href='https://wandb.ai/rl_shobhith/uncategorized' target=\"_blank\">https://wandb.ai/rl_shobhith/uncategorized</a>"
      ],
      "text/plain": [
       "<IPython.core.display.HTML object>"
      ]
     },
     "metadata": {},
     "output_type": "display_data"
    },
    {
     "data": {
      "text/html": [
       " View sweep at <a href='https://wandb.ai/rl_shobhith/uncategorized/sweeps/ebygp3ca' target=\"_blank\">https://wandb.ai/rl_shobhith/uncategorized/sweeps/ebygp3ca</a>"
      ],
      "text/plain": [
       "<IPython.core.display.HTML object>"
      ]
     },
     "metadata": {},
     "output_type": "display_data"
    },
    {
     "data": {
      "text/html": [
       " View run at <a href='https://wandb.ai/rl_shobhith/uncategorized/runs/skowrans/workspace' target=\"_blank\">https://wandb.ai/rl_shobhith/uncategorized/runs/skowrans/workspace</a>"
      ],
      "text/plain": [
       "<IPython.core.display.HTML object>"
      ]
     },
     "metadata": {},
     "output_type": "display_data"
    },
    {
     "name": "stderr",
     "output_type": "stream",
     "text": [
      "Iteration 0: 100%|██████████| 50/50 [00:01<00:00, 37.74it/s, episode_return=50, return=28.900]\n",
      "Iteration 1: 100%|██████████| 50/50 [00:02<00:00, 17.72it/s, episode_return=100, return=69.300]\n",
      "Iteration 2: 100%|██████████| 50/50 [00:04<00:00, 11.36it/s, episode_return=150, return=111.900]\n",
      "Iteration 3: 100%|██████████| 50/50 [00:06<00:00,  8.07it/s, episode_return=200, return=133.200]\n",
      "Iteration 4: 100%|██████████| 50/50 [00:08<00:00,  5.93it/s, episode_return=250, return=262.300]\n",
      "Iteration 5: 100%|██████████| 50/50 [00:06<00:00,  7.57it/s, episode_return=300, return=252.700]\n",
      "Iteration 6: 100%|██████████| 50/50 [00:12<00:00,  4.06it/s, episode_return=350, return=215.500]\n",
      "Iteration 7: 100%|██████████| 50/50 [00:18<00:00,  2.67it/s, episode_return=400, return=273.800]\n",
      "Iteration 8: 100%|██████████| 50/50 [00:15<00:00,  3.20it/s, episode_return=450, return=359.500]\n",
      "Iteration 9: 100%|██████████| 50/50 [00:12<00:00,  3.94it/s, episode_return=500, return=197.100]\n"
     ]
    },
    {
     "data": {
      "application/vnd.jupyter.widget-view+json": {
       "model_id": "3a8aca8e3d89466ebd867e8d5dfbe3b1",
       "version_major": 2,
       "version_minor": 0
      },
      "text/plain": [
       "VBox(children=(Label(value='0.001 MB of 0.001 MB uploaded\\r'), FloatProgress(value=1.0, max=1.0)))"
      ]
     },
     "metadata": {},
     "output_type": "display_data"
    },
    {
     "data": {
      "text/html": [
       "<style>\n",
       "    table.wandb td:nth-child(1) { padding: 0 10px; text-align: left ; width: auto;} td:nth-child(2) {text-align: left ; width: 100%}\n",
       "    .wandb-row { display: flex; flex-direction: row; flex-wrap: wrap; justify-content: flex-start; width: 100% }\n",
       "    .wandb-col { display: flex; flex-direction: column; flex-basis: 100%; flex: 1; padding: 10px; }\n",
       "    </style>\n",
       "<div class=\"wandb-row\"><div class=\"wandb-col\"><h3>Run history:</h3><br/><table class=\"wandb\"><tr><td>regret</td><td>▁</td></tr></table><br/></div><div class=\"wandb-col\"><h3>Run summary:</h3><br/><table class=\"wandb\"><tr><td>regret</td><td>34858.8562</td></tr></table><br/></div></div>"
      ],
      "text/plain": [
       "<IPython.core.display.HTML object>"
      ]
     },
     "metadata": {},
     "output_type": "display_data"
    },
    {
     "data": {
      "text/html": [
       " View run <strong style=\"color:#cdcd00\">proud-sweep-19</strong> at: <a href='https://wandb.ai/rl_shobhith/uncategorized/runs/skowrans/workspace' target=\"_blank\">https://wandb.ai/rl_shobhith/uncategorized/runs/skowrans/workspace</a><br/>Synced 5 W&B file(s), 0 media file(s), 0 artifact file(s) and 0 other file(s)"
      ],
      "text/plain": [
       "<IPython.core.display.HTML object>"
      ]
     },
     "metadata": {},
     "output_type": "display_data"
    },
    {
     "data": {
      "text/html": [
       "Find logs at: <code>.\\wandb\\run-20240401_204445-skowrans\\logs</code>"
      ],
      "text/plain": [
       "<IPython.core.display.HTML object>"
      ]
     },
     "metadata": {},
     "output_type": "display_data"
    },
    {
     "name": "stderr",
     "output_type": "stream",
     "text": [
      "\u001b[34m\u001b[1mwandb\u001b[0m: Agent Starting Run: 9mx36kiy with config:\n",
      "\u001b[34m\u001b[1mwandb\u001b[0m: \thidden_dim: 64\n",
      "\u001b[34m\u001b[1mwandb\u001b[0m: \tlearning_rate: 0.00041474995736258673\n",
      "Failed to detect the name of this notebook, you can set it manually with the WANDB_NOTEBOOK_NAME environment variable to enable code saving.\n"
     ]
    },
    {
     "data": {
      "text/html": [
       "Tracking run with wandb version 0.16.5"
      ],
      "text/plain": [
       "<IPython.core.display.HTML object>"
      ]
     },
     "metadata": {},
     "output_type": "display_data"
    },
    {
     "data": {
      "text/html": [
       "Run data is saved locally in <code>c:\\Users\\Shobhith Vadlamudi\\Desktop\\3rd Year\\SEM 6\\RL\\wandb\\run-20240401_204625-9mx36kiy</code>"
      ],
      "text/plain": [
       "<IPython.core.display.HTML object>"
      ]
     },
     "metadata": {},
     "output_type": "display_data"
    },
    {
     "data": {
      "text/html": [
       "Syncing run <strong><a href='https://wandb.ai/rl_shobhith/uncategorized/runs/9mx36kiy/workspace' target=\"_blank\">clean-sweep-20</a></strong> to <a href='https://wandb.ai/rl_shobhith/uncategorized' target=\"_blank\">Weights & Biases</a> (<a href='https://wandb.me/run' target=\"_blank\">docs</a>)<br/>Sweep page: <a href='https://wandb.ai/rl_shobhith/uncategorized/sweeps/ebygp3ca' target=\"_blank\">https://wandb.ai/rl_shobhith/uncategorized/sweeps/ebygp3ca</a>"
      ],
      "text/plain": [
       "<IPython.core.display.HTML object>"
      ]
     },
     "metadata": {},
     "output_type": "display_data"
    },
    {
     "data": {
      "text/html": [
       " View project at <a href='https://wandb.ai/rl_shobhith/uncategorized' target=\"_blank\">https://wandb.ai/rl_shobhith/uncategorized</a>"
      ],
      "text/plain": [
       "<IPython.core.display.HTML object>"
      ]
     },
     "metadata": {},
     "output_type": "display_data"
    },
    {
     "data": {
      "text/html": [
       " View sweep at <a href='https://wandb.ai/rl_shobhith/uncategorized/sweeps/ebygp3ca' target=\"_blank\">https://wandb.ai/rl_shobhith/uncategorized/sweeps/ebygp3ca</a>"
      ],
      "text/plain": [
       "<IPython.core.display.HTML object>"
      ]
     },
     "metadata": {},
     "output_type": "display_data"
    },
    {
     "data": {
      "text/html": [
       " View run at <a href='https://wandb.ai/rl_shobhith/uncategorized/runs/9mx36kiy/workspace' target=\"_blank\">https://wandb.ai/rl_shobhith/uncategorized/runs/9mx36kiy/workspace</a>"
      ],
      "text/plain": [
       "<IPython.core.display.HTML object>"
      ]
     },
     "metadata": {},
     "output_type": "display_data"
    },
    {
     "name": "stderr",
     "output_type": "stream",
     "text": [
      "Iteration 0: 100%|██████████| 50/50 [00:00<00:00, 62.13it/s, episode_return=50, return=24.000]\n",
      "Iteration 1: 100%|██████████| 50/50 [00:00<00:00, 57.25it/s, episode_return=100, return=27.000]\n",
      "Iteration 2: 100%|██████████| 50/50 [00:01<00:00, 42.40it/s, episode_return=150, return=37.000]\n",
      "Iteration 3: 100%|██████████| 50/50 [00:01<00:00, 46.32it/s, episode_return=200, return=27.200]\n",
      "Iteration 4: 100%|██████████| 50/50 [00:01<00:00, 42.25it/s, episode_return=250, return=26.800]\n",
      "Iteration 5: 100%|██████████| 50/50 [00:02<00:00, 24.24it/s, episode_return=300, return=53.800]\n",
      "Iteration 6: 100%|██████████| 50/50 [00:02<00:00, 19.71it/s, episode_return=350, return=39.600]\n",
      "Iteration 7: 100%|██████████| 50/50 [00:02<00:00, 20.49it/s, episode_return=400, return=52.600]\n",
      "Iteration 8: 100%|██████████| 50/50 [00:03<00:00, 16.03it/s, episode_return=450, return=69.300]\n",
      "Iteration 9: 100%|██████████| 50/50 [00:02<00:00, 17.47it/s, episode_return=500, return=56.800]\n"
     ]
    },
    {
     "data": {
      "application/vnd.jupyter.widget-view+json": {
       "model_id": "2d650621ab48406697366d3d4bfc2216",
       "version_major": 2,
       "version_minor": 0
      },
      "text/plain": [
       "VBox(children=(Label(value='0.001 MB of 0.001 MB uploaded\\r'), FloatProgress(value=1.0, max=1.0)))"
      ]
     },
     "metadata": {},
     "output_type": "display_data"
    },
    {
     "data": {
      "text/html": [
       "<style>\n",
       "    table.wandb td:nth-child(1) { padding: 0 10px; text-align: left ; width: auto;} td:nth-child(2) {text-align: left ; width: 100%}\n",
       "    .wandb-row { display: flex; flex-direction: row; flex-wrap: wrap; justify-content: flex-start; width: 100% }\n",
       "    .wandb-col { display: flex; flex-direction: column; flex-basis: 100%; flex: 1; padding: 10px; }\n",
       "    </style>\n",
       "<div class=\"wandb-row\"><div class=\"wandb-col\"><h3>Run history:</h3><br/><table class=\"wandb\"><tr><td>regret</td><td>▁</td></tr></table><br/></div><div class=\"wandb-col\"><h3>Run summary:</h3><br/><table class=\"wandb\"><tr><td>regret</td><td>79973.59985</td></tr></table><br/></div></div>"
      ],
      "text/plain": [
       "<IPython.core.display.HTML object>"
      ]
     },
     "metadata": {},
     "output_type": "display_data"
    },
    {
     "data": {
      "text/html": [
       " View run <strong style=\"color:#cdcd00\">clean-sweep-20</strong> at: <a href='https://wandb.ai/rl_shobhith/uncategorized/runs/9mx36kiy/workspace' target=\"_blank\">https://wandb.ai/rl_shobhith/uncategorized/runs/9mx36kiy/workspace</a><br/>Synced 5 W&B file(s), 0 media file(s), 0 artifact file(s) and 0 other file(s)"
      ],
      "text/plain": [
       "<IPython.core.display.HTML object>"
      ]
     },
     "metadata": {},
     "output_type": "display_data"
    },
    {
     "data": {
      "text/html": [
       "Find logs at: <code>.\\wandb\\run-20240401_204625-9mx36kiy\\logs</code>"
      ],
      "text/plain": [
       "<IPython.core.display.HTML object>"
      ]
     },
     "metadata": {},
     "output_type": "display_data"
    },
    {
     "name": "stderr",
     "output_type": "stream",
     "text": [
      "\u001b[34m\u001b[1mwandb\u001b[0m: Agent Starting Run: ctbnxzwz with config:\n",
      "\u001b[34m\u001b[1mwandb\u001b[0m: \thidden_dim: 256\n",
      "\u001b[34m\u001b[1mwandb\u001b[0m: \tlearning_rate: 0.00045291969938564063\n",
      "Failed to detect the name of this notebook, you can set it manually with the WANDB_NOTEBOOK_NAME environment variable to enable code saving.\n"
     ]
    },
    {
     "data": {
      "text/html": [
       "Tracking run with wandb version 0.16.5"
      ],
      "text/plain": [
       "<IPython.core.display.HTML object>"
      ]
     },
     "metadata": {},
     "output_type": "display_data"
    },
    {
     "data": {
      "text/html": [
       "Run data is saved locally in <code>c:\\Users\\Shobhith Vadlamudi\\Desktop\\3rd Year\\SEM 6\\RL\\wandb\\run-20240401_204657-ctbnxzwz</code>"
      ],
      "text/plain": [
       "<IPython.core.display.HTML object>"
      ]
     },
     "metadata": {},
     "output_type": "display_data"
    },
    {
     "data": {
      "text/html": [
       "Syncing run <strong><a href='https://wandb.ai/rl_shobhith/uncategorized/runs/ctbnxzwz/workspace' target=\"_blank\">lucky-sweep-21</a></strong> to <a href='https://wandb.ai/rl_shobhith/uncategorized' target=\"_blank\">Weights & Biases</a> (<a href='https://wandb.me/run' target=\"_blank\">docs</a>)<br/>Sweep page: <a href='https://wandb.ai/rl_shobhith/uncategorized/sweeps/ebygp3ca' target=\"_blank\">https://wandb.ai/rl_shobhith/uncategorized/sweeps/ebygp3ca</a>"
      ],
      "text/plain": [
       "<IPython.core.display.HTML object>"
      ]
     },
     "metadata": {},
     "output_type": "display_data"
    },
    {
     "data": {
      "text/html": [
       " View project at <a href='https://wandb.ai/rl_shobhith/uncategorized' target=\"_blank\">https://wandb.ai/rl_shobhith/uncategorized</a>"
      ],
      "text/plain": [
       "<IPython.core.display.HTML object>"
      ]
     },
     "metadata": {},
     "output_type": "display_data"
    },
    {
     "data": {
      "text/html": [
       " View sweep at <a href='https://wandb.ai/rl_shobhith/uncategorized/sweeps/ebygp3ca' target=\"_blank\">https://wandb.ai/rl_shobhith/uncategorized/sweeps/ebygp3ca</a>"
      ],
      "text/plain": [
       "<IPython.core.display.HTML object>"
      ]
     },
     "metadata": {},
     "output_type": "display_data"
    },
    {
     "data": {
      "text/html": [
       " View run at <a href='https://wandb.ai/rl_shobhith/uncategorized/runs/ctbnxzwz/workspace' target=\"_blank\">https://wandb.ai/rl_shobhith/uncategorized/runs/ctbnxzwz/workspace</a>"
      ],
      "text/plain": [
       "<IPython.core.display.HTML object>"
      ]
     },
     "metadata": {},
     "output_type": "display_data"
    },
    {
     "name": "stderr",
     "output_type": "stream",
     "text": [
      "Iteration 0: 100%|██████████| 50/50 [00:01<00:00, 33.09it/s, episode_return=50, return=30.000]\n",
      "Iteration 1: 100%|██████████| 50/50 [00:01<00:00, 30.56it/s, episode_return=100, return=32.800]\n",
      "Iteration 2: 100%|██████████| 50/50 [00:02<00:00, 22.45it/s, episode_return=150, return=39.800]\n",
      "Iteration 3: 100%|██████████| 50/50 [00:02<00:00, 18.49it/s, episode_return=200, return=67.000]\n",
      "Iteration 4: 100%|██████████| 50/50 [00:03<00:00, 13.67it/s, episode_return=250, return=144.100]\n",
      "Iteration 5: 100%|██████████| 50/50 [00:06<00:00,  8.08it/s, episode_return=300, return=132.300]\n",
      "Iteration 6: 100%|██████████| 50/50 [00:10<00:00,  4.84it/s, episode_return=350, return=128.200]\n",
      "Iteration 7: 100%|██████████| 50/50 [00:11<00:00,  4.49it/s, episode_return=400, return=217.700]\n",
      "Iteration 8: 100%|██████████| 50/50 [00:13<00:00,  3.71it/s, episode_return=450, return=317.800]\n",
      "Iteration 9: 100%|██████████| 50/50 [00:13<00:00,  3.67it/s, episode_return=500, return=238.600]\n"
     ]
    },
    {
     "data": {
      "application/vnd.jupyter.widget-view+json": {
       "model_id": "ba15cf3a9ed542d0a106073f518f01db",
       "version_major": 2,
       "version_minor": 0
      },
      "text/plain": [
       "VBox(children=(Label(value='0.001 MB of 0.001 MB uploaded\\r'), FloatProgress(value=1.0, max=1.0)))"
      ]
     },
     "metadata": {},
     "output_type": "display_data"
    },
    {
     "data": {
      "text/html": [
       "<style>\n",
       "    table.wandb td:nth-child(1) { padding: 0 10px; text-align: left ; width: auto;} td:nth-child(2) {text-align: left ; width: 100%}\n",
       "    .wandb-row { display: flex; flex-direction: row; flex-wrap: wrap; justify-content: flex-start; width: 100% }\n",
       "    .wandb-col { display: flex; flex-direction: column; flex-basis: 100%; flex: 1; padding: 10px; }\n",
       "    </style>\n",
       "<div class=\"wandb-row\"><div class=\"wandb-col\"><h3>Run history:</h3><br/><table class=\"wandb\"><tr><td>regret</td><td>▁</td></tr></table><br/></div><div class=\"wandb-col\"><h3>Run summary:</h3><br/><table class=\"wandb\"><tr><td>regret</td><td>49579.24403</td></tr></table><br/></div></div>"
      ],
      "text/plain": [
       "<IPython.core.display.HTML object>"
      ]
     },
     "metadata": {},
     "output_type": "display_data"
    },
    {
     "data": {
      "text/html": [
       " View run <strong style=\"color:#cdcd00\">lucky-sweep-21</strong> at: <a href='https://wandb.ai/rl_shobhith/uncategorized/runs/ctbnxzwz/workspace' target=\"_blank\">https://wandb.ai/rl_shobhith/uncategorized/runs/ctbnxzwz/workspace</a><br/>Synced 5 W&B file(s), 0 media file(s), 0 artifact file(s) and 0 other file(s)"
      ],
      "text/plain": [
       "<IPython.core.display.HTML object>"
      ]
     },
     "metadata": {},
     "output_type": "display_data"
    },
    {
     "data": {
      "text/html": [
       "Find logs at: <code>.\\wandb\\run-20240401_204657-ctbnxzwz\\logs</code>"
      ],
      "text/plain": [
       "<IPython.core.display.HTML object>"
      ]
     },
     "metadata": {},
     "output_type": "display_data"
    },
    {
     "name": "stderr",
     "output_type": "stream",
     "text": [
      "\u001b[34m\u001b[1mwandb\u001b[0m: Agent Starting Run: 7r2tidtm with config:\n",
      "\u001b[34m\u001b[1mwandb\u001b[0m: \thidden_dim: 128\n",
      "\u001b[34m\u001b[1mwandb\u001b[0m: \tlearning_rate: 0.00027441370524926946\n",
      "Failed to detect the name of this notebook, you can set it manually with the WANDB_NOTEBOOK_NAME environment variable to enable code saving.\n"
     ]
    },
    {
     "data": {
      "text/html": [
       "Tracking run with wandb version 0.16.5"
      ],
      "text/plain": [
       "<IPython.core.display.HTML object>"
      ]
     },
     "metadata": {},
     "output_type": "display_data"
    },
    {
     "data": {
      "text/html": [
       "Run data is saved locally in <code>c:\\Users\\Shobhith Vadlamudi\\Desktop\\3rd Year\\SEM 6\\RL\\wandb\\run-20240401_204817-7r2tidtm</code>"
      ],
      "text/plain": [
       "<IPython.core.display.HTML object>"
      ]
     },
     "metadata": {},
     "output_type": "display_data"
    },
    {
     "data": {
      "text/html": [
       "Syncing run <strong><a href='https://wandb.ai/rl_shobhith/uncategorized/runs/7r2tidtm/workspace' target=\"_blank\">charmed-sweep-22</a></strong> to <a href='https://wandb.ai/rl_shobhith/uncategorized' target=\"_blank\">Weights & Biases</a> (<a href='https://wandb.me/run' target=\"_blank\">docs</a>)<br/>Sweep page: <a href='https://wandb.ai/rl_shobhith/uncategorized/sweeps/ebygp3ca' target=\"_blank\">https://wandb.ai/rl_shobhith/uncategorized/sweeps/ebygp3ca</a>"
      ],
      "text/plain": [
       "<IPython.core.display.HTML object>"
      ]
     },
     "metadata": {},
     "output_type": "display_data"
    },
    {
     "data": {
      "text/html": [
       " View project at <a href='https://wandb.ai/rl_shobhith/uncategorized' target=\"_blank\">https://wandb.ai/rl_shobhith/uncategorized</a>"
      ],
      "text/plain": [
       "<IPython.core.display.HTML object>"
      ]
     },
     "metadata": {},
     "output_type": "display_data"
    },
    {
     "data": {
      "text/html": [
       " View sweep at <a href='https://wandb.ai/rl_shobhith/uncategorized/sweeps/ebygp3ca' target=\"_blank\">https://wandb.ai/rl_shobhith/uncategorized/sweeps/ebygp3ca</a>"
      ],
      "text/plain": [
       "<IPython.core.display.HTML object>"
      ]
     },
     "metadata": {},
     "output_type": "display_data"
    },
    {
     "data": {
      "text/html": [
       " View run at <a href='https://wandb.ai/rl_shobhith/uncategorized/runs/7r2tidtm/workspace' target=\"_blank\">https://wandb.ai/rl_shobhith/uncategorized/runs/7r2tidtm/workspace</a>"
      ],
      "text/plain": [
       "<IPython.core.display.HTML object>"
      ]
     },
     "metadata": {},
     "output_type": "display_data"
    },
    {
     "name": "stderr",
     "output_type": "stream",
     "text": [
      "Iteration 0: 100%|██████████| 50/50 [00:01<00:00, 43.16it/s, episode_return=50, return=34.100]\n",
      "Iteration 1: 100%|██████████| 50/50 [00:01<00:00, 43.89it/s, episode_return=100, return=26.300]\n",
      "Iteration 2: 100%|██████████| 50/50 [00:01<00:00, 34.03it/s, episode_return=150, return=30.600]\n",
      "Iteration 3: 100%|██████████| 50/50 [00:01<00:00, 32.28it/s, episode_return=200, return=42.100]\n",
      "Iteration 4: 100%|██████████| 50/50 [00:01<00:00, 25.97it/s, episode_return=250, return=45.900]\n",
      "Iteration 5: 100%|██████████| 50/50 [00:01<00:00, 29.95it/s, episode_return=300, return=40.100]\n",
      "Iteration 6: 100%|██████████| 50/50 [00:01<00:00, 27.13it/s, episode_return=350, return=48.100]\n",
      "Iteration 7: 100%|██████████| 50/50 [00:02<00:00, 23.12it/s, episode_return=400, return=49.200]\n",
      "Iteration 8: 100%|██████████| 50/50 [00:02<00:00, 22.17it/s, episode_return=450, return=65.600]\n",
      "Iteration 9: 100%|██████████| 50/50 [00:02<00:00, 19.00it/s, episode_return=500, return=47.100]\n"
     ]
    },
    {
     "data": {
      "application/vnd.jupyter.widget-view+json": {
       "model_id": "724f69ce3fd54a7ea7949871dd698bf0",
       "version_major": 2,
       "version_minor": 0
      },
      "text/plain": [
       "VBox(children=(Label(value='0.001 MB of 0.007 MB uploaded\\r'), FloatProgress(value=0.17086873115922172, max=1.…"
      ]
     },
     "metadata": {},
     "output_type": "display_data"
    },
    {
     "data": {
      "text/html": [
       "<style>\n",
       "    table.wandb td:nth-child(1) { padding: 0 10px; text-align: left ; width: auto;} td:nth-child(2) {text-align: left ; width: 100%}\n",
       "    .wandb-row { display: flex; flex-direction: row; flex-wrap: wrap; justify-content: flex-start; width: 100% }\n",
       "    .wandb-col { display: flex; flex-direction: column; flex-basis: 100%; flex: 1; padding: 10px; }\n",
       "    </style>\n",
       "<div class=\"wandb-row\"><div class=\"wandb-col\"><h3>Run history:</h3><br/><table class=\"wandb\"><tr><td>regret</td><td>▁</td></tr></table><br/></div><div class=\"wandb-col\"><h3>Run summary:</h3><br/><table class=\"wandb\"><tr><td>regret</td><td>77226.48174</td></tr></table><br/></div></div>"
      ],
      "text/plain": [
       "<IPython.core.display.HTML object>"
      ]
     },
     "metadata": {},
     "output_type": "display_data"
    },
    {
     "data": {
      "text/html": [
       " View run <strong style=\"color:#cdcd00\">charmed-sweep-22</strong> at: <a href='https://wandb.ai/rl_shobhith/uncategorized/runs/7r2tidtm/workspace' target=\"_blank\">https://wandb.ai/rl_shobhith/uncategorized/runs/7r2tidtm/workspace</a><br/>Synced 5 W&B file(s), 0 media file(s), 0 artifact file(s) and 0 other file(s)"
      ],
      "text/plain": [
       "<IPython.core.display.HTML object>"
      ]
     },
     "metadata": {},
     "output_type": "display_data"
    },
    {
     "data": {
      "text/html": [
       "Find logs at: <code>.\\wandb\\run-20240401_204817-7r2tidtm\\logs</code>"
      ],
      "text/plain": [
       "<IPython.core.display.HTML object>"
      ]
     },
     "metadata": {},
     "output_type": "display_data"
    },
    {
     "name": "stderr",
     "output_type": "stream",
     "text": [
      "\u001b[34m\u001b[1mwandb\u001b[0m: Agent Starting Run: fdf013gv with config:\n",
      "\u001b[34m\u001b[1mwandb\u001b[0m: \thidden_dim: 64\n",
      "\u001b[34m\u001b[1mwandb\u001b[0m: \tlearning_rate: 9.602056874479348e-05\n",
      "Failed to detect the name of this notebook, you can set it manually with the WANDB_NOTEBOOK_NAME environment variable to enable code saving.\n"
     ]
    },
    {
     "data": {
      "text/html": [
       "Tracking run with wandb version 0.16.5"
      ],
      "text/plain": [
       "<IPython.core.display.HTML object>"
      ]
     },
     "metadata": {},
     "output_type": "display_data"
    },
    {
     "data": {
      "text/html": [
       "Run data is saved locally in <code>c:\\Users\\Shobhith Vadlamudi\\Desktop\\3rd Year\\SEM 6\\RL\\wandb\\run-20240401_204846-fdf013gv</code>"
      ],
      "text/plain": [
       "<IPython.core.display.HTML object>"
      ]
     },
     "metadata": {},
     "output_type": "display_data"
    },
    {
     "data": {
      "text/html": [
       "Syncing run <strong><a href='https://wandb.ai/rl_shobhith/uncategorized/runs/fdf013gv/workspace' target=\"_blank\">fiery-sweep-23</a></strong> to <a href='https://wandb.ai/rl_shobhith/uncategorized' target=\"_blank\">Weights & Biases</a> (<a href='https://wandb.me/run' target=\"_blank\">docs</a>)<br/>Sweep page: <a href='https://wandb.ai/rl_shobhith/uncategorized/sweeps/ebygp3ca' target=\"_blank\">https://wandb.ai/rl_shobhith/uncategorized/sweeps/ebygp3ca</a>"
      ],
      "text/plain": [
       "<IPython.core.display.HTML object>"
      ]
     },
     "metadata": {},
     "output_type": "display_data"
    },
    {
     "data": {
      "text/html": [
       " View project at <a href='https://wandb.ai/rl_shobhith/uncategorized' target=\"_blank\">https://wandb.ai/rl_shobhith/uncategorized</a>"
      ],
      "text/plain": [
       "<IPython.core.display.HTML object>"
      ]
     },
     "metadata": {},
     "output_type": "display_data"
    },
    {
     "data": {
      "text/html": [
       " View sweep at <a href='https://wandb.ai/rl_shobhith/uncategorized/sweeps/ebygp3ca' target=\"_blank\">https://wandb.ai/rl_shobhith/uncategorized/sweeps/ebygp3ca</a>"
      ],
      "text/plain": [
       "<IPython.core.display.HTML object>"
      ]
     },
     "metadata": {},
     "output_type": "display_data"
    },
    {
     "data": {
      "text/html": [
       " View run at <a href='https://wandb.ai/rl_shobhith/uncategorized/runs/fdf013gv/workspace' target=\"_blank\">https://wandb.ai/rl_shobhith/uncategorized/runs/fdf013gv/workspace</a>"
      ],
      "text/plain": [
       "<IPython.core.display.HTML object>"
      ]
     },
     "metadata": {},
     "output_type": "display_data"
    },
    {
     "name": "stderr",
     "output_type": "stream",
     "text": [
      "Iteration 0: 100%|██████████| 50/50 [00:00<00:00, 55.95it/s, episode_return=50, return=21.300]\n",
      "Iteration 1: 100%|██████████| 50/50 [00:00<00:00, 54.56it/s, episode_return=100, return=18.700]\n",
      "Iteration 2: 100%|██████████| 50/50 [00:01<00:00, 47.63it/s, episode_return=150, return=28.000]\n",
      "Iteration 3: 100%|██████████| 50/50 [00:00<00:00, 52.73it/s, episode_return=200, return=19.100]\n",
      "Iteration 4: 100%|██████████| 50/50 [00:00<00:00, 52.81it/s, episode_return=250, return=24.100]\n",
      "Iteration 5: 100%|██████████| 50/50 [00:01<00:00, 46.44it/s, episode_return=300, return=24.600]\n",
      "Iteration 6: 100%|██████████| 50/50 [00:00<00:00, 54.62it/s, episode_return=350, return=26.500]\n",
      "Iteration 7: 100%|██████████| 50/50 [00:01<00:00, 49.20it/s, episode_return=400, return=25.300]\n",
      "Iteration 8: 100%|██████████| 50/50 [00:00<00:00, 58.53it/s, episode_return=450, return=21.400]\n",
      "Iteration 9: 100%|██████████| 50/50 [00:00<00:00, 51.83it/s, episode_return=500, return=26.000]\n"
     ]
    },
    {
     "data": {
      "application/vnd.jupyter.widget-view+json": {
       "model_id": "6bce9f7fd826452583f63b2e9cfebe5e",
       "version_major": 2,
       "version_minor": 0
      },
      "text/plain": [
       "VBox(children=(Label(value='0.001 MB of 0.007 MB uploaded\\r'), FloatProgress(value=0.16776625824693686, max=1.…"
      ]
     },
     "metadata": {},
     "output_type": "display_data"
    },
    {
     "data": {
      "text/html": [
       "<style>\n",
       "    table.wandb td:nth-child(1) { padding: 0 10px; text-align: left ; width: auto;} td:nth-child(2) {text-align: left ; width: 100%}\n",
       "    .wandb-row { display: flex; flex-direction: row; flex-wrap: wrap; justify-content: flex-start; width: 100% }\n",
       "    .wandb-col { display: flex; flex-direction: column; flex-basis: 100%; flex: 1; padding: 10px; }\n",
       "    </style>\n",
       "<div class=\"wandb-row\"><div class=\"wandb-col\"><h3>Run history:</h3><br/><table class=\"wandb\"><tr><td>regret</td><td>▁</td></tr></table><br/></div><div class=\"wandb-col\"><h3>Run summary:</h3><br/><table class=\"wandb\"><tr><td>regret</td><td>86044.34056</td></tr></table><br/></div></div>"
      ],
      "text/plain": [
       "<IPython.core.display.HTML object>"
      ]
     },
     "metadata": {},
     "output_type": "display_data"
    },
    {
     "data": {
      "text/html": [
       " View run <strong style=\"color:#cdcd00\">fiery-sweep-23</strong> at: <a href='https://wandb.ai/rl_shobhith/uncategorized/runs/fdf013gv/workspace' target=\"_blank\">https://wandb.ai/rl_shobhith/uncategorized/runs/fdf013gv/workspace</a><br/>Synced 5 W&B file(s), 0 media file(s), 0 artifact file(s) and 0 other file(s)"
      ],
      "text/plain": [
       "<IPython.core.display.HTML object>"
      ]
     },
     "metadata": {},
     "output_type": "display_data"
    },
    {
     "data": {
      "text/html": [
       "Find logs at: <code>.\\wandb\\run-20240401_204846-fdf013gv\\logs</code>"
      ],
      "text/plain": [
       "<IPython.core.display.HTML object>"
      ]
     },
     "metadata": {},
     "output_type": "display_data"
    },
    {
     "name": "stderr",
     "output_type": "stream",
     "text": [
      "\u001b[34m\u001b[1mwandb\u001b[0m: Agent Starting Run: q6vwl5mc with config:\n",
      "\u001b[34m\u001b[1mwandb\u001b[0m: \thidden_dim: 256\n",
      "\u001b[34m\u001b[1mwandb\u001b[0m: \tlearning_rate: 0.0008969253209904033\n",
      "Failed to detect the name of this notebook, you can set it manually with the WANDB_NOTEBOOK_NAME environment variable to enable code saving.\n"
     ]
    },
    {
     "data": {
      "text/html": [
       "Tracking run with wandb version 0.16.5"
      ],
      "text/plain": [
       "<IPython.core.display.HTML object>"
      ]
     },
     "metadata": {},
     "output_type": "display_data"
    },
    {
     "data": {
      "text/html": [
       "Run data is saved locally in <code>c:\\Users\\Shobhith Vadlamudi\\Desktop\\3rd Year\\SEM 6\\RL\\wandb\\run-20240401_204907-q6vwl5mc</code>"
      ],
      "text/plain": [
       "<IPython.core.display.HTML object>"
      ]
     },
     "metadata": {},
     "output_type": "display_data"
    },
    {
     "data": {
      "text/html": [
       "Syncing run <strong><a href='https://wandb.ai/rl_shobhith/uncategorized/runs/q6vwl5mc/workspace' target=\"_blank\">comfy-sweep-24</a></strong> to <a href='https://wandb.ai/rl_shobhith/uncategorized' target=\"_blank\">Weights & Biases</a> (<a href='https://wandb.me/run' target=\"_blank\">docs</a>)<br/>Sweep page: <a href='https://wandb.ai/rl_shobhith/uncategorized/sweeps/ebygp3ca' target=\"_blank\">https://wandb.ai/rl_shobhith/uncategorized/sweeps/ebygp3ca</a>"
      ],
      "text/plain": [
       "<IPython.core.display.HTML object>"
      ]
     },
     "metadata": {},
     "output_type": "display_data"
    },
    {
     "data": {
      "text/html": [
       " View project at <a href='https://wandb.ai/rl_shobhith/uncategorized' target=\"_blank\">https://wandb.ai/rl_shobhith/uncategorized</a>"
      ],
      "text/plain": [
       "<IPython.core.display.HTML object>"
      ]
     },
     "metadata": {},
     "output_type": "display_data"
    },
    {
     "data": {
      "text/html": [
       " View sweep at <a href='https://wandb.ai/rl_shobhith/uncategorized/sweeps/ebygp3ca' target=\"_blank\">https://wandb.ai/rl_shobhith/uncategorized/sweeps/ebygp3ca</a>"
      ],
      "text/plain": [
       "<IPython.core.display.HTML object>"
      ]
     },
     "metadata": {},
     "output_type": "display_data"
    },
    {
     "data": {
      "text/html": [
       " View run at <a href='https://wandb.ai/rl_shobhith/uncategorized/runs/q6vwl5mc/workspace' target=\"_blank\">https://wandb.ai/rl_shobhith/uncategorized/runs/q6vwl5mc/workspace</a>"
      ],
      "text/plain": [
       "<IPython.core.display.HTML object>"
      ]
     },
     "metadata": {},
     "output_type": "display_data"
    },
    {
     "name": "stderr",
     "output_type": "stream",
     "text": [
      "Iteration 0: 100%|██████████| 50/50 [00:02<00:00, 23.92it/s, episode_return=50, return=40.900]\n",
      "Iteration 1: 100%|██████████| 50/50 [00:03<00:00, 14.22it/s, episode_return=100, return=70.300]\n",
      "Iteration 2: 100%|██████████| 50/50 [00:04<00:00, 10.08it/s, episode_return=150, return=115.200]\n",
      "Iteration 3: 100%|██████████| 50/50 [00:07<00:00,  6.34it/s, episode_return=200, return=192.000]\n",
      "Iteration 4: 100%|██████████| 50/50 [00:08<00:00,  5.62it/s, episode_return=250, return=189.400]\n",
      "Iteration 5: 100%|██████████| 50/50 [00:12<00:00,  3.98it/s, episode_return=300, return=179.400]\n",
      "Iteration 6: 100%|██████████| 50/50 [00:13<00:00,  3.81it/s, episode_return=350, return=169.900]\n",
      "Iteration 7: 100%|██████████| 50/50 [00:12<00:00,  4.05it/s, episode_return=400, return=336.000]\n",
      "Iteration 8: 100%|██████████| 50/50 [00:13<00:00,  3.78it/s, episode_return=450, return=310.400]\n",
      "Iteration 9: 100%|██████████| 50/50 [00:12<00:00,  4.09it/s, episode_return=500, return=245.500]\n"
     ]
    },
    {
     "data": {
      "application/vnd.jupyter.widget-view+json": {
       "model_id": "77c45df183114759adfd6084d06ad787",
       "version_major": 2,
       "version_minor": 0
      },
      "text/plain": [
       "VBox(children=(Label(value='0.001 MB of 0.001 MB uploaded\\r'), FloatProgress(value=1.0, max=1.0)))"
      ]
     },
     "metadata": {},
     "output_type": "display_data"
    },
    {
     "data": {
      "text/html": [
       "<style>\n",
       "    table.wandb td:nth-child(1) { padding: 0 10px; text-align: left ; width: auto;} td:nth-child(2) {text-align: left ; width: 100%}\n",
       "    .wandb-row { display: flex; flex-direction: row; flex-wrap: wrap; justify-content: flex-start; width: 100% }\n",
       "    .wandb-col { display: flex; flex-direction: column; flex-basis: 100%; flex: 1; padding: 10px; }\n",
       "    </style>\n",
       "<div class=\"wandb-row\"><div class=\"wandb-col\"><h3>Run history:</h3><br/><table class=\"wandb\"><tr><td>regret</td><td>▁</td></tr></table><br/></div><div class=\"wandb-col\"><h3>Run summary:</h3><br/><table class=\"wandb\"><tr><td>regret</td><td>35604.88822</td></tr></table><br/></div></div>"
      ],
      "text/plain": [
       "<IPython.core.display.HTML object>"
      ]
     },
     "metadata": {},
     "output_type": "display_data"
    },
    {
     "data": {
      "text/html": [
       " View run <strong style=\"color:#cdcd00\">comfy-sweep-24</strong> at: <a href='https://wandb.ai/rl_shobhith/uncategorized/runs/q6vwl5mc/workspace' target=\"_blank\">https://wandb.ai/rl_shobhith/uncategorized/runs/q6vwl5mc/workspace</a><br/>Synced 5 W&B file(s), 0 media file(s), 0 artifact file(s) and 0 other file(s)"
      ],
      "text/plain": [
       "<IPython.core.display.HTML object>"
      ]
     },
     "metadata": {},
     "output_type": "display_data"
    },
    {
     "data": {
      "text/html": [
       "Find logs at: <code>.\\wandb\\run-20240401_204907-q6vwl5mc\\logs</code>"
      ],
      "text/plain": [
       "<IPython.core.display.HTML object>"
      ]
     },
     "metadata": {},
     "output_type": "display_data"
    },
    {
     "name": "stderr",
     "output_type": "stream",
     "text": [
      "\u001b[34m\u001b[1mwandb\u001b[0m: Agent Starting Run: m0c192xc with config:\n",
      "\u001b[34m\u001b[1mwandb\u001b[0m: \thidden_dim: 256\n",
      "\u001b[34m\u001b[1mwandb\u001b[0m: \tlearning_rate: 0.0005030828957003448\n",
      "Failed to detect the name of this notebook, you can set it manually with the WANDB_NOTEBOOK_NAME environment variable to enable code saving.\n"
     ]
    },
    {
     "data": {
      "text/html": [
       "Tracking run with wandb version 0.16.5"
      ],
      "text/plain": [
       "<IPython.core.display.HTML object>"
      ]
     },
     "metadata": {},
     "output_type": "display_data"
    },
    {
     "data": {
      "text/html": [
       "Run data is saved locally in <code>c:\\Users\\Shobhith Vadlamudi\\Desktop\\3rd Year\\SEM 6\\RL\\wandb\\run-20240401_205053-m0c192xc</code>"
      ],
      "text/plain": [
       "<IPython.core.display.HTML object>"
      ]
     },
     "metadata": {},
     "output_type": "display_data"
    },
    {
     "data": {
      "text/html": [
       "Syncing run <strong><a href='https://wandb.ai/rl_shobhith/uncategorized/runs/m0c192xc/workspace' target=\"_blank\">fine-sweep-25</a></strong> to <a href='https://wandb.ai/rl_shobhith/uncategorized' target=\"_blank\">Weights & Biases</a> (<a href='https://wandb.me/run' target=\"_blank\">docs</a>)<br/>Sweep page: <a href='https://wandb.ai/rl_shobhith/uncategorized/sweeps/ebygp3ca' target=\"_blank\">https://wandb.ai/rl_shobhith/uncategorized/sweeps/ebygp3ca</a>"
      ],
      "text/plain": [
       "<IPython.core.display.HTML object>"
      ]
     },
     "metadata": {},
     "output_type": "display_data"
    },
    {
     "data": {
      "text/html": [
       " View project at <a href='https://wandb.ai/rl_shobhith/uncategorized' target=\"_blank\">https://wandb.ai/rl_shobhith/uncategorized</a>"
      ],
      "text/plain": [
       "<IPython.core.display.HTML object>"
      ]
     },
     "metadata": {},
     "output_type": "display_data"
    },
    {
     "data": {
      "text/html": [
       " View sweep at <a href='https://wandb.ai/rl_shobhith/uncategorized/sweeps/ebygp3ca' target=\"_blank\">https://wandb.ai/rl_shobhith/uncategorized/sweeps/ebygp3ca</a>"
      ],
      "text/plain": [
       "<IPython.core.display.HTML object>"
      ]
     },
     "metadata": {},
     "output_type": "display_data"
    },
    {
     "data": {
      "text/html": [
       " View run at <a href='https://wandb.ai/rl_shobhith/uncategorized/runs/m0c192xc/workspace' target=\"_blank\">https://wandb.ai/rl_shobhith/uncategorized/runs/m0c192xc/workspace</a>"
      ],
      "text/plain": [
       "<IPython.core.display.HTML object>"
      ]
     },
     "metadata": {},
     "output_type": "display_data"
    },
    {
     "name": "stderr",
     "output_type": "stream",
     "text": [
      "Iteration 0: 100%|██████████| 50/50 [00:00<00:00, 59.28it/s, episode_return=50, return=27.600]\n",
      "Iteration 1: 100%|██████████| 50/50 [00:01<00:00, 38.25it/s, episode_return=100, return=46.000]\n",
      "Iteration 2: 100%|██████████| 50/50 [00:02<00:00, 23.11it/s, episode_return=150, return=41.400]\n",
      "Iteration 3: 100%|██████████| 50/50 [00:02<00:00, 17.30it/s, episode_return=200, return=49.500]\n",
      "Iteration 4: 100%|██████████| 50/50 [00:04<00:00, 11.25it/s, episode_return=250, return=63.600]\n",
      "Iteration 5: 100%|██████████| 50/50 [00:05<00:00,  8.47it/s, episode_return=300, return=84.100] \n",
      "Iteration 6: 100%|██████████| 50/50 [00:10<00:00,  4.87it/s, episode_return=350, return=209.300]\n",
      "Iteration 7: 100%|██████████| 50/50 [00:11<00:00,  4.52it/s, episode_return=400, return=168.400]\n",
      "Iteration 8: 100%|██████████| 50/50 [00:12<00:00,  3.91it/s, episode_return=450, return=105.200]\n",
      "Iteration 9: 100%|██████████| 50/50 [00:12<00:00,  3.92it/s, episode_return=500, return=252.500]\n"
     ]
    },
    {
     "data": {
      "application/vnd.jupyter.widget-view+json": {
       "model_id": "608957f666894156b35202a5b2c63eec",
       "version_major": 2,
       "version_minor": 0
      },
      "text/plain": [
       "VBox(children=(Label(value='0.001 MB of 0.001 MB uploaded\\r'), FloatProgress(value=1.0, max=1.0)))"
      ]
     },
     "metadata": {},
     "output_type": "display_data"
    },
    {
     "data": {
      "text/html": [
       "<style>\n",
       "    table.wandb td:nth-child(1) { padding: 0 10px; text-align: left ; width: auto;} td:nth-child(2) {text-align: left ; width: 100%}\n",
       "    .wandb-row { display: flex; flex-direction: row; flex-wrap: wrap; justify-content: flex-start; width: 100% }\n",
       "    .wandb-col { display: flex; flex-direction: column; flex-basis: 100%; flex: 1; padding: 10px; }\n",
       "    </style>\n",
       "<div class=\"wandb-row\"><div class=\"wandb-col\"><h3>Run history:</h3><br/><table class=\"wandb\"><tr><td>regret</td><td>▁</td></tr></table><br/></div><div class=\"wandb-col\"><h3>Run summary:</h3><br/><table class=\"wandb\"><tr><td>regret</td><td>53014.15151</td></tr></table><br/></div></div>"
      ],
      "text/plain": [
       "<IPython.core.display.HTML object>"
      ]
     },
     "metadata": {},
     "output_type": "display_data"
    },
    {
     "data": {
      "text/html": [
       " View run <strong style=\"color:#cdcd00\">fine-sweep-25</strong> at: <a href='https://wandb.ai/rl_shobhith/uncategorized/runs/m0c192xc/workspace' target=\"_blank\">https://wandb.ai/rl_shobhith/uncategorized/runs/m0c192xc/workspace</a><br/>Synced 5 W&B file(s), 0 media file(s), 0 artifact file(s) and 0 other file(s)"
      ],
      "text/plain": [
       "<IPython.core.display.HTML object>"
      ]
     },
     "metadata": {},
     "output_type": "display_data"
    },
    {
     "data": {
      "text/html": [
       "Find logs at: <code>.\\wandb\\run-20240401_205053-m0c192xc\\logs</code>"
      ],
      "text/plain": [
       "<IPython.core.display.HTML object>"
      ]
     },
     "metadata": {},
     "output_type": "display_data"
    },
    {
     "name": "stderr",
     "output_type": "stream",
     "text": [
      "\u001b[34m\u001b[1mwandb\u001b[0m: Agent Starting Run: nxf4eqks with config:\n",
      "\u001b[34m\u001b[1mwandb\u001b[0m: \thidden_dim: 128\n",
      "\u001b[34m\u001b[1mwandb\u001b[0m: \tlearning_rate: 0.00013540778055369323\n",
      "Failed to detect the name of this notebook, you can set it manually with the WANDB_NOTEBOOK_NAME environment variable to enable code saving.\n"
     ]
    },
    {
     "data": {
      "text/html": [
       "Tracking run with wandb version 0.16.5"
      ],
      "text/plain": [
       "<IPython.core.display.HTML object>"
      ]
     },
     "metadata": {},
     "output_type": "display_data"
    },
    {
     "data": {
      "text/html": [
       "Run data is saved locally in <code>c:\\Users\\Shobhith Vadlamudi\\Desktop\\3rd Year\\SEM 6\\RL\\wandb\\run-20240401_205209-nxf4eqks</code>"
      ],
      "text/plain": [
       "<IPython.core.display.HTML object>"
      ]
     },
     "metadata": {},
     "output_type": "display_data"
    },
    {
     "data": {
      "text/html": [
       "Syncing run <strong><a href='https://wandb.ai/rl_shobhith/uncategorized/runs/nxf4eqks/workspace' target=\"_blank\">wandering-sweep-26</a></strong> to <a href='https://wandb.ai/rl_shobhith/uncategorized' target=\"_blank\">Weights & Biases</a> (<a href='https://wandb.me/run' target=\"_blank\">docs</a>)<br/>Sweep page: <a href='https://wandb.ai/rl_shobhith/uncategorized/sweeps/ebygp3ca' target=\"_blank\">https://wandb.ai/rl_shobhith/uncategorized/sweeps/ebygp3ca</a>"
      ],
      "text/plain": [
       "<IPython.core.display.HTML object>"
      ]
     },
     "metadata": {},
     "output_type": "display_data"
    },
    {
     "data": {
      "text/html": [
       " View project at <a href='https://wandb.ai/rl_shobhith/uncategorized' target=\"_blank\">https://wandb.ai/rl_shobhith/uncategorized</a>"
      ],
      "text/plain": [
       "<IPython.core.display.HTML object>"
      ]
     },
     "metadata": {},
     "output_type": "display_data"
    },
    {
     "data": {
      "text/html": [
       " View sweep at <a href='https://wandb.ai/rl_shobhith/uncategorized/sweeps/ebygp3ca' target=\"_blank\">https://wandb.ai/rl_shobhith/uncategorized/sweeps/ebygp3ca</a>"
      ],
      "text/plain": [
       "<IPython.core.display.HTML object>"
      ]
     },
     "metadata": {},
     "output_type": "display_data"
    },
    {
     "data": {
      "text/html": [
       " View run at <a href='https://wandb.ai/rl_shobhith/uncategorized/runs/nxf4eqks/workspace' target=\"_blank\">https://wandb.ai/rl_shobhith/uncategorized/runs/nxf4eqks/workspace</a>"
      ],
      "text/plain": [
       "<IPython.core.display.HTML object>"
      ]
     },
     "metadata": {},
     "output_type": "display_data"
    },
    {
     "name": "stderr",
     "output_type": "stream",
     "text": [
      "Iteration 0: 100%|██████████| 50/50 [00:01<00:00, 49.18it/s, episode_return=50, return=17.100]\n",
      "Iteration 1: 100%|██████████| 50/50 [00:01<00:00, 35.36it/s, episode_return=100, return=29.200]\n",
      "Iteration 2: 100%|██████████| 50/50 [00:01<00:00, 37.20it/s, episode_return=150, return=24.600]\n",
      "Iteration 3: 100%|██████████| 50/50 [00:01<00:00, 32.09it/s, episode_return=200, return=21.500]\n",
      "Iteration 4: 100%|██████████| 50/50 [00:01<00:00, 35.96it/s, episode_return=250, return=29.600]\n",
      "Iteration 5: 100%|██████████| 50/50 [00:01<00:00, 28.20it/s, episode_return=300, return=27.400]\n",
      "Iteration 6: 100%|██████████| 50/50 [00:01<00:00, 31.02it/s, episode_return=350, return=21.500]\n",
      "Iteration 7: 100%|██████████| 50/50 [00:01<00:00, 35.82it/s, episode_return=400, return=25.400]\n",
      "Iteration 8: 100%|██████████| 50/50 [00:01<00:00, 30.40it/s, episode_return=450, return=38.200]\n",
      "Iteration 9: 100%|██████████| 50/50 [00:01<00:00, 27.69it/s, episode_return=500, return=32.700]\n"
     ]
    },
    {
     "data": {
      "application/vnd.jupyter.widget-view+json": {
       "model_id": "e65d264519674df499b805824f12e9be",
       "version_major": 2,
       "version_minor": 0
      },
      "text/plain": [
       "VBox(children=(Label(value='0.001 MB of 0.001 MB uploaded\\r'), FloatProgress(value=1.0, max=1.0)))"
      ]
     },
     "metadata": {},
     "output_type": "display_data"
    },
    {
     "data": {
      "text/html": [
       "<style>\n",
       "    table.wandb td:nth-child(1) { padding: 0 10px; text-align: left ; width: auto;} td:nth-child(2) {text-align: left ; width: 100%}\n",
       "    .wandb-row { display: flex; flex-direction: row; flex-wrap: wrap; justify-content: flex-start; width: 100% }\n",
       "    .wandb-col { display: flex; flex-direction: column; flex-basis: 100%; flex: 1; padding: 10px; }\n",
       "    </style>\n",
       "<div class=\"wandb-row\"><div class=\"wandb-col\"><h3>Run history:</h3><br/><table class=\"wandb\"><tr><td>regret</td><td>▁</td></tr></table><br/></div><div class=\"wandb-col\"><h3>Run summary:</h3><br/><table class=\"wandb\"><tr><td>regret</td><td>85513.15783</td></tr></table><br/></div></div>"
      ],
      "text/plain": [
       "<IPython.core.display.HTML object>"
      ]
     },
     "metadata": {},
     "output_type": "display_data"
    },
    {
     "data": {
      "text/html": [
       " View run <strong style=\"color:#cdcd00\">wandering-sweep-26</strong> at: <a href='https://wandb.ai/rl_shobhith/uncategorized/runs/nxf4eqks/workspace' target=\"_blank\">https://wandb.ai/rl_shobhith/uncategorized/runs/nxf4eqks/workspace</a><br/>Synced 5 W&B file(s), 0 media file(s), 0 artifact file(s) and 0 other file(s)"
      ],
      "text/plain": [
       "<IPython.core.display.HTML object>"
      ]
     },
     "metadata": {},
     "output_type": "display_data"
    },
    {
     "data": {
      "text/html": [
       "Find logs at: <code>.\\wandb\\run-20240401_205209-nxf4eqks\\logs</code>"
      ],
      "text/plain": [
       "<IPython.core.display.HTML object>"
      ]
     },
     "metadata": {},
     "output_type": "display_data"
    },
    {
     "name": "stderr",
     "output_type": "stream",
     "text": [
      "\u001b[34m\u001b[1mwandb\u001b[0m: Agent Starting Run: tncc3r6v with config:\n",
      "\u001b[34m\u001b[1mwandb\u001b[0m: \thidden_dim: 256\n",
      "\u001b[34m\u001b[1mwandb\u001b[0m: \tlearning_rate: 0.0008203137498887878\n",
      "Failed to detect the name of this notebook, you can set it manually with the WANDB_NOTEBOOK_NAME environment variable to enable code saving.\n"
     ]
    },
    {
     "data": {
      "text/html": [
       "Tracking run with wandb version 0.16.5"
      ],
      "text/plain": [
       "<IPython.core.display.HTML object>"
      ]
     },
     "metadata": {},
     "output_type": "display_data"
    },
    {
     "data": {
      "text/html": [
       "Run data is saved locally in <code>c:\\Users\\Shobhith Vadlamudi\\Desktop\\3rd Year\\SEM 6\\RL\\wandb\\run-20240401_205236-tncc3r6v</code>"
      ],
      "text/plain": [
       "<IPython.core.display.HTML object>"
      ]
     },
     "metadata": {},
     "output_type": "display_data"
    },
    {
     "data": {
      "text/html": [
       "Syncing run <strong><a href='https://wandb.ai/rl_shobhith/uncategorized/runs/tncc3r6v/workspace' target=\"_blank\">ruby-sweep-27</a></strong> to <a href='https://wandb.ai/rl_shobhith/uncategorized' target=\"_blank\">Weights & Biases</a> (<a href='https://wandb.me/run' target=\"_blank\">docs</a>)<br/>Sweep page: <a href='https://wandb.ai/rl_shobhith/uncategorized/sweeps/ebygp3ca' target=\"_blank\">https://wandb.ai/rl_shobhith/uncategorized/sweeps/ebygp3ca</a>"
      ],
      "text/plain": [
       "<IPython.core.display.HTML object>"
      ]
     },
     "metadata": {},
     "output_type": "display_data"
    },
    {
     "data": {
      "text/html": [
       " View project at <a href='https://wandb.ai/rl_shobhith/uncategorized' target=\"_blank\">https://wandb.ai/rl_shobhith/uncategorized</a>"
      ],
      "text/plain": [
       "<IPython.core.display.HTML object>"
      ]
     },
     "metadata": {},
     "output_type": "display_data"
    },
    {
     "data": {
      "text/html": [
       " View sweep at <a href='https://wandb.ai/rl_shobhith/uncategorized/sweeps/ebygp3ca' target=\"_blank\">https://wandb.ai/rl_shobhith/uncategorized/sweeps/ebygp3ca</a>"
      ],
      "text/plain": [
       "<IPython.core.display.HTML object>"
      ]
     },
     "metadata": {},
     "output_type": "display_data"
    },
    {
     "data": {
      "text/html": [
       " View run at <a href='https://wandb.ai/rl_shobhith/uncategorized/runs/tncc3r6v/workspace' target=\"_blank\">https://wandb.ai/rl_shobhith/uncategorized/runs/tncc3r6v/workspace</a>"
      ],
      "text/plain": [
       "<IPython.core.display.HTML object>"
      ]
     },
     "metadata": {},
     "output_type": "display_data"
    },
    {
     "name": "stderr",
     "output_type": "stream",
     "text": [
      "Iteration 0: 100%|██████████| 50/50 [00:01<00:00, 26.67it/s, episode_return=50, return=33.800]\n",
      "Iteration 1: 100%|██████████| 50/50 [00:02<00:00, 19.41it/s, episode_return=100, return=57.300]\n",
      "Iteration 2: 100%|██████████| 50/50 [00:04<00:00, 10.22it/s, episode_return=150, return=125.100]\n",
      "Iteration 3: 100%|██████████| 50/50 [00:06<00:00,  8.06it/s, episode_return=200, return=116.300]\n",
      "Iteration 4: 100%|██████████| 50/50 [00:08<00:00,  5.66it/s, episode_return=250, return=261.800]\n",
      "Iteration 5: 100%|██████████| 50/50 [00:14<00:00,  3.57it/s, episode_return=300, return=361.600]\n",
      "Iteration 6: 100%|██████████| 50/50 [00:12<00:00,  3.85it/s, episode_return=350, return=344.000]\n",
      "Iteration 7: 100%|██████████| 50/50 [00:12<00:00,  4.12it/s, episode_return=400, return=303.800]\n",
      "Iteration 8: 100%|██████████| 50/50 [00:18<00:00,  2.73it/s, episode_return=450, return=293.400]\n",
      "Iteration 9: 100%|██████████| 50/50 [00:16<00:00,  3.02it/s, episode_return=500, return=168.600]\n"
     ]
    },
    {
     "data": {
      "application/vnd.jupyter.widget-view+json": {
       "model_id": "db2f91388ceb46669a3d10b9b643ded1",
       "version_major": 2,
       "version_minor": 0
      },
      "text/plain": [
       "VBox(children=(Label(value='0.001 MB of 0.007 MB uploaded\\r'), FloatProgress(value=0.16675581706338594, max=1.…"
      ]
     },
     "metadata": {},
     "output_type": "display_data"
    },
    {
     "data": {
      "text/html": [
       "<style>\n",
       "    table.wandb td:nth-child(1) { padding: 0 10px; text-align: left ; width: auto;} td:nth-child(2) {text-align: left ; width: 100%}\n",
       "    .wandb-row { display: flex; flex-direction: row; flex-wrap: wrap; justify-content: flex-start; width: 100% }\n",
       "    .wandb-col { display: flex; flex-direction: column; flex-basis: 100%; flex: 1; padding: 10px; }\n",
       "    </style>\n",
       "<div class=\"wandb-row\"><div class=\"wandb-col\"><h3>Run history:</h3><br/><table class=\"wandb\"><tr><td>regret</td><td>▁</td></tr></table><br/></div><div class=\"wandb-col\"><h3>Run summary:</h3><br/><table class=\"wandb\"><tr><td>regret</td><td>32531.05118</td></tr></table><br/></div></div>"
      ],
      "text/plain": [
       "<IPython.core.display.HTML object>"
      ]
     },
     "metadata": {},
     "output_type": "display_data"
    },
    {
     "data": {
      "text/html": [
       " View run <strong style=\"color:#cdcd00\">ruby-sweep-27</strong> at: <a href='https://wandb.ai/rl_shobhith/uncategorized/runs/tncc3r6v/workspace' target=\"_blank\">https://wandb.ai/rl_shobhith/uncategorized/runs/tncc3r6v/workspace</a><br/>Synced 5 W&B file(s), 0 media file(s), 0 artifact file(s) and 0 other file(s)"
      ],
      "text/plain": [
       "<IPython.core.display.HTML object>"
      ]
     },
     "metadata": {},
     "output_type": "display_data"
    },
    {
     "data": {
      "text/html": [
       "Find logs at: <code>.\\wandb\\run-20240401_205236-tncc3r6v\\logs</code>"
      ],
      "text/plain": [
       "<IPython.core.display.HTML object>"
      ]
     },
     "metadata": {},
     "output_type": "display_data"
    },
    {
     "name": "stderr",
     "output_type": "stream",
     "text": [
      "\u001b[34m\u001b[1mwandb\u001b[0m: Sweep Agent: Waiting for job.\n",
      "\u001b[34m\u001b[1mwandb\u001b[0m: Job received.\n",
      "\u001b[34m\u001b[1mwandb\u001b[0m: Agent Starting Run: nzt6wyns with config:\n",
      "\u001b[34m\u001b[1mwandb\u001b[0m: \thidden_dim: 256\n",
      "\u001b[34m\u001b[1mwandb\u001b[0m: \tlearning_rate: 0.00024157632586018545\n",
      "Failed to detect the name of this notebook, you can set it manually with the WANDB_NOTEBOOK_NAME environment variable to enable code saving.\n"
     ]
    },
    {
     "data": {
      "text/html": [
       "Tracking run with wandb version 0.16.5"
      ],
      "text/plain": [
       "<IPython.core.display.HTML object>"
      ]
     },
     "metadata": {},
     "output_type": "display_data"
    },
    {
     "data": {
      "text/html": [
       "Run data is saved locally in <code>c:\\Users\\Shobhith Vadlamudi\\Desktop\\3rd Year\\SEM 6\\RL\\wandb\\run-20240401_205433-nzt6wyns</code>"
      ],
      "text/plain": [
       "<IPython.core.display.HTML object>"
      ]
     },
     "metadata": {},
     "output_type": "display_data"
    },
    {
     "data": {
      "text/html": [
       "Syncing run <strong><a href='https://wandb.ai/rl_shobhith/uncategorized/runs/nzt6wyns/workspace' target=\"_blank\">glorious-sweep-28</a></strong> to <a href='https://wandb.ai/rl_shobhith/uncategorized' target=\"_blank\">Weights & Biases</a> (<a href='https://wandb.me/run' target=\"_blank\">docs</a>)<br/>Sweep page: <a href='https://wandb.ai/rl_shobhith/uncategorized/sweeps/ebygp3ca' target=\"_blank\">https://wandb.ai/rl_shobhith/uncategorized/sweeps/ebygp3ca</a>"
      ],
      "text/plain": [
       "<IPython.core.display.HTML object>"
      ]
     },
     "metadata": {},
     "output_type": "display_data"
    },
    {
     "data": {
      "text/html": [
       " View project at <a href='https://wandb.ai/rl_shobhith/uncategorized' target=\"_blank\">https://wandb.ai/rl_shobhith/uncategorized</a>"
      ],
      "text/plain": [
       "<IPython.core.display.HTML object>"
      ]
     },
     "metadata": {},
     "output_type": "display_data"
    },
    {
     "data": {
      "text/html": [
       " View sweep at <a href='https://wandb.ai/rl_shobhith/uncategorized/sweeps/ebygp3ca' target=\"_blank\">https://wandb.ai/rl_shobhith/uncategorized/sweeps/ebygp3ca</a>"
      ],
      "text/plain": [
       "<IPython.core.display.HTML object>"
      ]
     },
     "metadata": {},
     "output_type": "display_data"
    },
    {
     "data": {
      "text/html": [
       " View run at <a href='https://wandb.ai/rl_shobhith/uncategorized/runs/nzt6wyns/workspace' target=\"_blank\">https://wandb.ai/rl_shobhith/uncategorized/runs/nzt6wyns/workspace</a>"
      ],
      "text/plain": [
       "<IPython.core.display.HTML object>"
      ]
     },
     "metadata": {},
     "output_type": "display_data"
    },
    {
     "name": "stderr",
     "output_type": "stream",
     "text": [
      "Iteration 0: 100%|██████████| 50/50 [00:01<00:00, 28.75it/s, episode_return=50, return=20.000]\n",
      "Iteration 1: 100%|██████████| 50/50 [00:02<00:00, 22.97it/s, episode_return=100, return=23.900]\n",
      "Iteration 2: 100%|██████████| 50/50 [00:02<00:00, 24.39it/s, episode_return=150, return=30.400]\n",
      "Iteration 3: 100%|██████████| 50/50 [00:02<00:00, 18.75it/s, episode_return=200, return=52.100]\n",
      "Iteration 4: 100%|██████████| 50/50 [00:02<00:00, 16.99it/s, episode_return=250, return=32.500]\n",
      "Iteration 5: 100%|██████████| 50/50 [00:03<00:00, 13.37it/s, episode_return=300, return=64.000]\n",
      "Iteration 6: 100%|██████████| 50/50 [00:02<00:00, 20.31it/s, episode_return=350, return=46.900]\n",
      "Iteration 7: 100%|██████████| 50/50 [00:03<00:00, 16.14it/s, episode_return=400, return=63.100]\n",
      "Iteration 8: 100%|██████████| 50/50 [00:04<00:00, 11.06it/s, episode_return=450, return=140.700]\n",
      "Iteration 9: 100%|██████████| 50/50 [00:06<00:00,  8.28it/s, episode_return=500, return=92.800] \n"
     ]
    },
    {
     "data": {
      "application/vnd.jupyter.widget-view+json": {
       "model_id": "74f76020c8f5485191e559ca3caa549e",
       "version_major": 2,
       "version_minor": 0
      },
      "text/plain": [
       "VBox(children=(Label(value='0.001 MB of 0.001 MB uploaded\\r'), FloatProgress(value=1.0, max=1.0)))"
      ]
     },
     "metadata": {},
     "output_type": "display_data"
    },
    {
     "data": {
      "text/html": [
       "<style>\n",
       "    table.wandb td:nth-child(1) { padding: 0 10px; text-align: left ; width: auto;} td:nth-child(2) {text-align: left ; width: 100%}\n",
       "    .wandb-row { display: flex; flex-direction: row; flex-wrap: wrap; justify-content: flex-start; width: 100% }\n",
       "    .wandb-col { display: flex; flex-direction: column; flex-basis: 100%; flex: 1; padding: 10px; }\n",
       "    </style>\n",
       "<div class=\"wandb-row\"><div class=\"wandb-col\"><h3>Run history:</h3><br/><table class=\"wandb\"><tr><td>regret</td><td>▁</td></tr></table><br/></div><div class=\"wandb-col\"><h3>Run summary:</h3><br/><table class=\"wandb\"><tr><td>regret</td><td>74440.9717</td></tr></table><br/></div></div>"
      ],
      "text/plain": [
       "<IPython.core.display.HTML object>"
      ]
     },
     "metadata": {},
     "output_type": "display_data"
    },
    {
     "data": {
      "text/html": [
       " View run <strong style=\"color:#cdcd00\">glorious-sweep-28</strong> at: <a href='https://wandb.ai/rl_shobhith/uncategorized/runs/nzt6wyns/workspace' target=\"_blank\">https://wandb.ai/rl_shobhith/uncategorized/runs/nzt6wyns/workspace</a><br/>Synced 5 W&B file(s), 0 media file(s), 0 artifact file(s) and 0 other file(s)"
      ],
      "text/plain": [
       "<IPython.core.display.HTML object>"
      ]
     },
     "metadata": {},
     "output_type": "display_data"
    },
    {
     "data": {
      "text/html": [
       "Find logs at: <code>.\\wandb\\run-20240401_205433-nzt6wyns\\logs</code>"
      ],
      "text/plain": [
       "<IPython.core.display.HTML object>"
      ]
     },
     "metadata": {},
     "output_type": "display_data"
    },
    {
     "name": "stderr",
     "output_type": "stream",
     "text": [
      "\u001b[34m\u001b[1mwandb\u001b[0m: Agent Starting Run: difie02c with config:\n",
      "\u001b[34m\u001b[1mwandb\u001b[0m: \thidden_dim: 128\n",
      "\u001b[34m\u001b[1mwandb\u001b[0m: \tlearning_rate: 0.00015327181644829357\n",
      "Failed to detect the name of this notebook, you can set it manually with the WANDB_NOTEBOOK_NAME environment variable to enable code saving.\n"
     ]
    },
    {
     "data": {
      "text/html": [
       "Tracking run with wandb version 0.16.5"
      ],
      "text/plain": [
       "<IPython.core.display.HTML object>"
      ]
     },
     "metadata": {},
     "output_type": "display_data"
    },
    {
     "data": {
      "text/html": [
       "Run data is saved locally in <code>c:\\Users\\Shobhith Vadlamudi\\Desktop\\3rd Year\\SEM 6\\RL\\wandb\\run-20240401_205517-difie02c</code>"
      ],
      "text/plain": [
       "<IPython.core.display.HTML object>"
      ]
     },
     "metadata": {},
     "output_type": "display_data"
    },
    {
     "data": {
      "text/html": [
       "Syncing run <strong><a href='https://wandb.ai/rl_shobhith/uncategorized/runs/difie02c/workspace' target=\"_blank\">polar-sweep-29</a></strong> to <a href='https://wandb.ai/rl_shobhith/uncategorized' target=\"_blank\">Weights & Biases</a> (<a href='https://wandb.me/run' target=\"_blank\">docs</a>)<br/>Sweep page: <a href='https://wandb.ai/rl_shobhith/uncategorized/sweeps/ebygp3ca' target=\"_blank\">https://wandb.ai/rl_shobhith/uncategorized/sweeps/ebygp3ca</a>"
      ],
      "text/plain": [
       "<IPython.core.display.HTML object>"
      ]
     },
     "metadata": {},
     "output_type": "display_data"
    },
    {
     "data": {
      "text/html": [
       " View project at <a href='https://wandb.ai/rl_shobhith/uncategorized' target=\"_blank\">https://wandb.ai/rl_shobhith/uncategorized</a>"
      ],
      "text/plain": [
       "<IPython.core.display.HTML object>"
      ]
     },
     "metadata": {},
     "output_type": "display_data"
    },
    {
     "data": {
      "text/html": [
       " View sweep at <a href='https://wandb.ai/rl_shobhith/uncategorized/sweeps/ebygp3ca' target=\"_blank\">https://wandb.ai/rl_shobhith/uncategorized/sweeps/ebygp3ca</a>"
      ],
      "text/plain": [
       "<IPython.core.display.HTML object>"
      ]
     },
     "metadata": {},
     "output_type": "display_data"
    },
    {
     "data": {
      "text/html": [
       " View run at <a href='https://wandb.ai/rl_shobhith/uncategorized/runs/difie02c/workspace' target=\"_blank\">https://wandb.ai/rl_shobhith/uncategorized/runs/difie02c/workspace</a>"
      ],
      "text/plain": [
       "<IPython.core.display.HTML object>"
      ]
     },
     "metadata": {},
     "output_type": "display_data"
    },
    {
     "name": "stderr",
     "output_type": "stream",
     "text": [
      "Iteration 0: 100%|██████████| 50/50 [00:01<00:00, 43.84it/s, episode_return=50, return=22.500]\n",
      "Iteration 1: 100%|██████████| 50/50 [00:00<00:00, 53.01it/s, episode_return=100, return=19.900]\n",
      "Iteration 2: 100%|██████████| 50/50 [00:01<00:00, 48.53it/s, episode_return=150, return=25.000]\n",
      "Iteration 3: 100%|██████████| 50/50 [00:00<00:00, 51.26it/s, episode_return=200, return=20.000]\n",
      "Iteration 4: 100%|██████████| 50/50 [00:01<00:00, 45.94it/s, episode_return=250, return=29.500]\n",
      "Iteration 5: 100%|██████████| 50/50 [00:01<00:00, 42.70it/s, episode_return=300, return=29.700]\n",
      "Iteration 6: 100%|██████████| 50/50 [00:01<00:00, 40.10it/s, episode_return=350, return=27.400]\n",
      "Iteration 7: 100%|██████████| 50/50 [00:01<00:00, 45.08it/s, episode_return=400, return=30.400]\n",
      "Iteration 8: 100%|██████████| 50/50 [00:01<00:00, 41.89it/s, episode_return=450, return=26.100]\n",
      "Iteration 9: 100%|██████████| 50/50 [00:01<00:00, 41.39it/s, episode_return=500, return=48.200]\n"
     ]
    },
    {
     "data": {
      "application/vnd.jupyter.widget-view+json": {
       "model_id": "76335aadd0b24e3fb8a43bf89952ad3a",
       "version_major": 2,
       "version_minor": 0
      },
      "text/plain": [
       "VBox(children=(Label(value='0.001 MB of 0.001 MB uploaded\\r'), FloatProgress(value=1.0, max=1.0)))"
      ]
     },
     "metadata": {},
     "output_type": "display_data"
    },
    {
     "data": {
      "text/html": [
       "<style>\n",
       "    table.wandb td:nth-child(1) { padding: 0 10px; text-align: left ; width: auto;} td:nth-child(2) {text-align: left ; width: 100%}\n",
       "    .wandb-row { display: flex; flex-direction: row; flex-wrap: wrap; justify-content: flex-start; width: 100% }\n",
       "    .wandb-col { display: flex; flex-direction: column; flex-basis: 100%; flex: 1; padding: 10px; }\n",
       "    </style>\n",
       "<div class=\"wandb-row\"><div class=\"wandb-col\"><h3>Run history:</h3><br/><table class=\"wandb\"><tr><td>regret</td><td>▁</td></tr></table><br/></div><div class=\"wandb-col\"><h3>Run summary:</h3><br/><table class=\"wandb\"><tr><td>regret</td><td>84360.95496</td></tr></table><br/></div></div>"
      ],
      "text/plain": [
       "<IPython.core.display.HTML object>"
      ]
     },
     "metadata": {},
     "output_type": "display_data"
    },
    {
     "data": {
      "text/html": [
       " View run <strong style=\"color:#cdcd00\">polar-sweep-29</strong> at: <a href='https://wandb.ai/rl_shobhith/uncategorized/runs/difie02c/workspace' target=\"_blank\">https://wandb.ai/rl_shobhith/uncategorized/runs/difie02c/workspace</a><br/>Synced 5 W&B file(s), 0 media file(s), 0 artifact file(s) and 0 other file(s)"
      ],
      "text/plain": [
       "<IPython.core.display.HTML object>"
      ]
     },
     "metadata": {},
     "output_type": "display_data"
    },
    {
     "data": {
      "text/html": [
       "Find logs at: <code>.\\wandb\\run-20240401_205517-difie02c\\logs</code>"
      ],
      "text/plain": [
       "<IPython.core.display.HTML object>"
      ]
     },
     "metadata": {},
     "output_type": "display_data"
    },
    {
     "name": "stderr",
     "output_type": "stream",
     "text": [
      "\u001b[34m\u001b[1mwandb\u001b[0m: Agent Starting Run: rpfau8th with config:\n",
      "\u001b[34m\u001b[1mwandb\u001b[0m: \thidden_dim: 128\n",
      "\u001b[34m\u001b[1mwandb\u001b[0m: \tlearning_rate: 0.0009769980339656365\n",
      "Failed to detect the name of this notebook, you can set it manually with the WANDB_NOTEBOOK_NAME environment variable to enable code saving.\n"
     ]
    },
    {
     "data": {
      "text/html": [
       "Tracking run with wandb version 0.16.5"
      ],
      "text/plain": [
       "<IPython.core.display.HTML object>"
      ]
     },
     "metadata": {},
     "output_type": "display_data"
    },
    {
     "data": {
      "text/html": [
       "Run data is saved locally in <code>c:\\Users\\Shobhith Vadlamudi\\Desktop\\3rd Year\\SEM 6\\RL\\wandb\\run-20240401_205537-rpfau8th</code>"
      ],
      "text/plain": [
       "<IPython.core.display.HTML object>"
      ]
     },
     "metadata": {},
     "output_type": "display_data"
    },
    {
     "data": {
      "text/html": [
       "Syncing run <strong><a href='https://wandb.ai/rl_shobhith/uncategorized/runs/rpfau8th/workspace' target=\"_blank\">crimson-sweep-30</a></strong> to <a href='https://wandb.ai/rl_shobhith/uncategorized' target=\"_blank\">Weights & Biases</a> (<a href='https://wandb.me/run' target=\"_blank\">docs</a>)<br/>Sweep page: <a href='https://wandb.ai/rl_shobhith/uncategorized/sweeps/ebygp3ca' target=\"_blank\">https://wandb.ai/rl_shobhith/uncategorized/sweeps/ebygp3ca</a>"
      ],
      "text/plain": [
       "<IPython.core.display.HTML object>"
      ]
     },
     "metadata": {},
     "output_type": "display_data"
    },
    {
     "data": {
      "text/html": [
       " View project at <a href='https://wandb.ai/rl_shobhith/uncategorized' target=\"_blank\">https://wandb.ai/rl_shobhith/uncategorized</a>"
      ],
      "text/plain": [
       "<IPython.core.display.HTML object>"
      ]
     },
     "metadata": {},
     "output_type": "display_data"
    },
    {
     "data": {
      "text/html": [
       " View sweep at <a href='https://wandb.ai/rl_shobhith/uncategorized/sweeps/ebygp3ca' target=\"_blank\">https://wandb.ai/rl_shobhith/uncategorized/sweeps/ebygp3ca</a>"
      ],
      "text/plain": [
       "<IPython.core.display.HTML object>"
      ]
     },
     "metadata": {},
     "output_type": "display_data"
    },
    {
     "data": {
      "text/html": [
       " View run at <a href='https://wandb.ai/rl_shobhith/uncategorized/runs/rpfau8th/workspace' target=\"_blank\">https://wandb.ai/rl_shobhith/uncategorized/runs/rpfau8th/workspace</a>"
      ],
      "text/plain": [
       "<IPython.core.display.HTML object>"
      ]
     },
     "metadata": {},
     "output_type": "display_data"
    },
    {
     "name": "stderr",
     "output_type": "stream",
     "text": [
      "Iteration 0: 100%|██████████| 50/50 [00:00<00:00, 62.87it/s, episode_return=50, return=23.300]\n",
      "Iteration 1: 100%|██████████| 50/50 [00:00<00:00, 52.00it/s, episode_return=100, return=42.300]\n",
      "Iteration 2: 100%|██████████| 50/50 [00:01<00:00, 34.21it/s, episode_return=150, return=65.300]\n",
      "Iteration 3: 100%|██████████| 50/50 [00:01<00:00, 27.76it/s, episode_return=200, return=89.200]\n",
      "Iteration 4: 100%|██████████| 50/50 [00:03<00:00, 13.32it/s, episode_return=250, return=149.700]\n",
      "Iteration 5: 100%|██████████| 50/50 [00:06<00:00,  7.35it/s, episode_return=300, return=240.500]\n",
      "Iteration 6: 100%|██████████| 50/50 [00:07<00:00,  6.33it/s, episode_return=350, return=221.400]\n",
      "Iteration 7: 100%|██████████| 50/50 [00:08<00:00,  6.11it/s, episode_return=400, return=258.200]\n",
      "Iteration 8: 100%|██████████| 50/50 [00:28<00:00,  1.73it/s, episode_return=450, return=311.000]\n",
      "Iteration 9: 100%|██████████| 50/50 [00:25<00:00,  1.96it/s, episode_return=500, return=352.000]\n"
     ]
    },
    {
     "data": {
      "application/vnd.jupyter.widget-view+json": {
       "model_id": "cdd20085dd8844c4a8833ccb89f51f0d",
       "version_major": 2,
       "version_minor": 0
      },
      "text/plain": [
       "VBox(children=(Label(value='0.001 MB of 0.001 MB uploaded\\r'), FloatProgress(value=1.0, max=1.0)))"
      ]
     },
     "metadata": {},
     "output_type": "display_data"
    },
    {
     "data": {
      "text/html": [
       "<style>\n",
       "    table.wandb td:nth-child(1) { padding: 0 10px; text-align: left ; width: auto;} td:nth-child(2) {text-align: left ; width: 100%}\n",
       "    .wandb-row { display: flex; flex-direction: row; flex-wrap: wrap; justify-content: flex-start; width: 100% }\n",
       "    .wandb-col { display: flex; flex-direction: column; flex-basis: 100%; flex: 1; padding: 10px; }\n",
       "    </style>\n",
       "<div class=\"wandb-row\"><div class=\"wandb-col\"><h3>Run history:</h3><br/><table class=\"wandb\"><tr><td>regret</td><td>▁</td></tr></table><br/></div><div class=\"wandb-col\"><h3>Run summary:</h3><br/><table class=\"wandb\"><tr><td>regret</td><td>42108.18203</td></tr></table><br/></div></div>"
      ],
      "text/plain": [
       "<IPython.core.display.HTML object>"
      ]
     },
     "metadata": {},
     "output_type": "display_data"
    },
    {
     "data": {
      "text/html": [
       " View run <strong style=\"color:#cdcd00\">crimson-sweep-30</strong> at: <a href='https://wandb.ai/rl_shobhith/uncategorized/runs/rpfau8th/workspace' target=\"_blank\">https://wandb.ai/rl_shobhith/uncategorized/runs/rpfau8th/workspace</a><br/>Synced 5 W&B file(s), 0 media file(s), 0 artifact file(s) and 0 other file(s)"
      ],
      "text/plain": [
       "<IPython.core.display.HTML object>"
      ]
     },
     "metadata": {},
     "output_type": "display_data"
    },
    {
     "data": {
      "text/html": [
       "Find logs at: <code>.\\wandb\\run-20240401_205537-rpfau8th\\logs</code>"
      ],
      "text/plain": [
       "<IPython.core.display.HTML object>"
      ]
     },
     "metadata": {},
     "output_type": "display_data"
    },
    {
     "name": "stderr",
     "output_type": "stream",
     "text": [
      "\u001b[34m\u001b[1mwandb\u001b[0m: Agent Starting Run: g9raimeo with config:\n",
      "\u001b[34m\u001b[1mwandb\u001b[0m: \thidden_dim: 256\n",
      "\u001b[34m\u001b[1mwandb\u001b[0m: \tlearning_rate: 0.0008667231988266972\n",
      "Failed to detect the name of this notebook, you can set it manually with the WANDB_NOTEBOOK_NAME environment variable to enable code saving.\n"
     ]
    },
    {
     "data": {
      "text/html": [
       "Tracking run with wandb version 0.16.5"
      ],
      "text/plain": [
       "<IPython.core.display.HTML object>"
      ]
     },
     "metadata": {},
     "output_type": "display_data"
    },
    {
     "data": {
      "text/html": [
       "Run data is saved locally in <code>c:\\Users\\Shobhith Vadlamudi\\Desktop\\3rd Year\\SEM 6\\RL\\wandb\\run-20240401_205718-g9raimeo</code>"
      ],
      "text/plain": [
       "<IPython.core.display.HTML object>"
      ]
     },
     "metadata": {},
     "output_type": "display_data"
    },
    {
     "data": {
      "text/html": [
       "Syncing run <strong><a href='https://wandb.ai/rl_shobhith/uncategorized/runs/g9raimeo/workspace' target=\"_blank\">young-sweep-31</a></strong> to <a href='https://wandb.ai/rl_shobhith/uncategorized' target=\"_blank\">Weights & Biases</a> (<a href='https://wandb.me/run' target=\"_blank\">docs</a>)<br/>Sweep page: <a href='https://wandb.ai/rl_shobhith/uncategorized/sweeps/ebygp3ca' target=\"_blank\">https://wandb.ai/rl_shobhith/uncategorized/sweeps/ebygp3ca</a>"
      ],
      "text/plain": [
       "<IPython.core.display.HTML object>"
      ]
     },
     "metadata": {},
     "output_type": "display_data"
    },
    {
     "data": {
      "text/html": [
       " View project at <a href='https://wandb.ai/rl_shobhith/uncategorized' target=\"_blank\">https://wandb.ai/rl_shobhith/uncategorized</a>"
      ],
      "text/plain": [
       "<IPython.core.display.HTML object>"
      ]
     },
     "metadata": {},
     "output_type": "display_data"
    },
    {
     "data": {
      "text/html": [
       " View sweep at <a href='https://wandb.ai/rl_shobhith/uncategorized/sweeps/ebygp3ca' target=\"_blank\">https://wandb.ai/rl_shobhith/uncategorized/sweeps/ebygp3ca</a>"
      ],
      "text/plain": [
       "<IPython.core.display.HTML object>"
      ]
     },
     "metadata": {},
     "output_type": "display_data"
    },
    {
     "data": {
      "text/html": [
       " View run at <a href='https://wandb.ai/rl_shobhith/uncategorized/runs/g9raimeo/workspace' target=\"_blank\">https://wandb.ai/rl_shobhith/uncategorized/runs/g9raimeo/workspace</a>"
      ],
      "text/plain": [
       "<IPython.core.display.HTML object>"
      ]
     },
     "metadata": {},
     "output_type": "display_data"
    },
    {
     "name": "stderr",
     "output_type": "stream",
     "text": [
      "Iteration 0: 100%|██████████| 50/50 [00:02<00:00, 16.89it/s, episode_return=50, return=41.400]\n",
      "Iteration 1: 100%|██████████| 50/50 [00:05<00:00,  9.90it/s, episode_return=100, return=75.500]\n",
      "Iteration 2: 100%|██████████| 50/50 [00:09<00:00,  5.24it/s, episode_return=150, return=181.300]\n",
      "Iteration 3: 100%|██████████| 50/50 [00:13<00:00,  3.72it/s, episode_return=200, return=115.300]\n",
      "Iteration 4: 100%|██████████| 50/50 [00:11<00:00,  4.38it/s, episode_return=250, return=229.300]\n",
      "Iteration 5: 100%|██████████| 50/50 [00:15<00:00,  3.19it/s, episode_return=300, return=404.300]\n",
      "Iteration 6: 100%|██████████| 50/50 [00:13<00:00,  3.68it/s, episode_return=350, return=284.700]\n",
      "Iteration 7: 100%|██████████| 50/50 [00:11<00:00,  4.53it/s, episode_return=400, return=250.900]\n",
      "Iteration 8: 100%|██████████| 50/50 [00:13<00:00,  3.67it/s, episode_return=450, return=286.400]\n",
      "Iteration 9: 100%|██████████| 50/50 [00:22<00:00,  2.26it/s, episode_return=500, return=446.500]\n"
     ]
    },
    {
     "data": {
      "application/vnd.jupyter.widget-view+json": {
       "model_id": "18c5ac7309174aefa8485037cbc10619",
       "version_major": 2,
       "version_minor": 0
      },
      "text/plain": [
       "VBox(children=(Label(value='0.001 MB of 0.007 MB uploaded\\r'), FloatProgress(value=0.16956758226815338, max=1.…"
      ]
     },
     "metadata": {},
     "output_type": "display_data"
    },
    {
     "data": {
      "text/html": [
       "<style>\n",
       "    table.wandb td:nth-child(1) { padding: 0 10px; text-align: left ; width: auto;} td:nth-child(2) {text-align: left ; width: 100%}\n",
       "    .wandb-row { display: flex; flex-direction: row; flex-wrap: wrap; justify-content: flex-start; width: 100% }\n",
       "    .wandb-col { display: flex; flex-direction: column; flex-basis: 100%; flex: 1; padding: 10px; }\n",
       "    </style>\n",
       "<div class=\"wandb-row\"><div class=\"wandb-col\"><h3>Run history:</h3><br/><table class=\"wandb\"><tr><td>regret</td><td>▁</td></tr></table><br/></div><div class=\"wandb-col\"><h3>Run summary:</h3><br/><table class=\"wandb\"><tr><td>regret</td><td>28166.89796</td></tr></table><br/></div></div>"
      ],
      "text/plain": [
       "<IPython.core.display.HTML object>"
      ]
     },
     "metadata": {},
     "output_type": "display_data"
    },
    {
     "data": {
      "text/html": [
       " View run <strong style=\"color:#cdcd00\">young-sweep-31</strong> at: <a href='https://wandb.ai/rl_shobhith/uncategorized/runs/g9raimeo/workspace' target=\"_blank\">https://wandb.ai/rl_shobhith/uncategorized/runs/g9raimeo/workspace</a><br/>Synced 5 W&B file(s), 0 media file(s), 0 artifact file(s) and 0 other file(s)"
      ],
      "text/plain": [
       "<IPython.core.display.HTML object>"
      ]
     },
     "metadata": {},
     "output_type": "display_data"
    },
    {
     "data": {
      "text/html": [
       "Find logs at: <code>.\\wandb\\run-20240401_205718-g9raimeo\\logs</code>"
      ],
      "text/plain": [
       "<IPython.core.display.HTML object>"
      ]
     },
     "metadata": {},
     "output_type": "display_data"
    },
    {
     "name": "stderr",
     "output_type": "stream",
     "text": [
      "\u001b[34m\u001b[1mwandb\u001b[0m: Agent Starting Run: wbo7s0p9 with config:\n",
      "\u001b[34m\u001b[1mwandb\u001b[0m: \thidden_dim: 128\n",
      "\u001b[34m\u001b[1mwandb\u001b[0m: \tlearning_rate: 0.0003476623218232946\n",
      "Failed to detect the name of this notebook, you can set it manually with the WANDB_NOTEBOOK_NAME environment variable to enable code saving.\n"
     ]
    },
    {
     "data": {
      "text/html": [
       "Tracking run with wandb version 0.16.5"
      ],
      "text/plain": [
       "<IPython.core.display.HTML object>"
      ]
     },
     "metadata": {},
     "output_type": "display_data"
    },
    {
     "data": {
      "text/html": [
       "Run data is saved locally in <code>c:\\Users\\Shobhith Vadlamudi\\Desktop\\3rd Year\\SEM 6\\RL\\wandb\\run-20240401_205929-wbo7s0p9</code>"
      ],
      "text/plain": [
       "<IPython.core.display.HTML object>"
      ]
     },
     "metadata": {},
     "output_type": "display_data"
    },
    {
     "data": {
      "text/html": [
       "Syncing run <strong><a href='https://wandb.ai/rl_shobhith/uncategorized/runs/wbo7s0p9/workspace' target=\"_blank\">usual-sweep-32</a></strong> to <a href='https://wandb.ai/rl_shobhith/uncategorized' target=\"_blank\">Weights & Biases</a> (<a href='https://wandb.me/run' target=\"_blank\">docs</a>)<br/>Sweep page: <a href='https://wandb.ai/rl_shobhith/uncategorized/sweeps/ebygp3ca' target=\"_blank\">https://wandb.ai/rl_shobhith/uncategorized/sweeps/ebygp3ca</a>"
      ],
      "text/plain": [
       "<IPython.core.display.HTML object>"
      ]
     },
     "metadata": {},
     "output_type": "display_data"
    },
    {
     "data": {
      "text/html": [
       " View project at <a href='https://wandb.ai/rl_shobhith/uncategorized' target=\"_blank\">https://wandb.ai/rl_shobhith/uncategorized</a>"
      ],
      "text/plain": [
       "<IPython.core.display.HTML object>"
      ]
     },
     "metadata": {},
     "output_type": "display_data"
    },
    {
     "data": {
      "text/html": [
       " View sweep at <a href='https://wandb.ai/rl_shobhith/uncategorized/sweeps/ebygp3ca' target=\"_blank\">https://wandb.ai/rl_shobhith/uncategorized/sweeps/ebygp3ca</a>"
      ],
      "text/plain": [
       "<IPython.core.display.HTML object>"
      ]
     },
     "metadata": {},
     "output_type": "display_data"
    },
    {
     "data": {
      "text/html": [
       " View run at <a href='https://wandb.ai/rl_shobhith/uncategorized/runs/wbo7s0p9/workspace' target=\"_blank\">https://wandb.ai/rl_shobhith/uncategorized/runs/wbo7s0p9/workspace</a>"
      ],
      "text/plain": [
       "<IPython.core.display.HTML object>"
      ]
     },
     "metadata": {},
     "output_type": "display_data"
    },
    {
     "name": "stderr",
     "output_type": "stream",
     "text": [
      "Iteration 0: 100%|██████████| 50/50 [00:00<00:00, 62.16it/s, episode_return=50, return=22.700]\n",
      "Iteration 1: 100%|██████████| 50/50 [00:00<00:00, 65.98it/s, episode_return=100, return=25.600]\n",
      "Iteration 2: 100%|██████████| 50/50 [00:00<00:00, 62.50it/s, episode_return=150, return=25.800]\n",
      "Iteration 3: 100%|██████████| 50/50 [00:01<00:00, 48.68it/s, episode_return=200, return=38.100]\n",
      "Iteration 4: 100%|██████████| 50/50 [00:01<00:00, 38.55it/s, episode_return=250, return=60.500]\n",
      "Iteration 5: 100%|██████████| 50/50 [00:01<00:00, 39.50it/s, episode_return=300, return=31.700]\n",
      "Iteration 6: 100%|██████████| 50/50 [00:01<00:00, 27.58it/s, episode_return=350, return=49.000]\n",
      "Iteration 7: 100%|██████████| 50/50 [00:02<00:00, 21.25it/s, episode_return=400, return=87.800]\n",
      "Iteration 8: 100%|██████████| 50/50 [00:02<00:00, 19.25it/s, episode_return=450, return=93.600]\n",
      "Iteration 9: 100%|██████████| 50/50 [00:03<00:00, 14.51it/s, episode_return=500, return=88.200] \n"
     ]
    },
    {
     "data": {
      "application/vnd.jupyter.widget-view+json": {
       "model_id": "bc6c7c2a0ab243629e2cb6a700b78acf",
       "version_major": 2,
       "version_minor": 0
      },
      "text/plain": [
       "VBox(children=(Label(value='0.001 MB of 0.001 MB uploaded\\r'), FloatProgress(value=1.0, max=1.0)))"
      ]
     },
     "metadata": {},
     "output_type": "display_data"
    },
    {
     "data": {
      "text/html": [
       "<style>\n",
       "    table.wandb td:nth-child(1) { padding: 0 10px; text-align: left ; width: auto;} td:nth-child(2) {text-align: left ; width: 100%}\n",
       "    .wandb-row { display: flex; flex-direction: row; flex-wrap: wrap; justify-content: flex-start; width: 100% }\n",
       "    .wandb-col { display: flex; flex-direction: column; flex-basis: 100%; flex: 1; padding: 10px; }\n",
       "    </style>\n",
       "<div class=\"wandb-row\"><div class=\"wandb-col\"><h3>Run history:</h3><br/><table class=\"wandb\"><tr><td>regret</td><td>▁</td></tr></table><br/></div><div class=\"wandb-col\"><h3>Run summary:</h3><br/><table class=\"wandb\"><tr><td>regret</td><td>78687.56778</td></tr></table><br/></div></div>"
      ],
      "text/plain": [
       "<IPython.core.display.HTML object>"
      ]
     },
     "metadata": {},
     "output_type": "display_data"
    },
    {
     "data": {
      "text/html": [
       " View run <strong style=\"color:#cdcd00\">usual-sweep-32</strong> at: <a href='https://wandb.ai/rl_shobhith/uncategorized/runs/wbo7s0p9/workspace' target=\"_blank\">https://wandb.ai/rl_shobhith/uncategorized/runs/wbo7s0p9/workspace</a><br/>Synced 5 W&B file(s), 0 media file(s), 0 artifact file(s) and 0 other file(s)"
      ],
      "text/plain": [
       "<IPython.core.display.HTML object>"
      ]
     },
     "metadata": {},
     "output_type": "display_data"
    },
    {
     "data": {
      "text/html": [
       "Find logs at: <code>.\\wandb\\run-20240401_205929-wbo7s0p9\\logs</code>"
      ],
      "text/plain": [
       "<IPython.core.display.HTML object>"
      ]
     },
     "metadata": {},
     "output_type": "display_data"
    },
    {
     "name": "stderr",
     "output_type": "stream",
     "text": [
      "\u001b[34m\u001b[1mwandb\u001b[0m: Agent Starting Run: u3dexga3 with config:\n",
      "\u001b[34m\u001b[1mwandb\u001b[0m: \thidden_dim: 64\n",
      "\u001b[34m\u001b[1mwandb\u001b[0m: \tlearning_rate: 0.000842162062218298\n",
      "Failed to detect the name of this notebook, you can set it manually with the WANDB_NOTEBOOK_NAME environment variable to enable code saving.\n"
     ]
    },
    {
     "data": {
      "text/html": [
       "Tracking run with wandb version 0.16.5"
      ],
      "text/plain": [
       "<IPython.core.display.HTML object>"
      ]
     },
     "metadata": {},
     "output_type": "display_data"
    },
    {
     "data": {
      "text/html": [
       "Run data is saved locally in <code>c:\\Users\\Shobhith Vadlamudi\\Desktop\\3rd Year\\SEM 6\\RL\\wandb\\run-20240401_205955-u3dexga3</code>"
      ],
      "text/plain": [
       "<IPython.core.display.HTML object>"
      ]
     },
     "metadata": {},
     "output_type": "display_data"
    },
    {
     "data": {
      "text/html": [
       "Syncing run <strong><a href='https://wandb.ai/rl_shobhith/uncategorized/runs/u3dexga3/workspace' target=\"_blank\">rosy-sweep-33</a></strong> to <a href='https://wandb.ai/rl_shobhith/uncategorized' target=\"_blank\">Weights & Biases</a> (<a href='https://wandb.me/run' target=\"_blank\">docs</a>)<br/>Sweep page: <a href='https://wandb.ai/rl_shobhith/uncategorized/sweeps/ebygp3ca' target=\"_blank\">https://wandb.ai/rl_shobhith/uncategorized/sweeps/ebygp3ca</a>"
      ],
      "text/plain": [
       "<IPython.core.display.HTML object>"
      ]
     },
     "metadata": {},
     "output_type": "display_data"
    },
    {
     "data": {
      "text/html": [
       " View project at <a href='https://wandb.ai/rl_shobhith/uncategorized' target=\"_blank\">https://wandb.ai/rl_shobhith/uncategorized</a>"
      ],
      "text/plain": [
       "<IPython.core.display.HTML object>"
      ]
     },
     "metadata": {},
     "output_type": "display_data"
    },
    {
     "data": {
      "text/html": [
       " View sweep at <a href='https://wandb.ai/rl_shobhith/uncategorized/sweeps/ebygp3ca' target=\"_blank\">https://wandb.ai/rl_shobhith/uncategorized/sweeps/ebygp3ca</a>"
      ],
      "text/plain": [
       "<IPython.core.display.HTML object>"
      ]
     },
     "metadata": {},
     "output_type": "display_data"
    },
    {
     "data": {
      "text/html": [
       " View run at <a href='https://wandb.ai/rl_shobhith/uncategorized/runs/u3dexga3/workspace' target=\"_blank\">https://wandb.ai/rl_shobhith/uncategorized/runs/u3dexga3/workspace</a>"
      ],
      "text/plain": [
       "<IPython.core.display.HTML object>"
      ]
     },
     "metadata": {},
     "output_type": "display_data"
    },
    {
     "name": "stderr",
     "output_type": "stream",
     "text": [
      "Iteration 0: 100%|██████████| 50/50 [00:00<00:00, 67.91it/s, episode_return=50, return=21.500]\n",
      "Iteration 1: 100%|██████████| 50/50 [00:00<00:00, 55.85it/s, episode_return=100, return=24.800]\n",
      "Iteration 2: 100%|██████████| 50/50 [00:01<00:00, 43.17it/s, episode_return=150, return=32.500]\n",
      "Iteration 3: 100%|██████████| 50/50 [00:01<00:00, 33.45it/s, episode_return=200, return=50.100]\n",
      "Iteration 4: 100%|██████████| 50/50 [00:01<00:00, 29.90it/s, episode_return=250, return=52.700]\n",
      "Iteration 5: 100%|██████████| 50/50 [00:01<00:00, 30.31it/s, episode_return=300, return=46.500]\n",
      "Iteration 6: 100%|██████████| 50/50 [00:02<00:00, 24.80it/s, episode_return=350, return=46.200]\n",
      "Iteration 7: 100%|██████████| 50/50 [00:02<00:00, 23.73it/s, episode_return=400, return=58.600]\n",
      "Iteration 8: 100%|██████████| 50/50 [00:02<00:00, 19.96it/s, episode_return=450, return=60.000]\n",
      "Iteration 9: 100%|██████████| 50/50 [00:03<00:00, 15.68it/s, episode_return=500, return=87.400] \n"
     ]
    },
    {
     "data": {
      "application/vnd.jupyter.widget-view+json": {
       "model_id": "44de2d7ab57a42a6985dd179071ed78d",
       "version_major": 2,
       "version_minor": 0
      },
      "text/plain": [
       "VBox(children=(Label(value='0.001 MB of 0.007 MB uploaded\\r'), FloatProgress(value=0.1709155701754386, max=1.0…"
      ]
     },
     "metadata": {},
     "output_type": "display_data"
    },
    {
     "data": {
      "text/html": [
       "<style>\n",
       "    table.wandb td:nth-child(1) { padding: 0 10px; text-align: left ; width: auto;} td:nth-child(2) {text-align: left ; width: 100%}\n",
       "    .wandb-row { display: flex; flex-direction: row; flex-wrap: wrap; justify-content: flex-start; width: 100% }\n",
       "    .wandb-col { display: flex; flex-direction: column; flex-basis: 100%; flex: 1; padding: 10px; }\n",
       "    </style>\n",
       "<div class=\"wandb-row\"><div class=\"wandb-col\"><h3>Run history:</h3><br/><table class=\"wandb\"><tr><td>regret</td><td>▁</td></tr></table><br/></div><div class=\"wandb-col\"><h3>Run summary:</h3><br/><table class=\"wandb\"><tr><td>regret</td><td>75587.03603</td></tr></table><br/></div></div>"
      ],
      "text/plain": [
       "<IPython.core.display.HTML object>"
      ]
     },
     "metadata": {},
     "output_type": "display_data"
    },
    {
     "data": {
      "text/html": [
       " View run <strong style=\"color:#cdcd00\">rosy-sweep-33</strong> at: <a href='https://wandb.ai/rl_shobhith/uncategorized/runs/u3dexga3/workspace' target=\"_blank\">https://wandb.ai/rl_shobhith/uncategorized/runs/u3dexga3/workspace</a><br/>Synced 5 W&B file(s), 0 media file(s), 0 artifact file(s) and 0 other file(s)"
      ],
      "text/plain": [
       "<IPython.core.display.HTML object>"
      ]
     },
     "metadata": {},
     "output_type": "display_data"
    },
    {
     "data": {
      "text/html": [
       "Find logs at: <code>.\\wandb\\run-20240401_205955-u3dexga3\\logs</code>"
      ],
      "text/plain": [
       "<IPython.core.display.HTML object>"
      ]
     },
     "metadata": {},
     "output_type": "display_data"
    },
    {
     "name": "stderr",
     "output_type": "stream",
     "text": [
      "\u001b[34m\u001b[1mwandb\u001b[0m: Agent Starting Run: pf8kakni with config:\n",
      "\u001b[34m\u001b[1mwandb\u001b[0m: \thidden_dim: 128\n",
      "\u001b[34m\u001b[1mwandb\u001b[0m: \tlearning_rate: 0.0002499132335192946\n",
      "Failed to detect the name of this notebook, you can set it manually with the WANDB_NOTEBOOK_NAME environment variable to enable code saving.\n"
     ]
    },
    {
     "data": {
      "text/html": [
       "Tracking run with wandb version 0.16.5"
      ],
      "text/plain": [
       "<IPython.core.display.HTML object>"
      ]
     },
     "metadata": {},
     "output_type": "display_data"
    },
    {
     "data": {
      "text/html": [
       "Run data is saved locally in <code>c:\\Users\\Shobhith Vadlamudi\\Desktop\\3rd Year\\SEM 6\\RL\\wandb\\run-20240401_210022-pf8kakni</code>"
      ],
      "text/plain": [
       "<IPython.core.display.HTML object>"
      ]
     },
     "metadata": {},
     "output_type": "display_data"
    },
    {
     "data": {
      "text/html": [
       "Syncing run <strong><a href='https://wandb.ai/rl_shobhith/uncategorized/runs/pf8kakni/workspace' target=\"_blank\">glorious-sweep-34</a></strong> to <a href='https://wandb.ai/rl_shobhith/uncategorized' target=\"_blank\">Weights & Biases</a> (<a href='https://wandb.me/run' target=\"_blank\">docs</a>)<br/>Sweep page: <a href='https://wandb.ai/rl_shobhith/uncategorized/sweeps/ebygp3ca' target=\"_blank\">https://wandb.ai/rl_shobhith/uncategorized/sweeps/ebygp3ca</a>"
      ],
      "text/plain": [
       "<IPython.core.display.HTML object>"
      ]
     },
     "metadata": {},
     "output_type": "display_data"
    },
    {
     "data": {
      "text/html": [
       " View project at <a href='https://wandb.ai/rl_shobhith/uncategorized' target=\"_blank\">https://wandb.ai/rl_shobhith/uncategorized</a>"
      ],
      "text/plain": [
       "<IPython.core.display.HTML object>"
      ]
     },
     "metadata": {},
     "output_type": "display_data"
    },
    {
     "data": {
      "text/html": [
       " View sweep at <a href='https://wandb.ai/rl_shobhith/uncategorized/sweeps/ebygp3ca' target=\"_blank\">https://wandb.ai/rl_shobhith/uncategorized/sweeps/ebygp3ca</a>"
      ],
      "text/plain": [
       "<IPython.core.display.HTML object>"
      ]
     },
     "metadata": {},
     "output_type": "display_data"
    },
    {
     "data": {
      "text/html": [
       " View run at <a href='https://wandb.ai/rl_shobhith/uncategorized/runs/pf8kakni/workspace' target=\"_blank\">https://wandb.ai/rl_shobhith/uncategorized/runs/pf8kakni/workspace</a>"
      ],
      "text/plain": [
       "<IPython.core.display.HTML object>"
      ]
     },
     "metadata": {},
     "output_type": "display_data"
    },
    {
     "name": "stderr",
     "output_type": "stream",
     "text": [
      "Iteration 0: 100%|██████████| 50/50 [00:00<00:00, 61.14it/s, episode_return=50, return=31.100]\n",
      "Iteration 1: 100%|██████████| 50/50 [00:00<00:00, 71.99it/s, episode_return=100, return=26.200]\n",
      "Iteration 2: 100%|██████████| 50/50 [00:00<00:00, 60.63it/s, episode_return=150, return=31.700]\n",
      "Iteration 3: 100%|██████████| 50/50 [00:00<00:00, 57.94it/s, episode_return=200, return=34.900]\n",
      "Iteration 4: 100%|██████████| 50/50 [00:00<00:00, 56.11it/s, episode_return=250, return=31.900]\n",
      "Iteration 5: 100%|██████████| 50/50 [00:00<00:00, 55.56it/s, episode_return=300, return=32.400]\n",
      "Iteration 6: 100%|██████████| 50/50 [00:01<00:00, 45.52it/s, episode_return=350, return=45.300]\n",
      "Iteration 7: 100%|██████████| 50/50 [00:01<00:00, 39.12it/s, episode_return=400, return=46.800]\n",
      "Iteration 8: 100%|██████████| 50/50 [00:01<00:00, 30.23it/s, episode_return=450, return=49.100]\n",
      "Iteration 9: 100%|██████████| 50/50 [00:03<00:00, 15.27it/s, episode_return=500, return=37.600]\n"
     ]
    },
    {
     "data": {
      "application/vnd.jupyter.widget-view+json": {
       "model_id": "a166a707eb934bb19433e7fbb4f0737d",
       "version_major": 2,
       "version_minor": 0
      },
      "text/plain": [
       "VBox(children=(Label(value='0.001 MB of 0.001 MB uploaded\\r'), FloatProgress(value=1.0, max=1.0)))"
      ]
     },
     "metadata": {},
     "output_type": "display_data"
    },
    {
     "data": {
      "text/html": [
       "<style>\n",
       "    table.wandb td:nth-child(1) { padding: 0 10px; text-align: left ; width: auto;} td:nth-child(2) {text-align: left ; width: 100%}\n",
       "    .wandb-row { display: flex; flex-direction: row; flex-wrap: wrap; justify-content: flex-start; width: 100% }\n",
       "    .wandb-col { display: flex; flex-direction: column; flex-basis: 100%; flex: 1; padding: 10px; }\n",
       "    </style>\n",
       "<div class=\"wandb-row\"><div class=\"wandb-col\"><h3>Run history:</h3><br/><table class=\"wandb\"><tr><td>regret</td><td>▁</td></tr></table><br/></div><div class=\"wandb-col\"><h3>Run summary:</h3><br/><table class=\"wandb\"><tr><td>regret</td><td>82779.31304</td></tr></table><br/></div></div>"
      ],
      "text/plain": [
       "<IPython.core.display.HTML object>"
      ]
     },
     "metadata": {},
     "output_type": "display_data"
    },
    {
     "data": {
      "text/html": [
       " View run <strong style=\"color:#cdcd00\">glorious-sweep-34</strong> at: <a href='https://wandb.ai/rl_shobhith/uncategorized/runs/pf8kakni/workspace' target=\"_blank\">https://wandb.ai/rl_shobhith/uncategorized/runs/pf8kakni/workspace</a><br/>Synced 5 W&B file(s), 0 media file(s), 0 artifact file(s) and 0 other file(s)"
      ],
      "text/plain": [
       "<IPython.core.display.HTML object>"
      ]
     },
     "metadata": {},
     "output_type": "display_data"
    },
    {
     "data": {
      "text/html": [
       "Find logs at: <code>.\\wandb\\run-20240401_210022-pf8kakni\\logs</code>"
      ],
      "text/plain": [
       "<IPython.core.display.HTML object>"
      ]
     },
     "metadata": {},
     "output_type": "display_data"
    },
    {
     "name": "stderr",
     "output_type": "stream",
     "text": [
      "\u001b[34m\u001b[1mwandb\u001b[0m: Sweep Agent: Waiting for job.\n",
      "\u001b[34m\u001b[1mwandb\u001b[0m: Job received.\n",
      "\u001b[34m\u001b[1mwandb\u001b[0m: Agent Starting Run: 4167ys1c with config:\n",
      "\u001b[34m\u001b[1mwandb\u001b[0m: \thidden_dim: 64\n",
      "\u001b[34m\u001b[1mwandb\u001b[0m: \tlearning_rate: 0.0005698233494317861\n",
      "Failed to detect the name of this notebook, you can set it manually with the WANDB_NOTEBOOK_NAME environment variable to enable code saving.\n"
     ]
    },
    {
     "data": {
      "text/html": [
       "Tracking run with wandb version 0.16.5"
      ],
      "text/plain": [
       "<IPython.core.display.HTML object>"
      ]
     },
     "metadata": {},
     "output_type": "display_data"
    },
    {
     "data": {
      "text/html": [
       "Run data is saved locally in <code>c:\\Users\\Shobhith Vadlamudi\\Desktop\\3rd Year\\SEM 6\\RL\\wandb\\run-20240401_210054-4167ys1c</code>"
      ],
      "text/plain": [
       "<IPython.core.display.HTML object>"
      ]
     },
     "metadata": {},
     "output_type": "display_data"
    },
    {
     "data": {
      "text/html": [
       "Syncing run <strong><a href='https://wandb.ai/rl_shobhith/uncategorized/runs/4167ys1c/workspace' target=\"_blank\">absurd-sweep-35</a></strong> to <a href='https://wandb.ai/rl_shobhith/uncategorized' target=\"_blank\">Weights & Biases</a> (<a href='https://wandb.me/run' target=\"_blank\">docs</a>)<br/>Sweep page: <a href='https://wandb.ai/rl_shobhith/uncategorized/sweeps/ebygp3ca' target=\"_blank\">https://wandb.ai/rl_shobhith/uncategorized/sweeps/ebygp3ca</a>"
      ],
      "text/plain": [
       "<IPython.core.display.HTML object>"
      ]
     },
     "metadata": {},
     "output_type": "display_data"
    },
    {
     "data": {
      "text/html": [
       " View project at <a href='https://wandb.ai/rl_shobhith/uncategorized' target=\"_blank\">https://wandb.ai/rl_shobhith/uncategorized</a>"
      ],
      "text/plain": [
       "<IPython.core.display.HTML object>"
      ]
     },
     "metadata": {},
     "output_type": "display_data"
    },
    {
     "data": {
      "text/html": [
       " View sweep at <a href='https://wandb.ai/rl_shobhith/uncategorized/sweeps/ebygp3ca' target=\"_blank\">https://wandb.ai/rl_shobhith/uncategorized/sweeps/ebygp3ca</a>"
      ],
      "text/plain": [
       "<IPython.core.display.HTML object>"
      ]
     },
     "metadata": {},
     "output_type": "display_data"
    },
    {
     "data": {
      "text/html": [
       " View run at <a href='https://wandb.ai/rl_shobhith/uncategorized/runs/4167ys1c/workspace' target=\"_blank\">https://wandb.ai/rl_shobhith/uncategorized/runs/4167ys1c/workspace</a>"
      ],
      "text/plain": [
       "<IPython.core.display.HTML object>"
      ]
     },
     "metadata": {},
     "output_type": "display_data"
    },
    {
     "name": "stderr",
     "output_type": "stream",
     "text": [
      "Iteration 0: 100%|██████████| 50/50 [00:01<00:00, 46.07it/s, episode_return=50, return=30.900]\n",
      "Iteration 1: 100%|██████████| 50/50 [00:01<00:00, 44.82it/s, episode_return=100, return=26.800]\n",
      "Iteration 2: 100%|██████████| 50/50 [00:01<00:00, 35.30it/s, episode_return=150, return=29.700]\n",
      "Iteration 3: 100%|██████████| 50/50 [00:01<00:00, 33.65it/s, episode_return=200, return=34.800]\n",
      "Iteration 4: 100%|██████████| 50/50 [00:01<00:00, 25.28it/s, episode_return=250, return=46.100]\n",
      "Iteration 5: 100%|██████████| 50/50 [00:01<00:00, 25.63it/s, episode_return=300, return=45.500]\n",
      "Iteration 6: 100%|██████████| 50/50 [00:02<00:00, 23.51it/s, episode_return=350, return=50.500]\n",
      "Iteration 7: 100%|██████████| 50/50 [00:03<00:00, 13.30it/s, episode_return=400, return=105.900]\n",
      "Iteration 8: 100%|██████████| 50/50 [00:05<00:00,  9.70it/s, episode_return=450, return=129.200]\n",
      "Iteration 9: 100%|██████████| 50/50 [00:06<00:00,  8.15it/s, episode_return=500, return=192.000]\n"
     ]
    },
    {
     "data": {
      "application/vnd.jupyter.widget-view+json": {
       "model_id": "5d1697971a854e60a173fc611ed7df6c",
       "version_major": 2,
       "version_minor": 0
      },
      "text/plain": [
       "VBox(children=(Label(value='0.001 MB of 0.001 MB uploaded\\r'), FloatProgress(value=1.0, max=1.0)))"
      ]
     },
     "metadata": {},
     "output_type": "display_data"
    },
    {
     "data": {
      "text/html": [
       "<style>\n",
       "    table.wandb td:nth-child(1) { padding: 0 10px; text-align: left ; width: auto;} td:nth-child(2) {text-align: left ; width: 100%}\n",
       "    .wandb-row { display: flex; flex-direction: row; flex-wrap: wrap; justify-content: flex-start; width: 100% }\n",
       "    .wandb-col { display: flex; flex-direction: column; flex-basis: 100%; flex: 1; padding: 10px; }\n",
       "    </style>\n",
       "<div class=\"wandb-row\"><div class=\"wandb-col\"><h3>Run history:</h3><br/><table class=\"wandb\"><tr><td>regret</td><td>▁</td></tr></table><br/></div><div class=\"wandb-col\"><h3>Run summary:</h3><br/><table class=\"wandb\"><tr><td>regret</td><td>71852.72512</td></tr></table><br/></div></div>"
      ],
      "text/plain": [
       "<IPython.core.display.HTML object>"
      ]
     },
     "metadata": {},
     "output_type": "display_data"
    },
    {
     "data": {
      "text/html": [
       " View run <strong style=\"color:#cdcd00\">absurd-sweep-35</strong> at: <a href='https://wandb.ai/rl_shobhith/uncategorized/runs/4167ys1c/workspace' target=\"_blank\">https://wandb.ai/rl_shobhith/uncategorized/runs/4167ys1c/workspace</a><br/>Synced 5 W&B file(s), 0 media file(s), 0 artifact file(s) and 0 other file(s)"
      ],
      "text/plain": [
       "<IPython.core.display.HTML object>"
      ]
     },
     "metadata": {},
     "output_type": "display_data"
    },
    {
     "data": {
      "text/html": [
       "Find logs at: <code>.\\wandb\\run-20240401_210054-4167ys1c\\logs</code>"
      ],
      "text/plain": [
       "<IPython.core.display.HTML object>"
      ]
     },
     "metadata": {},
     "output_type": "display_data"
    },
    {
     "name": "stderr",
     "output_type": "stream",
     "text": [
      "\u001b[34m\u001b[1mwandb\u001b[0m: Agent Starting Run: mv6l589a with config:\n",
      "\u001b[34m\u001b[1mwandb\u001b[0m: \thidden_dim: 256\n",
      "\u001b[34m\u001b[1mwandb\u001b[0m: \tlearning_rate: 0.0007665944392165715\n",
      "Failed to detect the name of this notebook, you can set it manually with the WANDB_NOTEBOOK_NAME environment variable to enable code saving.\n"
     ]
    },
    {
     "data": {
      "application/vnd.jupyter.widget-view+json": {
       "model_id": "56ae8c8c640247dd8a661c7e97230b2c",
       "version_major": 2,
       "version_minor": 0
      },
      "text/plain": [
       "VBox(children=(Label(value='Waiting for wandb.init()...\\r'), FloatProgress(value=0.011111111111111112, max=1.0…"
      ]
     },
     "metadata": {},
     "output_type": "display_data"
    },
    {
     "data": {
      "text/html": [
       "Tracking run with wandb version 0.16.5"
      ],
      "text/plain": [
       "<IPython.core.display.HTML object>"
      ]
     },
     "metadata": {},
     "output_type": "display_data"
    },
    {
     "data": {
      "text/html": [
       "Run data is saved locally in <code>c:\\Users\\Shobhith Vadlamudi\\Desktop\\3rd Year\\SEM 6\\RL\\wandb\\run-20240401_210132-mv6l589a</code>"
      ],
      "text/plain": [
       "<IPython.core.display.HTML object>"
      ]
     },
     "metadata": {},
     "output_type": "display_data"
    },
    {
     "data": {
      "text/html": [
       "Syncing run <strong><a href='https://wandb.ai/rl_shobhith/uncategorized/runs/mv6l589a/workspace' target=\"_blank\">divine-sweep-36</a></strong> to <a href='https://wandb.ai/rl_shobhith/uncategorized' target=\"_blank\">Weights & Biases</a> (<a href='https://wandb.me/run' target=\"_blank\">docs</a>)<br/>Sweep page: <a href='https://wandb.ai/rl_shobhith/uncategorized/sweeps/ebygp3ca' target=\"_blank\">https://wandb.ai/rl_shobhith/uncategorized/sweeps/ebygp3ca</a>"
      ],
      "text/plain": [
       "<IPython.core.display.HTML object>"
      ]
     },
     "metadata": {},
     "output_type": "display_data"
    },
    {
     "data": {
      "text/html": [
       " View project at <a href='https://wandb.ai/rl_shobhith/uncategorized' target=\"_blank\">https://wandb.ai/rl_shobhith/uncategorized</a>"
      ],
      "text/plain": [
       "<IPython.core.display.HTML object>"
      ]
     },
     "metadata": {},
     "output_type": "display_data"
    },
    {
     "data": {
      "text/html": [
       " View sweep at <a href='https://wandb.ai/rl_shobhith/uncategorized/sweeps/ebygp3ca' target=\"_blank\">https://wandb.ai/rl_shobhith/uncategorized/sweeps/ebygp3ca</a>"
      ],
      "text/plain": [
       "<IPython.core.display.HTML object>"
      ]
     },
     "metadata": {},
     "output_type": "display_data"
    },
    {
     "data": {
      "text/html": [
       " View run at <a href='https://wandb.ai/rl_shobhith/uncategorized/runs/mv6l589a/workspace' target=\"_blank\">https://wandb.ai/rl_shobhith/uncategorized/runs/mv6l589a/workspace</a>"
      ],
      "text/plain": [
       "<IPython.core.display.HTML object>"
      ]
     },
     "metadata": {},
     "output_type": "display_data"
    },
    {
     "name": "stderr",
     "output_type": "stream",
     "text": [
      "Iteration 0: 100%|██████████| 50/50 [00:01<00:00, 45.80it/s, episode_return=50, return=36.800]\n",
      "Iteration 1: 100%|██████████| 50/50 [00:01<00:00, 31.39it/s, episode_return=100, return=38.700]\n",
      "Iteration 2: 100%|██████████| 50/50 [00:02<00:00, 24.94it/s, episode_return=150, return=41.800]\n",
      "Iteration 3: 100%|██████████| 50/50 [00:03<00:00, 15.31it/s, episode_return=200, return=101.100]\n",
      "Iteration 4: 100%|██████████| 50/50 [00:04<00:00, 11.07it/s, episode_return=250, return=143.300]\n",
      "Iteration 5: 100%|██████████| 50/50 [00:06<00:00,  7.45it/s, episode_return=300, return=218.800]\n",
      "Iteration 6: 100%|██████████| 50/50 [00:07<00:00,  6.65it/s, episode_return=350, return=185.600]\n",
      "Iteration 7: 100%|██████████| 50/50 [00:09<00:00,  5.54it/s, episode_return=400, return=254.000]\n",
      "Iteration 8: 100%|██████████| 50/50 [00:09<00:00,  5.55it/s, episode_return=450, return=220.700]\n",
      "Iteration 9: 100%|██████████| 50/50 [00:10<00:00,  4.80it/s, episode_return=500, return=231.500]\n"
     ]
    },
    {
     "data": {
      "application/vnd.jupyter.widget-view+json": {
       "model_id": "5b18d30017524d199f679e16ea5820ac",
       "version_major": 2,
       "version_minor": 0
      },
      "text/plain": [
       "VBox(children=(Label(value='0.001 MB of 0.001 MB uploaded\\r'), FloatProgress(value=1.0, max=1.0)))"
      ]
     },
     "metadata": {},
     "output_type": "display_data"
    },
    {
     "data": {
      "text/html": [
       "<style>\n",
       "    table.wandb td:nth-child(1) { padding: 0 10px; text-align: left ; width: auto;} td:nth-child(2) {text-align: left ; width: 100%}\n",
       "    .wandb-row { display: flex; flex-direction: row; flex-wrap: wrap; justify-content: flex-start; width: 100% }\n",
       "    .wandb-col { display: flex; flex-direction: column; flex-basis: 100%; flex: 1; padding: 10px; }\n",
       "    </style>\n",
       "<div class=\"wandb-row\"><div class=\"wandb-col\"><h3>Run history:</h3><br/><table class=\"wandb\"><tr><td>regret</td><td>▁</td></tr></table><br/></div><div class=\"wandb-col\"><h3>Run summary:</h3><br/><table class=\"wandb\"><tr><td>regret</td><td>43705.17636</td></tr></table><br/></div></div>"
      ],
      "text/plain": [
       "<IPython.core.display.HTML object>"
      ]
     },
     "metadata": {},
     "output_type": "display_data"
    },
    {
     "data": {
      "text/html": [
       " View run <strong style=\"color:#cdcd00\">divine-sweep-36</strong> at: <a href='https://wandb.ai/rl_shobhith/uncategorized/runs/mv6l589a/workspace' target=\"_blank\">https://wandb.ai/rl_shobhith/uncategorized/runs/mv6l589a/workspace</a><br/>Synced 5 W&B file(s), 0 media file(s), 0 artifact file(s) and 0 other file(s)"
      ],
      "text/plain": [
       "<IPython.core.display.HTML object>"
      ]
     },
     "metadata": {},
     "output_type": "display_data"
    },
    {
     "data": {
      "text/html": [
       "Find logs at: <code>.\\wandb\\run-20240401_210132-mv6l589a\\logs</code>"
      ],
      "text/plain": [
       "<IPython.core.display.HTML object>"
      ]
     },
     "metadata": {},
     "output_type": "display_data"
    },
    {
     "name": "stderr",
     "output_type": "stream",
     "text": [
      "\u001b[34m\u001b[1mwandb\u001b[0m: Agent Starting Run: ukt4fxbe with config:\n",
      "\u001b[34m\u001b[1mwandb\u001b[0m: \thidden_dim: 256\n",
      "\u001b[34m\u001b[1mwandb\u001b[0m: \tlearning_rate: 0.0001156262221082664\n",
      "Failed to detect the name of this notebook, you can set it manually with the WANDB_NOTEBOOK_NAME environment variable to enable code saving.\n"
     ]
    },
    {
     "data": {
      "text/html": [
       "Tracking run with wandb version 0.16.5"
      ],
      "text/plain": [
       "<IPython.core.display.HTML object>"
      ]
     },
     "metadata": {},
     "output_type": "display_data"
    },
    {
     "data": {
      "text/html": [
       "Run data is saved locally in <code>c:\\Users\\Shobhith Vadlamudi\\Desktop\\3rd Year\\SEM 6\\RL\\wandb\\run-20240401_210241-ukt4fxbe</code>"
      ],
      "text/plain": [
       "<IPython.core.display.HTML object>"
      ]
     },
     "metadata": {},
     "output_type": "display_data"
    },
    {
     "data": {
      "text/html": [
       "Syncing run <strong><a href='https://wandb.ai/rl_shobhith/uncategorized/runs/ukt4fxbe/workspace' target=\"_blank\">young-sweep-37</a></strong> to <a href='https://wandb.ai/rl_shobhith/uncategorized' target=\"_blank\">Weights & Biases</a> (<a href='https://wandb.me/run' target=\"_blank\">docs</a>)<br/>Sweep page: <a href='https://wandb.ai/rl_shobhith/uncategorized/sweeps/ebygp3ca' target=\"_blank\">https://wandb.ai/rl_shobhith/uncategorized/sweeps/ebygp3ca</a>"
      ],
      "text/plain": [
       "<IPython.core.display.HTML object>"
      ]
     },
     "metadata": {},
     "output_type": "display_data"
    },
    {
     "data": {
      "text/html": [
       " View project at <a href='https://wandb.ai/rl_shobhith/uncategorized' target=\"_blank\">https://wandb.ai/rl_shobhith/uncategorized</a>"
      ],
      "text/plain": [
       "<IPython.core.display.HTML object>"
      ]
     },
     "metadata": {},
     "output_type": "display_data"
    },
    {
     "data": {
      "text/html": [
       " View sweep at <a href='https://wandb.ai/rl_shobhith/uncategorized/sweeps/ebygp3ca' target=\"_blank\">https://wandb.ai/rl_shobhith/uncategorized/sweeps/ebygp3ca</a>"
      ],
      "text/plain": [
       "<IPython.core.display.HTML object>"
      ]
     },
     "metadata": {},
     "output_type": "display_data"
    },
    {
     "data": {
      "text/html": [
       " View run at <a href='https://wandb.ai/rl_shobhith/uncategorized/runs/ukt4fxbe/workspace' target=\"_blank\">https://wandb.ai/rl_shobhith/uncategorized/runs/ukt4fxbe/workspace</a>"
      ],
      "text/plain": [
       "<IPython.core.display.HTML object>"
      ]
     },
     "metadata": {},
     "output_type": "display_data"
    },
    {
     "name": "stderr",
     "output_type": "stream",
     "text": [
      "Iteration 0: 100%|██████████| 50/50 [00:00<00:00, 51.27it/s, episode_return=50, return=20.000]\n",
      "Iteration 1: 100%|██████████| 50/50 [00:01<00:00, 46.35it/s, episode_return=100, return=24.600]\n",
      "Iteration 2: 100%|██████████| 50/50 [00:01<00:00, 38.09it/s, episode_return=150, return=39.100]\n",
      "Iteration 3: 100%|██████████| 50/50 [00:01<00:00, 28.20it/s, episode_return=200, return=54.400]\n",
      "Iteration 4: 100%|██████████| 50/50 [00:01<00:00, 28.60it/s, episode_return=250, return=45.200]\n",
      "Iteration 5: 100%|██████████| 50/50 [00:01<00:00, 28.05it/s, episode_return=300, return=33.700]\n",
      "Iteration 6: 100%|██████████| 50/50 [00:02<00:00, 23.25it/s, episode_return=350, return=56.500]\n",
      "Iteration 7: 100%|██████████| 50/50 [00:02<00:00, 19.99it/s, episode_return=400, return=56.600]\n",
      "Iteration 8: 100%|██████████| 50/50 [00:02<00:00, 18.28it/s, episode_return=450, return=69.500]\n",
      "Iteration 9: 100%|██████████| 50/50 [00:02<00:00, 18.79it/s, episode_return=500, return=73.700]\n"
     ]
    },
    {
     "data": {
      "application/vnd.jupyter.widget-view+json": {
       "model_id": "7f6017a2ebd042bea275193725135eac",
       "version_major": 2,
       "version_minor": 0
      },
      "text/plain": [
       "VBox(children=(Label(value='0.001 MB of 0.001 MB uploaded\\r'), FloatProgress(value=1.0, max=1.0)))"
      ]
     },
     "metadata": {},
     "output_type": "display_data"
    },
    {
     "data": {
      "text/html": [
       "<style>\n",
       "    table.wandb td:nth-child(1) { padding: 0 10px; text-align: left ; width: auto;} td:nth-child(2) {text-align: left ; width: 100%}\n",
       "    .wandb-row { display: flex; flex-direction: row; flex-wrap: wrap; justify-content: flex-start; width: 100% }\n",
       "    .wandb-col { display: flex; flex-direction: column; flex-basis: 100%; flex: 1; padding: 10px; }\n",
       "    </style>\n",
       "<div class=\"wandb-row\"><div class=\"wandb-col\"><h3>Run history:</h3><br/><table class=\"wandb\"><tr><td>regret</td><td>▁</td></tr></table><br/></div><div class=\"wandb-col\"><h3>Run summary:</h3><br/><table class=\"wandb\"><tr><td>regret</td><td>78385.79164</td></tr></table><br/></div></div>"
      ],
      "text/plain": [
       "<IPython.core.display.HTML object>"
      ]
     },
     "metadata": {},
     "output_type": "display_data"
    },
    {
     "data": {
      "text/html": [
       " View run <strong style=\"color:#cdcd00\">young-sweep-37</strong> at: <a href='https://wandb.ai/rl_shobhith/uncategorized/runs/ukt4fxbe/workspace' target=\"_blank\">https://wandb.ai/rl_shobhith/uncategorized/runs/ukt4fxbe/workspace</a><br/>Synced 5 W&B file(s), 0 media file(s), 0 artifact file(s) and 0 other file(s)"
      ],
      "text/plain": [
       "<IPython.core.display.HTML object>"
      ]
     },
     "metadata": {},
     "output_type": "display_data"
    },
    {
     "data": {
      "text/html": [
       "Find logs at: <code>.\\wandb\\run-20240401_210241-ukt4fxbe\\logs</code>"
      ],
      "text/plain": [
       "<IPython.core.display.HTML object>"
      ]
     },
     "metadata": {},
     "output_type": "display_data"
    },
    {
     "name": "stderr",
     "output_type": "stream",
     "text": [
      "\u001b[34m\u001b[1mwandb\u001b[0m: Agent Starting Run: 5azwksh7 with config:\n",
      "\u001b[34m\u001b[1mwandb\u001b[0m: \thidden_dim: 128\n",
      "\u001b[34m\u001b[1mwandb\u001b[0m: \tlearning_rate: 0.0007989650755710843\n",
      "Failed to detect the name of this notebook, you can set it manually with the WANDB_NOTEBOOK_NAME environment variable to enable code saving.\n"
     ]
    },
    {
     "data": {
      "text/html": [
       "Tracking run with wandb version 0.16.5"
      ],
      "text/plain": [
       "<IPython.core.display.HTML object>"
      ]
     },
     "metadata": {},
     "output_type": "display_data"
    },
    {
     "data": {
      "text/html": [
       "Run data is saved locally in <code>c:\\Users\\Shobhith Vadlamudi\\Desktop\\3rd Year\\SEM 6\\RL\\wandb\\run-20240401_210313-5azwksh7</code>"
      ],
      "text/plain": [
       "<IPython.core.display.HTML object>"
      ]
     },
     "metadata": {},
     "output_type": "display_data"
    },
    {
     "data": {
      "text/html": [
       "Syncing run <strong><a href='https://wandb.ai/rl_shobhith/uncategorized/runs/5azwksh7/workspace' target=\"_blank\">confused-sweep-38</a></strong> to <a href='https://wandb.ai/rl_shobhith/uncategorized' target=\"_blank\">Weights & Biases</a> (<a href='https://wandb.me/run' target=\"_blank\">docs</a>)<br/>Sweep page: <a href='https://wandb.ai/rl_shobhith/uncategorized/sweeps/ebygp3ca' target=\"_blank\">https://wandb.ai/rl_shobhith/uncategorized/sweeps/ebygp3ca</a>"
      ],
      "text/plain": [
       "<IPython.core.display.HTML object>"
      ]
     },
     "metadata": {},
     "output_type": "display_data"
    },
    {
     "data": {
      "text/html": [
       " View project at <a href='https://wandb.ai/rl_shobhith/uncategorized' target=\"_blank\">https://wandb.ai/rl_shobhith/uncategorized</a>"
      ],
      "text/plain": [
       "<IPython.core.display.HTML object>"
      ]
     },
     "metadata": {},
     "output_type": "display_data"
    },
    {
     "data": {
      "text/html": [
       " View sweep at <a href='https://wandb.ai/rl_shobhith/uncategorized/sweeps/ebygp3ca' target=\"_blank\">https://wandb.ai/rl_shobhith/uncategorized/sweeps/ebygp3ca</a>"
      ],
      "text/plain": [
       "<IPython.core.display.HTML object>"
      ]
     },
     "metadata": {},
     "output_type": "display_data"
    },
    {
     "data": {
      "text/html": [
       " View run at <a href='https://wandb.ai/rl_shobhith/uncategorized/runs/5azwksh7/workspace' target=\"_blank\">https://wandb.ai/rl_shobhith/uncategorized/runs/5azwksh7/workspace</a>"
      ],
      "text/plain": [
       "<IPython.core.display.HTML object>"
      ]
     },
     "metadata": {},
     "output_type": "display_data"
    },
    {
     "name": "stderr",
     "output_type": "stream",
     "text": [
      "Iteration 0: 100%|██████████| 50/50 [00:01<00:00, 32.82it/s, episode_return=50, return=29.300]\n",
      "Iteration 1: 100%|██████████| 50/50 [00:01<00:00, 40.19it/s, episode_return=100, return=35.900]\n",
      "Iteration 2: 100%|██████████| 50/50 [00:02<00:00, 24.75it/s, episode_return=150, return=52.600]\n",
      "Iteration 3: 100%|██████████| 50/50 [00:02<00:00, 19.34it/s, episode_return=200, return=80.500]\n",
      "Iteration 4: 100%|██████████| 50/50 [00:02<00:00, 16.82it/s, episode_return=250, return=78.200]\n",
      "Iteration 5: 100%|██████████| 50/50 [00:04<00:00, 11.23it/s, episode_return=300, return=155.000]\n",
      "Iteration 6: 100%|██████████| 50/50 [00:07<00:00,  6.50it/s, episode_return=350, return=266.400]\n",
      "Iteration 7: 100%|██████████| 50/50 [00:09<00:00,  5.33it/s, episode_return=400, return=242.900]\n",
      "Iteration 8: 100%|██████████| 50/50 [00:07<00:00,  7.06it/s, episode_return=450, return=176.400]\n",
      "Iteration 9: 100%|██████████| 50/50 [00:10<00:00,  4.86it/s, episode_return=500, return=268.300]\n"
     ]
    },
    {
     "data": {
      "application/vnd.jupyter.widget-view+json": {
       "model_id": "53ceca1c7c724133af8a1bc38b3bc6e2",
       "version_major": 2,
       "version_minor": 0
      },
      "text/plain": [
       "VBox(children=(Label(value='0.001 MB of 0.001 MB uploaded\\r'), FloatProgress(value=1.0, max=1.0)))"
      ]
     },
     "metadata": {},
     "output_type": "display_data"
    },
    {
     "data": {
      "text/html": [
       "<style>\n",
       "    table.wandb td:nth-child(1) { padding: 0 10px; text-align: left ; width: auto;} td:nth-child(2) {text-align: left ; width: 100%}\n",
       "    .wandb-row { display: flex; flex-direction: row; flex-wrap: wrap; justify-content: flex-start; width: 100% }\n",
       "    .wandb-col { display: flex; flex-direction: column; flex-basis: 100%; flex: 1; padding: 10px; }\n",
       "    </style>\n",
       "<div class=\"wandb-row\"><div class=\"wandb-col\"><h3>Run history:</h3><br/><table class=\"wandb\"><tr><td>regret</td><td>▁</td></tr></table><br/></div><div class=\"wandb-col\"><h3>Run summary:</h3><br/><table class=\"wandb\"><tr><td>regret</td><td>48811.49137</td></tr></table><br/></div></div>"
      ],
      "text/plain": [
       "<IPython.core.display.HTML object>"
      ]
     },
     "metadata": {},
     "output_type": "display_data"
    },
    {
     "data": {
      "text/html": [
       " View run <strong style=\"color:#cdcd00\">confused-sweep-38</strong> at: <a href='https://wandb.ai/rl_shobhith/uncategorized/runs/5azwksh7/workspace' target=\"_blank\">https://wandb.ai/rl_shobhith/uncategorized/runs/5azwksh7/workspace</a><br/>Synced 5 W&B file(s), 0 media file(s), 0 artifact file(s) and 0 other file(s)"
      ],
      "text/plain": [
       "<IPython.core.display.HTML object>"
      ]
     },
     "metadata": {},
     "output_type": "display_data"
    },
    {
     "data": {
      "text/html": [
       "Find logs at: <code>.\\wandb\\run-20240401_210313-5azwksh7\\logs</code>"
      ],
      "text/plain": [
       "<IPython.core.display.HTML object>"
      ]
     },
     "metadata": {},
     "output_type": "display_data"
    },
    {
     "name": "stderr",
     "output_type": "stream",
     "text": [
      "\u001b[34m\u001b[1mwandb\u001b[0m: Sweep Agent: Waiting for job.\n",
      "\u001b[34m\u001b[1mwandb\u001b[0m: Job received.\n",
      "\u001b[34m\u001b[1mwandb\u001b[0m: Agent Starting Run: o2x6inee with config:\n",
      "\u001b[34m\u001b[1mwandb\u001b[0m: \thidden_dim: 128\n",
      "\u001b[34m\u001b[1mwandb\u001b[0m: \tlearning_rate: 0.0007009836134463743\n",
      "Failed to detect the name of this notebook, you can set it manually with the WANDB_NOTEBOOK_NAME environment variable to enable code saving.\n"
     ]
    },
    {
     "data": {
      "text/html": [
       "Tracking run with wandb version 0.16.5"
      ],
      "text/plain": [
       "<IPython.core.display.HTML object>"
      ]
     },
     "metadata": {},
     "output_type": "display_data"
    },
    {
     "data": {
      "text/html": [
       "Run data is saved locally in <code>c:\\Users\\Shobhith Vadlamudi\\Desktop\\3rd Year\\SEM 6\\RL\\wandb\\run-20240401_210422-o2x6inee</code>"
      ],
      "text/plain": [
       "<IPython.core.display.HTML object>"
      ]
     },
     "metadata": {},
     "output_type": "display_data"
    },
    {
     "data": {
      "text/html": [
       "Syncing run <strong><a href='https://wandb.ai/rl_shobhith/uncategorized/runs/o2x6inee/workspace' target=\"_blank\">jolly-sweep-39</a></strong> to <a href='https://wandb.ai/rl_shobhith/uncategorized' target=\"_blank\">Weights & Biases</a> (<a href='https://wandb.me/run' target=\"_blank\">docs</a>)<br/>Sweep page: <a href='https://wandb.ai/rl_shobhith/uncategorized/sweeps/ebygp3ca' target=\"_blank\">https://wandb.ai/rl_shobhith/uncategorized/sweeps/ebygp3ca</a>"
      ],
      "text/plain": [
       "<IPython.core.display.HTML object>"
      ]
     },
     "metadata": {},
     "output_type": "display_data"
    },
    {
     "data": {
      "text/html": [
       " View project at <a href='https://wandb.ai/rl_shobhith/uncategorized' target=\"_blank\">https://wandb.ai/rl_shobhith/uncategorized</a>"
      ],
      "text/plain": [
       "<IPython.core.display.HTML object>"
      ]
     },
     "metadata": {},
     "output_type": "display_data"
    },
    {
     "data": {
      "text/html": [
       " View sweep at <a href='https://wandb.ai/rl_shobhith/uncategorized/sweeps/ebygp3ca' target=\"_blank\">https://wandb.ai/rl_shobhith/uncategorized/sweeps/ebygp3ca</a>"
      ],
      "text/plain": [
       "<IPython.core.display.HTML object>"
      ]
     },
     "metadata": {},
     "output_type": "display_data"
    },
    {
     "data": {
      "text/html": [
       " View run at <a href='https://wandb.ai/rl_shobhith/uncategorized/runs/o2x6inee/workspace' target=\"_blank\">https://wandb.ai/rl_shobhith/uncategorized/runs/o2x6inee/workspace</a>"
      ],
      "text/plain": [
       "<IPython.core.display.HTML object>"
      ]
     },
     "metadata": {},
     "output_type": "display_data"
    },
    {
     "name": "stderr",
     "output_type": "stream",
     "text": [
      "Iteration 0: 100%|██████████| 50/50 [00:01<00:00, 39.22it/s, episode_return=50, return=22.900]\n",
      "Iteration 1: 100%|██████████| 50/50 [00:01<00:00, 29.51it/s, episode_return=100, return=44.500]\n",
      "Iteration 2: 100%|██████████| 50/50 [00:01<00:00, 26.60it/s, episode_return=150, return=42.100]\n",
      "Iteration 3: 100%|██████████| 50/50 [00:02<00:00, 20.46it/s, episode_return=200, return=80.500]\n",
      "Iteration 4: 100%|██████████| 50/50 [00:04<00:00, 11.15it/s, episode_return=250, return=137.000]\n",
      "Iteration 5: 100%|██████████| 50/50 [00:05<00:00,  9.04it/s, episode_return=300, return=158.500]\n",
      "Iteration 6: 100%|██████████| 50/50 [45:23<00:00, 54.47s/it, episode_return=350, return=207.200]   \n",
      "Iteration 7: 100%|██████████| 50/50 [00:13<00:00,  3.78it/s, episode_return=400, return=182.500]\n",
      "Iteration 8: 100%|██████████| 50/50 [00:10<00:00,  4.68it/s, episode_return=450, return=180.300]\n",
      "Iteration 9: 100%|██████████| 50/50 [00:16<00:00,  3.12it/s, episode_return=500, return=321.400]\n"
     ]
    },
    {
     "data": {
      "application/vnd.jupyter.widget-view+json": {
       "model_id": "95a1d1a5d53c42438e70f35900a50fab",
       "version_major": 2,
       "version_minor": 0
      },
      "text/plain": [
       "VBox(children=(Label(value='0.001 MB of 0.001 MB uploaded\\r'), FloatProgress(value=1.0, max=1.0)))"
      ]
     },
     "metadata": {},
     "output_type": "display_data"
    },
    {
     "data": {
      "text/html": [
       "<style>\n",
       "    table.wandb td:nth-child(1) { padding: 0 10px; text-align: left ; width: auto;} td:nth-child(2) {text-align: left ; width: 100%}\n",
       "    .wandb-row { display: flex; flex-direction: row; flex-wrap: wrap; justify-content: flex-start; width: 100% }\n",
       "    .wandb-col { display: flex; flex-direction: column; flex-basis: 100%; flex: 1; padding: 10px; }\n",
       "    </style>\n",
       "<div class=\"wandb-row\"><div class=\"wandb-col\"><h3>Run history:</h3><br/><table class=\"wandb\"><tr><td>regret</td><td>▁</td></tr></table><br/></div><div class=\"wandb-col\"><h3>Run summary:</h3><br/><table class=\"wandb\"><tr><td>regret</td><td>46519.3484</td></tr></table><br/></div></div>"
      ],
      "text/plain": [
       "<IPython.core.display.HTML object>"
      ]
     },
     "metadata": {},
     "output_type": "display_data"
    },
    {
     "data": {
      "text/html": [
       " View run <strong style=\"color:#cdcd00\">jolly-sweep-39</strong> at: <a href='https://wandb.ai/rl_shobhith/uncategorized/runs/o2x6inee/workspace' target=\"_blank\">https://wandb.ai/rl_shobhith/uncategorized/runs/o2x6inee/workspace</a><br/>Synced 5 W&B file(s), 0 media file(s), 0 artifact file(s) and 0 other file(s)"
      ],
      "text/plain": [
       "<IPython.core.display.HTML object>"
      ]
     },
     "metadata": {},
     "output_type": "display_data"
    },
    {
     "data": {
      "text/html": [
       "Find logs at: <code>.\\wandb\\run-20240401_210422-o2x6inee\\logs</code>"
      ],
      "text/plain": [
       "<IPython.core.display.HTML object>"
      ]
     },
     "metadata": {},
     "output_type": "display_data"
    },
    {
     "name": "stderr",
     "output_type": "stream",
     "text": [
      "\u001b[34m\u001b[1mwandb\u001b[0m: Sweep Agent: Waiting for job.\n",
      "\u001b[34m\u001b[1mwandb\u001b[0m: Job received.\n",
      "\u001b[34m\u001b[1mwandb\u001b[0m: Agent Starting Run: 84x2mrde with config:\n",
      "\u001b[34m\u001b[1mwandb\u001b[0m: \thidden_dim: 64\n",
      "\u001b[34m\u001b[1mwandb\u001b[0m: \tlearning_rate: 5.786427635600682e-05\n",
      "Failed to detect the name of this notebook, you can set it manually with the WANDB_NOTEBOOK_NAME environment variable to enable code saving.\n"
     ]
    },
    {
     "data": {
      "text/html": [
       "Tracking run with wandb version 0.16.5"
      ],
      "text/plain": [
       "<IPython.core.display.HTML object>"
      ]
     },
     "metadata": {},
     "output_type": "display_data"
    },
    {
     "data": {
      "text/html": [
       "Run data is saved locally in <code>c:\\Users\\Shobhith Vadlamudi\\Desktop\\3rd Year\\SEM 6\\RL\\wandb\\run-20240401_215113-84x2mrde</code>"
      ],
      "text/plain": [
       "<IPython.core.display.HTML object>"
      ]
     },
     "metadata": {},
     "output_type": "display_data"
    },
    {
     "data": {
      "text/html": [
       "Syncing run <strong><a href='https://wandb.ai/rl_shobhith/uncategorized/runs/84x2mrde/workspace' target=\"_blank\">lyric-sweep-40</a></strong> to <a href='https://wandb.ai/rl_shobhith/uncategorized' target=\"_blank\">Weights & Biases</a> (<a href='https://wandb.me/run' target=\"_blank\">docs</a>)<br/>Sweep page: <a href='https://wandb.ai/rl_shobhith/uncategorized/sweeps/ebygp3ca' target=\"_blank\">https://wandb.ai/rl_shobhith/uncategorized/sweeps/ebygp3ca</a>"
      ],
      "text/plain": [
       "<IPython.core.display.HTML object>"
      ]
     },
     "metadata": {},
     "output_type": "display_data"
    },
    {
     "data": {
      "text/html": [
       " View project at <a href='https://wandb.ai/rl_shobhith/uncategorized' target=\"_blank\">https://wandb.ai/rl_shobhith/uncategorized</a>"
      ],
      "text/plain": [
       "<IPython.core.display.HTML object>"
      ]
     },
     "metadata": {},
     "output_type": "display_data"
    },
    {
     "data": {
      "text/html": [
       " View sweep at <a href='https://wandb.ai/rl_shobhith/uncategorized/sweeps/ebygp3ca' target=\"_blank\">https://wandb.ai/rl_shobhith/uncategorized/sweeps/ebygp3ca</a>"
      ],
      "text/plain": [
       "<IPython.core.display.HTML object>"
      ]
     },
     "metadata": {},
     "output_type": "display_data"
    },
    {
     "data": {
      "text/html": [
       " View run at <a href='https://wandb.ai/rl_shobhith/uncategorized/runs/84x2mrde/workspace' target=\"_blank\">https://wandb.ai/rl_shobhith/uncategorized/runs/84x2mrde/workspace</a>"
      ],
      "text/plain": [
       "<IPython.core.display.HTML object>"
      ]
     },
     "metadata": {},
     "output_type": "display_data"
    },
    {
     "name": "stderr",
     "output_type": "stream",
     "text": [
      "Iteration 0: 100%|██████████| 50/50 [00:00<00:00, 52.83it/s, episode_return=50, return=24.300]\n",
      "Iteration 1: 100%|██████████| 50/50 [00:00<00:00, 61.62it/s, episode_return=100, return=15.900]\n",
      "Iteration 2: 100%|██████████| 50/50 [00:00<00:00, 64.10it/s, episode_return=150, return=19.600]\n",
      "Iteration 3: 100%|██████████| 50/50 [00:00<00:00, 58.46it/s, episode_return=200, return=26.000]\n",
      "Iteration 4: 100%|██████████| 50/50 [00:00<00:00, 58.27it/s, episode_return=250, return=24.600]\n",
      "Iteration 5: 100%|██████████| 50/50 [00:00<00:00, 55.39it/s, episode_return=300, return=22.400]\n",
      "Iteration 6: 100%|██████████| 50/50 [00:00<00:00, 52.88it/s, episode_return=350, return=25.900]\n",
      "Iteration 7: 100%|██████████| 50/50 [00:00<00:00, 51.69it/s, episode_return=400, return=25.300]\n",
      "Iteration 8: 100%|██████████| 50/50 [00:01<00:00, 44.77it/s, episode_return=450, return=23.700]\n",
      "Iteration 9: 100%|██████████| 50/50 [00:00<00:00, 50.59it/s, episode_return=500, return=30.300]\n"
     ]
    },
    {
     "data": {
      "application/vnd.jupyter.widget-view+json": {
       "model_id": "ceab1eda09f14e75aaea6b3fa08c311d",
       "version_major": 2,
       "version_minor": 0
      },
      "text/plain": [
       "VBox(children=(Label(value='0.001 MB of 0.001 MB uploaded\\r'), FloatProgress(value=1.0, max=1.0)))"
      ]
     },
     "metadata": {},
     "output_type": "display_data"
    },
    {
     "data": {
      "text/html": [
       "<style>\n",
       "    table.wandb td:nth-child(1) { padding: 0 10px; text-align: left ; width: auto;} td:nth-child(2) {text-align: left ; width: 100%}\n",
       "    .wandb-row { display: flex; flex-direction: row; flex-wrap: wrap; justify-content: flex-start; width: 100% }\n",
       "    .wandb-col { display: flex; flex-direction: column; flex-basis: 100%; flex: 1; padding: 10px; }\n",
       "    </style>\n",
       "<div class=\"wandb-row\"><div class=\"wandb-col\"><h3>Run history:</h3><br/><table class=\"wandb\"><tr><td>regret</td><td>▁</td></tr></table><br/></div><div class=\"wandb-col\"><h3>Run summary:</h3><br/><table class=\"wandb\"><tr><td>regret</td><td>86307.38839</td></tr></table><br/></div></div>"
      ],
      "text/plain": [
       "<IPython.core.display.HTML object>"
      ]
     },
     "metadata": {},
     "output_type": "display_data"
    },
    {
     "data": {
      "text/html": [
       " View run <strong style=\"color:#cdcd00\">lyric-sweep-40</strong> at: <a href='https://wandb.ai/rl_shobhith/uncategorized/runs/84x2mrde/workspace' target=\"_blank\">https://wandb.ai/rl_shobhith/uncategorized/runs/84x2mrde/workspace</a><br/>Synced 5 W&B file(s), 0 media file(s), 0 artifact file(s) and 0 other file(s)"
      ],
      "text/plain": [
       "<IPython.core.display.HTML object>"
      ]
     },
     "metadata": {},
     "output_type": "display_data"
    },
    {
     "data": {
      "text/html": [
       "Find logs at: <code>.\\wandb\\run-20240401_215113-84x2mrde\\logs</code>"
      ],
      "text/plain": [
       "<IPython.core.display.HTML object>"
      ]
     },
     "metadata": {},
     "output_type": "display_data"
    },
    {
     "name": "stderr",
     "output_type": "stream",
     "text": [
      "\u001b[34m\u001b[1mwandb\u001b[0m: Agent Starting Run: cw2yrk3k with config:\n",
      "\u001b[34m\u001b[1mwandb\u001b[0m: \thidden_dim: 128\n",
      "\u001b[34m\u001b[1mwandb\u001b[0m: \tlearning_rate: 0.0009737693000205388\n",
      "Failed to detect the name of this notebook, you can set it manually with the WANDB_NOTEBOOK_NAME environment variable to enable code saving.\n"
     ]
    },
    {
     "data": {
      "text/html": [
       "Tracking run with wandb version 0.16.5"
      ],
      "text/plain": [
       "<IPython.core.display.HTML object>"
      ]
     },
     "metadata": {},
     "output_type": "display_data"
    },
    {
     "data": {
      "text/html": [
       "Run data is saved locally in <code>c:\\Users\\Shobhith Vadlamudi\\Desktop\\3rd Year\\SEM 6\\RL\\wandb\\run-20240401_215136-cw2yrk3k</code>"
      ],
      "text/plain": [
       "<IPython.core.display.HTML object>"
      ]
     },
     "metadata": {},
     "output_type": "display_data"
    },
    {
     "data": {
      "text/html": [
       "Syncing run <strong><a href='https://wandb.ai/rl_shobhith/uncategorized/runs/cw2yrk3k/workspace' target=\"_blank\">unique-sweep-41</a></strong> to <a href='https://wandb.ai/rl_shobhith/uncategorized' target=\"_blank\">Weights & Biases</a> (<a href='https://wandb.me/run' target=\"_blank\">docs</a>)<br/>Sweep page: <a href='https://wandb.ai/rl_shobhith/uncategorized/sweeps/ebygp3ca' target=\"_blank\">https://wandb.ai/rl_shobhith/uncategorized/sweeps/ebygp3ca</a>"
      ],
      "text/plain": [
       "<IPython.core.display.HTML object>"
      ]
     },
     "metadata": {},
     "output_type": "display_data"
    },
    {
     "data": {
      "text/html": [
       " View project at <a href='https://wandb.ai/rl_shobhith/uncategorized' target=\"_blank\">https://wandb.ai/rl_shobhith/uncategorized</a>"
      ],
      "text/plain": [
       "<IPython.core.display.HTML object>"
      ]
     },
     "metadata": {},
     "output_type": "display_data"
    },
    {
     "data": {
      "text/html": [
       " View sweep at <a href='https://wandb.ai/rl_shobhith/uncategorized/sweeps/ebygp3ca' target=\"_blank\">https://wandb.ai/rl_shobhith/uncategorized/sweeps/ebygp3ca</a>"
      ],
      "text/plain": [
       "<IPython.core.display.HTML object>"
      ]
     },
     "metadata": {},
     "output_type": "display_data"
    },
    {
     "data": {
      "text/html": [
       " View run at <a href='https://wandb.ai/rl_shobhith/uncategorized/runs/cw2yrk3k/workspace' target=\"_blank\">https://wandb.ai/rl_shobhith/uncategorized/runs/cw2yrk3k/workspace</a>"
      ],
      "text/plain": [
       "<IPython.core.display.HTML object>"
      ]
     },
     "metadata": {},
     "output_type": "display_data"
    },
    {
     "name": "stderr",
     "output_type": "stream",
     "text": [
      "Iteration 0: 100%|██████████| 50/50 [00:01<00:00, 41.79it/s, episode_return=50, return=44.300]\n",
      "Iteration 1: 100%|██████████| 50/50 [00:01<00:00, 37.03it/s, episode_return=100, return=40.700]\n",
      "Iteration 2: 100%|██████████| 50/50 [00:02<00:00, 24.34it/s, episode_return=150, return=56.000]\n",
      "Iteration 3: 100%|██████████| 50/50 [00:02<00:00, 16.71it/s, episode_return=200, return=80.200]\n",
      "Iteration 4: 100%|██████████| 50/50 [00:04<00:00, 12.30it/s, episode_return=250, return=105.700]\n",
      "Iteration 5: 100%|██████████| 50/50 [00:06<00:00,  7.60it/s, episode_return=300, return=171.200]\n",
      "Iteration 6: 100%|██████████| 50/50 [00:04<00:00, 11.06it/s, episode_return=350, return=137.600]\n",
      "Iteration 7: 100%|██████████| 50/50 [00:08<00:00,  5.62it/s, episode_return=400, return=242.800]\n",
      "Iteration 8: 100%|██████████| 50/50 [00:07<00:00,  6.28it/s, episode_return=450, return=224.300]\n",
      "Iteration 9: 100%|██████████| 50/50 [00:11<00:00,  4.23it/s, episode_return=500, return=366.700]\n"
     ]
    },
    {
     "data": {
      "application/vnd.jupyter.widget-view+json": {
       "model_id": "df9d5649e5a94ea380ebf7e5fa0e399a",
       "version_major": 2,
       "version_minor": 0
      },
      "text/plain": [
       "VBox(children=(Label(value='0.001 MB of 0.001 MB uploaded\\r'), FloatProgress(value=1.0, max=1.0)))"
      ]
     },
     "metadata": {},
     "output_type": "display_data"
    },
    {
     "data": {
      "text/html": [
       "<style>\n",
       "    table.wandb td:nth-child(1) { padding: 0 10px; text-align: left ; width: auto;} td:nth-child(2) {text-align: left ; width: 100%}\n",
       "    .wandb-row { display: flex; flex-direction: row; flex-wrap: wrap; justify-content: flex-start; width: 100% }\n",
       "    .wandb-col { display: flex; flex-direction: column; flex-basis: 100%; flex: 1; padding: 10px; }\n",
       "    </style>\n",
       "<div class=\"wandb-row\"><div class=\"wandb-col\"><h3>Run history:</h3><br/><table class=\"wandb\"><tr><td>regret</td><td>▁</td></tr></table><br/></div><div class=\"wandb-col\"><h3>Run summary:</h3><br/><table class=\"wandb\"><tr><td>regret</td><td>44092.28735</td></tr></table><br/></div></div>"
      ],
      "text/plain": [
       "<IPython.core.display.HTML object>"
      ]
     },
     "metadata": {},
     "output_type": "display_data"
    },
    {
     "data": {
      "text/html": [
       " View run <strong style=\"color:#cdcd00\">unique-sweep-41</strong> at: <a href='https://wandb.ai/rl_shobhith/uncategorized/runs/cw2yrk3k/workspace' target=\"_blank\">https://wandb.ai/rl_shobhith/uncategorized/runs/cw2yrk3k/workspace</a><br/>Synced 5 W&B file(s), 0 media file(s), 0 artifact file(s) and 0 other file(s)"
      ],
      "text/plain": [
       "<IPython.core.display.HTML object>"
      ]
     },
     "metadata": {},
     "output_type": "display_data"
    },
    {
     "data": {
      "text/html": [
       "Find logs at: <code>.\\wandb\\run-20240401_215136-cw2yrk3k\\logs</code>"
      ],
      "text/plain": [
       "<IPython.core.display.HTML object>"
      ]
     },
     "metadata": {},
     "output_type": "display_data"
    },
    {
     "name": "stderr",
     "output_type": "stream",
     "text": [
      "\u001b[34m\u001b[1mwandb\u001b[0m: Agent Starting Run: mhx3lrht with config:\n",
      "\u001b[34m\u001b[1mwandb\u001b[0m: \thidden_dim: 64\n",
      "\u001b[34m\u001b[1mwandb\u001b[0m: \tlearning_rate: 0.000303494541560603\n",
      "Failed to detect the name of this notebook, you can set it manually with the WANDB_NOTEBOOK_NAME environment variable to enable code saving.\n"
     ]
    },
    {
     "data": {
      "text/html": [
       "Tracking run with wandb version 0.16.5"
      ],
      "text/plain": [
       "<IPython.core.display.HTML object>"
      ]
     },
     "metadata": {},
     "output_type": "display_data"
    },
    {
     "data": {
      "text/html": [
       "Run data is saved locally in <code>c:\\Users\\Shobhith Vadlamudi\\Desktop\\3rd Year\\SEM 6\\RL\\wandb\\run-20240401_215240-mhx3lrht</code>"
      ],
      "text/plain": [
       "<IPython.core.display.HTML object>"
      ]
     },
     "metadata": {},
     "output_type": "display_data"
    },
    {
     "data": {
      "text/html": [
       "Syncing run <strong><a href='https://wandb.ai/rl_shobhith/uncategorized/runs/mhx3lrht/workspace' target=\"_blank\">deep-sweep-42</a></strong> to <a href='https://wandb.ai/rl_shobhith/uncategorized' target=\"_blank\">Weights & Biases</a> (<a href='https://wandb.me/run' target=\"_blank\">docs</a>)<br/>Sweep page: <a href='https://wandb.ai/rl_shobhith/uncategorized/sweeps/ebygp3ca' target=\"_blank\">https://wandb.ai/rl_shobhith/uncategorized/sweeps/ebygp3ca</a>"
      ],
      "text/plain": [
       "<IPython.core.display.HTML object>"
      ]
     },
     "metadata": {},
     "output_type": "display_data"
    },
    {
     "data": {
      "text/html": [
       " View project at <a href='https://wandb.ai/rl_shobhith/uncategorized' target=\"_blank\">https://wandb.ai/rl_shobhith/uncategorized</a>"
      ],
      "text/plain": [
       "<IPython.core.display.HTML object>"
      ]
     },
     "metadata": {},
     "output_type": "display_data"
    },
    {
     "data": {
      "text/html": [
       " View sweep at <a href='https://wandb.ai/rl_shobhith/uncategorized/sweeps/ebygp3ca' target=\"_blank\">https://wandb.ai/rl_shobhith/uncategorized/sweeps/ebygp3ca</a>"
      ],
      "text/plain": [
       "<IPython.core.display.HTML object>"
      ]
     },
     "metadata": {},
     "output_type": "display_data"
    },
    {
     "data": {
      "text/html": [
       " View run at <a href='https://wandb.ai/rl_shobhith/uncategorized/runs/mhx3lrht/workspace' target=\"_blank\">https://wandb.ai/rl_shobhith/uncategorized/runs/mhx3lrht/workspace</a>"
      ],
      "text/plain": [
       "<IPython.core.display.HTML object>"
      ]
     },
     "metadata": {},
     "output_type": "display_data"
    },
    {
     "name": "stderr",
     "output_type": "stream",
     "text": [
      "Iteration 0: 100%|██████████| 50/50 [00:00<00:00, 60.81it/s, episode_return=50, return=16.100]\n",
      "Iteration 1: 100%|██████████| 50/50 [00:01<00:00, 41.89it/s, episode_return=100, return=28.900]\n",
      "Iteration 2: 100%|██████████| 50/50 [00:01<00:00, 44.13it/s, episode_return=150, return=16.500]\n",
      "Iteration 3: 100%|██████████| 50/50 [00:01<00:00, 46.82it/s, episode_return=200, return=16.900]\n",
      "Iteration 4: 100%|██████████| 50/50 [00:01<00:00, 32.78it/s, episode_return=250, return=19.100]\n",
      "Iteration 5: 100%|██████████| 50/50 [00:01<00:00, 38.81it/s, episode_return=300, return=27.300]\n",
      "Iteration 6: 100%|██████████| 50/50 [00:01<00:00, 29.02it/s, episode_return=350, return=26.600]\n",
      "Iteration 7: 100%|██████████| 50/50 [00:02<00:00, 21.54it/s, episode_return=400, return=42.700]\n",
      "Iteration 8: 100%|██████████| 50/50 [00:02<00:00, 19.91it/s, episode_return=450, return=39.900]\n",
      "Iteration 9: 100%|██████████| 50/50 [00:02<00:00, 17.08it/s, episode_return=500, return=38.300]\n"
     ]
    },
    {
     "data": {
      "application/vnd.jupyter.widget-view+json": {
       "model_id": "7092ae2ee6fa43009f588f25cd2a679b",
       "version_major": 2,
       "version_minor": 0
      },
      "text/plain": [
       "VBox(children=(Label(value='0.001 MB of 0.001 MB uploaded\\r'), FloatProgress(value=1.0, max=1.0)))"
      ]
     },
     "metadata": {},
     "output_type": "display_data"
    },
    {
     "data": {
      "text/html": [
       "<style>\n",
       "    table.wandb td:nth-child(1) { padding: 0 10px; text-align: left ; width: auto;} td:nth-child(2) {text-align: left ; width: 100%}\n",
       "    .wandb-row { display: flex; flex-direction: row; flex-wrap: wrap; justify-content: flex-start; width: 100% }\n",
       "    .wandb-col { display: flex; flex-direction: column; flex-basis: 100%; flex: 1; padding: 10px; }\n",
       "    </style>\n",
       "<div class=\"wandb-row\"><div class=\"wandb-col\"><h3>Run history:</h3><br/><table class=\"wandb\"><tr><td>regret</td><td>▁</td></tr></table><br/></div><div class=\"wandb-col\"><h3>Run summary:</h3><br/><table class=\"wandb\"><tr><td>regret</td><td>83707.97629</td></tr></table><br/></div></div>"
      ],
      "text/plain": [
       "<IPython.core.display.HTML object>"
      ]
     },
     "metadata": {},
     "output_type": "display_data"
    },
    {
     "data": {
      "text/html": [
       " View run <strong style=\"color:#cdcd00\">deep-sweep-42</strong> at: <a href='https://wandb.ai/rl_shobhith/uncategorized/runs/mhx3lrht/workspace' target=\"_blank\">https://wandb.ai/rl_shobhith/uncategorized/runs/mhx3lrht/workspace</a><br/>Synced 5 W&B file(s), 0 media file(s), 0 artifact file(s) and 0 other file(s)"
      ],
      "text/plain": [
       "<IPython.core.display.HTML object>"
      ]
     },
     "metadata": {},
     "output_type": "display_data"
    },
    {
     "data": {
      "text/html": [
       "Find logs at: <code>.\\wandb\\run-20240401_215240-mhx3lrht\\logs</code>"
      ],
      "text/plain": [
       "<IPython.core.display.HTML object>"
      ]
     },
     "metadata": {},
     "output_type": "display_data"
    },
    {
     "name": "stderr",
     "output_type": "stream",
     "text": [
      "\u001b[34m\u001b[1mwandb\u001b[0m: Agent Starting Run: mroqa4v4 with config:\n",
      "\u001b[34m\u001b[1mwandb\u001b[0m: \thidden_dim: 128\n",
      "\u001b[34m\u001b[1mwandb\u001b[0m: \tlearning_rate: 0.0006665415413698562\n",
      "Failed to detect the name of this notebook, you can set it manually with the WANDB_NOTEBOOK_NAME environment variable to enable code saving.\n"
     ]
    },
    {
     "data": {
      "text/html": [
       "Tracking run with wandb version 0.16.5"
      ],
      "text/plain": [
       "<IPython.core.display.HTML object>"
      ]
     },
     "metadata": {},
     "output_type": "display_data"
    },
    {
     "data": {
      "text/html": [
       "Run data is saved locally in <code>c:\\Users\\Shobhith Vadlamudi\\Desktop\\3rd Year\\SEM 6\\RL\\wandb\\run-20240401_215308-mroqa4v4</code>"
      ],
      "text/plain": [
       "<IPython.core.display.HTML object>"
      ]
     },
     "metadata": {},
     "output_type": "display_data"
    },
    {
     "data": {
      "text/html": [
       "Syncing run <strong><a href='https://wandb.ai/rl_shobhith/uncategorized/runs/mroqa4v4/workspace' target=\"_blank\">astral-sweep-43</a></strong> to <a href='https://wandb.ai/rl_shobhith/uncategorized' target=\"_blank\">Weights & Biases</a> (<a href='https://wandb.me/run' target=\"_blank\">docs</a>)<br/>Sweep page: <a href='https://wandb.ai/rl_shobhith/uncategorized/sweeps/ebygp3ca' target=\"_blank\">https://wandb.ai/rl_shobhith/uncategorized/sweeps/ebygp3ca</a>"
      ],
      "text/plain": [
       "<IPython.core.display.HTML object>"
      ]
     },
     "metadata": {},
     "output_type": "display_data"
    },
    {
     "data": {
      "text/html": [
       " View project at <a href='https://wandb.ai/rl_shobhith/uncategorized' target=\"_blank\">https://wandb.ai/rl_shobhith/uncategorized</a>"
      ],
      "text/plain": [
       "<IPython.core.display.HTML object>"
      ]
     },
     "metadata": {},
     "output_type": "display_data"
    },
    {
     "data": {
      "text/html": [
       " View sweep at <a href='https://wandb.ai/rl_shobhith/uncategorized/sweeps/ebygp3ca' target=\"_blank\">https://wandb.ai/rl_shobhith/uncategorized/sweeps/ebygp3ca</a>"
      ],
      "text/plain": [
       "<IPython.core.display.HTML object>"
      ]
     },
     "metadata": {},
     "output_type": "display_data"
    },
    {
     "data": {
      "text/html": [
       " View run at <a href='https://wandb.ai/rl_shobhith/uncategorized/runs/mroqa4v4/workspace' target=\"_blank\">https://wandb.ai/rl_shobhith/uncategorized/runs/mroqa4v4/workspace</a>"
      ],
      "text/plain": [
       "<IPython.core.display.HTML object>"
      ]
     },
     "metadata": {},
     "output_type": "display_data"
    },
    {
     "name": "stderr",
     "output_type": "stream",
     "text": [
      "Iteration 0: 100%|██████████| 50/50 [00:01<00:00, 49.22it/s, episode_return=50, return=24.600]\n",
      "Iteration 1: 100%|██████████| 50/50 [00:01<00:00, 39.81it/s, episode_return=100, return=36.500]\n",
      "Iteration 2: 100%|██████████| 50/50 [00:01<00:00, 28.21it/s, episode_return=150, return=53.200]\n",
      "Iteration 3: 100%|██████████| 50/50 [00:02<00:00, 23.51it/s, episode_return=200, return=60.300]\n",
      "Iteration 4: 100%|██████████| 50/50 [00:02<00:00, 17.95it/s, episode_return=250, return=85.400]\n",
      "Iteration 5: 100%|██████████| 50/50 [00:04<00:00, 11.42it/s, episode_return=300, return=162.600]\n",
      "Iteration 6: 100%|██████████| 50/50 [00:05<00:00,  8.91it/s, episode_return=350, return=179.000]\n",
      "Iteration 7: 100%|██████████| 50/50 [00:08<00:00,  6.14it/s, episode_return=400, return=282.800]\n",
      "Iteration 8: 100%|██████████| 50/50 [00:08<00:00,  6.02it/s, episode_return=450, return=274.700]\n",
      "Iteration 9: 100%|██████████| 50/50 [00:07<00:00,  6.76it/s, episode_return=500, return=145.900]\n"
     ]
    },
    {
     "data": {
      "application/vnd.jupyter.widget-view+json": {
       "model_id": "fc70cd5279d8472da0f8e3081b7e827c",
       "version_major": 2,
       "version_minor": 0
      },
      "text/plain": [
       "VBox(children=(Label(value='0.001 MB of 0.001 MB uploaded\\r'), FloatProgress(value=1.0, max=1.0)))"
      ]
     },
     "metadata": {},
     "output_type": "display_data"
    },
    {
     "data": {
      "text/html": [
       "<style>\n",
       "    table.wandb td:nth-child(1) { padding: 0 10px; text-align: left ; width: auto;} td:nth-child(2) {text-align: left ; width: 100%}\n",
       "    .wandb-row { display: flex; flex-direction: row; flex-wrap: wrap; justify-content: flex-start; width: 100% }\n",
       "    .wandb-col { display: flex; flex-direction: column; flex-basis: 100%; flex: 1; padding: 10px; }\n",
       "    </style>\n",
       "<div class=\"wandb-row\"><div class=\"wandb-col\"><h3>Run history:</h3><br/><table class=\"wandb\"><tr><td>regret</td><td>▁</td></tr></table><br/></div><div class=\"wandb-col\"><h3>Run summary:</h3><br/><table class=\"wandb\"><tr><td>regret</td><td>50176.06157</td></tr></table><br/></div></div>"
      ],
      "text/plain": [
       "<IPython.core.display.HTML object>"
      ]
     },
     "metadata": {},
     "output_type": "display_data"
    },
    {
     "data": {
      "text/html": [
       " View run <strong style=\"color:#cdcd00\">astral-sweep-43</strong> at: <a href='https://wandb.ai/rl_shobhith/uncategorized/runs/mroqa4v4/workspace' target=\"_blank\">https://wandb.ai/rl_shobhith/uncategorized/runs/mroqa4v4/workspace</a><br/>Synced 5 W&B file(s), 0 media file(s), 0 artifact file(s) and 0 other file(s)"
      ],
      "text/plain": [
       "<IPython.core.display.HTML object>"
      ]
     },
     "metadata": {},
     "output_type": "display_data"
    },
    {
     "data": {
      "text/html": [
       "Find logs at: <code>.\\wandb\\run-20240401_215308-mroqa4v4\\logs</code>"
      ],
      "text/plain": [
       "<IPython.core.display.HTML object>"
      ]
     },
     "metadata": {},
     "output_type": "display_data"
    },
    {
     "name": "stderr",
     "output_type": "stream",
     "text": [
      "\u001b[34m\u001b[1mwandb\u001b[0m: Sweep Agent: Waiting for job.\n",
      "\u001b[34m\u001b[1mwandb\u001b[0m: Job received.\n",
      "\u001b[34m\u001b[1mwandb\u001b[0m: Agent Starting Run: 1al9nh8r with config:\n",
      "\u001b[34m\u001b[1mwandb\u001b[0m: \thidden_dim: 256\n",
      "\u001b[34m\u001b[1mwandb\u001b[0m: \tlearning_rate: 0.0005734199155920707\n",
      "Failed to detect the name of this notebook, you can set it manually with the WANDB_NOTEBOOK_NAME environment variable to enable code saving.\n"
     ]
    },
    {
     "data": {
      "text/html": [
       "Tracking run with wandb version 0.16.5"
      ],
      "text/plain": [
       "<IPython.core.display.HTML object>"
      ]
     },
     "metadata": {},
     "output_type": "display_data"
    },
    {
     "data": {
      "text/html": [
       "Run data is saved locally in <code>c:\\Users\\Shobhith Vadlamudi\\Desktop\\3rd Year\\SEM 6\\RL\\wandb\\run-20240401_215413-1al9nh8r</code>"
      ],
      "text/plain": [
       "<IPython.core.display.HTML object>"
      ]
     },
     "metadata": {},
     "output_type": "display_data"
    },
    {
     "data": {
      "text/html": [
       "Syncing run <strong><a href='https://wandb.ai/rl_shobhith/uncategorized/runs/1al9nh8r/workspace' target=\"_blank\">solar-sweep-44</a></strong> to <a href='https://wandb.ai/rl_shobhith/uncategorized' target=\"_blank\">Weights & Biases</a> (<a href='https://wandb.me/run' target=\"_blank\">docs</a>)<br/>Sweep page: <a href='https://wandb.ai/rl_shobhith/uncategorized/sweeps/ebygp3ca' target=\"_blank\">https://wandb.ai/rl_shobhith/uncategorized/sweeps/ebygp3ca</a>"
      ],
      "text/plain": [
       "<IPython.core.display.HTML object>"
      ]
     },
     "metadata": {},
     "output_type": "display_data"
    },
    {
     "data": {
      "text/html": [
       " View project at <a href='https://wandb.ai/rl_shobhith/uncategorized' target=\"_blank\">https://wandb.ai/rl_shobhith/uncategorized</a>"
      ],
      "text/plain": [
       "<IPython.core.display.HTML object>"
      ]
     },
     "metadata": {},
     "output_type": "display_data"
    },
    {
     "data": {
      "text/html": [
       " View sweep at <a href='https://wandb.ai/rl_shobhith/uncategorized/sweeps/ebygp3ca' target=\"_blank\">https://wandb.ai/rl_shobhith/uncategorized/sweeps/ebygp3ca</a>"
      ],
      "text/plain": [
       "<IPython.core.display.HTML object>"
      ]
     },
     "metadata": {},
     "output_type": "display_data"
    },
    {
     "data": {
      "text/html": [
       " View run at <a href='https://wandb.ai/rl_shobhith/uncategorized/runs/1al9nh8r/workspace' target=\"_blank\">https://wandb.ai/rl_shobhith/uncategorized/runs/1al9nh8r/workspace</a>"
      ],
      "text/plain": [
       "<IPython.core.display.HTML object>"
      ]
     },
     "metadata": {},
     "output_type": "display_data"
    },
    {
     "name": "stderr",
     "output_type": "stream",
     "text": [
      "Iteration 0: 100%|██████████| 50/50 [00:01<00:00, 40.57it/s, episode_return=50, return=31.100]\n",
      "Iteration 1: 100%|██████████| 50/50 [00:01<00:00, 31.57it/s, episode_return=100, return=52.500]\n",
      "Iteration 2: 100%|██████████| 50/50 [00:02<00:00, 22.17it/s, episode_return=150, return=83.300]\n",
      "Iteration 3: 100%|██████████| 50/50 [00:02<00:00, 21.94it/s, episode_return=200, return=62.400]\n",
      "Iteration 4: 100%|██████████| 50/50 [00:02<00:00, 20.82it/s, episode_return=250, return=57.900]\n",
      "Iteration 5: 100%|██████████| 50/50 [00:03<00:00, 13.20it/s, episode_return=300, return=137.300]\n",
      "Iteration 6: 100%|██████████| 50/50 [00:07<00:00,  7.03it/s, episode_return=350, return=245.400]\n",
      "Iteration 7: 100%|██████████| 50/50 [00:06<00:00,  7.36it/s, episode_return=400, return=152.600]\n",
      "Iteration 8: 100%|██████████| 50/50 [00:08<00:00,  5.63it/s, episode_return=450, return=266.200]\n",
      "Iteration 9: 100%|██████████| 50/50 [00:12<00:00,  4.01it/s, episode_return=500, return=382.000]\n"
     ]
    },
    {
     "data": {
      "application/vnd.jupyter.widget-view+json": {
       "model_id": "f3f75a96e21440c9b42b398923ba667b",
       "version_major": 2,
       "version_minor": 0
      },
      "text/plain": [
       "VBox(children=(Label(value='0.001 MB of 0.001 MB uploaded\\r'), FloatProgress(value=1.0, max=1.0)))"
      ]
     },
     "metadata": {},
     "output_type": "display_data"
    },
    {
     "data": {
      "text/html": [
       "<style>\n",
       "    table.wandb td:nth-child(1) { padding: 0 10px; text-align: left ; width: auto;} td:nth-child(2) {text-align: left ; width: 100%}\n",
       "    .wandb-row { display: flex; flex-direction: row; flex-wrap: wrap; justify-content: flex-start; width: 100% }\n",
       "    .wandb-col { display: flex; flex-direction: column; flex-basis: 100%; flex: 1; padding: 10px; }\n",
       "    </style>\n",
       "<div class=\"wandb-row\"><div class=\"wandb-col\"><h3>Run history:</h3><br/><table class=\"wandb\"><tr><td>regret</td><td>▁</td></tr></table><br/></div><div class=\"wandb-col\"><h3>Run summary:</h3><br/><table class=\"wandb\"><tr><td>regret</td><td>48736.28978</td></tr></table><br/></div></div>"
      ],
      "text/plain": [
       "<IPython.core.display.HTML object>"
      ]
     },
     "metadata": {},
     "output_type": "display_data"
    },
    {
     "data": {
      "text/html": [
       " View run <strong style=\"color:#cdcd00\">solar-sweep-44</strong> at: <a href='https://wandb.ai/rl_shobhith/uncategorized/runs/1al9nh8r/workspace' target=\"_blank\">https://wandb.ai/rl_shobhith/uncategorized/runs/1al9nh8r/workspace</a><br/>Synced 5 W&B file(s), 0 media file(s), 0 artifact file(s) and 0 other file(s)"
      ],
      "text/plain": [
       "<IPython.core.display.HTML object>"
      ]
     },
     "metadata": {},
     "output_type": "display_data"
    },
    {
     "data": {
      "text/html": [
       "Find logs at: <code>.\\wandb\\run-20240401_215413-1al9nh8r\\logs</code>"
      ],
      "text/plain": [
       "<IPython.core.display.HTML object>"
      ]
     },
     "metadata": {},
     "output_type": "display_data"
    },
    {
     "name": "stderr",
     "output_type": "stream",
     "text": [
      "\u001b[34m\u001b[1mwandb\u001b[0m: Agent Starting Run: r6oj6htg with config:\n",
      "\u001b[34m\u001b[1mwandb\u001b[0m: \thidden_dim: 256\n",
      "\u001b[34m\u001b[1mwandb\u001b[0m: \tlearning_rate: 0.000647190002060226\n",
      "Failed to detect the name of this notebook, you can set it manually with the WANDB_NOTEBOOK_NAME environment variable to enable code saving.\n"
     ]
    },
    {
     "data": {
      "text/html": [
       "Tracking run with wandb version 0.16.5"
      ],
      "text/plain": [
       "<IPython.core.display.HTML object>"
      ]
     },
     "metadata": {},
     "output_type": "display_data"
    },
    {
     "data": {
      "text/html": [
       "Run data is saved locally in <code>c:\\Users\\Shobhith Vadlamudi\\Desktop\\3rd Year\\SEM 6\\RL\\wandb\\run-20240401_215518-r6oj6htg</code>"
      ],
      "text/plain": [
       "<IPython.core.display.HTML object>"
      ]
     },
     "metadata": {},
     "output_type": "display_data"
    },
    {
     "data": {
      "text/html": [
       "Syncing run <strong><a href='https://wandb.ai/rl_shobhith/uncategorized/runs/r6oj6htg/workspace' target=\"_blank\">genial-sweep-45</a></strong> to <a href='https://wandb.ai/rl_shobhith/uncategorized' target=\"_blank\">Weights & Biases</a> (<a href='https://wandb.me/run' target=\"_blank\">docs</a>)<br/>Sweep page: <a href='https://wandb.ai/rl_shobhith/uncategorized/sweeps/ebygp3ca' target=\"_blank\">https://wandb.ai/rl_shobhith/uncategorized/sweeps/ebygp3ca</a>"
      ],
      "text/plain": [
       "<IPython.core.display.HTML object>"
      ]
     },
     "metadata": {},
     "output_type": "display_data"
    },
    {
     "data": {
      "text/html": [
       " View project at <a href='https://wandb.ai/rl_shobhith/uncategorized' target=\"_blank\">https://wandb.ai/rl_shobhith/uncategorized</a>"
      ],
      "text/plain": [
       "<IPython.core.display.HTML object>"
      ]
     },
     "metadata": {},
     "output_type": "display_data"
    },
    {
     "data": {
      "text/html": [
       " View sweep at <a href='https://wandb.ai/rl_shobhith/uncategorized/sweeps/ebygp3ca' target=\"_blank\">https://wandb.ai/rl_shobhith/uncategorized/sweeps/ebygp3ca</a>"
      ],
      "text/plain": [
       "<IPython.core.display.HTML object>"
      ]
     },
     "metadata": {},
     "output_type": "display_data"
    },
    {
     "data": {
      "text/html": [
       " View run at <a href='https://wandb.ai/rl_shobhith/uncategorized/runs/r6oj6htg/workspace' target=\"_blank\">https://wandb.ai/rl_shobhith/uncategorized/runs/r6oj6htg/workspace</a>"
      ],
      "text/plain": [
       "<IPython.core.display.HTML object>"
      ]
     },
     "metadata": {},
     "output_type": "display_data"
    },
    {
     "name": "stderr",
     "output_type": "stream",
     "text": [
      "Iteration 0: 100%|██████████| 50/50 [00:01<00:00, 40.89it/s, episode_return=50, return=25.000]\n",
      "Iteration 1: 100%|██████████| 50/50 [00:01<00:00, 32.12it/s, episode_return=100, return=33.300]\n",
      "Iteration 2: 100%|██████████| 50/50 [00:02<00:00, 23.65it/s, episode_return=150, return=51.500]\n",
      "Iteration 3: 100%|██████████| 50/50 [00:01<00:00, 26.25it/s, episode_return=200, return=43.100]\n",
      "Iteration 4: 100%|██████████| 50/50 [00:02<00:00, 18.83it/s, episode_return=250, return=64.900] \n",
      "Iteration 5: 100%|██████████| 50/50 [00:03<00:00, 13.19it/s, episode_return=300, return=144.800]\n",
      "Iteration 6: 100%|██████████| 50/50 [00:05<00:00,  9.83it/s, episode_return=350, return=135.200]\n",
      "Iteration 7: 100%|██████████| 50/50 [00:05<00:00,  8.91it/s, episode_return=400, return=191.000]\n",
      "Iteration 8: 100%|██████████| 50/50 [00:07<00:00,  6.52it/s, episode_return=450, return=270.300]\n",
      "Iteration 9: 100%|██████████| 50/50 [00:05<00:00,  9.07it/s, episode_return=500, return=239.200]\n"
     ]
    },
    {
     "data": {
      "application/vnd.jupyter.widget-view+json": {
       "model_id": "c4a425222cb04a95b4fb3d24394bd6b2",
       "version_major": 2,
       "version_minor": 0
      },
      "text/plain": [
       "VBox(children=(Label(value='0.001 MB of 0.001 MB uploaded\\r'), FloatProgress(value=1.0, max=1.0)))"
      ]
     },
     "metadata": {},
     "output_type": "display_data"
    },
    {
     "data": {
      "text/html": [
       "<style>\n",
       "    table.wandb td:nth-child(1) { padding: 0 10px; text-align: left ; width: auto;} td:nth-child(2) {text-align: left ; width: 100%}\n",
       "    .wandb-row { display: flex; flex-direction: row; flex-wrap: wrap; justify-content: flex-start; width: 100% }\n",
       "    .wandb-col { display: flex; flex-direction: column; flex-basis: 100%; flex: 1; padding: 10px; }\n",
       "    </style>\n",
       "<div class=\"wandb-row\"><div class=\"wandb-col\"><h3>Run history:</h3><br/><table class=\"wandb\"><tr><td>regret</td><td>▁</td></tr></table><br/></div><div class=\"wandb-col\"><h3>Run summary:</h3><br/><table class=\"wandb\"><tr><td>regret</td><td>53998.08746</td></tr></table><br/></div></div>"
      ],
      "text/plain": [
       "<IPython.core.display.HTML object>"
      ]
     },
     "metadata": {},
     "output_type": "display_data"
    },
    {
     "data": {
      "text/html": [
       " View run <strong style=\"color:#cdcd00\">genial-sweep-45</strong> at: <a href='https://wandb.ai/rl_shobhith/uncategorized/runs/r6oj6htg/workspace' target=\"_blank\">https://wandb.ai/rl_shobhith/uncategorized/runs/r6oj6htg/workspace</a><br/>Synced 5 W&B file(s), 0 media file(s), 0 artifact file(s) and 0 other file(s)"
      ],
      "text/plain": [
       "<IPython.core.display.HTML object>"
      ]
     },
     "metadata": {},
     "output_type": "display_data"
    },
    {
     "data": {
      "text/html": [
       "Find logs at: <code>.\\wandb\\run-20240401_215518-r6oj6htg\\logs</code>"
      ],
      "text/plain": [
       "<IPython.core.display.HTML object>"
      ]
     },
     "metadata": {},
     "output_type": "display_data"
    },
    {
     "name": "stderr",
     "output_type": "stream",
     "text": [
      "\u001b[34m\u001b[1mwandb\u001b[0m: Agent Starting Run: 36o6uz34 with config:\n",
      "\u001b[34m\u001b[1mwandb\u001b[0m: \thidden_dim: 64\n",
      "\u001b[34m\u001b[1mwandb\u001b[0m: \tlearning_rate: 0.0005442547450610207\n",
      "Failed to detect the name of this notebook, you can set it manually with the WANDB_NOTEBOOK_NAME environment variable to enable code saving.\n"
     ]
    },
    {
     "data": {
      "application/vnd.jupyter.widget-view+json": {
       "model_id": "912f5ca814394e08894729baef9079ff",
       "version_major": 2,
       "version_minor": 0
      },
      "text/plain": [
       "VBox(children=(Label(value='Waiting for wandb.init()...\\r'), FloatProgress(value=0.011288888888925108, max=1.0…"
      ]
     },
     "metadata": {},
     "output_type": "display_data"
    },
    {
     "data": {
      "text/html": [
       "Tracking run with wandb version 0.16.5"
      ],
      "text/plain": [
       "<IPython.core.display.HTML object>"
      ]
     },
     "metadata": {},
     "output_type": "display_data"
    },
    {
     "data": {
      "text/html": [
       "Run data is saved locally in <code>c:\\Users\\Shobhith Vadlamudi\\Desktop\\3rd Year\\SEM 6\\RL\\wandb\\run-20240401_215606-36o6uz34</code>"
      ],
      "text/plain": [
       "<IPython.core.display.HTML object>"
      ]
     },
     "metadata": {},
     "output_type": "display_data"
    },
    {
     "data": {
      "text/html": [
       "Syncing run <strong><a href='https://wandb.ai/rl_shobhith/uncategorized/runs/36o6uz34/workspace' target=\"_blank\">comic-sweep-46</a></strong> to <a href='https://wandb.ai/rl_shobhith/uncategorized' target=\"_blank\">Weights & Biases</a> (<a href='https://wandb.me/run' target=\"_blank\">docs</a>)<br/>Sweep page: <a href='https://wandb.ai/rl_shobhith/uncategorized/sweeps/ebygp3ca' target=\"_blank\">https://wandb.ai/rl_shobhith/uncategorized/sweeps/ebygp3ca</a>"
      ],
      "text/plain": [
       "<IPython.core.display.HTML object>"
      ]
     },
     "metadata": {},
     "output_type": "display_data"
    },
    {
     "data": {
      "text/html": [
       " View project at <a href='https://wandb.ai/rl_shobhith/uncategorized' target=\"_blank\">https://wandb.ai/rl_shobhith/uncategorized</a>"
      ],
      "text/plain": [
       "<IPython.core.display.HTML object>"
      ]
     },
     "metadata": {},
     "output_type": "display_data"
    },
    {
     "data": {
      "text/html": [
       " View sweep at <a href='https://wandb.ai/rl_shobhith/uncategorized/sweeps/ebygp3ca' target=\"_blank\">https://wandb.ai/rl_shobhith/uncategorized/sweeps/ebygp3ca</a>"
      ],
      "text/plain": [
       "<IPython.core.display.HTML object>"
      ]
     },
     "metadata": {},
     "output_type": "display_data"
    },
    {
     "data": {
      "text/html": [
       " View run at <a href='https://wandb.ai/rl_shobhith/uncategorized/runs/36o6uz34/workspace' target=\"_blank\">https://wandb.ai/rl_shobhith/uncategorized/runs/36o6uz34/workspace</a>"
      ],
      "text/plain": [
       "<IPython.core.display.HTML object>"
      ]
     },
     "metadata": {},
     "output_type": "display_data"
    },
    {
     "name": "stderr",
     "output_type": "stream",
     "text": [
      "Iteration 0: 100%|██████████| 50/50 [00:01<00:00, 49.51it/s, episode_return=50, return=21.600]\n",
      "Iteration 1: 100%|██████████| 50/50 [00:01<00:00, 32.71it/s, episode_return=100, return=37.100]\n",
      "Iteration 2: 100%|██████████| 50/50 [00:01<00:00, 27.93it/s, episode_return=150, return=30.000]\n",
      "Iteration 3: 100%|██████████| 50/50 [00:02<00:00, 23.11it/s, episode_return=200, return=62.500]\n",
      "Iteration 4: 100%|██████████| 50/50 [00:03<00:00, 16.24it/s, episode_return=250, return=48.600]\n",
      "Iteration 5: 100%|██████████| 50/50 [00:02<00:00, 18.41it/s, episode_return=300, return=40.900]\n",
      "Iteration 6: 100%|██████████| 50/50 [00:03<00:00, 16.10it/s, episode_return=350, return=53.400]\n",
      "Iteration 7: 100%|██████████| 50/50 [00:02<00:00, 20.28it/s, episode_return=400, return=63.200]\n",
      "Iteration 8: 100%|██████████| 50/50 [00:02<00:00, 17.78it/s, episode_return=450, return=66.800]\n",
      "Iteration 9: 100%|██████████| 50/50 [00:03<00:00, 13.39it/s, episode_return=500, return=82.400]\n"
     ]
    },
    {
     "data": {
      "application/vnd.jupyter.widget-view+json": {
       "model_id": "6a5a10dda3ef4df68cef85c2eac642f6",
       "version_major": 2,
       "version_minor": 0
      },
      "text/plain": [
       "VBox(children=(Label(value='0.001 MB of 0.001 MB uploaded\\r'), FloatProgress(value=1.0, max=1.0)))"
      ]
     },
     "metadata": {},
     "output_type": "display_data"
    },
    {
     "data": {
      "text/html": [
       "<style>\n",
       "    table.wandb td:nth-child(1) { padding: 0 10px; text-align: left ; width: auto;} td:nth-child(2) {text-align: left ; width: 100%}\n",
       "    .wandb-row { display: flex; flex-direction: row; flex-wrap: wrap; justify-content: flex-start; width: 100% }\n",
       "    .wandb-col { display: flex; flex-direction: column; flex-basis: 100%; flex: 1; padding: 10px; }\n",
       "    </style>\n",
       "<div class=\"wandb-row\"><div class=\"wandb-col\"><h3>Run history:</h3><br/><table class=\"wandb\"><tr><td>regret</td><td>▁</td></tr></table><br/></div><div class=\"wandb-col\"><h3>Run summary:</h3><br/><table class=\"wandb\"><tr><td>regret</td><td>77220.14465</td></tr></table><br/></div></div>"
      ],
      "text/plain": [
       "<IPython.core.display.HTML object>"
      ]
     },
     "metadata": {},
     "output_type": "display_data"
    },
    {
     "data": {
      "text/html": [
       " View run <strong style=\"color:#cdcd00\">comic-sweep-46</strong> at: <a href='https://wandb.ai/rl_shobhith/uncategorized/runs/36o6uz34/workspace' target=\"_blank\">https://wandb.ai/rl_shobhith/uncategorized/runs/36o6uz34/workspace</a><br/>Synced 5 W&B file(s), 0 media file(s), 0 artifact file(s) and 0 other file(s)"
      ],
      "text/plain": [
       "<IPython.core.display.HTML object>"
      ]
     },
     "metadata": {},
     "output_type": "display_data"
    },
    {
     "data": {
      "text/html": [
       "Find logs at: <code>.\\wandb\\run-20240401_215606-36o6uz34\\logs</code>"
      ],
      "text/plain": [
       "<IPython.core.display.HTML object>"
      ]
     },
     "metadata": {},
     "output_type": "display_data"
    },
    {
     "name": "stderr",
     "output_type": "stream",
     "text": [
      "\u001b[34m\u001b[1mwandb\u001b[0m: Agent Starting Run: yxehm5x5 with config:\n",
      "\u001b[34m\u001b[1mwandb\u001b[0m: \thidden_dim: 256\n",
      "\u001b[34m\u001b[1mwandb\u001b[0m: \tlearning_rate: 0.00044920952879637816\n",
      "Failed to detect the name of this notebook, you can set it manually with the WANDB_NOTEBOOK_NAME environment variable to enable code saving.\n"
     ]
    },
    {
     "data": {
      "text/html": [
       "Tracking run with wandb version 0.16.5"
      ],
      "text/plain": [
       "<IPython.core.display.HTML object>"
      ]
     },
     "metadata": {},
     "output_type": "display_data"
    },
    {
     "data": {
      "text/html": [
       "Run data is saved locally in <code>c:\\Users\\Shobhith Vadlamudi\\Desktop\\3rd Year\\SEM 6\\RL\\wandb\\run-20240401_215643-yxehm5x5</code>"
      ],
      "text/plain": [
       "<IPython.core.display.HTML object>"
      ]
     },
     "metadata": {},
     "output_type": "display_data"
    },
    {
     "data": {
      "text/html": [
       "Syncing run <strong><a href='https://wandb.ai/rl_shobhith/uncategorized/runs/yxehm5x5/workspace' target=\"_blank\">peachy-sweep-47</a></strong> to <a href='https://wandb.ai/rl_shobhith/uncategorized' target=\"_blank\">Weights & Biases</a> (<a href='https://wandb.me/run' target=\"_blank\">docs</a>)<br/>Sweep page: <a href='https://wandb.ai/rl_shobhith/uncategorized/sweeps/ebygp3ca' target=\"_blank\">https://wandb.ai/rl_shobhith/uncategorized/sweeps/ebygp3ca</a>"
      ],
      "text/plain": [
       "<IPython.core.display.HTML object>"
      ]
     },
     "metadata": {},
     "output_type": "display_data"
    },
    {
     "data": {
      "text/html": [
       " View project at <a href='https://wandb.ai/rl_shobhith/uncategorized' target=\"_blank\">https://wandb.ai/rl_shobhith/uncategorized</a>"
      ],
      "text/plain": [
       "<IPython.core.display.HTML object>"
      ]
     },
     "metadata": {},
     "output_type": "display_data"
    },
    {
     "data": {
      "text/html": [
       " View sweep at <a href='https://wandb.ai/rl_shobhith/uncategorized/sweeps/ebygp3ca' target=\"_blank\">https://wandb.ai/rl_shobhith/uncategorized/sweeps/ebygp3ca</a>"
      ],
      "text/plain": [
       "<IPython.core.display.HTML object>"
      ]
     },
     "metadata": {},
     "output_type": "display_data"
    },
    {
     "data": {
      "text/html": [
       " View run at <a href='https://wandb.ai/rl_shobhith/uncategorized/runs/yxehm5x5/workspace' target=\"_blank\">https://wandb.ai/rl_shobhith/uncategorized/runs/yxehm5x5/workspace</a>"
      ],
      "text/plain": [
       "<IPython.core.display.HTML object>"
      ]
     },
     "metadata": {},
     "output_type": "display_data"
    },
    {
     "name": "stderr",
     "output_type": "stream",
     "text": [
      "Iteration 0: 100%|██████████| 50/50 [00:00<00:00, 56.52it/s, episode_return=50, return=23.100]\n",
      "Iteration 1: 100%|██████████| 50/50 [00:01<00:00, 42.63it/s, episode_return=100, return=31.900]\n",
      "Iteration 2: 100%|██████████| 50/50 [00:01<00:00, 38.95it/s, episode_return=150, return=41.900]\n",
      "Iteration 3: 100%|██████████| 50/50 [00:01<00:00, 25.16it/s, episode_return=200, return=73.900]\n",
      "Iteration 4: 100%|██████████| 50/50 [00:02<00:00, 18.24it/s, episode_return=250, return=99.900]\n",
      "Iteration 5: 100%|██████████| 50/50 [00:04<00:00, 11.90it/s, episode_return=300, return=103.200]\n",
      "Iteration 6: 100%|██████████| 50/50 [00:05<00:00,  9.37it/s, episode_return=350, return=139.000]\n",
      "Iteration 7: 100%|██████████| 50/50 [00:05<00:00,  8.57it/s, episode_return=400, return=135.200]\n",
      "Iteration 8: 100%|██████████| 50/50 [00:07<00:00,  6.63it/s, episode_return=450, return=281.400]\n",
      "Iteration 9: 100%|██████████| 50/50 [00:09<00:00,  5.11it/s, episode_return=500, return=282.100]\n"
     ]
    },
    {
     "data": {
      "application/vnd.jupyter.widget-view+json": {
       "model_id": "827d0108e0a243cc86687f93a7eed121",
       "version_major": 2,
       "version_minor": 0
      },
      "text/plain": [
       "VBox(children=(Label(value='0.001 MB of 0.001 MB uploaded\\r'), FloatProgress(value=1.0, max=1.0)))"
      ]
     },
     "metadata": {},
     "output_type": "display_data"
    },
    {
     "data": {
      "text/html": [
       "<style>\n",
       "    table.wandb td:nth-child(1) { padding: 0 10px; text-align: left ; width: auto;} td:nth-child(2) {text-align: left ; width: 100%}\n",
       "    .wandb-row { display: flex; flex-direction: row; flex-wrap: wrap; justify-content: flex-start; width: 100% }\n",
       "    .wandb-col { display: flex; flex-direction: column; flex-basis: 100%; flex: 1; padding: 10px; }\n",
       "    </style>\n",
       "<div class=\"wandb-row\"><div class=\"wandb-col\"><h3>Run history:</h3><br/><table class=\"wandb\"><tr><td>regret</td><td>▁</td></tr></table><br/></div><div class=\"wandb-col\"><h3>Run summary:</h3><br/><table class=\"wandb\"><tr><td>regret</td><td>55290.63462</td></tr></table><br/></div></div>"
      ],
      "text/plain": [
       "<IPython.core.display.HTML object>"
      ]
     },
     "metadata": {},
     "output_type": "display_data"
    },
    {
     "data": {
      "text/html": [
       " View run <strong style=\"color:#cdcd00\">peachy-sweep-47</strong> at: <a href='https://wandb.ai/rl_shobhith/uncategorized/runs/yxehm5x5/workspace' target=\"_blank\">https://wandb.ai/rl_shobhith/uncategorized/runs/yxehm5x5/workspace</a><br/>Synced 5 W&B file(s), 0 media file(s), 0 artifact file(s) and 0 other file(s)"
      ],
      "text/plain": [
       "<IPython.core.display.HTML object>"
      ]
     },
     "metadata": {},
     "output_type": "display_data"
    },
    {
     "data": {
      "text/html": [
       "Find logs at: <code>.\\wandb\\run-20240401_215643-yxehm5x5\\logs</code>"
      ],
      "text/plain": [
       "<IPython.core.display.HTML object>"
      ]
     },
     "metadata": {},
     "output_type": "display_data"
    },
    {
     "name": "stderr",
     "output_type": "stream",
     "text": [
      "\u001b[34m\u001b[1mwandb\u001b[0m: Agent Starting Run: jxtbhjk1 with config:\n",
      "\u001b[34m\u001b[1mwandb\u001b[0m: \thidden_dim: 64\n",
      "\u001b[34m\u001b[1mwandb\u001b[0m: \tlearning_rate: 0.000790414073571001\n",
      "Failed to detect the name of this notebook, you can set it manually with the WANDB_NOTEBOOK_NAME environment variable to enable code saving.\n"
     ]
    },
    {
     "data": {
      "text/html": [
       "Tracking run with wandb version 0.16.5"
      ],
      "text/plain": [
       "<IPython.core.display.HTML object>"
      ]
     },
     "metadata": {},
     "output_type": "display_data"
    },
    {
     "data": {
      "text/html": [
       "Run data is saved locally in <code>c:\\Users\\Shobhith Vadlamudi\\Desktop\\3rd Year\\SEM 6\\RL\\wandb\\run-20240401_215736-jxtbhjk1</code>"
      ],
      "text/plain": [
       "<IPython.core.display.HTML object>"
      ]
     },
     "metadata": {},
     "output_type": "display_data"
    },
    {
     "data": {
      "text/html": [
       "Syncing run <strong><a href='https://wandb.ai/rl_shobhith/uncategorized/runs/jxtbhjk1/workspace' target=\"_blank\">bumbling-sweep-48</a></strong> to <a href='https://wandb.ai/rl_shobhith/uncategorized' target=\"_blank\">Weights & Biases</a> (<a href='https://wandb.me/run' target=\"_blank\">docs</a>)<br/>Sweep page: <a href='https://wandb.ai/rl_shobhith/uncategorized/sweeps/ebygp3ca' target=\"_blank\">https://wandb.ai/rl_shobhith/uncategorized/sweeps/ebygp3ca</a>"
      ],
      "text/plain": [
       "<IPython.core.display.HTML object>"
      ]
     },
     "metadata": {},
     "output_type": "display_data"
    },
    {
     "data": {
      "text/html": [
       " View project at <a href='https://wandb.ai/rl_shobhith/uncategorized' target=\"_blank\">https://wandb.ai/rl_shobhith/uncategorized</a>"
      ],
      "text/plain": [
       "<IPython.core.display.HTML object>"
      ]
     },
     "metadata": {},
     "output_type": "display_data"
    },
    {
     "data": {
      "text/html": [
       " View sweep at <a href='https://wandb.ai/rl_shobhith/uncategorized/sweeps/ebygp3ca' target=\"_blank\">https://wandb.ai/rl_shobhith/uncategorized/sweeps/ebygp3ca</a>"
      ],
      "text/plain": [
       "<IPython.core.display.HTML object>"
      ]
     },
     "metadata": {},
     "output_type": "display_data"
    },
    {
     "data": {
      "text/html": [
       " View run at <a href='https://wandb.ai/rl_shobhith/uncategorized/runs/jxtbhjk1/workspace' target=\"_blank\">https://wandb.ai/rl_shobhith/uncategorized/runs/jxtbhjk1/workspace</a>"
      ],
      "text/plain": [
       "<IPython.core.display.HTML object>"
      ]
     },
     "metadata": {},
     "output_type": "display_data"
    },
    {
     "name": "stderr",
     "output_type": "stream",
     "text": [
      "Iteration 0: 100%|██████████| 50/50 [00:01<00:00, 44.53it/s, episode_return=50, return=24.800]\n",
      "Iteration 1: 100%|██████████| 50/50 [00:01<00:00, 37.26it/s, episode_return=100, return=28.000]\n",
      "Iteration 2: 100%|██████████| 50/50 [00:02<00:00, 24.62it/s, episode_return=150, return=56.200]\n",
      "Iteration 3: 100%|██████████| 50/50 [00:02<00:00, 22.76it/s, episode_return=200, return=56.600]\n",
      "Iteration 4: 100%|██████████| 50/50 [00:02<00:00, 17.01it/s, episode_return=250, return=60.500]\n",
      "Iteration 5: 100%|██████████| 50/50 [00:03<00:00, 16.06it/s, episode_return=300, return=64.600]\n",
      "Iteration 6: 100%|██████████| 50/50 [00:03<00:00, 13.49it/s, episode_return=350, return=100.200]\n",
      "Iteration 7: 100%|██████████| 50/50 [00:05<00:00,  9.30it/s, episode_return=400, return=128.300]\n",
      "Iteration 8: 100%|██████████| 50/50 [00:08<00:00,  6.22it/s, episode_return=450, return=176.000]\n",
      "Iteration 9: 100%|██████████| 50/50 [00:10<00:00,  4.76it/s, episode_return=500, return=246.300]\n"
     ]
    },
    {
     "data": {
      "application/vnd.jupyter.widget-view+json": {
       "model_id": "06a6001286db4184ab573627dc8c8376",
       "version_major": 2,
       "version_minor": 0
      },
      "text/plain": [
       "VBox(children=(Label(value='0.001 MB of 0.001 MB uploaded\\r'), FloatProgress(value=1.0, max=1.0)))"
      ]
     },
     "metadata": {},
     "output_type": "display_data"
    },
    {
     "data": {
      "text/html": [
       "<style>\n",
       "    table.wandb td:nth-child(1) { padding: 0 10px; text-align: left ; width: auto;} td:nth-child(2) {text-align: left ; width: 100%}\n",
       "    .wandb-row { display: flex; flex-direction: row; flex-wrap: wrap; justify-content: flex-start; width: 100% }\n",
       "    .wandb-col { display: flex; flex-direction: column; flex-basis: 100%; flex: 1; padding: 10px; }\n",
       "    </style>\n",
       "<div class=\"wandb-row\"><div class=\"wandb-col\"><h3>Run history:</h3><br/><table class=\"wandb\"><tr><td>regret</td><td>▁</td></tr></table><br/></div><div class=\"wandb-col\"><h3>Run summary:</h3><br/><table class=\"wandb\"><tr><td>regret</td><td>66104.58968</td></tr></table><br/></div></div>"
      ],
      "text/plain": [
       "<IPython.core.display.HTML object>"
      ]
     },
     "metadata": {},
     "output_type": "display_data"
    },
    {
     "data": {
      "text/html": [
       " View run <strong style=\"color:#cdcd00\">bumbling-sweep-48</strong> at: <a href='https://wandb.ai/rl_shobhith/uncategorized/runs/jxtbhjk1/workspace' target=\"_blank\">https://wandb.ai/rl_shobhith/uncategorized/runs/jxtbhjk1/workspace</a><br/>Synced 5 W&B file(s), 0 media file(s), 0 artifact file(s) and 0 other file(s)"
      ],
      "text/plain": [
       "<IPython.core.display.HTML object>"
      ]
     },
     "metadata": {},
     "output_type": "display_data"
    },
    {
     "data": {
      "text/html": [
       "Find logs at: <code>.\\wandb\\run-20240401_215736-jxtbhjk1\\logs</code>"
      ],
      "text/plain": [
       "<IPython.core.display.HTML object>"
      ]
     },
     "metadata": {},
     "output_type": "display_data"
    },
    {
     "name": "stderr",
     "output_type": "stream",
     "text": [
      "\u001b[34m\u001b[1mwandb\u001b[0m: Agent Starting Run: mpkt22z1 with config:\n",
      "\u001b[34m\u001b[1mwandb\u001b[0m: \thidden_dim: 256\n",
      "\u001b[34m\u001b[1mwandb\u001b[0m: \tlearning_rate: 0.00028224837093361783\n",
      "Failed to detect the name of this notebook, you can set it manually with the WANDB_NOTEBOOK_NAME environment variable to enable code saving.\n"
     ]
    },
    {
     "data": {
      "text/html": [
       "Tracking run with wandb version 0.16.5"
      ],
      "text/plain": [
       "<IPython.core.display.HTML object>"
      ]
     },
     "metadata": {},
     "output_type": "display_data"
    },
    {
     "data": {
      "text/html": [
       "Run data is saved locally in <code>c:\\Users\\Shobhith Vadlamudi\\Desktop\\3rd Year\\SEM 6\\RL\\wandb\\run-20240401_215830-mpkt22z1</code>"
      ],
      "text/plain": [
       "<IPython.core.display.HTML object>"
      ]
     },
     "metadata": {},
     "output_type": "display_data"
    },
    {
     "data": {
      "text/html": [
       "Syncing run <strong><a href='https://wandb.ai/rl_shobhith/uncategorized/runs/mpkt22z1/workspace' target=\"_blank\">logical-sweep-49</a></strong> to <a href='https://wandb.ai/rl_shobhith/uncategorized' target=\"_blank\">Weights & Biases</a> (<a href='https://wandb.me/run' target=\"_blank\">docs</a>)<br/>Sweep page: <a href='https://wandb.ai/rl_shobhith/uncategorized/sweeps/ebygp3ca' target=\"_blank\">https://wandb.ai/rl_shobhith/uncategorized/sweeps/ebygp3ca</a>"
      ],
      "text/plain": [
       "<IPython.core.display.HTML object>"
      ]
     },
     "metadata": {},
     "output_type": "display_data"
    },
    {
     "data": {
      "text/html": [
       " View project at <a href='https://wandb.ai/rl_shobhith/uncategorized' target=\"_blank\">https://wandb.ai/rl_shobhith/uncategorized</a>"
      ],
      "text/plain": [
       "<IPython.core.display.HTML object>"
      ]
     },
     "metadata": {},
     "output_type": "display_data"
    },
    {
     "data": {
      "text/html": [
       " View sweep at <a href='https://wandb.ai/rl_shobhith/uncategorized/sweeps/ebygp3ca' target=\"_blank\">https://wandb.ai/rl_shobhith/uncategorized/sweeps/ebygp3ca</a>"
      ],
      "text/plain": [
       "<IPython.core.display.HTML object>"
      ]
     },
     "metadata": {},
     "output_type": "display_data"
    },
    {
     "data": {
      "text/html": [
       " View run at <a href='https://wandb.ai/rl_shobhith/uncategorized/runs/mpkt22z1/workspace' target=\"_blank\">https://wandb.ai/rl_shobhith/uncategorized/runs/mpkt22z1/workspace</a>"
      ],
      "text/plain": [
       "<IPython.core.display.HTML object>"
      ]
     },
     "metadata": {},
     "output_type": "display_data"
    },
    {
     "name": "stderr",
     "output_type": "stream",
     "text": [
      "Iteration 0: 100%|██████████| 50/50 [00:01<00:00, 43.59it/s, episode_return=50, return=19.300]\n",
      "Iteration 1: 100%|██████████| 50/50 [00:01<00:00, 30.78it/s, episode_return=100, return=40.800]\n",
      "Iteration 2: 100%|██████████| 50/50 [00:01<00:00, 29.28it/s, episode_return=150, return=39.300]\n",
      "Iteration 3: 100%|██████████| 50/50 [00:01<00:00, 26.86it/s, episode_return=200, return=60.900]\n",
      "Iteration 4: 100%|██████████| 50/50 [00:02<00:00, 24.86it/s, episode_return=250, return=51.300]\n",
      "Iteration 5: 100%|██████████| 50/50 [00:02<00:00, 21.30it/s, episode_return=300, return=62.300]\n",
      "Iteration 6: 100%|██████████| 50/50 [00:02<00:00, 19.20it/s, episode_return=350, return=73.700]\n",
      "Iteration 7: 100%|██████████| 50/50 [00:02<00:00, 18.91it/s, episode_return=400, return=87.100]\n",
      "Iteration 8: 100%|██████████| 50/50 [00:03<00:00, 13.02it/s, episode_return=450, return=102.400]\n",
      "Iteration 9: 100%|██████████| 50/50 [00:05<00:00,  9.47it/s, episode_return=500, return=131.300]\n"
     ]
    },
    {
     "data": {
      "application/vnd.jupyter.widget-view+json": {
       "model_id": "3f3705856605411599d6fc8cd4cc4b1f",
       "version_major": 2,
       "version_minor": 0
      },
      "text/plain": [
       "VBox(children=(Label(value='0.001 MB of 0.001 MB uploaded\\r'), FloatProgress(value=1.0, max=1.0)))"
      ]
     },
     "metadata": {},
     "output_type": "display_data"
    },
    {
     "data": {
      "text/html": [
       "<style>\n",
       "    table.wandb td:nth-child(1) { padding: 0 10px; text-align: left ; width: auto;} td:nth-child(2) {text-align: left ; width: 100%}\n",
       "    .wandb-row { display: flex; flex-direction: row; flex-wrap: wrap; justify-content: flex-start; width: 100% }\n",
       "    .wandb-col { display: flex; flex-direction: column; flex-basis: 100%; flex: 1; padding: 10px; }\n",
       "    </style>\n",
       "<div class=\"wandb-row\"><div class=\"wandb-col\"><h3>Run history:</h3><br/><table class=\"wandb\"><tr><td>regret</td><td>▁</td></tr></table><br/></div><div class=\"wandb-col\"><h3>Run summary:</h3><br/><table class=\"wandb\"><tr><td>regret</td><td>70607.07945</td></tr></table><br/></div></div>"
      ],
      "text/plain": [
       "<IPython.core.display.HTML object>"
      ]
     },
     "metadata": {},
     "output_type": "display_data"
    },
    {
     "data": {
      "text/html": [
       " View run <strong style=\"color:#cdcd00\">logical-sweep-49</strong> at: <a href='https://wandb.ai/rl_shobhith/uncategorized/runs/mpkt22z1/workspace' target=\"_blank\">https://wandb.ai/rl_shobhith/uncategorized/runs/mpkt22z1/workspace</a><br/>Synced 5 W&B file(s), 0 media file(s), 0 artifact file(s) and 0 other file(s)"
      ],
      "text/plain": [
       "<IPython.core.display.HTML object>"
      ]
     },
     "metadata": {},
     "output_type": "display_data"
    },
    {
     "data": {
      "text/html": [
       "Find logs at: <code>.\\wandb\\run-20240401_215830-mpkt22z1\\logs</code>"
      ],
      "text/plain": [
       "<IPython.core.display.HTML object>"
      ]
     },
     "metadata": {},
     "output_type": "display_data"
    },
    {
     "name": "stderr",
     "output_type": "stream",
     "text": [
      "\u001b[34m\u001b[1mwandb\u001b[0m: Agent Starting Run: lk8cf0t5 with config:\n",
      "\u001b[34m\u001b[1mwandb\u001b[0m: \thidden_dim: 128\n",
      "\u001b[34m\u001b[1mwandb\u001b[0m: \tlearning_rate: 0.0003569810649013352\n",
      "Failed to detect the name of this notebook, you can set it manually with the WANDB_NOTEBOOK_NAME environment variable to enable code saving.\n"
     ]
    },
    {
     "data": {
      "application/vnd.jupyter.widget-view+json": {
       "model_id": "567551446018471baff63300f924d186",
       "version_major": 2,
       "version_minor": 0
      },
      "text/plain": [
       "VBox(children=(Label(value='Waiting for wandb.init()...\\r'), FloatProgress(value=0.011277777777932999, max=1.0…"
      ]
     },
     "metadata": {},
     "output_type": "display_data"
    },
    {
     "data": {
      "text/html": [
       "Tracking run with wandb version 0.16.5"
      ],
      "text/plain": [
       "<IPython.core.display.HTML object>"
      ]
     },
     "metadata": {},
     "output_type": "display_data"
    },
    {
     "data": {
      "text/html": [
       "Run data is saved locally in <code>c:\\Users\\Shobhith Vadlamudi\\Desktop\\3rd Year\\SEM 6\\RL\\wandb\\run-20240401_215907-lk8cf0t5</code>"
      ],
      "text/plain": [
       "<IPython.core.display.HTML object>"
      ]
     },
     "metadata": {},
     "output_type": "display_data"
    },
    {
     "data": {
      "text/html": [
       "Syncing run <strong><a href='https://wandb.ai/rl_shobhith/uncategorized/runs/lk8cf0t5/workspace' target=\"_blank\">copper-sweep-50</a></strong> to <a href='https://wandb.ai/rl_shobhith/uncategorized' target=\"_blank\">Weights & Biases</a> (<a href='https://wandb.me/run' target=\"_blank\">docs</a>)<br/>Sweep page: <a href='https://wandb.ai/rl_shobhith/uncategorized/sweeps/ebygp3ca' target=\"_blank\">https://wandb.ai/rl_shobhith/uncategorized/sweeps/ebygp3ca</a>"
      ],
      "text/plain": [
       "<IPython.core.display.HTML object>"
      ]
     },
     "metadata": {},
     "output_type": "display_data"
    },
    {
     "data": {
      "text/html": [
       " View project at <a href='https://wandb.ai/rl_shobhith/uncategorized' target=\"_blank\">https://wandb.ai/rl_shobhith/uncategorized</a>"
      ],
      "text/plain": [
       "<IPython.core.display.HTML object>"
      ]
     },
     "metadata": {},
     "output_type": "display_data"
    },
    {
     "data": {
      "text/html": [
       " View sweep at <a href='https://wandb.ai/rl_shobhith/uncategorized/sweeps/ebygp3ca' target=\"_blank\">https://wandb.ai/rl_shobhith/uncategorized/sweeps/ebygp3ca</a>"
      ],
      "text/plain": [
       "<IPython.core.display.HTML object>"
      ]
     },
     "metadata": {},
     "output_type": "display_data"
    },
    {
     "data": {
      "text/html": [
       " View run at <a href='https://wandb.ai/rl_shobhith/uncategorized/runs/lk8cf0t5/workspace' target=\"_blank\">https://wandb.ai/rl_shobhith/uncategorized/runs/lk8cf0t5/workspace</a>"
      ],
      "text/plain": [
       "<IPython.core.display.HTML object>"
      ]
     },
     "metadata": {},
     "output_type": "display_data"
    },
    {
     "name": "stderr",
     "output_type": "stream",
     "text": [
      "Iteration 0: 100%|██████████| 50/50 [00:00<00:00, 63.22it/s, episode_return=50, return=20.500]\n",
      "Iteration 1: 100%|██████████| 50/50 [00:00<00:00, 63.15it/s, episode_return=100, return=19.100]\n",
      "Iteration 2: 100%|██████████| 50/50 [00:00<00:00, 53.25it/s, episode_return=150, return=28.900]\n",
      "Iteration 3: 100%|██████████| 50/50 [00:00<00:00, 50.01it/s, episode_return=200, return=26.000]\n",
      "Iteration 4: 100%|██████████| 50/50 [00:01<00:00, 45.51it/s, episode_return=250, return=35.400]\n",
      "Iteration 5: 100%|██████████| 50/50 [00:01<00:00, 37.13it/s, episode_return=300, return=44.500]\n",
      "Iteration 6: 100%|██████████| 50/50 [00:01<00:00, 31.33it/s, episode_return=350, return=52.300]\n",
      "Iteration 7: 100%|██████████| 50/50 [00:01<00:00, 27.78it/s, episode_return=400, return=52.000]\n",
      "Iteration 8: 100%|██████████| 50/50 [00:01<00:00, 25.23it/s, episode_return=450, return=62.400]\n",
      "Iteration 9: 100%|██████████| 50/50 [00:02<00:00, 21.53it/s, episode_return=500, return=64.000]\n"
     ]
    },
    {
     "data": {
      "application/vnd.jupyter.widget-view+json": {
       "model_id": "f788e772d31b4f4d9b1214e6dae8da07",
       "version_major": 2,
       "version_minor": 0
      },
      "text/plain": [
       "VBox(children=(Label(value='0.001 MB of 0.001 MB uploaded\\r'), FloatProgress(value=1.0, max=1.0)))"
      ]
     },
     "metadata": {},
     "output_type": "display_data"
    },
    {
     "data": {
      "text/html": [
       "<style>\n",
       "    table.wandb td:nth-child(1) { padding: 0 10px; text-align: left ; width: auto;} td:nth-child(2) {text-align: left ; width: 100%}\n",
       "    .wandb-row { display: flex; flex-direction: row; flex-wrap: wrap; justify-content: flex-start; width: 100% }\n",
       "    .wandb-col { display: flex; flex-direction: column; flex-basis: 100%; flex: 1; padding: 10px; }\n",
       "    </style>\n",
       "<div class=\"wandb-row\"><div class=\"wandb-col\"><h3>Run history:</h3><br/><table class=\"wandb\"><tr><td>regret</td><td>▁</td></tr></table><br/></div><div class=\"wandb-col\"><h3>Run summary:</h3><br/><table class=\"wandb\"><tr><td>regret</td><td>81732.684</td></tr></table><br/></div></div>"
      ],
      "text/plain": [
       "<IPython.core.display.HTML object>"
      ]
     },
     "metadata": {},
     "output_type": "display_data"
    },
    {
     "data": {
      "text/html": [
       " View run <strong style=\"color:#cdcd00\">copper-sweep-50</strong> at: <a href='https://wandb.ai/rl_shobhith/uncategorized/runs/lk8cf0t5/workspace' target=\"_blank\">https://wandb.ai/rl_shobhith/uncategorized/runs/lk8cf0t5/workspace</a><br/>Synced 5 W&B file(s), 0 media file(s), 0 artifact file(s) and 0 other file(s)"
      ],
      "text/plain": [
       "<IPython.core.display.HTML object>"
      ]
     },
     "metadata": {},
     "output_type": "display_data"
    },
    {
     "data": {
      "text/html": [
       "Find logs at: <code>.\\wandb\\run-20240401_215907-lk8cf0t5\\logs</code>"
      ],
      "text/plain": [
       "<IPython.core.display.HTML object>"
      ]
     },
     "metadata": {},
     "output_type": "display_data"
    },
    {
     "name": "stderr",
     "output_type": "stream",
     "text": [
      "\u001b[34m\u001b[1mwandb\u001b[0m: Agent Starting Run: sgqzkjkb with config:\n",
      "\u001b[34m\u001b[1mwandb\u001b[0m: \thidden_dim: 256\n",
      "\u001b[34m\u001b[1mwandb\u001b[0m: \tlearning_rate: 0.00022767699180984693\n",
      "Failed to detect the name of this notebook, you can set it manually with the WANDB_NOTEBOOK_NAME environment variable to enable code saving.\n"
     ]
    },
    {
     "data": {
      "text/html": [
       "Tracking run with wandb version 0.16.5"
      ],
      "text/plain": [
       "<IPython.core.display.HTML object>"
      ]
     },
     "metadata": {},
     "output_type": "display_data"
    },
    {
     "data": {
      "text/html": [
       "Run data is saved locally in <code>c:\\Users\\Shobhith Vadlamudi\\Desktop\\3rd Year\\SEM 6\\RL\\wandb\\run-20240401_215936-sgqzkjkb</code>"
      ],
      "text/plain": [
       "<IPython.core.display.HTML object>"
      ]
     },
     "metadata": {},
     "output_type": "display_data"
    },
    {
     "data": {
      "text/html": [
       "Syncing run <strong><a href='https://wandb.ai/rl_shobhith/uncategorized/runs/sgqzkjkb/workspace' target=\"_blank\">woven-sweep-51</a></strong> to <a href='https://wandb.ai/rl_shobhith/uncategorized' target=\"_blank\">Weights & Biases</a> (<a href='https://wandb.me/run' target=\"_blank\">docs</a>)<br/>Sweep page: <a href='https://wandb.ai/rl_shobhith/uncategorized/sweeps/ebygp3ca' target=\"_blank\">https://wandb.ai/rl_shobhith/uncategorized/sweeps/ebygp3ca</a>"
      ],
      "text/plain": [
       "<IPython.core.display.HTML object>"
      ]
     },
     "metadata": {},
     "output_type": "display_data"
    },
    {
     "data": {
      "text/html": [
       " View project at <a href='https://wandb.ai/rl_shobhith/uncategorized' target=\"_blank\">https://wandb.ai/rl_shobhith/uncategorized</a>"
      ],
      "text/plain": [
       "<IPython.core.display.HTML object>"
      ]
     },
     "metadata": {},
     "output_type": "display_data"
    },
    {
     "data": {
      "text/html": [
       " View sweep at <a href='https://wandb.ai/rl_shobhith/uncategorized/sweeps/ebygp3ca' target=\"_blank\">https://wandb.ai/rl_shobhith/uncategorized/sweeps/ebygp3ca</a>"
      ],
      "text/plain": [
       "<IPython.core.display.HTML object>"
      ]
     },
     "metadata": {},
     "output_type": "display_data"
    },
    {
     "data": {
      "text/html": [
       " View run at <a href='https://wandb.ai/rl_shobhith/uncategorized/runs/sgqzkjkb/workspace' target=\"_blank\">https://wandb.ai/rl_shobhith/uncategorized/runs/sgqzkjkb/workspace</a>"
      ],
      "text/plain": [
       "<IPython.core.display.HTML object>"
      ]
     },
     "metadata": {},
     "output_type": "display_data"
    },
    {
     "name": "stderr",
     "output_type": "stream",
     "text": [
      "Iteration 0: 100%|██████████| 50/50 [00:01<00:00, 47.75it/s, episode_return=50, return=27.300]\n",
      "Iteration 1: 100%|██████████| 50/50 [00:01<00:00, 43.50it/s, episode_return=100, return=29.800]\n",
      "Iteration 2: 100%|██████████| 50/50 [00:01<00:00, 34.11it/s, episode_return=150, return=40.000]\n",
      "Iteration 3: 100%|██████████| 50/50 [00:01<00:00, 33.43it/s, episode_return=200, return=48.200]\n",
      "Iteration 4: 100%|██████████| 50/50 [00:01<00:00, 29.57it/s, episode_return=250, return=39.800]\n",
      "Iteration 5: 100%|██████████| 50/50 [00:01<00:00, 29.51it/s, episode_return=300, return=48.500]\n",
      "Iteration 6: 100%|██████████| 50/50 [00:02<00:00, 24.01it/s, episode_return=350, return=60.800]\n",
      "Iteration 7: 100%|██████████| 50/50 [00:02<00:00, 21.04it/s, episode_return=400, return=58.600]\n",
      "Iteration 8: 100%|██████████| 50/50 [00:02<00:00, 21.95it/s, episode_return=450, return=53.300]\n",
      "Iteration 9: 100%|██████████| 50/50 [00:02<00:00, 19.45it/s, episode_return=500, return=52.500]\n"
     ]
    },
    {
     "data": {
      "application/vnd.jupyter.widget-view+json": {
       "model_id": "2dbe9a8485d7454d8ff128c54200da18",
       "version_major": 2,
       "version_minor": 0
      },
      "text/plain": [
       "VBox(children=(Label(value='0.001 MB of 0.001 MB uploaded\\r'), FloatProgress(value=1.0, max=1.0)))"
      ]
     },
     "metadata": {},
     "output_type": "display_data"
    },
    {
     "data": {
      "text/html": [
       "<style>\n",
       "    table.wandb td:nth-child(1) { padding: 0 10px; text-align: left ; width: auto;} td:nth-child(2) {text-align: left ; width: 100%}\n",
       "    .wandb-row { display: flex; flex-direction: row; flex-wrap: wrap; justify-content: flex-start; width: 100% }\n",
       "    .wandb-col { display: flex; flex-direction: column; flex-basis: 100%; flex: 1; padding: 10px; }\n",
       "    </style>\n",
       "<div class=\"wandb-row\"><div class=\"wandb-col\"><h3>Run history:</h3><br/><table class=\"wandb\"><tr><td>regret</td><td>▁</td></tr></table><br/></div><div class=\"wandb-col\"><h3>Run summary:</h3><br/><table class=\"wandb\"><tr><td>regret</td><td>76796.49671</td></tr></table><br/></div></div>"
      ],
      "text/plain": [
       "<IPython.core.display.HTML object>"
      ]
     },
     "metadata": {},
     "output_type": "display_data"
    },
    {
     "data": {
      "text/html": [
       " View run <strong style=\"color:#cdcd00\">woven-sweep-51</strong> at: <a href='https://wandb.ai/rl_shobhith/uncategorized/runs/sgqzkjkb/workspace' target=\"_blank\">https://wandb.ai/rl_shobhith/uncategorized/runs/sgqzkjkb/workspace</a><br/>Synced 5 W&B file(s), 0 media file(s), 0 artifact file(s) and 0 other file(s)"
      ],
      "text/plain": [
       "<IPython.core.display.HTML object>"
      ]
     },
     "metadata": {},
     "output_type": "display_data"
    },
    {
     "data": {
      "text/html": [
       "Find logs at: <code>.\\wandb\\run-20240401_215936-sgqzkjkb\\logs</code>"
      ],
      "text/plain": [
       "<IPython.core.display.HTML object>"
      ]
     },
     "metadata": {},
     "output_type": "display_data"
    },
    {
     "name": "stderr",
     "output_type": "stream",
     "text": [
      "\u001b[34m\u001b[1mwandb\u001b[0m: Agent Starting Run: 9rgju97o with config:\n",
      "\u001b[34m\u001b[1mwandb\u001b[0m: \thidden_dim: 128\n",
      "\u001b[34m\u001b[1mwandb\u001b[0m: \tlearning_rate: 0.000399269029028001\n",
      "Failed to detect the name of this notebook, you can set it manually with the WANDB_NOTEBOOK_NAME environment variable to enable code saving.\n"
     ]
    },
    {
     "data": {
      "text/html": [
       "Tracking run with wandb version 0.16.5"
      ],
      "text/plain": [
       "<IPython.core.display.HTML object>"
      ]
     },
     "metadata": {},
     "output_type": "display_data"
    },
    {
     "data": {
      "text/html": [
       "Run data is saved locally in <code>c:\\Users\\Shobhith Vadlamudi\\Desktop\\3rd Year\\SEM 6\\RL\\wandb\\run-20240401_220008-9rgju97o</code>"
      ],
      "text/plain": [
       "<IPython.core.display.HTML object>"
      ]
     },
     "metadata": {},
     "output_type": "display_data"
    },
    {
     "data": {
      "text/html": [
       "Syncing run <strong><a href='https://wandb.ai/rl_shobhith/uncategorized/runs/9rgju97o/workspace' target=\"_blank\">vivid-sweep-52</a></strong> to <a href='https://wandb.ai/rl_shobhith/uncategorized' target=\"_blank\">Weights & Biases</a> (<a href='https://wandb.me/run' target=\"_blank\">docs</a>)<br/>Sweep page: <a href='https://wandb.ai/rl_shobhith/uncategorized/sweeps/ebygp3ca' target=\"_blank\">https://wandb.ai/rl_shobhith/uncategorized/sweeps/ebygp3ca</a>"
      ],
      "text/plain": [
       "<IPython.core.display.HTML object>"
      ]
     },
     "metadata": {},
     "output_type": "display_data"
    },
    {
     "data": {
      "text/html": [
       " View project at <a href='https://wandb.ai/rl_shobhith/uncategorized' target=\"_blank\">https://wandb.ai/rl_shobhith/uncategorized</a>"
      ],
      "text/plain": [
       "<IPython.core.display.HTML object>"
      ]
     },
     "metadata": {},
     "output_type": "display_data"
    },
    {
     "data": {
      "text/html": [
       " View sweep at <a href='https://wandb.ai/rl_shobhith/uncategorized/sweeps/ebygp3ca' target=\"_blank\">https://wandb.ai/rl_shobhith/uncategorized/sweeps/ebygp3ca</a>"
      ],
      "text/plain": [
       "<IPython.core.display.HTML object>"
      ]
     },
     "metadata": {},
     "output_type": "display_data"
    },
    {
     "data": {
      "text/html": [
       " View run at <a href='https://wandb.ai/rl_shobhith/uncategorized/runs/9rgju97o/workspace' target=\"_blank\">https://wandb.ai/rl_shobhith/uncategorized/runs/9rgju97o/workspace</a>"
      ],
      "text/plain": [
       "<IPython.core.display.HTML object>"
      ]
     },
     "metadata": {},
     "output_type": "display_data"
    },
    {
     "name": "stderr",
     "output_type": "stream",
     "text": [
      "Iteration 0: 100%|██████████| 50/50 [00:00<00:00, 52.68it/s, episode_return=50, return=34.800]\n",
      "Iteration 1: 100%|██████████| 50/50 [00:01<00:00, 41.40it/s, episode_return=100, return=36.600]\n",
      "Iteration 2: 100%|██████████| 50/50 [00:01<00:00, 36.18it/s, episode_return=150, return=31.600]\n",
      "Iteration 3: 100%|██████████| 50/50 [00:01<00:00, 35.30it/s, episode_return=200, return=34.800]\n",
      "Iteration 4: 100%|██████████| 50/50 [00:01<00:00, 31.28it/s, episode_return=250, return=54.000]\n",
      "Iteration 5: 100%|██████████| 50/50 [00:01<00:00, 27.99it/s, episode_return=300, return=58.400]\n",
      "Iteration 6: 100%|██████████| 50/50 [00:02<00:00, 23.04it/s, episode_return=350, return=49.900]\n",
      "Iteration 7: 100%|██████████| 50/50 [00:02<00:00, 18.99it/s, episode_return=400, return=86.800]\n",
      "Iteration 8: 100%|██████████| 50/50 [00:03<00:00, 15.58it/s, episode_return=450, return=109.800]\n",
      "Iteration 9: 100%|██████████| 50/50 [00:03<00:00, 12.88it/s, episode_return=500, return=92.800] \n"
     ]
    },
    {
     "data": {
      "application/vnd.jupyter.widget-view+json": {
       "model_id": "6fa68fa8b8814b8c85836f0d677a6fff",
       "version_major": 2,
       "version_minor": 0
      },
      "text/plain": [
       "VBox(children=(Label(value='0.001 MB of 0.001 MB uploaded\\r'), FloatProgress(value=1.0, max=1.0)))"
      ]
     },
     "metadata": {},
     "output_type": "display_data"
    },
    {
     "data": {
      "text/html": [
       "<style>\n",
       "    table.wandb td:nth-child(1) { padding: 0 10px; text-align: left ; width: auto;} td:nth-child(2) {text-align: left ; width: 100%}\n",
       "    .wandb-row { display: flex; flex-direction: row; flex-wrap: wrap; justify-content: flex-start; width: 100% }\n",
       "    .wandb-col { display: flex; flex-direction: column; flex-basis: 100%; flex: 1; padding: 10px; }\n",
       "    </style>\n",
       "<div class=\"wandb-row\"><div class=\"wandb-col\"><h3>Run history:</h3><br/><table class=\"wandb\"><tr><td>regret</td><td>▁</td></tr></table><br/></div><div class=\"wandb-col\"><h3>Run summary:</h3><br/><table class=\"wandb\"><tr><td>regret</td><td>74666.3367</td></tr></table><br/></div></div>"
      ],
      "text/plain": [
       "<IPython.core.display.HTML object>"
      ]
     },
     "metadata": {},
     "output_type": "display_data"
    },
    {
     "data": {
      "text/html": [
       " View run <strong style=\"color:#cdcd00\">vivid-sweep-52</strong> at: <a href='https://wandb.ai/rl_shobhith/uncategorized/runs/9rgju97o/workspace' target=\"_blank\">https://wandb.ai/rl_shobhith/uncategorized/runs/9rgju97o/workspace</a><br/>Synced 5 W&B file(s), 0 media file(s), 0 artifact file(s) and 0 other file(s)"
      ],
      "text/plain": [
       "<IPython.core.display.HTML object>"
      ]
     },
     "metadata": {},
     "output_type": "display_data"
    },
    {
     "data": {
      "text/html": [
       "Find logs at: <code>.\\wandb\\run-20240401_220008-9rgju97o\\logs</code>"
      ],
      "text/plain": [
       "<IPython.core.display.HTML object>"
      ]
     },
     "metadata": {},
     "output_type": "display_data"
    },
    {
     "name": "stderr",
     "output_type": "stream",
     "text": [
      "\u001b[34m\u001b[1mwandb\u001b[0m: Sweep Agent: Waiting for job.\n",
      "\u001b[34m\u001b[1mwandb\u001b[0m: Job received.\n",
      "\u001b[34m\u001b[1mwandb\u001b[0m: Agent Starting Run: hhy53q8p with config:\n",
      "\u001b[34m\u001b[1mwandb\u001b[0m: \thidden_dim: 64\n",
      "\u001b[34m\u001b[1mwandb\u001b[0m: \tlearning_rate: 0.00020968880257820024\n",
      "Failed to detect the name of this notebook, you can set it manually with the WANDB_NOTEBOOK_NAME environment variable to enable code saving.\n"
     ]
    },
    {
     "data": {
      "text/html": [
       "Tracking run with wandb version 0.16.5"
      ],
      "text/plain": [
       "<IPython.core.display.HTML object>"
      ]
     },
     "metadata": {},
     "output_type": "display_data"
    },
    {
     "data": {
      "text/html": [
       "Run data is saved locally in <code>c:\\Users\\Shobhith Vadlamudi\\Desktop\\3rd Year\\SEM 6\\RL\\wandb\\run-20240401_220050-hhy53q8p</code>"
      ],
      "text/plain": [
       "<IPython.core.display.HTML object>"
      ]
     },
     "metadata": {},
     "output_type": "display_data"
    },
    {
     "data": {
      "text/html": [
       "Syncing run <strong><a href='https://wandb.ai/rl_shobhith/uncategorized/runs/hhy53q8p/workspace' target=\"_blank\">sweepy-sweep-53</a></strong> to <a href='https://wandb.ai/rl_shobhith/uncategorized' target=\"_blank\">Weights & Biases</a> (<a href='https://wandb.me/run' target=\"_blank\">docs</a>)<br/>Sweep page: <a href='https://wandb.ai/rl_shobhith/uncategorized/sweeps/ebygp3ca' target=\"_blank\">https://wandb.ai/rl_shobhith/uncategorized/sweeps/ebygp3ca</a>"
      ],
      "text/plain": [
       "<IPython.core.display.HTML object>"
      ]
     },
     "metadata": {},
     "output_type": "display_data"
    },
    {
     "data": {
      "text/html": [
       " View project at <a href='https://wandb.ai/rl_shobhith/uncategorized' target=\"_blank\">https://wandb.ai/rl_shobhith/uncategorized</a>"
      ],
      "text/plain": [
       "<IPython.core.display.HTML object>"
      ]
     },
     "metadata": {},
     "output_type": "display_data"
    },
    {
     "data": {
      "text/html": [
       " View sweep at <a href='https://wandb.ai/rl_shobhith/uncategorized/sweeps/ebygp3ca' target=\"_blank\">https://wandb.ai/rl_shobhith/uncategorized/sweeps/ebygp3ca</a>"
      ],
      "text/plain": [
       "<IPython.core.display.HTML object>"
      ]
     },
     "metadata": {},
     "output_type": "display_data"
    },
    {
     "data": {
      "text/html": [
       " View run at <a href='https://wandb.ai/rl_shobhith/uncategorized/runs/hhy53q8p/workspace' target=\"_blank\">https://wandb.ai/rl_shobhith/uncategorized/runs/hhy53q8p/workspace</a>"
      ],
      "text/plain": [
       "<IPython.core.display.HTML object>"
      ]
     },
     "metadata": {},
     "output_type": "display_data"
    },
    {
     "name": "stderr",
     "output_type": "stream",
     "text": [
      "Iteration 0: 100%|██████████| 50/50 [00:00<00:00, 52.26it/s, episode_return=50, return=20.400]\n",
      "Iteration 1: 100%|██████████| 50/50 [00:01<00:00, 47.58it/s, episode_return=100, return=21.500]\n",
      "Iteration 2: 100%|██████████| 50/50 [00:01<00:00, 44.95it/s, episode_return=150, return=31.500]\n",
      "Iteration 3: 100%|██████████| 50/50 [00:00<00:00, 60.09it/s, episode_return=200, return=22.800]\n",
      "Iteration 4: 100%|██████████| 50/50 [00:01<00:00, 44.02it/s, episode_return=250, return=21.800]\n",
      "Iteration 5: 100%|██████████| 50/50 [00:01<00:00, 36.54it/s, episode_return=300, return=26.300]\n",
      "Iteration 6: 100%|██████████| 50/50 [00:01<00:00, 29.38it/s, episode_return=350, return=30.700]\n",
      "Iteration 7: 100%|██████████| 50/50 [00:01<00:00, 31.68it/s, episode_return=400, return=29.600]\n",
      "Iteration 8: 100%|██████████| 50/50 [00:01<00:00, 31.48it/s, episode_return=450, return=40.900]\n",
      "Iteration 9: 100%|██████████| 50/50 [00:01<00:00, 35.61it/s, episode_return=500, return=30.500]\n"
     ]
    },
    {
     "data": {
      "application/vnd.jupyter.widget-view+json": {
       "model_id": "8dfbef27de4d4323b881b667e8006d96",
       "version_major": 2,
       "version_minor": 0
      },
      "text/plain": [
       "VBox(children=(Label(value='0.001 MB of 0.001 MB uploaded\\r'), FloatProgress(value=1.0, max=1.0)))"
      ]
     },
     "metadata": {},
     "output_type": "display_data"
    },
    {
     "data": {
      "text/html": [
       "<style>\n",
       "    table.wandb td:nth-child(1) { padding: 0 10px; text-align: left ; width: auto;} td:nth-child(2) {text-align: left ; width: 100%}\n",
       "    .wandb-row { display: flex; flex-direction: row; flex-wrap: wrap; justify-content: flex-start; width: 100% }\n",
       "    .wandb-col { display: flex; flex-direction: column; flex-basis: 100%; flex: 1; padding: 10px; }\n",
       "    </style>\n",
       "<div class=\"wandb-row\"><div class=\"wandb-col\"><h3>Run history:</h3><br/><table class=\"wandb\"><tr><td>regret</td><td>▁</td></tr></table><br/></div><div class=\"wandb-col\"><h3>Run summary:</h3><br/><table class=\"wandb\"><tr><td>regret</td><td>84616.19343</td></tr></table><br/></div></div>"
      ],
      "text/plain": [
       "<IPython.core.display.HTML object>"
      ]
     },
     "metadata": {},
     "output_type": "display_data"
    },
    {
     "data": {
      "text/html": [
       " View run <strong style=\"color:#cdcd00\">sweepy-sweep-53</strong> at: <a href='https://wandb.ai/rl_shobhith/uncategorized/runs/hhy53q8p/workspace' target=\"_blank\">https://wandb.ai/rl_shobhith/uncategorized/runs/hhy53q8p/workspace</a><br/>Synced 5 W&B file(s), 0 media file(s), 0 artifact file(s) and 0 other file(s)"
      ],
      "text/plain": [
       "<IPython.core.display.HTML object>"
      ]
     },
     "metadata": {},
     "output_type": "display_data"
    },
    {
     "data": {
      "text/html": [
       "Find logs at: <code>.\\wandb\\run-20240401_220050-hhy53q8p\\logs</code>"
      ],
      "text/plain": [
       "<IPython.core.display.HTML object>"
      ]
     },
     "metadata": {},
     "output_type": "display_data"
    },
    {
     "name": "stderr",
     "output_type": "stream",
     "text": [
      "\u001b[34m\u001b[1mwandb\u001b[0m: Agent Starting Run: fjsipqfe with config:\n",
      "\u001b[34m\u001b[1mwandb\u001b[0m: \thidden_dim: 256\n",
      "\u001b[34m\u001b[1mwandb\u001b[0m: \tlearning_rate: 0.0006424632834525206\n",
      "Failed to detect the name of this notebook, you can set it manually with the WANDB_NOTEBOOK_NAME environment variable to enable code saving.\n"
     ]
    },
    {
     "data": {
      "text/html": [
       "Tracking run with wandb version 0.16.5"
      ],
      "text/plain": [
       "<IPython.core.display.HTML object>"
      ]
     },
     "metadata": {},
     "output_type": "display_data"
    },
    {
     "data": {
      "text/html": [
       "Run data is saved locally in <code>c:\\Users\\Shobhith Vadlamudi\\Desktop\\3rd Year\\SEM 6\\RL\\wandb\\run-20240401_220117-fjsipqfe</code>"
      ],
      "text/plain": [
       "<IPython.core.display.HTML object>"
      ]
     },
     "metadata": {},
     "output_type": "display_data"
    },
    {
     "data": {
      "text/html": [
       "Syncing run <strong><a href='https://wandb.ai/rl_shobhith/uncategorized/runs/fjsipqfe/workspace' target=\"_blank\">usual-sweep-54</a></strong> to <a href='https://wandb.ai/rl_shobhith/uncategorized' target=\"_blank\">Weights & Biases</a> (<a href='https://wandb.me/run' target=\"_blank\">docs</a>)<br/>Sweep page: <a href='https://wandb.ai/rl_shobhith/uncategorized/sweeps/ebygp3ca' target=\"_blank\">https://wandb.ai/rl_shobhith/uncategorized/sweeps/ebygp3ca</a>"
      ],
      "text/plain": [
       "<IPython.core.display.HTML object>"
      ]
     },
     "metadata": {},
     "output_type": "display_data"
    },
    {
     "data": {
      "text/html": [
       " View project at <a href='https://wandb.ai/rl_shobhith/uncategorized' target=\"_blank\">https://wandb.ai/rl_shobhith/uncategorized</a>"
      ],
      "text/plain": [
       "<IPython.core.display.HTML object>"
      ]
     },
     "metadata": {},
     "output_type": "display_data"
    },
    {
     "data": {
      "text/html": [
       " View sweep at <a href='https://wandb.ai/rl_shobhith/uncategorized/sweeps/ebygp3ca' target=\"_blank\">https://wandb.ai/rl_shobhith/uncategorized/sweeps/ebygp3ca</a>"
      ],
      "text/plain": [
       "<IPython.core.display.HTML object>"
      ]
     },
     "metadata": {},
     "output_type": "display_data"
    },
    {
     "data": {
      "text/html": [
       " View run at <a href='https://wandb.ai/rl_shobhith/uncategorized/runs/fjsipqfe/workspace' target=\"_blank\">https://wandb.ai/rl_shobhith/uncategorized/runs/fjsipqfe/workspace</a>"
      ],
      "text/plain": [
       "<IPython.core.display.HTML object>"
      ]
     },
     "metadata": {},
     "output_type": "display_data"
    },
    {
     "name": "stderr",
     "output_type": "stream",
     "text": [
      "Iteration 0: 100%|██████████| 50/50 [00:00<00:00, 66.12it/s, episode_return=50, return=17.000]\n",
      "Iteration 1: 100%|██████████| 50/50 [00:01<00:00, 49.37it/s, episode_return=100, return=24.700]\n",
      "Iteration 2: 100%|██████████| 50/50 [00:01<00:00, 29.79it/s, episode_return=150, return=44.100]\n",
      "Iteration 3: 100%|██████████| 50/50 [00:02<00:00, 24.27it/s, episode_return=200, return=57.900]\n",
      "Iteration 4: 100%|██████████| 50/50 [00:02<00:00, 17.57it/s, episode_return=250, return=101.400]\n",
      "Iteration 5: 100%|██████████| 50/50 [00:05<00:00,  8.94it/s, episode_return=300, return=139.200]\n",
      "Iteration 6: 100%|██████████| 50/50 [00:06<00:00,  7.35it/s, episode_return=350, return=146.200]\n",
      "Iteration 7: 100%|██████████| 50/50 [00:08<00:00,  5.81it/s, episode_return=400, return=245.500]\n",
      "Iteration 8: 100%|██████████| 50/50 [00:09<00:00,  5.25it/s, episode_return=450, return=241.700]\n",
      "Iteration 9: 100%|██████████| 50/50 [00:12<00:00,  3.94it/s, episode_return=500, return=363.700]\n"
     ]
    },
    {
     "data": {
      "application/vnd.jupyter.widget-view+json": {
       "model_id": "d0b19cf816e44a15a4bf7523d2759e3f",
       "version_major": 2,
       "version_minor": 0
      },
      "text/plain": [
       "VBox(children=(Label(value='0.001 MB of 0.001 MB uploaded\\r'), FloatProgress(value=1.0, max=1.0)))"
      ]
     },
     "metadata": {},
     "output_type": "display_data"
    },
    {
     "data": {
      "text/html": [
       "<style>\n",
       "    table.wandb td:nth-child(1) { padding: 0 10px; text-align: left ; width: auto;} td:nth-child(2) {text-align: left ; width: 100%}\n",
       "    .wandb-row { display: flex; flex-direction: row; flex-wrap: wrap; justify-content: flex-start; width: 100% }\n",
       "    .wandb-col { display: flex; flex-direction: column; flex-basis: 100%; flex: 1; padding: 10px; }\n",
       "    </style>\n",
       "<div class=\"wandb-row\"><div class=\"wandb-col\"><h3>Run history:</h3><br/><table class=\"wandb\"><tr><td>regret</td><td>▁</td></tr></table><br/></div><div class=\"wandb-col\"><h3>Run summary:</h3><br/><table class=\"wandb\"><tr><td>regret</td><td>50900.41505</td></tr></table><br/></div></div>"
      ],
      "text/plain": [
       "<IPython.core.display.HTML object>"
      ]
     },
     "metadata": {},
     "output_type": "display_data"
    },
    {
     "data": {
      "text/html": [
       " View run <strong style=\"color:#cdcd00\">usual-sweep-54</strong> at: <a href='https://wandb.ai/rl_shobhith/uncategorized/runs/fjsipqfe/workspace' target=\"_blank\">https://wandb.ai/rl_shobhith/uncategorized/runs/fjsipqfe/workspace</a><br/>Synced 5 W&B file(s), 0 media file(s), 0 artifact file(s) and 0 other file(s)"
      ],
      "text/plain": [
       "<IPython.core.display.HTML object>"
      ]
     },
     "metadata": {},
     "output_type": "display_data"
    },
    {
     "data": {
      "text/html": [
       "Find logs at: <code>.\\wandb\\run-20240401_220117-fjsipqfe\\logs</code>"
      ],
      "text/plain": [
       "<IPython.core.display.HTML object>"
      ]
     },
     "metadata": {},
     "output_type": "display_data"
    },
    {
     "name": "stderr",
     "output_type": "stream",
     "text": [
      "\u001b[34m\u001b[1mwandb\u001b[0m: Agent Starting Run: s43thgri with config:\n",
      "\u001b[34m\u001b[1mwandb\u001b[0m: \thidden_dim: 64\n",
      "\u001b[34m\u001b[1mwandb\u001b[0m: \tlearning_rate: 7.920520385736629e-05\n",
      "Failed to detect the name of this notebook, you can set it manually with the WANDB_NOTEBOOK_NAME environment variable to enable code saving.\n"
     ]
    },
    {
     "data": {
      "text/html": [
       "Tracking run with wandb version 0.16.5"
      ],
      "text/plain": [
       "<IPython.core.display.HTML object>"
      ]
     },
     "metadata": {},
     "output_type": "display_data"
    },
    {
     "data": {
      "text/html": [
       "Run data is saved locally in <code>c:\\Users\\Shobhith Vadlamudi\\Desktop\\3rd Year\\SEM 6\\RL\\wandb\\run-20240401_220222-s43thgri</code>"
      ],
      "text/plain": [
       "<IPython.core.display.HTML object>"
      ]
     },
     "metadata": {},
     "output_type": "display_data"
    },
    {
     "data": {
      "text/html": [
       "Syncing run <strong><a href='https://wandb.ai/rl_shobhith/uncategorized/runs/s43thgri/workspace' target=\"_blank\">decent-sweep-55</a></strong> to <a href='https://wandb.ai/rl_shobhith/uncategorized' target=\"_blank\">Weights & Biases</a> (<a href='https://wandb.me/run' target=\"_blank\">docs</a>)<br/>Sweep page: <a href='https://wandb.ai/rl_shobhith/uncategorized/sweeps/ebygp3ca' target=\"_blank\">https://wandb.ai/rl_shobhith/uncategorized/sweeps/ebygp3ca</a>"
      ],
      "text/plain": [
       "<IPython.core.display.HTML object>"
      ]
     },
     "metadata": {},
     "output_type": "display_data"
    },
    {
     "data": {
      "text/html": [
       " View project at <a href='https://wandb.ai/rl_shobhith/uncategorized' target=\"_blank\">https://wandb.ai/rl_shobhith/uncategorized</a>"
      ],
      "text/plain": [
       "<IPython.core.display.HTML object>"
      ]
     },
     "metadata": {},
     "output_type": "display_data"
    },
    {
     "data": {
      "text/html": [
       " View sweep at <a href='https://wandb.ai/rl_shobhith/uncategorized/sweeps/ebygp3ca' target=\"_blank\">https://wandb.ai/rl_shobhith/uncategorized/sweeps/ebygp3ca</a>"
      ],
      "text/plain": [
       "<IPython.core.display.HTML object>"
      ]
     },
     "metadata": {},
     "output_type": "display_data"
    },
    {
     "data": {
      "text/html": [
       " View run at <a href='https://wandb.ai/rl_shobhith/uncategorized/runs/s43thgri/workspace' target=\"_blank\">https://wandb.ai/rl_shobhith/uncategorized/runs/s43thgri/workspace</a>"
      ],
      "text/plain": [
       "<IPython.core.display.HTML object>"
      ]
     },
     "metadata": {},
     "output_type": "display_data"
    },
    {
     "name": "stderr",
     "output_type": "stream",
     "text": [
      "Iteration 0: 100%|██████████| 50/50 [00:00<00:00, 60.46it/s, episode_return=50, return=19.300]\n",
      "Iteration 1: 100%|██████████| 50/50 [00:00<00:00, 50.10it/s, episode_return=100, return=26.400]\n",
      "Iteration 2: 100%|██████████| 50/50 [00:00<00:00, 53.87it/s, episode_return=150, return=17.600]\n",
      "Iteration 3: 100%|██████████| 50/50 [00:01<00:00, 42.11it/s, episode_return=200, return=21.500]\n",
      "Iteration 4: 100%|██████████| 50/50 [00:00<00:00, 53.21it/s, episode_return=250, return=19.400]\n",
      "Iteration 5: 100%|██████████| 50/50 [00:00<00:00, 61.42it/s, episode_return=300, return=15.500]\n",
      "Iteration 6: 100%|██████████| 50/50 [00:00<00:00, 53.39it/s, episode_return=350, return=22.600]\n",
      "Iteration 7: 100%|██████████| 50/50 [00:01<00:00, 44.82it/s, episode_return=400, return=20.300]\n",
      "Iteration 8: 100%|██████████| 50/50 [00:01<00:00, 47.07it/s, episode_return=450, return=22.800]\n",
      "Iteration 9: 100%|██████████| 50/50 [00:01<00:00, 44.67it/s, episode_return=500, return=23.200]\n"
     ]
    },
    {
     "data": {
      "application/vnd.jupyter.widget-view+json": {
       "model_id": "35334526c1d8410f89ae68015dbfb1a0",
       "version_major": 2,
       "version_minor": 0
      },
      "text/plain": [
       "VBox(children=(Label(value='0.001 MB of 0.001 MB uploaded\\r'), FloatProgress(value=1.0, max=1.0)))"
      ]
     },
     "metadata": {},
     "output_type": "display_data"
    },
    {
     "data": {
      "text/html": [
       "<style>\n",
       "    table.wandb td:nth-child(1) { padding: 0 10px; text-align: left ; width: auto;} td:nth-child(2) {text-align: left ; width: 100%}\n",
       "    .wandb-row { display: flex; flex-direction: row; flex-wrap: wrap; justify-content: flex-start; width: 100% }\n",
       "    .wandb-col { display: flex; flex-direction: column; flex-basis: 100%; flex: 1; padding: 10px; }\n",
       "    </style>\n",
       "<div class=\"wandb-row\"><div class=\"wandb-col\"><h3>Run history:</h3><br/><table class=\"wandb\"><tr><td>regret</td><td>▁</td></tr></table><br/></div><div class=\"wandb-col\"><h3>Run summary:</h3><br/><table class=\"wandb\"><tr><td>regret</td><td>87192.74501</td></tr></table><br/></div></div>"
      ],
      "text/plain": [
       "<IPython.core.display.HTML object>"
      ]
     },
     "metadata": {},
     "output_type": "display_data"
    },
    {
     "data": {
      "text/html": [
       " View run <strong style=\"color:#cdcd00\">decent-sweep-55</strong> at: <a href='https://wandb.ai/rl_shobhith/uncategorized/runs/s43thgri/workspace' target=\"_blank\">https://wandb.ai/rl_shobhith/uncategorized/runs/s43thgri/workspace</a><br/>Synced 5 W&B file(s), 0 media file(s), 0 artifact file(s) and 0 other file(s)"
      ],
      "text/plain": [
       "<IPython.core.display.HTML object>"
      ]
     },
     "metadata": {},
     "output_type": "display_data"
    },
    {
     "data": {
      "text/html": [
       "Find logs at: <code>.\\wandb\\run-20240401_220222-s43thgri\\logs</code>"
      ],
      "text/plain": [
       "<IPython.core.display.HTML object>"
      ]
     },
     "metadata": {},
     "output_type": "display_data"
    },
    {
     "name": "stderr",
     "output_type": "stream",
     "text": [
      "\u001b[34m\u001b[1mwandb\u001b[0m: Sweep Agent: Waiting for job.\n",
      "\u001b[34m\u001b[1mwandb\u001b[0m: Job received.\n",
      "\u001b[34m\u001b[1mwandb\u001b[0m: Agent Starting Run: lrf62fff with config:\n",
      "\u001b[34m\u001b[1mwandb\u001b[0m: \thidden_dim: 128\n",
      "\u001b[34m\u001b[1mwandb\u001b[0m: \tlearning_rate: 1.092852075356035e-05\n",
      "Failed to detect the name of this notebook, you can set it manually with the WANDB_NOTEBOOK_NAME environment variable to enable code saving.\n"
     ]
    },
    {
     "data": {
      "text/html": [
       "Tracking run with wandb version 0.16.5"
      ],
      "text/plain": [
       "<IPython.core.display.HTML object>"
      ]
     },
     "metadata": {},
     "output_type": "display_data"
    },
    {
     "data": {
      "text/html": [
       "Run data is saved locally in <code>c:\\Users\\Shobhith Vadlamudi\\Desktop\\3rd Year\\SEM 6\\RL\\wandb\\run-20240401_220253-lrf62fff</code>"
      ],
      "text/plain": [
       "<IPython.core.display.HTML object>"
      ]
     },
     "metadata": {},
     "output_type": "display_data"
    },
    {
     "data": {
      "text/html": [
       "Syncing run <strong><a href='https://wandb.ai/rl_shobhith/uncategorized/runs/lrf62fff/workspace' target=\"_blank\">young-sweep-56</a></strong> to <a href='https://wandb.ai/rl_shobhith/uncategorized' target=\"_blank\">Weights & Biases</a> (<a href='https://wandb.me/run' target=\"_blank\">docs</a>)<br/>Sweep page: <a href='https://wandb.ai/rl_shobhith/uncategorized/sweeps/ebygp3ca' target=\"_blank\">https://wandb.ai/rl_shobhith/uncategorized/sweeps/ebygp3ca</a>"
      ],
      "text/plain": [
       "<IPython.core.display.HTML object>"
      ]
     },
     "metadata": {},
     "output_type": "display_data"
    },
    {
     "data": {
      "text/html": [
       " View project at <a href='https://wandb.ai/rl_shobhith/uncategorized' target=\"_blank\">https://wandb.ai/rl_shobhith/uncategorized</a>"
      ],
      "text/plain": [
       "<IPython.core.display.HTML object>"
      ]
     },
     "metadata": {},
     "output_type": "display_data"
    },
    {
     "data": {
      "text/html": [
       " View sweep at <a href='https://wandb.ai/rl_shobhith/uncategorized/sweeps/ebygp3ca' target=\"_blank\">https://wandb.ai/rl_shobhith/uncategorized/sweeps/ebygp3ca</a>"
      ],
      "text/plain": [
       "<IPython.core.display.HTML object>"
      ]
     },
     "metadata": {},
     "output_type": "display_data"
    },
    {
     "data": {
      "text/html": [
       " View run at <a href='https://wandb.ai/rl_shobhith/uncategorized/runs/lrf62fff/workspace' target=\"_blank\">https://wandb.ai/rl_shobhith/uncategorized/runs/lrf62fff/workspace</a>"
      ],
      "text/plain": [
       "<IPython.core.display.HTML object>"
      ]
     },
     "metadata": {},
     "output_type": "display_data"
    },
    {
     "name": "stderr",
     "output_type": "stream",
     "text": [
      "Iteration 0: 100%|██████████| 50/50 [00:00<00:00, 71.37it/s, episode_return=50, return=18.100]\n",
      "Iteration 1: 100%|██████████| 50/50 [00:00<00:00, 64.93it/s, episode_return=100, return=20.300]\n",
      "Iteration 2: 100%|██████████| 50/50 [00:00<00:00, 65.94it/s, episode_return=150, return=19.100]\n",
      "Iteration 3: 100%|██████████| 50/50 [00:00<00:00, 75.16it/s, episode_return=200, return=15.700]\n",
      "Iteration 4: 100%|██████████| 50/50 [00:00<00:00, 71.99it/s, episode_return=250, return=18.500]\n",
      "Iteration 5: 100%|██████████| 50/50 [00:00<00:00, 66.64it/s, episode_return=300, return=17.300]\n",
      "Iteration 6: 100%|██████████| 50/50 [00:00<00:00, 57.70it/s, episode_return=350, return=21.500]\n",
      "Iteration 7: 100%|██████████| 50/50 [00:00<00:00, 70.59it/s, episode_return=400, return=17.600]\n",
      "Iteration 8: 100%|██████████| 50/50 [00:00<00:00, 65.80it/s, episode_return=450, return=22.600]\n",
      "Iteration 9: 100%|██████████| 50/50 [00:00<00:00, 56.27it/s, episode_return=500, return=17.600]\n"
     ]
    },
    {
     "data": {
      "application/vnd.jupyter.widget-view+json": {
       "model_id": "d48114969b6f4d699ba6f9f954ae139a",
       "version_major": 2,
       "version_minor": 0
      },
      "text/plain": [
       "VBox(children=(Label(value='0.001 MB of 0.007 MB uploaded\\r'), FloatProgress(value=0.16787829833064083, max=1.…"
      ]
     },
     "metadata": {},
     "output_type": "display_data"
    },
    {
     "data": {
      "text/html": [
       "<style>\n",
       "    table.wandb td:nth-child(1) { padding: 0 10px; text-align: left ; width: auto;} td:nth-child(2) {text-align: left ; width: 100%}\n",
       "    .wandb-row { display: flex; flex-direction: row; flex-wrap: wrap; justify-content: flex-start; width: 100% }\n",
       "    .wandb-col { display: flex; flex-direction: column; flex-basis: 100%; flex: 1; padding: 10px; }\n",
       "    </style>\n",
       "<div class=\"wandb-row\"><div class=\"wandb-col\"><h3>Run history:</h3><br/><table class=\"wandb\"><tr><td>regret</td><td>▁</td></tr></table><br/></div><div class=\"wandb-col\"><h3>Run summary:</h3><br/><table class=\"wandb\"><tr><td>regret</td><td>88118.40459</td></tr></table><br/></div></div>"
      ],
      "text/plain": [
       "<IPython.core.display.HTML object>"
      ]
     },
     "metadata": {},
     "output_type": "display_data"
    },
    {
     "data": {
      "text/html": [
       " View run <strong style=\"color:#cdcd00\">young-sweep-56</strong> at: <a href='https://wandb.ai/rl_shobhith/uncategorized/runs/lrf62fff/workspace' target=\"_blank\">https://wandb.ai/rl_shobhith/uncategorized/runs/lrf62fff/workspace</a><br/>Synced 5 W&B file(s), 0 media file(s), 0 artifact file(s) and 0 other file(s)"
      ],
      "text/plain": [
       "<IPython.core.display.HTML object>"
      ]
     },
     "metadata": {},
     "output_type": "display_data"
    },
    {
     "data": {
      "text/html": [
       "Find logs at: <code>.\\wandb\\run-20240401_220253-lrf62fff\\logs</code>"
      ],
      "text/plain": [
       "<IPython.core.display.HTML object>"
      ]
     },
     "metadata": {},
     "output_type": "display_data"
    },
    {
     "name": "stderr",
     "output_type": "stream",
     "text": [
      "\u001b[34m\u001b[1mwandb\u001b[0m: Sweep Agent: Waiting for job.\n",
      "\u001b[34m\u001b[1mwandb\u001b[0m: Job received.\n",
      "\u001b[34m\u001b[1mwandb\u001b[0m: Agent Starting Run: vv2opzkm with config:\n",
      "\u001b[34m\u001b[1mwandb\u001b[0m: \thidden_dim: 64\n",
      "\u001b[34m\u001b[1mwandb\u001b[0m: \tlearning_rate: 0.0005207594563288727\n",
      "Failed to detect the name of this notebook, you can set it manually with the WANDB_NOTEBOOK_NAME environment variable to enable code saving.\n"
     ]
    },
    {
     "data": {
      "text/html": [
       "Tracking run with wandb version 0.16.5"
      ],
      "text/plain": [
       "<IPython.core.display.HTML object>"
      ]
     },
     "metadata": {},
     "output_type": "display_data"
    },
    {
     "data": {
      "text/html": [
       "Run data is saved locally in <code>c:\\Users\\Shobhith Vadlamudi\\Desktop\\3rd Year\\SEM 6\\RL\\wandb\\run-20240401_220320-vv2opzkm</code>"
      ],
      "text/plain": [
       "<IPython.core.display.HTML object>"
      ]
     },
     "metadata": {},
     "output_type": "display_data"
    },
    {
     "data": {
      "text/html": [
       "Syncing run <strong><a href='https://wandb.ai/rl_shobhith/uncategorized/runs/vv2opzkm/workspace' target=\"_blank\">hearty-sweep-57</a></strong> to <a href='https://wandb.ai/rl_shobhith/uncategorized' target=\"_blank\">Weights & Biases</a> (<a href='https://wandb.me/run' target=\"_blank\">docs</a>)<br/>Sweep page: <a href='https://wandb.ai/rl_shobhith/uncategorized/sweeps/ebygp3ca' target=\"_blank\">https://wandb.ai/rl_shobhith/uncategorized/sweeps/ebygp3ca</a>"
      ],
      "text/plain": [
       "<IPython.core.display.HTML object>"
      ]
     },
     "metadata": {},
     "output_type": "display_data"
    },
    {
     "data": {
      "text/html": [
       " View project at <a href='https://wandb.ai/rl_shobhith/uncategorized' target=\"_blank\">https://wandb.ai/rl_shobhith/uncategorized</a>"
      ],
      "text/plain": [
       "<IPython.core.display.HTML object>"
      ]
     },
     "metadata": {},
     "output_type": "display_data"
    },
    {
     "data": {
      "text/html": [
       " View sweep at <a href='https://wandb.ai/rl_shobhith/uncategorized/sweeps/ebygp3ca' target=\"_blank\">https://wandb.ai/rl_shobhith/uncategorized/sweeps/ebygp3ca</a>"
      ],
      "text/plain": [
       "<IPython.core.display.HTML object>"
      ]
     },
     "metadata": {},
     "output_type": "display_data"
    },
    {
     "data": {
      "text/html": [
       " View run at <a href='https://wandb.ai/rl_shobhith/uncategorized/runs/vv2opzkm/workspace' target=\"_blank\">https://wandb.ai/rl_shobhith/uncategorized/runs/vv2opzkm/workspace</a>"
      ],
      "text/plain": [
       "<IPython.core.display.HTML object>"
      ]
     },
     "metadata": {},
     "output_type": "display_data"
    },
    {
     "name": "stderr",
     "output_type": "stream",
     "text": [
      "Iteration 0: 100%|██████████| 50/50 [00:01<00:00, 46.27it/s, episode_return=50, return=26.000]\n",
      "Iteration 1: 100%|██████████| 50/50 [00:01<00:00, 40.16it/s, episode_return=100, return=26.000]\n",
      "Iteration 2: 100%|██████████| 50/50 [00:01<00:00, 38.69it/s, episode_return=150, return=28.900]\n",
      "Iteration 3: 100%|██████████| 50/50 [00:01<00:00, 35.47it/s, episode_return=200, return=30.000]\n",
      "Iteration 4: 100%|██████████| 50/50 [00:01<00:00, 28.72it/s, episode_return=250, return=37.200]\n",
      "Iteration 5: 100%|██████████| 50/50 [00:01<00:00, 26.59it/s, episode_return=300, return=50.600]\n",
      "Iteration 6: 100%|██████████| 50/50 [00:02<00:00, 23.03it/s, episode_return=350, return=40.400]\n",
      "Iteration 7: 100%|██████████| 50/50 [00:01<00:00, 29.32it/s, episode_return=400, return=46.100]\n",
      "Iteration 8: 100%|██████████| 50/50 [00:02<00:00, 21.75it/s, episode_return=450, return=49.400]\n",
      "Iteration 9: 100%|██████████| 50/50 [00:02<00:00, 20.57it/s, episode_return=500, return=60.100]\n"
     ]
    },
    {
     "data": {
      "application/vnd.jupyter.widget-view+json": {
       "model_id": "cabf39f4d9c94911bbce1aac1653161d",
       "version_major": 2,
       "version_minor": 0
      },
      "text/plain": [
       "VBox(children=(Label(value='0.001 MB of 0.001 MB uploaded\\r'), FloatProgress(value=1.0, max=1.0)))"
      ]
     },
     "metadata": {},
     "output_type": "display_data"
    },
    {
     "data": {
      "text/html": [
       "<style>\n",
       "    table.wandb td:nth-child(1) { padding: 0 10px; text-align: left ; width: auto;} td:nth-child(2) {text-align: left ; width: 100%}\n",
       "    .wandb-row { display: flex; flex-direction: row; flex-wrap: wrap; justify-content: flex-start; width: 100% }\n",
       "    .wandb-col { display: flex; flex-direction: column; flex-basis: 100%; flex: 1; padding: 10px; }\n",
       "    </style>\n",
       "<div class=\"wandb-row\"><div class=\"wandb-col\"><h3>Run history:</h3><br/><table class=\"wandb\"><tr><td>regret</td><td>▁</td></tr></table><br/></div><div class=\"wandb-col\"><h3>Run summary:</h3><br/><table class=\"wandb\"><tr><td>regret</td><td>79636.99294</td></tr></table><br/></div></div>"
      ],
      "text/plain": [
       "<IPython.core.display.HTML object>"
      ]
     },
     "metadata": {},
     "output_type": "display_data"
    },
    {
     "data": {
      "text/html": [
       " View run <strong style=\"color:#cdcd00\">hearty-sweep-57</strong> at: <a href='https://wandb.ai/rl_shobhith/uncategorized/runs/vv2opzkm/workspace' target=\"_blank\">https://wandb.ai/rl_shobhith/uncategorized/runs/vv2opzkm/workspace</a><br/>Synced 5 W&B file(s), 0 media file(s), 0 artifact file(s) and 0 other file(s)"
      ],
      "text/plain": [
       "<IPython.core.display.HTML object>"
      ]
     },
     "metadata": {},
     "output_type": "display_data"
    },
    {
     "data": {
      "text/html": [
       "Find logs at: <code>.\\wandb\\run-20240401_220320-vv2opzkm\\logs</code>"
      ],
      "text/plain": [
       "<IPython.core.display.HTML object>"
      ]
     },
     "metadata": {},
     "output_type": "display_data"
    },
    {
     "name": "stderr",
     "output_type": "stream",
     "text": [
      "\u001b[34m\u001b[1mwandb\u001b[0m: Sweep Agent: Waiting for job.\n",
      "\u001b[34m\u001b[1mwandb\u001b[0m: Job received.\n",
      "\u001b[34m\u001b[1mwandb\u001b[0m: Agent Starting Run: w7pumf0y with config:\n",
      "\u001b[34m\u001b[1mwandb\u001b[0m: \thidden_dim: 256\n",
      "\u001b[34m\u001b[1mwandb\u001b[0m: \tlearning_rate: 0.0008562245716175199\n",
      "Failed to detect the name of this notebook, you can set it manually with the WANDB_NOTEBOOK_NAME environment variable to enable code saving.\n"
     ]
    },
    {
     "data": {
      "text/html": [
       "Tracking run with wandb version 0.16.5"
      ],
      "text/plain": [
       "<IPython.core.display.HTML object>"
      ]
     },
     "metadata": {},
     "output_type": "display_data"
    },
    {
     "data": {
      "text/html": [
       "Run data is saved locally in <code>c:\\Users\\Shobhith Vadlamudi\\Desktop\\3rd Year\\SEM 6\\RL\\wandb\\run-20240401_220358-w7pumf0y</code>"
      ],
      "text/plain": [
       "<IPython.core.display.HTML object>"
      ]
     },
     "metadata": {},
     "output_type": "display_data"
    },
    {
     "data": {
      "text/html": [
       "Syncing run <strong><a href='https://wandb.ai/rl_shobhith/uncategorized/runs/w7pumf0y/workspace' target=\"_blank\">golden-sweep-58</a></strong> to <a href='https://wandb.ai/rl_shobhith/uncategorized' target=\"_blank\">Weights & Biases</a> (<a href='https://wandb.me/run' target=\"_blank\">docs</a>)<br/>Sweep page: <a href='https://wandb.ai/rl_shobhith/uncategorized/sweeps/ebygp3ca' target=\"_blank\">https://wandb.ai/rl_shobhith/uncategorized/sweeps/ebygp3ca</a>"
      ],
      "text/plain": [
       "<IPython.core.display.HTML object>"
      ]
     },
     "metadata": {},
     "output_type": "display_data"
    },
    {
     "data": {
      "text/html": [
       " View project at <a href='https://wandb.ai/rl_shobhith/uncategorized' target=\"_blank\">https://wandb.ai/rl_shobhith/uncategorized</a>"
      ],
      "text/plain": [
       "<IPython.core.display.HTML object>"
      ]
     },
     "metadata": {},
     "output_type": "display_data"
    },
    {
     "data": {
      "text/html": [
       " View sweep at <a href='https://wandb.ai/rl_shobhith/uncategorized/sweeps/ebygp3ca' target=\"_blank\">https://wandb.ai/rl_shobhith/uncategorized/sweeps/ebygp3ca</a>"
      ],
      "text/plain": [
       "<IPython.core.display.HTML object>"
      ]
     },
     "metadata": {},
     "output_type": "display_data"
    },
    {
     "data": {
      "text/html": [
       " View run at <a href='https://wandb.ai/rl_shobhith/uncategorized/runs/w7pumf0y/workspace' target=\"_blank\">https://wandb.ai/rl_shobhith/uncategorized/runs/w7pumf0y/workspace</a>"
      ],
      "text/plain": [
       "<IPython.core.display.HTML object>"
      ]
     },
     "metadata": {},
     "output_type": "display_data"
    },
    {
     "name": "stderr",
     "output_type": "stream",
     "text": [
      "Iteration 0: 100%|██████████| 50/50 [00:00<00:00, 60.50it/s, episode_return=50, return=20.500]\n",
      "Iteration 1: 100%|██████████| 50/50 [00:01<00:00, 46.15it/s, episode_return=100, return=31.700]\n",
      "Iteration 2: 100%|██████████| 50/50 [00:02<00:00, 23.69it/s, episode_return=150, return=65.300]\n",
      "Iteration 3: 100%|██████████| 50/50 [00:03<00:00, 13.93it/s, episode_return=200, return=101.800]\n",
      "Iteration 4: 100%|██████████| 50/50 [00:07<00:00,  6.59it/s, episode_return=250, return=186.200]\n",
      "Iteration 5: 100%|██████████| 50/50 [00:08<00:00,  5.93it/s, episode_return=300, return=282.300]\n",
      "Iteration 6: 100%|██████████| 50/50 [00:10<00:00,  4.72it/s, episode_return=350, return=301.100]\n",
      "Iteration 7: 100%|██████████| 50/50 [00:09<00:00,  5.03it/s, episode_return=400, return=255.900]\n",
      "Iteration 8: 100%|██████████| 50/50 [00:07<00:00,  6.43it/s, episode_return=450, return=118.000]\n",
      "Iteration 9: 100%|██████████| 50/50 [00:07<00:00,  6.99it/s, episode_return=500, return=222.400]\n"
     ]
    },
    {
     "data": {
      "application/vnd.jupyter.widget-view+json": {
       "model_id": "94ba1f5a3cc24cc0a39b16fe66f24ced",
       "version_major": 2,
       "version_minor": 0
      },
      "text/plain": [
       "VBox(children=(Label(value='0.001 MB of 0.001 MB uploaded\\r'), FloatProgress(value=1.0, max=1.0)))"
      ]
     },
     "metadata": {},
     "output_type": "display_data"
    },
    {
     "data": {
      "text/html": [
       "<style>\n",
       "    table.wandb td:nth-child(1) { padding: 0 10px; text-align: left ; width: auto;} td:nth-child(2) {text-align: left ; width: 100%}\n",
       "    .wandb-row { display: flex; flex-direction: row; flex-wrap: wrap; justify-content: flex-start; width: 100% }\n",
       "    .wandb-col { display: flex; flex-direction: column; flex-basis: 100%; flex: 1; padding: 10px; }\n",
       "    </style>\n",
       "<div class=\"wandb-row\"><div class=\"wandb-col\"><h3>Run history:</h3><br/><table class=\"wandb\"><tr><td>regret</td><td>▁</td></tr></table><br/></div><div class=\"wandb-col\"><h3>Run summary:</h3><br/><table class=\"wandb\"><tr><td>regret</td><td>39093.15271</td></tr></table><br/></div></div>"
      ],
      "text/plain": [
       "<IPython.core.display.HTML object>"
      ]
     },
     "metadata": {},
     "output_type": "display_data"
    },
    {
     "data": {
      "text/html": [
       " View run <strong style=\"color:#cdcd00\">golden-sweep-58</strong> at: <a href='https://wandb.ai/rl_shobhith/uncategorized/runs/w7pumf0y/workspace' target=\"_blank\">https://wandb.ai/rl_shobhith/uncategorized/runs/w7pumf0y/workspace</a><br/>Synced 5 W&B file(s), 0 media file(s), 0 artifact file(s) and 0 other file(s)"
      ],
      "text/plain": [
       "<IPython.core.display.HTML object>"
      ]
     },
     "metadata": {},
     "output_type": "display_data"
    },
    {
     "data": {
      "text/html": [
       "Find logs at: <code>.\\wandb\\run-20240401_220358-w7pumf0y\\logs</code>"
      ],
      "text/plain": [
       "<IPython.core.display.HTML object>"
      ]
     },
     "metadata": {},
     "output_type": "display_data"
    },
    {
     "name": "stderr",
     "output_type": "stream",
     "text": [
      "\u001b[34m\u001b[1mwandb\u001b[0m: Sweep Agent: Waiting for job.\n",
      "\u001b[34m\u001b[1mwandb\u001b[0m: Job received.\n",
      "\u001b[34m\u001b[1mwandb\u001b[0m: Agent Starting Run: ff2ed42n with config:\n",
      "\u001b[34m\u001b[1mwandb\u001b[0m: \thidden_dim: 64\n",
      "\u001b[34m\u001b[1mwandb\u001b[0m: \tlearning_rate: 0.0003498610688006179\n",
      "Failed to detect the name of this notebook, you can set it manually with the WANDB_NOTEBOOK_NAME environment variable to enable code saving.\n"
     ]
    },
    {
     "data": {
      "text/html": [
       "Tracking run with wandb version 0.16.5"
      ],
      "text/plain": [
       "<IPython.core.display.HTML object>"
      ]
     },
     "metadata": {},
     "output_type": "display_data"
    },
    {
     "data": {
      "text/html": [
       "Run data is saved locally in <code>c:\\Users\\Shobhith Vadlamudi\\Desktop\\3rd Year\\SEM 6\\RL\\wandb\\run-20240401_220519-ff2ed42n</code>"
      ],
      "text/plain": [
       "<IPython.core.display.HTML object>"
      ]
     },
     "metadata": {},
     "output_type": "display_data"
    },
    {
     "data": {
      "text/html": [
       "Syncing run <strong><a href='https://wandb.ai/rl_shobhith/uncategorized/runs/ff2ed42n/workspace' target=\"_blank\">trim-sweep-59</a></strong> to <a href='https://wandb.ai/rl_shobhith/uncategorized' target=\"_blank\">Weights & Biases</a> (<a href='https://wandb.me/run' target=\"_blank\">docs</a>)<br/>Sweep page: <a href='https://wandb.ai/rl_shobhith/uncategorized/sweeps/ebygp3ca' target=\"_blank\">https://wandb.ai/rl_shobhith/uncategorized/sweeps/ebygp3ca</a>"
      ],
      "text/plain": [
       "<IPython.core.display.HTML object>"
      ]
     },
     "metadata": {},
     "output_type": "display_data"
    },
    {
     "data": {
      "text/html": [
       " View project at <a href='https://wandb.ai/rl_shobhith/uncategorized' target=\"_blank\">https://wandb.ai/rl_shobhith/uncategorized</a>"
      ],
      "text/plain": [
       "<IPython.core.display.HTML object>"
      ]
     },
     "metadata": {},
     "output_type": "display_data"
    },
    {
     "data": {
      "text/html": [
       " View sweep at <a href='https://wandb.ai/rl_shobhith/uncategorized/sweeps/ebygp3ca' target=\"_blank\">https://wandb.ai/rl_shobhith/uncategorized/sweeps/ebygp3ca</a>"
      ],
      "text/plain": [
       "<IPython.core.display.HTML object>"
      ]
     },
     "metadata": {},
     "output_type": "display_data"
    },
    {
     "data": {
      "text/html": [
       " View run at <a href='https://wandb.ai/rl_shobhith/uncategorized/runs/ff2ed42n/workspace' target=\"_blank\">https://wandb.ai/rl_shobhith/uncategorized/runs/ff2ed42n/workspace</a>"
      ],
      "text/plain": [
       "<IPython.core.display.HTML object>"
      ]
     },
     "metadata": {},
     "output_type": "display_data"
    },
    {
     "name": "stderr",
     "output_type": "stream",
     "text": [
      "Iteration 0: 100%|██████████| 50/50 [00:00<00:00, 59.25it/s, episode_return=50, return=18.800]\n",
      "Iteration 1: 100%|██████████| 50/50 [00:01<00:00, 43.61it/s, episode_return=100, return=22.700]\n",
      "Iteration 2: 100%|██████████| 50/50 [00:01<00:00, 48.64it/s, episode_return=150, return=26.500]\n",
      "Iteration 3: 100%|██████████| 50/50 [00:01<00:00, 40.21it/s, episode_return=200, return=22.900]\n",
      "Iteration 4: 100%|██████████| 50/50 [00:01<00:00, 35.92it/s, episode_return=250, return=33.400]\n",
      "Iteration 5: 100%|██████████| 50/50 [00:01<00:00, 32.12it/s, episode_return=300, return=34.300]\n",
      "Iteration 6: 100%|██████████| 50/50 [00:01<00:00, 26.70it/s, episode_return=350, return=56.600]\n",
      "Iteration 7: 100%|██████████| 50/50 [00:01<00:00, 29.36it/s, episode_return=400, return=37.700]\n",
      "Iteration 8: 100%|██████████| 50/50 [00:01<00:00, 32.51it/s, episode_return=450, return=43.400]\n",
      "Iteration 9: 100%|██████████| 50/50 [00:01<00:00, 26.60it/s, episode_return=500, return=45.900]\n"
     ]
    },
    {
     "data": {
      "application/vnd.jupyter.widget-view+json": {
       "model_id": "85e8eb6c018d4a0ab7304181593bc1dc",
       "version_major": 2,
       "version_minor": 0
      },
      "text/plain": [
       "VBox(children=(Label(value='0.001 MB of 0.001 MB uploaded\\r'), FloatProgress(value=1.0, max=1.0)))"
      ]
     },
     "metadata": {},
     "output_type": "display_data"
    },
    {
     "data": {
      "text/html": [
       "<style>\n",
       "    table.wandb td:nth-child(1) { padding: 0 10px; text-align: left ; width: auto;} td:nth-child(2) {text-align: left ; width: 100%}\n",
       "    .wandb-row { display: flex; flex-direction: row; flex-wrap: wrap; justify-content: flex-start; width: 100% }\n",
       "    .wandb-col { display: flex; flex-direction: column; flex-basis: 100%; flex: 1; padding: 10px; }\n",
       "    </style>\n",
       "<div class=\"wandb-row\"><div class=\"wandb-col\"><h3>Run history:</h3><br/><table class=\"wandb\"><tr><td>regret</td><td>▁</td></tr></table><br/></div><div class=\"wandb-col\"><h3>Run summary:</h3><br/><table class=\"wandb\"><tr><td>regret</td><td>83056.01538</td></tr></table><br/></div></div>"
      ],
      "text/plain": [
       "<IPython.core.display.HTML object>"
      ]
     },
     "metadata": {},
     "output_type": "display_data"
    },
    {
     "data": {
      "text/html": [
       " View run <strong style=\"color:#cdcd00\">trim-sweep-59</strong> at: <a href='https://wandb.ai/rl_shobhith/uncategorized/runs/ff2ed42n/workspace' target=\"_blank\">https://wandb.ai/rl_shobhith/uncategorized/runs/ff2ed42n/workspace</a><br/>Synced 5 W&B file(s), 0 media file(s), 0 artifact file(s) and 0 other file(s)"
      ],
      "text/plain": [
       "<IPython.core.display.HTML object>"
      ]
     },
     "metadata": {},
     "output_type": "display_data"
    },
    {
     "data": {
      "text/html": [
       "Find logs at: <code>.\\wandb\\run-20240401_220519-ff2ed42n\\logs</code>"
      ],
      "text/plain": [
       "<IPython.core.display.HTML object>"
      ]
     },
     "metadata": {},
     "output_type": "display_data"
    },
    {
     "name": "stderr",
     "output_type": "stream",
     "text": [
      "\u001b[34m\u001b[1mwandb\u001b[0m: Agent Starting Run: n9jiyjhb with config:\n",
      "\u001b[34m\u001b[1mwandb\u001b[0m: \thidden_dim: 64\n",
      "\u001b[34m\u001b[1mwandb\u001b[0m: \tlearning_rate: 0.0007368112815092432\n",
      "Failed to detect the name of this notebook, you can set it manually with the WANDB_NOTEBOOK_NAME environment variable to enable code saving.\n"
     ]
    },
    {
     "data": {
      "text/html": [
       "Tracking run with wandb version 0.16.5"
      ],
      "text/plain": [
       "<IPython.core.display.HTML object>"
      ]
     },
     "metadata": {},
     "output_type": "display_data"
    },
    {
     "data": {
      "text/html": [
       "Run data is saved locally in <code>c:\\Users\\Shobhith Vadlamudi\\Desktop\\3rd Year\\SEM 6\\RL\\wandb\\run-20240401_220546-n9jiyjhb</code>"
      ],
      "text/plain": [
       "<IPython.core.display.HTML object>"
      ]
     },
     "metadata": {},
     "output_type": "display_data"
    },
    {
     "data": {
      "text/html": [
       "Syncing run <strong><a href='https://wandb.ai/rl_shobhith/uncategorized/runs/n9jiyjhb/workspace' target=\"_blank\">fast-sweep-60</a></strong> to <a href='https://wandb.ai/rl_shobhith/uncategorized' target=\"_blank\">Weights & Biases</a> (<a href='https://wandb.me/run' target=\"_blank\">docs</a>)<br/>Sweep page: <a href='https://wandb.ai/rl_shobhith/uncategorized/sweeps/ebygp3ca' target=\"_blank\">https://wandb.ai/rl_shobhith/uncategorized/sweeps/ebygp3ca</a>"
      ],
      "text/plain": [
       "<IPython.core.display.HTML object>"
      ]
     },
     "metadata": {},
     "output_type": "display_data"
    },
    {
     "data": {
      "text/html": [
       " View project at <a href='https://wandb.ai/rl_shobhith/uncategorized' target=\"_blank\">https://wandb.ai/rl_shobhith/uncategorized</a>"
      ],
      "text/plain": [
       "<IPython.core.display.HTML object>"
      ]
     },
     "metadata": {},
     "output_type": "display_data"
    },
    {
     "data": {
      "text/html": [
       " View sweep at <a href='https://wandb.ai/rl_shobhith/uncategorized/sweeps/ebygp3ca' target=\"_blank\">https://wandb.ai/rl_shobhith/uncategorized/sweeps/ebygp3ca</a>"
      ],
      "text/plain": [
       "<IPython.core.display.HTML object>"
      ]
     },
     "metadata": {},
     "output_type": "display_data"
    },
    {
     "data": {
      "text/html": [
       " View run at <a href='https://wandb.ai/rl_shobhith/uncategorized/runs/n9jiyjhb/workspace' target=\"_blank\">https://wandb.ai/rl_shobhith/uncategorized/runs/n9jiyjhb/workspace</a>"
      ],
      "text/plain": [
       "<IPython.core.display.HTML object>"
      ]
     },
     "metadata": {},
     "output_type": "display_data"
    },
    {
     "name": "stderr",
     "output_type": "stream",
     "text": [
      "Iteration 0: 100%|██████████| 50/50 [00:01<00:00, 29.34it/s, episode_return=50, return=29.000]\n",
      "Iteration 1: 100%|██████████| 50/50 [00:01<00:00, 36.10it/s, episode_return=100, return=39.300]\n",
      "Iteration 2: 100%|██████████| 50/50 [00:01<00:00, 27.75it/s, episode_return=150, return=36.000]\n",
      "Iteration 3: 100%|██████████| 50/50 [00:01<00:00, 30.01it/s, episode_return=200, return=39.400]\n",
      "Iteration 4: 100%|██████████| 50/50 [00:01<00:00, 29.70it/s, episode_return=250, return=27.800]\n",
      "Iteration 5: 100%|██████████| 50/50 [00:01<00:00, 25.63it/s, episode_return=300, return=51.200]\n",
      "Iteration 6: 100%|██████████| 50/50 [00:02<00:00, 21.88it/s, episode_return=350, return=45.700]\n",
      "Iteration 7: 100%|██████████| 50/50 [00:02<00:00, 20.04it/s, episode_return=400, return=51.800]\n",
      "Iteration 8: 100%|██████████| 50/50 [00:02<00:00, 18.53it/s, episode_return=450, return=67.600]\n",
      "Iteration 9: 100%|██████████| 50/50 [00:02<00:00, 18.00it/s, episode_return=500, return=60.300]\n"
     ]
    },
    {
     "data": {
      "application/vnd.jupyter.widget-view+json": {
       "model_id": "2a53eb383ac049fb825f2097e95a2721",
       "version_major": 2,
       "version_minor": 0
      },
      "text/plain": [
       "VBox(children=(Label(value='0.001 MB of 0.001 MB uploaded\\r'), FloatProgress(value=1.0, max=1.0)))"
      ]
     },
     "metadata": {},
     "output_type": "display_data"
    },
    {
     "data": {
      "text/html": [
       "<style>\n",
       "    table.wandb td:nth-child(1) { padding: 0 10px; text-align: left ; width: auto;} td:nth-child(2) {text-align: left ; width: 100%}\n",
       "    .wandb-row { display: flex; flex-direction: row; flex-wrap: wrap; justify-content: flex-start; width: 100% }\n",
       "    .wandb-col { display: flex; flex-direction: column; flex-basis: 100%; flex: 1; padding: 10px; }\n",
       "    </style>\n",
       "<div class=\"wandb-row\"><div class=\"wandb-col\"><h3>Run history:</h3><br/><table class=\"wandb\"><tr><td>regret</td><td>▁</td></tr></table><br/></div><div class=\"wandb-col\"><h3>Run summary:</h3><br/><table class=\"wandb\"><tr><td>regret</td><td>76214.87903</td></tr></table><br/></div></div>"
      ],
      "text/plain": [
       "<IPython.core.display.HTML object>"
      ]
     },
     "metadata": {},
     "output_type": "display_data"
    },
    {
     "data": {
      "text/html": [
       " View run <strong style=\"color:#cdcd00\">fast-sweep-60</strong> at: <a href='https://wandb.ai/rl_shobhith/uncategorized/runs/n9jiyjhb/workspace' target=\"_blank\">https://wandb.ai/rl_shobhith/uncategorized/runs/n9jiyjhb/workspace</a><br/>Synced 5 W&B file(s), 0 media file(s), 0 artifact file(s) and 0 other file(s)"
      ],
      "text/plain": [
       "<IPython.core.display.HTML object>"
      ]
     },
     "metadata": {},
     "output_type": "display_data"
    },
    {
     "data": {
      "text/html": [
       "Find logs at: <code>.\\wandb\\run-20240401_220546-n9jiyjhb\\logs</code>"
      ],
      "text/plain": [
       "<IPython.core.display.HTML object>"
      ]
     },
     "metadata": {},
     "output_type": "display_data"
    },
    {
     "name": "stderr",
     "output_type": "stream",
     "text": [
      "\u001b[34m\u001b[1mwandb\u001b[0m: Agent Starting Run: c936aond with config:\n",
      "\u001b[34m\u001b[1mwandb\u001b[0m: \thidden_dim: 64\n",
      "\u001b[34m\u001b[1mwandb\u001b[0m: \tlearning_rate: 0.0008880120717828362\n",
      "Failed to detect the name of this notebook, you can set it manually with the WANDB_NOTEBOOK_NAME environment variable to enable code saving.\n"
     ]
    },
    {
     "data": {
      "text/html": [
       "Tracking run with wandb version 0.16.5"
      ],
      "text/plain": [
       "<IPython.core.display.HTML object>"
      ]
     },
     "metadata": {},
     "output_type": "display_data"
    },
    {
     "data": {
      "text/html": [
       "Run data is saved locally in <code>c:\\Users\\Shobhith Vadlamudi\\Desktop\\3rd Year\\SEM 6\\RL\\wandb\\run-20240401_220618-c936aond</code>"
      ],
      "text/plain": [
       "<IPython.core.display.HTML object>"
      ]
     },
     "metadata": {},
     "output_type": "display_data"
    },
    {
     "data": {
      "text/html": [
       "Syncing run <strong><a href='https://wandb.ai/rl_shobhith/uncategorized/runs/c936aond/workspace' target=\"_blank\">breezy-sweep-61</a></strong> to <a href='https://wandb.ai/rl_shobhith/uncategorized' target=\"_blank\">Weights & Biases</a> (<a href='https://wandb.me/run' target=\"_blank\">docs</a>)<br/>Sweep page: <a href='https://wandb.ai/rl_shobhith/uncategorized/sweeps/ebygp3ca' target=\"_blank\">https://wandb.ai/rl_shobhith/uncategorized/sweeps/ebygp3ca</a>"
      ],
      "text/plain": [
       "<IPython.core.display.HTML object>"
      ]
     },
     "metadata": {},
     "output_type": "display_data"
    },
    {
     "data": {
      "text/html": [
       " View project at <a href='https://wandb.ai/rl_shobhith/uncategorized' target=\"_blank\">https://wandb.ai/rl_shobhith/uncategorized</a>"
      ],
      "text/plain": [
       "<IPython.core.display.HTML object>"
      ]
     },
     "metadata": {},
     "output_type": "display_data"
    },
    {
     "data": {
      "text/html": [
       " View sweep at <a href='https://wandb.ai/rl_shobhith/uncategorized/sweeps/ebygp3ca' target=\"_blank\">https://wandb.ai/rl_shobhith/uncategorized/sweeps/ebygp3ca</a>"
      ],
      "text/plain": [
       "<IPython.core.display.HTML object>"
      ]
     },
     "metadata": {},
     "output_type": "display_data"
    },
    {
     "data": {
      "text/html": [
       " View run at <a href='https://wandb.ai/rl_shobhith/uncategorized/runs/c936aond/workspace' target=\"_blank\">https://wandb.ai/rl_shobhith/uncategorized/runs/c936aond/workspace</a>"
      ],
      "text/plain": [
       "<IPython.core.display.HTML object>"
      ]
     },
     "metadata": {},
     "output_type": "display_data"
    },
    {
     "name": "stderr",
     "output_type": "stream",
     "text": [
      "Iteration 0: 100%|██████████| 50/50 [00:00<00:00, 51.55it/s, episode_return=50, return=23.900]\n",
      "Iteration 1: 100%|██████████| 50/50 [00:01<00:00, 40.32it/s, episode_return=100, return=27.300]\n",
      "Iteration 2: 100%|██████████| 50/50 [00:01<00:00, 27.49it/s, episode_return=150, return=43.300]\n",
      "Iteration 3: 100%|██████████| 50/50 [00:01<00:00, 27.24it/s, episode_return=200, return=46.600]\n",
      "Iteration 4: 100%|██████████| 50/50 [00:02<00:00, 22.02it/s, episode_return=250, return=54.500]\n",
      "Iteration 5: 100%|██████████| 50/50 [00:02<00:00, 20.50it/s, episode_return=300, return=75.300]\n",
      "Iteration 6: 100%|██████████| 50/50 [00:04<00:00, 11.61it/s, episode_return=350, return=97.800] \n",
      "Iteration 7: 100%|██████████| 50/50 [00:05<00:00,  9.86it/s, episode_return=400, return=123.000]\n",
      "Iteration 8: 100%|██████████| 50/50 [00:06<00:00,  7.52it/s, episode_return=450, return=183.800]\n",
      "Iteration 9: 100%|██████████| 50/50 [00:07<00:00,  7.07it/s, episode_return=500, return=159.900]\n"
     ]
    },
    {
     "data": {
      "application/vnd.jupyter.widget-view+json": {
       "model_id": "04798597ce8f46768270d2840ee9e4ad",
       "version_major": 2,
       "version_minor": 0
      },
      "text/plain": [
       "VBox(children=(Label(value='0.001 MB of 0.001 MB uploaded\\r'), FloatProgress(value=1.0, max=1.0)))"
      ]
     },
     "metadata": {},
     "output_type": "display_data"
    },
    {
     "data": {
      "text/html": [
       "<style>\n",
       "    table.wandb td:nth-child(1) { padding: 0 10px; text-align: left ; width: auto;} td:nth-child(2) {text-align: left ; width: 100%}\n",
       "    .wandb-row { display: flex; flex-direction: row; flex-wrap: wrap; justify-content: flex-start; width: 100% }\n",
       "    .wandb-col { display: flex; flex-direction: column; flex-basis: 100%; flex: 1; padding: 10px; }\n",
       "    </style>\n",
       "<div class=\"wandb-row\"><div class=\"wandb-col\"><h3>Run history:</h3><br/><table class=\"wandb\"><tr><td>regret</td><td>▁</td></tr></table><br/></div><div class=\"wandb-col\"><h3>Run summary:</h3><br/><table class=\"wandb\"><tr><td>regret</td><td>66111.83573</td></tr></table><br/></div></div>"
      ],
      "text/plain": [
       "<IPython.core.display.HTML object>"
      ]
     },
     "metadata": {},
     "output_type": "display_data"
    },
    {
     "data": {
      "text/html": [
       " View run <strong style=\"color:#cdcd00\">breezy-sweep-61</strong> at: <a href='https://wandb.ai/rl_shobhith/uncategorized/runs/c936aond/workspace' target=\"_blank\">https://wandb.ai/rl_shobhith/uncategorized/runs/c936aond/workspace</a><br/>Synced 5 W&B file(s), 0 media file(s), 0 artifact file(s) and 0 other file(s)"
      ],
      "text/plain": [
       "<IPython.core.display.HTML object>"
      ]
     },
     "metadata": {},
     "output_type": "display_data"
    },
    {
     "data": {
      "text/html": [
       "Find logs at: <code>.\\wandb\\run-20240401_220618-c936aond\\logs</code>"
      ],
      "text/plain": [
       "<IPython.core.display.HTML object>"
      ]
     },
     "metadata": {},
     "output_type": "display_data"
    },
    {
     "name": "stderr",
     "output_type": "stream",
     "text": [
      "\u001b[34m\u001b[1mwandb\u001b[0m: Agent Starting Run: 3l1mcsow with config:\n",
      "\u001b[34m\u001b[1mwandb\u001b[0m: \thidden_dim: 256\n",
      "\u001b[34m\u001b[1mwandb\u001b[0m: \tlearning_rate: 0.0004400341753377112\n",
      "Failed to detect the name of this notebook, you can set it manually with the WANDB_NOTEBOOK_NAME environment variable to enable code saving.\n"
     ]
    },
    {
     "data": {
      "text/html": [
       "Tracking run with wandb version 0.16.5"
      ],
      "text/plain": [
       "<IPython.core.display.HTML object>"
      ]
     },
     "metadata": {},
     "output_type": "display_data"
    },
    {
     "data": {
      "text/html": [
       "Run data is saved locally in <code>c:\\Users\\Shobhith Vadlamudi\\Desktop\\3rd Year\\SEM 6\\RL\\wandb\\run-20240401_220707-3l1mcsow</code>"
      ],
      "text/plain": [
       "<IPython.core.display.HTML object>"
      ]
     },
     "metadata": {},
     "output_type": "display_data"
    },
    {
     "data": {
      "text/html": [
       "Syncing run <strong><a href='https://wandb.ai/rl_shobhith/uncategorized/runs/3l1mcsow/workspace' target=\"_blank\">splendid-sweep-62</a></strong> to <a href='https://wandb.ai/rl_shobhith/uncategorized' target=\"_blank\">Weights & Biases</a> (<a href='https://wandb.me/run' target=\"_blank\">docs</a>)<br/>Sweep page: <a href='https://wandb.ai/rl_shobhith/uncategorized/sweeps/ebygp3ca' target=\"_blank\">https://wandb.ai/rl_shobhith/uncategorized/sweeps/ebygp3ca</a>"
      ],
      "text/plain": [
       "<IPython.core.display.HTML object>"
      ]
     },
     "metadata": {},
     "output_type": "display_data"
    },
    {
     "data": {
      "text/html": [
       " View project at <a href='https://wandb.ai/rl_shobhith/uncategorized' target=\"_blank\">https://wandb.ai/rl_shobhith/uncategorized</a>"
      ],
      "text/plain": [
       "<IPython.core.display.HTML object>"
      ]
     },
     "metadata": {},
     "output_type": "display_data"
    },
    {
     "data": {
      "text/html": [
       " View sweep at <a href='https://wandb.ai/rl_shobhith/uncategorized/sweeps/ebygp3ca' target=\"_blank\">https://wandb.ai/rl_shobhith/uncategorized/sweeps/ebygp3ca</a>"
      ],
      "text/plain": [
       "<IPython.core.display.HTML object>"
      ]
     },
     "metadata": {},
     "output_type": "display_data"
    },
    {
     "data": {
      "text/html": [
       " View run at <a href='https://wandb.ai/rl_shobhith/uncategorized/runs/3l1mcsow/workspace' target=\"_blank\">https://wandb.ai/rl_shobhith/uncategorized/runs/3l1mcsow/workspace</a>"
      ],
      "text/plain": [
       "<IPython.core.display.HTML object>"
      ]
     },
     "metadata": {},
     "output_type": "display_data"
    },
    {
     "name": "stderr",
     "output_type": "stream",
     "text": [
      "Iteration 0: 100%|██████████| 50/50 [00:01<00:00, 42.38it/s, episode_return=50, return=26.400]\n",
      "Iteration 1: 100%|██████████| 50/50 [00:01<00:00, 31.93it/s, episode_return=100, return=44.500]\n",
      "Iteration 2: 100%|██████████| 50/50 [00:01<00:00, 25.32it/s, episode_return=150, return=39.200]\n",
      "Iteration 3: 100%|██████████| 50/50 [00:02<00:00, 21.93it/s, episode_return=200, return=64.100]\n",
      "Iteration 4: 100%|██████████| 50/50 [00:02<00:00, 18.09it/s, episode_return=250, return=69.300]\n",
      "Iteration 5: 100%|██████████| 50/50 [00:03<00:00, 14.08it/s, episode_return=300, return=102.600]\n",
      "Iteration 6: 100%|██████████| 50/50 [00:04<00:00, 11.34it/s, episode_return=350, return=115.700]\n",
      "Iteration 7: 100%|██████████| 50/50 [00:06<00:00,  7.59it/s, episode_return=400, return=212.800]\n",
      "Iteration 8: 100%|██████████| 50/50 [00:08<00:00,  6.09it/s, episode_return=450, return=218.900]\n",
      "Iteration 9: 100%|██████████| 50/50 [00:09<00:00,  5.54it/s, episode_return=500, return=206.800]\n"
     ]
    },
    {
     "data": {
      "application/vnd.jupyter.widget-view+json": {
       "model_id": "f1220da842e84e298dab235f2afda6b3",
       "version_major": 2,
       "version_minor": 0
      },
      "text/plain": [
       "VBox(children=(Label(value='0.001 MB of 0.001 MB uploaded\\r'), FloatProgress(value=1.0, max=1.0)))"
      ]
     },
     "metadata": {},
     "output_type": "display_data"
    },
    {
     "data": {
      "text/html": [
       "<style>\n",
       "    table.wandb td:nth-child(1) { padding: 0 10px; text-align: left ; width: auto;} td:nth-child(2) {text-align: left ; width: 100%}\n",
       "    .wandb-row { display: flex; flex-direction: row; flex-wrap: wrap; justify-content: flex-start; width: 100% }\n",
       "    .wandb-col { display: flex; flex-direction: column; flex-basis: 100%; flex: 1; padding: 10px; }\n",
       "    </style>\n",
       "<div class=\"wandb-row\"><div class=\"wandb-col\"><h3>Run history:</h3><br/><table class=\"wandb\"><tr><td>regret</td><td>▁</td></tr></table><br/></div><div class=\"wandb-col\"><h3>Run summary:</h3><br/><table class=\"wandb\"><tr><td>regret</td><td>55358.41381</td></tr></table><br/></div></div>"
      ],
      "text/plain": [
       "<IPython.core.display.HTML object>"
      ]
     },
     "metadata": {},
     "output_type": "display_data"
    },
    {
     "data": {
      "text/html": [
       " View run <strong style=\"color:#cdcd00\">splendid-sweep-62</strong> at: <a href='https://wandb.ai/rl_shobhith/uncategorized/runs/3l1mcsow/workspace' target=\"_blank\">https://wandb.ai/rl_shobhith/uncategorized/runs/3l1mcsow/workspace</a><br/>Synced 5 W&B file(s), 0 media file(s), 0 artifact file(s) and 0 other file(s)"
      ],
      "text/plain": [
       "<IPython.core.display.HTML object>"
      ]
     },
     "metadata": {},
     "output_type": "display_data"
    },
    {
     "data": {
      "text/html": [
       "Find logs at: <code>.\\wandb\\run-20240401_220707-3l1mcsow\\logs</code>"
      ],
      "text/plain": [
       "<IPython.core.display.HTML object>"
      ]
     },
     "metadata": {},
     "output_type": "display_data"
    },
    {
     "name": "stderr",
     "output_type": "stream",
     "text": [
      "\u001b[34m\u001b[1mwandb\u001b[0m: Agent Starting Run: xus4ye32 with config:\n",
      "\u001b[34m\u001b[1mwandb\u001b[0m: \thidden_dim: 256\n",
      "\u001b[34m\u001b[1mwandb\u001b[0m: \tlearning_rate: 0.00010449996384871948\n",
      "Failed to detect the name of this notebook, you can set it manually with the WANDB_NOTEBOOK_NAME environment variable to enable code saving.\n"
     ]
    },
    {
     "data": {
      "text/html": [
       "Tracking run with wandb version 0.16.5"
      ],
      "text/plain": [
       "<IPython.core.display.HTML object>"
      ]
     },
     "metadata": {},
     "output_type": "display_data"
    },
    {
     "data": {
      "text/html": [
       "Run data is saved locally in <code>c:\\Users\\Shobhith Vadlamudi\\Desktop\\3rd Year\\SEM 6\\RL\\wandb\\run-20240401_220805-xus4ye32</code>"
      ],
      "text/plain": [
       "<IPython.core.display.HTML object>"
      ]
     },
     "metadata": {},
     "output_type": "display_data"
    },
    {
     "data": {
      "text/html": [
       "Syncing run <strong><a href='https://wandb.ai/rl_shobhith/uncategorized/runs/xus4ye32/workspace' target=\"_blank\">peach-sweep-63</a></strong> to <a href='https://wandb.ai/rl_shobhith/uncategorized' target=\"_blank\">Weights & Biases</a> (<a href='https://wandb.me/run' target=\"_blank\">docs</a>)<br/>Sweep page: <a href='https://wandb.ai/rl_shobhith/uncategorized/sweeps/ebygp3ca' target=\"_blank\">https://wandb.ai/rl_shobhith/uncategorized/sweeps/ebygp3ca</a>"
      ],
      "text/plain": [
       "<IPython.core.display.HTML object>"
      ]
     },
     "metadata": {},
     "output_type": "display_data"
    },
    {
     "data": {
      "text/html": [
       " View project at <a href='https://wandb.ai/rl_shobhith/uncategorized' target=\"_blank\">https://wandb.ai/rl_shobhith/uncategorized</a>"
      ],
      "text/plain": [
       "<IPython.core.display.HTML object>"
      ]
     },
     "metadata": {},
     "output_type": "display_data"
    },
    {
     "data": {
      "text/html": [
       " View sweep at <a href='https://wandb.ai/rl_shobhith/uncategorized/sweeps/ebygp3ca' target=\"_blank\">https://wandb.ai/rl_shobhith/uncategorized/sweeps/ebygp3ca</a>"
      ],
      "text/plain": [
       "<IPython.core.display.HTML object>"
      ]
     },
     "metadata": {},
     "output_type": "display_data"
    },
    {
     "data": {
      "text/html": [
       " View run at <a href='https://wandb.ai/rl_shobhith/uncategorized/runs/xus4ye32/workspace' target=\"_blank\">https://wandb.ai/rl_shobhith/uncategorized/runs/xus4ye32/workspace</a>"
      ],
      "text/plain": [
       "<IPython.core.display.HTML object>"
      ]
     },
     "metadata": {},
     "output_type": "display_data"
    },
    {
     "name": "stderr",
     "output_type": "stream",
     "text": [
      "Iteration 0: 100%|██████████| 50/50 [00:00<00:00, 57.00it/s, episode_return=50, return=17.100]\n",
      "Iteration 1: 100%|██████████| 50/50 [00:00<00:00, 53.67it/s, episode_return=100, return=22.000]\n",
      "Iteration 2: 100%|██████████| 50/50 [00:01<00:00, 41.24it/s, episode_return=150, return=30.700]\n",
      "Iteration 3: 100%|██████████| 50/50 [00:01<00:00, 48.35it/s, episode_return=200, return=27.600]\n",
      "Iteration 4: 100%|██████████| 50/50 [00:01<00:00, 38.93it/s, episode_return=250, return=33.500]\n",
      "Iteration 5: 100%|██████████| 50/50 [00:01<00:00, 39.05it/s, episode_return=300, return=31.200]\n",
      "Iteration 6: 100%|██████████| 50/50 [00:01<00:00, 38.50it/s, episode_return=350, return=35.300]\n",
      "Iteration 7: 100%|██████████| 50/50 [00:01<00:00, 32.74it/s, episode_return=400, return=38.500]\n",
      "Iteration 8: 100%|██████████| 50/50 [00:01<00:00, 33.89it/s, episode_return=450, return=24.500]\n",
      "Iteration 9: 100%|██████████| 50/50 [00:01<00:00, 30.39it/s, episode_return=500, return=41.800]\n"
     ]
    },
    {
     "data": {
      "application/vnd.jupyter.widget-view+json": {
       "model_id": "d1bd84d9db6b4fd881d4c55050f766a9",
       "version_major": 2,
       "version_minor": 0
      },
      "text/plain": [
       "VBox(children=(Label(value='0.001 MB of 0.001 MB uploaded\\r'), FloatProgress(value=1.0, max=1.0)))"
      ]
     },
     "metadata": {},
     "output_type": "display_data"
    },
    {
     "data": {
      "text/html": [
       "<style>\n",
       "    table.wandb td:nth-child(1) { padding: 0 10px; text-align: left ; width: auto;} td:nth-child(2) {text-align: left ; width: 100%}\n",
       "    .wandb-row { display: flex; flex-direction: row; flex-wrap: wrap; justify-content: flex-start; width: 100% }\n",
       "    .wandb-col { display: flex; flex-direction: column; flex-basis: 100%; flex: 1; padding: 10px; }\n",
       "    </style>\n",
       "<div class=\"wandb-row\"><div class=\"wandb-col\"><h3>Run history:</h3><br/><table class=\"wandb\"><tr><td>regret</td><td>▁</td></tr></table><br/></div><div class=\"wandb-col\"><h3>Run summary:</h3><br/><table class=\"wandb\"><tr><td>regret</td><td>82842.4627</td></tr></table><br/></div></div>"
      ],
      "text/plain": [
       "<IPython.core.display.HTML object>"
      ]
     },
     "metadata": {},
     "output_type": "display_data"
    },
    {
     "data": {
      "text/html": [
       " View run <strong style=\"color:#cdcd00\">peach-sweep-63</strong> at: <a href='https://wandb.ai/rl_shobhith/uncategorized/runs/xus4ye32/workspace' target=\"_blank\">https://wandb.ai/rl_shobhith/uncategorized/runs/xus4ye32/workspace</a><br/>Synced 5 W&B file(s), 0 media file(s), 0 artifact file(s) and 0 other file(s)"
      ],
      "text/plain": [
       "<IPython.core.display.HTML object>"
      ]
     },
     "metadata": {},
     "output_type": "display_data"
    },
    {
     "data": {
      "text/html": [
       "Find logs at: <code>.\\wandb\\run-20240401_220805-xus4ye32\\logs</code>"
      ],
      "text/plain": [
       "<IPython.core.display.HTML object>"
      ]
     },
     "metadata": {},
     "output_type": "display_data"
    },
    {
     "name": "stderr",
     "output_type": "stream",
     "text": [
      "\u001b[34m\u001b[1mwandb\u001b[0m: Agent Starting Run: yxcikcae with config:\n",
      "\u001b[34m\u001b[1mwandb\u001b[0m: \thidden_dim: 256\n",
      "\u001b[34m\u001b[1mwandb\u001b[0m: \tlearning_rate: 0.0004690008177784307\n",
      "Failed to detect the name of this notebook, you can set it manually with the WANDB_NOTEBOOK_NAME environment variable to enable code saving.\n"
     ]
    },
    {
     "data": {
      "text/html": [
       "Tracking run with wandb version 0.16.5"
      ],
      "text/plain": [
       "<IPython.core.display.HTML object>"
      ]
     },
     "metadata": {},
     "output_type": "display_data"
    },
    {
     "data": {
      "text/html": [
       "Run data is saved locally in <code>c:\\Users\\Shobhith Vadlamudi\\Desktop\\3rd Year\\SEM 6\\RL\\wandb\\run-20240401_220831-yxcikcae</code>"
      ],
      "text/plain": [
       "<IPython.core.display.HTML object>"
      ]
     },
     "metadata": {},
     "output_type": "display_data"
    },
    {
     "data": {
      "text/html": [
       "Syncing run <strong><a href='https://wandb.ai/rl_shobhith/uncategorized/runs/yxcikcae/workspace' target=\"_blank\">dutiful-sweep-64</a></strong> to <a href='https://wandb.ai/rl_shobhith/uncategorized' target=\"_blank\">Weights & Biases</a> (<a href='https://wandb.me/run' target=\"_blank\">docs</a>)<br/>Sweep page: <a href='https://wandb.ai/rl_shobhith/uncategorized/sweeps/ebygp3ca' target=\"_blank\">https://wandb.ai/rl_shobhith/uncategorized/sweeps/ebygp3ca</a>"
      ],
      "text/plain": [
       "<IPython.core.display.HTML object>"
      ]
     },
     "metadata": {},
     "output_type": "display_data"
    },
    {
     "data": {
      "text/html": [
       " View project at <a href='https://wandb.ai/rl_shobhith/uncategorized' target=\"_blank\">https://wandb.ai/rl_shobhith/uncategorized</a>"
      ],
      "text/plain": [
       "<IPython.core.display.HTML object>"
      ]
     },
     "metadata": {},
     "output_type": "display_data"
    },
    {
     "data": {
      "text/html": [
       " View sweep at <a href='https://wandb.ai/rl_shobhith/uncategorized/sweeps/ebygp3ca' target=\"_blank\">https://wandb.ai/rl_shobhith/uncategorized/sweeps/ebygp3ca</a>"
      ],
      "text/plain": [
       "<IPython.core.display.HTML object>"
      ]
     },
     "metadata": {},
     "output_type": "display_data"
    },
    {
     "data": {
      "text/html": [
       " View run at <a href='https://wandb.ai/rl_shobhith/uncategorized/runs/yxcikcae/workspace' target=\"_blank\">https://wandb.ai/rl_shobhith/uncategorized/runs/yxcikcae/workspace</a>"
      ],
      "text/plain": [
       "<IPython.core.display.HTML object>"
      ]
     },
     "metadata": {},
     "output_type": "display_data"
    },
    {
     "name": "stderr",
     "output_type": "stream",
     "text": [
      "Iteration 0: 100%|██████████| 50/50 [00:01<00:00, 39.22it/s, episode_return=50, return=35.300]\n",
      "Iteration 1: 100%|██████████| 50/50 [00:01<00:00, 33.77it/s, episode_return=100, return=46.800]\n",
      "Iteration 2: 100%|██████████| 50/50 [00:02<00:00, 24.05it/s, episode_return=150, return=48.600]\n",
      "Iteration 3: 100%|██████████| 50/50 [00:01<00:00, 25.10it/s, episode_return=200, return=45.300]\n",
      "Iteration 4: 100%|██████████| 50/50 [00:02<00:00, 21.73it/s, episode_return=250, return=77.600]\n",
      "Iteration 5: 100%|██████████| 50/50 [00:03<00:00, 14.90it/s, episode_return=300, return=77.600] \n",
      "Iteration 6: 100%|██████████| 50/50 [00:04<00:00, 11.62it/s, episode_return=350, return=109.200]\n",
      "Iteration 7: 100%|██████████| 50/50 [00:05<00:00,  8.41it/s, episode_return=400, return=171.700]\n",
      "Iteration 8: 100%|██████████| 50/50 [00:06<00:00,  7.32it/s, episode_return=450, return=214.600]\n",
      "Iteration 9: 100%|██████████| 50/50 [00:08<00:00,  6.05it/s, episode_return=500, return=222.200]\n"
     ]
    },
    {
     "data": {
      "application/vnd.jupyter.widget-view+json": {
       "model_id": "2464774012c8416297f5d8e4611b9d24",
       "version_major": 2,
       "version_minor": 0
      },
      "text/plain": [
       "VBox(children=(Label(value='0.001 MB of 0.007 MB uploaded\\r'), FloatProgress(value=0.17058823529411765, max=1.…"
      ]
     },
     "metadata": {},
     "output_type": "display_data"
    },
    {
     "data": {
      "text/html": [
       "<style>\n",
       "    table.wandb td:nth-child(1) { padding: 0 10px; text-align: left ; width: auto;} td:nth-child(2) {text-align: left ; width: 100%}\n",
       "    .wandb-row { display: flex; flex-direction: row; flex-wrap: wrap; justify-content: flex-start; width: 100% }\n",
       "    .wandb-col { display: flex; flex-direction: column; flex-basis: 100%; flex: 1; padding: 10px; }\n",
       "    </style>\n",
       "<div class=\"wandb-row\"><div class=\"wandb-col\"><h3>Run history:</h3><br/><table class=\"wandb\"><tr><td>regret</td><td>▁</td></tr></table><br/></div><div class=\"wandb-col\"><h3>Run summary:</h3><br/><table class=\"wandb\"><tr><td>regret</td><td>57640.47571</td></tr></table><br/></div></div>"
      ],
      "text/plain": [
       "<IPython.core.display.HTML object>"
      ]
     },
     "metadata": {},
     "output_type": "display_data"
    },
    {
     "data": {
      "text/html": [
       " View run <strong style=\"color:#cdcd00\">dutiful-sweep-64</strong> at: <a href='https://wandb.ai/rl_shobhith/uncategorized/runs/yxcikcae/workspace' target=\"_blank\">https://wandb.ai/rl_shobhith/uncategorized/runs/yxcikcae/workspace</a><br/>Synced 5 W&B file(s), 0 media file(s), 0 artifact file(s) and 0 other file(s)"
      ],
      "text/plain": [
       "<IPython.core.display.HTML object>"
      ]
     },
     "metadata": {},
     "output_type": "display_data"
    },
    {
     "data": {
      "text/html": [
       "Find logs at: <code>.\\wandb\\run-20240401_220831-yxcikcae\\logs</code>"
      ],
      "text/plain": [
       "<IPython.core.display.HTML object>"
      ]
     },
     "metadata": {},
     "output_type": "display_data"
    },
    {
     "name": "stderr",
     "output_type": "stream",
     "text": [
      "\u001b[34m\u001b[1mwandb\u001b[0m: Sweep Agent: Waiting for job.\n",
      "\u001b[34m\u001b[1mwandb\u001b[0m: Job received.\n",
      "\u001b[34m\u001b[1mwandb\u001b[0m: Agent Starting Run: oe3gimz0 with config:\n",
      "\u001b[34m\u001b[1mwandb\u001b[0m: \thidden_dim: 64\n",
      "\u001b[34m\u001b[1mwandb\u001b[0m: \tlearning_rate: 0.00010262345380182156\n",
      "Failed to detect the name of this notebook, you can set it manually with the WANDB_NOTEBOOK_NAME environment variable to enable code saving.\n"
     ]
    },
    {
     "data": {
      "text/html": [
       "Tracking run with wandb version 0.16.5"
      ],
      "text/plain": [
       "<IPython.core.display.HTML object>"
      ]
     },
     "metadata": {},
     "output_type": "display_data"
    },
    {
     "data": {
      "text/html": [
       "Run data is saved locally in <code>c:\\Users\\Shobhith Vadlamudi\\Desktop\\3rd Year\\SEM 6\\RL\\wandb\\run-20240401_220929-oe3gimz0</code>"
      ],
      "text/plain": [
       "<IPython.core.display.HTML object>"
      ]
     },
     "metadata": {},
     "output_type": "display_data"
    },
    {
     "data": {
      "text/html": [
       "Syncing run <strong><a href='https://wandb.ai/rl_shobhith/uncategorized/runs/oe3gimz0/workspace' target=\"_blank\">classic-sweep-65</a></strong> to <a href='https://wandb.ai/rl_shobhith/uncategorized' target=\"_blank\">Weights & Biases</a> (<a href='https://wandb.me/run' target=\"_blank\">docs</a>)<br/>Sweep page: <a href='https://wandb.ai/rl_shobhith/uncategorized/sweeps/ebygp3ca' target=\"_blank\">https://wandb.ai/rl_shobhith/uncategorized/sweeps/ebygp3ca</a>"
      ],
      "text/plain": [
       "<IPython.core.display.HTML object>"
      ]
     },
     "metadata": {},
     "output_type": "display_data"
    },
    {
     "data": {
      "text/html": [
       " View project at <a href='https://wandb.ai/rl_shobhith/uncategorized' target=\"_blank\">https://wandb.ai/rl_shobhith/uncategorized</a>"
      ],
      "text/plain": [
       "<IPython.core.display.HTML object>"
      ]
     },
     "metadata": {},
     "output_type": "display_data"
    },
    {
     "data": {
      "text/html": [
       " View sweep at <a href='https://wandb.ai/rl_shobhith/uncategorized/sweeps/ebygp3ca' target=\"_blank\">https://wandb.ai/rl_shobhith/uncategorized/sweeps/ebygp3ca</a>"
      ],
      "text/plain": [
       "<IPython.core.display.HTML object>"
      ]
     },
     "metadata": {},
     "output_type": "display_data"
    },
    {
     "data": {
      "text/html": [
       " View run at <a href='https://wandb.ai/rl_shobhith/uncategorized/runs/oe3gimz0/workspace' target=\"_blank\">https://wandb.ai/rl_shobhith/uncategorized/runs/oe3gimz0/workspace</a>"
      ],
      "text/plain": [
       "<IPython.core.display.HTML object>"
      ]
     },
     "metadata": {},
     "output_type": "display_data"
    },
    {
     "name": "stderr",
     "output_type": "stream",
     "text": [
      "Iteration 0: 100%|██████████| 50/50 [00:00<00:00, 53.72it/s, episode_return=50, return=24.600]\n",
      "Iteration 1: 100%|██████████| 50/50 [00:01<00:00, 49.45it/s, episode_return=100, return=19.700]\n",
      "Iteration 2: 100%|██████████| 50/50 [00:01<00:00, 46.11it/s, episode_return=150, return=25.800]\n",
      "Iteration 3: 100%|██████████| 50/50 [00:00<00:00, 51.10it/s, episode_return=200, return=18.700]\n",
      "Iteration 4: 100%|██████████| 50/50 [00:01<00:00, 43.49it/s, episode_return=250, return=25.300]\n",
      "Iteration 5: 100%|██████████| 50/50 [00:01<00:00, 44.47it/s, episode_return=300, return=24.000]\n",
      "Iteration 6: 100%|██████████| 50/50 [00:01<00:00, 45.52it/s, episode_return=350, return=23.800]\n",
      "Iteration 7: 100%|██████████| 50/50 [00:01<00:00, 40.67it/s, episode_return=400, return=29.700]\n",
      "Iteration 8: 100%|██████████| 50/50 [00:01<00:00, 42.83it/s, episode_return=450, return=25.600]\n",
      "Iteration 9: 100%|██████████| 50/50 [00:01<00:00, 43.21it/s, episode_return=500, return=22.000]\n"
     ]
    },
    {
     "data": {
      "application/vnd.jupyter.widget-view+json": {
       "model_id": "c0a93886952c474bb24ad1ff7c6a449f",
       "version_major": 2,
       "version_minor": 0
      },
      "text/plain": [
       "VBox(children=(Label(value='0.001 MB of 0.001 MB uploaded\\r'), FloatProgress(value=1.0, max=1.0)))"
      ]
     },
     "metadata": {},
     "output_type": "display_data"
    },
    {
     "data": {
      "text/html": [
       "<style>\n",
       "    table.wandb td:nth-child(1) { padding: 0 10px; text-align: left ; width: auto;} td:nth-child(2) {text-align: left ; width: 100%}\n",
       "    .wandb-row { display: flex; flex-direction: row; flex-wrap: wrap; justify-content: flex-start; width: 100% }\n",
       "    .wandb-col { display: flex; flex-direction: column; flex-basis: 100%; flex: 1; padding: 10px; }\n",
       "    </style>\n",
       "<div class=\"wandb-row\"><div class=\"wandb-col\"><h3>Run history:</h3><br/><table class=\"wandb\"><tr><td>regret</td><td>▁</td></tr></table><br/></div><div class=\"wandb-col\"><h3>Run summary:</h3><br/><table class=\"wandb\"><tr><td>regret</td><td>86054.28657</td></tr></table><br/></div></div>"
      ],
      "text/plain": [
       "<IPython.core.display.HTML object>"
      ]
     },
     "metadata": {},
     "output_type": "display_data"
    },
    {
     "data": {
      "text/html": [
       " View run <strong style=\"color:#cdcd00\">classic-sweep-65</strong> at: <a href='https://wandb.ai/rl_shobhith/uncategorized/runs/oe3gimz0/workspace' target=\"_blank\">https://wandb.ai/rl_shobhith/uncategorized/runs/oe3gimz0/workspace</a><br/>Synced 5 W&B file(s), 0 media file(s), 0 artifact file(s) and 0 other file(s)"
      ],
      "text/plain": [
       "<IPython.core.display.HTML object>"
      ]
     },
     "metadata": {},
     "output_type": "display_data"
    },
    {
     "data": {
      "text/html": [
       "Find logs at: <code>.\\wandb\\run-20240401_220929-oe3gimz0\\logs</code>"
      ],
      "text/plain": [
       "<IPython.core.display.HTML object>"
      ]
     },
     "metadata": {},
     "output_type": "display_data"
    },
    {
     "name": "stderr",
     "output_type": "stream",
     "text": [
      "\u001b[34m\u001b[1mwandb\u001b[0m: Agent Starting Run: rb1vk7ih with config:\n",
      "\u001b[34m\u001b[1mwandb\u001b[0m: \thidden_dim: 64\n",
      "\u001b[34m\u001b[1mwandb\u001b[0m: \tlearning_rate: 0.0007539909497477961\n",
      "Failed to detect the name of this notebook, you can set it manually with the WANDB_NOTEBOOK_NAME environment variable to enable code saving.\n"
     ]
    },
    {
     "data": {
      "text/html": [
       "Tracking run with wandb version 0.16.5"
      ],
      "text/plain": [
       "<IPython.core.display.HTML object>"
      ]
     },
     "metadata": {},
     "output_type": "display_data"
    },
    {
     "data": {
      "text/html": [
       "Run data is saved locally in <code>c:\\Users\\Shobhith Vadlamudi\\Desktop\\3rd Year\\SEM 6\\RL\\wandb\\run-20240401_220953-rb1vk7ih</code>"
      ],
      "text/plain": [
       "<IPython.core.display.HTML object>"
      ]
     },
     "metadata": {},
     "output_type": "display_data"
    },
    {
     "data": {
      "text/html": [
       "Syncing run <strong><a href='https://wandb.ai/rl_shobhith/uncategorized/runs/rb1vk7ih/workspace' target=\"_blank\">faithful-sweep-66</a></strong> to <a href='https://wandb.ai/rl_shobhith/uncategorized' target=\"_blank\">Weights & Biases</a> (<a href='https://wandb.me/run' target=\"_blank\">docs</a>)<br/>Sweep page: <a href='https://wandb.ai/rl_shobhith/uncategorized/sweeps/ebygp3ca' target=\"_blank\">https://wandb.ai/rl_shobhith/uncategorized/sweeps/ebygp3ca</a>"
      ],
      "text/plain": [
       "<IPython.core.display.HTML object>"
      ]
     },
     "metadata": {},
     "output_type": "display_data"
    },
    {
     "data": {
      "text/html": [
       " View project at <a href='https://wandb.ai/rl_shobhith/uncategorized' target=\"_blank\">https://wandb.ai/rl_shobhith/uncategorized</a>"
      ],
      "text/plain": [
       "<IPython.core.display.HTML object>"
      ]
     },
     "metadata": {},
     "output_type": "display_data"
    },
    {
     "data": {
      "text/html": [
       " View sweep at <a href='https://wandb.ai/rl_shobhith/uncategorized/sweeps/ebygp3ca' target=\"_blank\">https://wandb.ai/rl_shobhith/uncategorized/sweeps/ebygp3ca</a>"
      ],
      "text/plain": [
       "<IPython.core.display.HTML object>"
      ]
     },
     "metadata": {},
     "output_type": "display_data"
    },
    {
     "data": {
      "text/html": [
       " View run at <a href='https://wandb.ai/rl_shobhith/uncategorized/runs/rb1vk7ih/workspace' target=\"_blank\">https://wandb.ai/rl_shobhith/uncategorized/runs/rb1vk7ih/workspace</a>"
      ],
      "text/plain": [
       "<IPython.core.display.HTML object>"
      ]
     },
     "metadata": {},
     "output_type": "display_data"
    },
    {
     "name": "stderr",
     "output_type": "stream",
     "text": [
      "Iteration 0: 100%|██████████| 50/50 [00:01<00:00, 42.47it/s, episode_return=50, return=24.600]\n",
      "Iteration 1: 100%|██████████| 50/50 [00:01<00:00, 39.20it/s, episode_return=100, return=29.500]\n",
      "Iteration 2: 100%|██████████| 50/50 [00:01<00:00, 27.96it/s, episode_return=150, return=49.100]\n",
      "Iteration 3: 100%|██████████| 50/50 [00:01<00:00, 27.44it/s, episode_return=200, return=33.900]\n",
      "Iteration 4: 100%|██████████| 50/50 [00:02<00:00, 22.46it/s, episode_return=250, return=66.700]\n",
      "Iteration 5: 100%|██████████| 50/50 [00:02<00:00, 17.47it/s, episode_return=300, return=86.600]\n",
      "Iteration 6: 100%|██████████| 50/50 [00:03<00:00, 13.41it/s, episode_return=350, return=89.400] \n",
      "Iteration 7: 100%|██████████| 50/50 [00:04<00:00, 10.33it/s, episode_return=400, return=125.500]\n",
      "Iteration 8: 100%|██████████| 50/50 [00:07<00:00,  6.91it/s, episode_return=450, return=175.200]\n",
      "Iteration 9: 100%|██████████| 50/50 [00:08<00:00,  5.56it/s, episode_return=500, return=212.300]\n"
     ]
    },
    {
     "data": {
      "application/vnd.jupyter.widget-view+json": {
       "model_id": "d52d54193d5c4bb2bd7b285aa033eb2f",
       "version_major": 2,
       "version_minor": 0
      },
      "text/plain": [
       "VBox(children=(Label(value='0.001 MB of 0.007 MB uploaded\\r'), FloatProgress(value=0.17054475773336983, max=1.…"
      ]
     },
     "metadata": {},
     "output_type": "display_data"
    },
    {
     "data": {
      "text/html": [
       "<style>\n",
       "    table.wandb td:nth-child(1) { padding: 0 10px; text-align: left ; width: auto;} td:nth-child(2) {text-align: left ; width: 100%}\n",
       "    .wandb-row { display: flex; flex-direction: row; flex-wrap: wrap; justify-content: flex-start; width: 100% }\n",
       "    .wandb-col { display: flex; flex-direction: column; flex-basis: 100%; flex: 1; padding: 10px; }\n",
       "    </style>\n",
       "<div class=\"wandb-row\"><div class=\"wandb-col\"><h3>Run history:</h3><br/><table class=\"wandb\"><tr><td>regret</td><td>▁</td></tr></table><br/></div><div class=\"wandb-col\"><h3>Run summary:</h3><br/><table class=\"wandb\"><tr><td>regret</td><td>64506.65149</td></tr></table><br/></div></div>"
      ],
      "text/plain": [
       "<IPython.core.display.HTML object>"
      ]
     },
     "metadata": {},
     "output_type": "display_data"
    },
    {
     "data": {
      "text/html": [
       " View run <strong style=\"color:#cdcd00\">faithful-sweep-66</strong> at: <a href='https://wandb.ai/rl_shobhith/uncategorized/runs/rb1vk7ih/workspace' target=\"_blank\">https://wandb.ai/rl_shobhith/uncategorized/runs/rb1vk7ih/workspace</a><br/>Synced 5 W&B file(s), 0 media file(s), 0 artifact file(s) and 0 other file(s)"
      ],
      "text/plain": [
       "<IPython.core.display.HTML object>"
      ]
     },
     "metadata": {},
     "output_type": "display_data"
    },
    {
     "data": {
      "text/html": [
       "Find logs at: <code>.\\wandb\\run-20240401_220953-rb1vk7ih\\logs</code>"
      ],
      "text/plain": [
       "<IPython.core.display.HTML object>"
      ]
     },
     "metadata": {},
     "output_type": "display_data"
    },
    {
     "name": "stderr",
     "output_type": "stream",
     "text": [
      "\u001b[34m\u001b[1mwandb\u001b[0m: Agent Starting Run: js0nhzxq with config:\n",
      "\u001b[34m\u001b[1mwandb\u001b[0m: \thidden_dim: 128\n",
      "\u001b[34m\u001b[1mwandb\u001b[0m: \tlearning_rate: 0.00033067403860493634\n",
      "Failed to detect the name of this notebook, you can set it manually with the WANDB_NOTEBOOK_NAME environment variable to enable code saving.\n"
     ]
    },
    {
     "data": {
      "text/html": [
       "Tracking run with wandb version 0.16.5"
      ],
      "text/plain": [
       "<IPython.core.display.HTML object>"
      ]
     },
     "metadata": {},
     "output_type": "display_data"
    },
    {
     "data": {
      "text/html": [
       "Run data is saved locally in <code>c:\\Users\\Shobhith Vadlamudi\\Desktop\\3rd Year\\SEM 6\\RL\\wandb\\run-20240401_221041-js0nhzxq</code>"
      ],
      "text/plain": [
       "<IPython.core.display.HTML object>"
      ]
     },
     "metadata": {},
     "output_type": "display_data"
    },
    {
     "data": {
      "text/html": [
       "Syncing run <strong><a href='https://wandb.ai/rl_shobhith/uncategorized/runs/js0nhzxq/workspace' target=\"_blank\">olive-sweep-67</a></strong> to <a href='https://wandb.ai/rl_shobhith/uncategorized' target=\"_blank\">Weights & Biases</a> (<a href='https://wandb.me/run' target=\"_blank\">docs</a>)<br/>Sweep page: <a href='https://wandb.ai/rl_shobhith/uncategorized/sweeps/ebygp3ca' target=\"_blank\">https://wandb.ai/rl_shobhith/uncategorized/sweeps/ebygp3ca</a>"
      ],
      "text/plain": [
       "<IPython.core.display.HTML object>"
      ]
     },
     "metadata": {},
     "output_type": "display_data"
    },
    {
     "data": {
      "text/html": [
       " View project at <a href='https://wandb.ai/rl_shobhith/uncategorized' target=\"_blank\">https://wandb.ai/rl_shobhith/uncategorized</a>"
      ],
      "text/plain": [
       "<IPython.core.display.HTML object>"
      ]
     },
     "metadata": {},
     "output_type": "display_data"
    },
    {
     "data": {
      "text/html": [
       " View sweep at <a href='https://wandb.ai/rl_shobhith/uncategorized/sweeps/ebygp3ca' target=\"_blank\">https://wandb.ai/rl_shobhith/uncategorized/sweeps/ebygp3ca</a>"
      ],
      "text/plain": [
       "<IPython.core.display.HTML object>"
      ]
     },
     "metadata": {},
     "output_type": "display_data"
    },
    {
     "data": {
      "text/html": [
       " View run at <a href='https://wandb.ai/rl_shobhith/uncategorized/runs/js0nhzxq/workspace' target=\"_blank\">https://wandb.ai/rl_shobhith/uncategorized/runs/js0nhzxq/workspace</a>"
      ],
      "text/plain": [
       "<IPython.core.display.HTML object>"
      ]
     },
     "metadata": {},
     "output_type": "display_data"
    },
    {
     "name": "stderr",
     "output_type": "stream",
     "text": [
      "Iteration 0: 100%|██████████| 50/50 [00:00<00:00, 50.49it/s, episode_return=50, return=29.600]\n",
      "Iteration 1: 100%|██████████| 50/50 [00:01<00:00, 37.02it/s, episode_return=100, return=31.100]\n",
      "Iteration 2: 100%|██████████| 50/50 [00:01<00:00, 40.58it/s, episode_return=150, return=35.100]\n",
      "Iteration 3: 100%|██████████| 50/50 [00:01<00:00, 39.64it/s, episode_return=200, return=42.500]\n",
      "Iteration 4: 100%|██████████| 50/50 [00:01<00:00, 36.05it/s, episode_return=250, return=38.800]\n",
      "Iteration 5: 100%|██████████| 50/50 [00:01<00:00, 30.03it/s, episode_return=300, return=47.900]\n",
      "Iteration 6: 100%|██████████| 50/50 [00:01<00:00, 28.87it/s, episode_return=350, return=46.000]\n",
      "Iteration 7: 100%|██████████| 50/50 [00:01<00:00, 26.51it/s, episode_return=400, return=69.600]\n",
      "Iteration 8: 100%|██████████| 50/50 [00:02<00:00, 23.04it/s, episode_return=450, return=53.800]\n",
      "Iteration 9: 100%|██████████| 50/50 [00:02<00:00, 18.00it/s, episode_return=500, return=74.800]\n"
     ]
    },
    {
     "data": {
      "application/vnd.jupyter.widget-view+json": {
       "model_id": "bf351be8850141398c19b95b40f73c23",
       "version_major": 2,
       "version_minor": 0
      },
      "text/plain": [
       "VBox(children=(Label(value='0.001 MB of 0.001 MB uploaded\\r'), FloatProgress(value=1.0, max=1.0)))"
      ]
     },
     "metadata": {},
     "output_type": "display_data"
    },
    {
     "data": {
      "text/html": [
       "<style>\n",
       "    table.wandb td:nth-child(1) { padding: 0 10px; text-align: left ; width: auto;} td:nth-child(2) {text-align: left ; width: 100%}\n",
       "    .wandb-row { display: flex; flex-direction: row; flex-wrap: wrap; justify-content: flex-start; width: 100% }\n",
       "    .wandb-col { display: flex; flex-direction: column; flex-basis: 100%; flex: 1; padding: 10px; }\n",
       "    </style>\n",
       "<div class=\"wandb-row\"><div class=\"wandb-col\"><h3>Run history:</h3><br/><table class=\"wandb\"><tr><td>regret</td><td>▁</td></tr></table><br/></div><div class=\"wandb-col\"><h3>Run summary:</h3><br/><table class=\"wandb\"><tr><td>regret</td><td>78887.0459</td></tr></table><br/></div></div>"
      ],
      "text/plain": [
       "<IPython.core.display.HTML object>"
      ]
     },
     "metadata": {},
     "output_type": "display_data"
    },
    {
     "data": {
      "text/html": [
       " View run <strong style=\"color:#cdcd00\">olive-sweep-67</strong> at: <a href='https://wandb.ai/rl_shobhith/uncategorized/runs/js0nhzxq/workspace' target=\"_blank\">https://wandb.ai/rl_shobhith/uncategorized/runs/js0nhzxq/workspace</a><br/>Synced 5 W&B file(s), 0 media file(s), 0 artifact file(s) and 0 other file(s)"
      ],
      "text/plain": [
       "<IPython.core.display.HTML object>"
      ]
     },
     "metadata": {},
     "output_type": "display_data"
    },
    {
     "data": {
      "text/html": [
       "Find logs at: <code>.\\wandb\\run-20240401_221041-js0nhzxq\\logs</code>"
      ],
      "text/plain": [
       "<IPython.core.display.HTML object>"
      ]
     },
     "metadata": {},
     "output_type": "display_data"
    },
    {
     "name": "stderr",
     "output_type": "stream",
     "text": [
      "\u001b[34m\u001b[1mwandb\u001b[0m: Agent Starting Run: z3qm2i9m with config:\n",
      "\u001b[34m\u001b[1mwandb\u001b[0m: \thidden_dim: 256\n",
      "\u001b[34m\u001b[1mwandb\u001b[0m: \tlearning_rate: 0.0009140919351741104\n",
      "Failed to detect the name of this notebook, you can set it manually with the WANDB_NOTEBOOK_NAME environment variable to enable code saving.\n"
     ]
    },
    {
     "data": {
      "text/html": [
       "Tracking run with wandb version 0.16.5"
      ],
      "text/plain": [
       "<IPython.core.display.HTML object>"
      ]
     },
     "metadata": {},
     "output_type": "display_data"
    },
    {
     "data": {
      "text/html": [
       "Run data is saved locally in <code>c:\\Users\\Shobhith Vadlamudi\\Desktop\\3rd Year\\SEM 6\\RL\\wandb\\run-20240401_221112-z3qm2i9m</code>"
      ],
      "text/plain": [
       "<IPython.core.display.HTML object>"
      ]
     },
     "metadata": {},
     "output_type": "display_data"
    },
    {
     "data": {
      "text/html": [
       "Syncing run <strong><a href='https://wandb.ai/rl_shobhith/uncategorized/runs/z3qm2i9m/workspace' target=\"_blank\">avid-sweep-68</a></strong> to <a href='https://wandb.ai/rl_shobhith/uncategorized' target=\"_blank\">Weights & Biases</a> (<a href='https://wandb.me/run' target=\"_blank\">docs</a>)<br/>Sweep page: <a href='https://wandb.ai/rl_shobhith/uncategorized/sweeps/ebygp3ca' target=\"_blank\">https://wandb.ai/rl_shobhith/uncategorized/sweeps/ebygp3ca</a>"
      ],
      "text/plain": [
       "<IPython.core.display.HTML object>"
      ]
     },
     "metadata": {},
     "output_type": "display_data"
    },
    {
     "data": {
      "text/html": [
       " View project at <a href='https://wandb.ai/rl_shobhith/uncategorized' target=\"_blank\">https://wandb.ai/rl_shobhith/uncategorized</a>"
      ],
      "text/plain": [
       "<IPython.core.display.HTML object>"
      ]
     },
     "metadata": {},
     "output_type": "display_data"
    },
    {
     "data": {
      "text/html": [
       " View sweep at <a href='https://wandb.ai/rl_shobhith/uncategorized/sweeps/ebygp3ca' target=\"_blank\">https://wandb.ai/rl_shobhith/uncategorized/sweeps/ebygp3ca</a>"
      ],
      "text/plain": [
       "<IPython.core.display.HTML object>"
      ]
     },
     "metadata": {},
     "output_type": "display_data"
    },
    {
     "data": {
      "text/html": [
       " View run at <a href='https://wandb.ai/rl_shobhith/uncategorized/runs/z3qm2i9m/workspace' target=\"_blank\">https://wandb.ai/rl_shobhith/uncategorized/runs/z3qm2i9m/workspace</a>"
      ],
      "text/plain": [
       "<IPython.core.display.HTML object>"
      ]
     },
     "metadata": {},
     "output_type": "display_data"
    },
    {
     "name": "stderr",
     "output_type": "stream",
     "text": [
      "Iteration 0: 100%|██████████| 50/50 [00:01<00:00, 36.46it/s, episode_return=50, return=38.400]\n",
      "Iteration 1: 100%|██████████| 50/50 [00:02<00:00, 23.73it/s, episode_return=100, return=50.200]\n",
      "Iteration 2: 100%|██████████| 50/50 [00:03<00:00, 15.39it/s, episode_return=150, return=114.200]\n",
      "Iteration 3: 100%|██████████| 50/50 [00:07<00:00,  6.70it/s, episode_return=200, return=232.700]\n",
      "Iteration 4: 100%|██████████| 50/50 [00:07<00:00,  6.77it/s, episode_return=250, return=159.800]\n",
      "Iteration 5: 100%|██████████| 50/50 [00:08<00:00,  5.99it/s, episode_return=300, return=203.200]\n",
      "Iteration 6: 100%|██████████| 50/50 [00:09<00:00,  5.11it/s, episode_return=350, return=310.000]\n",
      "Iteration 7: 100%|██████████| 50/50 [00:14<00:00,  3.37it/s, episode_return=400, return=436.100]\n",
      "Iteration 8: 100%|██████████| 50/50 [00:14<00:00,  3.55it/s, episode_return=450, return=258.400]\n",
      "Iteration 9: 100%|██████████| 50/50 [00:14<00:00,  3.52it/s, episode_return=500, return=343.000]\n"
     ]
    },
    {
     "data": {
      "application/vnd.jupyter.widget-view+json": {
       "model_id": "cc17b93c803443f28b6e6cb052db7358",
       "version_major": 2,
       "version_minor": 0
      },
      "text/plain": [
       "VBox(children=(Label(value='0.001 MB of 0.001 MB uploaded\\r'), FloatProgress(value=1.0, max=1.0)))"
      ]
     },
     "metadata": {},
     "output_type": "display_data"
    },
    {
     "data": {
      "text/html": [
       "<style>\n",
       "    table.wandb td:nth-child(1) { padding: 0 10px; text-align: left ; width: auto;} td:nth-child(2) {text-align: left ; width: 100%}\n",
       "    .wandb-row { display: flex; flex-direction: row; flex-wrap: wrap; justify-content: flex-start; width: 100% }\n",
       "    .wandb-col { display: flex; flex-direction: column; flex-basis: 100%; flex: 1; padding: 10px; }\n",
       "    </style>\n",
       "<div class=\"wandb-row\"><div class=\"wandb-col\"><h3>Run history:</h3><br/><table class=\"wandb\"><tr><td>regret</td><td>▁</td></tr></table><br/></div><div class=\"wandb-col\"><h3>Run summary:</h3><br/><table class=\"wandb\"><tr><td>regret</td><td>28525.93294</td></tr></table><br/></div></div>"
      ],
      "text/plain": [
       "<IPython.core.display.HTML object>"
      ]
     },
     "metadata": {},
     "output_type": "display_data"
    },
    {
     "data": {
      "text/html": [
       " View run <strong style=\"color:#cdcd00\">avid-sweep-68</strong> at: <a href='https://wandb.ai/rl_shobhith/uncategorized/runs/z3qm2i9m/workspace' target=\"_blank\">https://wandb.ai/rl_shobhith/uncategorized/runs/z3qm2i9m/workspace</a><br/>Synced 5 W&B file(s), 0 media file(s), 0 artifact file(s) and 0 other file(s)"
      ],
      "text/plain": [
       "<IPython.core.display.HTML object>"
      ]
     },
     "metadata": {},
     "output_type": "display_data"
    },
    {
     "data": {
      "text/html": [
       "Find logs at: <code>.\\wandb\\run-20240401_221112-z3qm2i9m\\logs</code>"
      ],
      "text/plain": [
       "<IPython.core.display.HTML object>"
      ]
     },
     "metadata": {},
     "output_type": "display_data"
    },
    {
     "name": "stderr",
     "output_type": "stream",
     "text": [
      "\u001b[34m\u001b[1mwandb\u001b[0m: Agent Starting Run: jxr87o6u with config:\n",
      "\u001b[34m\u001b[1mwandb\u001b[0m: \thidden_dim: 128\n",
      "\u001b[34m\u001b[1mwandb\u001b[0m: \tlearning_rate: 0.00036876341011009674\n",
      "Failed to detect the name of this notebook, you can set it manually with the WANDB_NOTEBOOK_NAME environment variable to enable code saving.\n"
     ]
    },
    {
     "data": {
      "text/html": [
       "Tracking run with wandb version 0.16.5"
      ],
      "text/plain": [
       "<IPython.core.display.HTML object>"
      ]
     },
     "metadata": {},
     "output_type": "display_data"
    },
    {
     "data": {
      "text/html": [
       "Run data is saved locally in <code>c:\\Users\\Shobhith Vadlamudi\\Desktop\\3rd Year\\SEM 6\\RL\\wandb\\run-20240401_221249-jxr87o6u</code>"
      ],
      "text/plain": [
       "<IPython.core.display.HTML object>"
      ]
     },
     "metadata": {},
     "output_type": "display_data"
    },
    {
     "data": {
      "text/html": [
       "Syncing run <strong><a href='https://wandb.ai/rl_shobhith/uncategorized/runs/jxr87o6u/workspace' target=\"_blank\">comic-sweep-69</a></strong> to <a href='https://wandb.ai/rl_shobhith/uncategorized' target=\"_blank\">Weights & Biases</a> (<a href='https://wandb.me/run' target=\"_blank\">docs</a>)<br/>Sweep page: <a href='https://wandb.ai/rl_shobhith/uncategorized/sweeps/ebygp3ca' target=\"_blank\">https://wandb.ai/rl_shobhith/uncategorized/sweeps/ebygp3ca</a>"
      ],
      "text/plain": [
       "<IPython.core.display.HTML object>"
      ]
     },
     "metadata": {},
     "output_type": "display_data"
    },
    {
     "data": {
      "text/html": [
       " View project at <a href='https://wandb.ai/rl_shobhith/uncategorized' target=\"_blank\">https://wandb.ai/rl_shobhith/uncategorized</a>"
      ],
      "text/plain": [
       "<IPython.core.display.HTML object>"
      ]
     },
     "metadata": {},
     "output_type": "display_data"
    },
    {
     "data": {
      "text/html": [
       " View sweep at <a href='https://wandb.ai/rl_shobhith/uncategorized/sweeps/ebygp3ca' target=\"_blank\">https://wandb.ai/rl_shobhith/uncategorized/sweeps/ebygp3ca</a>"
      ],
      "text/plain": [
       "<IPython.core.display.HTML object>"
      ]
     },
     "metadata": {},
     "output_type": "display_data"
    },
    {
     "data": {
      "text/html": [
       " View run at <a href='https://wandb.ai/rl_shobhith/uncategorized/runs/jxr87o6u/workspace' target=\"_blank\">https://wandb.ai/rl_shobhith/uncategorized/runs/jxr87o6u/workspace</a>"
      ],
      "text/plain": [
       "<IPython.core.display.HTML object>"
      ]
     },
     "metadata": {},
     "output_type": "display_data"
    },
    {
     "name": "stderr",
     "output_type": "stream",
     "text": [
      "Iteration 0: 100%|██████████| 50/50 [00:00<00:00, 52.48it/s, episode_return=50, return=23.600]\n",
      "Iteration 1: 100%|██████████| 50/50 [00:00<00:00, 53.93it/s, episode_return=100, return=22.900]\n",
      "Iteration 2: 100%|██████████| 50/50 [00:01<00:00, 48.28it/s, episode_return=150, return=29.300]\n",
      "Iteration 3: 100%|██████████| 50/50 [00:01<00:00, 42.15it/s, episode_return=200, return=28.200]\n",
      "Iteration 4: 100%|██████████| 50/50 [00:01<00:00, 30.50it/s, episode_return=250, return=47.700]\n",
      "Iteration 5: 100%|██████████| 50/50 [00:01<00:00, 30.32it/s, episode_return=300, return=46.900]\n",
      "Iteration 6: 100%|██████████| 50/50 [00:01<00:00, 27.16it/s, episode_return=350, return=49.700]\n",
      "Iteration 7: 100%|██████████| 50/50 [00:02<00:00, 23.83it/s, episode_return=400, return=67.900]\n",
      "Iteration 8: 100%|██████████| 50/50 [00:02<00:00, 21.73it/s, episode_return=450, return=61.400]\n",
      "Iteration 9: 100%|██████████| 50/50 [00:02<00:00, 19.27it/s, episode_return=500, return=71.600]\n"
     ]
    },
    {
     "data": {
      "application/vnd.jupyter.widget-view+json": {
       "model_id": "3407ecbf8f3b4776a53d289ffc0b827c",
       "version_major": 2,
       "version_minor": 0
      },
      "text/plain": [
       "VBox(children=(Label(value='0.001 MB of 0.001 MB uploaded\\r'), FloatProgress(value=1.0, max=1.0)))"
      ]
     },
     "metadata": {},
     "output_type": "display_data"
    },
    {
     "data": {
      "text/html": [
       "<style>\n",
       "    table.wandb td:nth-child(1) { padding: 0 10px; text-align: left ; width: auto;} td:nth-child(2) {text-align: left ; width: 100%}\n",
       "    .wandb-row { display: flex; flex-direction: row; flex-wrap: wrap; justify-content: flex-start; width: 100% }\n",
       "    .wandb-col { display: flex; flex-direction: column; flex-basis: 100%; flex: 1; padding: 10px; }\n",
       "    </style>\n",
       "<div class=\"wandb-row\"><div class=\"wandb-col\"><h3>Run history:</h3><br/><table class=\"wandb\"><tr><td>regret</td><td>▁</td></tr></table><br/></div><div class=\"wandb-col\"><h3>Run summary:</h3><br/><table class=\"wandb\"><tr><td>regret</td><td>78503.62099</td></tr></table><br/></div></div>"
      ],
      "text/plain": [
       "<IPython.core.display.HTML object>"
      ]
     },
     "metadata": {},
     "output_type": "display_data"
    },
    {
     "data": {
      "text/html": [
       " View run <strong style=\"color:#cdcd00\">comic-sweep-69</strong> at: <a href='https://wandb.ai/rl_shobhith/uncategorized/runs/jxr87o6u/workspace' target=\"_blank\">https://wandb.ai/rl_shobhith/uncategorized/runs/jxr87o6u/workspace</a><br/>Synced 5 W&B file(s), 0 media file(s), 0 artifact file(s) and 0 other file(s)"
      ],
      "text/plain": [
       "<IPython.core.display.HTML object>"
      ]
     },
     "metadata": {},
     "output_type": "display_data"
    },
    {
     "data": {
      "text/html": [
       "Find logs at: <code>.\\wandb\\run-20240401_221249-jxr87o6u\\logs</code>"
      ],
      "text/plain": [
       "<IPython.core.display.HTML object>"
      ]
     },
     "metadata": {},
     "output_type": "display_data"
    },
    {
     "name": "stderr",
     "output_type": "stream",
     "text": [
      "\u001b[34m\u001b[1mwandb\u001b[0m: Sweep Agent: Waiting for job.\n",
      "\u001b[34m\u001b[1mwandb\u001b[0m: Job received.\n",
      "\u001b[34m\u001b[1mwandb\u001b[0m: Agent Starting Run: t9y833m7 with config:\n",
      "\u001b[34m\u001b[1mwandb\u001b[0m: \thidden_dim: 64\n",
      "\u001b[34m\u001b[1mwandb\u001b[0m: \tlearning_rate: 0.0009922857810341034\n",
      "Failed to detect the name of this notebook, you can set it manually with the WANDB_NOTEBOOK_NAME environment variable to enable code saving.\n"
     ]
    },
    {
     "data": {
      "text/html": [
       "Tracking run with wandb version 0.16.5"
      ],
      "text/plain": [
       "<IPython.core.display.HTML object>"
      ]
     },
     "metadata": {},
     "output_type": "display_data"
    },
    {
     "data": {
      "text/html": [
       "Run data is saved locally in <code>c:\\Users\\Shobhith Vadlamudi\\Desktop\\3rd Year\\SEM 6\\RL\\wandb\\run-20240401_221327-t9y833m7</code>"
      ],
      "text/plain": [
       "<IPython.core.display.HTML object>"
      ]
     },
     "metadata": {},
     "output_type": "display_data"
    },
    {
     "data": {
      "text/html": [
       "Syncing run <strong><a href='https://wandb.ai/rl_shobhith/uncategorized/runs/t9y833m7/workspace' target=\"_blank\">toasty-sweep-70</a></strong> to <a href='https://wandb.ai/rl_shobhith/uncategorized' target=\"_blank\">Weights & Biases</a> (<a href='https://wandb.me/run' target=\"_blank\">docs</a>)<br/>Sweep page: <a href='https://wandb.ai/rl_shobhith/uncategorized/sweeps/ebygp3ca' target=\"_blank\">https://wandb.ai/rl_shobhith/uncategorized/sweeps/ebygp3ca</a>"
      ],
      "text/plain": [
       "<IPython.core.display.HTML object>"
      ]
     },
     "metadata": {},
     "output_type": "display_data"
    },
    {
     "data": {
      "text/html": [
       " View project at <a href='https://wandb.ai/rl_shobhith/uncategorized' target=\"_blank\">https://wandb.ai/rl_shobhith/uncategorized</a>"
      ],
      "text/plain": [
       "<IPython.core.display.HTML object>"
      ]
     },
     "metadata": {},
     "output_type": "display_data"
    },
    {
     "data": {
      "text/html": [
       " View sweep at <a href='https://wandb.ai/rl_shobhith/uncategorized/sweeps/ebygp3ca' target=\"_blank\">https://wandb.ai/rl_shobhith/uncategorized/sweeps/ebygp3ca</a>"
      ],
      "text/plain": [
       "<IPython.core.display.HTML object>"
      ]
     },
     "metadata": {},
     "output_type": "display_data"
    },
    {
     "data": {
      "text/html": [
       " View run at <a href='https://wandb.ai/rl_shobhith/uncategorized/runs/t9y833m7/workspace' target=\"_blank\">https://wandb.ai/rl_shobhith/uncategorized/runs/t9y833m7/workspace</a>"
      ],
      "text/plain": [
       "<IPython.core.display.HTML object>"
      ]
     },
     "metadata": {},
     "output_type": "display_data"
    },
    {
     "name": "stderr",
     "output_type": "stream",
     "text": [
      "Iteration 0: 100%|██████████| 50/50 [00:00<00:00, 57.28it/s, episode_return=50, return=23.000]\n",
      "Iteration 1: 100%|██████████| 50/50 [00:01<00:00, 32.77it/s, episode_return=100, return=38.800]\n",
      "Iteration 2: 100%|██████████| 50/50 [00:01<00:00, 25.17it/s, episode_return=150, return=48.600]\n",
      "Iteration 3: 100%|██████████| 50/50 [00:02<00:00, 19.10it/s, episode_return=200, return=70.500]\n",
      "Iteration 4: 100%|██████████| 50/50 [00:02<00:00, 19.79it/s, episode_return=250, return=47.400]\n",
      "Iteration 5: 100%|██████████| 50/50 [00:04<00:00, 11.74it/s, episode_return=300, return=124.100]\n",
      "Iteration 6: 100%|██████████| 50/50 [00:06<00:00,  7.66it/s, episode_return=350, return=165.300]\n",
      "Iteration 7: 100%|██████████| 50/50 [00:08<00:00,  6.15it/s, episode_return=400, return=317.000]\n",
      "Iteration 8: 100%|██████████| 50/50 [00:09<00:00,  5.15it/s, episode_return=450, return=236.800]\n",
      "Iteration 9: 100%|██████████| 50/50 [00:09<00:00,  5.21it/s, episode_return=500, return=231.800]\n"
     ]
    },
    {
     "data": {
      "application/vnd.jupyter.widget-view+json": {
       "model_id": "9cdc0beb750243998afd7c034f036729",
       "version_major": 2,
       "version_minor": 0
      },
      "text/plain": [
       "VBox(children=(Label(value='0.001 MB of 0.007 MB uploaded\\r'), FloatProgress(value=0.16720386784850927, max=1.…"
      ]
     },
     "metadata": {},
     "output_type": "display_data"
    },
    {
     "data": {
      "text/html": [
       "<style>\n",
       "    table.wandb td:nth-child(1) { padding: 0 10px; text-align: left ; width: auto;} td:nth-child(2) {text-align: left ; width: 100%}\n",
       "    .wandb-row { display: flex; flex-direction: row; flex-wrap: wrap; justify-content: flex-start; width: 100% }\n",
       "    .wandb-col { display: flex; flex-direction: column; flex-basis: 100%; flex: 1; padding: 10px; }\n",
       "    </style>\n",
       "<div class=\"wandb-row\"><div class=\"wandb-col\"><h3>Run history:</h3><br/><table class=\"wandb\"><tr><td>regret</td><td>▁</td></tr></table><br/></div><div class=\"wandb-col\"><h3>Run summary:</h3><br/><table class=\"wandb\"><tr><td>regret</td><td>52123.51002</td></tr></table><br/></div></div>"
      ],
      "text/plain": [
       "<IPython.core.display.HTML object>"
      ]
     },
     "metadata": {},
     "output_type": "display_data"
    },
    {
     "data": {
      "text/html": [
       " View run <strong style=\"color:#cdcd00\">toasty-sweep-70</strong> at: <a href='https://wandb.ai/rl_shobhith/uncategorized/runs/t9y833m7/workspace' target=\"_blank\">https://wandb.ai/rl_shobhith/uncategorized/runs/t9y833m7/workspace</a><br/>Synced 5 W&B file(s), 0 media file(s), 0 artifact file(s) and 0 other file(s)"
      ],
      "text/plain": [
       "<IPython.core.display.HTML object>"
      ]
     },
     "metadata": {},
     "output_type": "display_data"
    },
    {
     "data": {
      "text/html": [
       "Find logs at: <code>.\\wandb\\run-20240401_221327-t9y833m7\\logs</code>"
      ],
      "text/plain": [
       "<IPython.core.display.HTML object>"
      ]
     },
     "metadata": {},
     "output_type": "display_data"
    },
    {
     "name": "stderr",
     "output_type": "stream",
     "text": [
      "\u001b[34m\u001b[1mwandb\u001b[0m: Agent Starting Run: on2i5xqr with config:\n",
      "\u001b[34m\u001b[1mwandb\u001b[0m: \thidden_dim: 256\n",
      "\u001b[34m\u001b[1mwandb\u001b[0m: \tlearning_rate: 0.0005539997783668911\n",
      "Failed to detect the name of this notebook, you can set it manually with the WANDB_NOTEBOOK_NAME environment variable to enable code saving.\n"
     ]
    },
    {
     "data": {
      "application/vnd.jupyter.widget-view+json": {
       "model_id": "17cf0fa1b6e4439aafe2ac5cd3e403ad",
       "version_major": 2,
       "version_minor": 0
      },
      "text/plain": [
       "VBox(children=(Label(value='Waiting for wandb.init()...\\r'), FloatProgress(value=0.011111111111111112, max=1.0…"
      ]
     },
     "metadata": {},
     "output_type": "display_data"
    },
    {
     "data": {
      "text/html": [
       "Tracking run with wandb version 0.16.5"
      ],
      "text/plain": [
       "<IPython.core.display.HTML object>"
      ]
     },
     "metadata": {},
     "output_type": "display_data"
    },
    {
     "data": {
      "text/html": [
       "Run data is saved locally in <code>c:\\Users\\Shobhith Vadlamudi\\Desktop\\3rd Year\\SEM 6\\RL\\wandb\\run-20240401_221425-on2i5xqr</code>"
      ],
      "text/plain": [
       "<IPython.core.display.HTML object>"
      ]
     },
     "metadata": {},
     "output_type": "display_data"
    },
    {
     "data": {
      "text/html": [
       "Syncing run <strong><a href='https://wandb.ai/rl_shobhith/uncategorized/runs/on2i5xqr/workspace' target=\"_blank\">lemon-sweep-71</a></strong> to <a href='https://wandb.ai/rl_shobhith/uncategorized' target=\"_blank\">Weights & Biases</a> (<a href='https://wandb.me/run' target=\"_blank\">docs</a>)<br/>Sweep page: <a href='https://wandb.ai/rl_shobhith/uncategorized/sweeps/ebygp3ca' target=\"_blank\">https://wandb.ai/rl_shobhith/uncategorized/sweeps/ebygp3ca</a>"
      ],
      "text/plain": [
       "<IPython.core.display.HTML object>"
      ]
     },
     "metadata": {},
     "output_type": "display_data"
    },
    {
     "data": {
      "text/html": [
       " View project at <a href='https://wandb.ai/rl_shobhith/uncategorized' target=\"_blank\">https://wandb.ai/rl_shobhith/uncategorized</a>"
      ],
      "text/plain": [
       "<IPython.core.display.HTML object>"
      ]
     },
     "metadata": {},
     "output_type": "display_data"
    },
    {
     "data": {
      "text/html": [
       " View sweep at <a href='https://wandb.ai/rl_shobhith/uncategorized/sweeps/ebygp3ca' target=\"_blank\">https://wandb.ai/rl_shobhith/uncategorized/sweeps/ebygp3ca</a>"
      ],
      "text/plain": [
       "<IPython.core.display.HTML object>"
      ]
     },
     "metadata": {},
     "output_type": "display_data"
    },
    {
     "data": {
      "text/html": [
       " View run at <a href='https://wandb.ai/rl_shobhith/uncategorized/runs/on2i5xqr/workspace' target=\"_blank\">https://wandb.ai/rl_shobhith/uncategorized/runs/on2i5xqr/workspace</a>"
      ],
      "text/plain": [
       "<IPython.core.display.HTML object>"
      ]
     },
     "metadata": {},
     "output_type": "display_data"
    },
    {
     "name": "stderr",
     "output_type": "stream",
     "text": [
      "Iteration 0: 100%|██████████| 50/50 [00:00<00:00, 51.43it/s, episode_return=50, return=37.100]\n",
      "Iteration 1: 100%|██████████| 50/50 [00:01<00:00, 32.20it/s, episode_return=100, return=47.200]\n",
      "Iteration 2: 100%|██████████| 50/50 [00:02<00:00, 21.02it/s, episode_return=150, return=74.100]\n",
      "Iteration 3: 100%|██████████| 50/50 [00:03<00:00, 12.53it/s, episode_return=200, return=121.700]\n",
      "Iteration 4: 100%|██████████| 50/50 [00:05<00:00,  8.41it/s, episode_return=250, return=222.900]\n",
      "Iteration 5: 100%|██████████| 50/50 [00:05<00:00,  9.01it/s, episode_return=300, return=193.300]\n",
      "Iteration 6: 100%|██████████| 50/50 [00:06<00:00,  7.68it/s, episode_return=350, return=158.400]\n",
      "Iteration 7: 100%|██████████| 50/50 [00:06<00:00,  7.35it/s, episode_return=400, return=257.000]\n",
      "Iteration 8: 100%|██████████| 50/50 [00:08<00:00,  6.25it/s, episode_return=450, return=173.300]\n",
      "Iteration 9: 100%|██████████| 50/50 [00:05<00:00,  9.36it/s, episode_return=500, return=185.000]\n"
     ]
    },
    {
     "data": {
      "application/vnd.jupyter.widget-view+json": {
       "model_id": "04e7b5a20e0b447790c034c03cb791a4",
       "version_major": 2,
       "version_minor": 0
      },
      "text/plain": [
       "VBox(children=(Label(value='0.001 MB of 0.001 MB uploaded\\r'), FloatProgress(value=1.0, max=1.0)))"
      ]
     },
     "metadata": {},
     "output_type": "display_data"
    },
    {
     "data": {
      "text/html": [
       "<style>\n",
       "    table.wandb td:nth-child(1) { padding: 0 10px; text-align: left ; width: auto;} td:nth-child(2) {text-align: left ; width: 100%}\n",
       "    .wandb-row { display: flex; flex-direction: row; flex-wrap: wrap; justify-content: flex-start; width: 100% }\n",
       "    .wandb-col { display: flex; flex-direction: column; flex-basis: 100%; flex: 1; padding: 10px; }\n",
       "    </style>\n",
       "<div class=\"wandb-row\"><div class=\"wandb-col\"><h3>Run history:</h3><br/><table class=\"wandb\"><tr><td>regret</td><td>▁</td></tr></table><br/></div><div class=\"wandb-col\"><h3>Run summary:</h3><br/><table class=\"wandb\"><tr><td>regret</td><td>34295.26396</td></tr></table><br/></div></div>"
      ],
      "text/plain": [
       "<IPython.core.display.HTML object>"
      ]
     },
     "metadata": {},
     "output_type": "display_data"
    },
    {
     "data": {
      "text/html": [
       " View run <strong style=\"color:#cdcd00\">lemon-sweep-71</strong> at: <a href='https://wandb.ai/rl_shobhith/uncategorized/runs/on2i5xqr/workspace' target=\"_blank\">https://wandb.ai/rl_shobhith/uncategorized/runs/on2i5xqr/workspace</a><br/>Synced 5 W&B file(s), 0 media file(s), 0 artifact file(s) and 0 other file(s)"
      ],
      "text/plain": [
       "<IPython.core.display.HTML object>"
      ]
     },
     "metadata": {},
     "output_type": "display_data"
    },
    {
     "data": {
      "text/html": [
       "Find logs at: <code>.\\wandb\\run-20240401_221425-on2i5xqr\\logs</code>"
      ],
      "text/plain": [
       "<IPython.core.display.HTML object>"
      ]
     },
     "metadata": {},
     "output_type": "display_data"
    },
    {
     "name": "stderr",
     "output_type": "stream",
     "text": [
      "\u001b[34m\u001b[1mwandb\u001b[0m: Sweep Agent: Waiting for job.\n",
      "\u001b[34m\u001b[1mwandb\u001b[0m: Job received.\n",
      "\u001b[34m\u001b[1mwandb\u001b[0m: Agent Starting Run: xtbwoj77 with config:\n",
      "\u001b[34m\u001b[1mwandb\u001b[0m: \thidden_dim: 256\n",
      "\u001b[34m\u001b[1mwandb\u001b[0m: \tlearning_rate: 0.0004228905565675447\n",
      "Failed to detect the name of this notebook, you can set it manually with the WANDB_NOTEBOOK_NAME environment variable to enable code saving.\n"
     ]
    },
    {
     "data": {
      "text/html": [
       "Tracking run with wandb version 0.16.5"
      ],
      "text/plain": [
       "<IPython.core.display.HTML object>"
      ]
     },
     "metadata": {},
     "output_type": "display_data"
    },
    {
     "data": {
      "text/html": [
       "Run data is saved locally in <code>c:\\Users\\Shobhith Vadlamudi\\Desktop\\3rd Year\\SEM 6\\RL\\wandb\\run-20240401_221535-xtbwoj77</code>"
      ],
      "text/plain": [
       "<IPython.core.display.HTML object>"
      ]
     },
     "metadata": {},
     "output_type": "display_data"
    },
    {
     "data": {
      "text/html": [
       "Syncing run <strong><a href='https://wandb.ai/rl_shobhith/uncategorized/runs/xtbwoj77/workspace' target=\"_blank\">radiant-sweep-72</a></strong> to <a href='https://wandb.ai/rl_shobhith/uncategorized' target=\"_blank\">Weights & Biases</a> (<a href='https://wandb.me/run' target=\"_blank\">docs</a>)<br/>Sweep page: <a href='https://wandb.ai/rl_shobhith/uncategorized/sweeps/ebygp3ca' target=\"_blank\">https://wandb.ai/rl_shobhith/uncategorized/sweeps/ebygp3ca</a>"
      ],
      "text/plain": [
       "<IPython.core.display.HTML object>"
      ]
     },
     "metadata": {},
     "output_type": "display_data"
    },
    {
     "data": {
      "text/html": [
       " View project at <a href='https://wandb.ai/rl_shobhith/uncategorized' target=\"_blank\">https://wandb.ai/rl_shobhith/uncategorized</a>"
      ],
      "text/plain": [
       "<IPython.core.display.HTML object>"
      ]
     },
     "metadata": {},
     "output_type": "display_data"
    },
    {
     "data": {
      "text/html": [
       " View sweep at <a href='https://wandb.ai/rl_shobhith/uncategorized/sweeps/ebygp3ca' target=\"_blank\">https://wandb.ai/rl_shobhith/uncategorized/sweeps/ebygp3ca</a>"
      ],
      "text/plain": [
       "<IPython.core.display.HTML object>"
      ]
     },
     "metadata": {},
     "output_type": "display_data"
    },
    {
     "data": {
      "text/html": [
       " View run at <a href='https://wandb.ai/rl_shobhith/uncategorized/runs/xtbwoj77/workspace' target=\"_blank\">https://wandb.ai/rl_shobhith/uncategorized/runs/xtbwoj77/workspace</a>"
      ],
      "text/plain": [
       "<IPython.core.display.HTML object>"
      ]
     },
     "metadata": {},
     "output_type": "display_data"
    },
    {
     "name": "stderr",
     "output_type": "stream",
     "text": [
      "Iteration 0: 100%|██████████| 50/50 [00:01<00:00, 47.02it/s, episode_return=50, return=37.700]\n",
      "Iteration 1: 100%|██████████| 50/50 [00:01<00:00, 31.51it/s, episode_return=100, return=58.700]\n",
      "Iteration 2: 100%|██████████| 50/50 [00:01<00:00, 27.86it/s, episode_return=150, return=63.200]\n",
      "Iteration 3: 100%|██████████| 50/50 [00:02<00:00, 23.11it/s, episode_return=200, return=67.000]\n",
      "Iteration 4: 100%|██████████| 50/50 [00:02<00:00, 17.79it/s, episode_return=250, return=82.100] \n",
      "Iteration 5: 100%|██████████| 50/50 [00:03<00:00, 12.94it/s, episode_return=300, return=142.800]\n",
      "Iteration 6: 100%|██████████| 50/50 [00:04<00:00, 10.53it/s, episode_return=350, return=165.700]\n",
      "Iteration 7: 100%|██████████| 50/50 [00:05<00:00,  8.35it/s, episode_return=400, return=169.300]\n",
      "Iteration 8: 100%|██████████| 50/50 [00:05<00:00,  8.59it/s, episode_return=450, return=185.700]\n",
      "Iteration 9: 100%|██████████| 50/50 [00:06<00:00,  7.74it/s, episode_return=500, return=248.100]\n"
     ]
    },
    {
     "data": {
      "application/vnd.jupyter.widget-view+json": {
       "model_id": "e0f1f2aabebb42928922be3f063b0bcc",
       "version_major": 2,
       "version_minor": 0
      },
      "text/plain": [
       "VBox(children=(Label(value='0.001 MB of 0.007 MB uploaded\\r'), FloatProgress(value=0.16753997044202606, max=1.…"
      ]
     },
     "metadata": {},
     "output_type": "display_data"
    },
    {
     "data": {
      "text/html": [
       "<style>\n",
       "    table.wandb td:nth-child(1) { padding: 0 10px; text-align: left ; width: auto;} td:nth-child(2) {text-align: left ; width: 100%}\n",
       "    .wandb-row { display: flex; flex-direction: row; flex-wrap: wrap; justify-content: flex-start; width: 100% }\n",
       "    .wandb-col { display: flex; flex-direction: column; flex-basis: 100%; flex: 1; padding: 10px; }\n",
       "    </style>\n",
       "<div class=\"wandb-row\"><div class=\"wandb-col\"><h3>Run history:</h3><br/><table class=\"wandb\"><tr><td>regret</td><td>▁</td></tr></table><br/></div><div class=\"wandb-col\"><h3>Run summary:</h3><br/><table class=\"wandb\"><tr><td>regret</td><td>50364.87272</td></tr></table><br/></div></div>"
      ],
      "text/plain": [
       "<IPython.core.display.HTML object>"
      ]
     },
     "metadata": {},
     "output_type": "display_data"
    },
    {
     "data": {
      "text/html": [
       " View run <strong style=\"color:#cdcd00\">radiant-sweep-72</strong> at: <a href='https://wandb.ai/rl_shobhith/uncategorized/runs/xtbwoj77/workspace' target=\"_blank\">https://wandb.ai/rl_shobhith/uncategorized/runs/xtbwoj77/workspace</a><br/>Synced 5 W&B file(s), 0 media file(s), 0 artifact file(s) and 0 other file(s)"
      ],
      "text/plain": [
       "<IPython.core.display.HTML object>"
      ]
     },
     "metadata": {},
     "output_type": "display_data"
    },
    {
     "data": {
      "text/html": [
       "Find logs at: <code>.\\wandb\\run-20240401_221535-xtbwoj77\\logs</code>"
      ],
      "text/plain": [
       "<IPython.core.display.HTML object>"
      ]
     },
     "metadata": {},
     "output_type": "display_data"
    },
    {
     "name": "stderr",
     "output_type": "stream",
     "text": [
      "\u001b[34m\u001b[1mwandb\u001b[0m: Agent Starting Run: ton63k0q with config:\n",
      "\u001b[34m\u001b[1mwandb\u001b[0m: \thidden_dim: 256\n",
      "\u001b[34m\u001b[1mwandb\u001b[0m: \tlearning_rate: 4.7371209838605094e-05\n",
      "Failed to detect the name of this notebook, you can set it manually with the WANDB_NOTEBOOK_NAME environment variable to enable code saving.\n"
     ]
    },
    {
     "data": {
      "text/html": [
       "Tracking run with wandb version 0.16.5"
      ],
      "text/plain": [
       "<IPython.core.display.HTML object>"
      ]
     },
     "metadata": {},
     "output_type": "display_data"
    },
    {
     "data": {
      "text/html": [
       "Run data is saved locally in <code>c:\\Users\\Shobhith Vadlamudi\\Desktop\\3rd Year\\SEM 6\\RL\\wandb\\run-20240401_221622-ton63k0q</code>"
      ],
      "text/plain": [
       "<IPython.core.display.HTML object>"
      ]
     },
     "metadata": {},
     "output_type": "display_data"
    },
    {
     "data": {
      "text/html": [
       "Syncing run <strong><a href='https://wandb.ai/rl_shobhith/uncategorized/runs/ton63k0q/workspace' target=\"_blank\">drawn-sweep-73</a></strong> to <a href='https://wandb.ai/rl_shobhith/uncategorized' target=\"_blank\">Weights & Biases</a> (<a href='https://wandb.me/run' target=\"_blank\">docs</a>)<br/>Sweep page: <a href='https://wandb.ai/rl_shobhith/uncategorized/sweeps/ebygp3ca' target=\"_blank\">https://wandb.ai/rl_shobhith/uncategorized/sweeps/ebygp3ca</a>"
      ],
      "text/plain": [
       "<IPython.core.display.HTML object>"
      ]
     },
     "metadata": {},
     "output_type": "display_data"
    },
    {
     "data": {
      "text/html": [
       " View project at <a href='https://wandb.ai/rl_shobhith/uncategorized' target=\"_blank\">https://wandb.ai/rl_shobhith/uncategorized</a>"
      ],
      "text/plain": [
       "<IPython.core.display.HTML object>"
      ]
     },
     "metadata": {},
     "output_type": "display_data"
    },
    {
     "data": {
      "text/html": [
       " View sweep at <a href='https://wandb.ai/rl_shobhith/uncategorized/sweeps/ebygp3ca' target=\"_blank\">https://wandb.ai/rl_shobhith/uncategorized/sweeps/ebygp3ca</a>"
      ],
      "text/plain": [
       "<IPython.core.display.HTML object>"
      ]
     },
     "metadata": {},
     "output_type": "display_data"
    },
    {
     "data": {
      "text/html": [
       " View run at <a href='https://wandb.ai/rl_shobhith/uncategorized/runs/ton63k0q/workspace' target=\"_blank\">https://wandb.ai/rl_shobhith/uncategorized/runs/ton63k0q/workspace</a>"
      ],
      "text/plain": [
       "<IPython.core.display.HTML object>"
      ]
     },
     "metadata": {},
     "output_type": "display_data"
    },
    {
     "name": "stderr",
     "output_type": "stream",
     "text": [
      "Iteration 0: 100%|██████████| 50/50 [00:00<00:00, 54.88it/s, episode_return=50, return=25.200]\n",
      "Iteration 1: 100%|██████████| 50/50 [00:00<00:00, 54.82it/s, episode_return=100, return=21.900]\n",
      "Iteration 2: 100%|██████████| 50/50 [00:01<00:00, 47.46it/s, episode_return=150, return=33.200]\n",
      "Iteration 3: 100%|██████████| 50/50 [00:00<00:00, 53.14it/s, episode_return=200, return=28.200]\n",
      "Iteration 4: 100%|██████████| 50/50 [00:00<00:00, 59.80it/s, episode_return=250, return=27.900]\n",
      "Iteration 5: 100%|██████████| 50/50 [00:01<00:00, 44.94it/s, episode_return=300, return=32.000]\n",
      "Iteration 6: 100%|██████████| 50/50 [00:00<00:00, 50.27it/s, episode_return=350, return=27.600]\n",
      "Iteration 7: 100%|██████████| 50/50 [00:01<00:00, 48.83it/s, episode_return=400, return=24.900]\n",
      "Iteration 8: 100%|██████████| 50/50 [00:00<00:00, 51.60it/s, episode_return=450, return=26.900]\n",
      "Iteration 9: 100%|██████████| 50/50 [00:01<00:00, 42.59it/s, episode_return=500, return=26.700]\n"
     ]
    },
    {
     "data": {
      "application/vnd.jupyter.widget-view+json": {
       "model_id": "dee2d620e18a488581b025afab2d7677",
       "version_major": 2,
       "version_minor": 0
      },
      "text/plain": [
       "VBox(children=(Label(value='0.001 MB of 0.007 MB uploaded\\r'), FloatProgress(value=0.17077850877192982, max=1.…"
      ]
     },
     "metadata": {},
     "output_type": "display_data"
    },
    {
     "data": {
      "text/html": [
       "<style>\n",
       "    table.wandb td:nth-child(1) { padding: 0 10px; text-align: left ; width: auto;} td:nth-child(2) {text-align: left ; width: 100%}\n",
       "    .wandb-row { display: flex; flex-direction: row; flex-wrap: wrap; justify-content: flex-start; width: 100% }\n",
       "    .wandb-col { display: flex; flex-direction: column; flex-basis: 100%; flex: 1; padding: 10px; }\n",
       "    </style>\n",
       "<div class=\"wandb-row\"><div class=\"wandb-col\"><h3>Run history:</h3><br/><table class=\"wandb\"><tr><td>regret</td><td>▁</td></tr></table><br/></div><div class=\"wandb-col\"><h3>Run summary:</h3><br/><table class=\"wandb\"><tr><td>regret</td><td>83484.76843</td></tr></table><br/></div></div>"
      ],
      "text/plain": [
       "<IPython.core.display.HTML object>"
      ]
     },
     "metadata": {},
     "output_type": "display_data"
    },
    {
     "data": {
      "text/html": [
       " View run <strong style=\"color:#cdcd00\">drawn-sweep-73</strong> at: <a href='https://wandb.ai/rl_shobhith/uncategorized/runs/ton63k0q/workspace' target=\"_blank\">https://wandb.ai/rl_shobhith/uncategorized/runs/ton63k0q/workspace</a><br/>Synced 5 W&B file(s), 0 media file(s), 0 artifact file(s) and 0 other file(s)"
      ],
      "text/plain": [
       "<IPython.core.display.HTML object>"
      ]
     },
     "metadata": {},
     "output_type": "display_data"
    },
    {
     "data": {
      "text/html": [
       "Find logs at: <code>.\\wandb\\run-20240401_221622-ton63k0q\\logs</code>"
      ],
      "text/plain": [
       "<IPython.core.display.HTML object>"
      ]
     },
     "metadata": {},
     "output_type": "display_data"
    },
    {
     "name": "stderr",
     "output_type": "stream",
     "text": [
      "\u001b[34m\u001b[1mwandb\u001b[0m: Agent Starting Run: rjr15ous with config:\n",
      "\u001b[34m\u001b[1mwandb\u001b[0m: \thidden_dim: 128\n",
      "\u001b[34m\u001b[1mwandb\u001b[0m: \tlearning_rate: 0.0005521262461258088\n",
      "Failed to detect the name of this notebook, you can set it manually with the WANDB_NOTEBOOK_NAME environment variable to enable code saving.\n"
     ]
    },
    {
     "data": {
      "application/vnd.jupyter.widget-view+json": {
       "model_id": "260801f2a0c94c878e7cd4c6aa0cd120",
       "version_major": 2,
       "version_minor": 0
      },
      "text/plain": [
       "VBox(children=(Label(value='Waiting for wandb.init()...\\r'), FloatProgress(value=0.011288888888925108, max=1.0…"
      ]
     },
     "metadata": {},
     "output_type": "display_data"
    },
    {
     "data": {
      "text/html": [
       "Tracking run with wandb version 0.16.5"
      ],
      "text/plain": [
       "<IPython.core.display.HTML object>"
      ]
     },
     "metadata": {},
     "output_type": "display_data"
    },
    {
     "data": {
      "text/html": [
       "Run data is saved locally in <code>c:\\Users\\Shobhith Vadlamudi\\Desktop\\3rd Year\\SEM 6\\RL\\wandb\\run-20240401_221644-rjr15ous</code>"
      ],
      "text/plain": [
       "<IPython.core.display.HTML object>"
      ]
     },
     "metadata": {},
     "output_type": "display_data"
    },
    {
     "data": {
      "text/html": [
       "Syncing run <strong><a href='https://wandb.ai/rl_shobhith/uncategorized/runs/rjr15ous/workspace' target=\"_blank\">genial-sweep-74</a></strong> to <a href='https://wandb.ai/rl_shobhith/uncategorized' target=\"_blank\">Weights & Biases</a> (<a href='https://wandb.me/run' target=\"_blank\">docs</a>)<br/>Sweep page: <a href='https://wandb.ai/rl_shobhith/uncategorized/sweeps/ebygp3ca' target=\"_blank\">https://wandb.ai/rl_shobhith/uncategorized/sweeps/ebygp3ca</a>"
      ],
      "text/plain": [
       "<IPython.core.display.HTML object>"
      ]
     },
     "metadata": {},
     "output_type": "display_data"
    },
    {
     "data": {
      "text/html": [
       " View project at <a href='https://wandb.ai/rl_shobhith/uncategorized' target=\"_blank\">https://wandb.ai/rl_shobhith/uncategorized</a>"
      ],
      "text/plain": [
       "<IPython.core.display.HTML object>"
      ]
     },
     "metadata": {},
     "output_type": "display_data"
    },
    {
     "data": {
      "text/html": [
       " View sweep at <a href='https://wandb.ai/rl_shobhith/uncategorized/sweeps/ebygp3ca' target=\"_blank\">https://wandb.ai/rl_shobhith/uncategorized/sweeps/ebygp3ca</a>"
      ],
      "text/plain": [
       "<IPython.core.display.HTML object>"
      ]
     },
     "metadata": {},
     "output_type": "display_data"
    },
    {
     "data": {
      "text/html": [
       " View run at <a href='https://wandb.ai/rl_shobhith/uncategorized/runs/rjr15ous/workspace' target=\"_blank\">https://wandb.ai/rl_shobhith/uncategorized/runs/rjr15ous/workspace</a>"
      ],
      "text/plain": [
       "<IPython.core.display.HTML object>"
      ]
     },
     "metadata": {},
     "output_type": "display_data"
    },
    {
     "name": "stderr",
     "output_type": "stream",
     "text": [
      "Iteration 0: 100%|██████████| 50/50 [00:00<00:00, 63.36it/s, episode_return=50, return=21.900]\n",
      "Iteration 1: 100%|██████████| 50/50 [00:00<00:00, 63.94it/s, episode_return=100, return=28.300]\n",
      "Iteration 2: 100%|██████████| 50/50 [00:01<00:00, 47.80it/s, episode_return=150, return=50.300]\n",
      "Iteration 3: 100%|██████████| 50/50 [00:01<00:00, 41.47it/s, episode_return=200, return=29.300]\n",
      "Iteration 4: 100%|██████████| 50/50 [00:01<00:00, 32.40it/s, episode_return=250, return=52.700]\n",
      "Iteration 5: 100%|██████████| 50/50 [00:01<00:00, 25.32it/s, episode_return=300, return=69.900]\n",
      "Iteration 6: 100%|██████████| 50/50 [00:02<00:00, 18.39it/s, episode_return=350, return=102.900]\n",
      "Iteration 7: 100%|██████████| 50/50 [00:04<00:00, 11.34it/s, episode_return=400, return=176.700]\n",
      "Iteration 8: 100%|██████████| 50/50 [00:03<00:00, 13.13it/s, episode_return=450, return=147.100]\n",
      "Iteration 9: 100%|██████████| 50/50 [00:04<00:00, 10.28it/s, episode_return=500, return=125.800]\n"
     ]
    },
    {
     "data": {
      "application/vnd.jupyter.widget-view+json": {
       "model_id": "f6241eee8495468c9f6d22e437189744",
       "version_major": 2,
       "version_minor": 0
      },
      "text/plain": [
       "VBox(children=(Label(value='0.001 MB of 0.001 MB uploaded\\r'), FloatProgress(value=1.0, max=1.0)))"
      ]
     },
     "metadata": {},
     "output_type": "display_data"
    },
    {
     "data": {
      "text/html": [
       "<style>\n",
       "    table.wandb td:nth-child(1) { padding: 0 10px; text-align: left ; width: auto;} td:nth-child(2) {text-align: left ; width: 100%}\n",
       "    .wandb-row { display: flex; flex-direction: row; flex-wrap: wrap; justify-content: flex-start; width: 100% }\n",
       "    .wandb-col { display: flex; flex-direction: column; flex-basis: 100%; flex: 1; padding: 10px; }\n",
       "    </style>\n",
       "<div class=\"wandb-row\"><div class=\"wandb-col\"><h3>Run history:</h3><br/><table class=\"wandb\"><tr><td>regret</td><td>▁</td></tr></table><br/></div><div class=\"wandb-col\"><h3>Run summary:</h3><br/><table class=\"wandb\"><tr><td>regret</td><td>64338.65179</td></tr></table><br/></div></div>"
      ],
      "text/plain": [
       "<IPython.core.display.HTML object>"
      ]
     },
     "metadata": {},
     "output_type": "display_data"
    },
    {
     "data": {
      "text/html": [
       " View run <strong style=\"color:#cdcd00\">genial-sweep-74</strong> at: <a href='https://wandb.ai/rl_shobhith/uncategorized/runs/rjr15ous/workspace' target=\"_blank\">https://wandb.ai/rl_shobhith/uncategorized/runs/rjr15ous/workspace</a><br/>Synced 5 W&B file(s), 0 media file(s), 0 artifact file(s) and 0 other file(s)"
      ],
      "text/plain": [
       "<IPython.core.display.HTML object>"
      ]
     },
     "metadata": {},
     "output_type": "display_data"
    },
    {
     "data": {
      "text/html": [
       "Find logs at: <code>.\\wandb\\run-20240401_221644-rjr15ous\\logs</code>"
      ],
      "text/plain": [
       "<IPython.core.display.HTML object>"
      ]
     },
     "metadata": {},
     "output_type": "display_data"
    },
    {
     "name": "stderr",
     "output_type": "stream",
     "text": [
      "\u001b[34m\u001b[1mwandb\u001b[0m: Agent Starting Run: 0nfj9wpf with config:\n",
      "\u001b[34m\u001b[1mwandb\u001b[0m: \thidden_dim: 64\n",
      "\u001b[34m\u001b[1mwandb\u001b[0m: \tlearning_rate: 0.0003758993048066655\n",
      "Failed to detect the name of this notebook, you can set it manually with the WANDB_NOTEBOOK_NAME environment variable to enable code saving.\n"
     ]
    },
    {
     "data": {
      "text/html": [
       "Tracking run with wandb version 0.16.5"
      ],
      "text/plain": [
       "<IPython.core.display.HTML object>"
      ]
     },
     "metadata": {},
     "output_type": "display_data"
    },
    {
     "data": {
      "text/html": [
       "Run data is saved locally in <code>c:\\Users\\Shobhith Vadlamudi\\Desktop\\3rd Year\\SEM 6\\RL\\wandb\\run-20240401_221723-0nfj9wpf</code>"
      ],
      "text/plain": [
       "<IPython.core.display.HTML object>"
      ]
     },
     "metadata": {},
     "output_type": "display_data"
    },
    {
     "data": {
      "text/html": [
       "Syncing run <strong><a href='https://wandb.ai/rl_shobhith/uncategorized/runs/0nfj9wpf/workspace' target=\"_blank\">balmy-sweep-75</a></strong> to <a href='https://wandb.ai/rl_shobhith/uncategorized' target=\"_blank\">Weights & Biases</a> (<a href='https://wandb.me/run' target=\"_blank\">docs</a>)<br/>Sweep page: <a href='https://wandb.ai/rl_shobhith/uncategorized/sweeps/ebygp3ca' target=\"_blank\">https://wandb.ai/rl_shobhith/uncategorized/sweeps/ebygp3ca</a>"
      ],
      "text/plain": [
       "<IPython.core.display.HTML object>"
      ]
     },
     "metadata": {},
     "output_type": "display_data"
    },
    {
     "data": {
      "text/html": [
       " View project at <a href='https://wandb.ai/rl_shobhith/uncategorized' target=\"_blank\">https://wandb.ai/rl_shobhith/uncategorized</a>"
      ],
      "text/plain": [
       "<IPython.core.display.HTML object>"
      ]
     },
     "metadata": {},
     "output_type": "display_data"
    },
    {
     "data": {
      "text/html": [
       " View sweep at <a href='https://wandb.ai/rl_shobhith/uncategorized/sweeps/ebygp3ca' target=\"_blank\">https://wandb.ai/rl_shobhith/uncategorized/sweeps/ebygp3ca</a>"
      ],
      "text/plain": [
       "<IPython.core.display.HTML object>"
      ]
     },
     "metadata": {},
     "output_type": "display_data"
    },
    {
     "data": {
      "text/html": [
       " View run at <a href='https://wandb.ai/rl_shobhith/uncategorized/runs/0nfj9wpf/workspace' target=\"_blank\">https://wandb.ai/rl_shobhith/uncategorized/runs/0nfj9wpf/workspace</a>"
      ],
      "text/plain": [
       "<IPython.core.display.HTML object>"
      ]
     },
     "metadata": {},
     "output_type": "display_data"
    },
    {
     "name": "stderr",
     "output_type": "stream",
     "text": [
      "Iteration 0: 100%|██████████| 50/50 [00:00<00:00, 65.49it/s, episode_return=50, return=21.300]\n",
      "Iteration 1: 100%|██████████| 50/50 [00:00<00:00, 53.73it/s, episode_return=100, return=34.800]\n",
      "Iteration 2: 100%|██████████| 50/50 [00:00<00:00, 58.59it/s, episode_return=150, return=28.500]\n",
      "Iteration 3: 100%|██████████| 50/50 [00:01<00:00, 47.91it/s, episode_return=200, return=25.700]\n",
      "Iteration 4: 100%|██████████| 50/50 [00:01<00:00, 39.99it/s, episode_return=250, return=21.400]\n",
      "Iteration 5: 100%|██████████| 50/50 [00:01<00:00, 43.70it/s, episode_return=300, return=23.800]\n",
      "Iteration 6: 100%|██████████| 50/50 [00:01<00:00, 43.80it/s, episode_return=350, return=38.800]\n",
      "Iteration 7: 100%|██████████| 50/50 [00:01<00:00, 43.69it/s, episode_return=400, return=33.600]\n",
      "Iteration 8: 100%|██████████| 50/50 [00:01<00:00, 31.85it/s, episode_return=450, return=37.300]\n",
      "Iteration 9: 100%|██████████| 50/50 [00:01<00:00, 31.50it/s, episode_return=500, return=40.200]\n"
     ]
    },
    {
     "data": {
      "application/vnd.jupyter.widget-view+json": {
       "model_id": "53400d1ed18a42e98d03013eeed9a810",
       "version_major": 2,
       "version_minor": 0
      },
      "text/plain": [
       "VBox(children=(Label(value='0.001 MB of 0.007 MB uploaded\\r'), FloatProgress(value=0.1678557006326558, max=1.0…"
      ]
     },
     "metadata": {},
     "output_type": "display_data"
    },
    {
     "data": {
      "text/html": [
       "<style>\n",
       "    table.wandb td:nth-child(1) { padding: 0 10px; text-align: left ; width: auto;} td:nth-child(2) {text-align: left ; width: 100%}\n",
       "    .wandb-row { display: flex; flex-direction: row; flex-wrap: wrap; justify-content: flex-start; width: 100% }\n",
       "    .wandb-col { display: flex; flex-direction: column; flex-basis: 100%; flex: 1; padding: 10px; }\n",
       "    </style>\n",
       "<div class=\"wandb-row\"><div class=\"wandb-col\"><h3>Run history:</h3><br/><table class=\"wandb\"><tr><td>regret</td><td>▁</td></tr></table><br/></div><div class=\"wandb-col\"><h3>Run summary:</h3><br/><table class=\"wandb\"><tr><td>regret</td><td>83420.44312</td></tr></table><br/></div></div>"
      ],
      "text/plain": [
       "<IPython.core.display.HTML object>"
      ]
     },
     "metadata": {},
     "output_type": "display_data"
    },
    {
     "data": {
      "text/html": [
       " View run <strong style=\"color:#cdcd00\">balmy-sweep-75</strong> at: <a href='https://wandb.ai/rl_shobhith/uncategorized/runs/0nfj9wpf/workspace' target=\"_blank\">https://wandb.ai/rl_shobhith/uncategorized/runs/0nfj9wpf/workspace</a><br/>Synced 5 W&B file(s), 0 media file(s), 0 artifact file(s) and 0 other file(s)"
      ],
      "text/plain": [
       "<IPython.core.display.HTML object>"
      ]
     },
     "metadata": {},
     "output_type": "display_data"
    },
    {
     "data": {
      "text/html": [
       "Find logs at: <code>.\\wandb\\run-20240401_221723-0nfj9wpf\\logs</code>"
      ],
      "text/plain": [
       "<IPython.core.display.HTML object>"
      ]
     },
     "metadata": {},
     "output_type": "display_data"
    },
    {
     "name": "stderr",
     "output_type": "stream",
     "text": [
      "\u001b[34m\u001b[1mwandb\u001b[0m: Agent Starting Run: rm3p2uxd with config:\n",
      "\u001b[34m\u001b[1mwandb\u001b[0m: \thidden_dim: 256\n",
      "\u001b[34m\u001b[1mwandb\u001b[0m: \tlearning_rate: 0.0006779948678443814\n",
      "Failed to detect the name of this notebook, you can set it manually with the WANDB_NOTEBOOK_NAME environment variable to enable code saving.\n"
     ]
    },
    {
     "data": {
      "text/html": [
       "Tracking run with wandb version 0.16.5"
      ],
      "text/plain": [
       "<IPython.core.display.HTML object>"
      ]
     },
     "metadata": {},
     "output_type": "display_data"
    },
    {
     "data": {
      "text/html": [
       "Run data is saved locally in <code>c:\\Users\\Shobhith Vadlamudi\\Desktop\\3rd Year\\SEM 6\\RL\\wandb\\run-20240401_221748-rm3p2uxd</code>"
      ],
      "text/plain": [
       "<IPython.core.display.HTML object>"
      ]
     },
     "metadata": {},
     "output_type": "display_data"
    },
    {
     "data": {
      "text/html": [
       "Syncing run <strong><a href='https://wandb.ai/rl_shobhith/uncategorized/runs/rm3p2uxd/workspace' target=\"_blank\">vague-sweep-76</a></strong> to <a href='https://wandb.ai/rl_shobhith/uncategorized' target=\"_blank\">Weights & Biases</a> (<a href='https://wandb.me/run' target=\"_blank\">docs</a>)<br/>Sweep page: <a href='https://wandb.ai/rl_shobhith/uncategorized/sweeps/ebygp3ca' target=\"_blank\">https://wandb.ai/rl_shobhith/uncategorized/sweeps/ebygp3ca</a>"
      ],
      "text/plain": [
       "<IPython.core.display.HTML object>"
      ]
     },
     "metadata": {},
     "output_type": "display_data"
    },
    {
     "data": {
      "text/html": [
       " View project at <a href='https://wandb.ai/rl_shobhith/uncategorized' target=\"_blank\">https://wandb.ai/rl_shobhith/uncategorized</a>"
      ],
      "text/plain": [
       "<IPython.core.display.HTML object>"
      ]
     },
     "metadata": {},
     "output_type": "display_data"
    },
    {
     "data": {
      "text/html": [
       " View sweep at <a href='https://wandb.ai/rl_shobhith/uncategorized/sweeps/ebygp3ca' target=\"_blank\">https://wandb.ai/rl_shobhith/uncategorized/sweeps/ebygp3ca</a>"
      ],
      "text/plain": [
       "<IPython.core.display.HTML object>"
      ]
     },
     "metadata": {},
     "output_type": "display_data"
    },
    {
     "data": {
      "text/html": [
       " View run at <a href='https://wandb.ai/rl_shobhith/uncategorized/runs/rm3p2uxd/workspace' target=\"_blank\">https://wandb.ai/rl_shobhith/uncategorized/runs/rm3p2uxd/workspace</a>"
      ],
      "text/plain": [
       "<IPython.core.display.HTML object>"
      ]
     },
     "metadata": {},
     "output_type": "display_data"
    },
    {
     "name": "stderr",
     "output_type": "stream",
     "text": [
      "Iteration 0: 100%|██████████| 50/50 [00:01<00:00, 46.36it/s, episode_return=50, return=30.600]\n",
      "Iteration 1: 100%|██████████| 50/50 [00:01<00:00, 29.18it/s, episode_return=100, return=55.900]\n",
      "Iteration 2: 100%|██████████| 50/50 [00:01<00:00, 28.78it/s, episode_return=150, return=67.000]\n",
      "Iteration 3: 100%|██████████| 50/50 [00:02<00:00, 19.68it/s, episode_return=200, return=113.100]\n",
      "Iteration 4: 100%|██████████| 50/50 [00:04<00:00, 10.85it/s, episode_return=250, return=111.800]\n",
      "Iteration 5: 100%|██████████| 50/50 [00:04<00:00, 10.09it/s, episode_return=300, return=180.700]\n",
      "Iteration 6: 100%|██████████| 50/50 [00:07<00:00,  6.77it/s, episode_return=350, return=252.400]\n",
      "Iteration 7: 100%|██████████| 50/50 [00:10<00:00,  4.71it/s, episode_return=400, return=354.400]\n",
      "Iteration 8: 100%|██████████| 50/50 [00:12<00:00,  3.86it/s, episode_return=450, return=393.200]\n",
      "Iteration 9: 100%|██████████| 50/50 [00:12<00:00,  3.92it/s, episode_return=500, return=405.900]\n"
     ]
    },
    {
     "data": {
      "application/vnd.jupyter.widget-view+json": {
       "model_id": "e8aee2d1b5114cf596350833fd1ca127",
       "version_major": 2,
       "version_minor": 0
      },
      "text/plain": [
       "VBox(children=(Label(value='0.001 MB of 0.001 MB uploaded\\r'), FloatProgress(value=1.0, max=1.0)))"
      ]
     },
     "metadata": {},
     "output_type": "display_data"
    },
    {
     "data": {
      "text/html": [
       "<style>\n",
       "    table.wandb td:nth-child(1) { padding: 0 10px; text-align: left ; width: auto;} td:nth-child(2) {text-align: left ; width: 100%}\n",
       "    .wandb-row { display: flex; flex-direction: row; flex-wrap: wrap; justify-content: flex-start; width: 100% }\n",
       "    .wandb-col { display: flex; flex-direction: column; flex-basis: 100%; flex: 1; padding: 10px; }\n",
       "    </style>\n",
       "<div class=\"wandb-row\"><div class=\"wandb-col\"><h3>Run history:</h3><br/><table class=\"wandb\"><tr><td>regret</td><td>▁</td></tr></table><br/></div><div class=\"wandb-col\"><h3>Run summary:</h3><br/><table class=\"wandb\"><tr><td>regret</td><td>42827.44166</td></tr></table><br/></div></div>"
      ],
      "text/plain": [
       "<IPython.core.display.HTML object>"
      ]
     },
     "metadata": {},
     "output_type": "display_data"
    },
    {
     "data": {
      "text/html": [
       " View run <strong style=\"color:#cdcd00\">vague-sweep-76</strong> at: <a href='https://wandb.ai/rl_shobhith/uncategorized/runs/rm3p2uxd/workspace' target=\"_blank\">https://wandb.ai/rl_shobhith/uncategorized/runs/rm3p2uxd/workspace</a><br/>Synced 5 W&B file(s), 0 media file(s), 0 artifact file(s) and 0 other file(s)"
      ],
      "text/plain": [
       "<IPython.core.display.HTML object>"
      ]
     },
     "metadata": {},
     "output_type": "display_data"
    },
    {
     "data": {
      "text/html": [
       "Find logs at: <code>.\\wandb\\run-20240401_221748-rm3p2uxd\\logs</code>"
      ],
      "text/plain": [
       "<IPython.core.display.HTML object>"
      ]
     },
     "metadata": {},
     "output_type": "display_data"
    },
    {
     "name": "stderr",
     "output_type": "stream",
     "text": [
      "\u001b[34m\u001b[1mwandb\u001b[0m: Agent Starting Run: 1kwctn1k with config:\n",
      "\u001b[34m\u001b[1mwandb\u001b[0m: \thidden_dim: 64\n",
      "\u001b[34m\u001b[1mwandb\u001b[0m: \tlearning_rate: 0.0005610687965770663\n",
      "Failed to detect the name of this notebook, you can set it manually with the WANDB_NOTEBOOK_NAME environment variable to enable code saving.\n"
     ]
    },
    {
     "data": {
      "text/html": [
       "Tracking run with wandb version 0.16.5"
      ],
      "text/plain": [
       "<IPython.core.display.HTML object>"
      ]
     },
     "metadata": {},
     "output_type": "display_data"
    },
    {
     "data": {
      "text/html": [
       "Run data is saved locally in <code>c:\\Users\\Shobhith Vadlamudi\\Desktop\\3rd Year\\SEM 6\\RL\\wandb\\run-20240401_221906-1kwctn1k</code>"
      ],
      "text/plain": [
       "<IPython.core.display.HTML object>"
      ]
     },
     "metadata": {},
     "output_type": "display_data"
    },
    {
     "data": {
      "text/html": [
       "Syncing run <strong><a href='https://wandb.ai/rl_shobhith/uncategorized/runs/1kwctn1k/workspace' target=\"_blank\">dulcet-sweep-77</a></strong> to <a href='https://wandb.ai/rl_shobhith/uncategorized' target=\"_blank\">Weights & Biases</a> (<a href='https://wandb.me/run' target=\"_blank\">docs</a>)<br/>Sweep page: <a href='https://wandb.ai/rl_shobhith/uncategorized/sweeps/ebygp3ca' target=\"_blank\">https://wandb.ai/rl_shobhith/uncategorized/sweeps/ebygp3ca</a>"
      ],
      "text/plain": [
       "<IPython.core.display.HTML object>"
      ]
     },
     "metadata": {},
     "output_type": "display_data"
    },
    {
     "data": {
      "text/html": [
       " View project at <a href='https://wandb.ai/rl_shobhith/uncategorized' target=\"_blank\">https://wandb.ai/rl_shobhith/uncategorized</a>"
      ],
      "text/plain": [
       "<IPython.core.display.HTML object>"
      ]
     },
     "metadata": {},
     "output_type": "display_data"
    },
    {
     "data": {
      "text/html": [
       " View sweep at <a href='https://wandb.ai/rl_shobhith/uncategorized/sweeps/ebygp3ca' target=\"_blank\">https://wandb.ai/rl_shobhith/uncategorized/sweeps/ebygp3ca</a>"
      ],
      "text/plain": [
       "<IPython.core.display.HTML object>"
      ]
     },
     "metadata": {},
     "output_type": "display_data"
    },
    {
     "data": {
      "text/html": [
       " View run at <a href='https://wandb.ai/rl_shobhith/uncategorized/runs/1kwctn1k/workspace' target=\"_blank\">https://wandb.ai/rl_shobhith/uncategorized/runs/1kwctn1k/workspace</a>"
      ],
      "text/plain": [
       "<IPython.core.display.HTML object>"
      ]
     },
     "metadata": {},
     "output_type": "display_data"
    },
    {
     "name": "stderr",
     "output_type": "stream",
     "text": [
      "Iteration 0: 100%|██████████| 50/50 [00:01<00:00, 40.57it/s, episode_return=50, return=25.500]\n",
      "Iteration 1: 100%|██████████| 50/50 [00:01<00:00, 40.33it/s, episode_return=100, return=23.000]\n",
      "Iteration 2: 100%|██████████| 50/50 [00:01<00:00, 34.07it/s, episode_return=150, return=32.700]\n",
      "Iteration 3: 100%|██████████| 50/50 [00:01<00:00, 27.85it/s, episode_return=200, return=35.500]\n",
      "Iteration 4: 100%|██████████| 50/50 [00:02<00:00, 23.30it/s, episode_return=250, return=36.600]\n",
      "Iteration 5: 100%|██████████| 50/50 [00:02<00:00, 18.77it/s, episode_return=300, return=60.300]\n",
      "Iteration 6: 100%|██████████| 50/50 [00:02<00:00, 19.57it/s, episode_return=350, return=49.500]\n",
      "Iteration 7: 100%|██████████| 50/50 [00:03<00:00, 15.22it/s, episode_return=400, return=72.900]\n",
      "Iteration 8: 100%|██████████| 50/50 [00:03<00:00, 13.40it/s, episode_return=450, return=98.200]\n",
      "Iteration 9: 100%|██████████| 50/50 [00:04<00:00, 10.19it/s, episode_return=500, return=88.800] \n"
     ]
    },
    {
     "data": {
      "application/vnd.jupyter.widget-view+json": {
       "model_id": "d9ca698ffd61428a9f2d51e81161bd57",
       "version_major": 2,
       "version_minor": 0
      },
      "text/plain": [
       "VBox(children=(Label(value='0.001 MB of 0.001 MB uploaded\\r'), FloatProgress(value=1.0, max=1.0)))"
      ]
     },
     "metadata": {},
     "output_type": "display_data"
    },
    {
     "data": {
      "text/html": [
       "<style>\n",
       "    table.wandb td:nth-child(1) { padding: 0 10px; text-align: left ; width: auto;} td:nth-child(2) {text-align: left ; width: 100%}\n",
       "    .wandb-row { display: flex; flex-direction: row; flex-wrap: wrap; justify-content: flex-start; width: 100% }\n",
       "    .wandb-col { display: flex; flex-direction: column; flex-basis: 100%; flex: 1; padding: 10px; }\n",
       "    </style>\n",
       "<div class=\"wandb-row\"><div class=\"wandb-col\"><h3>Run history:</h3><br/><table class=\"wandb\"><tr><td>regret</td><td>▁</td></tr></table><br/></div><div class=\"wandb-col\"><h3>Run summary:</h3><br/><table class=\"wandb\"><tr><td>regret</td><td>74444.86624</td></tr></table><br/></div></div>"
      ],
      "text/plain": [
       "<IPython.core.display.HTML object>"
      ]
     },
     "metadata": {},
     "output_type": "display_data"
    },
    {
     "data": {
      "text/html": [
       " View run <strong style=\"color:#cdcd00\">dulcet-sweep-77</strong> at: <a href='https://wandb.ai/rl_shobhith/uncategorized/runs/1kwctn1k/workspace' target=\"_blank\">https://wandb.ai/rl_shobhith/uncategorized/runs/1kwctn1k/workspace</a><br/>Synced 5 W&B file(s), 0 media file(s), 0 artifact file(s) and 0 other file(s)"
      ],
      "text/plain": [
       "<IPython.core.display.HTML object>"
      ]
     },
     "metadata": {},
     "output_type": "display_data"
    },
    {
     "data": {
      "text/html": [
       "Find logs at: <code>.\\wandb\\run-20240401_221906-1kwctn1k\\logs</code>"
      ],
      "text/plain": [
       "<IPython.core.display.HTML object>"
      ]
     },
     "metadata": {},
     "output_type": "display_data"
    },
    {
     "name": "stderr",
     "output_type": "stream",
     "text": [
      "\u001b[34m\u001b[1mwandb\u001b[0m: Agent Starting Run: cp93kozo with config:\n",
      "\u001b[34m\u001b[1mwandb\u001b[0m: \thidden_dim: 64\n",
      "\u001b[34m\u001b[1mwandb\u001b[0m: \tlearning_rate: 0.00019863995510722925\n",
      "Failed to detect the name of this notebook, you can set it manually with the WANDB_NOTEBOOK_NAME environment variable to enable code saving.\n"
     ]
    },
    {
     "data": {
      "text/html": [
       "Tracking run with wandb version 0.16.5"
      ],
      "text/plain": [
       "<IPython.core.display.HTML object>"
      ]
     },
     "metadata": {},
     "output_type": "display_data"
    },
    {
     "data": {
      "text/html": [
       "Run data is saved locally in <code>c:\\Users\\Shobhith Vadlamudi\\Desktop\\3rd Year\\SEM 6\\RL\\wandb\\run-20240401_221942-cp93kozo</code>"
      ],
      "text/plain": [
       "<IPython.core.display.HTML object>"
      ]
     },
     "metadata": {},
     "output_type": "display_data"
    },
    {
     "data": {
      "text/html": [
       "Syncing run <strong><a href='https://wandb.ai/rl_shobhith/uncategorized/runs/cp93kozo/workspace' target=\"_blank\">distinctive-sweep-78</a></strong> to <a href='https://wandb.ai/rl_shobhith/uncategorized' target=\"_blank\">Weights & Biases</a> (<a href='https://wandb.me/run' target=\"_blank\">docs</a>)<br/>Sweep page: <a href='https://wandb.ai/rl_shobhith/uncategorized/sweeps/ebygp3ca' target=\"_blank\">https://wandb.ai/rl_shobhith/uncategorized/sweeps/ebygp3ca</a>"
      ],
      "text/plain": [
       "<IPython.core.display.HTML object>"
      ]
     },
     "metadata": {},
     "output_type": "display_data"
    },
    {
     "data": {
      "text/html": [
       " View project at <a href='https://wandb.ai/rl_shobhith/uncategorized' target=\"_blank\">https://wandb.ai/rl_shobhith/uncategorized</a>"
      ],
      "text/plain": [
       "<IPython.core.display.HTML object>"
      ]
     },
     "metadata": {},
     "output_type": "display_data"
    },
    {
     "data": {
      "text/html": [
       " View sweep at <a href='https://wandb.ai/rl_shobhith/uncategorized/sweeps/ebygp3ca' target=\"_blank\">https://wandb.ai/rl_shobhith/uncategorized/sweeps/ebygp3ca</a>"
      ],
      "text/plain": [
       "<IPython.core.display.HTML object>"
      ]
     },
     "metadata": {},
     "output_type": "display_data"
    },
    {
     "data": {
      "text/html": [
       " View run at <a href='https://wandb.ai/rl_shobhith/uncategorized/runs/cp93kozo/workspace' target=\"_blank\">https://wandb.ai/rl_shobhith/uncategorized/runs/cp93kozo/workspace</a>"
      ],
      "text/plain": [
       "<IPython.core.display.HTML object>"
      ]
     },
     "metadata": {},
     "output_type": "display_data"
    },
    {
     "name": "stderr",
     "output_type": "stream",
     "text": [
      "Iteration 0: 100%|██████████| 50/50 [00:00<00:00, 56.97it/s, episode_return=50, return=22.300]\n",
      "Iteration 1: 100%|██████████| 50/50 [00:00<00:00, 54.66it/s, episode_return=100, return=20.500]\n",
      "Iteration 2: 100%|██████████| 50/50 [00:00<00:00, 55.46it/s, episode_return=150, return=25.400]\n",
      "Iteration 3: 100%|██████████| 50/50 [00:00<00:00, 55.44it/s, episode_return=200, return=25.200]\n",
      "Iteration 4: 100%|██████████| 50/50 [00:01<00:00, 47.94it/s, episode_return=250, return=24.600]\n",
      "Iteration 5: 100%|██████████| 50/50 [00:01<00:00, 46.43it/s, episode_return=300, return=23.600]\n",
      "Iteration 6: 100%|██████████| 50/50 [00:01<00:00, 41.44it/s, episode_return=350, return=29.300]\n",
      "Iteration 7: 100%|██████████| 50/50 [00:01<00:00, 31.69it/s, episode_return=400, return=25.700]\n",
      "Iteration 8: 100%|██████████| 50/50 [00:01<00:00, 35.75it/s, episode_return=450, return=32.100]\n",
      "Iteration 9: 100%|██████████| 50/50 [00:01<00:00, 34.43it/s, episode_return=500, return=30.400]\n"
     ]
    },
    {
     "data": {
      "application/vnd.jupyter.widget-view+json": {
       "model_id": "d35f6ae067774346a80c240571ce1e69",
       "version_major": 2,
       "version_minor": 0
      },
      "text/plain": [
       "VBox(children=(Label(value='0.001 MB of 0.001 MB uploaded\\r'), FloatProgress(value=1.0, max=1.0)))"
      ]
     },
     "metadata": {},
     "output_type": "display_data"
    },
    {
     "data": {
      "text/html": [
       "<style>\n",
       "    table.wandb td:nth-child(1) { padding: 0 10px; text-align: left ; width: auto;} td:nth-child(2) {text-align: left ; width: 100%}\n",
       "    .wandb-row { display: flex; flex-direction: row; flex-wrap: wrap; justify-content: flex-start; width: 100% }\n",
       "    .wandb-col { display: flex; flex-direction: column; flex-basis: 100%; flex: 1; padding: 10px; }\n",
       "    </style>\n",
       "<div class=\"wandb-row\"><div class=\"wandb-col\"><h3>Run history:</h3><br/><table class=\"wandb\"><tr><td>regret</td><td>▁</td></tr></table><br/></div><div class=\"wandb-col\"><h3>Run summary:</h3><br/><table class=\"wandb\"><tr><td>regret</td><td>85590.80846</td></tr></table><br/></div></div>"
      ],
      "text/plain": [
       "<IPython.core.display.HTML object>"
      ]
     },
     "metadata": {},
     "output_type": "display_data"
    },
    {
     "data": {
      "text/html": [
       " View run <strong style=\"color:#cdcd00\">distinctive-sweep-78</strong> at: <a href='https://wandb.ai/rl_shobhith/uncategorized/runs/cp93kozo/workspace' target=\"_blank\">https://wandb.ai/rl_shobhith/uncategorized/runs/cp93kozo/workspace</a><br/>Synced 5 W&B file(s), 0 media file(s), 0 artifact file(s) and 0 other file(s)"
      ],
      "text/plain": [
       "<IPython.core.display.HTML object>"
      ]
     },
     "metadata": {},
     "output_type": "display_data"
    },
    {
     "data": {
      "text/html": [
       "Find logs at: <code>.\\wandb\\run-20240401_221942-cp93kozo\\logs</code>"
      ],
      "text/plain": [
       "<IPython.core.display.HTML object>"
      ]
     },
     "metadata": {},
     "output_type": "display_data"
    },
    {
     "name": "stderr",
     "output_type": "stream",
     "text": [
      "\u001b[34m\u001b[1mwandb\u001b[0m: Sweep Agent: Waiting for job.\n",
      "\u001b[34m\u001b[1mwandb\u001b[0m: Job received.\n",
      "\u001b[34m\u001b[1mwandb\u001b[0m: Agent Starting Run: cnb5tzjc with config:\n",
      "\u001b[34m\u001b[1mwandb\u001b[0m: \thidden_dim: 256\n",
      "\u001b[34m\u001b[1mwandb\u001b[0m: \tlearning_rate: 0.000994124907048311\n",
      "Failed to detect the name of this notebook, you can set it manually with the WANDB_NOTEBOOK_NAME environment variable to enable code saving.\n"
     ]
    },
    {
     "data": {
      "text/html": [
       "Tracking run with wandb version 0.16.5"
      ],
      "text/plain": [
       "<IPython.core.display.HTML object>"
      ]
     },
     "metadata": {},
     "output_type": "display_data"
    },
    {
     "data": {
      "text/html": [
       "Run data is saved locally in <code>c:\\Users\\Shobhith Vadlamudi\\Desktop\\3rd Year\\SEM 6\\RL\\wandb\\run-20240401_222014-cnb5tzjc</code>"
      ],
      "text/plain": [
       "<IPython.core.display.HTML object>"
      ]
     },
     "metadata": {},
     "output_type": "display_data"
    },
    {
     "data": {
      "text/html": [
       "Syncing run <strong><a href='https://wandb.ai/rl_shobhith/uncategorized/runs/cnb5tzjc/workspace' target=\"_blank\">trim-sweep-79</a></strong> to <a href='https://wandb.ai/rl_shobhith/uncategorized' target=\"_blank\">Weights & Biases</a> (<a href='https://wandb.me/run' target=\"_blank\">docs</a>)<br/>Sweep page: <a href='https://wandb.ai/rl_shobhith/uncategorized/sweeps/ebygp3ca' target=\"_blank\">https://wandb.ai/rl_shobhith/uncategorized/sweeps/ebygp3ca</a>"
      ],
      "text/plain": [
       "<IPython.core.display.HTML object>"
      ]
     },
     "metadata": {},
     "output_type": "display_data"
    },
    {
     "data": {
      "text/html": [
       " View project at <a href='https://wandb.ai/rl_shobhith/uncategorized' target=\"_blank\">https://wandb.ai/rl_shobhith/uncategorized</a>"
      ],
      "text/plain": [
       "<IPython.core.display.HTML object>"
      ]
     },
     "metadata": {},
     "output_type": "display_data"
    },
    {
     "data": {
      "text/html": [
       " View sweep at <a href='https://wandb.ai/rl_shobhith/uncategorized/sweeps/ebygp3ca' target=\"_blank\">https://wandb.ai/rl_shobhith/uncategorized/sweeps/ebygp3ca</a>"
      ],
      "text/plain": [
       "<IPython.core.display.HTML object>"
      ]
     },
     "metadata": {},
     "output_type": "display_data"
    },
    {
     "data": {
      "text/html": [
       " View run at <a href='https://wandb.ai/rl_shobhith/uncategorized/runs/cnb5tzjc/workspace' target=\"_blank\">https://wandb.ai/rl_shobhith/uncategorized/runs/cnb5tzjc/workspace</a>"
      ],
      "text/plain": [
       "<IPython.core.display.HTML object>"
      ]
     },
     "metadata": {},
     "output_type": "display_data"
    },
    {
     "name": "stderr",
     "output_type": "stream",
     "text": [
      "Iteration 0: 100%|██████████| 50/50 [00:00<00:00, 62.84it/s, episode_return=50, return=28.400]\n",
      "Iteration 1: 100%|██████████| 50/50 [00:01<00:00, 33.51it/s, episode_return=100, return=51.100]\n",
      "Iteration 2: 100%|██████████| 50/50 [00:03<00:00, 14.98it/s, episode_return=150, return=71.400]\n",
      "Iteration 3: 100%|██████████| 50/50 [00:03<00:00, 13.19it/s, episode_return=200, return=97.200] \n",
      "Iteration 4: 100%|██████████| 50/50 [00:03<00:00, 12.63it/s, episode_return=250, return=87.100] \n",
      "Iteration 5: 100%|██████████| 50/50 [00:07<00:00,  6.58it/s, episode_return=300, return=349.900]\n",
      "Iteration 6: 100%|██████████| 50/50 [00:07<00:00,  6.31it/s, episode_return=350, return=176.300]\n",
      "Iteration 7: 100%|██████████| 50/50 [00:09<00:00,  5.50it/s, episode_return=400, return=328.100]\n",
      "Iteration 8: 100%|██████████| 50/50 [00:07<00:00,  6.39it/s, episode_return=450, return=416.100]\n",
      "Iteration 9: 100%|██████████| 50/50 [00:11<00:00,  4.33it/s, episode_return=500, return=457.800]\n"
     ]
    },
    {
     "data": {
      "application/vnd.jupyter.widget-view+json": {
       "model_id": "bbc91117b76c4944953185339ba681b0",
       "version_major": 2,
       "version_minor": 0
      },
      "text/plain": [
       "VBox(children=(Label(value='0.001 MB of 0.001 MB uploaded\\r'), FloatProgress(value=1.0, max=1.0)))"
      ]
     },
     "metadata": {},
     "output_type": "display_data"
    },
    {
     "data": {
      "text/html": [
       "<style>\n",
       "    table.wandb td:nth-child(1) { padding: 0 10px; text-align: left ; width: auto;} td:nth-child(2) {text-align: left ; width: 100%}\n",
       "    .wandb-row { display: flex; flex-direction: row; flex-wrap: wrap; justify-content: flex-start; width: 100% }\n",
       "    .wandb-col { display: flex; flex-direction: column; flex-basis: 100%; flex: 1; padding: 10px; }\n",
       "    </style>\n",
       "<div class=\"wandb-row\"><div class=\"wandb-col\"><h3>Run history:</h3><br/><table class=\"wandb\"><tr><td>regret</td><td>▁</td></tr></table><br/></div><div class=\"wandb-col\"><h3>Run summary:</h3><br/><table class=\"wandb\"><tr><td>regret</td><td>37607.87621</td></tr></table><br/></div></div>"
      ],
      "text/plain": [
       "<IPython.core.display.HTML object>"
      ]
     },
     "metadata": {},
     "output_type": "display_data"
    },
    {
     "data": {
      "text/html": [
       " View run <strong style=\"color:#cdcd00\">trim-sweep-79</strong> at: <a href='https://wandb.ai/rl_shobhith/uncategorized/runs/cnb5tzjc/workspace' target=\"_blank\">https://wandb.ai/rl_shobhith/uncategorized/runs/cnb5tzjc/workspace</a><br/>Synced 5 W&B file(s), 0 media file(s), 0 artifact file(s) and 0 other file(s)"
      ],
      "text/plain": [
       "<IPython.core.display.HTML object>"
      ]
     },
     "metadata": {},
     "output_type": "display_data"
    },
    {
     "data": {
      "text/html": [
       "Find logs at: <code>.\\wandb\\run-20240401_222014-cnb5tzjc\\logs</code>"
      ],
      "text/plain": [
       "<IPython.core.display.HTML object>"
      ]
     },
     "metadata": {},
     "output_type": "display_data"
    },
    {
     "name": "stderr",
     "output_type": "stream",
     "text": [
      "\u001b[34m\u001b[1mwandb\u001b[0m: Agent Starting Run: bgvh757o with config:\n",
      "\u001b[34m\u001b[1mwandb\u001b[0m: \thidden_dim: 128\n",
      "\u001b[34m\u001b[1mwandb\u001b[0m: \tlearning_rate: 0.0007903617128769745\n",
      "Failed to detect the name of this notebook, you can set it manually with the WANDB_NOTEBOOK_NAME environment variable to enable code saving.\n"
     ]
    },
    {
     "data": {
      "text/html": [
       "Tracking run with wandb version 0.16.5"
      ],
      "text/plain": [
       "<IPython.core.display.HTML object>"
      ]
     },
     "metadata": {},
     "output_type": "display_data"
    },
    {
     "data": {
      "text/html": [
       "Run data is saved locally in <code>c:\\Users\\Shobhith Vadlamudi\\Desktop\\3rd Year\\SEM 6\\RL\\wandb\\run-20240401_222124-bgvh757o</code>"
      ],
      "text/plain": [
       "<IPython.core.display.HTML object>"
      ]
     },
     "metadata": {},
     "output_type": "display_data"
    },
    {
     "data": {
      "text/html": [
       "Syncing run <strong><a href='https://wandb.ai/rl_shobhith/uncategorized/runs/bgvh757o/workspace' target=\"_blank\">super-sweep-80</a></strong> to <a href='https://wandb.ai/rl_shobhith/uncategorized' target=\"_blank\">Weights & Biases</a> (<a href='https://wandb.me/run' target=\"_blank\">docs</a>)<br/>Sweep page: <a href='https://wandb.ai/rl_shobhith/uncategorized/sweeps/ebygp3ca' target=\"_blank\">https://wandb.ai/rl_shobhith/uncategorized/sweeps/ebygp3ca</a>"
      ],
      "text/plain": [
       "<IPython.core.display.HTML object>"
      ]
     },
     "metadata": {},
     "output_type": "display_data"
    },
    {
     "data": {
      "text/html": [
       " View project at <a href='https://wandb.ai/rl_shobhith/uncategorized' target=\"_blank\">https://wandb.ai/rl_shobhith/uncategorized</a>"
      ],
      "text/plain": [
       "<IPython.core.display.HTML object>"
      ]
     },
     "metadata": {},
     "output_type": "display_data"
    },
    {
     "data": {
      "text/html": [
       " View sweep at <a href='https://wandb.ai/rl_shobhith/uncategorized/sweeps/ebygp3ca' target=\"_blank\">https://wandb.ai/rl_shobhith/uncategorized/sweeps/ebygp3ca</a>"
      ],
      "text/plain": [
       "<IPython.core.display.HTML object>"
      ]
     },
     "metadata": {},
     "output_type": "display_data"
    },
    {
     "data": {
      "text/html": [
       " View run at <a href='https://wandb.ai/rl_shobhith/uncategorized/runs/bgvh757o/workspace' target=\"_blank\">https://wandb.ai/rl_shobhith/uncategorized/runs/bgvh757o/workspace</a>"
      ],
      "text/plain": [
       "<IPython.core.display.HTML object>"
      ]
     },
     "metadata": {},
     "output_type": "display_data"
    },
    {
     "name": "stderr",
     "output_type": "stream",
     "text": [
      "Iteration 0: 100%|██████████| 50/50 [00:00<00:00, 60.39it/s, episode_return=50, return=29.300]\n",
      "Iteration 1: 100%|██████████| 50/50 [00:01<00:00, 48.05it/s, episode_return=100, return=32.900]\n",
      "Iteration 2: 100%|██████████| 50/50 [00:01<00:00, 39.10it/s, episode_return=150, return=42.000]\n",
      "Iteration 3: 100%|██████████| 50/50 [00:01<00:00, 35.08it/s, episode_return=200, return=54.800]\n",
      "Iteration 4: 100%|██████████| 50/50 [00:01<00:00, 26.69it/s, episode_return=250, return=69.900]\n",
      "Iteration 5: 100%|██████████| 50/50 [00:01<00:00, 26.38it/s, episode_return=300, return=61.900]\n",
      "Iteration 6: 100%|██████████| 50/50 [00:02<00:00, 20.84it/s, episode_return=350, return=92.700]\n",
      "Iteration 7: 100%|██████████| 50/50 [00:04<00:00, 12.03it/s, episode_return=400, return=201.900]\n",
      "Iteration 8: 100%|██████████| 50/50 [00:05<00:00,  8.84it/s, episode_return=450, return=168.500]\n",
      "Iteration 9: 100%|██████████| 50/50 [00:08<00:00,  5.67it/s, episode_return=500, return=298.200]\n"
     ]
    },
    {
     "data": {
      "application/vnd.jupyter.widget-view+json": {
       "model_id": "e7ceef413ea64950a91c957c44dffff4",
       "version_major": 2,
       "version_minor": 0
      },
      "text/plain": [
       "VBox(children=(Label(value='0.001 MB of 0.001 MB uploaded\\r'), FloatProgress(value=1.0, max=1.0)))"
      ]
     },
     "metadata": {},
     "output_type": "display_data"
    },
    {
     "data": {
      "text/html": [
       "<style>\n",
       "    table.wandb td:nth-child(1) { padding: 0 10px; text-align: left ; width: auto;} td:nth-child(2) {text-align: left ; width: 100%}\n",
       "    .wandb-row { display: flex; flex-direction: row; flex-wrap: wrap; justify-content: flex-start; width: 100% }\n",
       "    .wandb-col { display: flex; flex-direction: column; flex-basis: 100%; flex: 1; padding: 10px; }\n",
       "    </style>\n",
       "<div class=\"wandb-row\"><div class=\"wandb-col\"><h3>Run history:</h3><br/><table class=\"wandb\"><tr><td>regret</td><td>▁</td></tr></table><br/></div><div class=\"wandb-col\"><h3>Run summary:</h3><br/><table class=\"wandb\"><tr><td>regret</td><td>61020.52917</td></tr></table><br/></div></div>"
      ],
      "text/plain": [
       "<IPython.core.display.HTML object>"
      ]
     },
     "metadata": {},
     "output_type": "display_data"
    },
    {
     "data": {
      "text/html": [
       " View run <strong style=\"color:#cdcd00\">super-sweep-80</strong> at: <a href='https://wandb.ai/rl_shobhith/uncategorized/runs/bgvh757o/workspace' target=\"_blank\">https://wandb.ai/rl_shobhith/uncategorized/runs/bgvh757o/workspace</a><br/>Synced 5 W&B file(s), 0 media file(s), 0 artifact file(s) and 0 other file(s)"
      ],
      "text/plain": [
       "<IPython.core.display.HTML object>"
      ]
     },
     "metadata": {},
     "output_type": "display_data"
    },
    {
     "data": {
      "text/html": [
       "Find logs at: <code>.\\wandb\\run-20240401_222124-bgvh757o\\logs</code>"
      ],
      "text/plain": [
       "<IPython.core.display.HTML object>"
      ]
     },
     "metadata": {},
     "output_type": "display_data"
    },
    {
     "name": "stderr",
     "output_type": "stream",
     "text": [
      "\u001b[34m\u001b[1mwandb\u001b[0m: Agent Starting Run: sngm592n with config:\n",
      "\u001b[34m\u001b[1mwandb\u001b[0m: \thidden_dim: 64\n",
      "\u001b[34m\u001b[1mwandb\u001b[0m: \tlearning_rate: 0.0002796433615944547\n",
      "Failed to detect the name of this notebook, you can set it manually with the WANDB_NOTEBOOK_NAME environment variable to enable code saving.\n"
     ]
    },
    {
     "data": {
      "text/html": [
       "Tracking run with wandb version 0.16.5"
      ],
      "text/plain": [
       "<IPython.core.display.HTML object>"
      ]
     },
     "metadata": {},
     "output_type": "display_data"
    },
    {
     "data": {
      "text/html": [
       "Run data is saved locally in <code>c:\\Users\\Shobhith Vadlamudi\\Desktop\\3rd Year\\SEM 6\\RL\\wandb\\run-20240401_222206-sngm592n</code>"
      ],
      "text/plain": [
       "<IPython.core.display.HTML object>"
      ]
     },
     "metadata": {},
     "output_type": "display_data"
    },
    {
     "data": {
      "text/html": [
       "Syncing run <strong><a href='https://wandb.ai/rl_shobhith/uncategorized/runs/sngm592n/workspace' target=\"_blank\">fragrant-sweep-81</a></strong> to <a href='https://wandb.ai/rl_shobhith/uncategorized' target=\"_blank\">Weights & Biases</a> (<a href='https://wandb.me/run' target=\"_blank\">docs</a>)<br/>Sweep page: <a href='https://wandb.ai/rl_shobhith/uncategorized/sweeps/ebygp3ca' target=\"_blank\">https://wandb.ai/rl_shobhith/uncategorized/sweeps/ebygp3ca</a>"
      ],
      "text/plain": [
       "<IPython.core.display.HTML object>"
      ]
     },
     "metadata": {},
     "output_type": "display_data"
    },
    {
     "data": {
      "text/html": [
       " View project at <a href='https://wandb.ai/rl_shobhith/uncategorized' target=\"_blank\">https://wandb.ai/rl_shobhith/uncategorized</a>"
      ],
      "text/plain": [
       "<IPython.core.display.HTML object>"
      ]
     },
     "metadata": {},
     "output_type": "display_data"
    },
    {
     "data": {
      "text/html": [
       " View sweep at <a href='https://wandb.ai/rl_shobhith/uncategorized/sweeps/ebygp3ca' target=\"_blank\">https://wandb.ai/rl_shobhith/uncategorized/sweeps/ebygp3ca</a>"
      ],
      "text/plain": [
       "<IPython.core.display.HTML object>"
      ]
     },
     "metadata": {},
     "output_type": "display_data"
    },
    {
     "data": {
      "text/html": [
       " View run at <a href='https://wandb.ai/rl_shobhith/uncategorized/runs/sngm592n/workspace' target=\"_blank\">https://wandb.ai/rl_shobhith/uncategorized/runs/sngm592n/workspace</a>"
      ],
      "text/plain": [
       "<IPython.core.display.HTML object>"
      ]
     },
     "metadata": {},
     "output_type": "display_data"
    },
    {
     "name": "stderr",
     "output_type": "stream",
     "text": [
      "Iteration 0: 100%|██████████| 50/50 [00:00<00:00, 68.46it/s, episode_return=50, return=18.800] \n",
      "Iteration 1: 100%|██████████| 50/50 [00:00<00:00, 56.57it/s, episode_return=100, return=25.500]\n",
      "Iteration 2: 100%|██████████| 50/50 [00:00<00:00, 56.74it/s, episode_return=150, return=32.400]\n",
      "Iteration 3: 100%|██████████| 50/50 [00:00<00:00, 55.67it/s, episode_return=200, return=20.900]\n",
      "Iteration 4: 100%|██████████| 50/50 [00:01<00:00, 47.15it/s, episode_return=250, return=28.200]\n",
      "Iteration 5: 100%|██████████| 50/50 [00:00<00:00, 51.55it/s, episode_return=300, return=32.200]\n",
      "Iteration 6: 100%|██████████| 50/50 [00:01<00:00, 44.58it/s, episode_return=350, return=36.200]\n",
      "Iteration 7: 100%|██████████| 50/50 [00:01<00:00, 42.91it/s, episode_return=400, return=32.300]\n",
      "Iteration 8: 100%|██████████| 50/50 [00:01<00:00, 37.71it/s, episode_return=450, return=35.600]\n",
      "Iteration 9: 100%|██████████| 50/50 [00:01<00:00, 39.40it/s, episode_return=500, return=34.100]\n"
     ]
    },
    {
     "data": {
      "application/vnd.jupyter.widget-view+json": {
       "model_id": "e941922551314aab9ba35e51596303d5",
       "version_major": 2,
       "version_minor": 0
      },
      "text/plain": [
       "VBox(children=(Label(value='0.001 MB of 0.001 MB uploaded\\r'), FloatProgress(value=1.0, max=1.0)))"
      ]
     },
     "metadata": {},
     "output_type": "display_data"
    },
    {
     "data": {
      "text/html": [
       "<style>\n",
       "    table.wandb td:nth-child(1) { padding: 0 10px; text-align: left ; width: auto;} td:nth-child(2) {text-align: left ; width: 100%}\n",
       "    .wandb-row { display: flex; flex-direction: row; flex-wrap: wrap; justify-content: flex-start; width: 100% }\n",
       "    .wandb-col { display: flex; flex-direction: column; flex-basis: 100%; flex: 1; padding: 10px; }\n",
       "    </style>\n",
       "<div class=\"wandb-row\"><div class=\"wandb-col\"><h3>Run history:</h3><br/><table class=\"wandb\"><tr><td>regret</td><td>▁</td></tr></table><br/></div><div class=\"wandb-col\"><h3>Run summary:</h3><br/><table class=\"wandb\"><tr><td>regret</td><td>83689.4252</td></tr></table><br/></div></div>"
      ],
      "text/plain": [
       "<IPython.core.display.HTML object>"
      ]
     },
     "metadata": {},
     "output_type": "display_data"
    },
    {
     "data": {
      "text/html": [
       " View run <strong style=\"color:#cdcd00\">fragrant-sweep-81</strong> at: <a href='https://wandb.ai/rl_shobhith/uncategorized/runs/sngm592n/workspace' target=\"_blank\">https://wandb.ai/rl_shobhith/uncategorized/runs/sngm592n/workspace</a><br/>Synced 5 W&B file(s), 0 media file(s), 0 artifact file(s) and 0 other file(s)"
      ],
      "text/plain": [
       "<IPython.core.display.HTML object>"
      ]
     },
     "metadata": {},
     "output_type": "display_data"
    },
    {
     "data": {
      "text/html": [
       "Find logs at: <code>.\\wandb\\run-20240401_222206-sngm592n\\logs</code>"
      ],
      "text/plain": [
       "<IPython.core.display.HTML object>"
      ]
     },
     "metadata": {},
     "output_type": "display_data"
    },
    {
     "name": "stderr",
     "output_type": "stream",
     "text": [
      "\u001b[34m\u001b[1mwandb\u001b[0m: Sweep Agent: Waiting for job.\n",
      "\u001b[34m\u001b[1mwandb\u001b[0m: Job received.\n",
      "\u001b[34m\u001b[1mwandb\u001b[0m: Agent Starting Run: wpqkqb9w with config:\n",
      "\u001b[34m\u001b[1mwandb\u001b[0m: \thidden_dim: 128\n",
      "\u001b[34m\u001b[1mwandb\u001b[0m: \tlearning_rate: 0.0008187386093650488\n",
      "Failed to detect the name of this notebook, you can set it manually with the WANDB_NOTEBOOK_NAME environment variable to enable code saving.\n"
     ]
    },
    {
     "data": {
      "text/html": [
       "Tracking run with wandb version 0.16.5"
      ],
      "text/plain": [
       "<IPython.core.display.HTML object>"
      ]
     },
     "metadata": {},
     "output_type": "display_data"
    },
    {
     "data": {
      "text/html": [
       "Run data is saved locally in <code>c:\\Users\\Shobhith Vadlamudi\\Desktop\\3rd Year\\SEM 6\\RL\\wandb\\run-20240401_222238-wpqkqb9w</code>"
      ],
      "text/plain": [
       "<IPython.core.display.HTML object>"
      ]
     },
     "metadata": {},
     "output_type": "display_data"
    },
    {
     "data": {
      "text/html": [
       "Syncing run <strong><a href='https://wandb.ai/rl_shobhith/uncategorized/runs/wpqkqb9w/workspace' target=\"_blank\">faithful-sweep-82</a></strong> to <a href='https://wandb.ai/rl_shobhith/uncategorized' target=\"_blank\">Weights & Biases</a> (<a href='https://wandb.me/run' target=\"_blank\">docs</a>)<br/>Sweep page: <a href='https://wandb.ai/rl_shobhith/uncategorized/sweeps/ebygp3ca' target=\"_blank\">https://wandb.ai/rl_shobhith/uncategorized/sweeps/ebygp3ca</a>"
      ],
      "text/plain": [
       "<IPython.core.display.HTML object>"
      ]
     },
     "metadata": {},
     "output_type": "display_data"
    },
    {
     "data": {
      "text/html": [
       " View project at <a href='https://wandb.ai/rl_shobhith/uncategorized' target=\"_blank\">https://wandb.ai/rl_shobhith/uncategorized</a>"
      ],
      "text/plain": [
       "<IPython.core.display.HTML object>"
      ]
     },
     "metadata": {},
     "output_type": "display_data"
    },
    {
     "data": {
      "text/html": [
       " View sweep at <a href='https://wandb.ai/rl_shobhith/uncategorized/sweeps/ebygp3ca' target=\"_blank\">https://wandb.ai/rl_shobhith/uncategorized/sweeps/ebygp3ca</a>"
      ],
      "text/plain": [
       "<IPython.core.display.HTML object>"
      ]
     },
     "metadata": {},
     "output_type": "display_data"
    },
    {
     "data": {
      "text/html": [
       " View run at <a href='https://wandb.ai/rl_shobhith/uncategorized/runs/wpqkqb9w/workspace' target=\"_blank\">https://wandb.ai/rl_shobhith/uncategorized/runs/wpqkqb9w/workspace</a>"
      ],
      "text/plain": [
       "<IPython.core.display.HTML object>"
      ]
     },
     "metadata": {},
     "output_type": "display_data"
    },
    {
     "name": "stderr",
     "output_type": "stream",
     "text": [
      "Iteration 0: 100%|██████████| 50/50 [00:00<00:00, 56.36it/s, episode_return=50, return=40.700]\n",
      "Iteration 1: 100%|██████████| 50/50 [00:01<00:00, 41.82it/s, episode_return=100, return=44.200]\n",
      "Iteration 2: 100%|██████████| 50/50 [00:01<00:00, 30.89it/s, episode_return=150, return=57.300]\n",
      "Iteration 3: 100%|██████████| 50/50 [00:01<00:00, 27.09it/s, episode_return=200, return=70.400]\n",
      "Iteration 4: 100%|██████████| 50/50 [00:02<00:00, 16.75it/s, episode_return=250, return=131.300]\n",
      "Iteration 5: 100%|██████████| 50/50 [00:04<00:00, 11.02it/s, episode_return=300, return=104.300]\n",
      "Iteration 6: 100%|██████████| 50/50 [00:05<00:00,  8.43it/s, episode_return=350, return=245.900]\n",
      "Iteration 7: 100%|██████████| 50/50 [00:07<00:00,  7.01it/s, episode_return=400, return=186.700]\n",
      "Iteration 8: 100%|██████████| 50/50 [00:05<00:00,  9.30it/s, episode_return=450, return=270.900]\n",
      "Iteration 9: 100%|██████████| 50/50 [00:10<00:00,  4.96it/s, episode_return=500, return=287.000]\n"
     ]
    },
    {
     "data": {
      "application/vnd.jupyter.widget-view+json": {
       "model_id": "1ab5c4646de643be8e41a2d5b917c9e8",
       "version_major": 2,
       "version_minor": 0
      },
      "text/plain": [
       "VBox(children=(Label(value='0.001 MB of 0.001 MB uploaded\\r'), FloatProgress(value=1.0, max=1.0)))"
      ]
     },
     "metadata": {},
     "output_type": "display_data"
    },
    {
     "data": {
      "text/html": [
       "<style>\n",
       "    table.wandb td:nth-child(1) { padding: 0 10px; text-align: left ; width: auto;} td:nth-child(2) {text-align: left ; width: 100%}\n",
       "    .wandb-row { display: flex; flex-direction: row; flex-wrap: wrap; justify-content: flex-start; width: 100% }\n",
       "    .wandb-col { display: flex; flex-direction: column; flex-basis: 100%; flex: 1; padding: 10px; }\n",
       "    </style>\n",
       "<div class=\"wandb-row\"><div class=\"wandb-col\"><h3>Run history:</h3><br/><table class=\"wandb\"><tr><td>regret</td><td>▁</td></tr></table><br/></div><div class=\"wandb-col\"><h3>Run summary:</h3><br/><table class=\"wandb\"><tr><td>regret</td><td>44387.24604</td></tr></table><br/></div></div>"
      ],
      "text/plain": [
       "<IPython.core.display.HTML object>"
      ]
     },
     "metadata": {},
     "output_type": "display_data"
    },
    {
     "data": {
      "text/html": [
       " View run <strong style=\"color:#cdcd00\">faithful-sweep-82</strong> at: <a href='https://wandb.ai/rl_shobhith/uncategorized/runs/wpqkqb9w/workspace' target=\"_blank\">https://wandb.ai/rl_shobhith/uncategorized/runs/wpqkqb9w/workspace</a><br/>Synced 5 W&B file(s), 0 media file(s), 0 artifact file(s) and 0 other file(s)"
      ],
      "text/plain": [
       "<IPython.core.display.HTML object>"
      ]
     },
     "metadata": {},
     "output_type": "display_data"
    },
    {
     "data": {
      "text/html": [
       "Find logs at: <code>.\\wandb\\run-20240401_222238-wpqkqb9w\\logs</code>"
      ],
      "text/plain": [
       "<IPython.core.display.HTML object>"
      ]
     },
     "metadata": {},
     "output_type": "display_data"
    },
    {
     "name": "stderr",
     "output_type": "stream",
     "text": [
      "\u001b[34m\u001b[1mwandb\u001b[0m: Agent Starting Run: 52umiorp with config:\n",
      "\u001b[34m\u001b[1mwandb\u001b[0m: \thidden_dim: 128\n",
      "\u001b[34m\u001b[1mwandb\u001b[0m: \tlearning_rate: 0.00048440663789336394\n",
      "Failed to detect the name of this notebook, you can set it manually with the WANDB_NOTEBOOK_NAME environment variable to enable code saving.\n"
     ]
    },
    {
     "data": {
      "text/html": [
       "Tracking run with wandb version 0.16.5"
      ],
      "text/plain": [
       "<IPython.core.display.HTML object>"
      ]
     },
     "metadata": {},
     "output_type": "display_data"
    },
    {
     "data": {
      "text/html": [
       "Run data is saved locally in <code>c:\\Users\\Shobhith Vadlamudi\\Desktop\\3rd Year\\SEM 6\\RL\\wandb\\run-20240401_222332-52umiorp</code>"
      ],
      "text/plain": [
       "<IPython.core.display.HTML object>"
      ]
     },
     "metadata": {},
     "output_type": "display_data"
    },
    {
     "data": {
      "text/html": [
       "Syncing run <strong><a href='https://wandb.ai/rl_shobhith/uncategorized/runs/52umiorp/workspace' target=\"_blank\">fresh-sweep-83</a></strong> to <a href='https://wandb.ai/rl_shobhith/uncategorized' target=\"_blank\">Weights & Biases</a> (<a href='https://wandb.me/run' target=\"_blank\">docs</a>)<br/>Sweep page: <a href='https://wandb.ai/rl_shobhith/uncategorized/sweeps/ebygp3ca' target=\"_blank\">https://wandb.ai/rl_shobhith/uncategorized/sweeps/ebygp3ca</a>"
      ],
      "text/plain": [
       "<IPython.core.display.HTML object>"
      ]
     },
     "metadata": {},
     "output_type": "display_data"
    },
    {
     "data": {
      "text/html": [
       " View project at <a href='https://wandb.ai/rl_shobhith/uncategorized' target=\"_blank\">https://wandb.ai/rl_shobhith/uncategorized</a>"
      ],
      "text/plain": [
       "<IPython.core.display.HTML object>"
      ]
     },
     "metadata": {},
     "output_type": "display_data"
    },
    {
     "data": {
      "text/html": [
       " View sweep at <a href='https://wandb.ai/rl_shobhith/uncategorized/sweeps/ebygp3ca' target=\"_blank\">https://wandb.ai/rl_shobhith/uncategorized/sweeps/ebygp3ca</a>"
      ],
      "text/plain": [
       "<IPython.core.display.HTML object>"
      ]
     },
     "metadata": {},
     "output_type": "display_data"
    },
    {
     "data": {
      "text/html": [
       " View run at <a href='https://wandb.ai/rl_shobhith/uncategorized/runs/52umiorp/workspace' target=\"_blank\">https://wandb.ai/rl_shobhith/uncategorized/runs/52umiorp/workspace</a>"
      ],
      "text/plain": [
       "<IPython.core.display.HTML object>"
      ]
     },
     "metadata": {},
     "output_type": "display_data"
    },
    {
     "name": "stderr",
     "output_type": "stream",
     "text": [
      "Iteration 0: 100%|██████████| 50/50 [00:00<00:00, 76.17it/s, episode_return=50, return=25.700]\n",
      "Iteration 1: 100%|██████████| 50/50 [00:00<00:00, 63.58it/s, episode_return=100, return=26.000]\n",
      "Iteration 2: 100%|██████████| 50/50 [00:00<00:00, 55.34it/s, episode_return=150, return=33.800]\n",
      "Iteration 3: 100%|██████████| 50/50 [00:01<00:00, 42.59it/s, episode_return=200, return=33.300]\n",
      "Iteration 4: 100%|██████████| 50/50 [00:01<00:00, 39.68it/s, episode_return=250, return=46.800]\n",
      "Iteration 5: 100%|██████████| 50/50 [00:01<00:00, 37.27it/s, episode_return=300, return=46.200]\n",
      "Iteration 6: 100%|██████████| 50/50 [00:01<00:00, 33.84it/s, episode_return=350, return=62.600]\n",
      "Iteration 7: 100%|██████████| 50/50 [00:02<00:00, 23.80it/s, episode_return=400, return=93.300]\n",
      "Iteration 8: 100%|██████████| 50/50 [00:03<00:00, 16.55it/s, episode_return=450, return=143.700]\n",
      "Iteration 9: 100%|██████████| 50/50 [00:05<00:00,  9.07it/s, episode_return=500, return=214.600]\n"
     ]
    },
    {
     "data": {
      "application/vnd.jupyter.widget-view+json": {
       "model_id": "607d46c235864baaaa756b7c62ea51f2",
       "version_major": 2,
       "version_minor": 0
      },
      "text/plain": [
       "VBox(children=(Label(value='0.001 MB of 0.001 MB uploaded\\r'), FloatProgress(value=1.0, max=1.0)))"
      ]
     },
     "metadata": {},
     "output_type": "display_data"
    },
    {
     "data": {
      "text/html": [
       "<style>\n",
       "    table.wandb td:nth-child(1) { padding: 0 10px; text-align: left ; width: auto;} td:nth-child(2) {text-align: left ; width: 100%}\n",
       "    .wandb-row { display: flex; flex-direction: row; flex-wrap: wrap; justify-content: flex-start; width: 100% }\n",
       "    .wandb-col { display: flex; flex-direction: column; flex-basis: 100%; flex: 1; padding: 10px; }\n",
       "    </style>\n",
       "<div class=\"wandb-row\"><div class=\"wandb-col\"><h3>Run history:</h3><br/><table class=\"wandb\"><tr><td>regret</td><td>▁</td></tr></table><br/></div><div class=\"wandb-col\"><h3>Run summary:</h3><br/><table class=\"wandb\"><tr><td>regret</td><td>74405.59605</td></tr></table><br/></div></div>"
      ],
      "text/plain": [
       "<IPython.core.display.HTML object>"
      ]
     },
     "metadata": {},
     "output_type": "display_data"
    },
    {
     "data": {
      "text/html": [
       " View run <strong style=\"color:#cdcd00\">fresh-sweep-83</strong> at: <a href='https://wandb.ai/rl_shobhith/uncategorized/runs/52umiorp/workspace' target=\"_blank\">https://wandb.ai/rl_shobhith/uncategorized/runs/52umiorp/workspace</a><br/>Synced 5 W&B file(s), 0 media file(s), 0 artifact file(s) and 0 other file(s)"
      ],
      "text/plain": [
       "<IPython.core.display.HTML object>"
      ]
     },
     "metadata": {},
     "output_type": "display_data"
    },
    {
     "data": {
      "text/html": [
       "Find logs at: <code>.\\wandb\\run-20240401_222332-52umiorp\\logs</code>"
      ],
      "text/plain": [
       "<IPython.core.display.HTML object>"
      ]
     },
     "metadata": {},
     "output_type": "display_data"
    },
    {
     "name": "stderr",
     "output_type": "stream",
     "text": [
      "\u001b[34m\u001b[1mwandb\u001b[0m: Agent Starting Run: pdafgtib with config:\n",
      "\u001b[34m\u001b[1mwandb\u001b[0m: \thidden_dim: 64\n",
      "\u001b[34m\u001b[1mwandb\u001b[0m: \tlearning_rate: 0.00022392644032029997\n",
      "Failed to detect the name of this notebook, you can set it manually with the WANDB_NOTEBOOK_NAME environment variable to enable code saving.\n"
     ]
    },
    {
     "data": {
      "text/html": [
       "Tracking run with wandb version 0.16.5"
      ],
      "text/plain": [
       "<IPython.core.display.HTML object>"
      ]
     },
     "metadata": {},
     "output_type": "display_data"
    },
    {
     "data": {
      "text/html": [
       "Run data is saved locally in <code>c:\\Users\\Shobhith Vadlamudi\\Desktop\\3rd Year\\SEM 6\\RL\\wandb\\run-20240401_224424-pdafgtib</code>"
      ],
      "text/plain": [
       "<IPython.core.display.HTML object>"
      ]
     },
     "metadata": {},
     "output_type": "display_data"
    },
    {
     "data": {
      "text/html": [
       "Syncing run <strong><a href='https://wandb.ai/rl_shobhith/uncategorized/runs/pdafgtib/workspace' target=\"_blank\">laced-sweep-84</a></strong> to <a href='https://wandb.ai/rl_shobhith/uncategorized' target=\"_blank\">Weights & Biases</a> (<a href='https://wandb.me/run' target=\"_blank\">docs</a>)<br/>Sweep page: <a href='https://wandb.ai/rl_shobhith/uncategorized/sweeps/ebygp3ca' target=\"_blank\">https://wandb.ai/rl_shobhith/uncategorized/sweeps/ebygp3ca</a>"
      ],
      "text/plain": [
       "<IPython.core.display.HTML object>"
      ]
     },
     "metadata": {},
     "output_type": "display_data"
    },
    {
     "data": {
      "text/html": [
       " View project at <a href='https://wandb.ai/rl_shobhith/uncategorized' target=\"_blank\">https://wandb.ai/rl_shobhith/uncategorized</a>"
      ],
      "text/plain": [
       "<IPython.core.display.HTML object>"
      ]
     },
     "metadata": {},
     "output_type": "display_data"
    },
    {
     "data": {
      "text/html": [
       " View sweep at <a href='https://wandb.ai/rl_shobhith/uncategorized/sweeps/ebygp3ca' target=\"_blank\">https://wandb.ai/rl_shobhith/uncategorized/sweeps/ebygp3ca</a>"
      ],
      "text/plain": [
       "<IPython.core.display.HTML object>"
      ]
     },
     "metadata": {},
     "output_type": "display_data"
    },
    {
     "data": {
      "text/html": [
       " View run at <a href='https://wandb.ai/rl_shobhith/uncategorized/runs/pdafgtib/workspace' target=\"_blank\">https://wandb.ai/rl_shobhith/uncategorized/runs/pdafgtib/workspace</a>"
      ],
      "text/plain": [
       "<IPython.core.display.HTML object>"
      ]
     },
     "metadata": {},
     "output_type": "display_data"
    },
    {
     "name": "stderr",
     "output_type": "stream",
     "text": [
      "Iteration 0: 100%|██████████| 50/50 [00:00<00:00, 63.29it/s, episode_return=50, return=23.900]\n",
      "Iteration 1: 100%|██████████| 50/50 [00:00<00:00, 58.10it/s, episode_return=100, return=26.400]\n",
      "Iteration 2: 100%|██████████| 50/50 [00:01<00:00, 42.60it/s, episode_return=150, return=19.000]\n",
      "Iteration 3: 100%|██████████| 50/50 [00:01<00:00, 44.69it/s, episode_return=200, return=25.600]\n",
      "Iteration 4: 100%|██████████| 50/50 [07:23<00:00,  8.88s/it, episode_return=250, return=31.900]\n",
      "Iteration 5: 100%|██████████| 50/50 [00:01<00:00, 36.92it/s, episode_return=300, return=28.700]\n",
      "Iteration 6: 100%|██████████| 50/50 [00:01<00:00, 37.23it/s, episode_return=350, return=26.000]\n",
      "Iteration 7:  22%|██▏       | 11/50 [00:00<00:01, 24.88it/s, episode_return=360, return=36.200]\u001b[34m\u001b[1mwandb\u001b[0m: Network error (ConnectionError), entering retry loop.\n",
      "Iteration 7: 100%|██████████| 50/50 [00:02<00:00, 20.39it/s, episode_return=400, return=34.300]\n",
      "Iteration 8: 100%|██████████| 50/50 [00:03<00:00, 16.42it/s, episode_return=450, return=37.700]\n",
      "Iteration 9: 100%|██████████| 50/50 [00:03<00:00, 15.47it/s, episode_return=500, return=47.400]\n"
     ]
    },
    {
     "data": {
      "application/vnd.jupyter.widget-view+json": {
       "model_id": "b28db8f0f6e1418797af14d873b905a0",
       "version_major": 2,
       "version_minor": 0
      },
      "text/plain": [
       "VBox(children=(Label(value='0.001 MB of 0.001 MB uploaded\\r'), FloatProgress(value=1.0, max=1.0)))"
      ]
     },
     "metadata": {},
     "output_type": "display_data"
    },
    {
     "data": {
      "text/html": [
       "<style>\n",
       "    table.wandb td:nth-child(1) { padding: 0 10px; text-align: left ; width: auto;} td:nth-child(2) {text-align: left ; width: 100%}\n",
       "    .wandb-row { display: flex; flex-direction: row; flex-wrap: wrap; justify-content: flex-start; width: 100% }\n",
       "    .wandb-col { display: flex; flex-direction: column; flex-basis: 100%; flex: 1; padding: 10px; }\n",
       "    </style>\n",
       "<div class=\"wandb-row\"><div class=\"wandb-col\"><h3>Run history:</h3><br/><table class=\"wandb\"><tr><td>regret</td><td>▁</td></tr></table><br/></div><div class=\"wandb-col\"><h3>Run summary:</h3><br/><table class=\"wandb\"><tr><td>regret</td><td>83043.61792</td></tr></table><br/></div></div>"
      ],
      "text/plain": [
       "<IPython.core.display.HTML object>"
      ]
     },
     "metadata": {},
     "output_type": "display_data"
    },
    {
     "data": {
      "text/html": [
       " View run <strong style=\"color:#cdcd00\">laced-sweep-84</strong> at: <a href='https://wandb.ai/rl_shobhith/uncategorized/runs/pdafgtib/workspace' target=\"_blank\">https://wandb.ai/rl_shobhith/uncategorized/runs/pdafgtib/workspace</a><br/>Synced 5 W&B file(s), 0 media file(s), 0 artifact file(s) and 0 other file(s)"
      ],
      "text/plain": [
       "<IPython.core.display.HTML object>"
      ]
     },
     "metadata": {},
     "output_type": "display_data"
    },
    {
     "data": {
      "text/html": [
       "Find logs at: <code>.\\wandb\\run-20240401_224424-pdafgtib\\logs</code>"
      ],
      "text/plain": [
       "<IPython.core.display.HTML object>"
      ]
     },
     "metadata": {},
     "output_type": "display_data"
    },
    {
     "name": "stderr",
     "output_type": "stream",
     "text": [
      "\u001b[34m\u001b[1mwandb\u001b[0m: Sweep Agent: Waiting for job.\n",
      "\u001b[34m\u001b[1mwandb\u001b[0m: Job received.\n",
      "\u001b[34m\u001b[1mwandb\u001b[0m: Agent Starting Run: r859xdtx with config:\n",
      "\u001b[34m\u001b[1mwandb\u001b[0m: \thidden_dim: 64\n",
      "\u001b[34m\u001b[1mwandb\u001b[0m: \tlearning_rate: 0.00041372457207685905\n",
      "Failed to detect the name of this notebook, you can set it manually with the WANDB_NOTEBOOK_NAME environment variable to enable code saving.\n"
     ]
    },
    {
     "data": {
      "text/html": [
       "Tracking run with wandb version 0.16.5"
      ],
      "text/plain": [
       "<IPython.core.display.HTML object>"
      ]
     },
     "metadata": {},
     "output_type": "display_data"
    },
    {
     "data": {
      "text/html": [
       "Run data is saved locally in <code>c:\\Users\\Shobhith Vadlamudi\\Desktop\\3rd Year\\SEM 6\\RL\\wandb\\run-20240401_225255-r859xdtx</code>"
      ],
      "text/plain": [
       "<IPython.core.display.HTML object>"
      ]
     },
     "metadata": {},
     "output_type": "display_data"
    },
    {
     "data": {
      "text/html": [
       "Syncing run <strong><a href='https://wandb.ai/rl_shobhith/uncategorized/runs/r859xdtx/workspace' target=\"_blank\">trim-sweep-85</a></strong> to <a href='https://wandb.ai/rl_shobhith/uncategorized' target=\"_blank\">Weights & Biases</a> (<a href='https://wandb.me/run' target=\"_blank\">docs</a>)<br/>Sweep page: <a href='https://wandb.ai/rl_shobhith/uncategorized/sweeps/ebygp3ca' target=\"_blank\">https://wandb.ai/rl_shobhith/uncategorized/sweeps/ebygp3ca</a>"
      ],
      "text/plain": [
       "<IPython.core.display.HTML object>"
      ]
     },
     "metadata": {},
     "output_type": "display_data"
    },
    {
     "data": {
      "text/html": [
       " View project at <a href='https://wandb.ai/rl_shobhith/uncategorized' target=\"_blank\">https://wandb.ai/rl_shobhith/uncategorized</a>"
      ],
      "text/plain": [
       "<IPython.core.display.HTML object>"
      ]
     },
     "metadata": {},
     "output_type": "display_data"
    },
    {
     "data": {
      "text/html": [
       " View sweep at <a href='https://wandb.ai/rl_shobhith/uncategorized/sweeps/ebygp3ca' target=\"_blank\">https://wandb.ai/rl_shobhith/uncategorized/sweeps/ebygp3ca</a>"
      ],
      "text/plain": [
       "<IPython.core.display.HTML object>"
      ]
     },
     "metadata": {},
     "output_type": "display_data"
    },
    {
     "data": {
      "text/html": [
       " View run at <a href='https://wandb.ai/rl_shobhith/uncategorized/runs/r859xdtx/workspace' target=\"_blank\">https://wandb.ai/rl_shobhith/uncategorized/runs/r859xdtx/workspace</a>"
      ],
      "text/plain": [
       "<IPython.core.display.HTML object>"
      ]
     },
     "metadata": {},
     "output_type": "display_data"
    },
    {
     "name": "stderr",
     "output_type": "stream",
     "text": [
      "Iteration 0: 100%|██████████| 50/50 [00:01<00:00, 46.12it/s, episode_return=50, return=24.600]\n",
      "Iteration 1: 100%|██████████| 50/50 [00:01<00:00, 39.89it/s, episode_return=100, return=30.800]\n",
      "Iteration 2: 100%|██████████| 50/50 [00:01<00:00, 30.72it/s, episode_return=150, return=34.600]\n",
      "Iteration 3: 100%|██████████| 50/50 [00:01<00:00, 32.13it/s, episode_return=200, return=31.900]\n",
      "Iteration 4: 100%|██████████| 50/50 [00:01<00:00, 45.19it/s, episode_return=250, return=39.000]\n",
      "Iteration 5: 100%|██████████| 50/50 [00:01<00:00, 35.67it/s, episode_return=300, return=54.700]\n",
      "Iteration 6: 100%|██████████| 50/50 [00:01<00:00, 34.68it/s, episode_return=350, return=54.900]\n",
      "Iteration 7: 100%|██████████| 50/50 [00:01<00:00, 34.15it/s, episode_return=400, return=46.500]\n",
      "Iteration 8: 100%|██████████| 50/50 [00:01<00:00, 29.98it/s, episode_return=450, return=55.500]\n",
      "Iteration 9: 100%|██████████| 50/50 [00:02<00:00, 23.91it/s, episode_return=500, return=46.400]\n"
     ]
    },
    {
     "data": {
      "application/vnd.jupyter.widget-view+json": {
       "model_id": "488497ac12a14252949697f766f01b9f",
       "version_major": 2,
       "version_minor": 0
      },
      "text/plain": [
       "VBox(children=(Label(value='0.001 MB of 0.001 MB uploaded\\r'), FloatProgress(value=1.0, max=1.0)))"
      ]
     },
     "metadata": {},
     "output_type": "display_data"
    },
    {
     "data": {
      "text/html": [
       "<style>\n",
       "    table.wandb td:nth-child(1) { padding: 0 10px; text-align: left ; width: auto;} td:nth-child(2) {text-align: left ; width: 100%}\n",
       "    .wandb-row { display: flex; flex-direction: row; flex-wrap: wrap; justify-content: flex-start; width: 100% }\n",
       "    .wandb-col { display: flex; flex-direction: column; flex-basis: 100%; flex: 1; padding: 10px; }\n",
       "    </style>\n",
       "<div class=\"wandb-row\"><div class=\"wandb-col\"><h3>Run history:</h3><br/><table class=\"wandb\"><tr><td>regret</td><td>▁</td></tr></table><br/></div><div class=\"wandb-col\"><h3>Run summary:</h3><br/><table class=\"wandb\"><tr><td>regret</td><td>79195.4267</td></tr></table><br/></div></div>"
      ],
      "text/plain": [
       "<IPython.core.display.HTML object>"
      ]
     },
     "metadata": {},
     "output_type": "display_data"
    },
    {
     "data": {
      "text/html": [
       " View run <strong style=\"color:#cdcd00\">trim-sweep-85</strong> at: <a href='https://wandb.ai/rl_shobhith/uncategorized/runs/r859xdtx/workspace' target=\"_blank\">https://wandb.ai/rl_shobhith/uncategorized/runs/r859xdtx/workspace</a><br/>Synced 5 W&B file(s), 0 media file(s), 0 artifact file(s) and 0 other file(s)"
      ],
      "text/plain": [
       "<IPython.core.display.HTML object>"
      ]
     },
     "metadata": {},
     "output_type": "display_data"
    },
    {
     "data": {
      "text/html": [
       "Find logs at: <code>.\\wandb\\run-20240401_225255-r859xdtx\\logs</code>"
      ],
      "text/plain": [
       "<IPython.core.display.HTML object>"
      ]
     },
     "metadata": {},
     "output_type": "display_data"
    },
    {
     "name": "stderr",
     "output_type": "stream",
     "text": [
      "\u001b[34m\u001b[1mwandb\u001b[0m: Agent Starting Run: hq1516a1 with config:\n",
      "\u001b[34m\u001b[1mwandb\u001b[0m: \thidden_dim: 256\n",
      "\u001b[34m\u001b[1mwandb\u001b[0m: \tlearning_rate: 3.3521696456586216e-05\n",
      "Failed to detect the name of this notebook, you can set it manually with the WANDB_NOTEBOOK_NAME environment variable to enable code saving.\n"
     ]
    },
    {
     "data": {
      "text/html": [
       "Tracking run with wandb version 0.16.5"
      ],
      "text/plain": [
       "<IPython.core.display.HTML object>"
      ]
     },
     "metadata": {},
     "output_type": "display_data"
    },
    {
     "data": {
      "text/html": [
       "Run data is saved locally in <code>c:\\Users\\Shobhith Vadlamudi\\Desktop\\3rd Year\\SEM 6\\RL\\wandb\\run-20240401_225323-hq1516a1</code>"
      ],
      "text/plain": [
       "<IPython.core.display.HTML object>"
      ]
     },
     "metadata": {},
     "output_type": "display_data"
    },
    {
     "data": {
      "text/html": [
       "Syncing run <strong><a href='https://wandb.ai/rl_shobhith/uncategorized/runs/hq1516a1/workspace' target=\"_blank\">restful-sweep-86</a></strong> to <a href='https://wandb.ai/rl_shobhith/uncategorized' target=\"_blank\">Weights & Biases</a> (<a href='https://wandb.me/run' target=\"_blank\">docs</a>)<br/>Sweep page: <a href='https://wandb.ai/rl_shobhith/uncategorized/sweeps/ebygp3ca' target=\"_blank\">https://wandb.ai/rl_shobhith/uncategorized/sweeps/ebygp3ca</a>"
      ],
      "text/plain": [
       "<IPython.core.display.HTML object>"
      ]
     },
     "metadata": {},
     "output_type": "display_data"
    },
    {
     "data": {
      "text/html": [
       " View project at <a href='https://wandb.ai/rl_shobhith/uncategorized' target=\"_blank\">https://wandb.ai/rl_shobhith/uncategorized</a>"
      ],
      "text/plain": [
       "<IPython.core.display.HTML object>"
      ]
     },
     "metadata": {},
     "output_type": "display_data"
    },
    {
     "data": {
      "text/html": [
       " View sweep at <a href='https://wandb.ai/rl_shobhith/uncategorized/sweeps/ebygp3ca' target=\"_blank\">https://wandb.ai/rl_shobhith/uncategorized/sweeps/ebygp3ca</a>"
      ],
      "text/plain": [
       "<IPython.core.display.HTML object>"
      ]
     },
     "metadata": {},
     "output_type": "display_data"
    },
    {
     "data": {
      "text/html": [
       " View run at <a href='https://wandb.ai/rl_shobhith/uncategorized/runs/hq1516a1/workspace' target=\"_blank\">https://wandb.ai/rl_shobhith/uncategorized/runs/hq1516a1/workspace</a>"
      ],
      "text/plain": [
       "<IPython.core.display.HTML object>"
      ]
     },
     "metadata": {},
     "output_type": "display_data"
    },
    {
     "name": "stderr",
     "output_type": "stream",
     "text": [
      "Iteration 0: 100%|██████████| 50/50 [00:00<00:00, 67.73it/s, episode_return=50, return=20.000]\n",
      "Iteration 1: 100%|██████████| 50/50 [00:00<00:00, 65.74it/s, episode_return=100, return=20.000]\n",
      "Iteration 2: 100%|██████████| 50/50 [00:00<00:00, 57.82it/s, episode_return=150, return=18.700]\n",
      "Iteration 3: 100%|██████████| 50/50 [00:00<00:00, 62.91it/s, episode_return=200, return=15.700]\n",
      "Iteration 4: 100%|██████████| 50/50 [00:00<00:00, 54.24it/s, episode_return=250, return=22.800]\n",
      "Iteration 5: 100%|██████████| 50/50 [00:00<00:00, 63.43it/s, episode_return=300, return=18.900]\n",
      "Iteration 6: 100%|██████████| 50/50 [00:00<00:00, 56.09it/s, episode_return=350, return=20.200]\n",
      "Iteration 7: 100%|██████████| 50/50 [00:00<00:00, 63.57it/s, episode_return=400, return=16.400]\n",
      "Iteration 8: 100%|██████████| 50/50 [00:01<00:00, 47.99it/s, episode_return=450, return=27.600]\n",
      "Iteration 9: 100%|██████████| 50/50 [00:01<00:00, 46.84it/s, episode_return=500, return=23.900]\n"
     ]
    },
    {
     "data": {
      "application/vnd.jupyter.widget-view+json": {
       "model_id": "68435a322d24437b84af114d43e48744",
       "version_major": 2,
       "version_minor": 0
      },
      "text/plain": [
       "VBox(children=(Label(value='0.001 MB of 0.001 MB uploaded\\r'), FloatProgress(value=1.0, max=1.0)))"
      ]
     },
     "metadata": {},
     "output_type": "display_data"
    },
    {
     "data": {
      "text/html": [
       "<style>\n",
       "    table.wandb td:nth-child(1) { padding: 0 10px; text-align: left ; width: auto;} td:nth-child(2) {text-align: left ; width: 100%}\n",
       "    .wandb-row { display: flex; flex-direction: row; flex-wrap: wrap; justify-content: flex-start; width: 100% }\n",
       "    .wandb-col { display: flex; flex-direction: column; flex-basis: 100%; flex: 1; padding: 10px; }\n",
       "    </style>\n",
       "<div class=\"wandb-row\"><div class=\"wandb-col\"><h3>Run history:</h3><br/><table class=\"wandb\"><tr><td>regret</td><td>▁</td></tr></table><br/></div><div class=\"wandb-col\"><h3>Run summary:</h3><br/><table class=\"wandb\"><tr><td>regret</td><td>87493.74691</td></tr></table><br/></div></div>"
      ],
      "text/plain": [
       "<IPython.core.display.HTML object>"
      ]
     },
     "metadata": {},
     "output_type": "display_data"
    },
    {
     "data": {
      "text/html": [
       " View run <strong style=\"color:#cdcd00\">restful-sweep-86</strong> at: <a href='https://wandb.ai/rl_shobhith/uncategorized/runs/hq1516a1/workspace' target=\"_blank\">https://wandb.ai/rl_shobhith/uncategorized/runs/hq1516a1/workspace</a><br/>Synced 5 W&B file(s), 0 media file(s), 0 artifact file(s) and 0 other file(s)"
      ],
      "text/plain": [
       "<IPython.core.display.HTML object>"
      ]
     },
     "metadata": {},
     "output_type": "display_data"
    },
    {
     "data": {
      "text/html": [
       "Find logs at: <code>.\\wandb\\run-20240401_225323-hq1516a1\\logs</code>"
      ],
      "text/plain": [
       "<IPython.core.display.HTML object>"
      ]
     },
     "metadata": {},
     "output_type": "display_data"
    },
    {
     "name": "stderr",
     "output_type": "stream",
     "text": [
      "\u001b[34m\u001b[1mwandb\u001b[0m: Sweep Agent: Waiting for job.\n",
      "\u001b[34m\u001b[1mwandb\u001b[0m: Job received.\n",
      "\u001b[34m\u001b[1mwandb\u001b[0m: Agent Starting Run: 07yerxh9 with config:\n",
      "\u001b[34m\u001b[1mwandb\u001b[0m: \thidden_dim: 256\n",
      "\u001b[34m\u001b[1mwandb\u001b[0m: \tlearning_rate: 0.0008785199999144352\n",
      "Failed to detect the name of this notebook, you can set it manually with the WANDB_NOTEBOOK_NAME environment variable to enable code saving.\n"
     ]
    },
    {
     "data": {
      "text/html": [
       "Tracking run with wandb version 0.16.5"
      ],
      "text/plain": [
       "<IPython.core.display.HTML object>"
      ]
     },
     "metadata": {},
     "output_type": "display_data"
    },
    {
     "data": {
      "text/html": [
       "Run data is saved locally in <code>c:\\Users\\Shobhith Vadlamudi\\Desktop\\3rd Year\\SEM 6\\RL\\wandb\\run-20240401_225355-07yerxh9</code>"
      ],
      "text/plain": [
       "<IPython.core.display.HTML object>"
      ]
     },
     "metadata": {},
     "output_type": "display_data"
    },
    {
     "data": {
      "text/html": [
       "Syncing run <strong><a href='https://wandb.ai/rl_shobhith/uncategorized/runs/07yerxh9/workspace' target=\"_blank\">denim-sweep-87</a></strong> to <a href='https://wandb.ai/rl_shobhith/uncategorized' target=\"_blank\">Weights & Biases</a> (<a href='https://wandb.me/run' target=\"_blank\">docs</a>)<br/>Sweep page: <a href='https://wandb.ai/rl_shobhith/uncategorized/sweeps/ebygp3ca' target=\"_blank\">https://wandb.ai/rl_shobhith/uncategorized/sweeps/ebygp3ca</a>"
      ],
      "text/plain": [
       "<IPython.core.display.HTML object>"
      ]
     },
     "metadata": {},
     "output_type": "display_data"
    },
    {
     "data": {
      "text/html": [
       " View project at <a href='https://wandb.ai/rl_shobhith/uncategorized' target=\"_blank\">https://wandb.ai/rl_shobhith/uncategorized</a>"
      ],
      "text/plain": [
       "<IPython.core.display.HTML object>"
      ]
     },
     "metadata": {},
     "output_type": "display_data"
    },
    {
     "data": {
      "text/html": [
       " View sweep at <a href='https://wandb.ai/rl_shobhith/uncategorized/sweeps/ebygp3ca' target=\"_blank\">https://wandb.ai/rl_shobhith/uncategorized/sweeps/ebygp3ca</a>"
      ],
      "text/plain": [
       "<IPython.core.display.HTML object>"
      ]
     },
     "metadata": {},
     "output_type": "display_data"
    },
    {
     "data": {
      "text/html": [
       " View run at <a href='https://wandb.ai/rl_shobhith/uncategorized/runs/07yerxh9/workspace' target=\"_blank\">https://wandb.ai/rl_shobhith/uncategorized/runs/07yerxh9/workspace</a>"
      ],
      "text/plain": [
       "<IPython.core.display.HTML object>"
      ]
     },
     "metadata": {},
     "output_type": "display_data"
    },
    {
     "name": "stderr",
     "output_type": "stream",
     "text": [
      "Iteration 0: 100%|██████████| 50/50 [00:01<00:00, 33.10it/s, episode_return=50, return=29.600]\n",
      "Iteration 1: 100%|██████████| 50/50 [00:02<00:00, 18.77it/s, episode_return=100, return=67.000]\n",
      "Iteration 2: 100%|██████████| 50/50 [00:04<00:00, 11.06it/s, episode_return=150, return=161.400]\n",
      "Iteration 3: 100%|██████████| 50/50 [00:06<00:00,  8.32it/s, episode_return=200, return=144.800]\n",
      "Iteration 4: 100%|██████████| 50/50 [00:09<00:00,  5.25it/s, episode_return=250, return=256.800]\n",
      "Iteration 5: 100%|██████████| 50/50 [00:10<00:00,  4.58it/s, episode_return=300, return=180.200]\n",
      "Iteration 6: 100%|██████████| 50/50 [00:08<00:00,  5.95it/s, episode_return=350, return=241.000]\n",
      "Iteration 7: 100%|██████████| 50/50 [00:14<00:00,  3.57it/s, episode_return=400, return=391.600]\n",
      "Iteration 8: 100%|██████████| 50/50 [00:13<00:00,  3.76it/s, episode_return=450, return=317.800]\n",
      "Iteration 9: 100%|██████████| 50/50 [00:14<00:00,  3.57it/s, episode_return=500, return=446.700]\n"
     ]
    },
    {
     "data": {
      "application/vnd.jupyter.widget-view+json": {
       "model_id": "973c4f1295984efa9a84b269ab794fee",
       "version_major": 2,
       "version_minor": 0
      },
      "text/plain": [
       "VBox(children=(Label(value='0.001 MB of 0.001 MB uploaded\\r'), FloatProgress(value=1.0, max=1.0)))"
      ]
     },
     "metadata": {},
     "output_type": "display_data"
    },
    {
     "data": {
      "text/html": [
       "<style>\n",
       "    table.wandb td:nth-child(1) { padding: 0 10px; text-align: left ; width: auto;} td:nth-child(2) {text-align: left ; width: 100%}\n",
       "    .wandb-row { display: flex; flex-direction: row; flex-wrap: wrap; justify-content: flex-start; width: 100% }\n",
       "    .wandb-col { display: flex; flex-direction: column; flex-basis: 100%; flex: 1; padding: 10px; }\n",
       "    </style>\n",
       "<div class=\"wandb-row\"><div class=\"wandb-col\"><h3>Run history:</h3><br/><table class=\"wandb\"><tr><td>regret</td><td>▁</td></tr></table><br/></div><div class=\"wandb-col\"><h3>Run summary:</h3><br/><table class=\"wandb\"><tr><td>regret</td><td>30139.75663</td></tr></table><br/></div></div>"
      ],
      "text/plain": [
       "<IPython.core.display.HTML object>"
      ]
     },
     "metadata": {},
     "output_type": "display_data"
    },
    {
     "data": {
      "text/html": [
       " View run <strong style=\"color:#cdcd00\">denim-sweep-87</strong> at: <a href='https://wandb.ai/rl_shobhith/uncategorized/runs/07yerxh9/workspace' target=\"_blank\">https://wandb.ai/rl_shobhith/uncategorized/runs/07yerxh9/workspace</a><br/>Synced 5 W&B file(s), 0 media file(s), 0 artifact file(s) and 0 other file(s)"
      ],
      "text/plain": [
       "<IPython.core.display.HTML object>"
      ]
     },
     "metadata": {},
     "output_type": "display_data"
    },
    {
     "data": {
      "text/html": [
       "Find logs at: <code>.\\wandb\\run-20240401_225355-07yerxh9\\logs</code>"
      ],
      "text/plain": [
       "<IPython.core.display.HTML object>"
      ]
     },
     "metadata": {},
     "output_type": "display_data"
    },
    {
     "name": "stderr",
     "output_type": "stream",
     "text": [
      "\u001b[34m\u001b[1mwandb\u001b[0m: Sweep Agent: Waiting for job.\n",
      "\u001b[34m\u001b[1mwandb\u001b[0m: Job received.\n",
      "\u001b[34m\u001b[1mwandb\u001b[0m: Agent Starting Run: jxnndask with config:\n",
      "\u001b[34m\u001b[1mwandb\u001b[0m: \thidden_dim: 256\n",
      "\u001b[34m\u001b[1mwandb\u001b[0m: \tlearning_rate: 0.0003394658878817113\n",
      "Failed to detect the name of this notebook, you can set it manually with the WANDB_NOTEBOOK_NAME environment variable to enable code saving.\n"
     ]
    },
    {
     "data": {
      "application/vnd.jupyter.widget-view+json": {
       "model_id": "35e454d9ca064c7a875076321767f3c6",
       "version_major": 2,
       "version_minor": 0
      },
      "text/plain": [
       "VBox(children=(Label(value='Waiting for wandb.init()...\\r'), FloatProgress(value=0.011277777777932999, max=1.0…"
      ]
     },
     "metadata": {},
     "output_type": "display_data"
    },
    {
     "data": {
      "text/html": [
       "Tracking run with wandb version 0.16.5"
      ],
      "text/plain": [
       "<IPython.core.display.HTML object>"
      ]
     },
     "metadata": {},
     "output_type": "display_data"
    },
    {
     "data": {
      "text/html": [
       "Run data is saved locally in <code>c:\\Users\\Shobhith Vadlamudi\\Desktop\\3rd Year\\SEM 6\\RL\\wandb\\run-20240401_225542-jxnndask</code>"
      ],
      "text/plain": [
       "<IPython.core.display.HTML object>"
      ]
     },
     "metadata": {},
     "output_type": "display_data"
    },
    {
     "data": {
      "text/html": [
       "Syncing run <strong><a href='https://wandb.ai/rl_shobhith/uncategorized/runs/jxnndask/workspace' target=\"_blank\">trim-sweep-88</a></strong> to <a href='https://wandb.ai/rl_shobhith/uncategorized' target=\"_blank\">Weights & Biases</a> (<a href='https://wandb.me/run' target=\"_blank\">docs</a>)<br/>Sweep page: <a href='https://wandb.ai/rl_shobhith/uncategorized/sweeps/ebygp3ca' target=\"_blank\">https://wandb.ai/rl_shobhith/uncategorized/sweeps/ebygp3ca</a>"
      ],
      "text/plain": [
       "<IPython.core.display.HTML object>"
      ]
     },
     "metadata": {},
     "output_type": "display_data"
    },
    {
     "data": {
      "text/html": [
       " View project at <a href='https://wandb.ai/rl_shobhith/uncategorized' target=\"_blank\">https://wandb.ai/rl_shobhith/uncategorized</a>"
      ],
      "text/plain": [
       "<IPython.core.display.HTML object>"
      ]
     },
     "metadata": {},
     "output_type": "display_data"
    },
    {
     "data": {
      "text/html": [
       " View sweep at <a href='https://wandb.ai/rl_shobhith/uncategorized/sweeps/ebygp3ca' target=\"_blank\">https://wandb.ai/rl_shobhith/uncategorized/sweeps/ebygp3ca</a>"
      ],
      "text/plain": [
       "<IPython.core.display.HTML object>"
      ]
     },
     "metadata": {},
     "output_type": "display_data"
    },
    {
     "data": {
      "text/html": [
       " View run at <a href='https://wandb.ai/rl_shobhith/uncategorized/runs/jxnndask/workspace' target=\"_blank\">https://wandb.ai/rl_shobhith/uncategorized/runs/jxnndask/workspace</a>"
      ],
      "text/plain": [
       "<IPython.core.display.HTML object>"
      ]
     },
     "metadata": {},
     "output_type": "display_data"
    },
    {
     "name": "stderr",
     "output_type": "stream",
     "text": [
      "Iteration 0: 100%|██████████| 50/50 [00:01<00:00, 48.20it/s, episode_return=50, return=23.900]\n",
      "Iteration 1: 100%|██████████| 50/50 [00:01<00:00, 42.03it/s, episode_return=100, return=31.300]\n",
      "Iteration 2: 100%|██████████| 50/50 [00:01<00:00, 35.24it/s, episode_return=150, return=39.300]\n",
      "Iteration 3: 100%|██████████| 50/50 [00:01<00:00, 32.08it/s, episode_return=200, return=40.700]\n",
      "Iteration 4: 100%|██████████| 50/50 [00:01<00:00, 29.37it/s, episode_return=250, return=49.200]\n",
      "Iteration 5: 100%|██████████| 50/50 [00:01<00:00, 25.51it/s, episode_return=300, return=49.000]\n",
      "Iteration 6: 100%|██████████| 50/50 [00:01<00:00, 26.85it/s, episode_return=350, return=38.800]\n",
      "Iteration 7: 100%|██████████| 50/50 [00:02<00:00, 21.72it/s, episode_return=400, return=56.900]\n",
      "Iteration 8: 100%|██████████| 50/50 [00:02<00:00, 18.94it/s, episode_return=450, return=69.000]\n",
      "Iteration 9: 100%|██████████| 50/50 [00:03<00:00, 15.92it/s, episode_return=500, return=92.800]\n"
     ]
    },
    {
     "data": {
      "application/vnd.jupyter.widget-view+json": {
       "model_id": "380094a817cc48ed9e0c82ce2565cf28",
       "version_major": 2,
       "version_minor": 0
      },
      "text/plain": [
       "VBox(children=(Label(value='0.001 MB of 0.001 MB uploaded\\r'), FloatProgress(value=1.0, max=1.0)))"
      ]
     },
     "metadata": {},
     "output_type": "display_data"
    },
    {
     "data": {
      "text/html": [
       "<style>\n",
       "    table.wandb td:nth-child(1) { padding: 0 10px; text-align: left ; width: auto;} td:nth-child(2) {text-align: left ; width: 100%}\n",
       "    .wandb-row { display: flex; flex-direction: row; flex-wrap: wrap; justify-content: flex-start; width: 100% }\n",
       "    .wandb-col { display: flex; flex-direction: column; flex-basis: 100%; flex: 1; padding: 10px; }\n",
       "    </style>\n",
       "<div class=\"wandb-row\"><div class=\"wandb-col\"><h3>Run history:</h3><br/><table class=\"wandb\"><tr><td>regret</td><td>▁</td></tr></table><br/></div><div class=\"wandb-col\"><h3>Run summary:</h3><br/><table class=\"wandb\"><tr><td>regret</td><td>76487.61959</td></tr></table><br/></div></div>"
      ],
      "text/plain": [
       "<IPython.core.display.HTML object>"
      ]
     },
     "metadata": {},
     "output_type": "display_data"
    },
    {
     "data": {
      "text/html": [
       " View run <strong style=\"color:#cdcd00\">trim-sweep-88</strong> at: <a href='https://wandb.ai/rl_shobhith/uncategorized/runs/jxnndask/workspace' target=\"_blank\">https://wandb.ai/rl_shobhith/uncategorized/runs/jxnndask/workspace</a><br/>Synced 5 W&B file(s), 0 media file(s), 0 artifact file(s) and 0 other file(s)"
      ],
      "text/plain": [
       "<IPython.core.display.HTML object>"
      ]
     },
     "metadata": {},
     "output_type": "display_data"
    },
    {
     "data": {
      "text/html": [
       "Find logs at: <code>.\\wandb\\run-20240401_225542-jxnndask\\logs</code>"
      ],
      "text/plain": [
       "<IPython.core.display.HTML object>"
      ]
     },
     "metadata": {},
     "output_type": "display_data"
    },
    {
     "name": "stderr",
     "output_type": "stream",
     "text": [
      "\u001b[34m\u001b[1mwandb\u001b[0m: Agent Starting Run: 05bgads2 with config:\n",
      "\u001b[34m\u001b[1mwandb\u001b[0m: \thidden_dim: 64\n",
      "\u001b[34m\u001b[1mwandb\u001b[0m: \tlearning_rate: 0.00011250256671919614\n",
      "Failed to detect the name of this notebook, you can set it manually with the WANDB_NOTEBOOK_NAME environment variable to enable code saving.\n"
     ]
    },
    {
     "data": {
      "text/html": [
       "Tracking run with wandb version 0.16.5"
      ],
      "text/plain": [
       "<IPython.core.display.HTML object>"
      ]
     },
     "metadata": {},
     "output_type": "display_data"
    },
    {
     "data": {
      "text/html": [
       "Run data is saved locally in <code>c:\\Users\\Shobhith Vadlamudi\\Desktop\\3rd Year\\SEM 6\\RL\\wandb\\run-20240401_225614-05bgads2</code>"
      ],
      "text/plain": [
       "<IPython.core.display.HTML object>"
      ]
     },
     "metadata": {},
     "output_type": "display_data"
    },
    {
     "data": {
      "text/html": [
       "Syncing run <strong><a href='https://wandb.ai/rl_shobhith/uncategorized/runs/05bgads2/workspace' target=\"_blank\">elated-sweep-89</a></strong> to <a href='https://wandb.ai/rl_shobhith/uncategorized' target=\"_blank\">Weights & Biases</a> (<a href='https://wandb.me/run' target=\"_blank\">docs</a>)<br/>Sweep page: <a href='https://wandb.ai/rl_shobhith/uncategorized/sweeps/ebygp3ca' target=\"_blank\">https://wandb.ai/rl_shobhith/uncategorized/sweeps/ebygp3ca</a>"
      ],
      "text/plain": [
       "<IPython.core.display.HTML object>"
      ]
     },
     "metadata": {},
     "output_type": "display_data"
    },
    {
     "data": {
      "text/html": [
       " View project at <a href='https://wandb.ai/rl_shobhith/uncategorized' target=\"_blank\">https://wandb.ai/rl_shobhith/uncategorized</a>"
      ],
      "text/plain": [
       "<IPython.core.display.HTML object>"
      ]
     },
     "metadata": {},
     "output_type": "display_data"
    },
    {
     "data": {
      "text/html": [
       " View sweep at <a href='https://wandb.ai/rl_shobhith/uncategorized/sweeps/ebygp3ca' target=\"_blank\">https://wandb.ai/rl_shobhith/uncategorized/sweeps/ebygp3ca</a>"
      ],
      "text/plain": [
       "<IPython.core.display.HTML object>"
      ]
     },
     "metadata": {},
     "output_type": "display_data"
    },
    {
     "data": {
      "text/html": [
       " View run at <a href='https://wandb.ai/rl_shobhith/uncategorized/runs/05bgads2/workspace' target=\"_blank\">https://wandb.ai/rl_shobhith/uncategorized/runs/05bgads2/workspace</a>"
      ],
      "text/plain": [
       "<IPython.core.display.HTML object>"
      ]
     },
     "metadata": {},
     "output_type": "display_data"
    },
    {
     "name": "stderr",
     "output_type": "stream",
     "text": [
      "Iteration 0: 100%|██████████| 50/50 [00:00<00:00, 58.82it/s, episode_return=50, return=19.100]\n",
      "Iteration 1: 100%|██████████| 50/50 [00:00<00:00, 51.00it/s, episode_return=100, return=18.900]\n",
      "Iteration 2: 100%|██████████| 50/50 [00:01<00:00, 40.50it/s, episode_return=150, return=27.500]\n",
      "Iteration 3: 100%|██████████| 50/50 [00:01<00:00, 43.06it/s, episode_return=200, return=27.300]\n",
      "Iteration 4: 100%|██████████| 50/50 [00:01<00:00, 45.15it/s, episode_return=250, return=33.800]\n",
      "Iteration 5: 100%|██████████| 50/50 [00:01<00:00, 46.91it/s, episode_return=300, return=31.800]\n",
      "Iteration 6: 100%|██████████| 50/50 [00:01<00:00, 36.73it/s, episode_return=350, return=26.300]\n",
      "Iteration 7: 100%|██████████| 50/50 [00:01<00:00, 46.65it/s, episode_return=400, return=23.400]\n",
      "Iteration 8: 100%|██████████| 50/50 [00:01<00:00, 41.63it/s, episode_return=450, return=28.900]\n",
      "Iteration 9: 100%|██████████| 50/50 [00:01<00:00, 37.38it/s, episode_return=500, return=28.700]\n"
     ]
    },
    {
     "data": {
      "application/vnd.jupyter.widget-view+json": {
       "model_id": "a4174b786c624b77b55a3c73f24da1bb",
       "version_major": 2,
       "version_minor": 0
      },
      "text/plain": [
       "VBox(children=(Label(value='0.001 MB of 0.001 MB uploaded\\r'), FloatProgress(value=1.0, max=1.0)))"
      ]
     },
     "metadata": {},
     "output_type": "display_data"
    },
    {
     "data": {
      "text/html": [
       "<style>\n",
       "    table.wandb td:nth-child(1) { padding: 0 10px; text-align: left ; width: auto;} td:nth-child(2) {text-align: left ; width: 100%}\n",
       "    .wandb-row { display: flex; flex-direction: row; flex-wrap: wrap; justify-content: flex-start; width: 100% }\n",
       "    .wandb-col { display: flex; flex-direction: column; flex-basis: 100%; flex: 1; padding: 10px; }\n",
       "    </style>\n",
       "<div class=\"wandb-row\"><div class=\"wandb-col\"><h3>Run history:</h3><br/><table class=\"wandb\"><tr><td>regret</td><td>▁</td></tr></table><br/></div><div class=\"wandb-col\"><h3>Run summary:</h3><br/><table class=\"wandb\"><tr><td>regret</td><td>85083.86847</td></tr></table><br/></div></div>"
      ],
      "text/plain": [
       "<IPython.core.display.HTML object>"
      ]
     },
     "metadata": {},
     "output_type": "display_data"
    },
    {
     "data": {
      "text/html": [
       " View run <strong style=\"color:#cdcd00\">elated-sweep-89</strong> at: <a href='https://wandb.ai/rl_shobhith/uncategorized/runs/05bgads2/workspace' target=\"_blank\">https://wandb.ai/rl_shobhith/uncategorized/runs/05bgads2/workspace</a><br/>Synced 5 W&B file(s), 0 media file(s), 0 artifact file(s) and 0 other file(s)"
      ],
      "text/plain": [
       "<IPython.core.display.HTML object>"
      ]
     },
     "metadata": {},
     "output_type": "display_data"
    },
    {
     "data": {
      "text/html": [
       "Find logs at: <code>.\\wandb\\run-20240401_225614-05bgads2\\logs</code>"
      ],
      "text/plain": [
       "<IPython.core.display.HTML object>"
      ]
     },
     "metadata": {},
     "output_type": "display_data"
    },
    {
     "name": "stderr",
     "output_type": "stream",
     "text": [
      "\u001b[34m\u001b[1mwandb\u001b[0m: Sweep Agent: Waiting for job.\n",
      "\u001b[34m\u001b[1mwandb\u001b[0m: Job received.\n",
      "\u001b[34m\u001b[1mwandb\u001b[0m: Agent Starting Run: f2pbmg0h with config:\n",
      "\u001b[34m\u001b[1mwandb\u001b[0m: \thidden_dim: 128\n",
      "\u001b[34m\u001b[1mwandb\u001b[0m: \tlearning_rate: 0.0001367270032390846\n",
      "Failed to detect the name of this notebook, you can set it manually with the WANDB_NOTEBOOK_NAME environment variable to enable code saving.\n"
     ]
    },
    {
     "data": {
      "text/html": [
       "Tracking run with wandb version 0.16.5"
      ],
      "text/plain": [
       "<IPython.core.display.HTML object>"
      ]
     },
     "metadata": {},
     "output_type": "display_data"
    },
    {
     "data": {
      "text/html": [
       "Run data is saved locally in <code>c:\\Users\\Shobhith Vadlamudi\\Desktop\\3rd Year\\SEM 6\\RL\\wandb\\run-20240401_225647-f2pbmg0h</code>"
      ],
      "text/plain": [
       "<IPython.core.display.HTML object>"
      ]
     },
     "metadata": {},
     "output_type": "display_data"
    },
    {
     "data": {
      "text/html": [
       "Syncing run <strong><a href='https://wandb.ai/rl_shobhith/uncategorized/runs/f2pbmg0h/workspace' target=\"_blank\">glad-sweep-90</a></strong> to <a href='https://wandb.ai/rl_shobhith/uncategorized' target=\"_blank\">Weights & Biases</a> (<a href='https://wandb.me/run' target=\"_blank\">docs</a>)<br/>Sweep page: <a href='https://wandb.ai/rl_shobhith/uncategorized/sweeps/ebygp3ca' target=\"_blank\">https://wandb.ai/rl_shobhith/uncategorized/sweeps/ebygp3ca</a>"
      ],
      "text/plain": [
       "<IPython.core.display.HTML object>"
      ]
     },
     "metadata": {},
     "output_type": "display_data"
    },
    {
     "data": {
      "text/html": [
       " View project at <a href='https://wandb.ai/rl_shobhith/uncategorized' target=\"_blank\">https://wandb.ai/rl_shobhith/uncategorized</a>"
      ],
      "text/plain": [
       "<IPython.core.display.HTML object>"
      ]
     },
     "metadata": {},
     "output_type": "display_data"
    },
    {
     "data": {
      "text/html": [
       " View sweep at <a href='https://wandb.ai/rl_shobhith/uncategorized/sweeps/ebygp3ca' target=\"_blank\">https://wandb.ai/rl_shobhith/uncategorized/sweeps/ebygp3ca</a>"
      ],
      "text/plain": [
       "<IPython.core.display.HTML object>"
      ]
     },
     "metadata": {},
     "output_type": "display_data"
    },
    {
     "data": {
      "text/html": [
       " View run at <a href='https://wandb.ai/rl_shobhith/uncategorized/runs/f2pbmg0h/workspace' target=\"_blank\">https://wandb.ai/rl_shobhith/uncategorized/runs/f2pbmg0h/workspace</a>"
      ],
      "text/plain": [
       "<IPython.core.display.HTML object>"
      ]
     },
     "metadata": {},
     "output_type": "display_data"
    },
    {
     "name": "stderr",
     "output_type": "stream",
     "text": [
      "Iteration 0: 100%|██████████| 50/50 [00:00<00:00, 56.82it/s, episode_return=50, return=19.600]\n",
      "Iteration 1: 100%|██████████| 50/50 [00:00<00:00, 60.87it/s, episode_return=100, return=20.300]\n",
      "Iteration 2: 100%|██████████| 50/50 [00:00<00:00, 58.23it/s, episode_return=150, return=21.800]\n",
      "Iteration 3: 100%|██████████| 50/50 [00:01<00:00, 46.60it/s, episode_return=200, return=28.700]\n",
      "Iteration 4: 100%|██████████| 50/50 [00:01<00:00, 47.87it/s, episode_return=250, return=22.500]\n",
      "Iteration 5: 100%|██████████| 50/50 [00:01<00:00, 34.46it/s, episode_return=300, return=25.200]\n",
      "Iteration 6: 100%|██████████| 50/50 [00:01<00:00, 38.46it/s, episode_return=350, return=32.100]\n",
      "Iteration 7: 100%|██████████| 50/50 [00:01<00:00, 41.06it/s, episode_return=400, return=23.900]\n",
      "Iteration 8: 100%|██████████| 50/50 [00:01<00:00, 36.46it/s, episode_return=450, return=33.400]\n",
      "Iteration 9: 100%|██████████| 50/50 [00:01<00:00, 35.05it/s, episode_return=500, return=30.600]\n"
     ]
    },
    {
     "data": {
      "application/vnd.jupyter.widget-view+json": {
       "model_id": "56467e825a99481685cfaf53105c1208",
       "version_major": 2,
       "version_minor": 0
      },
      "text/plain": [
       "VBox(children=(Label(value='0.001 MB of 0.007 MB uploaded\\r'), FloatProgress(value=0.17077850877192982, max=1.…"
      ]
     },
     "metadata": {},
     "output_type": "display_data"
    },
    {
     "data": {
      "text/html": [
       "<style>\n",
       "    table.wandb td:nth-child(1) { padding: 0 10px; text-align: left ; width: auto;} td:nth-child(2) {text-align: left ; width: 100%}\n",
       "    .wandb-row { display: flex; flex-direction: row; flex-wrap: wrap; justify-content: flex-start; width: 100% }\n",
       "    .wandb-col { display: flex; flex-direction: column; flex-basis: 100%; flex: 1; padding: 10px; }\n",
       "    </style>\n",
       "<div class=\"wandb-row\"><div class=\"wandb-col\"><h3>Run history:</h3><br/><table class=\"wandb\"><tr><td>regret</td><td>▁</td></tr></table><br/></div><div class=\"wandb-col\"><h3>Run summary:</h3><br/><table class=\"wandb\"><tr><td>regret</td><td>85146.39338</td></tr></table><br/></div></div>"
      ],
      "text/plain": [
       "<IPython.core.display.HTML object>"
      ]
     },
     "metadata": {},
     "output_type": "display_data"
    },
    {
     "data": {
      "text/html": [
       " View run <strong style=\"color:#cdcd00\">glad-sweep-90</strong> at: <a href='https://wandb.ai/rl_shobhith/uncategorized/runs/f2pbmg0h/workspace' target=\"_blank\">https://wandb.ai/rl_shobhith/uncategorized/runs/f2pbmg0h/workspace</a><br/>Synced 5 W&B file(s), 0 media file(s), 0 artifact file(s) and 0 other file(s)"
      ],
      "text/plain": [
       "<IPython.core.display.HTML object>"
      ]
     },
     "metadata": {},
     "output_type": "display_data"
    },
    {
     "data": {
      "text/html": [
       "Find logs at: <code>.\\wandb\\run-20240401_225647-f2pbmg0h\\logs</code>"
      ],
      "text/plain": [
       "<IPython.core.display.HTML object>"
      ]
     },
     "metadata": {},
     "output_type": "display_data"
    },
    {
     "name": "stderr",
     "output_type": "stream",
     "text": [
      "\u001b[34m\u001b[1mwandb\u001b[0m: Sweep Agent: Waiting for job.\n",
      "\u001b[34m\u001b[1mwandb\u001b[0m: Job received.\n",
      "\u001b[34m\u001b[1mwandb\u001b[0m: Agent Starting Run: cmw2iivc with config:\n",
      "\u001b[34m\u001b[1mwandb\u001b[0m: \thidden_dim: 64\n",
      "\u001b[34m\u001b[1mwandb\u001b[0m: \tlearning_rate: 0.0003451563163537657\n",
      "Failed to detect the name of this notebook, you can set it manually with the WANDB_NOTEBOOK_NAME environment variable to enable code saving.\n"
     ]
    },
    {
     "data": {
      "text/html": [
       "Tracking run with wandb version 0.16.5"
      ],
      "text/plain": [
       "<IPython.core.display.HTML object>"
      ]
     },
     "metadata": {},
     "output_type": "display_data"
    },
    {
     "data": {
      "text/html": [
       "Run data is saved locally in <code>c:\\Users\\Shobhith Vadlamudi\\Desktop\\3rd Year\\SEM 6\\RL\\wandb\\run-20240401_225718-cmw2iivc</code>"
      ],
      "text/plain": [
       "<IPython.core.display.HTML object>"
      ]
     },
     "metadata": {},
     "output_type": "display_data"
    },
    {
     "data": {
      "text/html": [
       "Syncing run <strong><a href='https://wandb.ai/rl_shobhith/uncategorized/runs/cmw2iivc/workspace' target=\"_blank\">spring-sweep-91</a></strong> to <a href='https://wandb.ai/rl_shobhith/uncategorized' target=\"_blank\">Weights & Biases</a> (<a href='https://wandb.me/run' target=\"_blank\">docs</a>)<br/>Sweep page: <a href='https://wandb.ai/rl_shobhith/uncategorized/sweeps/ebygp3ca' target=\"_blank\">https://wandb.ai/rl_shobhith/uncategorized/sweeps/ebygp3ca</a>"
      ],
      "text/plain": [
       "<IPython.core.display.HTML object>"
      ]
     },
     "metadata": {},
     "output_type": "display_data"
    },
    {
     "data": {
      "text/html": [
       " View project at <a href='https://wandb.ai/rl_shobhith/uncategorized' target=\"_blank\">https://wandb.ai/rl_shobhith/uncategorized</a>"
      ],
      "text/plain": [
       "<IPython.core.display.HTML object>"
      ]
     },
     "metadata": {},
     "output_type": "display_data"
    },
    {
     "data": {
      "text/html": [
       " View sweep at <a href='https://wandb.ai/rl_shobhith/uncategorized/sweeps/ebygp3ca' target=\"_blank\">https://wandb.ai/rl_shobhith/uncategorized/sweeps/ebygp3ca</a>"
      ],
      "text/plain": [
       "<IPython.core.display.HTML object>"
      ]
     },
     "metadata": {},
     "output_type": "display_data"
    },
    {
     "data": {
      "text/html": [
       " View run at <a href='https://wandb.ai/rl_shobhith/uncategorized/runs/cmw2iivc/workspace' target=\"_blank\">https://wandb.ai/rl_shobhith/uncategorized/runs/cmw2iivc/workspace</a>"
      ],
      "text/plain": [
       "<IPython.core.display.HTML object>"
      ]
     },
     "metadata": {},
     "output_type": "display_data"
    },
    {
     "name": "stderr",
     "output_type": "stream",
     "text": [
      "Iteration 0: 100%|██████████| 50/50 [00:00<00:00, 62.11it/s, episode_return=50, return=26.800]\n",
      "Iteration 1: 100%|██████████| 50/50 [00:01<00:00, 49.84it/s, episode_return=100, return=31.300]\n",
      "Iteration 2: 100%|██████████| 50/50 [00:01<00:00, 47.35it/s, episode_return=150, return=21.500]\n",
      "Iteration 3: 100%|██████████| 50/50 [00:01<00:00, 45.96it/s, episode_return=200, return=23.300]\n",
      "Iteration 4: 100%|██████████| 50/50 [00:01<00:00, 39.96it/s, episode_return=250, return=22.400]\n",
      "Iteration 5: 100%|██████████| 50/50 [00:01<00:00, 43.81it/s, episode_return=300, return=27.800]\n",
      "Iteration 6: 100%|██████████| 50/50 [00:01<00:00, 40.56it/s, episode_return=350, return=29.600]\n",
      "Iteration 7: 100%|██████████| 50/50 [00:01<00:00, 32.46it/s, episode_return=400, return=40.300]\n",
      "Iteration 8: 100%|██████████| 50/50 [00:01<00:00, 32.64it/s, episode_return=450, return=47.700]\n",
      "Iteration 9: 100%|██████████| 50/50 [00:02<00:00, 23.29it/s, episode_return=500, return=49.700]\n"
     ]
    },
    {
     "data": {
      "application/vnd.jupyter.widget-view+json": {
       "model_id": "5cd0e4ba8e3a45e98cf46fb2e7a630ba",
       "version_major": 2,
       "version_minor": 0
      },
      "text/plain": [
       "VBox(children=(Label(value='0.001 MB of 0.001 MB uploaded\\r'), FloatProgress(value=1.0, max=1.0)))"
      ]
     },
     "metadata": {},
     "output_type": "display_data"
    },
    {
     "data": {
      "text/html": [
       "<style>\n",
       "    table.wandb td:nth-child(1) { padding: 0 10px; text-align: left ; width: auto;} td:nth-child(2) {text-align: left ; width: 100%}\n",
       "    .wandb-row { display: flex; flex-direction: row; flex-wrap: wrap; justify-content: flex-start; width: 100% }\n",
       "    .wandb-col { display: flex; flex-direction: column; flex-basis: 100%; flex: 1; padding: 10px; }\n",
       "    </style>\n",
       "<div class=\"wandb-row\"><div class=\"wandb-col\"><h3>Run history:</h3><br/><table class=\"wandb\"><tr><td>regret</td><td>▁</td></tr></table><br/></div><div class=\"wandb-col\"><h3>Run summary:</h3><br/><table class=\"wandb\"><tr><td>regret</td><td>84116.61916</td></tr></table><br/></div></div>"
      ],
      "text/plain": [
       "<IPython.core.display.HTML object>"
      ]
     },
     "metadata": {},
     "output_type": "display_data"
    },
    {
     "data": {
      "text/html": [
       " View run <strong style=\"color:#cdcd00\">spring-sweep-91</strong> at: <a href='https://wandb.ai/rl_shobhith/uncategorized/runs/cmw2iivc/workspace' target=\"_blank\">https://wandb.ai/rl_shobhith/uncategorized/runs/cmw2iivc/workspace</a><br/>Synced 5 W&B file(s), 0 media file(s), 0 artifact file(s) and 0 other file(s)"
      ],
      "text/plain": [
       "<IPython.core.display.HTML object>"
      ]
     },
     "metadata": {},
     "output_type": "display_data"
    },
    {
     "data": {
      "text/html": [
       "Find logs at: <code>.\\wandb\\run-20240401_225718-cmw2iivc\\logs</code>"
      ],
      "text/plain": [
       "<IPython.core.display.HTML object>"
      ]
     },
     "metadata": {},
     "output_type": "display_data"
    },
    {
     "name": "stderr",
     "output_type": "stream",
     "text": [
      "\u001b[34m\u001b[1mwandb\u001b[0m: Agent Starting Run: ofj068ar with config:\n",
      "\u001b[34m\u001b[1mwandb\u001b[0m: \thidden_dim: 256\n",
      "\u001b[34m\u001b[1mwandb\u001b[0m: \tlearning_rate: 0.0008144035696588986\n",
      "Failed to detect the name of this notebook, you can set it manually with the WANDB_NOTEBOOK_NAME environment variable to enable code saving.\n"
     ]
    },
    {
     "data": {
      "text/html": [
       "Tracking run with wandb version 0.16.5"
      ],
      "text/plain": [
       "<IPython.core.display.HTML object>"
      ]
     },
     "metadata": {},
     "output_type": "display_data"
    },
    {
     "data": {
      "text/html": [
       "Run data is saved locally in <code>c:\\Users\\Shobhith Vadlamudi\\Desktop\\3rd Year\\SEM 6\\RL\\wandb\\run-20240401_225746-ofj068ar</code>"
      ],
      "text/plain": [
       "<IPython.core.display.HTML object>"
      ]
     },
     "metadata": {},
     "output_type": "display_data"
    },
    {
     "data": {
      "text/html": [
       "Syncing run <strong><a href='https://wandb.ai/rl_shobhith/uncategorized/runs/ofj068ar/workspace' target=\"_blank\">bumbling-sweep-92</a></strong> to <a href='https://wandb.ai/rl_shobhith/uncategorized' target=\"_blank\">Weights & Biases</a> (<a href='https://wandb.me/run' target=\"_blank\">docs</a>)<br/>Sweep page: <a href='https://wandb.ai/rl_shobhith/uncategorized/sweeps/ebygp3ca' target=\"_blank\">https://wandb.ai/rl_shobhith/uncategorized/sweeps/ebygp3ca</a>"
      ],
      "text/plain": [
       "<IPython.core.display.HTML object>"
      ]
     },
     "metadata": {},
     "output_type": "display_data"
    },
    {
     "data": {
      "text/html": [
       " View project at <a href='https://wandb.ai/rl_shobhith/uncategorized' target=\"_blank\">https://wandb.ai/rl_shobhith/uncategorized</a>"
      ],
      "text/plain": [
       "<IPython.core.display.HTML object>"
      ]
     },
     "metadata": {},
     "output_type": "display_data"
    },
    {
     "data": {
      "text/html": [
       " View sweep at <a href='https://wandb.ai/rl_shobhith/uncategorized/sweeps/ebygp3ca' target=\"_blank\">https://wandb.ai/rl_shobhith/uncategorized/sweeps/ebygp3ca</a>"
      ],
      "text/plain": [
       "<IPython.core.display.HTML object>"
      ]
     },
     "metadata": {},
     "output_type": "display_data"
    },
    {
     "data": {
      "text/html": [
       " View run at <a href='https://wandb.ai/rl_shobhith/uncategorized/runs/ofj068ar/workspace' target=\"_blank\">https://wandb.ai/rl_shobhith/uncategorized/runs/ofj068ar/workspace</a>"
      ],
      "text/plain": [
       "<IPython.core.display.HTML object>"
      ]
     },
     "metadata": {},
     "output_type": "display_data"
    },
    {
     "name": "stderr",
     "output_type": "stream",
     "text": [
      "Iteration 0: 100%|██████████| 50/50 [00:01<00:00, 38.75it/s, episode_return=50, return=30.600]\n",
      "Iteration 1: 100%|██████████| 50/50 [00:02<00:00, 23.56it/s, episode_return=100, return=75.000]\n",
      "Iteration 2: 100%|██████████| 50/50 [00:04<00:00, 12.06it/s, episode_return=150, return=132.800]\n",
      "Iteration 3: 100%|██████████| 50/50 [00:05<00:00,  9.48it/s, episode_return=200, return=156.600]\n",
      "Iteration 4: 100%|██████████| 50/50 [00:08<00:00,  6.12it/s, episode_return=250, return=218.900]\n",
      "Iteration 5: 100%|██████████| 50/50 [00:10<00:00,  4.83it/s, episode_return=300, return=299.400]\n",
      "Iteration 6: 100%|██████████| 50/50 [00:09<00:00,  5.21it/s, episode_return=350, return=249.100]\n",
      "Iteration 7: 100%|██████████| 50/50 [00:08<00:00,  5.84it/s, episode_return=400, return=274.400]\n",
      "Iteration 8: 100%|██████████| 50/50 [00:08<00:00,  5.98it/s, episode_return=450, return=215.100]\n",
      "Iteration 9: 100%|██████████| 50/50 [00:12<00:00,  4.05it/s, episode_return=500, return=340.100]\n"
     ]
    },
    {
     "data": {
      "application/vnd.jupyter.widget-view+json": {
       "model_id": "31fbf29fe0134909a0b7f7c7f0b157fc",
       "version_major": 2,
       "version_minor": 0
      },
      "text/plain": [
       "VBox(children=(Label(value='0.001 MB of 0.001 MB uploaded\\r'), FloatProgress(value=1.0, max=1.0)))"
      ]
     },
     "metadata": {},
     "output_type": "display_data"
    },
    {
     "data": {
      "text/html": [
       "<style>\n",
       "    table.wandb td:nth-child(1) { padding: 0 10px; text-align: left ; width: auto;} td:nth-child(2) {text-align: left ; width: 100%}\n",
       "    .wandb-row { display: flex; flex-direction: row; flex-wrap: wrap; justify-content: flex-start; width: 100% }\n",
       "    .wandb-col { display: flex; flex-direction: column; flex-basis: 100%; flex: 1; padding: 10px; }\n",
       "    </style>\n",
       "<div class=\"wandb-row\"><div class=\"wandb-col\"><h3>Run history:</h3><br/><table class=\"wandb\"><tr><td>regret</td><td>▁</td></tr></table><br/></div><div class=\"wandb-col\"><h3>Run summary:</h3><br/><table class=\"wandb\"><tr><td>regret</td><td>29771.94286</td></tr></table><br/></div></div>"
      ],
      "text/plain": [
       "<IPython.core.display.HTML object>"
      ]
     },
     "metadata": {},
     "output_type": "display_data"
    },
    {
     "data": {
      "text/html": [
       " View run <strong style=\"color:#cdcd00\">bumbling-sweep-92</strong> at: <a href='https://wandb.ai/rl_shobhith/uncategorized/runs/ofj068ar/workspace' target=\"_blank\">https://wandb.ai/rl_shobhith/uncategorized/runs/ofj068ar/workspace</a><br/>Synced 5 W&B file(s), 0 media file(s), 0 artifact file(s) and 0 other file(s)"
      ],
      "text/plain": [
       "<IPython.core.display.HTML object>"
      ]
     },
     "metadata": {},
     "output_type": "display_data"
    },
    {
     "data": {
      "text/html": [
       "Find logs at: <code>.\\wandb\\run-20240401_225746-ofj068ar\\logs</code>"
      ],
      "text/plain": [
       "<IPython.core.display.HTML object>"
      ]
     },
     "metadata": {},
     "output_type": "display_data"
    },
    {
     "name": "stderr",
     "output_type": "stream",
     "text": [
      "\u001b[34m\u001b[1mwandb\u001b[0m: Sweep Agent: Waiting for job.\n",
      "\u001b[34m\u001b[1mwandb\u001b[0m: Job received.\n",
      "\u001b[34m\u001b[1mwandb\u001b[0m: Agent Starting Run: wt4blw0d with config:\n",
      "\u001b[34m\u001b[1mwandb\u001b[0m: \thidden_dim: 64\n",
      "\u001b[34m\u001b[1mwandb\u001b[0m: \tlearning_rate: 0.00043282841993360634\n",
      "Failed to detect the name of this notebook, you can set it manually with the WANDB_NOTEBOOK_NAME environment variable to enable code saving.\n"
     ]
    },
    {
     "data": {
      "text/html": [
       "Tracking run with wandb version 0.16.5"
      ],
      "text/plain": [
       "<IPython.core.display.HTML object>"
      ]
     },
     "metadata": {},
     "output_type": "display_data"
    },
    {
     "data": {
      "text/html": [
       "Run data is saved locally in <code>c:\\Users\\Shobhith Vadlamudi\\Desktop\\3rd Year\\SEM 6\\RL\\wandb\\run-20240401_225916-wt4blw0d</code>"
      ],
      "text/plain": [
       "<IPython.core.display.HTML object>"
      ]
     },
     "metadata": {},
     "output_type": "display_data"
    },
    {
     "data": {
      "text/html": [
       "Syncing run <strong><a href='https://wandb.ai/rl_shobhith/uncategorized/runs/wt4blw0d/workspace' target=\"_blank\">dazzling-sweep-93</a></strong> to <a href='https://wandb.ai/rl_shobhith/uncategorized' target=\"_blank\">Weights & Biases</a> (<a href='https://wandb.me/run' target=\"_blank\">docs</a>)<br/>Sweep page: <a href='https://wandb.ai/rl_shobhith/uncategorized/sweeps/ebygp3ca' target=\"_blank\">https://wandb.ai/rl_shobhith/uncategorized/sweeps/ebygp3ca</a>"
      ],
      "text/plain": [
       "<IPython.core.display.HTML object>"
      ]
     },
     "metadata": {},
     "output_type": "display_data"
    },
    {
     "data": {
      "text/html": [
       " View project at <a href='https://wandb.ai/rl_shobhith/uncategorized' target=\"_blank\">https://wandb.ai/rl_shobhith/uncategorized</a>"
      ],
      "text/plain": [
       "<IPython.core.display.HTML object>"
      ]
     },
     "metadata": {},
     "output_type": "display_data"
    },
    {
     "data": {
      "text/html": [
       " View sweep at <a href='https://wandb.ai/rl_shobhith/uncategorized/sweeps/ebygp3ca' target=\"_blank\">https://wandb.ai/rl_shobhith/uncategorized/sweeps/ebygp3ca</a>"
      ],
      "text/plain": [
       "<IPython.core.display.HTML object>"
      ]
     },
     "metadata": {},
     "output_type": "display_data"
    },
    {
     "data": {
      "text/html": [
       " View run at <a href='https://wandb.ai/rl_shobhith/uncategorized/runs/wt4blw0d/workspace' target=\"_blank\">https://wandb.ai/rl_shobhith/uncategorized/runs/wt4blw0d/workspace</a>"
      ],
      "text/plain": [
       "<IPython.core.display.HTML object>"
      ]
     },
     "metadata": {},
     "output_type": "display_data"
    },
    {
     "name": "stderr",
     "output_type": "stream",
     "text": [
      "Iteration 0: 100%|██████████| 50/50 [00:01<00:00, 46.07it/s, episode_return=50, return=30.700]\n",
      "Iteration 1: 100%|██████████| 50/50 [00:01<00:00, 46.72it/s, episode_return=100, return=26.000]\n",
      "Iteration 2: 100%|██████████| 50/50 [00:01<00:00, 39.49it/s, episode_return=150, return=32.800]\n",
      "Iteration 3: 100%|██████████| 50/50 [00:01<00:00, 31.66it/s, episode_return=200, return=40.900]\n",
      "Iteration 4: 100%|██████████| 50/50 [00:01<00:00, 26.17it/s, episode_return=250, return=38.100]\n",
      "Iteration 5: 100%|██████████| 50/50 [00:02<00:00, 24.62it/s, episode_return=300, return=52.800]\n",
      "Iteration 6: 100%|██████████| 50/50 [00:01<00:00, 26.22it/s, episode_return=350, return=59.700]\n",
      "Iteration 7: 100%|██████████| 50/50 [00:02<00:00, 22.92it/s, episode_return=400, return=78.800]\n",
      "Iteration 8: 100%|██████████| 50/50 [00:02<00:00, 20.21it/s, episode_return=450, return=51.600]\n",
      "Iteration 9: 100%|██████████| 50/50 [00:02<00:00, 18.55it/s, episode_return=500, return=90.500]\n"
     ]
    },
    {
     "data": {
      "application/vnd.jupyter.widget-view+json": {
       "model_id": "f679b7998f7a48d2a8336e0bbff932ce",
       "version_major": 2,
       "version_minor": 0
      },
      "text/plain": [
       "VBox(children=(Label(value='0.001 MB of 0.001 MB uploaded\\r'), FloatProgress(value=1.0, max=1.0)))"
      ]
     },
     "metadata": {},
     "output_type": "display_data"
    },
    {
     "data": {
      "text/html": [
       "<style>\n",
       "    table.wandb td:nth-child(1) { padding: 0 10px; text-align: left ; width: auto;} td:nth-child(2) {text-align: left ; width: 100%}\n",
       "    .wandb-row { display: flex; flex-direction: row; flex-wrap: wrap; justify-content: flex-start; width: 100% }\n",
       "    .wandb-col { display: flex; flex-direction: column; flex-basis: 100%; flex: 1; padding: 10px; }\n",
       "    </style>\n",
       "<div class=\"wandb-row\"><div class=\"wandb-col\"><h3>Run history:</h3><br/><table class=\"wandb\"><tr><td>regret</td><td>▁</td></tr></table><br/></div><div class=\"wandb-col\"><h3>Run summary:</h3><br/><table class=\"wandb\"><tr><td>regret</td><td>77313.97602</td></tr></table><br/></div></div>"
      ],
      "text/plain": [
       "<IPython.core.display.HTML object>"
      ]
     },
     "metadata": {},
     "output_type": "display_data"
    },
    {
     "data": {
      "text/html": [
       " View run <strong style=\"color:#cdcd00\">dazzling-sweep-93</strong> at: <a href='https://wandb.ai/rl_shobhith/uncategorized/runs/wt4blw0d/workspace' target=\"_blank\">https://wandb.ai/rl_shobhith/uncategorized/runs/wt4blw0d/workspace</a><br/>Synced 5 W&B file(s), 0 media file(s), 0 artifact file(s) and 0 other file(s)"
      ],
      "text/plain": [
       "<IPython.core.display.HTML object>"
      ]
     },
     "metadata": {},
     "output_type": "display_data"
    },
    {
     "data": {
      "text/html": [
       "Find logs at: <code>.\\wandb\\run-20240401_225916-wt4blw0d\\logs</code>"
      ],
      "text/plain": [
       "<IPython.core.display.HTML object>"
      ]
     },
     "metadata": {},
     "output_type": "display_data"
    },
    {
     "name": "stderr",
     "output_type": "stream",
     "text": [
      "\u001b[34m\u001b[1mwandb\u001b[0m: Agent Starting Run: soc2urjg with config:\n",
      "\u001b[34m\u001b[1mwandb\u001b[0m: \thidden_dim: 64\n",
      "\u001b[34m\u001b[1mwandb\u001b[0m: \tlearning_rate: 0.0008317969798843433\n",
      "Failed to detect the name of this notebook, you can set it manually with the WANDB_NOTEBOOK_NAME environment variable to enable code saving.\n"
     ]
    },
    {
     "data": {
      "text/html": [
       "Tracking run with wandb version 0.16.5"
      ],
      "text/plain": [
       "<IPython.core.display.HTML object>"
      ]
     },
     "metadata": {},
     "output_type": "display_data"
    },
    {
     "data": {
      "text/html": [
       "Run data is saved locally in <code>c:\\Users\\Shobhith Vadlamudi\\Desktop\\3rd Year\\SEM 6\\RL\\wandb\\run-20240401_225949-soc2urjg</code>"
      ],
      "text/plain": [
       "<IPython.core.display.HTML object>"
      ]
     },
     "metadata": {},
     "output_type": "display_data"
    },
    {
     "data": {
      "text/html": [
       "Syncing run <strong><a href='https://wandb.ai/rl_shobhith/uncategorized/runs/soc2urjg/workspace' target=\"_blank\">vital-sweep-94</a></strong> to <a href='https://wandb.ai/rl_shobhith/uncategorized' target=\"_blank\">Weights & Biases</a> (<a href='https://wandb.me/run' target=\"_blank\">docs</a>)<br/>Sweep page: <a href='https://wandb.ai/rl_shobhith/uncategorized/sweeps/ebygp3ca' target=\"_blank\">https://wandb.ai/rl_shobhith/uncategorized/sweeps/ebygp3ca</a>"
      ],
      "text/plain": [
       "<IPython.core.display.HTML object>"
      ]
     },
     "metadata": {},
     "output_type": "display_data"
    },
    {
     "data": {
      "text/html": [
       " View project at <a href='https://wandb.ai/rl_shobhith/uncategorized' target=\"_blank\">https://wandb.ai/rl_shobhith/uncategorized</a>"
      ],
      "text/plain": [
       "<IPython.core.display.HTML object>"
      ]
     },
     "metadata": {},
     "output_type": "display_data"
    },
    {
     "data": {
      "text/html": [
       " View sweep at <a href='https://wandb.ai/rl_shobhith/uncategorized/sweeps/ebygp3ca' target=\"_blank\">https://wandb.ai/rl_shobhith/uncategorized/sweeps/ebygp3ca</a>"
      ],
      "text/plain": [
       "<IPython.core.display.HTML object>"
      ]
     },
     "metadata": {},
     "output_type": "display_data"
    },
    {
     "data": {
      "text/html": [
       " View run at <a href='https://wandb.ai/rl_shobhith/uncategorized/runs/soc2urjg/workspace' target=\"_blank\">https://wandb.ai/rl_shobhith/uncategorized/runs/soc2urjg/workspace</a>"
      ],
      "text/plain": [
       "<IPython.core.display.HTML object>"
      ]
     },
     "metadata": {},
     "output_type": "display_data"
    },
    {
     "name": "stderr",
     "output_type": "stream",
     "text": [
      "Iteration 0: 100%|██████████| 50/50 [00:00<00:00, 56.18it/s, episode_return=50, return=15.200]\n",
      "Iteration 1: 100%|██████████| 50/50 [00:01<00:00, 49.16it/s, episode_return=100, return=23.900]\n",
      "Iteration 2: 100%|██████████| 50/50 [00:01<00:00, 43.45it/s, episode_return=150, return=32.900]\n",
      "Iteration 3: 100%|██████████| 50/50 [00:01<00:00, 33.99it/s, episode_return=200, return=44.700]\n",
      "Iteration 4: 100%|██████████| 50/50 [00:02<00:00, 23.96it/s, episode_return=250, return=77.400]\n",
      "Iteration 5: 100%|██████████| 50/50 [00:02<00:00, 22.96it/s, episode_return=300, return=60.200]\n",
      "Iteration 6: 100%|██████████| 50/50 [00:02<00:00, 22.05it/s, episode_return=350, return=60.100]\n",
      "Iteration 7: 100%|██████████| 50/50 [00:02<00:00, 16.85it/s, episode_return=400, return=93.300]\n",
      "Iteration 8: 100%|██████████| 50/50 [00:04<00:00, 12.42it/s, episode_return=450, return=123.300]\n",
      "Iteration 9: 100%|██████████| 50/50 [00:05<00:00,  8.53it/s, episode_return=500, return=105.200]\n"
     ]
    },
    {
     "data": {
      "application/vnd.jupyter.widget-view+json": {
       "model_id": "23462754e451437aae60d2fb397b6cf7",
       "version_major": 2,
       "version_minor": 0
      },
      "text/plain": [
       "VBox(children=(Label(value='0.001 MB of 0.007 MB uploaded\\r'), FloatProgress(value=0.1676308354634737, max=1.0…"
      ]
     },
     "metadata": {},
     "output_type": "display_data"
    },
    {
     "data": {
      "text/html": [
       "<style>\n",
       "    table.wandb td:nth-child(1) { padding: 0 10px; text-align: left ; width: auto;} td:nth-child(2) {text-align: left ; width: 100%}\n",
       "    .wandb-row { display: flex; flex-direction: row; flex-wrap: wrap; justify-content: flex-start; width: 100% }\n",
       "    .wandb-col { display: flex; flex-direction: column; flex-basis: 100%; flex: 1; padding: 10px; }\n",
       "    </style>\n",
       "<div class=\"wandb-row\"><div class=\"wandb-col\"><h3>Run history:</h3><br/><table class=\"wandb\"><tr><td>regret</td><td>▁</td></tr></table><br/></div><div class=\"wandb-col\"><h3>Run summary:</h3><br/><table class=\"wandb\"><tr><td>regret</td><td>73604.64842</td></tr></table><br/></div></div>"
      ],
      "text/plain": [
       "<IPython.core.display.HTML object>"
      ]
     },
     "metadata": {},
     "output_type": "display_data"
    },
    {
     "data": {
      "text/html": [
       " View run <strong style=\"color:#cdcd00\">vital-sweep-94</strong> at: <a href='https://wandb.ai/rl_shobhith/uncategorized/runs/soc2urjg/workspace' target=\"_blank\">https://wandb.ai/rl_shobhith/uncategorized/runs/soc2urjg/workspace</a><br/>Synced 5 W&B file(s), 0 media file(s), 0 artifact file(s) and 0 other file(s)"
      ],
      "text/plain": [
       "<IPython.core.display.HTML object>"
      ]
     },
     "metadata": {},
     "output_type": "display_data"
    },
    {
     "data": {
      "text/html": [
       "Find logs at: <code>.\\wandb\\run-20240401_225949-soc2urjg\\logs</code>"
      ],
      "text/plain": [
       "<IPython.core.display.HTML object>"
      ]
     },
     "metadata": {},
     "output_type": "display_data"
    },
    {
     "name": "stderr",
     "output_type": "stream",
     "text": [
      "\u001b[34m\u001b[1mwandb\u001b[0m: Agent Starting Run: gqtfuvrg with config:\n",
      "\u001b[34m\u001b[1mwandb\u001b[0m: \thidden_dim: 128\n",
      "\u001b[34m\u001b[1mwandb\u001b[0m: \tlearning_rate: 0.000999918888408162\n",
      "Failed to detect the name of this notebook, you can set it manually with the WANDB_NOTEBOOK_NAME environment variable to enable code saving.\n"
     ]
    },
    {
     "data": {
      "application/vnd.jupyter.widget-view+json": {
       "model_id": "12db97e709574c369ab9ef4b9f685116",
       "version_major": 2,
       "version_minor": 0
      },
      "text/plain": [
       "VBox(children=(Label(value='Waiting for wandb.init()...\\r'), FloatProgress(value=0.011111111111111112, max=1.0…"
      ]
     },
     "metadata": {},
     "output_type": "display_data"
    },
    {
     "data": {
      "text/html": [
       "Tracking run with wandb version 0.16.5"
      ],
      "text/plain": [
       "<IPython.core.display.HTML object>"
      ]
     },
     "metadata": {},
     "output_type": "display_data"
    },
    {
     "data": {
      "text/html": [
       "Run data is saved locally in <code>c:\\Users\\Shobhith Vadlamudi\\Desktop\\3rd Year\\SEM 6\\RL\\wandb\\run-20240401_230027-gqtfuvrg</code>"
      ],
      "text/plain": [
       "<IPython.core.display.HTML object>"
      ]
     },
     "metadata": {},
     "output_type": "display_data"
    },
    {
     "data": {
      "text/html": [
       "Syncing run <strong><a href='https://wandb.ai/rl_shobhith/uncategorized/runs/gqtfuvrg/workspace' target=\"_blank\">still-sweep-95</a></strong> to <a href='https://wandb.ai/rl_shobhith/uncategorized' target=\"_blank\">Weights & Biases</a> (<a href='https://wandb.me/run' target=\"_blank\">docs</a>)<br/>Sweep page: <a href='https://wandb.ai/rl_shobhith/uncategorized/sweeps/ebygp3ca' target=\"_blank\">https://wandb.ai/rl_shobhith/uncategorized/sweeps/ebygp3ca</a>"
      ],
      "text/plain": [
       "<IPython.core.display.HTML object>"
      ]
     },
     "metadata": {},
     "output_type": "display_data"
    },
    {
     "data": {
      "text/html": [
       " View project at <a href='https://wandb.ai/rl_shobhith/uncategorized' target=\"_blank\">https://wandb.ai/rl_shobhith/uncategorized</a>"
      ],
      "text/plain": [
       "<IPython.core.display.HTML object>"
      ]
     },
     "metadata": {},
     "output_type": "display_data"
    },
    {
     "data": {
      "text/html": [
       " View sweep at <a href='https://wandb.ai/rl_shobhith/uncategorized/sweeps/ebygp3ca' target=\"_blank\">https://wandb.ai/rl_shobhith/uncategorized/sweeps/ebygp3ca</a>"
      ],
      "text/plain": [
       "<IPython.core.display.HTML object>"
      ]
     },
     "metadata": {},
     "output_type": "display_data"
    },
    {
     "data": {
      "text/html": [
       " View run at <a href='https://wandb.ai/rl_shobhith/uncategorized/runs/gqtfuvrg/workspace' target=\"_blank\">https://wandb.ai/rl_shobhith/uncategorized/runs/gqtfuvrg/workspace</a>"
      ],
      "text/plain": [
       "<IPython.core.display.HTML object>"
      ]
     },
     "metadata": {},
     "output_type": "display_data"
    },
    {
     "name": "stderr",
     "output_type": "stream",
     "text": [
      "Iteration 0: 100%|██████████| 50/50 [00:01<00:00, 45.99it/s, episode_return=50, return=22.100]\n",
      "Iteration 1: 100%|██████████| 50/50 [00:01<00:00, 31.98it/s, episode_return=100, return=53.900]\n",
      "Iteration 2: 100%|██████████| 50/50 [00:02<00:00, 22.95it/s, episode_return=150, return=54.300]\n",
      "Iteration 3: 100%|██████████| 50/50 [00:02<00:00, 18.75it/s, episode_return=200, return=94.200]\n",
      "Iteration 4: 100%|██████████| 50/50 [00:05<00:00, 10.00it/s, episode_return=250, return=167.300]\n",
      "Iteration 5: 100%|██████████| 50/50 [00:08<00:00,  5.81it/s, episode_return=300, return=181.700]\n",
      "Iteration 6: 100%|██████████| 50/50 [00:08<00:00,  6.05it/s, episode_return=350, return=169.000]\n",
      "Iteration 7: 100%|██████████| 50/50 [00:07<00:00,  6.87it/s, episode_return=400, return=219.200]\n",
      "Iteration 8: 100%|██████████| 50/50 [00:08<00:00,  5.79it/s, episode_return=450, return=255.200]\n",
      "Iteration 9: 100%|██████████| 50/50 [00:07<00:00,  6.56it/s, episode_return=500, return=223.900]\n"
     ]
    },
    {
     "data": {
      "application/vnd.jupyter.widget-view+json": {
       "model_id": "128383cc7c7345f6a75e4cee9eb046b2",
       "version_major": 2,
       "version_minor": 0
      },
      "text/plain": [
       "VBox(children=(Label(value='0.001 MB of 0.001 MB uploaded\\r'), FloatProgress(value=1.0, max=1.0)))"
      ]
     },
     "metadata": {},
     "output_type": "display_data"
    },
    {
     "data": {
      "text/html": [
       "<style>\n",
       "    table.wandb td:nth-child(1) { padding: 0 10px; text-align: left ; width: auto;} td:nth-child(2) {text-align: left ; width: 100%}\n",
       "    .wandb-row { display: flex; flex-direction: row; flex-wrap: wrap; justify-content: flex-start; width: 100% }\n",
       "    .wandb-col { display: flex; flex-direction: column; flex-basis: 100%; flex: 1; padding: 10px; }\n",
       "    </style>\n",
       "<div class=\"wandb-row\"><div class=\"wandb-col\"><h3>Run history:</h3><br/><table class=\"wandb\"><tr><td>regret</td><td>▁</td></tr></table><br/></div><div class=\"wandb-col\"><h3>Run summary:</h3><br/><table class=\"wandb\"><tr><td>regret</td><td>40479.46238</td></tr></table><br/></div></div>"
      ],
      "text/plain": [
       "<IPython.core.display.HTML object>"
      ]
     },
     "metadata": {},
     "output_type": "display_data"
    },
    {
     "data": {
      "text/html": [
       " View run <strong style=\"color:#cdcd00\">still-sweep-95</strong> at: <a href='https://wandb.ai/rl_shobhith/uncategorized/runs/gqtfuvrg/workspace' target=\"_blank\">https://wandb.ai/rl_shobhith/uncategorized/runs/gqtfuvrg/workspace</a><br/>Synced 5 W&B file(s), 0 media file(s), 0 artifact file(s) and 0 other file(s)"
      ],
      "text/plain": [
       "<IPython.core.display.HTML object>"
      ]
     },
     "metadata": {},
     "output_type": "display_data"
    },
    {
     "data": {
      "text/html": [
       "Find logs at: <code>.\\wandb\\run-20240401_230027-gqtfuvrg\\logs</code>"
      ],
      "text/plain": [
       "<IPython.core.display.HTML object>"
      ]
     },
     "metadata": {},
     "output_type": "display_data"
    },
    {
     "name": "stderr",
     "output_type": "stream",
     "text": [
      "\u001b[34m\u001b[1mwandb\u001b[0m: Sweep Agent: Waiting for job.\n",
      "\u001b[34m\u001b[1mwandb\u001b[0m: Job received.\n",
      "\u001b[34m\u001b[1mwandb\u001b[0m: Agent Starting Run: im1x9nee with config:\n",
      "\u001b[34m\u001b[1mwandb\u001b[0m: \thidden_dim: 256\n",
      "\u001b[34m\u001b[1mwandb\u001b[0m: \tlearning_rate: 0.00020260105858550584\n",
      "Failed to detect the name of this notebook, you can set it manually with the WANDB_NOTEBOOK_NAME environment variable to enable code saving.\n"
     ]
    },
    {
     "data": {
      "text/html": [
       "Tracking run with wandb version 0.16.5"
      ],
      "text/plain": [
       "<IPython.core.display.HTML object>"
      ]
     },
     "metadata": {},
     "output_type": "display_data"
    },
    {
     "data": {
      "text/html": [
       "Run data is saved locally in <code>c:\\Users\\Shobhith Vadlamudi\\Desktop\\3rd Year\\SEM 6\\RL\\wandb\\run-20240401_230146-im1x9nee</code>"
      ],
      "text/plain": [
       "<IPython.core.display.HTML object>"
      ]
     },
     "metadata": {},
     "output_type": "display_data"
    },
    {
     "data": {
      "text/html": [
       "Syncing run <strong><a href='https://wandb.ai/rl_shobhith/uncategorized/runs/im1x9nee/workspace' target=\"_blank\">leafy-sweep-96</a></strong> to <a href='https://wandb.ai/rl_shobhith/uncategorized' target=\"_blank\">Weights & Biases</a> (<a href='https://wandb.me/run' target=\"_blank\">docs</a>)<br/>Sweep page: <a href='https://wandb.ai/rl_shobhith/uncategorized/sweeps/ebygp3ca' target=\"_blank\">https://wandb.ai/rl_shobhith/uncategorized/sweeps/ebygp3ca</a>"
      ],
      "text/plain": [
       "<IPython.core.display.HTML object>"
      ]
     },
     "metadata": {},
     "output_type": "display_data"
    },
    {
     "data": {
      "text/html": [
       " View project at <a href='https://wandb.ai/rl_shobhith/uncategorized' target=\"_blank\">https://wandb.ai/rl_shobhith/uncategorized</a>"
      ],
      "text/plain": [
       "<IPython.core.display.HTML object>"
      ]
     },
     "metadata": {},
     "output_type": "display_data"
    },
    {
     "data": {
      "text/html": [
       " View sweep at <a href='https://wandb.ai/rl_shobhith/uncategorized/sweeps/ebygp3ca' target=\"_blank\">https://wandb.ai/rl_shobhith/uncategorized/sweeps/ebygp3ca</a>"
      ],
      "text/plain": [
       "<IPython.core.display.HTML object>"
      ]
     },
     "metadata": {},
     "output_type": "display_data"
    },
    {
     "data": {
      "text/html": [
       " View run at <a href='https://wandb.ai/rl_shobhith/uncategorized/runs/im1x9nee/workspace' target=\"_blank\">https://wandb.ai/rl_shobhith/uncategorized/runs/im1x9nee/workspace</a>"
      ],
      "text/plain": [
       "<IPython.core.display.HTML object>"
      ]
     },
     "metadata": {},
     "output_type": "display_data"
    },
    {
     "name": "stderr",
     "output_type": "stream",
     "text": [
      "Iteration 0: 100%|██████████| 50/50 [00:01<00:00, 48.79it/s, episode_return=50, return=23.300]\n",
      "Iteration 1: 100%|██████████| 50/50 [00:01<00:00, 44.70it/s, episode_return=100, return=31.000]\n",
      "Iteration 2: 100%|██████████| 50/50 [00:01<00:00, 43.56it/s, episode_return=150, return=23.800]\n",
      "Iteration 3: 100%|██████████| 50/50 [00:01<00:00, 34.36it/s, episode_return=200, return=41.500]\n",
      "Iteration 4: 100%|██████████| 50/50 [00:01<00:00, 31.50it/s, episode_return=250, return=32.600]\n",
      "Iteration 5: 100%|██████████| 50/50 [00:01<00:00, 25.24it/s, episode_return=300, return=53.500]\n",
      "Iteration 6: 100%|██████████| 50/50 [00:02<00:00, 22.63it/s, episode_return=350, return=64.900]\n",
      "Iteration 7: 100%|██████████| 50/50 [00:02<00:00, 22.11it/s, episode_return=400, return=44.300]\n",
      "Iteration 8: 100%|██████████| 50/50 [00:03<00:00, 14.65it/s, episode_return=450, return=81.100]\n",
      "Iteration 9: 100%|██████████| 50/50 [00:03<00:00, 13.36it/s, episode_return=500, return=123.300]\n"
     ]
    },
    {
     "data": {
      "application/vnd.jupyter.widget-view+json": {
       "model_id": "614b9dd9b8a3469bae06d50ff164a937",
       "version_major": 2,
       "version_minor": 0
      },
      "text/plain": [
       "VBox(children=(Label(value='0.001 MB of 0.007 MB uploaded\\r'), FloatProgress(value=0.1677653706444235, max=1.0…"
      ]
     },
     "metadata": {},
     "output_type": "display_data"
    },
    {
     "data": {
      "text/html": [
       "<style>\n",
       "    table.wandb td:nth-child(1) { padding: 0 10px; text-align: left ; width: auto;} td:nth-child(2) {text-align: left ; width: 100%}\n",
       "    .wandb-row { display: flex; flex-direction: row; flex-wrap: wrap; justify-content: flex-start; width: 100% }\n",
       "    .wandb-col { display: flex; flex-direction: column; flex-basis: 100%; flex: 1; padding: 10px; }\n",
       "    </style>\n",
       "<div class=\"wandb-row\"><div class=\"wandb-col\"><h3>Run history:</h3><br/><table class=\"wandb\"><tr><td>regret</td><td>▁</td></tr></table><br/></div><div class=\"wandb-col\"><h3>Run summary:</h3><br/><table class=\"wandb\"><tr><td>regret</td><td>77646.44681</td></tr></table><br/></div></div>"
      ],
      "text/plain": [
       "<IPython.core.display.HTML object>"
      ]
     },
     "metadata": {},
     "output_type": "display_data"
    },
    {
     "data": {
      "text/html": [
       " View run <strong style=\"color:#cdcd00\">leafy-sweep-96</strong> at: <a href='https://wandb.ai/rl_shobhith/uncategorized/runs/im1x9nee/workspace' target=\"_blank\">https://wandb.ai/rl_shobhith/uncategorized/runs/im1x9nee/workspace</a><br/>Synced 5 W&B file(s), 0 media file(s), 0 artifact file(s) and 0 other file(s)"
      ],
      "text/plain": [
       "<IPython.core.display.HTML object>"
      ]
     },
     "metadata": {},
     "output_type": "display_data"
    },
    {
     "data": {
      "text/html": [
       "Find logs at: <code>.\\wandb\\run-20240401_230146-im1x9nee\\logs</code>"
      ],
      "text/plain": [
       "<IPython.core.display.HTML object>"
      ]
     },
     "metadata": {},
     "output_type": "display_data"
    },
    {
     "name": "stderr",
     "output_type": "stream",
     "text": [
      "\u001b[34m\u001b[1mwandb\u001b[0m: Agent Starting Run: ygqca02v with config:\n",
      "\u001b[34m\u001b[1mwandb\u001b[0m: \thidden_dim: 256\n",
      "\u001b[34m\u001b[1mwandb\u001b[0m: \tlearning_rate: 0.0003404815939241913\n",
      "Failed to detect the name of this notebook, you can set it manually with the WANDB_NOTEBOOK_NAME environment variable to enable code saving.\n"
     ]
    },
    {
     "data": {
      "text/html": [
       "Tracking run with wandb version 0.16.5"
      ],
      "text/plain": [
       "<IPython.core.display.HTML object>"
      ]
     },
     "metadata": {},
     "output_type": "display_data"
    },
    {
     "data": {
      "text/html": [
       "Run data is saved locally in <code>c:\\Users\\Shobhith Vadlamudi\\Desktop\\3rd Year\\SEM 6\\RL\\wandb\\run-20240401_230218-ygqca02v</code>"
      ],
      "text/plain": [
       "<IPython.core.display.HTML object>"
      ]
     },
     "metadata": {},
     "output_type": "display_data"
    },
    {
     "data": {
      "text/html": [
       "Syncing run <strong><a href='https://wandb.ai/rl_shobhith/uncategorized/runs/ygqca02v/workspace' target=\"_blank\">brisk-sweep-97</a></strong> to <a href='https://wandb.ai/rl_shobhith/uncategorized' target=\"_blank\">Weights & Biases</a> (<a href='https://wandb.me/run' target=\"_blank\">docs</a>)<br/>Sweep page: <a href='https://wandb.ai/rl_shobhith/uncategorized/sweeps/ebygp3ca' target=\"_blank\">https://wandb.ai/rl_shobhith/uncategorized/sweeps/ebygp3ca</a>"
      ],
      "text/plain": [
       "<IPython.core.display.HTML object>"
      ]
     },
     "metadata": {},
     "output_type": "display_data"
    },
    {
     "data": {
      "text/html": [
       " View project at <a href='https://wandb.ai/rl_shobhith/uncategorized' target=\"_blank\">https://wandb.ai/rl_shobhith/uncategorized</a>"
      ],
      "text/plain": [
       "<IPython.core.display.HTML object>"
      ]
     },
     "metadata": {},
     "output_type": "display_data"
    },
    {
     "data": {
      "text/html": [
       " View sweep at <a href='https://wandb.ai/rl_shobhith/uncategorized/sweeps/ebygp3ca' target=\"_blank\">https://wandb.ai/rl_shobhith/uncategorized/sweeps/ebygp3ca</a>"
      ],
      "text/plain": [
       "<IPython.core.display.HTML object>"
      ]
     },
     "metadata": {},
     "output_type": "display_data"
    },
    {
     "data": {
      "text/html": [
       " View run at <a href='https://wandb.ai/rl_shobhith/uncategorized/runs/ygqca02v/workspace' target=\"_blank\">https://wandb.ai/rl_shobhith/uncategorized/runs/ygqca02v/workspace</a>"
      ],
      "text/plain": [
       "<IPython.core.display.HTML object>"
      ]
     },
     "metadata": {},
     "output_type": "display_data"
    },
    {
     "name": "stderr",
     "output_type": "stream",
     "text": [
      "Iteration 0: 100%|██████████| 50/50 [00:01<00:00, 41.39it/s, episode_return=50, return=27.300]\n",
      "Iteration 1: 100%|██████████| 50/50 [00:01<00:00, 38.93it/s, episode_return=100, return=24.900]\n",
      "Iteration 2: 100%|██████████| 50/50 [00:01<00:00, 27.16it/s, episode_return=150, return=48.000]\n",
      "Iteration 3: 100%|██████████| 50/50 [00:02<00:00, 23.00it/s, episode_return=200, return=61.100]\n",
      "Iteration 4: 100%|██████████| 50/50 [00:02<00:00, 20.48it/s, episode_return=250, return=63.200]\n",
      "Iteration 5: 100%|██████████| 50/50 [00:02<00:00, 17.39it/s, episode_return=300, return=78.400]\n",
      "Iteration 6: 100%|██████████| 50/50 [00:03<00:00, 15.71it/s, episode_return=350, return=99.300]\n",
      "Iteration 7: 100%|██████████| 50/50 [00:03<00:00, 14.66it/s, episode_return=400, return=113.900]\n",
      "Iteration 8: 100%|██████████| 50/50 [00:04<00:00, 10.55it/s, episode_return=450, return=154.200]\n",
      "Iteration 9: 100%|██████████| 50/50 [00:06<00:00,  7.20it/s, episode_return=500, return=185.600]\n"
     ]
    },
    {
     "data": {
      "application/vnd.jupyter.widget-view+json": {
       "model_id": "358b1a997b9f4d0fb8eb767c577be8a5",
       "version_major": 2,
       "version_minor": 0
      },
      "text/plain": [
       "VBox(children=(Label(value='0.001 MB of 0.001 MB uploaded\\r'), FloatProgress(value=1.0, max=1.0)))"
      ]
     },
     "metadata": {},
     "output_type": "display_data"
    },
    {
     "data": {
      "text/html": [
       "<style>\n",
       "    table.wandb td:nth-child(1) { padding: 0 10px; text-align: left ; width: auto;} td:nth-child(2) {text-align: left ; width: 100%}\n",
       "    .wandb-row { display: flex; flex-direction: row; flex-wrap: wrap; justify-content: flex-start; width: 100% }\n",
       "    .wandb-col { display: flex; flex-direction: column; flex-basis: 100%; flex: 1; padding: 10px; }\n",
       "    </style>\n",
       "<div class=\"wandb-row\"><div class=\"wandb-col\"><h3>Run history:</h3><br/><table class=\"wandb\"><tr><td>regret</td><td>▁</td></tr></table><br/></div><div class=\"wandb-col\"><h3>Run summary:</h3><br/><table class=\"wandb\"><tr><td>regret</td><td>67850.39638</td></tr></table><br/></div></div>"
      ],
      "text/plain": [
       "<IPython.core.display.HTML object>"
      ]
     },
     "metadata": {},
     "output_type": "display_data"
    },
    {
     "data": {
      "text/html": [
       " View run <strong style=\"color:#cdcd00\">brisk-sweep-97</strong> at: <a href='https://wandb.ai/rl_shobhith/uncategorized/runs/ygqca02v/workspace' target=\"_blank\">https://wandb.ai/rl_shobhith/uncategorized/runs/ygqca02v/workspace</a><br/>Synced 5 W&B file(s), 0 media file(s), 0 artifact file(s) and 0 other file(s)"
      ],
      "text/plain": [
       "<IPython.core.display.HTML object>"
      ]
     },
     "metadata": {},
     "output_type": "display_data"
    },
    {
     "data": {
      "text/html": [
       "Find logs at: <code>.\\wandb\\run-20240401_230218-ygqca02v\\logs</code>"
      ],
      "text/plain": [
       "<IPython.core.display.HTML object>"
      ]
     },
     "metadata": {},
     "output_type": "display_data"
    },
    {
     "name": "stderr",
     "output_type": "stream",
     "text": [
      "\u001b[34m\u001b[1mwandb\u001b[0m: Agent Starting Run: yl9e0y3w with config:\n",
      "\u001b[34m\u001b[1mwandb\u001b[0m: \thidden_dim: 256\n",
      "\u001b[34m\u001b[1mwandb\u001b[0m: \tlearning_rate: 0.0006964707760552388\n",
      "Failed to detect the name of this notebook, you can set it manually with the WANDB_NOTEBOOK_NAME environment variable to enable code saving.\n"
     ]
    },
    {
     "data": {
      "text/html": [
       "Tracking run with wandb version 0.16.5"
      ],
      "text/plain": [
       "<IPython.core.display.HTML object>"
      ]
     },
     "metadata": {},
     "output_type": "display_data"
    },
    {
     "data": {
      "text/html": [
       "Run data is saved locally in <code>c:\\Users\\Shobhith Vadlamudi\\Desktop\\3rd Year\\SEM 6\\RL\\wandb\\run-20240401_230302-yl9e0y3w</code>"
      ],
      "text/plain": [
       "<IPython.core.display.HTML object>"
      ]
     },
     "metadata": {},
     "output_type": "display_data"
    },
    {
     "data": {
      "text/html": [
       "Syncing run <strong><a href='https://wandb.ai/rl_shobhith/uncategorized/runs/yl9e0y3w/workspace' target=\"_blank\">rare-sweep-98</a></strong> to <a href='https://wandb.ai/rl_shobhith/uncategorized' target=\"_blank\">Weights & Biases</a> (<a href='https://wandb.me/run' target=\"_blank\">docs</a>)<br/>Sweep page: <a href='https://wandb.ai/rl_shobhith/uncategorized/sweeps/ebygp3ca' target=\"_blank\">https://wandb.ai/rl_shobhith/uncategorized/sweeps/ebygp3ca</a>"
      ],
      "text/plain": [
       "<IPython.core.display.HTML object>"
      ]
     },
     "metadata": {},
     "output_type": "display_data"
    },
    {
     "data": {
      "text/html": [
       " View project at <a href='https://wandb.ai/rl_shobhith/uncategorized' target=\"_blank\">https://wandb.ai/rl_shobhith/uncategorized</a>"
      ],
      "text/plain": [
       "<IPython.core.display.HTML object>"
      ]
     },
     "metadata": {},
     "output_type": "display_data"
    },
    {
     "data": {
      "text/html": [
       " View sweep at <a href='https://wandb.ai/rl_shobhith/uncategorized/sweeps/ebygp3ca' target=\"_blank\">https://wandb.ai/rl_shobhith/uncategorized/sweeps/ebygp3ca</a>"
      ],
      "text/plain": [
       "<IPython.core.display.HTML object>"
      ]
     },
     "metadata": {},
     "output_type": "display_data"
    },
    {
     "data": {
      "text/html": [
       " View run at <a href='https://wandb.ai/rl_shobhith/uncategorized/runs/yl9e0y3w/workspace' target=\"_blank\">https://wandb.ai/rl_shobhith/uncategorized/runs/yl9e0y3w/workspace</a>"
      ],
      "text/plain": [
       "<IPython.core.display.HTML object>"
      ]
     },
     "metadata": {},
     "output_type": "display_data"
    },
    {
     "name": "stderr",
     "output_type": "stream",
     "text": [
      "Iteration 0: 100%|██████████| 50/50 [00:01<00:00, 41.68it/s, episode_return=50, return=34.900]\n",
      "Iteration 1: 100%|██████████| 50/50 [00:01<00:00, 25.96it/s, episode_return=100, return=70.600]\n",
      "Iteration 2: 100%|██████████| 50/50 [00:03<00:00, 12.98it/s, episode_return=150, return=95.600] \n",
      "Iteration 3: 100%|██████████| 50/50 [00:05<00:00,  9.14it/s, episode_return=200, return=146.600]\n",
      "Iteration 4: 100%|██████████| 50/50 [00:05<00:00,  9.16it/s, episode_return=250, return=151.900]\n",
      "Iteration 5: 100%|██████████| 50/50 [00:06<00:00,  7.39it/s, episode_return=300, return=253.900]\n",
      "Iteration 6: 100%|██████████| 50/50 [00:10<00:00,  4.58it/s, episode_return=350, return=328.400]\n",
      "Iteration 7: 100%|██████████| 50/50 [00:11<00:00,  4.32it/s, episode_return=400, return=313.000]\n",
      "Iteration 8: 100%|██████████| 50/50 [00:08<00:00,  5.69it/s, episode_return=450, return=181.700]\n",
      "Iteration 9: 100%|██████████| 50/50 [00:12<00:00,  4.01it/s, episode_return=500, return=335.300]\n"
     ]
    },
    {
     "data": {
      "application/vnd.jupyter.widget-view+json": {
       "model_id": "dd24537aeac14be2a60fb12e9d0cb644",
       "version_major": 2,
       "version_minor": 0
      },
      "text/plain": [
       "VBox(children=(Label(value='0.001 MB of 0.001 MB uploaded\\r'), FloatProgress(value=1.0, max=1.0)))"
      ]
     },
     "metadata": {},
     "output_type": "display_data"
    },
    {
     "data": {
      "text/html": [
       "<style>\n",
       "    table.wandb td:nth-child(1) { padding: 0 10px; text-align: left ; width: auto;} td:nth-child(2) {text-align: left ; width: 100%}\n",
       "    .wandb-row { display: flex; flex-direction: row; flex-wrap: wrap; justify-content: flex-start; width: 100% }\n",
       "    .wandb-col { display: flex; flex-direction: column; flex-basis: 100%; flex: 1; padding: 10px; }\n",
       "    </style>\n",
       "<div class=\"wandb-row\"><div class=\"wandb-col\"><h3>Run history:</h3><br/><table class=\"wandb\"><tr><td>regret</td><td>▁</td></tr></table><br/></div><div class=\"wandb-col\"><h3>Run summary:</h3><br/><table class=\"wandb\"><tr><td>regret</td><td>34140.9027</td></tr></table><br/></div></div>"
      ],
      "text/plain": [
       "<IPython.core.display.HTML object>"
      ]
     },
     "metadata": {},
     "output_type": "display_data"
    },
    {
     "data": {
      "text/html": [
       " View run <strong style=\"color:#cdcd00\">rare-sweep-98</strong> at: <a href='https://wandb.ai/rl_shobhith/uncategorized/runs/yl9e0y3w/workspace' target=\"_blank\">https://wandb.ai/rl_shobhith/uncategorized/runs/yl9e0y3w/workspace</a><br/>Synced 5 W&B file(s), 0 media file(s), 0 artifact file(s) and 0 other file(s)"
      ],
      "text/plain": [
       "<IPython.core.display.HTML object>"
      ]
     },
     "metadata": {},
     "output_type": "display_data"
    },
    {
     "data": {
      "text/html": [
       "Find logs at: <code>.\\wandb\\run-20240401_230302-yl9e0y3w\\logs</code>"
      ],
      "text/plain": [
       "<IPython.core.display.HTML object>"
      ]
     },
     "metadata": {},
     "output_type": "display_data"
    },
    {
     "name": "stderr",
     "output_type": "stream",
     "text": [
      "\u001b[34m\u001b[1mwandb\u001b[0m: Sweep Agent: Waiting for job.\n",
      "\u001b[34m\u001b[1mwandb\u001b[0m: Job received.\n",
      "\u001b[34m\u001b[1mwandb\u001b[0m: Agent Starting Run: zn9yhs0h with config:\n",
      "\u001b[34m\u001b[1mwandb\u001b[0m: \thidden_dim: 256\n",
      "\u001b[34m\u001b[1mwandb\u001b[0m: \tlearning_rate: 0.0008734096138995956\n",
      "Failed to detect the name of this notebook, you can set it manually with the WANDB_NOTEBOOK_NAME environment variable to enable code saving.\n"
     ]
    },
    {
     "data": {
      "text/html": [
       "Tracking run with wandb version 0.16.5"
      ],
      "text/plain": [
       "<IPython.core.display.HTML object>"
      ]
     },
     "metadata": {},
     "output_type": "display_data"
    },
    {
     "data": {
      "text/html": [
       "Run data is saved locally in <code>c:\\Users\\Shobhith Vadlamudi\\Desktop\\3rd Year\\SEM 6\\RL\\wandb\\run-20240401_230433-zn9yhs0h</code>"
      ],
      "text/plain": [
       "<IPython.core.display.HTML object>"
      ]
     },
     "metadata": {},
     "output_type": "display_data"
    },
    {
     "data": {
      "text/html": [
       "Syncing run <strong><a href='https://wandb.ai/rl_shobhith/uncategorized/runs/zn9yhs0h/workspace' target=\"_blank\">earnest-sweep-99</a></strong> to <a href='https://wandb.ai/rl_shobhith/uncategorized' target=\"_blank\">Weights & Biases</a> (<a href='https://wandb.me/run' target=\"_blank\">docs</a>)<br/>Sweep page: <a href='https://wandb.ai/rl_shobhith/uncategorized/sweeps/ebygp3ca' target=\"_blank\">https://wandb.ai/rl_shobhith/uncategorized/sweeps/ebygp3ca</a>"
      ],
      "text/plain": [
       "<IPython.core.display.HTML object>"
      ]
     },
     "metadata": {},
     "output_type": "display_data"
    },
    {
     "data": {
      "text/html": [
       " View project at <a href='https://wandb.ai/rl_shobhith/uncategorized' target=\"_blank\">https://wandb.ai/rl_shobhith/uncategorized</a>"
      ],
      "text/plain": [
       "<IPython.core.display.HTML object>"
      ]
     },
     "metadata": {},
     "output_type": "display_data"
    },
    {
     "data": {
      "text/html": [
       " View sweep at <a href='https://wandb.ai/rl_shobhith/uncategorized/sweeps/ebygp3ca' target=\"_blank\">https://wandb.ai/rl_shobhith/uncategorized/sweeps/ebygp3ca</a>"
      ],
      "text/plain": [
       "<IPython.core.display.HTML object>"
      ]
     },
     "metadata": {},
     "output_type": "display_data"
    },
    {
     "data": {
      "text/html": [
       " View run at <a href='https://wandb.ai/rl_shobhith/uncategorized/runs/zn9yhs0h/workspace' target=\"_blank\">https://wandb.ai/rl_shobhith/uncategorized/runs/zn9yhs0h/workspace</a>"
      ],
      "text/plain": [
       "<IPython.core.display.HTML object>"
      ]
     },
     "metadata": {},
     "output_type": "display_data"
    },
    {
     "name": "stderr",
     "output_type": "stream",
     "text": [
      "Iteration 0: 100%|██████████| 50/50 [00:00<00:00, 58.32it/s, episode_return=50, return=21.800]\n",
      "Iteration 1: 100%|██████████| 50/50 [00:01<00:00, 26.71it/s, episode_return=100, return=57.800]\n",
      "Iteration 2: 100%|██████████| 50/50 [00:02<00:00, 23.03it/s, episode_return=150, return=64.600]\n",
      "Iteration 3: 100%|██████████| 50/50 [00:03<00:00, 13.09it/s, episode_return=200, return=129.500]\n",
      "Iteration 4: 100%|██████████| 50/50 [00:08<00:00,  5.71it/s, episode_return=250, return=328.700]\n",
      "Iteration 5: 100%|██████████| 50/50 [00:10<00:00,  4.78it/s, episode_return=300, return=260.900]\n",
      "Iteration 6: 100%|██████████| 50/50 [00:10<00:00,  4.60it/s, episode_return=350, return=377.400]\n",
      "Iteration 7: 100%|██████████| 50/50 [00:13<00:00,  3.64it/s, episode_return=400, return=256.000]\n",
      "Iteration 8: 100%|██████████| 50/50 [00:07<00:00,  6.90it/s, episode_return=450, return=149.500]\n",
      "Iteration 9: 100%|██████████| 50/50 [00:12<00:00,  4.01it/s, episode_return=500, return=361.300]\n"
     ]
    },
    {
     "data": {
      "application/vnd.jupyter.widget-view+json": {
       "model_id": "b55e82beec7743e8a2c15e2cd8929d61",
       "version_major": 2,
       "version_minor": 0
      },
      "text/plain": [
       "VBox(children=(Label(value='0.001 MB of 0.007 MB uploaded\\r'), FloatProgress(value=0.1669793621013133, max=1.0…"
      ]
     },
     "metadata": {},
     "output_type": "display_data"
    },
    {
     "data": {
      "text/html": [
       "<style>\n",
       "    table.wandb td:nth-child(1) { padding: 0 10px; text-align: left ; width: auto;} td:nth-child(2) {text-align: left ; width: 100%}\n",
       "    .wandb-row { display: flex; flex-direction: row; flex-wrap: wrap; justify-content: flex-start; width: 100% }\n",
       "    .wandb-col { display: flex; flex-direction: column; flex-basis: 100%; flex: 1; padding: 10px; }\n",
       "    </style>\n",
       "<div class=\"wandb-row\"><div class=\"wandb-col\"><h3>Run history:</h3><br/><table class=\"wandb\"><tr><td>regret</td><td>▁</td></tr></table><br/></div><div class=\"wandb-col\"><h3>Run summary:</h3><br/><table class=\"wandb\"><tr><td>regret</td><td>35644.72479</td></tr></table><br/></div></div>"
      ],
      "text/plain": [
       "<IPython.core.display.HTML object>"
      ]
     },
     "metadata": {},
     "output_type": "display_data"
    },
    {
     "data": {
      "text/html": [
       " View run <strong style=\"color:#cdcd00\">earnest-sweep-99</strong> at: <a href='https://wandb.ai/rl_shobhith/uncategorized/runs/zn9yhs0h/workspace' target=\"_blank\">https://wandb.ai/rl_shobhith/uncategorized/runs/zn9yhs0h/workspace</a><br/>Synced 5 W&B file(s), 0 media file(s), 0 artifact file(s) and 0 other file(s)"
      ],
      "text/plain": [
       "<IPython.core.display.HTML object>"
      ]
     },
     "metadata": {},
     "output_type": "display_data"
    },
    {
     "data": {
      "text/html": [
       "Find logs at: <code>.\\wandb\\run-20240401_230433-zn9yhs0h\\logs</code>"
      ],
      "text/plain": [
       "<IPython.core.display.HTML object>"
      ]
     },
     "metadata": {},
     "output_type": "display_data"
    },
    {
     "name": "stderr",
     "output_type": "stream",
     "text": [
      "\u001b[34m\u001b[1mwandb\u001b[0m: Agent Starting Run: oohkjoee with config:\n",
      "\u001b[34m\u001b[1mwandb\u001b[0m: \thidden_dim: 128\n",
      "\u001b[34m\u001b[1mwandb\u001b[0m: \tlearning_rate: 0.000989460832389099\n",
      "Failed to detect the name of this notebook, you can set it manually with the WANDB_NOTEBOOK_NAME environment variable to enable code saving.\n"
     ]
    },
    {
     "data": {
      "text/html": [
       "Tracking run with wandb version 0.16.5"
      ],
      "text/plain": [
       "<IPython.core.display.HTML object>"
      ]
     },
     "metadata": {},
     "output_type": "display_data"
    },
    {
     "data": {
      "text/html": [
       "Run data is saved locally in <code>c:\\Users\\Shobhith Vadlamudi\\Desktop\\3rd Year\\SEM 6\\RL\\wandb\\run-20240401_230558-oohkjoee</code>"
      ],
      "text/plain": [
       "<IPython.core.display.HTML object>"
      ]
     },
     "metadata": {},
     "output_type": "display_data"
    },
    {
     "data": {
      "text/html": [
       "Syncing run <strong><a href='https://wandb.ai/rl_shobhith/uncategorized/runs/oohkjoee/workspace' target=\"_blank\">worldly-sweep-100</a></strong> to <a href='https://wandb.ai/rl_shobhith/uncategorized' target=\"_blank\">Weights & Biases</a> (<a href='https://wandb.me/run' target=\"_blank\">docs</a>)<br/>Sweep page: <a href='https://wandb.ai/rl_shobhith/uncategorized/sweeps/ebygp3ca' target=\"_blank\">https://wandb.ai/rl_shobhith/uncategorized/sweeps/ebygp3ca</a>"
      ],
      "text/plain": [
       "<IPython.core.display.HTML object>"
      ]
     },
     "metadata": {},
     "output_type": "display_data"
    },
    {
     "data": {
      "text/html": [
       " View project at <a href='https://wandb.ai/rl_shobhith/uncategorized' target=\"_blank\">https://wandb.ai/rl_shobhith/uncategorized</a>"
      ],
      "text/plain": [
       "<IPython.core.display.HTML object>"
      ]
     },
     "metadata": {},
     "output_type": "display_data"
    },
    {
     "data": {
      "text/html": [
       " View sweep at <a href='https://wandb.ai/rl_shobhith/uncategorized/sweeps/ebygp3ca' target=\"_blank\">https://wandb.ai/rl_shobhith/uncategorized/sweeps/ebygp3ca</a>"
      ],
      "text/plain": [
       "<IPython.core.display.HTML object>"
      ]
     },
     "metadata": {},
     "output_type": "display_data"
    },
    {
     "data": {
      "text/html": [
       " View run at <a href='https://wandb.ai/rl_shobhith/uncategorized/runs/oohkjoee/workspace' target=\"_blank\">https://wandb.ai/rl_shobhith/uncategorized/runs/oohkjoee/workspace</a>"
      ],
      "text/plain": [
       "<IPython.core.display.HTML object>"
      ]
     },
     "metadata": {},
     "output_type": "display_data"
    },
    {
     "name": "stderr",
     "output_type": "stream",
     "text": [
      "Iteration 0: 100%|██████████| 50/50 [00:01<00:00, 44.24it/s, episode_return=50, return=27.000]\n",
      "Iteration 1: 100%|██████████| 50/50 [00:01<00:00, 33.76it/s, episode_return=100, return=51.000]\n",
      "Iteration 2: 100%|██████████| 50/50 [00:01<00:00, 27.17it/s, episode_return=150, return=61.800]\n",
      "Iteration 3: 100%|██████████| 50/50 [00:02<00:00, 21.11it/s, episode_return=200, return=60.400]\n",
      "Iteration 4: 100%|██████████| 50/50 [00:02<00:00, 18.70it/s, episode_return=250, return=88.800]\n",
      "Iteration 5: 100%|██████████| 50/50 [00:05<00:00,  8.99it/s, episode_return=300, return=197.100]\n",
      "Iteration 6: 100%|██████████| 50/50 [00:08<00:00,  5.68it/s, episode_return=350, return=258.400]\n",
      "Iteration 7: 100%|██████████| 50/50 [00:10<00:00,  4.61it/s, episode_return=400, return=299.300]\n",
      "Iteration 8: 100%|██████████| 50/50 [00:12<00:00,  4.03it/s, episode_return=450, return=300.500]\n",
      "Iteration 9: 100%|██████████| 50/50 [00:10<00:00,  4.55it/s, episode_return=500, return=324.600]\n"
     ]
    },
    {
     "data": {
      "application/vnd.jupyter.widget-view+json": {
       "model_id": "2f1742dd678842a28455173f8559b1ef",
       "version_major": 2,
       "version_minor": 0
      },
      "text/plain": [
       "VBox(children=(Label(value='0.001 MB of 0.007 MB uploaded\\r'), FloatProgress(value=0.167337627482555, max=1.0)…"
      ]
     },
     "metadata": {},
     "output_type": "display_data"
    },
    {
     "data": {
      "text/html": [
       "<style>\n",
       "    table.wandb td:nth-child(1) { padding: 0 10px; text-align: left ; width: auto;} td:nth-child(2) {text-align: left ; width: 100%}\n",
       "    .wandb-row { display: flex; flex-direction: row; flex-wrap: wrap; justify-content: flex-start; width: 100% }\n",
       "    .wandb-col { display: flex; flex-direction: column; flex-basis: 100%; flex: 1; padding: 10px; }\n",
       "    </style>\n",
       "<div class=\"wandb-row\"><div class=\"wandb-col\"><h3>Run history:</h3><br/><table class=\"wandb\"><tr><td>regret</td><td>▁</td></tr></table><br/></div><div class=\"wandb-col\"><h3>Run summary:</h3><br/><table class=\"wandb\"><tr><td>regret</td><td>46583.6703</td></tr></table><br/></div></div>"
      ],
      "text/plain": [
       "<IPython.core.display.HTML object>"
      ]
     },
     "metadata": {},
     "output_type": "display_data"
    },
    {
     "data": {
      "text/html": [
       " View run <strong style=\"color:#cdcd00\">worldly-sweep-100</strong> at: <a href='https://wandb.ai/rl_shobhith/uncategorized/runs/oohkjoee/workspace' target=\"_blank\">https://wandb.ai/rl_shobhith/uncategorized/runs/oohkjoee/workspace</a><br/>Synced 5 W&B file(s), 0 media file(s), 0 artifact file(s) and 0 other file(s)"
      ],
      "text/plain": [
       "<IPython.core.display.HTML object>"
      ]
     },
     "metadata": {},
     "output_type": "display_data"
    },
    {
     "data": {
      "text/html": [
       "Find logs at: <code>.\\wandb\\run-20240401_230558-oohkjoee\\logs</code>"
      ],
      "text/plain": [
       "<IPython.core.display.HTML object>"
      ]
     },
     "metadata": {},
     "output_type": "display_data"
    },
    {
     "name": "stderr",
     "output_type": "stream",
     "text": [
      "\u001b[34m\u001b[1mwandb\u001b[0m: Agent Starting Run: 7xeyew5r with config:\n",
      "\u001b[34m\u001b[1mwandb\u001b[0m: \thidden_dim: 64\n",
      "\u001b[34m\u001b[1mwandb\u001b[0m: \tlearning_rate: 0.00021061831063992425\n",
      "Failed to detect the name of this notebook, you can set it manually with the WANDB_NOTEBOOK_NAME environment variable to enable code saving.\n"
     ]
    },
    {
     "data": {
      "text/html": [
       "Tracking run with wandb version 0.16.5"
      ],
      "text/plain": [
       "<IPython.core.display.HTML object>"
      ]
     },
     "metadata": {},
     "output_type": "display_data"
    },
    {
     "data": {
      "text/html": [
       "Run data is saved locally in <code>c:\\Users\\Shobhith Vadlamudi\\Desktop\\3rd Year\\SEM 6\\RL\\wandb\\run-20240401_230708-7xeyew5r</code>"
      ],
      "text/plain": [
       "<IPython.core.display.HTML object>"
      ]
     },
     "metadata": {},
     "output_type": "display_data"
    },
    {
     "data": {
      "text/html": [
       "Syncing run <strong><a href='https://wandb.ai/rl_shobhith/uncategorized/runs/7xeyew5r/workspace' target=\"_blank\">leafy-sweep-101</a></strong> to <a href='https://wandb.ai/rl_shobhith/uncategorized' target=\"_blank\">Weights & Biases</a> (<a href='https://wandb.me/run' target=\"_blank\">docs</a>)<br/>Sweep page: <a href='https://wandb.ai/rl_shobhith/uncategorized/sweeps/ebygp3ca' target=\"_blank\">https://wandb.ai/rl_shobhith/uncategorized/sweeps/ebygp3ca</a>"
      ],
      "text/plain": [
       "<IPython.core.display.HTML object>"
      ]
     },
     "metadata": {},
     "output_type": "display_data"
    },
    {
     "data": {
      "text/html": [
       " View project at <a href='https://wandb.ai/rl_shobhith/uncategorized' target=\"_blank\">https://wandb.ai/rl_shobhith/uncategorized</a>"
      ],
      "text/plain": [
       "<IPython.core.display.HTML object>"
      ]
     },
     "metadata": {},
     "output_type": "display_data"
    },
    {
     "data": {
      "text/html": [
       " View sweep at <a href='https://wandb.ai/rl_shobhith/uncategorized/sweeps/ebygp3ca' target=\"_blank\">https://wandb.ai/rl_shobhith/uncategorized/sweeps/ebygp3ca</a>"
      ],
      "text/plain": [
       "<IPython.core.display.HTML object>"
      ]
     },
     "metadata": {},
     "output_type": "display_data"
    },
    {
     "data": {
      "text/html": [
       " View run at <a href='https://wandb.ai/rl_shobhith/uncategorized/runs/7xeyew5r/workspace' target=\"_blank\">https://wandb.ai/rl_shobhith/uncategorized/runs/7xeyew5r/workspace</a>"
      ],
      "text/plain": [
       "<IPython.core.display.HTML object>"
      ]
     },
     "metadata": {},
     "output_type": "display_data"
    },
    {
     "name": "stderr",
     "output_type": "stream",
     "text": [
      "Iteration 0: 100%|██████████| 50/50 [00:00<00:00, 53.93it/s, episode_return=50, return=17.100]\n",
      "Iteration 1: 100%|██████████| 50/50 [00:01<00:00, 42.61it/s, episode_return=100, return=18.200]\n",
      "Iteration 2: 100%|██████████| 50/50 [00:01<00:00, 46.29it/s, episode_return=150, return=24.800]\n",
      "Iteration 3: 100%|██████████| 50/50 [00:01<00:00, 43.73it/s, episode_return=200, return=24.300]\n",
      "Iteration 4: 100%|██████████| 50/50 [00:01<00:00, 35.48it/s, episode_return=250, return=27.000]\n",
      "Iteration 5: 100%|██████████| 50/50 [00:01<00:00, 42.29it/s, episode_return=300, return=27.700]\n",
      "Iteration 6: 100%|██████████| 50/50 [00:01<00:00, 34.25it/s, episode_return=350, return=29.500]\n",
      "Iteration 7: 100%|██████████| 50/50 [00:01<00:00, 41.19it/s, episode_return=400, return=27.800]\n",
      "Iteration 8: 100%|██████████| 50/50 [00:01<00:00, 34.41it/s, episode_return=450, return=29.200]\n",
      "Iteration 9: 100%|██████████| 50/50 [00:01<00:00, 43.36it/s, episode_return=500, return=34.600]\n"
     ]
    },
    {
     "data": {
      "application/vnd.jupyter.widget-view+json": {
       "model_id": "ee0dadc2b9684e939323eb4c61c83b85",
       "version_major": 2,
       "version_minor": 0
      },
      "text/plain": [
       "VBox(children=(Label(value='0.001 MB of 0.001 MB uploaded\\r'), FloatProgress(value=1.0, max=1.0)))"
      ]
     },
     "metadata": {},
     "output_type": "display_data"
    },
    {
     "data": {
      "text/html": [
       "<style>\n",
       "    table.wandb td:nth-child(1) { padding: 0 10px; text-align: left ; width: auto;} td:nth-child(2) {text-align: left ; width: 100%}\n",
       "    .wandb-row { display: flex; flex-direction: row; flex-wrap: wrap; justify-content: flex-start; width: 100% }\n",
       "    .wandb-col { display: flex; flex-direction: column; flex-basis: 100%; flex: 1; padding: 10px; }\n",
       "    </style>\n",
       "<div class=\"wandb-row\"><div class=\"wandb-col\"><h3>Run history:</h3><br/><table class=\"wandb\"><tr><td>regret</td><td>▁</td></tr></table><br/></div><div class=\"wandb-col\"><h3>Run summary:</h3><br/><table class=\"wandb\"><tr><td>regret</td><td>85039.55288</td></tr></table><br/></div></div>"
      ],
      "text/plain": [
       "<IPython.core.display.HTML object>"
      ]
     },
     "metadata": {},
     "output_type": "display_data"
    },
    {
     "data": {
      "text/html": [
       " View run <strong style=\"color:#cdcd00\">leafy-sweep-101</strong> at: <a href='https://wandb.ai/rl_shobhith/uncategorized/runs/7xeyew5r/workspace' target=\"_blank\">https://wandb.ai/rl_shobhith/uncategorized/runs/7xeyew5r/workspace</a><br/>Synced 5 W&B file(s), 0 media file(s), 0 artifact file(s) and 0 other file(s)"
      ],
      "text/plain": [
       "<IPython.core.display.HTML object>"
      ]
     },
     "metadata": {},
     "output_type": "display_data"
    },
    {
     "data": {
      "text/html": [
       "Find logs at: <code>.\\wandb\\run-20240401_230708-7xeyew5r\\logs</code>"
      ],
      "text/plain": [
       "<IPython.core.display.HTML object>"
      ]
     },
     "metadata": {},
     "output_type": "display_data"
    },
    {
     "name": "stderr",
     "output_type": "stream",
     "text": [
      "\u001b[34m\u001b[1mwandb\u001b[0m: Agent Starting Run: tu7in6ad with config:\n",
      "\u001b[34m\u001b[1mwandb\u001b[0m: \thidden_dim: 128\n",
      "\u001b[34m\u001b[1mwandb\u001b[0m: \tlearning_rate: 0.0007386979151970491\n",
      "Failed to detect the name of this notebook, you can set it manually with the WANDB_NOTEBOOK_NAME environment variable to enable code saving.\n"
     ]
    },
    {
     "data": {
      "text/html": [
       "Tracking run with wandb version 0.16.5"
      ],
      "text/plain": [
       "<IPython.core.display.HTML object>"
      ]
     },
     "metadata": {},
     "output_type": "display_data"
    },
    {
     "data": {
      "text/html": [
       "Run data is saved locally in <code>c:\\Users\\Shobhith Vadlamudi\\Desktop\\3rd Year\\SEM 6\\RL\\wandb\\run-20240401_230735-tu7in6ad</code>"
      ],
      "text/plain": [
       "<IPython.core.display.HTML object>"
      ]
     },
     "metadata": {},
     "output_type": "display_data"
    },
    {
     "data": {
      "text/html": [
       "Syncing run <strong><a href='https://wandb.ai/rl_shobhith/uncategorized/runs/tu7in6ad/workspace' target=\"_blank\">effortless-sweep-102</a></strong> to <a href='https://wandb.ai/rl_shobhith/uncategorized' target=\"_blank\">Weights & Biases</a> (<a href='https://wandb.me/run' target=\"_blank\">docs</a>)<br/>Sweep page: <a href='https://wandb.ai/rl_shobhith/uncategorized/sweeps/ebygp3ca' target=\"_blank\">https://wandb.ai/rl_shobhith/uncategorized/sweeps/ebygp3ca</a>"
      ],
      "text/plain": [
       "<IPython.core.display.HTML object>"
      ]
     },
     "metadata": {},
     "output_type": "display_data"
    },
    {
     "data": {
      "text/html": [
       " View project at <a href='https://wandb.ai/rl_shobhith/uncategorized' target=\"_blank\">https://wandb.ai/rl_shobhith/uncategorized</a>"
      ],
      "text/plain": [
       "<IPython.core.display.HTML object>"
      ]
     },
     "metadata": {},
     "output_type": "display_data"
    },
    {
     "data": {
      "text/html": [
       " View sweep at <a href='https://wandb.ai/rl_shobhith/uncategorized/sweeps/ebygp3ca' target=\"_blank\">https://wandb.ai/rl_shobhith/uncategorized/sweeps/ebygp3ca</a>"
      ],
      "text/plain": [
       "<IPython.core.display.HTML object>"
      ]
     },
     "metadata": {},
     "output_type": "display_data"
    },
    {
     "data": {
      "text/html": [
       " View run at <a href='https://wandb.ai/rl_shobhith/uncategorized/runs/tu7in6ad/workspace' target=\"_blank\">https://wandb.ai/rl_shobhith/uncategorized/runs/tu7in6ad/workspace</a>"
      ],
      "text/plain": [
       "<IPython.core.display.HTML object>"
      ]
     },
     "metadata": {},
     "output_type": "display_data"
    },
    {
     "name": "stderr",
     "output_type": "stream",
     "text": [
      "Iteration 0: 100%|██████████| 50/50 [00:00<00:00, 65.00it/s, episode_return=50, return=22.100]\n",
      "Iteration 1: 100%|██████████| 50/50 [00:01<00:00, 47.31it/s, episode_return=100, return=29.300]\n",
      "Iteration 2: 100%|██████████| 50/50 [00:01<00:00, 27.13it/s, episode_return=150, return=48.500]\n",
      "Iteration 3: 100%|██████████| 50/50 [00:02<00:00, 21.36it/s, episode_return=200, return=60.600]\n",
      "Iteration 4: 100%|██████████| 50/50 [00:02<00:00, 17.43it/s, episode_return=250, return=66.800]\n",
      "Iteration 5: 100%|██████████| 50/50 [00:04<00:00, 11.54it/s, episode_return=300, return=134.800]\n",
      "Iteration 6: 100%|██████████| 50/50 [00:05<00:00,  8.76it/s, episode_return=350, return=172.800]\n",
      "Iteration 7: 100%|██████████| 50/50 [00:07<00:00,  6.40it/s, episode_return=400, return=323.100]\n",
      "Iteration 8: 100%|██████████| 50/50 [00:11<00:00,  4.32it/s, episode_return=450, return=315.700]\n",
      "Iteration 9: 100%|██████████| 50/50 [00:09<00:00,  5.04it/s, episode_return=500, return=177.300]\n"
     ]
    },
    {
     "data": {
      "application/vnd.jupyter.widget-view+json": {
       "model_id": "1e4b6f5a20ca425680fa173bf79b02b0",
       "version_major": 2,
       "version_minor": 0
      },
      "text/plain": [
       "VBox(children=(Label(value='0.001 MB of 0.007 MB uploaded\\r'), FloatProgress(value=0.17042503758370917, max=1.…"
      ]
     },
     "metadata": {},
     "output_type": "display_data"
    },
    {
     "data": {
      "text/html": [
       "<style>\n",
       "    table.wandb td:nth-child(1) { padding: 0 10px; text-align: left ; width: auto;} td:nth-child(2) {text-align: left ; width: 100%}\n",
       "    .wandb-row { display: flex; flex-direction: row; flex-wrap: wrap; justify-content: flex-start; width: 100% }\n",
       "    .wandb-col { display: flex; flex-direction: column; flex-basis: 100%; flex: 1; padding: 10px; }\n",
       "    </style>\n",
       "<div class=\"wandb-row\"><div class=\"wandb-col\"><h3>Run history:</h3><br/><table class=\"wandb\"><tr><td>regret</td><td>▁</td></tr></table><br/></div><div class=\"wandb-col\"><h3>Run summary:</h3><br/><table class=\"wandb\"><tr><td>regret</td><td>51873.33006</td></tr></table><br/></div></div>"
      ],
      "text/plain": [
       "<IPython.core.display.HTML object>"
      ]
     },
     "metadata": {},
     "output_type": "display_data"
    },
    {
     "data": {
      "text/html": [
       " View run <strong style=\"color:#cdcd00\">effortless-sweep-102</strong> at: <a href='https://wandb.ai/rl_shobhith/uncategorized/runs/tu7in6ad/workspace' target=\"_blank\">https://wandb.ai/rl_shobhith/uncategorized/runs/tu7in6ad/workspace</a><br/>Synced 5 W&B file(s), 0 media file(s), 0 artifact file(s) and 0 other file(s)"
      ],
      "text/plain": [
       "<IPython.core.display.HTML object>"
      ]
     },
     "metadata": {},
     "output_type": "display_data"
    },
    {
     "data": {
      "text/html": [
       "Find logs at: <code>.\\wandb\\run-20240401_230735-tu7in6ad\\logs</code>"
      ],
      "text/plain": [
       "<IPython.core.display.HTML object>"
      ]
     },
     "metadata": {},
     "output_type": "display_data"
    },
    {
     "name": "stderr",
     "output_type": "stream",
     "text": [
      "\u001b[34m\u001b[1mwandb\u001b[0m: Sweep Agent: Waiting for job.\n",
      "\u001b[34m\u001b[1mwandb\u001b[0m: Job received.\n",
      "\u001b[34m\u001b[1mwandb\u001b[0m: Agent Starting Run: zq7630sd with config:\n",
      "\u001b[34m\u001b[1mwandb\u001b[0m: \thidden_dim: 256\n",
      "\u001b[34m\u001b[1mwandb\u001b[0m: \tlearning_rate: 0.0007347853748850174\n",
      "Failed to detect the name of this notebook, you can set it manually with the WANDB_NOTEBOOK_NAME environment variable to enable code saving.\n"
     ]
    },
    {
     "data": {
      "text/html": [
       "Tracking run with wandb version 0.16.5"
      ],
      "text/plain": [
       "<IPython.core.display.HTML object>"
      ]
     },
     "metadata": {},
     "output_type": "display_data"
    },
    {
     "data": {
      "text/html": [
       "Run data is saved locally in <code>c:\\Users\\Shobhith Vadlamudi\\Desktop\\3rd Year\\SEM 6\\RL\\wandb\\run-20240401_230845-zq7630sd</code>"
      ],
      "text/plain": [
       "<IPython.core.display.HTML object>"
      ]
     },
     "metadata": {},
     "output_type": "display_data"
    },
    {
     "data": {
      "text/html": [
       "Syncing run <strong><a href='https://wandb.ai/rl_shobhith/uncategorized/runs/zq7630sd/workspace' target=\"_blank\">hardy-sweep-103</a></strong> to <a href='https://wandb.ai/rl_shobhith/uncategorized' target=\"_blank\">Weights & Biases</a> (<a href='https://wandb.me/run' target=\"_blank\">docs</a>)<br/>Sweep page: <a href='https://wandb.ai/rl_shobhith/uncategorized/sweeps/ebygp3ca' target=\"_blank\">https://wandb.ai/rl_shobhith/uncategorized/sweeps/ebygp3ca</a>"
      ],
      "text/plain": [
       "<IPython.core.display.HTML object>"
      ]
     },
     "metadata": {},
     "output_type": "display_data"
    },
    {
     "data": {
      "text/html": [
       " View project at <a href='https://wandb.ai/rl_shobhith/uncategorized' target=\"_blank\">https://wandb.ai/rl_shobhith/uncategorized</a>"
      ],
      "text/plain": [
       "<IPython.core.display.HTML object>"
      ]
     },
     "metadata": {},
     "output_type": "display_data"
    },
    {
     "data": {
      "text/html": [
       " View sweep at <a href='https://wandb.ai/rl_shobhith/uncategorized/sweeps/ebygp3ca' target=\"_blank\">https://wandb.ai/rl_shobhith/uncategorized/sweeps/ebygp3ca</a>"
      ],
      "text/plain": [
       "<IPython.core.display.HTML object>"
      ]
     },
     "metadata": {},
     "output_type": "display_data"
    },
    {
     "data": {
      "text/html": [
       " View run at <a href='https://wandb.ai/rl_shobhith/uncategorized/runs/zq7630sd/workspace' target=\"_blank\">https://wandb.ai/rl_shobhith/uncategorized/runs/zq7630sd/workspace</a>"
      ],
      "text/plain": [
       "<IPython.core.display.HTML object>"
      ]
     },
     "metadata": {},
     "output_type": "display_data"
    },
    {
     "name": "stderr",
     "output_type": "stream",
     "text": [
      "Iteration 0: 100%|██████████| 50/50 [00:01<00:00, 47.28it/s, episode_return=50, return=24.000]\n",
      "Iteration 1: 100%|██████████| 50/50 [00:01<00:00, 33.75it/s, episode_return=100, return=41.000]\n",
      "Iteration 2: 100%|██████████| 50/50 [00:02<00:00, 22.11it/s, episode_return=150, return=60.400]\n",
      "Iteration 3: 100%|██████████| 50/50 [00:03<00:00, 14.46it/s, episode_return=200, return=97.400] \n",
      "Iteration 4: 100%|██████████| 50/50 [00:04<00:00, 11.18it/s, episode_return=250, return=143.900]\n",
      "Iteration 5: 100%|██████████| 50/50 [00:06<00:00,  7.72it/s, episode_return=300, return=128.700]\n",
      "Iteration 6: 100%|██████████| 50/50 [00:08<00:00,  6.15it/s, episode_return=350, return=220.600]\n",
      "Iteration 7: 100%|██████████| 50/50 [00:07<00:00,  6.59it/s, episode_return=400, return=252.800]\n",
      "Iteration 8: 100%|██████████| 50/50 [00:05<00:00,  9.27it/s, episode_return=450, return=180.900]\n",
      "Iteration 9: 100%|██████████| 50/50 [00:13<00:00,  3.69it/s, episode_return=500, return=344.900]\n"
     ]
    },
    {
     "data": {
      "application/vnd.jupyter.widget-view+json": {
       "model_id": "7cb6e6f1f39d436fa5b3bdaab5ef9804",
       "version_major": 2,
       "version_minor": 0
      },
      "text/plain": [
       "VBox(children=(Label(value='0.001 MB of 0.007 MB uploaded\\r'), FloatProgress(value=0.16731517509727625, max=1.…"
      ]
     },
     "metadata": {},
     "output_type": "display_data"
    },
    {
     "data": {
      "text/html": [
       "<style>\n",
       "    table.wandb td:nth-child(1) { padding: 0 10px; text-align: left ; width: auto;} td:nth-child(2) {text-align: left ; width: 100%}\n",
       "    .wandb-row { display: flex; flex-direction: row; flex-wrap: wrap; justify-content: flex-start; width: 100% }\n",
       "    .wandb-col { display: flex; flex-direction: column; flex-basis: 100%; flex: 1; padding: 10px; }\n",
       "    </style>\n",
       "<div class=\"wandb-row\"><div class=\"wandb-col\"><h3>Run history:</h3><br/><table class=\"wandb\"><tr><td>regret</td><td>▁</td></tr></table><br/></div><div class=\"wandb-col\"><h3>Run summary:</h3><br/><table class=\"wandb\"><tr><td>regret</td><td>42382.35643</td></tr></table><br/></div></div>"
      ],
      "text/plain": [
       "<IPython.core.display.HTML object>"
      ]
     },
     "metadata": {},
     "output_type": "display_data"
    },
    {
     "data": {
      "text/html": [
       " View run <strong style=\"color:#cdcd00\">hardy-sweep-103</strong> at: <a href='https://wandb.ai/rl_shobhith/uncategorized/runs/zq7630sd/workspace' target=\"_blank\">https://wandb.ai/rl_shobhith/uncategorized/runs/zq7630sd/workspace</a><br/>Synced 5 W&B file(s), 0 media file(s), 0 artifact file(s) and 0 other file(s)"
      ],
      "text/plain": [
       "<IPython.core.display.HTML object>"
      ]
     },
     "metadata": {},
     "output_type": "display_data"
    },
    {
     "data": {
      "text/html": [
       "Find logs at: <code>.\\wandb\\run-20240401_230845-zq7630sd\\logs</code>"
      ],
      "text/plain": [
       "<IPython.core.display.HTML object>"
      ]
     },
     "metadata": {},
     "output_type": "display_data"
    },
    {
     "name": "stderr",
     "output_type": "stream",
     "text": [
      "\u001b[34m\u001b[1mwandb\u001b[0m: Agent Starting Run: 1l7uvnf3 with config:\n",
      "\u001b[34m\u001b[1mwandb\u001b[0m: \thidden_dim: 64\n",
      "\u001b[34m\u001b[1mwandb\u001b[0m: \tlearning_rate: 0.0003881242724422109\n",
      "Failed to detect the name of this notebook, you can set it manually with the WANDB_NOTEBOOK_NAME environment variable to enable code saving.\n"
     ]
    },
    {
     "data": {
      "text/html": [
       "Tracking run with wandb version 0.16.5"
      ],
      "text/plain": [
       "<IPython.core.display.HTML object>"
      ]
     },
     "metadata": {},
     "output_type": "display_data"
    },
    {
     "data": {
      "text/html": [
       "Run data is saved locally in <code>c:\\Users\\Shobhith Vadlamudi\\Desktop\\3rd Year\\SEM 6\\RL\\wandb\\run-20240401_230949-1l7uvnf3</code>"
      ],
      "text/plain": [
       "<IPython.core.display.HTML object>"
      ]
     },
     "metadata": {},
     "output_type": "display_data"
    },
    {
     "data": {
      "text/html": [
       "Syncing run <strong><a href='https://wandb.ai/rl_shobhith/uncategorized/runs/1l7uvnf3/workspace' target=\"_blank\">resilient-sweep-104</a></strong> to <a href='https://wandb.ai/rl_shobhith/uncategorized' target=\"_blank\">Weights & Biases</a> (<a href='https://wandb.me/run' target=\"_blank\">docs</a>)<br/>Sweep page: <a href='https://wandb.ai/rl_shobhith/uncategorized/sweeps/ebygp3ca' target=\"_blank\">https://wandb.ai/rl_shobhith/uncategorized/sweeps/ebygp3ca</a>"
      ],
      "text/plain": [
       "<IPython.core.display.HTML object>"
      ]
     },
     "metadata": {},
     "output_type": "display_data"
    },
    {
     "data": {
      "text/html": [
       " View project at <a href='https://wandb.ai/rl_shobhith/uncategorized' target=\"_blank\">https://wandb.ai/rl_shobhith/uncategorized</a>"
      ],
      "text/plain": [
       "<IPython.core.display.HTML object>"
      ]
     },
     "metadata": {},
     "output_type": "display_data"
    },
    {
     "data": {
      "text/html": [
       " View sweep at <a href='https://wandb.ai/rl_shobhith/uncategorized/sweeps/ebygp3ca' target=\"_blank\">https://wandb.ai/rl_shobhith/uncategorized/sweeps/ebygp3ca</a>"
      ],
      "text/plain": [
       "<IPython.core.display.HTML object>"
      ]
     },
     "metadata": {},
     "output_type": "display_data"
    },
    {
     "data": {
      "text/html": [
       " View run at <a href='https://wandb.ai/rl_shobhith/uncategorized/runs/1l7uvnf3/workspace' target=\"_blank\">https://wandb.ai/rl_shobhith/uncategorized/runs/1l7uvnf3/workspace</a>"
      ],
      "text/plain": [
       "<IPython.core.display.HTML object>"
      ]
     },
     "metadata": {},
     "output_type": "display_data"
    },
    {
     "name": "stderr",
     "output_type": "stream",
     "text": [
      "Iteration 0: 100%|██████████| 50/50 [00:01<00:00, 41.81it/s, episode_return=50, return=24.500]\n",
      "Iteration 1: 100%|██████████| 50/50 [00:01<00:00, 30.84it/s, episode_return=100, return=21.400]\n",
      "Iteration 2: 100%|██████████| 50/50 [00:01<00:00, 35.86it/s, episode_return=150, return=35.400]\n",
      "Iteration 3: 100%|██████████| 50/50 [00:01<00:00, 32.59it/s, episode_return=200, return=29.100]\n",
      "Iteration 4: 100%|██████████| 50/50 [00:01<00:00, 25.41it/s, episode_return=250, return=43.700]\n",
      "Iteration 5: 100%|██████████| 50/50 [00:01<00:00, 29.44it/s, episode_return=300, return=53.300]\n",
      "Iteration 6: 100%|██████████| 50/50 [00:02<00:00, 24.62it/s, episode_return=350, return=53.200]\n",
      "Iteration 7: 100%|██████████| 50/50 [00:02<00:00, 17.88it/s, episode_return=400, return=69.200]\n",
      "Iteration 8: 100%|██████████| 50/50 [00:03<00:00, 15.55it/s, episode_return=450, return=69.600]\n",
      "Iteration 9: 100%|██████████| 50/50 [00:03<00:00, 12.56it/s, episode_return=500, return=74.500] \n"
     ]
    },
    {
     "data": {
      "application/vnd.jupyter.widget-view+json": {
       "model_id": "d016ee2df882473db4af5b77a289959e",
       "version_major": 2,
       "version_minor": 0
      },
      "text/plain": [
       "VBox(children=(Label(value='0.001 MB of 0.001 MB uploaded\\r'), FloatProgress(value=1.0, max=1.0)))"
      ]
     },
     "metadata": {},
     "output_type": "display_data"
    },
    {
     "data": {
      "text/html": [
       "<style>\n",
       "    table.wandb td:nth-child(1) { padding: 0 10px; text-align: left ; width: auto;} td:nth-child(2) {text-align: left ; width: 100%}\n",
       "    .wandb-row { display: flex; flex-direction: row; flex-wrap: wrap; justify-content: flex-start; width: 100% }\n",
       "    .wandb-col { display: flex; flex-direction: column; flex-basis: 100%; flex: 1; padding: 10px; }\n",
       "    </style>\n",
       "<div class=\"wandb-row\"><div class=\"wandb-col\"><h3>Run history:</h3><br/><table class=\"wandb\"><tr><td>regret</td><td>▁</td></tr></table><br/></div><div class=\"wandb-col\"><h3>Run summary:</h3><br/><table class=\"wandb\"><tr><td>regret</td><td>76984.17717</td></tr></table><br/></div></div>"
      ],
      "text/plain": [
       "<IPython.core.display.HTML object>"
      ]
     },
     "metadata": {},
     "output_type": "display_data"
    },
    {
     "data": {
      "text/html": [
       " View run <strong style=\"color:#cdcd00\">resilient-sweep-104</strong> at: <a href='https://wandb.ai/rl_shobhith/uncategorized/runs/1l7uvnf3/workspace' target=\"_blank\">https://wandb.ai/rl_shobhith/uncategorized/runs/1l7uvnf3/workspace</a><br/>Synced 5 W&B file(s), 0 media file(s), 0 artifact file(s) and 0 other file(s)"
      ],
      "text/plain": [
       "<IPython.core.display.HTML object>"
      ]
     },
     "metadata": {},
     "output_type": "display_data"
    },
    {
     "data": {
      "text/html": [
       "Find logs at: <code>.\\wandb\\run-20240401_230949-1l7uvnf3\\logs</code>"
      ],
      "text/plain": [
       "<IPython.core.display.HTML object>"
      ]
     },
     "metadata": {},
     "output_type": "display_data"
    },
    {
     "name": "stderr",
     "output_type": "stream",
     "text": [
      "\u001b[34m\u001b[1mwandb\u001b[0m: Agent Starting Run: wa89fsg5 with config:\n",
      "\u001b[34m\u001b[1mwandb\u001b[0m: \thidden_dim: 128\n",
      "\u001b[34m\u001b[1mwandb\u001b[0m: \tlearning_rate: 0.00040583606346654536\n",
      "Failed to detect the name of this notebook, you can set it manually with the WANDB_NOTEBOOK_NAME environment variable to enable code saving.\n"
     ]
    },
    {
     "data": {
      "text/html": [
       "Tracking run with wandb version 0.16.5"
      ],
      "text/plain": [
       "<IPython.core.display.HTML object>"
      ]
     },
     "metadata": {},
     "output_type": "display_data"
    },
    {
     "data": {
      "text/html": [
       "Run data is saved locally in <code>c:\\Users\\Shobhith Vadlamudi\\Desktop\\3rd Year\\SEM 6\\RL\\wandb\\run-20240401_231026-wa89fsg5</code>"
      ],
      "text/plain": [
       "<IPython.core.display.HTML object>"
      ]
     },
     "metadata": {},
     "output_type": "display_data"
    },
    {
     "data": {
      "text/html": [
       "Syncing run <strong><a href='https://wandb.ai/rl_shobhith/uncategorized/runs/wa89fsg5/workspace' target=\"_blank\">comic-sweep-105</a></strong> to <a href='https://wandb.ai/rl_shobhith/uncategorized' target=\"_blank\">Weights & Biases</a> (<a href='https://wandb.me/run' target=\"_blank\">docs</a>)<br/>Sweep page: <a href='https://wandb.ai/rl_shobhith/uncategorized/sweeps/ebygp3ca' target=\"_blank\">https://wandb.ai/rl_shobhith/uncategorized/sweeps/ebygp3ca</a>"
      ],
      "text/plain": [
       "<IPython.core.display.HTML object>"
      ]
     },
     "metadata": {},
     "output_type": "display_data"
    },
    {
     "data": {
      "text/html": [
       " View project at <a href='https://wandb.ai/rl_shobhith/uncategorized' target=\"_blank\">https://wandb.ai/rl_shobhith/uncategorized</a>"
      ],
      "text/plain": [
       "<IPython.core.display.HTML object>"
      ]
     },
     "metadata": {},
     "output_type": "display_data"
    },
    {
     "data": {
      "text/html": [
       " View sweep at <a href='https://wandb.ai/rl_shobhith/uncategorized/sweeps/ebygp3ca' target=\"_blank\">https://wandb.ai/rl_shobhith/uncategorized/sweeps/ebygp3ca</a>"
      ],
      "text/plain": [
       "<IPython.core.display.HTML object>"
      ]
     },
     "metadata": {},
     "output_type": "display_data"
    },
    {
     "data": {
      "text/html": [
       " View run at <a href='https://wandb.ai/rl_shobhith/uncategorized/runs/wa89fsg5/workspace' target=\"_blank\">https://wandb.ai/rl_shobhith/uncategorized/runs/wa89fsg5/workspace</a>"
      ],
      "text/plain": [
       "<IPython.core.display.HTML object>"
      ]
     },
     "metadata": {},
     "output_type": "display_data"
    },
    {
     "name": "stderr",
     "output_type": "stream",
     "text": [
      "Iteration 0: 100%|██████████| 50/50 [00:00<00:00, 50.54it/s, episode_return=50, return=26.600]\n",
      "Iteration 1: 100%|██████████| 50/50 [00:01<00:00, 40.43it/s, episode_return=100, return=26.400]\n",
      "Iteration 2: 100%|██████████| 50/50 [00:01<00:00, 37.94it/s, episode_return=150, return=38.500]\n",
      "Iteration 3: 100%|██████████| 50/50 [00:01<00:00, 32.27it/s, episode_return=200, return=45.500]\n",
      "Iteration 4: 100%|██████████| 50/50 [00:01<00:00, 29.80it/s, episode_return=250, return=36.100]\n",
      "Iteration 5: 100%|██████████| 50/50 [00:01<00:00, 28.42it/s, episode_return=300, return=43.200]\n",
      "Iteration 6: 100%|██████████| 50/50 [00:01<00:00, 28.49it/s, episode_return=350, return=46.200]\n",
      "Iteration 7: 100%|██████████| 50/50 [00:37<00:00,  1.34it/s, episode_return=400, return=64.200]\n",
      "Iteration 8: 100%|██████████| 50/50 [07:21<00:00,  8.83s/it, episode_return=450, return=51.700]\n",
      "Iteration 9: 100%|██████████| 50/50 [00:05<00:00,  8.44it/s, episode_return=500, return=69.100]\n"
     ]
    },
    {
     "data": {
      "application/vnd.jupyter.widget-view+json": {
       "model_id": "d37003bfef8646f5b9a7b392342edb79",
       "version_major": 2,
       "version_minor": 0
      },
      "text/plain": [
       "VBox(children=(Label(value='0.001 MB of 0.001 MB uploaded\\r'), FloatProgress(value=1.0, max=1.0)))"
      ]
     },
     "metadata": {},
     "output_type": "display_data"
    },
    {
     "data": {
      "text/html": [
       "<style>\n",
       "    table.wandb td:nth-child(1) { padding: 0 10px; text-align: left ; width: auto;} td:nth-child(2) {text-align: left ; width: 100%}\n",
       "    .wandb-row { display: flex; flex-direction: row; flex-wrap: wrap; justify-content: flex-start; width: 100% }\n",
       "    .wandb-col { display: flex; flex-direction: column; flex-basis: 100%; flex: 1; padding: 10px; }\n",
       "    </style>\n",
       "<div class=\"wandb-row\"><div class=\"wandb-col\"><h3>Run history:</h3><br/><table class=\"wandb\"><tr><td>regret</td><td>▁</td></tr></table><br/></div><div class=\"wandb-col\"><h3>Run summary:</h3><br/><table class=\"wandb\"><tr><td>regret</td><td>76324.1828</td></tr></table><br/></div></div>"
      ],
      "text/plain": [
       "<IPython.core.display.HTML object>"
      ]
     },
     "metadata": {},
     "output_type": "display_data"
    },
    {
     "data": {
      "text/html": [
       " View run <strong style=\"color:#cdcd00\">comic-sweep-105</strong> at: <a href='https://wandb.ai/rl_shobhith/uncategorized/runs/wa89fsg5/workspace' target=\"_blank\">https://wandb.ai/rl_shobhith/uncategorized/runs/wa89fsg5/workspace</a><br/>Synced 5 W&B file(s), 0 media file(s), 0 artifact file(s) and 0 other file(s)"
      ],
      "text/plain": [
       "<IPython.core.display.HTML object>"
      ]
     },
     "metadata": {},
     "output_type": "display_data"
    },
    {
     "data": {
      "text/html": [
       "Find logs at: <code>.\\wandb\\run-20240401_231026-wa89fsg5\\logs</code>"
      ],
      "text/plain": [
       "<IPython.core.display.HTML object>"
      ]
     },
     "metadata": {},
     "output_type": "display_data"
    },
    {
     "name": "stderr",
     "output_type": "stream",
     "text": [
      "\u001b[34m\u001b[1mwandb\u001b[0m: Agent Starting Run: x5r9eu7o with config:\n",
      "\u001b[34m\u001b[1mwandb\u001b[0m: \thidden_dim: 128\n",
      "\u001b[34m\u001b[1mwandb\u001b[0m: \tlearning_rate: 0.0007710132821228806\n",
      "Failed to detect the name of this notebook, you can set it manually with the WANDB_NOTEBOOK_NAME environment variable to enable code saving.\n"
     ]
    },
    {
     "data": {
      "text/html": [
       "Tracking run with wandb version 0.16.5"
      ],
      "text/plain": [
       "<IPython.core.display.HTML object>"
      ]
     },
     "metadata": {},
     "output_type": "display_data"
    },
    {
     "data": {
      "text/html": [
       "Run data is saved locally in <code>c:\\Users\\Shobhith Vadlamudi\\Desktop\\3rd Year\\SEM 6\\RL\\wandb\\run-20240401_231921-x5r9eu7o</code>"
      ],
      "text/plain": [
       "<IPython.core.display.HTML object>"
      ]
     },
     "metadata": {},
     "output_type": "display_data"
    },
    {
     "data": {
      "text/html": [
       "Syncing run <strong><a href='https://wandb.ai/rl_shobhith/uncategorized/runs/x5r9eu7o/workspace' target=\"_blank\">genial-sweep-106</a></strong> to <a href='https://wandb.ai/rl_shobhith/uncategorized' target=\"_blank\">Weights & Biases</a> (<a href='https://wandb.me/run' target=\"_blank\">docs</a>)<br/>Sweep page: <a href='https://wandb.ai/rl_shobhith/uncategorized/sweeps/ebygp3ca' target=\"_blank\">https://wandb.ai/rl_shobhith/uncategorized/sweeps/ebygp3ca</a>"
      ],
      "text/plain": [
       "<IPython.core.display.HTML object>"
      ]
     },
     "metadata": {},
     "output_type": "display_data"
    },
    {
     "data": {
      "text/html": [
       " View project at <a href='https://wandb.ai/rl_shobhith/uncategorized' target=\"_blank\">https://wandb.ai/rl_shobhith/uncategorized</a>"
      ],
      "text/plain": [
       "<IPython.core.display.HTML object>"
      ]
     },
     "metadata": {},
     "output_type": "display_data"
    },
    {
     "data": {
      "text/html": [
       " View sweep at <a href='https://wandb.ai/rl_shobhith/uncategorized/sweeps/ebygp3ca' target=\"_blank\">https://wandb.ai/rl_shobhith/uncategorized/sweeps/ebygp3ca</a>"
      ],
      "text/plain": [
       "<IPython.core.display.HTML object>"
      ]
     },
     "metadata": {},
     "output_type": "display_data"
    },
    {
     "data": {
      "text/html": [
       " View run at <a href='https://wandb.ai/rl_shobhith/uncategorized/runs/x5r9eu7o/workspace' target=\"_blank\">https://wandb.ai/rl_shobhith/uncategorized/runs/x5r9eu7o/workspace</a>"
      ],
      "text/plain": [
       "<IPython.core.display.HTML object>"
      ]
     },
     "metadata": {},
     "output_type": "display_data"
    },
    {
     "name": "stderr",
     "output_type": "stream",
     "text": [
      "Iteration 0: 100%|██████████| 50/50 [00:01<00:00, 48.88it/s, episode_return=50, return=26.000]\n",
      "Iteration 1: 100%|██████████| 50/50 [00:01<00:00, 32.77it/s, episode_return=100, return=39.700]\n",
      "Iteration 2: 100%|██████████| 50/50 [00:01<00:00, 25.91it/s, episode_return=150, return=46.200]\n",
      "Iteration 3: 100%|██████████| 50/50 [00:02<00:00, 21.15it/s, episode_return=200, return=72.800]\n",
      "Iteration 4: 100%|██████████| 50/50 [00:03<00:00, 16.08it/s, episode_return=250, return=96.500] \n",
      "Iteration 5: 100%|██████████| 50/50 [00:04<00:00, 11.73it/s, episode_return=300, return=177.800]\n",
      "Iteration 6: 100%|██████████| 50/50 [00:04<00:00, 10.02it/s, episode_return=350, return=173.400]\n",
      "Iteration 7: 100%|██████████| 50/50 [00:06<00:00,  7.33it/s, episode_return=400, return=197.900]\n",
      "Iteration 8: 100%|██████████| 50/50 [00:05<00:00,  8.36it/s, episode_return=450, return=229.200]\n",
      "Iteration 9: 100%|██████████| 50/50 [00:06<00:00,  7.80it/s, episode_return=500, return=278.300]\n"
     ]
    },
    {
     "data": {
      "application/vnd.jupyter.widget-view+json": {
       "model_id": "98c721257ddd458199de265f1f1fcd69",
       "version_major": 2,
       "version_minor": 0
      },
      "text/plain": [
       "VBox(children=(Label(value='0.001 MB of 0.001 MB uploaded\\r'), FloatProgress(value=1.0, max=1.0)))"
      ]
     },
     "metadata": {},
     "output_type": "display_data"
    },
    {
     "data": {
      "text/html": [
       "<style>\n",
       "    table.wandb td:nth-child(1) { padding: 0 10px; text-align: left ; width: auto;} td:nth-child(2) {text-align: left ; width: 100%}\n",
       "    .wandb-row { display: flex; flex-direction: row; flex-wrap: wrap; justify-content: flex-start; width: 100% }\n",
       "    .wandb-col { display: flex; flex-direction: column; flex-basis: 100%; flex: 1; padding: 10px; }\n",
       "    </style>\n",
       "<div class=\"wandb-row\"><div class=\"wandb-col\"><h3>Run history:</h3><br/><table class=\"wandb\"><tr><td>regret</td><td>▁</td></tr></table><br/></div><div class=\"wandb-col\"><h3>Run summary:</h3><br/><table class=\"wandb\"><tr><td>regret</td><td>51443.81694</td></tr></table><br/></div></div>"
      ],
      "text/plain": [
       "<IPython.core.display.HTML object>"
      ]
     },
     "metadata": {},
     "output_type": "display_data"
    },
    {
     "data": {
      "text/html": [
       " View run <strong style=\"color:#cdcd00\">genial-sweep-106</strong> at: <a href='https://wandb.ai/rl_shobhith/uncategorized/runs/x5r9eu7o/workspace' target=\"_blank\">https://wandb.ai/rl_shobhith/uncategorized/runs/x5r9eu7o/workspace</a><br/>Synced 5 W&B file(s), 0 media file(s), 0 artifact file(s) and 0 other file(s)"
      ],
      "text/plain": [
       "<IPython.core.display.HTML object>"
      ]
     },
     "metadata": {},
     "output_type": "display_data"
    },
    {
     "data": {
      "text/html": [
       "Find logs at: <code>.\\wandb\\run-20240401_231921-x5r9eu7o\\logs</code>"
      ],
      "text/plain": [
       "<IPython.core.display.HTML object>"
      ]
     },
     "metadata": {},
     "output_type": "display_data"
    },
    {
     "name": "stderr",
     "output_type": "stream",
     "text": [
      "\u001b[34m\u001b[1mwandb\u001b[0m: Agent Starting Run: p2yoexvy with config:\n",
      "\u001b[34m\u001b[1mwandb\u001b[0m: \thidden_dim: 64\n",
      "\u001b[34m\u001b[1mwandb\u001b[0m: \tlearning_rate: 0.0009732551982512104\n",
      "Failed to detect the name of this notebook, you can set it manually with the WANDB_NOTEBOOK_NAME environment variable to enable code saving.\n"
     ]
    },
    {
     "data": {
      "text/html": [
       "Tracking run with wandb version 0.16.5"
      ],
      "text/plain": [
       "<IPython.core.display.HTML object>"
      ]
     },
     "metadata": {},
     "output_type": "display_data"
    },
    {
     "data": {
      "text/html": [
       "Run data is saved locally in <code>c:\\Users\\Shobhith Vadlamudi\\Desktop\\3rd Year\\SEM 6\\RL\\wandb\\run-20240401_232013-p2yoexvy</code>"
      ],
      "text/plain": [
       "<IPython.core.display.HTML object>"
      ]
     },
     "metadata": {},
     "output_type": "display_data"
    },
    {
     "data": {
      "text/html": [
       "Syncing run <strong><a href='https://wandb.ai/rl_shobhith/uncategorized/runs/p2yoexvy/workspace' target=\"_blank\">pious-sweep-107</a></strong> to <a href='https://wandb.ai/rl_shobhith/uncategorized' target=\"_blank\">Weights & Biases</a> (<a href='https://wandb.me/run' target=\"_blank\">docs</a>)<br/>Sweep page: <a href='https://wandb.ai/rl_shobhith/uncategorized/sweeps/ebygp3ca' target=\"_blank\">https://wandb.ai/rl_shobhith/uncategorized/sweeps/ebygp3ca</a>"
      ],
      "text/plain": [
       "<IPython.core.display.HTML object>"
      ]
     },
     "metadata": {},
     "output_type": "display_data"
    },
    {
     "data": {
      "text/html": [
       " View project at <a href='https://wandb.ai/rl_shobhith/uncategorized' target=\"_blank\">https://wandb.ai/rl_shobhith/uncategorized</a>"
      ],
      "text/plain": [
       "<IPython.core.display.HTML object>"
      ]
     },
     "metadata": {},
     "output_type": "display_data"
    },
    {
     "data": {
      "text/html": [
       " View sweep at <a href='https://wandb.ai/rl_shobhith/uncategorized/sweeps/ebygp3ca' target=\"_blank\">https://wandb.ai/rl_shobhith/uncategorized/sweeps/ebygp3ca</a>"
      ],
      "text/plain": [
       "<IPython.core.display.HTML object>"
      ]
     },
     "metadata": {},
     "output_type": "display_data"
    },
    {
     "data": {
      "text/html": [
       " View run at <a href='https://wandb.ai/rl_shobhith/uncategorized/runs/p2yoexvy/workspace' target=\"_blank\">https://wandb.ai/rl_shobhith/uncategorized/runs/p2yoexvy/workspace</a>"
      ],
      "text/plain": [
       "<IPython.core.display.HTML object>"
      ]
     },
     "metadata": {},
     "output_type": "display_data"
    },
    {
     "name": "stderr",
     "output_type": "stream",
     "text": [
      "Iteration 0: 100%|██████████| 50/50 [00:00<00:00, 82.89it/s, episode_return=50, return=21.600]\n",
      "Iteration 1: 100%|██████████| 50/50 [00:00<00:00, 62.01it/s, episode_return=100, return=45.500]\n",
      "Iteration 2: 100%|██████████| 50/50 [00:01<00:00, 42.89it/s, episode_return=150, return=51.700]\n",
      "Iteration 3: 100%|██████████| 50/50 [00:01<00:00, 40.47it/s, episode_return=200, return=55.500]\n",
      "Iteration 4: 100%|██████████| 50/50 [00:01<00:00, 33.26it/s, episode_return=250, return=56.900]\n",
      "Iteration 5: 100%|██████████| 50/50 [00:02<00:00, 21.49it/s, episode_return=300, return=102.100]\n",
      "Iteration 6: 100%|██████████| 50/50 [00:03<00:00, 12.97it/s, episode_return=350, return=155.100]\n",
      "Iteration 7: 100%|██████████| 50/50 [00:04<00:00, 10.61it/s, episode_return=400, return=184.800]\n",
      "Iteration 8: 100%|██████████| 50/50 [00:04<00:00, 11.16it/s, episode_return=450, return=111.700]\n",
      "Iteration 9: 100%|██████████| 50/50 [00:04<00:00, 10.26it/s, episode_return=500, return=212.700]\n"
     ]
    },
    {
     "data": {
      "application/vnd.jupyter.widget-view+json": {
       "model_id": "7b222acce7324e7cbd20d63ed427c377",
       "version_major": 2,
       "version_minor": 0
      },
      "text/plain": [
       "VBox(children=(Label(value='0.001 MB of 0.007 MB uploaded\\r'), FloatProgress(value=0.17068163153572405, max=1.…"
      ]
     },
     "metadata": {},
     "output_type": "display_data"
    },
    {
     "data": {
      "text/html": [
       "<style>\n",
       "    table.wandb td:nth-child(1) { padding: 0 10px; text-align: left ; width: auto;} td:nth-child(2) {text-align: left ; width: 100%}\n",
       "    .wandb-row { display: flex; flex-direction: row; flex-wrap: wrap; justify-content: flex-start; width: 100% }\n",
       "    .wandb-col { display: flex; flex-direction: column; flex-basis: 100%; flex: 1; padding: 10px; }\n",
       "    </style>\n",
       "<div class=\"wandb-row\"><div class=\"wandb-col\"><h3>Run history:</h3><br/><table class=\"wandb\"><tr><td>regret</td><td>▁</td></tr></table><br/></div><div class=\"wandb-col\"><h3>Run summary:</h3><br/><table class=\"wandb\"><tr><td>regret</td><td>58605.57767</td></tr></table><br/></div></div>"
      ],
      "text/plain": [
       "<IPython.core.display.HTML object>"
      ]
     },
     "metadata": {},
     "output_type": "display_data"
    },
    {
     "data": {
      "text/html": [
       " View run <strong style=\"color:#cdcd00\">pious-sweep-107</strong> at: <a href='https://wandb.ai/rl_shobhith/uncategorized/runs/p2yoexvy/workspace' target=\"_blank\">https://wandb.ai/rl_shobhith/uncategorized/runs/p2yoexvy/workspace</a><br/>Synced 5 W&B file(s), 0 media file(s), 0 artifact file(s) and 0 other file(s)"
      ],
      "text/plain": [
       "<IPython.core.display.HTML object>"
      ]
     },
     "metadata": {},
     "output_type": "display_data"
    },
    {
     "data": {
      "text/html": [
       "Find logs at: <code>.\\wandb\\run-20240401_232013-p2yoexvy\\logs</code>"
      ],
      "text/plain": [
       "<IPython.core.display.HTML object>"
      ]
     },
     "metadata": {},
     "output_type": "display_data"
    },
    {
     "name": "stderr",
     "output_type": "stream",
     "text": [
      "\u001b[34m\u001b[1mwandb\u001b[0m: Agent Starting Run: 8hnl61a8 with config:\n",
      "\u001b[34m\u001b[1mwandb\u001b[0m: \thidden_dim: 256\n",
      "\u001b[34m\u001b[1mwandb\u001b[0m: \tlearning_rate: 0.0005116864981548327\n",
      "Failed to detect the name of this notebook, you can set it manually with the WANDB_NOTEBOOK_NAME environment variable to enable code saving.\n"
     ]
    },
    {
     "data": {
      "application/vnd.jupyter.widget-view+json": {
       "model_id": "41be8f3efe8848538da9f7e0e96e9fde",
       "version_major": 2,
       "version_minor": 0
      },
      "text/plain": [
       "VBox(children=(Label(value='Waiting for wandb.init()...\\r'), FloatProgress(value=0.011111111111111112, max=1.0…"
      ]
     },
     "metadata": {},
     "output_type": "display_data"
    },
    {
     "data": {
      "text/html": [
       "Tracking run with wandb version 0.16.5"
      ],
      "text/plain": [
       "<IPython.core.display.HTML object>"
      ]
     },
     "metadata": {},
     "output_type": "display_data"
    },
    {
     "data": {
      "text/html": [
       "Run data is saved locally in <code>c:\\Users\\Shobhith Vadlamudi\\Desktop\\3rd Year\\SEM 6\\RL\\wandb\\run-20240401_232050-8hnl61a8</code>"
      ],
      "text/plain": [
       "<IPython.core.display.HTML object>"
      ]
     },
     "metadata": {},
     "output_type": "display_data"
    },
    {
     "data": {
      "text/html": [
       "Syncing run <strong><a href='https://wandb.ai/rl_shobhith/uncategorized/runs/8hnl61a8/workspace' target=\"_blank\">upbeat-sweep-108</a></strong> to <a href='https://wandb.ai/rl_shobhith/uncategorized' target=\"_blank\">Weights & Biases</a> (<a href='https://wandb.me/run' target=\"_blank\">docs</a>)<br/>Sweep page: <a href='https://wandb.ai/rl_shobhith/uncategorized/sweeps/ebygp3ca' target=\"_blank\">https://wandb.ai/rl_shobhith/uncategorized/sweeps/ebygp3ca</a>"
      ],
      "text/plain": [
       "<IPython.core.display.HTML object>"
      ]
     },
     "metadata": {},
     "output_type": "display_data"
    },
    {
     "data": {
      "text/html": [
       " View project at <a href='https://wandb.ai/rl_shobhith/uncategorized' target=\"_blank\">https://wandb.ai/rl_shobhith/uncategorized</a>"
      ],
      "text/plain": [
       "<IPython.core.display.HTML object>"
      ]
     },
     "metadata": {},
     "output_type": "display_data"
    },
    {
     "data": {
      "text/html": [
       " View sweep at <a href='https://wandb.ai/rl_shobhith/uncategorized/sweeps/ebygp3ca' target=\"_blank\">https://wandb.ai/rl_shobhith/uncategorized/sweeps/ebygp3ca</a>"
      ],
      "text/plain": [
       "<IPython.core.display.HTML object>"
      ]
     },
     "metadata": {},
     "output_type": "display_data"
    },
    {
     "data": {
      "text/html": [
       " View run at <a href='https://wandb.ai/rl_shobhith/uncategorized/runs/8hnl61a8/workspace' target=\"_blank\">https://wandb.ai/rl_shobhith/uncategorized/runs/8hnl61a8/workspace</a>"
      ],
      "text/plain": [
       "<IPython.core.display.HTML object>"
      ]
     },
     "metadata": {},
     "output_type": "display_data"
    },
    {
     "name": "stderr",
     "output_type": "stream",
     "text": [
      "Iteration 0: 100%|██████████| 50/50 [00:00<00:00, 68.72it/s, episode_return=50, return=25.600]\n",
      "Iteration 1: 100%|██████████| 50/50 [00:01<00:00, 45.00it/s, episode_return=100, return=37.800]\n",
      "Iteration 2: 100%|██████████| 50/50 [00:01<00:00, 34.89it/s, episode_return=150, return=41.900]\n",
      "Iteration 3: 100%|██████████| 50/50 [00:02<00:00, 22.78it/s, episode_return=200, return=71.800]\n",
      "Iteration 4: 100%|██████████| 50/50 [00:03<00:00, 13.25it/s, episode_return=250, return=157.400]\n",
      "Iteration 5: 100%|██████████| 50/50 [00:05<00:00,  9.85it/s, episode_return=300, return=167.000]\n",
      "Iteration 6: 100%|██████████| 50/50 [00:05<00:00,  9.70it/s, episode_return=350, return=99.400] \n",
      "Iteration 7: 100%|██████████| 50/50 [00:06<00:00,  7.42it/s, episode_return=400, return=302.200]\n",
      "Iteration 8: 100%|██████████| 50/50 [00:06<00:00,  7.50it/s, episode_return=450, return=199.200]\n",
      "Iteration 9: 100%|██████████| 50/50 [00:08<00:00,  6.15it/s, episode_return=500, return=342.500]\n"
     ]
    },
    {
     "data": {
      "application/vnd.jupyter.widget-view+json": {
       "model_id": "e63187e6a8b44dabb88c84829963a81a",
       "version_major": 2,
       "version_minor": 0
      },
      "text/plain": [
       "VBox(children=(Label(value='0.001 MB of 0.001 MB uploaded\\r'), FloatProgress(value=1.0, max=1.0)))"
      ]
     },
     "metadata": {},
     "output_type": "display_data"
    },
    {
     "data": {
      "text/html": [
       "<style>\n",
       "    table.wandb td:nth-child(1) { padding: 0 10px; text-align: left ; width: auto;} td:nth-child(2) {text-align: left ; width: 100%}\n",
       "    .wandb-row { display: flex; flex-direction: row; flex-wrap: wrap; justify-content: flex-start; width: 100% }\n",
       "    .wandb-col { display: flex; flex-direction: column; flex-basis: 100%; flex: 1; padding: 10px; }\n",
       "    </style>\n",
       "<div class=\"wandb-row\"><div class=\"wandb-col\"><h3>Run history:</h3><br/><table class=\"wandb\"><tr><td>regret</td><td>▁</td></tr></table><br/></div><div class=\"wandb-col\"><h3>Run summary:</h3><br/><table class=\"wandb\"><tr><td>regret</td><td>46434.12308</td></tr></table><br/></div></div>"
      ],
      "text/plain": [
       "<IPython.core.display.HTML object>"
      ]
     },
     "metadata": {},
     "output_type": "display_data"
    },
    {
     "data": {
      "text/html": [
       " View run <strong style=\"color:#cdcd00\">upbeat-sweep-108</strong> at: <a href='https://wandb.ai/rl_shobhith/uncategorized/runs/8hnl61a8/workspace' target=\"_blank\">https://wandb.ai/rl_shobhith/uncategorized/runs/8hnl61a8/workspace</a><br/>Synced 5 W&B file(s), 0 media file(s), 0 artifact file(s) and 0 other file(s)"
      ],
      "text/plain": [
       "<IPython.core.display.HTML object>"
      ]
     },
     "metadata": {},
     "output_type": "display_data"
    },
    {
     "data": {
      "text/html": [
       "Find logs at: <code>.\\wandb\\run-20240401_232050-8hnl61a8\\logs</code>"
      ],
      "text/plain": [
       "<IPython.core.display.HTML object>"
      ]
     },
     "metadata": {},
     "output_type": "display_data"
    },
    {
     "name": "stderr",
     "output_type": "stream",
     "text": [
      "\u001b[34m\u001b[1mwandb\u001b[0m: Agent Starting Run: whne96ko with config:\n",
      "\u001b[34m\u001b[1mwandb\u001b[0m: \thidden_dim: 128\n",
      "\u001b[34m\u001b[1mwandb\u001b[0m: \tlearning_rate: 0.000387731200938501\n",
      "Failed to detect the name of this notebook, you can set it manually with the WANDB_NOTEBOOK_NAME environment variable to enable code saving.\n"
     ]
    },
    {
     "data": {
      "text/html": [
       "Tracking run with wandb version 0.16.5"
      ],
      "text/plain": [
       "<IPython.core.display.HTML object>"
      ]
     },
     "metadata": {},
     "output_type": "display_data"
    },
    {
     "data": {
      "text/html": [
       "Run data is saved locally in <code>c:\\Users\\Shobhith Vadlamudi\\Desktop\\3rd Year\\SEM 6\\RL\\wandb\\run-20240401_232144-whne96ko</code>"
      ],
      "text/plain": [
       "<IPython.core.display.HTML object>"
      ]
     },
     "metadata": {},
     "output_type": "display_data"
    },
    {
     "data": {
      "text/html": [
       "Syncing run <strong><a href='https://wandb.ai/rl_shobhith/uncategorized/runs/whne96ko/workspace' target=\"_blank\">atomic-sweep-109</a></strong> to <a href='https://wandb.ai/rl_shobhith/uncategorized' target=\"_blank\">Weights & Biases</a> (<a href='https://wandb.me/run' target=\"_blank\">docs</a>)<br/>Sweep page: <a href='https://wandb.ai/rl_shobhith/uncategorized/sweeps/ebygp3ca' target=\"_blank\">https://wandb.ai/rl_shobhith/uncategorized/sweeps/ebygp3ca</a>"
      ],
      "text/plain": [
       "<IPython.core.display.HTML object>"
      ]
     },
     "metadata": {},
     "output_type": "display_data"
    },
    {
     "data": {
      "text/html": [
       " View project at <a href='https://wandb.ai/rl_shobhith/uncategorized' target=\"_blank\">https://wandb.ai/rl_shobhith/uncategorized</a>"
      ],
      "text/plain": [
       "<IPython.core.display.HTML object>"
      ]
     },
     "metadata": {},
     "output_type": "display_data"
    },
    {
     "data": {
      "text/html": [
       " View sweep at <a href='https://wandb.ai/rl_shobhith/uncategorized/sweeps/ebygp3ca' target=\"_blank\">https://wandb.ai/rl_shobhith/uncategorized/sweeps/ebygp3ca</a>"
      ],
      "text/plain": [
       "<IPython.core.display.HTML object>"
      ]
     },
     "metadata": {},
     "output_type": "display_data"
    },
    {
     "data": {
      "text/html": [
       " View run at <a href='https://wandb.ai/rl_shobhith/uncategorized/runs/whne96ko/workspace' target=\"_blank\">https://wandb.ai/rl_shobhith/uncategorized/runs/whne96ko/workspace</a>"
      ],
      "text/plain": [
       "<IPython.core.display.HTML object>"
      ]
     },
     "metadata": {},
     "output_type": "display_data"
    },
    {
     "name": "stderr",
     "output_type": "stream",
     "text": [
      "Iteration 0: 100%|██████████| 50/50 [00:00<00:00, 69.91it/s, episode_return=50, return=19.900]\n",
      "Iteration 1: 100%|██████████| 50/50 [00:00<00:00, 61.19it/s, episode_return=100, return=22.300]\n",
      "Iteration 2: 100%|██████████| 50/50 [00:00<00:00, 51.27it/s, episode_return=150, return=32.100]\n",
      "Iteration 3: 100%|██████████| 50/50 [00:01<00:00, 40.51it/s, episode_return=200, return=39.300]\n",
      "Iteration 4: 100%|██████████| 50/50 [00:01<00:00, 34.03it/s, episode_return=250, return=42.900]\n",
      "Iteration 5: 100%|██████████| 50/50 [00:01<00:00, 30.27it/s, episode_return=300, return=62.200]\n",
      "Iteration 6: 100%|██████████| 50/50 [00:01<00:00, 28.34it/s, episode_return=350, return=67.000]\n",
      "Iteration 7: 100%|██████████| 50/50 [00:02<00:00, 16.80it/s, episode_return=400, return=113.200]\n",
      "Iteration 8: 100%|██████████| 50/50 [00:03<00:00, 13.09it/s, episode_return=450, return=133.800]\n",
      "Iteration 9: 100%|██████████| 50/50 [00:04<00:00, 11.41it/s, episode_return=500, return=155.900]\n"
     ]
    },
    {
     "data": {
      "application/vnd.jupyter.widget-view+json": {
       "model_id": "dd3b6e22eaa34ccea31762900657778c",
       "version_major": 2,
       "version_minor": 0
      },
      "text/plain": [
       "VBox(children=(Label(value='0.001 MB of 0.007 MB uploaded\\r'), FloatProgress(value=0.16772024209818426, max=1.…"
      ]
     },
     "metadata": {},
     "output_type": "display_data"
    },
    {
     "data": {
      "text/html": [
       "<style>\n",
       "    table.wandb td:nth-child(1) { padding: 0 10px; text-align: left ; width: auto;} td:nth-child(2) {text-align: left ; width: 100%}\n",
       "    .wandb-row { display: flex; flex-direction: row; flex-wrap: wrap; justify-content: flex-start; width: 100% }\n",
       "    .wandb-col { display: flex; flex-direction: column; flex-basis: 100%; flex: 1; padding: 10px; }\n",
       "    </style>\n",
       "<div class=\"wandb-row\"><div class=\"wandb-col\"><h3>Run history:</h3><br/><table class=\"wandb\"><tr><td>regret</td><td>▁</td></tr></table><br/></div><div class=\"wandb-col\"><h3>Run summary:</h3><br/><table class=\"wandb\"><tr><td>regret</td><td>71053.48625</td></tr></table><br/></div></div>"
      ],
      "text/plain": [
       "<IPython.core.display.HTML object>"
      ]
     },
     "metadata": {},
     "output_type": "display_data"
    },
    {
     "data": {
      "text/html": [
       " View run <strong style=\"color:#cdcd00\">atomic-sweep-109</strong> at: <a href='https://wandb.ai/rl_shobhith/uncategorized/runs/whne96ko/workspace' target=\"_blank\">https://wandb.ai/rl_shobhith/uncategorized/runs/whne96ko/workspace</a><br/>Synced 5 W&B file(s), 0 media file(s), 0 artifact file(s) and 0 other file(s)"
      ],
      "text/plain": [
       "<IPython.core.display.HTML object>"
      ]
     },
     "metadata": {},
     "output_type": "display_data"
    },
    {
     "data": {
      "text/html": [
       "Find logs at: <code>.\\wandb\\run-20240401_232144-whne96ko\\logs</code>"
      ],
      "text/plain": [
       "<IPython.core.display.HTML object>"
      ]
     },
     "metadata": {},
     "output_type": "display_data"
    },
    {
     "name": "stderr",
     "output_type": "stream",
     "text": [
      "\u001b[34m\u001b[1mwandb\u001b[0m: Agent Starting Run: qghgzs1h with config:\n",
      "\u001b[34m\u001b[1mwandb\u001b[0m: \thidden_dim: 256\n",
      "\u001b[34m\u001b[1mwandb\u001b[0m: \tlearning_rate: 0.0006421772972739218\n",
      "Failed to detect the name of this notebook, you can set it manually with the WANDB_NOTEBOOK_NAME environment variable to enable code saving.\n"
     ]
    },
    {
     "data": {
      "text/html": [
       "Tracking run with wandb version 0.16.5"
      ],
      "text/plain": [
       "<IPython.core.display.HTML object>"
      ]
     },
     "metadata": {},
     "output_type": "display_data"
    },
    {
     "data": {
      "text/html": [
       "Run data is saved locally in <code>c:\\Users\\Shobhith Vadlamudi\\Desktop\\3rd Year\\SEM 6\\RL\\wandb\\run-20240401_232216-qghgzs1h</code>"
      ],
      "text/plain": [
       "<IPython.core.display.HTML object>"
      ]
     },
     "metadata": {},
     "output_type": "display_data"
    },
    {
     "data": {
      "text/html": [
       "Syncing run <strong><a href='https://wandb.ai/rl_shobhith/uncategorized/runs/qghgzs1h/workspace' target=\"_blank\">earnest-sweep-110</a></strong> to <a href='https://wandb.ai/rl_shobhith/uncategorized' target=\"_blank\">Weights & Biases</a> (<a href='https://wandb.me/run' target=\"_blank\">docs</a>)<br/>Sweep page: <a href='https://wandb.ai/rl_shobhith/uncategorized/sweeps/ebygp3ca' target=\"_blank\">https://wandb.ai/rl_shobhith/uncategorized/sweeps/ebygp3ca</a>"
      ],
      "text/plain": [
       "<IPython.core.display.HTML object>"
      ]
     },
     "metadata": {},
     "output_type": "display_data"
    },
    {
     "data": {
      "text/html": [
       " View project at <a href='https://wandb.ai/rl_shobhith/uncategorized' target=\"_blank\">https://wandb.ai/rl_shobhith/uncategorized</a>"
      ],
      "text/plain": [
       "<IPython.core.display.HTML object>"
      ]
     },
     "metadata": {},
     "output_type": "display_data"
    },
    {
     "data": {
      "text/html": [
       " View sweep at <a href='https://wandb.ai/rl_shobhith/uncategorized/sweeps/ebygp3ca' target=\"_blank\">https://wandb.ai/rl_shobhith/uncategorized/sweeps/ebygp3ca</a>"
      ],
      "text/plain": [
       "<IPython.core.display.HTML object>"
      ]
     },
     "metadata": {},
     "output_type": "display_data"
    },
    {
     "data": {
      "text/html": [
       " View run at <a href='https://wandb.ai/rl_shobhith/uncategorized/runs/qghgzs1h/workspace' target=\"_blank\">https://wandb.ai/rl_shobhith/uncategorized/runs/qghgzs1h/workspace</a>"
      ],
      "text/plain": [
       "<IPython.core.display.HTML object>"
      ]
     },
     "metadata": {},
     "output_type": "display_data"
    },
    {
     "name": "stderr",
     "output_type": "stream",
     "text": [
      "Iteration 0: 100%|██████████| 50/50 [00:00<00:00, 54.12it/s, episode_return=50, return=32.800]\n",
      "Iteration 1: 100%|██████████| 50/50 [00:01<00:00, 29.63it/s, episode_return=100, return=63.900]\n",
      "Iteration 2: 100%|██████████| 50/50 [00:01<00:00, 25.24it/s, episode_return=150, return=67.600]\n",
      "Iteration 3: 100%|██████████| 50/50 [00:03<00:00, 15.55it/s, episode_return=200, return=82.200] \n",
      "Iteration 4: 100%|██████████| 50/50 [00:04<00:00, 10.84it/s, episode_return=250, return=148.000]\n",
      "Iteration 5: 100%|██████████| 50/50 [00:05<00:00,  9.62it/s, episode_return=300, return=136.000]\n",
      "Iteration 6: 100%|██████████| 50/50 [00:03<00:00, 12.61it/s, episode_return=350, return=174.100]\n",
      "Iteration 7: 100%|██████████| 50/50 [00:04<00:00, 10.36it/s, episode_return=400, return=119.700]\n",
      "Iteration 8: 100%|██████████| 50/50 [00:06<00:00,  7.68it/s, episode_return=450, return=306.900]\n",
      "Iteration 9: 100%|██████████| 50/50 [00:08<00:00,  5.76it/s, episode_return=500, return=309.600]\n"
     ]
    },
    {
     "data": {
      "application/vnd.jupyter.widget-view+json": {
       "model_id": "3169e462b80548f3b5babe8dc8192274",
       "version_major": 2,
       "version_minor": 0
      },
      "text/plain": [
       "VBox(children=(Label(value='0.001 MB of 0.007 MB uploaded\\r'), FloatProgress(value=0.1674499798576608, max=1.0…"
      ]
     },
     "metadata": {},
     "output_type": "display_data"
    },
    {
     "data": {
      "text/html": [
       "<style>\n",
       "    table.wandb td:nth-child(1) { padding: 0 10px; text-align: left ; width: auto;} td:nth-child(2) {text-align: left ; width: 100%}\n",
       "    .wandb-row { display: flex; flex-direction: row; flex-wrap: wrap; justify-content: flex-start; width: 100% }\n",
       "    .wandb-col { display: flex; flex-direction: column; flex-basis: 100%; flex: 1; padding: 10px; }\n",
       "    </style>\n",
       "<div class=\"wandb-row\"><div class=\"wandb-col\"><h3>Run history:</h3><br/><table class=\"wandb\"><tr><td>regret</td><td>▁</td></tr></table><br/></div><div class=\"wandb-col\"><h3>Run summary:</h3><br/><table class=\"wandb\"><tr><td>regret</td><td>45421.54523</td></tr></table><br/></div></div>"
      ],
      "text/plain": [
       "<IPython.core.display.HTML object>"
      ]
     },
     "metadata": {},
     "output_type": "display_data"
    },
    {
     "data": {
      "text/html": [
       " View run <strong style=\"color:#cdcd00\">earnest-sweep-110</strong> at: <a href='https://wandb.ai/rl_shobhith/uncategorized/runs/qghgzs1h/workspace' target=\"_blank\">https://wandb.ai/rl_shobhith/uncategorized/runs/qghgzs1h/workspace</a><br/>Synced 5 W&B file(s), 0 media file(s), 0 artifact file(s) and 0 other file(s)"
      ],
      "text/plain": [
       "<IPython.core.display.HTML object>"
      ]
     },
     "metadata": {},
     "output_type": "display_data"
    },
    {
     "data": {
      "text/html": [
       "Find logs at: <code>.\\wandb\\run-20240401_232216-qghgzs1h\\logs</code>"
      ],
      "text/plain": [
       "<IPython.core.display.HTML object>"
      ]
     },
     "metadata": {},
     "output_type": "display_data"
    },
    {
     "name": "stderr",
     "output_type": "stream",
     "text": [
      "\u001b[34m\u001b[1mwandb\u001b[0m: Agent Starting Run: q9yo57lc with config:\n",
      "\u001b[34m\u001b[1mwandb\u001b[0m: \thidden_dim: 64\n",
      "\u001b[34m\u001b[1mwandb\u001b[0m: \tlearning_rate: 0.0009372794352295476\n",
      "Failed to detect the name of this notebook, you can set it manually with the WANDB_NOTEBOOK_NAME environment variable to enable code saving.\n"
     ]
    },
    {
     "data": {
      "text/html": [
       "Tracking run with wandb version 0.16.5"
      ],
      "text/plain": [
       "<IPython.core.display.HTML object>"
      ]
     },
     "metadata": {},
     "output_type": "display_data"
    },
    {
     "data": {
      "text/html": [
       "Run data is saved locally in <code>c:\\Users\\Shobhith Vadlamudi\\Desktop\\3rd Year\\SEM 6\\RL\\wandb\\run-20240401_232314-q9yo57lc</code>"
      ],
      "text/plain": [
       "<IPython.core.display.HTML object>"
      ]
     },
     "metadata": {},
     "output_type": "display_data"
    },
    {
     "data": {
      "text/html": [
       "Syncing run <strong><a href='https://wandb.ai/rl_shobhith/uncategorized/runs/q9yo57lc/workspace' target=\"_blank\">stellar-sweep-111</a></strong> to <a href='https://wandb.ai/rl_shobhith/uncategorized' target=\"_blank\">Weights & Biases</a> (<a href='https://wandb.me/run' target=\"_blank\">docs</a>)<br/>Sweep page: <a href='https://wandb.ai/rl_shobhith/uncategorized/sweeps/ebygp3ca' target=\"_blank\">https://wandb.ai/rl_shobhith/uncategorized/sweeps/ebygp3ca</a>"
      ],
      "text/plain": [
       "<IPython.core.display.HTML object>"
      ]
     },
     "metadata": {},
     "output_type": "display_data"
    },
    {
     "data": {
      "text/html": [
       " View project at <a href='https://wandb.ai/rl_shobhith/uncategorized' target=\"_blank\">https://wandb.ai/rl_shobhith/uncategorized</a>"
      ],
      "text/plain": [
       "<IPython.core.display.HTML object>"
      ]
     },
     "metadata": {},
     "output_type": "display_data"
    },
    {
     "data": {
      "text/html": [
       " View sweep at <a href='https://wandb.ai/rl_shobhith/uncategorized/sweeps/ebygp3ca' target=\"_blank\">https://wandb.ai/rl_shobhith/uncategorized/sweeps/ebygp3ca</a>"
      ],
      "text/plain": [
       "<IPython.core.display.HTML object>"
      ]
     },
     "metadata": {},
     "output_type": "display_data"
    },
    {
     "data": {
      "text/html": [
       " View run at <a href='https://wandb.ai/rl_shobhith/uncategorized/runs/q9yo57lc/workspace' target=\"_blank\">https://wandb.ai/rl_shobhith/uncategorized/runs/q9yo57lc/workspace</a>"
      ],
      "text/plain": [
       "<IPython.core.display.HTML object>"
      ]
     },
     "metadata": {},
     "output_type": "display_data"
    },
    {
     "name": "stderr",
     "output_type": "stream",
     "text": [
      "Iteration 0: 100%|██████████| 50/50 [00:00<00:00, 71.95it/s, episode_return=50, return=31.500]\n",
      "Iteration 1: 100%|██████████| 50/50 [00:01<00:00, 42.66it/s, episode_return=100, return=30.400]\n",
      "Iteration 2: 100%|██████████| 50/50 [00:01<00:00, 33.79it/s, episode_return=150, return=59.600]\n",
      "Iteration 3: 100%|██████████| 50/50 [00:01<00:00, 29.17it/s, episode_return=200, return=52.700]\n",
      "Iteration 4: 100%|██████████| 50/50 [00:02<00:00, 23.94it/s, episode_return=250, return=86.500]\n",
      "Iteration 5: 100%|██████████| 50/50 [00:03<00:00, 15.48it/s, episode_return=300, return=133.800]\n",
      "Iteration 6: 100%|██████████| 50/50 [00:05<00:00,  9.57it/s, episode_return=350, return=199.200]\n",
      "Iteration 7: 100%|██████████| 50/50 [00:07<00:00,  6.39it/s, episode_return=400, return=366.100]\n",
      "Iteration 8: 100%|██████████| 50/50 [00:08<00:00,  5.87it/s, episode_return=450, return=310.500]\n",
      "Iteration 9: 100%|██████████| 50/50 [00:07<00:00,  6.51it/s, episode_return=500, return=322.800]\n"
     ]
    },
    {
     "data": {
      "application/vnd.jupyter.widget-view+json": {
       "model_id": "fe5fd3be57114d11bf178e1a617b2b84",
       "version_major": 2,
       "version_minor": 0
      },
      "text/plain": [
       "VBox(children=(Label(value='0.001 MB of 0.001 MB uploaded\\r'), FloatProgress(value=1.0, max=1.0)))"
      ]
     },
     "metadata": {},
     "output_type": "display_data"
    },
    {
     "data": {
      "text/html": [
       "<style>\n",
       "    table.wandb td:nth-child(1) { padding: 0 10px; text-align: left ; width: auto;} td:nth-child(2) {text-align: left ; width: 100%}\n",
       "    .wandb-row { display: flex; flex-direction: row; flex-wrap: wrap; justify-content: flex-start; width: 100% }\n",
       "    .wandb-col { display: flex; flex-direction: column; flex-basis: 100%; flex: 1; padding: 10px; }\n",
       "    </style>\n",
       "<div class=\"wandb-row\"><div class=\"wandb-col\"><h3>Run history:</h3><br/><table class=\"wandb\"><tr><td>regret</td><td>▁</td></tr></table><br/></div><div class=\"wandb-col\"><h3>Run summary:</h3><br/><table class=\"wandb\"><tr><td>regret</td><td>48610.63051</td></tr></table><br/></div></div>"
      ],
      "text/plain": [
       "<IPython.core.display.HTML object>"
      ]
     },
     "metadata": {},
     "output_type": "display_data"
    },
    {
     "data": {
      "text/html": [
       " View run <strong style=\"color:#cdcd00\">stellar-sweep-111</strong> at: <a href='https://wandb.ai/rl_shobhith/uncategorized/runs/q9yo57lc/workspace' target=\"_blank\">https://wandb.ai/rl_shobhith/uncategorized/runs/q9yo57lc/workspace</a><br/>Synced 5 W&B file(s), 0 media file(s), 0 artifact file(s) and 0 other file(s)"
      ],
      "text/plain": [
       "<IPython.core.display.HTML object>"
      ]
     },
     "metadata": {},
     "output_type": "display_data"
    },
    {
     "data": {
      "text/html": [
       "Find logs at: <code>.\\wandb\\run-20240401_232314-q9yo57lc\\logs</code>"
      ],
      "text/plain": [
       "<IPython.core.display.HTML object>"
      ]
     },
     "metadata": {},
     "output_type": "display_data"
    },
    {
     "name": "stderr",
     "output_type": "stream",
     "text": [
      "\u001b[34m\u001b[1mwandb\u001b[0m: Agent Starting Run: zhmj8i26 with config:\n",
      "\u001b[34m\u001b[1mwandb\u001b[0m: \thidden_dim: 64\n",
      "\u001b[34m\u001b[1mwandb\u001b[0m: \tlearning_rate: 9.11575921636037e-05\n",
      "Failed to detect the name of this notebook, you can set it manually with the WANDB_NOTEBOOK_NAME environment variable to enable code saving.\n"
     ]
    },
    {
     "data": {
      "text/html": [
       "Tracking run with wandb version 0.16.5"
      ],
      "text/plain": [
       "<IPython.core.display.HTML object>"
      ]
     },
     "metadata": {},
     "output_type": "display_data"
    },
    {
     "data": {
      "text/html": [
       "Run data is saved locally in <code>c:\\Users\\Shobhith Vadlamudi\\Desktop\\3rd Year\\SEM 6\\RL\\wandb\\run-20240401_232408-zhmj8i26</code>"
      ],
      "text/plain": [
       "<IPython.core.display.HTML object>"
      ]
     },
     "metadata": {},
     "output_type": "display_data"
    },
    {
     "data": {
      "text/html": [
       "Syncing run <strong><a href='https://wandb.ai/rl_shobhith/uncategorized/runs/zhmj8i26/workspace' target=\"_blank\">fine-sweep-112</a></strong> to <a href='https://wandb.ai/rl_shobhith/uncategorized' target=\"_blank\">Weights & Biases</a> (<a href='https://wandb.me/run' target=\"_blank\">docs</a>)<br/>Sweep page: <a href='https://wandb.ai/rl_shobhith/uncategorized/sweeps/ebygp3ca' target=\"_blank\">https://wandb.ai/rl_shobhith/uncategorized/sweeps/ebygp3ca</a>"
      ],
      "text/plain": [
       "<IPython.core.display.HTML object>"
      ]
     },
     "metadata": {},
     "output_type": "display_data"
    },
    {
     "data": {
      "text/html": [
       " View project at <a href='https://wandb.ai/rl_shobhith/uncategorized' target=\"_blank\">https://wandb.ai/rl_shobhith/uncategorized</a>"
      ],
      "text/plain": [
       "<IPython.core.display.HTML object>"
      ]
     },
     "metadata": {},
     "output_type": "display_data"
    },
    {
     "data": {
      "text/html": [
       " View sweep at <a href='https://wandb.ai/rl_shobhith/uncategorized/sweeps/ebygp3ca' target=\"_blank\">https://wandb.ai/rl_shobhith/uncategorized/sweeps/ebygp3ca</a>"
      ],
      "text/plain": [
       "<IPython.core.display.HTML object>"
      ]
     },
     "metadata": {},
     "output_type": "display_data"
    },
    {
     "data": {
      "text/html": [
       " View run at <a href='https://wandb.ai/rl_shobhith/uncategorized/runs/zhmj8i26/workspace' target=\"_blank\">https://wandb.ai/rl_shobhith/uncategorized/runs/zhmj8i26/workspace</a>"
      ],
      "text/plain": [
       "<IPython.core.display.HTML object>"
      ]
     },
     "metadata": {},
     "output_type": "display_data"
    },
    {
     "name": "stderr",
     "output_type": "stream",
     "text": [
      "Iteration 0: 100%|██████████| 50/50 [00:00<00:00, 61.84it/s, episode_return=50, return=25.000]\n",
      "Iteration 1: 100%|██████████| 50/50 [00:00<00:00, 67.58it/s, episode_return=100, return=31.600]\n",
      "Iteration 2: 100%|██████████| 50/50 [00:00<00:00, 69.64it/s, episode_return=150, return=27.600]\n",
      "Iteration 3: 100%|██████████| 50/50 [00:00<00:00, 62.75it/s, episode_return=200, return=23.600]\n",
      "Iteration 4: 100%|██████████| 50/50 [00:00<00:00, 65.29it/s, episode_return=250, return=27.200]\n",
      "Iteration 5: 100%|██████████| 50/50 [00:00<00:00, 55.99it/s, episode_return=300, return=28.500]\n",
      "Iteration 6: 100%|██████████| 50/50 [00:00<00:00, 61.72it/s, episode_return=350, return=27.900]\n",
      "Iteration 7: 100%|██████████| 50/50 [00:00<00:00, 50.42it/s, episode_return=400, return=32.500]\n",
      "Iteration 8: 100%|██████████| 50/50 [00:01<00:00, 48.55it/s, episode_return=450, return=24.900]\n",
      "Iteration 9: 100%|██████████| 50/50 [00:01<00:00, 46.53it/s, episode_return=500, return=30.500]\n"
     ]
    },
    {
     "data": {
      "application/vnd.jupyter.widget-view+json": {
       "model_id": "ed09c9171f464f5eb6c9b9cc19051e23",
       "version_major": 2,
       "version_minor": 0
      },
      "text/plain": [
       "VBox(children=(Label(value='0.001 MB of 0.001 MB uploaded\\r'), FloatProgress(value=1.0, max=1.0)))"
      ]
     },
     "metadata": {},
     "output_type": "display_data"
    },
    {
     "data": {
      "text/html": [
       "<style>\n",
       "    table.wandb td:nth-child(1) { padding: 0 10px; text-align: left ; width: auto;} td:nth-child(2) {text-align: left ; width: 100%}\n",
       "    .wandb-row { display: flex; flex-direction: row; flex-wrap: wrap; justify-content: flex-start; width: 100% }\n",
       "    .wandb-col { display: flex; flex-direction: column; flex-basis: 100%; flex: 1; padding: 10px; }\n",
       "    </style>\n",
       "<div class=\"wandb-row\"><div class=\"wandb-col\"><h3>Run history:</h3><br/><table class=\"wandb\"><tr><td>regret</td><td>▁</td></tr></table><br/></div><div class=\"wandb-col\"><h3>Run summary:</h3><br/><table class=\"wandb\"><tr><td>regret</td><td>83802.69387</td></tr></table><br/></div></div>"
      ],
      "text/plain": [
       "<IPython.core.display.HTML object>"
      ]
     },
     "metadata": {},
     "output_type": "display_data"
    },
    {
     "data": {
      "text/html": [
       " View run <strong style=\"color:#cdcd00\">fine-sweep-112</strong> at: <a href='https://wandb.ai/rl_shobhith/uncategorized/runs/zhmj8i26/workspace' target=\"_blank\">https://wandb.ai/rl_shobhith/uncategorized/runs/zhmj8i26/workspace</a><br/>Synced 5 W&B file(s), 0 media file(s), 0 artifact file(s) and 0 other file(s)"
      ],
      "text/plain": [
       "<IPython.core.display.HTML object>"
      ]
     },
     "metadata": {},
     "output_type": "display_data"
    },
    {
     "data": {
      "text/html": [
       "Find logs at: <code>.\\wandb\\run-20240401_232408-zhmj8i26\\logs</code>"
      ],
      "text/plain": [
       "<IPython.core.display.HTML object>"
      ]
     },
     "metadata": {},
     "output_type": "display_data"
    },
    {
     "name": "stderr",
     "output_type": "stream",
     "text": [
      "\u001b[34m\u001b[1mwandb\u001b[0m: Agent Starting Run: 6490o570 with config:\n",
      "\u001b[34m\u001b[1mwandb\u001b[0m: \thidden_dim: 256\n",
      "\u001b[34m\u001b[1mwandb\u001b[0m: \tlearning_rate: 0.0007993416868792987\n",
      "Failed to detect the name of this notebook, you can set it manually with the WANDB_NOTEBOOK_NAME environment variable to enable code saving.\n"
     ]
    },
    {
     "data": {
      "text/html": [
       "Tracking run with wandb version 0.16.5"
      ],
      "text/plain": [
       "<IPython.core.display.HTML object>"
      ]
     },
     "metadata": {},
     "output_type": "display_data"
    },
    {
     "data": {
      "text/html": [
       "Run data is saved locally in <code>c:\\Users\\Shobhith Vadlamudi\\Desktop\\3rd Year\\SEM 6\\RL\\wandb\\run-20240401_232429-6490o570</code>"
      ],
      "text/plain": [
       "<IPython.core.display.HTML object>"
      ]
     },
     "metadata": {},
     "output_type": "display_data"
    },
    {
     "data": {
      "text/html": [
       "Syncing run <strong><a href='https://wandb.ai/rl_shobhith/uncategorized/runs/6490o570/workspace' target=\"_blank\">young-sweep-113</a></strong> to <a href='https://wandb.ai/rl_shobhith/uncategorized' target=\"_blank\">Weights & Biases</a> (<a href='https://wandb.me/run' target=\"_blank\">docs</a>)<br/>Sweep page: <a href='https://wandb.ai/rl_shobhith/uncategorized/sweeps/ebygp3ca' target=\"_blank\">https://wandb.ai/rl_shobhith/uncategorized/sweeps/ebygp3ca</a>"
      ],
      "text/plain": [
       "<IPython.core.display.HTML object>"
      ]
     },
     "metadata": {},
     "output_type": "display_data"
    },
    {
     "data": {
      "text/html": [
       " View project at <a href='https://wandb.ai/rl_shobhith/uncategorized' target=\"_blank\">https://wandb.ai/rl_shobhith/uncategorized</a>"
      ],
      "text/plain": [
       "<IPython.core.display.HTML object>"
      ]
     },
     "metadata": {},
     "output_type": "display_data"
    },
    {
     "data": {
      "text/html": [
       " View sweep at <a href='https://wandb.ai/rl_shobhith/uncategorized/sweeps/ebygp3ca' target=\"_blank\">https://wandb.ai/rl_shobhith/uncategorized/sweeps/ebygp3ca</a>"
      ],
      "text/plain": [
       "<IPython.core.display.HTML object>"
      ]
     },
     "metadata": {},
     "output_type": "display_data"
    },
    {
     "data": {
      "text/html": [
       " View run at <a href='https://wandb.ai/rl_shobhith/uncategorized/runs/6490o570/workspace' target=\"_blank\">https://wandb.ai/rl_shobhith/uncategorized/runs/6490o570/workspace</a>"
      ],
      "text/plain": [
       "<IPython.core.display.HTML object>"
      ]
     },
     "metadata": {},
     "output_type": "display_data"
    },
    {
     "name": "stderr",
     "output_type": "stream",
     "text": [
      "Iteration 0: 100%|██████████| 50/50 [00:00<00:00, 67.12it/s, episode_return=50, return=21.500]\n",
      "Iteration 1: 100%|██████████| 50/50 [00:01<00:00, 45.76it/s, episode_return=100, return=39.800]\n",
      "Iteration 2: 100%|██████████| 50/50 [00:02<00:00, 16.68it/s, episode_return=150, return=64.400]\n",
      "Iteration 3: 100%|██████████| 50/50 [00:06<00:00,  7.90it/s, episode_return=200, return=193.000]\n",
      "Iteration 4: 100%|██████████| 50/50 [00:09<00:00,  5.14it/s, episode_return=250, return=358.800]\n",
      "Iteration 5: 100%|██████████| 50/50 [00:16<00:00,  3.12it/s, episode_return=300, return=405.300]\n",
      "Iteration 6: 100%|██████████| 50/50 [00:16<00:00,  2.97it/s, episode_return=350, return=398.200]\n",
      "Iteration 7: 100%|██████████| 50/50 [00:18<00:00,  2.74it/s, episode_return=400, return=406.600]\n",
      "Iteration 8: 100%|██████████| 50/50 [00:14<00:00,  3.43it/s, episode_return=450, return=324.500]\n",
      "Iteration 9: 100%|██████████| 50/50 [00:14<00:00,  3.52it/s, episode_return=500, return=187.400]\n"
     ]
    },
    {
     "data": {
      "application/vnd.jupyter.widget-view+json": {
       "model_id": "d1628a78607a498fbb59124226f1bd02",
       "version_major": 2,
       "version_minor": 0
      },
      "text/plain": [
       "VBox(children=(Label(value='0.001 MB of 0.007 MB uploaded\\r'), FloatProgress(value=0.16977535738597685, max=1.…"
      ]
     },
     "metadata": {},
     "output_type": "display_data"
    },
    {
     "data": {
      "text/html": [
       "<style>\n",
       "    table.wandb td:nth-child(1) { padding: 0 10px; text-align: left ; width: auto;} td:nth-child(2) {text-align: left ; width: 100%}\n",
       "    .wandb-row { display: flex; flex-direction: row; flex-wrap: wrap; justify-content: flex-start; width: 100% }\n",
       "    .wandb-col { display: flex; flex-direction: column; flex-basis: 100%; flex: 1; padding: 10px; }\n",
       "    </style>\n",
       "<div class=\"wandb-row\"><div class=\"wandb-col\"><h3>Run history:</h3><br/><table class=\"wandb\"><tr><td>regret</td><td>▁</td></tr></table><br/></div><div class=\"wandb-col\"><h3>Run summary:</h3><br/><table class=\"wandb\"><tr><td>regret</td><td>36722.32486</td></tr></table><br/></div></div>"
      ],
      "text/plain": [
       "<IPython.core.display.HTML object>"
      ]
     },
     "metadata": {},
     "output_type": "display_data"
    },
    {
     "data": {
      "text/html": [
       " View run <strong style=\"color:#cdcd00\">young-sweep-113</strong> at: <a href='https://wandb.ai/rl_shobhith/uncategorized/runs/6490o570/workspace' target=\"_blank\">https://wandb.ai/rl_shobhith/uncategorized/runs/6490o570/workspace</a><br/>Synced 5 W&B file(s), 0 media file(s), 0 artifact file(s) and 0 other file(s)"
      ],
      "text/plain": [
       "<IPython.core.display.HTML object>"
      ]
     },
     "metadata": {},
     "output_type": "display_data"
    },
    {
     "data": {
      "text/html": [
       "Find logs at: <code>.\\wandb\\run-20240401_232429-6490o570\\logs</code>"
      ],
      "text/plain": [
       "<IPython.core.display.HTML object>"
      ]
     },
     "metadata": {},
     "output_type": "display_data"
    },
    {
     "name": "stderr",
     "output_type": "stream",
     "text": [
      "\u001b[34m\u001b[1mwandb\u001b[0m: Agent Starting Run: pb1502ho with config:\n",
      "\u001b[34m\u001b[1mwandb\u001b[0m: \thidden_dim: 128\n",
      "\u001b[34m\u001b[1mwandb\u001b[0m: \tlearning_rate: 7.960329591947738e-05\n",
      "Failed to detect the name of this notebook, you can set it manually with the WANDB_NOTEBOOK_NAME environment variable to enable code saving.\n"
     ]
    },
    {
     "data": {
      "text/html": [
       "Tracking run with wandb version 0.16.5"
      ],
      "text/plain": [
       "<IPython.core.display.HTML object>"
      ]
     },
     "metadata": {},
     "output_type": "display_data"
    },
    {
     "data": {
      "text/html": [
       "Run data is saved locally in <code>c:\\Users\\Shobhith Vadlamudi\\Desktop\\3rd Year\\SEM 6\\RL\\wandb\\run-20240401_232620-pb1502ho</code>"
      ],
      "text/plain": [
       "<IPython.core.display.HTML object>"
      ]
     },
     "metadata": {},
     "output_type": "display_data"
    },
    {
     "data": {
      "text/html": [
       "Syncing run <strong><a href='https://wandb.ai/rl_shobhith/uncategorized/runs/pb1502ho/workspace' target=\"_blank\">breezy-sweep-114</a></strong> to <a href='https://wandb.ai/rl_shobhith/uncategorized' target=\"_blank\">Weights & Biases</a> (<a href='https://wandb.me/run' target=\"_blank\">docs</a>)<br/>Sweep page: <a href='https://wandb.ai/rl_shobhith/uncategorized/sweeps/ebygp3ca' target=\"_blank\">https://wandb.ai/rl_shobhith/uncategorized/sweeps/ebygp3ca</a>"
      ],
      "text/plain": [
       "<IPython.core.display.HTML object>"
      ]
     },
     "metadata": {},
     "output_type": "display_data"
    },
    {
     "data": {
      "text/html": [
       " View project at <a href='https://wandb.ai/rl_shobhith/uncategorized' target=\"_blank\">https://wandb.ai/rl_shobhith/uncategorized</a>"
      ],
      "text/plain": [
       "<IPython.core.display.HTML object>"
      ]
     },
     "metadata": {},
     "output_type": "display_data"
    },
    {
     "data": {
      "text/html": [
       " View sweep at <a href='https://wandb.ai/rl_shobhith/uncategorized/sweeps/ebygp3ca' target=\"_blank\">https://wandb.ai/rl_shobhith/uncategorized/sweeps/ebygp3ca</a>"
      ],
      "text/plain": [
       "<IPython.core.display.HTML object>"
      ]
     },
     "metadata": {},
     "output_type": "display_data"
    },
    {
     "data": {
      "text/html": [
       " View run at <a href='https://wandb.ai/rl_shobhith/uncategorized/runs/pb1502ho/workspace' target=\"_blank\">https://wandb.ai/rl_shobhith/uncategorized/runs/pb1502ho/workspace</a>"
      ],
      "text/plain": [
       "<IPython.core.display.HTML object>"
      ]
     },
     "metadata": {},
     "output_type": "display_data"
    },
    {
     "name": "stderr",
     "output_type": "stream",
     "text": [
      "Iteration 0: 100%|██████████| 50/50 [00:00<00:00, 76.89it/s, episode_return=50, return=19.900]\n",
      "Iteration 1: 100%|██████████| 50/50 [00:00<00:00, 79.56it/s, episode_return=100, return=21.300]\n",
      "Iteration 2: 100%|██████████| 50/50 [00:00<00:00, 64.50it/s, episode_return=150, return=20.900]\n",
      "Iteration 3: 100%|██████████| 50/50 [00:00<00:00, 62.07it/s, episode_return=200, return=14.200]\n",
      "Iteration 4: 100%|██████████| 50/50 [00:01<00:00, 41.08it/s, episode_return=250, return=28.700]\n",
      "Iteration 5: 100%|██████████| 50/50 [00:01<00:00, 37.97it/s, episode_return=300, return=26.100]\n",
      "Iteration 6: 100%|██████████| 50/50 [00:01<00:00, 46.02it/s, episode_return=350, return=25.300]\n",
      "Iteration 7: 100%|██████████| 50/50 [00:01<00:00, 42.10it/s, episode_return=400, return=25.900]\n",
      "Iteration 8: 100%|██████████| 50/50 [00:01<00:00, 46.09it/s, episode_return=450, return=28.400]\n",
      "Iteration 9: 100%|██████████| 50/50 [00:01<00:00, 46.91it/s, episode_return=500, return=17.800]\n"
     ]
    },
    {
     "data": {
      "application/vnd.jupyter.widget-view+json": {
       "model_id": "6983a58153fc4212a1cd4719208edafb",
       "version_major": 2,
       "version_minor": 0
      },
      "text/plain": [
       "VBox(children=(Label(value='0.001 MB of 0.007 MB uploaded\\r'), FloatProgress(value=0.1678557006326558, max=1.0…"
      ]
     },
     "metadata": {},
     "output_type": "display_data"
    },
    {
     "data": {
      "text/html": [
       "<style>\n",
       "    table.wandb td:nth-child(1) { padding: 0 10px; text-align: left ; width: auto;} td:nth-child(2) {text-align: left ; width: 100%}\n",
       "    .wandb-row { display: flex; flex-direction: row; flex-wrap: wrap; justify-content: flex-start; width: 100% }\n",
       "    .wandb-col { display: flex; flex-direction: column; flex-basis: 100%; flex: 1; padding: 10px; }\n",
       "    </style>\n",
       "<div class=\"wandb-row\"><div class=\"wandb-col\"><h3>Run history:</h3><br/><table class=\"wandb\"><tr><td>regret</td><td>▁</td></tr></table><br/></div><div class=\"wandb-col\"><h3>Run summary:</h3><br/><table class=\"wandb\"><tr><td>regret</td><td>86382.16921</td></tr></table><br/></div></div>"
      ],
      "text/plain": [
       "<IPython.core.display.HTML object>"
      ]
     },
     "metadata": {},
     "output_type": "display_data"
    },
    {
     "data": {
      "text/html": [
       " View run <strong style=\"color:#cdcd00\">breezy-sweep-114</strong> at: <a href='https://wandb.ai/rl_shobhith/uncategorized/runs/pb1502ho/workspace' target=\"_blank\">https://wandb.ai/rl_shobhith/uncategorized/runs/pb1502ho/workspace</a><br/>Synced 5 W&B file(s), 0 media file(s), 0 artifact file(s) and 0 other file(s)"
      ],
      "text/plain": [
       "<IPython.core.display.HTML object>"
      ]
     },
     "metadata": {},
     "output_type": "display_data"
    },
    {
     "data": {
      "text/html": [
       "Find logs at: <code>.\\wandb\\run-20240401_232620-pb1502ho\\logs</code>"
      ],
      "text/plain": [
       "<IPython.core.display.HTML object>"
      ]
     },
     "metadata": {},
     "output_type": "display_data"
    },
    {
     "name": "stderr",
     "output_type": "stream",
     "text": [
      "\u001b[34m\u001b[1mwandb\u001b[0m: Agent Starting Run: aqvbk0zw with config:\n",
      "\u001b[34m\u001b[1mwandb\u001b[0m: \thidden_dim: 64\n",
      "\u001b[34m\u001b[1mwandb\u001b[0m: \tlearning_rate: 0.00015364921784328834\n",
      "Failed to detect the name of this notebook, you can set it manually with the WANDB_NOTEBOOK_NAME environment variable to enable code saving.\n"
     ]
    },
    {
     "data": {
      "text/html": [
       "Tracking run with wandb version 0.16.5"
      ],
      "text/plain": [
       "<IPython.core.display.HTML object>"
      ]
     },
     "metadata": {},
     "output_type": "display_data"
    },
    {
     "data": {
      "text/html": [
       "Run data is saved locally in <code>c:\\Users\\Shobhith Vadlamudi\\Desktop\\3rd Year\\SEM 6\\RL\\wandb\\run-20240401_232642-aqvbk0zw</code>"
      ],
      "text/plain": [
       "<IPython.core.display.HTML object>"
      ]
     },
     "metadata": {},
     "output_type": "display_data"
    },
    {
     "data": {
      "text/html": [
       "Syncing run <strong><a href='https://wandb.ai/rl_shobhith/uncategorized/runs/aqvbk0zw/workspace' target=\"_blank\">spring-sweep-115</a></strong> to <a href='https://wandb.ai/rl_shobhith/uncategorized' target=\"_blank\">Weights & Biases</a> (<a href='https://wandb.me/run' target=\"_blank\">docs</a>)<br/>Sweep page: <a href='https://wandb.ai/rl_shobhith/uncategorized/sweeps/ebygp3ca' target=\"_blank\">https://wandb.ai/rl_shobhith/uncategorized/sweeps/ebygp3ca</a>"
      ],
      "text/plain": [
       "<IPython.core.display.HTML object>"
      ]
     },
     "metadata": {},
     "output_type": "display_data"
    },
    {
     "data": {
      "text/html": [
       " View project at <a href='https://wandb.ai/rl_shobhith/uncategorized' target=\"_blank\">https://wandb.ai/rl_shobhith/uncategorized</a>"
      ],
      "text/plain": [
       "<IPython.core.display.HTML object>"
      ]
     },
     "metadata": {},
     "output_type": "display_data"
    },
    {
     "data": {
      "text/html": [
       " View sweep at <a href='https://wandb.ai/rl_shobhith/uncategorized/sweeps/ebygp3ca' target=\"_blank\">https://wandb.ai/rl_shobhith/uncategorized/sweeps/ebygp3ca</a>"
      ],
      "text/plain": [
       "<IPython.core.display.HTML object>"
      ]
     },
     "metadata": {},
     "output_type": "display_data"
    },
    {
     "data": {
      "text/html": [
       " View run at <a href='https://wandb.ai/rl_shobhith/uncategorized/runs/aqvbk0zw/workspace' target=\"_blank\">https://wandb.ai/rl_shobhith/uncategorized/runs/aqvbk0zw/workspace</a>"
      ],
      "text/plain": [
       "<IPython.core.display.HTML object>"
      ]
     },
     "metadata": {},
     "output_type": "display_data"
    },
    {
     "name": "stderr",
     "output_type": "stream",
     "text": [
      "Iteration 0: 100%|██████████| 50/50 [00:00<00:00, 56.39it/s, episode_return=50, return=22.800]\n",
      "Iteration 1: 100%|██████████| 50/50 [00:01<00:00, 47.43it/s, episode_return=100, return=28.300]\n",
      "Iteration 2: 100%|██████████| 50/50 [00:01<00:00, 44.76it/s, episode_return=150, return=17.500]\n",
      "Iteration 3: 100%|██████████| 50/50 [00:00<00:00, 60.82it/s, episode_return=200, return=19.600]\n",
      "Iteration 4: 100%|██████████| 50/50 [00:01<00:00, 48.57it/s, episode_return=250, return=22.600]\n",
      "Iteration 5: 100%|██████████| 50/50 [00:00<00:00, 50.57it/s, episode_return=300, return=30.900]\n",
      "Iteration 6: 100%|██████████| 50/50 [00:00<00:00, 58.27it/s, episode_return=350, return=21.000]\n",
      "Iteration 7: 100%|██████████| 50/50 [00:01<00:00, 46.60it/s, episode_return=400, return=26.400]\n",
      "Iteration 8: 100%|██████████| 50/50 [00:00<00:00, 58.56it/s, episode_return=450, return=22.400]\n",
      "Iteration 9: 100%|██████████| 50/50 [00:01<00:00, 49.16it/s, episode_return=500, return=34.900]\n"
     ]
    },
    {
     "data": {
      "application/vnd.jupyter.widget-view+json": {
       "model_id": "49a10f64681a456ca71629ff9207e5ad",
       "version_major": 2,
       "version_minor": 0
      },
      "text/plain": [
       "VBox(children=(Label(value='0.001 MB of 0.007 MB uploaded\\r'), FloatProgress(value=0.1678557006326558, max=1.0…"
      ]
     },
     "metadata": {},
     "output_type": "display_data"
    },
    {
     "data": {
      "text/html": [
       "<style>\n",
       "    table.wandb td:nth-child(1) { padding: 0 10px; text-align: left ; width: auto;} td:nth-child(2) {text-align: left ; width: 100%}\n",
       "    .wandb-row { display: flex; flex-direction: row; flex-wrap: wrap; justify-content: flex-start; width: 100% }\n",
       "    .wandb-col { display: flex; flex-direction: column; flex-basis: 100%; flex: 1; padding: 10px; }\n",
       "    </style>\n",
       "<div class=\"wandb-row\"><div class=\"wandb-col\"><h3>Run history:</h3><br/><table class=\"wandb\"><tr><td>regret</td><td>▁</td></tr></table><br/></div><div class=\"wandb-col\"><h3>Run summary:</h3><br/><table class=\"wandb\"><tr><td>regret</td><td>84524.96678</td></tr></table><br/></div></div>"
      ],
      "text/plain": [
       "<IPython.core.display.HTML object>"
      ]
     },
     "metadata": {},
     "output_type": "display_data"
    },
    {
     "data": {
      "text/html": [
       " View run <strong style=\"color:#cdcd00\">spring-sweep-115</strong> at: <a href='https://wandb.ai/rl_shobhith/uncategorized/runs/aqvbk0zw/workspace' target=\"_blank\">https://wandb.ai/rl_shobhith/uncategorized/runs/aqvbk0zw/workspace</a><br/>Synced 5 W&B file(s), 0 media file(s), 0 artifact file(s) and 0 other file(s)"
      ],
      "text/plain": [
       "<IPython.core.display.HTML object>"
      ]
     },
     "metadata": {},
     "output_type": "display_data"
    },
    {
     "data": {
      "text/html": [
       "Find logs at: <code>.\\wandb\\run-20240401_232642-aqvbk0zw\\logs</code>"
      ],
      "text/plain": [
       "<IPython.core.display.HTML object>"
      ]
     },
     "metadata": {},
     "output_type": "display_data"
    },
    {
     "name": "stderr",
     "output_type": "stream",
     "text": [
      "\u001b[34m\u001b[1mwandb\u001b[0m: Agent Starting Run: g49rdr2t with config:\n",
      "\u001b[34m\u001b[1mwandb\u001b[0m: \thidden_dim: 64\n",
      "\u001b[34m\u001b[1mwandb\u001b[0m: \tlearning_rate: 0.0008043122851557036\n",
      "Failed to detect the name of this notebook, you can set it manually with the WANDB_NOTEBOOK_NAME environment variable to enable code saving.\n"
     ]
    },
    {
     "data": {
      "text/html": [
       "Tracking run with wandb version 0.16.5"
      ],
      "text/plain": [
       "<IPython.core.display.HTML object>"
      ]
     },
     "metadata": {},
     "output_type": "display_data"
    },
    {
     "data": {
      "text/html": [
       "Run data is saved locally in <code>c:\\Users\\Shobhith Vadlamudi\\Desktop\\3rd Year\\SEM 6\\RL\\wandb\\run-20240401_232704-g49rdr2t</code>"
      ],
      "text/plain": [
       "<IPython.core.display.HTML object>"
      ]
     },
     "metadata": {},
     "output_type": "display_data"
    },
    {
     "data": {
      "text/html": [
       "Syncing run <strong><a href='https://wandb.ai/rl_shobhith/uncategorized/runs/g49rdr2t/workspace' target=\"_blank\">crisp-sweep-116</a></strong> to <a href='https://wandb.ai/rl_shobhith/uncategorized' target=\"_blank\">Weights & Biases</a> (<a href='https://wandb.me/run' target=\"_blank\">docs</a>)<br/>Sweep page: <a href='https://wandb.ai/rl_shobhith/uncategorized/sweeps/ebygp3ca' target=\"_blank\">https://wandb.ai/rl_shobhith/uncategorized/sweeps/ebygp3ca</a>"
      ],
      "text/plain": [
       "<IPython.core.display.HTML object>"
      ]
     },
     "metadata": {},
     "output_type": "display_data"
    },
    {
     "data": {
      "text/html": [
       " View project at <a href='https://wandb.ai/rl_shobhith/uncategorized' target=\"_blank\">https://wandb.ai/rl_shobhith/uncategorized</a>"
      ],
      "text/plain": [
       "<IPython.core.display.HTML object>"
      ]
     },
     "metadata": {},
     "output_type": "display_data"
    },
    {
     "data": {
      "text/html": [
       " View sweep at <a href='https://wandb.ai/rl_shobhith/uncategorized/sweeps/ebygp3ca' target=\"_blank\">https://wandb.ai/rl_shobhith/uncategorized/sweeps/ebygp3ca</a>"
      ],
      "text/plain": [
       "<IPython.core.display.HTML object>"
      ]
     },
     "metadata": {},
     "output_type": "display_data"
    },
    {
     "data": {
      "text/html": [
       " View run at <a href='https://wandb.ai/rl_shobhith/uncategorized/runs/g49rdr2t/workspace' target=\"_blank\">https://wandb.ai/rl_shobhith/uncategorized/runs/g49rdr2t/workspace</a>"
      ],
      "text/plain": [
       "<IPython.core.display.HTML object>"
      ]
     },
     "metadata": {},
     "output_type": "display_data"
    },
    {
     "name": "stderr",
     "output_type": "stream",
     "text": [
      "Iteration 0: 100%|██████████| 50/50 [00:00<00:00, 86.11it/s, episode_return=50, return=19.200]\n",
      "Iteration 1: 100%|██████████| 50/50 [00:00<00:00, 77.86it/s, episode_return=100, return=26.300]\n",
      "Iteration 2: 100%|██████████| 50/50 [00:00<00:00, 60.00it/s, episode_return=150, return=39.300]\n",
      "Iteration 3: 100%|██████████| 50/50 [00:01<00:00, 49.87it/s, episode_return=200, return=38.700]\n",
      "Iteration 4: 100%|██████████| 50/50 [00:01<00:00, 29.82it/s, episode_return=250, return=55.100]\n",
      "Iteration 5: 100%|██████████| 50/50 [00:02<00:00, 22.63it/s, episode_return=300, return=98.000] \n",
      "Iteration 6: 100%|██████████| 50/50 [00:03<00:00, 14.59it/s, episode_return=350, return=155.700]\n",
      "Iteration 7: 100%|██████████| 50/50 [00:05<00:00,  8.76it/s, episode_return=400, return=221.100]\n",
      "Iteration 8: 100%|██████████| 50/50 [00:08<00:00,  6.20it/s, episode_return=450, return=236.300]\n",
      "Iteration 9: 100%|██████████| 50/50 [00:08<00:00,  5.69it/s, episode_return=500, return=252.700]\n"
     ]
    },
    {
     "data": {
      "application/vnd.jupyter.widget-view+json": {
       "model_id": "31e16821125445e3ab4f87c5af60f437",
       "version_major": 2,
       "version_minor": 0
      },
      "text/plain": [
       "VBox(children=(Label(value='0.001 MB of 0.001 MB uploaded\\r'), FloatProgress(value=1.0, max=1.0)))"
      ]
     },
     "metadata": {},
     "output_type": "display_data"
    },
    {
     "data": {
      "text/html": [
       "<style>\n",
       "    table.wandb td:nth-child(1) { padding: 0 10px; text-align: left ; width: auto;} td:nth-child(2) {text-align: left ; width: 100%}\n",
       "    .wandb-row { display: flex; flex-direction: row; flex-wrap: wrap; justify-content: flex-start; width: 100% }\n",
       "    .wandb-col { display: flex; flex-direction: column; flex-basis: 100%; flex: 1; padding: 10px; }\n",
       "    </style>\n",
       "<div class=\"wandb-row\"><div class=\"wandb-col\"><h3>Run history:</h3><br/><table class=\"wandb\"><tr><td>regret</td><td>▁</td></tr></table><br/></div><div class=\"wandb-col\"><h3>Run summary:</h3><br/><table class=\"wandb\"><tr><td>regret</td><td>58804.76644</td></tr></table><br/></div></div>"
      ],
      "text/plain": [
       "<IPython.core.display.HTML object>"
      ]
     },
     "metadata": {},
     "output_type": "display_data"
    },
    {
     "data": {
      "text/html": [
       " View run <strong style=\"color:#cdcd00\">crisp-sweep-116</strong> at: <a href='https://wandb.ai/rl_shobhith/uncategorized/runs/g49rdr2t/workspace' target=\"_blank\">https://wandb.ai/rl_shobhith/uncategorized/runs/g49rdr2t/workspace</a><br/>Synced 5 W&B file(s), 0 media file(s), 0 artifact file(s) and 0 other file(s)"
      ],
      "text/plain": [
       "<IPython.core.display.HTML object>"
      ]
     },
     "metadata": {},
     "output_type": "display_data"
    },
    {
     "data": {
      "text/html": [
       "Find logs at: <code>.\\wandb\\run-20240401_232704-g49rdr2t\\logs</code>"
      ],
      "text/plain": [
       "<IPython.core.display.HTML object>"
      ]
     },
     "metadata": {},
     "output_type": "display_data"
    },
    {
     "name": "stderr",
     "output_type": "stream",
     "text": [
      "\u001b[34m\u001b[1mwandb\u001b[0m: Agent Starting Run: 7jaw8w2d with config:\n",
      "\u001b[34m\u001b[1mwandb\u001b[0m: \thidden_dim: 128\n",
      "\u001b[34m\u001b[1mwandb\u001b[0m: \tlearning_rate: 0.000825104898610036\n",
      "Failed to detect the name of this notebook, you can set it manually with the WANDB_NOTEBOOK_NAME environment variable to enable code saving.\n"
     ]
    },
    {
     "data": {
      "text/html": [
       "Tracking run with wandb version 0.16.5"
      ],
      "text/plain": [
       "<IPython.core.display.HTML object>"
      ]
     },
     "metadata": {},
     "output_type": "display_data"
    },
    {
     "data": {
      "text/html": [
       "Run data is saved locally in <code>c:\\Users\\Shobhith Vadlamudi\\Desktop\\3rd Year\\SEM 6\\RL\\wandb\\run-20240401_232748-7jaw8w2d</code>"
      ],
      "text/plain": [
       "<IPython.core.display.HTML object>"
      ]
     },
     "metadata": {},
     "output_type": "display_data"
    },
    {
     "data": {
      "text/html": [
       "Syncing run <strong><a href='https://wandb.ai/rl_shobhith/uncategorized/runs/7jaw8w2d/workspace' target=\"_blank\">smart-sweep-117</a></strong> to <a href='https://wandb.ai/rl_shobhith/uncategorized' target=\"_blank\">Weights & Biases</a> (<a href='https://wandb.me/run' target=\"_blank\">docs</a>)<br/>Sweep page: <a href='https://wandb.ai/rl_shobhith/uncategorized/sweeps/ebygp3ca' target=\"_blank\">https://wandb.ai/rl_shobhith/uncategorized/sweeps/ebygp3ca</a>"
      ],
      "text/plain": [
       "<IPython.core.display.HTML object>"
      ]
     },
     "metadata": {},
     "output_type": "display_data"
    },
    {
     "data": {
      "text/html": [
       " View project at <a href='https://wandb.ai/rl_shobhith/uncategorized' target=\"_blank\">https://wandb.ai/rl_shobhith/uncategorized</a>"
      ],
      "text/plain": [
       "<IPython.core.display.HTML object>"
      ]
     },
     "metadata": {},
     "output_type": "display_data"
    },
    {
     "data": {
      "text/html": [
       " View sweep at <a href='https://wandb.ai/rl_shobhith/uncategorized/sweeps/ebygp3ca' target=\"_blank\">https://wandb.ai/rl_shobhith/uncategorized/sweeps/ebygp3ca</a>"
      ],
      "text/plain": [
       "<IPython.core.display.HTML object>"
      ]
     },
     "metadata": {},
     "output_type": "display_data"
    },
    {
     "data": {
      "text/html": [
       " View run at <a href='https://wandb.ai/rl_shobhith/uncategorized/runs/7jaw8w2d/workspace' target=\"_blank\">https://wandb.ai/rl_shobhith/uncategorized/runs/7jaw8w2d/workspace</a>"
      ],
      "text/plain": [
       "<IPython.core.display.HTML object>"
      ]
     },
     "metadata": {},
     "output_type": "display_data"
    },
    {
     "name": "stderr",
     "output_type": "stream",
     "text": [
      "Iteration 0: 100%|██████████| 50/50 [00:00<00:00, 69.33it/s, episode_return=50, return=36.300]\n",
      "Iteration 1: 100%|██████████| 50/50 [00:01<00:00, 45.74it/s, episode_return=100, return=33.100]\n",
      "Iteration 2: 100%|██████████| 50/50 [00:01<00:00, 31.59it/s, episode_return=150, return=49.400]\n",
      "Iteration 3: 100%|██████████| 50/50 [00:03<00:00, 14.92it/s, episode_return=200, return=96.200]\n",
      "Iteration 4: 100%|██████████| 50/50 [00:04<00:00, 10.31it/s, episode_return=250, return=148.100]\n",
      "Iteration 5: 100%|██████████| 50/50 [00:07<00:00,  6.49it/s, episode_return=300, return=208.200]\n",
      "Iteration 6: 100%|██████████| 50/50 [00:06<00:00,  7.79it/s, episode_return=350, return=174.400]\n",
      "Iteration 7: 100%|██████████| 50/50 [00:07<00:00,  7.01it/s, episode_return=400, return=140.000]\n",
      "Iteration 8: 100%|██████████| 50/50 [00:08<00:00,  5.96it/s, episode_return=450, return=244.800]\n",
      "Iteration 9: 100%|██████████| 50/50 [00:11<00:00,  4.30it/s, episode_return=500, return=258.900]\n"
     ]
    },
    {
     "data": {
      "application/vnd.jupyter.widget-view+json": {
       "model_id": "767af759e0f44f9b92da0951a833fe31",
       "version_major": 2,
       "version_minor": 0
      },
      "text/plain": [
       "VBox(children=(Label(value='0.001 MB of 0.001 MB uploaded\\r'), FloatProgress(value=1.0, max=1.0)))"
      ]
     },
     "metadata": {},
     "output_type": "display_data"
    },
    {
     "data": {
      "text/html": [
       "<style>\n",
       "    table.wandb td:nth-child(1) { padding: 0 10px; text-align: left ; width: auto;} td:nth-child(2) {text-align: left ; width: 100%}\n",
       "    .wandb-row { display: flex; flex-direction: row; flex-wrap: wrap; justify-content: flex-start; width: 100% }\n",
       "    .wandb-col { display: flex; flex-direction: column; flex-basis: 100%; flex: 1; padding: 10px; }\n",
       "    </style>\n",
       "<div class=\"wandb-row\"><div class=\"wandb-col\"><h3>Run history:</h3><br/><table class=\"wandb\"><tr><td>regret</td><td>▁</td></tr></table><br/></div><div class=\"wandb-col\"><h3>Run summary:</h3><br/><table class=\"wandb\"><tr><td>regret</td><td>45140.7145</td></tr></table><br/></div></div>"
      ],
      "text/plain": [
       "<IPython.core.display.HTML object>"
      ]
     },
     "metadata": {},
     "output_type": "display_data"
    },
    {
     "data": {
      "text/html": [
       " View run <strong style=\"color:#cdcd00\">smart-sweep-117</strong> at: <a href='https://wandb.ai/rl_shobhith/uncategorized/runs/7jaw8w2d/workspace' target=\"_blank\">https://wandb.ai/rl_shobhith/uncategorized/runs/7jaw8w2d/workspace</a><br/>Synced 5 W&B file(s), 0 media file(s), 0 artifact file(s) and 0 other file(s)"
      ],
      "text/plain": [
       "<IPython.core.display.HTML object>"
      ]
     },
     "metadata": {},
     "output_type": "display_data"
    },
    {
     "data": {
      "text/html": [
       "Find logs at: <code>.\\wandb\\run-20240401_232748-7jaw8w2d\\logs</code>"
      ],
      "text/plain": [
       "<IPython.core.display.HTML object>"
      ]
     },
     "metadata": {},
     "output_type": "display_data"
    },
    {
     "name": "stderr",
     "output_type": "stream",
     "text": [
      "\u001b[34m\u001b[1mwandb\u001b[0m: Sweep Agent: Waiting for job.\n",
      "\u001b[34m\u001b[1mwandb\u001b[0m: Job received.\n",
      "\u001b[34m\u001b[1mwandb\u001b[0m: Agent Starting Run: dy6zllot with config:\n",
      "\u001b[34m\u001b[1mwandb\u001b[0m: \thidden_dim: 256\n",
      "\u001b[34m\u001b[1mwandb\u001b[0m: \tlearning_rate: 8.744437425408702e-05\n",
      "Failed to detect the name of this notebook, you can set it manually with the WANDB_NOTEBOOK_NAME environment variable to enable code saving.\n"
     ]
    },
    {
     "data": {
      "application/vnd.jupyter.widget-view+json": {
       "model_id": "051253c785a549ec9d954bf8cb5abe5e",
       "version_major": 2,
       "version_minor": 0
      },
      "text/plain": [
       "VBox(children=(Label(value='Waiting for wandb.init()...\\r'), FloatProgress(value=0.011111111111111112, max=1.0…"
      ]
     },
     "metadata": {},
     "output_type": "display_data"
    },
    {
     "data": {
      "text/html": [
       "Tracking run with wandb version 0.16.5"
      ],
      "text/plain": [
       "<IPython.core.display.HTML object>"
      ]
     },
     "metadata": {},
     "output_type": "display_data"
    },
    {
     "data": {
      "text/html": [
       "Run data is saved locally in <code>c:\\Users\\Shobhith Vadlamudi\\Desktop\\3rd Year\\SEM 6\\RL\\wandb\\run-20240401_232900-dy6zllot</code>"
      ],
      "text/plain": [
       "<IPython.core.display.HTML object>"
      ]
     },
     "metadata": {},
     "output_type": "display_data"
    },
    {
     "data": {
      "text/html": [
       "Syncing run <strong><a href='https://wandb.ai/rl_shobhith/uncategorized/runs/dy6zllot/workspace' target=\"_blank\">fresh-sweep-118</a></strong> to <a href='https://wandb.ai/rl_shobhith/uncategorized' target=\"_blank\">Weights & Biases</a> (<a href='https://wandb.me/run' target=\"_blank\">docs</a>)<br/>Sweep page: <a href='https://wandb.ai/rl_shobhith/uncategorized/sweeps/ebygp3ca' target=\"_blank\">https://wandb.ai/rl_shobhith/uncategorized/sweeps/ebygp3ca</a>"
      ],
      "text/plain": [
       "<IPython.core.display.HTML object>"
      ]
     },
     "metadata": {},
     "output_type": "display_data"
    },
    {
     "data": {
      "text/html": [
       " View project at <a href='https://wandb.ai/rl_shobhith/uncategorized' target=\"_blank\">https://wandb.ai/rl_shobhith/uncategorized</a>"
      ],
      "text/plain": [
       "<IPython.core.display.HTML object>"
      ]
     },
     "metadata": {},
     "output_type": "display_data"
    },
    {
     "data": {
      "text/html": [
       " View sweep at <a href='https://wandb.ai/rl_shobhith/uncategorized/sweeps/ebygp3ca' target=\"_blank\">https://wandb.ai/rl_shobhith/uncategorized/sweeps/ebygp3ca</a>"
      ],
      "text/plain": [
       "<IPython.core.display.HTML object>"
      ]
     },
     "metadata": {},
     "output_type": "display_data"
    },
    {
     "data": {
      "text/html": [
       " View run at <a href='https://wandb.ai/rl_shobhith/uncategorized/runs/dy6zllot/workspace' target=\"_blank\">https://wandb.ai/rl_shobhith/uncategorized/runs/dy6zllot/workspace</a>"
      ],
      "text/plain": [
       "<IPython.core.display.HTML object>"
      ]
     },
     "metadata": {},
     "output_type": "display_data"
    },
    {
     "name": "stderr",
     "output_type": "stream",
     "text": [
      "Iteration 0: 100%|██████████| 50/50 [00:00<00:00, 70.29it/s, episode_return=50, return=20.900]\n",
      "Iteration 1: 100%|██████████| 50/50 [00:00<00:00, 67.35it/s, episode_return=100, return=22.800]\n",
      "Iteration 2: 100%|██████████| 50/50 [00:00<00:00, 68.37it/s, episode_return=150, return=23.700]\n",
      "Iteration 3: 100%|██████████| 50/50 [00:00<00:00, 52.19it/s, episode_return=200, return=22.100]\n",
      "Iteration 4: 100%|██████████| 50/50 [00:00<00:00, 57.84it/s, episode_return=250, return=30.100]\n",
      "Iteration 5: 100%|██████████| 50/50 [00:00<00:00, 53.00it/s, episode_return=300, return=27.500]\n",
      "Iteration 6: 100%|██████████| 50/50 [00:01<00:00, 36.94it/s, episode_return=350, return=35.000]\n",
      "Iteration 7: 100%|██████████| 50/50 [00:01<00:00, 31.28it/s, episode_return=400, return=23.400]\n",
      "Iteration 8: 100%|██████████| 50/50 [00:01<00:00, 32.92it/s, episode_return=450, return=31.900]\n",
      "Iteration 9: 100%|██████████| 50/50 [00:01<00:00, 27.00it/s, episode_return=500, return=29.000]\n"
     ]
    },
    {
     "data": {
      "application/vnd.jupyter.widget-view+json": {
       "model_id": "b52aead2233440f1aa4abf9aafdcff2b",
       "version_major": 2,
       "version_minor": 0
      },
      "text/plain": [
       "VBox(children=(Label(value='0.001 MB of 0.001 MB uploaded\\r'), FloatProgress(value=1.0, max=1.0)))"
      ]
     },
     "metadata": {},
     "output_type": "display_data"
    },
    {
     "data": {
      "text/html": [
       "<style>\n",
       "    table.wandb td:nth-child(1) { padding: 0 10px; text-align: left ; width: auto;} td:nth-child(2) {text-align: left ; width: 100%}\n",
       "    .wandb-row { display: flex; flex-direction: row; flex-wrap: wrap; justify-content: flex-start; width: 100% }\n",
       "    .wandb-col { display: flex; flex-direction: column; flex-basis: 100%; flex: 1; padding: 10px; }\n",
       "    </style>\n",
       "<div class=\"wandb-row\"><div class=\"wandb-col\"><h3>Run history:</h3><br/><table class=\"wandb\"><tr><td>regret</td><td>▁</td></tr></table><br/></div><div class=\"wandb-col\"><h3>Run summary:</h3><br/><table class=\"wandb\"><tr><td>regret</td><td>84629.53327</td></tr></table><br/></div></div>"
      ],
      "text/plain": [
       "<IPython.core.display.HTML object>"
      ]
     },
     "metadata": {},
     "output_type": "display_data"
    },
    {
     "data": {
      "text/html": [
       " View run <strong style=\"color:#cdcd00\">fresh-sweep-118</strong> at: <a href='https://wandb.ai/rl_shobhith/uncategorized/runs/dy6zllot/workspace' target=\"_blank\">https://wandb.ai/rl_shobhith/uncategorized/runs/dy6zllot/workspace</a><br/>Synced 5 W&B file(s), 0 media file(s), 0 artifact file(s) and 0 other file(s)"
      ],
      "text/plain": [
       "<IPython.core.display.HTML object>"
      ]
     },
     "metadata": {},
     "output_type": "display_data"
    },
    {
     "data": {
      "text/html": [
       "Find logs at: <code>.\\wandb\\run-20240401_232900-dy6zllot\\logs</code>"
      ],
      "text/plain": [
       "<IPython.core.display.HTML object>"
      ]
     },
     "metadata": {},
     "output_type": "display_data"
    },
    {
     "name": "stderr",
     "output_type": "stream",
     "text": [
      "\u001b[34m\u001b[1mwandb\u001b[0m: Agent Starting Run: 02ej5dws with config:\n",
      "\u001b[34m\u001b[1mwandb\u001b[0m: \thidden_dim: 64\n",
      "\u001b[34m\u001b[1mwandb\u001b[0m: \tlearning_rate: 0.0009045283690436432\n",
      "Failed to detect the name of this notebook, you can set it manually with the WANDB_NOTEBOOK_NAME environment variable to enable code saving.\n"
     ]
    },
    {
     "data": {
      "text/html": [
       "Tracking run with wandb version 0.16.5"
      ],
      "text/plain": [
       "<IPython.core.display.HTML object>"
      ]
     },
     "metadata": {},
     "output_type": "display_data"
    },
    {
     "data": {
      "text/html": [
       "Run data is saved locally in <code>c:\\Users\\Shobhith Vadlamudi\\Desktop\\3rd Year\\SEM 6\\RL\\wandb\\run-20240401_232924-02ej5dws</code>"
      ],
      "text/plain": [
       "<IPython.core.display.HTML object>"
      ]
     },
     "metadata": {},
     "output_type": "display_data"
    },
    {
     "data": {
      "text/html": [
       "Syncing run <strong><a href='https://wandb.ai/rl_shobhith/uncategorized/runs/02ej5dws/workspace' target=\"_blank\">cerulean-sweep-119</a></strong> to <a href='https://wandb.ai/rl_shobhith/uncategorized' target=\"_blank\">Weights & Biases</a> (<a href='https://wandb.me/run' target=\"_blank\">docs</a>)<br/>Sweep page: <a href='https://wandb.ai/rl_shobhith/uncategorized/sweeps/ebygp3ca' target=\"_blank\">https://wandb.ai/rl_shobhith/uncategorized/sweeps/ebygp3ca</a>"
      ],
      "text/plain": [
       "<IPython.core.display.HTML object>"
      ]
     },
     "metadata": {},
     "output_type": "display_data"
    },
    {
     "data": {
      "text/html": [
       " View project at <a href='https://wandb.ai/rl_shobhith/uncategorized' target=\"_blank\">https://wandb.ai/rl_shobhith/uncategorized</a>"
      ],
      "text/plain": [
       "<IPython.core.display.HTML object>"
      ]
     },
     "metadata": {},
     "output_type": "display_data"
    },
    {
     "data": {
      "text/html": [
       " View sweep at <a href='https://wandb.ai/rl_shobhith/uncategorized/sweeps/ebygp3ca' target=\"_blank\">https://wandb.ai/rl_shobhith/uncategorized/sweeps/ebygp3ca</a>"
      ],
      "text/plain": [
       "<IPython.core.display.HTML object>"
      ]
     },
     "metadata": {},
     "output_type": "display_data"
    },
    {
     "data": {
      "text/html": [
       " View run at <a href='https://wandb.ai/rl_shobhith/uncategorized/runs/02ej5dws/workspace' target=\"_blank\">https://wandb.ai/rl_shobhith/uncategorized/runs/02ej5dws/workspace</a>"
      ],
      "text/plain": [
       "<IPython.core.display.HTML object>"
      ]
     },
     "metadata": {},
     "output_type": "display_data"
    },
    {
     "name": "stderr",
     "output_type": "stream",
     "text": [
      "Iteration 0: 100%|██████████| 50/50 [00:00<00:00, 74.33it/s, episode_return=50, return=27.600]\n",
      "Iteration 1: 100%|██████████| 50/50 [00:00<00:00, 62.96it/s, episode_return=100, return=31.100]\n",
      "Iteration 2: 100%|██████████| 50/50 [00:01<00:00, 35.77it/s, episode_return=150, return=49.400]\n",
      "Iteration 3: 100%|██████████| 50/50 [00:02<00:00, 22.68it/s, episode_return=200, return=49.000]\n",
      "Iteration 4: 100%|██████████| 50/50 [00:02<00:00, 22.71it/s, episode_return=250, return=51.500]\n",
      "Iteration 5: 100%|██████████| 50/50 [00:02<00:00, 21.40it/s, episode_return=300, return=71.000] \n",
      "Iteration 6: 100%|██████████| 50/50 [00:03<00:00, 13.48it/s, episode_return=350, return=92.500] \n",
      "Iteration 7: 100%|██████████| 50/50 [00:06<00:00,  8.31it/s, episode_return=400, return=202.500]\n",
      "Iteration 8: 100%|██████████| 50/50 [00:07<00:00,  6.44it/s, episode_return=450, return=250.500]\n",
      "Iteration 9: 100%|██████████| 50/50 [00:08<00:00,  5.94it/s, episode_return=500, return=261.700]\n"
     ]
    },
    {
     "data": {
      "application/vnd.jupyter.widget-view+json": {
       "model_id": "a5e49578d44d4b47ad08589df07a10be",
       "version_major": 2,
       "version_minor": 0
      },
      "text/plain": [
       "VBox(children=(Label(value='0.001 MB of 0.001 MB uploaded\\r'), FloatProgress(value=1.0, max=1.0)))"
      ]
     },
     "metadata": {},
     "output_type": "display_data"
    },
    {
     "data": {
      "text/html": [
       "<style>\n",
       "    table.wandb td:nth-child(1) { padding: 0 10px; text-align: left ; width: auto;} td:nth-child(2) {text-align: left ; width: 100%}\n",
       "    .wandb-row { display: flex; flex-direction: row; flex-wrap: wrap; justify-content: flex-start; width: 100% }\n",
       "    .wandb-col { display: flex; flex-direction: column; flex-basis: 100%; flex: 1; padding: 10px; }\n",
       "    </style>\n",
       "<div class=\"wandb-row\"><div class=\"wandb-col\"><h3>Run history:</h3><br/><table class=\"wandb\"><tr><td>regret</td><td>▁</td></tr></table><br/></div><div class=\"wandb-col\"><h3>Run summary:</h3><br/><table class=\"wandb\"><tr><td>regret</td><td>57063.76273</td></tr></table><br/></div></div>"
      ],
      "text/plain": [
       "<IPython.core.display.HTML object>"
      ]
     },
     "metadata": {},
     "output_type": "display_data"
    },
    {
     "data": {
      "text/html": [
       " View run <strong style=\"color:#cdcd00\">cerulean-sweep-119</strong> at: <a href='https://wandb.ai/rl_shobhith/uncategorized/runs/02ej5dws/workspace' target=\"_blank\">https://wandb.ai/rl_shobhith/uncategorized/runs/02ej5dws/workspace</a><br/>Synced 5 W&B file(s), 0 media file(s), 0 artifact file(s) and 0 other file(s)"
      ],
      "text/plain": [
       "<IPython.core.display.HTML object>"
      ]
     },
     "metadata": {},
     "output_type": "display_data"
    },
    {
     "data": {
      "text/html": [
       "Find logs at: <code>.\\wandb\\run-20240401_232924-02ej5dws\\logs</code>"
      ],
      "text/plain": [
       "<IPython.core.display.HTML object>"
      ]
     },
     "metadata": {},
     "output_type": "display_data"
    },
    {
     "name": "stderr",
     "output_type": "stream",
     "text": [
      "\u001b[34m\u001b[1mwandb\u001b[0m: Agent Starting Run: vdyt60lg with config:\n",
      "\u001b[34m\u001b[1mwandb\u001b[0m: \thidden_dim: 64\n",
      "\u001b[34m\u001b[1mwandb\u001b[0m: \tlearning_rate: 0.00011396151619388896\n",
      "Failed to detect the name of this notebook, you can set it manually with the WANDB_NOTEBOOK_NAME environment variable to enable code saving.\n"
     ]
    },
    {
     "data": {
      "text/html": [
       "Tracking run with wandb version 0.16.5"
      ],
      "text/plain": [
       "<IPython.core.display.HTML object>"
      ]
     },
     "metadata": {},
     "output_type": "display_data"
    },
    {
     "data": {
      "text/html": [
       "Run data is saved locally in <code>c:\\Users\\Shobhith Vadlamudi\\Desktop\\3rd Year\\SEM 6\\RL\\wandb\\run-20240401_233010-vdyt60lg</code>"
      ],
      "text/plain": [
       "<IPython.core.display.HTML object>"
      ]
     },
     "metadata": {},
     "output_type": "display_data"
    },
    {
     "data": {
      "text/html": [
       "Syncing run <strong><a href='https://wandb.ai/rl_shobhith/uncategorized/runs/vdyt60lg/workspace' target=\"_blank\">olive-sweep-120</a></strong> to <a href='https://wandb.ai/rl_shobhith/uncategorized' target=\"_blank\">Weights & Biases</a> (<a href='https://wandb.me/run' target=\"_blank\">docs</a>)<br/>Sweep page: <a href='https://wandb.ai/rl_shobhith/uncategorized/sweeps/ebygp3ca' target=\"_blank\">https://wandb.ai/rl_shobhith/uncategorized/sweeps/ebygp3ca</a>"
      ],
      "text/plain": [
       "<IPython.core.display.HTML object>"
      ]
     },
     "metadata": {},
     "output_type": "display_data"
    },
    {
     "data": {
      "text/html": [
       " View project at <a href='https://wandb.ai/rl_shobhith/uncategorized' target=\"_blank\">https://wandb.ai/rl_shobhith/uncategorized</a>"
      ],
      "text/plain": [
       "<IPython.core.display.HTML object>"
      ]
     },
     "metadata": {},
     "output_type": "display_data"
    },
    {
     "data": {
      "text/html": [
       " View sweep at <a href='https://wandb.ai/rl_shobhith/uncategorized/sweeps/ebygp3ca' target=\"_blank\">https://wandb.ai/rl_shobhith/uncategorized/sweeps/ebygp3ca</a>"
      ],
      "text/plain": [
       "<IPython.core.display.HTML object>"
      ]
     },
     "metadata": {},
     "output_type": "display_data"
    },
    {
     "data": {
      "text/html": [
       " View run at <a href='https://wandb.ai/rl_shobhith/uncategorized/runs/vdyt60lg/workspace' target=\"_blank\">https://wandb.ai/rl_shobhith/uncategorized/runs/vdyt60lg/workspace</a>"
      ],
      "text/plain": [
       "<IPython.core.display.HTML object>"
      ]
     },
     "metadata": {},
     "output_type": "display_data"
    },
    {
     "name": "stderr",
     "output_type": "stream",
     "text": [
      "Iteration 0: 100%|██████████| 50/50 [00:00<00:00, 71.29it/s, episode_return=50, return=27.400]\n",
      "Iteration 1: 100%|██████████| 50/50 [00:00<00:00, 76.23it/s, episode_return=100, return=26.100]\n",
      "Iteration 2: 100%|██████████| 50/50 [00:00<00:00, 68.96it/s, episode_return=150, return=20.300]\n",
      "Iteration 3: 100%|██████████| 50/50 [00:00<00:00, 71.93it/s, episode_return=200, return=23.300]\n",
      "Iteration 4: 100%|██████████| 50/50 [00:00<00:00, 55.66it/s, episode_return=250, return=22.500]\n",
      "Iteration 5: 100%|██████████| 50/50 [00:01<00:00, 42.24it/s, episode_return=300, return=36.900]\n",
      "Iteration 6: 100%|██████████| 50/50 [00:01<00:00, 40.89it/s, episode_return=350, return=29.300]\n",
      "Iteration 7: 100%|██████████| 50/50 [00:01<00:00, 41.27it/s, episode_return=400, return=28.700]\n",
      "Iteration 8: 100%|██████████| 50/50 [00:01<00:00, 48.32it/s, episode_return=450, return=29.700]\n",
      "Iteration 9: 100%|██████████| 50/50 [00:01<00:00, 45.76it/s, episode_return=500, return=31.100]\n"
     ]
    },
    {
     "data": {
      "application/vnd.jupyter.widget-view+json": {
       "model_id": "8fdf6fb706e445039fce78766a02cf22",
       "version_major": 2,
       "version_minor": 0
      },
      "text/plain": [
       "VBox(children=(Label(value='0.001 MB of 0.001 MB uploaded\\r'), FloatProgress(value=1.0, max=1.0)))"
      ]
     },
     "metadata": {},
     "output_type": "display_data"
    },
    {
     "data": {
      "text/html": [
       "<style>\n",
       "    table.wandb td:nth-child(1) { padding: 0 10px; text-align: left ; width: auto;} td:nth-child(2) {text-align: left ; width: 100%}\n",
       "    .wandb-row { display: flex; flex-direction: row; flex-wrap: wrap; justify-content: flex-start; width: 100% }\n",
       "    .wandb-col { display: flex; flex-direction: column; flex-basis: 100%; flex: 1; padding: 10px; }\n",
       "    </style>\n",
       "<div class=\"wandb-row\"><div class=\"wandb-col\"><h3>Run history:</h3><br/><table class=\"wandb\"><tr><td>regret</td><td>▁</td></tr></table><br/></div><div class=\"wandb-col\"><h3>Run summary:</h3><br/><table class=\"wandb\"><tr><td>regret</td><td>83839.84559</td></tr></table><br/></div></div>"
      ],
      "text/plain": [
       "<IPython.core.display.HTML object>"
      ]
     },
     "metadata": {},
     "output_type": "display_data"
    },
    {
     "data": {
      "text/html": [
       " View run <strong style=\"color:#cdcd00\">olive-sweep-120</strong> at: <a href='https://wandb.ai/rl_shobhith/uncategorized/runs/vdyt60lg/workspace' target=\"_blank\">https://wandb.ai/rl_shobhith/uncategorized/runs/vdyt60lg/workspace</a><br/>Synced 5 W&B file(s), 0 media file(s), 0 artifact file(s) and 0 other file(s)"
      ],
      "text/plain": [
       "<IPython.core.display.HTML object>"
      ]
     },
     "metadata": {},
     "output_type": "display_data"
    },
    {
     "data": {
      "text/html": [
       "Find logs at: <code>.\\wandb\\run-20240401_233010-vdyt60lg\\logs</code>"
      ],
      "text/plain": [
       "<IPython.core.display.HTML object>"
      ]
     },
     "metadata": {},
     "output_type": "display_data"
    },
    {
     "name": "stderr",
     "output_type": "stream",
     "text": [
      "\u001b[34m\u001b[1mwandb\u001b[0m: Agent Starting Run: d1v5q2p6 with config:\n",
      "\u001b[34m\u001b[1mwandb\u001b[0m: \thidden_dim: 128\n",
      "\u001b[34m\u001b[1mwandb\u001b[0m: \tlearning_rate: 0.000346614463183325\n",
      "Failed to detect the name of this notebook, you can set it manually with the WANDB_NOTEBOOK_NAME environment variable to enable code saving.\n"
     ]
    },
    {
     "data": {
      "text/html": [
       "Tracking run with wandb version 0.16.5"
      ],
      "text/plain": [
       "<IPython.core.display.HTML object>"
      ]
     },
     "metadata": {},
     "output_type": "display_data"
    },
    {
     "data": {
      "text/html": [
       "Run data is saved locally in <code>c:\\Users\\Shobhith Vadlamudi\\Desktop\\3rd Year\\SEM 6\\RL\\wandb\\run-20240401_233031-d1v5q2p6</code>"
      ],
      "text/plain": [
       "<IPython.core.display.HTML object>"
      ]
     },
     "metadata": {},
     "output_type": "display_data"
    },
    {
     "data": {
      "text/html": [
       "Syncing run <strong><a href='https://wandb.ai/rl_shobhith/uncategorized/runs/d1v5q2p6/workspace' target=\"_blank\">dulcet-sweep-121</a></strong> to <a href='https://wandb.ai/rl_shobhith/uncategorized' target=\"_blank\">Weights & Biases</a> (<a href='https://wandb.me/run' target=\"_blank\">docs</a>)<br/>Sweep page: <a href='https://wandb.ai/rl_shobhith/uncategorized/sweeps/ebygp3ca' target=\"_blank\">https://wandb.ai/rl_shobhith/uncategorized/sweeps/ebygp3ca</a>"
      ],
      "text/plain": [
       "<IPython.core.display.HTML object>"
      ]
     },
     "metadata": {},
     "output_type": "display_data"
    },
    {
     "data": {
      "text/html": [
       " View project at <a href='https://wandb.ai/rl_shobhith/uncategorized' target=\"_blank\">https://wandb.ai/rl_shobhith/uncategorized</a>"
      ],
      "text/plain": [
       "<IPython.core.display.HTML object>"
      ]
     },
     "metadata": {},
     "output_type": "display_data"
    },
    {
     "data": {
      "text/html": [
       " View sweep at <a href='https://wandb.ai/rl_shobhith/uncategorized/sweeps/ebygp3ca' target=\"_blank\">https://wandb.ai/rl_shobhith/uncategorized/sweeps/ebygp3ca</a>"
      ],
      "text/plain": [
       "<IPython.core.display.HTML object>"
      ]
     },
     "metadata": {},
     "output_type": "display_data"
    },
    {
     "data": {
      "text/html": [
       " View run at <a href='https://wandb.ai/rl_shobhith/uncategorized/runs/d1v5q2p6/workspace' target=\"_blank\">https://wandb.ai/rl_shobhith/uncategorized/runs/d1v5q2p6/workspace</a>"
      ],
      "text/plain": [
       "<IPython.core.display.HTML object>"
      ]
     },
     "metadata": {},
     "output_type": "display_data"
    },
    {
     "name": "stderr",
     "output_type": "stream",
     "text": [
      "Iteration 0: 100%|██████████| 50/50 [00:00<00:00, 63.80it/s, episode_return=50, return=24.300]\n",
      "Iteration 1: 100%|██████████| 50/50 [00:00<00:00, 63.39it/s, episode_return=100, return=24.800]\n",
      "Iteration 2: 100%|██████████| 50/50 [00:01<00:00, 33.57it/s, episode_return=150, return=30.000]\n",
      "Iteration 3: 100%|██████████| 50/50 [00:01<00:00, 29.60it/s, episode_return=200, return=41.100]\n",
      "Iteration 4: 100%|██████████| 50/50 [00:02<00:00, 23.83it/s, episode_return=250, return=62.500]\n",
      "Iteration 5: 100%|██████████| 50/50 [00:02<00:00, 21.22it/s, episode_return=300, return=56.000]\n",
      "Iteration 6: 100%|██████████| 50/50 [00:02<00:00, 20.24it/s, episode_return=350, return=50.400]\n",
      "Iteration 7: 100%|██████████| 50/50 [00:02<00:00, 19.71it/s, episode_return=400, return=58.700]\n",
      "Iteration 8: 100%|██████████| 50/50 [00:02<00:00, 18.89it/s, episode_return=450, return=71.600]\n",
      "Iteration 9: 100%|██████████| 50/50 [00:03<00:00, 15.79it/s, episode_return=500, return=57.900] \n"
     ]
    },
    {
     "data": {
      "application/vnd.jupyter.widget-view+json": {
       "model_id": "3c1571b6815a4cea8ca110ef7cb689c2",
       "version_major": 2,
       "version_minor": 0
      },
      "text/plain": [
       "VBox(children=(Label(value='0.001 MB of 0.001 MB uploaded\\r'), FloatProgress(value=1.0, max=1.0)))"
      ]
     },
     "metadata": {},
     "output_type": "display_data"
    },
    {
     "data": {
      "text/html": [
       "<style>\n",
       "    table.wandb td:nth-child(1) { padding: 0 10px; text-align: left ; width: auto;} td:nth-child(2) {text-align: left ; width: 100%}\n",
       "    .wandb-row { display: flex; flex-direction: row; flex-wrap: wrap; justify-content: flex-start; width: 100% }\n",
       "    .wandb-col { display: flex; flex-direction: column; flex-basis: 100%; flex: 1; padding: 10px; }\n",
       "    </style>\n",
       "<div class=\"wandb-row\"><div class=\"wandb-col\"><h3>Run history:</h3><br/><table class=\"wandb\"><tr><td>regret</td><td>▁</td></tr></table><br/></div><div class=\"wandb-col\"><h3>Run summary:</h3><br/><table class=\"wandb\"><tr><td>regret</td><td>76636.28884</td></tr></table><br/></div></div>"
      ],
      "text/plain": [
       "<IPython.core.display.HTML object>"
      ]
     },
     "metadata": {},
     "output_type": "display_data"
    },
    {
     "data": {
      "text/html": [
       " View run <strong style=\"color:#cdcd00\">dulcet-sweep-121</strong> at: <a href='https://wandb.ai/rl_shobhith/uncategorized/runs/d1v5q2p6/workspace' target=\"_blank\">https://wandb.ai/rl_shobhith/uncategorized/runs/d1v5q2p6/workspace</a><br/>Synced 5 W&B file(s), 0 media file(s), 0 artifact file(s) and 0 other file(s)"
      ],
      "text/plain": [
       "<IPython.core.display.HTML object>"
      ]
     },
     "metadata": {},
     "output_type": "display_data"
    },
    {
     "data": {
      "text/html": [
       "Find logs at: <code>.\\wandb\\run-20240401_233031-d1v5q2p6\\logs</code>"
      ],
      "text/plain": [
       "<IPython.core.display.HTML object>"
      ]
     },
     "metadata": {},
     "output_type": "display_data"
    },
    {
     "name": "stderr",
     "output_type": "stream",
     "text": [
      "\u001b[34m\u001b[1mwandb\u001b[0m: Agent Starting Run: r2uoyrnb with config:\n",
      "\u001b[34m\u001b[1mwandb\u001b[0m: \thidden_dim: 256\n",
      "\u001b[34m\u001b[1mwandb\u001b[0m: \tlearning_rate: 0.0009498373940206764\n",
      "Failed to detect the name of this notebook, you can set it manually with the WANDB_NOTEBOOK_NAME environment variable to enable code saving.\n"
     ]
    },
    {
     "data": {
      "text/html": [
       "Tracking run with wandb version 0.16.5"
      ],
      "text/plain": [
       "<IPython.core.display.HTML object>"
      ]
     },
     "metadata": {},
     "output_type": "display_data"
    },
    {
     "data": {
      "text/html": [
       "Run data is saved locally in <code>c:\\Users\\Shobhith Vadlamudi\\Desktop\\3rd Year\\SEM 6\\RL\\wandb\\run-20240401_233104-r2uoyrnb</code>"
      ],
      "text/plain": [
       "<IPython.core.display.HTML object>"
      ]
     },
     "metadata": {},
     "output_type": "display_data"
    },
    {
     "data": {
      "text/html": [
       "Syncing run <strong><a href='https://wandb.ai/rl_shobhith/uncategorized/runs/r2uoyrnb/workspace' target=\"_blank\">atomic-sweep-122</a></strong> to <a href='https://wandb.ai/rl_shobhith/uncategorized' target=\"_blank\">Weights & Biases</a> (<a href='https://wandb.me/run' target=\"_blank\">docs</a>)<br/>Sweep page: <a href='https://wandb.ai/rl_shobhith/uncategorized/sweeps/ebygp3ca' target=\"_blank\">https://wandb.ai/rl_shobhith/uncategorized/sweeps/ebygp3ca</a>"
      ],
      "text/plain": [
       "<IPython.core.display.HTML object>"
      ]
     },
     "metadata": {},
     "output_type": "display_data"
    },
    {
     "data": {
      "text/html": [
       " View project at <a href='https://wandb.ai/rl_shobhith/uncategorized' target=\"_blank\">https://wandb.ai/rl_shobhith/uncategorized</a>"
      ],
      "text/plain": [
       "<IPython.core.display.HTML object>"
      ]
     },
     "metadata": {},
     "output_type": "display_data"
    },
    {
     "data": {
      "text/html": [
       " View sweep at <a href='https://wandb.ai/rl_shobhith/uncategorized/sweeps/ebygp3ca' target=\"_blank\">https://wandb.ai/rl_shobhith/uncategorized/sweeps/ebygp3ca</a>"
      ],
      "text/plain": [
       "<IPython.core.display.HTML object>"
      ]
     },
     "metadata": {},
     "output_type": "display_data"
    },
    {
     "data": {
      "text/html": [
       " View run at <a href='https://wandb.ai/rl_shobhith/uncategorized/runs/r2uoyrnb/workspace' target=\"_blank\">https://wandb.ai/rl_shobhith/uncategorized/runs/r2uoyrnb/workspace</a>"
      ],
      "text/plain": [
       "<IPython.core.display.HTML object>"
      ]
     },
     "metadata": {},
     "output_type": "display_data"
    },
    {
     "name": "stderr",
     "output_type": "stream",
     "text": [
      "Iteration 0: 100%|██████████| 50/50 [00:00<00:00, 53.85it/s, episode_return=50, return=42.300]\n",
      "Iteration 1: 100%|██████████| 50/50 [00:02<00:00, 17.21it/s, episode_return=100, return=73.800]\n",
      "Iteration 2: 100%|██████████| 50/50 [00:05<00:00,  9.29it/s, episode_return=150, return=130.800]\n",
      "Iteration 3: 100%|██████████| 50/50 [00:10<00:00,  4.97it/s, episode_return=200, return=260.400]\n",
      "Iteration 4: 100%|██████████| 50/50 [00:13<00:00,  3.83it/s, episode_return=250, return=338.600]\n",
      "Iteration 5: 100%|██████████| 50/50 [00:15<00:00,  3.15it/s, episode_return=300, return=371.800]\n",
      "Iteration 6: 100%|██████████| 50/50 [00:14<00:00,  3.48it/s, episode_return=350, return=391.200]\n",
      "Iteration 7: 100%|██████████| 50/50 [00:17<00:00,  2.86it/s, episode_return=400, return=205.100]\n",
      "Iteration 8: 100%|██████████| 50/50 [00:13<00:00,  3.76it/s, episode_return=450, return=429.700]\n",
      "Iteration 9: 100%|██████████| 50/50 [00:18<00:00,  2.70it/s, episode_return=500, return=404.200]\n"
     ]
    },
    {
     "data": {
      "application/vnd.jupyter.widget-view+json": {
       "model_id": "6d1e17740c284f92a674e612cef5a850",
       "version_major": 2,
       "version_minor": 0
      },
      "text/plain": [
       "VBox(children=(Label(value='0.001 MB of 0.001 MB uploaded\\r'), FloatProgress(value=1.0, max=1.0)))"
      ]
     },
     "metadata": {},
     "output_type": "display_data"
    },
    {
     "data": {
      "text/html": [
       "<style>\n",
       "    table.wandb td:nth-child(1) { padding: 0 10px; text-align: left ; width: auto;} td:nth-child(2) {text-align: left ; width: 100%}\n",
       "    .wandb-row { display: flex; flex-direction: row; flex-wrap: wrap; justify-content: flex-start; width: 100% }\n",
       "    .wandb-col { display: flex; flex-direction: column; flex-basis: 100%; flex: 1; padding: 10px; }\n",
       "    </style>\n",
       "<div class=\"wandb-row\"><div class=\"wandb-col\"><h3>Run history:</h3><br/><table class=\"wandb\"><tr><td>regret</td><td>▁</td></tr></table><br/></div><div class=\"wandb-col\"><h3>Run summary:</h3><br/><table class=\"wandb\"><tr><td>regret</td><td>27160.24163</td></tr></table><br/></div></div>"
      ],
      "text/plain": [
       "<IPython.core.display.HTML object>"
      ]
     },
     "metadata": {},
     "output_type": "display_data"
    },
    {
     "data": {
      "text/html": [
       " View run <strong style=\"color:#cdcd00\">atomic-sweep-122</strong> at: <a href='https://wandb.ai/rl_shobhith/uncategorized/runs/r2uoyrnb/workspace' target=\"_blank\">https://wandb.ai/rl_shobhith/uncategorized/runs/r2uoyrnb/workspace</a><br/>Synced 5 W&B file(s), 0 media file(s), 0 artifact file(s) and 0 other file(s)"
      ],
      "text/plain": [
       "<IPython.core.display.HTML object>"
      ]
     },
     "metadata": {},
     "output_type": "display_data"
    },
    {
     "data": {
      "text/html": [
       "Find logs at: <code>.\\wandb\\run-20240401_233104-r2uoyrnb\\logs</code>"
      ],
      "text/plain": [
       "<IPython.core.display.HTML object>"
      ]
     },
     "metadata": {},
     "output_type": "display_data"
    },
    {
     "name": "stderr",
     "output_type": "stream",
     "text": [
      "\u001b[34m\u001b[1mwandb\u001b[0m: Agent Starting Run: nanls002 with config:\n",
      "\u001b[34m\u001b[1mwandb\u001b[0m: \thidden_dim: 64\n",
      "\u001b[34m\u001b[1mwandb\u001b[0m: \tlearning_rate: 0.0004477112013392691\n",
      "Failed to detect the name of this notebook, you can set it manually with the WANDB_NOTEBOOK_NAME environment variable to enable code saving.\n"
     ]
    },
    {
     "data": {
      "text/html": [
       "Tracking run with wandb version 0.16.5"
      ],
      "text/plain": [
       "<IPython.core.display.HTML object>"
      ]
     },
     "metadata": {},
     "output_type": "display_data"
    },
    {
     "data": {
      "text/html": [
       "Run data is saved locally in <code>c:\\Users\\Shobhith Vadlamudi\\Desktop\\3rd Year\\SEM 6\\RL\\wandb\\run-20240401_233306-nanls002</code>"
      ],
      "text/plain": [
       "<IPython.core.display.HTML object>"
      ]
     },
     "metadata": {},
     "output_type": "display_data"
    },
    {
     "data": {
      "text/html": [
       "Syncing run <strong><a href='https://wandb.ai/rl_shobhith/uncategorized/runs/nanls002/workspace' target=\"_blank\">driven-sweep-123</a></strong> to <a href='https://wandb.ai/rl_shobhith/uncategorized' target=\"_blank\">Weights & Biases</a> (<a href='https://wandb.me/run' target=\"_blank\">docs</a>)<br/>Sweep page: <a href='https://wandb.ai/rl_shobhith/uncategorized/sweeps/ebygp3ca' target=\"_blank\">https://wandb.ai/rl_shobhith/uncategorized/sweeps/ebygp3ca</a>"
      ],
      "text/plain": [
       "<IPython.core.display.HTML object>"
      ]
     },
     "metadata": {},
     "output_type": "display_data"
    },
    {
     "data": {
      "text/html": [
       " View project at <a href='https://wandb.ai/rl_shobhith/uncategorized' target=\"_blank\">https://wandb.ai/rl_shobhith/uncategorized</a>"
      ],
      "text/plain": [
       "<IPython.core.display.HTML object>"
      ]
     },
     "metadata": {},
     "output_type": "display_data"
    },
    {
     "data": {
      "text/html": [
       " View sweep at <a href='https://wandb.ai/rl_shobhith/uncategorized/sweeps/ebygp3ca' target=\"_blank\">https://wandb.ai/rl_shobhith/uncategorized/sweeps/ebygp3ca</a>"
      ],
      "text/plain": [
       "<IPython.core.display.HTML object>"
      ]
     },
     "metadata": {},
     "output_type": "display_data"
    },
    {
     "data": {
      "text/html": [
       " View run at <a href='https://wandb.ai/rl_shobhith/uncategorized/runs/nanls002/workspace' target=\"_blank\">https://wandb.ai/rl_shobhith/uncategorized/runs/nanls002/workspace</a>"
      ],
      "text/plain": [
       "<IPython.core.display.HTML object>"
      ]
     },
     "metadata": {},
     "output_type": "display_data"
    },
    {
     "name": "stderr",
     "output_type": "stream",
     "text": [
      "Iteration 0: 100%|██████████| 50/50 [00:00<00:00, 63.37it/s, episode_return=50, return=37.000]\n",
      "Iteration 1: 100%|██████████| 50/50 [00:00<00:00, 56.82it/s, episode_return=100, return=43.200]\n",
      "Iteration 2: 100%|██████████| 50/50 [00:01<00:00, 47.33it/s, episode_return=150, return=35.700]\n",
      "Iteration 3: 100%|██████████| 50/50 [00:01<00:00, 39.81it/s, episode_return=200, return=39.100]\n",
      "Iteration 4: 100%|██████████| 50/50 [00:01<00:00, 32.37it/s, episode_return=250, return=47.900]\n",
      "Iteration 5: 100%|██████████| 50/50 [00:01<00:00, 26.50it/s, episode_return=300, return=46.900]\n",
      "Iteration 6: 100%|██████████| 50/50 [00:01<00:00, 27.43it/s, episode_return=350, return=57.200]\n",
      "Iteration 7: 100%|██████████| 50/50 [00:02<00:00, 22.18it/s, episode_return=400, return=77.500]\n",
      "Iteration 8: 100%|██████████| 50/50 [00:02<00:00, 23.24it/s, episode_return=450, return=71.300]\n",
      "Iteration 9: 100%|██████████| 50/50 [00:02<00:00, 18.87it/s, episode_return=500, return=64.800]\n"
     ]
    },
    {
     "data": {
      "application/vnd.jupyter.widget-view+json": {
       "model_id": "ed4ea390ebf644b19620f61d4f000290",
       "version_major": 2,
       "version_minor": 0
      },
      "text/plain": [
       "VBox(children=(Label(value='0.001 MB of 0.001 MB uploaded\\r'), FloatProgress(value=1.0, max=1.0)))"
      ]
     },
     "metadata": {},
     "output_type": "display_data"
    },
    {
     "data": {
      "text/html": [
       "<style>\n",
       "    table.wandb td:nth-child(1) { padding: 0 10px; text-align: left ; width: auto;} td:nth-child(2) {text-align: left ; width: 100%}\n",
       "    .wandb-row { display: flex; flex-direction: row; flex-wrap: wrap; justify-content: flex-start; width: 100% }\n",
       "    .wandb-col { display: flex; flex-direction: column; flex-basis: 100%; flex: 1; padding: 10px; }\n",
       "    </style>\n",
       "<div class=\"wandb-row\"><div class=\"wandb-col\"><h3>Run history:</h3><br/><table class=\"wandb\"><tr><td>regret</td><td>▁</td></tr></table><br/></div><div class=\"wandb-col\"><h3>Run summary:</h3><br/><table class=\"wandb\"><tr><td>regret</td><td>75448.11978</td></tr></table><br/></div></div>"
      ],
      "text/plain": [
       "<IPython.core.display.HTML object>"
      ]
     },
     "metadata": {},
     "output_type": "display_data"
    },
    {
     "data": {
      "text/html": [
       " View run <strong style=\"color:#cdcd00\">driven-sweep-123</strong> at: <a href='https://wandb.ai/rl_shobhith/uncategorized/runs/nanls002/workspace' target=\"_blank\">https://wandb.ai/rl_shobhith/uncategorized/runs/nanls002/workspace</a><br/>Synced 5 W&B file(s), 0 media file(s), 0 artifact file(s) and 0 other file(s)"
      ],
      "text/plain": [
       "<IPython.core.display.HTML object>"
      ]
     },
     "metadata": {},
     "output_type": "display_data"
    },
    {
     "data": {
      "text/html": [
       "Find logs at: <code>.\\wandb\\run-20240401_233306-nanls002\\logs</code>"
      ],
      "text/plain": [
       "<IPython.core.display.HTML object>"
      ]
     },
     "metadata": {},
     "output_type": "display_data"
    },
    {
     "name": "stderr",
     "output_type": "stream",
     "text": [
      "\u001b[34m\u001b[1mwandb\u001b[0m: Agent Starting Run: pbplcki1 with config:\n",
      "\u001b[34m\u001b[1mwandb\u001b[0m: \thidden_dim: 64\n",
      "\u001b[34m\u001b[1mwandb\u001b[0m: \tlearning_rate: 0.0002160681849909195\n",
      "Failed to detect the name of this notebook, you can set it manually with the WANDB_NOTEBOOK_NAME environment variable to enable code saving.\n"
     ]
    },
    {
     "data": {
      "text/html": [
       "Tracking run with wandb version 0.16.5"
      ],
      "text/plain": [
       "<IPython.core.display.HTML object>"
      ]
     },
     "metadata": {},
     "output_type": "display_data"
    },
    {
     "data": {
      "text/html": [
       "Run data is saved locally in <code>c:\\Users\\Shobhith Vadlamudi\\Desktop\\3rd Year\\SEM 6\\RL\\wandb\\run-20240401_233333-pbplcki1</code>"
      ],
      "text/plain": [
       "<IPython.core.display.HTML object>"
      ]
     },
     "metadata": {},
     "output_type": "display_data"
    },
    {
     "data": {
      "text/html": [
       "Syncing run <strong><a href='https://wandb.ai/rl_shobhith/uncategorized/runs/pbplcki1/workspace' target=\"_blank\">deep-sweep-124</a></strong> to <a href='https://wandb.ai/rl_shobhith/uncategorized' target=\"_blank\">Weights & Biases</a> (<a href='https://wandb.me/run' target=\"_blank\">docs</a>)<br/>Sweep page: <a href='https://wandb.ai/rl_shobhith/uncategorized/sweeps/ebygp3ca' target=\"_blank\">https://wandb.ai/rl_shobhith/uncategorized/sweeps/ebygp3ca</a>"
      ],
      "text/plain": [
       "<IPython.core.display.HTML object>"
      ]
     },
     "metadata": {},
     "output_type": "display_data"
    },
    {
     "data": {
      "text/html": [
       " View project at <a href='https://wandb.ai/rl_shobhith/uncategorized' target=\"_blank\">https://wandb.ai/rl_shobhith/uncategorized</a>"
      ],
      "text/plain": [
       "<IPython.core.display.HTML object>"
      ]
     },
     "metadata": {},
     "output_type": "display_data"
    },
    {
     "data": {
      "text/html": [
       " View sweep at <a href='https://wandb.ai/rl_shobhith/uncategorized/sweeps/ebygp3ca' target=\"_blank\">https://wandb.ai/rl_shobhith/uncategorized/sweeps/ebygp3ca</a>"
      ],
      "text/plain": [
       "<IPython.core.display.HTML object>"
      ]
     },
     "metadata": {},
     "output_type": "display_data"
    },
    {
     "data": {
      "text/html": [
       " View run at <a href='https://wandb.ai/rl_shobhith/uncategorized/runs/pbplcki1/workspace' target=\"_blank\">https://wandb.ai/rl_shobhith/uncategorized/runs/pbplcki1/workspace</a>"
      ],
      "text/plain": [
       "<IPython.core.display.HTML object>"
      ]
     },
     "metadata": {},
     "output_type": "display_data"
    },
    {
     "name": "stderr",
     "output_type": "stream",
     "text": [
      "Iteration 0: 100%|██████████| 50/50 [00:00<00:00, 71.54it/s, episode_return=50, return=23.600]\n",
      "Iteration 1: 100%|██████████| 50/50 [00:00<00:00, 62.22it/s, episode_return=100, return=20.700]\n",
      "Iteration 2: 100%|██████████| 50/50 [00:01<00:00, 47.11it/s, episode_return=150, return=23.600]\n",
      "Iteration 3: 100%|██████████| 50/50 [00:01<00:00, 44.09it/s, episode_return=200, return=18.200]\n",
      "Iteration 4: 100%|██████████| 50/50 [00:01<00:00, 38.46it/s, episode_return=250, return=22.300]\n",
      "Iteration 5: 100%|██████████| 50/50 [00:01<00:00, 43.39it/s, episode_return=300, return=33.900]\n",
      "Iteration 6: 100%|██████████| 50/50 [00:01<00:00, 48.51it/s, episode_return=350, return=19.700]\n",
      "Iteration 7: 100%|██████████| 50/50 [00:01<00:00, 49.55it/s, episode_return=400, return=34.400]\n",
      "Iteration 8: 100%|██████████| 50/50 [00:01<00:00, 40.90it/s, episode_return=450, return=37.300]\n",
      "Iteration 9: 100%|██████████| 50/50 [00:01<00:00, 43.00it/s, episode_return=500, return=37.300]\n"
     ]
    },
    {
     "data": {
      "application/vnd.jupyter.widget-view+json": {
       "model_id": "b498a70899a349898ddf76d256273989",
       "version_major": 2,
       "version_minor": 0
      },
      "text/plain": [
       "VBox(children=(Label(value='0.001 MB of 0.001 MB uploaded\\r'), FloatProgress(value=1.0, max=1.0)))"
      ]
     },
     "metadata": {},
     "output_type": "display_data"
    },
    {
     "data": {
      "text/html": [
       "<style>\n",
       "    table.wandb td:nth-child(1) { padding: 0 10px; text-align: left ; width: auto;} td:nth-child(2) {text-align: left ; width: 100%}\n",
       "    .wandb-row { display: flex; flex-direction: row; flex-wrap: wrap; justify-content: flex-start; width: 100% }\n",
       "    .wandb-col { display: flex; flex-direction: column; flex-basis: 100%; flex: 1; padding: 10px; }\n",
       "    </style>\n",
       "<div class=\"wandb-row\"><div class=\"wandb-col\"><h3>Run history:</h3><br/><table class=\"wandb\"><tr><td>regret</td><td>▁</td></tr></table><br/></div><div class=\"wandb-col\"><h3>Run summary:</h3><br/><table class=\"wandb\"><tr><td>regret</td><td>84634.80973</td></tr></table><br/></div></div>"
      ],
      "text/plain": [
       "<IPython.core.display.HTML object>"
      ]
     },
     "metadata": {},
     "output_type": "display_data"
    },
    {
     "data": {
      "text/html": [
       " View run <strong style=\"color:#cdcd00\">deep-sweep-124</strong> at: <a href='https://wandb.ai/rl_shobhith/uncategorized/runs/pbplcki1/workspace' target=\"_blank\">https://wandb.ai/rl_shobhith/uncategorized/runs/pbplcki1/workspace</a><br/>Synced 5 W&B file(s), 0 media file(s), 0 artifact file(s) and 0 other file(s)"
      ],
      "text/plain": [
       "<IPython.core.display.HTML object>"
      ]
     },
     "metadata": {},
     "output_type": "display_data"
    },
    {
     "data": {
      "text/html": [
       "Find logs at: <code>.\\wandb\\run-20240401_233333-pbplcki1\\logs</code>"
      ],
      "text/plain": [
       "<IPython.core.display.HTML object>"
      ]
     },
     "metadata": {},
     "output_type": "display_data"
    },
    {
     "name": "stderr",
     "output_type": "stream",
     "text": [
      "\u001b[34m\u001b[1mwandb\u001b[0m: Agent Starting Run: 9qch9x7y with config:\n",
      "\u001b[34m\u001b[1mwandb\u001b[0m: \thidden_dim: 256\n",
      "\u001b[34m\u001b[1mwandb\u001b[0m: \tlearning_rate: 0.0007364313480407701\n",
      "Failed to detect the name of this notebook, you can set it manually with the WANDB_NOTEBOOK_NAME environment variable to enable code saving.\n"
     ]
    },
    {
     "data": {
      "text/html": [
       "Tracking run with wandb version 0.16.5"
      ],
      "text/plain": [
       "<IPython.core.display.HTML object>"
      ]
     },
     "metadata": {},
     "output_type": "display_data"
    },
    {
     "data": {
      "text/html": [
       "Run data is saved locally in <code>c:\\Users\\Shobhith Vadlamudi\\Desktop\\3rd Year\\SEM 6\\RL\\wandb\\run-20240401_233356-9qch9x7y</code>"
      ],
      "text/plain": [
       "<IPython.core.display.HTML object>"
      ]
     },
     "metadata": {},
     "output_type": "display_data"
    },
    {
     "data": {
      "text/html": [
       "Syncing run <strong><a href='https://wandb.ai/rl_shobhith/uncategorized/runs/9qch9x7y/workspace' target=\"_blank\">dainty-sweep-125</a></strong> to <a href='https://wandb.ai/rl_shobhith/uncategorized' target=\"_blank\">Weights & Biases</a> (<a href='https://wandb.me/run' target=\"_blank\">docs</a>)<br/>Sweep page: <a href='https://wandb.ai/rl_shobhith/uncategorized/sweeps/ebygp3ca' target=\"_blank\">https://wandb.ai/rl_shobhith/uncategorized/sweeps/ebygp3ca</a>"
      ],
      "text/plain": [
       "<IPython.core.display.HTML object>"
      ]
     },
     "metadata": {},
     "output_type": "display_data"
    },
    {
     "data": {
      "text/html": [
       " View project at <a href='https://wandb.ai/rl_shobhith/uncategorized' target=\"_blank\">https://wandb.ai/rl_shobhith/uncategorized</a>"
      ],
      "text/plain": [
       "<IPython.core.display.HTML object>"
      ]
     },
     "metadata": {},
     "output_type": "display_data"
    },
    {
     "data": {
      "text/html": [
       " View sweep at <a href='https://wandb.ai/rl_shobhith/uncategorized/sweeps/ebygp3ca' target=\"_blank\">https://wandb.ai/rl_shobhith/uncategorized/sweeps/ebygp3ca</a>"
      ],
      "text/plain": [
       "<IPython.core.display.HTML object>"
      ]
     },
     "metadata": {},
     "output_type": "display_data"
    },
    {
     "data": {
      "text/html": [
       " View run at <a href='https://wandb.ai/rl_shobhith/uncategorized/runs/9qch9x7y/workspace' target=\"_blank\">https://wandb.ai/rl_shobhith/uncategorized/runs/9qch9x7y/workspace</a>"
      ],
      "text/plain": [
       "<IPython.core.display.HTML object>"
      ]
     },
     "metadata": {},
     "output_type": "display_data"
    },
    {
     "name": "stderr",
     "output_type": "stream",
     "text": [
      "Iteration 0: 100%|██████████| 50/50 [00:01<00:00, 29.61it/s, episode_return=50, return=33.900]\n",
      "Iteration 1: 100%|██████████| 50/50 [00:02<00:00, 19.55it/s, episode_return=100, return=43.100]\n",
      "Iteration 2: 100%|██████████| 50/50 [00:03<00:00, 13.21it/s, episode_return=150, return=78.600]\n",
      "Iteration 3: 100%|██████████| 50/50 [00:06<00:00,  7.55it/s, episode_return=200, return=216.800]\n",
      "Iteration 4: 100%|██████████| 50/50 [00:10<00:00,  4.91it/s, episode_return=250, return=256.300]\n",
      "Iteration 5: 100%|██████████| 50/50 [00:13<00:00,  3.78it/s, episode_return=300, return=304.500]\n",
      "Iteration 6: 100%|██████████| 50/50 [00:10<00:00,  4.84it/s, episode_return=350, return=163.800]\n",
      "Iteration 7: 100%|██████████| 50/50 [00:11<00:00,  4.27it/s, episode_return=400, return=241.500]\n",
      "Iteration 8: 100%|██████████| 50/50 [00:11<00:00,  4.24it/s, episode_return=450, return=261.300]\n",
      "Iteration 9: 100%|██████████| 50/50 [00:11<00:00,  4.47it/s, episode_return=500, return=325.500]\n"
     ]
    },
    {
     "data": {
      "application/vnd.jupyter.widget-view+json": {
       "model_id": "ac07235d7da5441683a3bb945b2af16e",
       "version_major": 2,
       "version_minor": 0
      },
      "text/plain": [
       "VBox(children=(Label(value='0.001 MB of 0.001 MB uploaded\\r'), FloatProgress(value=1.0, max=1.0)))"
      ]
     },
     "metadata": {},
     "output_type": "display_data"
    },
    {
     "data": {
      "text/html": [
       "<style>\n",
       "    table.wandb td:nth-child(1) { padding: 0 10px; text-align: left ; width: auto;} td:nth-child(2) {text-align: left ; width: 100%}\n",
       "    .wandb-row { display: flex; flex-direction: row; flex-wrap: wrap; justify-content: flex-start; width: 100% }\n",
       "    .wandb-col { display: flex; flex-direction: column; flex-basis: 100%; flex: 1; padding: 10px; }\n",
       "    </style>\n",
       "<div class=\"wandb-row\"><div class=\"wandb-col\"><h3>Run history:</h3><br/><table class=\"wandb\"><tr><td>regret</td><td>▁</td></tr></table><br/></div><div class=\"wandb-col\"><h3>Run summary:</h3><br/><table class=\"wandb\"><tr><td>regret</td><td>33309.47028</td></tr></table><br/></div></div>"
      ],
      "text/plain": [
       "<IPython.core.display.HTML object>"
      ]
     },
     "metadata": {},
     "output_type": "display_data"
    },
    {
     "data": {
      "text/html": [
       " View run <strong style=\"color:#cdcd00\">dainty-sweep-125</strong> at: <a href='https://wandb.ai/rl_shobhith/uncategorized/runs/9qch9x7y/workspace' target=\"_blank\">https://wandb.ai/rl_shobhith/uncategorized/runs/9qch9x7y/workspace</a><br/>Synced 5 W&B file(s), 0 media file(s), 0 artifact file(s) and 0 other file(s)"
      ],
      "text/plain": [
       "<IPython.core.display.HTML object>"
      ]
     },
     "metadata": {},
     "output_type": "display_data"
    },
    {
     "data": {
      "text/html": [
       "Find logs at: <code>.\\wandb\\run-20240401_233356-9qch9x7y\\logs</code>"
      ],
      "text/plain": [
       "<IPython.core.display.HTML object>"
      ]
     },
     "metadata": {},
     "output_type": "display_data"
    },
    {
     "name": "stderr",
     "output_type": "stream",
     "text": [
      "\u001b[34m\u001b[1mwandb\u001b[0m: Agent Starting Run: c2iref0z with config:\n",
      "\u001b[34m\u001b[1mwandb\u001b[0m: \thidden_dim: 128\n",
      "\u001b[34m\u001b[1mwandb\u001b[0m: \tlearning_rate: 0.0003421371634237181\n",
      "Failed to detect the name of this notebook, you can set it manually with the WANDB_NOTEBOOK_NAME environment variable to enable code saving.\n"
     ]
    },
    {
     "data": {
      "text/html": [
       "Tracking run with wandb version 0.16.5"
      ],
      "text/plain": [
       "<IPython.core.display.HTML object>"
      ]
     },
     "metadata": {},
     "output_type": "display_data"
    },
    {
     "data": {
      "text/html": [
       "Run data is saved locally in <code>c:\\Users\\Shobhith Vadlamudi\\Desktop\\3rd Year\\SEM 6\\RL\\wandb\\run-20240401_233530-c2iref0z</code>"
      ],
      "text/plain": [
       "<IPython.core.display.HTML object>"
      ]
     },
     "metadata": {},
     "output_type": "display_data"
    },
    {
     "data": {
      "text/html": [
       "Syncing run <strong><a href='https://wandb.ai/rl_shobhith/uncategorized/runs/c2iref0z/workspace' target=\"_blank\">fancy-sweep-126</a></strong> to <a href='https://wandb.ai/rl_shobhith/uncategorized' target=\"_blank\">Weights & Biases</a> (<a href='https://wandb.me/run' target=\"_blank\">docs</a>)<br/>Sweep page: <a href='https://wandb.ai/rl_shobhith/uncategorized/sweeps/ebygp3ca' target=\"_blank\">https://wandb.ai/rl_shobhith/uncategorized/sweeps/ebygp3ca</a>"
      ],
      "text/plain": [
       "<IPython.core.display.HTML object>"
      ]
     },
     "metadata": {},
     "output_type": "display_data"
    },
    {
     "data": {
      "text/html": [
       " View project at <a href='https://wandb.ai/rl_shobhith/uncategorized' target=\"_blank\">https://wandb.ai/rl_shobhith/uncategorized</a>"
      ],
      "text/plain": [
       "<IPython.core.display.HTML object>"
      ]
     },
     "metadata": {},
     "output_type": "display_data"
    },
    {
     "data": {
      "text/html": [
       " View sweep at <a href='https://wandb.ai/rl_shobhith/uncategorized/sweeps/ebygp3ca' target=\"_blank\">https://wandb.ai/rl_shobhith/uncategorized/sweeps/ebygp3ca</a>"
      ],
      "text/plain": [
       "<IPython.core.display.HTML object>"
      ]
     },
     "metadata": {},
     "output_type": "display_data"
    },
    {
     "data": {
      "text/html": [
       " View run at <a href='https://wandb.ai/rl_shobhith/uncategorized/runs/c2iref0z/workspace' target=\"_blank\">https://wandb.ai/rl_shobhith/uncategorized/runs/c2iref0z/workspace</a>"
      ],
      "text/plain": [
       "<IPython.core.display.HTML object>"
      ]
     },
     "metadata": {},
     "output_type": "display_data"
    },
    {
     "name": "stderr",
     "output_type": "stream",
     "text": [
      "Iteration 0: 100%|██████████| 50/50 [00:00<00:00, 82.85it/s, episode_return=50, return=17.000]\n",
      "Iteration 1: 100%|██████████| 50/50 [00:00<00:00, 59.24it/s, episode_return=100, return=23.500]\n",
      "Iteration 2: 100%|██████████| 50/50 [00:01<00:00, 45.77it/s, episode_return=150, return=36.700]\n",
      "Iteration 3: 100%|██████████| 50/50 [00:01<00:00, 32.84it/s, episode_return=200, return=30.500]\n",
      "Iteration 4: 100%|██████████| 50/50 [00:01<00:00, 29.16it/s, episode_return=250, return=36.700]\n",
      "Iteration 5: 100%|██████████| 50/50 [00:01<00:00, 26.95it/s, episode_return=300, return=43.400]\n",
      "Iteration 6: 100%|██████████| 50/50 [00:01<00:00, 28.75it/s, episode_return=350, return=35.800]\n",
      "Iteration 7: 100%|██████████| 50/50 [00:02<00:00, 20.10it/s, episode_return=400, return=52.300]\n",
      "Iteration 8: 100%|██████████| 50/50 [00:02<00:00, 20.87it/s, episode_return=450, return=56.600]\n",
      "Iteration 9: 100%|██████████| 50/50 [00:03<00:00, 16.46it/s, episode_return=500, return=80.100]\n"
     ]
    },
    {
     "data": {
      "application/vnd.jupyter.widget-view+json": {
       "model_id": "6c1a16bca741426f802d3044acd0fba4",
       "version_major": 2,
       "version_minor": 0
      },
      "text/plain": [
       "VBox(children=(Label(value='0.001 MB of 0.001 MB uploaded\\r'), FloatProgress(value=1.0, max=1.0)))"
      ]
     },
     "metadata": {},
     "output_type": "display_data"
    },
    {
     "data": {
      "text/html": [
       "<style>\n",
       "    table.wandb td:nth-child(1) { padding: 0 10px; text-align: left ; width: auto;} td:nth-child(2) {text-align: left ; width: 100%}\n",
       "    .wandb-row { display: flex; flex-direction: row; flex-wrap: wrap; justify-content: flex-start; width: 100% }\n",
       "    .wandb-col { display: flex; flex-direction: column; flex-basis: 100%; flex: 1; padding: 10px; }\n",
       "    </style>\n",
       "<div class=\"wandb-row\"><div class=\"wandb-col\"><h3>Run history:</h3><br/><table class=\"wandb\"><tr><td>regret</td><td>▁</td></tr></table><br/></div><div class=\"wandb-col\"><h3>Run summary:</h3><br/><table class=\"wandb\"><tr><td>regret</td><td>79804.68605</td></tr></table><br/></div></div>"
      ],
      "text/plain": [
       "<IPython.core.display.HTML object>"
      ]
     },
     "metadata": {},
     "output_type": "display_data"
    },
    {
     "data": {
      "text/html": [
       " View run <strong style=\"color:#cdcd00\">fancy-sweep-126</strong> at: <a href='https://wandb.ai/rl_shobhith/uncategorized/runs/c2iref0z/workspace' target=\"_blank\">https://wandb.ai/rl_shobhith/uncategorized/runs/c2iref0z/workspace</a><br/>Synced 5 W&B file(s), 0 media file(s), 0 artifact file(s) and 0 other file(s)"
      ],
      "text/plain": [
       "<IPython.core.display.HTML object>"
      ]
     },
     "metadata": {},
     "output_type": "display_data"
    },
    {
     "data": {
      "text/html": [
       "Find logs at: <code>.\\wandb\\run-20240401_233530-c2iref0z\\logs</code>"
      ],
      "text/plain": [
       "<IPython.core.display.HTML object>"
      ]
     },
     "metadata": {},
     "output_type": "display_data"
    },
    {
     "name": "stderr",
     "output_type": "stream",
     "text": [
      "\u001b[34m\u001b[1mwandb\u001b[0m: Sweep Agent: Waiting for job.\n",
      "\u001b[34m\u001b[1mwandb\u001b[0m: Job received.\n",
      "\u001b[34m\u001b[1mwandb\u001b[0m: Agent Starting Run: lezhot9p with config:\n",
      "\u001b[34m\u001b[1mwandb\u001b[0m: \thidden_dim: 64\n",
      "\u001b[34m\u001b[1mwandb\u001b[0m: \tlearning_rate: 0.0006436144772444968\n",
      "Failed to detect the name of this notebook, you can set it manually with the WANDB_NOTEBOOK_NAME environment variable to enable code saving.\n"
     ]
    },
    {
     "data": {
      "text/html": [
       "Tracking run with wandb version 0.16.5"
      ],
      "text/plain": [
       "<IPython.core.display.HTML object>"
      ]
     },
     "metadata": {},
     "output_type": "display_data"
    },
    {
     "data": {
      "text/html": [
       "Run data is saved locally in <code>c:\\Users\\Shobhith Vadlamudi\\Desktop\\3rd Year\\SEM 6\\RL\\wandb\\run-20240401_233607-lezhot9p</code>"
      ],
      "text/plain": [
       "<IPython.core.display.HTML object>"
      ]
     },
     "metadata": {},
     "output_type": "display_data"
    },
    {
     "data": {
      "text/html": [
       "Syncing run <strong><a href='https://wandb.ai/rl_shobhith/uncategorized/runs/lezhot9p/workspace' target=\"_blank\">still-sweep-127</a></strong> to <a href='https://wandb.ai/rl_shobhith/uncategorized' target=\"_blank\">Weights & Biases</a> (<a href='https://wandb.me/run' target=\"_blank\">docs</a>)<br/>Sweep page: <a href='https://wandb.ai/rl_shobhith/uncategorized/sweeps/ebygp3ca' target=\"_blank\">https://wandb.ai/rl_shobhith/uncategorized/sweeps/ebygp3ca</a>"
      ],
      "text/plain": [
       "<IPython.core.display.HTML object>"
      ]
     },
     "metadata": {},
     "output_type": "display_data"
    },
    {
     "data": {
      "text/html": [
       " View project at <a href='https://wandb.ai/rl_shobhith/uncategorized' target=\"_blank\">https://wandb.ai/rl_shobhith/uncategorized</a>"
      ],
      "text/plain": [
       "<IPython.core.display.HTML object>"
      ]
     },
     "metadata": {},
     "output_type": "display_data"
    },
    {
     "data": {
      "text/html": [
       " View sweep at <a href='https://wandb.ai/rl_shobhith/uncategorized/sweeps/ebygp3ca' target=\"_blank\">https://wandb.ai/rl_shobhith/uncategorized/sweeps/ebygp3ca</a>"
      ],
      "text/plain": [
       "<IPython.core.display.HTML object>"
      ]
     },
     "metadata": {},
     "output_type": "display_data"
    },
    {
     "data": {
      "text/html": [
       " View run at <a href='https://wandb.ai/rl_shobhith/uncategorized/runs/lezhot9p/workspace' target=\"_blank\">https://wandb.ai/rl_shobhith/uncategorized/runs/lezhot9p/workspace</a>"
      ],
      "text/plain": [
       "<IPython.core.display.HTML object>"
      ]
     },
     "metadata": {},
     "output_type": "display_data"
    },
    {
     "name": "stderr",
     "output_type": "stream",
     "text": [
      "Iteration 0: 100%|██████████| 50/50 [00:00<00:00, 93.54it/s, episode_return=50, return=19.200]\n",
      "Iteration 1: 100%|██████████| 50/50 [00:00<00:00, 65.07it/s, episode_return=100, return=30.700]\n",
      "Iteration 2: 100%|██████████| 50/50 [00:00<00:00, 58.89it/s, episode_return=150, return=29.100]\n",
      "Iteration 3: 100%|██████████| 50/50 [00:01<00:00, 39.68it/s, episode_return=200, return=47.000]\n",
      "Iteration 4: 100%|██████████| 50/50 [00:01<00:00, 40.23it/s, episode_return=250, return=52.900]\n",
      "Iteration 5: 100%|██████████| 50/50 [00:01<00:00, 32.97it/s, episode_return=300, return=75.500]\n",
      "Iteration 6: 100%|██████████| 50/50 [00:01<00:00, 28.40it/s, episode_return=350, return=90.000]\n",
      "Iteration 7: 100%|██████████| 50/50 [00:02<00:00, 23.14it/s, episode_return=400, return=74.700]\n",
      "Iteration 8: 100%|██████████| 50/50 [00:03<00:00, 12.79it/s, episode_return=450, return=111.200]\n",
      "Iteration 9: 100%|██████████| 50/50 [00:04<00:00, 12.08it/s, episode_return=500, return=148.700]\n"
     ]
    },
    {
     "data": {
      "application/vnd.jupyter.widget-view+json": {
       "model_id": "78c74c6d93104e36807297f394703bc6",
       "version_major": 2,
       "version_minor": 0
      },
      "text/plain": [
       "VBox(children=(Label(value='0.001 MB of 0.001 MB uploaded\\r'), FloatProgress(value=1.0, max=1.0)))"
      ]
     },
     "metadata": {},
     "output_type": "display_data"
    },
    {
     "data": {
      "text/html": [
       "<style>\n",
       "    table.wandb td:nth-child(1) { padding: 0 10px; text-align: left ; width: auto;} td:nth-child(2) {text-align: left ; width: 100%}\n",
       "    .wandb-row { display: flex; flex-direction: row; flex-wrap: wrap; justify-content: flex-start; width: 100% }\n",
       "    .wandb-col { display: flex; flex-direction: column; flex-basis: 100%; flex: 1; padding: 10px; }\n",
       "    </style>\n",
       "<div class=\"wandb-row\"><div class=\"wandb-col\"><h3>Run history:</h3><br/><table class=\"wandb\"><tr><td>regret</td><td>▁</td></tr></table><br/></div><div class=\"wandb-col\"><h3>Run summary:</h3><br/><table class=\"wandb\"><tr><td>regret</td><td>73796.24526</td></tr></table><br/></div></div>"
      ],
      "text/plain": [
       "<IPython.core.display.HTML object>"
      ]
     },
     "metadata": {},
     "output_type": "display_data"
    },
    {
     "data": {
      "text/html": [
       " View run <strong style=\"color:#cdcd00\">still-sweep-127</strong> at: <a href='https://wandb.ai/rl_shobhith/uncategorized/runs/lezhot9p/workspace' target=\"_blank\">https://wandb.ai/rl_shobhith/uncategorized/runs/lezhot9p/workspace</a><br/>Synced 5 W&B file(s), 0 media file(s), 0 artifact file(s) and 0 other file(s)"
      ],
      "text/plain": [
       "<IPython.core.display.HTML object>"
      ]
     },
     "metadata": {},
     "output_type": "display_data"
    },
    {
     "data": {
      "text/html": [
       "Find logs at: <code>.\\wandb\\run-20240401_233607-lezhot9p\\logs</code>"
      ],
      "text/plain": [
       "<IPython.core.display.HTML object>"
      ]
     },
     "metadata": {},
     "output_type": "display_data"
    },
    {
     "name": "stderr",
     "output_type": "stream",
     "text": [
      "\u001b[34m\u001b[1mwandb\u001b[0m: Agent Starting Run: 6ldwilzh with config:\n",
      "\u001b[34m\u001b[1mwandb\u001b[0m: \thidden_dim: 64\n",
      "\u001b[34m\u001b[1mwandb\u001b[0m: \tlearning_rate: 0.0009581482078165218\n",
      "Failed to detect the name of this notebook, you can set it manually with the WANDB_NOTEBOOK_NAME environment variable to enable code saving.\n"
     ]
    },
    {
     "data": {
      "application/vnd.jupyter.widget-view+json": {
       "model_id": "3bf737baa5954dbc908ad698becbae14",
       "version_major": 2,
       "version_minor": 0
      },
      "text/plain": [
       "VBox(children=(Label(value='Waiting for wandb.init()...\\r'), FloatProgress(value=0.011288888888925108, max=1.0…"
      ]
     },
     "metadata": {},
     "output_type": "display_data"
    },
    {
     "data": {
      "text/html": [
       "Tracking run with wandb version 0.16.5"
      ],
      "text/plain": [
       "<IPython.core.display.HTML object>"
      ]
     },
     "metadata": {},
     "output_type": "display_data"
    },
    {
     "data": {
      "text/html": [
       "Run data is saved locally in <code>c:\\Users\\Shobhith Vadlamudi\\Desktop\\3rd Year\\SEM 6\\RL\\wandb\\run-20240401_233639-6ldwilzh</code>"
      ],
      "text/plain": [
       "<IPython.core.display.HTML object>"
      ]
     },
     "metadata": {},
     "output_type": "display_data"
    },
    {
     "data": {
      "text/html": [
       "Syncing run <strong><a href='https://wandb.ai/rl_shobhith/uncategorized/runs/6ldwilzh/workspace' target=\"_blank\">denim-sweep-128</a></strong> to <a href='https://wandb.ai/rl_shobhith/uncategorized' target=\"_blank\">Weights & Biases</a> (<a href='https://wandb.me/run' target=\"_blank\">docs</a>)<br/>Sweep page: <a href='https://wandb.ai/rl_shobhith/uncategorized/sweeps/ebygp3ca' target=\"_blank\">https://wandb.ai/rl_shobhith/uncategorized/sweeps/ebygp3ca</a>"
      ],
      "text/plain": [
       "<IPython.core.display.HTML object>"
      ]
     },
     "metadata": {},
     "output_type": "display_data"
    },
    {
     "data": {
      "text/html": [
       " View project at <a href='https://wandb.ai/rl_shobhith/uncategorized' target=\"_blank\">https://wandb.ai/rl_shobhith/uncategorized</a>"
      ],
      "text/plain": [
       "<IPython.core.display.HTML object>"
      ]
     },
     "metadata": {},
     "output_type": "display_data"
    },
    {
     "data": {
      "text/html": [
       " View sweep at <a href='https://wandb.ai/rl_shobhith/uncategorized/sweeps/ebygp3ca' target=\"_blank\">https://wandb.ai/rl_shobhith/uncategorized/sweeps/ebygp3ca</a>"
      ],
      "text/plain": [
       "<IPython.core.display.HTML object>"
      ]
     },
     "metadata": {},
     "output_type": "display_data"
    },
    {
     "data": {
      "text/html": [
       " View run at <a href='https://wandb.ai/rl_shobhith/uncategorized/runs/6ldwilzh/workspace' target=\"_blank\">https://wandb.ai/rl_shobhith/uncategorized/runs/6ldwilzh/workspace</a>"
      ],
      "text/plain": [
       "<IPython.core.display.HTML object>"
      ]
     },
     "metadata": {},
     "output_type": "display_data"
    },
    {
     "name": "stderr",
     "output_type": "stream",
     "text": [
      "Iteration 0: 100%|██████████| 50/50 [00:00<00:00, 66.77it/s, episode_return=50, return=19.100]\n",
      "Iteration 1: 100%|██████████| 50/50 [00:00<00:00, 61.00it/s, episode_return=100, return=35.000]\n",
      "Iteration 2: 100%|██████████| 50/50 [00:00<00:00, 55.71it/s, episode_return=150, return=47.600]\n",
      "Iteration 3: 100%|██████████| 50/50 [00:00<00:00, 55.97it/s, episode_return=200, return=33.900]\n",
      "Iteration 4: 100%|██████████| 50/50 [00:01<00:00, 44.10it/s, episode_return=250, return=50.800]\n",
      "Iteration 5: 100%|██████████| 50/50 [00:01<00:00, 32.34it/s, episode_return=300, return=81.100]\n",
      "Iteration 6: 100%|██████████| 50/50 [00:02<00:00, 20.12it/s, episode_return=350, return=86.500]\n",
      "Iteration 7: 100%|██████████| 50/50 [00:03<00:00, 15.72it/s, episode_return=400, return=112.200]\n",
      "Iteration 8: 100%|██████████| 50/50 [00:04<00:00, 11.22it/s, episode_return=450, return=120.600]\n",
      "Iteration 9: 100%|██████████| 50/50 [00:05<00:00,  9.53it/s, episode_return=500, return=136.700]\n"
     ]
    },
    {
     "data": {
      "application/vnd.jupyter.widget-view+json": {
       "model_id": "21384c3b52b1442194c4f7a07fbdd7e0",
       "version_major": 2,
       "version_minor": 0
      },
      "text/plain": [
       "VBox(children=(Label(value='0.001 MB of 0.001 MB uploaded\\r'), FloatProgress(value=1.0, max=1.0)))"
      ]
     },
     "metadata": {},
     "output_type": "display_data"
    },
    {
     "data": {
      "text/html": [
       "<style>\n",
       "    table.wandb td:nth-child(1) { padding: 0 10px; text-align: left ; width: auto;} td:nth-child(2) {text-align: left ; width: 100%}\n",
       "    .wandb-row { display: flex; flex-direction: row; flex-wrap: wrap; justify-content: flex-start; width: 100% }\n",
       "    .wandb-col { display: flex; flex-direction: column; flex-basis: 100%; flex: 1; padding: 10px; }\n",
       "    </style>\n",
       "<div class=\"wandb-row\"><div class=\"wandb-col\"><h3>Run history:</h3><br/><table class=\"wandb\"><tr><td>regret</td><td>▁</td></tr></table><br/></div><div class=\"wandb-col\"><h3>Run summary:</h3><br/><table class=\"wandb\"><tr><td>regret</td><td>69599.74514</td></tr></table><br/></div></div>"
      ],
      "text/plain": [
       "<IPython.core.display.HTML object>"
      ]
     },
     "metadata": {},
     "output_type": "display_data"
    },
    {
     "data": {
      "text/html": [
       " View run <strong style=\"color:#cdcd00\">denim-sweep-128</strong> at: <a href='https://wandb.ai/rl_shobhith/uncategorized/runs/6ldwilzh/workspace' target=\"_blank\">https://wandb.ai/rl_shobhith/uncategorized/runs/6ldwilzh/workspace</a><br/>Synced 5 W&B file(s), 0 media file(s), 0 artifact file(s) and 0 other file(s)"
      ],
      "text/plain": [
       "<IPython.core.display.HTML object>"
      ]
     },
     "metadata": {},
     "output_type": "display_data"
    },
    {
     "data": {
      "text/html": [
       "Find logs at: <code>.\\wandb\\run-20240401_233639-6ldwilzh\\logs</code>"
      ],
      "text/plain": [
       "<IPython.core.display.HTML object>"
      ]
     },
     "metadata": {},
     "output_type": "display_data"
    },
    {
     "name": "stderr",
     "output_type": "stream",
     "text": [
      "\u001b[34m\u001b[1mwandb\u001b[0m: Sweep Agent: Waiting for job.\n",
      "\u001b[34m\u001b[1mwandb\u001b[0m: Job received.\n",
      "\u001b[34m\u001b[1mwandb\u001b[0m: Agent Starting Run: b95c1usu with config:\n",
      "\u001b[34m\u001b[1mwandb\u001b[0m: \thidden_dim: 256\n",
      "\u001b[34m\u001b[1mwandb\u001b[0m: \tlearning_rate: 0.0004538603913727649\n",
      "Failed to detect the name of this notebook, you can set it manually with the WANDB_NOTEBOOK_NAME environment variable to enable code saving.\n"
     ]
    },
    {
     "data": {
      "text/html": [
       "Tracking run with wandb version 0.16.5"
      ],
      "text/plain": [
       "<IPython.core.display.HTML object>"
      ]
     },
     "metadata": {},
     "output_type": "display_data"
    },
    {
     "data": {
      "text/html": [
       "Run data is saved locally in <code>c:\\Users\\Shobhith Vadlamudi\\Desktop\\3rd Year\\SEM 6\\RL\\wandb\\run-20240401_233721-b95c1usu</code>"
      ],
      "text/plain": [
       "<IPython.core.display.HTML object>"
      ]
     },
     "metadata": {},
     "output_type": "display_data"
    },
    {
     "data": {
      "text/html": [
       "Syncing run <strong><a href='https://wandb.ai/rl_shobhith/uncategorized/runs/b95c1usu/workspace' target=\"_blank\">chocolate-sweep-129</a></strong> to <a href='https://wandb.ai/rl_shobhith/uncategorized' target=\"_blank\">Weights & Biases</a> (<a href='https://wandb.me/run' target=\"_blank\">docs</a>)<br/>Sweep page: <a href='https://wandb.ai/rl_shobhith/uncategorized/sweeps/ebygp3ca' target=\"_blank\">https://wandb.ai/rl_shobhith/uncategorized/sweeps/ebygp3ca</a>"
      ],
      "text/plain": [
       "<IPython.core.display.HTML object>"
      ]
     },
     "metadata": {},
     "output_type": "display_data"
    },
    {
     "data": {
      "text/html": [
       " View project at <a href='https://wandb.ai/rl_shobhith/uncategorized' target=\"_blank\">https://wandb.ai/rl_shobhith/uncategorized</a>"
      ],
      "text/plain": [
       "<IPython.core.display.HTML object>"
      ]
     },
     "metadata": {},
     "output_type": "display_data"
    },
    {
     "data": {
      "text/html": [
       " View sweep at <a href='https://wandb.ai/rl_shobhith/uncategorized/sweeps/ebygp3ca' target=\"_blank\">https://wandb.ai/rl_shobhith/uncategorized/sweeps/ebygp3ca</a>"
      ],
      "text/plain": [
       "<IPython.core.display.HTML object>"
      ]
     },
     "metadata": {},
     "output_type": "display_data"
    },
    {
     "data": {
      "text/html": [
       " View run at <a href='https://wandb.ai/rl_shobhith/uncategorized/runs/b95c1usu/workspace' target=\"_blank\">https://wandb.ai/rl_shobhith/uncategorized/runs/b95c1usu/workspace</a>"
      ],
      "text/plain": [
       "<IPython.core.display.HTML object>"
      ]
     },
     "metadata": {},
     "output_type": "display_data"
    },
    {
     "name": "stderr",
     "output_type": "stream",
     "text": [
      "Iteration 0: 100%|██████████| 50/50 [00:00<00:00, 62.70it/s, episode_return=50, return=33.600]\n",
      "Iteration 1: 100%|██████████| 50/50 [00:01<00:00, 41.60it/s, episode_return=100, return=36.100]\n",
      "Iteration 2: 100%|██████████| 50/50 [00:01<00:00, 25.04it/s, episode_return=150, return=33.500]\n",
      "Iteration 3: 100%|██████████| 50/50 [00:02<00:00, 23.11it/s, episode_return=200, return=48.600]\n",
      "Iteration 4: 100%|██████████| 50/50 [00:02<00:00, 18.54it/s, episode_return=250, return=64.600]\n",
      "Iteration 5: 100%|██████████| 50/50 [00:03<00:00, 15.94it/s, episode_return=300, return=77.900]\n",
      "Iteration 6: 100%|██████████| 50/50 [00:03<00:00, 13.07it/s, episode_return=350, return=76.700] \n",
      "Iteration 7: 100%|██████████| 50/50 [00:06<00:00,  8.05it/s, episode_return=400, return=143.800]\n",
      "Iteration 8: 100%|██████████| 50/50 [00:07<00:00,  6.98it/s, episode_return=450, return=146.500]\n",
      "Iteration 9: 100%|██████████| 50/50 [00:08<00:00,  6.21it/s, episode_return=500, return=148.600]\n"
     ]
    },
    {
     "data": {
      "application/vnd.jupyter.widget-view+json": {
       "model_id": "10e0e12b62064a6392f45a023622b5b4",
       "version_major": 2,
       "version_minor": 0
      },
      "text/plain": [
       "VBox(children=(Label(value='0.001 MB of 0.001 MB uploaded\\r'), FloatProgress(value=1.0, max=1.0)))"
      ]
     },
     "metadata": {},
     "output_type": "display_data"
    },
    {
     "data": {
      "text/html": [
       "<style>\n",
       "    table.wandb td:nth-child(1) { padding: 0 10px; text-align: left ; width: auto;} td:nth-child(2) {text-align: left ; width: 100%}\n",
       "    .wandb-row { display: flex; flex-direction: row; flex-wrap: wrap; justify-content: flex-start; width: 100% }\n",
       "    .wandb-col { display: flex; flex-direction: column; flex-basis: 100%; flex: 1; padding: 10px; }\n",
       "    </style>\n",
       "<div class=\"wandb-row\"><div class=\"wandb-col\"><h3>Run history:</h3><br/><table class=\"wandb\"><tr><td>regret</td><td>▁</td></tr></table><br/></div><div class=\"wandb-col\"><h3>Run summary:</h3><br/><table class=\"wandb\"><tr><td>regret</td><td>64963.74734</td></tr></table><br/></div></div>"
      ],
      "text/plain": [
       "<IPython.core.display.HTML object>"
      ]
     },
     "metadata": {},
     "output_type": "display_data"
    },
    {
     "data": {
      "text/html": [
       " View run <strong style=\"color:#cdcd00\">chocolate-sweep-129</strong> at: <a href='https://wandb.ai/rl_shobhith/uncategorized/runs/b95c1usu/workspace' target=\"_blank\">https://wandb.ai/rl_shobhith/uncategorized/runs/b95c1usu/workspace</a><br/>Synced 5 W&B file(s), 0 media file(s), 0 artifact file(s) and 0 other file(s)"
      ],
      "text/plain": [
       "<IPython.core.display.HTML object>"
      ]
     },
     "metadata": {},
     "output_type": "display_data"
    },
    {
     "data": {
      "text/html": [
       "Find logs at: <code>.\\wandb\\run-20240401_233721-b95c1usu\\logs</code>"
      ],
      "text/plain": [
       "<IPython.core.display.HTML object>"
      ]
     },
     "metadata": {},
     "output_type": "display_data"
    },
    {
     "name": "stderr",
     "output_type": "stream",
     "text": [
      "\u001b[34m\u001b[1mwandb\u001b[0m: Agent Starting Run: qax8s9ix with config:\n",
      "\u001b[34m\u001b[1mwandb\u001b[0m: \thidden_dim: 64\n",
      "\u001b[34m\u001b[1mwandb\u001b[0m: \tlearning_rate: 0.00032148010236146676\n",
      "Failed to detect the name of this notebook, you can set it manually with the WANDB_NOTEBOOK_NAME environment variable to enable code saving.\n"
     ]
    },
    {
     "data": {
      "text/html": [
       "Tracking run with wandb version 0.16.5"
      ],
      "text/plain": [
       "<IPython.core.display.HTML object>"
      ]
     },
     "metadata": {},
     "output_type": "display_data"
    },
    {
     "data": {
      "text/html": [
       "Run data is saved locally in <code>c:\\Users\\Shobhith Vadlamudi\\Desktop\\3rd Year\\SEM 6\\RL\\wandb\\run-20240401_233809-qax8s9ix</code>"
      ],
      "text/plain": [
       "<IPython.core.display.HTML object>"
      ]
     },
     "metadata": {},
     "output_type": "display_data"
    },
    {
     "data": {
      "text/html": [
       "Syncing run <strong><a href='https://wandb.ai/rl_shobhith/uncategorized/runs/qax8s9ix/workspace' target=\"_blank\">rare-sweep-130</a></strong> to <a href='https://wandb.ai/rl_shobhith/uncategorized' target=\"_blank\">Weights & Biases</a> (<a href='https://wandb.me/run' target=\"_blank\">docs</a>)<br/>Sweep page: <a href='https://wandb.ai/rl_shobhith/uncategorized/sweeps/ebygp3ca' target=\"_blank\">https://wandb.ai/rl_shobhith/uncategorized/sweeps/ebygp3ca</a>"
      ],
      "text/plain": [
       "<IPython.core.display.HTML object>"
      ]
     },
     "metadata": {},
     "output_type": "display_data"
    },
    {
     "data": {
      "text/html": [
       " View project at <a href='https://wandb.ai/rl_shobhith/uncategorized' target=\"_blank\">https://wandb.ai/rl_shobhith/uncategorized</a>"
      ],
      "text/plain": [
       "<IPython.core.display.HTML object>"
      ]
     },
     "metadata": {},
     "output_type": "display_data"
    },
    {
     "data": {
      "text/html": [
       " View sweep at <a href='https://wandb.ai/rl_shobhith/uncategorized/sweeps/ebygp3ca' target=\"_blank\">https://wandb.ai/rl_shobhith/uncategorized/sweeps/ebygp3ca</a>"
      ],
      "text/plain": [
       "<IPython.core.display.HTML object>"
      ]
     },
     "metadata": {},
     "output_type": "display_data"
    },
    {
     "data": {
      "text/html": [
       " View run at <a href='https://wandb.ai/rl_shobhith/uncategorized/runs/qax8s9ix/workspace' target=\"_blank\">https://wandb.ai/rl_shobhith/uncategorized/runs/qax8s9ix/workspace</a>"
      ],
      "text/plain": [
       "<IPython.core.display.HTML object>"
      ]
     },
     "metadata": {},
     "output_type": "display_data"
    },
    {
     "name": "stderr",
     "output_type": "stream",
     "text": [
      "Iteration 0: 100%|██████████| 50/50 [00:00<00:00, 81.62it/s, episode_return=50, return=19.700]\n",
      "Iteration 1: 100%|██████████| 50/50 [00:00<00:00, 81.81it/s, episode_return=100, return=25.700]\n",
      "Iteration 2: 100%|██████████| 50/50 [00:00<00:00, 74.82it/s, episode_return=150, return=21.200]\n",
      "Iteration 3: 100%|██████████| 50/50 [00:00<00:00, 72.93it/s, episode_return=200, return=17.600]\n",
      "Iteration 4: 100%|██████████| 50/50 [00:00<00:00, 62.07it/s, episode_return=250, return=30.200]\n",
      "Iteration 5: 100%|██████████| 50/50 [00:00<00:00, 61.35it/s, episode_return=300, return=25.200]\n",
      "Iteration 6: 100%|██████████| 50/50 [00:01<00:00, 44.53it/s, episode_return=350, return=39.700]\n",
      "Iteration 7: 100%|██████████| 50/50 [00:00<00:00, 52.38it/s, episode_return=400, return=34.600]\n",
      "Iteration 8: 100%|██████████| 50/50 [00:00<00:00, 54.90it/s, episode_return=450, return=28.700]\n",
      "Iteration 9: 100%|██████████| 50/50 [00:01<00:00, 44.92it/s, episode_return=500, return=27.300]\n"
     ]
    },
    {
     "data": {
      "application/vnd.jupyter.widget-view+json": {
       "model_id": "08da33a76d8c4e23848475fdd130252f",
       "version_major": 2,
       "version_minor": 0
      },
      "text/plain": [
       "VBox(children=(Label(value='0.001 MB of 0.001 MB uploaded\\r'), FloatProgress(value=1.0, max=1.0)))"
      ]
     },
     "metadata": {},
     "output_type": "display_data"
    },
    {
     "data": {
      "text/html": [
       "<style>\n",
       "    table.wandb td:nth-child(1) { padding: 0 10px; text-align: left ; width: auto;} td:nth-child(2) {text-align: left ; width: 100%}\n",
       "    .wandb-row { display: flex; flex-direction: row; flex-wrap: wrap; justify-content: flex-start; width: 100% }\n",
       "    .wandb-col { display: flex; flex-direction: column; flex-basis: 100%; flex: 1; padding: 10px; }\n",
       "    </style>\n",
       "<div class=\"wandb-row\"><div class=\"wandb-col\"><h3>Run history:</h3><br/><table class=\"wandb\"><tr><td>regret</td><td>▁</td></tr></table><br/></div><div class=\"wandb-col\"><h3>Run summary:</h3><br/><table class=\"wandb\"><tr><td>regret</td><td>84792.67296</td></tr></table><br/></div></div>"
      ],
      "text/plain": [
       "<IPython.core.display.HTML object>"
      ]
     },
     "metadata": {},
     "output_type": "display_data"
    },
    {
     "data": {
      "text/html": [
       " View run <strong style=\"color:#cdcd00\">rare-sweep-130</strong> at: <a href='https://wandb.ai/rl_shobhith/uncategorized/runs/qax8s9ix/workspace' target=\"_blank\">https://wandb.ai/rl_shobhith/uncategorized/runs/qax8s9ix/workspace</a><br/>Synced 5 W&B file(s), 0 media file(s), 0 artifact file(s) and 0 other file(s)"
      ],
      "text/plain": [
       "<IPython.core.display.HTML object>"
      ]
     },
     "metadata": {},
     "output_type": "display_data"
    },
    {
     "data": {
      "text/html": [
       "Find logs at: <code>.\\wandb\\run-20240401_233809-qax8s9ix\\logs</code>"
      ],
      "text/plain": [
       "<IPython.core.display.HTML object>"
      ]
     },
     "metadata": {},
     "output_type": "display_data"
    },
    {
     "name": "stderr",
     "output_type": "stream",
     "text": [
      "\u001b[34m\u001b[1mwandb\u001b[0m: Agent Starting Run: 7cswgag4 with config:\n",
      "\u001b[34m\u001b[1mwandb\u001b[0m: \thidden_dim: 128\n",
      "\u001b[34m\u001b[1mwandb\u001b[0m: \tlearning_rate: 0.0007241965049362192\n",
      "Failed to detect the name of this notebook, you can set it manually with the WANDB_NOTEBOOK_NAME environment variable to enable code saving.\n"
     ]
    },
    {
     "data": {
      "text/html": [
       "Tracking run with wandb version 0.16.5"
      ],
      "text/plain": [
       "<IPython.core.display.HTML object>"
      ]
     },
     "metadata": {},
     "output_type": "display_data"
    },
    {
     "data": {
      "text/html": [
       "Run data is saved locally in <code>c:\\Users\\Shobhith Vadlamudi\\Desktop\\3rd Year\\SEM 6\\RL\\wandb\\run-20240401_233832-7cswgag4</code>"
      ],
      "text/plain": [
       "<IPython.core.display.HTML object>"
      ]
     },
     "metadata": {},
     "output_type": "display_data"
    },
    {
     "data": {
      "text/html": [
       "Syncing run <strong><a href='https://wandb.ai/rl_shobhith/uncategorized/runs/7cswgag4/workspace' target=\"_blank\">misty-sweep-131</a></strong> to <a href='https://wandb.ai/rl_shobhith/uncategorized' target=\"_blank\">Weights & Biases</a> (<a href='https://wandb.me/run' target=\"_blank\">docs</a>)<br/>Sweep page: <a href='https://wandb.ai/rl_shobhith/uncategorized/sweeps/ebygp3ca' target=\"_blank\">https://wandb.ai/rl_shobhith/uncategorized/sweeps/ebygp3ca</a>"
      ],
      "text/plain": [
       "<IPython.core.display.HTML object>"
      ]
     },
     "metadata": {},
     "output_type": "display_data"
    },
    {
     "data": {
      "text/html": [
       " View project at <a href='https://wandb.ai/rl_shobhith/uncategorized' target=\"_blank\">https://wandb.ai/rl_shobhith/uncategorized</a>"
      ],
      "text/plain": [
       "<IPython.core.display.HTML object>"
      ]
     },
     "metadata": {},
     "output_type": "display_data"
    },
    {
     "data": {
      "text/html": [
       " View sweep at <a href='https://wandb.ai/rl_shobhith/uncategorized/sweeps/ebygp3ca' target=\"_blank\">https://wandb.ai/rl_shobhith/uncategorized/sweeps/ebygp3ca</a>"
      ],
      "text/plain": [
       "<IPython.core.display.HTML object>"
      ]
     },
     "metadata": {},
     "output_type": "display_data"
    },
    {
     "data": {
      "text/html": [
       " View run at <a href='https://wandb.ai/rl_shobhith/uncategorized/runs/7cswgag4/workspace' target=\"_blank\">https://wandb.ai/rl_shobhith/uncategorized/runs/7cswgag4/workspace</a>"
      ],
      "text/plain": [
       "<IPython.core.display.HTML object>"
      ]
     },
     "metadata": {},
     "output_type": "display_data"
    },
    {
     "name": "stderr",
     "output_type": "stream",
     "text": [
      "Iteration 0: 100%|██████████| 50/50 [00:00<00:00, 53.96it/s, episode_return=50, return=25.000]\n",
      "Iteration 1: 100%|██████████| 50/50 [00:01<00:00, 39.48it/s, episode_return=100, return=34.600]\n",
      "Iteration 2: 100%|██████████| 50/50 [00:02<00:00, 24.26it/s, episode_return=150, return=51.200]\n",
      "Iteration 3: 100%|██████████| 50/50 [00:02<00:00, 17.15it/s, episode_return=200, return=54.500]\n",
      "Iteration 4: 100%|██████████| 50/50 [00:03<00:00, 16.62it/s, episode_return=250, return=85.100]\n",
      "Iteration 5: 100%|██████████| 50/50 [00:03<00:00, 12.61it/s, episode_return=300, return=110.900]\n",
      "Iteration 6: 100%|██████████| 50/50 [00:05<00:00,  8.39it/s, episode_return=350, return=127.100]\n",
      "Iteration 7: 100%|██████████| 50/50 [00:07<00:00,  7.08it/s, episode_return=400, return=123.400]\n",
      "Iteration 8: 100%|██████████| 50/50 [00:08<00:00,  5.85it/s, episode_return=450, return=209.000]\n",
      "Iteration 9: 100%|██████████| 50/50 [00:09<00:00,  5.55it/s, episode_return=500, return=218.100]\n"
     ]
    },
    {
     "data": {
      "application/vnd.jupyter.widget-view+json": {
       "model_id": "d3eadac10d4a4b3f9ca15aec6480803d",
       "version_major": 2,
       "version_minor": 0
      },
      "text/plain": [
       "VBox(children=(Label(value='0.001 MB of 0.001 MB uploaded\\r'), FloatProgress(value=1.0, max=1.0)))"
      ]
     },
     "metadata": {},
     "output_type": "display_data"
    },
    {
     "data": {
      "text/html": [
       "<style>\n",
       "    table.wandb td:nth-child(1) { padding: 0 10px; text-align: left ; width: auto;} td:nth-child(2) {text-align: left ; width: 100%}\n",
       "    .wandb-row { display: flex; flex-direction: row; flex-wrap: wrap; justify-content: flex-start; width: 100% }\n",
       "    .wandb-col { display: flex; flex-direction: column; flex-basis: 100%; flex: 1; padding: 10px; }\n",
       "    </style>\n",
       "<div class=\"wandb-row\"><div class=\"wandb-col\"><h3>Run history:</h3><br/><table class=\"wandb\"><tr><td>regret</td><td>▁</td></tr></table><br/></div><div class=\"wandb-col\"><h3>Run summary:</h3><br/><table class=\"wandb\"><tr><td>regret</td><td>54993.14813</td></tr></table><br/></div></div>"
      ],
      "text/plain": [
       "<IPython.core.display.HTML object>"
      ]
     },
     "metadata": {},
     "output_type": "display_data"
    },
    {
     "data": {
      "text/html": [
       " View run <strong style=\"color:#cdcd00\">misty-sweep-131</strong> at: <a href='https://wandb.ai/rl_shobhith/uncategorized/runs/7cswgag4/workspace' target=\"_blank\">https://wandb.ai/rl_shobhith/uncategorized/runs/7cswgag4/workspace</a><br/>Synced 5 W&B file(s), 0 media file(s), 0 artifact file(s) and 0 other file(s)"
      ],
      "text/plain": [
       "<IPython.core.display.HTML object>"
      ]
     },
     "metadata": {},
     "output_type": "display_data"
    },
    {
     "data": {
      "text/html": [
       "Find logs at: <code>.\\wandb\\run-20240401_233832-7cswgag4\\logs</code>"
      ],
      "text/plain": [
       "<IPython.core.display.HTML object>"
      ]
     },
     "metadata": {},
     "output_type": "display_data"
    },
    {
     "name": "stderr",
     "output_type": "stream",
     "text": [
      "\u001b[34m\u001b[1mwandb\u001b[0m: Agent Starting Run: uusjnxrq with config:\n",
      "\u001b[34m\u001b[1mwandb\u001b[0m: \thidden_dim: 64\n",
      "\u001b[34m\u001b[1mwandb\u001b[0m: \tlearning_rate: 0.00018090922486336015\n",
      "Failed to detect the name of this notebook, you can set it manually with the WANDB_NOTEBOOK_NAME environment variable to enable code saving.\n"
     ]
    },
    {
     "data": {
      "text/html": [
       "Tracking run with wandb version 0.16.5"
      ],
      "text/plain": [
       "<IPython.core.display.HTML object>"
      ]
     },
     "metadata": {},
     "output_type": "display_data"
    },
    {
     "data": {
      "text/html": [
       "Run data is saved locally in <code>c:\\Users\\Shobhith Vadlamudi\\Desktop\\3rd Year\\SEM 6\\RL\\wandb\\run-20240401_233929-uusjnxrq</code>"
      ],
      "text/plain": [
       "<IPython.core.display.HTML object>"
      ]
     },
     "metadata": {},
     "output_type": "display_data"
    },
    {
     "data": {
      "text/html": [
       "Syncing run <strong><a href='https://wandb.ai/rl_shobhith/uncategorized/runs/uusjnxrq/workspace' target=\"_blank\">grateful-sweep-132</a></strong> to <a href='https://wandb.ai/rl_shobhith/uncategorized' target=\"_blank\">Weights & Biases</a> (<a href='https://wandb.me/run' target=\"_blank\">docs</a>)<br/>Sweep page: <a href='https://wandb.ai/rl_shobhith/uncategorized/sweeps/ebygp3ca' target=\"_blank\">https://wandb.ai/rl_shobhith/uncategorized/sweeps/ebygp3ca</a>"
      ],
      "text/plain": [
       "<IPython.core.display.HTML object>"
      ]
     },
     "metadata": {},
     "output_type": "display_data"
    },
    {
     "data": {
      "text/html": [
       " View project at <a href='https://wandb.ai/rl_shobhith/uncategorized' target=\"_blank\">https://wandb.ai/rl_shobhith/uncategorized</a>"
      ],
      "text/plain": [
       "<IPython.core.display.HTML object>"
      ]
     },
     "metadata": {},
     "output_type": "display_data"
    },
    {
     "data": {
      "text/html": [
       " View sweep at <a href='https://wandb.ai/rl_shobhith/uncategorized/sweeps/ebygp3ca' target=\"_blank\">https://wandb.ai/rl_shobhith/uncategorized/sweeps/ebygp3ca</a>"
      ],
      "text/plain": [
       "<IPython.core.display.HTML object>"
      ]
     },
     "metadata": {},
     "output_type": "display_data"
    },
    {
     "data": {
      "text/html": [
       " View run at <a href='https://wandb.ai/rl_shobhith/uncategorized/runs/uusjnxrq/workspace' target=\"_blank\">https://wandb.ai/rl_shobhith/uncategorized/runs/uusjnxrq/workspace</a>"
      ],
      "text/plain": [
       "<IPython.core.display.HTML object>"
      ]
     },
     "metadata": {},
     "output_type": "display_data"
    },
    {
     "name": "stderr",
     "output_type": "stream",
     "text": [
      "Iteration 0: 100%|██████████| 50/50 [00:00<00:00, 72.93it/s, episode_return=50, return=28.600]\n",
      "Iteration 1: 100%|██████████| 50/50 [00:00<00:00, 76.46it/s, episode_return=100, return=33.200]\n",
      "Iteration 2: 100%|██████████| 50/50 [00:01<00:00, 45.68it/s, episode_return=150, return=32.500]\n",
      "Iteration 3: 100%|██████████| 50/50 [00:00<00:00, 53.42it/s, episode_return=200, return=26.400]\n",
      "Iteration 4: 100%|██████████| 50/50 [00:00<00:00, 62.97it/s, episode_return=250, return=19.300]\n",
      "Iteration 5: 100%|██████████| 50/50 [00:01<00:00, 49.82it/s, episode_return=300, return=31.500]\n",
      "Iteration 6: 100%|██████████| 50/50 [00:01<00:00, 48.26it/s, episode_return=350, return=24.800]\n",
      "Iteration 7: 100%|██████████| 50/50 [00:01<00:00, 43.64it/s, episode_return=400, return=38.700]\n",
      "Iteration 8: 100%|██████████| 50/50 [00:01<00:00, 45.58it/s, episode_return=450, return=40.000]\n",
      "Iteration 9: 100%|██████████| 50/50 [00:01<00:00, 44.82it/s, episode_return=500, return=27.400]\n"
     ]
    },
    {
     "data": {
      "application/vnd.jupyter.widget-view+json": {
       "model_id": "448d7547b810460098b590e95cd438ad",
       "version_major": 2,
       "version_minor": 0
      },
      "text/plain": [
       "VBox(children=(Label(value='0.001 MB of 0.007 MB uploaded\\r'), FloatProgress(value=0.16787829833064083, max=1.…"
      ]
     },
     "metadata": {},
     "output_type": "display_data"
    },
    {
     "data": {
      "text/html": [
       "<style>\n",
       "    table.wandb td:nth-child(1) { padding: 0 10px; text-align: left ; width: auto;} td:nth-child(2) {text-align: left ; width: 100%}\n",
       "    .wandb-row { display: flex; flex-direction: row; flex-wrap: wrap; justify-content: flex-start; width: 100% }\n",
       "    .wandb-col { display: flex; flex-direction: column; flex-basis: 100%; flex: 1; padding: 10px; }\n",
       "    </style>\n",
       "<div class=\"wandb-row\"><div class=\"wandb-col\"><h3>Run history:</h3><br/><table class=\"wandb\"><tr><td>regret</td><td>▁</td></tr></table><br/></div><div class=\"wandb-col\"><h3>Run summary:</h3><br/><table class=\"wandb\"><tr><td>regret</td><td>84019.41143</td></tr></table><br/></div></div>"
      ],
      "text/plain": [
       "<IPython.core.display.HTML object>"
      ]
     },
     "metadata": {},
     "output_type": "display_data"
    },
    {
     "data": {
      "text/html": [
       " View run <strong style=\"color:#cdcd00\">grateful-sweep-132</strong> at: <a href='https://wandb.ai/rl_shobhith/uncategorized/runs/uusjnxrq/workspace' target=\"_blank\">https://wandb.ai/rl_shobhith/uncategorized/runs/uusjnxrq/workspace</a><br/>Synced 5 W&B file(s), 0 media file(s), 0 artifact file(s) and 0 other file(s)"
      ],
      "text/plain": [
       "<IPython.core.display.HTML object>"
      ]
     },
     "metadata": {},
     "output_type": "display_data"
    },
    {
     "data": {
      "text/html": [
       "Find logs at: <code>.\\wandb\\run-20240401_233929-uusjnxrq\\logs</code>"
      ],
      "text/plain": [
       "<IPython.core.display.HTML object>"
      ]
     },
     "metadata": {},
     "output_type": "display_data"
    },
    {
     "name": "stderr",
     "output_type": "stream",
     "text": [
      "\u001b[34m\u001b[1mwandb\u001b[0m: Agent Starting Run: k2p9n8kq with config:\n",
      "\u001b[34m\u001b[1mwandb\u001b[0m: \thidden_dim: 64\n",
      "\u001b[34m\u001b[1mwandb\u001b[0m: \tlearning_rate: 0.0009306908725765296\n",
      "Failed to detect the name of this notebook, you can set it manually with the WANDB_NOTEBOOK_NAME environment variable to enable code saving.\n"
     ]
    },
    {
     "data": {
      "text/html": [
       "Tracking run with wandb version 0.16.5"
      ],
      "text/plain": [
       "<IPython.core.display.HTML object>"
      ]
     },
     "metadata": {},
     "output_type": "display_data"
    },
    {
     "data": {
      "text/html": [
       "Run data is saved locally in <code>c:\\Users\\Shobhith Vadlamudi\\Desktop\\3rd Year\\SEM 6\\RL\\wandb\\run-20240401_233951-k2p9n8kq</code>"
      ],
      "text/plain": [
       "<IPython.core.display.HTML object>"
      ]
     },
     "metadata": {},
     "output_type": "display_data"
    },
    {
     "data": {
      "text/html": [
       "Syncing run <strong><a href='https://wandb.ai/rl_shobhith/uncategorized/runs/k2p9n8kq/workspace' target=\"_blank\">swept-sweep-133</a></strong> to <a href='https://wandb.ai/rl_shobhith/uncategorized' target=\"_blank\">Weights & Biases</a> (<a href='https://wandb.me/run' target=\"_blank\">docs</a>)<br/>Sweep page: <a href='https://wandb.ai/rl_shobhith/uncategorized/sweeps/ebygp3ca' target=\"_blank\">https://wandb.ai/rl_shobhith/uncategorized/sweeps/ebygp3ca</a>"
      ],
      "text/plain": [
       "<IPython.core.display.HTML object>"
      ]
     },
     "metadata": {},
     "output_type": "display_data"
    },
    {
     "data": {
      "text/html": [
       " View project at <a href='https://wandb.ai/rl_shobhith/uncategorized' target=\"_blank\">https://wandb.ai/rl_shobhith/uncategorized</a>"
      ],
      "text/plain": [
       "<IPython.core.display.HTML object>"
      ]
     },
     "metadata": {},
     "output_type": "display_data"
    },
    {
     "data": {
      "text/html": [
       " View sweep at <a href='https://wandb.ai/rl_shobhith/uncategorized/sweeps/ebygp3ca' target=\"_blank\">https://wandb.ai/rl_shobhith/uncategorized/sweeps/ebygp3ca</a>"
      ],
      "text/plain": [
       "<IPython.core.display.HTML object>"
      ]
     },
     "metadata": {},
     "output_type": "display_data"
    },
    {
     "data": {
      "text/html": [
       " View run at <a href='https://wandb.ai/rl_shobhith/uncategorized/runs/k2p9n8kq/workspace' target=\"_blank\">https://wandb.ai/rl_shobhith/uncategorized/runs/k2p9n8kq/workspace</a>"
      ],
      "text/plain": [
       "<IPython.core.display.HTML object>"
      ]
     },
     "metadata": {},
     "output_type": "display_data"
    },
    {
     "name": "stderr",
     "output_type": "stream",
     "text": [
      "Iteration 0: 100%|██████████| 50/50 [00:00<00:00, 69.67it/s, episode_return=50, return=24.000]\n",
      "Iteration 1: 100%|██████████| 50/50 [00:00<00:00, 61.68it/s, episode_return=100, return=35.600]\n",
      "Iteration 2: 100%|██████████| 50/50 [00:01<00:00, 43.01it/s, episode_return=150, return=36.300]\n",
      "Iteration 3: 100%|██████████| 50/50 [00:01<00:00, 41.57it/s, episode_return=200, return=56.100]\n",
      "Iteration 4: 100%|██████████| 50/50 [00:01<00:00, 30.03it/s, episode_return=250, return=48.900]\n",
      "Iteration 5: 100%|██████████| 50/50 [00:02<00:00, 21.73it/s, episode_return=300, return=56.500]\n",
      "Iteration 6: 100%|██████████| 50/50 [00:03<00:00, 12.85it/s, episode_return=350, return=152.600]\n",
      "Iteration 7: 100%|██████████| 50/50 [00:04<00:00, 10.07it/s, episode_return=400, return=181.500]\n",
      "Iteration 8: 100%|██████████| 50/50 [00:05<00:00,  9.81it/s, episode_return=450, return=213.800]\n",
      "Iteration 9: 100%|██████████| 50/50 [00:06<00:00,  7.17it/s, episode_return=500, return=232.500]\n"
     ]
    },
    {
     "data": {
      "application/vnd.jupyter.widget-view+json": {
       "model_id": "8bff1274f5c249eb9d7a3d2b2c5c67f6",
       "version_major": 2,
       "version_minor": 0
      },
      "text/plain": [
       "VBox(children=(Label(value='0.001 MB of 0.001 MB uploaded\\r'), FloatProgress(value=1.0, max=1.0)))"
      ]
     },
     "metadata": {},
     "output_type": "display_data"
    },
    {
     "data": {
      "text/html": [
       "<style>\n",
       "    table.wandb td:nth-child(1) { padding: 0 10px; text-align: left ; width: auto;} td:nth-child(2) {text-align: left ; width: 100%}\n",
       "    .wandb-row { display: flex; flex-direction: row; flex-wrap: wrap; justify-content: flex-start; width: 100% }\n",
       "    .wandb-col { display: flex; flex-direction: column; flex-basis: 100%; flex: 1; padding: 10px; }\n",
       "    </style>\n",
       "<div class=\"wandb-row\"><div class=\"wandb-col\"><h3>Run history:</h3><br/><table class=\"wandb\"><tr><td>regret</td><td>▁</td></tr></table><br/></div><div class=\"wandb-col\"><h3>Run summary:</h3><br/><table class=\"wandb\"><tr><td>regret</td><td>60867.52149</td></tr></table><br/></div></div>"
      ],
      "text/plain": [
       "<IPython.core.display.HTML object>"
      ]
     },
     "metadata": {},
     "output_type": "display_data"
    },
    {
     "data": {
      "text/html": [
       " View run <strong style=\"color:#cdcd00\">swept-sweep-133</strong> at: <a href='https://wandb.ai/rl_shobhith/uncategorized/runs/k2p9n8kq/workspace' target=\"_blank\">https://wandb.ai/rl_shobhith/uncategorized/runs/k2p9n8kq/workspace</a><br/>Synced 5 W&B file(s), 0 media file(s), 0 artifact file(s) and 0 other file(s)"
      ],
      "text/plain": [
       "<IPython.core.display.HTML object>"
      ]
     },
     "metadata": {},
     "output_type": "display_data"
    },
    {
     "data": {
      "text/html": [
       "Find logs at: <code>.\\wandb\\run-20240401_233951-k2p9n8kq\\logs</code>"
      ],
      "text/plain": [
       "<IPython.core.display.HTML object>"
      ]
     },
     "metadata": {},
     "output_type": "display_data"
    },
    {
     "name": "stderr",
     "output_type": "stream",
     "text": [
      "\u001b[34m\u001b[1mwandb\u001b[0m: Agent Starting Run: c2i7qhj1 with config:\n",
      "\u001b[34m\u001b[1mwandb\u001b[0m: \thidden_dim: 128\n",
      "\u001b[34m\u001b[1mwandb\u001b[0m: \tlearning_rate: 0.0001854549847407491\n",
      "Failed to detect the name of this notebook, you can set it manually with the WANDB_NOTEBOOK_NAME environment variable to enable code saving.\n"
     ]
    },
    {
     "data": {
      "text/html": [
       "Tracking run with wandb version 0.16.5"
      ],
      "text/plain": [
       "<IPython.core.display.HTML object>"
      ]
     },
     "metadata": {},
     "output_type": "display_data"
    },
    {
     "data": {
      "text/html": [
       "Run data is saved locally in <code>c:\\Users\\Shobhith Vadlamudi\\Desktop\\3rd Year\\SEM 6\\RL\\wandb\\run-20240401_234034-c2i7qhj1</code>"
      ],
      "text/plain": [
       "<IPython.core.display.HTML object>"
      ]
     },
     "metadata": {},
     "output_type": "display_data"
    },
    {
     "data": {
      "text/html": [
       "Syncing run <strong><a href='https://wandb.ai/rl_shobhith/uncategorized/runs/c2i7qhj1/workspace' target=\"_blank\">eternal-sweep-134</a></strong> to <a href='https://wandb.ai/rl_shobhith/uncategorized' target=\"_blank\">Weights & Biases</a> (<a href='https://wandb.me/run' target=\"_blank\">docs</a>)<br/>Sweep page: <a href='https://wandb.ai/rl_shobhith/uncategorized/sweeps/ebygp3ca' target=\"_blank\">https://wandb.ai/rl_shobhith/uncategorized/sweeps/ebygp3ca</a>"
      ],
      "text/plain": [
       "<IPython.core.display.HTML object>"
      ]
     },
     "metadata": {},
     "output_type": "display_data"
    },
    {
     "data": {
      "text/html": [
       " View project at <a href='https://wandb.ai/rl_shobhith/uncategorized' target=\"_blank\">https://wandb.ai/rl_shobhith/uncategorized</a>"
      ],
      "text/plain": [
       "<IPython.core.display.HTML object>"
      ]
     },
     "metadata": {},
     "output_type": "display_data"
    },
    {
     "data": {
      "text/html": [
       " View sweep at <a href='https://wandb.ai/rl_shobhith/uncategorized/sweeps/ebygp3ca' target=\"_blank\">https://wandb.ai/rl_shobhith/uncategorized/sweeps/ebygp3ca</a>"
      ],
      "text/plain": [
       "<IPython.core.display.HTML object>"
      ]
     },
     "metadata": {},
     "output_type": "display_data"
    },
    {
     "data": {
      "text/html": [
       " View run at <a href='https://wandb.ai/rl_shobhith/uncategorized/runs/c2i7qhj1/workspace' target=\"_blank\">https://wandb.ai/rl_shobhith/uncategorized/runs/c2i7qhj1/workspace</a>"
      ],
      "text/plain": [
       "<IPython.core.display.HTML object>"
      ]
     },
     "metadata": {},
     "output_type": "display_data"
    },
    {
     "name": "stderr",
     "output_type": "stream",
     "text": [
      "Iteration 0: 100%|██████████| 50/50 [00:00<00:00, 80.01it/s, episode_return=50, return=24.100]\n",
      "Iteration 1: 100%|██████████| 50/50 [00:00<00:00, 54.07it/s, episode_return=100, return=20.200]\n",
      "Iteration 2: 100%|██████████| 50/50 [00:01<00:00, 41.45it/s, episode_return=150, return=32.000]\n",
      "Iteration 3: 100%|██████████| 50/50 [00:01<00:00, 43.53it/s, episode_return=200, return=22.500]\n",
      "Iteration 4: 100%|██████████| 50/50 [00:01<00:00, 35.90it/s, episode_return=250, return=26.700]\n",
      "Iteration 5: 100%|██████████| 50/50 [00:01<00:00, 30.86it/s, episode_return=300, return=32.600]\n",
      "Iteration 6: 100%|██████████| 50/50 [00:01<00:00, 37.45it/s, episode_return=350, return=28.000]\n",
      "Iteration 7: 100%|██████████| 50/50 [00:01<00:00, 33.10it/s, episode_return=400, return=35.400]\n",
      "Iteration 8: 100%|██████████| 50/50 [00:01<00:00, 32.54it/s, episode_return=450, return=30.900]\n",
      "Iteration 9: 100%|██████████| 50/50 [00:01<00:00, 27.17it/s, episode_return=500, return=45.800]\n"
     ]
    },
    {
     "data": {
      "application/vnd.jupyter.widget-view+json": {
       "model_id": "3dbe26f288cf4546ada3bf28c5d25edf",
       "version_major": 2,
       "version_minor": 0
      },
      "text/plain": [
       "VBox(children=(Label(value='0.001 MB of 0.001 MB uploaded\\r'), FloatProgress(value=1.0, max=1.0)))"
      ]
     },
     "metadata": {},
     "output_type": "display_data"
    },
    {
     "data": {
      "text/html": [
       "<style>\n",
       "    table.wandb td:nth-child(1) { padding: 0 10px; text-align: left ; width: auto;} td:nth-child(2) {text-align: left ; width: 100%}\n",
       "    .wandb-row { display: flex; flex-direction: row; flex-wrap: wrap; justify-content: flex-start; width: 100% }\n",
       "    .wandb-col { display: flex; flex-direction: column; flex-basis: 100%; flex: 1; padding: 10px; }\n",
       "    </style>\n",
       "<div class=\"wandb-row\"><div class=\"wandb-col\"><h3>Run history:</h3><br/><table class=\"wandb\"><tr><td>regret</td><td>▁</td></tr></table><br/></div><div class=\"wandb-col\"><h3>Run summary:</h3><br/><table class=\"wandb\"><tr><td>regret</td><td>83893.31684</td></tr></table><br/></div></div>"
      ],
      "text/plain": [
       "<IPython.core.display.HTML object>"
      ]
     },
     "metadata": {},
     "output_type": "display_data"
    },
    {
     "data": {
      "text/html": [
       " View run <strong style=\"color:#cdcd00\">eternal-sweep-134</strong> at: <a href='https://wandb.ai/rl_shobhith/uncategorized/runs/c2i7qhj1/workspace' target=\"_blank\">https://wandb.ai/rl_shobhith/uncategorized/runs/c2i7qhj1/workspace</a><br/>Synced 5 W&B file(s), 0 media file(s), 0 artifact file(s) and 0 other file(s)"
      ],
      "text/plain": [
       "<IPython.core.display.HTML object>"
      ]
     },
     "metadata": {},
     "output_type": "display_data"
    },
    {
     "data": {
      "text/html": [
       "Find logs at: <code>.\\wandb\\run-20240401_234034-c2i7qhj1\\logs</code>"
      ],
      "text/plain": [
       "<IPython.core.display.HTML object>"
      ]
     },
     "metadata": {},
     "output_type": "display_data"
    },
    {
     "name": "stderr",
     "output_type": "stream",
     "text": [
      "\u001b[34m\u001b[1mwandb\u001b[0m: Sweep Agent: Waiting for job.\n",
      "\u001b[34m\u001b[1mwandb\u001b[0m: Job received.\n",
      "\u001b[34m\u001b[1mwandb\u001b[0m: Agent Starting Run: jl7a0riu with config:\n",
      "\u001b[34m\u001b[1mwandb\u001b[0m: \thidden_dim: 64\n",
      "\u001b[34m\u001b[1mwandb\u001b[0m: \tlearning_rate: 0.0008873949142736087\n",
      "Failed to detect the name of this notebook, you can set it manually with the WANDB_NOTEBOOK_NAME environment variable to enable code saving.\n"
     ]
    },
    {
     "data": {
      "text/html": [
       "Tracking run with wandb version 0.16.5"
      ],
      "text/plain": [
       "<IPython.core.display.HTML object>"
      ]
     },
     "metadata": {},
     "output_type": "display_data"
    },
    {
     "data": {
      "text/html": [
       "Run data is saved locally in <code>c:\\Users\\Shobhith Vadlamudi\\Desktop\\3rd Year\\SEM 6\\RL\\wandb\\run-20240401_234106-jl7a0riu</code>"
      ],
      "text/plain": [
       "<IPython.core.display.HTML object>"
      ]
     },
     "metadata": {},
     "output_type": "display_data"
    },
    {
     "data": {
      "text/html": [
       "Syncing run <strong><a href='https://wandb.ai/rl_shobhith/uncategorized/runs/jl7a0riu/workspace' target=\"_blank\">vibrant-sweep-135</a></strong> to <a href='https://wandb.ai/rl_shobhith/uncategorized' target=\"_blank\">Weights & Biases</a> (<a href='https://wandb.me/run' target=\"_blank\">docs</a>)<br/>Sweep page: <a href='https://wandb.ai/rl_shobhith/uncategorized/sweeps/ebygp3ca' target=\"_blank\">https://wandb.ai/rl_shobhith/uncategorized/sweeps/ebygp3ca</a>"
      ],
      "text/plain": [
       "<IPython.core.display.HTML object>"
      ]
     },
     "metadata": {},
     "output_type": "display_data"
    },
    {
     "data": {
      "text/html": [
       " View project at <a href='https://wandb.ai/rl_shobhith/uncategorized' target=\"_blank\">https://wandb.ai/rl_shobhith/uncategorized</a>"
      ],
      "text/plain": [
       "<IPython.core.display.HTML object>"
      ]
     },
     "metadata": {},
     "output_type": "display_data"
    },
    {
     "data": {
      "text/html": [
       " View sweep at <a href='https://wandb.ai/rl_shobhith/uncategorized/sweeps/ebygp3ca' target=\"_blank\">https://wandb.ai/rl_shobhith/uncategorized/sweeps/ebygp3ca</a>"
      ],
      "text/plain": [
       "<IPython.core.display.HTML object>"
      ]
     },
     "metadata": {},
     "output_type": "display_data"
    },
    {
     "data": {
      "text/html": [
       " View run at <a href='https://wandb.ai/rl_shobhith/uncategorized/runs/jl7a0riu/workspace' target=\"_blank\">https://wandb.ai/rl_shobhith/uncategorized/runs/jl7a0riu/workspace</a>"
      ],
      "text/plain": [
       "<IPython.core.display.HTML object>"
      ]
     },
     "metadata": {},
     "output_type": "display_data"
    },
    {
     "name": "stderr",
     "output_type": "stream",
     "text": [
      "Iteration 0: 100%|██████████| 50/50 [00:00<00:00, 69.34it/s, episode_return=50, return=27.600]\n",
      "Iteration 1: 100%|██████████| 50/50 [00:00<00:00, 65.59it/s, episode_return=100, return=28.300]\n",
      "Iteration 2: 100%|██████████| 50/50 [00:01<00:00, 43.84it/s, episode_return=150, return=56.400]\n",
      "Iteration 3: 100%|██████████| 50/50 [00:01<00:00, 37.62it/s, episode_return=200, return=46.000]\n",
      "Iteration 4: 100%|██████████| 50/50 [00:01<00:00, 30.89it/s, episode_return=250, return=52.500]\n",
      "Iteration 5: 100%|██████████| 50/50 [00:02<00:00, 22.92it/s, episode_return=300, return=48.900]\n",
      "Iteration 6: 100%|██████████| 50/50 [00:02<00:00, 23.52it/s, episode_return=350, return=65.900]\n",
      "Iteration 7: 100%|██████████| 50/50 [00:02<00:00, 19.61it/s, episode_return=400, return=75.900]\n",
      "Iteration 8: 100%|██████████| 50/50 [00:03<00:00, 14.07it/s, episode_return=450, return=98.700] \n",
      "Iteration 9: 100%|██████████| 50/50 [00:04<00:00, 11.47it/s, episode_return=500, return=141.200]\n"
     ]
    },
    {
     "data": {
      "application/vnd.jupyter.widget-view+json": {
       "model_id": "b602432de52a4e15840eb2e3ffdb2e48",
       "version_major": 2,
       "version_minor": 0
      },
      "text/plain": [
       "VBox(children=(Label(value='0.001 MB of 0.001 MB uploaded\\r'), FloatProgress(value=1.0, max=1.0)))"
      ]
     },
     "metadata": {},
     "output_type": "display_data"
    },
    {
     "data": {
      "text/html": [
       "<style>\n",
       "    table.wandb td:nth-child(1) { padding: 0 10px; text-align: left ; width: auto;} td:nth-child(2) {text-align: left ; width: 100%}\n",
       "    .wandb-row { display: flex; flex-direction: row; flex-wrap: wrap; justify-content: flex-start; width: 100% }\n",
       "    .wandb-col { display: flex; flex-direction: column; flex-basis: 100%; flex: 1; padding: 10px; }\n",
       "    </style>\n",
       "<div class=\"wandb-row\"><div class=\"wandb-col\"><h3>Run history:</h3><br/><table class=\"wandb\"><tr><td>regret</td><td>▁</td></tr></table><br/></div><div class=\"wandb-col\"><h3>Run summary:</h3><br/><table class=\"wandb\"><tr><td>regret</td><td>71187.99352</td></tr></table><br/></div></div>"
      ],
      "text/plain": [
       "<IPython.core.display.HTML object>"
      ]
     },
     "metadata": {},
     "output_type": "display_data"
    },
    {
     "data": {
      "text/html": [
       " View run <strong style=\"color:#cdcd00\">vibrant-sweep-135</strong> at: <a href='https://wandb.ai/rl_shobhith/uncategorized/runs/jl7a0riu/workspace' target=\"_blank\">https://wandb.ai/rl_shobhith/uncategorized/runs/jl7a0riu/workspace</a><br/>Synced 5 W&B file(s), 0 media file(s), 0 artifact file(s) and 0 other file(s)"
      ],
      "text/plain": [
       "<IPython.core.display.HTML object>"
      ]
     },
     "metadata": {},
     "output_type": "display_data"
    },
    {
     "data": {
      "text/html": [
       "Find logs at: <code>.\\wandb\\run-20240401_234106-jl7a0riu\\logs</code>"
      ],
      "text/plain": [
       "<IPython.core.display.HTML object>"
      ]
     },
     "metadata": {},
     "output_type": "display_data"
    },
    {
     "name": "stderr",
     "output_type": "stream",
     "text": [
      "\u001b[34m\u001b[1mwandb\u001b[0m: Agent Starting Run: 90ygjh04 with config:\n",
      "\u001b[34m\u001b[1mwandb\u001b[0m: \thidden_dim: 128\n",
      "\u001b[34m\u001b[1mwandb\u001b[0m: \tlearning_rate: 0.0008448782460285859\n",
      "Failed to detect the name of this notebook, you can set it manually with the WANDB_NOTEBOOK_NAME environment variable to enable code saving.\n"
     ]
    },
    {
     "data": {
      "text/html": [
       "Tracking run with wandb version 0.16.5"
      ],
      "text/plain": [
       "<IPython.core.display.HTML object>"
      ]
     },
     "metadata": {},
     "output_type": "display_data"
    },
    {
     "data": {
      "text/html": [
       "Run data is saved locally in <code>c:\\Users\\Shobhith Vadlamudi\\Desktop\\3rd Year\\SEM 6\\RL\\wandb\\run-20240401_234137-90ygjh04</code>"
      ],
      "text/plain": [
       "<IPython.core.display.HTML object>"
      ]
     },
     "metadata": {},
     "output_type": "display_data"
    },
    {
     "data": {
      "text/html": [
       "Syncing run <strong><a href='https://wandb.ai/rl_shobhith/uncategorized/runs/90ygjh04/workspace' target=\"_blank\">swept-sweep-136</a></strong> to <a href='https://wandb.ai/rl_shobhith/uncategorized' target=\"_blank\">Weights & Biases</a> (<a href='https://wandb.me/run' target=\"_blank\">docs</a>)<br/>Sweep page: <a href='https://wandb.ai/rl_shobhith/uncategorized/sweeps/ebygp3ca' target=\"_blank\">https://wandb.ai/rl_shobhith/uncategorized/sweeps/ebygp3ca</a>"
      ],
      "text/plain": [
       "<IPython.core.display.HTML object>"
      ]
     },
     "metadata": {},
     "output_type": "display_data"
    },
    {
     "data": {
      "text/html": [
       " View project at <a href='https://wandb.ai/rl_shobhith/uncategorized' target=\"_blank\">https://wandb.ai/rl_shobhith/uncategorized</a>"
      ],
      "text/plain": [
       "<IPython.core.display.HTML object>"
      ]
     },
     "metadata": {},
     "output_type": "display_data"
    },
    {
     "data": {
      "text/html": [
       " View sweep at <a href='https://wandb.ai/rl_shobhith/uncategorized/sweeps/ebygp3ca' target=\"_blank\">https://wandb.ai/rl_shobhith/uncategorized/sweeps/ebygp3ca</a>"
      ],
      "text/plain": [
       "<IPython.core.display.HTML object>"
      ]
     },
     "metadata": {},
     "output_type": "display_data"
    },
    {
     "data": {
      "text/html": [
       " View run at <a href='https://wandb.ai/rl_shobhith/uncategorized/runs/90ygjh04/workspace' target=\"_blank\">https://wandb.ai/rl_shobhith/uncategorized/runs/90ygjh04/workspace</a>"
      ],
      "text/plain": [
       "<IPython.core.display.HTML object>"
      ]
     },
     "metadata": {},
     "output_type": "display_data"
    },
    {
     "name": "stderr",
     "output_type": "stream",
     "text": [
      "Iteration 0: 100%|██████████| 50/50 [00:00<00:00, 58.26it/s, episode_return=50, return=27.200]\n",
      "Iteration 1: 100%|██████████| 50/50 [00:01<00:00, 27.17it/s, episode_return=100, return=37.100]\n",
      "Iteration 2: 100%|██████████| 50/50 [00:02<00:00, 19.08it/s, episode_return=150, return=43.900]\n",
      "Iteration 3: 100%|██████████| 50/50 [00:03<00:00, 14.07it/s, episode_return=200, return=80.500] \n",
      "Iteration 4: 100%|██████████| 50/50 [00:05<00:00,  8.70it/s, episode_return=250, return=120.800]\n",
      "Iteration 5: 100%|██████████| 50/50 [00:11<00:00,  4.53it/s, episode_return=300, return=326.900]\n",
      "Iteration 6: 100%|██████████| 50/50 [00:12<00:00,  4.02it/s, episode_return=350, return=359.300]\n",
      "Iteration 7: 100%|██████████| 50/50 [00:08<00:00,  6.04it/s, episode_return=400, return=167.400]\n",
      "Iteration 8: 100%|██████████| 50/50 [00:11<00:00,  4.27it/s, episode_return=450, return=394.400]\n",
      "Iteration 9: 100%|██████████| 50/50 [00:16<00:00,  2.99it/s, episode_return=500, return=331.200]\n"
     ]
    },
    {
     "data": {
      "application/vnd.jupyter.widget-view+json": {
       "model_id": "82357a779efc4f018ac736bed55642a8",
       "version_major": 2,
       "version_minor": 0
      },
      "text/plain": [
       "VBox(children=(Label(value='0.001 MB of 0.001 MB uploaded\\r'), FloatProgress(value=1.0, max=1.0)))"
      ]
     },
     "metadata": {},
     "output_type": "display_data"
    },
    {
     "data": {
      "text/html": [
       "<style>\n",
       "    table.wandb td:nth-child(1) { padding: 0 10px; text-align: left ; width: auto;} td:nth-child(2) {text-align: left ; width: 100%}\n",
       "    .wandb-row { display: flex; flex-direction: row; flex-wrap: wrap; justify-content: flex-start; width: 100% }\n",
       "    .wandb-col { display: flex; flex-direction: column; flex-basis: 100%; flex: 1; padding: 10px; }\n",
       "    </style>\n",
       "<div class=\"wandb-row\"><div class=\"wandb-col\"><h3>Run history:</h3><br/><table class=\"wandb\"><tr><td>regret</td><td>▁</td></tr></table><br/></div><div class=\"wandb-col\"><h3>Run summary:</h3><br/><table class=\"wandb\"><tr><td>regret</td><td>40843.62161</td></tr></table><br/></div></div>"
      ],
      "text/plain": [
       "<IPython.core.display.HTML object>"
      ]
     },
     "metadata": {},
     "output_type": "display_data"
    },
    {
     "data": {
      "text/html": [
       " View run <strong style=\"color:#cdcd00\">swept-sweep-136</strong> at: <a href='https://wandb.ai/rl_shobhith/uncategorized/runs/90ygjh04/workspace' target=\"_blank\">https://wandb.ai/rl_shobhith/uncategorized/runs/90ygjh04/workspace</a><br/>Synced 5 W&B file(s), 0 media file(s), 0 artifact file(s) and 0 other file(s)"
      ],
      "text/plain": [
       "<IPython.core.display.HTML object>"
      ]
     },
     "metadata": {},
     "output_type": "display_data"
    },
    {
     "data": {
      "text/html": [
       "Find logs at: <code>.\\wandb\\run-20240401_234137-90ygjh04\\logs</code>"
      ],
      "text/plain": [
       "<IPython.core.display.HTML object>"
      ]
     },
     "metadata": {},
     "output_type": "display_data"
    },
    {
     "name": "stderr",
     "output_type": "stream",
     "text": [
      "\u001b[34m\u001b[1mwandb\u001b[0m: Sweep Agent: Waiting for job.\n",
      "\u001b[34m\u001b[1mwandb\u001b[0m: Job received.\n",
      "\u001b[34m\u001b[1mwandb\u001b[0m: Agent Starting Run: hlquzs7y with config:\n",
      "\u001b[34m\u001b[1mwandb\u001b[0m: \thidden_dim: 64\n",
      "\u001b[34m\u001b[1mwandb\u001b[0m: \tlearning_rate: 8.75814830428384e-05\n",
      "Failed to detect the name of this notebook, you can set it manually with the WANDB_NOTEBOOK_NAME environment variable to enable code saving.\n"
     ]
    },
    {
     "data": {
      "application/vnd.jupyter.widget-view+json": {
       "model_id": "eac12ea555374cb6b8492a929f711a2a",
       "version_major": 2,
       "version_minor": 0
      },
      "text/plain": [
       "VBox(children=(Label(value='Waiting for wandb.init()...\\r'), FloatProgress(value=0.011111111111111112, max=1.0…"
      ]
     },
     "metadata": {},
     "output_type": "display_data"
    },
    {
     "data": {
      "text/html": [
       "Tracking run with wandb version 0.16.5"
      ],
      "text/plain": [
       "<IPython.core.display.HTML object>"
      ]
     },
     "metadata": {},
     "output_type": "display_data"
    },
    {
     "data": {
      "text/html": [
       "Run data is saved locally in <code>c:\\Users\\Shobhith Vadlamudi\\Desktop\\3rd Year\\SEM 6\\RL\\wandb\\run-20240401_234312-hlquzs7y</code>"
      ],
      "text/plain": [
       "<IPython.core.display.HTML object>"
      ]
     },
     "metadata": {},
     "output_type": "display_data"
    },
    {
     "data": {
      "text/html": [
       "Syncing run <strong><a href='https://wandb.ai/rl_shobhith/uncategorized/runs/hlquzs7y/workspace' target=\"_blank\">rare-sweep-137</a></strong> to <a href='https://wandb.ai/rl_shobhith/uncategorized' target=\"_blank\">Weights & Biases</a> (<a href='https://wandb.me/run' target=\"_blank\">docs</a>)<br/>Sweep page: <a href='https://wandb.ai/rl_shobhith/uncategorized/sweeps/ebygp3ca' target=\"_blank\">https://wandb.ai/rl_shobhith/uncategorized/sweeps/ebygp3ca</a>"
      ],
      "text/plain": [
       "<IPython.core.display.HTML object>"
      ]
     },
     "metadata": {},
     "output_type": "display_data"
    },
    {
     "data": {
      "text/html": [
       " View project at <a href='https://wandb.ai/rl_shobhith/uncategorized' target=\"_blank\">https://wandb.ai/rl_shobhith/uncategorized</a>"
      ],
      "text/plain": [
       "<IPython.core.display.HTML object>"
      ]
     },
     "metadata": {},
     "output_type": "display_data"
    },
    {
     "data": {
      "text/html": [
       " View sweep at <a href='https://wandb.ai/rl_shobhith/uncategorized/sweeps/ebygp3ca' target=\"_blank\">https://wandb.ai/rl_shobhith/uncategorized/sweeps/ebygp3ca</a>"
      ],
      "text/plain": [
       "<IPython.core.display.HTML object>"
      ]
     },
     "metadata": {},
     "output_type": "display_data"
    },
    {
     "data": {
      "text/html": [
       " View run at <a href='https://wandb.ai/rl_shobhith/uncategorized/runs/hlquzs7y/workspace' target=\"_blank\">https://wandb.ai/rl_shobhith/uncategorized/runs/hlquzs7y/workspace</a>"
      ],
      "text/plain": [
       "<IPython.core.display.HTML object>"
      ]
     },
     "metadata": {},
     "output_type": "display_data"
    },
    {
     "name": "stderr",
     "output_type": "stream",
     "text": [
      "Iteration 0: 100%|██████████| 50/50 [00:00<00:00, 77.47it/s, episode_return=50, return=21.200]\n",
      "Iteration 1: 100%|██████████| 50/50 [00:00<00:00, 80.28it/s, episode_return=100, return=20.100]\n",
      "Iteration 2: 100%|██████████| 50/50 [00:00<00:00, 72.38it/s, episode_return=150, return=24.200]\n",
      "Iteration 3: 100%|██████████| 50/50 [00:00<00:00, 69.64it/s, episode_return=200, return=21.300]\n",
      "Iteration 4: 100%|██████████| 50/50 [00:00<00:00, 77.06it/s, episode_return=250, return=19.700]\n",
      "Iteration 5: 100%|██████████| 50/50 [00:00<00:00, 72.86it/s, episode_return=300, return=23.300]\n",
      "Iteration 6: 100%|██████████| 50/50 [00:00<00:00, 67.14it/s, episode_return=350, return=21.100]\n",
      "Iteration 7: 100%|██████████| 50/50 [00:00<00:00, 74.32it/s, episode_return=400, return=23.300]\n",
      "Iteration 8: 100%|██████████| 50/50 [00:00<00:00, 57.38it/s, episode_return=450, return=32.100]\n",
      "Iteration 9: 100%|██████████| 50/50 [00:00<00:00, 60.50it/s, episode_return=500, return=23.000]\n"
     ]
    },
    {
     "data": {
      "application/vnd.jupyter.widget-view+json": {
       "model_id": "645295357a5447aab0e4d86d9f464e9d",
       "version_major": 2,
       "version_minor": 0
      },
      "text/plain": [
       "VBox(children=(Label(value='0.001 MB of 0.001 MB uploaded\\r'), FloatProgress(value=1.0, max=1.0)))"
      ]
     },
     "metadata": {},
     "output_type": "display_data"
    },
    {
     "data": {
      "text/html": [
       "<style>\n",
       "    table.wandb td:nth-child(1) { padding: 0 10px; text-align: left ; width: auto;} td:nth-child(2) {text-align: left ; width: 100%}\n",
       "    .wandb-row { display: flex; flex-direction: row; flex-wrap: wrap; justify-content: flex-start; width: 100% }\n",
       "    .wandb-col { display: flex; flex-direction: column; flex-basis: 100%; flex: 1; padding: 10px; }\n",
       "    </style>\n",
       "<div class=\"wandb-row\"><div class=\"wandb-col\"><h3>Run history:</h3><br/><table class=\"wandb\"><tr><td>regret</td><td>▁</td></tr></table><br/></div><div class=\"wandb-col\"><h3>Run summary:</h3><br/><table class=\"wandb\"><tr><td>regret</td><td>85505.47322</td></tr></table><br/></div></div>"
      ],
      "text/plain": [
       "<IPython.core.display.HTML object>"
      ]
     },
     "metadata": {},
     "output_type": "display_data"
    },
    {
     "data": {
      "text/html": [
       " View run <strong style=\"color:#cdcd00\">rare-sweep-137</strong> at: <a href='https://wandb.ai/rl_shobhith/uncategorized/runs/hlquzs7y/workspace' target=\"_blank\">https://wandb.ai/rl_shobhith/uncategorized/runs/hlquzs7y/workspace</a><br/>Synced 5 W&B file(s), 0 media file(s), 0 artifact file(s) and 0 other file(s)"
      ],
      "text/plain": [
       "<IPython.core.display.HTML object>"
      ]
     },
     "metadata": {},
     "output_type": "display_data"
    },
    {
     "data": {
      "text/html": [
       "Find logs at: <code>.\\wandb\\run-20240401_234312-hlquzs7y\\logs</code>"
      ],
      "text/plain": [
       "<IPython.core.display.HTML object>"
      ]
     },
     "metadata": {},
     "output_type": "display_data"
    },
    {
     "name": "stderr",
     "output_type": "stream",
     "text": [
      "\u001b[34m\u001b[1mwandb\u001b[0m: Sweep Agent: Waiting for job.\n",
      "\u001b[34m\u001b[1mwandb\u001b[0m: Job received.\n",
      "\u001b[34m\u001b[1mwandb\u001b[0m: Agent Starting Run: i127ioku with config:\n",
      "\u001b[34m\u001b[1mwandb\u001b[0m: \thidden_dim: 256\n",
      "\u001b[34m\u001b[1mwandb\u001b[0m: \tlearning_rate: 1.355118314802394e-05\n",
      "Failed to detect the name of this notebook, you can set it manually with the WANDB_NOTEBOOK_NAME environment variable to enable code saving.\n"
     ]
    },
    {
     "data": {
      "text/html": [
       "Tracking run with wandb version 0.16.5"
      ],
      "text/plain": [
       "<IPython.core.display.HTML object>"
      ]
     },
     "metadata": {},
     "output_type": "display_data"
    },
    {
     "data": {
      "text/html": [
       "Run data is saved locally in <code>c:\\Users\\Shobhith Vadlamudi\\Desktop\\3rd Year\\SEM 6\\RL\\wandb\\run-20240401_234340-i127ioku</code>"
      ],
      "text/plain": [
       "<IPython.core.display.HTML object>"
      ]
     },
     "metadata": {},
     "output_type": "display_data"
    },
    {
     "data": {
      "text/html": [
       "Syncing run <strong><a href='https://wandb.ai/rl_shobhith/uncategorized/runs/i127ioku/workspace' target=\"_blank\">daily-sweep-138</a></strong> to <a href='https://wandb.ai/rl_shobhith/uncategorized' target=\"_blank\">Weights & Biases</a> (<a href='https://wandb.me/run' target=\"_blank\">docs</a>)<br/>Sweep page: <a href='https://wandb.ai/rl_shobhith/uncategorized/sweeps/ebygp3ca' target=\"_blank\">https://wandb.ai/rl_shobhith/uncategorized/sweeps/ebygp3ca</a>"
      ],
      "text/plain": [
       "<IPython.core.display.HTML object>"
      ]
     },
     "metadata": {},
     "output_type": "display_data"
    },
    {
     "data": {
      "text/html": [
       " View project at <a href='https://wandb.ai/rl_shobhith/uncategorized' target=\"_blank\">https://wandb.ai/rl_shobhith/uncategorized</a>"
      ],
      "text/plain": [
       "<IPython.core.display.HTML object>"
      ]
     },
     "metadata": {},
     "output_type": "display_data"
    },
    {
     "data": {
      "text/html": [
       " View sweep at <a href='https://wandb.ai/rl_shobhith/uncategorized/sweeps/ebygp3ca' target=\"_blank\">https://wandb.ai/rl_shobhith/uncategorized/sweeps/ebygp3ca</a>"
      ],
      "text/plain": [
       "<IPython.core.display.HTML object>"
      ]
     },
     "metadata": {},
     "output_type": "display_data"
    },
    {
     "data": {
      "text/html": [
       " View run at <a href='https://wandb.ai/rl_shobhith/uncategorized/runs/i127ioku/workspace' target=\"_blank\">https://wandb.ai/rl_shobhith/uncategorized/runs/i127ioku/workspace</a>"
      ],
      "text/plain": [
       "<IPython.core.display.HTML object>"
      ]
     },
     "metadata": {},
     "output_type": "display_data"
    },
    {
     "name": "stderr",
     "output_type": "stream",
     "text": [
      "Iteration 0: 100%|██████████| 50/50 [00:01<00:00, 44.34it/s, episode_return=50, return=19.800]\n",
      "Iteration 1: 100%|██████████| 50/50 [00:01<00:00, 47.48it/s, episode_return=100, return=19.500]\n",
      "Iteration 2: 100%|██████████| 50/50 [00:01<00:00, 49.86it/s, episode_return=150, return=21.000]\n",
      "Iteration 3: 100%|██████████| 50/50 [00:01<00:00, 48.00it/s, episode_return=200, return=19.800]\n",
      "Iteration 4: 100%|██████████| 50/50 [00:01<00:00, 46.09it/s, episode_return=250, return=19.000]\n",
      "Iteration 5: 100%|██████████| 50/50 [00:01<00:00, 45.20it/s, episode_return=300, return=22.300]\n",
      "Iteration 6: 100%|██████████| 50/50 [00:01<00:00, 45.83it/s, episode_return=350, return=17.200]\n",
      "Iteration 7: 100%|██████████| 50/50 [00:01<00:00, 45.22it/s, episode_return=400, return=20.400]\n",
      "Iteration 8: 100%|██████████| 50/50 [00:01<00:00, 40.54it/s, episode_return=450, return=24.300]\n",
      "Iteration 9: 100%|██████████| 50/50 [00:01<00:00, 45.28it/s, episode_return=500, return=18.900]\n"
     ]
    },
    {
     "data": {
      "application/vnd.jupyter.widget-view+json": {
       "model_id": "fa4dca2f7f51466da841e19c66f01d7f",
       "version_major": 2,
       "version_minor": 0
      },
      "text/plain": [
       "VBox(children=(Label(value='0.001 MB of 0.001 MB uploaded\\r'), FloatProgress(value=1.0, max=1.0)))"
      ]
     },
     "metadata": {},
     "output_type": "display_data"
    },
    {
     "data": {
      "text/html": [
       "<style>\n",
       "    table.wandb td:nth-child(1) { padding: 0 10px; text-align: left ; width: auto;} td:nth-child(2) {text-align: left ; width: 100%}\n",
       "    .wandb-row { display: flex; flex-direction: row; flex-wrap: wrap; justify-content: flex-start; width: 100% }\n",
       "    .wandb-col { display: flex; flex-direction: column; flex-basis: 100%; flex: 1; padding: 10px; }\n",
       "    </style>\n",
       "<div class=\"wandb-row\"><div class=\"wandb-col\"><h3>Run history:</h3><br/><table class=\"wandb\"><tr><td>regret</td><td>▁</td></tr></table><br/></div><div class=\"wandb-col\"><h3>Run summary:</h3><br/><table class=\"wandb\"><tr><td>regret</td><td>87394.96842</td></tr></table><br/></div></div>"
      ],
      "text/plain": [
       "<IPython.core.display.HTML object>"
      ]
     },
     "metadata": {},
     "output_type": "display_data"
    },
    {
     "data": {
      "text/html": [
       " View run <strong style=\"color:#cdcd00\">daily-sweep-138</strong> at: <a href='https://wandb.ai/rl_shobhith/uncategorized/runs/i127ioku/workspace' target=\"_blank\">https://wandb.ai/rl_shobhith/uncategorized/runs/i127ioku/workspace</a><br/>Synced 5 W&B file(s), 0 media file(s), 0 artifact file(s) and 0 other file(s)"
      ],
      "text/plain": [
       "<IPython.core.display.HTML object>"
      ]
     },
     "metadata": {},
     "output_type": "display_data"
    },
    {
     "data": {
      "text/html": [
       "Find logs at: <code>.\\wandb\\run-20240401_234340-i127ioku\\logs</code>"
      ],
      "text/plain": [
       "<IPython.core.display.HTML object>"
      ]
     },
     "metadata": {},
     "output_type": "display_data"
    },
    {
     "name": "stderr",
     "output_type": "stream",
     "text": [
      "\u001b[34m\u001b[1mwandb\u001b[0m: Agent Starting Run: 36erks4a with config:\n",
      "\u001b[34m\u001b[1mwandb\u001b[0m: \thidden_dim: 64\n",
      "\u001b[34m\u001b[1mwandb\u001b[0m: \tlearning_rate: 0.0009481003521372822\n",
      "Failed to detect the name of this notebook, you can set it manually with the WANDB_NOTEBOOK_NAME environment variable to enable code saving.\n"
     ]
    },
    {
     "data": {
      "text/html": [
       "Tracking run with wandb version 0.16.5"
      ],
      "text/plain": [
       "<IPython.core.display.HTML object>"
      ]
     },
     "metadata": {},
     "output_type": "display_data"
    },
    {
     "data": {
      "text/html": [
       "Run data is saved locally in <code>c:\\Users\\Shobhith Vadlamudi\\Desktop\\3rd Year\\SEM 6\\RL\\wandb\\run-20240401_234406-36erks4a</code>"
      ],
      "text/plain": [
       "<IPython.core.display.HTML object>"
      ]
     },
     "metadata": {},
     "output_type": "display_data"
    },
    {
     "data": {
      "text/html": [
       "Syncing run <strong><a href='https://wandb.ai/rl_shobhith/uncategorized/runs/36erks4a/workspace' target=\"_blank\">hearty-sweep-139</a></strong> to <a href='https://wandb.ai/rl_shobhith/uncategorized' target=\"_blank\">Weights & Biases</a> (<a href='https://wandb.me/run' target=\"_blank\">docs</a>)<br/>Sweep page: <a href='https://wandb.ai/rl_shobhith/uncategorized/sweeps/ebygp3ca' target=\"_blank\">https://wandb.ai/rl_shobhith/uncategorized/sweeps/ebygp3ca</a>"
      ],
      "text/plain": [
       "<IPython.core.display.HTML object>"
      ]
     },
     "metadata": {},
     "output_type": "display_data"
    },
    {
     "data": {
      "text/html": [
       " View project at <a href='https://wandb.ai/rl_shobhith/uncategorized' target=\"_blank\">https://wandb.ai/rl_shobhith/uncategorized</a>"
      ],
      "text/plain": [
       "<IPython.core.display.HTML object>"
      ]
     },
     "metadata": {},
     "output_type": "display_data"
    },
    {
     "data": {
      "text/html": [
       " View sweep at <a href='https://wandb.ai/rl_shobhith/uncategorized/sweeps/ebygp3ca' target=\"_blank\">https://wandb.ai/rl_shobhith/uncategorized/sweeps/ebygp3ca</a>"
      ],
      "text/plain": [
       "<IPython.core.display.HTML object>"
      ]
     },
     "metadata": {},
     "output_type": "display_data"
    },
    {
     "data": {
      "text/html": [
       " View run at <a href='https://wandb.ai/rl_shobhith/uncategorized/runs/36erks4a/workspace' target=\"_blank\">https://wandb.ai/rl_shobhith/uncategorized/runs/36erks4a/workspace</a>"
      ],
      "text/plain": [
       "<IPython.core.display.HTML object>"
      ]
     },
     "metadata": {},
     "output_type": "display_data"
    },
    {
     "name": "stderr",
     "output_type": "stream",
     "text": [
      "Iteration 0: 100%|██████████| 50/50 [00:00<00:00, 77.38it/s, episode_return=50, return=27.500]\n",
      "Iteration 1: 100%|██████████| 50/50 [00:00<00:00, 59.37it/s, episode_return=100, return=30.500]\n",
      "Iteration 2: 100%|██████████| 50/50 [00:01<00:00, 38.05it/s, episode_return=150, return=40.000]\n",
      "Iteration 3: 100%|██████████| 50/50 [00:01<00:00, 33.11it/s, episode_return=200, return=41.300]\n",
      "Iteration 4: 100%|██████████| 50/50 [00:02<00:00, 24.11it/s, episode_return=250, return=68.300]\n",
      "Iteration 5: 100%|██████████| 50/50 [00:02<00:00, 24.34it/s, episode_return=300, return=67.400]\n",
      "Iteration 6: 100%|██████████| 50/50 [00:02<00:00, 20.37it/s, episode_return=350, return=80.300]\n",
      "Iteration 7: 100%|██████████| 50/50 [00:04<00:00, 12.16it/s, episode_return=400, return=167.800]\n",
      "Iteration 8: 100%|██████████| 50/50 [00:04<00:00, 11.62it/s, episode_return=450, return=134.600]\n",
      "Iteration 9: 100%|██████████| 50/50 [00:07<00:00,  7.11it/s, episode_return=500, return=200.700]\n"
     ]
    },
    {
     "data": {
      "application/vnd.jupyter.widget-view+json": {
       "model_id": "851df6cf44684a819204e91848ffd54c",
       "version_major": 2,
       "version_minor": 0
      },
      "text/plain": [
       "VBox(children=(Label(value='0.001 MB of 0.001 MB uploaded\\r'), FloatProgress(value=1.0, max=1.0)))"
      ]
     },
     "metadata": {},
     "output_type": "display_data"
    },
    {
     "data": {
      "text/html": [
       "<style>\n",
       "    table.wandb td:nth-child(1) { padding: 0 10px; text-align: left ; width: auto;} td:nth-child(2) {text-align: left ; width: 100%}\n",
       "    .wandb-row { display: flex; flex-direction: row; flex-wrap: wrap; justify-content: flex-start; width: 100% }\n",
       "    .wandb-col { display: flex; flex-direction: column; flex-basis: 100%; flex: 1; padding: 10px; }\n",
       "    </style>\n",
       "<div class=\"wandb-row\"><div class=\"wandb-col\"><h3>Run history:</h3><br/><table class=\"wandb\"><tr><td>regret</td><td>▁</td></tr></table><br/></div><div class=\"wandb-col\"><h3>Run summary:</h3><br/><table class=\"wandb\"><tr><td>regret</td><td>66275.35296</td></tr></table><br/></div></div>"
      ],
      "text/plain": [
       "<IPython.core.display.HTML object>"
      ]
     },
     "metadata": {},
     "output_type": "display_data"
    },
    {
     "data": {
      "text/html": [
       " View run <strong style=\"color:#cdcd00\">hearty-sweep-139</strong> at: <a href='https://wandb.ai/rl_shobhith/uncategorized/runs/36erks4a/workspace' target=\"_blank\">https://wandb.ai/rl_shobhith/uncategorized/runs/36erks4a/workspace</a><br/>Synced 5 W&B file(s), 0 media file(s), 0 artifact file(s) and 0 other file(s)"
      ],
      "text/plain": [
       "<IPython.core.display.HTML object>"
      ]
     },
     "metadata": {},
     "output_type": "display_data"
    },
    {
     "data": {
      "text/html": [
       "Find logs at: <code>.\\wandb\\run-20240401_234406-36erks4a\\logs</code>"
      ],
      "text/plain": [
       "<IPython.core.display.HTML object>"
      ]
     },
     "metadata": {},
     "output_type": "display_data"
    },
    {
     "name": "stderr",
     "output_type": "stream",
     "text": [
      "\u001b[34m\u001b[1mwandb\u001b[0m: Agent Starting Run: ecadepm8 with config:\n",
      "\u001b[34m\u001b[1mwandb\u001b[0m: \thidden_dim: 256\n",
      "\u001b[34m\u001b[1mwandb\u001b[0m: \tlearning_rate: 0.00028543644634662326\n",
      "Failed to detect the name of this notebook, you can set it manually with the WANDB_NOTEBOOK_NAME environment variable to enable code saving.\n"
     ]
    },
    {
     "data": {
      "text/html": [
       "Tracking run with wandb version 0.16.5"
      ],
      "text/plain": [
       "<IPython.core.display.HTML object>"
      ]
     },
     "metadata": {},
     "output_type": "display_data"
    },
    {
     "data": {
      "text/html": [
       "Run data is saved locally in <code>c:\\Users\\Shobhith Vadlamudi\\Desktop\\3rd Year\\SEM 6\\RL\\wandb\\run-20240401_234443-ecadepm8</code>"
      ],
      "text/plain": [
       "<IPython.core.display.HTML object>"
      ]
     },
     "metadata": {},
     "output_type": "display_data"
    },
    {
     "data": {
      "text/html": [
       "Syncing run <strong><a href='https://wandb.ai/rl_shobhith/uncategorized/runs/ecadepm8/workspace' target=\"_blank\">sparkling-sweep-140</a></strong> to <a href='https://wandb.ai/rl_shobhith/uncategorized' target=\"_blank\">Weights & Biases</a> (<a href='https://wandb.me/run' target=\"_blank\">docs</a>)<br/>Sweep page: <a href='https://wandb.ai/rl_shobhith/uncategorized/sweeps/ebygp3ca' target=\"_blank\">https://wandb.ai/rl_shobhith/uncategorized/sweeps/ebygp3ca</a>"
      ],
      "text/plain": [
       "<IPython.core.display.HTML object>"
      ]
     },
     "metadata": {},
     "output_type": "display_data"
    },
    {
     "data": {
      "text/html": [
       " View project at <a href='https://wandb.ai/rl_shobhith/uncategorized' target=\"_blank\">https://wandb.ai/rl_shobhith/uncategorized</a>"
      ],
      "text/plain": [
       "<IPython.core.display.HTML object>"
      ]
     },
     "metadata": {},
     "output_type": "display_data"
    },
    {
     "data": {
      "text/html": [
       " View sweep at <a href='https://wandb.ai/rl_shobhith/uncategorized/sweeps/ebygp3ca' target=\"_blank\">https://wandb.ai/rl_shobhith/uncategorized/sweeps/ebygp3ca</a>"
      ],
      "text/plain": [
       "<IPython.core.display.HTML object>"
      ]
     },
     "metadata": {},
     "output_type": "display_data"
    },
    {
     "data": {
      "text/html": [
       " View run at <a href='https://wandb.ai/rl_shobhith/uncategorized/runs/ecadepm8/workspace' target=\"_blank\">https://wandb.ai/rl_shobhith/uncategorized/runs/ecadepm8/workspace</a>"
      ],
      "text/plain": [
       "<IPython.core.display.HTML object>"
      ]
     },
     "metadata": {},
     "output_type": "display_data"
    },
    {
     "name": "stderr",
     "output_type": "stream",
     "text": [
      "Iteration 0: 100%|██████████| 50/50 [00:00<00:00, 63.90it/s, episode_return=50, return=26.900]\n",
      "Iteration 1: 100%|██████████| 50/50 [00:01<00:00, 33.03it/s, episode_return=100, return=33.400]\n",
      "Iteration 2: 100%|██████████| 50/50 [00:01<00:00, 26.95it/s, episode_return=150, return=28.700]\n",
      "Iteration 3: 100%|██████████| 50/50 [00:02<00:00, 23.18it/s, episode_return=200, return=40.200]\n",
      "Iteration 4: 100%|██████████| 50/50 [00:02<00:00, 18.62it/s, episode_return=250, return=46.400]\n",
      "Iteration 5: 100%|██████████| 50/50 [00:03<00:00, 14.50it/s, episode_return=300, return=103.400]\n",
      "Iteration 6: 100%|██████████| 50/50 [00:04<00:00, 11.30it/s, episode_return=350, return=116.100]\n",
      "Iteration 7: 100%|██████████| 50/50 [00:06<00:00,  7.90it/s, episode_return=400, return=160.300]\n",
      "Iteration 8: 100%|██████████| 50/50 [00:07<00:00,  7.07it/s, episode_return=450, return=147.800]\n",
      "Iteration 9: 100%|██████████| 50/50 [00:08<00:00,  6.08it/s, episode_return=500, return=201.100]\n"
     ]
    },
    {
     "data": {
      "application/vnd.jupyter.widget-view+json": {
       "model_id": "3cc11a9dde5542af94d775d989f6cbde",
       "version_major": 2,
       "version_minor": 0
      },
      "text/plain": [
       "VBox(children=(Label(value='0.001 MB of 0.001 MB uploaded\\r'), FloatProgress(value=1.0, max=1.0)))"
      ]
     },
     "metadata": {},
     "output_type": "display_data"
    },
    {
     "data": {
      "text/html": [
       "<style>\n",
       "    table.wandb td:nth-child(1) { padding: 0 10px; text-align: left ; width: auto;} td:nth-child(2) {text-align: left ; width: 100%}\n",
       "    .wandb-row { display: flex; flex-direction: row; flex-wrap: wrap; justify-content: flex-start; width: 100% }\n",
       "    .wandb-col { display: flex; flex-direction: column; flex-basis: 100%; flex: 1; padding: 10px; }\n",
       "    </style>\n",
       "<div class=\"wandb-row\"><div class=\"wandb-col\"><h3>Run history:</h3><br/><table class=\"wandb\"><tr><td>regret</td><td>▁</td></tr></table><br/></div><div class=\"wandb-col\"><h3>Run summary:</h3><br/><table class=\"wandb\"><tr><td>regret</td><td>65323.16973</td></tr></table><br/></div></div>"
      ],
      "text/plain": [
       "<IPython.core.display.HTML object>"
      ]
     },
     "metadata": {},
     "output_type": "display_data"
    },
    {
     "data": {
      "text/html": [
       " View run <strong style=\"color:#cdcd00\">sparkling-sweep-140</strong> at: <a href='https://wandb.ai/rl_shobhith/uncategorized/runs/ecadepm8/workspace' target=\"_blank\">https://wandb.ai/rl_shobhith/uncategorized/runs/ecadepm8/workspace</a><br/>Synced 5 W&B file(s), 0 media file(s), 0 artifact file(s) and 0 other file(s)"
      ],
      "text/plain": [
       "<IPython.core.display.HTML object>"
      ]
     },
     "metadata": {},
     "output_type": "display_data"
    },
    {
     "data": {
      "text/html": [
       "Find logs at: <code>.\\wandb\\run-20240401_234443-ecadepm8\\logs</code>"
      ],
      "text/plain": [
       "<IPython.core.display.HTML object>"
      ]
     },
     "metadata": {},
     "output_type": "display_data"
    },
    {
     "name": "stderr",
     "output_type": "stream",
     "text": [
      "\u001b[34m\u001b[1mwandb\u001b[0m: Agent Starting Run: zor6d7bn with config:\n",
      "\u001b[34m\u001b[1mwandb\u001b[0m: \thidden_dim: 256\n",
      "\u001b[34m\u001b[1mwandb\u001b[0m: \tlearning_rate: 0.0004257653517820208\n",
      "Failed to detect the name of this notebook, you can set it manually with the WANDB_NOTEBOOK_NAME environment variable to enable code saving.\n"
     ]
    },
    {
     "data": {
      "text/html": [
       "Tracking run with wandb version 0.16.5"
      ],
      "text/plain": [
       "<IPython.core.display.HTML object>"
      ]
     },
     "metadata": {},
     "output_type": "display_data"
    },
    {
     "data": {
      "text/html": [
       "Run data is saved locally in <code>c:\\Users\\Shobhith Vadlamudi\\Desktop\\3rd Year\\SEM 6\\RL\\wandb\\run-20240401_234536-zor6d7bn</code>"
      ],
      "text/plain": [
       "<IPython.core.display.HTML object>"
      ]
     },
     "metadata": {},
     "output_type": "display_data"
    },
    {
     "data": {
      "text/html": [
       "Syncing run <strong><a href='https://wandb.ai/rl_shobhith/uncategorized/runs/zor6d7bn/workspace' target=\"_blank\">rare-sweep-141</a></strong> to <a href='https://wandb.ai/rl_shobhith/uncategorized' target=\"_blank\">Weights & Biases</a> (<a href='https://wandb.me/run' target=\"_blank\">docs</a>)<br/>Sweep page: <a href='https://wandb.ai/rl_shobhith/uncategorized/sweeps/ebygp3ca' target=\"_blank\">https://wandb.ai/rl_shobhith/uncategorized/sweeps/ebygp3ca</a>"
      ],
      "text/plain": [
       "<IPython.core.display.HTML object>"
      ]
     },
     "metadata": {},
     "output_type": "display_data"
    },
    {
     "data": {
      "text/html": [
       " View project at <a href='https://wandb.ai/rl_shobhith/uncategorized' target=\"_blank\">https://wandb.ai/rl_shobhith/uncategorized</a>"
      ],
      "text/plain": [
       "<IPython.core.display.HTML object>"
      ]
     },
     "metadata": {},
     "output_type": "display_data"
    },
    {
     "data": {
      "text/html": [
       " View sweep at <a href='https://wandb.ai/rl_shobhith/uncategorized/sweeps/ebygp3ca' target=\"_blank\">https://wandb.ai/rl_shobhith/uncategorized/sweeps/ebygp3ca</a>"
      ],
      "text/plain": [
       "<IPython.core.display.HTML object>"
      ]
     },
     "metadata": {},
     "output_type": "display_data"
    },
    {
     "data": {
      "text/html": [
       " View run at <a href='https://wandb.ai/rl_shobhith/uncategorized/runs/zor6d7bn/workspace' target=\"_blank\">https://wandb.ai/rl_shobhith/uncategorized/runs/zor6d7bn/workspace</a>"
      ],
      "text/plain": [
       "<IPython.core.display.HTML object>"
      ]
     },
     "metadata": {},
     "output_type": "display_data"
    },
    {
     "name": "stderr",
     "output_type": "stream",
     "text": [
      "Iteration 0: 100%|██████████| 50/50 [00:01<00:00, 48.93it/s, episode_return=50, return=25.000]\n",
      "Iteration 1: 100%|██████████| 50/50 [00:01<00:00, 28.99it/s, episode_return=100, return=38.900]\n",
      "Iteration 2: 100%|██████████| 50/50 [00:02<00:00, 23.84it/s, episode_return=150, return=42.400]\n",
      "Iteration 3: 100%|██████████| 50/50 [00:03<00:00, 15.32it/s, episode_return=200, return=86.400]\n",
      "Iteration 4: 100%|██████████| 50/50 [00:04<00:00, 11.31it/s, episode_return=250, return=117.000]\n",
      "Iteration 5: 100%|██████████| 50/50 [00:06<00:00,  8.14it/s, episode_return=300, return=101.500]\n",
      "Iteration 6: 100%|██████████| 50/50 [00:07<00:00,  6.98it/s, episode_return=350, return=157.300]\n",
      "Iteration 7: 100%|██████████| 50/50 [00:10<00:00,  4.85it/s, episode_return=400, return=217.100]\n",
      "Iteration 8: 100%|██████████| 50/50 [00:09<00:00,  5.34it/s, episode_return=450, return=145.600]\n",
      "Iteration 9: 100%|██████████| 50/50 [00:10<00:00,  4.96it/s, episode_return=500, return=240.900]\n"
     ]
    },
    {
     "data": {
      "application/vnd.jupyter.widget-view+json": {
       "model_id": "a08a95bed0e34fd8abde428f70153335",
       "version_major": 2,
       "version_minor": 0
      },
      "text/plain": [
       "VBox(children=(Label(value='0.001 MB of 0.001 MB uploaded\\r'), FloatProgress(value=1.0, max=1.0)))"
      ]
     },
     "metadata": {},
     "output_type": "display_data"
    },
    {
     "data": {
      "text/html": [
       "<style>\n",
       "    table.wandb td:nth-child(1) { padding: 0 10px; text-align: left ; width: auto;} td:nth-child(2) {text-align: left ; width: 100%}\n",
       "    .wandb-row { display: flex; flex-direction: row; flex-wrap: wrap; justify-content: flex-start; width: 100% }\n",
       "    .wandb-col { display: flex; flex-direction: column; flex-basis: 100%; flex: 1; padding: 10px; }\n",
       "    </style>\n",
       "<div class=\"wandb-row\"><div class=\"wandb-col\"><h3>Run history:</h3><br/><table class=\"wandb\"><tr><td>regret</td><td>▁</td></tr></table><br/></div><div class=\"wandb-col\"><h3>Run summary:</h3><br/><table class=\"wandb\"><tr><td>regret</td><td>50475.01299</td></tr></table><br/></div></div>"
      ],
      "text/plain": [
       "<IPython.core.display.HTML object>"
      ]
     },
     "metadata": {},
     "output_type": "display_data"
    },
    {
     "data": {
      "text/html": [
       " View run <strong style=\"color:#cdcd00\">rare-sweep-141</strong> at: <a href='https://wandb.ai/rl_shobhith/uncategorized/runs/zor6d7bn/workspace' target=\"_blank\">https://wandb.ai/rl_shobhith/uncategorized/runs/zor6d7bn/workspace</a><br/>Synced 5 W&B file(s), 0 media file(s), 0 artifact file(s) and 0 other file(s)"
      ],
      "text/plain": [
       "<IPython.core.display.HTML object>"
      ]
     },
     "metadata": {},
     "output_type": "display_data"
    },
    {
     "data": {
      "text/html": [
       "Find logs at: <code>.\\wandb\\run-20240401_234536-zor6d7bn\\logs</code>"
      ],
      "text/plain": [
       "<IPython.core.display.HTML object>"
      ]
     },
     "metadata": {},
     "output_type": "display_data"
    },
    {
     "name": "stderr",
     "output_type": "stream",
     "text": [
      "\u001b[34m\u001b[1mwandb\u001b[0m: Sweep Agent: Waiting for job.\n",
      "\u001b[34m\u001b[1mwandb\u001b[0m: Job received.\n",
      "\u001b[34m\u001b[1mwandb\u001b[0m: Agent Starting Run: 6fhullc0 with config:\n",
      "\u001b[34m\u001b[1mwandb\u001b[0m: \thidden_dim: 256\n",
      "\u001b[34m\u001b[1mwandb\u001b[0m: \tlearning_rate: 0.00015371504370424057\n",
      "Failed to detect the name of this notebook, you can set it manually with the WANDB_NOTEBOOK_NAME environment variable to enable code saving.\n"
     ]
    },
    {
     "data": {
      "text/html": [
       "Tracking run with wandb version 0.16.5"
      ],
      "text/plain": [
       "<IPython.core.display.HTML object>"
      ]
     },
     "metadata": {},
     "output_type": "display_data"
    },
    {
     "data": {
      "text/html": [
       "Run data is saved locally in <code>c:\\Users\\Shobhith Vadlamudi\\Desktop\\3rd Year\\SEM 6\\RL\\wandb\\run-20240401_234650-6fhullc0</code>"
      ],
      "text/plain": [
       "<IPython.core.display.HTML object>"
      ]
     },
     "metadata": {},
     "output_type": "display_data"
    },
    {
     "data": {
      "text/html": [
       "Syncing run <strong><a href='https://wandb.ai/rl_shobhith/uncategorized/runs/6fhullc0/workspace' target=\"_blank\">drawn-sweep-142</a></strong> to <a href='https://wandb.ai/rl_shobhith/uncategorized' target=\"_blank\">Weights & Biases</a> (<a href='https://wandb.me/run' target=\"_blank\">docs</a>)<br/>Sweep page: <a href='https://wandb.ai/rl_shobhith/uncategorized/sweeps/ebygp3ca' target=\"_blank\">https://wandb.ai/rl_shobhith/uncategorized/sweeps/ebygp3ca</a>"
      ],
      "text/plain": [
       "<IPython.core.display.HTML object>"
      ]
     },
     "metadata": {},
     "output_type": "display_data"
    },
    {
     "data": {
      "text/html": [
       " View project at <a href='https://wandb.ai/rl_shobhith/uncategorized' target=\"_blank\">https://wandb.ai/rl_shobhith/uncategorized</a>"
      ],
      "text/plain": [
       "<IPython.core.display.HTML object>"
      ]
     },
     "metadata": {},
     "output_type": "display_data"
    },
    {
     "data": {
      "text/html": [
       " View sweep at <a href='https://wandb.ai/rl_shobhith/uncategorized/sweeps/ebygp3ca' target=\"_blank\">https://wandb.ai/rl_shobhith/uncategorized/sweeps/ebygp3ca</a>"
      ],
      "text/plain": [
       "<IPython.core.display.HTML object>"
      ]
     },
     "metadata": {},
     "output_type": "display_data"
    },
    {
     "data": {
      "text/html": [
       " View run at <a href='https://wandb.ai/rl_shobhith/uncategorized/runs/6fhullc0/workspace' target=\"_blank\">https://wandb.ai/rl_shobhith/uncategorized/runs/6fhullc0/workspace</a>"
      ],
      "text/plain": [
       "<IPython.core.display.HTML object>"
      ]
     },
     "metadata": {},
     "output_type": "display_data"
    },
    {
     "name": "stderr",
     "output_type": "stream",
     "text": [
      "Iteration 0: 100%|██████████| 50/50 [00:01<00:00, 38.98it/s, episode_return=50, return=21.800]\n",
      "Iteration 1: 100%|██████████| 50/50 [00:01<00:00, 39.87it/s, episode_return=100, return=23.700]\n",
      "Iteration 2: 100%|██████████| 50/50 [00:01<00:00, 27.89it/s, episode_return=150, return=24.900]\n",
      "Iteration 3: 100%|██████████| 50/50 [00:01<00:00, 32.55it/s, episode_return=200, return=32.100]\n",
      "Iteration 4: 100%|██████████| 50/50 [00:01<00:00, 27.29it/s, episode_return=250, return=45.600]\n",
      "Iteration 5: 100%|██████████| 50/50 [00:01<00:00, 28.88it/s, episode_return=300, return=40.300]\n",
      "Iteration 6: 100%|██████████| 50/50 [00:02<00:00, 23.09it/s, episode_return=350, return=42.800]\n",
      "Iteration 7: 100%|██████████| 50/50 [00:02<00:00, 18.47it/s, episode_return=400, return=55.500]\n",
      "Iteration 8: 100%|██████████| 50/50 [00:02<00:00, 23.19it/s, episode_return=450, return=44.900]\n",
      "Iteration 9: 100%|██████████| 50/50 [00:02<00:00, 17.82it/s, episode_return=500, return=59.000]\n"
     ]
    },
    {
     "data": {
      "application/vnd.jupyter.widget-view+json": {
       "model_id": "be759608a87d4be087d957cefc970ec5",
       "version_major": 2,
       "version_minor": 0
      },
      "text/plain": [
       "VBox(children=(Label(value='0.001 MB of 0.001 MB uploaded\\r'), FloatProgress(value=1.0, max=1.0)))"
      ]
     },
     "metadata": {},
     "output_type": "display_data"
    },
    {
     "data": {
      "text/html": [
       "<style>\n",
       "    table.wandb td:nth-child(1) { padding: 0 10px; text-align: left ; width: auto;} td:nth-child(2) {text-align: left ; width: 100%}\n",
       "    .wandb-row { display: flex; flex-direction: row; flex-wrap: wrap; justify-content: flex-start; width: 100% }\n",
       "    .wandb-col { display: flex; flex-direction: column; flex-basis: 100%; flex: 1; padding: 10px; }\n",
       "    </style>\n",
       "<div class=\"wandb-row\"><div class=\"wandb-col\"><h3>Run history:</h3><br/><table class=\"wandb\"><tr><td>regret</td><td>▁</td></tr></table><br/></div><div class=\"wandb-col\"><h3>Run summary:</h3><br/><table class=\"wandb\"><tr><td>regret</td><td>79903.57609</td></tr></table><br/></div></div>"
      ],
      "text/plain": [
       "<IPython.core.display.HTML object>"
      ]
     },
     "metadata": {},
     "output_type": "display_data"
    },
    {
     "data": {
      "text/html": [
       " View run <strong style=\"color:#cdcd00\">drawn-sweep-142</strong> at: <a href='https://wandb.ai/rl_shobhith/uncategorized/runs/6fhullc0/workspace' target=\"_blank\">https://wandb.ai/rl_shobhith/uncategorized/runs/6fhullc0/workspace</a><br/>Synced 5 W&B file(s), 0 media file(s), 0 artifact file(s) and 0 other file(s)"
      ],
      "text/plain": [
       "<IPython.core.display.HTML object>"
      ]
     },
     "metadata": {},
     "output_type": "display_data"
    },
    {
     "data": {
      "text/html": [
       "Find logs at: <code>.\\wandb\\run-20240401_234650-6fhullc0\\logs</code>"
      ],
      "text/plain": [
       "<IPython.core.display.HTML object>"
      ]
     },
     "metadata": {},
     "output_type": "display_data"
    },
    {
     "name": "stderr",
     "output_type": "stream",
     "text": [
      "\u001b[34m\u001b[1mwandb\u001b[0m: Agent Starting Run: nbf53hy6 with config:\n",
      "\u001b[34m\u001b[1mwandb\u001b[0m: \thidden_dim: 128\n",
      "\u001b[34m\u001b[1mwandb\u001b[0m: \tlearning_rate: 0.00032989940572168317\n",
      "Failed to detect the name of this notebook, you can set it manually with the WANDB_NOTEBOOK_NAME environment variable to enable code saving.\n"
     ]
    },
    {
     "data": {
      "text/html": [
       "Tracking run with wandb version 0.16.5"
      ],
      "text/plain": [
       "<IPython.core.display.HTML object>"
      ]
     },
     "metadata": {},
     "output_type": "display_data"
    },
    {
     "data": {
      "text/html": [
       "Run data is saved locally in <code>c:\\Users\\Shobhith Vadlamudi\\Desktop\\3rd Year\\SEM 6\\RL\\wandb\\run-20240401_234723-nbf53hy6</code>"
      ],
      "text/plain": [
       "<IPython.core.display.HTML object>"
      ]
     },
     "metadata": {},
     "output_type": "display_data"
    },
    {
     "data": {
      "text/html": [
       "Syncing run <strong><a href='https://wandb.ai/rl_shobhith/uncategorized/runs/nbf53hy6/workspace' target=\"_blank\">stilted-sweep-143</a></strong> to <a href='https://wandb.ai/rl_shobhith/uncategorized' target=\"_blank\">Weights & Biases</a> (<a href='https://wandb.me/run' target=\"_blank\">docs</a>)<br/>Sweep page: <a href='https://wandb.ai/rl_shobhith/uncategorized/sweeps/ebygp3ca' target=\"_blank\">https://wandb.ai/rl_shobhith/uncategorized/sweeps/ebygp3ca</a>"
      ],
      "text/plain": [
       "<IPython.core.display.HTML object>"
      ]
     },
     "metadata": {},
     "output_type": "display_data"
    },
    {
     "data": {
      "text/html": [
       " View project at <a href='https://wandb.ai/rl_shobhith/uncategorized' target=\"_blank\">https://wandb.ai/rl_shobhith/uncategorized</a>"
      ],
      "text/plain": [
       "<IPython.core.display.HTML object>"
      ]
     },
     "metadata": {},
     "output_type": "display_data"
    },
    {
     "data": {
      "text/html": [
       " View sweep at <a href='https://wandb.ai/rl_shobhith/uncategorized/sweeps/ebygp3ca' target=\"_blank\">https://wandb.ai/rl_shobhith/uncategorized/sweeps/ebygp3ca</a>"
      ],
      "text/plain": [
       "<IPython.core.display.HTML object>"
      ]
     },
     "metadata": {},
     "output_type": "display_data"
    },
    {
     "data": {
      "text/html": [
       " View run at <a href='https://wandb.ai/rl_shobhith/uncategorized/runs/nbf53hy6/workspace' target=\"_blank\">https://wandb.ai/rl_shobhith/uncategorized/runs/nbf53hy6/workspace</a>"
      ],
      "text/plain": [
       "<IPython.core.display.HTML object>"
      ]
     },
     "metadata": {},
     "output_type": "display_data"
    },
    {
     "name": "stderr",
     "output_type": "stream",
     "text": [
      "Iteration 0: 100%|██████████| 50/50 [00:00<00:00, 79.17it/s, episode_return=50, return=20.800]\n",
      "Iteration 1: 100%|██████████| 50/50 [00:00<00:00, 64.72it/s, episode_return=100, return=27.700]\n",
      "Iteration 2: 100%|██████████| 50/50 [00:01<00:00, 34.08it/s, episode_return=150, return=28.400]\n",
      "Iteration 3: 100%|██████████| 50/50 [00:01<00:00, 31.92it/s, episode_return=200, return=29.600]\n",
      "Iteration 4: 100%|██████████| 50/50 [00:02<00:00, 23.20it/s, episode_return=250, return=49.600]\n",
      "Iteration 5: 100%|██████████| 50/50 [00:02<00:00, 24.02it/s, episode_return=300, return=37.200]\n",
      "Iteration 6: 100%|██████████| 50/50 [00:02<00:00, 23.58it/s, episode_return=350, return=63.100]\n",
      "Iteration 7: 100%|██████████| 50/50 [00:02<00:00, 22.09it/s, episode_return=400, return=34.100]\n",
      "Iteration 8: 100%|██████████| 50/50 [00:03<00:00, 16.10it/s, episode_return=450, return=79.400]\n",
      "Iteration 9: 100%|██████████| 50/50 [00:03<00:00, 14.34it/s, episode_return=500, return=100.600]\n"
     ]
    },
    {
     "data": {
      "application/vnd.jupyter.widget-view+json": {
       "model_id": "98a30ae4d2f042789b46c452e033515c",
       "version_major": 2,
       "version_minor": 0
      },
      "text/plain": [
       "VBox(children=(Label(value='0.001 MB of 0.007 MB uploaded\\r'), FloatProgress(value=0.17082191780821918, max=1.…"
      ]
     },
     "metadata": {},
     "output_type": "display_data"
    },
    {
     "data": {
      "text/html": [
       "<style>\n",
       "    table.wandb td:nth-child(1) { padding: 0 10px; text-align: left ; width: auto;} td:nth-child(2) {text-align: left ; width: 100%}\n",
       "    .wandb-row { display: flex; flex-direction: row; flex-wrap: wrap; justify-content: flex-start; width: 100% }\n",
       "    .wandb-col { display: flex; flex-direction: column; flex-basis: 100%; flex: 1; padding: 10px; }\n",
       "    </style>\n",
       "<div class=\"wandb-row\"><div class=\"wandb-col\"><h3>Run history:</h3><br/><table class=\"wandb\"><tr><td>regret</td><td>▁</td></tr></table><br/></div><div class=\"wandb-col\"><h3>Run summary:</h3><br/><table class=\"wandb\"><tr><td>regret</td><td>77552.19242</td></tr></table><br/></div></div>"
      ],
      "text/plain": [
       "<IPython.core.display.HTML object>"
      ]
     },
     "metadata": {},
     "output_type": "display_data"
    },
    {
     "data": {
      "text/html": [
       " View run <strong style=\"color:#cdcd00\">stilted-sweep-143</strong> at: <a href='https://wandb.ai/rl_shobhith/uncategorized/runs/nbf53hy6/workspace' target=\"_blank\">https://wandb.ai/rl_shobhith/uncategorized/runs/nbf53hy6/workspace</a><br/>Synced 5 W&B file(s), 0 media file(s), 0 artifact file(s) and 0 other file(s)"
      ],
      "text/plain": [
       "<IPython.core.display.HTML object>"
      ]
     },
     "metadata": {},
     "output_type": "display_data"
    },
    {
     "data": {
      "text/html": [
       "Find logs at: <code>.\\wandb\\run-20240401_234723-nbf53hy6\\logs</code>"
      ],
      "text/plain": [
       "<IPython.core.display.HTML object>"
      ]
     },
     "metadata": {},
     "output_type": "display_data"
    },
    {
     "name": "stderr",
     "output_type": "stream",
     "text": [
      "\u001b[34m\u001b[1mwandb\u001b[0m: Agent Starting Run: dskg1q38 with config:\n",
      "\u001b[34m\u001b[1mwandb\u001b[0m: \thidden_dim: 64\n",
      "\u001b[34m\u001b[1mwandb\u001b[0m: \tlearning_rate: 0.0009328820453203786\n",
      "Failed to detect the name of this notebook, you can set it manually with the WANDB_NOTEBOOK_NAME environment variable to enable code saving.\n"
     ]
    },
    {
     "data": {
      "application/vnd.jupyter.widget-view+json": {
       "model_id": "8a11a6c64ac1473880fdc9610409dda2",
       "version_major": 2,
       "version_minor": 0
      },
      "text/plain": [
       "VBox(children=(Label(value='Waiting for wandb.init()...\\r'), FloatProgress(value=0.011111111111111112, max=1.0…"
      ]
     },
     "metadata": {},
     "output_type": "display_data"
    },
    {
     "data": {
      "text/html": [
       "Tracking run with wandb version 0.16.5"
      ],
      "text/plain": [
       "<IPython.core.display.HTML object>"
      ]
     },
     "metadata": {},
     "output_type": "display_data"
    },
    {
     "data": {
      "text/html": [
       "Run data is saved locally in <code>c:\\Users\\Shobhith Vadlamudi\\Desktop\\3rd Year\\SEM 6\\RL\\wandb\\run-20240401_234755-dskg1q38</code>"
      ],
      "text/plain": [
       "<IPython.core.display.HTML object>"
      ]
     },
     "metadata": {},
     "output_type": "display_data"
    },
    {
     "data": {
      "text/html": [
       "Syncing run <strong><a href='https://wandb.ai/rl_shobhith/uncategorized/runs/dskg1q38/workspace' target=\"_blank\">rare-sweep-144</a></strong> to <a href='https://wandb.ai/rl_shobhith/uncategorized' target=\"_blank\">Weights & Biases</a> (<a href='https://wandb.me/run' target=\"_blank\">docs</a>)<br/>Sweep page: <a href='https://wandb.ai/rl_shobhith/uncategorized/sweeps/ebygp3ca' target=\"_blank\">https://wandb.ai/rl_shobhith/uncategorized/sweeps/ebygp3ca</a>"
      ],
      "text/plain": [
       "<IPython.core.display.HTML object>"
      ]
     },
     "metadata": {},
     "output_type": "display_data"
    },
    {
     "data": {
      "text/html": [
       " View project at <a href='https://wandb.ai/rl_shobhith/uncategorized' target=\"_blank\">https://wandb.ai/rl_shobhith/uncategorized</a>"
      ],
      "text/plain": [
       "<IPython.core.display.HTML object>"
      ]
     },
     "metadata": {},
     "output_type": "display_data"
    },
    {
     "data": {
      "text/html": [
       " View sweep at <a href='https://wandb.ai/rl_shobhith/uncategorized/sweeps/ebygp3ca' target=\"_blank\">https://wandb.ai/rl_shobhith/uncategorized/sweeps/ebygp3ca</a>"
      ],
      "text/plain": [
       "<IPython.core.display.HTML object>"
      ]
     },
     "metadata": {},
     "output_type": "display_data"
    },
    {
     "data": {
      "text/html": [
       " View run at <a href='https://wandb.ai/rl_shobhith/uncategorized/runs/dskg1q38/workspace' target=\"_blank\">https://wandb.ai/rl_shobhith/uncategorized/runs/dskg1q38/workspace</a>"
      ],
      "text/plain": [
       "<IPython.core.display.HTML object>"
      ]
     },
     "metadata": {},
     "output_type": "display_data"
    },
    {
     "name": "stderr",
     "output_type": "stream",
     "text": [
      "Iteration 0: 100%|██████████| 50/50 [00:00<00:00, 77.99it/s, episode_return=50, return=24.300] \n",
      "Iteration 1: 100%|██████████| 50/50 [00:00<00:00, 50.75it/s, episode_return=100, return=48.600]\n",
      "Iteration 2: 100%|██████████| 50/50 [00:01<00:00, 48.49it/s, episode_return=150, return=38.500]\n",
      "Iteration 3: 100%|██████████| 50/50 [00:01<00:00, 36.89it/s, episode_return=200, return=44.700]\n",
      "Iteration 4: 100%|██████████| 50/50 [00:01<00:00, 28.65it/s, episode_return=250, return=39.900]\n",
      "Iteration 5: 100%|██████████| 50/50 [00:01<00:00, 26.92it/s, episode_return=300, return=57.100]\n",
      "Iteration 6: 100%|██████████| 50/50 [00:02<00:00, 20.55it/s, episode_return=350, return=88.200]\n",
      "Iteration 7: 100%|██████████| 50/50 [00:03<00:00, 14.84it/s, episode_return=400, return=111.600]\n",
      "Iteration 8: 100%|██████████| 50/50 [00:06<00:00,  7.85it/s, episode_return=450, return=273.600]\n",
      "Iteration 9: 100%|██████████| 50/50 [00:07<00:00,  6.54it/s, episode_return=500, return=163.500]\n"
     ]
    },
    {
     "data": {
      "application/vnd.jupyter.widget-view+json": {
       "model_id": "b7471437a2de483e9b4a4ccbee90a7a7",
       "version_major": 2,
       "version_minor": 0
      },
      "text/plain": [
       "VBox(children=(Label(value='0.001 MB of 0.001 MB uploaded\\r'), FloatProgress(value=1.0, max=1.0)))"
      ]
     },
     "metadata": {},
     "output_type": "display_data"
    },
    {
     "data": {
      "text/html": [
       "<style>\n",
       "    table.wandb td:nth-child(1) { padding: 0 10px; text-align: left ; width: auto;} td:nth-child(2) {text-align: left ; width: 100%}\n",
       "    .wandb-row { display: flex; flex-direction: row; flex-wrap: wrap; justify-content: flex-start; width: 100% }\n",
       "    .wandb-col { display: flex; flex-direction: column; flex-basis: 100%; flex: 1; padding: 10px; }\n",
       "    </style>\n",
       "<div class=\"wandb-row\"><div class=\"wandb-col\"><h3>Run history:</h3><br/><table class=\"wandb\"><tr><td>regret</td><td>▁</td></tr></table><br/></div><div class=\"wandb-col\"><h3>Run summary:</h3><br/><table class=\"wandb\"><tr><td>regret</td><td>64924.25409</td></tr></table><br/></div></div>"
      ],
      "text/plain": [
       "<IPython.core.display.HTML object>"
      ]
     },
     "metadata": {},
     "output_type": "display_data"
    },
    {
     "data": {
      "text/html": [
       " View run <strong style=\"color:#cdcd00\">rare-sweep-144</strong> at: <a href='https://wandb.ai/rl_shobhith/uncategorized/runs/dskg1q38/workspace' target=\"_blank\">https://wandb.ai/rl_shobhith/uncategorized/runs/dskg1q38/workspace</a><br/>Synced 5 W&B file(s), 0 media file(s), 0 artifact file(s) and 0 other file(s)"
      ],
      "text/plain": [
       "<IPython.core.display.HTML object>"
      ]
     },
     "metadata": {},
     "output_type": "display_data"
    },
    {
     "data": {
      "text/html": [
       "Find logs at: <code>.\\wandb\\run-20240401_234755-dskg1q38\\logs</code>"
      ],
      "text/plain": [
       "<IPython.core.display.HTML object>"
      ]
     },
     "metadata": {},
     "output_type": "display_data"
    },
    {
     "name": "stderr",
     "output_type": "stream",
     "text": [
      "\u001b[34m\u001b[1mwandb\u001b[0m: Agent Starting Run: n6ru054u with config:\n",
      "\u001b[34m\u001b[1mwandb\u001b[0m: \thidden_dim: 256\n",
      "\u001b[34m\u001b[1mwandb\u001b[0m: \tlearning_rate: 0.0003644426344101778\n",
      "Failed to detect the name of this notebook, you can set it manually with the WANDB_NOTEBOOK_NAME environment variable to enable code saving.\n"
     ]
    },
    {
     "data": {
      "text/html": [
       "Tracking run with wandb version 0.16.5"
      ],
      "text/plain": [
       "<IPython.core.display.HTML object>"
      ]
     },
     "metadata": {},
     "output_type": "display_data"
    },
    {
     "data": {
      "text/html": [
       "Run data is saved locally in <code>c:\\Users\\Shobhith Vadlamudi\\Desktop\\3rd Year\\SEM 6\\RL\\wandb\\run-20240401_234833-n6ru054u</code>"
      ],
      "text/plain": [
       "<IPython.core.display.HTML object>"
      ]
     },
     "metadata": {},
     "output_type": "display_data"
    },
    {
     "data": {
      "text/html": [
       "Syncing run <strong><a href='https://wandb.ai/rl_shobhith/uncategorized/runs/n6ru054u/workspace' target=\"_blank\">noble-sweep-145</a></strong> to <a href='https://wandb.ai/rl_shobhith/uncategorized' target=\"_blank\">Weights & Biases</a> (<a href='https://wandb.me/run' target=\"_blank\">docs</a>)<br/>Sweep page: <a href='https://wandb.ai/rl_shobhith/uncategorized/sweeps/ebygp3ca' target=\"_blank\">https://wandb.ai/rl_shobhith/uncategorized/sweeps/ebygp3ca</a>"
      ],
      "text/plain": [
       "<IPython.core.display.HTML object>"
      ]
     },
     "metadata": {},
     "output_type": "display_data"
    },
    {
     "data": {
      "text/html": [
       " View project at <a href='https://wandb.ai/rl_shobhith/uncategorized' target=\"_blank\">https://wandb.ai/rl_shobhith/uncategorized</a>"
      ],
      "text/plain": [
       "<IPython.core.display.HTML object>"
      ]
     },
     "metadata": {},
     "output_type": "display_data"
    },
    {
     "data": {
      "text/html": [
       " View sweep at <a href='https://wandb.ai/rl_shobhith/uncategorized/sweeps/ebygp3ca' target=\"_blank\">https://wandb.ai/rl_shobhith/uncategorized/sweeps/ebygp3ca</a>"
      ],
      "text/plain": [
       "<IPython.core.display.HTML object>"
      ]
     },
     "metadata": {},
     "output_type": "display_data"
    },
    {
     "data": {
      "text/html": [
       " View run at <a href='https://wandb.ai/rl_shobhith/uncategorized/runs/n6ru054u/workspace' target=\"_blank\">https://wandb.ai/rl_shobhith/uncategorized/runs/n6ru054u/workspace</a>"
      ],
      "text/plain": [
       "<IPython.core.display.HTML object>"
      ]
     },
     "metadata": {},
     "output_type": "display_data"
    },
    {
     "name": "stderr",
     "output_type": "stream",
     "text": [
      "Iteration 0: 100%|██████████| 50/50 [00:00<00:00, 62.30it/s, episode_return=50, return=24.500]\n",
      "Iteration 1: 100%|██████████| 50/50 [00:01<00:00, 34.10it/s, episode_return=100, return=37.300]\n",
      "Iteration 2: 100%|██████████| 50/50 [00:02<00:00, 21.83it/s, episode_return=150, return=43.700]\n",
      "Iteration 3: 100%|██████████| 50/50 [00:03<00:00, 15.79it/s, episode_return=200, return=59.400]\n",
      "Iteration 4: 100%|██████████| 50/50 [00:02<00:00, 21.49it/s, episode_return=250, return=59.300]\n",
      "Iteration 5: 100%|██████████| 50/50 [00:04<00:00, 12.31it/s, episode_return=300, return=66.600]\n",
      "Iteration 6: 100%|██████████| 50/50 [00:04<00:00, 11.47it/s, episode_return=350, return=101.800]\n",
      "Iteration 7: 100%|██████████| 50/50 [00:05<00:00,  8.76it/s, episode_return=400, return=123.400]\n",
      "Iteration 8: 100%|██████████| 50/50 [00:09<00:00,  5.19it/s, episode_return=450, return=139.600]\n",
      "Iteration 9: 100%|██████████| 50/50 [00:10<00:00,  4.90it/s, episode_return=500, return=171.800]\n"
     ]
    },
    {
     "data": {
      "application/vnd.jupyter.widget-view+json": {
       "model_id": "90f561a8e0af4b05afd48c6f31e78abe",
       "version_major": 2,
       "version_minor": 0
      },
      "text/plain": [
       "VBox(children=(Label(value='0.001 MB of 0.007 MB uploaded\\r'), FloatProgress(value=0.1705182551620402, max=1.0…"
      ]
     },
     "metadata": {},
     "output_type": "display_data"
    },
    {
     "data": {
      "text/html": [
       "<style>\n",
       "    table.wandb td:nth-child(1) { padding: 0 10px; text-align: left ; width: auto;} td:nth-child(2) {text-align: left ; width: 100%}\n",
       "    .wandb-row { display: flex; flex-direction: row; flex-wrap: wrap; justify-content: flex-start; width: 100% }\n",
       "    .wandb-col { display: flex; flex-direction: column; flex-basis: 100%; flex: 1; padding: 10px; }\n",
       "    </style>\n",
       "<div class=\"wandb-row\"><div class=\"wandb-col\"><h3>Run history:</h3><br/><table class=\"wandb\"><tr><td>regret</td><td>▁</td></tr></table><br/></div><div class=\"wandb-col\"><h3>Run summary:</h3><br/><table class=\"wandb\"><tr><td>regret</td><td>63373.97396</td></tr></table><br/></div></div>"
      ],
      "text/plain": [
       "<IPython.core.display.HTML object>"
      ]
     },
     "metadata": {},
     "output_type": "display_data"
    },
    {
     "data": {
      "text/html": [
       " View run <strong style=\"color:#cdcd00\">noble-sweep-145</strong> at: <a href='https://wandb.ai/rl_shobhith/uncategorized/runs/n6ru054u/workspace' target=\"_blank\">https://wandb.ai/rl_shobhith/uncategorized/runs/n6ru054u/workspace</a><br/>Synced 5 W&B file(s), 0 media file(s), 0 artifact file(s) and 0 other file(s)"
      ],
      "text/plain": [
       "<IPython.core.display.HTML object>"
      ]
     },
     "metadata": {},
     "output_type": "display_data"
    },
    {
     "data": {
      "text/html": [
       "Find logs at: <code>.\\wandb\\run-20240401_234833-n6ru054u\\logs</code>"
      ],
      "text/plain": [
       "<IPython.core.display.HTML object>"
      ]
     },
     "metadata": {},
     "output_type": "display_data"
    },
    {
     "name": "stderr",
     "output_type": "stream",
     "text": [
      "\u001b[34m\u001b[1mwandb\u001b[0m: Sweep Agent: Waiting for job.\n",
      "\u001b[34m\u001b[1mwandb\u001b[0m: Job received.\n",
      "\u001b[34m\u001b[1mwandb\u001b[0m: Agent Starting Run: 5qhfxs62 with config:\n",
      "\u001b[34m\u001b[1mwandb\u001b[0m: \thidden_dim: 64\n",
      "\u001b[34m\u001b[1mwandb\u001b[0m: \tlearning_rate: 0.0003614697364546937\n",
      "Failed to detect the name of this notebook, you can set it manually with the WANDB_NOTEBOOK_NAME environment variable to enable code saving.\n"
     ]
    },
    {
     "data": {
      "text/html": [
       "Tracking run with wandb version 0.16.5"
      ],
      "text/plain": [
       "<IPython.core.display.HTML object>"
      ]
     },
     "metadata": {},
     "output_type": "display_data"
    },
    {
     "data": {
      "text/html": [
       "Run data is saved locally in <code>c:\\Users\\Shobhith Vadlamudi\\Desktop\\3rd Year\\SEM 6\\RL\\wandb\\run-20240401_234936-5qhfxs62</code>"
      ],
      "text/plain": [
       "<IPython.core.display.HTML object>"
      ]
     },
     "metadata": {},
     "output_type": "display_data"
    },
    {
     "data": {
      "text/html": [
       "Syncing run <strong><a href='https://wandb.ai/rl_shobhith/uncategorized/runs/5qhfxs62/workspace' target=\"_blank\">earnest-sweep-146</a></strong> to <a href='https://wandb.ai/rl_shobhith/uncategorized' target=\"_blank\">Weights & Biases</a> (<a href='https://wandb.me/run' target=\"_blank\">docs</a>)<br/>Sweep page: <a href='https://wandb.ai/rl_shobhith/uncategorized/sweeps/ebygp3ca' target=\"_blank\">https://wandb.ai/rl_shobhith/uncategorized/sweeps/ebygp3ca</a>"
      ],
      "text/plain": [
       "<IPython.core.display.HTML object>"
      ]
     },
     "metadata": {},
     "output_type": "display_data"
    },
    {
     "data": {
      "text/html": [
       " View project at <a href='https://wandb.ai/rl_shobhith/uncategorized' target=\"_blank\">https://wandb.ai/rl_shobhith/uncategorized</a>"
      ],
      "text/plain": [
       "<IPython.core.display.HTML object>"
      ]
     },
     "metadata": {},
     "output_type": "display_data"
    },
    {
     "data": {
      "text/html": [
       " View sweep at <a href='https://wandb.ai/rl_shobhith/uncategorized/sweeps/ebygp3ca' target=\"_blank\">https://wandb.ai/rl_shobhith/uncategorized/sweeps/ebygp3ca</a>"
      ],
      "text/plain": [
       "<IPython.core.display.HTML object>"
      ]
     },
     "metadata": {},
     "output_type": "display_data"
    },
    {
     "data": {
      "text/html": [
       " View run at <a href='https://wandb.ai/rl_shobhith/uncategorized/runs/5qhfxs62/workspace' target=\"_blank\">https://wandb.ai/rl_shobhith/uncategorized/runs/5qhfxs62/workspace</a>"
      ],
      "text/plain": [
       "<IPython.core.display.HTML object>"
      ]
     },
     "metadata": {},
     "output_type": "display_data"
    },
    {
     "name": "stderr",
     "output_type": "stream",
     "text": [
      "Iteration 0: 100%|██████████| 50/50 [00:00<00:00, 82.82it/s, episode_return=50, return=21.000]\n",
      "Iteration 1: 100%|██████████| 50/50 [00:00<00:00, 73.63it/s, episode_return=100, return=28.100]\n",
      "Iteration 2: 100%|██████████| 50/50 [00:00<00:00, 69.98it/s, episode_return=150, return=26.200]\n",
      "Iteration 3: 100%|██████████| 50/50 [00:00<00:00, 58.23it/s, episode_return=200, return=29.200]\n",
      "Iteration 4: 100%|██████████| 50/50 [00:01<00:00, 49.20it/s, episode_return=250, return=52.300]\n",
      "Iteration 5: 100%|██████████| 50/50 [00:01<00:00, 45.38it/s, episode_return=300, return=41.700]\n",
      "Iteration 6: 100%|██████████| 50/50 [00:01<00:00, 36.81it/s, episode_return=350, return=48.100]\n",
      "Iteration 7: 100%|██████████| 50/50 [00:01<00:00, 31.53it/s, episode_return=400, return=38.800]\n",
      "Iteration 8: 100%|██████████| 50/50 [00:01<00:00, 30.11it/s, episode_return=450, return=51.600]\n",
      "Iteration 9: 100%|██████████| 50/50 [00:02<00:00, 24.74it/s, episode_return=500, return=75.800]\n"
     ]
    },
    {
     "data": {
      "application/vnd.jupyter.widget-view+json": {
       "model_id": "8c98778d732c4e9190523ade1eeaf426",
       "version_major": 2,
       "version_minor": 0
      },
      "text/plain": [
       "VBox(children=(Label(value='0.001 MB of 0.007 MB uploaded\\r'), FloatProgress(value=0.1709155701754386, max=1.0…"
      ]
     },
     "metadata": {},
     "output_type": "display_data"
    },
    {
     "data": {
      "text/html": [
       "<style>\n",
       "    table.wandb td:nth-child(1) { padding: 0 10px; text-align: left ; width: auto;} td:nth-child(2) {text-align: left ; width: 100%}\n",
       "    .wandb-row { display: flex; flex-direction: row; flex-wrap: wrap; justify-content: flex-start; width: 100% }\n",
       "    .wandb-col { display: flex; flex-direction: column; flex-basis: 100%; flex: 1; padding: 10px; }\n",
       "    </style>\n",
       "<div class=\"wandb-row\"><div class=\"wandb-col\"><h3>Run history:</h3><br/><table class=\"wandb\"><tr><td>regret</td><td>▁</td></tr></table><br/></div><div class=\"wandb-col\"><h3>Run summary:</h3><br/><table class=\"wandb\"><tr><td>regret</td><td>81179.37326</td></tr></table><br/></div></div>"
      ],
      "text/plain": [
       "<IPython.core.display.HTML object>"
      ]
     },
     "metadata": {},
     "output_type": "display_data"
    },
    {
     "data": {
      "text/html": [
       " View run <strong style=\"color:#cdcd00\">earnest-sweep-146</strong> at: <a href='https://wandb.ai/rl_shobhith/uncategorized/runs/5qhfxs62/workspace' target=\"_blank\">https://wandb.ai/rl_shobhith/uncategorized/runs/5qhfxs62/workspace</a><br/>Synced 5 W&B file(s), 0 media file(s), 0 artifact file(s) and 0 other file(s)"
      ],
      "text/plain": [
       "<IPython.core.display.HTML object>"
      ]
     },
     "metadata": {},
     "output_type": "display_data"
    },
    {
     "data": {
      "text/html": [
       "Find logs at: <code>.\\wandb\\run-20240401_234936-5qhfxs62\\logs</code>"
      ],
      "text/plain": [
       "<IPython.core.display.HTML object>"
      ]
     },
     "metadata": {},
     "output_type": "display_data"
    },
    {
     "name": "stderr",
     "output_type": "stream",
     "text": [
      "\u001b[34m\u001b[1mwandb\u001b[0m: Agent Starting Run: yql6f1qz with config:\n",
      "\u001b[34m\u001b[1mwandb\u001b[0m: \thidden_dim: 256\n",
      "\u001b[34m\u001b[1mwandb\u001b[0m: \tlearning_rate: 7.680522552093799e-05\n",
      "Failed to detect the name of this notebook, you can set it manually with the WANDB_NOTEBOOK_NAME environment variable to enable code saving.\n"
     ]
    },
    {
     "data": {
      "text/html": [
       "Tracking run with wandb version 0.16.5"
      ],
      "text/plain": [
       "<IPython.core.display.HTML object>"
      ]
     },
     "metadata": {},
     "output_type": "display_data"
    },
    {
     "data": {
      "text/html": [
       "Run data is saved locally in <code>c:\\Users\\Shobhith Vadlamudi\\Desktop\\3rd Year\\SEM 6\\RL\\wandb\\run-20240401_234958-yql6f1qz</code>"
      ],
      "text/plain": [
       "<IPython.core.display.HTML object>"
      ]
     },
     "metadata": {},
     "output_type": "display_data"
    },
    {
     "data": {
      "text/html": [
       "Syncing run <strong><a href='https://wandb.ai/rl_shobhith/uncategorized/runs/yql6f1qz/workspace' target=\"_blank\">logical-sweep-147</a></strong> to <a href='https://wandb.ai/rl_shobhith/uncategorized' target=\"_blank\">Weights & Biases</a> (<a href='https://wandb.me/run' target=\"_blank\">docs</a>)<br/>Sweep page: <a href='https://wandb.ai/rl_shobhith/uncategorized/sweeps/ebygp3ca' target=\"_blank\">https://wandb.ai/rl_shobhith/uncategorized/sweeps/ebygp3ca</a>"
      ],
      "text/plain": [
       "<IPython.core.display.HTML object>"
      ]
     },
     "metadata": {},
     "output_type": "display_data"
    },
    {
     "data": {
      "text/html": [
       " View project at <a href='https://wandb.ai/rl_shobhith/uncategorized' target=\"_blank\">https://wandb.ai/rl_shobhith/uncategorized</a>"
      ],
      "text/plain": [
       "<IPython.core.display.HTML object>"
      ]
     },
     "metadata": {},
     "output_type": "display_data"
    },
    {
     "data": {
      "text/html": [
       " View sweep at <a href='https://wandb.ai/rl_shobhith/uncategorized/sweeps/ebygp3ca' target=\"_blank\">https://wandb.ai/rl_shobhith/uncategorized/sweeps/ebygp3ca</a>"
      ],
      "text/plain": [
       "<IPython.core.display.HTML object>"
      ]
     },
     "metadata": {},
     "output_type": "display_data"
    },
    {
     "data": {
      "text/html": [
       " View run at <a href='https://wandb.ai/rl_shobhith/uncategorized/runs/yql6f1qz/workspace' target=\"_blank\">https://wandb.ai/rl_shobhith/uncategorized/runs/yql6f1qz/workspace</a>"
      ],
      "text/plain": [
       "<IPython.core.display.HTML object>"
      ]
     },
     "metadata": {},
     "output_type": "display_data"
    },
    {
     "name": "stderr",
     "output_type": "stream",
     "text": [
      "Iteration 0: 100%|██████████| 50/50 [00:00<00:00, 69.55it/s, episode_return=50, return=14.300]\n",
      "Iteration 1: 100%|██████████| 50/50 [00:01<00:00, 47.55it/s, episode_return=100, return=23.000]\n",
      "Iteration 2: 100%|██████████| 50/50 [00:01<00:00, 35.87it/s, episode_return=150, return=29.200]\n",
      "Iteration 3: 100%|██████████| 50/50 [00:01<00:00, 39.75it/s, episode_return=200, return=20.300]\n",
      "Iteration 4: 100%|██████████| 50/50 [00:01<00:00, 36.74it/s, episode_return=250, return=26.700]\n",
      "Iteration 5: 100%|██████████| 50/50 [00:01<00:00, 26.80it/s, episode_return=300, return=31.300]\n",
      "Iteration 6: 100%|██████████| 50/50 [00:01<00:00, 33.90it/s, episode_return=350, return=21.200]\n",
      "Iteration 7: 100%|██████████| 50/50 [00:01<00:00, 38.11it/s, episode_return=400, return=26.000]\n",
      "Iteration 8: 100%|██████████| 50/50 [00:01<00:00, 29.34it/s, episode_return=450, return=43.800]\n",
      "Iteration 9: 100%|██████████| 50/50 [00:01<00:00, 25.31it/s, episode_return=500, return=36.400]\n"
     ]
    },
    {
     "data": {
      "application/vnd.jupyter.widget-view+json": {
       "model_id": "8e877d010fb74d5293b760a20658c1e0",
       "version_major": 2,
       "version_minor": 0
      },
      "text/plain": [
       "VBox(children=(Label(value='0.001 MB of 0.001 MB uploaded\\r'), FloatProgress(value=1.0, max=1.0)))"
      ]
     },
     "metadata": {},
     "output_type": "display_data"
    },
    {
     "data": {
      "text/html": [
       "<style>\n",
       "    table.wandb td:nth-child(1) { padding: 0 10px; text-align: left ; width: auto;} td:nth-child(2) {text-align: left ; width: 100%}\n",
       "    .wandb-row { display: flex; flex-direction: row; flex-wrap: wrap; justify-content: flex-start; width: 100% }\n",
       "    .wandb-col { display: flex; flex-direction: column; flex-basis: 100%; flex: 1; padding: 10px; }\n",
       "    </style>\n",
       "<div class=\"wandb-row\"><div class=\"wandb-col\"><h3>Run history:</h3><br/><table class=\"wandb\"><tr><td>regret</td><td>▁</td></tr></table><br/></div><div class=\"wandb-col\"><h3>Run summary:</h3><br/><table class=\"wandb\"><tr><td>regret</td><td>84421.01728</td></tr></table><br/></div></div>"
      ],
      "text/plain": [
       "<IPython.core.display.HTML object>"
      ]
     },
     "metadata": {},
     "output_type": "display_data"
    },
    {
     "data": {
      "text/html": [
       " View run <strong style=\"color:#cdcd00\">logical-sweep-147</strong> at: <a href='https://wandb.ai/rl_shobhith/uncategorized/runs/yql6f1qz/workspace' target=\"_blank\">https://wandb.ai/rl_shobhith/uncategorized/runs/yql6f1qz/workspace</a><br/>Synced 5 W&B file(s), 0 media file(s), 0 artifact file(s) and 0 other file(s)"
      ],
      "text/plain": [
       "<IPython.core.display.HTML object>"
      ]
     },
     "metadata": {},
     "output_type": "display_data"
    },
    {
     "data": {
      "text/html": [
       "Find logs at: <code>.\\wandb\\run-20240401_234958-yql6f1qz\\logs</code>"
      ],
      "text/plain": [
       "<IPython.core.display.HTML object>"
      ]
     },
     "metadata": {},
     "output_type": "display_data"
    },
    {
     "name": "stderr",
     "output_type": "stream",
     "text": [
      "\u001b[34m\u001b[1mwandb\u001b[0m: Agent Starting Run: v2d62zq9 with config:\n",
      "\u001b[34m\u001b[1mwandb\u001b[0m: \thidden_dim: 128\n",
      "\u001b[34m\u001b[1mwandb\u001b[0m: \tlearning_rate: 0.0007039488090614589\n",
      "Failed to detect the name of this notebook, you can set it manually with the WANDB_NOTEBOOK_NAME environment variable to enable code saving.\n"
     ]
    },
    {
     "data": {
      "text/html": [
       "Tracking run with wandb version 0.16.5"
      ],
      "text/plain": [
       "<IPython.core.display.HTML object>"
      ]
     },
     "metadata": {},
     "output_type": "display_data"
    },
    {
     "data": {
      "text/html": [
       "Run data is saved locally in <code>c:\\Users\\Shobhith Vadlamudi\\Desktop\\3rd Year\\SEM 6\\RL\\wandb\\run-20240401_235029-v2d62zq9</code>"
      ],
      "text/plain": [
       "<IPython.core.display.HTML object>"
      ]
     },
     "metadata": {},
     "output_type": "display_data"
    },
    {
     "data": {
      "text/html": [
       "Syncing run <strong><a href='https://wandb.ai/rl_shobhith/uncategorized/runs/v2d62zq9/workspace' target=\"_blank\">classic-sweep-148</a></strong> to <a href='https://wandb.ai/rl_shobhith/uncategorized' target=\"_blank\">Weights & Biases</a> (<a href='https://wandb.me/run' target=\"_blank\">docs</a>)<br/>Sweep page: <a href='https://wandb.ai/rl_shobhith/uncategorized/sweeps/ebygp3ca' target=\"_blank\">https://wandb.ai/rl_shobhith/uncategorized/sweeps/ebygp3ca</a>"
      ],
      "text/plain": [
       "<IPython.core.display.HTML object>"
      ]
     },
     "metadata": {},
     "output_type": "display_data"
    },
    {
     "data": {
      "text/html": [
       " View project at <a href='https://wandb.ai/rl_shobhith/uncategorized' target=\"_blank\">https://wandb.ai/rl_shobhith/uncategorized</a>"
      ],
      "text/plain": [
       "<IPython.core.display.HTML object>"
      ]
     },
     "metadata": {},
     "output_type": "display_data"
    },
    {
     "data": {
      "text/html": [
       " View sweep at <a href='https://wandb.ai/rl_shobhith/uncategorized/sweeps/ebygp3ca' target=\"_blank\">https://wandb.ai/rl_shobhith/uncategorized/sweeps/ebygp3ca</a>"
      ],
      "text/plain": [
       "<IPython.core.display.HTML object>"
      ]
     },
     "metadata": {},
     "output_type": "display_data"
    },
    {
     "data": {
      "text/html": [
       " View run at <a href='https://wandb.ai/rl_shobhith/uncategorized/runs/v2d62zq9/workspace' target=\"_blank\">https://wandb.ai/rl_shobhith/uncategorized/runs/v2d62zq9/workspace</a>"
      ],
      "text/plain": [
       "<IPython.core.display.HTML object>"
      ]
     },
     "metadata": {},
     "output_type": "display_data"
    },
    {
     "name": "stderr",
     "output_type": "stream",
     "text": [
      "Iteration 0: 100%|██████████| 50/50 [00:00<00:00, 81.67it/s, episode_return=50, return=18.700]\n",
      "Iteration 1: 100%|██████████| 50/50 [00:01<00:00, 47.81it/s, episode_return=100, return=38.500]\n",
      "Iteration 2: 100%|██████████| 50/50 [00:01<00:00, 26.91it/s, episode_return=150, return=57.200]\n",
      "Iteration 3: 100%|██████████| 50/50 [00:01<00:00, 28.83it/s, episode_return=200, return=42.800]\n",
      "Iteration 4: 100%|██████████| 50/50 [00:03<00:00, 15.26it/s, episode_return=250, return=63.900]\n",
      "Iteration 5: 100%|██████████| 50/50 [00:04<00:00, 11.90it/s, episode_return=300, return=106.300]\n",
      "Iteration 6: 100%|██████████| 50/50 [00:07<00:00,  6.82it/s, episode_return=350, return=173.700]\n",
      "Iteration 7: 100%|██████████| 50/50 [00:09<00:00,  5.50it/s, episode_return=400, return=188.300]\n",
      "Iteration 8: 100%|██████████| 50/50 [00:11<00:00,  4.45it/s, episode_return=450, return=276.000]\n",
      "Iteration 9: 100%|██████████| 50/50 [00:14<00:00,  3.53it/s, episode_return=500, return=308.800]\n"
     ]
    },
    {
     "data": {
      "application/vnd.jupyter.widget-view+json": {
       "model_id": "acf1028847cd4363bd5b7f1a73e55da7",
       "version_major": 2,
       "version_minor": 0
      },
      "text/plain": [
       "VBox(children=(Label(value='0.001 MB of 0.001 MB uploaded\\r'), FloatProgress(value=1.0, max=1.0)))"
      ]
     },
     "metadata": {},
     "output_type": "display_data"
    },
    {
     "data": {
      "text/html": [
       "<style>\n",
       "    table.wandb td:nth-child(1) { padding: 0 10px; text-align: left ; width: auto;} td:nth-child(2) {text-align: left ; width: 100%}\n",
       "    .wandb-row { display: flex; flex-direction: row; flex-wrap: wrap; justify-content: flex-start; width: 100% }\n",
       "    .wandb-col { display: flex; flex-direction: column; flex-basis: 100%; flex: 1; padding: 10px; }\n",
       "    </style>\n",
       "<div class=\"wandb-row\"><div class=\"wandb-col\"><h3>Run history:</h3><br/><table class=\"wandb\"><tr><td>regret</td><td>▁</td></tr></table><br/></div><div class=\"wandb-col\"><h3>Run summary:</h3><br/><table class=\"wandb\"><tr><td>regret</td><td>54020.15092</td></tr></table><br/></div></div>"
      ],
      "text/plain": [
       "<IPython.core.display.HTML object>"
      ]
     },
     "metadata": {},
     "output_type": "display_data"
    },
    {
     "data": {
      "text/html": [
       " View run <strong style=\"color:#cdcd00\">classic-sweep-148</strong> at: <a href='https://wandb.ai/rl_shobhith/uncategorized/runs/v2d62zq9/workspace' target=\"_blank\">https://wandb.ai/rl_shobhith/uncategorized/runs/v2d62zq9/workspace</a><br/>Synced 5 W&B file(s), 0 media file(s), 0 artifact file(s) and 0 other file(s)"
      ],
      "text/plain": [
       "<IPython.core.display.HTML object>"
      ]
     },
     "metadata": {},
     "output_type": "display_data"
    },
    {
     "data": {
      "text/html": [
       "Find logs at: <code>.\\wandb\\run-20240401_235029-v2d62zq9\\logs</code>"
      ],
      "text/plain": [
       "<IPython.core.display.HTML object>"
      ]
     },
     "metadata": {},
     "output_type": "display_data"
    },
    {
     "name": "stderr",
     "output_type": "stream",
     "text": [
      "\u001b[34m\u001b[1mwandb\u001b[0m: Agent Starting Run: ost89n41 with config:\n",
      "\u001b[34m\u001b[1mwandb\u001b[0m: \thidden_dim: 64\n",
      "\u001b[34m\u001b[1mwandb\u001b[0m: \tlearning_rate: 0.0004416632381863911\n",
      "Failed to detect the name of this notebook, you can set it manually with the WANDB_NOTEBOOK_NAME environment variable to enable code saving.\n"
     ]
    },
    {
     "data": {
      "text/html": [
       "Tracking run with wandb version 0.16.5"
      ],
      "text/plain": [
       "<IPython.core.display.HTML object>"
      ]
     },
     "metadata": {},
     "output_type": "display_data"
    },
    {
     "data": {
      "text/html": [
       "Run data is saved locally in <code>c:\\Users\\Shobhith Vadlamudi\\Desktop\\3rd Year\\SEM 6\\RL\\wandb\\run-20240401_235135-ost89n41</code>"
      ],
      "text/plain": [
       "<IPython.core.display.HTML object>"
      ]
     },
     "metadata": {},
     "output_type": "display_data"
    },
    {
     "data": {
      "text/html": [
       "Syncing run <strong><a href='https://wandb.ai/rl_shobhith/uncategorized/runs/ost89n41/workspace' target=\"_blank\">clean-sweep-149</a></strong> to <a href='https://wandb.ai/rl_shobhith/uncategorized' target=\"_blank\">Weights & Biases</a> (<a href='https://wandb.me/run' target=\"_blank\">docs</a>)<br/>Sweep page: <a href='https://wandb.ai/rl_shobhith/uncategorized/sweeps/ebygp3ca' target=\"_blank\">https://wandb.ai/rl_shobhith/uncategorized/sweeps/ebygp3ca</a>"
      ],
      "text/plain": [
       "<IPython.core.display.HTML object>"
      ]
     },
     "metadata": {},
     "output_type": "display_data"
    },
    {
     "data": {
      "text/html": [
       " View project at <a href='https://wandb.ai/rl_shobhith/uncategorized' target=\"_blank\">https://wandb.ai/rl_shobhith/uncategorized</a>"
      ],
      "text/plain": [
       "<IPython.core.display.HTML object>"
      ]
     },
     "metadata": {},
     "output_type": "display_data"
    },
    {
     "data": {
      "text/html": [
       " View sweep at <a href='https://wandb.ai/rl_shobhith/uncategorized/sweeps/ebygp3ca' target=\"_blank\">https://wandb.ai/rl_shobhith/uncategorized/sweeps/ebygp3ca</a>"
      ],
      "text/plain": [
       "<IPython.core.display.HTML object>"
      ]
     },
     "metadata": {},
     "output_type": "display_data"
    },
    {
     "data": {
      "text/html": [
       " View run at <a href='https://wandb.ai/rl_shobhith/uncategorized/runs/ost89n41/workspace' target=\"_blank\">https://wandb.ai/rl_shobhith/uncategorized/runs/ost89n41/workspace</a>"
      ],
      "text/plain": [
       "<IPython.core.display.HTML object>"
      ]
     },
     "metadata": {},
     "output_type": "display_data"
    },
    {
     "name": "stderr",
     "output_type": "stream",
     "text": [
      "Iteration 0: 100%|██████████| 50/50 [00:01<00:00, 40.82it/s, episode_return=50, return=33.700]\n",
      "Iteration 1: 100%|██████████| 50/50 [00:01<00:00, 33.17it/s, episode_return=100, return=27.800]\n",
      "Iteration 2: 100%|██████████| 50/50 [00:01<00:00, 31.29it/s, episode_return=150, return=33.700]\n",
      "Iteration 3: 100%|██████████| 50/50 [00:01<00:00, 27.55it/s, episode_return=200, return=37.700]\n",
      "Iteration 4: 100%|██████████| 50/50 [00:02<00:00, 24.09it/s, episode_return=250, return=39.400]\n",
      "Iteration 5: 100%|██████████| 50/50 [00:01<00:00, 26.59it/s, episode_return=300, return=27.200]\n",
      "Iteration 6: 100%|██████████| 50/50 [00:02<00:00, 22.64it/s, episode_return=350, return=41.800]\n",
      "Iteration 7: 100%|██████████| 50/50 [00:02<00:00, 23.49it/s, episode_return=400, return=40.600]\n",
      "Iteration 8: 100%|██████████| 50/50 [00:02<00:00, 22.13it/s, episode_return=450, return=53.400]\n",
      "Iteration 9: 100%|██████████| 50/50 [00:02<00:00, 19.42it/s, episode_return=500, return=47.300]\n"
     ]
    },
    {
     "data": {
      "application/vnd.jupyter.widget-view+json": {
       "model_id": "09360a15dbf74c5387836a3c2b077324",
       "version_major": 2,
       "version_minor": 0
      },
      "text/plain": [
       "VBox(children=(Label(value='0.001 MB of 0.001 MB uploaded\\r'), FloatProgress(value=1.0, max=1.0)))"
      ]
     },
     "metadata": {},
     "output_type": "display_data"
    },
    {
     "data": {
      "text/html": [
       "<style>\n",
       "    table.wandb td:nth-child(1) { padding: 0 10px; text-align: left ; width: auto;} td:nth-child(2) {text-align: left ; width: 100%}\n",
       "    .wandb-row { display: flex; flex-direction: row; flex-wrap: wrap; justify-content: flex-start; width: 100% }\n",
       "    .wandb-col { display: flex; flex-direction: column; flex-basis: 100%; flex: 1; padding: 10px; }\n",
       "    </style>\n",
       "<div class=\"wandb-row\"><div class=\"wandb-col\"><h3>Run history:</h3><br/><table class=\"wandb\"><tr><td>regret</td><td>▁</td></tr></table><br/></div><div class=\"wandb-col\"><h3>Run summary:</h3><br/><table class=\"wandb\"><tr><td>regret</td><td>80015.0667</td></tr></table><br/></div></div>"
      ],
      "text/plain": [
       "<IPython.core.display.HTML object>"
      ]
     },
     "metadata": {},
     "output_type": "display_data"
    },
    {
     "data": {
      "text/html": [
       " View run <strong style=\"color:#cdcd00\">clean-sweep-149</strong> at: <a href='https://wandb.ai/rl_shobhith/uncategorized/runs/ost89n41/workspace' target=\"_blank\">https://wandb.ai/rl_shobhith/uncategorized/runs/ost89n41/workspace</a><br/>Synced 5 W&B file(s), 0 media file(s), 0 artifact file(s) and 0 other file(s)"
      ],
      "text/plain": [
       "<IPython.core.display.HTML object>"
      ]
     },
     "metadata": {},
     "output_type": "display_data"
    },
    {
     "data": {
      "text/html": [
       "Find logs at: <code>.\\wandb\\run-20240401_235135-ost89n41\\logs</code>"
      ],
      "text/plain": [
       "<IPython.core.display.HTML object>"
      ]
     },
     "metadata": {},
     "output_type": "display_data"
    },
    {
     "name": "stderr",
     "output_type": "stream",
     "text": [
      "\u001b[34m\u001b[1mwandb\u001b[0m: Agent Starting Run: i62gxns0 with config:\n",
      "\u001b[34m\u001b[1mwandb\u001b[0m: \thidden_dim: 64\n",
      "\u001b[34m\u001b[1mwandb\u001b[0m: \tlearning_rate: 0.0005070639803495613\n",
      "Failed to detect the name of this notebook, you can set it manually with the WANDB_NOTEBOOK_NAME environment variable to enable code saving.\n"
     ]
    },
    {
     "data": {
      "text/html": [
       "Tracking run with wandb version 0.16.5"
      ],
      "text/plain": [
       "<IPython.core.display.HTML object>"
      ]
     },
     "metadata": {},
     "output_type": "display_data"
    },
    {
     "data": {
      "text/html": [
       "Run data is saved locally in <code>c:\\Users\\Shobhith Vadlamudi\\Desktop\\3rd Year\\SEM 6\\RL\\wandb\\run-20240401_235206-i62gxns0</code>"
      ],
      "text/plain": [
       "<IPython.core.display.HTML object>"
      ]
     },
     "metadata": {},
     "output_type": "display_data"
    },
    {
     "data": {
      "text/html": [
       "Syncing run <strong><a href='https://wandb.ai/rl_shobhith/uncategorized/runs/i62gxns0/workspace' target=\"_blank\">elated-sweep-150</a></strong> to <a href='https://wandb.ai/rl_shobhith/uncategorized' target=\"_blank\">Weights & Biases</a> (<a href='https://wandb.me/run' target=\"_blank\">docs</a>)<br/>Sweep page: <a href='https://wandb.ai/rl_shobhith/uncategorized/sweeps/ebygp3ca' target=\"_blank\">https://wandb.ai/rl_shobhith/uncategorized/sweeps/ebygp3ca</a>"
      ],
      "text/plain": [
       "<IPython.core.display.HTML object>"
      ]
     },
     "metadata": {},
     "output_type": "display_data"
    },
    {
     "data": {
      "text/html": [
       " View project at <a href='https://wandb.ai/rl_shobhith/uncategorized' target=\"_blank\">https://wandb.ai/rl_shobhith/uncategorized</a>"
      ],
      "text/plain": [
       "<IPython.core.display.HTML object>"
      ]
     },
     "metadata": {},
     "output_type": "display_data"
    },
    {
     "data": {
      "text/html": [
       " View sweep at <a href='https://wandb.ai/rl_shobhith/uncategorized/sweeps/ebygp3ca' target=\"_blank\">https://wandb.ai/rl_shobhith/uncategorized/sweeps/ebygp3ca</a>"
      ],
      "text/plain": [
       "<IPython.core.display.HTML object>"
      ]
     },
     "metadata": {},
     "output_type": "display_data"
    },
    {
     "data": {
      "text/html": [
       " View run at <a href='https://wandb.ai/rl_shobhith/uncategorized/runs/i62gxns0/workspace' target=\"_blank\">https://wandb.ai/rl_shobhith/uncategorized/runs/i62gxns0/workspace</a>"
      ],
      "text/plain": [
       "<IPython.core.display.HTML object>"
      ]
     },
     "metadata": {},
     "output_type": "display_data"
    },
    {
     "name": "stderr",
     "output_type": "stream",
     "text": [
      "Iteration 0: 100%|██████████| 50/50 [00:01<00:00, 38.77it/s, episode_return=50, return=30.300]\n",
      "Iteration 1: 100%|██████████| 50/50 [00:01<00:00, 49.06it/s, episode_return=100, return=30.600]\n",
      "Iteration 2: 100%|██████████| 50/50 [00:01<00:00, 33.93it/s, episode_return=150, return=29.200]\n",
      "Iteration 3: 100%|██████████| 50/50 [00:01<00:00, 33.16it/s, episode_return=200, return=45.900]\n",
      "Iteration 4: 100%|██████████| 50/50 [00:01<00:00, 28.96it/s, episode_return=250, return=42.000]\n",
      "Iteration 5: 100%|██████████| 50/50 [00:01<00:00, 25.97it/s, episode_return=300, return=47.500]\n",
      "Iteration 6: 100%|██████████| 50/50 [00:02<00:00, 21.64it/s, episode_return=350, return=37.100]\n",
      "Iteration 7: 100%|██████████| 50/50 [00:01<00:00, 25.25it/s, episode_return=400, return=52.600]\n",
      "Iteration 8: 100%|██████████| 50/50 [00:02<00:00, 17.57it/s, episode_return=450, return=57.100]\n",
      "Iteration 9: 100%|██████████| 50/50 [00:03<00:00, 16.62it/s, episode_return=500, return=51.800]\n"
     ]
    },
    {
     "data": {
      "application/vnd.jupyter.widget-view+json": {
       "model_id": "eea2518ddce74efbba0a5299ee39a8e8",
       "version_major": 2,
       "version_minor": 0
      },
      "text/plain": [
       "VBox(children=(Label(value='0.001 MB of 0.001 MB uploaded\\r'), FloatProgress(value=1.0, max=1.0)))"
      ]
     },
     "metadata": {},
     "output_type": "display_data"
    },
    {
     "data": {
      "text/html": [
       "<style>\n",
       "    table.wandb td:nth-child(1) { padding: 0 10px; text-align: left ; width: auto;} td:nth-child(2) {text-align: left ; width: 100%}\n",
       "    .wandb-row { display: flex; flex-direction: row; flex-wrap: wrap; justify-content: flex-start; width: 100% }\n",
       "    .wandb-col { display: flex; flex-direction: column; flex-basis: 100%; flex: 1; padding: 10px; }\n",
       "    </style>\n",
       "<div class=\"wandb-row\"><div class=\"wandb-col\"><h3>Run history:</h3><br/><table class=\"wandb\"><tr><td>regret</td><td>▁</td></tr></table><br/></div><div class=\"wandb-col\"><h3>Run summary:</h3><br/><table class=\"wandb\"><tr><td>regret</td><td>78320.5953</td></tr></table><br/></div></div>"
      ],
      "text/plain": [
       "<IPython.core.display.HTML object>"
      ]
     },
     "metadata": {},
     "output_type": "display_data"
    },
    {
     "data": {
      "text/html": [
       " View run <strong style=\"color:#cdcd00\">elated-sweep-150</strong> at: <a href='https://wandb.ai/rl_shobhith/uncategorized/runs/i62gxns0/workspace' target=\"_blank\">https://wandb.ai/rl_shobhith/uncategorized/runs/i62gxns0/workspace</a><br/>Synced 5 W&B file(s), 0 media file(s), 0 artifact file(s) and 0 other file(s)"
      ],
      "text/plain": [
       "<IPython.core.display.HTML object>"
      ]
     },
     "metadata": {},
     "output_type": "display_data"
    },
    {
     "data": {
      "text/html": [
       "Find logs at: <code>.\\wandb\\run-20240401_235206-i62gxns0\\logs</code>"
      ],
      "text/plain": [
       "<IPython.core.display.HTML object>"
      ]
     },
     "metadata": {},
     "output_type": "display_data"
    },
    {
     "name": "stderr",
     "output_type": "stream",
     "text": [
      "\u001b[34m\u001b[1mwandb\u001b[0m: Agent Starting Run: z8gse3vi with config:\n",
      "\u001b[34m\u001b[1mwandb\u001b[0m: \thidden_dim: 128\n",
      "\u001b[34m\u001b[1mwandb\u001b[0m: \tlearning_rate: 0.00026598581892854433\n",
      "Failed to detect the name of this notebook, you can set it manually with the WANDB_NOTEBOOK_NAME environment variable to enable code saving.\n"
     ]
    },
    {
     "data": {
      "text/html": [
       "Tracking run with wandb version 0.16.5"
      ],
      "text/plain": [
       "<IPython.core.display.HTML object>"
      ]
     },
     "metadata": {},
     "output_type": "display_data"
    },
    {
     "data": {
      "text/html": [
       "Run data is saved locally in <code>c:\\Users\\Shobhith Vadlamudi\\Desktop\\3rd Year\\SEM 6\\RL\\wandb\\run-20240401_235238-z8gse3vi</code>"
      ],
      "text/plain": [
       "<IPython.core.display.HTML object>"
      ]
     },
     "metadata": {},
     "output_type": "display_data"
    },
    {
     "data": {
      "text/html": [
       "Syncing run <strong><a href='https://wandb.ai/rl_shobhith/uncategorized/runs/z8gse3vi/workspace' target=\"_blank\">classic-sweep-151</a></strong> to <a href='https://wandb.ai/rl_shobhith/uncategorized' target=\"_blank\">Weights & Biases</a> (<a href='https://wandb.me/run' target=\"_blank\">docs</a>)<br/>Sweep page: <a href='https://wandb.ai/rl_shobhith/uncategorized/sweeps/ebygp3ca' target=\"_blank\">https://wandb.ai/rl_shobhith/uncategorized/sweeps/ebygp3ca</a>"
      ],
      "text/plain": [
       "<IPython.core.display.HTML object>"
      ]
     },
     "metadata": {},
     "output_type": "display_data"
    },
    {
     "data": {
      "text/html": [
       " View project at <a href='https://wandb.ai/rl_shobhith/uncategorized' target=\"_blank\">https://wandb.ai/rl_shobhith/uncategorized</a>"
      ],
      "text/plain": [
       "<IPython.core.display.HTML object>"
      ]
     },
     "metadata": {},
     "output_type": "display_data"
    },
    {
     "data": {
      "text/html": [
       " View sweep at <a href='https://wandb.ai/rl_shobhith/uncategorized/sweeps/ebygp3ca' target=\"_blank\">https://wandb.ai/rl_shobhith/uncategorized/sweeps/ebygp3ca</a>"
      ],
      "text/plain": [
       "<IPython.core.display.HTML object>"
      ]
     },
     "metadata": {},
     "output_type": "display_data"
    },
    {
     "data": {
      "text/html": [
       " View run at <a href='https://wandb.ai/rl_shobhith/uncategorized/runs/z8gse3vi/workspace' target=\"_blank\">https://wandb.ai/rl_shobhith/uncategorized/runs/z8gse3vi/workspace</a>"
      ],
      "text/plain": [
       "<IPython.core.display.HTML object>"
      ]
     },
     "metadata": {},
     "output_type": "display_data"
    },
    {
     "name": "stderr",
     "output_type": "stream",
     "text": [
      "Iteration 0: 100%|██████████| 50/50 [00:01<00:00, 47.67it/s, episode_return=50, return=24.900]\n",
      "Iteration 1: 100%|██████████| 50/50 [00:01<00:00, 43.19it/s, episode_return=100, return=25.300]\n",
      "Iteration 2: 100%|██████████| 50/50 [00:01<00:00, 35.47it/s, episode_return=150, return=33.800]\n",
      "Iteration 3: 100%|██████████| 50/50 [00:01<00:00, 42.06it/s, episode_return=200, return=33.600]\n",
      "Iteration 4: 100%|██████████| 50/50 [00:01<00:00, 34.34it/s, episode_return=250, return=38.100]\n",
      "Iteration 5: 100%|██████████| 50/50 [00:01<00:00, 29.17it/s, episode_return=300, return=38.500]\n",
      "Iteration 6: 100%|██████████| 50/50 [00:01<00:00, 32.18it/s, episode_return=350, return=40.400]\n",
      "Iteration 7: 100%|██████████| 50/50 [00:01<00:00, 27.59it/s, episode_return=400, return=46.200]\n",
      "Iteration 8: 100%|██████████| 50/50 [00:01<00:00, 28.24it/s, episode_return=450, return=54.500]\n",
      "Iteration 9: 100%|██████████| 50/50 [00:01<00:00, 26.57it/s, episode_return=500, return=50.600]\n"
     ]
    },
    {
     "data": {
      "application/vnd.jupyter.widget-view+json": {
       "model_id": "75313db126084519a1eedae88a5528d1",
       "version_major": 2,
       "version_minor": 0
      },
      "text/plain": [
       "VBox(children=(Label(value='0.001 MB of 0.001 MB uploaded\\r'), FloatProgress(value=1.0, max=1.0)))"
      ]
     },
     "metadata": {},
     "output_type": "display_data"
    },
    {
     "data": {
      "text/html": [
       "<style>\n",
       "    table.wandb td:nth-child(1) { padding: 0 10px; text-align: left ; width: auto;} td:nth-child(2) {text-align: left ; width: 100%}\n",
       "    .wandb-row { display: flex; flex-direction: row; flex-wrap: wrap; justify-content: flex-start; width: 100% }\n",
       "    .wandb-col { display: flex; flex-direction: column; flex-basis: 100%; flex: 1; padding: 10px; }\n",
       "    </style>\n",
       "<div class=\"wandb-row\"><div class=\"wandb-col\"><h3>Run history:</h3><br/><table class=\"wandb\"><tr><td>regret</td><td>▁</td></tr></table><br/></div><div class=\"wandb-col\"><h3>Run summary:</h3><br/><table class=\"wandb\"><tr><td>regret</td><td>79507.81694</td></tr></table><br/></div></div>"
      ],
      "text/plain": [
       "<IPython.core.display.HTML object>"
      ]
     },
     "metadata": {},
     "output_type": "display_data"
    },
    {
     "data": {
      "text/html": [
       " View run <strong style=\"color:#cdcd00\">classic-sweep-151</strong> at: <a href='https://wandb.ai/rl_shobhith/uncategorized/runs/z8gse3vi/workspace' target=\"_blank\">https://wandb.ai/rl_shobhith/uncategorized/runs/z8gse3vi/workspace</a><br/>Synced 5 W&B file(s), 0 media file(s), 0 artifact file(s) and 0 other file(s)"
      ],
      "text/plain": [
       "<IPython.core.display.HTML object>"
      ]
     },
     "metadata": {},
     "output_type": "display_data"
    },
    {
     "data": {
      "text/html": [
       "Find logs at: <code>.\\wandb\\run-20240401_235238-z8gse3vi\\logs</code>"
      ],
      "text/plain": [
       "<IPython.core.display.HTML object>"
      ]
     },
     "metadata": {},
     "output_type": "display_data"
    },
    {
     "name": "stderr",
     "output_type": "stream",
     "text": [
      "\u001b[34m\u001b[1mwandb\u001b[0m: Agent Starting Run: elsym6s2 with config:\n",
      "\u001b[34m\u001b[1mwandb\u001b[0m: \thidden_dim: 256\n",
      "\u001b[34m\u001b[1mwandb\u001b[0m: \tlearning_rate: 0.0007668197938719152\n",
      "Failed to detect the name of this notebook, you can set it manually with the WANDB_NOTEBOOK_NAME environment variable to enable code saving.\n"
     ]
    },
    {
     "data": {
      "text/html": [
       "Tracking run with wandb version 0.16.5"
      ],
      "text/plain": [
       "<IPython.core.display.HTML object>"
      ]
     },
     "metadata": {},
     "output_type": "display_data"
    },
    {
     "data": {
      "text/html": [
       "Run data is saved locally in <code>c:\\Users\\Shobhith Vadlamudi\\Desktop\\3rd Year\\SEM 6\\RL\\wandb\\run-20240401_235305-elsym6s2</code>"
      ],
      "text/plain": [
       "<IPython.core.display.HTML object>"
      ]
     },
     "metadata": {},
     "output_type": "display_data"
    },
    {
     "data": {
      "text/html": [
       "Syncing run <strong><a href='https://wandb.ai/rl_shobhith/uncategorized/runs/elsym6s2/workspace' target=\"_blank\">fresh-sweep-152</a></strong> to <a href='https://wandb.ai/rl_shobhith/uncategorized' target=\"_blank\">Weights & Biases</a> (<a href='https://wandb.me/run' target=\"_blank\">docs</a>)<br/>Sweep page: <a href='https://wandb.ai/rl_shobhith/uncategorized/sweeps/ebygp3ca' target=\"_blank\">https://wandb.ai/rl_shobhith/uncategorized/sweeps/ebygp3ca</a>"
      ],
      "text/plain": [
       "<IPython.core.display.HTML object>"
      ]
     },
     "metadata": {},
     "output_type": "display_data"
    },
    {
     "data": {
      "text/html": [
       " View project at <a href='https://wandb.ai/rl_shobhith/uncategorized' target=\"_blank\">https://wandb.ai/rl_shobhith/uncategorized</a>"
      ],
      "text/plain": [
       "<IPython.core.display.HTML object>"
      ]
     },
     "metadata": {},
     "output_type": "display_data"
    },
    {
     "data": {
      "text/html": [
       " View sweep at <a href='https://wandb.ai/rl_shobhith/uncategorized/sweeps/ebygp3ca' target=\"_blank\">https://wandb.ai/rl_shobhith/uncategorized/sweeps/ebygp3ca</a>"
      ],
      "text/plain": [
       "<IPython.core.display.HTML object>"
      ]
     },
     "metadata": {},
     "output_type": "display_data"
    },
    {
     "data": {
      "text/html": [
       " View run at <a href='https://wandb.ai/rl_shobhith/uncategorized/runs/elsym6s2/workspace' target=\"_blank\">https://wandb.ai/rl_shobhith/uncategorized/runs/elsym6s2/workspace</a>"
      ],
      "text/plain": [
       "<IPython.core.display.HTML object>"
      ]
     },
     "metadata": {},
     "output_type": "display_data"
    },
    {
     "name": "stderr",
     "output_type": "stream",
     "text": [
      "Iteration 0: 100%|██████████| 50/50 [00:01<00:00, 26.87it/s, episode_return=50, return=59.900]\n",
      "Iteration 1: 100%|██████████| 50/50 [00:02<00:00, 22.44it/s, episode_return=100, return=55.500]\n",
      "Iteration 2: 100%|██████████| 50/50 [00:03<00:00, 14.26it/s, episode_return=150, return=95.200]\n",
      "Iteration 3: 100%|██████████| 50/50 [00:06<00:00,  7.63it/s, episode_return=200, return=166.200]\n",
      "Iteration 4: 100%|██████████| 50/50 [00:08<00:00,  5.82it/s, episode_return=250, return=182.700]\n",
      "Iteration 5: 100%|██████████| 50/50 [00:07<00:00,  6.74it/s, episode_return=300, return=169.300]\n",
      "Iteration 6: 100%|██████████| 50/50 [00:11<00:00,  4.53it/s, episode_return=350, return=289.400]\n",
      "Iteration 7: 100%|██████████| 50/50 [00:06<00:00,  8.19it/s, episode_return=400, return=93.900] \n",
      "Iteration 8: 100%|██████████| 50/50 [00:05<00:00,  9.14it/s, episode_return=450, return=148.200]\n",
      "Iteration 9: 100%|██████████| 50/50 [00:11<00:00,  4.43it/s, episode_return=500, return=360.200]\n"
     ]
    },
    {
     "data": {
      "application/vnd.jupyter.widget-view+json": {
       "model_id": "4fe505a888e74d3da0960322f14592f6",
       "version_major": 2,
       "version_minor": 0
      },
      "text/plain": [
       "VBox(children=(Label(value='0.001 MB of 0.007 MB uploaded\\r'), FloatProgress(value=0.17023890784982934, max=1.…"
      ]
     },
     "metadata": {},
     "output_type": "display_data"
    },
    {
     "data": {
      "text/html": [
       "<style>\n",
       "    table.wandb td:nth-child(1) { padding: 0 10px; text-align: left ; width: auto;} td:nth-child(2) {text-align: left ; width: 100%}\n",
       "    .wandb-row { display: flex; flex-direction: row; flex-wrap: wrap; justify-content: flex-start; width: 100% }\n",
       "    .wandb-col { display: flex; flex-direction: column; flex-basis: 100%; flex: 1; padding: 10px; }\n",
       "    </style>\n",
       "<div class=\"wandb-row\"><div class=\"wandb-col\"><h3>Run history:</h3><br/><table class=\"wandb\"><tr><td>regret</td><td>▁</td></tr></table><br/></div><div class=\"wandb-col\"><h3>Run summary:</h3><br/><table class=\"wandb\"><tr><td>regret</td><td>37445.43302</td></tr></table><br/></div></div>"
      ],
      "text/plain": [
       "<IPython.core.display.HTML object>"
      ]
     },
     "metadata": {},
     "output_type": "display_data"
    },
    {
     "data": {
      "text/html": [
       " View run <strong style=\"color:#cdcd00\">fresh-sweep-152</strong> at: <a href='https://wandb.ai/rl_shobhith/uncategorized/runs/elsym6s2/workspace' target=\"_blank\">https://wandb.ai/rl_shobhith/uncategorized/runs/elsym6s2/workspace</a><br/>Synced 5 W&B file(s), 0 media file(s), 0 artifact file(s) and 0 other file(s)"
      ],
      "text/plain": [
       "<IPython.core.display.HTML object>"
      ]
     },
     "metadata": {},
     "output_type": "display_data"
    },
    {
     "data": {
      "text/html": [
       "Find logs at: <code>.\\wandb\\run-20240401_235305-elsym6s2\\logs</code>"
      ],
      "text/plain": [
       "<IPython.core.display.HTML object>"
      ]
     },
     "metadata": {},
     "output_type": "display_data"
    },
    {
     "name": "stderr",
     "output_type": "stream",
     "text": [
      "\u001b[34m\u001b[1mwandb\u001b[0m: Agent Starting Run: ikbb4g52 with config:\n",
      "\u001b[34m\u001b[1mwandb\u001b[0m: \thidden_dim: 64\n",
      "\u001b[34m\u001b[1mwandb\u001b[0m: \tlearning_rate: 0.000531331974149722\n",
      "Failed to detect the name of this notebook, you can set it manually with the WANDB_NOTEBOOK_NAME environment variable to enable code saving.\n"
     ]
    },
    {
     "data": {
      "text/html": [
       "Tracking run with wandb version 0.16.5"
      ],
      "text/plain": [
       "<IPython.core.display.HTML object>"
      ]
     },
     "metadata": {},
     "output_type": "display_data"
    },
    {
     "data": {
      "text/html": [
       "Run data is saved locally in <code>c:\\Users\\Shobhith Vadlamudi\\Desktop\\3rd Year\\SEM 6\\RL\\wandb\\run-20240401_235420-ikbb4g52</code>"
      ],
      "text/plain": [
       "<IPython.core.display.HTML object>"
      ]
     },
     "metadata": {},
     "output_type": "display_data"
    },
    {
     "data": {
      "text/html": [
       "Syncing run <strong><a href='https://wandb.ai/rl_shobhith/uncategorized/runs/ikbb4g52/workspace' target=\"_blank\">elated-sweep-153</a></strong> to <a href='https://wandb.ai/rl_shobhith/uncategorized' target=\"_blank\">Weights & Biases</a> (<a href='https://wandb.me/run' target=\"_blank\">docs</a>)<br/>Sweep page: <a href='https://wandb.ai/rl_shobhith/uncategorized/sweeps/ebygp3ca' target=\"_blank\">https://wandb.ai/rl_shobhith/uncategorized/sweeps/ebygp3ca</a>"
      ],
      "text/plain": [
       "<IPython.core.display.HTML object>"
      ]
     },
     "metadata": {},
     "output_type": "display_data"
    },
    {
     "data": {
      "text/html": [
       " View project at <a href='https://wandb.ai/rl_shobhith/uncategorized' target=\"_blank\">https://wandb.ai/rl_shobhith/uncategorized</a>"
      ],
      "text/plain": [
       "<IPython.core.display.HTML object>"
      ]
     },
     "metadata": {},
     "output_type": "display_data"
    },
    {
     "data": {
      "text/html": [
       " View sweep at <a href='https://wandb.ai/rl_shobhith/uncategorized/sweeps/ebygp3ca' target=\"_blank\">https://wandb.ai/rl_shobhith/uncategorized/sweeps/ebygp3ca</a>"
      ],
      "text/plain": [
       "<IPython.core.display.HTML object>"
      ]
     },
     "metadata": {},
     "output_type": "display_data"
    },
    {
     "data": {
      "text/html": [
       " View run at <a href='https://wandb.ai/rl_shobhith/uncategorized/runs/ikbb4g52/workspace' target=\"_blank\">https://wandb.ai/rl_shobhith/uncategorized/runs/ikbb4g52/workspace</a>"
      ],
      "text/plain": [
       "<IPython.core.display.HTML object>"
      ]
     },
     "metadata": {},
     "output_type": "display_data"
    },
    {
     "name": "stderr",
     "output_type": "stream",
     "text": [
      "Iteration 0: 100%|██████████| 50/50 [00:00<00:00, 79.84it/s, episode_return=50, return=20.800]\n",
      "Iteration 1: 100%|██████████| 50/50 [00:00<00:00, 55.02it/s, episode_return=100, return=21.600]\n",
      "Iteration 2: 100%|██████████| 50/50 [00:00<00:00, 53.39it/s, episode_return=150, return=32.600]\n",
      "Iteration 3: 100%|██████████| 50/50 [00:01<00:00, 46.90it/s, episode_return=200, return=44.400]\n",
      "Iteration 4: 100%|██████████| 50/50 [00:01<00:00, 48.45it/s, episode_return=250, return=33.600]\n",
      "Iteration 5: 100%|██████████| 50/50 [00:01<00:00, 42.89it/s, episode_return=300, return=59.300]\n",
      "Iteration 6: 100%|██████████| 50/50 [00:01<00:00, 38.35it/s, episode_return=350, return=59.100]\n",
      "Iteration 7: 100%|██████████| 50/50 [00:01<00:00, 36.65it/s, episode_return=400, return=60.300]\n",
      "Iteration 8: 100%|██████████| 50/50 [00:01<00:00, 34.02it/s, episode_return=450, return=69.600]\n",
      "Iteration 9: 100%|██████████| 50/50 [00:01<00:00, 27.49it/s, episode_return=500, return=72.100]\n"
     ]
    },
    {
     "data": {
      "application/vnd.jupyter.widget-view+json": {
       "model_id": "9934fbfacff84490bb6e681bd750a3e5",
       "version_major": 2,
       "version_minor": 0
      },
      "text/plain": [
       "VBox(children=(Label(value='0.001 MB of 0.007 MB uploaded\\r'), FloatProgress(value=0.17093899931459905, max=1.…"
      ]
     },
     "metadata": {},
     "output_type": "display_data"
    },
    {
     "data": {
      "text/html": [
       "<style>\n",
       "    table.wandb td:nth-child(1) { padding: 0 10px; text-align: left ; width: auto;} td:nth-child(2) {text-align: left ; width: 100%}\n",
       "    .wandb-row { display: flex; flex-direction: row; flex-wrap: wrap; justify-content: flex-start; width: 100% }\n",
       "    .wandb-col { display: flex; flex-direction: column; flex-basis: 100%; flex: 1; padding: 10px; }\n",
       "    </style>\n",
       "<div class=\"wandb-row\"><div class=\"wandb-col\"><h3>Run history:</h3><br/><table class=\"wandb\"><tr><td>regret</td><td>▁</td></tr></table><br/></div><div class=\"wandb-col\"><h3>Run summary:</h3><br/><table class=\"wandb\"><tr><td>regret</td><td>78640.69602</td></tr></table><br/></div></div>"
      ],
      "text/plain": [
       "<IPython.core.display.HTML object>"
      ]
     },
     "metadata": {},
     "output_type": "display_data"
    },
    {
     "data": {
      "text/html": [
       " View run <strong style=\"color:#cdcd00\">elated-sweep-153</strong> at: <a href='https://wandb.ai/rl_shobhith/uncategorized/runs/ikbb4g52/workspace' target=\"_blank\">https://wandb.ai/rl_shobhith/uncategorized/runs/ikbb4g52/workspace</a><br/>Synced 5 W&B file(s), 0 media file(s), 0 artifact file(s) and 0 other file(s)"
      ],
      "text/plain": [
       "<IPython.core.display.HTML object>"
      ]
     },
     "metadata": {},
     "output_type": "display_data"
    },
    {
     "data": {
      "text/html": [
       "Find logs at: <code>.\\wandb\\run-20240401_235420-ikbb4g52\\logs</code>"
      ],
      "text/plain": [
       "<IPython.core.display.HTML object>"
      ]
     },
     "metadata": {},
     "output_type": "display_data"
    },
    {
     "name": "stderr",
     "output_type": "stream",
     "text": [
      "\u001b[34m\u001b[1mwandb\u001b[0m: Sweep Agent: Waiting for job.\n",
      "\u001b[34m\u001b[1mwandb\u001b[0m: Job received.\n",
      "\u001b[34m\u001b[1mwandb\u001b[0m: Agent Starting Run: p5qr5hqd with config:\n",
      "\u001b[34m\u001b[1mwandb\u001b[0m: \thidden_dim: 256\n",
      "\u001b[34m\u001b[1mwandb\u001b[0m: \tlearning_rate: 0.0008842844680140334\n",
      "Failed to detect the name of this notebook, you can set it manually with the WANDB_NOTEBOOK_NAME environment variable to enable code saving.\n"
     ]
    },
    {
     "data": {
      "text/html": [
       "Tracking run with wandb version 0.16.5"
      ],
      "text/plain": [
       "<IPython.core.display.HTML object>"
      ]
     },
     "metadata": {},
     "output_type": "display_data"
    },
    {
     "data": {
      "text/html": [
       "Run data is saved locally in <code>c:\\Users\\Shobhith Vadlamudi\\Desktop\\3rd Year\\SEM 6\\RL\\wandb\\run-20240401_235451-p5qr5hqd</code>"
      ],
      "text/plain": [
       "<IPython.core.display.HTML object>"
      ]
     },
     "metadata": {},
     "output_type": "display_data"
    },
    {
     "data": {
      "text/html": [
       "Syncing run <strong><a href='https://wandb.ai/rl_shobhith/uncategorized/runs/p5qr5hqd/workspace' target=\"_blank\">bumbling-sweep-154</a></strong> to <a href='https://wandb.ai/rl_shobhith/uncategorized' target=\"_blank\">Weights & Biases</a> (<a href='https://wandb.me/run' target=\"_blank\">docs</a>)<br/>Sweep page: <a href='https://wandb.ai/rl_shobhith/uncategorized/sweeps/ebygp3ca' target=\"_blank\">https://wandb.ai/rl_shobhith/uncategorized/sweeps/ebygp3ca</a>"
      ],
      "text/plain": [
       "<IPython.core.display.HTML object>"
      ]
     },
     "metadata": {},
     "output_type": "display_data"
    },
    {
     "data": {
      "text/html": [
       " View project at <a href='https://wandb.ai/rl_shobhith/uncategorized' target=\"_blank\">https://wandb.ai/rl_shobhith/uncategorized</a>"
      ],
      "text/plain": [
       "<IPython.core.display.HTML object>"
      ]
     },
     "metadata": {},
     "output_type": "display_data"
    },
    {
     "data": {
      "text/html": [
       " View sweep at <a href='https://wandb.ai/rl_shobhith/uncategorized/sweeps/ebygp3ca' target=\"_blank\">https://wandb.ai/rl_shobhith/uncategorized/sweeps/ebygp3ca</a>"
      ],
      "text/plain": [
       "<IPython.core.display.HTML object>"
      ]
     },
     "metadata": {},
     "output_type": "display_data"
    },
    {
     "data": {
      "text/html": [
       " View run at <a href='https://wandb.ai/rl_shobhith/uncategorized/runs/p5qr5hqd/workspace' target=\"_blank\">https://wandb.ai/rl_shobhith/uncategorized/runs/p5qr5hqd/workspace</a>"
      ],
      "text/plain": [
       "<IPython.core.display.HTML object>"
      ]
     },
     "metadata": {},
     "output_type": "display_data"
    },
    {
     "name": "stderr",
     "output_type": "stream",
     "text": [
      "Iteration 0: 100%|██████████| 50/50 [00:00<00:00, 50.48it/s, episode_return=50, return=35.600]\n",
      "Iteration 1: 100%|██████████| 50/50 [00:03<00:00, 14.68it/s, episode_return=100, return=68.800]\n",
      "Iteration 2: 100%|██████████| 50/50 [00:05<00:00,  9.85it/s, episode_return=150, return=105.600]\n",
      "Iteration 3: 100%|██████████| 50/50 [00:09<00:00,  5.42it/s, episode_return=200, return=226.100]\n",
      "Iteration 4: 100%|██████████| 50/50 [00:09<00:00,  5.26it/s, episode_return=250, return=203.200]\n",
      "Iteration 5: 100%|██████████| 50/50 [00:09<00:00,  5.38it/s, episode_return=300, return=221.700]\n",
      "Iteration 6: 100%|██████████| 50/50 [00:11<00:00,  4.52it/s, episode_return=350, return=355.600]\n",
      "Iteration 7: 100%|██████████| 50/50 [00:17<00:00,  2.85it/s, episode_return=400, return=337.900]\n",
      "Iteration 8: 100%|██████████| 50/50 [00:16<00:00,  3.10it/s, episode_return=450, return=212.000]\n",
      "Iteration 9: 100%|██████████| 50/50 [00:16<00:00,  3.01it/s, episode_return=500, return=460.600]\n"
     ]
    },
    {
     "data": {
      "application/vnd.jupyter.widget-view+json": {
       "model_id": "6edc4618d0c64edf821108cf9d05011d",
       "version_major": 2,
       "version_minor": 0
      },
      "text/plain": [
       "VBox(children=(Label(value='0.001 MB of 0.001 MB uploaded\\r'), FloatProgress(value=1.0, max=1.0)))"
      ]
     },
     "metadata": {},
     "output_type": "display_data"
    }
   ],
   "source": [
    "import gym\n",
    "import wandb\n",
    "import torch\n",
    "import numpy as np\n",
    "from tqdm import tqdm\n",
    "import torch.nn as nn\n",
    "import torch.optim as optim\n",
    "import torch.nn.functional as F\n",
    "\n",
    "# Define Policy and REINFORCE classes\n",
    "\n",
    "class Policy(nn.Module):\n",
    "    def __init__(self, state_dim, hidden_dim, action_dim):\n",
    "        super(Policy, self).__init__()\n",
    "        self.fc1 = torch.nn.Linear(state_dim, hidden_dim)\n",
    "        self.fc2 = torch.nn.Linear(hidden_dim, action_dim)\n",
    "\n",
    "    def forward(self, x):\n",
    "        x = F.relu(self.fc1(x))\n",
    "        return F.softmax(self.fc2(x), dim=1)\n",
    "\n",
    "class REINFORCE:\n",
    "    def __init__(self, state_dim, hidden_dim, action_dim, learning_rate, gamma, device):\n",
    "        self.policy_net = Policy(state_dim, hidden_dim, action_dim).to(device)\n",
    "        self.optimizer = torch.optim.Adam(self.policy_net.parameters(), lr=learning_rate)\n",
    "        self.gamma = gamma\n",
    "        self.device = device\n",
    "\n",
    "    def take_action(self, state):\n",
    "        state = torch.tensor(state.reshape(1, -1), dtype=torch.float).to(self.device) \n",
    "        probs = self.policy_net(state)\n",
    "        action_dist = torch.distributions.Categorical(probs) \n",
    "        action = action_dist.sample()\n",
    "        return action.item()  \n",
    "\n",
    "    def update(self, transition_dict):\n",
    "        reward_list = transition_dict['rewards']\n",
    "        state_list = transition_dict['states']\n",
    "        action_list = transition_dict['actions']\n",
    "\n",
    "        G = 0\n",
    "        self.optimizer.zero_grad()\n",
    "        for i in reversed(range(len(reward_list))):\n",
    "            reward = reward_list[i]\n",
    "            state = torch.tensor(state_list[i].reshape(1, -1), dtype=torch.float).to(self.device)\n",
    "            action = torch.tensor(action_list[i]).view(-1, 1).to(self.device)\n",
    "            log_prob = torch.log(self.policy_net(state).gather(1, action))\n",
    "            G = self.gamma * G + reward\n",
    "            loss = -log_prob * G\n",
    "            loss.backward()\n",
    "        self.optimizer.step()\n",
    "\n",
    "# Hyperparameters\n",
    "learning_rate = 1e-3\n",
    "gamma = 0.99\n",
    "hidden_dim = 128\n",
    "num_pbar = 10\n",
    "num_episodes = 500\n",
    "device = torch.device(\"cuda\" if torch.cuda.is_available() else \"cpu\")\n",
    "env_name = \"CartPole-v1\"\n",
    "\n",
    "# Define the sweep configuration\n",
    "sweep_config = {\n",
    "    \"method\": \"bayes\",\n",
    "    \"metric\": {\"name\": \"regret\", \"goal\": \"minimize\"},\n",
    "    \"parameters\": {\n",
    "        \"learning_rate\": {\"min\": 1e-5, \"max\": 1e-2},\n",
    "        \"hidden_dim\": {\"values\": [64, 128, 256]}\n",
    "    },\n",
    "    \"early_terminate\": {\n",
    "        \"type\": \"hyperband\",\n",
    "        \"min_iter\": 3,\n",
    "        \"max_iter\": 100\n",
    "}\n",
    "}\n",
    "# Initialize the sweep\n",
    "sweep_id = wandb.sweep(sweep_config)\n",
    "\n",
    "def train(learning_rate, hidden_dim):\n",
    "    env = gym.make(env_name)\n",
    "    env.reset(seed=0)\n",
    "    state_dim = env.observation_space.shape[0]\n",
    "    action_dim = env.action_space.n\n",
    "    agent = REINFORCE(state_dim, hidden_dim, action_dim, learning_rate, gamma, device)\n",
    "    return_list = []\n",
    "\n",
    "    for i in range(num_pbar):\n",
    "        with tqdm(total=int(num_episodes/num_pbar), desc='Iteration %d' % i) as pbar:\n",
    "            for i_episode in range(int(num_episodes/num_pbar)):\n",
    "                episode_return = 0\n",
    "                transition_dict = {\n",
    "                    \"states\": [],\n",
    "                    \"actions\": [],\n",
    "                    \"next_states\": [],\n",
    "                    \"rewards\": [],\n",
    "                    \"dones\": []\n",
    "                }\n",
    "                state, _ = env.reset()\n",
    "                terminated, truncated = False, False\n",
    "                while not terminated and not truncated:\n",
    "                    action = agent.take_action(state)\n",
    "                    next_state, reward, terminated, truncated, _ = env.step(action)\n",
    "                    transition_dict[\"states\"].append(state)\n",
    "                    transition_dict[\"actions\"].append(action)\n",
    "                    transition_dict[\"next_states\"].append(next_state)\n",
    "                    transition_dict[\"rewards\"].append(reward)\n",
    "                    transition_dict[\"dones\"].append(terminated)\n",
    "                    state = next_state\n",
    "                    episode_return += reward\n",
    "                return_list.append(episode_return)\n",
    "                agent.update(transition_dict)\n",
    "                if (i_episode+1)%10 == 0:\n",
    "                    pbar.set_postfix({\n",
    "                        'episode_return': '%d' % (num_episodes/num_pbar*i+i_episode+1),\n",
    "                        'return': '%.3f' % np.mean(return_list[-10:])\n",
    "                    })\n",
    "                pbar.update(1)\n",
    "\n",
    "    avg = []\n",
    "    for i in range(num_episodes):\n",
    "        if i < 100:\n",
    "            avg_return = np.mean(return_list[:i+1])\n",
    "        else:\n",
    "            avg_return = np.mean(return_list[i-100:i+1])\n",
    "        avg.append(avg_return)\n",
    "\n",
    "    regret = 0\n",
    "    for i in avg:\n",
    "        if i < 195:\n",
    "            regret += 195 - i\n",
    "\n",
    "    return regret\n",
    "\n",
    "def run_training():\n",
    "    config_defaults = {\n",
    "        \"learning_rate\": 1e-3,\n",
    "        \"hidden_dim\": 128\n",
    "    }\n",
    "    config = wandb.init(config=config_defaults)\n",
    "    learning_rate = config.config[\"learning_rate\"]\n",
    "    hidden_dim = config.config[\"hidden_dim\"]\n",
    "    regret = train(learning_rate, hidden_dim)\n",
    "    wandb.log({\"regret\": regret})\n",
    "\n",
    "# Run the sweep\n",
    "wandb.agent(sweep_id, function=run_training)\n"
   ]
  }
 ],
 "metadata": {
  "kernelspec": {
   "display_name": "Python 3",
   "language": "python",
   "name": "python3"
  },
  "language_info": {
   "codemirror_mode": {
    "name": "ipython",
    "version": 3
   },
   "file_extension": ".py",
   "mimetype": "text/x-python",
   "name": "python",
   "nbconvert_exporter": "python",
   "pygments_lexer": "ipython3",
   "version": "3.10.11"
  }
 },
 "nbformat": 4,
 "nbformat_minor": 2
}
